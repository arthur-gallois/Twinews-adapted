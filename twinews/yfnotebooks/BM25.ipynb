{
 "cells": [
  {
   "cell_type": "code",
   "execution_count": 1,
   "metadata": {},
   "outputs": [],
   "source": [
    "import os ; os.environ[\"CUDA_VISIBLE_DEVICES\"] = \"\""
   ]
  },
  {
   "cell_type": "code",
   "execution_count": 2,
   "metadata": {},
   "outputs": [],
   "source": [
    "from systemtools.hayj import *\n",
    "from systemtools.location import *\n",
    "from systemtools.basics import *\n",
    "from systemtools.file import *\n",
    "from systemtools.printer import *\n",
    "from twinews.utils import *"
   ]
  },
  {
   "cell_type": "code",
   "execution_count": 4,
   "metadata": {},
   "outputs": [],
   "source": [
    "import re\n",
    "import codecs\n",
    "import math"
   ]
  },
  {
   "cell_type": "markdown",
   "metadata": {},
   "source": [
    "# Data"
   ]
  },
  {
   "cell_type": "code",
   "execution_count": 17,
   "metadata": {},
   "outputs": [
    {
     "name": "stdout",
     "output_type": "stream",
     "text": [
      "--> tic: 20.4s | message: Eval data loaded\n",
      "--> toc total duration: 20.68s | message: Got Twinews evaluation data\n",
      "{ candidates, extraNews, meta, testNews, testUsers, trainNews, trainUsers }\n",
      "{'usersCount': 15905, 'trainNewsCount': 237150, 'testNewsCount': 71781, 'totalNewsAvailable': 570210, 'trainMeanNewsPerUser': 26.48, 'testMeanNewsPerUser': 7.22, 'trainMinNewsPerUser': 8, 'testMinNewsPerUser': 2, 'trainMaxNewsPerUser': 379, 'testMaxNewsPerUser': 97, 'created': '2020.03.24-14.28.06', 'ranksLength': 1000, 'splitDate': '2017-12-25', 'startDate': '2017-10-01', 'endDate': '2018-01-15', 'id': 2}\n"
     ]
    }
   ],
   "source": [
    "evalData = getEvalData(2, maxExtraNews=0, maxUsers=100)\n",
    "bp(evalData.keys(), 5)\n",
    "log((evalData['meta']))"
   ]
  },
  {
   "cell_type": "code",
   "execution_count": 21,
   "metadata": {},
   "outputs": [
    {
     "name": "stdout",
     "output_type": "stream",
     "text": [
      "{\n",
      "  100585750: { http://ow.ly/AcC830hnmmW: 1514578206, http://ow.ly/EHLH30hEyij: 1515693670, http://ow.ly/SiXu30hxfff: 1515004208, http://ow.ly/gpYy30hxhde: 1515074706, http://ow.ly/smGT30hEjUZ: 1515603648, http://ow.ly/vk8f30hEiBM: 1515528060 },\n",
      "  107115739: \n",
      "  {\n",
      "    http://inthesetimes.com/article/20732/Abortion-Chicago-Midwest-Action-Coalition-women: 1514554634,\n",
      "    http://politi.co/2mck5Fb: 1515413337,\n",
      "    http://thehill.com/homenews/campaign/366173-seven-primary-races-to-watch-in-2018: 1514307853,\n",
      "    http://www.gainesville.com/opinion/20180109/indivisible-gainesville-dont-fund-deceptive-anti-abortion-centers: 1515534540,\n",
      "    http://www.hawaiinewsnow.com/story/37187709/hawaii-joins-tele-abortion-pilot-amid-larger-debate-about-procedures-safety#.Wk41ifxxFrY.twitter: 1515076860,\n",
      "    ...,\n",
      "    https://www.huffingtonpost.com/entry/women-wearing-black-state-of-the-union_us_5a55587ee4b03417e873286a: 1515639892,\n",
      "    https://www.politico.com/newsletters/illinois-playbook/2018/01/03/lipinskis-white-house-photo-bomb-kennedy-rush-davis-to-blast-city-violence-witness-lineup-for-veterans-home-hearing-234580: 1515100385,\n",
      "    https://www.politico.com/newsletters/illinois-playbook/2018/01/08/ramirez-rosa-to-drop-out-of-congressional-race-internal-poll-newman-could-overtake-lipinski-ives-hunts-for-cash-in-dc-ctus-karen-lewis-on-obit-reports-of-my-death-are-greatly-exaggerated-235364: 1515439423,\n",
      "    https://www.thedailybeast.com/somebody-please-explain-the-morning-after-pill-to-male-tv-writers: 1515077254,\n",
      "    https://www.vice.com/en_ca/article/43qamp/bc-just-announced-free-access-to-the-abortion-pill?utm_campaign=sharebutton: 1515016838\n",
      "  },\n",
      "  1198644368: \n",
      "  {\n",
      "    http://bit.ly/2CYIIje: 1515513446,\n",
      "    http://bit.ly/2lESDj3: 1514991820,\n",
      "    https://nyti.ms/2EKE8SQ: 1514991524,\n",
      "    https://www.nytimes.com/2018/01/12/opinion/proud-nation-of-holers.html: 1515885619,\n",
      "    https://www.pbs.org/newshour/nation/felony-conviction-rates-are-up-nationwide-these-states-are-reconsidering-how-they-classify-crimes: 1514922000,\n",
      "    https://www.theatlantic.com/politics/archive/2018/01/it-was-an-open-secret/549653/#%3Futm_source%3Dtwb: 1515099362,\n",
      "    https://www.vox.com/polyarchy/2018/1/3/16844848/separation-of-powers-divided-government?utm_campaign=vox&utm_content=entry&utm_medium=social&utm_source=twitter: 1514996954\n",
      "  },\n",
      "  13175002: \n",
      "  {\n",
      "    http://ift.tt/2CyXFbx: 1514992205,\n",
      "    https://goo.gl/kruQwZ: 1515413492,\n",
      "    https://www.nytimes.com/2017/12/28/us/politics/trump-world-diplomacy.html?hp&action=click&pgtype=Homepage&clickSource=story-heading&module=first-column-region&region=top-news&WT.nav=top-news&_r=0: 1514533710,\n",
      "    https://www.nytimes.com/2018/01/10/us/politics/women-economics.html: 1515644769\n",
      "  },\n",
      "  1319508271: \n",
      "  {\n",
      "    http://bit.ly/2BO5ohr: 1514511605,\n",
      "    https://www.winnipegfreepress.com/local/firefighter-union-leaders-deal-with-city-should-be-renegotiated-mayors-office-468392593.html: 1515476019\n",
      "  },\n",
      "  ...,\n",
      "  874736465334247424: \n",
      "  {\n",
      "    http://bbc.in/2CP7r8T: 1515490980,\n",
      "    http://bit.ly/2DM7rmA: 1514888025,\n",
      "    http://bit.ly/2EWAg12: 1515156360,\n",
      "    http://bit.ly/2mnxw5s: 1515667488,\n",
      "    http://j.mp/2m1qqlV: 1516210146,\n",
      "    ...,\n",
      "    https://grist.org/article/coals-death-spiral-in-3-charts/: 1515756590,\n",
      "    https://nyti.ms/2FhylEC: 1516064408,\n",
      "    https://www.bloomberg.com/news/articles/2018-01-01/coal-power-s-pace-slows-in-india-as-glut-leaves-plants-unused: 1514911204,\n",
      "    https://www.economist.com/news/finance-and-economics/21734467-reinsurance-industry-emerged-good-shape-natural-disasters-made-2017: 1516033082,\n",
      "    https://www.theguardian.com/environment/2018/jan/10/china-on-track-to-lead-in-renewables-as-us-retreats-report-says?utm_source=Daily+Climate&utm_campaign=f2a4ffdeae-RSS_EMAIL_CAMPAIGN&utm_medium=email&utm_term=0_9c8bdfd977-f2a4ffdeae-99355901: 1515587223\n",
      "  },\n",
      "  97081361: \n",
      "  {\n",
      "    http://nyti.ms/2CkGsiu: 1514516529,\n",
      "    http://www.crainsnewyork.com/article/20171229/POLITICS/171229921/trump-administration-kills-gateway-tunnel-deal: 1514588076,\n",
      "    https://theintercept.com/2018/01/03/my-life-as-a-new-york-times-reporter-in-the-shadow-of-the-war-on-terror/?link_id=0&can_id=5b9d2297602735d10e18e722b891034a&source=email-jim-risens-secret-history-of-the-new-york-times&email_referrer=email_281947&email_subject=jim-risens-secret-history-of-the-new-york-times: 1514993558,\n",
      "    https://www.newyorker.com/magazine/2018/01/15/when-deportation-is-a-death-sentence/: 1515417736\n",
      "  },\n",
      "  97589391: \n",
      "  {\n",
      "    http://nyti.ms/2pVyD07: 1514555164,\n",
      "    https://www.bloomberg.com/news/articles/2018-01-03/why-most-electric-cars-are-leased-not-owned: 1514984819,\n",
      "    https://www.cnbc.com/2018/01/10/kohls-to-partner-with-grocer-convenience-store-to-fill-vacant-space.html?__source=sharebar%7Ctwitter&par=sharebar: 1515897919,\n",
      "    https://zerohedge.com/news/2017-12-28/uber-no-longer-worlds-most-valuable-startup: 1514507933\n",
      "  },\n",
      "  981229081: \n",
      "  {\n",
      "    http://www.spokesman.com/stories/2018/jan/04/washington-states-alex-grinch-expected-to-become-c/: 1515160949,\n",
      "    https://www.chronicle.com/article/Higher-Education-Is-Drowning/242195/#.WlaV0IQBfHs.twitter: 1516812527,\n",
      "    https://www.si.com/college-football/2017/12/26/kirby-smart-nick-saban-alabama-georgia-playoff: 1514303779\n",
      "  },\n",
      "  981994399: \n",
      "  {\n",
      "    http://bit.ly/2A4jTMf: 1515876185,\n",
      "    http://tcrn.ch/2BRpcRK: 1514320843,\n",
      "    http://tcrn.ch/2D4yFZc: 1515684493,\n",
      "    http://www.businessinsider.com/bitcoin-technology-blockchain-only-halfway-through-its-evolution-2018-1: 1515770736,\n",
      "    http://www.independent.co.uk/news/business/news/billionaires-richest-people-jeff-bezos-bill-gates-warren-buffett-mark-zuckerberg-carlos-slim-wealth-a8153686.html: 1515750941,\n",
      "    ...,\n",
      "    https://lnkd.in/gbVne-T: 1515762301,\n",
      "    https://lnkd.in/gs-ctRu: 1515762514,\n",
      "    https://news.sky.com/story/peer-to-peer-giant-funding-circle-lines-up-banks-for-1bn-float-11189213: 1514764756,\n",
      "    https://www.bloomberg.com/news/articles/2018-01-09/venture-capital-investing-hits-highest-since-dot-com-boom: 1515478930,\n",
      "    https://www.cnbc.com/2018/01/09/jamie-dimon-says-he-regrets-calling-bitcoin-a-fraud.html?__source=sharebar%7Ctwitter&par=sharebar: 1515514627\n",
      "  }\n",
      "}\n"
     ]
    }
   ],
   "source": [
    "userUrls = evalData[\"testUsers\"]\n",
    "bp(userUrls)"
   ]
  },
  {
   "cell_type": "code",
   "execution_count": 22,
   "metadata": {},
   "outputs": [],
   "source": [
    "# get sentences"
   ]
  },
  {
   "cell_type": "markdown",
   "metadata": {},
   "source": [
    "# BM25 parameters and intialization"
   ]
  },
  {
   "cell_type": "code",
   "execution_count": 18,
   "metadata": {},
   "outputs": [],
   "source": [
    "# TODO Do we need to train k,b?\n",
    "# TODO if not, how to do the ranking for testuser?"
   ]
  },
  {
   "cell_type": "code",
   "execution_count": 10,
   "metadata": {},
   "outputs": [],
   "source": [
    "f = [] # a list of dict with counting of frequency of each word\n",
    "tf = {} # term frequency\n",
    "idf = {} # IDF of each word\n",
    "k1 = 1.5\n",
    "b = 0.75 # settled parametre\n",
    " "
   ]
  },
  {
   "cell_type": "markdown",
   "metadata": {},
   "source": [
    "# TF, IDF"
   ]
  },
  {
   "cell_type": "code",
   "execution_count": 11,
   "metadata": {},
   "outputs": [],
   "source": [
    "def inition(docs):\n",
    "    D = len(docs)\n",
    "    avgdl = sum([len(doc)+ 0.0 for doc in docs]) / D # average length of document\n",
    "    for doc in docs:\n",
    "        tmp = {}\n",
    "        for word in doc:\n",
    "            tmp[word] = tmp.get(word, 0) + 1  # store the frequency of words temporarily\n",
    "        f.append(tmp)\n",
    "        for k in tmp.keys():\n",
    "            tf[k] = tf.get(k, 0) + 1         # term frequency\n",
    "    for k, v in tf.items():\n",
    "        idf[k] = math.log(D - v + 0.5) - math.log(v + 0.5)\n",
    "    return D, avgdl"
   ]
  },
  {
   "cell_type": "markdown",
   "metadata": {},
   "source": [
    "# Similarity"
   ]
  },
  {
   "cell_type": "code",
   "execution_count": 12,
   "metadata": {},
   "outputs": [],
   "source": [
    "def sim(doc, index):\n",
    "    score = 0.0\n",
    "    for word in doc:\n",
    "        if word not in f[index]:\n",
    "            continue\n",
    "        d = len(document[index])\n",
    "        score += (idf[word] * f[index][word] * (k1 + 1) / (f[index][word] + k1 * (1 - b + b * d / avgdl)))\n",
    "    return score"
   ]
  },
  {
   "cell_type": "code",
   "execution_count": 13,
   "metadata": {},
   "outputs": [],
   "source": [
    "def simall(doc):\n",
    "    scores = []\n",
    "    for index in range(D):\n",
    "            score = sim(doc, index)\n",
    "            scores.append(score)\n",
    "    return scores"
   ]
  },
  {
   "cell_type": "code",
   "execution_count": null,
   "metadata": {},
   "outputs": [],
   "source": []
  }
 ],
 "metadata": {
  "kernelspec": {
   "display_name": "Python 3",
   "language": "python",
   "name": "python3"
  },
  "language_info": {
   "codemirror_mode": {
    "name": "ipython",
    "version": 3
   },
   "file_extension": ".py",
   "mimetype": "text/x-python",
   "name": "python",
   "nbconvert_exporter": "python",
   "pygments_lexer": "ipython3",
   "version": "3.7.4"
  }
 },
 "nbformat": 4,
 "nbformat_minor": 1
}
