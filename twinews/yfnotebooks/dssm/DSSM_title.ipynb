{
 "cells": [
  {
   "cell_type": "code",
   "execution_count": 35,
   "metadata": {},
   "outputs": [],
   "source": [
    "import os ; os.environ[\"CUDA_VISIBLE_DEVICES\"] = \"\"\n",
    "import sys"
   ]
  },
  {
   "cell_type": "code",
   "execution_count": 36,
   "metadata": {},
   "outputs": [],
   "source": [
    "from systemtools.hayj import *\n",
    "from systemtools.location import *\n",
    "from systemtools.basics import *\n",
    "from systemtools.file import *\n",
    "from systemtools.printer import *\n",
    "from databasetools.mongo import *\n",
    "from newstools.goodarticle.utils import *\n",
    "from nlptools.preprocessing import *\n",
    "from nlptools.news import parser as newsParser\n",
    "from machinelearning.iterator import *\n",
    "from twinews.utils import *\n",
    "from twinews.models.ranking import *\n",
    "from twinews.evaluation.utils import *"
   ]
  },
  {
   "cell_type": "code",
   "execution_count": 37,
   "metadata": {},
   "outputs": [],
   "source": [
    "from nlptools.basics import *\n",
    "from nltk.stem import WordNetLemmatizer \n",
    "from sklearn.decomposition import NMF, LatentDirichletAllocation\n",
    "from sklearn.feature_extraction.text import TfidfVectorizer, CountVectorizer\n",
    "from gensim.models import LdaMulticore\n",
    "from gensim.test.utils import common_corpus, common_dictionary\n",
    "from sklearn.metrics.pairwise import cosine_similarity, pairwise_distances\n",
    "import gensim\n",
    "from math import log2\n",
    "from math import sqrt\n",
    "from numpy import asarray"
   ]
  },
  {
   "cell_type": "code",
   "execution_count": 38,
   "metadata": {},
   "outputs": [],
   "source": [
    "from twinews.yfnotebooks.dssm.graph import Graph\n",
    "import tensorflow.compat.v1 as tf\n",
    "tf.disable_v2_behavior()\n",
    "from twinews.yfnotebooks.load_data import hashIndex,load_hashed_data,char_index"
   ]
  },
  {
   "cell_type": "code",
   "execution_count": 39,
   "metadata": {},
   "outputs": [],
   "source": [
    "isNotebook = '__file__' not in locals()\n",
    "TEST = isNotebook"
   ]
  },
  {
   "cell_type": "code",
   "execution_count": 40,
   "metadata": {},
   "outputs": [
    {
     "name": "stderr",
     "output_type": "stream",
     "text": [
      "--> tictoc starts...\n"
     ]
    },
    {
     "data": {
      "text/plain": [
       "-1"
      ]
     },
     "execution_count": 40,
     "metadata": {},
     "output_type": "execute_result"
    }
   ],
   "source": [
    "logger = Logger(tmpDir('logs') + \"/dssm_title.log\") if isNotebook else Logger(\"dssm_title-\" + getHostname() + \".log\")\n",
    "tt = TicToc(logger=logger)\n",
    "tt.tic()"
   ]
  },
  {
   "cell_type": "code",
   "execution_count": 41,
   "metadata": {
    "pycharm": {
     "name": "#%%\n"
    }
   },
   "outputs": [],
   "source": [
    "modelName = \"DSSM_title\""
   ]
  },
  {
   "cell_type": "code",
   "execution_count": 42,
   "metadata": {},
   "outputs": [],
   "source": [
    "os.environ[\"KMP_DUPLICATE_LIB_OK\"] = \"TRUE\"\n",
    "os.environ[\"TF_CPP_MIN_LOG_LEVEL’\"] = \"3\""
   ]
  },
  {
   "cell_type": "markdown",
   "metadata": {
    "pycharm": {
     "name": "#%% md\n"
    }
   },
   "source": [
    "# config"
   ]
  },
  {
   "cell_type": "code",
   "execution_count": 60,
   "metadata": {
    "pycharm": {
     "name": "#%%\n"
    }
   },
   "outputs": [],
   "source": [
    "config = \\\n",
    "{\n",
    "    'splitVersion': 2,\n",
    "    'testVersion':2,\n",
    "    \n",
    "    # for input data\n",
    "    'maxUsers': 30 if TEST else None, # Sub-sampling\n",
    "    'maxDocuments': None,\n",
    "    'useExtraNews': 0 if TEST else None, # None = unlimited, 0 = no extra news\n",
    "    'minDF': 1 / 2000, # Remove words that have a document frequency ratio lower than 1 / 500\n",
    "    'maxDF': 20, # Remove top 300 voc elements\n",
    "    'lowercase': True,\n",
    "    'doLemmatization': True,\n",
    "    #'useTFIDF': True,\n",
    "    \n",
    "   # for model    \n",
    "    'seq_length' : 100,\n",
    "#     'char_embedding_size': 100,\n",
    "    'learning_rate': 0.0005,\n",
    "    'keep_prob': 0.7,\n",
    "    'vocab_size': 3029,\n",
    "    'class_size': 2,\n",
    "    'epochs': 100,\n",
    "    'batch_size': 1000,\n",
    "    \n",
    "    # for ouput\n",
    "    'similarity': 'cosine',\n",
    "\n",
    "#     'historyRef': 0.3, # 1, 1.0, 0.5, 0.3, 3, 10\n",
    "}"
   ]
  },
  {
   "cell_type": "markdown",
   "metadata": {},
   "source": [
    "# get data"
   ]
  },
  {
   "cell_type": "code",
   "execution_count": 63,
   "metadata": {
    "pycharm": {
     "name": "#%%\n"
    }
   },
   "outputs": [
    {
     "name": "stdout",
     "output_type": "stream",
     "text": [
      "--> tic: 29.58s | message: Eval data loaded\n"
     ]
    },
    {
     "name": "stderr",
     "output_type": "stream",
     "text": [
      "{ candidates, extraNews, meta, testNews, testUsers, trainNews, trainUsers }\n",
      "{ 'created': 2020.03.24-14.28.06, 'endDate': 2018-01-15, 'id': 2, 'ranksLength': 1000, 'splitDate': 2017-12-25, 'startDate': 2017-10-01, 'testMaxNewsPerUser': 97, 'testMeanNewsPerUser': 7.22, 'testMinNewsPerUser': 2, 'testNewsCount': 71781, 'totalNewsAvailable': 570210, 'trainMaxNewsPerUser': 379, 'trainMeanNewsPerUser': 26.48, 'trainMinNewsPerUser': 8, 'trainNewsCount': 237150, 'usersCount': 15905 }\n"
     ]
    },
    {
     "name": "stdout",
     "output_type": "stream",
     "text": [
      "--> toc total duration: 29.81s | message: Got Twinews evaluation data\n"
     ]
    }
   ],
   "source": [
    "# Getting users and news\n",
    "evalData = getEvalData(config['splitVersion'], maxExtraNews=0,\n",
    "                       maxUsers=config['maxUsers'])\n",
    "(trainUsers, testUsers, trainNews, testNews, candidates, extraNews) = \\\n",
    "(evalData['trainUsers'], evalData['testUsers'], evalData['trainNews'],\n",
    " evalData['testNews'], evalData['candidates'], evalData['extraNews'])\n",
    "bp(evalData.keys(), 5, logger)\n",
    "log(b(evalData['meta'], 5), logger)"
   ]
  },
  {
   "cell_type": "code",
   "execution_count": 64,
   "metadata": {},
   "outputs": [],
   "source": [
    "trainNewsList = shuffle(list(trainNews), seed=0)\n",
    "testNewsList = shuffle(list(testNews), seed=0)"
   ]
  },
  {
   "cell_type": "code",
   "execution_count": 65,
   "metadata": {},
   "outputs": [
    {
     "name": "stderr",
     "output_type": "stream",
     "text": [
      "25254 urls for newsList:\n",
      "[\n",
      "  http://www.wcpo.com/news/local-news/kenton-county/independence/five-critically-injured-in-kenton-cou,\n",
      "  https://www.sevendaysvt.com/vermont/how-drug-treatment-policies-in-vermont-prisons-contribute-to-the,\n",
      "  ...,\n",
      "  http://ew.com/movies/2018/01/09/jacob-tremblay-wonder-prosthetic-transformation-photos/,\n",
      "  https://jezebel.com/elon-musk-confirms-he-was-at-a-sex-party-and-didnt-even-1822009703\n",
      "]\n"
     ]
    }
   ],
   "source": [
    "# get all the url->title dict\n",
    "newsList = trainNewsList + testNewsList\n",
    "log(str(len(newsList)) + \" urls for newsList:\\n\" + b(newsList), logger=logger)"
   ]
  },
  {
   "cell_type": "code",
   "execution_count": 66,
   "metadata": {
    "scrolled": true
   },
   "outputs": [
    {
     "name": "stdout",
     "output_type": "stream",
     "text": [
      "  100% [====================] (total duration: 14m 4.009s, mean duration: 0.033s)\n"
     ]
    }
   ],
   "source": [
    "titles = getNewsTitles(newsList)"
   ]
  },
  {
   "cell_type": "code",
   "execution_count": 67,
   "metadata": {},
   "outputs": [
    {
     "name": "stderr",
     "output_type": "stream",
     "text": [
      "tokenizing   0% [                    ]\n",
      "tokenizing   9% [=                   ] (2.34s left)\n",
      "tokenizing  19% [===                 ] (2.28s left)\n",
      "tokenizing  29% [=====               ] (2.077s left)\n",
      "tokenizing  39% [=======             ] (1.815s left)\n",
      "tokenizing  49% [=========           ] (1.53s left)\n",
      "tokenizing  59% [===========         ] (1.233s left)\n",
      "tokenizing  69% [=============       ] (0.926s left)\n",
      "tokenizing  79% [===============     ] (0.62s left)\n",
      "tokenizing  89% [=================   ] (0.31s left)\n",
      "tokenizing  99% [=================== ] (0s left)\n",
      "tokenizing 100% [====================] (total duration: 3.11s, mean duration: 0s)\n"
     ]
    },
    {
     "name": "stdout",
     "output_type": "stream",
     "text": [
      "[ [ Police, :, ..., ,, OH ], [ How, Drug, ..., Independent, Voice ], ..., [ See, Jacob, ..., |, EW.com ], [ Elon, Musk, ..., Know, It ] ]\n"
     ]
    }
   ],
   "source": [
    "titlesToken = []\n",
    "for i in pb(list(range(len(titles))), logger=logger, message=\"tokenizing\"):\n",
    "    titlesToken.append(wordTokenize(titles[i]))\n",
    "bp(titlesToken,2)"
   ]
  },
  {
   "cell_type": "code",
   "execution_count": 68,
   "metadata": {},
   "outputs": [
    {
     "name": "stderr",
     "output_type": "stream",
     "text": [
      "Lower casing   0% [                    ]\n",
      "Lower casing   9% [=                   ] (0.36s left)\n",
      "Lower casing  19% [===                 ] (0.32s left)\n",
      "Lower casing  29% [=====               ] (0.28s left)\n",
      "Lower casing  39% [=======             ] (0.24s left)\n",
      "Lower casing  49% [=========           ] (0.2s left)\n",
      "Lower casing  59% [===========         ] (0.16s left)\n",
      "Lower casing  69% [=============       ] (0.124s left)\n"
     ]
    },
    {
     "name": "stdout",
     "output_type": "stream",
     "text": [
      "None\n"
     ]
    },
    {
     "name": "stderr",
     "output_type": "stream",
     "text": [
      "Lower casing  79% [===============     ] (0.082s left)\n",
      "Lower casing  89% [=================   ] (0.041s left)\n",
      "Lower casing  99% [=================== ] (0s left)\n",
      "Lower casing 100% [====================] (total duration: 0.41s, mean duration: 0s)\n",
      "[ [ police, :, ..., ,, oh ], [ how, drug, ..., independent, voice ], ..., [ see, jacob, ..., |, ew.com ], [ elon, musk, ..., know, it ] ]\n"
     ]
    },
    {
     "name": "stdout",
     "output_type": "stream",
     "text": [
      "None\n",
      "None\n",
      "None\n"
     ]
    }
   ],
   "source": [
    "for i in pb(list(range(len(titlesToken))), logger=logger, message=\"Lower casing\"):\n",
    "    if titlesToken[i] == None:\n",
    "        print(titlesToken[i])\n",
    "        continue\n",
    "    else:\n",
    "        for u in range(len(titlesToken[i])):\n",
    "            titlesToken[i][u] = titlesToken[i][u].lower()\n",
    "bp(titlesToken, logger)"
   ]
  },
  {
   "cell_type": "code",
   "execution_count": 69,
   "metadata": {},
   "outputs": [
    {
     "name": "stderr",
     "output_type": "stream",
     "text": [
      "Lemmatization   0% [                    ]\n",
      "Lemmatization   9% [=                   ] (1.17s left)\n",
      "Lemmatization  19% [===                 ] (1.08s left)\n",
      "Lemmatization  29% [=====               ] (0.933s left)\n",
      "Lemmatization  39% [=======             ] (0.81s left)\n"
     ]
    },
    {
     "name": "stdout",
     "output_type": "stream",
     "text": [
      "None\n"
     ]
    },
    {
     "name": "stderr",
     "output_type": "stream",
     "text": [
      "Lemmatization  49% [=========           ] (0.67s left)\n",
      "Lemmatization  59% [===========         ] (0.54s left)\n",
      "Lemmatization  69% [=============       ] (0.403s left)\n",
      "Lemmatization  79% [===============     ] (0.27s left)\n",
      "Lemmatization  89% [=================   ] (0.135s left)\n"
     ]
    },
    {
     "name": "stdout",
     "output_type": "stream",
     "text": [
      "None\n",
      "None\n",
      "None\n"
     ]
    },
    {
     "name": "stderr",
     "output_type": "stream",
     "text": [
      "Lemmatization  99% [=================== ] (0s left)\n",
      "[ [ police, :, ..., ,, oh ], [ how, drug, ..., independent, voice ], ..., [ see, jacob, ..., |, ew.com ], [ elon, musk, ..., know, it ] ]\n"
     ]
    }
   ],
   "source": [
    "lemmatizer = WordNetLemmatizer()\n",
    "pbar = ProgressBar(len(titlesToken), logger=logger, message=\"Lemmatization\")\n",
    "for i in range(len(titlesToken)):\n",
    "    if titlesToken[i] == None:\n",
    "        print(titlesToken[i])\n",
    "        continue\n",
    "    else:\n",
    "        for u in range(len(titlesToken[i])):\n",
    "            titlesToken[i][u] = lemmatizer.lemmatize(titlesToken[i][u])\n",
    "    pbar.tic()\n",
    "bp(titlesToken, logger)"
   ]
  },
  {
   "cell_type": "code",
   "execution_count": 70,
   "metadata": {},
   "outputs": [
    {
     "name": "stderr",
     "output_type": "stream",
     "text": [
      "{\n",
      "  http://247wallst.com/healthcare-business/2017/12/30/30-big-biotech-events-coming-in-2018/3/: [ 30, big, ..., wall, st. ],\n",
      "  http://247wallst.com/special-report/2017/12/08/americas-25-dying-industries-2: [ america, 's, ..., wall, st. ],\n",
      "  http://247wallst.com/special-report/2018/01/11/25-best-fitness-tech-gadgets/: [ 25, best, ..., wall, st. ],\n",
      "  http://a.msn.com/00/en-us/AAtmQOZ?ocid=st: [ america, 's, ..., live, in ],\n",
      "  http://a.msn.com/00/en-us/AAuyJLc?ocid=st: [ what, living, ..., motley, fool ],\n",
      "  ...,\n",
      "  https://xtinaluvspink.wordpress.com/2016/01/17/vegan-chickpea-barley-soup-for-two/: [ vegan, chickpea, ..., healthy, ! ],\n",
      "  https://yaledailynews.com/blog/2018/01/06/yale-psychiatrist-met-with-congressmen-about-trumps-mental-health/: [ yale, psychiatrist, ..., mental, health ],\n",
      "  https://zdubbzattmom.wordpress.com/2018/01/03/ex-libris-the-eyes-of-madness-presents-2017s-bakers-dozen-zakks-favorite-reads-of-the-year/: [ ex, libris, ..., of, madness ],\n",
      "  https://zdubbzattmom.wordpress.com/2018/01/03/ex-libris-the-eyes-of-madness-presents-2017s-bakers-dozen-zakks-favorite-reads-of-the-year/r: [ rating, and, ..., of, madness ],\n",
      "  https://zouxzoux.wordpress.com/2018/01/11/interview-with-julie-kane-poet-co-editor-of-nasty-women-poets-poetry-writing-women/#more-6733: [ interview, with, ..., –, zouxzoux ]\n",
      "}\n"
     ]
    }
   ],
   "source": [
    "urlTitles= dict()\n",
    "for i in range(len(titlesToken)):\n",
    "    urlTitles[newsList[i]] = titlesToken[i]\n",
    "bp(urlTitles, 2, logger)"
   ]
  },
  {
   "cell_type": "markdown",
   "metadata": {},
   "source": [
    "# load the vocab"
   ]
  },
  {
   "cell_type": "code",
   "execution_count": 71,
   "metadata": {},
   "outputs": [
    {
     "name": "stdout",
     "output_type": "stream",
     "text": [
      "[ !, #, ..., •, … ]\n"
     ]
    }
   ],
   "source": [
    "titleVocab = []\n",
    "with open('/home/yuting/PycharmProjects/data/title_vocab.txt','r') as file:\n",
    "    for line in file.readlines():\n",
    "        titleVocab.append(line.strip('\\n'))\n",
    "\n",
    "bp(titleVocab,2)"
   ]
  },
  {
   "cell_type": "code",
   "execution_count": 72,
   "metadata": {},
   "outputs": [
    {
     "data": {
      "text/plain": [
       "30"
      ]
     },
     "execution_count": 72,
     "metadata": {},
     "output_type": "execute_result"
    }
   ],
   "source": [
    "len(trainUsers.keys())"
   ]
  },
  {
   "cell_type": "markdown",
   "metadata": {},
   "source": [
    "# build user history"
   ]
  },
  {
   "cell_type": "code",
   "execution_count": 73,
   "metadata": {},
   "outputs": [
    {
     "name": "stderr",
     "output_type": "stream",
     "text": [
      "build user history   3% [                    ]\n",
      "build user history  10% [==                  ] (1.53s left)\n",
      "build user history  20% [====                ] (1.359s left)\n",
      "build user history  30% [======              ] (1.19s left)\n",
      "build user history  40% [========            ] (1.02s left)\n",
      "build user history  50% [==========          ] (0.85s left)\n",
      "build user history  60% [============        ] (0.686s left)\n",
      "build user history  70% [==============      ] (0.514s left)\n",
      "build user history  80% [================    ] (0.342s left)\n",
      "build user history  90% [==================  ] (0.171s left)\n",
      "build user history 100% [====================] (total duration: 1.71s, mean duration: 0.057s)\n"
     ]
    }
   ],
   "source": [
    "# for multiple users\n",
    "trainUserQuery = dict()\n",
    "pbar = ProgressBar(len(trainUsers.keys()), logger=logger, message=\"build user history\")\n",
    "\n",
    "for usr in trainUsers.keys():\n",
    "    queryFinal = []\n",
    "    \n",
    "    # choose 15 urls\n",
    "    if len(list(trainUsers[usr])) < 15:\n",
    "        query = list(trainUsers[usr])\n",
    "    else:\n",
    "        query = random.sample(list(trainUsers[usr]),15)\n",
    "        \n",
    "    # put 15 titles together, using extend\n",
    "    temp = []\n",
    "    for url in query:\n",
    "        if urlTitles[url] == None:\n",
    "            continue\n",
    "        else:\n",
    "            temp.extend(urlTitles[url])\n",
    "            \n",
    "    # filter what is not in the vocab\n",
    "    tempCompact = []\n",
    "    for i in range(len(temp)):\n",
    "        if temp[i] in titleVocab:\n",
    "            tempCompact.append(temp[i])\n",
    "    \n",
    "    # remove duplicated & detokenize\n",
    "    queryCompact = detokenize(list(set(tempCompact)))\n",
    "    \n",
    "    queryFinal.append(queryCompact)\n",
    "    trainUserQuery[usr] = queryFinal\n",
    "    \n",
    "    pbar.tic()"
   ]
  },
  {
   "cell_type": "markdown",
   "metadata": {},
   "source": [
    "# rankings"
   ]
  },
  {
   "cell_type": "code",
   "execution_count": 74,
   "metadata": {},
   "outputs": [],
   "source": [
    "def computeSimilarity(p,h,y):\n",
    "    \n",
    "    tf.reset_default_graph() \n",
    "    model = Graph()\n",
    "    saver = tf.train.Saver()\n",
    "\n",
    "    with tf.Session()as sess:\n",
    "        sess.run(tf.global_variables_initializer())\n",
    "        saver.restore(sess, '/home/yuting/PycharmProjects/Twinews/twinews/yfnotebooks/dssm/output/dssm_99.ckpt')\n",
    "        loss, acc, logit = sess.run([model.loss, model.acc, model.logits],\n",
    "                             feed_dict={model.p: p,\n",
    "                                        model.h: h,\n",
    "                                        model.y: y,\n",
    "                                        model.keep_prob: 1})\n",
    "\n",
    "        #print('loss: ', loss, ' acc:', acc)\n",
    "        return logit\n",
    "#logit = computeSimilarity(p,h,y)"
   ]
  },
  {
   "cell_type": "code",
   "execution_count": 75,
   "metadata": {
    "scrolled": true
   },
   "outputs": [
    {
     "name": "stdout",
     "output_type": "stream",
     "text": [
      "INFO:tensorflow:Restoring parameters from /home/yuting/PycharmProjects/Twinews/twinews/yfnotebooks/dssm/output/dssm_99.ckpt\n"
     ]
    },
    {
     "name": "stderr",
     "output_type": "stream",
     "text": [
      "testing   3% [                    ]\n"
     ]
    },
    {
     "name": "stdout",
     "output_type": "stream",
     "text": [
      "INFO:tensorflow:Restoring parameters from /home/yuting/PycharmProjects/Twinews/twinews/yfnotebooks/dssm/output/dssm_99.ckpt\n",
      "INFO:tensorflow:Restoring parameters from /home/yuting/PycharmProjects/Twinews/twinews/yfnotebooks/dssm/output/dssm_99.ckpt\n"
     ]
    },
    {
     "name": "stderr",
     "output_type": "stream",
     "text": [
      "testing  10% [==                  ] (23m 28.5s left)\n"
     ]
    },
    {
     "name": "stdout",
     "output_type": "stream",
     "text": [
      "INFO:tensorflow:Restoring parameters from /home/yuting/PycharmProjects/Twinews/twinews/yfnotebooks/dssm/output/dssm_99.ckpt\n",
      "INFO:tensorflow:Restoring parameters from /home/yuting/PycharmProjects/Twinews/twinews/yfnotebooks/dssm/output/dssm_99.ckpt\n",
      "INFO:tensorflow:Restoring parameters from /home/yuting/PycharmProjects/Twinews/twinews/yfnotebooks/dssm/output/dssm_99.ckpt\n"
     ]
    },
    {
     "name": "stderr",
     "output_type": "stream",
     "text": [
      "testing  20% [====                ] (20m 52.4s left)\n"
     ]
    },
    {
     "name": "stdout",
     "output_type": "stream",
     "text": [
      "INFO:tensorflow:Restoring parameters from /home/yuting/PycharmProjects/Twinews/twinews/yfnotebooks/dssm/output/dssm_99.ckpt\n",
      "INFO:tensorflow:Restoring parameters from /home/yuting/PycharmProjects/Twinews/twinews/yfnotebooks/dssm/output/dssm_99.ckpt\n",
      "INFO:tensorflow:Restoring parameters from /home/yuting/PycharmProjects/Twinews/twinews/yfnotebooks/dssm/output/dssm_99.ckpt\n"
     ]
    },
    {
     "name": "stderr",
     "output_type": "stream",
     "text": [
      "testing  30% [======              ] (18m 14.613s left)\n"
     ]
    },
    {
     "name": "stdout",
     "output_type": "stream",
     "text": [
      "INFO:tensorflow:Restoring parameters from /home/yuting/PycharmProjects/Twinews/twinews/yfnotebooks/dssm/output/dssm_99.ckpt\n",
      "INFO:tensorflow:Restoring parameters from /home/yuting/PycharmProjects/Twinews/twinews/yfnotebooks/dssm/output/dssm_99.ckpt\n",
      "INFO:tensorflow:Restoring parameters from /home/yuting/PycharmProjects/Twinews/twinews/yfnotebooks/dssm/output/dssm_99.ckpt\n"
     ]
    },
    {
     "name": "stderr",
     "output_type": "stream",
     "text": [
      "testing  40% [========            ] (15m 38.37s left)\n"
     ]
    },
    {
     "name": "stdout",
     "output_type": "stream",
     "text": [
      "INFO:tensorflow:Restoring parameters from /home/yuting/PycharmProjects/Twinews/twinews/yfnotebooks/dssm/output/dssm_99.ckpt\n",
      "INFO:tensorflow:Restoring parameters from /home/yuting/PycharmProjects/Twinews/twinews/yfnotebooks/dssm/output/dssm_99.ckpt\n",
      "INFO:tensorflow:Restoring parameters from /home/yuting/PycharmProjects/Twinews/twinews/yfnotebooks/dssm/output/dssm_99.ckpt\n"
     ]
    },
    {
     "name": "stderr",
     "output_type": "stream",
     "text": [
      "testing  50% [==========          ] (13m 2s left)\n"
     ]
    },
    {
     "name": "stdout",
     "output_type": "stream",
     "text": [
      "INFO:tensorflow:Restoring parameters from /home/yuting/PycharmProjects/Twinews/twinews/yfnotebooks/dssm/output/dssm_99.ckpt\n",
      "INFO:tensorflow:Restoring parameters from /home/yuting/PycharmProjects/Twinews/twinews/yfnotebooks/dssm/output/dssm_99.ckpt\n",
      "INFO:tensorflow:Restoring parameters from /home/yuting/PycharmProjects/Twinews/twinews/yfnotebooks/dssm/output/dssm_99.ckpt\n"
     ]
    },
    {
     "name": "stderr",
     "output_type": "stream",
     "text": [
      "testing  60% [============        ] (10m 25.439s left)\n"
     ]
    },
    {
     "name": "stdout",
     "output_type": "stream",
     "text": [
      "INFO:tensorflow:Restoring parameters from /home/yuting/PycharmProjects/Twinews/twinews/yfnotebooks/dssm/output/dssm_99.ckpt\n",
      "INFO:tensorflow:Restoring parameters from /home/yuting/PycharmProjects/Twinews/twinews/yfnotebooks/dssm/output/dssm_99.ckpt\n",
      "INFO:tensorflow:Restoring parameters from /home/yuting/PycharmProjects/Twinews/twinews/yfnotebooks/dssm/output/dssm_99.ckpt\n"
     ]
    },
    {
     "name": "stderr",
     "output_type": "stream",
     "text": [
      "testing  70% [==============      ] (7m 49.002s left)\n"
     ]
    },
    {
     "name": "stdout",
     "output_type": "stream",
     "text": [
      "INFO:tensorflow:Restoring parameters from /home/yuting/PycharmProjects/Twinews/twinews/yfnotebooks/dssm/output/dssm_99.ckpt\n",
      "INFO:tensorflow:Restoring parameters from /home/yuting/PycharmProjects/Twinews/twinews/yfnotebooks/dssm/output/dssm_99.ckpt\n",
      "INFO:tensorflow:Restoring parameters from /home/yuting/PycharmProjects/Twinews/twinews/yfnotebooks/dssm/output/dssm_99.ckpt\n"
     ]
    },
    {
     "name": "stderr",
     "output_type": "stream",
     "text": [
      "testing  80% [================    ] (5m 12.615s left)\n"
     ]
    },
    {
     "name": "stdout",
     "output_type": "stream",
     "text": [
      "INFO:tensorflow:Restoring parameters from /home/yuting/PycharmProjects/Twinews/twinews/yfnotebooks/dssm/output/dssm_99.ckpt\n",
      "INFO:tensorflow:Restoring parameters from /home/yuting/PycharmProjects/Twinews/twinews/yfnotebooks/dssm/output/dssm_99.ckpt\n",
      "INFO:tensorflow:Restoring parameters from /home/yuting/PycharmProjects/Twinews/twinews/yfnotebooks/dssm/output/dssm_99.ckpt\n"
     ]
    },
    {
     "name": "stderr",
     "output_type": "stream",
     "text": [
      "testing  90% [==================  ] (2m 36.317s left)\n"
     ]
    },
    {
     "name": "stdout",
     "output_type": "stream",
     "text": [
      "INFO:tensorflow:Restoring parameters from /home/yuting/PycharmProjects/Twinews/twinews/yfnotebooks/dssm/output/dssm_99.ckpt\n",
      "INFO:tensorflow:Restoring parameters from /home/yuting/PycharmProjects/Twinews/twinews/yfnotebooks/dssm/output/dssm_99.ckpt\n",
      "INFO:tensorflow:Restoring parameters from /home/yuting/PycharmProjects/Twinews/twinews/yfnotebooks/dssm/output/dssm_99.ckpt\n"
     ]
    },
    {
     "name": "stderr",
     "output_type": "stream",
     "text": [
      "testing 100% [====================] (total duration: 26m 3.319s, mean duration: 52.11s)\n"
     ]
    }
   ],
   "source": [
    "# rankings of the candidates\n",
    "pbar = ProgressBar(len(trainUsers.keys()), logger=logger, message=\"testing\")\n",
    "rankings = dict()\n",
    "for usr in trainUsers.keys():\n",
    "    usrRankings = []\n",
    "    \n",
    "    # get historical data as query(p)\n",
    "    query = trainUserQuery[usr] * 1000\n",
    "    \n",
    "    for candidates in evalData['candidates'][usr]:\n",
    "        candidates = list(candidates)\n",
    "        # get 1000 h as a list(h)\n",
    "        h_temp = []\n",
    "        for url in candidates:\n",
    "            h_temp.append(detokenize(urlTitles[url]))\n",
    "        # get p,h\n",
    "        p,h = char_index(query,h_temp)\n",
    "        y = np.zeros((1000))                    # whatever initialization\n",
    "        \n",
    "        scoresCandidates = []\n",
    "        logit = computeSimilarity(p,h,y)            # get the 1000 scores list\n",
    "        scoresCandidates = zip(candidates,list(logit[:,1]))\n",
    "        ranking = sortBy(scoresCandidates, index=1, desc=True)\n",
    "        ranking = [e[0] for e in ranking]\n",
    "        usrRankings.append(ranking)\n",
    "    rankings[usr] = usrRankings\n",
    "    \n",
    "    pbar.tic()"
   ]
  },
  {
   "cell_type": "code",
   "execution_count": 76,
   "metadata": {},
   "outputs": [
    {
     "name": "stdout",
     "output_type": "stream",
     "text": [
      "{\n",
      "  1198644368: \n",
      "  [\n",
      "    [\n",
      "      https://www.theguardian.com/politics/blog/live/2018/jan/09/reshuffle-government-tory-cabinet-theresa,\n",
      "      https://www.theglobeandmail.com/opinion/columnists/ubc-alumni-involved-in-steven-galloway-case-offer,\n",
      "      ...,\n",
      "      https://www.popmatters.com/matthew-oneill-gates-video-premiere-2524320883.html,\n",
      "      http://ontario.ca/b3v8\n",
      "    ]\n",
      "  ],\n",
      "  1447457215: \n",
      "  [\n",
      "    [\n",
      "      http://ow.ly/FAT030hwcUA,\n",
      "      https://www.washingtonpost.com/local/a-battlefield-of-memory-asphalt-where-a-black-cemetery-is-said-,\n",
      "      ...,\n",
      "      https://sloanreview.mit.edu/article/how-office-seating-arrangements-can-boost-the-bottom-line/?utm_s,\n",
      "      http://www.journal-news.com/sports/college-basketball-miami-holds-off-kent-state-for-mac-win/UEFYsov\n",
      "    ]\n",
      "  ],\n",
      "  1596810348: \n",
      "  [\n",
      "    [\n",
      "      http://trib.in/2CeTle0,\n",
      "      http://www.chicagotribune.com/news/local/breaking/ct-met-ethics-board-fines-assessor-berrios-cook-co,\n",
      "      ...,\n",
      "      http://bit.ly/2F3YIxH,\n",
      "      http://bit.ly/2qE1Flj\n",
      "    ]\n",
      "  ],\n",
      "  15984413: \n",
      "  [\n",
      "    [\n",
      "      http://ow.ly/s8bM30hKHmR,\n",
      "      http://wapo.st/2AO44d2,\n",
      "      ...,\n",
      "      https://www.popmatters.com/tal-national-akokas-2524222868.html,\n",
      "      http://ift.tt/2CHroym\n",
      "    ]\n",
      "  ],\n",
      "  19086562: \n",
      "  [\n",
      "    [\n",
      "      http://www.theolympian.com/sports/nfl/seattle-seahawks/seahawks-insider-blog/article191528714.html,\n",
      "      http://minnesota.cbslocal.com/2018/01/01/big-year-minnesota-politics/,\n",
      "      ...,\n",
      "      https://buff.ly/2DQQMym,\n",
      "      https://www.ksl.com/?sid=46230158&nid=148\n",
      "    ]\n",
      "  ],\n",
      "  ...,\n",
      "  84137940: \n",
      "  [\n",
      "    [\n",
      "      https://chicago.suntimes.com/sports/should-the-cubs-be-putting-a-darvish-like-effort-into-jake-arrie,\n",
      "      http://bit.ly/2DMjq3L,\n",
      "      ...,\n",
      "      https://shalomraf.wordpress.com/2017/12/30/sababa-braanana-awesome-in-raanana/,\n",
      "      https://reason.com/blog/2018/01/05/everyone-hates-dcs-daycare-mandate\n",
      "    ]\n",
      "  ],\n",
      "  86209862: \n",
      "  [\n",
      "    [\n",
      "      http://ow.ly/JGai30hGezO,\n",
      "      http://www.chicagobusiness.com/article/20171229/OPINION/171229945/small-business-licensing-fees-lowe,\n",
      "      ...,\n",
      "      https://www.counterpunch.org/2017/12/29/whos-hollering-hi-tech-lynching-now/,\n",
      "      http://ow.ly/2G6950g2PeV\n",
      "    ]\n",
      "  ],\n",
      "  874445094384013312: \n",
      "  [\n",
      "    [\n",
      "      http://www.yorkpress.co.uk/NEWS/15810856.Why_our_pills_are_changing_the_sex_of_fish/,\n",
      "      http://www.heraldtribune.com/news/20180113/sarasota-partnership-celebrates-housing-rehabilitation-pr,\n",
      "      ...,\n",
      "      http://ontario.ca/b3v8,\n",
      "      https://www.thewrap.com/red-sparrow-trailer-jennifer-lawrence-video/\n",
      "    ]\n",
      "  ],\n",
      "  97081361: \n",
      "  [\n",
      "    [\n",
      "      https://la.streetsblog.org/2017/12/29/2017-l-a-streetsies-vote-for-journalist-of-the-year/,\n",
      "      http://heraldtribune.com/sports/20171228/basketball-bradenton-christian-boys-girls-in-smoothie-king-,\n",
      "      ...,\n",
      "      https://web.archive.org/web/19961027175622/http:/point.lycos.com/reviews/database/9_19_012.html,\n",
      "      http://econ.st/2msj9N6\n",
      "    ]\n",
      "  ],\n",
      "  981994399: \n",
      "  [\n",
      "    [\n",
      "      https://la.streetsblog.org/2018/01/08/2017-l-a-streetsies-vote-for-advocacy-coalition-of-the-year/,\n",
      "      https://usat.ly/2maCpxM,\n",
      "      ...,\n",
      "      http://www.washingtonblade.com/2018/01/10/danica-roem-sworn/,\n",
      "      https://www.newyorker.com/books/page-turner/the-unlikely-kinship-of-bambi-and-kafkas-metamorphosis\n",
      "    ]\n",
      "  ]\n",
      "}\n"
     ]
    }
   ],
   "source": [
    "bp(rankings)"
   ]
  },
  {
   "cell_type": "code",
   "execution_count": 71,
   "metadata": {
    "scrolled": true
   },
   "outputs": [
    {
     "name": "stdout",
     "output_type": "stream",
     "text": [
      "{\n",
      "  1198644368: \n",
      "  [\n",
      "    {\n",
      "      http://a.msn.com/00/en-us/AAuyJLc?ocid=st,\n",
      "      http://a.msn.com/00/en-us/BBHoy0Q?ocid=st,\n",
      "      ...,\n",
      "      https://www.wxyz.com/news/opinion/wxyz-editorial-tv-7-newsmaker-of-the-year-gerard-gerry-anderson-en,\n",
      "      https://www.zerohedge.com/news/2018-01-08/grand-jury-empaneled-10-million-fraud-probe-involving-jane\n",
      "    }\n",
      "  ],\n",
      "  1447457215: \n",
      "  [\n",
      "    {\n",
      "      http://247wallst.com/special-report/2018/01/11/25-best-fitness-tech-gadgets/,\n",
      "      http://abcn.ws/2BVXNxp,\n",
      "      ...,\n",
      "      https://www.zerohedge.com/news/2018-01-09/jamie-dimon-i-regret-calling-bitcoin-fraud,\n",
      "      https://yaledailynews.com/blog/2018/01/06/yale-psychiatrist-met-with-congressmen-about-trumps-mental\n",
      "    }\n",
      "  ],\n",
      "  1596810348: \n",
      "  [\n",
      "    {\n",
      "      http://a.msn.com/02/en-us/AAuzrQE?ocid=st,\n",
      "      http://abcn.ws/2DfATlS,\n",
      "      ...,\n",
      "      https://www.wxyz.com/news/national/congress-is-back-and-here-s-what-s-on-the-agenda,\n",
      "      https://www.zerohedge.com/news/2018-01-08/youll-never-believe-how-these-restaurant-owners-responded-\n",
      "    }\n",
      "  ],\n",
      "  15984413: \n",
      "  [\n",
      "    {\n",
      "      http://a.msn.com/0B/en-us/BBIaUdR?ocid=st,\n",
      "      http://abc13.com/food/$45-bottle-of-survival-beer-comes-with-knife-blanket/2918256/,\n",
      "      ...,\n",
      "      https://www.yahoo.com/news/man-charged-beating-stepson-death-150750670.html,\n",
      "      https://www.yorkregion.com/news-story/8043459-alliston-man-stabs-himself-in-leg-in-hopes-of-avoiding\n",
      "    }\n",
      "  ],\n",
      "  19086562: \n",
      "  [\n",
      "    {\n",
      "      http://a.msn.com/01/en-us/BBHLMGe?ocid=st,\n",
      "      http://a.msn.com/0A/en-us/BBI0fMo?ocid=st,\n",
      "      ...,\n",
      "      https://www.yourtango.com/experts/eyal-intimatepower/8-different-female-anatomy-orgasms-and-how-reac,\n",
      "      https://wydaily.com/2017/12/28/after-living-in-his-car-at-liberty-university-wm-doctoral-student-aim\n",
      "    }\n",
      "  ],\n",
      "  ...,\n",
      "  84137940: \n",
      "  [\n",
      "    {\n",
      "      http://abc7news.com/health/abc7s-beyond-the-headlines-brca-/2857604/,\n",
      "      http://abcn.ws/2D9qrQj,\n",
      "      ...,\n",
      "      https://www.yorkregion.com/news-story/8040004-vehicle-smashes-into-bradford-house-causing-damage-to-,\n",
      "      https://zdubbzattmom.wordpress.com/2018/01/03/ex-libris-the-eyes-of-madness-presents-2017s-bakers-do\n",
      "    }\n",
      "  ],\n",
      "  86209862: \n",
      "  [\n",
      "    {\n",
      "      http://247wallst.com/healthcare-business/2017/12/30/30-big-biotech-events-coming-in-2018/3/,\n",
      "      http://a.msn.com/01/en-us/AAuCnju?ocid=st,\n",
      "      ...,\n",
      "      https://www.yahoo.com/news/study-influx-young-male-migrants-fueled-rise-violence-123755219.html,\n",
      "      https://www.zerohedge.com/news/2018-01-04/trump-admin-bans-all-personal-devices-white-house\n",
      "    }\n",
      "  ],\n",
      "  874445094384013312: \n",
      "  [\n",
      "    {\n",
      "      http://a.msn.com/05/en-us/BBH6j0s?ocid=st,\n",
      "      http://abcn.ws/2C6bCgY,\n",
      "      ...,\n",
      "      https://www.wsj.com/articles/los-angeles-city-attorney-sues-port-trucking-firms-over-worker-classifi,\n",
      "      https://www.wsj.com/articles/the-top-advertising-business-questions-for-2018-1514399541\n",
      "    }\n",
      "  ],\n",
      "  97081361: \n",
      "  [\n",
      "    {\n",
      "      http://abcnews.go.com/Politics/trump-pushes-back-questions-mental-fitness-calls-stable/story?id=5217,\n",
      "      http://articles.chicagotribune.com/1986-12-27/news/8604060669_1_carson-pirie-scott-amtrak-train-loop,\n",
      "      ...,\n",
      "      https://www.zerohedge.com/news/2018-01-08/credit-card-debt-hits-all-time-high-consumers-unleash-hist,\n",
      "      https://www.zerohedge.com/news/2018-01-08/its-not-his-job-illinois-treasurer-plays-activist-college-\n",
      "    }\n",
      "  ],\n",
      "  981994399: \n",
      "  [\n",
      "    {\n",
      "      http://a.msn.com/01/en-us/BBI4LTJ?ocid=st,\n",
      "      http://abc6.wjbf.com/2m59hc9,\n",
      "      ...,\n",
      "      https://www.yorkshireeveningpost.co.uk/news/crime/how-many-clare-s-law-requests-are-approved-by-west,\n",
      "      https://www.zerohedge.com/news/2017-12-28/intelligence-insider-warns-imminent-war-likely-next-12-wee\n",
      "    }\n",
      "  ]\n",
      "}\n"
     ]
    }
   ],
   "source": [
    "bp(evalData['candidates'])"
   ]
  },
  {
   "cell_type": "code",
   "execution_count": 23,
   "metadata": {},
   "outputs": [
    {
     "name": "stdout",
     "output_type": "stream",
     "text": [
      "{\n",
      "  1198644368: \n",
      "  [\n",
      "    [\n",
      "      http://ontario.ca/b3v8,\n",
      "      https://www.popmatters.com/matthew-oneill-gates-video-premiere-2524320883.html,\n",
      "      ...,\n",
      "      https://www.theguardian.com/higher-education-network/2017/dec/29/academics-anonymous-the-best-secret,\n",
      "      https://www.theglobeandmail.com/opinion/columnists/ubc-alumni-involved-in-steven-galloway-case-offer\n",
      "    ]\n",
      "  ],\n",
      "  137210010: \n",
      "  [\n",
      "    [ http://bit.ly/2BBHhm1, https://buff.ly/2DQQMym, ..., http://nyti.ms/2A8wX3r, https://buff.ly/2DnBv9h ]\n",
      "  ],\n",
      "  1447457215: \n",
      "  [\n",
      "    [\n",
      "      https://lnkd.in/gnwtgAY,\n",
      "      http://247wallst.com/special-report/2018/01/11/25-best-fitness-tech-gadgets/,\n",
      "      ...,\n",
      "      http://m.chron.com/business/retail/article/Port-Houston-container-imports-surged-last-year-12481938.,\n",
      "      https://nyti.ms/2Egstu5\n",
      "    ]\n",
      "  ],\n",
      "  14639840: \n",
      "  [\n",
      "    [\n",
      "      http://abc7news.com/2913203/,\n",
      "      http://www.wthitv.com/weather/,\n",
      "      ...,\n",
      "      https://www.theglobeandmail.com/life/health-and-fitness/health/leslie-beck-is-gluten-always-to-blame,\n",
      "      https://fb.me/3NNZXurJ9\n",
      "    ]\n",
      "  ],\n",
      "  14705402: \n",
      "  [\n",
      "    [\n",
      "      http://ow.ly/c3jc50g6HWw,\n",
      "      http://bit.ly/2BJjsJa,\n",
      "      ...,\n",
      "      https://fb.me/6YwKGw9Gu,\n",
      "      http://www.telegram.com/opinion/20180104/al-southwick-when-worcester-made-headlines-with-its-own-ele\n",
      "    ]\n",
      "  ],\n",
      "  ...,\n",
      "  86209862: \n",
      "  [\n",
      "    [\n",
      "      http://www.pnj.com/story/money/business/2018/01/09/commissioner-underhill-opposing-tax-incentives-fl,\n",
      "      http://www.autonews.com/apps/pbcs.dll/article?AID=/20180101/OEM11/180109986/&AID=/20180101/OEM11/180,\n",
      "      ...,\n",
      "      http://ift.tt/2ulbDZJ,\n",
      "      https://www.washingtonpost.com/news/retropolis/wp/2017/12/30/fact-checking-the-crown-did-the-duke-of\n",
      "    ]\n",
      "  ],\n",
      "  86397168: \n",
      "  [\n",
      "    [\n",
      "      https://www.popmatters.com/helen-kelter-skelter-21st-century-audio-premiere-2524557897.html,\n",
      "      http://www.phillymag.com/business/2017/10/16/benjamins-desk-merges-1776/,\n",
      "      ...,\n",
      "      http://wapo.st/2D5c6nR?tid=ss_tw&utm_term=.b4ccd06743c8,\n",
      "      https://www.pressherald.com/?p=1315318\n",
      "    ]\n",
      "  ],\n",
      "  874445094384013312: \n",
      "  [\n",
      "    [\n",
      "      http://ontario.ca/b3v8,\n",
      "      https://medium.com/udacity/udacity-and-baidus-new-course-introduction-to-apollo-4eb244313e8c,\n",
      "      ...,\n",
      "      https://academic.oup.com/icesjms/advance-article/doi/10.1093/icesjms/fsx229/4772850,\n",
      "      https://www.missourinet.com/2017/12/18/missouri-lawmaker-says-proposal-to-ban-foreign-law-not-anti-m\n",
      "    ]\n",
      "  ],\n",
      "  97081361: \n",
      "  [\n",
      "    [\n",
      "      https://web.archive.org/web/19961027175622/http:/point.lycos.com/reviews/database/9_19_012.html,\n",
      "      http://econ.st/2msj9N6,\n",
      "      ...,\n",
      "      https://buff.ly/2ELfW2K,\n",
      "      https://www.theguardian.com/us-news/2018/jan/05/fire-and-fury-inside-the-trump-white-house-michael-w\n",
      "    ]\n",
      "  ],\n",
      "  981994399: \n",
      "  [\n",
      "    [\n",
      "      https://www.huffingtonpost.com/entry/language-and-the-meaning-of-conservative_us_5a562b27e4b0e3dd5c3,\n",
      "      https://usat.ly/2D6rtLW,\n",
      "      ...,\n",
      "      http://m.jpost.com/Middle-East/Iranian-Jews-keep-a-low-profile-522595,\n",
      "      https://www.nytimes.com/2018/01/07/opinion/new-york-traffic-cuomo.html\n",
      "    ]\n",
      "  ]\n",
      "}\n"
     ]
    }
   ],
   "source": [
    "bp(rankings)"
   ]
  },
  {
   "cell_type": "code",
   "execution_count": 77,
   "metadata": {},
   "outputs": [],
   "source": [
    "checkRankings(rankings,evalData['candidates'],maxUsers=None)"
   ]
  },
  {
   "cell_type": "code",
   "execution_count": 78,
   "metadata": {},
   "outputs": [],
   "source": [
    "addRanking(modelName, rankings, config, logger=logger)"
   ]
  },
  {
   "cell_type": "markdown",
   "metadata": {},
   "source": [
    "# news classification"
   ]
  },
  {
   "cell_type": "code",
   "execution_count": 31,
   "metadata": {},
   "outputs": [
    {
     "name": "stdout",
     "output_type": "stream",
     "text": [
      "[\n",
      "  http://ow.ly/KXjL30g7kRC,\n",
      "  https://www.azcentral.com/story/news/politics/legislature/2017/11/07/arizona-state-rep-ugenti-rita-s,\n",
      "  ...,\n",
      "  https://www.cincinnati.com/story/news/politics/2017/10/18/ohio-republican-state-senator-who-resigned,\n",
      "  http://www.philly.com/philly/business/cannabis/Las-Vegas-buying-marijuana-is-legal-but-theres-nowher\n",
      "]\n"
     ]
    }
   ],
   "source": [
    "# for one user\n",
    "query = random.sample(list(evalData['trainUsers']['1198644368']),15)\n",
    "bp(query)"
   ]
  },
  {
   "cell_type": "code",
   "execution_count": 24,
   "metadata": {},
   "outputs": [],
   "source": [
    "# for userId in trainUsers.keys():\n",
    "temp = []\n",
    "for url in query:\n",
    "    if urlTitles[url] == None:\n",
    "        continue\n",
    "    else:\n",
    "        temp.extend(urlTitles[url])"
   ]
  },
  {
   "cell_type": "code",
   "execution_count": 26,
   "metadata": {},
   "outputs": [
    {
     "name": "stdout",
     "output_type": "stream",
     "text": [
      "[ sexual, harassment, ..., to, resign ]\n"
     ]
    }
   ],
   "source": [
    "bp(temp)"
   ]
  },
  {
   "cell_type": "code",
   "execution_count": 79,
   "metadata": {},
   "outputs": [
    {
     "name": "stderr",
     "output_type": "stream",
     "text": [
      "[ texas, journalist, ..., york, is ]\n"
     ]
    },
    {
     "name": "stdout",
     "output_type": "stream",
     "text": [
      "[ opinion, |, ..., texas, tribune ]\n"
     ]
    }
   ],
   "source": [
    "tempTest = wordTokenize(temp)\n",
    "bp(tempTest)\n",
    "queryCompactTemp = list(set(tempTest))\n",
    "bp(queryCompactTemp)"
   ]
  },
  {
   "cell_type": "code",
   "execution_count": 87,
   "metadata": {},
   "outputs": [],
   "source": [
    "queryCompact = []\n",
    "for i in range(len(queryCompactTemp)):\n",
    "    if queryCompactTemp[i] in titleVocab:\n",
    "        queryCompact.append(queryCompactTemp[i])"
   ]
  },
  {
   "cell_type": "code",
   "execution_count": 90,
   "metadata": {},
   "outputs": [
    {
     "data": {
      "text/plain": [
       "77"
      ]
     },
     "execution_count": 90,
     "metadata": {},
     "output_type": "execute_result"
    }
   ],
   "source": [
    "len(queryCompact)"
   ]
  },
  {
   "cell_type": "code",
   "execution_count": 94,
   "metadata": {},
   "outputs": [
    {
     "data": {
      "text/plain": [
       "\"texas journalist model wo must reality grade mueller post. year sexually making washington from han't capitol into themselves claim how lawmaker canceled senator america shooting accused it party be by now base admits report roy not state day behavior victim podcast investigation valley moore will trump dy powerful fellow fox harassment over reduce doctor republican trip were or holiday made opinion false tribune problem retirement jeff speech who an car been this sexual colorado york\""
      ]
     },
     "execution_count": 94,
     "metadata": {},
     "output_type": "execute_result"
    }
   ],
   "source": [
    "# detokenize\n",
    "queryCompact2 = detokenize(queryCompact)\n",
    "queryCompact2"
   ]
  },
  {
   "cell_type": "code",
   "execution_count": 100,
   "metadata": {},
   "outputs": [],
   "source": [
    "queryFinal = []\n",
    "queryFinal.append(queryCompact2)"
   ]
  },
  {
   "cell_type": "code",
   "execution_count": 102,
   "metadata": {},
   "outputs": [],
   "source": [
    "queryFinal = queryFinal * 1000"
   ]
  },
  {
   "cell_type": "code",
   "execution_count": 65,
   "metadata": {},
   "outputs": [],
   "source": [
    "h_temp = []\n",
    "for url in evalData['candidates']['1198644368'][0]:\n",
    "    h_temp.append(urlTitles[url])\n",
    "#h_temp"
   ]
  },
  {
   "cell_type": "code",
   "execution_count": 119,
   "metadata": {},
   "outputs": [],
   "source": [
    "y = np.zeros((1000))"
   ]
  },
  {
   "cell_type": "code",
   "execution_count": 112,
   "metadata": {},
   "outputs": [],
   "source": [
    "p,h = char_index(queryFinal,h_temp)"
   ]
  },
  {
   "cell_type": "code",
   "execution_count": 120,
   "metadata": {},
   "outputs": [
    {
     "name": "stdout",
     "output_type": "stream",
     "text": [
      "WARNING:tensorflow:From /home/yuting/PycharmProjects/Twinews/twinews/yfnotebooks/dssm/graph.py:24: dense (from tensorflow.python.layers.core) is deprecated and will be removed in a future version.\n",
      "Instructions for updating:\n",
      "Use keras.layers.Dense instead.\n",
      "WARNING:tensorflow:From /home/yuting/anaconda3/lib/python3.7/site-packages/tensorflow_core/python/layers/core.py:187: Layer.apply (from tensorflow.python.keras.engine.base_layer) is deprecated and will be removed in a future version.\n",
      "Instructions for updating:\n",
      "Please use `layer.__call__` method instead.\n",
      "WARNING:tensorflow:From /home/yuting/PycharmProjects/Twinews/twinews/yfnotebooks/dssm/graph.py:21: calling dropout (from tensorflow.python.ops.nn_ops) with keep_prob is deprecated and will be removed in a future version.\n",
      "Instructions for updating:\n",
      "Please use `rate` instead of `keep_prob`. Rate should be set to `rate = 1 - keep_prob`.\n",
      "WARNING:tensorflow:From /home/yuting/PycharmProjects/Twinews/twinews/yfnotebooks/dssm/graph.py:61: softmax_cross_entropy_with_logits (from tensorflow.python.ops.nn_ops) is deprecated and will be removed in a future version.\n",
      "Instructions for updating:\n",
      "\n",
      "Future major versions of TensorFlow will allow gradients to flow\n",
      "into the labels input on backprop by default.\n",
      "\n",
      "See `tf.nn.softmax_cross_entropy_with_logits_v2`.\n",
      "\n",
      "INFO:tensorflow:Restoring parameters from /home/yuting/PycharmProjects/Twinews/twinews/yfnotebooks/dssm/output/dssm_99.ckpt\n"
     ]
    }
   ],
   "source": [
    "def computeSimilarity(p,h,y):\n",
    "    \n",
    "    tf.reset_default_graph() \n",
    "    model = Graph()\n",
    "    saver = tf.train.Saver()\n",
    "\n",
    "    with tf.Session()as sess:\n",
    "        sess.run(tf.global_variables_initializer())\n",
    "        saver.restore(sess, '/home/yuting/PycharmProjects/Twinews/twinews/yfnotebooks/dssm/output/dssm_99.ckpt')\n",
    "        loss, acc, logit = sess.run([model.loss, model.acc, model.logits],\n",
    "                             feed_dict={model.p: p,\n",
    "                                        model.h: h,\n",
    "                                        model.y: y,\n",
    "                                        model.keep_prob: 1})\n",
    "\n",
    "        #print('loss: ', loss, ' acc:', acc)\n",
    "        return logit\n",
    "logit = computeSimilarity(p,h,y)"
   ]
  },
  {
   "cell_type": "code",
   "execution_count": 127,
   "metadata": {},
   "outputs": [
    {
     "data": {
      "text/plain": [
       "array([[ 0.01799134,  0.98200864],\n",
       "       [-0.0375907 ,  1.0375907 ],\n",
       "       [-0.0545145 ,  1.0545145 ],\n",
       "       ...,\n",
       "       [ 0.87169796,  0.12830204],\n",
       "       [ 0.8784758 ,  0.12152421],\n",
       "       [ 0.8359748 ,  0.16402519]], dtype=float32)"
      ]
     },
     "execution_count": 127,
     "metadata": {},
     "output_type": "execute_result"
    }
   ],
   "source": [
    "logit"
   ]
  },
  {
   "cell_type": "code",
   "execution_count": 73,
   "metadata": {},
   "outputs": [
    {
     "name": "stdout",
     "output_type": "stream",
     "text": [
      "INFO:tensorflow:Restoring parameters from /home/yuting/PycharmProjects/Twinews/twinews/yfnotebooks/dssm/output/dssm_9.ckpt\n",
      "INFO:tensorflow:Restoring parameters from /home/yuting/PycharmProjects/Twinews/twinews/yfnotebooks/dssm/output/dssm_9.ckpt\n",
      "INFO:tensorflow:Restoring parameters from /home/yuting/PycharmProjects/Twinews/twinews/yfnotebooks/dssm/output/dssm_9.ckpt\n",
      "INFO:tensorflow:Restoring parameters from /home/yuting/PycharmProjects/Twinews/twinews/yfnotebooks/dssm/output/dssm_9.ckpt\n",
      "INFO:tensorflow:Restoring parameters from /home/yuting/PycharmProjects/Twinews/twinews/yfnotebooks/dssm/output/dssm_9.ckpt\n",
      "INFO:tensorflow:Restoring parameters from /home/yuting/PycharmProjects/Twinews/twinews/yfnotebooks/dssm/output/dssm_9.ckpt\n",
      "INFO:tensorflow:Restoring parameters from /home/yuting/PycharmProjects/Twinews/twinews/yfnotebooks/dssm/output/dssm_9.ckpt\n",
      "INFO:tensorflow:Restoring parameters from /home/yuting/PycharmProjects/Twinews/twinews/yfnotebooks/dssm/output/dssm_9.ckpt\n",
      "INFO:tensorflow:Restoring parameters from /home/yuting/PycharmProjects/Twinews/twinews/yfnotebooks/dssm/output/dssm_9.ckpt\n",
      "INFO:tensorflow:Restoring parameters from /home/yuting/PycharmProjects/Twinews/twinews/yfnotebooks/dssm/output/dssm_9.ckpt\n"
     ]
    }
   ],
   "source": [
    "# rankings of the candidates\n",
    "rankings = dict()\n",
    "for usr in trainUsers.keys():\n",
    "    # get historical data as query(p)\n",
    "    query = np.zeros((1,7427))\n",
    "    for url in evalData['trainUsers'][usr]:\n",
    "        query += urlHasedDocs[url].toarray()\n",
    "        p = np.tile(query,(1000,1)) \n",
    "    usrRankings = []\n",
    "    for candidates in evalData['candidates'][usr]:\n",
    "        candidates = list(candidates)\n",
    "        # get 1000 h_doc as a list(h)\n",
    "        h = np.zeros((1,7427))\n",
    "        for url in candidates:\n",
    "            h_temp = urlHasedDocs[url].toarray()\n",
    "            h = np.vstack((h,h_temp))\n",
    "        h = h[1:]                                   # cut off the first element\n",
    "        y = np.zeros((1000))\n",
    "        scoresCandidates = []\n",
    "        logit = computeSimilarity(p,h,y)            # get the 1000 scores list\n",
    "        scoresCandidates = zip(candidates,list(logit[:,0]))\n",
    "        ranking = sortBy(scoresCandidates, index=1, desc=True)\n",
    "        ranking = [e[0] for e in ranking]\n",
    "        usrRankings.append(ranking)\n",
    "    rankings[usr] = usrRankings"
   ]
  },
  {
   "cell_type": "code",
   "execution_count": 77,
   "metadata": {},
   "outputs": [],
   "source": [
    "checkRankings(rankings,evalData['candidates'],maxUsers=None)"
   ]
  },
  {
   "cell_type": "code",
   "execution_count": 29,
   "metadata": {},
   "outputs": [],
   "source": [
    "addRanking(modelName, rankings, config, logger=logger)"
   ]
  },
  {
   "cell_type": "code",
   "execution_count": 56,
   "metadata": {},
   "outputs": [
    {
     "data": {
      "text/plain": [
       "'DSSM_yf'"
      ]
     },
     "execution_count": 56,
     "metadata": {},
     "output_type": "execute_result"
    }
   ],
   "source": [
    "modelName"
   ]
  },
  {
   "cell_type": "markdown",
   "metadata": {},
   "source": [
    "# Extra notes"
   ]
  },
  {
   "cell_type": "code",
   "execution_count": 36,
   "metadata": {},
   "outputs": [
    {
     "data": {
      "text/plain": [
       "(1, 5)"
      ]
     },
     "execution_count": 36,
     "metadata": {},
     "output_type": "execute_result"
    }
   ],
   "source": [
    "a = np.array([[1,2,3,4,5]])\n",
    "a.shape"
   ]
  },
  {
   "cell_type": "code",
   "execution_count": 51,
   "metadata": {},
   "outputs": [],
   "source": [
    "b = np.tile(a,(5,1))"
   ]
  },
  {
   "cell_type": "code",
   "execution_count": 59,
   "metadata": {},
   "outputs": [
    {
     "data": {
      "text/plain": [
       "(6, 5)"
      ]
     },
     "execution_count": 59,
     "metadata": {},
     "output_type": "execute_result"
    }
   ],
   "source": [
    "b.shape"
   ]
  },
  {
   "cell_type": "code",
   "execution_count": null,
   "metadata": {},
   "outputs": [],
   "source": [
    "# rankings of the candidates\n",
    "rankings = dict()\n",
    "for usr in trainUsers.keys():\n",
    "    query = np.zeros((1,7427))\n",
    "    for url in evalData['trainUsers'][usr]:\n",
    "        query += urlHasedDocs[url].toarray()\n",
    "    usrRankings = []\n",
    "    for candidates in evalData['candidates'][usr]:\n",
    "        candidates = list(candidates)\n",
    "        scoresCandidates = []\n",
    "        for i in range(len(candidates)):\n",
    "            candidateHashed = urlHasedDocs[candidates[i]].toarray()\n",
    "            logit = computeSimilarity(query, candidateHashed, 0)\n",
    "            score = logit[0][0]\n",
    "            # score = 1\n",
    "            scoresCandidates.append((candidates[i], score))\n",
    "        ranking = sortBy(scoresCandidates, index=1, desc=True)\n",
    "        ranking = [e[0] for e in ranking]\n",
    "        usrRankings.append(ranking)\n",
    "    rankings[usr] = usrRankings"
   ]
  }
 ],
 "metadata": {
  "kernelspec": {
   "display_name": "Python 3",
   "language": "python",
   "name": "python3"
  },
  "language_info": {
   "codemirror_mode": {
    "name": "ipython",
    "version": 3
   },
   "file_extension": ".py",
   "mimetype": "text/x-python",
   "name": "python",
   "nbconvert_exporter": "python",
   "pygments_lexer": "ipython3",
   "version": "3.7.4"
  },
  "pycharm": {
   "stem_cell": {
    "cell_type": "raw",
    "metadata": {
     "collapsed": false
    },
    "source": []
   }
  }
 },
 "nbformat": 4,
 "nbformat_minor": 1
}
