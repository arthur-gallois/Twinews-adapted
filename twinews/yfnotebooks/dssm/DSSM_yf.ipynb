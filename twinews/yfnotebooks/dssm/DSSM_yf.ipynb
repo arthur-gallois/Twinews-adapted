{
 "cells": [
  {
   "cell_type": "code",
   "execution_count": 1,
   "metadata": {},
   "outputs": [],
   "source": [
    "import os ; os.environ[\"CUDA_VISIBLE_DEVICES\"] = \"\"\n",
    "import sys"
   ]
  },
  {
   "cell_type": "code",
   "execution_count": 2,
   "metadata": {},
   "outputs": [],
   "source": [
    "from systemtools.hayj import *\n",
    "from systemtools.location import *\n",
    "from systemtools.basics import *\n",
    "from systemtools.file import *\n",
    "from systemtools.printer import *\n",
    "from databasetools.mongo import *\n",
    "from newstools.goodarticle.utils import *\n",
    "from nlptools.preprocessing import *\n",
    "from nlptools.news import parser as newsParser\n",
    "from machinelearning.iterator import *\n",
    "from twinews.utils import *\n",
    "from twinews.models.ranking import *\n",
    "from twinews.evaluation.utils import *"
   ]
  },
  {
   "cell_type": "code",
   "execution_count": 3,
   "metadata": {},
   "outputs": [],
   "source": [
    "from nlptools.basics import *\n",
    "from nltk.stem import WordNetLemmatizer \n",
    "from sklearn.decomposition import NMF, LatentDirichletAllocation\n",
    "from sklearn.feature_extraction.text import TfidfVectorizer, CountVectorizer\n",
    "from gensim.models import LdaMulticore\n",
    "from gensim.test.utils import common_corpus, common_dictionary\n",
    "from sklearn.metrics.pairwise import cosine_similarity, pairwise_distances\n",
    "import gensim\n",
    "from math import log2\n",
    "from math import sqrt\n",
    "from numpy import asarray"
   ]
  },
  {
   "cell_type": "code",
   "execution_count": 4,
   "metadata": {},
   "outputs": [
    {
     "name": "stdout",
     "output_type": "stream",
     "text": [
      "WARNING:tensorflow:From /home/yuting/anaconda3/lib/python3.7/site-packages/tensorflow_core/python/compat/v2_compat.py:88: disable_resource_variables (from tensorflow.python.ops.variable_scope) is deprecated and will be removed in a future version.\n",
      "Instructions for updating:\n",
      "non-resource variables are not supported in the long term\n"
     ]
    }
   ],
   "source": [
    "from twinews.yfnotebooks.dssm.graph import Graph\n",
    "import tensorflow.compat.v1 as tf\n",
    "tf.disable_v2_behavior()\n",
    "from twinews.yfnotebooks.dssm.load_data import hashIndex,load_hashed_data"
   ]
  },
  {
   "cell_type": "code",
   "execution_count": 5,
   "metadata": {},
   "outputs": [],
   "source": [
    "isNotebook = '__file__' not in locals()\n",
    "TEST = isNotebook"
   ]
  },
  {
   "cell_type": "code",
   "execution_count": 6,
   "metadata": {},
   "outputs": [
    {
     "name": "stderr",
     "output_type": "stream",
     "text": [
      "--> tictoc starts...\n"
     ]
    },
    {
     "data": {
      "text/plain": [
       "-1"
      ]
     },
     "execution_count": 6,
     "metadata": {},
     "output_type": "execute_result"
    }
   ],
   "source": [
    "logger = Logger(tmpDir('logs') + \"/dssm_yf.log\") if isNotebook else Logger(\"dssm_yf-\" + getHostname() + \".log\")\n",
    "tt = TicToc(logger=logger)\n",
    "tt.tic()"
   ]
  },
  {
   "cell_type": "code",
   "execution_count": 7,
   "metadata": {
    "pycharm": {
     "name": "#%%\n"
    }
   },
   "outputs": [],
   "source": [
    "modelName = \"DSSM_yf\""
   ]
  },
  {
   "cell_type": "code",
   "execution_count": 8,
   "metadata": {},
   "outputs": [],
   "source": [
    "os.environ[\"KMP_DUPLICATE_LIB_OK\"] = \"TRUE\"\n",
    "os.environ[\"TF_CPP_MIN_LOG_LEVEL’\"] = \"3\""
   ]
  },
  {
   "cell_type": "markdown",
   "metadata": {
    "pycharm": {
     "name": "#%% md\n"
    }
   },
   "source": [
    "# config"
   ]
  },
  {
   "cell_type": "code",
   "execution_count": 9,
   "metadata": {
    "pycharm": {
     "name": "#%%\n"
    }
   },
   "outputs": [],
   "source": [
    "config = \\\n",
    "{\n",
    "    'splitVersion': 2,\n",
    "    \n",
    "    # for input data\n",
    "    'maxUsers': 10 if TEST else None, # Sub-sampling\n",
    "    'maxDocuments': 100 if TEST else 10000,\n",
    "    'useExtraNews': 0 if TEST else None, # None = unlimited, 0 = no extra news\n",
    "    'minDF': 1 / 500 if TEST else 1 / 2000, # Remove words that have a document frequency ratio lower than 1 / 500\n",
    "    'maxDF': 300, # Remove top 300 voc elements\n",
    "    'lowercase': False if TEST else True,\n",
    "    'doLemmatization': False if TEST else False,\n",
    "    #'useTFIDF': True,\n",
    "    \n",
    "   # for model    \n",
    "    'seq_length' : 7427,\n",
    "    'char_embedding_size': 100,\n",
    "    'learning_rate': 0.0005,\n",
    "    'keep_prob': 0.7,\n",
    "    'vocab_size': 7901,\n",
    "    'class_size': 2,\n",
    "    'epochs': 10,\n",
    "    'batch_size': 100,\n",
    "    \n",
    "    # for ouput\n",
    "    'similarity': 'cosine',\n",
    "\n",
    "    'historyRef': 0.3, # 1, 1.0, 0.5, 0.3, 3, 10\n",
    "}"
   ]
  },
  {
   "cell_type": "markdown",
   "metadata": {},
   "source": [
    "# get data"
   ]
  },
  {
   "cell_type": "code",
   "execution_count": 11,
   "metadata": {
    "pycharm": {
     "name": "#%%\n"
    }
   },
   "outputs": [
    {
     "name": "stdout",
     "output_type": "stream",
     "text": [
      "--> tic: 29.44s | message: Eval data loaded\n"
     ]
    },
    {
     "name": "stderr",
     "output_type": "stream",
     "text": [
      "{ candidates, extraNews, meta, testNews, testUsers, trainNews, trainUsers }\n",
      "{ 'created': 2020.03.24-14.28.06, 'endDate': 2018-01-15, 'id': 2, 'ranksLength': 1000, 'splitDate': 2017-12-25, 'startDate': 2017-10-01, 'testMaxNewsPerUser': 97, 'testMeanNewsPerUser': 7.22, 'testMinNewsPerUser': 2, 'testNewsCount': 71781, 'totalNewsAvailable': 570210, 'trainMaxNewsPerUser': 379, 'trainMeanNewsPerUser': 26.48, 'trainMinNewsPerUser': 8, 'trainNewsCount': 237150, 'usersCount': 15905 }\n"
     ]
    },
    {
     "name": "stdout",
     "output_type": "stream",
     "text": [
      "--> toc total duration: 29.66s | message: Got Twinews evaluation data\n"
     ]
    }
   ],
   "source": [
    "# Getting users and news\n",
    "evalData = getEvalData(config['splitVersion'], maxExtraNews=0,\n",
    "                       maxUsers=config['maxUsers'])\n",
    "(trainUsers, testUsers, trainNews, testNews, candidates, extraNews) = \\\n",
    "(evalData['trainUsers'], evalData['testUsers'], evalData['trainNews'],\n",
    " evalData['testNews'], evalData['candidates'], evalData['extraNews'])\n",
    "bp(evalData.keys(), 5, logger)\n",
    "log(b(evalData['meta'], 5), logger)"
   ]
  },
  {
   "cell_type": "code",
   "execution_count": 12,
   "metadata": {},
   "outputs": [],
   "source": [
    "trainNewsList = shuffle(list(trainNews), seed=0)\n",
    "testNewsList = shuffle(list(testNews), seed=0)"
   ]
  },
  {
   "cell_type": "code",
   "execution_count": 13,
   "metadata": {},
   "outputs": [
    {
     "name": "stderr",
     "output_type": "stream",
     "text": [
      "9690 urls for newsList:\n",
      "[\n",
      "  https://www.texastribune.org/2017/11/13/texas-capitol-victims-sexual-harassment-must-fend-themselves,\n",
      "  http://politi.co/2zAjExo,\n",
      "  ...,\n",
      "  https://www.theguardian.com/artanddesign/2018/jan/03/marilyn-stafford-best-photograph-albert-einstei,\n",
      "  http://chicago.suntimes.com/sports/bears-coaching-candidate-interview-tracker/amp\n",
      "]\n"
     ]
    }
   ],
   "source": [
    "# train news as query\n",
    "newsList = trainNewsList + testNewsList\n",
    "log(str(len(newsList)) + \" urls for newsList:\\n\" + b(newsList), logger=logger)"
   ]
  },
  {
   "cell_type": "code",
   "execution_count": 14,
   "metadata": {},
   "outputs": [
    {
     "name": "stderr",
     "output_type": "stream",
     "text": [
      "twinews news (version 1.0) initialised.\n",
      "  0% [                    ]\n",
      " 10% [==                  ] (5m 5.639s left)\n",
      " 20% [====                ] (4m 29.159s left)\n",
      " 30% [======              ] (3m 53.94s left)\n",
      " 40% [========            ] (3m 19.589s left)\n",
      " 50% [==========          ] (2m 46.419s left)\n",
      " 60% [============        ] (2m 12.853s left)\n",
      " 70% [==============      ] (1m 39.505s left)\n",
      " 80% [================    ] (1m 6.439s left)\n",
      " 90% [==================  ] (33.19s left)\n",
      "100% [====================] (total duration: 5m 31.47s, mean duration: 0.034s)\n",
      "[\n",
      "  [ [ Disgust, overwhelmed, ..., hand, . ], [ A, Capitol, ..., her, . ], ..., [ Correction, :, ..., outdated, . ], [ Only, the, ..., exists, . ] ],\n",
      "  [ [ WEST, CHESTER, ..., southpaw, . ], [ Maybe, it, ..., it, . ], ..., [ \", Be, ..., says, . ], [ Tim, Alberta, ..., Magazine, . ] ],\n",
      "  ...,\n",
      "  [ [ ', It, ..., in, __int_4__ ], [ Photograph, :, ..., acting, . ], ..., [ This, was, ..., took, . ], [ So, it, ..., photographer, . ] ],\n",
      "  [ [ The, Bears, ..., Fox, . ], [ Follow, along, ..., Wednesday, . ], ..., [ Wilks, ', ..., though, . ], [ The, Bears, ..., weekend, . ] ]\n",
      "]\n"
     ]
    }
   ],
   "source": [
    "sentences = getNewsSentences(newsList, logger=logger)\n",
    "bp(sentences, logger=logger)"
   ]
  },
  {
   "cell_type": "code",
   "execution_count": 15,
   "metadata": {},
   "outputs": [
    {
     "name": "stderr",
     "output_type": "stream",
     "text": [
      "[ [ Disgust, overwhelmed, ..., exists, . ], [ WEST, CHESTER, ..., Magazine, . ], ..., [ ', It, ..., photographer, . ], [ The, Bears, ..., weekend, . ] ]\n"
     ]
    }
   ],
   "source": [
    "for i in range(len(sentences)):\n",
    "    sentences[i] = flattenLists(sentences[i])\n",
    "docs = sentences\n",
    "bp(docs, logger)"
   ]
  },
  {
   "cell_type": "code",
   "execution_count": 16,
   "metadata": {},
   "outputs": [
    {
     "name": "stderr",
     "output_type": "stream",
     "text": [
      "Lower casing   0% [                    ]\n",
      "Lower casing  10% [==                  ] (2.16s left)\n",
      "Lower casing  20% [====                ] (1.72s left)\n",
      "Lower casing  30% [======              ] (1.47s left)\n",
      "Lower casing  40% [========            ] (1.23s left)\n",
      "Lower casing  50% [==========          ] (1.04s left)\n",
      "Lower casing  60% [============        ] (0.82s left)\n",
      "Lower casing  70% [==============      ] (0.617s left)\n",
      "Lower casing  80% [================    ] (0.412s left)\n",
      "Lower casing  90% [==================  ] (0.205s left)\n",
      "Lower casing 100% [====================] (total duration: 2.05s, mean duration: 0s)\n",
      "[ [ disgust, overwhelmed, ..., exists, . ], [ west, chester, ..., magazine, . ], ..., [ ', it, ..., photographer, . ], [ the, bears, ..., weekend, . ] ]\n"
     ]
    }
   ],
   "source": [
    "if TEST:\n",
    "    for i in pb(list(range(len(docs))), logger=logger, message=\"Lower casing\"):\n",
    "        for u in range(len(docs[i])):\n",
    "            docs[i][u] = docs[i][u].lower()\n",
    "bp(docs, logger)"
   ]
  },
  {
   "cell_type": "code",
   "execution_count": 17,
   "metadata": {},
   "outputs": [
    {
     "name": "stderr",
     "output_type": "stream",
     "text": [
      "Lemmatization   0% [                    ]\n",
      "Lemmatization  10% [==                  ] (33.75s left)\n",
      "Lemmatization  20% [====                ] (23.52s left)\n",
      "Lemmatization  30% [======              ] (18.666s left)\n",
      "Lemmatization  40% [========            ] (15.225s left)\n",
      "Lemmatization  50% [==========          ] (12.43s left)\n",
      "Lemmatization  60% [============        ] (9.653s left)\n",
      "Lemmatization  70% [==============      ] (7.148s left)\n",
      "Lemmatization  80% [================    ] (4.719s left)\n",
      "Lemmatization  90% [==================  ] (2.325s left)\n",
      "Lemmatization 100% [====================] (total duration: 23.13s, mean duration: 0.002s)\n",
      "[ [ disgust, overwhelmed, ..., exists, . ], [ west, chester, ..., magazine, . ], ..., [ ', it, ..., photographer, . ], [ the, bear, ..., weekend, . ] ]\n"
     ]
    }
   ],
   "source": [
    "if TEST:\n",
    "    lemmatizer = WordNetLemmatizer()\n",
    "    pbar = ProgressBar(len(docs), logger=logger, message=\"Lemmatization\")\n",
    "    for i in range(len(docs)):\n",
    "        for u in range(len(docs[i])):\n",
    "            docs[i][u] = lemmatizer.lemmatize(docs[i][u])\n",
    "        pbar.tic()\n",
    "bp(docs, logger)"
   ]
  },
  {
   "cell_type": "code",
   "execution_count": 18,
   "metadata": {},
   "outputs": [
    {
     "name": "stderr",
     "output_type": "stream",
     "text": [
      "Voc removed because of minDF (66696 elements):\n",
      "{ 00s, 0640l, 0cean, 0day, 0f, 0x, 1, 10, 100, 1000th, ..., zzz, zzzs, 💗, 😂, 😃, 😉, 😍, 😒, 😢, 🙌 }\n",
      "Voc removed because of maxDF (300 elements):\n",
      "{ \", ', (, ), ,, -, ., :, ;, ?, ..., without, woman, work, working, world, would, year, yet, you, your }\n",
      "70.36% of voc will be removed.\n",
      "[ [ disgust, overwhelmed, ..., longer, exists ], [ west, chester, ..., politico, magazine ], ..., [ ever, photograph, ..., became, photographer ], [ bear, beginning, ..., round, weekend ] ]\n"
     ]
    }
   ],
   "source": [
    "docs = filterCorpus(docs, minDF=1/2000, maxDF=300,\n",
    "                    removeEmptyDocs=False, allowEmptyDocs=False, logger=logger)\n",
    "for doc in docs: assert len(doc) > 0\n",
    "bp(docs, logger)"
   ]
  },
  {
   "cell_type": "code",
   "execution_count": 19,
   "metadata": {},
   "outputs": [
    {
     "name": "stderr",
     "output_type": "stream",
     "text": [
      "[\n",
      "  disgust overwhelmed felt tongue hand capitol staffer large party celebrating legislative session ago,\n",
      "  west chester ohio swing golf club hander maybe metaphor conservative politician turned liberal crunc,\n",
      "  ...,\n",
      "  ever photograph albert einstein jersey photograph marilyn stafford living york hoping break acting c,\n",
      "  bear beginning coaching search replace john fox follow along bear interviewed defensive coordinator \n",
      "]\n"
     ]
    }
   ],
   "source": [
    "def toStr(sentencesList):\n",
    "    for i in range(len(sentencesList)):\n",
    "        sentencesList[i] = ' '.join(sentencesList[i])\n",
    "    return sentencesList\n",
    "\n",
    "corpus = toStr(docs)\n",
    "for corp in corpus: assert len(corp) > 0\n",
    "bp(corpus,logger)"
   ]
  },
  {
   "cell_type": "code",
   "execution_count": 20,
   "metadata": {},
   "outputs": [
    {
     "name": "stderr",
     "output_type": "stream",
     "text": [
      "{\n",
      "  http://247wallst.com/special-report/2017/12/08/americas-25-dying-industries-2: estimated __float_3__ united __float_1__ ago economy whole grew healthy pace workforce growth unifor,\n",
      "  http://247wallst.com/special-report/2018/01/11/25-best-fitness-tech-gadgets/: looking resolution extra pound holiday surprisingly looking invest nascent field wearable tech fitne,\n",
      "  http://a.msn.com/00/en-us/AAuyJLc?ocid=st: wal mart nyse decided raise minimum wage pay worker hour following footstep target nyse september de,\n",
      "  http://a.msn.com/00/en-us/BBHoy0Q?ocid=st: richest earth became trillion richer gain stock market shrugged economic social political division r,\n",
      "  http://a.msn.com/01/en-ie/BBHzIAS?ocid=st: brought stunning rare wolf moon light sky monday evening lunar cycle cycle align astronomical treat ,\n",
      "  ...,\n",
      "  https://www.zerohedge.com/news/2018-01-08/credit-card-debt-hits-all-time-high-consumers-unleash-historic-shopping-spree: reason behind rebound economy explained word charge confirmation precisely happened november revolvi,\n",
      "  https://www.zerohedge.com/news/2018-01-08/grand-jury-empaneled-10-million-fraud-probe-involving-jane-and-bernie-sanders: fbi probe property deal orchestrated jane sander wife sen. bernie sander vt escalated reveals grand ,\n",
      "  https://www.zerohedge.com/news/2018-01-08/its-not-his-job-illinois-treasurer-plays-activist-college-savers-cash: authored mark via __netloc__ freedom information act request learned owns share stock illinois treas,\n",
      "  https://yaledailynews.com/blog/2018/01/06/yale-psychiatrist-met-with-congressmen-about-trumps-mental-health/: medicine psychiatrist bandy lee med visited washington d.c. brief lawmaker donald mental dec. lee me,\n",
      "  https://zdubbzattmom.wordpress.com/2018/01/03/ex-libris-the-eyes-of-madness-presents-2017s-bakers-dozen-zakks-favorite-reads-of-the-year/r: ever worried reviewing book thrilled posting star review book someone everyone love begin advance ca\n",
      "}\n"
     ]
    }
   ],
   "source": [
    "urlDocs = dict()\n",
    "for i in range(len(newsList)):\n",
    "    urlDocs[newsList[i]] = corpus[i]\n",
    "bp(urlDocs, 2, logger)"
   ]
  },
  {
   "cell_type": "code",
   "execution_count": 21,
   "metadata": {},
   "outputs": [
    {
     "name": "stdout",
     "output_type": "stream",
     "text": [
      "{\n",
      "  http://247wallst.com/special-report/2017/12/08/americas-25-dying-industries-2: (0, 54) 1.0\n",
      "(0, 89) 1.0\n",
      "(0, 93) 2.0\n",
      "(0, 98) 1.0\n",
      "(0, 117) 1.0\n",
      "(0, 124) 2.0\n",
      "(0, 128) 1.0\n",
      "(0, 131) 1.0\n",
      "...,\n",
      "  http://247wallst.com/special-report/2018/01/11/25-best-fitness-tech-gadgets/: (0, 1) 1.0\n",
      "(0, 23) 1.0\n",
      "(0, 32) 5.0\n",
      "(0, 47) 1.0\n",
      "(0, 52) 1.0\n",
      "(0, 54) 1.0\n",
      "(0, 73) 9.0\n",
      "(0, 83) 1.0\n",
      "(0, 8...,\n",
      "  http://a.msn.com/00/en-us/AAuyJLc?ocid=st: (0, 14) 2.0\n",
      "(0, 61) 14.0\n",
      "(0, 62) 1.0\n",
      "(0, 63) 1.0\n",
      "(0, 78) 1.0\n",
      "(0, 93) 1.0\n",
      "(0, 124) 1.0\n",
      "(0, 128) 1.0\n",
      "(...,\n",
      "  http://a.msn.com/00/en-us/BBHoy0Q?ocid=st: (0, 22) 2.0\n",
      "(0, 23) 1.0\n",
      "(0, 24) 1.0\n",
      "(0, 32) 12.0\n",
      "(0, 54) 2.0\n",
      "(0, 61) 2.0\n",
      "(0, 62) 2.0\n",
      "(0, 63) 2.0\n",
      "(0,...,\n",
      "  http://a.msn.com/01/en-ie/BBHzIAS?ocid=st: (0, 1) 1.0\n",
      "(0, 29) 1.0\n",
      "(0, 32) 1.0\n",
      "(0, 52) 1.0\n",
      "(0, 59) 3.0\n",
      "(0, 61) 1.0\n",
      "(0, 67) 1.0\n",
      "(0, 78) 1.0\n",
      "(0, 8...,\n",
      "  ...,\n",
      "  https://www.zerohedge.com/news/2018-01-08/credit-card-debt-hits-all-time-high-consumers-unleash-historic-shopping-spree: (0, 32) 2.0\n",
      "(0, 38) 1.0\n",
      "(0, 54) 1.0\n",
      "(0, 59) 1.0\n",
      "(0, 60) 1.0\n",
      "(0, 68) 1.0\n",
      "(0, 93) 8.0\n",
      "(0, 124) 8.0\n",
      "(0,...,\n",
      "  https://www.zerohedge.com/news/2018-01-08/grand-jury-empaneled-10-million-fraud-probe-involving-jane-and-bernie-sanders: (0, 22) 1.0\n",
      "(0, 54) 4.0\n",
      "(0, 55) 2.0\n",
      "(0, 59) 1.0\n",
      "(0, 61) 2.0\n",
      "(0, 62) 1.0\n",
      "(0, 64) 1.0\n",
      "(0, 68) 4.0\n",
      "(0, ...,\n",
      "  https://www.zerohedge.com/news/2018-01-08/its-not-his-job-illinois-treasurer-plays-activist-college-savers-cash: (0, 14) 2.0\n",
      "(0, 32) 1.0\n",
      "(0, 39) 1.0\n",
      "(0, 54) 10.0\n",
      "(0, 62) 2.0\n",
      "(0, 69) 1.0\n",
      "(0, 73) 2.0\n",
      "(0, 78) 2.0\n",
      "(0,...,\n",
      "  https://yaledailynews.com/blog/2018/01/06/yale-psychiatrist-met-with-congressmen-about-trumps-mental-health/: (0, 1) 1.0\n",
      "(0, 14) 1.0\n",
      "(0, 22) 3.0\n",
      "(0, 29) 1.0\n",
      "(0, 59) 1.0\n",
      "(0, 61) 2.0\n",
      "(0, 63) 2.0\n",
      "(0, 73) 1.0\n",
      "(0, 8...,\n",
      "  https://zdubbzattmom.wordpress.com/2018/01/03/ex-libris-the-eyes-of-madness-presents-2017s-bakers-dozen-zakks-favorite-reads-of-the-year/r: (0, 62) 1.0\n",
      "(0, 145) 6.0\n",
      "(0, 390) 1.0\n",
      "(0, 433) 1.0\n",
      "(0, 436) 1.0\n",
      "(0, 454) 2.0\n",
      "(0, 489) 1.0\n",
      "(0, 493) 1...\n",
      "}\n"
     ]
    }
   ],
   "source": [
    "urlHasedDocs = dict()\n",
    "for key in urlDocs.keys():\n",
    "    temp = []\n",
    "    temp.append(urlDocs[key])\n",
    "    urlHasedDocs[key], _  = hashIndex(temp, ' ')\n",
    "bp(urlHasedDocs)"
   ]
  },
  {
   "cell_type": "markdown",
   "metadata": {},
   "source": [
    "# news classification"
   ]
  },
  {
   "cell_type": "code",
   "execution_count": 22,
   "metadata": {},
   "outputs": [
    {
     "name": "stdout",
     "output_type": "stream",
     "text": [
      "[[ 0. 25.  0. ...  0. 21.  0.]]\n"
     ]
    }
   ],
   "source": [
    "# for userId in trainUsers.keys():\n",
    "query = np.zeros((1,7427))\n",
    "for url in evalData['trainUsers']['1198644368']:\n",
    "    query += urlHasedDocs[url].toarray() # sum the history urls of users\n",
    "bp(query,2)"
   ]
  },
  {
   "cell_type": "code",
   "execution_count": 23,
   "metadata": {},
   "outputs": [],
   "source": [
    "# test\n",
    "# p, h, y = load_hashed_data('/home/yuting/PycharmProjects/data/dssm_test_dev_sub.csv', data_size=None)\n",
    "p = np.tile(query,(1000,1))  # duplicate for 1000 times to match the number of candidates\n",
    "\n",
    "# get h\n",
    "h = np.zeros((1,7427))\n",
    "for url in evalData['candidates']['1198644368'][0]:\n",
    "    h_temp = urlHasedDocs[url].toarray()\n",
    "    h = np.vstack((h,h_temp))\n",
    "h = h[1:]               # cut off the first element\n",
    "    \n",
    "# h = urlHasedDocs['http://a.msn.com/01/en-ie/BBHzIAS?ocid=st'].toarray()\n",
    "y = np.zeros((1000))"
   ]
  },
  {
   "cell_type": "code",
   "execution_count": 24,
   "metadata": {},
   "outputs": [
    {
     "name": "stdout",
     "output_type": "stream",
     "text": [
      "WARNING:tensorflow:From /home/yuting/PycharmProjects/Twinews/twinews/yfnotebooks/dssm/graph.py:24: dense (from tensorflow.python.layers.core) is deprecated and will be removed in a future version.\n",
      "Instructions for updating:\n",
      "Use keras.layers.Dense instead.\n",
      "WARNING:tensorflow:From /home/yuting/anaconda3/lib/python3.7/site-packages/tensorflow_core/python/layers/core.py:187: Layer.apply (from tensorflow.python.keras.engine.base_layer) is deprecated and will be removed in a future version.\n",
      "Instructions for updating:\n",
      "Please use `layer.__call__` method instead.\n",
      "WARNING:tensorflow:From /home/yuting/PycharmProjects/Twinews/twinews/yfnotebooks/dssm/graph.py:21: calling dropout (from tensorflow.python.ops.nn_ops) with keep_prob is deprecated and will be removed in a future version.\n",
      "Instructions for updating:\n",
      "Please use `rate` instead of `keep_prob`. Rate should be set to `rate = 1 - keep_prob`.\n",
      "WARNING:tensorflow:From /home/yuting/PycharmProjects/Twinews/twinews/yfnotebooks/dssm/graph.py:61: softmax_cross_entropy_with_logits (from tensorflow.python.ops.nn_ops) is deprecated and will be removed in a future version.\n",
      "Instructions for updating:\n",
      "\n",
      "Future major versions of TensorFlow will allow gradients to flow\n",
      "into the labels input on backprop by default.\n",
      "\n",
      "See `tf.nn.softmax_cross_entropy_with_logits_v2`.\n",
      "\n",
      "INFO:tensorflow:Restoring parameters from /home/yuting/PycharmProjects/Twinews/twinews/yfnotebooks/dssm/output/dssm_9.ckpt\n"
     ]
    }
   ],
   "source": [
    "def computeSimilarity(p,h,y):\n",
    "    \n",
    "    tf.reset_default_graph() \n",
    "    model = Graph()\n",
    "    saver = tf.train.Saver()\n",
    "\n",
    "    with tf.Session()as sess:\n",
    "        sess.run(tf.global_variables_initializer())\n",
    "        saver.restore(sess, '/home/yuting/PycharmProjects/Twinews/twinews/yfnotebooks/dssm/output/dssm_9.ckpt')\n",
    "        loss, acc, logit = sess.run([model.loss, model.acc, model.logits],\n",
    "                             feed_dict={model.p: p,\n",
    "                                        model.h: h,\n",
    "                                        model.y: y,\n",
    "                                        model.keep_prob: 1})\n",
    "\n",
    "        #print('loss: ', loss, ' acc:', acc)\n",
    "        return logit\n",
    "logit = computeSimilarity(p,h,y)"
   ]
  },
  {
   "cell_type": "code",
   "execution_count": 73,
   "metadata": {},
   "outputs": [
    {
     "name": "stdout",
     "output_type": "stream",
     "text": [
      "INFO:tensorflow:Restoring parameters from /home/yuting/PycharmProjects/Twinews/twinews/yfnotebooks/dssm/output/dssm_9.ckpt\n",
      "INFO:tensorflow:Restoring parameters from /home/yuting/PycharmProjects/Twinews/twinews/yfnotebooks/dssm/output/dssm_9.ckpt\n",
      "INFO:tensorflow:Restoring parameters from /home/yuting/PycharmProjects/Twinews/twinews/yfnotebooks/dssm/output/dssm_9.ckpt\n",
      "INFO:tensorflow:Restoring parameters from /home/yuting/PycharmProjects/Twinews/twinews/yfnotebooks/dssm/output/dssm_9.ckpt\n",
      "INFO:tensorflow:Restoring parameters from /home/yuting/PycharmProjects/Twinews/twinews/yfnotebooks/dssm/output/dssm_9.ckpt\n",
      "INFO:tensorflow:Restoring parameters from /home/yuting/PycharmProjects/Twinews/twinews/yfnotebooks/dssm/output/dssm_9.ckpt\n",
      "INFO:tensorflow:Restoring parameters from /home/yuting/PycharmProjects/Twinews/twinews/yfnotebooks/dssm/output/dssm_9.ckpt\n",
      "INFO:tensorflow:Restoring parameters from /home/yuting/PycharmProjects/Twinews/twinews/yfnotebooks/dssm/output/dssm_9.ckpt\n",
      "INFO:tensorflow:Restoring parameters from /home/yuting/PycharmProjects/Twinews/twinews/yfnotebooks/dssm/output/dssm_9.ckpt\n",
      "INFO:tensorflow:Restoring parameters from /home/yuting/PycharmProjects/Twinews/twinews/yfnotebooks/dssm/output/dssm_9.ckpt\n"
     ]
    }
   ],
   "source": [
    "# rankings of the candidates\n",
    "rankings = dict()\n",
    "for usr in trainUsers.keys():\n",
    "    # get historical data as query(p)\n",
    "    query = np.zeros((1,7427))\n",
    "    for url in evalData['trainUsers'][usr]:\n",
    "        query += urlHasedDocs[url].toarray()\n",
    "        p = np.tile(query,(1000,1)) \n",
    "    usrRankings = []\n",
    "    for candidates in evalData['candidates'][usr]:\n",
    "        candidates = list(candidates)\n",
    "        # get 1000 h_doc as a list(h)\n",
    "        h = np.zeros((1,7427))\n",
    "        for url in candidates:\n",
    "            h_temp = urlHasedDocs[url].toarray()\n",
    "            h = np.vstack((h,h_temp))\n",
    "        h = h[1:]                                   # cut off the first element\n",
    "        y = np.zeros((1000))\n",
    "        scoresCandidates = []\n",
    "        logit = computeSimilarity(p,h,y)            # get the 1000 scores list\n",
    "        scoresCandidates = zip(candidates,list(logit[:,0]))\n",
    "        ranking = sortBy(scoresCandidates, index=1, desc=True)\n",
    "        ranking = [e[0] for e in ranking]\n",
    "        usrRankings.append(ranking)\n",
    "    rankings[usr] = usrRankings"
   ]
  },
  {
   "cell_type": "code",
   "execution_count": 74,
   "metadata": {},
   "outputs": [
    {
     "name": "stdout",
     "output_type": "stream",
     "text": [
      "{\n",
      "  1198644368: \n",
      "  [\n",
      "    [\n",
      "      http://tinyurl.com/ycvt6rp5,\n",
      "      https://www.bizjournals.com/nashville/news/2018/01/11/who-would-play-nashvilles-ceos-in-the-movies-c,\n",
      "      ...,\n",
      "      https://www.washingtonpost.com/lifestyle/magazine/dave-barrys-year-in-review-russia-mania-covfefe-an,\n",
      "      https://www.hrw.org/report/2007/09/11/no-easy-answers/sex-offender-laws-us\n",
      "    ]\n",
      "  ],\n",
      "  21379050: \n",
      "  [\n",
      "    [\n",
      "      https://www.wsj.com/articles/the-great-rules-rollback-1514237372,\n",
      "      http://www.telegraph.co.uk/news/2017/12/31/ministers-use-artificial-intelligence-target-mass-benefit,\n",
      "      ...,\n",
      "      http://time.com/69316/basic/,\n",
      "      http://ow.ly/YTHL30hlDxp\n",
      "    ]\n",
      "  ],\n",
      "  2617447752: \n",
      "  [\n",
      "    [\n",
      "      https://www.csindy.com/SideDish/archives/2017/12/29/mccabes-to-close-become-streetcar-520,\n",
      "      https://pamboyd.wordpress.com/2018/01/02/while-thinking-over-2017/,\n",
      "      ...,\n",
      "      https://www.theatlantic.com/magazine/archive/1901/01/the-reconstruction-of-the-southern-states/52003,\n",
      "      http://nymag.com/daily/intelligencer/2017/08/felix-sater-donald-trump-russia-investigation.html\n",
      "    ]\n",
      "  ],\n",
      "  2786961721: \n",
      "  [\n",
      "    [\n",
      "      https://katboniface.wordpress.com/2017/12/29/washington-county-mfa/,\n",
      "      https://www.wbez.org/shows/making-oprah/71b8de57-b2be-4e03-8481-683258de3ec1,\n",
      "      ...,\n",
      "      http://bit.ly/2CdSx8j,\n",
      "      http://bit.ly/2CWpqLr\n",
      "    ]\n",
      "  ],\n",
      "  3075850549: \n",
      "  [\n",
      "    [\n",
      "      https://usat.ly/2lpRjR3,\n",
      "      https://www.popsugar.com/fitness/Instant-Pot-Recipes-Weight-Loss-44376083,\n",
      "      ...,\n",
      "      https://lnkd.in/e7xzUrJ,\n",
      "      http://nyti.ms/2qbFSRZ\n",
      "    ]\n",
      "  ],\n",
      "  3223646504: \n",
      "  [\n",
      "    [\n",
      "      http://a.msn.com/07/en-my/BBH5hih?ocid=st,\n",
      "      https://zdubbzattmom.wordpress.com/2018/01/03/ex-libris-the-eyes-of-madness-presents-2017s-bakers-do,\n",
      "      ...,\n",
      "      http://ow.ly/jaE030hp6LL,\n",
      "      https://features.propublica.org/tyler-haire-mississippi/tyler-haire-mississippi-mental-health-evalua\n",
      "    ]\n",
      "  ],\n",
      "  62594694: \n",
      "  [\n",
      "    [\n",
      "      http://www.kvoa.com/story/37180975/waiter-gets-a-tip-he-can-drive-home,\n",
      "      https://www.theatlantic.com/video/index/513629/fired-up-ready-to-go/?utm_source=twb,\n",
      "      ...,\n",
      "      https://academic.oup.com/qje/article/133/1/191/4060073,\n",
      "      https://mphmusicblog.wordpress.com/2017/12/23/the-mph-top-50-the-50-best-alternative-indie-songs-of-\n",
      "    ]\n",
      "  ],\n",
      "  790664132: \n",
      "  [\n",
      "    [\n",
      "      http://m.arkansasonline.com/news/2018/jan/10/sweet-second-helpings-20180110/,\n",
      "      https://lnkd.in/guj8abY,\n",
      "      ...,\n",
      "      https://buff.ly/2Dpi9Ra,\n",
      "      http://bit.ly/2qoqFvg\n",
      "    ]\n",
      "  ],\n",
      "  839264223741956096: \n",
      "  [\n",
      "    [\n",
      "      https://vincentbaxter.wordpress.com/2017/12/31/ways-to-approach-community-building/,\n",
      "      http://bit.ly/2t8hs8K,\n",
      "      ...,\n",
      "      https://medium.com/the-mission/lost-on-purpose-57fe85481671,\n",
      "      https://www.vanityfair.com/culture/2012/05/costa-concordia-sinking-scandal-italy\n",
      "    ]\n",
      "  ],\n",
      "  97081361: \n",
      "  [\n",
      "    [\n",
      "      https://www.independent.ie/world-news/north-america/president-trump/review-first-look-at-book-fire-a,\n",
      "      http://bit.ly/2qQDhwX,\n",
      "      ...,\n",
      "      http://www.pbs.org/wgbh/americanexperience/films/gilded-age/?utm_source=FBPAGE&utm_medium=social&utm,\n",
      "      https://www.washingtonpost.com/news/powerpost/paloma/daily-202/2018/01/05/daily-202-trump-administra\n",
      "    ]\n",
      "  ]\n",
      "}\n"
     ]
    }
   ],
   "source": [
    "bp(rankings,2)"
   ]
  },
  {
   "cell_type": "code",
   "execution_count": 77,
   "metadata": {},
   "outputs": [],
   "source": [
    "checkRankings(rankings,evalData['candidates'],maxUsers=None)"
   ]
  },
  {
   "cell_type": "code",
   "execution_count": 76,
   "metadata": {},
   "outputs": [
    {
     "name": "stderr",
     "output_type": "stream",
     "text": [
      "Exception type: <class 'Exception'>\n",
      "Exception: DSSM_yf-d9604 is already in the database.\n",
      "Traceback (most recent call last):\n",
      "  File \"/home/yuting/PycharmProjects/Twinews/twinews/utils.py\", line 341, in addRanking\n",
      "    raise Exception(key + \" is already in the database.\",)\n",
      "Exception: DSSM_yf-d9604 is already in the database.\n",
      "\n"
     ]
    }
   ],
   "source": [
    "addRanking(modelName, rankings, config, logger=logger)"
   ]
  },
  {
   "cell_type": "code",
   "execution_count": 56,
   "metadata": {},
   "outputs": [
    {
     "data": {
      "text/plain": [
       "'DSSM_yf'"
      ]
     },
     "execution_count": 56,
     "metadata": {},
     "output_type": "execute_result"
    }
   ],
   "source": [
    "modelName"
   ]
  },
  {
   "cell_type": "markdown",
   "metadata": {},
   "source": [
    "# Extra notes"
   ]
  },
  {
   "cell_type": "code",
   "execution_count": 36,
   "metadata": {},
   "outputs": [
    {
     "data": {
      "text/plain": [
       "(1, 5)"
      ]
     },
     "execution_count": 36,
     "metadata": {},
     "output_type": "execute_result"
    }
   ],
   "source": [
    "a = np.array([[1,2,3,4,5]])\n",
    "a.shape"
   ]
  },
  {
   "cell_type": "code",
   "execution_count": 51,
   "metadata": {},
   "outputs": [],
   "source": [
    "b = np.tile(a,(5,1))"
   ]
  },
  {
   "cell_type": "code",
   "execution_count": 59,
   "metadata": {},
   "outputs": [
    {
     "data": {
      "text/plain": [
       "(6, 5)"
      ]
     },
     "execution_count": 59,
     "metadata": {},
     "output_type": "execute_result"
    }
   ],
   "source": [
    "b.shape"
   ]
  },
  {
   "cell_type": "code",
   "execution_count": null,
   "metadata": {},
   "outputs": [],
   "source": [
    "# rankings of the candidates\n",
    "rankings = dict()\n",
    "for usr in trainUsers.keys():\n",
    "    query = np.zeros((1,7427))\n",
    "    for url in evalData['trainUsers'][usr]:\n",
    "        query += urlHasedDocs[url].toarray()\n",
    "    usrRankings = []\n",
    "    for candidates in evalData['candidates'][usr]:\n",
    "        candidates = list(candidates)\n",
    "        scoresCandidates = []\n",
    "        for i in range(len(candidates)):\n",
    "            candidateHashed = urlHasedDocs[candidates[i]].toarray()\n",
    "            logit = computeSimilarity(query, candidateHashed, 0)\n",
    "            score = logit[0][0]\n",
    "            # score = 1\n",
    "            scoresCandidates.append((candidates[i], score))\n",
    "        ranking = sortBy(scoresCandidates, index=1, desc=True)\n",
    "        ranking = [e[0] for e in ranking]\n",
    "        usrRankings.append(ranking)\n",
    "    rankings[usr] = usrRankings"
   ]
  }
 ],
 "metadata": {
  "kernelspec": {
   "display_name": "Python 3",
   "language": "python",
   "name": "python3"
  },
  "language_info": {
   "codemirror_mode": {
    "name": "ipython",
    "version": 3
   },
   "file_extension": ".py",
   "mimetype": "text/x-python",
   "name": "python",
   "nbconvert_exporter": "python",
   "pygments_lexer": "ipython3",
   "version": "3.7.4"
  },
  "pycharm": {
   "stem_cell": {
    "cell_type": "raw",
    "metadata": {
     "collapsed": false
    },
    "source": []
   }
  }
 },
 "nbformat": 4,
 "nbformat_minor": 1
}
