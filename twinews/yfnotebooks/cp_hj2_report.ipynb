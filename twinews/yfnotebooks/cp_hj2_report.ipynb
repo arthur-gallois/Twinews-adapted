{
 "cells": [
  {
   "cell_type": "code",
   "execution_count": null,
   "metadata": {
    "collapsed": true
   },
   "outputs": [],
   "source": []
  },
  {
   "cell_type": "markdown",
   "metadata": {},
   "source": [
    "This notebook allow you to print results of models in tables"
   ]
  },
  {
   "cell_type": "code",
   "execution_count": 1,
   "metadata": {
    "pycharm": {
     "name": "#%%\n"
    }
   },
   "outputs": [],
   "source": [
    "import os ; os.environ[\"CUDA_VISIBLE_DEVICES\"] = \"\"\n",
    "# import sys ; sys.path.append('/home/yuting/PycharmProjects/Twinews')\n",
    "# Instead the cli: conda develop ~/PycharmProjects/Twinews"
   ]
  },
  {
   "cell_type": "code",
   "execution_count": 2,
   "metadata": {
    "pycharm": {
     "name": "#%%\n"
    }
   },
   "outputs": [],
   "source": [
    "isNotebook = '__file__' not in locals()"
   ]
  },
  {
   "cell_type": "code",
   "execution_count": 3,
   "metadata": {
    "pycharm": {
     "name": "#%%\n"
    }
   },
   "outputs": [],
   "source": [
    "from systemtools.hayj import *\n",
    "from systemtools.location import *\n",
    "from systemtools.basics import *\n",
    "from systemtools.file import *\n",
    "from systemtools.printer import *\n",
    "from twinews.utils import *"
   ]
  },
  {
   "cell_type": "code",
   "execution_count": 4,
   "metadata": {
    "pycharm": {
     "name": "#%%\n"
    }
   },
   "outputs": [],
   "source": [
    "import pandas as pd\n",
    "from IPython.display import display, HTML"
   ]
  },
  {
   "cell_type": "code",
   "execution_count": 5,
   "metadata": {
    "pycharm": {
     "name": "#%%\n"
    }
   },
   "outputs": [],
   "source": [
    "def printResults\\\n",
    "(\n",
    "    model=None,\n",
    "    splitVersion=None,\n",
    "    metaFilter={}, # A dict that map field to mandatory values\n",
    "    metricsFilter=None, # A set of allowed metrics\n",
    "    noSubsampling=True,\n",
    "    logger=None,\n",
    "    sortBy=None,\n",
    "):\n",
    "    twinewsRankings = getTwinewsRankings(verbose=False)\n",
    "    twinewsScores = getTwinewsScores(verbose=False)\n",
    "    data = []\n",
    "    if noSubsampling and \"maxUsers\" not in metaFilter:\n",
    "        metaFilter = mergeDicts(metaFilter, {\"maxUsers\": None})\n",
    "    if model is not None and \"model\" not in metaFilter:\n",
    "        metaFilter = mergeDicts(metaFilter, {\"model\": model})\n",
    "    if splitVersion is not None and \"splitVersion\" not in metaFilter:\n",
    "        metaFilter = mergeDicts(metaFilter, {\"splitVersion\": splitVersion})\n",
    "    for key in twinewsRankings.keys():\n",
    "        toKeep = True\n",
    "        meta = twinewsRankings.getMeta(key)\n",
    "        if 'historyRef' in meta:\n",
    "            meta['historyRef'] = str(meta['historyRef'])\n",
    "        for filtKey in metaFilter:\n",
    "            if filtKey not in meta:\n",
    "                raise Exception(filtKey + \"is not in \" + b(meta, 5))\n",
    "            if metaFilter[filtKey] != meta[filtKey]:\n",
    "                toKeep = False\n",
    "                break\n",
    "        if toKeep:\n",
    "            data.append(meta)\n",
    "    if len(data) == 0:\n",
    "        log(\"No data found\", logger)\n",
    "    else:\n",
    "        try:\n",
    "            refKeys = data[0].keys()\n",
    "            for e in data:\n",
    "                assert e.keys() == refKeys\n",
    "        except:\n",
    "            raise Exception(\"Some data keys doesn't match:\\n\" + b(data, 5))\n",
    "        if len(data) > 1:\n",
    "            keysHavingSameValues = set(data[0].keys())\n",
    "            baseValues = data[0]\n",
    "            for current in data[1:]:\n",
    "                for key in baseValues.keys():\n",
    "                    if key in keysHavingSameValues and baseValues[key] != current[key]:\n",
    "                        keysHavingSameValues.remove(key)\n",
    "            sameValues = dict()\n",
    "            for key in keysHavingSameValues:\n",
    "                sameValues[key] = data[0][key]\n",
    "            log(\"These values are common to all rows:\\n\", logger)\n",
    "            for key, value in sameValues.items():\n",
    "                log(\"\\t- \" + str(key) + \": \" + str(value), logger)\n",
    "            for i in range(len(data)):\n",
    "                for key in keysHavingSameValues:\n",
    "                    del data[i][key]\n",
    "        # We add scores:\n",
    "        metrics = set()\n",
    "        for current in data:\n",
    "            key = current['id']\n",
    "            scores = twinewsScores.find({'id': key})\n",
    "            for score in scores:\n",
    "                metrics.add(score['metric'])\n",
    "                current[score['metric']] = score['score']\n",
    "        if len(metrics) > 0:\n",
    "            metrics = sorted(list(metrics))\n",
    "            if sortBy is None:\n",
    "                sortBy = metrics[0]\n",
    "        else:\n",
    "            metrics = []\n",
    "        df = pd.DataFrame(data)\n",
    "        df = reorderDFColumns(df, start=['id'], end=metrics)\n",
    "        if sortBy not in df.columns:\n",
    "            sortBy = None\n",
    "        if sortBy is not None:\n",
    "            df.sort_values(sortBy, ascending=False, inplace=True)\n",
    "        display(df)\n",
    "        return df"
   ]
  },
  {
   "cell_type": "code",
   "execution_count": 7,
   "metadata": {
    "pycharm": {
     "name": "#%%\n"
    }
   },
   "outputs": [
    {
     "name": "stdout",
     "output_type": "stream",
     "text": [
      "These values are common to all rows:\n",
      "\n",
      "\t- maxUsers: None\n",
      "\t- splitVersion: 2\n",
      "\t- useExtraNews: False\n",
      "\t- ldaLearningMethod: online\n",
      "\t- model: lda\n",
      "\t- maxDF: 300\n",
      "\t- lowercase: True\n",
      "\t- ldaLearningDecay: 0.7\n"
     ]
    },
    {
     "ename": "NameError",
     "evalue": "name 'reorderDFColumns' is not defined",
     "output_type": "error",
     "traceback": [
      "\u001b[0;31m---------------------------------------------------------------------------\u001b[0m",
      "\u001b[0;31mNameError\u001b[0m                                 Traceback (most recent call last)",
      "\u001b[0;32m<ipython-input-7-f345491c3dcb>\u001b[0m in \u001b[0;36m<module>\u001b[0;34m\u001b[0m\n\u001b[1;32m      9\u001b[0m     },\n\u001b[1;32m     10\u001b[0m     \u001b[0mmetricsFilter\u001b[0m\u001b[0;34m=\u001b[0m\u001b[0;34m{\u001b[0m\u001b[0;34m'ndcg'\u001b[0m\u001b[0;34m,\u001b[0m \u001b[0;34m'ndcg@10'\u001b[0m\u001b[0;34m}\u001b[0m\u001b[0;34m,\u001b[0m\u001b[0;34m\u001b[0m\u001b[0;34m\u001b[0m\u001b[0m\n\u001b[0;32m---> 11\u001b[0;31m     \u001b[0msortBy\u001b[0m\u001b[0;34m=\u001b[0m\u001b[0;34m'ndcg'\u001b[0m\u001b[0;34m,\u001b[0m\u001b[0;34m\u001b[0m\u001b[0;34m\u001b[0m\u001b[0m\n\u001b[0m\u001b[1;32m     12\u001b[0m )\n",
      "\u001b[0;32m<ipython-input-5-bc8dc27a4bb0>\u001b[0m in \u001b[0;36mprintResults\u001b[0;34m(model, splitVersion, metaFilter, metricsFilter, noSubsampling, logger, sortBy)\u001b[0m\n\u001b[1;32m     71\u001b[0m             \u001b[0mmetrics\u001b[0m \u001b[0;34m=\u001b[0m \u001b[0;34m[\u001b[0m\u001b[0;34m]\u001b[0m\u001b[0;34m\u001b[0m\u001b[0;34m\u001b[0m\u001b[0m\n\u001b[1;32m     72\u001b[0m         \u001b[0mdf\u001b[0m \u001b[0;34m=\u001b[0m \u001b[0mpd\u001b[0m\u001b[0;34m.\u001b[0m\u001b[0mDataFrame\u001b[0m\u001b[0;34m(\u001b[0m\u001b[0mdata\u001b[0m\u001b[0;34m)\u001b[0m\u001b[0;34m\u001b[0m\u001b[0;34m\u001b[0m\u001b[0m\n\u001b[0;32m---> 73\u001b[0;31m         \u001b[0mdf\u001b[0m \u001b[0;34m=\u001b[0m \u001b[0mreorderDFColumns\u001b[0m\u001b[0;34m(\u001b[0m\u001b[0mdf\u001b[0m\u001b[0;34m,\u001b[0m \u001b[0mstart\u001b[0m\u001b[0;34m=\u001b[0m\u001b[0;34m[\u001b[0m\u001b[0;34m'id'\u001b[0m\u001b[0;34m]\u001b[0m\u001b[0;34m,\u001b[0m \u001b[0mend\u001b[0m\u001b[0;34m=\u001b[0m\u001b[0mmetrics\u001b[0m\u001b[0;34m)\u001b[0m\u001b[0;34m\u001b[0m\u001b[0;34m\u001b[0m\u001b[0m\n\u001b[0m\u001b[1;32m     74\u001b[0m         \u001b[0;32mif\u001b[0m \u001b[0msortBy\u001b[0m \u001b[0;32mnot\u001b[0m \u001b[0;32min\u001b[0m \u001b[0mdf\u001b[0m\u001b[0;34m.\u001b[0m\u001b[0mcolumns\u001b[0m\u001b[0;34m:\u001b[0m\u001b[0;34m\u001b[0m\u001b[0;34m\u001b[0m\u001b[0m\n\u001b[1;32m     75\u001b[0m             \u001b[0msortBy\u001b[0m \u001b[0;34m=\u001b[0m \u001b[0;32mNone\u001b[0m\u001b[0;34m\u001b[0m\u001b[0;34m\u001b[0m\u001b[0m\n",
      "\u001b[0;31mNameError\u001b[0m: name 'reorderDFColumns' is not defined"
     ]
    }
   ],
   "source": [
    "df = printResults\\\n",
    "(\n",
    "    model='lda',\n",
    "    splitVersion=2,\n",
    "    noSubsampling=True,\n",
    "    metaFilter=\\\n",
    "    {\n",
    "        # \"implementation\": \"gensim-lda\",\n",
    "    },\n",
    "    metricsFilter={'ndcg', 'ndcg@10'},\n",
    "    sortBy='ndcg',\n",
    ")"
   ]
  },
  {
   "cell_type": "code",
   "execution_count": null,
   "metadata": {
    "pycharm": {
     "name": "#%%\n"
    }
   },
   "outputs": [],
   "source": [
    "\n",
    "\n"
   ]
  }
 ],
 "metadata": {
  "kernelspec": {
   "display_name": "Python 3",
   "language": "python",
   "name": "python3"
  },
  "language_info": {
   "codemirror_mode": {
    "name": "ipython",
    "version": 3
   },
   "file_extension": ".py",
   "mimetype": "text/x-python",
   "name": "python",
   "nbconvert_exporter": "python",
   "pygments_lexer": "ipython3",
   "version": "3.7.4"
  },
  "pycharm": {
   "stem_cell": {
    "cell_type": "raw",
    "metadata": {
     "collapsed": false
    },
    "source": []
   }
  }
 },
 "nbformat": 4,
 "nbformat_minor": 1
}
