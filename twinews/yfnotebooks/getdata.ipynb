{
 "cells": [
  {
   "cell_type": "code",
   "execution_count": 2,
   "metadata": {
    "pycharm": {
     "is_executing": false
    }
   },
   "outputs": [],
   "source": [
    "from systemtools.hayj import *\n",
    "from systemtools.location import *\n",
    "from systemtools.basics import *\n",
    "from systemtools.file import *\n",
    "from systemtools.printer import *\n",
    "from databasetools.mongo import *\n",
    "from newstools.goodarticle.utils import *\n",
    "from nlptools.preprocessing import *\n",
    "from nlptools.news import parser as newsParser\n",
    "from machinelearning.iterator import *\n",
    "import pymongo"
   ]
  },
  {
   "cell_type": "code",
   "execution_count": 3,
   "metadata": {
    "pycharm": {
     "is_executing": false,
     "name": "#%%\n"
    }
   },
   "outputs": [
    {
     "name": "stdout",
     "output_type": "stream",
     "text": [
      "['/home/yuting/PycharmProjects/Twinews/twinews/yfnotebooks', '/home/yuting/anaconda3/lib/python37.zip', '/home/yuting/anaconda3/lib/python3.7', '/home/yuting/anaconda3/lib/python3.7/lib-dynload', '', '/home/yuting/anaconda3/lib/python3.7/site-packages', '/home/yuting/anaconda3/lib/python3.7/site-packages/shap-0.34.0-py3.7-linux-x86_64.egg', '/home/yuting/anaconda3/lib/python3.7/site-packages/IPython/extensions', '/home/yuting/.ipython', '/home/yuting/PycharmProjects/Twinews']\n"
     ]
    }
   ],
   "source": [
    "import sys ; sys.path.append('/home/yuting/PycharmProjects/Twinews')\n",
    "print(sys.path)"
   ]
  },
  {
   "cell_type": "code",
   "execution_count": 4,
   "metadata": {
    "pycharm": {
     "is_executing": false,
     "name": "#%%\n"
    }
   },
   "outputs": [],
   "source": [
    "from systemtools.printer import bp\n",
    "from twinews.utils import *"
   ]
  },
  {
   "cell_type": "code",
   "execution_count": 5,
   "metadata": {},
   "outputs": [],
   "source": [
    "import pandas as pd\n",
    "import json"
   ]
  },
  {
   "cell_type": "code",
   "execution_count": 6,
   "metadata": {
    "pycharm": {
     "is_executing": false,
     "name": "#%%\n"
    }
   },
   "outputs": [
    {
     "name": "stdout",
     "output_type": "stream",
     "text": [
      "twinews users (version 1.0) initialised.\n"
     ]
    }
   ],
   "source": [
    "ConnUsers = getUsersCollection()"
   ]
  },
  {
   "cell_type": "code",
   "execution_count": 7,
   "metadata": {
    "pycharm": {
     "is_executing": false,
     "name": "#%%\n"
    }
   },
   "outputs": [
    {
     "name": "stdout",
     "output_type": "stream",
     "text": [
      "{\n",
      "  _id: 5e70d82b137cc1977b96bf08,\n",
      "  avatar: https://pbs.twimg.com/profile_images/936722955576528896/K96M4i6t_400x400.jpg,\n",
      "  bio: Current: Co-Founder @sportsilab | Past: Co-Founder @Stattleship | COO @Comlinkdata | Founder of @Cit,\n",
      "  consecutive_old_tweets: 6,\n",
      "  datasetRelevanceScore: 0.78,\n",
      "  ...,\n",
      "  user_twitter_website: https://t.co/fhEM0aojoo,\n",
      "  user_website: http://www.sportsilab.com,\n",
      "  username: JoshuaWalker_,\n",
      "  verified: False,\n",
      "  version: 1.0\n",
      "}\n",
      "None\n"
     ]
    }
   ],
   "source": [
    "for row in ConnUsers.find({\"name\":'Josh Walker'}):\n",
    "    print(bp(row))"
   ]
  },
  {
   "cell_type": "code",
   "execution_count": 8,
   "metadata": {},
   "outputs": [
    {
     "name": "stdout",
     "output_type": "stream",
     "text": [
      "twinews news (version 1.0) initialised.\n"
     ]
    }
   ],
   "source": [
    "ConnNews = getNewsCollection()"
   ]
  },
  {
   "cell_type": "code",
   "execution_count": 9,
   "metadata": {
    "pycharm": {
     "name": "#%%\n"
    }
   },
   "outputs": [],
   "source": [
    "def readMongo(con,myquery):\n",
    "    output = []\n",
    "    try:\n",
    "        #myquery = {} # 查询条件\n",
    "        for item in con.find(myquery):\n",
    "            del item['_id']\n",
    "            output.append(item)\n",
    "        print ('data reading finished')\n",
    "    except Exception as e:\n",
    "        print (e)\n",
    "    \n",
    "    return output\n"
   ]
  },
  {
   "cell_type": "code",
   "execution_count": 10,
   "metadata": {},
   "outputs": [],
   "source": [
    "def getJson(con, myquery,table_name):\n",
    "    dataDir = '/home/yuting/PycharmProjects/data'\n",
    "    data = readMongo(con,myquery)\n",
    "    with open(dataDir + \"/\" + table_name + '.json', 'w', encoding=\"UTF-8\") as jf:\n",
    "        jf.write(json.dumps(data, indent=2))    "
   ]
  },
  {
   "cell_type": "code",
   "execution_count": null,
   "metadata": {},
   "outputs": [
    {
     "name": "stdout",
     "output_type": "stream",
     "text": [
      "data reading finished\n"
     ]
    }
   ],
   "source": [
    "getJson(ConnNews,{},'news')"
   ]
  },
  {
   "cell_type": "code",
   "execution_count": 41,
   "metadata": {},
   "outputs": [
    {
     "name": "stdout",
     "output_type": "stream",
     "text": [
      "data reading finished\n"
     ]
    }
   ],
   "source": [
    "getJson(ConnUsers,{{},{\"user_id\":1},{\"news\":1}},'users_test')"
   ]
  }
 ],
 "metadata": {
  "kernelspec": {
   "display_name": "Python 3",
   "language": "python",
   "name": "python3"
  },
  "language_info": {
   "codemirror_mode": {
    "name": "ipython",
    "version": 3
   },
   "file_extension": ".py",
   "mimetype": "text/x-python",
   "name": "python",
   "nbconvert_exporter": "python",
   "pygments_lexer": "ipython3",
   "version": "3.7.4"
  },
  "pycharm": {
   "stem_cell": {
    "cell_type": "raw",
    "source": [],
    "metadata": {
     "collapsed": false
    }
   }
  }
 },
 "nbformat": 4,
 "nbformat_minor": 1
}