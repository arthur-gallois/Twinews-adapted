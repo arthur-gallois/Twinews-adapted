{
 "cells": [
  {
   "cell_type": "code",
   "execution_count": 2,
   "metadata": {
    "collapsed": true,
    "pycharm": {
     "is_executing": false
    }
   },
   "outputs": [],
   "source": [
    "from systemtools.hayj import *\n",
    "from systemtools.location import *\n",
    "from systemtools.basics import *\n",
    "from systemtools.file import *\n",
    "from systemtools.printer import *\n",
    "from databasetools.mongo import *\n",
    "from newstools.goodarticle.utils import *\n",
    "from nlptools.preprocessing import *\n",
    "from nlptools.news import parser as newsParser\n",
    "from machinelearning.iterator import *"
   ]
  },
  {
   "cell_type": "code",
   "execution_count": 3,
   "metadata": {
    "pycharm": {
     "is_executing": false
    }
   },
   "outputs": [],
   "source": [
    "import pickle\n",
    "import gzip\n",
    "import pymongo"
   ]
  },
  {
   "cell_type": "code",
   "execution_count": 4,
   "metadata": {
    "pycharm": {
     "is_executing": false
    }
   },
   "outputs": [],
   "source": [
    "import sys ; sys.path.append('/home/yuting/PycharmProjects/Twinews')"
   ]
  },
  {
   "cell_type": "code",
   "execution_count": 5,
   "metadata": {
    "pycharm": {
     "is_executing": false,
     "name": "#%%\n"
    }
   },
   "outputs": [],
   "source": [
    "from systemtools.printer import bp\n",
    "from twinews.utils import *"
   ]
  },
  {
   "cell_type": "code",
   "execution_count": 51,
   "metadata": {},
   "outputs": [],
   "source": [
    "def getEvalData_1_test(version):\n",
    "\tif isUser(\"yuting\"):\n",
    "\t\tpath_test = \"/home/yuting/PycharmProjects/data/twinews-splits/\"\n",
    "\t\tf = gzip.open(path_test + \"/v\" + str(version) + \".pickle.gzip\", 'rb')\n",
    "\t\tevalData = pickle.load(f)\n",
    "\t\tf.close()\n",
    "\t\treturn evalData\n"
   ]
  },
  {
   "cell_type": "code",
   "execution_count": 9,
   "metadata": {},
   "outputs": [],
   "source": [
    "def getEvalData(version):\n",
    "\tif isUser(\"hayj\"):\n",
    "\t\tif lri():\n",
    "\t\t\treturn deserialize(nosaveDir() + \"/twinews-splits/v\" + str(version) + \".pickle.gzip\")\n",
    "\t\telse:\n",
    "\t\t\ttwinewsSplitsDir = tmpDir(\"twinews-splits\")\n",
    "\t\t\tbash(\"rsync -avhuP --delete-after hayj@titanv.lri.fr:~/NoSave/twinews-splits/* \" + twinewsSplitsDir)\n",
    "\t\t\treturn deserialize(twinewsSplitsDir + \"/v\" + str(version) + \".pickle.gzip\")\n",
    "\telif \"yuting\" in getUser():\n",
    "        \n",
    "\t\tdirectoryPath = \"/home/yuting/PycharmProjects/data/twinews-splits/\"\n",
    "\t\treturn deserialize(directoryPath + \"/v\" + str(version) + \".pickle.gzip\")\n"
   ]
  },
  {
   "cell_type": "code",
   "execution_count": 6,
   "metadata": {
    "pycharm": {
     "is_executing": false
    }
   },
   "outputs": [
    {
     "name": "stdout",
     "text": [
      "receiving incremental file list\n",
      "\n",
      "sent 25 bytes  received 133 bytes  63.20 bytes/sec\n",
      "total size is 107.53M  speedup is 680,564.18\n",
      "--> tic: 7.29s | message: Eval data loaded\n",
      "--> toc total duration: 7.68s | message: Got Twinews evaluation data\n"
     ],
     "output_type": "stream"
    }
   ],
   "source": [
    "evalData2 = getEvalData(1, extraNewsCount=0, maxUsers=100)"
   ]
  },
  {
   "cell_type": "code",
   "execution_count": 14,
   "metadata": {
    "pycharm": {
     "is_executing": false
    }
   },
   "outputs": [
    {
     "name": "stdout",
     "output_type": "stream",
     "text": [
      "{\n",
      "  1038302288: \n",
      "  [\n",
      "    {\n",
      "      http://a.msn.com/00/en-us/BBJ6M54?ocid=st,\n",
      "      http://abc6.wjbf.com/2BReWfn,\n",
      "      ...,\n",
      "      https://www.wsws.org/en/articles/2018/01/27/nash-j27.html,\n",
      "      https://www.wthr.com/article/11-month-old-fishers-girl-faces-live-saving-surgery\n",
      "    }\n",
      "  ],\n",
      "  107463174: \n",
      "  [\n",
      "    {\n",
      "      http://a.msn.com/01/en-ca/BBIUGW2?ocid=st,\n",
      "      http://abcn.ws/2EPv3Ya,\n",
      "      ...,\n",
      "      https://www.zmescience.com/ecology/new-iron-curtain-falling-europe-coal-curtain/,\n",
      "      https://www.zmescience.com/other/feature-post/how-allergies-work/\n",
      "    }\n",
      "  ],\n",
      "  109645933: \n",
      "  [\n",
      "    {\n",
      "      http://a.msn.com/01/en-us/AAv6Yoa?ocid=st,\n",
      "      http://a.msn.com/0C/en-us/BBIKBuq?ocid=st,\n",
      "      ...,\n",
      "      https://yle.fi/uutiset/10025538,\n",
      "      https://zdubbzattmom.wordpress.com/2018/01/29/zakks-manifesto-or-hitting-the-reset-button-in-2018/\n",
      "    }\n",
      "  ],\n",
      "  117951378: \n",
      "  [\n",
      "    {\n",
      "      http://13wham.com/news/local/mayor-warren-irons-out-new-ideas-for-parcel-5,\n",
      "      http://a.msn.com/01/en-us/BBILjD4?ocid=st,\n",
      "      ...,\n",
      "      https://www.yahoo.com/sports/russia-banned-winter-olympics-still-showed-full-force-052325102.html?.t,\n",
      "      https://www.yourtango.com/2018310240/10-best-romance-novels-make-you-believe-love-again\n",
      "    }\n",
      "  ],\n",
      "  1266271586: \n",
      "  [\n",
      "    {\n",
      "      http://a.msn.com/01/en-us/AAuTdc8?ocid=st,\n",
      "      http://abcn.ws/2CieOBf,\n",
      "      ...,\n",
      "      https://www.wsj.com/articles/cvs-vows-to-stop-altering-beauty-images-in-its-marketing-1516022101,\n",
      "      https://www.wsj.com/articles/double-homicide-sends-shockwaves-through-changing-brooklyn-neighborhood\n",
      "    }\n",
      "  ],\n",
      "  ...,\n",
      "  916039424156221440: \n",
      "  [\n",
      "    {\n",
      "      http://a.msn.com/01/en-us/AAuWW6J?ocid=st,\n",
      "      http://a.msn.com/01/en-us/BBIzLyb?ocid=st,\n",
      "      ...,\n",
      "      https://www.yorkdispatch.com/story/sports/2018/02/12/glen-rocks-britcher-15th-out-30-after-first-lug,\n",
      "      https://www.zerohedge.com/news/2018-01-24/how-believing-socialism-can-make-you-miserable\n",
      "    }\n",
      "  ],\n",
      "  918272628913295361: \n",
      "  [\n",
      "    {\n",
      "      http://a.msn.com/00/en-us/AAuAIog?ocid=st,\n",
      "      http://a.msn.com/01/en-us/BBIkAYd?ocid=st,\n",
      "      ...,\n",
      "      https://www.yahoo.com/news/orrin-hatch-apos-vile-defense-204504380.html?soc_src=hl-viewer&soc_trk=tw,\n",
      "      https://www.zerohedge.com/news/2018-01-22/cryptos-are-crashing-again\n",
      "    }\n",
      "  ],\n",
      "  920164636955099136: \n",
      "  [\n",
      "    {\n",
      "      http://abcn.ws/1JSP4uO,\n",
      "      http://abcnews.go.com/Politics/donald-trump-deletes-tweet-jeb-bushs-wife/story?id=32256986,\n",
      "      ...,\n",
      "      https://www.yorkregion.com/sports-story/8100797-girls-set-to-stickhandle-to-silver-stick-honours-in-,\n",
      "      https://www.zmescience.com/science/anxiety-center-brain-01022018/\n",
      "    }\n",
      "  ],\n",
      "  933279439: \n",
      "  [\n",
      "    {\n",
      "      http://a.msn.com/00/en-us/BBIQDR5?ocid=st,\n",
      "      http://a.msn.com/01/en-us/BBIFykh?ocid=st,\n",
      "      ...,\n",
      "      https://www.yahoo.com/lifestyle/u-s-postal-service-new-silk-road-181638300.html?soc_src=community&so,\n",
      "      https://www.ydr.com/story/opinion/columnists/mike-argento/2018/01/19/transource-power-line-reps-alle\n",
      "    }\n",
      "  ],\n",
      "  956660994: \n",
      "  [\n",
      "    {\n",
      "      http://abc7news.com/2990018/,\n",
      "      http://abcn.ws/2Bpprld,\n",
      "      ...,\n",
      "      https://www.yahoo.com/entertainment/modern-family-mocks-gwyneth-paltrow-lifestyle-brand-goop-0616594,\n",
      "      https://www.yahoo.com/news/iowa-mom-gets-3-life-sentences-girls-starvation-174117400.html?.tsrc=faux\n",
      "    }\n",
      "  ]\n",
      "}\n"
     ]
    },
    {
     "data": {
      "text/plain": [
       "100"
      ]
     },
     "execution_count": 14,
     "metadata": {},
     "output_type": "execute_result"
    }
   ],
   "source": [
    "bp(evalData2['candidates'])\n",
    "len(evalData2['candidates'])"
   ]
  },
  {
   "cell_type": "code",
   "execution_count": 7,
   "metadata": {
    "pycharm": {
     "is_executing": false,
     "name": "#%%\n"
    }
   },
   "outputs": [
    {
     "data": {
      "text/plain": "dict_keys(['stats', 'created', 'ranksLength', 'trainNews', 'testNews', 'trainUsers', 'testUsers', 'candidates', 'extraNews'])"
     },
     "metadata": {},
     "output_type": "execute_result",
     "execution_count": 7
    }
   ],
   "source": [
    "evalData2.keys()"
   ]
  },
  {
   "cell_type": "code",
   "execution_count": 28,
   "metadata": {
    "pycharm": {
     "is_executing": false,
     "name": "#%%\n"
    }
   },
   "outputs": [
    {
     "data": {
      "text/plain": [
       "set()"
      ]
     },
     "execution_count": 28,
     "metadata": {},
     "output_type": "execute_result"
    }
   ],
   "source": [
    "evalData2['extraNews']"
   ]
  },
  {
   "cell_type": "code",
   "execution_count": 11,
   "metadata": {
    "pycharm": {
     "is_executing": false,
     "name": "#%%\n"
    }
   },
   "outputs": [
    {
     "name": "stdout",
     "text": [
      "Unable to create index user_id in twinews users\n"
     ],
     "output_type": "stream"
    },
    {
     "traceback": [
      "\u001b[0;31m---------------------------------------------------------------------------\u001b[0m",
      "\u001b[0;31mKeyboardInterrupt\u001b[0m                         Traceback (most recent call last)",
      "\u001b[0;32m<ipython-input-11-eff65388bf05>\u001b[0m in \u001b[0;36m<module>\u001b[0;34m\u001b[0m\n\u001b[0;32m----> 1\u001b[0;31m \u001b[0muserCollection\u001b[0m \u001b[0;34m=\u001b[0m \u001b[0mgetUsersCollection\u001b[0m\u001b[0;34m(\u001b[0m\u001b[0muser\u001b[0m\u001b[0;34m=\u001b[0m\u001b[0;34m'student'\u001b[0m\u001b[0;34m,\u001b[0m\u001b[0mpassword\u001b[0m\u001b[0;34m=\u001b[0m\u001b[0;34m'2969478245120469723597418'\u001b[0m\u001b[0;34m,\u001b[0m\u001b[0mhost\u001b[0m\u001b[0;34m=\u001b[0m\u001b[0;34m'127.0.0.1'\u001b[0m\u001b[0;34m)\u001b[0m\u001b[0;34m\u001b[0m\u001b[0;34m\u001b[0m\u001b[0m\n\u001b[0m\u001b[1;32m      2\u001b[0m \u001b[0;34m\u001b[0m\u001b[0m\n\u001b[1;32m      3\u001b[0m \u001b[0;34m\u001b[0m\u001b[0m\n",
      "\u001b[0;32m~/PycharmProjects/Twinews/twinews/utils.py\u001b[0m in \u001b[0;36mgetUsersCollection\u001b[0;34m(*args, **kwargs)\u001b[0m\n\u001b[1;32m     72\u001b[0m                 \u001b[0mindexOn\u001b[0m\u001b[0;34m=\u001b[0m\u001b[0;34m[\u001b[0m\u001b[0;34m\"user_id\"\u001b[0m\u001b[0;34m]\u001b[0m\u001b[0;34m,\u001b[0m\u001b[0;34m\u001b[0m\u001b[0;34m\u001b[0m\u001b[0m\n\u001b[1;32m     73\u001b[0m                 \u001b[0mindexNotUniqueOn\u001b[0m\u001b[0;34m=\u001b[0m\u001b[0;34m[\u001b[0m\u001b[0;34m\"datasetRelevanceScore\"\u001b[0m\u001b[0;34m,\u001b[0m \u001b[0;34m\"notBotScore\"\u001b[0m\u001b[0;34m,\u001b[0m \u001b[0;34m\"minTimestamp\"\u001b[0m\u001b[0;34m,\u001b[0m \u001b[0;34m\"maxTimestamp\"\u001b[0m\u001b[0;34m]\u001b[0m\u001b[0;34m,\u001b[0m\u001b[0;34m\u001b[0m\u001b[0;34m\u001b[0m\u001b[0m\n\u001b[0;32m---> 74\u001b[0;31m                 \u001b[0;34m**\u001b[0m\u001b[0mkwargs\u001b[0m\u001b[0;34m,\u001b[0m\u001b[0;34m\u001b[0m\u001b[0;34m\u001b[0m\u001b[0m\n\u001b[0m\u001b[1;32m     75\u001b[0m \t)\n\u001b[1;32m     76\u001b[0m \u001b[0;34m\u001b[0m\u001b[0m\n",
      "\u001b[0;32m~/anaconda3/lib/python3.7/site-packages/databasetools/mongo.py\u001b[0m in \u001b[0;36m__init__\u001b[0;34m(self, dbName, collectionName, version, indexOn, indexNotUniqueOn, giveTimestamp, giveHostname, verbose, logger, user, password, port, host, databaseRoot, hideIndexException, globalDumpStrategy)\u001b[0m\n\u001b[1;32m    158\u001b[0m \u001b[0;34m\u001b[0m\u001b[0m\n\u001b[1;32m    159\u001b[0m         \u001b[0;31m# And init the db :\u001b[0m\u001b[0;34m\u001b[0m\u001b[0;34m\u001b[0m\u001b[0;34m\u001b[0m\u001b[0m\n\u001b[0;32m--> 160\u001b[0;31m         \u001b[0mself\u001b[0m\u001b[0;34m.\u001b[0m\u001b[0minitDataBase\u001b[0m\u001b[0;34m(\u001b[0m\u001b[0;34m)\u001b[0m\u001b[0;34m\u001b[0m\u001b[0;34m\u001b[0m\u001b[0m\n\u001b[0m\u001b[1;32m    161\u001b[0m \u001b[0;34m\u001b[0m\u001b[0m\n\u001b[1;32m    162\u001b[0m     \u001b[0;32mdef\u001b[0m \u001b[0mcreateCompoundIndex\u001b[0m\u001b[0;34m(\u001b[0m\u001b[0mself\u001b[0m\u001b[0;34m,\u001b[0m \u001b[0mindexes\u001b[0m\u001b[0;34m,\u001b[0m \u001b[0munique\u001b[0m\u001b[0;34m=\u001b[0m\u001b[0;32mTrue\u001b[0m\u001b[0;34m,\u001b[0m \u001b[0mbackground\u001b[0m\u001b[0;34m=\u001b[0m\u001b[0;32mTrue\u001b[0m\u001b[0;34m)\u001b[0m\u001b[0;34m:\u001b[0m\u001b[0;34m\u001b[0m\u001b[0;34m\u001b[0m\u001b[0m\n",
      "\u001b[0;32m~/anaconda3/lib/python3.7/site-packages/databasetools/mongo.py\u001b[0m in \u001b[0;36minitDataBase\u001b[0;34m(self)\u001b[0m\n\u001b[1;32m    387\u001b[0m \u001b[0;31m#             for currentIndexOn in self.indexOn:\u001b[0m\u001b[0;34m\u001b[0m\u001b[0;34m\u001b[0m\u001b[0;34m\u001b[0m\u001b[0m\n\u001b[1;32m    388\u001b[0m \u001b[0;31m#                 self.collection.create_index(currentIndexOn, unique=True)\u001b[0m\u001b[0;34m\u001b[0m\u001b[0;34m\u001b[0m\u001b[0;34m\u001b[0m\u001b[0m\n\u001b[0;32m--> 389\u001b[0;31m         \u001b[0mself\u001b[0m\u001b[0;34m.\u001b[0m\u001b[0mcreateIndexes\u001b[0m\u001b[0;34m(\u001b[0m\u001b[0mself\u001b[0m\u001b[0;34m.\u001b[0m\u001b[0mindexNotUniqueOn\u001b[0m\u001b[0;34m,\u001b[0m \u001b[0munique\u001b[0m\u001b[0;34m=\u001b[0m\u001b[0;32mFalse\u001b[0m\u001b[0;34m)\u001b[0m\u001b[0;34m\u001b[0m\u001b[0;34m\u001b[0m\u001b[0m\n\u001b[0m\u001b[1;32m    390\u001b[0m \u001b[0;31m#         if self.indexNotUniqueOn is not None and len(self.indexNotUniqueOn) > 0:\u001b[0m\u001b[0;34m\u001b[0m\u001b[0;34m\u001b[0m\u001b[0;34m\u001b[0m\u001b[0m\n\u001b[1;32m    391\u001b[0m \u001b[0;31m#             for currentIndexOn in self.indexNotUniqueOn:\u001b[0m\u001b[0;34m\u001b[0m\u001b[0;34m\u001b[0m\u001b[0;34m\u001b[0m\u001b[0m\n",
      "\u001b[0;32m~/anaconda3/lib/python3.7/site-packages/databasetools/mongo.py\u001b[0m in \u001b[0;36mcreateIndexes\u001b[0;34m(self, *args, **kwargs)\u001b[0m\n\u001b[1;32m    181\u001b[0m \u001b[0;34m\u001b[0m\u001b[0m\n\u001b[1;32m    182\u001b[0m     \u001b[0;32mdef\u001b[0m \u001b[0mcreateIndexes\u001b[0m\u001b[0;34m(\u001b[0m\u001b[0mself\u001b[0m\u001b[0;34m,\u001b[0m \u001b[0;34m*\u001b[0m\u001b[0margs\u001b[0m\u001b[0;34m,\u001b[0m \u001b[0;34m**\u001b[0m\u001b[0mkwargs\u001b[0m\u001b[0;34m)\u001b[0m\u001b[0;34m:\u001b[0m\u001b[0;34m\u001b[0m\u001b[0;34m\u001b[0m\u001b[0m\n\u001b[0;32m--> 183\u001b[0;31m         \u001b[0mself\u001b[0m\u001b[0;34m.\u001b[0m\u001b[0mcreateIndex\u001b[0m\u001b[0;34m(\u001b[0m\u001b[0;34m*\u001b[0m\u001b[0margs\u001b[0m\u001b[0;34m,\u001b[0m \u001b[0;34m**\u001b[0m\u001b[0mkwargs\u001b[0m\u001b[0;34m)\u001b[0m\u001b[0;34m\u001b[0m\u001b[0;34m\u001b[0m\u001b[0m\n\u001b[0m\u001b[1;32m    184\u001b[0m     \u001b[0;32mdef\u001b[0m \u001b[0mcreateIndex\u001b[0m\u001b[0;34m(\u001b[0m\u001b[0mself\u001b[0m\u001b[0;34m,\u001b[0m \u001b[0mindexes\u001b[0m\u001b[0;34m,\u001b[0m \u001b[0munique\u001b[0m\u001b[0;34m=\u001b[0m\u001b[0;32mTrue\u001b[0m\u001b[0;34m,\u001b[0m \u001b[0mtype\u001b[0m\u001b[0;34m=\u001b[0m\u001b[0;32mNone\u001b[0m\u001b[0;34m,\u001b[0m \u001b[0mbackground\u001b[0m\u001b[0;34m=\u001b[0m\u001b[0;32mTrue\u001b[0m\u001b[0;34m)\u001b[0m\u001b[0;34m:\u001b[0m\u001b[0;34m\u001b[0m\u001b[0;34m\u001b[0m\u001b[0m\n\u001b[1;32m    185\u001b[0m         \"\"\"\n",
      "\u001b[0;32m~/anaconda3/lib/python3.7/site-packages/databasetools/mongo.py\u001b[0m in \u001b[0;36mcreateIndex\u001b[0;34m(self, indexes, unique, type, background)\u001b[0m\n\u001b[1;32m    195\u001b[0m                     self.collection.create_index(index,\n\u001b[1;32m    196\u001b[0m                                                  \u001b[0munique\u001b[0m\u001b[0;34m=\u001b[0m\u001b[0munique\u001b[0m\u001b[0;34m,\u001b[0m\u001b[0;34m\u001b[0m\u001b[0;34m\u001b[0m\u001b[0m\n\u001b[0;32m--> 197\u001b[0;31m                                                  background=background)\n\u001b[0m\u001b[1;32m    198\u001b[0m                 \u001b[0;32mexcept\u001b[0m \u001b[0mException\u001b[0m \u001b[0;32mas\u001b[0m \u001b[0me\u001b[0m\u001b[0;34m:\u001b[0m\u001b[0;34m\u001b[0m\u001b[0;34m\u001b[0m\u001b[0m\n\u001b[1;32m    199\u001b[0m                     \u001b[0;32mif\u001b[0m \u001b[0;32mnot\u001b[0m \u001b[0mself\u001b[0m\u001b[0;34m.\u001b[0m\u001b[0mindexExceptionAlreadyPrinted\u001b[0m \u001b[0;32mand\u001b[0m \u001b[0;32mnot\u001b[0m \u001b[0mself\u001b[0m\u001b[0;34m.\u001b[0m\u001b[0mhideIndexException\u001b[0m\u001b[0;34m:\u001b[0m\u001b[0;34m\u001b[0m\u001b[0;34m\u001b[0m\u001b[0m\n",
      "\u001b[0;32m~/anaconda3/lib/python3.7/site-packages/pymongo/collection.py\u001b[0m in \u001b[0;36mcreate_index\u001b[0;34m(self, keys, session, **kwargs)\u001b[0m\n\u001b[1;32m   1993\u001b[0m         \u001b[0;32mif\u001b[0m \u001b[0;34m\"maxTimeMS\"\u001b[0m \u001b[0;32min\u001b[0m \u001b[0mkwargs\u001b[0m\u001b[0;34m:\u001b[0m\u001b[0;34m\u001b[0m\u001b[0;34m\u001b[0m\u001b[0m\n\u001b[1;32m   1994\u001b[0m             \u001b[0mcmd_options\u001b[0m\u001b[0;34m[\u001b[0m\u001b[0;34m\"maxTimeMS\"\u001b[0m\u001b[0;34m]\u001b[0m \u001b[0;34m=\u001b[0m \u001b[0mkwargs\u001b[0m\u001b[0;34m.\u001b[0m\u001b[0mpop\u001b[0m\u001b[0;34m(\u001b[0m\u001b[0;34m\"maxTimeMS\"\u001b[0m\u001b[0;34m)\u001b[0m\u001b[0;34m\u001b[0m\u001b[0;34m\u001b[0m\u001b[0m\n\u001b[0;32m-> 1995\u001b[0;31m         \u001b[0mself\u001b[0m\u001b[0;34m.\u001b[0m\u001b[0m__create_index\u001b[0m\u001b[0;34m(\u001b[0m\u001b[0mkeys\u001b[0m\u001b[0;34m,\u001b[0m \u001b[0mkwargs\u001b[0m\u001b[0;34m,\u001b[0m \u001b[0msession\u001b[0m\u001b[0;34m,\u001b[0m \u001b[0;34m**\u001b[0m\u001b[0mcmd_options\u001b[0m\u001b[0;34m)\u001b[0m\u001b[0;34m\u001b[0m\u001b[0;34m\u001b[0m\u001b[0m\n\u001b[0m\u001b[1;32m   1996\u001b[0m         \u001b[0;32mreturn\u001b[0m \u001b[0mname\u001b[0m\u001b[0;34m\u001b[0m\u001b[0;34m\u001b[0m\u001b[0m\n\u001b[1;32m   1997\u001b[0m \u001b[0;34m\u001b[0m\u001b[0m\n",
      "\u001b[0;32m~/anaconda3/lib/python3.7/site-packages/pymongo/collection.py\u001b[0m in \u001b[0;36m__create_index\u001b[0;34m(self, keys, index_options, session, **kwargs)\u001b[0m\n\u001b[1;32m   1879\u001b[0m         \u001b[0mindex\u001b[0m\u001b[0;34m.\u001b[0m\u001b[0mupdate\u001b[0m\u001b[0;34m(\u001b[0m\u001b[0mindex_options\u001b[0m\u001b[0;34m)\u001b[0m\u001b[0;34m\u001b[0m\u001b[0;34m\u001b[0m\u001b[0m\n\u001b[1;32m   1880\u001b[0m \u001b[0;34m\u001b[0m\u001b[0m\n\u001b[0;32m-> 1881\u001b[0;31m         \u001b[0;32mwith\u001b[0m \u001b[0mself\u001b[0m\u001b[0;34m.\u001b[0m\u001b[0m_socket_for_writes\u001b[0m\u001b[0;34m(\u001b[0m\u001b[0msession\u001b[0m\u001b[0;34m)\u001b[0m \u001b[0;32mas\u001b[0m \u001b[0msock_info\u001b[0m\u001b[0;34m:\u001b[0m\u001b[0;34m\u001b[0m\u001b[0;34m\u001b[0m\u001b[0m\n\u001b[0m\u001b[1;32m   1882\u001b[0m             \u001b[0;32mif\u001b[0m \u001b[0mcollation\u001b[0m \u001b[0;32mis\u001b[0m \u001b[0;32mnot\u001b[0m \u001b[0;32mNone\u001b[0m\u001b[0;34m:\u001b[0m\u001b[0;34m\u001b[0m\u001b[0;34m\u001b[0m\u001b[0m\n\u001b[1;32m   1883\u001b[0m                 \u001b[0;32mif\u001b[0m \u001b[0msock_info\u001b[0m\u001b[0;34m.\u001b[0m\u001b[0mmax_wire_version\u001b[0m \u001b[0;34m<\u001b[0m \u001b[0;36m5\u001b[0m\u001b[0;34m:\u001b[0m\u001b[0;34m\u001b[0m\u001b[0;34m\u001b[0m\u001b[0m\n",
      "\u001b[0;32m~/anaconda3/lib/python3.7/site-packages/pymongo/collection.py\u001b[0m in \u001b[0;36m_socket_for_writes\u001b[0;34m(self, session)\u001b[0m\n\u001b[1;32m    193\u001b[0m \u001b[0;34m\u001b[0m\u001b[0m\n\u001b[1;32m    194\u001b[0m     \u001b[0;32mdef\u001b[0m \u001b[0m_socket_for_writes\u001b[0m\u001b[0;34m(\u001b[0m\u001b[0mself\u001b[0m\u001b[0;34m,\u001b[0m \u001b[0msession\u001b[0m\u001b[0;34m)\u001b[0m\u001b[0;34m:\u001b[0m\u001b[0;34m\u001b[0m\u001b[0;34m\u001b[0m\u001b[0m\n\u001b[0;32m--> 195\u001b[0;31m         \u001b[0;32mreturn\u001b[0m \u001b[0mself\u001b[0m\u001b[0;34m.\u001b[0m\u001b[0m__database\u001b[0m\u001b[0;34m.\u001b[0m\u001b[0mclient\u001b[0m\u001b[0;34m.\u001b[0m\u001b[0m_socket_for_writes\u001b[0m\u001b[0;34m(\u001b[0m\u001b[0msession\u001b[0m\u001b[0;34m)\u001b[0m\u001b[0;34m\u001b[0m\u001b[0;34m\u001b[0m\u001b[0m\n\u001b[0m\u001b[1;32m    196\u001b[0m \u001b[0;34m\u001b[0m\u001b[0m\n\u001b[1;32m    197\u001b[0m     def _command(self, sock_info, command, slave_ok=False,\n",
      "\u001b[0;32m~/anaconda3/lib/python3.7/site-packages/pymongo/mongo_client.py\u001b[0m in \u001b[0;36m_socket_for_writes\u001b[0;34m(self, session)\u001b[0m\n\u001b[1;32m   1264\u001b[0m \u001b[0;34m\u001b[0m\u001b[0m\n\u001b[1;32m   1265\u001b[0m     \u001b[0;32mdef\u001b[0m \u001b[0m_socket_for_writes\u001b[0m\u001b[0;34m(\u001b[0m\u001b[0mself\u001b[0m\u001b[0;34m,\u001b[0m \u001b[0msession\u001b[0m\u001b[0;34m)\u001b[0m\u001b[0;34m:\u001b[0m\u001b[0;34m\u001b[0m\u001b[0;34m\u001b[0m\u001b[0m\n\u001b[0;32m-> 1266\u001b[0;31m         \u001b[0mserver\u001b[0m \u001b[0;34m=\u001b[0m \u001b[0mself\u001b[0m\u001b[0;34m.\u001b[0m\u001b[0m_select_server\u001b[0m\u001b[0;34m(\u001b[0m\u001b[0mwritable_server_selector\u001b[0m\u001b[0;34m,\u001b[0m \u001b[0msession\u001b[0m\u001b[0;34m)\u001b[0m\u001b[0;34m\u001b[0m\u001b[0;34m\u001b[0m\u001b[0m\n\u001b[0m\u001b[1;32m   1267\u001b[0m         \u001b[0;32mreturn\u001b[0m \u001b[0mself\u001b[0m\u001b[0;34m.\u001b[0m\u001b[0m_get_socket\u001b[0m\u001b[0;34m(\u001b[0m\u001b[0mserver\u001b[0m\u001b[0;34m,\u001b[0m \u001b[0msession\u001b[0m\u001b[0;34m)\u001b[0m\u001b[0;34m\u001b[0m\u001b[0;34m\u001b[0m\u001b[0m\n\u001b[1;32m   1268\u001b[0m \u001b[0;34m\u001b[0m\u001b[0m\n",
      "\u001b[0;32m~/anaconda3/lib/python3.7/site-packages/pymongo/mongo_client.py\u001b[0m in \u001b[0;36m_select_server\u001b[0;34m(self, server_selector, session, address)\u001b[0m\n\u001b[1;32m   1251\u001b[0m                                         % address)\n\u001b[1;32m   1252\u001b[0m             \u001b[0;32melse\u001b[0m\u001b[0;34m:\u001b[0m\u001b[0;34m\u001b[0m\u001b[0;34m\u001b[0m\u001b[0m\n\u001b[0;32m-> 1253\u001b[0;31m                 \u001b[0mserver\u001b[0m \u001b[0;34m=\u001b[0m \u001b[0mtopology\u001b[0m\u001b[0;34m.\u001b[0m\u001b[0mselect_server\u001b[0m\u001b[0;34m(\u001b[0m\u001b[0mserver_selector\u001b[0m\u001b[0;34m)\u001b[0m\u001b[0;34m\u001b[0m\u001b[0;34m\u001b[0m\u001b[0m\n\u001b[0m\u001b[1;32m   1254\u001b[0m                 \u001b[0;31m# Pin this session to the selected server if it's performing a\u001b[0m\u001b[0;34m\u001b[0m\u001b[0;34m\u001b[0m\u001b[0;34m\u001b[0m\u001b[0m\n\u001b[1;32m   1255\u001b[0m                 \u001b[0;31m# sharded transaction.\u001b[0m\u001b[0;34m\u001b[0m\u001b[0;34m\u001b[0m\u001b[0;34m\u001b[0m\u001b[0m\n",
      "\u001b[0;32m~/anaconda3/lib/python3.7/site-packages/pymongo/topology.py\u001b[0m in \u001b[0;36mselect_server\u001b[0;34m(self, selector, server_selection_timeout, address)\u001b[0m\n\u001b[1;32m    233\u001b[0m         return random.choice(self.select_servers(selector,\n\u001b[1;32m    234\u001b[0m                                                  \u001b[0mserver_selection_timeout\u001b[0m\u001b[0;34m,\u001b[0m\u001b[0;34m\u001b[0m\u001b[0;34m\u001b[0m\u001b[0m\n\u001b[0;32m--> 235\u001b[0;31m                                                  address))\n\u001b[0m\u001b[1;32m    236\u001b[0m \u001b[0;34m\u001b[0m\u001b[0m\n\u001b[1;32m    237\u001b[0m     def select_server_by_address(self, address,\n",
      "\u001b[0;32m~/anaconda3/lib/python3.7/site-packages/pymongo/topology.py\u001b[0m in \u001b[0;36mselect_servers\u001b[0;34m(self, selector, server_selection_timeout, address)\u001b[0m\n\u001b[1;32m    191\u001b[0m         \u001b[0;32mwith\u001b[0m \u001b[0mself\u001b[0m\u001b[0;34m.\u001b[0m\u001b[0m_lock\u001b[0m\u001b[0;34m:\u001b[0m\u001b[0;34m\u001b[0m\u001b[0;34m\u001b[0m\u001b[0m\n\u001b[1;32m    192\u001b[0m             server_descriptions = self._select_servers_loop(\n\u001b[0;32m--> 193\u001b[0;31m                 selector, server_timeout, address)\n\u001b[0m\u001b[1;32m    194\u001b[0m \u001b[0;34m\u001b[0m\u001b[0m\n\u001b[1;32m    195\u001b[0m             return [self.get_server_by_address(sd.address)\n",
      "\u001b[0;32m~/anaconda3/lib/python3.7/site-packages/pymongo/topology.py\u001b[0m in \u001b[0;36m_select_servers_loop\u001b[0;34m(self, selector, timeout, address)\u001b[0m\n\u001b[1;32m    216\u001b[0m             \u001b[0;31m# came after our most recent apply_selector call, since we've\u001b[0m\u001b[0;34m\u001b[0m\u001b[0;34m\u001b[0m\u001b[0;34m\u001b[0m\u001b[0m\n\u001b[1;32m    217\u001b[0m             \u001b[0;31m# held the lock until now.\u001b[0m\u001b[0;34m\u001b[0m\u001b[0;34m\u001b[0m\u001b[0;34m\u001b[0m\u001b[0m\n\u001b[0;32m--> 218\u001b[0;31m             \u001b[0mself\u001b[0m\u001b[0;34m.\u001b[0m\u001b[0m_condition\u001b[0m\u001b[0;34m.\u001b[0m\u001b[0mwait\u001b[0m\u001b[0;34m(\u001b[0m\u001b[0mcommon\u001b[0m\u001b[0;34m.\u001b[0m\u001b[0mMIN_HEARTBEAT_INTERVAL\u001b[0m\u001b[0;34m)\u001b[0m\u001b[0;34m\u001b[0m\u001b[0;34m\u001b[0m\u001b[0m\n\u001b[0m\u001b[1;32m    219\u001b[0m             \u001b[0mself\u001b[0m\u001b[0;34m.\u001b[0m\u001b[0m_description\u001b[0m\u001b[0;34m.\u001b[0m\u001b[0mcheck_compatible\u001b[0m\u001b[0;34m(\u001b[0m\u001b[0;34m)\u001b[0m\u001b[0;34m\u001b[0m\u001b[0;34m\u001b[0m\u001b[0m\n\u001b[1;32m    220\u001b[0m             \u001b[0mnow\u001b[0m \u001b[0;34m=\u001b[0m \u001b[0m_time\u001b[0m\u001b[0;34m(\u001b[0m\u001b[0;34m)\u001b[0m\u001b[0;34m\u001b[0m\u001b[0;34m\u001b[0m\u001b[0m\n",
      "\u001b[0;32m~/anaconda3/lib/python3.7/threading.py\u001b[0m in \u001b[0;36mwait\u001b[0;34m(self, timeout)\u001b[0m\n\u001b[1;32m    298\u001b[0m             \u001b[0;32melse\u001b[0m\u001b[0;34m:\u001b[0m\u001b[0;34m\u001b[0m\u001b[0;34m\u001b[0m\u001b[0m\n\u001b[1;32m    299\u001b[0m                 \u001b[0;32mif\u001b[0m \u001b[0mtimeout\u001b[0m \u001b[0;34m>\u001b[0m \u001b[0;36m0\u001b[0m\u001b[0;34m:\u001b[0m\u001b[0;34m\u001b[0m\u001b[0;34m\u001b[0m\u001b[0m\n\u001b[0;32m--> 300\u001b[0;31m                     \u001b[0mgotit\u001b[0m \u001b[0;34m=\u001b[0m \u001b[0mwaiter\u001b[0m\u001b[0;34m.\u001b[0m\u001b[0macquire\u001b[0m\u001b[0;34m(\u001b[0m\u001b[0;32mTrue\u001b[0m\u001b[0;34m,\u001b[0m \u001b[0mtimeout\u001b[0m\u001b[0;34m)\u001b[0m\u001b[0;34m\u001b[0m\u001b[0;34m\u001b[0m\u001b[0m\n\u001b[0m\u001b[1;32m    301\u001b[0m                 \u001b[0;32melse\u001b[0m\u001b[0;34m:\u001b[0m\u001b[0;34m\u001b[0m\u001b[0;34m\u001b[0m\u001b[0m\n\u001b[1;32m    302\u001b[0m                     \u001b[0mgotit\u001b[0m \u001b[0;34m=\u001b[0m \u001b[0mwaiter\u001b[0m\u001b[0;34m.\u001b[0m\u001b[0macquire\u001b[0m\u001b[0;34m(\u001b[0m\u001b[0;32mFalse\u001b[0m\u001b[0;34m)\u001b[0m\u001b[0;34m\u001b[0m\u001b[0;34m\u001b[0m\u001b[0m\n",
      "\u001b[0;31mKeyboardInterrupt\u001b[0m: "
     ],
     "ename": "KeyboardInterrupt",
     "evalue": "",
     "output_type": "error"
    }
   ],
   "source": [
    "# userCollection = getUsersCollection(user='student',password='2969478245120469723597418',host='127.0.0.1')\n"
   ]
  },
  {
   "cell_type": "code",
   "execution_count": 10,
   "metadata": {
    "pycharm": {
     "is_executing": false,
     "name": "#%%\n"
    }
   },
   "outputs": [
    {
     "traceback": [
      "\u001b[0;31m---------------------------------------------------------------------------\u001b[0m",
      "\u001b[0;31mServerSelectionTimeoutError\u001b[0m               Traceback (most recent call last)",
      "\u001b[0;32m<ipython-input-10-e59f5dc1ef63>\u001b[0m in \u001b[0;36m<module>\u001b[0;34m\u001b[0m\n\u001b[0;32m----> 1\u001b[0;31m \u001b[0;32mfor\u001b[0m \u001b[0mrow\u001b[0m \u001b[0;32min\u001b[0m \u001b[0muserCollection\u001b[0m\u001b[0;34m.\u001b[0m\u001b[0mfind\u001b[0m\u001b[0;34m(\u001b[0m\u001b[0;34m)\u001b[0m\u001b[0;34m:\u001b[0m\u001b[0;34m\u001b[0m\u001b[0;34m\u001b[0m\u001b[0m\n\u001b[0m\u001b[1;32m      2\u001b[0m     \u001b[0mprint\u001b[0m\u001b[0;34m(\u001b[0m\u001b[0mrow\u001b[0m\u001b[0;34m)\u001b[0m\u001b[0;34m\u001b[0m\u001b[0;34m\u001b[0m\u001b[0m\n\u001b[1;32m      3\u001b[0m \u001b[0;31m# array = list(userCollection.find())\u001b[0m\u001b[0;34m\u001b[0m\u001b[0;34m\u001b[0m\u001b[0;34m\u001b[0m\u001b[0m\n\u001b[1;32m      4\u001b[0m \u001b[0;34m\u001b[0m\u001b[0m\n",
      "\u001b[0;32m~/anaconda3/lib/python3.7/site-packages/pymongo/cursor.py\u001b[0m in \u001b[0;36mnext\u001b[0;34m(self)\u001b[0m\n\u001b[1;32m   1154\u001b[0m         \u001b[0;32mif\u001b[0m \u001b[0mself\u001b[0m\u001b[0;34m.\u001b[0m\u001b[0m__empty\u001b[0m\u001b[0;34m:\u001b[0m\u001b[0;34m\u001b[0m\u001b[0;34m\u001b[0m\u001b[0m\n\u001b[1;32m   1155\u001b[0m             \u001b[0;32mraise\u001b[0m \u001b[0mStopIteration\u001b[0m\u001b[0;34m\u001b[0m\u001b[0;34m\u001b[0m\u001b[0m\n\u001b[0;32m-> 1156\u001b[0;31m         \u001b[0;32mif\u001b[0m \u001b[0mlen\u001b[0m\u001b[0;34m(\u001b[0m\u001b[0mself\u001b[0m\u001b[0;34m.\u001b[0m\u001b[0m__data\u001b[0m\u001b[0;34m)\u001b[0m \u001b[0;32mor\u001b[0m \u001b[0mself\u001b[0m\u001b[0;34m.\u001b[0m\u001b[0m_refresh\u001b[0m\u001b[0;34m(\u001b[0m\u001b[0;34m)\u001b[0m\u001b[0;34m:\u001b[0m\u001b[0;34m\u001b[0m\u001b[0;34m\u001b[0m\u001b[0m\n\u001b[0m\u001b[1;32m   1157\u001b[0m             \u001b[0;32mif\u001b[0m \u001b[0mself\u001b[0m\u001b[0;34m.\u001b[0m\u001b[0m__manipulate\u001b[0m\u001b[0;34m:\u001b[0m\u001b[0;34m\u001b[0m\u001b[0;34m\u001b[0m\u001b[0m\n\u001b[1;32m   1158\u001b[0m                 \u001b[0m_db\u001b[0m \u001b[0;34m=\u001b[0m \u001b[0mself\u001b[0m\u001b[0;34m.\u001b[0m\u001b[0m__collection\u001b[0m\u001b[0;34m.\u001b[0m\u001b[0mdatabase\u001b[0m\u001b[0;34m\u001b[0m\u001b[0;34m\u001b[0m\u001b[0m\n",
      "\u001b[0;32m~/anaconda3/lib/python3.7/site-packages/pymongo/cursor.py\u001b[0m in \u001b[0;36m_refresh\u001b[0;34m(self)\u001b[0m\n\u001b[1;32m   1048\u001b[0m \u001b[0;34m\u001b[0m\u001b[0m\n\u001b[1;32m   1049\u001b[0m         \u001b[0;32mif\u001b[0m \u001b[0;32mnot\u001b[0m \u001b[0mself\u001b[0m\u001b[0;34m.\u001b[0m\u001b[0m__session\u001b[0m\u001b[0;34m:\u001b[0m\u001b[0;34m\u001b[0m\u001b[0;34m\u001b[0m\u001b[0m\n\u001b[0;32m-> 1050\u001b[0;31m             \u001b[0mself\u001b[0m\u001b[0;34m.\u001b[0m\u001b[0m__session\u001b[0m \u001b[0;34m=\u001b[0m \u001b[0mself\u001b[0m\u001b[0;34m.\u001b[0m\u001b[0m__collection\u001b[0m\u001b[0;34m.\u001b[0m\u001b[0mdatabase\u001b[0m\u001b[0;34m.\u001b[0m\u001b[0mclient\u001b[0m\u001b[0;34m.\u001b[0m\u001b[0m_ensure_session\u001b[0m\u001b[0;34m(\u001b[0m\u001b[0;34m)\u001b[0m\u001b[0;34m\u001b[0m\u001b[0;34m\u001b[0m\u001b[0m\n\u001b[0m\u001b[1;32m   1051\u001b[0m \u001b[0;34m\u001b[0m\u001b[0m\n\u001b[1;32m   1052\u001b[0m         \u001b[0;32mif\u001b[0m \u001b[0mself\u001b[0m\u001b[0;34m.\u001b[0m\u001b[0m__id\u001b[0m \u001b[0;32mis\u001b[0m \u001b[0;32mNone\u001b[0m\u001b[0;34m:\u001b[0m  \u001b[0;31m# Query\u001b[0m\u001b[0;34m\u001b[0m\u001b[0;34m\u001b[0m\u001b[0m\n",
      "\u001b[0;32m~/anaconda3/lib/python3.7/site-packages/pymongo/mongo_client.py\u001b[0m in \u001b[0;36m_ensure_session\u001b[0;34m(self, session)\u001b[0m\n\u001b[1;32m   1808\u001b[0m             \u001b[0;31m# Don't make implicit sessions causally consistent. Applications\u001b[0m\u001b[0;34m\u001b[0m\u001b[0;34m\u001b[0m\u001b[0;34m\u001b[0m\u001b[0m\n\u001b[1;32m   1809\u001b[0m             \u001b[0;31m# should always opt-in.\u001b[0m\u001b[0;34m\u001b[0m\u001b[0;34m\u001b[0m\u001b[0;34m\u001b[0m\u001b[0m\n\u001b[0;32m-> 1810\u001b[0;31m             \u001b[0;32mreturn\u001b[0m \u001b[0mself\u001b[0m\u001b[0;34m.\u001b[0m\u001b[0m__start_session\u001b[0m\u001b[0;34m(\u001b[0m\u001b[0;32mTrue\u001b[0m\u001b[0;34m,\u001b[0m \u001b[0mcausal_consistency\u001b[0m\u001b[0;34m=\u001b[0m\u001b[0;32mFalse\u001b[0m\u001b[0;34m)\u001b[0m\u001b[0;34m\u001b[0m\u001b[0;34m\u001b[0m\u001b[0m\n\u001b[0m\u001b[1;32m   1811\u001b[0m         \u001b[0;32mexcept\u001b[0m \u001b[0;34m(\u001b[0m\u001b[0mConfigurationError\u001b[0m\u001b[0;34m,\u001b[0m \u001b[0mInvalidOperation\u001b[0m\u001b[0;34m)\u001b[0m\u001b[0;34m:\u001b[0m\u001b[0;34m\u001b[0m\u001b[0;34m\u001b[0m\u001b[0m\n\u001b[1;32m   1812\u001b[0m             \u001b[0;31m# Sessions not supported, or multiple users authenticated.\u001b[0m\u001b[0;34m\u001b[0m\u001b[0;34m\u001b[0m\u001b[0;34m\u001b[0m\u001b[0m\n",
      "\u001b[0;32m~/anaconda3/lib/python3.7/site-packages/pymongo/mongo_client.py\u001b[0m in \u001b[0;36m__start_session\u001b[0;34m(self, implicit, **kwargs)\u001b[0m\n\u001b[1;32m   1761\u001b[0m \u001b[0;34m\u001b[0m\u001b[0m\n\u001b[1;32m   1762\u001b[0m         \u001b[0;31m# Raises ConfigurationError if sessions are not supported.\u001b[0m\u001b[0;34m\u001b[0m\u001b[0;34m\u001b[0m\u001b[0;34m\u001b[0m\u001b[0m\n\u001b[0;32m-> 1763\u001b[0;31m         \u001b[0mserver_session\u001b[0m \u001b[0;34m=\u001b[0m \u001b[0mself\u001b[0m\u001b[0;34m.\u001b[0m\u001b[0m_get_server_session\u001b[0m\u001b[0;34m(\u001b[0m\u001b[0;34m)\u001b[0m\u001b[0;34m\u001b[0m\u001b[0;34m\u001b[0m\u001b[0m\n\u001b[0m\u001b[1;32m   1764\u001b[0m         \u001b[0mopts\u001b[0m \u001b[0;34m=\u001b[0m \u001b[0mclient_session\u001b[0m\u001b[0;34m.\u001b[0m\u001b[0mSessionOptions\u001b[0m\u001b[0;34m(\u001b[0m\u001b[0;34m**\u001b[0m\u001b[0mkwargs\u001b[0m\u001b[0;34m)\u001b[0m\u001b[0;34m\u001b[0m\u001b[0;34m\u001b[0m\u001b[0m\n\u001b[1;32m   1765\u001b[0m         return client_session.ClientSession(\n",
      "\u001b[0;32m~/anaconda3/lib/python3.7/site-packages/pymongo/mongo_client.py\u001b[0m in \u001b[0;36m_get_server_session\u001b[0;34m(self)\u001b[0m\n\u001b[1;32m   1794\u001b[0m     \u001b[0;32mdef\u001b[0m \u001b[0m_get_server_session\u001b[0m\u001b[0;34m(\u001b[0m\u001b[0mself\u001b[0m\u001b[0;34m)\u001b[0m\u001b[0;34m:\u001b[0m\u001b[0;34m\u001b[0m\u001b[0;34m\u001b[0m\u001b[0m\n\u001b[1;32m   1795\u001b[0m         \u001b[0;34m\"\"\"Internal: start or resume a _ServerSession.\"\"\"\u001b[0m\u001b[0;34m\u001b[0m\u001b[0;34m\u001b[0m\u001b[0m\n\u001b[0;32m-> 1796\u001b[0;31m         \u001b[0;32mreturn\u001b[0m \u001b[0mself\u001b[0m\u001b[0;34m.\u001b[0m\u001b[0m_topology\u001b[0m\u001b[0;34m.\u001b[0m\u001b[0mget_server_session\u001b[0m\u001b[0;34m(\u001b[0m\u001b[0;34m)\u001b[0m\u001b[0;34m\u001b[0m\u001b[0;34m\u001b[0m\u001b[0m\n\u001b[0m\u001b[1;32m   1797\u001b[0m \u001b[0;34m\u001b[0m\u001b[0m\n\u001b[1;32m   1798\u001b[0m     \u001b[0;32mdef\u001b[0m \u001b[0m_return_server_session\u001b[0m\u001b[0;34m(\u001b[0m\u001b[0mself\u001b[0m\u001b[0;34m,\u001b[0m \u001b[0mserver_session\u001b[0m\u001b[0;34m,\u001b[0m \u001b[0mlock\u001b[0m\u001b[0;34m)\u001b[0m\u001b[0;34m:\u001b[0m\u001b[0;34m\u001b[0m\u001b[0;34m\u001b[0m\u001b[0m\n",
      "\u001b[0;32m~/anaconda3/lib/python3.7/site-packages/pymongo/topology.py\u001b[0m in \u001b[0;36mget_server_session\u001b[0;34m(self)\u001b[0m\n\u001b[1;32m    483\u001b[0m                             \u001b[0many_server_selector\u001b[0m\u001b[0;34m,\u001b[0m\u001b[0;34m\u001b[0m\u001b[0;34m\u001b[0m\u001b[0m\n\u001b[1;32m    484\u001b[0m                             \u001b[0mself\u001b[0m\u001b[0;34m.\u001b[0m\u001b[0m_settings\u001b[0m\u001b[0;34m.\u001b[0m\u001b[0mserver_selection_timeout\u001b[0m\u001b[0;34m,\u001b[0m\u001b[0;34m\u001b[0m\u001b[0;34m\u001b[0m\u001b[0m\n\u001b[0;32m--> 485\u001b[0;31m                             None)\n\u001b[0m\u001b[1;32m    486\u001b[0m                 \u001b[0;32melif\u001b[0m \u001b[0;32mnot\u001b[0m \u001b[0mself\u001b[0m\u001b[0;34m.\u001b[0m\u001b[0m_description\u001b[0m\u001b[0;34m.\u001b[0m\u001b[0mreadable_servers\u001b[0m\u001b[0;34m:\u001b[0m\u001b[0;34m\u001b[0m\u001b[0;34m\u001b[0m\u001b[0m\n\u001b[1;32m    487\u001b[0m                     self._select_servers_loop(\n",
      "\u001b[0;32m~/anaconda3/lib/python3.7/site-packages/pymongo/topology.py\u001b[0m in \u001b[0;36m_select_servers_loop\u001b[0;34m(self, selector, timeout, address)\u001b[0m\n\u001b[1;32m    207\u001b[0m             \u001b[0;32mif\u001b[0m \u001b[0mtimeout\u001b[0m \u001b[0;34m==\u001b[0m \u001b[0;36m0\u001b[0m \u001b[0;32mor\u001b[0m \u001b[0mnow\u001b[0m \u001b[0;34m>\u001b[0m \u001b[0mend_time\u001b[0m\u001b[0;34m:\u001b[0m\u001b[0;34m\u001b[0m\u001b[0;34m\u001b[0m\u001b[0m\n\u001b[1;32m    208\u001b[0m                 raise ServerSelectionTimeoutError(\n\u001b[0;32m--> 209\u001b[0;31m                     self._error_message(selector))\n\u001b[0m\u001b[1;32m    210\u001b[0m \u001b[0;34m\u001b[0m\u001b[0m\n\u001b[1;32m    211\u001b[0m             \u001b[0mself\u001b[0m\u001b[0;34m.\u001b[0m\u001b[0m_ensure_opened\u001b[0m\u001b[0;34m(\u001b[0m\u001b[0;34m)\u001b[0m\u001b[0;34m\u001b[0m\u001b[0;34m\u001b[0m\u001b[0m\n",
      "\u001b[0;31mServerSelectionTimeoutError\u001b[0m: 127.0.0.1:27017: [Errno 111] Connection refused"
     ],
     "ename": "ServerSelectionTimeoutError",
     "evalue": "127.0.0.1:27017: [Errno 111] Connection refused",
     "output_type": "error"
    }
   ],
   "source": [
    "    \n",
    "for row in userCollection.find():\n",
    "    print(row)\n",
    "# array = list(userCollection.find())"
   ]
  },
  {
   "cell_type": "code",
   "execution_count": 32,
   "metadata": {
    "pycharm": {
     "is_executing": false,
     "name": "#%%\n"
    }
   },
   "outputs": [
    {
     "name": "stdout",
     "output_type": "stream",
     "text": [
      "Exception type: <class 'pymongo.errors.ServerSelectionTimeoutError'>\n",
      "Exception: 127.0.0.1:27017: [Errno 111] Connection refused\n",
      "Traceback (most recent call last):\n",
      "  File \"/home/yuting/anaconda3/lib/python3.7/site-packages/databasetools/mongo.py\", line 547, in findOne\n",
      "    obj = self.collection.find_one(query, sort=sort, projection=projection) # return None if no element was found\n",
      "  File \"/home/yuting/anaconda3/lib/python3.7/site-packages/pymongo/collection.py\", line 1273, in find_one\n",
      "    for result in cursor.limit(-1):\n",
      "  File \"/home/yuting/anaconda3/lib/python3.7/site-packages/pymongo/cursor.py\", line 1156, in next\n",
      "    if len(self.__data) or self._refresh():\n",
      "  File \"/home/yuting/anaconda3/lib/python3.7/site-packages/pymongo/cursor.py\", line 1050, in _refresh\n",
      "    self.__session = self.__collection.database.client._ensure_session()\n",
      "  File \"/home/yuting/anaconda3/lib/python3.7/site-packages/pymongo/mongo_client.py\", line 1810, in _ensure_session\n",
      "    return self.__start_session(True, causal_consistency=False)\n",
      "  File \"/home/yuting/anaconda3/lib/python3.7/site-packages/pymongo/mongo_client.py\", line 1763, in __start_session\n",
      "    server_session = self._get_server_session()\n",
      "  File \"/home/yuting/anaconda3/lib/python3.7/site-packages/pymongo/mongo_client.py\", line 1796, in _get_server_session\n",
      "    return self._topology.get_server_session()\n",
      "  File \"/home/yuting/anaconda3/lib/python3.7/site-packages/pymongo/topology.py\", line 485, in get_server_session\n",
      "    None)\n",
      "  File \"/home/yuting/anaconda3/lib/python3.7/site-packages/pymongo/topology.py\", line 209, in _select_servers_loop\n",
      "    self._error_message(selector))\n",
      "pymongo.errors.ServerSelectionTimeoutError: 127.0.0.1:27017: [Errno 111] Connection refused\n",
      "\n",
      "Exception type: <class 'pymongo.errors.ServerSelectionTimeoutError'>\n",
      "Exception: 127.0.0.1:27017: [Errno 111] Connection refused\n",
      "Traceback (most recent call last):\n",
      "  File \"/home/yuting/anaconda3/lib/python3.7/site-packages/databasetools/mongo.py\", line 547, in findOne\n",
      "    obj = self.collection.find_one(query, sort=sort, projection=projection) # return None if no element was found\n",
      "  File \"/home/yuting/anaconda3/lib/python3.7/site-packages/pymongo/collection.py\", line 1273, in find_one\n",
      "    for result in cursor.limit(-1):\n",
      "  File \"/home/yuting/anaconda3/lib/python3.7/site-packages/pymongo/cursor.py\", line 1156, in next\n",
      "    if len(self.__data) or self._refresh():\n",
      "  File \"/home/yuting/anaconda3/lib/python3.7/site-packages/pymongo/cursor.py\", line 1050, in _refresh\n",
      "    self.__session = self.__collection.database.client._ensure_session()\n",
      "  File \"/home/yuting/anaconda3/lib/python3.7/site-packages/pymongo/mongo_client.py\", line 1810, in _ensure_session\n",
      "    return self.__start_session(True, causal_consistency=False)\n",
      "  File \"/home/yuting/anaconda3/lib/python3.7/site-packages/pymongo/mongo_client.py\", line 1763, in __start_session\n",
      "    server_session = self._get_server_session()\n",
      "  File \"/home/yuting/anaconda3/lib/python3.7/site-packages/pymongo/mongo_client.py\", line 1796, in _get_server_session\n",
      "    return self._topology.get_server_session()\n",
      "  File \"/home/yuting/anaconda3/lib/python3.7/site-packages/pymongo/topology.py\", line 485, in get_server_session\n",
      "    None)\n",
      "  File \"/home/yuting/anaconda3/lib/python3.7/site-packages/pymongo/topology.py\", line 209, in _select_servers_loop\n",
      "    self._error_message(selector))\n",
      "pymongo.errors.ServerSelectionTimeoutError: 127.0.0.1:27017: [Errno 111] Connection refused\n",
      "\n"
     ]
    }
   ],
   "source": []
  },
  {
   "cell_type": "code",
   "execution_count": 53,
   "metadata": {},
   "outputs": [
    {
     "name": "stdout",
     "output_type": "stream",
     "text": [
      "{\n",
      "  100022528: \n",
      "  {\n",
      "    http://newsok.com/article/5579862?utm_source=NewsOK.com&utm_medium=Social&utm_campaign=ShareBar-Twitter: 1516221083,\n",
      "    http://newsok.com/article/5579897?utm_source=NewsOK.com&utm_medium=Social&utm_campaign=ShareBar-Twitter: 1516375660,\n",
      "    http://newsok.com/article/5580060?utm_source=NewsOK.com&utm_medium=Social&utm_campaign=ShareBar-Twitter: 1516375707,\n",
      "    http://newsok.com/article/5580163?utm_source=NewsOK.com&utm_medium=Social&utm_campaign=ShareBar-Twitter: 1516633524,\n",
      "    http://newsok.com/article/5580456?utm_source=NewsOK.com&utm_medium=Social&utm_campaign=ShareBar-Twitter: 1516663021,\n",
      "    ...,\n",
      "    http://newsok.com/article/5582789?utm_source=NewsOK.com&utm_medium=Social&utm_campaign=ShareBar-Twitter: 1518469792,\n",
      "    http://newsok.com/article/5582960?utm_source=NewsOK.com&utm_medium=Social&utm_campaign=ShareBar-Twitter: 1518469740,\n",
      "    http://newsok.com/article/5583138?utm_source=NewsOK.com&utm_medium=Social&utm_campaign=ShareBar-Twitter: 1518469840,\n",
      "    http://newsok.com/article/5583205?utm_source=NewsOK.com&utm_medium=Social&utm_campaign=ShareBar-Twitter: 1518538231,\n",
      "    http://newsok.com/article/5583205?utm_source=NewsOKcom&utm_medium=Social&utm_campaign=NICTwitter: 1518481826\n",
      "  },\n",
      "  100024324: \n",
      "  {\n",
      "    https://buff.ly/2r33Cbc: 1516290745,\n",
      "    https://fb.me/1V3tC1haw: 1518307035,\n",
      "    https://fb.me/1c24driDZ: 1516294644,\n",
      "    https://fb.me/1gdNsEOl2: 1517239411,\n",
      "    https://fb.me/2qbZPSd9V: 1517870125,\n",
      "    ...,\n",
      "    https://fb.me/8tJlCa0CF: 1516894025,\n",
      "    https://fb.me/FA8TV1gL: 1517024074,\n",
      "    https://fb.me/G5RisKlZ: 1516640487,\n",
      "    https://fb.me/LQB4PQ9t: 1518535703,\n",
      "    https://www.nytimes.com/2018/01/27/opinion/sunday/surgery-germany-vicodin.html?smprod=nytcore-iphone&smid=nytcore-iphone-share: 1517446804\n",
      "  },\n",
      "  100064338: \n",
      "  {\n",
      "    http://a.msn.com/0C/en-us/AAuJW0j?ocid=st: 1516248290,\n",
      "    http://bbc.in/2EF1R7c: 1517751979,\n",
      "    http://nyti.ms/2EAYNZZ: 1517670472,\n",
      "    http://ow.ly/JOXI30i5x77: 1517273467,\n",
      "    http://ow.ly/tHGn30i3gQc: 1517194442,\n",
      "    http://www.independent.co.uk/arts-entertainment/scarlett-johansson-james-franco-womens-march-speech-times-up-allegations-a8170556.html: 1516536481,\n",
      "    https://goo.gl/uuv8N9: 1516722993\n",
      "  },\n",
      "  1000908834: \n",
      "  {\n",
      "    http://bit.ly/2BdL6No: 1516401442,\n",
      "    http://bit.ly/2DwmuBf: 1516720952,\n",
      "    http://bit.ly/2FGzHbd: 1517617621,\n",
      "    http://ew.com/books/2018/01/18/black-lives-matter-book-patrisse-khan-cullors-asha-bandele/: 1516364170,\n",
      "    http://foreignpolicy.com/2018/02/14/south-africas-survivor-in-chief-has-fallen/: 1518701782,\n",
      "    ...,\n",
      "    https://thegrapevine.theroot.com/equal-pay-for-equal-laughs-timesup-meeting-reveals-tr-1822204564?utm_source=theroot_facebook&utm_medium=socialflow: 1516309755,\n",
      "    https://www.michigandaily.com/section/ann-arbor/city-council-0: 1517927249,\n",
      "    https://www.nytimes.com/2018/01/18/opinion/ravi-ragbir-immigration-ice.html: 1516361290,\n",
      "    https://www.themarshallproject.org/2018/01/17/trump-justice-year-one-the-demolition-derby?utm_medium=social&utm_campaign=sprout&utm_source=twitter: 1517115781,\n",
      "    https://www.washingtonpost.com/opinions/suspending-common-sense-in-virginia/2018/02/09/23b69968-fbc6-11e7-a46b-a3614530bd87_story.html: 1518210660\n",
      "  },\n",
      "  1002207570: \n",
      "  {\n",
      "    http://ow.ly/ZfQp30i4s0P: 1517479456,\n",
      "    http://wapo.st/2nenFOI?tid=ss_tw&utm_term=.51c0baf83b74: 1517244864,\n",
      "    https://buff.ly/2Fukpq0: 1517244376,\n",
      "    https://www.nature.com/articles/d41586-018-01382-x: 1517360059,\n",
      "    https://www.statnews.com/2016/04/20/biden-moonshot-scientists/: 1517786298\n",
      "  },\n",
      "  ...,\n",
      "  996418993: \n",
      "  {\n",
      "    http://www.cbc.ca/1.4488392: 1516972098,\n",
      "    http://www.cbc.ca/1.4505361: 1517147734,\n",
      "    https://www.cp24.com/news/amazon-includes-toronto-on-short-list-of-cities-under-consideration-for-second-headquarters-1.3764966: 1516292006,\n",
      "    https://www.theglobeandmail.com/globe-investor/retirement/new-parents-want-a-plan-for-future-real-estate-goals/article37669616/?utm_medium=Referrer:+Social+Network+/+Media&utm_campaign=Shared+Web+Article+Links: 1517082035,\n",
      "    https://www.theglobeandmail.com/real-estate/rental-prices-rise-in-the-gta-amid-low-vacancy-fierce-tenant-competition/article37692158/?utm_medium=Referrer:+Social+Network+/+Media&utm_campaign=Shared+Web+Article+Links: 1516740371,\n",
      "    https://www.theglobeandmail.com/real-estate/toronto/home-sweet-mall-a-new-kind-of-neighbourhood-building-intoronto/article37704089/: 1517146585,\n",
      "    https://www.theglobeandmail.com/real-estate/toronto/toronto-condo-rents-up-91-per-cent/article37632744/?utm_medium=Referrer:+Social+Network+/+Media&utm_campaign=Shared+Web+Article+Links: 1516579237,\n",
      "    https://www.thestar.com/business/2018/01/17/rising-mortgage-rates-unlikely-to-slow-down-hot-toronto-housing-market.html?utm_campaign=coschedule: 1516369759\n",
      "  },\n",
      "  9972002: \n",
      "  {\n",
      "    http://nyti.ms/2BS8RLc: 1517615285,\n",
      "    http://ow.ly/my0j30hKtFk: 1516078828,\n",
      "    http://tcrn.ch/2mR22E8: 1516425602,\n",
      "    http://www.adweek.com/digital/why-you-should-be-prepared-for-facebook-ad-prices-to-rise/: 1517060234,\n",
      "    http://www.independent.co.uk/arts-entertainment/films/news/groundhog-day-2018-film-every-day-at-once-simultaneously-youtube-video-bill-murray-a8190786.html?utm_campaign=Echobox&utm_medium=Social&utm_source=Twitter: 1517572602,\n",
      "    ...,\n",
      "    https://fb.me/EPCKgGQq: 1516043783,\n",
      "    https://news.vice.com/article/north-korea-has-sentenced-us-student-otto-warmbier-to-15-years-hard-labor-1: 1517369058,\n",
      "    https://www.hollywoodreporter.com/news/ryan-seacrest-what-happened-i-was-wrongly-accused-harassment-guest-column-1081933: 1517944320,\n",
      "    https://www.rollingstone.com/music/features/kesha-and-dr-luke-everything-you-need-to-know-to-understand-the-case-20160222: 1517193710,\n",
      "    https://www.washingtonpost.com/national/health-science/five-things-you-should-know-about-this-years-very-bad-flu/2018/01/12/b4fa7b2a-f558-11e7-b34a-b85626af34ef_story.html: 1516078126\n",
      "  },\n",
      "  99791053: { http://nyti.ms/2DVSGPD: 1516546785, https://buff.ly/2EaLMGg: 1516556692 },\n",
      "  997944516: \n",
      "  {\n",
      "    http://nyti.ms/2F0xjgJ: 1518519399,\n",
      "    https://lnkd.in/d6tnATH: 1517489744,\n",
      "    https://lnkd.in/dJyAD_n: 1518273301,\n",
      "    https://lnkd.in/dar2Jx2: 1516578161,\n",
      "    https://lnkd.in/duCKmBZ: 1517174678,\n",
      "    https://lnkd.in/ee3bvYE: 1516237829,\n",
      "    https://www.nytimes.com/2018/01/22/smarter-living/micro-progress.html: 1516670570\n",
      "  },\n",
      "  99895304: \n",
      "  {\n",
      "    http://bit.ly/2F6QgNl: 1516759560,\n",
      "    http://freebeacon.com/national-security/pentagon-agency-cant-account-over-800-million-expenses/: 1517842373,\n",
      "    https://fb.me/9DnSE9ESo: 1518185411\n",
      "  }\n",
      "}\n"
     ]
    }
   ],
   "source": [
    "bp(evalData['testUsers'])"
   ]
  },
  {
   "cell_type": "code",
   "execution_count": 14,
   "metadata": {
    "pycharm": {
     "is_executing": false
    }
   },
   "outputs": [
    {
     "data": {
      "text/plain": [
       "'yuting'"
      ]
     },
     "execution_count": 14,
     "metadata": {},
     "output_type": "execute_result"
    }
   ],
   "source": [
    "getUser()"
   ]
  },
  {
   "cell_type": "code",
   "execution_count": 15,
   "metadata": {
    "pycharm": {
     "is_executing": false
    }
   },
   "outputs": [
    {
     "ename": "UnpicklingError",
     "evalue": "invalid load key, '\\x1f'.",
     "output_type": "error",
     "traceback": [
      "\u001b[0;31m---------------------------------------------------------------------------\u001b[0m",
      "\u001b[0;31mUnpicklingError\u001b[0m                           Traceback (most recent call last)",
      "\u001b[0;32m<ipython-input-15-e97e185b92de>\u001b[0m in \u001b[0;36m<module>\u001b[0;34m\u001b[0m\n\u001b[0;32m----> 1\u001b[0;31m \u001b[0mevalData\u001b[0m \u001b[0;34m=\u001b[0m \u001b[0mgetEvalData\u001b[0m\u001b[0;34m(\u001b[0m\u001b[0;36m1\u001b[0m\u001b[0;34m)\u001b[0m\u001b[0;34m\u001b[0m\u001b[0;34m\u001b[0m\u001b[0m\n\u001b[0m\u001b[1;32m      2\u001b[0m \u001b[0;34m\u001b[0m\u001b[0m\n",
      "\u001b[0;32m~/PycharmProjects/Twinews/twinews/utils.py\u001b[0m in \u001b[0;36mgetEvalData\u001b[0;34m(version)\u001b[0m\n\u001b[1;32m     84\u001b[0m                         \u001b[0;32mreturn\u001b[0m \u001b[0mdeserialize\u001b[0m\u001b[0;34m(\u001b[0m\u001b[0mtwinewsSplitsDir\u001b[0m \u001b[0;34m+\u001b[0m \u001b[0;34m\"/v\"\u001b[0m \u001b[0;34m+\u001b[0m \u001b[0mstr\u001b[0m\u001b[0;34m(\u001b[0m\u001b[0mversion\u001b[0m\u001b[0;34m)\u001b[0m \u001b[0;34m+\u001b[0m \u001b[0;34m\".pickle.gzip\"\u001b[0m\u001b[0;34m)\u001b[0m\u001b[0;34m\u001b[0m\u001b[0;34m\u001b[0m\u001b[0m\n\u001b[1;32m     85\u001b[0m         \u001b[0;32melif\u001b[0m \u001b[0;34m\"yuting\"\u001b[0m \u001b[0;32min\u001b[0m \u001b[0mgetUser\u001b[0m\u001b[0;34m(\u001b[0m\u001b[0;34m)\u001b[0m\u001b[0;34m:\u001b[0m\u001b[0;34m\u001b[0m\u001b[0;34m\u001b[0m\u001b[0m\n\u001b[0;32m---> 86\u001b[0;31m \t\t\"\"\"\n\u001b[0m\u001b[1;32m     87\u001b[0m                 \u001b[0mdirectoryPath\u001b[0m \u001b[0;34m=\u001b[0m \u001b[0;34m\"/home/yuting/PycharmProjects/data/twinews-splits/\"\u001b[0m\u001b[0;34m\u001b[0m\u001b[0;34m\u001b[0m\u001b[0m\n\u001b[1;32m     88\u001b[0m                 \u001b[0;32mreturn\u001b[0m \u001b[0mdeserialize\u001b[0m\u001b[0;34m(\u001b[0m\u001b[0mdirectoryPath\u001b[0m \u001b[0;34m+\u001b[0m \u001b[0;34m\"/v\"\u001b[0m \u001b[0;34m+\u001b[0m \u001b[0mstr\u001b[0m\u001b[0;34m(\u001b[0m\u001b[0mversion\u001b[0m\u001b[0;34m)\u001b[0m \u001b[0;34m+\u001b[0m \u001b[0;34m\".pickle.gzip\"\u001b[0m\u001b[0;34m)\u001b[0m\u001b[0;34m\u001b[0m\u001b[0;34m\u001b[0m\u001b[0m\n",
      "\u001b[0;32m~/anaconda3/lib/python3.7/site-packages/systemtools/file.py\u001b[0m in \u001b[0;36mdeserialize\u001b[0;34m(path)\u001b[0m\n\u001b[1;32m    116\u001b[0m \u001b[0;32mdef\u001b[0m \u001b[0mdeserialize\u001b[0m\u001b[0;34m(\u001b[0m\u001b[0mpath\u001b[0m\u001b[0;34m)\u001b[0m\u001b[0;34m:\u001b[0m\u001b[0;34m\u001b[0m\u001b[0;34m\u001b[0m\u001b[0m\n\u001b[1;32m    117\u001b[0m     \u001b[0;32mwith\u001b[0m \u001b[0mopen\u001b[0m\u001b[0;34m(\u001b[0m\u001b[0mpath\u001b[0m\u001b[0;34m,\u001b[0m \u001b[0;34m'rb'\u001b[0m\u001b[0;34m)\u001b[0m \u001b[0;32mas\u001b[0m \u001b[0mhandle\u001b[0m\u001b[0;34m:\u001b[0m\u001b[0;34m\u001b[0m\u001b[0;34m\u001b[0m\u001b[0m\n\u001b[0;32m--> 118\u001b[0;31m         \u001b[0;32mreturn\u001b[0m \u001b[0mpickle\u001b[0m\u001b[0;34m.\u001b[0m\u001b[0mload\u001b[0m\u001b[0;34m(\u001b[0m\u001b[0mhandle\u001b[0m\u001b[0;34m)\u001b[0m\u001b[0;34m\u001b[0m\u001b[0;34m\u001b[0m\u001b[0m\n\u001b[0m\u001b[1;32m    119\u001b[0m \u001b[0;34m\u001b[0m\u001b[0m\n\u001b[1;32m    120\u001b[0m \u001b[0;32mdef\u001b[0m \u001b[0mserializeToStr\u001b[0m\u001b[0;34m(\u001b[0m\u001b[0mobj\u001b[0m\u001b[0;34m)\u001b[0m\u001b[0;34m:\u001b[0m\u001b[0;34m\u001b[0m\u001b[0;34m\u001b[0m\u001b[0m\n",
      "\u001b[0;31mUnpicklingError\u001b[0m: invalid load key, '\\x1f'."
     ]
    }
   ],
   "source": [
    "evalData = getEvalData(1)"
   ]
  },
  {
   "cell_type": "code",
   "execution_count": 16,
   "metadata": {
    "pycharm": {
     "is_executing": false,
     "name": "#%%\n"
    }
   },
   "outputs": [],
   "source": [
    "# import gzip\n",
    "# f = gzip.open('/home/yuting/PycharmProjects/data/twinews-splits/v1.pickle.gzip', 'rb')\n",
    "# evalData = pickle.load(f)\n",
    "# f.close()"
   ]
  },
  {
   "cell_type": "code",
   "execution_count": null,
   "metadata": {
    "pycharm": {
     "name": "#%%\n"
    }
   },
   "outputs": [],
   "source": [
    "\n"
   ]
  }
 ],
 "metadata": {
  "kernelspec": {
   "display_name": "Python 3",
   "language": "python",
   "name": "python3"
  },
  "language_info": {
   "codemirror_mode": {
    "name": "ipython",
    "version": 3
   },
   "file_extension": ".py",
   "mimetype": "text/x-python",
   "name": "python",
   "nbconvert_exporter": "python",
   "pygments_lexer": "ipython3",
   "version": "3.7.4"
  },
  "pycharm": {
   "stem_cell": {
    "cell_type": "raw",
    "source": [],
    "metadata": {
     "collapsed": false
    }
   }
  }
 },
 "nbformat": 4,
 "nbformat_minor": 1
}