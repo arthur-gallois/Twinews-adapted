{
 "cells": [
  {
   "cell_type": "code",
   "execution_count": null,
   "metadata": {},
   "outputs": [],
   "source": [
    "import os ; os.environ[\"CUDA_VISIBLE_DEVICES\"] = \"\""
   ]
  },
  {
   "cell_type": "code",
   "execution_count": null,
   "metadata": {},
   "outputs": [],
   "source": [
    "from systemtools.hayj import *\n",
    "from systemtools.location import *\n",
    "from systemtools.basics import *\n",
    "from systemtools.file import *\n",
    "from systemtools.printer import *\n",
    "from twinews.utils import *\n",
    "from twinews.evaluation.utils import *\n",
    "from twinews.models.ranking import *"
   ]
  },
  {
   "cell_type": "code",
   "execution_count": null,
   "metadata": {},
   "outputs": [],
   "source": [
    "from dataviztools import bokehutils\n",
    "from bokeh.plotting import output_notebook, show\n",
    "from bokeh.layouts import gridplot\n",
    "from bokeh.plotting import figure\n",
    "output_notebook()"
   ]
  },
  {
   "cell_type": "code",
   "execution_count": null,
   "metadata": {},
   "outputs": [],
   "source": [
    "import importlib\n",
    "importlib.reload(bokehutils)"
   ]
  },
  {
   "cell_type": "code",
   "execution_count": null,
   "metadata": {},
   "outputs": [],
   "source": []
  },
  {
   "cell_type": "code",
   "execution_count": null,
   "metadata": {},
   "outputs": [],
   "source": []
  },
  {
   "cell_type": "markdown",
   "metadata": {},
   "source": [
    "# Printing stats on rankings"
   ]
  },
  {
   "cell_type": "code",
   "execution_count": null,
   "metadata": {},
   "outputs": [],
   "source": [
    "twinewsRankings = getTwinewsRankings()\n",
    "models = set()\n",
    "for row in twinewsRankings.collection.find({\"meta.splitVersion\": 1, 'meta.maxUsers': None}):\n",
    "    if row['meta']['model'] != 'combin':\n",
    "        models.add(row['meta']['model'])\n",
    "models.remove('worst')\n",
    "models.remove('ideal')\n",
    "models.remove('random')\n",
    "keys = set()\n",
    "for model in models:\n",
    "    keys.add(twinewsRankings.collection.find_one({'meta.model': model, \"meta.splitVersion\": 1, 'meta.maxUsers': None})['id'])\n",
    "keys.add(\"combin-8f846\")\n",
    "keys.add(\"combin-efad4\")\n",
    "print(keys)"
   ]
  },
  {
   "cell_type": "code",
   "execution_count": null,
   "metadata": {},
   "outputs": [],
   "source": [
    "def rankingReport(rankings, maxUsers=None, logger=None, verbose=True, pbarVerbose=True):\n",
    "    if maxUsers is not None:\n",
    "        keys = shuffle(list(rankings.keys()), seed=0)[:maxUsers]\n",
    "        rankings = dictSelect(rankings, keys)\n",
    "    # We find all data:\n",
    "    medians = []\n",
    "    means = []\n",
    "    rkvs = []\n",
    "    scoress = []\n",
    "    allScores = []\n",
    "    for userId in pb(list(rankings.keys()), logger=logger, verbose=pbarVerbose):\n",
    "        assert isinstance(rankings[userId][0][0], tuple)\n",
    "        scores = [e[1] for e in rankings[userId][0]]\n",
    "        scores = normalizeRankingScores(scores)\n",
    "        medians.append(np.median(scores))\n",
    "        means.append(np.mean(scores))\n",
    "        rkvs.append(rankingVariance(scores))\n",
    "        scoress.append(scores)\n",
    "        allScores += list(scores)\n",
    "    # We print means and std:\n",
    "    for values, label in \\\n",
    "    [\n",
    "        (medians, \"Median\"), (means, \"Mean\"),\n",
    "        (rkvs, \"Ranking variance\")\n",
    "    ]:\n",
    "        std = np.std(values)\n",
    "        # std = mean_confidence_interval(values)\n",
    "        std = truncateFloat(std, 2)\n",
    "        mean = truncateFloat(np.mean(values), 2)\n",
    "        text = label + \": \" + str(mean) + \" ±\" + str(std) + \" (95%)\"\n",
    "        log(text, logger, verbose=verbose)\n",
    "    # We show all scores histogram:\n",
    "    log(\"Histogram of all scores (as distances):\", logger=logger, verbose=verbose)\n",
    "    show(bokehutils.barplot(allScores, 30, hideTools=True, hideXAxis=True, hideYAxis=True, title=\"\", height=100, width=300))\n",
    "    # We show a sample of scores:\n",
    "    log(\"Histogram samples of scores (as distances):\", logger=logger, verbose=verbose)\n",
    "    scoress = shuffle(list(scoress))\n",
    "    figures = []\n",
    "    for row in range(3):\n",
    "        currentFigures = []\n",
    "        for col in range(3):\n",
    "            scores = scoress.pop()\n",
    "            f = bokehutils.barplot(scores, 10, hideTools=True, hideXAxis=True, hideYAxis=True, title=\"\", height=40, width=100)\n",
    "            currentFigures.append(f)\n",
    "        figures.append(currentFigures)\n",
    "    grid = gridplot(figures, toolbar_options={'logo': None})\n",
    "    show(grid)"
   ]
  },
  {
   "cell_type": "code",
   "execution_count": null,
   "metadata": {},
   "outputs": [],
   "source": [
    "tt = TicToc()\n",
    "tt.tic()\n",
    "for key in sorted(list(keys)):\n",
    "    print(\"#\" * 20 + \" \" + key + \" \" + \"#\" * 20)\n",
    "    rankings = twinewsRankings[key]\n",
    "    tt.tic(\"Got \" + key + \" rankings\")\n",
    "    rankingReport(rankings, maxUsers=None, pbarVerbose=False)\n",
    "    tt.tic(\"Stats printed for \" + key)\n",
    "tt.toc()"
   ]
  },
  {
   "cell_type": "code",
   "execution_count": null,
   "metadata": {},
   "outputs": [],
   "source": []
  },
  {
   "cell_type": "code",
   "execution_count": null,
   "metadata": {},
   "outputs": [],
   "source": []
  }
 ],
 "metadata": {
  "kernelspec": {
   "display_name": "Python 3",
   "language": "python",
   "name": "python3"
  },
  "language_info": {
   "codemirror_mode": {
    "name": "ipython",
    "version": 3
   },
   "file_extension": ".py",
   "mimetype": "text/x-python",
   "name": "python",
   "nbconvert_exporter": "python",
   "pygments_lexer": "ipython3",
   "version": "3.6.6"
  }
 },
 "nbformat": 4,
 "nbformat_minor": 4
}
