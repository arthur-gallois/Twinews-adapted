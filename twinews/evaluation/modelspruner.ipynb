{
 "cells": [
  {
   "cell_type": "markdown",
   "metadata": {},
   "source": [
    "This script loop infinitely to looking for already scored models to prune from twinews-rankings"
   ]
  },
  {
   "cell_type": "code",
   "execution_count": null,
   "metadata": {},
   "outputs": [],
   "source": [
    "# tipi 86\n",
    "# killbill modelspruner ; cd ~/twinews-logs ; jupython -o nohup-modelspruner-$HOSTNAME.out --venv st-venv ~/Workspace/Python/Datasets/Twinews/twinews/evaluation/modelspruner.ipynb"
   ]
  },
  {
   "cell_type": "code",
   "execution_count": null,
   "metadata": {},
   "outputs": [],
   "source": [
    "import os ; os.environ[\"CUDA_VISIBLE_DEVICES\"] = \"\""
   ]
  },
  {
   "cell_type": "code",
   "execution_count": null,
   "metadata": {},
   "outputs": [],
   "source": [
    "isNotebook = '__file__' not in locals()"
   ]
  },
  {
   "cell_type": "code",
   "execution_count": null,
   "metadata": {},
   "outputs": [],
   "source": [
    "TEST = False # isNotebook, True, False"
   ]
  },
  {
   "cell_type": "code",
   "execution_count": null,
   "metadata": {},
   "outputs": [],
   "source": [
    "from systemtools.hayj import *\n",
    "from systemtools.location import *\n",
    "from systemtools.basics import *\n",
    "from systemtools.file import *\n",
    "from systemtools.printer import *\n",
    "from databasetools.mongo import *\n",
    "from newstools.goodarticle.utils import *\n",
    "from nlptools.preprocessing import *\n",
    "from nlptools.news import parser as newsParser\n",
    "from machinelearning.iterator import *\n",
    "from twinews.utils import *\n",
    "from twinews.evaluation import metrics\n",
    "from twinews.evaluation.utils import *\n",
    "import time\n",
    "import pymongo\n",
    "from datetime import datetime"
   ]
  },
  {
   "cell_type": "code",
   "execution_count": null,
   "metadata": {},
   "outputs": [],
   "source": [
    "logger = Logger(tmpDir('logs') + \"/modelspruner.log\") if isNotebook else Logger(\"modelspruner-\" + getHostname() + \".log\")\n",
    "tt = TicToc(logger=logger)\n",
    "tt.tic()"
   ]
  },
  {
   "cell_type": "code",
   "execution_count": null,
   "metadata": {},
   "outputs": [],
   "source": [
    "iterations = 1 if TEST else 10000000\n",
    "sleep = 0 if TEST else 300\n",
    "exceptionSleep = 10\n",
    "minLifeTime = 30 if TEST else 6 * 3600"
   ]
  },
  {
   "cell_type": "code",
   "execution_count": null,
   "metadata": {},
   "outputs": [],
   "source": [
    "modelsToPrune = {'combin'}"
   ]
  },
  {
   "cell_type": "code",
   "execution_count": null,
   "metadata": {},
   "outputs": [],
   "source": [
    "# We get scores collection and the rankings GridFS:\n",
    "twinewsScores = getTwinewsScores(logger=logger)\n",
    "twinewsRankings = getTwinewsRankings(logger=logger)"
   ]
  },
  {
   "cell_type": "code",
   "execution_count": null,
   "metadata": {},
   "outputs": [],
   "source": [
    "# Init of metrics:\n",
    "metrics = {'ndcg', 'ndcg@10', 'ndcg@100', 'mrr', 'p@10', 'p@100', 'map',\n",
    "          'div@100', 'style-div@100', 'topic-div@100',}"
   ]
  },
  {
   "cell_type": "code",
   "execution_count": null,
   "metadata": {},
   "outputs": [],
   "source": [
    "# For a certain amount of iterations:\n",
    "for iteration in range(iterations):\n",
    "    try:\n",
    "        # We get only files that take a lot of disk:\n",
    "        rows = []\n",
    "        for model in modelsToPrune:\n",
    "            rows += list(twinewsRankings.collection.find({'meta.model': model, 'length': {'$gt': 100}}))\n",
    "        # We check meta.model:\n",
    "        for row in rows:\n",
    "            assert row['meta']['model'] in modelsToPrune\n",
    "        # We keep only ids:\n",
    "        for i in range(len(rows)):\n",
    "            rows[i] = rows[i]['id']\n",
    "        # We keep only old ones according to the upload date in twinews.scores:\n",
    "        idsToPrune = set()\n",
    "        for currentId in rows:\n",
    "            rows = []\n",
    "            for metric in metrics:\n",
    "                rows.append(twinewsScores.findOne({'id': currentId, 'metric': metric}))\n",
    "            if None not in rows:\n",
    "                row = rows[0]\n",
    "                _id = row['_id']\n",
    "                ts = datetime.timestamp(_id.generation_time)\n",
    "                now = time.time()\n",
    "                if now - ts >= minLifeTime:\n",
    "                    idsToPrune.add(currentId)\n",
    "        # We log infos:\n",
    "        log(\"To prune: \" + b(idsToPrune) + \" (\" + str(len(idsToPrune)) + \")\", logger)\n",
    "        # We prune all:\n",
    "        for currentId in idsToPrune:\n",
    "            log(\"Pruning \" + currentId, logger)\n",
    "            if not TEST:\n",
    "                pruneRankings(currentId)\n",
    "    except Exception as e:\n",
    "        if isNotebook:\n",
    "            raise e\n",
    "        else:\n",
    "            logException(e, logger)\n",
    "            time.sleep(exceptionSleep)\n",
    "    if sleep > 0:\n",
    "        log(\"Sleeping \" + str(sleep) + \" seconds for the iteration \" + str(iteration) + \" on \" + str(iterations) + \"...\", logger)\n",
    "    time.sleep(sleep)"
   ]
  },
  {
   "cell_type": "code",
   "execution_count": null,
   "metadata": {},
   "outputs": [],
   "source": []
  },
  {
   "cell_type": "code",
   "execution_count": null,
   "metadata": {},
   "outputs": [],
   "source": []
  }
 ],
 "metadata": {
  "kernelspec": {
   "display_name": "Python 3",
   "language": "python",
   "name": "python3"
  },
  "language_info": {
   "codemirror_mode": {
    "name": "ipython",
    "version": 3
   },
   "file_extension": ".py",
   "mimetype": "text/x-python",
   "name": "python",
   "nbconvert_exporter": "python",
   "pygments_lexer": "ipython3",
   "version": "3.6.6"
  }
 },
 "nbformat": 4,
 "nbformat_minor": 2
}
