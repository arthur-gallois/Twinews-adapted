{
 "cells": [
  {
   "cell_type": "markdown",
   "metadata": {},
   "source": [
    "Ce notebook permet de calculer des interval de normalsiation pour les scores finaux"
   ]
  },
  {
   "cell_type": "code",
   "execution_count": 1,
   "metadata": {},
   "outputs": [],
   "source": [
    "from systemtools.hayj import *\n",
    "from systemtools.location import *\n",
    "from systemtools.basics import *\n",
    "from systemtools.file import *\n",
    "from systemtools.printer import *\n",
    "from twinews.utils import *\n",
    "from twinews.evaluation.utils import *\n",
    "from twinews.models.ranking import *"
   ]
  },
  {
   "cell_type": "code",
   "execution_count": 2,
   "metadata": {},
   "outputs": [
    {
     "name": "stdout",
     "output_type": "stream",
     "text": [
      "twinews scores initialised.\n"
     ]
    }
   ],
   "source": [
    "twinewsScores = getTwinewsScores()\n",
    "twinewsRankings = getTwinewsRankings()"
   ]
  },
  {
   "cell_type": "code",
   "execution_count": 3,
   "metadata": {},
   "outputs": [
    {
     "name": "stdout",
     "output_type": "stream",
     "text": [
      "[\n",
      "  { _id: 5e7cd4158175111c4825e975, id: lda-aa8d5, metric: ndcg, score: 0.25 },\n",
      "  { _id: 5e7cd41d8175111c4825e978, id: lda-aa8d5, metric: ndcg@10, score: 0.03 },\n",
      "  ...,\n",
      "  { _id: 5f19b4f1065f2836ed194791, id: Convnet-240ab, metric: p@100, score: 0.0 },\n",
      "  { _id: 5f19b4f1065f2836ed194794, id: Convnet-240ab, metric: map, score: 0.01 }\n",
      "]\n"
     ]
    }
   ],
   "source": [
    "scores = list(twinewsScores.find())\n",
    "bp(scores)"
   ]
  },
  {
   "cell_type": "code",
   "execution_count": 4,
   "metadata": {
    "scrolled": true
   },
   "outputs": [
    {
     "name": "stdout",
     "output_type": "stream",
     "text": [
      "  0% [                    ]\n",
      "  9% [=                   ] (5m 19.702s left)\n",
      " 19% [===                 ] (4m 44.382s left)\n",
      " 29% [=====               ] (4m 8.966s left)\n",
      " 39% [=======             ] (3m 33.292s left)\n",
      " 49% [=========           ] (2m 57.582s left)\n",
      " 59% [===========         ] (2m 21.889s left)\n",
      " 69% [=============       ] (1m 46.419s left)\n",
      " 79% [===============     ] (1m 10.9s left)\n",
      " 89% [=================   ] (35.439s left)\n",
      " 99% [=================== ] (0.022s left)\n",
      "100% [====================] (total duration: 5m 54.11s, mean duration: 0.022s)\n",
      "errors: [ ]\n",
      "eliminated: [ tfidf-d0454, tfidf-d0454, ..., Convnet-240ab, Convnet-240ab ]\n",
      "nScores: [\n",
      "  { _id: 5e7cd4158175111c4825e975, id: lda-aa8d5, metric: ndcg, score: 0.25 },\n",
      "  { _id: 5e7cd41d8175111c4825e978, id: lda-aa8d5, metric: ndcg@10, score: 0.03 },\n",
      "  ...,\n",
      "  { _id: 5ed76698065f281b7bb6a9cf, id: BM25_yf-72299, metric: p@100, score: 0.04 },\n",
      "  { _id: 5ed766a9065f281b7bb6a9d2, id: BM25_yf-72299, metric: map, score: 0.28 }\n",
      "]\n"
     ]
    }
   ],
   "source": [
    "# We filter scores:\n",
    "nScores = []\n",
    "errors = []\n",
    "eliminated = []\n",
    "for row in pb(scores):\n",
    "    try:\n",
    "        if twinewsRankings.getMeta(row['id'])['maxUsers'] is None:\n",
    "            nScores.append(row)\n",
    "        else:\n",
    "            eliminated.append(row['id'])\n",
    "    except Exception as e:\n",
    "        errors.append(row['id'])\n",
    "print(\"errors: \" + b(errors))\n",
    "print(\"eliminated: \" + b(eliminated))\n",
    "print(\"nScores: \" + b(nScores))"
   ]
  },
  {
   "cell_type": "code",
   "execution_count": 5,
   "metadata": {},
   "outputs": [],
   "source": [
    "scores = nScores"
   ]
  },
  {
   "cell_type": "code",
   "execution_count": 6,
   "metadata": {},
   "outputs": [
    {
     "name": "stdout",
     "output_type": "stream",
     "text": [
      "{ bm25-ser@100, div@100, ..., topic-snov@100, wtfidf-ser@100 }\n"
     ]
    }
   ],
   "source": [
    "metrics = set()\n",
    "for row in scores:\n",
    "    metrics.add(row['metric'])\n",
    "bp(metrics)"
   ]
  },
  {
   "cell_type": "code",
   "execution_count": 7,
   "metadata": {},
   "outputs": [],
   "source": [
    "allowedMetrics = \\\n",
    "{\n",
    "    ### Ranking accuracy:\n",
    "    # 'ndcg', 'ndcg@10', 'ndcg@100', 'map', 'mrr', 'p@10', 'p@100',\n",
    "    ### Diversity:\n",
    "    # 'div@100', 'topic-div@100', 'jacc-div@100', 'swjacc-div@100', 'style-div@100',\n",
    "    ### Novelty:\n",
    "    'nov@100', 'topic-nov@100', 'jacc-nov@100', 'swjacc-nov@100', 'style-nov@100',\n",
    "    # ### Strict novelty:\n",
    "    # 'snov@100', 'topic-snov@100', 'jacc-snov@100', 'swjacc-snov@100', 'style-snov@100',\n",
    "    ### Serendipity:\n",
    "    # 'tfidf-ser@100', 'wtfidf-ser@100', 'bm25-ser@100', 'jacc-ser@100', 'style-ser@100',\n",
    "}"
   ]
  },
  {
   "cell_type": "code",
   "execution_count": 8,
   "metadata": {},
   "outputs": [
    {
     "data": {
      "text/html": [
       "<style  type=\"text/css\" >\n",
       "    #T_ce3b2534_d64d_11ea_a230_e4b97a00219arow0_col1 {\n",
       "            background-color:  rgba(0, 155, 149, 0.3);\n",
       "        }    #T_ce3b2534_d64d_11ea_a230_e4b97a00219arow0_col2 {\n",
       "            background-color:  rgba(0, 122, 204, 0.3);\n",
       "        }    #T_ce3b2534_d64d_11ea_a230_e4b97a00219arow0_col3 {\n",
       "            background-color:  rgba(242, 82, 82, 0.3);\n",
       "        }    #T_ce3b2534_d64d_11ea_a230_e4b97a00219arow0_col4 {\n",
       "            background-color:  rgba(0, 155, 149, 0.3);\n",
       "        }    #T_ce3b2534_d64d_11ea_a230_e4b97a00219arow0_col5 {\n",
       "            background-color:  rgba(0, 122, 204, 0.3);\n",
       "        }    #T_ce3b2534_d64d_11ea_a230_e4b97a00219arow0_col6 {\n",
       "            background-color:  rgba(242, 82, 82, 0.3);\n",
       "        }    #T_ce3b2534_d64d_11ea_a230_e4b97a00219arow1_col1 {\n",
       "            background-color:  rgba(0, 155, 149, 0.3);\n",
       "        }    #T_ce3b2534_d64d_11ea_a230_e4b97a00219arow1_col2 {\n",
       "            background-color:  rgba(0, 122, 204, 0.3);\n",
       "        }    #T_ce3b2534_d64d_11ea_a230_e4b97a00219arow1_col3 {\n",
       "            background-color:  rgba(242, 82, 82, 0.3);\n",
       "        }    #T_ce3b2534_d64d_11ea_a230_e4b97a00219arow1_col4 {\n",
       "            background-color:  rgba(0, 155, 149, 0.3);\n",
       "        }    #T_ce3b2534_d64d_11ea_a230_e4b97a00219arow1_col5 {\n",
       "            background-color:  rgba(0, 122, 204, 0.3);\n",
       "        }    #T_ce3b2534_d64d_11ea_a230_e4b97a00219arow1_col6 {\n",
       "            background-color:  rgba(242, 82, 82, 0.3);\n",
       "        }    #T_ce3b2534_d64d_11ea_a230_e4b97a00219arow2_col1 {\n",
       "            background-color:  rgba(0, 155, 149, 0.3);\n",
       "        }    #T_ce3b2534_d64d_11ea_a230_e4b97a00219arow2_col2 {\n",
       "            background-color:  rgba(0, 122, 204, 0.3);\n",
       "        }    #T_ce3b2534_d64d_11ea_a230_e4b97a00219arow2_col3 {\n",
       "            background-color:  rgba(242, 82, 82, 0.3);\n",
       "        }    #T_ce3b2534_d64d_11ea_a230_e4b97a00219arow2_col4 {\n",
       "            background-color:  rgba(0, 155, 149, 0.3);\n",
       "        }    #T_ce3b2534_d64d_11ea_a230_e4b97a00219arow2_col5 {\n",
       "            background-color:  rgba(0, 122, 204, 0.3);\n",
       "        }    #T_ce3b2534_d64d_11ea_a230_e4b97a00219arow2_col6 {\n",
       "            background-color:  rgba(242, 82, 82, 0.3);\n",
       "        }    #T_ce3b2534_d64d_11ea_a230_e4b97a00219arow3_col1 {\n",
       "            background-color:  rgba(0, 155, 149, 0.3);\n",
       "        }    #T_ce3b2534_d64d_11ea_a230_e4b97a00219arow3_col2 {\n",
       "            background-color:  rgba(0, 122, 204, 0.3);\n",
       "        }    #T_ce3b2534_d64d_11ea_a230_e4b97a00219arow3_col3 {\n",
       "            background-color:  rgba(242, 82, 82, 0.3);\n",
       "        }    #T_ce3b2534_d64d_11ea_a230_e4b97a00219arow3_col4 {\n",
       "            background-color:  rgba(0, 155, 149, 0.3);\n",
       "        }    #T_ce3b2534_d64d_11ea_a230_e4b97a00219arow3_col5 {\n",
       "            background-color:  rgba(0, 122, 204, 0.3);\n",
       "        }    #T_ce3b2534_d64d_11ea_a230_e4b97a00219arow3_col6 {\n",
       "            background-color:  rgba(242, 82, 82, 0.3);\n",
       "        }    #T_ce3b2534_d64d_11ea_a230_e4b97a00219arow4_col1 {\n",
       "            background-color:  rgba(0, 155, 149, 0.3);\n",
       "        }    #T_ce3b2534_d64d_11ea_a230_e4b97a00219arow4_col2 {\n",
       "            background-color:  rgba(0, 122, 204, 0.3);\n",
       "        }    #T_ce3b2534_d64d_11ea_a230_e4b97a00219arow4_col3 {\n",
       "            background-color:  rgba(242, 82, 82, 0.3);\n",
       "        }    #T_ce3b2534_d64d_11ea_a230_e4b97a00219arow4_col4 {\n",
       "            background-color:  rgba(0, 155, 149, 0.3);\n",
       "        }    #T_ce3b2534_d64d_11ea_a230_e4b97a00219arow4_col5 {\n",
       "            background-color:  rgba(0, 122, 204, 0.3);\n",
       "        }    #T_ce3b2534_d64d_11ea_a230_e4b97a00219arow4_col6 {\n",
       "            background-color:  rgba(242, 82, 82, 0.3);\n",
       "        }</style><table id=\"T_ce3b2534_d64d_11ea_a230_e4b97a00219a\" ><thead>    <tr>        <th class=\"blank level0\" ></th>        <th class=\"col_heading level0 col0\" >metric</th>        <th class=\"col_heading level0 col1\" >minId</th>        <th class=\"col_heading level0 col2\" >min</th>        <th class=\"col_heading level0 col3\" >nmin</th>        <th class=\"col_heading level0 col4\" >maxId</th>        <th class=\"col_heading level0 col5\" >max</th>        <th class=\"col_heading level0 col6\" >nmax</th>    </tr></thead><tbody>\n",
       "                <tr>\n",
       "                        <th id=\"T_ce3b2534_d64d_11ea_a230_e4b97a00219alevel0_row0\" class=\"row_heading level0 row0\" >0</th>\n",
       "                        <td id=\"T_ce3b2534_d64d_11ea_a230_e4b97a00219arow0_col0\" class=\"data row0 col0\" >topic-nov@100</td>\n",
       "                        <td id=\"T_ce3b2534_d64d_11ea_a230_e4b97a00219arow0_col1\" class=\"data row0 col1\" >nmf-6078e</td>\n",
       "                        <td id=\"T_ce3b2534_d64d_11ea_a230_e4b97a00219arow0_col2\" class=\"data row0 col2\" >0.75</td>\n",
       "                        <td id=\"T_ce3b2534_d64d_11ea_a230_e4b97a00219arow0_col3\" class=\"data row0 col3\" >0.7</td>\n",
       "                        <td id=\"T_ce3b2534_d64d_11ea_a230_e4b97a00219arow0_col4\" class=\"data row0 col4\" >worst-559a0</td>\n",
       "                        <td id=\"T_ce3b2534_d64d_11ea_a230_e4b97a00219arow0_col5\" class=\"data row0 col5\" >0.89</td>\n",
       "                        <td id=\"T_ce3b2534_d64d_11ea_a230_e4b97a00219arow0_col6\" class=\"data row0 col6\" >1</td>\n",
       "            </tr>\n",
       "            <tr>\n",
       "                        <th id=\"T_ce3b2534_d64d_11ea_a230_e4b97a00219alevel0_row1\" class=\"row_heading level0 row1\" >1</th>\n",
       "                        <td id=\"T_ce3b2534_d64d_11ea_a230_e4b97a00219arow1_col0\" class=\"data row1 col0\" >style-nov@100</td>\n",
       "                        <td id=\"T_ce3b2534_d64d_11ea_a230_e4b97a00219arow1_col1\" class=\"data row1 col1\" >dbert-ft-3a57f</td>\n",
       "                        <td id=\"T_ce3b2534_d64d_11ea_a230_e4b97a00219arow1_col2\" class=\"data row1 col2\" >0.49</td>\n",
       "                        <td id=\"T_ce3b2534_d64d_11ea_a230_e4b97a00219arow1_col3\" class=\"data row1 col3\" >0.4</td>\n",
       "                        <td id=\"T_ce3b2534_d64d_11ea_a230_e4b97a00219arow1_col4\" class=\"data row1 col4\" >bm25-c4813</td>\n",
       "                        <td id=\"T_ce3b2534_d64d_11ea_a230_e4b97a00219arow1_col5\" class=\"data row1 col5\" >0.61</td>\n",
       "                        <td id=\"T_ce3b2534_d64d_11ea_a230_e4b97a00219arow1_col6\" class=\"data row1 col6\" >0.8</td>\n",
       "            </tr>\n",
       "            <tr>\n",
       "                        <th id=\"T_ce3b2534_d64d_11ea_a230_e4b97a00219alevel0_row2\" class=\"row_heading level0 row2\" >2</th>\n",
       "                        <td id=\"T_ce3b2534_d64d_11ea_a230_e4b97a00219arow2_col0\" class=\"data row2 col0\" >nov@100</td>\n",
       "                        <td id=\"T_ce3b2534_d64d_11ea_a230_e4b97a00219arow2_col1\" class=\"data row2 col1\" >tfidf-7febb</td>\n",
       "                        <td id=\"T_ce3b2534_d64d_11ea_a230_e4b97a00219arow2_col2\" class=\"data row2 col2\" >0.94</td>\n",
       "                        <td id=\"T_ce3b2534_d64d_11ea_a230_e4b97a00219arow2_col3\" class=\"data row2 col3\" >0.9</td>\n",
       "                        <td id=\"T_ce3b2534_d64d_11ea_a230_e4b97a00219arow2_col4\" class=\"data row2 col4\" >worst-559a0</td>\n",
       "                        <td id=\"T_ce3b2534_d64d_11ea_a230_e4b97a00219arow2_col5\" class=\"data row2 col5\" >0.97</td>\n",
       "                        <td id=\"T_ce3b2534_d64d_11ea_a230_e4b97a00219arow2_col6\" class=\"data row2 col6\" >1</td>\n",
       "            </tr>\n",
       "            <tr>\n",
       "                        <th id=\"T_ce3b2534_d64d_11ea_a230_e4b97a00219alevel0_row3\" class=\"row_heading level0 row3\" >3</th>\n",
       "                        <td id=\"T_ce3b2534_d64d_11ea_a230_e4b97a00219arow3_col0\" class=\"data row3 col0\" >jacc-nov@100</td>\n",
       "                        <td id=\"T_ce3b2534_d64d_11ea_a230_e4b97a00219arow3_col1\" class=\"data row3 col1\" >tfidf-4c997</td>\n",
       "                        <td id=\"T_ce3b2534_d64d_11ea_a230_e4b97a00219arow3_col2\" class=\"data row3 col2\" >0.87</td>\n",
       "                        <td id=\"T_ce3b2534_d64d_11ea_a230_e4b97a00219arow3_col3\" class=\"data row3 col3\" >0.8</td>\n",
       "                        <td id=\"T_ce3b2534_d64d_11ea_a230_e4b97a00219arow3_col4\" class=\"data row3 col4\" >bm25-5b0c5</td>\n",
       "                        <td id=\"T_ce3b2534_d64d_11ea_a230_e4b97a00219arow3_col5\" class=\"data row3 col5\" >0.9</td>\n",
       "                        <td id=\"T_ce3b2534_d64d_11ea_a230_e4b97a00219arow3_col6\" class=\"data row3 col6\" >1</td>\n",
       "            </tr>\n",
       "            <tr>\n",
       "                        <th id=\"T_ce3b2534_d64d_11ea_a230_e4b97a00219alevel0_row4\" class=\"row_heading level0 row4\" >4</th>\n",
       "                        <td id=\"T_ce3b2534_d64d_11ea_a230_e4b97a00219arow4_col0\" class=\"data row4 col0\" >swjacc-nov@100</td>\n",
       "                        <td id=\"T_ce3b2534_d64d_11ea_a230_e4b97a00219arow4_col1\" class=\"data row4 col1\" >tfidf-7e79d</td>\n",
       "                        <td id=\"T_ce3b2534_d64d_11ea_a230_e4b97a00219arow4_col2\" class=\"data row4 col2\" >0.95</td>\n",
       "                        <td id=\"T_ce3b2534_d64d_11ea_a230_e4b97a00219arow4_col3\" class=\"data row4 col3\" >0.9</td>\n",
       "                        <td id=\"T_ce3b2534_d64d_11ea_a230_e4b97a00219arow4_col4\" class=\"data row4 col4\" >bm25-c4813</td>\n",
       "                        <td id=\"T_ce3b2534_d64d_11ea_a230_e4b97a00219arow4_col5\" class=\"data row4 col5\" >0.97</td>\n",
       "                        <td id=\"T_ce3b2534_d64d_11ea_a230_e4b97a00219arow4_col6\" class=\"data row4 col6\" >1</td>\n",
       "            </tr>\n",
       "    </tbody></table>"
      ],
      "text/plain": [
       "<pandas.io.formats.style.Styler at 0x7f2bff72ba90>"
      ]
     },
     "metadata": {},
     "output_type": "display_data"
    }
   ],
   "source": [
    "data = []\n",
    "for metric in metrics:\n",
    "    if metric in allowedMetrics:\n",
    "        mini = None\n",
    "        miniId = None\n",
    "        maxi = None\n",
    "        maxiId = None\n",
    "        for row in scores:\n",
    "            score = row['score']\n",
    "            currentMetric = row['metric']\n",
    "            if currentMetric == metric:\n",
    "                if mini is None or score < mini: # and ((not \"ser@\" in metric) or score > 0.0001)\n",
    "                    mini = score\n",
    "                    miniId = row['id']\n",
    "                if maxi is None or score > maxi:\n",
    "                    maxi = score\n",
    "                    maxiId = row['id']\n",
    "        floatTruncation = 2\n",
    "        nmini = truncateFloat(mini, 1)\n",
    "        if nmini < 0.0:\n",
    "            nmini = 0.0\n",
    "        nmaxi = truncateFloat(maxi, 1) + 0.2\n",
    "        if nmaxi > 1.0:\n",
    "            nmaxi = 1.0\n",
    "        data.append\\\n",
    "        (\n",
    "            {\n",
    "                \"metric\": metric,\n",
    "                \"min\": truncateFloat(mini, floatTruncation), \"max\": truncateFloat(maxi, floatTruncation),\n",
    "                \"nmin\": nmini, \"nmax\": nmaxi,\n",
    "                \"minId\": miniId, \"maxId\": maxiId,\n",
    "            }\n",
    "        )\n",
    "displayDicts(data, start=['metric', 'minId', 'min', 'nmin', 'maxId', 'max', 'nmax'], blue={'min', 'max'}, green=['maxId', 'minId'], red=['nmin', 'nmax'])"
   ]
  },
  {
   "cell_type": "code",
   "execution_count": null,
   "metadata": {},
   "outputs": [],
   "source": []
  },
  {
   "cell_type": "code",
   "execution_count": null,
   "metadata": {},
   "outputs": [],
   "source": []
  }
 ],
 "metadata": {
  "kernelspec": {
   "display_name": "Python 3",
   "language": "python",
   "name": "python3"
  },
  "language_info": {
   "codemirror_mode": {
    "name": "ipython",
    "version": 3
   },
   "file_extension": ".py",
   "mimetype": "text/x-python",
   "name": "python",
   "nbconvert_exporter": "python",
   "pygments_lexer": "ipython3",
   "version": "3.6.6"
  }
 },
 "nbformat": 4,
 "nbformat_minor": 2
}
