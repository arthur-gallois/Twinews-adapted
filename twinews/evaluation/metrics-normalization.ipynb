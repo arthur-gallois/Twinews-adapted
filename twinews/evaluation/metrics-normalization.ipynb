{
 "cells": [
  {
   "cell_type": "code",
   "execution_count": 1,
   "metadata": {},
   "outputs": [],
   "source": [
    "from systemtools.hayj import *\n",
    "from systemtools.location import *\n",
    "from systemtools.basics import *\n",
    "from systemtools.file import *\n",
    "from systemtools.printer import *\n",
    "from twinews.utils import *\n",
    "from twinews.evaluation.utils import *\n",
    "from twinews.models.ranking import *"
   ]
  },
  {
   "cell_type": "code",
   "execution_count": 2,
   "metadata": {},
   "outputs": [
    {
     "name": "stdout",
     "output_type": "stream",
     "text": [
      "twinews scores initialised.\n"
     ]
    }
   ],
   "source": [
    "twinewsScores = getTwinewsScores()\n",
    "twinewsRankings = getTwinewsRankings()"
   ]
  },
  {
   "cell_type": "code",
   "execution_count": 3,
   "metadata": {},
   "outputs": [
    {
     "name": "stdout",
     "output_type": "stream",
     "text": [
      "[\n",
      "  { _id: 5e7cd4158175111c4825e975, id: lda-aa8d5, metric: ndcg, score: 0.25 },\n",
      "  { _id: 5e7cd41d8175111c4825e978, id: lda-aa8d5, metric: ndcg@10, score: 0.03 },\n",
      "  ...,\n",
      "  { _id: 5ea9860e06cc3c639430ecad, id: combin-01199, metric: jacc-snov@100, score: 0.83 },\n",
      "  { _id: 5ea989279ec33c5ca39b4dc7, id: combin-1b17f, metric: swjacc-nov@100, score: 0.95 }\n",
      "]\n"
     ]
    }
   ],
   "source": [
    "scores = list(twinewsScores.find())\n",
    "bp(scores)"
   ]
  },
  {
   "cell_type": "code",
   "execution_count": 4,
   "metadata": {
    "scrolled": true
   },
   "outputs": [
    {
     "name": "stdout",
     "output_type": "stream",
     "text": [
      "  0% [                    ]\n",
      " 10% [==                  ] (1m 21.72s left)\n",
      " 20% [====                ] (1m 12.68s left)\n",
      " 30% [======              ] (1m 3.093s left)\n",
      " 40% [========            ] (54.3s left)\n",
      " 50% [==========          ] (45.46s left)\n",
      " 60% [============        ] (36.453s left)\n",
      " 70% [==============      ] (27.368s left)\n",
      " 80% [================    ] (18.232s left)\n",
      " 90% [==================  ] (9.086s left)\n",
      "100% [====================] (total duration: 1m 30.769s, mean duration: 0.007s)\n",
      "errors: [ ]\n",
      "eliminated: [ tfidf-d0454, tfidf-d0454, ..., tfidf-aed6e, tfidf-aed6e ]\n",
      "nScores: [\n",
      "  { _id: 5e7cd4158175111c4825e975, id: lda-aa8d5, metric: ndcg, score: 0.25 },\n",
      "  { _id: 5e7cd41d8175111c4825e978, id: lda-aa8d5, metric: ndcg@10, score: 0.03 },\n",
      "  ...,\n",
      "  { _id: 5ea9860e06cc3c639430ecad, id: combin-01199, metric: jacc-snov@100, score: 0.83 },\n",
      "  { _id: 5ea989279ec33c5ca39b4dc7, id: combin-1b17f, metric: swjacc-nov@100, score: 0.95 }\n",
      "]\n"
     ]
    }
   ],
   "source": [
    "# We filter scores:\n",
    "nScores = []\n",
    "errors = []\n",
    "eliminated = []\n",
    "for row in pb(scores):\n",
    "    try:\n",
    "        if twinewsRankings.getMeta(row['id'])['maxUsers'] is None:\n",
    "            nScores.append(row)\n",
    "        else:\n",
    "            eliminated.append(row['id'])\n",
    "    except Exception as e:\n",
    "        errors.append(row['id'])\n",
    "print(\"errors: \" + b(errors))\n",
    "print(\"eliminated: \" + b(eliminated))\n",
    "print(\"nScores: \" + b(nScores))"
   ]
  },
  {
   "cell_type": "code",
   "execution_count": 5,
   "metadata": {},
   "outputs": [],
   "source": [
    "scores = nScores"
   ]
  },
  {
   "cell_type": "code",
   "execution_count": 8,
   "metadata": {},
   "outputs": [
    {
     "name": "stdout",
     "output_type": "stream",
     "text": [
      "{ bm25-ser@100, div@100, ..., topic-snov@100, wtfidf-ser@100 }\n"
     ]
    }
   ],
   "source": [
    "metrics = set()\n",
    "for row in scores:\n",
    "    metrics.add(row['metric'])\n",
    "bp(metrics)"
   ]
  },
  {
   "cell_type": "code",
   "execution_count": 14,
   "metadata": {},
   "outputs": [],
   "source": [
    "allowedMetrics = \\\n",
    "{\n",
    "    ### Ranking accuracy:\n",
    "    # 'ndcg', 'ndcg@10', 'ndcg@100', 'map', 'mrr', 'p@10', 'p@100',\n",
    "    ### Diversity:\n",
    "    # 'div@100', 'topic-div@100', 'jacc-div@100', 'swjacc-div@100', 'style-div@100',\n",
    "    ### Novelty:\n",
    "    # 'nov@100', 'topic-nov@100', 'jacc-nov@100', 'swjacc-nov@100', 'style-nov@100',\n",
    "    # ### Strict novelty:\n",
    "    'snov@100', 'topic-snov@100', 'jacc-snov@100', 'swjacc-snov@100', 'style-snov@100',\n",
    "    ### Serendipity:\n",
    "    # 'tfidf-ser@100', 'wtfidf-ser@100', 'bm25-ser@100', 'jacc-ser@100', 'style-ser@100',\n",
    "}"
   ]
  },
  {
   "cell_type": "code",
   "execution_count": 15,
   "metadata": {},
   "outputs": [
    {
     "data": {
      "text/html": [
       "<style  type=\"text/css\" >\n",
       "    #T_9d4c1916_8a25_11ea_9858_e4b97a00219arow0_col1 {\n",
       "            background-color:  rgba(0, 155, 149, 0.3);\n",
       "        }    #T_9d4c1916_8a25_11ea_9858_e4b97a00219arow0_col2 {\n",
       "            background-color:  rgba(0, 122, 204, 0.3);\n",
       "        }    #T_9d4c1916_8a25_11ea_9858_e4b97a00219arow0_col3 {\n",
       "            background-color:  rgba(242, 82, 82, 0.3);\n",
       "        }    #T_9d4c1916_8a25_11ea_9858_e4b97a00219arow0_col4 {\n",
       "            background-color:  rgba(0, 155, 149, 0.3);\n",
       "        }    #T_9d4c1916_8a25_11ea_9858_e4b97a00219arow0_col5 {\n",
       "            background-color:  rgba(0, 122, 204, 0.3);\n",
       "        }    #T_9d4c1916_8a25_11ea_9858_e4b97a00219arow0_col6 {\n",
       "            background-color:  rgba(242, 82, 82, 0.3);\n",
       "        }    #T_9d4c1916_8a25_11ea_9858_e4b97a00219arow1_col1 {\n",
       "            background-color:  rgba(0, 155, 149, 0.3);\n",
       "        }    #T_9d4c1916_8a25_11ea_9858_e4b97a00219arow1_col2 {\n",
       "            background-color:  rgba(0, 122, 204, 0.3);\n",
       "        }    #T_9d4c1916_8a25_11ea_9858_e4b97a00219arow1_col3 {\n",
       "            background-color:  rgba(242, 82, 82, 0.3);\n",
       "        }    #T_9d4c1916_8a25_11ea_9858_e4b97a00219arow1_col4 {\n",
       "            background-color:  rgba(0, 155, 149, 0.3);\n",
       "        }    #T_9d4c1916_8a25_11ea_9858_e4b97a00219arow1_col5 {\n",
       "            background-color:  rgba(0, 122, 204, 0.3);\n",
       "        }    #T_9d4c1916_8a25_11ea_9858_e4b97a00219arow1_col6 {\n",
       "            background-color:  rgba(242, 82, 82, 0.3);\n",
       "        }    #T_9d4c1916_8a25_11ea_9858_e4b97a00219arow2_col1 {\n",
       "            background-color:  rgba(0, 155, 149, 0.3);\n",
       "        }    #T_9d4c1916_8a25_11ea_9858_e4b97a00219arow2_col2 {\n",
       "            background-color:  rgba(0, 122, 204, 0.3);\n",
       "        }    #T_9d4c1916_8a25_11ea_9858_e4b97a00219arow2_col3 {\n",
       "            background-color:  rgba(242, 82, 82, 0.3);\n",
       "        }    #T_9d4c1916_8a25_11ea_9858_e4b97a00219arow2_col4 {\n",
       "            background-color:  rgba(0, 155, 149, 0.3);\n",
       "        }    #T_9d4c1916_8a25_11ea_9858_e4b97a00219arow2_col5 {\n",
       "            background-color:  rgba(0, 122, 204, 0.3);\n",
       "        }    #T_9d4c1916_8a25_11ea_9858_e4b97a00219arow2_col6 {\n",
       "            background-color:  rgba(242, 82, 82, 0.3);\n",
       "        }    #T_9d4c1916_8a25_11ea_9858_e4b97a00219arow3_col1 {\n",
       "            background-color:  rgba(0, 155, 149, 0.3);\n",
       "        }    #T_9d4c1916_8a25_11ea_9858_e4b97a00219arow3_col2 {\n",
       "            background-color:  rgba(0, 122, 204, 0.3);\n",
       "        }    #T_9d4c1916_8a25_11ea_9858_e4b97a00219arow3_col3 {\n",
       "            background-color:  rgba(242, 82, 82, 0.3);\n",
       "        }    #T_9d4c1916_8a25_11ea_9858_e4b97a00219arow3_col4 {\n",
       "            background-color:  rgba(0, 155, 149, 0.3);\n",
       "        }    #T_9d4c1916_8a25_11ea_9858_e4b97a00219arow3_col5 {\n",
       "            background-color:  rgba(0, 122, 204, 0.3);\n",
       "        }    #T_9d4c1916_8a25_11ea_9858_e4b97a00219arow3_col6 {\n",
       "            background-color:  rgba(242, 82, 82, 0.3);\n",
       "        }    #T_9d4c1916_8a25_11ea_9858_e4b97a00219arow4_col1 {\n",
       "            background-color:  rgba(0, 155, 149, 0.3);\n",
       "        }    #T_9d4c1916_8a25_11ea_9858_e4b97a00219arow4_col2 {\n",
       "            background-color:  rgba(0, 122, 204, 0.3);\n",
       "        }    #T_9d4c1916_8a25_11ea_9858_e4b97a00219arow4_col3 {\n",
       "            background-color:  rgba(242, 82, 82, 0.3);\n",
       "        }    #T_9d4c1916_8a25_11ea_9858_e4b97a00219arow4_col4 {\n",
       "            background-color:  rgba(0, 155, 149, 0.3);\n",
       "        }    #T_9d4c1916_8a25_11ea_9858_e4b97a00219arow4_col5 {\n",
       "            background-color:  rgba(0, 122, 204, 0.3);\n",
       "        }    #T_9d4c1916_8a25_11ea_9858_e4b97a00219arow4_col6 {\n",
       "            background-color:  rgba(242, 82, 82, 0.3);\n",
       "        }</style><table id=\"T_9d4c1916_8a25_11ea_9858_e4b97a00219a\" ><thead>    <tr>        <th class=\"blank level0\" ></th>        <th class=\"col_heading level0 col0\" >metric</th>        <th class=\"col_heading level0 col1\" >minId</th>        <th class=\"col_heading level0 col2\" >min</th>        <th class=\"col_heading level0 col3\" >nmin</th>        <th class=\"col_heading level0 col4\" >maxId</th>        <th class=\"col_heading level0 col5\" >max</th>        <th class=\"col_heading level0 col6\" >nmax</th>    </tr></thead><tbody>\n",
       "                <tr>\n",
       "                        <th id=\"T_9d4c1916_8a25_11ea_9858_e4b97a00219alevel0_row0\" class=\"row_heading level0 row0\" >0</th>\n",
       "                        <td id=\"T_9d4c1916_8a25_11ea_9858_e4b97a00219arow0_col0\" class=\"data row0 col0\" >snov@100</td>\n",
       "                        <td id=\"T_9d4c1916_8a25_11ea_9858_e4b97a00219arow0_col1\" class=\"data row0 col1\" >tfidf-4b89a</td>\n",
       "                        <td id=\"T_9d4c1916_8a25_11ea_9858_e4b97a00219arow0_col2\" class=\"data row0 col2\" >0.87</td>\n",
       "                        <td id=\"T_9d4c1916_8a25_11ea_9858_e4b97a00219arow0_col3\" class=\"data row0 col3\" >0.8</td>\n",
       "                        <td id=\"T_9d4c1916_8a25_11ea_9858_e4b97a00219arow0_col4\" class=\"data row0 col4\" >worst-f3f99</td>\n",
       "                        <td id=\"T_9d4c1916_8a25_11ea_9858_e4b97a00219arow0_col5\" class=\"data row0 col5\" >0.94</td>\n",
       "                        <td id=\"T_9d4c1916_8a25_11ea_9858_e4b97a00219arow0_col6\" class=\"data row0 col6\" >1</td>\n",
       "            </tr>\n",
       "            <tr>\n",
       "                        <th id=\"T_9d4c1916_8a25_11ea_9858_e4b97a00219alevel0_row1\" class=\"row_heading level0 row1\" >1</th>\n",
       "                        <td id=\"T_9d4c1916_8a25_11ea_9858_e4b97a00219arow1_col0\" class=\"data row1 col0\" >swjacc-snov@100</td>\n",
       "                        <td id=\"T_9d4c1916_8a25_11ea_9858_e4b97a00219arow1_col1\" class=\"data row1 col1\" >bm25-c84fd</td>\n",
       "                        <td id=\"T_9d4c1916_8a25_11ea_9858_e4b97a00219arow1_col2\" class=\"data row1 col2\" >0.91</td>\n",
       "                        <td id=\"T_9d4c1916_8a25_11ea_9858_e4b97a00219arow1_col3\" class=\"data row1 col3\" >0.9</td>\n",
       "                        <td id=\"T_9d4c1916_8a25_11ea_9858_e4b97a00219arow1_col4\" class=\"data row1 col4\" >bm25-c4813</td>\n",
       "                        <td id=\"T_9d4c1916_8a25_11ea_9858_e4b97a00219arow1_col5\" class=\"data row1 col5\" >0.95</td>\n",
       "                        <td id=\"T_9d4c1916_8a25_11ea_9858_e4b97a00219arow1_col6\" class=\"data row1 col6\" >1</td>\n",
       "            </tr>\n",
       "            <tr>\n",
       "                        <th id=\"T_9d4c1916_8a25_11ea_9858_e4b97a00219alevel0_row2\" class=\"row_heading level0 row2\" >2</th>\n",
       "                        <td id=\"T_9d4c1916_8a25_11ea_9858_e4b97a00219arow2_col0\" class=\"data row2 col0\" >style-snov@100</td>\n",
       "                        <td id=\"T_9d4c1916_8a25_11ea_9858_e4b97a00219arow2_col1\" class=\"data row2 col1\" >dbert-ft-fdc3b</td>\n",
       "                        <td id=\"T_9d4c1916_8a25_11ea_9858_e4b97a00219arow2_col2\" class=\"data row2 col2\" >0.25</td>\n",
       "                        <td id=\"T_9d4c1916_8a25_11ea_9858_e4b97a00219arow2_col3\" class=\"data row2 col3\" >0.2</td>\n",
       "                        <td id=\"T_9d4c1916_8a25_11ea_9858_e4b97a00219arow2_col4\" class=\"data row2 col4\" >worst-f3f99</td>\n",
       "                        <td id=\"T_9d4c1916_8a25_11ea_9858_e4b97a00219arow2_col5\" class=\"data row2 col5\" >0.46</td>\n",
       "                        <td id=\"T_9d4c1916_8a25_11ea_9858_e4b97a00219arow2_col6\" class=\"data row2 col6\" >0.6</td>\n",
       "            </tr>\n",
       "            <tr>\n",
       "                        <th id=\"T_9d4c1916_8a25_11ea_9858_e4b97a00219alevel0_row3\" class=\"row_heading level0 row3\" >3</th>\n",
       "                        <td id=\"T_9d4c1916_8a25_11ea_9858_e4b97a00219arow3_col0\" class=\"data row3 col0\" >jacc-snov@100</td>\n",
       "                        <td id=\"T_9d4c1916_8a25_11ea_9858_e4b97a00219arow3_col1\" class=\"data row3 col1\" >combin-75494</td>\n",
       "                        <td id=\"T_9d4c1916_8a25_11ea_9858_e4b97a00219arow3_col2\" class=\"data row3 col2\" >0.83</td>\n",
       "                        <td id=\"T_9d4c1916_8a25_11ea_9858_e4b97a00219arow3_col3\" class=\"data row3 col3\" >0.8</td>\n",
       "                        <td id=\"T_9d4c1916_8a25_11ea_9858_e4b97a00219arow3_col4\" class=\"data row3 col4\" >worst-f3f99</td>\n",
       "                        <td id=\"T_9d4c1916_8a25_11ea_9858_e4b97a00219arow3_col5\" class=\"data row3 col5\" >0.85</td>\n",
       "                        <td id=\"T_9d4c1916_8a25_11ea_9858_e4b97a00219arow3_col6\" class=\"data row3 col6\" >1</td>\n",
       "            </tr>\n",
       "            <tr>\n",
       "                        <th id=\"T_9d4c1916_8a25_11ea_9858_e4b97a00219alevel0_row4\" class=\"row_heading level0 row4\" >4</th>\n",
       "                        <td id=\"T_9d4c1916_8a25_11ea_9858_e4b97a00219arow4_col0\" class=\"data row4 col0\" >topic-snov@100</td>\n",
       "                        <td id=\"T_9d4c1916_8a25_11ea_9858_e4b97a00219arow4_col1\" class=\"data row4 col1\" >nmf-17852</td>\n",
       "                        <td id=\"T_9d4c1916_8a25_11ea_9858_e4b97a00219arow4_col2\" class=\"data row4 col2\" >0.38</td>\n",
       "                        <td id=\"T_9d4c1916_8a25_11ea_9858_e4b97a00219arow4_col3\" class=\"data row4 col3\" >0.3</td>\n",
       "                        <td id=\"T_9d4c1916_8a25_11ea_9858_e4b97a00219arow4_col4\" class=\"data row4 col4\" >worst-f3f99</td>\n",
       "                        <td id=\"T_9d4c1916_8a25_11ea_9858_e4b97a00219arow4_col5\" class=\"data row4 col5\" >0.68</td>\n",
       "                        <td id=\"T_9d4c1916_8a25_11ea_9858_e4b97a00219arow4_col6\" class=\"data row4 col6\" >0.8</td>\n",
       "            </tr>\n",
       "    </tbody></table>"
      ],
      "text/plain": [
       "<pandas.io.formats.style.Styler at 0x7f8a24256dd8>"
      ]
     },
     "metadata": {},
     "output_type": "display_data"
    }
   ],
   "source": [
    "data = []\n",
    "for metric in metrics:\n",
    "    if metric in allowedMetrics:\n",
    "        mini = None\n",
    "        miniId = None\n",
    "        maxi = None\n",
    "        maxiId = None\n",
    "        for row in scores:\n",
    "            score = row['score']\n",
    "            currentMetric = row['metric']\n",
    "            if currentMetric == metric:\n",
    "                if mini is None or score < mini: # and ((not \"ser@\" in metric) or score > 0.0001)\n",
    "                    mini = score\n",
    "                    miniId = row['id']\n",
    "                if maxi is None or score > maxi:\n",
    "                    maxi = score\n",
    "                    maxiId = row['id']\n",
    "        floatTruncation = 2\n",
    "        nmini = truncateFloat(mini, 1)\n",
    "        if nmini < 0.0:\n",
    "            nmini = 0.0\n",
    "        nmaxi = truncateFloat(maxi, 1) + 0.2\n",
    "        if nmaxi > 1.0:\n",
    "            nmaxi = 1.0\n",
    "        data.append\\\n",
    "        (\n",
    "            {\n",
    "                \"metric\": metric,\n",
    "                \"min\": truncateFloat(mini, floatTruncation), \"max\": truncateFloat(maxi, floatTruncation),\n",
    "                \"nmin\": nmini, \"nmax\": nmaxi,\n",
    "                \"minId\": miniId, \"maxId\": maxiId,\n",
    "            }\n",
    "        )\n",
    "displayDicts(data, start=['metric', 'minId', 'min', 'nmin', 'maxId', 'max', 'nmax'], blue={'min', 'max'}, green=['maxId', 'minId'], red=['nmin', 'nmax'])"
   ]
  },
  {
   "cell_type": "code",
   "execution_count": null,
   "metadata": {},
   "outputs": [],
   "source": []
  },
  {
   "cell_type": "code",
   "execution_count": null,
   "metadata": {},
   "outputs": [],
   "source": []
  }
 ],
 "metadata": {
  "kernelspec": {
   "display_name": "Python 3",
   "language": "python",
   "name": "python3"
  },
  "language_info": {
   "codemirror_mode": {
    "name": "ipython",
    "version": 3
   },
   "file_extension": ".py",
   "mimetype": "text/x-python",
   "name": "python",
   "nbconvert_exporter": "python",
   "pygments_lexer": "ipython3",
   "version": "3.6.6"
  }
 },
 "nbformat": 4,
 "nbformat_minor": 2
}
