{
 "cells": [
  {
   "cell_type": "markdown",
   "metadata": {},
   "source": [
    "This notebook allow you to print results of models in tables"
   ]
  },
  {
   "cell_type": "code",
   "execution_count": 1,
   "metadata": {},
   "outputs": [],
   "source": [
    "import os ; os.environ[\"CUDA_VISIBLE_DEVICES\"] = \"\""
   ]
  },
  {
   "cell_type": "code",
   "execution_count": 2,
   "metadata": {},
   "outputs": [],
   "source": [
    "from systemtools.hayj import *\n",
    "from systemtools.location import *\n",
    "from systemtools.basics import *\n",
    "from systemtools.file import *\n",
    "from systemtools.printer import *\n",
    "from twinews.utils import *\n",
    "from twinews.evaluation.utils import *"
   ]
  },
  {
   "cell_type": "code",
   "execution_count": 3,
   "metadata": {
    "scrolled": false
   },
   "outputs": [
    {
     "name": "stdout",
     "output_type": "stream",
     "text": [
      "These values are common to all rows:\n",
      "\n",
      "\t- model: lda\n",
      "\t- splitVersion: 2\n",
      "\t- maxDF: 300\n",
      "\t- ldaLearningMethod: online\n",
      "\t- useExtraNews: False\n",
      "\t- maxUsers: None\n",
      "\t- ldaLearningDecay: 0.7\n",
      "\t- lowercase: True\n"
     ]
    },
    {
     "ename": "NameError",
     "evalue": "name 'reorderDFColumns' is not defined",
     "output_type": "error",
     "traceback": [
      "\u001b[0;31m---------------------------------------------------------------------------\u001b[0m",
      "\u001b[0;31mNameError\u001b[0m                                 Traceback (most recent call last)",
      "\u001b[0;32m<ipython-input-3-4dcfafd78033>\u001b[0m in \u001b[0;36m<module>\u001b[0;34m()\u001b[0m\n\u001b[1;32m      8\u001b[0m     },\n\u001b[1;32m      9\u001b[0m     \u001b[0mmetricsFilter\u001b[0m\u001b[0;34m=\u001b[0m\u001b[0;32mNone\u001b[0m\u001b[0;34m,\u001b[0m \u001b[0;31m# {'ndcg', 'ndcg@10'},\u001b[0m\u001b[0;34m\u001b[0m\u001b[0m\n\u001b[0;32m---> 10\u001b[0;31m     \u001b[0msortBy\u001b[0m\u001b[0;34m=\u001b[0m\u001b[0;34m'ndcg'\u001b[0m\u001b[0;34m,\u001b[0m\u001b[0;34m\u001b[0m\u001b[0m\n\u001b[0m\u001b[1;32m     11\u001b[0m )\n",
      "\u001b[0;32m~/Workspace/Python/Datasets/Twinews/twinews/evaluation/utils.py\u001b[0m in \u001b[0;36mprintReport\u001b[0;34m(model, splitVersion, metaFilter, metricsFilter, noSubsampling, logger, sortBy, colorize)\u001b[0m\n\u001b[1;32m     95\u001b[0m             \u001b[0mmetrics\u001b[0m \u001b[0;34m=\u001b[0m \u001b[0;34m[\u001b[0m\u001b[0;34m]\u001b[0m\u001b[0;34m\u001b[0m\u001b[0m\n\u001b[1;32m     96\u001b[0m         \u001b[0mdf\u001b[0m \u001b[0;34m=\u001b[0m \u001b[0mpd\u001b[0m\u001b[0;34m.\u001b[0m\u001b[0mDataFrame\u001b[0m\u001b[0;34m(\u001b[0m\u001b[0mdata\u001b[0m\u001b[0;34m)\u001b[0m\u001b[0;34m\u001b[0m\u001b[0m\n\u001b[0;32m---> 97\u001b[0;31m         \u001b[0mdf\u001b[0m \u001b[0;34m=\u001b[0m \u001b[0mreorderDFColumns\u001b[0m\u001b[0;34m(\u001b[0m\u001b[0mdf\u001b[0m\u001b[0;34m,\u001b[0m \u001b[0mstart\u001b[0m\u001b[0;34m=\u001b[0m\u001b[0;34m[\u001b[0m\u001b[0;34m'id'\u001b[0m\u001b[0;34m]\u001b[0m\u001b[0;34m,\u001b[0m \u001b[0mend\u001b[0m\u001b[0;34m=\u001b[0m\u001b[0mmetrics\u001b[0m\u001b[0;34m)\u001b[0m\u001b[0;34m\u001b[0m\u001b[0m\n\u001b[0m\u001b[1;32m     98\u001b[0m         \u001b[0;32mif\u001b[0m \u001b[0msortBy\u001b[0m \u001b[0;32mnot\u001b[0m \u001b[0;32min\u001b[0m \u001b[0mdf\u001b[0m\u001b[0;34m.\u001b[0m\u001b[0mcolumns\u001b[0m\u001b[0;34m:\u001b[0m\u001b[0;34m\u001b[0m\u001b[0m\n\u001b[1;32m     99\u001b[0m             \u001b[0msortBy\u001b[0m \u001b[0;34m=\u001b[0m \u001b[0;32mNone\u001b[0m\u001b[0;34m\u001b[0m\u001b[0m\n",
      "\u001b[0;31mNameError\u001b[0m: name 'reorderDFColumns' is not defined"
     ]
    }
   ],
   "source": [
    "df = printReport\\\n",
    "(\n",
    "    model='lda',\n",
    "    splitVersion=2,\n",
    "    noSubsampling=True,\n",
    "    metaFilter=\\\n",
    "    {\n",
    "        # \"implementation\": \"gensim-lda\",\n",
    "    },\n",
    "    metricsFilter=None, # {'ndcg', 'ndcg@10'},\n",
    "    sortBy='ndcg',\n",
    ")"
   ]
  },
  {
   "cell_type": "code",
   "execution_count": null,
   "metadata": {},
   "outputs": [],
   "source": [
    "df = printReport\\\n",
    "(\n",
    "    model='nmf',\n",
    "    splitVersion=2,\n",
    "    noSubsampling=True,\n",
    "    metaFilter=\\\n",
    "    {\n",
    "        # \"implementation\": \"gensim-lda\",\n",
    "    },\n",
    "    metricsFilter=None, # {'ndcg', 'ndcg@10'},\n",
    "    sortBy='ndcg',\n",
    ")"
   ]
  },
  {
   "cell_type": "code",
   "execution_count": null,
   "metadata": {},
   "outputs": [],
   "source": [
    "df.columns.get_loc('nbTopics') in df.columns"
   ]
  },
  {
   "cell_type": "code",
   "execution_count": null,
   "metadata": {},
   "outputs": [],
   "source": [
    "def colorise_df_columns(df, grey=None, blue=None, red=None, green=None,\n",
    "                       grey_rgba=(150, 150, 150, 0.3),\n",
    "                       green_rgba=(0, 155, 149, 0.3),\n",
    "                       blue_rgba=(0, 122, 204, 0.3),\n",
    "                       red_rgba=(242, 82, 82, 0.3)):\n",
    "    \"\"\"\n",
    "        This function return a new DataFrame.\n",
    "        Choose colors for columns you give in grey, blue, red and green lists.\n",
    "        \n",
    "        Usage example:\n",
    "        \n",
    "            df = colorise_df_columns(df, grey={'id'}, red={'score', 'loss'})\n",
    "    \"\"\"\n",
    "    # Default are empty sets:\n",
    "    colors = {'grey': grey, 'blue': blue, 'red': red, 'green': green}\n",
    "    for color in colors:\n",
    "        if colors[color] is None:\n",
    "            colors[color] = set()\n",
    "    # Making a css_colors dict:\n",
    "    css_colors = {'grey': grey_rgba, 'blue': blue_rgba, 'red': red_rgba, 'green': green_rgba}\n",
    "    pre = 'background-color: rgba('\n",
    "    post = ')'\n",
    "    for css_color in css_colors:\n",
    "        css_colors[css_color] = pre + ', '.join([str(e) for e in css_colors[css_color]]) + post\n",
    "    # Checking if we have duplicates columns:\n",
    "    union = set()\n",
    "    total = 0\n",
    "    for color in colors:\n",
    "        for column in colors[color]:\n",
    "            union.add(column)\n",
    "            total += 1\n",
    "    if total != len(union):\n",
    "        raise Exception(\"Duplicates in columns between colors\")\n",
    "    # Removing elements not in df.columns:\n",
    "    for color in colors:\n",
    "        for column in set(colors[color]):\n",
    "            if column not in df.columns:\n",
    "                colors[color].remove(column)\n",
    "    # We define the colorize funct:\n",
    "    def colorize(df):\n",
    "        df = pd.DataFrame('', index=df.index, columns=df.columns)\n",
    "        df.iloc[:, column_index] = current_css_color\n",
    "        return df\n",
    "    for color in colors:\n",
    "        current_css_color = css_colors[color]\n",
    "        # print(current_css_color)\n",
    "        for column in colors[color]:\n",
    "            print(column)\n",
    "            column_index = df.columns.get_loc(column)\n",
    "            df = pd.DataFrame(df.style.apply(highlight_col, axis=None))\n",
    "    return df\n",
    "colorise_df_columns(df, grey={'A'}, green={'B', 'C'})"
   ]
  },
  {
   "cell_type": "code",
   "execution_count": null,
   "metadata": {},
   "outputs": [],
   "source": []
  },
  {
   "cell_type": "code",
   "execution_count": null,
   "metadata": {},
   "outputs": [],
   "source": [
    "np.random.seed(100)\n",
    "df =  pd.DataFrame(np.random.randn(5, 3), columns=list('ABC'))\n",
    "colorise_df_columns(df, red={'A'}, grey={'C'})"
   ]
  },
  {
   "cell_type": "code",
   "execution_count": null,
   "metadata": {},
   "outputs": [],
   "source": [
    "pd.DataFrame(df)"
   ]
  },
  {
   "cell_type": "code",
   "execution_count": null,
   "metadata": {},
   "outputs": [],
   "source": [
    "type(df)"
   ]
  },
  {
   "cell_type": "code",
   "execution_count": null,
   "metadata": {},
   "outputs": [],
   "source": []
  },
  {
   "cell_type": "code",
   "execution_count": null,
   "metadata": {},
   "outputs": [],
   "source": []
  },
  {
   "cell_type": "code",
   "execution_count": null,
   "metadata": {},
   "outputs": [],
   "source": []
  },
  {
   "cell_type": "code",
   "execution_count": null,
   "metadata": {},
   "outputs": [],
   "source": [
    "\n",
    "\n"
   ]
  },
  {
   "cell_type": "code",
   "execution_count": null,
   "metadata": {},
   "outputs": [],
   "source": []
  },
  {
   "cell_type": "code",
   "execution_count": null,
   "metadata": {},
   "outputs": [],
   "source": []
  },
  {
   "cell_type": "code",
   "execution_count": null,
   "metadata": {},
   "outputs": [],
   "source": []
  },
  {
   "cell_type": "code",
   "execution_count": null,
   "metadata": {},
   "outputs": [],
   "source": []
  },
  {
   "cell_type": "code",
   "execution_count": null,
   "metadata": {},
   "outputs": [],
   "source": []
  },
  {
   "cell_type": "code",
   "execution_count": null,
   "metadata": {},
   "outputs": [],
   "source": []
  },
  {
   "cell_type": "code",
   "execution_count": null,
   "metadata": {},
   "outputs": [],
   "source": []
  },
  {
   "cell_type": "code",
   "execution_count": null,
   "metadata": {},
   "outputs": [],
   "source": []
  },
  {
   "cell_type": "code",
   "execution_count": null,
   "metadata": {},
   "outputs": [],
   "source": []
  },
  {
   "cell_type": "code",
   "execution_count": null,
   "metadata": {},
   "outputs": [],
   "source": []
  },
  {
   "cell_type": "code",
   "execution_count": null,
   "metadata": {},
   "outputs": [],
   "source": []
  },
  {
   "cell_type": "code",
   "execution_count": null,
   "metadata": {},
   "outputs": [],
   "source": []
  },
  {
   "cell_type": "code",
   "execution_count": null,
   "metadata": {},
   "outputs": [],
   "source": []
  },
  {
   "cell_type": "code",
   "execution_count": null,
   "metadata": {},
   "outputs": [],
   "source": []
  },
  {
   "cell_type": "code",
   "execution_count": null,
   "metadata": {},
   "outputs": [],
   "source": []
  },
  {
   "cell_type": "code",
   "execution_count": null,
   "metadata": {},
   "outputs": [],
   "source": []
  },
  {
   "cell_type": "code",
   "execution_count": null,
   "metadata": {},
   "outputs": [],
   "source": []
  }
 ],
 "metadata": {
  "kernelspec": {
   "display_name": "Python 3",
   "language": "python",
   "name": "python3"
  },
  "language_info": {
   "codemirror_mode": {
    "name": "ipython",
    "version": 3
   },
   "file_extension": ".py",
   "mimetype": "text/x-python",
   "name": "python",
   "nbconvert_exporter": "python",
   "pygments_lexer": "ipython3",
   "version": "3.6.6"
  }
 },
 "nbformat": 4,
 "nbformat_minor": 4
}
