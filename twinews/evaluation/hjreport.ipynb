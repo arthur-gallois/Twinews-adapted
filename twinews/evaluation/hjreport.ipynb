{
 "cells": [
  {
   "cell_type": "markdown",
   "metadata": {},
   "source": [
    "This notebook allow you to print results of models in tables"
   ]
  },
  {
   "cell_type": "code",
   "execution_count": 1,
   "metadata": {},
   "outputs": [],
   "source": [
    "# from twinews import config as twinewsConf\n",
    "# twinewsConf.mongoLocation = \"octods\""
   ]
  },
  {
   "cell_type": "code",
   "execution_count": 2,
   "metadata": {},
   "outputs": [],
   "source": [
    "from systemtools.hayj import *\n",
    "from systemtools.location import *\n",
    "from systemtools.basics import *\n",
    "from systemtools.file import *\n",
    "from systemtools.printer import *\n",
    "from twinews.utils import *\n",
    "from twinews.evaluation.utils import *\n",
    "from twinews.models.ranking import *"
   ]
  },
  {
   "cell_type": "code",
   "execution_count": 3,
   "metadata": {},
   "outputs": [],
   "source": [
    "if False:\n",
    "    purgeSubsampledRankings()"
   ]
  },
  {
   "cell_type": "code",
   "execution_count": 4,
   "metadata": {},
   "outputs": [],
   "source": [
    "if False:\n",
    "    removeRankingsAndScores('tfidf-b0e81')"
   ]
  },
  {
   "cell_type": "code",
   "execution_count": 5,
   "metadata": {},
   "outputs": [],
   "source": [
    "def basicPrint\\\n",
    "(\n",
    "    models,\n",
    "    *args, w=None, b=None,\n",
    "    splitVersion=2,\n",
    "    doNormalization=True,\n",
    "    discardAt10=True, addNdcg=True,\n",
    "    **kwargs,\n",
    "):\n",
    "    if w is not None and isinstance(w, str):\n",
    "        w = [w]\n",
    "    if b is not None and isinstance(b, str):\n",
    "        b = [b]\n",
    "    if isinstance(w, set):\n",
    "        w = list(w)\n",
    "    if isinstance(b, set):\n",
    "        b = list(b)\n",
    "    if len(args) > 0:\n",
    "        if w is not None:\n",
    "            w = list(w) + list(args)\n",
    "        else:\n",
    "            w = list(args)\n",
    "    if discardAt10:\n",
    "        if b is None:\n",
    "            b = []\n",
    "        b = b + ['ndcg@10$', 'p@10$']\n",
    "    if addNdcg:\n",
    "        if w is None:\n",
    "            w = []\n",
    "        w = w + ['ndcg']\n",
    "    printReportKwargs = \\\n",
    "    {\n",
    "        'whiteModels': models,\n",
    "        'splitVersion': splitVersion,\n",
    "        'noSubsampling': True,\n",
    "        'whiteMetrics': w,\n",
    "        'blackMetrics': b,\n",
    "        'sortBy': 'ndcg',\n",
    "        'doNormalization': doNormalization,\n",
    "    }\n",
    "    printReportKwargs = mergeDicts(printReportKwargs, kwargs)\n",
    "    printReport(**printReportKwargs)"
   ]
  },
  {
   "cell_type": "code",
   "execution_count": 6,
   "metadata": {},
   "outputs": [],
   "source": [
    "def printAll(*args, **kwargs):\n",
    "    kwargs['onlyFields'] = {'id', 'model'}\n",
    "    kwargs['blackModels'] = {'combin'}\n",
    "    return basicPrint(None, *args, **kwargs)"
   ]
  },
  {
   "cell_type": "code",
   "execution_count": null,
   "metadata": {},
   "outputs": [],
   "source": []
  },
  {
   "cell_type": "code",
   "execution_count": null,
   "metadata": {},
   "outputs": [],
   "source": []
  },
  {
   "cell_type": "markdown",
   "metadata": {},
   "source": [
    "# Misc"
   ]
  },
  {
   "cell_type": "code",
   "execution_count": null,
   "metadata": {},
   "outputs": [],
   "source": [
    "if False:\n",
    "    twinewsRankings = getTwinewsRankings()\n",
    "    keysToDelete = set()\n",
    "    for key in twinewsRankings.keys():\n",
    "        if \"combin\" in key:\n",
    "            meta = twinewsRankings.getMeta(key)\n",
    "            hasTFIDF = False\n",
    "            for m in meta['models']:\n",
    "                if 'tfidf' in m:\n",
    "                    hasTFIDF = True\n",
    "                    break\n",
    "            if hasTFIDF and meta['splitVersion'] == 1:\n",
    "                keysToDelete.add(key)\n",
    "    print(keysToDelete)"
   ]
  },
  {
   "cell_type": "code",
   "execution_count": null,
   "metadata": {},
   "outputs": [],
   "source": [
    "if False:\n",
    "    for key in keysToDelete:\n",
    "        removeRankingsAndScores(key)"
   ]
  },
  {
   "cell_type": "code",
   "execution_count": null,
   "metadata": {},
   "outputs": [],
   "source": [
    "# Removing combin models with maxUsers is not None:\n",
    "if False:\n",
    "    twinewsRankings = getTwinewsRankings()\n",
    "    ids = twinewsRankings.keys()\n",
    "    bp(ids)\n",
    "    for currentId in ids:\n",
    "        if 'combin' in currentId:\n",
    "            meta = twinewsRankings.getMeta(currentId)\n",
    "            if meta['maxUsers'] is not None:\n",
    "                del twinewsRankings[currentId]"
   ]
  },
  {
   "cell_type": "code",
   "execution_count": null,
   "metadata": {},
   "outputs": [],
   "source": []
  },
  {
   "cell_type": "code",
   "execution_count": null,
   "metadata": {},
   "outputs": [],
   "source": []
  },
  {
   "cell_type": "markdown",
   "metadata": {},
   "source": [
    "# Model lists per split version"
   ]
  },
  {
   "cell_type": "code",
   "execution_count": 7,
   "metadata": {},
   "outputs": [],
   "source": [
    "def printModelList(splitVersion):\n",
    "    twinewsRankings = getTwinewsRankings()\n",
    "    models = set()\n",
    "    for key in twinewsRankings.keys():\n",
    "        meta = twinewsRankings.getMeta(key)\n",
    "        if meta[\"splitVersion\"] == splitVersion:\n",
    "            models.add(meta['model'])\n",
    "    print(\" \".join(sorted(list(models))) + \" (\" + str(len(models)) + \")\")"
   ]
  },
  {
   "cell_type": "code",
   "execution_count": 8,
   "metadata": {},
   "outputs": [
    {
     "name": "stdout",
     "output_type": "stream",
     "text": [
      "BM25_yf Convnet DSSM_title DSSM_yf bert bm25 combin dbert-base dbert-ft doc2vec ideal infersent jaccard lda nmf random sent2vec stylo tfidf usent word2vec worst (22)\n"
     ]
    }
   ],
   "source": [
    "printModelList(2)"
   ]
  },
  {
   "cell_type": "code",
   "execution_count": 9,
   "metadata": {},
   "outputs": [
    {
     "name": "stdout",
     "output_type": "stream",
     "text": [
      "bert bm25 combin dbert-base dbert-ft doc2vec ideal infersent jaccard lda nmf random sent2vec stylo tfidf usent word2vec worst (18)\n"
     ]
    }
   ],
   "source": [
    "printModelList(1)"
   ]
  },
  {
   "cell_type": "code",
   "execution_count": null,
   "metadata": {},
   "outputs": [],
   "source": []
  },
  {
   "cell_type": "code",
   "execution_count": null,
   "metadata": {},
   "outputs": [],
   "source": []
  },
  {
   "cell_type": "markdown",
   "metadata": {},
   "source": [
    "# Reference models"
   ]
  },
  {
   "cell_type": "code",
   "execution_count": 10,
   "metadata": {},
   "outputs": [
    {
     "name": "stdout",
     "output_type": "stream",
     "text": [
      "Normalized metrics: {'nov@100', 'div@100', 'topic-snov@100', 'topic-div@100', 'snov@100', 'style-nov@100', 'topic-nov@100', 'style-div@100', 'style-snov@100'}\n"
     ]
    },
    {
     "data": {
      "text/html": [
       "<style  type=\"text/css\" >\n",
       "    #T_d67cc580_d65d_11ea_a230_e4b97a00219arow0_col0 {\n",
       "            background-color:  rgba(150, 150, 150, 0.3);\n",
       "        }    #T_d67cc580_d65d_11ea_a230_e4b97a00219arow0_col4 {\n",
       "            background-color:  rgba(0, 122, 204, 0.3);\n",
       "        }    #T_d67cc580_d65d_11ea_a230_e4b97a00219arow0_col5 {\n",
       "            background-color:  rgba(0, 155, 149, 0.3);\n",
       "        }    #T_d67cc580_d65d_11ea_a230_e4b97a00219arow0_col6 {\n",
       "            background-color:  rgba(0, 155, 149, 0.3);\n",
       "        }    #T_d67cc580_d65d_11ea_a230_e4b97a00219arow0_col7 {\n",
       "            background-color:  rgba(0, 155, 149, 0.3);\n",
       "        }    #T_d67cc580_d65d_11ea_a230_e4b97a00219arow0_col8 {\n",
       "            background-color:  rgba(0, 155, 149, 0.3);\n",
       "        }    #T_d67cc580_d65d_11ea_a230_e4b97a00219arow0_col9 {\n",
       "            background-color:  rgba(0, 155, 149, 0.3);\n",
       "        }    #T_d67cc580_d65d_11ea_a230_e4b97a00219arow0_col10 {\n",
       "            background-color:  rgba(0, 155, 149, 0.3);\n",
       "        }    #T_d67cc580_d65d_11ea_a230_e4b97a00219arow0_col11 {\n",
       "            background-color:  rgba(0, 155, 149, 0.3);\n",
       "        }    #T_d67cc580_d65d_11ea_a230_e4b97a00219arow0_col12 {\n",
       "            background-color:  rgba(0, 155, 149, 0.3);\n",
       "        }    #T_d67cc580_d65d_11ea_a230_e4b97a00219arow0_col13 {\n",
       "            background-color:  rgba(0, 155, 149, 0.3);\n",
       "        }    #T_d67cc580_d65d_11ea_a230_e4b97a00219arow0_col14 {\n",
       "            background-color:  rgba(0, 155, 149, 0.3);\n",
       "        }    #T_d67cc580_d65d_11ea_a230_e4b97a00219arow0_col15 {\n",
       "            background-color:  rgba(0, 155, 149, 0.3);\n",
       "        }    #T_d67cc580_d65d_11ea_a230_e4b97a00219arow0_col16 {\n",
       "            background-color:  rgba(0, 155, 149, 0.3);\n",
       "        }    #T_d67cc580_d65d_11ea_a230_e4b97a00219arow0_col17 {\n",
       "            background-color:  rgba(0, 155, 149, 0.3);\n",
       "        }    #T_d67cc580_d65d_11ea_a230_e4b97a00219arow0_col18 {\n",
       "            background-color:  rgba(0, 155, 149, 0.3);\n",
       "        }    #T_d67cc580_d65d_11ea_a230_e4b97a00219arow0_col19 {\n",
       "            background-color:  rgba(0, 155, 149, 0.3);\n",
       "        }    #T_d67cc580_d65d_11ea_a230_e4b97a00219arow0_col20 {\n",
       "            background-color:  rgba(0, 155, 149, 0.3);\n",
       "        }    #T_d67cc580_d65d_11ea_a230_e4b97a00219arow0_col21 {\n",
       "            background-color:  rgba(0, 155, 149, 0.3);\n",
       "        }    #T_d67cc580_d65d_11ea_a230_e4b97a00219arow0_col22 {\n",
       "            background-color:  rgba(0, 155, 149, 0.3);\n",
       "        }    #T_d67cc580_d65d_11ea_a230_e4b97a00219arow0_col23 {\n",
       "            background-color:  rgba(0, 155, 149, 0.3);\n",
       "        }    #T_d67cc580_d65d_11ea_a230_e4b97a00219arow0_col24 {\n",
       "            background-color:  rgba(0, 155, 149, 0.3);\n",
       "        }    #T_d67cc580_d65d_11ea_a230_e4b97a00219arow0_col25 {\n",
       "            background-color:  rgba(0, 155, 149, 0.3);\n",
       "        }    #T_d67cc580_d65d_11ea_a230_e4b97a00219arow0_col26 {\n",
       "            background-color:  rgba(0, 155, 149, 0.3);\n",
       "        }</style><table id=\"T_d67cc580_d65d_11ea_a230_e4b97a00219a\" ><thead>    <tr>        <th class=\"blank level0\" ></th>        <th class=\"col_heading level0 col0\" >id</th>        <th class=\"col_heading level0 col1\" >maxUsers</th>        <th class=\"col_heading level0 col2\" >model</th>        <th class=\"col_heading level0 col3\" >splitVersion</th>        <th class=\"col_heading level0 col4\" >ndcg</th>        <th class=\"col_heading level0 col5\" >ndcg@100</th>        <th class=\"col_heading level0 col6\" >div@100</th>        <th class=\"col_heading level0 col7\" >topic-div@100</th>        <th class=\"col_heading level0 col8\" >jacc-div@100</th>        <th class=\"col_heading level0 col9\" >swjacc-div@100</th>        <th class=\"col_heading level0 col10\" >style-div@100</th>        <th class=\"col_heading level0 col11\" >nov@100</th>        <th class=\"col_heading level0 col12\" >topic-nov@100</th>        <th class=\"col_heading level0 col13\" >jacc-nov@100</th>        <th class=\"col_heading level0 col14\" >swjacc-nov@100</th>        <th class=\"col_heading level0 col15\" >style-nov@100</th>        <th class=\"col_heading level0 col16\" >snov@100</th>        <th class=\"col_heading level0 col17\" >topic-snov@100</th>        <th class=\"col_heading level0 col18\" >jacc-snov@100</th>        <th class=\"col_heading level0 col19\" >swjacc-snov@100</th>        <th class=\"col_heading level0 col20\" >style-snov@100</th>        <th class=\"col_heading level0 col21\" >tfidf-ser@100</th>        <th class=\"col_heading level0 col22\" >wtfidf-ser@100</th>        <th class=\"col_heading level0 col23\" >bm25-ser@100</th>        <th class=\"col_heading level0 col24\" >jacc-ser@100</th>        <th class=\"col_heading level0 col25\" >style-ser@100</th>        <th class=\"col_heading level0 col26\" >avg-ser@100</th>    </tr></thead><tbody>\n",
       "                <tr>\n",
       "                        <th id=\"T_d67cc580_d65d_11ea_a230_e4b97a00219alevel0_row0\" class=\"row_heading level0 row0\" >0</th>\n",
       "                        <td id=\"T_d67cc580_d65d_11ea_a230_e4b97a00219arow0_col0\" class=\"data row0 col0\" >ideal-5ac2d</td>\n",
       "                        <td id=\"T_d67cc580_d65d_11ea_a230_e4b97a00219arow0_col1\" class=\"data row0 col1\" >None</td>\n",
       "                        <td id=\"T_d67cc580_d65d_11ea_a230_e4b97a00219arow0_col2\" class=\"data row0 col2\" >ideal</td>\n",
       "                        <td id=\"T_d67cc580_d65d_11ea_a230_e4b97a00219arow0_col3\" class=\"data row0 col3\" >2</td>\n",
       "                        <td id=\"T_d67cc580_d65d_11ea_a230_e4b97a00219arow0_col4\" class=\"data row0 col4\" >1</td>\n",
       "                        <td id=\"T_d67cc580_d65d_11ea_a230_e4b97a00219arow0_col5\" class=\"data row0 col5\" >1</td>\n",
       "                        <td id=\"T_d67cc580_d65d_11ea_a230_e4b97a00219arow0_col6\" class=\"data row0 col6\" >0.76969</td>\n",
       "                        <td id=\"T_d67cc580_d65d_11ea_a230_e4b97a00219arow0_col7\" class=\"data row0 col7\" >0.64407</td>\n",
       "                        <td id=\"T_d67cc580_d65d_11ea_a230_e4b97a00219arow0_col8\" class=\"data row0 col8\" >0.89268</td>\n",
       "                        <td id=\"T_d67cc580_d65d_11ea_a230_e4b97a00219arow0_col9\" class=\"data row0 col9\" >0.97591</td>\n",
       "                        <td id=\"T_d67cc580_d65d_11ea_a230_e4b97a00219arow0_col10\" class=\"data row0 col10\" >0.53074</td>\n",
       "                        <td id=\"T_d67cc580_d65d_11ea_a230_e4b97a00219arow0_col11\" class=\"data row0 col11\" >0.72532</td>\n",
       "                        <td id=\"T_d67cc580_d65d_11ea_a230_e4b97a00219arow0_col12\" class=\"data row0 col12\" >0.60955</td>\n",
       "                        <td id=\"T_d67cc580_d65d_11ea_a230_e4b97a00219arow0_col13\" class=\"data row0 col13\" >0.8907</td>\n",
       "                        <td id=\"T_d67cc580_d65d_11ea_a230_e4b97a00219arow0_col14\" class=\"data row0 col14\" >0.97264</td>\n",
       "                        <td id=\"T_d67cc580_d65d_11ea_a230_e4b97a00219arow0_col15\" class=\"data row0 col15\" >0.51907</td>\n",
       "                        <td id=\"T_d67cc580_d65d_11ea_a230_e4b97a00219arow0_col16\" class=\"data row0 col16\" >0.67257</td>\n",
       "                        <td id=\"T_d67cc580_d65d_11ea_a230_e4b97a00219arow0_col17\" class=\"data row0 col17\" >0.72417</td>\n",
       "                        <td id=\"T_d67cc580_d65d_11ea_a230_e4b97a00219arow0_col18\" class=\"data row0 col18\" >0.85661</td>\n",
       "                        <td id=\"T_d67cc580_d65d_11ea_a230_e4b97a00219arow0_col19\" class=\"data row0 col19\" >0.94956</td>\n",
       "                        <td id=\"T_d67cc580_d65d_11ea_a230_e4b97a00219arow0_col20\" class=\"data row0 col20\" >0.61981</td>\n",
       "                        <td id=\"T_d67cc580_d65d_11ea_a230_e4b97a00219arow0_col21\" class=\"data row0 col21\" >1</td>\n",
       "                        <td id=\"T_d67cc580_d65d_11ea_a230_e4b97a00219arow0_col22\" class=\"data row0 col22\" >1</td>\n",
       "                        <td id=\"T_d67cc580_d65d_11ea_a230_e4b97a00219arow0_col23\" class=\"data row0 col23\" >1</td>\n",
       "                        <td id=\"T_d67cc580_d65d_11ea_a230_e4b97a00219arow0_col24\" class=\"data row0 col24\" >1</td>\n",
       "                        <td id=\"T_d67cc580_d65d_11ea_a230_e4b97a00219arow0_col25\" class=\"data row0 col25\" >1</td>\n",
       "                        <td id=\"T_d67cc580_d65d_11ea_a230_e4b97a00219arow0_col26\" class=\"data row0 col26\" >1</td>\n",
       "            </tr>\n",
       "    </tbody></table>"
      ],
      "text/plain": [
       "<pandas.io.formats.style.Styler at 0x7f69c9602ba8>"
      ]
     },
     "metadata": {},
     "output_type": "display_data"
    },
    {
     "name": "stdout",
     "output_type": "stream",
     "text": [
      "Normalized metrics: {'nov@100', 'div@100', 'topic-snov@100', 'topic-div@100', 'snov@100', 'style-nov@100', 'topic-nov@100', 'style-div@100', 'style-snov@100'}\n"
     ]
    },
    {
     "data": {
      "text/html": [
       "<style  type=\"text/css\" >\n",
       "    #T_e083995a_d65d_11ea_a230_e4b97a00219arow0_col0 {\n",
       "            background-color:  rgba(150, 150, 150, 0.3);\n",
       "        }    #T_e083995a_d65d_11ea_a230_e4b97a00219arow0_col4 {\n",
       "            background-color:  rgba(0, 122, 204, 0.3);\n",
       "        }    #T_e083995a_d65d_11ea_a230_e4b97a00219arow0_col5 {\n",
       "            background-color:  rgba(0, 155, 149, 0.3);\n",
       "        }    #T_e083995a_d65d_11ea_a230_e4b97a00219arow0_col6 {\n",
       "            background-color:  rgba(0, 155, 149, 0.3);\n",
       "        }    #T_e083995a_d65d_11ea_a230_e4b97a00219arow0_col7 {\n",
       "            background-color:  rgba(0, 155, 149, 0.3);\n",
       "        }    #T_e083995a_d65d_11ea_a230_e4b97a00219arow0_col8 {\n",
       "            background-color:  rgba(0, 155, 149, 0.3);\n",
       "        }    #T_e083995a_d65d_11ea_a230_e4b97a00219arow0_col9 {\n",
       "            background-color:  rgba(0, 155, 149, 0.3);\n",
       "        }    #T_e083995a_d65d_11ea_a230_e4b97a00219arow0_col10 {\n",
       "            background-color:  rgba(0, 155, 149, 0.3);\n",
       "        }    #T_e083995a_d65d_11ea_a230_e4b97a00219arow0_col11 {\n",
       "            background-color:  rgba(0, 155, 149, 0.3);\n",
       "        }    #T_e083995a_d65d_11ea_a230_e4b97a00219arow0_col12 {\n",
       "            background-color:  rgba(0, 155, 149, 0.3);\n",
       "        }    #T_e083995a_d65d_11ea_a230_e4b97a00219arow0_col13 {\n",
       "            background-color:  rgba(0, 155, 149, 0.3);\n",
       "        }    #T_e083995a_d65d_11ea_a230_e4b97a00219arow0_col14 {\n",
       "            background-color:  rgba(0, 155, 149, 0.3);\n",
       "        }    #T_e083995a_d65d_11ea_a230_e4b97a00219arow0_col15 {\n",
       "            background-color:  rgba(0, 155, 149, 0.3);\n",
       "        }    #T_e083995a_d65d_11ea_a230_e4b97a00219arow0_col16 {\n",
       "            background-color:  rgba(0, 155, 149, 0.3);\n",
       "        }    #T_e083995a_d65d_11ea_a230_e4b97a00219arow0_col17 {\n",
       "            background-color:  rgba(0, 155, 149, 0.3);\n",
       "        }    #T_e083995a_d65d_11ea_a230_e4b97a00219arow0_col18 {\n",
       "            background-color:  rgba(0, 155, 149, 0.3);\n",
       "        }    #T_e083995a_d65d_11ea_a230_e4b97a00219arow0_col19 {\n",
       "            background-color:  rgba(0, 155, 149, 0.3);\n",
       "        }    #T_e083995a_d65d_11ea_a230_e4b97a00219arow0_col20 {\n",
       "            background-color:  rgba(0, 155, 149, 0.3);\n",
       "        }    #T_e083995a_d65d_11ea_a230_e4b97a00219arow0_col21 {\n",
       "            background-color:  rgba(0, 155, 149, 0.3);\n",
       "        }    #T_e083995a_d65d_11ea_a230_e4b97a00219arow0_col22 {\n",
       "            background-color:  rgba(0, 155, 149, 0.3);\n",
       "        }    #T_e083995a_d65d_11ea_a230_e4b97a00219arow0_col23 {\n",
       "            background-color:  rgba(0, 155, 149, 0.3);\n",
       "        }    #T_e083995a_d65d_11ea_a230_e4b97a00219arow0_col24 {\n",
       "            background-color:  rgba(0, 155, 149, 0.3);\n",
       "        }    #T_e083995a_d65d_11ea_a230_e4b97a00219arow0_col25 {\n",
       "            background-color:  rgba(0, 155, 149, 0.3);\n",
       "        }    #T_e083995a_d65d_11ea_a230_e4b97a00219arow0_col26 {\n",
       "            background-color:  rgba(0, 155, 149, 0.3);\n",
       "        }</style><table id=\"T_e083995a_d65d_11ea_a230_e4b97a00219a\" ><thead>    <tr>        <th class=\"blank level0\" ></th>        <th class=\"col_heading level0 col0\" >id</th>        <th class=\"col_heading level0 col1\" >maxUsers</th>        <th class=\"col_heading level0 col2\" >model</th>        <th class=\"col_heading level0 col3\" >splitVersion</th>        <th class=\"col_heading level0 col4\" >ndcg</th>        <th class=\"col_heading level0 col5\" >ndcg@100</th>        <th class=\"col_heading level0 col6\" >div@100</th>        <th class=\"col_heading level0 col7\" >topic-div@100</th>        <th class=\"col_heading level0 col8\" >jacc-div@100</th>        <th class=\"col_heading level0 col9\" >swjacc-div@100</th>        <th class=\"col_heading level0 col10\" >style-div@100</th>        <th class=\"col_heading level0 col11\" >nov@100</th>        <th class=\"col_heading level0 col12\" >topic-nov@100</th>        <th class=\"col_heading level0 col13\" >jacc-nov@100</th>        <th class=\"col_heading level0 col14\" >swjacc-nov@100</th>        <th class=\"col_heading level0 col15\" >style-nov@100</th>        <th class=\"col_heading level0 col16\" >snov@100</th>        <th class=\"col_heading level0 col17\" >topic-snov@100</th>        <th class=\"col_heading level0 col18\" >jacc-snov@100</th>        <th class=\"col_heading level0 col19\" >swjacc-snov@100</th>        <th class=\"col_heading level0 col20\" >style-snov@100</th>        <th class=\"col_heading level0 col21\" >tfidf-ser@100</th>        <th class=\"col_heading level0 col22\" >wtfidf-ser@100</th>        <th class=\"col_heading level0 col23\" >bm25-ser@100</th>        <th class=\"col_heading level0 col24\" >jacc-ser@100</th>        <th class=\"col_heading level0 col25\" >style-ser@100</th>        <th class=\"col_heading level0 col26\" >avg-ser@100</th>    </tr></thead><tbody>\n",
       "                <tr>\n",
       "                        <th id=\"T_e083995a_d65d_11ea_a230_e4b97a00219alevel0_row0\" class=\"row_heading level0 row0\" >0</th>\n",
       "                        <td id=\"T_e083995a_d65d_11ea_a230_e4b97a00219arow0_col0\" class=\"data row0 col0\" >random-xxxxx</td>\n",
       "                        <td id=\"T_e083995a_d65d_11ea_a230_e4b97a00219arow0_col1\" class=\"data row0 col1\" >None</td>\n",
       "                        <td id=\"T_e083995a_d65d_11ea_a230_e4b97a00219arow0_col2\" class=\"data row0 col2\" >random</td>\n",
       "                        <td id=\"T_e083995a_d65d_11ea_a230_e4b97a00219arow0_col3\" class=\"data row0 col3\" >2</td>\n",
       "                        <td id=\"T_e083995a_d65d_11ea_a230_e4b97a00219arow0_col4\" class=\"data row0 col4\" >0.21081</td>\n",
       "                        <td id=\"T_e083995a_d65d_11ea_a230_e4b97a00219arow0_col5\" class=\"data row0 col5\" >0.0132</td>\n",
       "                        <td id=\"T_e083995a_d65d_11ea_a230_e4b97a00219arow0_col6\" class=\"data row0 col6\" >0.76576</td>\n",
       "                        <td id=\"T_e083995a_d65d_11ea_a230_e4b97a00219arow0_col7\" class=\"data row0 col7\" >0.64614</td>\n",
       "                        <td id=\"T_e083995a_d65d_11ea_a230_e4b97a00219arow0_col8\" class=\"data row0 col8\" >0.89225</td>\n",
       "                        <td id=\"T_e083995a_d65d_11ea_a230_e4b97a00219arow0_col9\" class=\"data row0 col9\" >0.9751</td>\n",
       "                        <td id=\"T_e083995a_d65d_11ea_a230_e4b97a00219arow0_col10\" class=\"data row0 col10\" >0.54429</td>\n",
       "                        <td id=\"T_e083995a_d65d_11ea_a230_e4b97a00219arow0_col11\" class=\"data row0 col11\" >0.74094</td>\n",
       "                        <td id=\"T_e083995a_d65d_11ea_a230_e4b97a00219arow0_col12\" class=\"data row0 col12\" >0.64072</td>\n",
       "                        <td id=\"T_e083995a_d65d_11ea_a230_e4b97a00219arow0_col13\" class=\"data row0 col13\" >0.89095</td>\n",
       "                        <td id=\"T_e083995a_d65d_11ea_a230_e4b97a00219arow0_col14\" class=\"data row0 col14\" >0.97282</td>\n",
       "                        <td id=\"T_e083995a_d65d_11ea_a230_e4b97a00219arow0_col15\" class=\"data row0 col15\" >0.53631</td>\n",
       "                        <td id=\"T_e083995a_d65d_11ea_a230_e4b97a00219arow0_col16\" class=\"data row0 col16\" >0.69775</td>\n",
       "                        <td id=\"T_e083995a_d65d_11ea_a230_e4b97a00219arow0_col17\" class=\"data row0 col17\" >0.75702</td>\n",
       "                        <td id=\"T_e083995a_d65d_11ea_a230_e4b97a00219arow0_col18\" class=\"data row0 col18\" >0.85767</td>\n",
       "                        <td id=\"T_e083995a_d65d_11ea_a230_e4b97a00219arow0_col19\" class=\"data row0 col19\" >0.95043</td>\n",
       "                        <td id=\"T_e083995a_d65d_11ea_a230_e4b97a00219arow0_col20\" class=\"data row0 col20\" >0.63307</td>\n",
       "                        <td id=\"T_e083995a_d65d_11ea_a230_e4b97a00219arow0_col21\" class=\"data row0 col21\" >0.03802</td>\n",
       "                        <td id=\"T_e083995a_d65d_11ea_a230_e4b97a00219arow0_col22\" class=\"data row0 col22\" >0.03799</td>\n",
       "                        <td id=\"T_e083995a_d65d_11ea_a230_e4b97a00219arow0_col23\" class=\"data row0 col23\" >0.03811</td>\n",
       "                        <td id=\"T_e083995a_d65d_11ea_a230_e4b97a00219arow0_col24\" class=\"data row0 col24\" >0.03565</td>\n",
       "                        <td id=\"T_e083995a_d65d_11ea_a230_e4b97a00219arow0_col25\" class=\"data row0 col25\" >0.03787</td>\n",
       "                        <td id=\"T_e083995a_d65d_11ea_a230_e4b97a00219arow0_col26\" class=\"data row0 col26\" >0.038</td>\n",
       "            </tr>\n",
       "    </tbody></table>"
      ],
      "text/plain": [
       "<pandas.io.formats.style.Styler at 0x7f69c7a6f668>"
      ]
     },
     "metadata": {},
     "output_type": "display_data"
    },
    {
     "name": "stdout",
     "output_type": "stream",
     "text": [
      "Normalized metrics: {'nov@100', 'div@100', 'topic-snov@100', 'topic-div@100', 'snov@100', 'style-nov@100', 'topic-nov@100', 'style-div@100', 'style-snov@100'}\n"
     ]
    },
    {
     "data": {
      "text/html": [
       "<style  type=\"text/css\" >\n",
       "    #T_ea4a93d0_d65d_11ea_a230_e4b97a00219arow0_col0 {\n",
       "            background-color:  rgba(150, 150, 150, 0.3);\n",
       "        }    #T_ea4a93d0_d65d_11ea_a230_e4b97a00219arow0_col4 {\n",
       "            background-color:  rgba(0, 122, 204, 0.3);\n",
       "        }    #T_ea4a93d0_d65d_11ea_a230_e4b97a00219arow0_col5 {\n",
       "            background-color:  rgba(0, 155, 149, 0.3);\n",
       "        }    #T_ea4a93d0_d65d_11ea_a230_e4b97a00219arow0_col6 {\n",
       "            background-color:  rgba(0, 155, 149, 0.3);\n",
       "        }    #T_ea4a93d0_d65d_11ea_a230_e4b97a00219arow0_col7 {\n",
       "            background-color:  rgba(0, 155, 149, 0.3);\n",
       "        }    #T_ea4a93d0_d65d_11ea_a230_e4b97a00219arow0_col8 {\n",
       "            background-color:  rgba(0, 155, 149, 0.3);\n",
       "        }    #T_ea4a93d0_d65d_11ea_a230_e4b97a00219arow0_col9 {\n",
       "            background-color:  rgba(0, 155, 149, 0.3);\n",
       "        }    #T_ea4a93d0_d65d_11ea_a230_e4b97a00219arow0_col10 {\n",
       "            background-color:  rgba(0, 155, 149, 0.3);\n",
       "        }    #T_ea4a93d0_d65d_11ea_a230_e4b97a00219arow0_col11 {\n",
       "            background-color:  rgba(0, 155, 149, 0.3);\n",
       "        }    #T_ea4a93d0_d65d_11ea_a230_e4b97a00219arow0_col12 {\n",
       "            background-color:  rgba(0, 155, 149, 0.3);\n",
       "        }    #T_ea4a93d0_d65d_11ea_a230_e4b97a00219arow0_col13 {\n",
       "            background-color:  rgba(0, 155, 149, 0.3);\n",
       "        }    #T_ea4a93d0_d65d_11ea_a230_e4b97a00219arow0_col14 {\n",
       "            background-color:  rgba(0, 155, 149, 0.3);\n",
       "        }    #T_ea4a93d0_d65d_11ea_a230_e4b97a00219arow0_col15 {\n",
       "            background-color:  rgba(0, 155, 149, 0.3);\n",
       "        }    #T_ea4a93d0_d65d_11ea_a230_e4b97a00219arow0_col16 {\n",
       "            background-color:  rgba(0, 155, 149, 0.3);\n",
       "        }    #T_ea4a93d0_d65d_11ea_a230_e4b97a00219arow0_col17 {\n",
       "            background-color:  rgba(0, 155, 149, 0.3);\n",
       "        }    #T_ea4a93d0_d65d_11ea_a230_e4b97a00219arow0_col18 {\n",
       "            background-color:  rgba(0, 155, 149, 0.3);\n",
       "        }    #T_ea4a93d0_d65d_11ea_a230_e4b97a00219arow0_col19 {\n",
       "            background-color:  rgba(0, 155, 149, 0.3);\n",
       "        }    #T_ea4a93d0_d65d_11ea_a230_e4b97a00219arow0_col20 {\n",
       "            background-color:  rgba(0, 155, 149, 0.3);\n",
       "        }    #T_ea4a93d0_d65d_11ea_a230_e4b97a00219arow0_col21 {\n",
       "            background-color:  rgba(0, 155, 149, 0.3);\n",
       "        }    #T_ea4a93d0_d65d_11ea_a230_e4b97a00219arow0_col22 {\n",
       "            background-color:  rgba(0, 155, 149, 0.3);\n",
       "        }    #T_ea4a93d0_d65d_11ea_a230_e4b97a00219arow0_col23 {\n",
       "            background-color:  rgba(0, 155, 149, 0.3);\n",
       "        }    #T_ea4a93d0_d65d_11ea_a230_e4b97a00219arow0_col24 {\n",
       "            background-color:  rgba(0, 155, 149, 0.3);\n",
       "        }    #T_ea4a93d0_d65d_11ea_a230_e4b97a00219arow0_col25 {\n",
       "            background-color:  rgba(0, 155, 149, 0.3);\n",
       "        }    #T_ea4a93d0_d65d_11ea_a230_e4b97a00219arow0_col26 {\n",
       "            background-color:  rgba(0, 155, 149, 0.3);\n",
       "        }</style><table id=\"T_ea4a93d0_d65d_11ea_a230_e4b97a00219a\" ><thead>    <tr>        <th class=\"blank level0\" ></th>        <th class=\"col_heading level0 col0\" >id</th>        <th class=\"col_heading level0 col1\" >maxUsers</th>        <th class=\"col_heading level0 col2\" >model</th>        <th class=\"col_heading level0 col3\" >splitVersion</th>        <th class=\"col_heading level0 col4\" >ndcg</th>        <th class=\"col_heading level0 col5\" >ndcg@100</th>        <th class=\"col_heading level0 col6\" >div@100</th>        <th class=\"col_heading level0 col7\" >topic-div@100</th>        <th class=\"col_heading level0 col8\" >jacc-div@100</th>        <th class=\"col_heading level0 col9\" >swjacc-div@100</th>        <th class=\"col_heading level0 col10\" >style-div@100</th>        <th class=\"col_heading level0 col11\" >nov@100</th>        <th class=\"col_heading level0 col12\" >topic-nov@100</th>        <th class=\"col_heading level0 col13\" >jacc-nov@100</th>        <th class=\"col_heading level0 col14\" >swjacc-nov@100</th>        <th class=\"col_heading level0 col15\" >style-nov@100</th>        <th class=\"col_heading level0 col16\" >snov@100</th>        <th class=\"col_heading level0 col17\" >topic-snov@100</th>        <th class=\"col_heading level0 col18\" >jacc-snov@100</th>        <th class=\"col_heading level0 col19\" >swjacc-snov@100</th>        <th class=\"col_heading level0 col20\" >style-snov@100</th>        <th class=\"col_heading level0 col21\" >tfidf-ser@100</th>        <th class=\"col_heading level0 col22\" >wtfidf-ser@100</th>        <th class=\"col_heading level0 col23\" >bm25-ser@100</th>        <th class=\"col_heading level0 col24\" >jacc-ser@100</th>        <th class=\"col_heading level0 col25\" >style-ser@100</th>        <th class=\"col_heading level0 col26\" >avg-ser@100</th>    </tr></thead><tbody>\n",
       "                <tr>\n",
       "                        <th id=\"T_ea4a93d0_d65d_11ea_a230_e4b97a00219alevel0_row0\" class=\"row_heading level0 row0\" >0</th>\n",
       "                        <td id=\"T_ea4a93d0_d65d_11ea_a230_e4b97a00219arow0_col0\" class=\"data row0 col0\" >worst-f3f99</td>\n",
       "                        <td id=\"T_ea4a93d0_d65d_11ea_a230_e4b97a00219arow0_col1\" class=\"data row0 col1\" >None</td>\n",
       "                        <td id=\"T_ea4a93d0_d65d_11ea_a230_e4b97a00219arow0_col2\" class=\"data row0 col2\" >worst</td>\n",
       "                        <td id=\"T_ea4a93d0_d65d_11ea_a230_e4b97a00219arow0_col3\" class=\"data row0 col3\" >2</td>\n",
       "                        <td id=\"T_ea4a93d0_d65d_11ea_a230_e4b97a00219arow0_col4\" class=\"data row0 col4\" >0.18191</td>\n",
       "                        <td id=\"T_ea4a93d0_d65d_11ea_a230_e4b97a00219arow0_col5\" class=\"data row0 col5\" >0</td>\n",
       "                        <td id=\"T_ea4a93d0_d65d_11ea_a230_e4b97a00219arow0_col6\" class=\"data row0 col6\" >0.777</td>\n",
       "                        <td id=\"T_ea4a93d0_d65d_11ea_a230_e4b97a00219arow0_col7\" class=\"data row0 col7\" >0.65032</td>\n",
       "                        <td id=\"T_ea4a93d0_d65d_11ea_a230_e4b97a00219arow0_col8\" class=\"data row0 col8\" >0.89301</td>\n",
       "                        <td id=\"T_ea4a93d0_d65d_11ea_a230_e4b97a00219arow0_col9\" class=\"data row0 col9\" >0.97643</td>\n",
       "                        <td id=\"T_ea4a93d0_d65d_11ea_a230_e4b97a00219arow0_col10\" class=\"data row0 col10\" >0.53174</td>\n",
       "                        <td id=\"T_ea4a93d0_d65d_11ea_a230_e4b97a00219arow0_col11\" class=\"data row0 col11\" >0.75101</td>\n",
       "                        <td id=\"T_ea4a93d0_d65d_11ea_a230_e4b97a00219arow0_col12\" class=\"data row0 col12\" >0.65073</td>\n",
       "                        <td id=\"T_ea4a93d0_d65d_11ea_a230_e4b97a00219arow0_col13\" class=\"data row0 col13\" >0.89197</td>\n",
       "                        <td id=\"T_ea4a93d0_d65d_11ea_a230_e4b97a00219arow0_col14\" class=\"data row0 col14\" >0.97385</td>\n",
       "                        <td id=\"T_ea4a93d0_d65d_11ea_a230_e4b97a00219arow0_col15\" class=\"data row0 col15\" >0.54099</td>\n",
       "                        <td id=\"T_ea4a93d0_d65d_11ea_a230_e4b97a00219arow0_col16\" class=\"data row0 col16\" >0.70662</td>\n",
       "                        <td id=\"T_ea4a93d0_d65d_11ea_a230_e4b97a00219arow0_col17\" class=\"data row0 col17\" >0.76621</td>\n",
       "                        <td id=\"T_ea4a93d0_d65d_11ea_a230_e4b97a00219arow0_col18\" class=\"data row0 col18\" >0.85897</td>\n",
       "                        <td id=\"T_ea4a93d0_d65d_11ea_a230_e4b97a00219arow0_col19\" class=\"data row0 col19\" >0.95221</td>\n",
       "                        <td id=\"T_ea4a93d0_d65d_11ea_a230_e4b97a00219arow0_col20\" class=\"data row0 col20\" >0.65451</td>\n",
       "                        <td id=\"T_ea4a93d0_d65d_11ea_a230_e4b97a00219arow0_col21\" class=\"data row0 col21\" >0</td>\n",
       "                        <td id=\"T_ea4a93d0_d65d_11ea_a230_e4b97a00219arow0_col22\" class=\"data row0 col22\" >0</td>\n",
       "                        <td id=\"T_ea4a93d0_d65d_11ea_a230_e4b97a00219arow0_col23\" class=\"data row0 col23\" >0</td>\n",
       "                        <td id=\"T_ea4a93d0_d65d_11ea_a230_e4b97a00219arow0_col24\" class=\"data row0 col24\" >0</td>\n",
       "                        <td id=\"T_ea4a93d0_d65d_11ea_a230_e4b97a00219arow0_col25\" class=\"data row0 col25\" >0</td>\n",
       "                        <td id=\"T_ea4a93d0_d65d_11ea_a230_e4b97a00219arow0_col26\" class=\"data row0 col26\" >0</td>\n",
       "            </tr>\n",
       "    </tbody></table>"
      ],
      "text/plain": [
       "<pandas.io.formats.style.Styler at 0x7f69e0357710>"
      ]
     },
     "metadata": {},
     "output_type": "display_data"
    }
   ],
   "source": [
    "args = ('div')\n",
    "basicPrint('ideal', *args, splitVersion=2)\n",
    "basicPrint('random', *args, splitVersion=2)\n",
    "basicPrint('worst', *args, splitVersion=2)"
   ]
  },
  {
   "cell_type": "code",
   "execution_count": 11,
   "metadata": {},
   "outputs": [
    {
     "name": "stdout",
     "output_type": "stream",
     "text": [
      "Normalized metrics: {'nov@100', 'div@100', 'topic-snov@100', 'topic-div@100', 'snov@100', 'style-nov@100', 'topic-nov@100', 'style-div@100', 'style-snov@100'}\n",
      "These values are common to all rows (3):\n",
      "\n",
      "\t- maxUsers: None\n",
      "\t- splitVersion: 2\n"
     ]
    },
    {
     "data": {
      "text/html": [
       "<style  type=\"text/css\" >\n",
       "    #T_f468c7f6_d65d_11ea_a230_e4b97a00219arow0_col0 {\n",
       "            background-color:  rgba(150, 150, 150, 0.3);\n",
       "        }    #T_f468c7f6_d65d_11ea_a230_e4b97a00219arow0_col2 {\n",
       "            background-color:  rgba(0, 122, 204, 0.3);\n",
       "        }    #T_f468c7f6_d65d_11ea_a230_e4b97a00219arow0_col3 {\n",
       "            background-color:  rgba(0, 155, 149, 0.3);\n",
       "        }    #T_f468c7f6_d65d_11ea_a230_e4b97a00219arow0_col4 {\n",
       "            background-color:  rgba(0, 155, 149, 0.3);\n",
       "        }    #T_f468c7f6_d65d_11ea_a230_e4b97a00219arow0_col5 {\n",
       "            background-color:  rgba(0, 155, 149, 0.3);\n",
       "        }    #T_f468c7f6_d65d_11ea_a230_e4b97a00219arow0_col6 {\n",
       "            background-color:  rgba(0, 155, 149, 0.3);\n",
       "        }    #T_f468c7f6_d65d_11ea_a230_e4b97a00219arow0_col7 {\n",
       "            background-color:  rgba(0, 155, 149, 0.3);\n",
       "        }    #T_f468c7f6_d65d_11ea_a230_e4b97a00219arow0_col8 {\n",
       "            background-color:  rgba(0, 155, 149, 0.3);\n",
       "        }    #T_f468c7f6_d65d_11ea_a230_e4b97a00219arow0_col9 {\n",
       "            background-color:  rgba(0, 155, 149, 0.3);\n",
       "        }    #T_f468c7f6_d65d_11ea_a230_e4b97a00219arow0_col10 {\n",
       "            background-color:  rgba(0, 155, 149, 0.3);\n",
       "        }    #T_f468c7f6_d65d_11ea_a230_e4b97a00219arow0_col11 {\n",
       "            background-color:  rgba(0, 155, 149, 0.3);\n",
       "        }    #T_f468c7f6_d65d_11ea_a230_e4b97a00219arow0_col12 {\n",
       "            background-color:  rgba(0, 155, 149, 0.3);\n",
       "        }    #T_f468c7f6_d65d_11ea_a230_e4b97a00219arow0_col13 {\n",
       "            background-color:  rgba(0, 155, 149, 0.3);\n",
       "        }    #T_f468c7f6_d65d_11ea_a230_e4b97a00219arow0_col14 {\n",
       "            background-color:  rgba(0, 155, 149, 0.3);\n",
       "        }    #T_f468c7f6_d65d_11ea_a230_e4b97a00219arow0_col15 {\n",
       "            background-color:  rgba(0, 155, 149, 0.3);\n",
       "        }    #T_f468c7f6_d65d_11ea_a230_e4b97a00219arow0_col16 {\n",
       "            background-color:  rgba(0, 155, 149, 0.3);\n",
       "        }    #T_f468c7f6_d65d_11ea_a230_e4b97a00219arow0_col17 {\n",
       "            background-color:  rgba(0, 155, 149, 0.3);\n",
       "        }    #T_f468c7f6_d65d_11ea_a230_e4b97a00219arow0_col18 {\n",
       "            background-color:  rgba(0, 155, 149, 0.3);\n",
       "        }    #T_f468c7f6_d65d_11ea_a230_e4b97a00219arow0_col19 {\n",
       "            background-color:  rgba(0, 155, 149, 0.3);\n",
       "        }    #T_f468c7f6_d65d_11ea_a230_e4b97a00219arow0_col20 {\n",
       "            background-color:  rgba(0, 155, 149, 0.3);\n",
       "        }    #T_f468c7f6_d65d_11ea_a230_e4b97a00219arow0_col21 {\n",
       "            background-color:  rgba(0, 155, 149, 0.3);\n",
       "        }    #T_f468c7f6_d65d_11ea_a230_e4b97a00219arow0_col22 {\n",
       "            background-color:  rgba(0, 155, 149, 0.3);\n",
       "        }    #T_f468c7f6_d65d_11ea_a230_e4b97a00219arow0_col23 {\n",
       "            background-color:  rgba(0, 155, 149, 0.3);\n",
       "        }    #T_f468c7f6_d65d_11ea_a230_e4b97a00219arow0_col24 {\n",
       "            background-color:  rgba(0, 155, 149, 0.3);\n",
       "        }    #T_f468c7f6_d65d_11ea_a230_e4b97a00219arow1_col0 {\n",
       "            background-color:  rgba(150, 150, 150, 0.3);\n",
       "        }    #T_f468c7f6_d65d_11ea_a230_e4b97a00219arow1_col2 {\n",
       "            background-color:  rgba(0, 122, 204, 0.3);\n",
       "        }    #T_f468c7f6_d65d_11ea_a230_e4b97a00219arow1_col3 {\n",
       "            background-color:  rgba(0, 155, 149, 0.3);\n",
       "        }    #T_f468c7f6_d65d_11ea_a230_e4b97a00219arow1_col4 {\n",
       "            background-color:  rgba(0, 155, 149, 0.3);\n",
       "        }    #T_f468c7f6_d65d_11ea_a230_e4b97a00219arow1_col5 {\n",
       "            background-color:  rgba(0, 155, 149, 0.3);\n",
       "        }    #T_f468c7f6_d65d_11ea_a230_e4b97a00219arow1_col6 {\n",
       "            background-color:  rgba(0, 155, 149, 0.3);\n",
       "        }    #T_f468c7f6_d65d_11ea_a230_e4b97a00219arow1_col7 {\n",
       "            background-color:  rgba(0, 155, 149, 0.3);\n",
       "        }    #T_f468c7f6_d65d_11ea_a230_e4b97a00219arow1_col8 {\n",
       "            background-color:  rgba(0, 155, 149, 0.3);\n",
       "        }    #T_f468c7f6_d65d_11ea_a230_e4b97a00219arow1_col9 {\n",
       "            background-color:  rgba(0, 155, 149, 0.3);\n",
       "        }    #T_f468c7f6_d65d_11ea_a230_e4b97a00219arow1_col10 {\n",
       "            background-color:  rgba(0, 155, 149, 0.3);\n",
       "        }    #T_f468c7f6_d65d_11ea_a230_e4b97a00219arow1_col11 {\n",
       "            background-color:  rgba(0, 155, 149, 0.3);\n",
       "        }    #T_f468c7f6_d65d_11ea_a230_e4b97a00219arow1_col12 {\n",
       "            background-color:  rgba(0, 155, 149, 0.3);\n",
       "        }    #T_f468c7f6_d65d_11ea_a230_e4b97a00219arow1_col13 {\n",
       "            background-color:  rgba(0, 155, 149, 0.3);\n",
       "        }    #T_f468c7f6_d65d_11ea_a230_e4b97a00219arow1_col14 {\n",
       "            background-color:  rgba(0, 155, 149, 0.3);\n",
       "        }    #T_f468c7f6_d65d_11ea_a230_e4b97a00219arow1_col15 {\n",
       "            background-color:  rgba(0, 155, 149, 0.3);\n",
       "        }    #T_f468c7f6_d65d_11ea_a230_e4b97a00219arow1_col16 {\n",
       "            background-color:  rgba(0, 155, 149, 0.3);\n",
       "        }    #T_f468c7f6_d65d_11ea_a230_e4b97a00219arow1_col17 {\n",
       "            background-color:  rgba(0, 155, 149, 0.3);\n",
       "        }    #T_f468c7f6_d65d_11ea_a230_e4b97a00219arow1_col18 {\n",
       "            background-color:  rgba(0, 155, 149, 0.3);\n",
       "        }    #T_f468c7f6_d65d_11ea_a230_e4b97a00219arow1_col19 {\n",
       "            background-color:  rgba(0, 155, 149, 0.3);\n",
       "        }    #T_f468c7f6_d65d_11ea_a230_e4b97a00219arow1_col20 {\n",
       "            background-color:  rgba(0, 155, 149, 0.3);\n",
       "        }    #T_f468c7f6_d65d_11ea_a230_e4b97a00219arow1_col21 {\n",
       "            background-color:  rgba(0, 155, 149, 0.3);\n",
       "        }    #T_f468c7f6_d65d_11ea_a230_e4b97a00219arow1_col22 {\n",
       "            background-color:  rgba(0, 155, 149, 0.3);\n",
       "        }    #T_f468c7f6_d65d_11ea_a230_e4b97a00219arow1_col23 {\n",
       "            background-color:  rgba(0, 155, 149, 0.3);\n",
       "        }    #T_f468c7f6_d65d_11ea_a230_e4b97a00219arow1_col24 {\n",
       "            background-color:  rgba(0, 155, 149, 0.3);\n",
       "        }    #T_f468c7f6_d65d_11ea_a230_e4b97a00219arow2_col0 {\n",
       "            background-color:  rgba(150, 150, 150, 0.3);\n",
       "        }    #T_f468c7f6_d65d_11ea_a230_e4b97a00219arow2_col2 {\n",
       "            background-color:  rgba(0, 122, 204, 0.3);\n",
       "        }    #T_f468c7f6_d65d_11ea_a230_e4b97a00219arow2_col3 {\n",
       "            background-color:  rgba(0, 155, 149, 0.3);\n",
       "        }    #T_f468c7f6_d65d_11ea_a230_e4b97a00219arow2_col4 {\n",
       "            background-color:  rgba(0, 155, 149, 0.3);\n",
       "        }    #T_f468c7f6_d65d_11ea_a230_e4b97a00219arow2_col5 {\n",
       "            background-color:  rgba(0, 155, 149, 0.3);\n",
       "        }    #T_f468c7f6_d65d_11ea_a230_e4b97a00219arow2_col6 {\n",
       "            background-color:  rgba(0, 155, 149, 0.3);\n",
       "        }    #T_f468c7f6_d65d_11ea_a230_e4b97a00219arow2_col7 {\n",
       "            background-color:  rgba(0, 155, 149, 0.3);\n",
       "        }    #T_f468c7f6_d65d_11ea_a230_e4b97a00219arow2_col8 {\n",
       "            background-color:  rgba(0, 155, 149, 0.3);\n",
       "        }    #T_f468c7f6_d65d_11ea_a230_e4b97a00219arow2_col9 {\n",
       "            background-color:  rgba(0, 155, 149, 0.3);\n",
       "        }    #T_f468c7f6_d65d_11ea_a230_e4b97a00219arow2_col10 {\n",
       "            background-color:  rgba(0, 155, 149, 0.3);\n",
       "        }    #T_f468c7f6_d65d_11ea_a230_e4b97a00219arow2_col11 {\n",
       "            background-color:  rgba(0, 155, 149, 0.3);\n",
       "        }    #T_f468c7f6_d65d_11ea_a230_e4b97a00219arow2_col12 {\n",
       "            background-color:  rgba(0, 155, 149, 0.3);\n",
       "        }    #T_f468c7f6_d65d_11ea_a230_e4b97a00219arow2_col13 {\n",
       "            background-color:  rgba(0, 155, 149, 0.3);\n",
       "        }    #T_f468c7f6_d65d_11ea_a230_e4b97a00219arow2_col14 {\n",
       "            background-color:  rgba(0, 155, 149, 0.3);\n",
       "        }    #T_f468c7f6_d65d_11ea_a230_e4b97a00219arow2_col15 {\n",
       "            background-color:  rgba(0, 155, 149, 0.3);\n",
       "        }    #T_f468c7f6_d65d_11ea_a230_e4b97a00219arow2_col16 {\n",
       "            background-color:  rgba(0, 155, 149, 0.3);\n",
       "        }    #T_f468c7f6_d65d_11ea_a230_e4b97a00219arow2_col17 {\n",
       "            background-color:  rgba(0, 155, 149, 0.3);\n",
       "        }    #T_f468c7f6_d65d_11ea_a230_e4b97a00219arow2_col18 {\n",
       "            background-color:  rgba(0, 155, 149, 0.3);\n",
       "        }    #T_f468c7f6_d65d_11ea_a230_e4b97a00219arow2_col19 {\n",
       "            background-color:  rgba(0, 155, 149, 0.3);\n",
       "        }    #T_f468c7f6_d65d_11ea_a230_e4b97a00219arow2_col20 {\n",
       "            background-color:  rgba(0, 155, 149, 0.3);\n",
       "        }    #T_f468c7f6_d65d_11ea_a230_e4b97a00219arow2_col21 {\n",
       "            background-color:  rgba(0, 155, 149, 0.3);\n",
       "        }    #T_f468c7f6_d65d_11ea_a230_e4b97a00219arow2_col22 {\n",
       "            background-color:  rgba(0, 155, 149, 0.3);\n",
       "        }    #T_f468c7f6_d65d_11ea_a230_e4b97a00219arow2_col23 {\n",
       "            background-color:  rgba(0, 155, 149, 0.3);\n",
       "        }    #T_f468c7f6_d65d_11ea_a230_e4b97a00219arow2_col24 {\n",
       "            background-color:  rgba(0, 155, 149, 0.3);\n",
       "        }</style><table id=\"T_f468c7f6_d65d_11ea_a230_e4b97a00219a\" ><thead>    <tr>        <th class=\"blank level0\" ></th>        <th class=\"col_heading level0 col0\" >id</th>        <th class=\"col_heading level0 col1\" >model</th>        <th class=\"col_heading level0 col2\" >ndcg</th>        <th class=\"col_heading level0 col3\" >ndcg@100</th>        <th class=\"col_heading level0 col4\" >div@100</th>        <th class=\"col_heading level0 col5\" >topic-div@100</th>        <th class=\"col_heading level0 col6\" >jacc-div@100</th>        <th class=\"col_heading level0 col7\" >swjacc-div@100</th>        <th class=\"col_heading level0 col8\" >style-div@100</th>        <th class=\"col_heading level0 col9\" >nov@100</th>        <th class=\"col_heading level0 col10\" >topic-nov@100</th>        <th class=\"col_heading level0 col11\" >jacc-nov@100</th>        <th class=\"col_heading level0 col12\" >swjacc-nov@100</th>        <th class=\"col_heading level0 col13\" >style-nov@100</th>        <th class=\"col_heading level0 col14\" >snov@100</th>        <th class=\"col_heading level0 col15\" >topic-snov@100</th>        <th class=\"col_heading level0 col16\" >jacc-snov@100</th>        <th class=\"col_heading level0 col17\" >swjacc-snov@100</th>        <th class=\"col_heading level0 col18\" >style-snov@100</th>        <th class=\"col_heading level0 col19\" >tfidf-ser@100</th>        <th class=\"col_heading level0 col20\" >wtfidf-ser@100</th>        <th class=\"col_heading level0 col21\" >bm25-ser@100</th>        <th class=\"col_heading level0 col22\" >jacc-ser@100</th>        <th class=\"col_heading level0 col23\" >style-ser@100</th>        <th class=\"col_heading level0 col24\" >avg-ser@100</th>    </tr></thead><tbody>\n",
       "                <tr>\n",
       "                        <th id=\"T_f468c7f6_d65d_11ea_a230_e4b97a00219alevel0_row0\" class=\"row_heading level0 row0\" >1</th>\n",
       "                        <td id=\"T_f468c7f6_d65d_11ea_a230_e4b97a00219arow0_col0\" class=\"data row0 col0\" >ideal-5ac2d</td>\n",
       "                        <td id=\"T_f468c7f6_d65d_11ea_a230_e4b97a00219arow0_col1\" class=\"data row0 col1\" >ideal</td>\n",
       "                        <td id=\"T_f468c7f6_d65d_11ea_a230_e4b97a00219arow0_col2\" class=\"data row0 col2\" >1</td>\n",
       "                        <td id=\"T_f468c7f6_d65d_11ea_a230_e4b97a00219arow0_col3\" class=\"data row0 col3\" >1</td>\n",
       "                        <td id=\"T_f468c7f6_d65d_11ea_a230_e4b97a00219arow0_col4\" class=\"data row0 col4\" >0.76969</td>\n",
       "                        <td id=\"T_f468c7f6_d65d_11ea_a230_e4b97a00219arow0_col5\" class=\"data row0 col5\" >0.64407</td>\n",
       "                        <td id=\"T_f468c7f6_d65d_11ea_a230_e4b97a00219arow0_col6\" class=\"data row0 col6\" >0.89268</td>\n",
       "                        <td id=\"T_f468c7f6_d65d_11ea_a230_e4b97a00219arow0_col7\" class=\"data row0 col7\" >0.97591</td>\n",
       "                        <td id=\"T_f468c7f6_d65d_11ea_a230_e4b97a00219arow0_col8\" class=\"data row0 col8\" >0.53074</td>\n",
       "                        <td id=\"T_f468c7f6_d65d_11ea_a230_e4b97a00219arow0_col9\" class=\"data row0 col9\" >0.72532</td>\n",
       "                        <td id=\"T_f468c7f6_d65d_11ea_a230_e4b97a00219arow0_col10\" class=\"data row0 col10\" >0.60955</td>\n",
       "                        <td id=\"T_f468c7f6_d65d_11ea_a230_e4b97a00219arow0_col11\" class=\"data row0 col11\" >0.8907</td>\n",
       "                        <td id=\"T_f468c7f6_d65d_11ea_a230_e4b97a00219arow0_col12\" class=\"data row0 col12\" >0.97264</td>\n",
       "                        <td id=\"T_f468c7f6_d65d_11ea_a230_e4b97a00219arow0_col13\" class=\"data row0 col13\" >0.51907</td>\n",
       "                        <td id=\"T_f468c7f6_d65d_11ea_a230_e4b97a00219arow0_col14\" class=\"data row0 col14\" >0.67257</td>\n",
       "                        <td id=\"T_f468c7f6_d65d_11ea_a230_e4b97a00219arow0_col15\" class=\"data row0 col15\" >0.72417</td>\n",
       "                        <td id=\"T_f468c7f6_d65d_11ea_a230_e4b97a00219arow0_col16\" class=\"data row0 col16\" >0.85661</td>\n",
       "                        <td id=\"T_f468c7f6_d65d_11ea_a230_e4b97a00219arow0_col17\" class=\"data row0 col17\" >0.94956</td>\n",
       "                        <td id=\"T_f468c7f6_d65d_11ea_a230_e4b97a00219arow0_col18\" class=\"data row0 col18\" >0.61981</td>\n",
       "                        <td id=\"T_f468c7f6_d65d_11ea_a230_e4b97a00219arow0_col19\" class=\"data row0 col19\" >1</td>\n",
       "                        <td id=\"T_f468c7f6_d65d_11ea_a230_e4b97a00219arow0_col20\" class=\"data row0 col20\" >1</td>\n",
       "                        <td id=\"T_f468c7f6_d65d_11ea_a230_e4b97a00219arow0_col21\" class=\"data row0 col21\" >1</td>\n",
       "                        <td id=\"T_f468c7f6_d65d_11ea_a230_e4b97a00219arow0_col22\" class=\"data row0 col22\" >1</td>\n",
       "                        <td id=\"T_f468c7f6_d65d_11ea_a230_e4b97a00219arow0_col23\" class=\"data row0 col23\" >1</td>\n",
       "                        <td id=\"T_f468c7f6_d65d_11ea_a230_e4b97a00219arow0_col24\" class=\"data row0 col24\" >1</td>\n",
       "            </tr>\n",
       "            <tr>\n",
       "                        <th id=\"T_f468c7f6_d65d_11ea_a230_e4b97a00219alevel0_row1\" class=\"row_heading level0 row1\" >2</th>\n",
       "                        <td id=\"T_f468c7f6_d65d_11ea_a230_e4b97a00219arow1_col0\" class=\"data row1 col0\" >random-xxxxx</td>\n",
       "                        <td id=\"T_f468c7f6_d65d_11ea_a230_e4b97a00219arow1_col1\" class=\"data row1 col1\" >random</td>\n",
       "                        <td id=\"T_f468c7f6_d65d_11ea_a230_e4b97a00219arow1_col2\" class=\"data row1 col2\" >0.21081</td>\n",
       "                        <td id=\"T_f468c7f6_d65d_11ea_a230_e4b97a00219arow1_col3\" class=\"data row1 col3\" >0.0132</td>\n",
       "                        <td id=\"T_f468c7f6_d65d_11ea_a230_e4b97a00219arow1_col4\" class=\"data row1 col4\" >0.76576</td>\n",
       "                        <td id=\"T_f468c7f6_d65d_11ea_a230_e4b97a00219arow1_col5\" class=\"data row1 col5\" >0.64614</td>\n",
       "                        <td id=\"T_f468c7f6_d65d_11ea_a230_e4b97a00219arow1_col6\" class=\"data row1 col6\" >0.89225</td>\n",
       "                        <td id=\"T_f468c7f6_d65d_11ea_a230_e4b97a00219arow1_col7\" class=\"data row1 col7\" >0.9751</td>\n",
       "                        <td id=\"T_f468c7f6_d65d_11ea_a230_e4b97a00219arow1_col8\" class=\"data row1 col8\" >0.54429</td>\n",
       "                        <td id=\"T_f468c7f6_d65d_11ea_a230_e4b97a00219arow1_col9\" class=\"data row1 col9\" >0.74094</td>\n",
       "                        <td id=\"T_f468c7f6_d65d_11ea_a230_e4b97a00219arow1_col10\" class=\"data row1 col10\" >0.64072</td>\n",
       "                        <td id=\"T_f468c7f6_d65d_11ea_a230_e4b97a00219arow1_col11\" class=\"data row1 col11\" >0.89095</td>\n",
       "                        <td id=\"T_f468c7f6_d65d_11ea_a230_e4b97a00219arow1_col12\" class=\"data row1 col12\" >0.97282</td>\n",
       "                        <td id=\"T_f468c7f6_d65d_11ea_a230_e4b97a00219arow1_col13\" class=\"data row1 col13\" >0.53631</td>\n",
       "                        <td id=\"T_f468c7f6_d65d_11ea_a230_e4b97a00219arow1_col14\" class=\"data row1 col14\" >0.69775</td>\n",
       "                        <td id=\"T_f468c7f6_d65d_11ea_a230_e4b97a00219arow1_col15\" class=\"data row1 col15\" >0.75702</td>\n",
       "                        <td id=\"T_f468c7f6_d65d_11ea_a230_e4b97a00219arow1_col16\" class=\"data row1 col16\" >0.85767</td>\n",
       "                        <td id=\"T_f468c7f6_d65d_11ea_a230_e4b97a00219arow1_col17\" class=\"data row1 col17\" >0.95043</td>\n",
       "                        <td id=\"T_f468c7f6_d65d_11ea_a230_e4b97a00219arow1_col18\" class=\"data row1 col18\" >0.63307</td>\n",
       "                        <td id=\"T_f468c7f6_d65d_11ea_a230_e4b97a00219arow1_col19\" class=\"data row1 col19\" >0.03802</td>\n",
       "                        <td id=\"T_f468c7f6_d65d_11ea_a230_e4b97a00219arow1_col20\" class=\"data row1 col20\" >0.03799</td>\n",
       "                        <td id=\"T_f468c7f6_d65d_11ea_a230_e4b97a00219arow1_col21\" class=\"data row1 col21\" >0.03811</td>\n",
       "                        <td id=\"T_f468c7f6_d65d_11ea_a230_e4b97a00219arow1_col22\" class=\"data row1 col22\" >0.03565</td>\n",
       "                        <td id=\"T_f468c7f6_d65d_11ea_a230_e4b97a00219arow1_col23\" class=\"data row1 col23\" >0.03787</td>\n",
       "                        <td id=\"T_f468c7f6_d65d_11ea_a230_e4b97a00219arow1_col24\" class=\"data row1 col24\" >0.038</td>\n",
       "            </tr>\n",
       "            <tr>\n",
       "                        <th id=\"T_f468c7f6_d65d_11ea_a230_e4b97a00219alevel0_row2\" class=\"row_heading level0 row2\" >0</th>\n",
       "                        <td id=\"T_f468c7f6_d65d_11ea_a230_e4b97a00219arow2_col0\" class=\"data row2 col0\" >worst-f3f99</td>\n",
       "                        <td id=\"T_f468c7f6_d65d_11ea_a230_e4b97a00219arow2_col1\" class=\"data row2 col1\" >worst</td>\n",
       "                        <td id=\"T_f468c7f6_d65d_11ea_a230_e4b97a00219arow2_col2\" class=\"data row2 col2\" >0.18191</td>\n",
       "                        <td id=\"T_f468c7f6_d65d_11ea_a230_e4b97a00219arow2_col3\" class=\"data row2 col3\" >0</td>\n",
       "                        <td id=\"T_f468c7f6_d65d_11ea_a230_e4b97a00219arow2_col4\" class=\"data row2 col4\" >0.777</td>\n",
       "                        <td id=\"T_f468c7f6_d65d_11ea_a230_e4b97a00219arow2_col5\" class=\"data row2 col5\" >0.65032</td>\n",
       "                        <td id=\"T_f468c7f6_d65d_11ea_a230_e4b97a00219arow2_col6\" class=\"data row2 col6\" >0.89301</td>\n",
       "                        <td id=\"T_f468c7f6_d65d_11ea_a230_e4b97a00219arow2_col7\" class=\"data row2 col7\" >0.97643</td>\n",
       "                        <td id=\"T_f468c7f6_d65d_11ea_a230_e4b97a00219arow2_col8\" class=\"data row2 col8\" >0.53174</td>\n",
       "                        <td id=\"T_f468c7f6_d65d_11ea_a230_e4b97a00219arow2_col9\" class=\"data row2 col9\" >0.75101</td>\n",
       "                        <td id=\"T_f468c7f6_d65d_11ea_a230_e4b97a00219arow2_col10\" class=\"data row2 col10\" >0.65073</td>\n",
       "                        <td id=\"T_f468c7f6_d65d_11ea_a230_e4b97a00219arow2_col11\" class=\"data row2 col11\" >0.89197</td>\n",
       "                        <td id=\"T_f468c7f6_d65d_11ea_a230_e4b97a00219arow2_col12\" class=\"data row2 col12\" >0.97385</td>\n",
       "                        <td id=\"T_f468c7f6_d65d_11ea_a230_e4b97a00219arow2_col13\" class=\"data row2 col13\" >0.54099</td>\n",
       "                        <td id=\"T_f468c7f6_d65d_11ea_a230_e4b97a00219arow2_col14\" class=\"data row2 col14\" >0.70662</td>\n",
       "                        <td id=\"T_f468c7f6_d65d_11ea_a230_e4b97a00219arow2_col15\" class=\"data row2 col15\" >0.76621</td>\n",
       "                        <td id=\"T_f468c7f6_d65d_11ea_a230_e4b97a00219arow2_col16\" class=\"data row2 col16\" >0.85897</td>\n",
       "                        <td id=\"T_f468c7f6_d65d_11ea_a230_e4b97a00219arow2_col17\" class=\"data row2 col17\" >0.95221</td>\n",
       "                        <td id=\"T_f468c7f6_d65d_11ea_a230_e4b97a00219arow2_col18\" class=\"data row2 col18\" >0.65451</td>\n",
       "                        <td id=\"T_f468c7f6_d65d_11ea_a230_e4b97a00219arow2_col19\" class=\"data row2 col19\" >0</td>\n",
       "                        <td id=\"T_f468c7f6_d65d_11ea_a230_e4b97a00219arow2_col20\" class=\"data row2 col20\" >0</td>\n",
       "                        <td id=\"T_f468c7f6_d65d_11ea_a230_e4b97a00219arow2_col21\" class=\"data row2 col21\" >0</td>\n",
       "                        <td id=\"T_f468c7f6_d65d_11ea_a230_e4b97a00219arow2_col22\" class=\"data row2 col22\" >0</td>\n",
       "                        <td id=\"T_f468c7f6_d65d_11ea_a230_e4b97a00219arow2_col23\" class=\"data row2 col23\" >0</td>\n",
       "                        <td id=\"T_f468c7f6_d65d_11ea_a230_e4b97a00219arow2_col24\" class=\"data row2 col24\" >0</td>\n",
       "            </tr>\n",
       "    </tbody></table>"
      ],
      "text/plain": [
       "<pandas.io.formats.style.Styler at 0x7f6a28481cf8>"
      ]
     },
     "metadata": {},
     "output_type": "display_data"
    }
   ],
   "source": [
    "basicPrint(['ideal', 'random', 'worst'], 'div', 'nov', 'ser', splitVersion=2)"
   ]
  },
  {
   "cell_type": "code",
   "execution_count": null,
   "metadata": {},
   "outputs": [],
   "source": []
  },
  {
   "cell_type": "code",
   "execution_count": null,
   "metadata": {},
   "outputs": [],
   "source": []
  },
  {
   "cell_type": "markdown",
   "metadata": {},
   "source": [
    "# Ad-hoc models"
   ]
  },
  {
   "cell_type": "code",
   "execution_count": null,
   "metadata": {},
   "outputs": [],
   "source": [
    "basicPrint('jaccard', 'div', b=['topic', 'jacc', 'style'])"
   ]
  },
  {
   "cell_type": "code",
   "execution_count": null,
   "metadata": {},
   "outputs": [],
   "source": [
    "basicPrint('bm25', 'map', 'mrr', 'ndcg', 'p@100')"
   ]
  },
  {
   "cell_type": "code",
   "execution_count": null,
   "metadata": {},
   "outputs": [],
   "source": [
    "basicPrint('BM25_yf')"
   ]
  },
  {
   "cell_type": "code",
   "execution_count": null,
   "metadata": {},
   "outputs": [],
   "source": [
    "basicPrint('BM25_yf', noSubsampling=False)"
   ]
  },
  {
   "cell_type": "code",
   "execution_count": null,
   "metadata": {},
   "outputs": [],
   "source": []
  },
  {
   "cell_type": "code",
   "execution_count": null,
   "metadata": {},
   "outputs": [],
   "source": []
  },
  {
   "cell_type": "markdown",
   "metadata": {},
   "source": [
    "# Models that use vector representations"
   ]
  },
  {
   "cell_type": "code",
   "execution_count": null,
   "metadata": {},
   "outputs": [],
   "source": [
    "basicPrint('lda')"
   ]
  },
  {
   "cell_type": "code",
   "execution_count": null,
   "metadata": {},
   "outputs": [],
   "source": [
    "basicPrint('nmf')"
   ]
  },
  {
   "cell_type": "code",
   "execution_count": null,
   "metadata": {},
   "outputs": [],
   "source": [
    "basicPrint('tfidf', 'map', 'mrr', 'p@100')"
   ]
  },
  {
   "cell_type": "code",
   "execution_count": null,
   "metadata": {},
   "outputs": [],
   "source": [
    "basicPrint('dbert-ft')"
   ]
  },
  {
   "cell_type": "code",
   "execution_count": null,
   "metadata": {},
   "outputs": [],
   "source": [
    "basicPrint('dbert-base')"
   ]
  },
  {
   "cell_type": "code",
   "execution_count": null,
   "metadata": {},
   "outputs": [],
   "source": [
    "basicPrint('stylo')"
   ]
  },
  {
   "cell_type": "code",
   "execution_count": null,
   "metadata": {},
   "outputs": [],
   "source": [
    "basicPrint('infersent')"
   ]
  },
  {
   "cell_type": "code",
   "execution_count": null,
   "metadata": {},
   "outputs": [],
   "source": [
    "basicPrint('sent2vec')"
   ]
  },
  {
   "cell_type": "code",
   "execution_count": null,
   "metadata": {},
   "outputs": [],
   "source": [
    "basicPrint('word2vec')"
   ]
  },
  {
   "cell_type": "code",
   "execution_count": null,
   "metadata": {},
   "outputs": [],
   "source": [
    "basicPrint('doc2vec')"
   ]
  },
  {
   "cell_type": "code",
   "execution_count": null,
   "metadata": {},
   "outputs": [],
   "source": [
    "basicPrint('usent')"
   ]
  },
  {
   "cell_type": "code",
   "execution_count": null,
   "metadata": {},
   "outputs": [],
   "source": [
    "basicPrint('bert')"
   ]
  },
  {
   "cell_type": "code",
   "execution_count": null,
   "metadata": {},
   "outputs": [],
   "source": []
  },
  {
   "cell_type": "code",
   "execution_count": null,
   "metadata": {},
   "outputs": [],
   "source": []
  },
  {
   "cell_type": "markdown",
   "metadata": {},
   "source": [
    "# All models for split version 2"
   ]
  },
  {
   "cell_type": "code",
   "execution_count": null,
   "metadata": {},
   "outputs": [],
   "source": [
    "printAll('div', splitVersion=2)"
   ]
  },
  {
   "cell_type": "code",
   "execution_count": null,
   "metadata": {},
   "outputs": [],
   "source": []
  },
  {
   "cell_type": "code",
   "execution_count": null,
   "metadata": {},
   "outputs": [],
   "source": []
  },
  {
   "cell_type": "markdown",
   "metadata": {},
   "source": [
    "# Combinations of models"
   ]
  },
  {
   "cell_type": "code",
   "execution_count": null,
   "metadata": {},
   "outputs": [],
   "source": [
    "# Expected 156 rows:\n",
    "basicPrint('combin')"
   ]
  },
  {
   "cell_type": "code",
   "execution_count": null,
   "metadata": {},
   "outputs": [],
   "source": []
  },
  {
   "cell_type": "code",
   "execution_count": null,
   "metadata": {},
   "outputs": [],
   "source": []
  },
  {
   "cell_type": "markdown",
   "metadata": {},
   "source": [
    "# Deep Learning models"
   ]
  },
  {
   "cell_type": "code",
   "execution_count": null,
   "metadata": {},
   "outputs": [],
   "source": [
    "basicPrint('DSSM_yf', noSubsampling=False)"
   ]
  },
  {
   "cell_type": "code",
   "execution_count": null,
   "metadata": {},
   "outputs": [],
   "source": [
    "basicPrint('DSSM_title', noSubsampling=False)"
   ]
  },
  {
   "cell_type": "code",
   "execution_count": null,
   "metadata": {},
   "outputs": [],
   "source": []
  },
  {
   "cell_type": "code",
   "execution_count": null,
   "metadata": {},
   "outputs": [],
   "source": []
  },
  {
   "cell_type": "markdown",
   "metadata": {},
   "source": [
    "# Reports on the test set (split version 1)"
   ]
  },
  {
   "cell_type": "code",
   "execution_count": null,
   "metadata": {},
   "outputs": [],
   "source": [
    "args = ('div', 'nov', 'ser')\n",
    "basicPrint('ideal', *args, splitVersion=1)\n",
    "basicPrint('random', *args, splitVersion=1)\n",
    "basicPrint('worst', *args, splitVersion=1)"
   ]
  },
  {
   "cell_type": "code",
   "execution_count": null,
   "metadata": {
    "scrolled": true
   },
   "outputs": [],
   "source": [
    "printAll(splitVersion=1)"
   ]
  },
  {
   "cell_type": "code",
   "execution_count": null,
   "metadata": {
    "scrolled": true
   },
   "outputs": [],
   "source": [
    "basicPrint('combin', 'nov', splitVersion=1)"
   ]
  },
  {
   "cell_type": "code",
   "execution_count": null,
   "metadata": {},
   "outputs": [],
   "source": []
  },
  {
   "cell_type": "code",
   "execution_count": null,
   "metadata": {},
   "outputs": [],
   "source": []
  },
  {
   "cell_type": "markdown",
   "metadata": {},
   "source": [
    "# Trash"
   ]
  },
  {
   "cell_type": "code",
   "execution_count": null,
   "metadata": {},
   "outputs": [],
   "source": [
    "def basicPrint_deprecated(model, *args, b=None, w=None, splitVersion=2, **kwargs):\n",
    "    if w is not None and isinstance(w, str):\n",
    "        w = [w]\n",
    "    if b is not None and isinstance(b, str):\n",
    "        b = [b]\n",
    "    if w is not None and len(args) > 0:\n",
    "        args = list(args) + list(w)\n",
    "    printReportKwargs = \\\n",
    "    {\n",
    "        'model': model,\n",
    "        'splitVersion': splitVersion,\n",
    "        'noSubsampling': True,\n",
    "        'metaFilter': \\\n",
    "        {\n",
    "            # \"implementation\": \"gensim-lda\",\n",
    "        },\n",
    "        # 'allowedMetrics': {'ndcg', 'div@100', 'topic-div@100', 'swjacc-div@100', 'jacc-div@100'}, # None, {'ndcg', 'ndcg@10'}\n",
    "        # 'allowedMetrics': {'ndcg', 'ndcg@100', 'p@100', 'mrr', 'map'},\n",
    "        'discardedMetrics': {'map', 'mrr', 'ndcg@10', 'ndcg@100', 'p@10', 'p@100'},\n",
    "        'discardedMetrics': {'ndcg@10', 'p@10'},\n",
    "        'whiteMetricPatterns': None if len(args) == 0 else set(list(args) + ['ndcg']),\n",
    "        'blackMetricPatterns': b,\n",
    "        'sortBy': 'ndcg',\n",
    "    }\n",
    "    printReportKwargs = mergeDicts(printReportKwargs, kwargs)\n",
    "    printReport_deprecated(**printReportKwargs)"
   ]
  },
  {
   "cell_type": "code",
   "execution_count": null,
   "metadata": {},
   "outputs": [],
   "source": [
    "def printAll_deprecated(*args, **kwargs):\n",
    "    kwargs['onlyFields'] = {'id', 'model'}\n",
    "    kwargs['excludedModels'] = {'combin', 'ideal', 'worst', 'random'}\n",
    "    return basicPrint_deprecated(None, *args, **kwargs)"
   ]
  },
  {
   "cell_type": "code",
   "execution_count": null,
   "metadata": {},
   "outputs": [],
   "source": []
  },
  {
   "cell_type": "code",
   "execution_count": null,
   "metadata": {},
   "outputs": [],
   "source": []
  }
 ],
 "metadata": {
  "kernelspec": {
   "display_name": "Python 3",
   "language": "python",
   "name": "python3"
  },
  "language_info": {
   "codemirror_mode": {
    "name": "ipython",
    "version": 3
   },
   "file_extension": ".py",
   "mimetype": "text/x-python",
   "name": "python",
   "nbconvert_exporter": "python",
   "pygments_lexer": "ipython3",
   "version": "3.6.6"
  }
 },
 "nbformat": 4,
 "nbformat_minor": 4
}
