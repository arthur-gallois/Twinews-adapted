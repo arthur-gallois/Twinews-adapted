{
 "cells": [
  {
   "cell_type": "markdown",
   "metadata": {},
   "source": [
    "This notebook allow you to print results of models in tables"
   ]
  },
  {
   "cell_type": "code",
   "execution_count": 1,
   "metadata": {},
   "outputs": [],
   "source": [
    "# from twinews import config as twinewsConf\n",
    "# twinewsConf.mongoLocation = \"octods\""
   ]
  },
  {
   "cell_type": "code",
   "execution_count": 2,
   "metadata": {},
   "outputs": [],
   "source": [
    "from systemtools.hayj import *\n",
    "from systemtools.location import *\n",
    "from systemtools.basics import *\n",
    "from systemtools.file import *\n",
    "from systemtools.printer import *\n",
    "from twinews.utils import *\n",
    "from twinews.evaluation.utils import *\n",
    "from twinews.models.ranking import *"
   ]
  },
  {
   "cell_type": "code",
   "execution_count": 3,
   "metadata": {},
   "outputs": [],
   "source": [
    "if False:\n",
    "    purgeSubsampledRankings()"
   ]
  },
  {
   "cell_type": "code",
   "execution_count": 4,
   "metadata": {},
   "outputs": [],
   "source": [
    "if False:\n",
    "    removeRankingsAndScores('tfidf-b0e81')"
   ]
  },
  {
   "cell_type": "code",
   "execution_count": 5,
   "metadata": {},
   "outputs": [],
   "source": [
    "def basicPrint\\\n",
    "(\n",
    "    models,\n",
    "    *args, w=None, b=None,\n",
    "    splitVersion=2,\n",
    "    doNormalization=True,\n",
    "    discardAt10=True, addNdcg=True,\n",
    "    **kwargs,\n",
    "):\n",
    "    if w is not None and isinstance(w, str):\n",
    "        w = [w]\n",
    "    if b is not None and isinstance(b, str):\n",
    "        b = [b]\n",
    "    if isinstance(w, set):\n",
    "        w = list(w)\n",
    "    if isinstance(b, set):\n",
    "        b = list(b)\n",
    "    if len(args) > 0:\n",
    "        if w is not None:\n",
    "            w = list(w) + list(args)\n",
    "        else:\n",
    "            w = list(args)\n",
    "    if discardAt10:\n",
    "        if b is None:\n",
    "            b = []\n",
    "        b = b + ['ndcg@10$', 'p@10$']\n",
    "    if addNdcg:\n",
    "        if w is None:\n",
    "            w = []\n",
    "        w = w + ['ndcg']\n",
    "    printReportKwargs = \\\n",
    "    {\n",
    "        'whiteModels': models,\n",
    "        'splitVersion': splitVersion,\n",
    "        'noSubsampling': True,\n",
    "        'whiteMetrics': w,\n",
    "        'blackMetrics': b,\n",
    "        'sortBy': 'ndcg',\n",
    "        'doNormalization': doNormalization,\n",
    "    }\n",
    "    printReportKwargs = mergeDicts(printReportKwargs, kwargs)\n",
    "    printReport(**printReportKwargs)"
   ]
  },
  {
   "cell_type": "code",
   "execution_count": 6,
   "metadata": {},
   "outputs": [],
   "source": [
    "def printAll(*args, **kwargs):\n",
    "    kwargs['onlyFields'] = {'id', 'model'}\n",
    "    kwargs['blackModels'] = {'combin'}\n",
    "    return basicPrint(None, *args, **kwargs)"
   ]
  },
  {
   "cell_type": "code",
   "execution_count": null,
   "metadata": {},
   "outputs": [],
   "source": []
  },
  {
   "cell_type": "code",
   "execution_count": null,
   "metadata": {},
   "outputs": [],
   "source": []
  },
  {
   "cell_type": "markdown",
   "metadata": {},
   "source": [
    "# Misc"
   ]
  },
  {
   "cell_type": "code",
   "execution_count": null,
   "metadata": {},
   "outputs": [],
   "source": [
    "if False:\n",
    "    twinewsRankings = getTwinewsRankings()\n",
    "    keysToDelete = set()\n",
    "    for key in twinewsRankings.keys():\n",
    "        if \"combin\" in key:\n",
    "            meta = twinewsRankings.getMeta(key)\n",
    "            hasTFIDF = False\n",
    "            for m in meta['models']:\n",
    "                if 'tfidf' in m:\n",
    "                    hasTFIDF = True\n",
    "                    break\n",
    "            if hasTFIDF and meta['splitVersion'] == 1:\n",
    "                keysToDelete.add(key)\n",
    "    print(keysToDelete)"
   ]
  },
  {
   "cell_type": "code",
   "execution_count": null,
   "metadata": {},
   "outputs": [],
   "source": [
    "if False:\n",
    "    for key in keysToDelete:\n",
    "        removeRankingsAndScores(key)"
   ]
  },
  {
   "cell_type": "code",
   "execution_count": null,
   "metadata": {},
   "outputs": [],
   "source": [
    "# Removing combin models with maxUsers is not None:\n",
    "if False:\n",
    "    twinewsRankings = getTwinewsRankings()\n",
    "    ids = twinewsRankings.keys()\n",
    "    bp(ids)\n",
    "    for currentId in ids:\n",
    "        if 'combin' in currentId:\n",
    "            meta = twinewsRankings.getMeta(currentId)\n",
    "            if meta['maxUsers'] is not None:\n",
    "                del twinewsRankings[currentId]"
   ]
  },
  {
   "cell_type": "code",
   "execution_count": null,
   "metadata": {},
   "outputs": [],
   "source": []
  },
  {
   "cell_type": "code",
   "execution_count": null,
   "metadata": {},
   "outputs": [],
   "source": []
  },
  {
   "cell_type": "markdown",
   "metadata": {},
   "source": [
    "# Model lists per split version"
   ]
  },
  {
   "cell_type": "code",
   "execution_count": 7,
   "metadata": {},
   "outputs": [],
   "source": [
    "def printModelList(splitVersion):\n",
    "    twinewsRankings = getTwinewsRankings()\n",
    "    models = set()\n",
    "    for key in twinewsRankings.keys():\n",
    "        meta = twinewsRankings.getMeta(key)\n",
    "        if meta[\"splitVersion\"] == splitVersion:\n",
    "            models.add(meta['model'])\n",
    "    print(\" \".join(sorted(list(models))) + \" (\" + str(len(models)) + \")\")"
   ]
  },
  {
   "cell_type": "code",
   "execution_count": 8,
   "metadata": {},
   "outputs": [
    {
     "name": "stdout",
     "output_type": "stream",
     "text": [
      "BM25_yf Convnet DSSM_title DSSM_yf bert bm25 combin dbert-base dbert-ft doc2vec ideal infersent jaccard lda nmf random sent2vec stylo tfidf usent word2vec worst (22)\n"
     ]
    }
   ],
   "source": [
    "printModelList(2)"
   ]
  },
  {
   "cell_type": "code",
   "execution_count": null,
   "metadata": {},
   "outputs": [],
   "source": [
    "printModelList(1)"
   ]
  },
  {
   "cell_type": "code",
   "execution_count": null,
   "metadata": {},
   "outputs": [],
   "source": []
  },
  {
   "cell_type": "code",
   "execution_count": null,
   "metadata": {},
   "outputs": [],
   "source": []
  },
  {
   "cell_type": "markdown",
   "metadata": {},
   "source": [
    "# Reference models"
   ]
  },
  {
   "cell_type": "code",
   "execution_count": null,
   "metadata": {},
   "outputs": [],
   "source": [
    "args = ('div', 'nov', 'ser')\n",
    "basicPrint('ideal', *args, splitVersion=2)\n",
    "basicPrint('random', *args, splitVersion=2)\n",
    "basicPrint('worst', *args, splitVersion=2)"
   ]
  },
  {
   "cell_type": "code",
   "execution_count": null,
   "metadata": {},
   "outputs": [],
   "source": [
    "basicPrint(['ideal', 'random', 'random'], *args, splitVersion=2)\n"
   ]
  },
  {
   "cell_type": "code",
   "execution_count": null,
   "metadata": {},
   "outputs": [],
   "source": []
  },
  {
   "cell_type": "markdown",
   "metadata": {},
   "source": [
    "# Ad-hoc models"
   ]
  },
  {
   "cell_type": "code",
   "execution_count": null,
   "metadata": {},
   "outputs": [],
   "source": [
    "basicPrint('jaccard', 'div', b=['topic', 'jacc', 'style'])"
   ]
  },
  {
   "cell_type": "code",
   "execution_count": null,
   "metadata": {},
   "outputs": [],
   "source": [
    "basicPrint('bm25', 'map', 'mrr', 'ndcg', 'p@100')"
   ]
  },
  {
   "cell_type": "code",
   "execution_count": null,
   "metadata": {},
   "outputs": [],
   "source": [
    "basicPrint('BM25_yf')"
   ]
  },
  {
   "cell_type": "code",
   "execution_count": null,
   "metadata": {},
   "outputs": [],
   "source": [
    "basicPrint('BM25_yf', noSubsampling=False)"
   ]
  },
  {
   "cell_type": "code",
   "execution_count": null,
   "metadata": {},
   "outputs": [],
   "source": []
  },
  {
   "cell_type": "code",
   "execution_count": null,
   "metadata": {},
   "outputs": [],
   "source": []
  },
  {
   "cell_type": "markdown",
   "metadata": {},
   "source": [
    "# Models that use vector representations"
   ]
  },
  {
   "cell_type": "code",
   "execution_count": null,
   "metadata": {},
   "outputs": [],
   "source": [
    "basicPrint('lda')"
   ]
  },
  {
   "cell_type": "code",
   "execution_count": null,
   "metadata": {},
   "outputs": [],
   "source": [
    "basicPrint('nmf')"
   ]
  },
  {
   "cell_type": "code",
   "execution_count": null,
   "metadata": {},
   "outputs": [],
   "source": [
    "basicPrint('tfidf', 'map', 'mrr', 'p@100')"
   ]
  },
  {
   "cell_type": "code",
   "execution_count": null,
   "metadata": {},
   "outputs": [],
   "source": [
    "basicPrint('dbert-ft')"
   ]
  },
  {
   "cell_type": "code",
   "execution_count": null,
   "metadata": {},
   "outputs": [],
   "source": [
    "basicPrint('dbert-base')"
   ]
  },
  {
   "cell_type": "code",
   "execution_count": null,
   "metadata": {},
   "outputs": [],
   "source": [
    "basicPrint('stylo')"
   ]
  },
  {
   "cell_type": "code",
   "execution_count": null,
   "metadata": {},
   "outputs": [],
   "source": [
    "basicPrint('infersent')"
   ]
  },
  {
   "cell_type": "code",
   "execution_count": null,
   "metadata": {},
   "outputs": [],
   "source": [
    "basicPrint('sent2vec')"
   ]
  },
  {
   "cell_type": "code",
   "execution_count": null,
   "metadata": {},
   "outputs": [],
   "source": [
    "basicPrint('word2vec')"
   ]
  },
  {
   "cell_type": "code",
   "execution_count": null,
   "metadata": {},
   "outputs": [],
   "source": [
    "basicPrint('doc2vec')"
   ]
  },
  {
   "cell_type": "code",
   "execution_count": null,
   "metadata": {},
   "outputs": [],
   "source": [
    "basicPrint('usent')"
   ]
  },
  {
   "cell_type": "code",
   "execution_count": null,
   "metadata": {},
   "outputs": [],
   "source": [
    "basicPrint('bert')"
   ]
  },
  {
   "cell_type": "code",
   "execution_count": null,
   "metadata": {},
   "outputs": [],
   "source": []
  },
  {
   "cell_type": "code",
   "execution_count": null,
   "metadata": {},
   "outputs": [],
   "source": []
  },
  {
   "cell_type": "markdown",
   "metadata": {},
   "source": [
    "# All models for split version 2"
   ]
  },
  {
   "cell_type": "code",
   "execution_count": null,
   "metadata": {},
   "outputs": [],
   "source": [
    "printAll('div', splitVersion=2)"
   ]
  },
  {
   "cell_type": "code",
   "execution_count": null,
   "metadata": {},
   "outputs": [],
   "source": []
  },
  {
   "cell_type": "code",
   "execution_count": null,
   "metadata": {},
   "outputs": [],
   "source": []
  },
  {
   "cell_type": "markdown",
   "metadata": {},
   "source": [
    "# Combinations of models"
   ]
  },
  {
   "cell_type": "code",
   "execution_count": null,
   "metadata": {},
   "outputs": [],
   "source": [
    "# Expected 156 rows:\n",
    "basicPrint('combin')"
   ]
  },
  {
   "cell_type": "code",
   "execution_count": null,
   "metadata": {},
   "outputs": [],
   "source": []
  },
  {
   "cell_type": "code",
   "execution_count": null,
   "metadata": {},
   "outputs": [],
   "source": []
  },
  {
   "cell_type": "markdown",
   "metadata": {},
   "source": [
    "# Deep Learning models"
   ]
  },
  {
   "cell_type": "code",
   "execution_count": null,
   "metadata": {},
   "outputs": [],
   "source": [
    "basicPrint('DSSM_yf', noSubsampling=False)"
   ]
  },
  {
   "cell_type": "code",
   "execution_count": null,
   "metadata": {},
   "outputs": [],
   "source": [
    "basicPrint('DSSM_title', noSubsampling=False)"
   ]
  },
  {
   "cell_type": "code",
   "execution_count": null,
   "metadata": {},
   "outputs": [],
   "source": []
  },
  {
   "cell_type": "code",
   "execution_count": null,
   "metadata": {},
   "outputs": [],
   "source": []
  },
  {
   "cell_type": "markdown",
   "metadata": {},
   "source": [
    "# Reports on the test set (split version 1)"
   ]
  },
  {
   "cell_type": "code",
   "execution_count": null,
   "metadata": {},
   "outputs": [],
   "source": [
    "args = ('div', 'nov', 'ser')\n",
    "basicPrint('ideal', *args, splitVersion=1)\n",
    "basicPrint('random', *args, splitVersion=1)\n",
    "basicPrint('worst', *args, splitVersion=1)"
   ]
  },
  {
   "cell_type": "code",
   "execution_count": null,
   "metadata": {
    "scrolled": true
   },
   "outputs": [],
   "source": [
    "printAll(splitVersion=1)"
   ]
  },
  {
   "cell_type": "code",
   "execution_count": null,
   "metadata": {
    "scrolled": true
   },
   "outputs": [],
   "source": [
    "basicPrint('combin', 'nov', splitVersion=1)"
   ]
  },
  {
   "cell_type": "code",
   "execution_count": null,
   "metadata": {},
   "outputs": [],
   "source": []
  },
  {
   "cell_type": "code",
   "execution_count": null,
   "metadata": {},
   "outputs": [],
   "source": []
  },
  {
   "cell_type": "markdown",
   "metadata": {},
   "source": [
    "# Trash"
   ]
  },
  {
   "cell_type": "code",
   "execution_count": null,
   "metadata": {},
   "outputs": [],
   "source": [
    "def basicPrint_deprecated(model, *args, b=None, w=None, splitVersion=2, **kwargs):\n",
    "    if w is not None and isinstance(w, str):\n",
    "        w = [w]\n",
    "    if b is not None and isinstance(b, str):\n",
    "        b = [b]\n",
    "    if w is not None and len(args) > 0:\n",
    "        args = list(args) + list(w)\n",
    "    printReportKwargs = \\\n",
    "    {\n",
    "        'model': model,\n",
    "        'splitVersion': splitVersion,\n",
    "        'noSubsampling': True,\n",
    "        'metaFilter': \\\n",
    "        {\n",
    "            # \"implementation\": \"gensim-lda\",\n",
    "        },\n",
    "        # 'allowedMetrics': {'ndcg', 'div@100', 'topic-div@100', 'swjacc-div@100', 'jacc-div@100'}, # None, {'ndcg', 'ndcg@10'}\n",
    "        # 'allowedMetrics': {'ndcg', 'ndcg@100', 'p@100', 'mrr', 'map'},\n",
    "        'discardedMetrics': {'map', 'mrr', 'ndcg@10', 'ndcg@100', 'p@10', 'p@100'},\n",
    "        'discardedMetrics': {'ndcg@10', 'p@10'},\n",
    "        'whiteMetricPatterns': None if len(args) == 0 else set(list(args) + ['ndcg']),\n",
    "        'blackMetricPatterns': b,\n",
    "        'sortBy': 'ndcg',\n",
    "    }\n",
    "    printReportKwargs = mergeDicts(printReportKwargs, kwargs)\n",
    "    printReport_deprecated(**printReportKwargs)"
   ]
  },
  {
   "cell_type": "code",
   "execution_count": null,
   "metadata": {},
   "outputs": [],
   "source": [
    "def printAll_deprecated(*args, **kwargs):\n",
    "    kwargs['onlyFields'] = {'id', 'model'}\n",
    "    kwargs['excludedModels'] = {'combin', 'ideal', 'worst', 'random'}\n",
    "    return basicPrint_deprecated(None, *args, **kwargs)"
   ]
  },
  {
   "cell_type": "code",
   "execution_count": null,
   "metadata": {},
   "outputs": [],
   "source": []
  },
  {
   "cell_type": "code",
   "execution_count": null,
   "metadata": {},
   "outputs": [],
   "source": []
  }
 ],
 "metadata": {
  "kernelspec": {
   "display_name": "Python 3",
   "language": "python",
   "name": "python3"
  },
  "language_info": {
   "codemirror_mode": {
    "name": "ipython",
    "version": 3
   },
   "file_extension": ".py",
   "mimetype": "text/x-python",
   "name": "python",
   "nbconvert_exporter": "python",
   "pygments_lexer": "ipython3",
   "version": "3.6.6"
  }
 },
 "nbformat": 4,
 "nbformat_minor": 4
}
