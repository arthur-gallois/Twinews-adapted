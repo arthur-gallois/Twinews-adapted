{
 "cells": [
  {
   "cell_type": "markdown",
   "metadata": {},
   "source": [
    "This notebook allow you to print results of models in tables"
   ]
  },
  {
   "cell_type": "code",
   "execution_count": 1,
   "metadata": {},
   "outputs": [],
   "source": [
    "import os ; os.environ[\"CUDA_VISIBLE_DEVICES\"] = \"\""
   ]
  },
  {
   "cell_type": "code",
   "execution_count": 2,
   "metadata": {},
   "outputs": [],
   "source": [
    "from systemtools.hayj import *\n",
    "from systemtools.location import *\n",
    "from systemtools.basics import *\n",
    "from systemtools.file import *\n",
    "from systemtools.printer import *\n",
    "from twinews.utils import *\n",
    "from twinews.evaluation.utils import *"
   ]
  },
  {
   "cell_type": "code",
   "execution_count": 3,
   "metadata": {},
   "outputs": [],
   "source": [
    "if False:\n",
    "    purgeSubsampledRankings()"
   ]
  },
  {
   "cell_type": "code",
   "execution_count": 4,
   "metadata": {},
   "outputs": [],
   "source": [
    "def basicPrint(model, **kwargs):\n",
    "    printReportKwargs = \\\n",
    "    {\n",
    "        'model': model,\n",
    "        'splitVersion': 2,\n",
    "        'noSubsampling': True,\n",
    "        'metaFilter': \\\n",
    "        {\n",
    "            # \"implementation\": \"gensim-lda\",\n",
    "        },\n",
    "        'metricsFilter': {'ndcg'}, # None, {'ndcg', 'ndcg@10'}\n",
    "        'sortBy': 'ndcg',\n",
    "    }\n",
    "    printReportKwargs = mergeDicts(printReportKwargs, kwargs)\n",
    "    printReport(**printReportKwargs)"
   ]
  },
  {
   "cell_type": "code",
   "execution_count": null,
   "metadata": {},
   "outputs": [],
   "source": []
  },
  {
   "cell_type": "code",
   "execution_count": null,
   "metadata": {},
   "outputs": [],
   "source": []
  },
  {
   "cell_type": "markdown",
   "metadata": {},
   "source": [
    "# Reference models"
   ]
  },
  {
   "cell_type": "code",
   "execution_count": 5,
   "metadata": {},
   "outputs": [
    {
     "data": {
      "text/html": [
       "<style  type=\"text/css\" >\n",
       "    #T_97687f98_78f6_11ea_8c05_e4b97a00219arow0_col0 {\n",
       "            background-color:  rgba(150, 150, 150, 0.3);\n",
       "        }    #T_97687f98_78f6_11ea_8c05_e4b97a00219arow0_col4 {\n",
       "            background-color:  rgba(0, 155, 149, 0.3);\n",
       "        }    #T_97687f98_78f6_11ea_8c05_e4b97a00219arow0_col5 {\n",
       "            background-color:  rgba(0, 155, 149, 0.3);\n",
       "        }    #T_97687f98_78f6_11ea_8c05_e4b97a00219arow0_col6 {\n",
       "            background-color:  rgba(0, 155, 149, 0.3);\n",
       "        }    #T_97687f98_78f6_11ea_8c05_e4b97a00219arow0_col7 {\n",
       "            background-color:  rgba(0, 155, 149, 0.3);\n",
       "        }    #T_97687f98_78f6_11ea_8c05_e4b97a00219arow0_col8 {\n",
       "            background-color:  rgba(0, 155, 149, 0.3);\n",
       "        }    #T_97687f98_78f6_11ea_8c05_e4b97a00219arow0_col9 {\n",
       "            background-color:  rgba(0, 155, 149, 0.3);\n",
       "        }    #T_97687f98_78f6_11ea_8c05_e4b97a00219arow0_col10 {\n",
       "            background-color:  rgba(0, 155, 149, 0.3);\n",
       "        }</style><table id=\"T_97687f98_78f6_11ea_8c05_e4b97a00219a\" ><thead>    <tr>        <th class=\"blank level0\" ></th>        <th class=\"col_heading level0 col0\" >id</th>        <th class=\"col_heading level0 col1\" >maxUsers</th>        <th class=\"col_heading level0 col2\" >model</th>        <th class=\"col_heading level0 col3\" >splitVersion</th>        <th class=\"col_heading level0 col4\" >map</th>        <th class=\"col_heading level0 col5\" >mrr</th>        <th class=\"col_heading level0 col6\" >ndcg</th>        <th class=\"col_heading level0 col7\" >ndcg@10</th>        <th class=\"col_heading level0 col8\" >ndcg@100</th>        <th class=\"col_heading level0 col9\" >p@10</th>        <th class=\"col_heading level0 col10\" >p@100</th>    </tr></thead><tbody>\n",
       "                <tr>\n",
       "                        <th id=\"T_97687f98_78f6_11ea_8c05_e4b97a00219alevel0_row0\" class=\"row_heading level0 row0\" >0</th>\n",
       "                        <td id=\"T_97687f98_78f6_11ea_8c05_e4b97a00219arow0_col0\" class=\"data row0 col0\" >ideal-5ac2d</td>\n",
       "                        <td id=\"T_97687f98_78f6_11ea_8c05_e4b97a00219arow0_col1\" class=\"data row0 col1\" >None</td>\n",
       "                        <td id=\"T_97687f98_78f6_11ea_8c05_e4b97a00219arow0_col2\" class=\"data row0 col2\" >ideal</td>\n",
       "                        <td id=\"T_97687f98_78f6_11ea_8c05_e4b97a00219arow0_col3\" class=\"data row0 col3\" >2</td>\n",
       "                        <td id=\"T_97687f98_78f6_11ea_8c05_e4b97a00219arow0_col4\" class=\"data row0 col4\" >1</td>\n",
       "                        <td id=\"T_97687f98_78f6_11ea_8c05_e4b97a00219arow0_col5\" class=\"data row0 col5\" >1</td>\n",
       "                        <td id=\"T_97687f98_78f6_11ea_8c05_e4b97a00219arow0_col6\" class=\"data row0 col6\" >1</td>\n",
       "                        <td id=\"T_97687f98_78f6_11ea_8c05_e4b97a00219arow0_col7\" class=\"data row0 col7\" >1</td>\n",
       "                        <td id=\"T_97687f98_78f6_11ea_8c05_e4b97a00219arow0_col8\" class=\"data row0 col8\" >1</td>\n",
       "                        <td id=\"T_97687f98_78f6_11ea_8c05_e4b97a00219arow0_col9\" class=\"data row0 col9\" >0.56539</td>\n",
       "                        <td id=\"T_97687f98_78f6_11ea_8c05_e4b97a00219arow0_col10\" class=\"data row0 col10\" >0.07227</td>\n",
       "            </tr>\n",
       "    </tbody></table>"
      ],
      "text/plain": [
       "<pandas.io.formats.style.Styler at 0x7fc954787a90>"
      ]
     },
     "metadata": {},
     "output_type": "display_data"
    },
    {
     "name": "stdout",
     "output_type": "stream",
     "text": [
      "These values are common to all rows:\n",
      "\n",
      "\t- splitVersion: 2\n",
      "\t- model: random\n",
      "\t- maxUsers: None\n"
     ]
    },
    {
     "data": {
      "text/html": [
       "<style  type=\"text/css\" >\n",
       "    #T_98686f84_78f6_11ea_8c05_e4b97a00219arow0_col0 {\n",
       "            background-color:  rgba(150, 150, 150, 0.3);\n",
       "        }    #T_98686f84_78f6_11ea_8c05_e4b97a00219arow0_col2 {\n",
       "            background-color:  rgba(0, 155, 149, 0.3);\n",
       "        }    #T_98686f84_78f6_11ea_8c05_e4b97a00219arow0_col3 {\n",
       "            background-color:  rgba(0, 155, 149, 0.3);\n",
       "        }    #T_98686f84_78f6_11ea_8c05_e4b97a00219arow0_col4 {\n",
       "            background-color:  rgba(0, 155, 149, 0.3);\n",
       "        }    #T_98686f84_78f6_11ea_8c05_e4b97a00219arow0_col5 {\n",
       "            background-color:  rgba(0, 155, 149, 0.3);\n",
       "        }    #T_98686f84_78f6_11ea_8c05_e4b97a00219arow0_col6 {\n",
       "            background-color:  rgba(0, 155, 149, 0.3);\n",
       "        }    #T_98686f84_78f6_11ea_8c05_e4b97a00219arow0_col7 {\n",
       "            background-color:  rgba(0, 155, 149, 0.3);\n",
       "        }    #T_98686f84_78f6_11ea_8c05_e4b97a00219arow0_col8 {\n",
       "            background-color:  rgba(0, 155, 149, 0.3);\n",
       "        }    #T_98686f84_78f6_11ea_8c05_e4b97a00219arow1_col0 {\n",
       "            background-color:  rgba(150, 150, 150, 0.3);\n",
       "        }    #T_98686f84_78f6_11ea_8c05_e4b97a00219arow1_col2 {\n",
       "            background-color:  rgba(0, 155, 149, 0.3);\n",
       "        }    #T_98686f84_78f6_11ea_8c05_e4b97a00219arow1_col3 {\n",
       "            background-color:  rgba(0, 155, 149, 0.3);\n",
       "        }    #T_98686f84_78f6_11ea_8c05_e4b97a00219arow1_col4 {\n",
       "            background-color:  rgba(0, 155, 149, 0.3);\n",
       "        }    #T_98686f84_78f6_11ea_8c05_e4b97a00219arow1_col5 {\n",
       "            background-color:  rgba(0, 155, 149, 0.3);\n",
       "        }    #T_98686f84_78f6_11ea_8c05_e4b97a00219arow1_col6 {\n",
       "            background-color:  rgba(0, 155, 149, 0.3);\n",
       "        }    #T_98686f84_78f6_11ea_8c05_e4b97a00219arow1_col7 {\n",
       "            background-color:  rgba(0, 155, 149, 0.3);\n",
       "        }    #T_98686f84_78f6_11ea_8c05_e4b97a00219arow1_col8 {\n",
       "            background-color:  rgba(0, 155, 149, 0.3);\n",
       "        }    #T_98686f84_78f6_11ea_8c05_e4b97a00219arow2_col0 {\n",
       "            background-color:  rgba(150, 150, 150, 0.3);\n",
       "        }    #T_98686f84_78f6_11ea_8c05_e4b97a00219arow2_col2 {\n",
       "            background-color:  rgba(0, 155, 149, 0.3);\n",
       "        }    #T_98686f84_78f6_11ea_8c05_e4b97a00219arow2_col3 {\n",
       "            background-color:  rgba(0, 155, 149, 0.3);\n",
       "        }    #T_98686f84_78f6_11ea_8c05_e4b97a00219arow2_col4 {\n",
       "            background-color:  rgba(0, 155, 149, 0.3);\n",
       "        }    #T_98686f84_78f6_11ea_8c05_e4b97a00219arow2_col5 {\n",
       "            background-color:  rgba(0, 155, 149, 0.3);\n",
       "        }    #T_98686f84_78f6_11ea_8c05_e4b97a00219arow2_col6 {\n",
       "            background-color:  rgba(0, 155, 149, 0.3);\n",
       "        }    #T_98686f84_78f6_11ea_8c05_e4b97a00219arow2_col7 {\n",
       "            background-color:  rgba(0, 155, 149, 0.3);\n",
       "        }    #T_98686f84_78f6_11ea_8c05_e4b97a00219arow2_col8 {\n",
       "            background-color:  rgba(0, 155, 149, 0.3);\n",
       "        }    #T_98686f84_78f6_11ea_8c05_e4b97a00219arow3_col0 {\n",
       "            background-color:  rgba(150, 150, 150, 0.3);\n",
       "        }    #T_98686f84_78f6_11ea_8c05_e4b97a00219arow3_col2 {\n",
       "            background-color:  rgba(0, 155, 149, 0.3);\n",
       "        }    #T_98686f84_78f6_11ea_8c05_e4b97a00219arow3_col3 {\n",
       "            background-color:  rgba(0, 155, 149, 0.3);\n",
       "        }    #T_98686f84_78f6_11ea_8c05_e4b97a00219arow3_col4 {\n",
       "            background-color:  rgba(0, 155, 149, 0.3);\n",
       "        }    #T_98686f84_78f6_11ea_8c05_e4b97a00219arow3_col5 {\n",
       "            background-color:  rgba(0, 155, 149, 0.3);\n",
       "        }    #T_98686f84_78f6_11ea_8c05_e4b97a00219arow3_col6 {\n",
       "            background-color:  rgba(0, 155, 149, 0.3);\n",
       "        }    #T_98686f84_78f6_11ea_8c05_e4b97a00219arow3_col7 {\n",
       "            background-color:  rgba(0, 155, 149, 0.3);\n",
       "        }    #T_98686f84_78f6_11ea_8c05_e4b97a00219arow3_col8 {\n",
       "            background-color:  rgba(0, 155, 149, 0.3);\n",
       "        }    #T_98686f84_78f6_11ea_8c05_e4b97a00219arow4_col0 {\n",
       "            background-color:  rgba(150, 150, 150, 0.3);\n",
       "        }    #T_98686f84_78f6_11ea_8c05_e4b97a00219arow4_col2 {\n",
       "            background-color:  rgba(0, 155, 149, 0.3);\n",
       "        }    #T_98686f84_78f6_11ea_8c05_e4b97a00219arow4_col3 {\n",
       "            background-color:  rgba(0, 155, 149, 0.3);\n",
       "        }    #T_98686f84_78f6_11ea_8c05_e4b97a00219arow4_col4 {\n",
       "            background-color:  rgba(0, 155, 149, 0.3);\n",
       "        }    #T_98686f84_78f6_11ea_8c05_e4b97a00219arow4_col5 {\n",
       "            background-color:  rgba(0, 155, 149, 0.3);\n",
       "        }    #T_98686f84_78f6_11ea_8c05_e4b97a00219arow4_col6 {\n",
       "            background-color:  rgba(0, 155, 149, 0.3);\n",
       "        }    #T_98686f84_78f6_11ea_8c05_e4b97a00219arow4_col7 {\n",
       "            background-color:  rgba(0, 155, 149, 0.3);\n",
       "        }    #T_98686f84_78f6_11ea_8c05_e4b97a00219arow4_col8 {\n",
       "            background-color:  rgba(0, 155, 149, 0.3);\n",
       "        }    #T_98686f84_78f6_11ea_8c05_e4b97a00219arow5_col0 {\n",
       "            background-color:  rgba(150, 150, 150, 0.3);\n",
       "        }    #T_98686f84_78f6_11ea_8c05_e4b97a00219arow5_col2 {\n",
       "            background-color:  rgba(0, 155, 149, 0.3);\n",
       "        }    #T_98686f84_78f6_11ea_8c05_e4b97a00219arow5_col3 {\n",
       "            background-color:  rgba(0, 155, 149, 0.3);\n",
       "        }    #T_98686f84_78f6_11ea_8c05_e4b97a00219arow5_col4 {\n",
       "            background-color:  rgba(0, 155, 149, 0.3);\n",
       "        }    #T_98686f84_78f6_11ea_8c05_e4b97a00219arow5_col5 {\n",
       "            background-color:  rgba(0, 155, 149, 0.3);\n",
       "        }    #T_98686f84_78f6_11ea_8c05_e4b97a00219arow5_col6 {\n",
       "            background-color:  rgba(0, 155, 149, 0.3);\n",
       "        }    #T_98686f84_78f6_11ea_8c05_e4b97a00219arow5_col7 {\n",
       "            background-color:  rgba(0, 155, 149, 0.3);\n",
       "        }    #T_98686f84_78f6_11ea_8c05_e4b97a00219arow5_col8 {\n",
       "            background-color:  rgba(0, 155, 149, 0.3);\n",
       "        }    #T_98686f84_78f6_11ea_8c05_e4b97a00219arow6_col0 {\n",
       "            background-color:  rgba(150, 150, 150, 0.3);\n",
       "        }    #T_98686f84_78f6_11ea_8c05_e4b97a00219arow6_col2 {\n",
       "            background-color:  rgba(0, 155, 149, 0.3);\n",
       "        }    #T_98686f84_78f6_11ea_8c05_e4b97a00219arow6_col3 {\n",
       "            background-color:  rgba(0, 155, 149, 0.3);\n",
       "        }    #T_98686f84_78f6_11ea_8c05_e4b97a00219arow6_col4 {\n",
       "            background-color:  rgba(0, 155, 149, 0.3);\n",
       "        }    #T_98686f84_78f6_11ea_8c05_e4b97a00219arow6_col5 {\n",
       "            background-color:  rgba(0, 155, 149, 0.3);\n",
       "        }    #T_98686f84_78f6_11ea_8c05_e4b97a00219arow6_col6 {\n",
       "            background-color:  rgba(0, 155, 149, 0.3);\n",
       "        }    #T_98686f84_78f6_11ea_8c05_e4b97a00219arow6_col7 {\n",
       "            background-color:  rgba(0, 155, 149, 0.3);\n",
       "        }    #T_98686f84_78f6_11ea_8c05_e4b97a00219arow6_col8 {\n",
       "            background-color:  rgba(0, 155, 149, 0.3);\n",
       "        }    #T_98686f84_78f6_11ea_8c05_e4b97a00219arow7_col0 {\n",
       "            background-color:  rgba(150, 150, 150, 0.3);\n",
       "        }    #T_98686f84_78f6_11ea_8c05_e4b97a00219arow7_col2 {\n",
       "            background-color:  rgba(0, 155, 149, 0.3);\n",
       "        }    #T_98686f84_78f6_11ea_8c05_e4b97a00219arow7_col3 {\n",
       "            background-color:  rgba(0, 155, 149, 0.3);\n",
       "        }    #T_98686f84_78f6_11ea_8c05_e4b97a00219arow7_col4 {\n",
       "            background-color:  rgba(0, 155, 149, 0.3);\n",
       "        }    #T_98686f84_78f6_11ea_8c05_e4b97a00219arow7_col5 {\n",
       "            background-color:  rgba(0, 155, 149, 0.3);\n",
       "        }    #T_98686f84_78f6_11ea_8c05_e4b97a00219arow7_col6 {\n",
       "            background-color:  rgba(0, 155, 149, 0.3);\n",
       "        }    #T_98686f84_78f6_11ea_8c05_e4b97a00219arow7_col7 {\n",
       "            background-color:  rgba(0, 155, 149, 0.3);\n",
       "        }    #T_98686f84_78f6_11ea_8c05_e4b97a00219arow7_col8 {\n",
       "            background-color:  rgba(0, 155, 149, 0.3);\n",
       "        }    #T_98686f84_78f6_11ea_8c05_e4b97a00219arow8_col0 {\n",
       "            background-color:  rgba(150, 150, 150, 0.3);\n",
       "        }    #T_98686f84_78f6_11ea_8c05_e4b97a00219arow8_col2 {\n",
       "            background-color:  rgba(0, 155, 149, 0.3);\n",
       "        }    #T_98686f84_78f6_11ea_8c05_e4b97a00219arow8_col3 {\n",
       "            background-color:  rgba(0, 155, 149, 0.3);\n",
       "        }    #T_98686f84_78f6_11ea_8c05_e4b97a00219arow8_col4 {\n",
       "            background-color:  rgba(0, 155, 149, 0.3);\n",
       "        }    #T_98686f84_78f6_11ea_8c05_e4b97a00219arow8_col5 {\n",
       "            background-color:  rgba(0, 155, 149, 0.3);\n",
       "        }    #T_98686f84_78f6_11ea_8c05_e4b97a00219arow8_col6 {\n",
       "            background-color:  rgba(0, 155, 149, 0.3);\n",
       "        }    #T_98686f84_78f6_11ea_8c05_e4b97a00219arow8_col7 {\n",
       "            background-color:  rgba(0, 155, 149, 0.3);\n",
       "        }    #T_98686f84_78f6_11ea_8c05_e4b97a00219arow8_col8 {\n",
       "            background-color:  rgba(0, 155, 149, 0.3);\n",
       "        }    #T_98686f84_78f6_11ea_8c05_e4b97a00219arow9_col0 {\n",
       "            background-color:  rgba(150, 150, 150, 0.3);\n",
       "        }    #T_98686f84_78f6_11ea_8c05_e4b97a00219arow9_col2 {\n",
       "            background-color:  rgba(0, 155, 149, 0.3);\n",
       "        }    #T_98686f84_78f6_11ea_8c05_e4b97a00219arow9_col3 {\n",
       "            background-color:  rgba(0, 155, 149, 0.3);\n",
       "        }    #T_98686f84_78f6_11ea_8c05_e4b97a00219arow9_col4 {\n",
       "            background-color:  rgba(0, 155, 149, 0.3);\n",
       "        }    #T_98686f84_78f6_11ea_8c05_e4b97a00219arow9_col5 {\n",
       "            background-color:  rgba(0, 155, 149, 0.3);\n",
       "        }    #T_98686f84_78f6_11ea_8c05_e4b97a00219arow9_col6 {\n",
       "            background-color:  rgba(0, 155, 149, 0.3);\n",
       "        }    #T_98686f84_78f6_11ea_8c05_e4b97a00219arow9_col7 {\n",
       "            background-color:  rgba(0, 155, 149, 0.3);\n",
       "        }    #T_98686f84_78f6_11ea_8c05_e4b97a00219arow9_col8 {\n",
       "            background-color:  rgba(0, 155, 149, 0.3);\n",
       "        }</style><table id=\"T_98686f84_78f6_11ea_8c05_e4b97a00219a\" ><thead>    <tr>        <th class=\"blank level0\" ></th>        <th class=\"col_heading level0 col0\" >id</th>        <th class=\"col_heading level0 col1\" >seed</th>        <th class=\"col_heading level0 col2\" >map</th>        <th class=\"col_heading level0 col3\" >mrr</th>        <th class=\"col_heading level0 col4\" >ndcg</th>        <th class=\"col_heading level0 col5\" >ndcg@10</th>        <th class=\"col_heading level0 col6\" >ndcg@100</th>        <th class=\"col_heading level0 col7\" >p@10</th>        <th class=\"col_heading level0 col8\" >p@100</th>    </tr></thead><tbody>\n",
       "                <tr>\n",
       "                        <th id=\"T_98686f84_78f6_11ea_8c05_e4b97a00219alevel0_row0\" class=\"row_heading level0 row0\" >0</th>\n",
       "                        <td id=\"T_98686f84_78f6_11ea_8c05_e4b97a00219arow0_col0\" class=\"data row0 col0\" >random-f03b8</td>\n",
       "                        <td id=\"T_98686f84_78f6_11ea_8c05_e4b97a00219arow0_col1\" class=\"data row0 col1\" >4</td>\n",
       "                        <td id=\"T_98686f84_78f6_11ea_8c05_e4b97a00219arow0_col2\" class=\"data row0 col2\" >0.0109</td>\n",
       "                        <td id=\"T_98686f84_78f6_11ea_8c05_e4b97a00219arow0_col3\" class=\"data row0 col3\" >0.01815</td>\n",
       "                        <td id=\"T_98686f84_78f6_11ea_8c05_e4b97a00219arow0_col4\" class=\"data row0 col4\" >0.22153</td>\n",
       "                        <td id=\"T_98686f84_78f6_11ea_8c05_e4b97a00219arow0_col5\" class=\"data row0 col5\" >0.00019</td>\n",
       "                        <td id=\"T_98686f84_78f6_11ea_8c05_e4b97a00219arow0_col6\" class=\"data row0 col6\" >0.05189</td>\n",
       "                        <td id=\"T_98686f84_78f6_11ea_8c05_e4b97a00219arow0_col7\" class=\"data row0 col7\" >0.0003</td>\n",
       "                        <td id=\"T_98686f84_78f6_11ea_8c05_e4b97a00219arow0_col8\" class=\"data row0 col8\" >0.01156</td>\n",
       "            </tr>\n",
       "            <tr>\n",
       "                        <th id=\"T_98686f84_78f6_11ea_8c05_e4b97a00219alevel0_row1\" class=\"row_heading level0 row1\" >2</th>\n",
       "                        <td id=\"T_98686f84_78f6_11ea_8c05_e4b97a00219arow1_col0\" class=\"data row1 col0\" >random-4d05f</td>\n",
       "                        <td id=\"T_98686f84_78f6_11ea_8c05_e4b97a00219arow1_col1\" class=\"data row1 col1\" >8</td>\n",
       "                        <td id=\"T_98686f84_78f6_11ea_8c05_e4b97a00219arow1_col2\" class=\"data row1 col2\" >0.0096</td>\n",
       "                        <td id=\"T_98686f84_78f6_11ea_8c05_e4b97a00219arow1_col3\" class=\"data row1 col3\" >0.01258</td>\n",
       "                        <td id=\"T_98686f84_78f6_11ea_8c05_e4b97a00219arow1_col4\" class=\"data row1 col4\" >0.21667</td>\n",
       "                        <td id=\"T_98686f84_78f6_11ea_8c05_e4b97a00219arow1_col5\" class=\"data row1 col5\" >0.00282</td>\n",
       "                        <td id=\"T_98686f84_78f6_11ea_8c05_e4b97a00219arow1_col6\" class=\"data row1 col6\" >0.0034</td>\n",
       "                        <td id=\"T_98686f84_78f6_11ea_8c05_e4b97a00219arow1_col7\" class=\"data row1 col7\" >0.00442</td>\n",
       "                        <td id=\"T_98686f84_78f6_11ea_8c05_e4b97a00219arow1_col8\" class=\"data row1 col8\" >0.00137</td>\n",
       "            </tr>\n",
       "            <tr>\n",
       "                        <th id=\"T_98686f84_78f6_11ea_8c05_e4b97a00219alevel0_row2\" class=\"row_heading level0 row2\" >9</th>\n",
       "                        <td id=\"T_98686f84_78f6_11ea_8c05_e4b97a00219arow2_col0\" class=\"data row2 col0\" >random-6fae4</td>\n",
       "                        <td id=\"T_98686f84_78f6_11ea_8c05_e4b97a00219arow2_col1\" class=\"data row2 col1\" >3</td>\n",
       "                        <td id=\"T_98686f84_78f6_11ea_8c05_e4b97a00219arow2_col2\" class=\"data row2 col2\" >0.00979</td>\n",
       "                        <td id=\"T_98686f84_78f6_11ea_8c05_e4b97a00219arow2_col3\" class=\"data row2 col3\" >0.00786</td>\n",
       "                        <td id=\"T_98686f84_78f6_11ea_8c05_e4b97a00219arow2_col4\" class=\"data row2 col4\" >0.21645</td>\n",
       "                        <td id=\"T_98686f84_78f6_11ea_8c05_e4b97a00219arow2_col5\" class=\"data row2 col5\" >0</td>\n",
       "                        <td id=\"T_98686f84_78f6_11ea_8c05_e4b97a00219arow2_col6\" class=\"data row2 col6\" >0.00067</td>\n",
       "                        <td id=\"T_98686f84_78f6_11ea_8c05_e4b97a00219arow2_col7\" class=\"data row2 col7\" >0</td>\n",
       "                        <td id=\"T_98686f84_78f6_11ea_8c05_e4b97a00219arow2_col8\" class=\"data row2 col8\" >0.00042</td>\n",
       "            </tr>\n",
       "            <tr>\n",
       "                        <th id=\"T_98686f84_78f6_11ea_8c05_e4b97a00219alevel0_row3\" class=\"row_heading level0 row3\" >8</th>\n",
       "                        <td id=\"T_98686f84_78f6_11ea_8c05_e4b97a00219arow3_col0\" class=\"data row3 col0\" >random-04de9</td>\n",
       "                        <td id=\"T_98686f84_78f6_11ea_8c05_e4b97a00219arow3_col1\" class=\"data row3 col1\" >2</td>\n",
       "                        <td id=\"T_98686f84_78f6_11ea_8c05_e4b97a00219arow3_col2\" class=\"data row3 col2\" >0.00869</td>\n",
       "                        <td id=\"T_98686f84_78f6_11ea_8c05_e4b97a00219arow3_col3\" class=\"data row3 col3\" >0.0086</td>\n",
       "                        <td id=\"T_98686f84_78f6_11ea_8c05_e4b97a00219arow3_col4\" class=\"data row3 col4\" >0.21099</td>\n",
       "                        <td id=\"T_98686f84_78f6_11ea_8c05_e4b97a00219arow3_col5\" class=\"data row3 col5\" >0</td>\n",
       "                        <td id=\"T_98686f84_78f6_11ea_8c05_e4b97a00219arow3_col6\" class=\"data row3 col6\" >0.00098</td>\n",
       "                        <td id=\"T_98686f84_78f6_11ea_8c05_e4b97a00219arow3_col7\" class=\"data row3 col7\" >0</td>\n",
       "                        <td id=\"T_98686f84_78f6_11ea_8c05_e4b97a00219arow3_col8\" class=\"data row3 col8\" >0.00048</td>\n",
       "            </tr>\n",
       "            <tr>\n",
       "                        <th id=\"T_98686f84_78f6_11ea_8c05_e4b97a00219alevel0_row4\" class=\"row_heading level0 row4\" >5</th>\n",
       "                        <td id=\"T_98686f84_78f6_11ea_8c05_e4b97a00219arow4_col0\" class=\"data row4 col0\" >random-a9655</td>\n",
       "                        <td id=\"T_98686f84_78f6_11ea_8c05_e4b97a00219arow4_col1\" class=\"data row4 col1\" >1</td>\n",
       "                        <td id=\"T_98686f84_78f6_11ea_8c05_e4b97a00219arow4_col2\" class=\"data row4 col2\" >0.0083</td>\n",
       "                        <td id=\"T_98686f84_78f6_11ea_8c05_e4b97a00219arow4_col3\" class=\"data row4 col3\" >0.00934</td>\n",
       "                        <td id=\"T_98686f84_78f6_11ea_8c05_e4b97a00219arow4_col4\" class=\"data row4 col4\" >0.21023</td>\n",
       "                        <td id=\"T_98686f84_78f6_11ea_8c05_e4b97a00219arow4_col5\" class=\"data row4 col5\" >0.00027</td>\n",
       "                        <td id=\"T_98686f84_78f6_11ea_8c05_e4b97a00219arow4_col6\" class=\"data row4 col6\" >0.02439</td>\n",
       "                        <td id=\"T_98686f84_78f6_11ea_8c05_e4b97a00219arow4_col7\" class=\"data row4 col7\" >0.00041</td>\n",
       "                        <td id=\"T_98686f84_78f6_11ea_8c05_e4b97a00219arow4_col8\" class=\"data row4 col8\" >0.00688</td>\n",
       "            </tr>\n",
       "            <tr>\n",
       "                        <th id=\"T_98686f84_78f6_11ea_8c05_e4b97a00219alevel0_row5\" class=\"row_heading level0 row5\" >3</th>\n",
       "                        <td id=\"T_98686f84_78f6_11ea_8c05_e4b97a00219arow5_col0\" class=\"data row5 col0\" >random-21e0b</td>\n",
       "                        <td id=\"T_98686f84_78f6_11ea_8c05_e4b97a00219arow5_col1\" class=\"data row5 col1\" >6</td>\n",
       "                        <td id=\"T_98686f84_78f6_11ea_8c05_e4b97a00219arow5_col2\" class=\"data row5 col2\" >0.00871</td>\n",
       "                        <td id=\"T_98686f84_78f6_11ea_8c05_e4b97a00219arow5_col3\" class=\"data row5 col3\" >0.02293</td>\n",
       "                        <td id=\"T_98686f84_78f6_11ea_8c05_e4b97a00219arow5_col4\" class=\"data row5 col4\" >0.20917</td>\n",
       "                        <td id=\"T_98686f84_78f6_11ea_8c05_e4b97a00219arow5_col5\" class=\"data row5 col5\" >0.01098</td>\n",
       "                        <td id=\"T_98686f84_78f6_11ea_8c05_e4b97a00219arow5_col6\" class=\"data row5 col6\" >0.00966</td>\n",
       "                        <td id=\"T_98686f84_78f6_11ea_8c05_e4b97a00219arow5_col7\" class=\"data row5 col7\" >0.01582</td>\n",
       "                        <td id=\"T_98686f84_78f6_11ea_8c05_e4b97a00219arow5_col8\" class=\"data row5 col8\" >0.00261</td>\n",
       "            </tr>\n",
       "            <tr>\n",
       "                        <th id=\"T_98686f84_78f6_11ea_8c05_e4b97a00219alevel0_row6\" class=\"row_heading level0 row6\" >1</th>\n",
       "                        <td id=\"T_98686f84_78f6_11ea_8c05_e4b97a00219arow6_col0\" class=\"data row6 col0\" >random-d87ed</td>\n",
       "                        <td id=\"T_98686f84_78f6_11ea_8c05_e4b97a00219arow6_col1\" class=\"data row6 col1\" >9</td>\n",
       "                        <td id=\"T_98686f84_78f6_11ea_8c05_e4b97a00219arow6_col2\" class=\"data row6 col2\" >0.00773</td>\n",
       "                        <td id=\"T_98686f84_78f6_11ea_8c05_e4b97a00219arow6_col3\" class=\"data row6 col3\" >0.00606</td>\n",
       "                        <td id=\"T_98686f84_78f6_11ea_8c05_e4b97a00219arow6_col4\" class=\"data row6 col4\" >0.20841</td>\n",
       "                        <td id=\"T_98686f84_78f6_11ea_8c05_e4b97a00219arow6_col5\" class=\"data row6 col5\" >0</td>\n",
       "                        <td id=\"T_98686f84_78f6_11ea_8c05_e4b97a00219arow6_col6\" class=\"data row6 col6\" >0.00015</td>\n",
       "                        <td id=\"T_98686f84_78f6_11ea_8c05_e4b97a00219arow6_col7\" class=\"data row6 col7\" >0</td>\n",
       "                        <td id=\"T_98686f84_78f6_11ea_8c05_e4b97a00219arow6_col8\" class=\"data row6 col8\" >0.00012</td>\n",
       "            </tr>\n",
       "            <tr>\n",
       "                        <th id=\"T_98686f84_78f6_11ea_8c05_e4b97a00219alevel0_row7\" class=\"row_heading level0 row7\" >4</th>\n",
       "                        <td id=\"T_98686f84_78f6_11ea_8c05_e4b97a00219arow7_col0\" class=\"data row7 col0\" >random-a1ece</td>\n",
       "                        <td id=\"T_98686f84_78f6_11ea_8c05_e4b97a00219arow7_col1\" class=\"data row7 col1\" >7</td>\n",
       "                        <td id=\"T_98686f84_78f6_11ea_8c05_e4b97a00219arow7_col2\" class=\"data row7 col2\" >0.00828</td>\n",
       "                        <td id=\"T_98686f84_78f6_11ea_8c05_e4b97a00219arow7_col3\" class=\"data row7 col3\" >0.01206</td>\n",
       "                        <td id=\"T_98686f84_78f6_11ea_8c05_e4b97a00219arow7_col4\" class=\"data row7 col4\" >0.20738</td>\n",
       "                        <td id=\"T_98686f84_78f6_11ea_8c05_e4b97a00219arow7_col5\" class=\"data row7 col5\" >0</td>\n",
       "                        <td id=\"T_98686f84_78f6_11ea_8c05_e4b97a00219arow7_col6\" class=\"data row7 col6\" >0.0069</td>\n",
       "                        <td id=\"T_98686f84_78f6_11ea_8c05_e4b97a00219arow7_col7\" class=\"data row7 col7\" >0</td>\n",
       "                        <td id=\"T_98686f84_78f6_11ea_8c05_e4b97a00219arow7_col8\" class=\"data row7 col8\" >0.00195</td>\n",
       "            </tr>\n",
       "            <tr>\n",
       "                        <th id=\"T_98686f84_78f6_11ea_8c05_e4b97a00219alevel0_row8\" class=\"row_heading level0 row8\" >6</th>\n",
       "                        <td id=\"T_98686f84_78f6_11ea_8c05_e4b97a00219arow8_col0\" class=\"data row8 col0\" >random-093c0</td>\n",
       "                        <td id=\"T_98686f84_78f6_11ea_8c05_e4b97a00219arow8_col1\" class=\"data row8 col1\" >0</td>\n",
       "                        <td id=\"T_98686f84_78f6_11ea_8c05_e4b97a00219arow8_col2\" class=\"data row8 col2\" >0.00783</td>\n",
       "                        <td id=\"T_98686f84_78f6_11ea_8c05_e4b97a00219arow8_col3\" class=\"data row8 col3\" >0.01652</td>\n",
       "                        <td id=\"T_98686f84_78f6_11ea_8c05_e4b97a00219arow8_col4\" class=\"data row8 col4\" >0.20427</td>\n",
       "                        <td id=\"T_98686f84_78f6_11ea_8c05_e4b97a00219arow8_col5\" class=\"data row8 col5\" >0</td>\n",
       "                        <td id=\"T_98686f84_78f6_11ea_8c05_e4b97a00219arow8_col6\" class=\"data row8 col6\" >0.01671</td>\n",
       "                        <td id=\"T_98686f84_78f6_11ea_8c05_e4b97a00219arow8_col7\" class=\"data row8 col7\" >0</td>\n",
       "                        <td id=\"T_98686f84_78f6_11ea_8c05_e4b97a00219arow8_col8\" class=\"data row8 col8\" >0.00396</td>\n",
       "            </tr>\n",
       "            <tr>\n",
       "                        <th id=\"T_98686f84_78f6_11ea_8c05_e4b97a00219alevel0_row9\" class=\"row_heading level0 row9\" >7</th>\n",
       "                        <td id=\"T_98686f84_78f6_11ea_8c05_e4b97a00219arow9_col0\" class=\"data row9 col0\" >random-e27ab</td>\n",
       "                        <td id=\"T_98686f84_78f6_11ea_8c05_e4b97a00219arow9_col1\" class=\"data row9 col1\" >5</td>\n",
       "                        <td id=\"T_98686f84_78f6_11ea_8c05_e4b97a00219arow9_col2\" class=\"data row9 col2\" >0.00738</td>\n",
       "                        <td id=\"T_98686f84_78f6_11ea_8c05_e4b97a00219arow9_col3\" class=\"data row9 col3\" >0.00755</td>\n",
       "                        <td id=\"T_98686f84_78f6_11ea_8c05_e4b97a00219arow9_col4\" class=\"data row9 col4\" >0.20295</td>\n",
       "                        <td id=\"T_98686f84_78f6_11ea_8c05_e4b97a00219arow9_col5\" class=\"data row9 col5\" >0.0002</td>\n",
       "                        <td id=\"T_98686f84_78f6_11ea_8c05_e4b97a00219arow9_col6\" class=\"data row9 col6\" >0.0172</td>\n",
       "                        <td id=\"T_98686f84_78f6_11ea_8c05_e4b97a00219arow9_col7\" class=\"data row9 col7\" >0.00028</td>\n",
       "                        <td id=\"T_98686f84_78f6_11ea_8c05_e4b97a00219arow9_col8\" class=\"data row9 col8\" >0.00583</td>\n",
       "            </tr>\n",
       "    </tbody></table>"
      ],
      "text/plain": [
       "<pandas.io.formats.style.Styler at 0x7fc94824cf28>"
      ]
     },
     "metadata": {},
     "output_type": "display_data"
    },
    {
     "data": {
      "text/html": [
       "<style  type=\"text/css\" >\n",
       "    #T_98686f85_78f6_11ea_8c05_e4b97a00219arow0_col0 {\n",
       "            background-color:  rgba(150, 150, 150, 0.3);\n",
       "        }    #T_98686f85_78f6_11ea_8c05_e4b97a00219arow0_col4 {\n",
       "            background-color:  rgba(0, 155, 149, 0.3);\n",
       "        }    #T_98686f85_78f6_11ea_8c05_e4b97a00219arow0_col5 {\n",
       "            background-color:  rgba(0, 155, 149, 0.3);\n",
       "        }    #T_98686f85_78f6_11ea_8c05_e4b97a00219arow0_col6 {\n",
       "            background-color:  rgba(0, 155, 149, 0.3);\n",
       "        }    #T_98686f85_78f6_11ea_8c05_e4b97a00219arow0_col7 {\n",
       "            background-color:  rgba(0, 155, 149, 0.3);\n",
       "        }    #T_98686f85_78f6_11ea_8c05_e4b97a00219arow0_col8 {\n",
       "            background-color:  rgba(0, 155, 149, 0.3);\n",
       "        }    #T_98686f85_78f6_11ea_8c05_e4b97a00219arow0_col9 {\n",
       "            background-color:  rgba(0, 155, 149, 0.3);\n",
       "        }    #T_98686f85_78f6_11ea_8c05_e4b97a00219arow0_col10 {\n",
       "            background-color:  rgba(0, 155, 149, 0.3);\n",
       "        }</style><table id=\"T_98686f85_78f6_11ea_8c05_e4b97a00219a\" ><thead>    <tr>        <th class=\"blank level0\" ></th>        <th class=\"col_heading level0 col0\" >id</th>        <th class=\"col_heading level0 col1\" >maxUsers</th>        <th class=\"col_heading level0 col2\" >model</th>        <th class=\"col_heading level0 col3\" >splitVersion</th>        <th class=\"col_heading level0 col4\" >map</th>        <th class=\"col_heading level0 col5\" >mrr</th>        <th class=\"col_heading level0 col6\" >ndcg</th>        <th class=\"col_heading level0 col7\" >ndcg@10</th>        <th class=\"col_heading level0 col8\" >ndcg@100</th>        <th class=\"col_heading level0 col9\" >p@10</th>        <th class=\"col_heading level0 col10\" >p@100</th>    </tr></thead><tbody>\n",
       "                <tr>\n",
       "                        <th id=\"T_98686f85_78f6_11ea_8c05_e4b97a00219alevel0_row0\" class=\"row_heading level0 row0\" >0</th>\n",
       "                        <td id=\"T_98686f85_78f6_11ea_8c05_e4b97a00219arow0_col0\" class=\"data row0 col0\" >worst-f3f99</td>\n",
       "                        <td id=\"T_98686f85_78f6_11ea_8c05_e4b97a00219arow0_col1\" class=\"data row0 col1\" >None</td>\n",
       "                        <td id=\"T_98686f85_78f6_11ea_8c05_e4b97a00219arow0_col2\" class=\"data row0 col2\" >worst</td>\n",
       "                        <td id=\"T_98686f85_78f6_11ea_8c05_e4b97a00219arow0_col3\" class=\"data row0 col3\" >2</td>\n",
       "                        <td id=\"T_98686f85_78f6_11ea_8c05_e4b97a00219arow0_col4\" class=\"data row0 col4\" >0.00413</td>\n",
       "                        <td id=\"T_98686f85_78f6_11ea_8c05_e4b97a00219arow0_col5\" class=\"data row0 col5\" >0.001</td>\n",
       "                        <td id=\"T_98686f85_78f6_11ea_8c05_e4b97a00219arow0_col6\" class=\"data row0 col6\" >0.18191</td>\n",
       "                        <td id=\"T_98686f85_78f6_11ea_8c05_e4b97a00219arow0_col7\" class=\"data row0 col7\" >0</td>\n",
       "                        <td id=\"T_98686f85_78f6_11ea_8c05_e4b97a00219arow0_col8\" class=\"data row0 col8\" >0</td>\n",
       "                        <td id=\"T_98686f85_78f6_11ea_8c05_e4b97a00219arow0_col9\" class=\"data row0 col9\" >0</td>\n",
       "                        <td id=\"T_98686f85_78f6_11ea_8c05_e4b97a00219arow0_col10\" class=\"data row0 col10\" >0</td>\n",
       "            </tr>\n",
       "    </tbody></table>"
      ],
      "text/plain": [
       "<pandas.io.formats.style.Styler at 0x7fc8fa962f98>"
      ]
     },
     "metadata": {},
     "output_type": "display_data"
    }
   ],
   "source": [
    "splitVersion = 2\n",
    "df = printReport(model='ideal', splitVersion=splitVersion, noSubsampling=True, sortBy='ndcg')\n",
    "df = printReport(model='random', splitVersion=splitVersion, noSubsampling=True, sortBy='ndcg')\n",
    "df = printReport(model='worst', splitVersion=splitVersion, noSubsampling=True, sortBy='ndcg')"
   ]
  },
  {
   "cell_type": "code",
   "execution_count": null,
   "metadata": {},
   "outputs": [],
   "source": []
  },
  {
   "cell_type": "code",
   "execution_count": null,
   "metadata": {},
   "outputs": [],
   "source": []
  },
  {
   "cell_type": "markdown",
   "metadata": {},
   "source": [
    "# Ad-hoc models"
   ]
  },
  {
   "cell_type": "code",
   "execution_count": null,
   "metadata": {},
   "outputs": [],
   "source": [
    "basicPrint('bm25')"
   ]
  },
  {
   "cell_type": "code",
   "execution_count": null,
   "metadata": {},
   "outputs": [],
   "source": [
    "basicPrint('BM25_yf', noSubsampling=False)"
   ]
  },
  {
   "cell_type": "code",
   "execution_count": null,
   "metadata": {},
   "outputs": [],
   "source": []
  },
  {
   "cell_type": "code",
   "execution_count": null,
   "metadata": {},
   "outputs": [],
   "source": []
  },
  {
   "cell_type": "markdown",
   "metadata": {},
   "source": [
    "# Models that use vector representations"
   ]
  },
  {
   "cell_type": "code",
   "execution_count": null,
   "metadata": {
    "scrolled": false
   },
   "outputs": [],
   "source": [
    "basicPrint('lda')"
   ]
  },
  {
   "cell_type": "code",
   "execution_count": null,
   "metadata": {},
   "outputs": [],
   "source": [
    "basicPrint('nmf')"
   ]
  },
  {
   "cell_type": "code",
   "execution_count": null,
   "metadata": {},
   "outputs": [],
   "source": [
    "basicPrint('tfidf')"
   ]
  },
  {
   "cell_type": "code",
   "execution_count": null,
   "metadata": {},
   "outputs": [],
   "source": [
    "basicPrint('dbert-ft')"
   ]
  },
  {
   "cell_type": "code",
   "execution_count": null,
   "metadata": {},
   "outputs": [],
   "source": [
    "basicPrint('dbert-base')"
   ]
  },
  {
   "cell_type": "code",
   "execution_count": null,
   "metadata": {},
   "outputs": [],
   "source": [
    "basicPrint('stylo')"
   ]
  },
  {
   "cell_type": "code",
   "execution_count": null,
   "metadata": {},
   "outputs": [],
   "source": [
    "basicPrint('infersent')"
   ]
  },
  {
   "cell_type": "code",
   "execution_count": null,
   "metadata": {},
   "outputs": [],
   "source": [
    "basicPrint('sent2vec')"
   ]
  },
  {
   "cell_type": "code",
   "execution_count": null,
   "metadata": {},
   "outputs": [],
   "source": [
    "basicPrint('word2vec')"
   ]
  },
  {
   "cell_type": "code",
   "execution_count": null,
   "metadata": {},
   "outputs": [],
   "source": [
    "basicPrint('doc2vec')"
   ]
  },
  {
   "cell_type": "code",
   "execution_count": null,
   "metadata": {
    "scrolled": true
   },
   "outputs": [],
   "source": [
    "basicPrint('usent')"
   ]
  },
  {
   "cell_type": "code",
   "execution_count": null,
   "metadata": {},
   "outputs": [],
   "source": [
    "basicPrint('bert')"
   ]
  },
  {
   "cell_type": "code",
   "execution_count": null,
   "metadata": {},
   "outputs": [],
   "source": []
  },
  {
   "cell_type": "code",
   "execution_count": null,
   "metadata": {},
   "outputs": [],
   "source": []
  },
  {
   "cell_type": "markdown",
   "metadata": {},
   "source": [
    "# Combinations of models"
   ]
  },
  {
   "cell_type": "code",
   "execution_count": 8,
   "metadata": {},
   "outputs": [
    {
     "name": "stdout",
     "output_type": "stream",
     "text": [
      "These values are common to all rows:\n",
      "\n",
      "\t- rankAsScore: [True, True]\n",
      "\t- weights: [0.5, 0.5]\n",
      "\t- splitVersion: 2\n",
      "\t- alphas: [0.5, 0.5]\n",
      "\t- betas: ['LOG', 'LOG']\n",
      "\t- model: combin\n"
     ]
    },
    {
     "data": {
      "text/html": [
       "<style  type=\"text/css\" >\n",
       "    #T_a29b137a_78f7_11ea_8c05_e4b97a00219arow0_col0 {\n",
       "            background-color:  rgba(150, 150, 150, 0.3);\n",
       "        }    #T_a29b137a_78f7_11ea_8c05_e4b97a00219arow0_col3 {\n",
       "            background-color:  rgba(0, 155, 149, 0.3);\n",
       "        }    #T_a29b137a_78f7_11ea_8c05_e4b97a00219arow1_col0 {\n",
       "            background-color:  rgba(150, 150, 150, 0.3);\n",
       "        }    #T_a29b137a_78f7_11ea_8c05_e4b97a00219arow1_col3 {\n",
       "            background-color:  rgba(0, 155, 149, 0.3);\n",
       "        }    #T_a29b137a_78f7_11ea_8c05_e4b97a00219arow2_col0 {\n",
       "            background-color:  rgba(150, 150, 150, 0.3);\n",
       "        }    #T_a29b137a_78f7_11ea_8c05_e4b97a00219arow2_col3 {\n",
       "            background-color:  rgba(0, 155, 149, 0.3);\n",
       "        }</style><table id=\"T_a29b137a_78f7_11ea_8c05_e4b97a00219a\" ><thead>    <tr>        <th class=\"blank level0\" ></th>        <th class=\"col_heading level0 col0\" >id</th>        <th class=\"col_heading level0 col1\" >maxUsers</th>        <th class=\"col_heading level0 col2\" >models</th>        <th class=\"col_heading level0 col3\" >ndcg</th>    </tr></thead><tbody>\n",
       "                <tr>\n",
       "                        <th id=\"T_a29b137a_78f7_11ea_8c05_e4b97a00219alevel0_row0\" class=\"row_heading level0 row0\" >1</th>\n",
       "                        <td id=\"T_a29b137a_78f7_11ea_8c05_e4b97a00219arow0_col0\" class=\"data row0 col0\" >combin-94b4a</td>\n",
       "                        <td id=\"T_a29b137a_78f7_11ea_8c05_e4b97a00219arow0_col1\" class=\"data row0 col1\" >2</td>\n",
       "                        <td id=\"T_a29b137a_78f7_11ea_8c05_e4b97a00219arow0_col2\" class=\"data row0 col2\" >['bert-65e2b', 'bm25-1eb2a']</td>\n",
       "                        <td id=\"T_a29b137a_78f7_11ea_8c05_e4b97a00219arow0_col3\" class=\"data row0 col3\" >0.39292</td>\n",
       "            </tr>\n",
       "            <tr>\n",
       "                        <th id=\"T_a29b137a_78f7_11ea_8c05_e4b97a00219alevel0_row1\" class=\"row_heading level0 row1\" >0</th>\n",
       "                        <td id=\"T_a29b137a_78f7_11ea_8c05_e4b97a00219arow1_col0\" class=\"data row1 col0\" >combin-aba93</td>\n",
       "                        <td id=\"T_a29b137a_78f7_11ea_8c05_e4b97a00219arow1_col1\" class=\"data row1 col1\" >2</td>\n",
       "                        <td id=\"T_a29b137a_78f7_11ea_8c05_e4b97a00219arow1_col2\" class=\"data row1 col2\" >['bert-65e2b', 'dbert-base-aafd1']</td>\n",
       "                        <td id=\"T_a29b137a_78f7_11ea_8c05_e4b97a00219arow1_col3\" class=\"data row1 col3\" >0.3304</td>\n",
       "            </tr>\n",
       "            <tr>\n",
       "                        <th id=\"T_a29b137a_78f7_11ea_8c05_e4b97a00219alevel0_row2\" class=\"row_heading level0 row2\" >2</th>\n",
       "                        <td id=\"T_a29b137a_78f7_11ea_8c05_e4b97a00219arow2_col0\" class=\"data row2 col0\" >combin-e8ef3</td>\n",
       "                        <td id=\"T_a29b137a_78f7_11ea_8c05_e4b97a00219arow2_col1\" class=\"data row2 col1\" >nan</td>\n",
       "                        <td id=\"T_a29b137a_78f7_11ea_8c05_e4b97a00219arow2_col2\" class=\"data row2 col2\" >['bert-65e2b', 'bm25-1eb2a']</td>\n",
       "                        <td id=\"T_a29b137a_78f7_11ea_8c05_e4b97a00219arow2_col3\" class=\"data row2 col3\" >nan</td>\n",
       "            </tr>\n",
       "    </tbody></table>"
      ],
      "text/plain": [
       "<pandas.io.formats.style.Styler at 0x7fc954787a58>"
      ]
     },
     "metadata": {},
     "output_type": "display_data"
    }
   ],
   "source": [
    "basicPrint('combin', noSubsampling=False)"
   ]
  },
  {
   "cell_type": "code",
   "execution_count": null,
   "metadata": {},
   "outputs": [],
   "source": []
  },
  {
   "cell_type": "code",
   "execution_count": null,
   "metadata": {},
   "outputs": [],
   "source": []
  },
  {
   "cell_type": "markdown",
   "metadata": {},
   "source": [
    "# Deep Learning models"
   ]
  },
  {
   "cell_type": "code",
   "execution_count": null,
   "metadata": {},
   "outputs": [],
   "source": []
  },
  {
   "cell_type": "code",
   "execution_count": null,
   "metadata": {},
   "outputs": [],
   "source": []
  },
  {
   "cell_type": "code",
   "execution_count": null,
   "metadata": {},
   "outputs": [],
   "source": []
  },
  {
   "cell_type": "code",
   "execution_count": null,
   "metadata": {},
   "outputs": [],
   "source": []
  }
 ],
 "metadata": {
  "kernelspec": {
   "display_name": "Python 3",
   "language": "python",
   "name": "python3"
  },
  "language_info": {
   "codemirror_mode": {
    "name": "ipython",
    "version": 3
   },
   "file_extension": ".py",
   "mimetype": "text/x-python",
   "name": "python",
   "nbconvert_exporter": "python",
   "pygments_lexer": "ipython3",
   "version": "3.6.6"
  }
 },
 "nbformat": 4,
 "nbformat_minor": 4
}
