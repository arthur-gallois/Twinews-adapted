{
 "cells": [
  {
   "cell_type": "markdown",
   "metadata": {},
   "source": [
    "This notebook allow you to print results of models in tables"
   ]
  },
  {
   "cell_type": "code",
   "execution_count": 1,
   "metadata": {},
   "outputs": [],
   "source": [
    "# from twinews import config as twinewsConf\n",
    "# twinewsConf.mongoLocation = \"octods\""
   ]
  },
  {
   "cell_type": "code",
   "execution_count": 2,
   "metadata": {},
   "outputs": [],
   "source": [
    "from systemtools.hayj import *\n",
    "from systemtools.location import *\n",
    "from systemtools.basics import *\n",
    "from systemtools.file import *\n",
    "from systemtools.printer import *\n",
    "from twinews.utils import *\n",
    "from twinews.evaluation.utils import *\n",
    "from twinews.models.ranking import *"
   ]
  },
  {
   "cell_type": "code",
   "execution_count": 3,
   "metadata": {},
   "outputs": [],
   "source": [
    "if False:\n",
    "    purgeSubsampledRankings()"
   ]
  },
  {
   "cell_type": "code",
   "execution_count": 4,
   "metadata": {},
   "outputs": [],
   "source": [
    "if False:\n",
    "    removeRankingsAndScores('tfidf-b0e81')"
   ]
  },
  {
   "cell_type": "code",
   "execution_count": 5,
   "metadata": {},
   "outputs": [],
   "source": [
    "def basicPrint(model, *args, b=None, w=None, splitVersion=2, **kwargs):\n",
    "    if w is not None and isinstance(w, str):\n",
    "        w = [w]\n",
    "    if b is not None and isinstance(b, str):\n",
    "        b = [b]\n",
    "    if w is not None and len(args) > 0:\n",
    "        args = list(args) + list(w)\n",
    "    printReportKwargs = \\\n",
    "    {\n",
    "        'model': model,\n",
    "        'splitVersion': splitVersion,\n",
    "        'noSubsampling': True,\n",
    "        'metaFilter': \\\n",
    "        {\n",
    "            # \"implementation\": \"gensim-lda\",\n",
    "        },\n",
    "        # 'allowedMetrics': {'ndcg', 'div@100', 'topic-div@100', 'swjacc-div@100', 'jacc-div@100'}, # None, {'ndcg', 'ndcg@10'}\n",
    "        'discardedMetrics': {'map', 'mrr', 'ndcg@10', 'ndcg@100', 'p@10', 'p@100'},\n",
    "        'whiteMetricPatterns': None if len(args) == 0 else set(list(args) + ['ndcg']),\n",
    "        'blackMetricPatterns': b,\n",
    "        'sortBy': 'ndcg',\n",
    "    }\n",
    "    printReportKwargs = mergeDicts(printReportKwargs, kwargs)\n",
    "    printReport(**printReportKwargs)"
   ]
  },
  {
   "cell_type": "code",
   "execution_count": 6,
   "metadata": {},
   "outputs": [],
   "source": [
    "def printAll(*args, **kwargs):\n",
    "    kwargs['onlyFields'] = {'id', 'model'}\n",
    "    kwargs['excludedModels'] = {'combin', 'ideal', 'worst', 'random'}\n",
    "    return basicPrint(None, *args, **kwargs)"
   ]
  },
  {
   "cell_type": "code",
   "execution_count": null,
   "metadata": {},
   "outputs": [],
   "source": []
  },
  {
   "cell_type": "code",
   "execution_count": null,
   "metadata": {},
   "outputs": [],
   "source": []
  },
  {
   "cell_type": "markdown",
   "metadata": {},
   "source": [
    "# Misc"
   ]
  },
  {
   "cell_type": "code",
   "execution_count": 7,
   "metadata": {},
   "outputs": [],
   "source": [
    "if False:\n",
    "    twinewsRankings = getTwinewsRankings()\n",
    "    keysToDelete = set()\n",
    "    for key in twinewsRankings.keys():\n",
    "        if \"combin\" in key:\n",
    "            meta = twinewsRankings.getMeta(key)\n",
    "            hasTFIDF = False\n",
    "            for m in meta['models']:\n",
    "                if 'tfidf' in m:\n",
    "                    hasTFIDF = True\n",
    "                    break\n",
    "            if hasTFIDF and meta['splitVersion'] == 1:\n",
    "                keysToDelete.add(key)\n",
    "    print(keysToDelete)"
   ]
  },
  {
   "cell_type": "code",
   "execution_count": 8,
   "metadata": {},
   "outputs": [],
   "source": [
    "if False:\n",
    "    for key in keysToDelete:\n",
    "        removeRankingsAndScores(key)"
   ]
  },
  {
   "cell_type": "code",
   "execution_count": 9,
   "metadata": {},
   "outputs": [],
   "source": [
    "# Removing combin models with maxUsers is not None:\n",
    "if False:\n",
    "    twinewsRankings = getTwinewsRankings()\n",
    "    ids = twinewsRankings.keys()\n",
    "    bp(ids)\n",
    "    for currentId in ids:\n",
    "        if 'combin' in currentId:\n",
    "            meta = twinewsRankings.getMeta(currentId)\n",
    "            if meta['maxUsers'] is not None:\n",
    "                del twinewsRankings[currentId]"
   ]
  },
  {
   "cell_type": "code",
   "execution_count": null,
   "metadata": {},
   "outputs": [],
   "source": []
  },
  {
   "cell_type": "code",
   "execution_count": null,
   "metadata": {},
   "outputs": [],
   "source": []
  },
  {
   "cell_type": "markdown",
   "metadata": {},
   "source": [
    "# Model lists per split version"
   ]
  },
  {
   "cell_type": "code",
   "execution_count": null,
   "metadata": {},
   "outputs": [],
   "source": [
    "def printModelList(splitVersion):\n",
    "    twinewsRankings = getTwinewsRankings()\n",
    "    models = set()\n",
    "    for key in twinewsRankings.keys():\n",
    "        meta = twinewsRankings.getMeta(key)\n",
    "        if meta[\"splitVersion\"] == splitVersion:\n",
    "            models.add(meta['model'])\n",
    "    print(\" \".join(sorted(list(models))) + \" (\" + str(len(models)) + \")\")"
   ]
  },
  {
   "cell_type": "code",
   "execution_count": null,
   "metadata": {},
   "outputs": [],
   "source": [
    "printModelList(2)"
   ]
  },
  {
   "cell_type": "code",
   "execution_count": null,
   "metadata": {},
   "outputs": [],
   "source": [
    "printModelList(1)"
   ]
  },
  {
   "cell_type": "code",
   "execution_count": null,
   "metadata": {},
   "outputs": [],
   "source": []
  },
  {
   "cell_type": "code",
   "execution_count": null,
   "metadata": {},
   "outputs": [],
   "source": []
  },
  {
   "cell_type": "markdown",
   "metadata": {},
   "source": [
    "# Reference models"
   ]
  },
  {
   "cell_type": "code",
   "execution_count": null,
   "metadata": {},
   "outputs": [],
   "source": [
    "basicPrint('ideal', splitVersion=2)\n",
    "basicPrint('random', splitVersion=2)\n",
    "basicPrint('worst', splitVersion=2)"
   ]
  },
  {
   "cell_type": "code",
   "execution_count": null,
   "metadata": {},
   "outputs": [],
   "source": []
  },
  {
   "cell_type": "code",
   "execution_count": null,
   "metadata": {},
   "outputs": [],
   "source": []
  },
  {
   "cell_type": "markdown",
   "metadata": {},
   "source": [
    "# Ad-hoc models"
   ]
  },
  {
   "cell_type": "code",
   "execution_count": null,
   "metadata": {},
   "outputs": [],
   "source": [
    "basicPrint('jaccard', 'div', b=['topic', 'jacc', 'style'])"
   ]
  },
  {
   "cell_type": "code",
   "execution_count": null,
   "metadata": {},
   "outputs": [],
   "source": [
    "basicPrint('bm25')"
   ]
  },
  {
   "cell_type": "code",
   "execution_count": 10,
   "metadata": {},
   "outputs": [
    {
     "name": "stdout",
     "output_type": "stream",
     "text": [
      "Found key difference: {'empiricalParameter'}\n",
      "These values are common to all rows (4):\n",
      "\n",
      "\t- splitVersion: 2\n",
      "\t- epsilon: 0.25\n",
      "\t- maxDocuments: 10000\n",
      "\t- minDF: 0.0005\n",
      "\t- model: BM25_yf\n",
      "\t- lowercase: False\n",
      "\t- doLemmatization: True\n",
      "\t- implementation: BM25\n",
      "\t- maxDF: 300\n",
      "\t- useExtraNews: False\n",
      "Normalized metrics: {'nov@100', 'snov@100', 'div@100', 'topic-snov@100', 'topic-nov@100', 'topic-div@100', 'style-div@100', 'style-nov@100', 'style-snov@100'}\n",
      "serializabledict twinews-dominances initialised.\n"
     ]
    },
    {
     "data": {
      "text/html": [
       "<style  type=\"text/css\" >\n",
       "    #T_3e7f511a_9f5f_11ea_9858_e4b97a00219arow0_col0 {\n",
       "            background-color:  rgba(150, 150, 150, 0.3);\n",
       "        }    #T_3e7f511a_9f5f_11ea_9858_e4b97a00219arow0_col5 {\n",
       "            background-color:  rgba(0, 122, 204, 0.3);\n",
       "        }    #T_3e7f511a_9f5f_11ea_9858_e4b97a00219arow0_col6 {\n",
       "            background-color:  rgba(0, 155, 149, 0.3);\n",
       "        }    #T_3e7f511a_9f5f_11ea_9858_e4b97a00219arow0_col7 {\n",
       "            background-color:  rgba(0, 155, 149, 0.3);\n",
       "        }    #T_3e7f511a_9f5f_11ea_9858_e4b97a00219arow0_col8 {\n",
       "            background-color:  rgba(0, 155, 149, 0.3);\n",
       "        }    #T_3e7f511a_9f5f_11ea_9858_e4b97a00219arow0_col9 {\n",
       "            background-color:  rgba(0, 155, 149, 0.3);\n",
       "        }    #T_3e7f511a_9f5f_11ea_9858_e4b97a00219arow0_col10 {\n",
       "            background-color:  rgba(0, 155, 149, 0.3);\n",
       "        }    #T_3e7f511a_9f5f_11ea_9858_e4b97a00219arow0_col11 {\n",
       "            background-color:  rgba(0, 155, 149, 0.3);\n",
       "        }    #T_3e7f511a_9f5f_11ea_9858_e4b97a00219arow0_col12 {\n",
       "            background-color:  rgba(0, 155, 149, 0.3);\n",
       "        }    #T_3e7f511a_9f5f_11ea_9858_e4b97a00219arow0_col13 {\n",
       "            background-color:  rgba(0, 155, 149, 0.3);\n",
       "        }    #T_3e7f511a_9f5f_11ea_9858_e4b97a00219arow0_col14 {\n",
       "            background-color:  rgba(0, 155, 149, 0.3);\n",
       "        }    #T_3e7f511a_9f5f_11ea_9858_e4b97a00219arow0_col15 {\n",
       "            background-color:  rgba(0, 155, 149, 0.3);\n",
       "        }    #T_3e7f511a_9f5f_11ea_9858_e4b97a00219arow0_col16 {\n",
       "            background-color:  rgba(0, 155, 149, 0.3);\n",
       "        }    #T_3e7f511a_9f5f_11ea_9858_e4b97a00219arow0_col17 {\n",
       "            background-color:  rgba(0, 155, 149, 0.3);\n",
       "        }    #T_3e7f511a_9f5f_11ea_9858_e4b97a00219arow0_col18 {\n",
       "            background-color:  rgba(0, 155, 149, 0.3);\n",
       "        }    #T_3e7f511a_9f5f_11ea_9858_e4b97a00219arow0_col19 {\n",
       "            background-color:  rgba(0, 155, 149, 0.3);\n",
       "        }    #T_3e7f511a_9f5f_11ea_9858_e4b97a00219arow0_col20 {\n",
       "            background-color:  rgba(0, 155, 149, 0.3);\n",
       "        }    #T_3e7f511a_9f5f_11ea_9858_e4b97a00219arow0_col21 {\n",
       "            background-color:  rgba(0, 155, 149, 0.3);\n",
       "        }    #T_3e7f511a_9f5f_11ea_9858_e4b97a00219arow0_col22 {\n",
       "            background-color:  rgba(0, 155, 149, 0.3);\n",
       "        }    #T_3e7f511a_9f5f_11ea_9858_e4b97a00219arow0_col23 {\n",
       "            background-color:  rgba(0, 155, 149, 0.3);\n",
       "        }    #T_3e7f511a_9f5f_11ea_9858_e4b97a00219arow0_col24 {\n",
       "            background-color:  rgba(0, 155, 149, 0.3);\n",
       "        }    #T_3e7f511a_9f5f_11ea_9858_e4b97a00219arow0_col25 {\n",
       "            background-color:  rgba(0, 155, 149, 0.3);\n",
       "        }    #T_3e7f511a_9f5f_11ea_9858_e4b97a00219arow1_col0 {\n",
       "            background-color:  rgba(150, 150, 150, 0.3);\n",
       "        }    #T_3e7f511a_9f5f_11ea_9858_e4b97a00219arow1_col5 {\n",
       "            background-color:  rgba(0, 122, 204, 0.3);\n",
       "        }    #T_3e7f511a_9f5f_11ea_9858_e4b97a00219arow1_col6 {\n",
       "            background-color:  rgba(0, 155, 149, 0.3);\n",
       "        }    #T_3e7f511a_9f5f_11ea_9858_e4b97a00219arow1_col7 {\n",
       "            background-color:  rgba(0, 155, 149, 0.3);\n",
       "        }    #T_3e7f511a_9f5f_11ea_9858_e4b97a00219arow1_col8 {\n",
       "            background-color:  rgba(0, 155, 149, 0.3);\n",
       "        }    #T_3e7f511a_9f5f_11ea_9858_e4b97a00219arow1_col9 {\n",
       "            background-color:  rgba(0, 155, 149, 0.3);\n",
       "        }    #T_3e7f511a_9f5f_11ea_9858_e4b97a00219arow1_col10 {\n",
       "            background-color:  rgba(0, 155, 149, 0.3);\n",
       "        }    #T_3e7f511a_9f5f_11ea_9858_e4b97a00219arow1_col11 {\n",
       "            background-color:  rgba(0, 155, 149, 0.3);\n",
       "        }    #T_3e7f511a_9f5f_11ea_9858_e4b97a00219arow1_col12 {\n",
       "            background-color:  rgba(0, 155, 149, 0.3);\n",
       "        }    #T_3e7f511a_9f5f_11ea_9858_e4b97a00219arow1_col13 {\n",
       "            background-color:  rgba(0, 155, 149, 0.3);\n",
       "        }    #T_3e7f511a_9f5f_11ea_9858_e4b97a00219arow1_col14 {\n",
       "            background-color:  rgba(0, 155, 149, 0.3);\n",
       "        }    #T_3e7f511a_9f5f_11ea_9858_e4b97a00219arow1_col15 {\n",
       "            background-color:  rgba(0, 155, 149, 0.3);\n",
       "        }    #T_3e7f511a_9f5f_11ea_9858_e4b97a00219arow1_col16 {\n",
       "            background-color:  rgba(0, 155, 149, 0.3);\n",
       "        }    #T_3e7f511a_9f5f_11ea_9858_e4b97a00219arow1_col17 {\n",
       "            background-color:  rgba(0, 155, 149, 0.3);\n",
       "        }    #T_3e7f511a_9f5f_11ea_9858_e4b97a00219arow1_col18 {\n",
       "            background-color:  rgba(0, 155, 149, 0.3);\n",
       "        }    #T_3e7f511a_9f5f_11ea_9858_e4b97a00219arow1_col19 {\n",
       "            background-color:  rgba(0, 155, 149, 0.3);\n",
       "        }    #T_3e7f511a_9f5f_11ea_9858_e4b97a00219arow1_col20 {\n",
       "            background-color:  rgba(0, 155, 149, 0.3);\n",
       "        }    #T_3e7f511a_9f5f_11ea_9858_e4b97a00219arow1_col21 {\n",
       "            background-color:  rgba(0, 155, 149, 0.3);\n",
       "        }    #T_3e7f511a_9f5f_11ea_9858_e4b97a00219arow1_col22 {\n",
       "            background-color:  rgba(0, 155, 149, 0.3);\n",
       "        }    #T_3e7f511a_9f5f_11ea_9858_e4b97a00219arow1_col23 {\n",
       "            background-color:  rgba(0, 155, 149, 0.3);\n",
       "        }    #T_3e7f511a_9f5f_11ea_9858_e4b97a00219arow1_col24 {\n",
       "            background-color:  rgba(0, 155, 149, 0.3);\n",
       "        }    #T_3e7f511a_9f5f_11ea_9858_e4b97a00219arow1_col25 {\n",
       "            background-color:  rgba(0, 155, 149, 0.3);\n",
       "        }    #T_3e7f511a_9f5f_11ea_9858_e4b97a00219arow2_col0 {\n",
       "            background-color:  rgba(150, 150, 150, 0.3);\n",
       "        }    #T_3e7f511a_9f5f_11ea_9858_e4b97a00219arow2_col5 {\n",
       "            background-color:  rgba(0, 122, 204, 0.3);\n",
       "        }    #T_3e7f511a_9f5f_11ea_9858_e4b97a00219arow2_col6 {\n",
       "            background-color:  rgba(0, 155, 149, 0.3);\n",
       "        }    #T_3e7f511a_9f5f_11ea_9858_e4b97a00219arow2_col7 {\n",
       "            background-color:  rgba(0, 155, 149, 0.3);\n",
       "        }    #T_3e7f511a_9f5f_11ea_9858_e4b97a00219arow2_col8 {\n",
       "            background-color:  rgba(0, 155, 149, 0.3);\n",
       "        }    #T_3e7f511a_9f5f_11ea_9858_e4b97a00219arow2_col9 {\n",
       "            background-color:  rgba(0, 155, 149, 0.3);\n",
       "        }    #T_3e7f511a_9f5f_11ea_9858_e4b97a00219arow2_col10 {\n",
       "            background-color:  rgba(0, 155, 149, 0.3);\n",
       "        }    #T_3e7f511a_9f5f_11ea_9858_e4b97a00219arow2_col11 {\n",
       "            background-color:  rgba(0, 155, 149, 0.3);\n",
       "        }    #T_3e7f511a_9f5f_11ea_9858_e4b97a00219arow2_col12 {\n",
       "            background-color:  rgba(0, 155, 149, 0.3);\n",
       "        }    #T_3e7f511a_9f5f_11ea_9858_e4b97a00219arow2_col13 {\n",
       "            background-color:  rgba(0, 155, 149, 0.3);\n",
       "        }    #T_3e7f511a_9f5f_11ea_9858_e4b97a00219arow2_col14 {\n",
       "            background-color:  rgba(0, 155, 149, 0.3);\n",
       "        }    #T_3e7f511a_9f5f_11ea_9858_e4b97a00219arow2_col15 {\n",
       "            background-color:  rgba(0, 155, 149, 0.3);\n",
       "        }    #T_3e7f511a_9f5f_11ea_9858_e4b97a00219arow2_col16 {\n",
       "            background-color:  rgba(0, 155, 149, 0.3);\n",
       "        }    #T_3e7f511a_9f5f_11ea_9858_e4b97a00219arow2_col17 {\n",
       "            background-color:  rgba(0, 155, 149, 0.3);\n",
       "        }    #T_3e7f511a_9f5f_11ea_9858_e4b97a00219arow2_col18 {\n",
       "            background-color:  rgba(0, 155, 149, 0.3);\n",
       "        }    #T_3e7f511a_9f5f_11ea_9858_e4b97a00219arow2_col19 {\n",
       "            background-color:  rgba(0, 155, 149, 0.3);\n",
       "        }    #T_3e7f511a_9f5f_11ea_9858_e4b97a00219arow2_col20 {\n",
       "            background-color:  rgba(0, 155, 149, 0.3);\n",
       "        }    #T_3e7f511a_9f5f_11ea_9858_e4b97a00219arow2_col21 {\n",
       "            background-color:  rgba(0, 155, 149, 0.3);\n",
       "        }    #T_3e7f511a_9f5f_11ea_9858_e4b97a00219arow2_col22 {\n",
       "            background-color:  rgba(0, 155, 149, 0.3);\n",
       "        }    #T_3e7f511a_9f5f_11ea_9858_e4b97a00219arow2_col23 {\n",
       "            background-color:  rgba(0, 155, 149, 0.3);\n",
       "        }    #T_3e7f511a_9f5f_11ea_9858_e4b97a00219arow2_col24 {\n",
       "            background-color:  rgba(0, 155, 149, 0.3);\n",
       "        }    #T_3e7f511a_9f5f_11ea_9858_e4b97a00219arow2_col25 {\n",
       "            background-color:  rgba(0, 155, 149, 0.3);\n",
       "        }    #T_3e7f511a_9f5f_11ea_9858_e4b97a00219arow3_col0 {\n",
       "            background-color:  rgba(150, 150, 150, 0.3);\n",
       "        }    #T_3e7f511a_9f5f_11ea_9858_e4b97a00219arow3_col5 {\n",
       "            background-color:  rgba(0, 122, 204, 0.3);\n",
       "        }    #T_3e7f511a_9f5f_11ea_9858_e4b97a00219arow3_col6 {\n",
       "            background-color:  rgba(0, 155, 149, 0.3);\n",
       "        }    #T_3e7f511a_9f5f_11ea_9858_e4b97a00219arow3_col7 {\n",
       "            background-color:  rgba(0, 155, 149, 0.3);\n",
       "        }    #T_3e7f511a_9f5f_11ea_9858_e4b97a00219arow3_col8 {\n",
       "            background-color:  rgba(0, 155, 149, 0.3);\n",
       "        }    #T_3e7f511a_9f5f_11ea_9858_e4b97a00219arow3_col9 {\n",
       "            background-color:  rgba(0, 155, 149, 0.3);\n",
       "        }    #T_3e7f511a_9f5f_11ea_9858_e4b97a00219arow3_col10 {\n",
       "            background-color:  rgba(0, 155, 149, 0.3);\n",
       "        }    #T_3e7f511a_9f5f_11ea_9858_e4b97a00219arow3_col11 {\n",
       "            background-color:  rgba(0, 155, 149, 0.3);\n",
       "        }    #T_3e7f511a_9f5f_11ea_9858_e4b97a00219arow3_col12 {\n",
       "            background-color:  rgba(0, 155, 149, 0.3);\n",
       "        }    #T_3e7f511a_9f5f_11ea_9858_e4b97a00219arow3_col13 {\n",
       "            background-color:  rgba(0, 155, 149, 0.3);\n",
       "        }    #T_3e7f511a_9f5f_11ea_9858_e4b97a00219arow3_col14 {\n",
       "            background-color:  rgba(0, 155, 149, 0.3);\n",
       "        }    #T_3e7f511a_9f5f_11ea_9858_e4b97a00219arow3_col15 {\n",
       "            background-color:  rgba(0, 155, 149, 0.3);\n",
       "        }    #T_3e7f511a_9f5f_11ea_9858_e4b97a00219arow3_col16 {\n",
       "            background-color:  rgba(0, 155, 149, 0.3);\n",
       "        }    #T_3e7f511a_9f5f_11ea_9858_e4b97a00219arow3_col17 {\n",
       "            background-color:  rgba(0, 155, 149, 0.3);\n",
       "        }    #T_3e7f511a_9f5f_11ea_9858_e4b97a00219arow3_col18 {\n",
       "            background-color:  rgba(0, 155, 149, 0.3);\n",
       "        }    #T_3e7f511a_9f5f_11ea_9858_e4b97a00219arow3_col19 {\n",
       "            background-color:  rgba(0, 155, 149, 0.3);\n",
       "        }    #T_3e7f511a_9f5f_11ea_9858_e4b97a00219arow3_col20 {\n",
       "            background-color:  rgba(0, 155, 149, 0.3);\n",
       "        }    #T_3e7f511a_9f5f_11ea_9858_e4b97a00219arow3_col21 {\n",
       "            background-color:  rgba(0, 155, 149, 0.3);\n",
       "        }    #T_3e7f511a_9f5f_11ea_9858_e4b97a00219arow3_col22 {\n",
       "            background-color:  rgba(0, 155, 149, 0.3);\n",
       "        }    #T_3e7f511a_9f5f_11ea_9858_e4b97a00219arow3_col23 {\n",
       "            background-color:  rgba(0, 155, 149, 0.3);\n",
       "        }    #T_3e7f511a_9f5f_11ea_9858_e4b97a00219arow3_col24 {\n",
       "            background-color:  rgba(0, 155, 149, 0.3);\n",
       "        }    #T_3e7f511a_9f5f_11ea_9858_e4b97a00219arow3_col25 {\n",
       "            background-color:  rgba(0, 155, 149, 0.3);\n",
       "        }</style><table id=\"T_3e7f511a_9f5f_11ea_9858_e4b97a00219a\" ><thead>    <tr>        <th class=\"blank level0\" ></th>        <th class=\"col_heading level0 col0\" >id</th>        <th class=\"col_heading level0 col1\" >b</th>        <th class=\"col_heading level0 col2\" >empiricalParameter</th>        <th class=\"col_heading level0 col3\" >k1</th>        <th class=\"col_heading level0 col4\" >maxUsers</th>        <th class=\"col_heading level0 col5\" >ndcg</th>        <th class=\"col_heading level0 col6\" >div@100</th>        <th class=\"col_heading level0 col7\" >topic-div@100</th>        <th class=\"col_heading level0 col8\" >jacc-div@100</th>        <th class=\"col_heading level0 col9\" >swjacc-div@100</th>        <th class=\"col_heading level0 col10\" >style-div@100</th>        <th class=\"col_heading level0 col11\" >nov@100</th>        <th class=\"col_heading level0 col12\" >topic-nov@100</th>        <th class=\"col_heading level0 col13\" >jacc-nov@100</th>        <th class=\"col_heading level0 col14\" >swjacc-nov@100</th>        <th class=\"col_heading level0 col15\" >style-nov@100</th>        <th class=\"col_heading level0 col16\" >snov@100</th>        <th class=\"col_heading level0 col17\" >topic-snov@100</th>        <th class=\"col_heading level0 col18\" >jacc-snov@100</th>        <th class=\"col_heading level0 col19\" >swjacc-snov@100</th>        <th class=\"col_heading level0 col20\" >style-snov@100</th>        <th class=\"col_heading level0 col21\" >tfidf-ser@100</th>        <th class=\"col_heading level0 col22\" >wtfidf-ser@100</th>        <th class=\"col_heading level0 col23\" >bm25-ser@100</th>        <th class=\"col_heading level0 col24\" >jacc-ser@100</th>        <th class=\"col_heading level0 col25\" >style-ser@100</th>    </tr></thead><tbody>\n",
       "                <tr>\n",
       "                        <th id=\"T_3e7f511a_9f5f_11ea_9858_e4b97a00219alevel0_row0\" class=\"row_heading level0 row0\" >3</th>\n",
       "                        <td id=\"T_3e7f511a_9f5f_11ea_9858_e4b97a00219arow0_col0\" class=\"data row0 col0\" >BM25_yf-78651</td>\n",
       "                        <td id=\"T_3e7f511a_9f5f_11ea_9858_e4b97a00219arow0_col1\" class=\"data row0 col1\" >0.75</td>\n",
       "                        <td id=\"T_3e7f511a_9f5f_11ea_9858_e4b97a00219arow0_col2\" class=\"data row0 col2\" >N/A</td>\n",
       "                        <td id=\"T_3e7f511a_9f5f_11ea_9858_e4b97a00219arow0_col3\" class=\"data row0 col3\" >1.8</td>\n",
       "                        <td id=\"T_3e7f511a_9f5f_11ea_9858_e4b97a00219arow0_col4\" class=\"data row0 col4\" >30</td>\n",
       "                        <td id=\"T_3e7f511a_9f5f_11ea_9858_e4b97a00219arow0_col5\" class=\"data row0 col5\" >0.5355</td>\n",
       "                        <td id=\"T_3e7f511a_9f5f_11ea_9858_e4b97a00219arow0_col6\" class=\"data row0 col6\" >0.4256</td>\n",
       "                        <td id=\"T_3e7f511a_9f5f_11ea_9858_e4b97a00219arow0_col7\" class=\"data row0 col7\" >0.323333</td>\n",
       "                        <td id=\"T_3e7f511a_9f5f_11ea_9858_e4b97a00219arow0_col8\" class=\"data row0 col8\" >0.86864</td>\n",
       "                        <td id=\"T_3e7f511a_9f5f_11ea_9858_e4b97a00219arow0_col9\" class=\"data row0 col9\" >0.94611</td>\n",
       "                        <td id=\"T_3e7f511a_9f5f_11ea_9858_e4b97a00219arow0_col10\" class=\"data row0 col10\" >0.36185</td>\n",
       "                        <td id=\"T_3e7f511a_9f5f_11ea_9858_e4b97a00219arow0_col11\" class=\"data row0 col11\" >0.4841</td>\n",
       "                        <td id=\"T_3e7f511a_9f5f_11ea_9858_e4b97a00219arow0_col12\" class=\"data row0 col12\" >0.280767</td>\n",
       "                        <td id=\"T_3e7f511a_9f5f_11ea_9858_e4b97a00219arow0_col13\" class=\"data row0 col13\" >0.8788</td>\n",
       "                        <td id=\"T_3e7f511a_9f5f_11ea_9858_e4b97a00219arow0_col14\" class=\"data row0 col14\" >0.95526</td>\n",
       "                        <td id=\"T_3e7f511a_9f5f_11ea_9858_e4b97a00219arow0_col15\" class=\"data row0 col15\" >0.366625</td>\n",
       "                        <td id=\"T_3e7f511a_9f5f_11ea_9858_e4b97a00219arow0_col16\" class=\"data row0 col16\" >0.43035</td>\n",
       "                        <td id=\"T_3e7f511a_9f5f_11ea_9858_e4b97a00219arow0_col17\" class=\"data row0 col17\" >0.37108</td>\n",
       "                        <td id=\"T_3e7f511a_9f5f_11ea_9858_e4b97a00219arow0_col18\" class=\"data row0 col18\" >0.83402</td>\n",
       "                        <td id=\"T_3e7f511a_9f5f_11ea_9858_e4b97a00219arow0_col19\" class=\"data row0 col19\" >0.91728</td>\n",
       "                        <td id=\"T_3e7f511a_9f5f_11ea_9858_e4b97a00219arow0_col20\" class=\"data row0 col20\" >0.38025</td>\n",
       "                        <td id=\"T_3e7f511a_9f5f_11ea_9858_e4b97a00219arow0_col21\" class=\"data row0 col21\" >0.34401</td>\n",
       "                        <td id=\"T_3e7f511a_9f5f_11ea_9858_e4b97a00219arow0_col22\" class=\"data row0 col22\" >0.16622</td>\n",
       "                        <td id=\"T_3e7f511a_9f5f_11ea_9858_e4b97a00219arow0_col23\" class=\"data row0 col23\" >0.15789</td>\n",
       "                        <td id=\"T_3e7f511a_9f5f_11ea_9858_e4b97a00219arow0_col24\" class=\"data row0 col24\" >0.54668</td>\n",
       "                        <td id=\"T_3e7f511a_9f5f_11ea_9858_e4b97a00219arow0_col25\" class=\"data row0 col25\" >0.51014</td>\n",
       "            </tr>\n",
       "            <tr>\n",
       "                        <th id=\"T_3e7f511a_9f5f_11ea_9858_e4b97a00219alevel0_row1\" class=\"row_heading level0 row1\" >1</th>\n",
       "                        <td id=\"T_3e7f511a_9f5f_11ea_9858_e4b97a00219arow1_col0\" class=\"data row1 col0\" >BM25_yf-42d08</td>\n",
       "                        <td id=\"T_3e7f511a_9f5f_11ea_9858_e4b97a00219arow1_col1\" class=\"data row1 col1\" >0.75</td>\n",
       "                        <td id=\"T_3e7f511a_9f5f_11ea_9858_e4b97a00219arow1_col2\" class=\"data row1 col2\" >True</td>\n",
       "                        <td id=\"T_3e7f511a_9f5f_11ea_9858_e4b97a00219arow1_col3\" class=\"data row1 col3\" >1.2</td>\n",
       "                        <td id=\"T_3e7f511a_9f5f_11ea_9858_e4b97a00219arow1_col4\" class=\"data row1 col4\" >30</td>\n",
       "                        <td id=\"T_3e7f511a_9f5f_11ea_9858_e4b97a00219arow1_col5\" class=\"data row1 col5\" >0.52538</td>\n",
       "                        <td id=\"T_3e7f511a_9f5f_11ea_9858_e4b97a00219arow1_col6\" class=\"data row1 col6\" >0.4131</td>\n",
       "                        <td id=\"T_3e7f511a_9f5f_11ea_9858_e4b97a00219arow1_col7\" class=\"data row1 col7\" >0.327467</td>\n",
       "                        <td id=\"T_3e7f511a_9f5f_11ea_9858_e4b97a00219arow1_col8\" class=\"data row1 col8\" >0.86747</td>\n",
       "                        <td id=\"T_3e7f511a_9f5f_11ea_9858_e4b97a00219arow1_col9\" class=\"data row1 col9\" >0.94434</td>\n",
       "                        <td id=\"T_3e7f511a_9f5f_11ea_9858_e4b97a00219arow1_col10\" class=\"data row1 col10\" >0.3553</td>\n",
       "                        <td id=\"T_3e7f511a_9f5f_11ea_9858_e4b97a00219arow1_col11\" class=\"data row1 col11\" >0.4829</td>\n",
       "                        <td id=\"T_3e7f511a_9f5f_11ea_9858_e4b97a00219arow1_col12\" class=\"data row1 col12\" >0.291333</td>\n",
       "                        <td id=\"T_3e7f511a_9f5f_11ea_9858_e4b97a00219arow1_col13\" class=\"data row1 col13\" >0.87927</td>\n",
       "                        <td id=\"T_3e7f511a_9f5f_11ea_9858_e4b97a00219arow1_col14\" class=\"data row1 col14\" >0.95491</td>\n",
       "                        <td id=\"T_3e7f511a_9f5f_11ea_9858_e4b97a00219arow1_col15\" class=\"data row1 col15\" >0.366</td>\n",
       "                        <td id=\"T_3e7f511a_9f5f_11ea_9858_e4b97a00219arow1_col16\" class=\"data row1 col16\" >0.4324</td>\n",
       "                        <td id=\"T_3e7f511a_9f5f_11ea_9858_e4b97a00219arow1_col17\" class=\"data row1 col17\" >0.38748</td>\n",
       "                        <td id=\"T_3e7f511a_9f5f_11ea_9858_e4b97a00219arow1_col18\" class=\"data row1 col18\" >0.83365</td>\n",
       "                        <td id=\"T_3e7f511a_9f5f_11ea_9858_e4b97a00219arow1_col19\" class=\"data row1 col19\" >0.91621</td>\n",
       "                        <td id=\"T_3e7f511a_9f5f_11ea_9858_e4b97a00219arow1_col20\" class=\"data row1 col20\" >0.3825</td>\n",
       "                        <td id=\"T_3e7f511a_9f5f_11ea_9858_e4b97a00219arow1_col21\" class=\"data row1 col21\" >0.29273</td>\n",
       "                        <td id=\"T_3e7f511a_9f5f_11ea_9858_e4b97a00219arow1_col22\" class=\"data row1 col22\" >0.10307</td>\n",
       "                        <td id=\"T_3e7f511a_9f5f_11ea_9858_e4b97a00219arow1_col23\" class=\"data row1 col23\" >0.15789</td>\n",
       "                        <td id=\"T_3e7f511a_9f5f_11ea_9858_e4b97a00219arow1_col24\" class=\"data row1 col24\" >0.5184</td>\n",
       "                        <td id=\"T_3e7f511a_9f5f_11ea_9858_e4b97a00219arow1_col25\" class=\"data row1 col25\" >0.46666</td>\n",
       "            </tr>\n",
       "            <tr>\n",
       "                        <th id=\"T_3e7f511a_9f5f_11ea_9858_e4b97a00219alevel0_row2\" class=\"row_heading level0 row2\" >2</th>\n",
       "                        <td id=\"T_3e7f511a_9f5f_11ea_9858_e4b97a00219arow2_col0\" class=\"data row2 col0\" >BM25_yf-30805</td>\n",
       "                        <td id=\"T_3e7f511a_9f5f_11ea_9858_e4b97a00219arow2_col1\" class=\"data row2 col1\" >0.75</td>\n",
       "                        <td id=\"T_3e7f511a_9f5f_11ea_9858_e4b97a00219arow2_col2\" class=\"data row2 col2\" >N/A</td>\n",
       "                        <td id=\"T_3e7f511a_9f5f_11ea_9858_e4b97a00219arow2_col3\" class=\"data row2 col3\" >1.8</td>\n",
       "                        <td id=\"T_3e7f511a_9f5f_11ea_9858_e4b97a00219arow2_col4\" class=\"data row2 col4\" >nan</td>\n",
       "                        <td id=\"T_3e7f511a_9f5f_11ea_9858_e4b97a00219arow2_col5\" class=\"data row2 col5\" >0.51892</td>\n",
       "                        <td id=\"T_3e7f511a_9f5f_11ea_9858_e4b97a00219arow2_col6\" class=\"data row2 col6\" >nan</td>\n",
       "                        <td id=\"T_3e7f511a_9f5f_11ea_9858_e4b97a00219arow2_col7\" class=\"data row2 col7\" >nan</td>\n",
       "                        <td id=\"T_3e7f511a_9f5f_11ea_9858_e4b97a00219arow2_col8\" class=\"data row2 col8\" >nan</td>\n",
       "                        <td id=\"T_3e7f511a_9f5f_11ea_9858_e4b97a00219arow2_col9\" class=\"data row2 col9\" >nan</td>\n",
       "                        <td id=\"T_3e7f511a_9f5f_11ea_9858_e4b97a00219arow2_col10\" class=\"data row2 col10\" >nan</td>\n",
       "                        <td id=\"T_3e7f511a_9f5f_11ea_9858_e4b97a00219arow2_col11\" class=\"data row2 col11\" >nan</td>\n",
       "                        <td id=\"T_3e7f511a_9f5f_11ea_9858_e4b97a00219arow2_col12\" class=\"data row2 col12\" >nan</td>\n",
       "                        <td id=\"T_3e7f511a_9f5f_11ea_9858_e4b97a00219arow2_col13\" class=\"data row2 col13\" >nan</td>\n",
       "                        <td id=\"T_3e7f511a_9f5f_11ea_9858_e4b97a00219arow2_col14\" class=\"data row2 col14\" >nan</td>\n",
       "                        <td id=\"T_3e7f511a_9f5f_11ea_9858_e4b97a00219arow2_col15\" class=\"data row2 col15\" >nan</td>\n",
       "                        <td id=\"T_3e7f511a_9f5f_11ea_9858_e4b97a00219arow2_col16\" class=\"data row2 col16\" >nan</td>\n",
       "                        <td id=\"T_3e7f511a_9f5f_11ea_9858_e4b97a00219arow2_col17\" class=\"data row2 col17\" >nan</td>\n",
       "                        <td id=\"T_3e7f511a_9f5f_11ea_9858_e4b97a00219arow2_col18\" class=\"data row2 col18\" >nan</td>\n",
       "                        <td id=\"T_3e7f511a_9f5f_11ea_9858_e4b97a00219arow2_col19\" class=\"data row2 col19\" >nan</td>\n",
       "                        <td id=\"T_3e7f511a_9f5f_11ea_9858_e4b97a00219arow2_col20\" class=\"data row2 col20\" >nan</td>\n",
       "                        <td id=\"T_3e7f511a_9f5f_11ea_9858_e4b97a00219arow2_col21\" class=\"data row2 col21\" >nan</td>\n",
       "                        <td id=\"T_3e7f511a_9f5f_11ea_9858_e4b97a00219arow2_col22\" class=\"data row2 col22\" >nan</td>\n",
       "                        <td id=\"T_3e7f511a_9f5f_11ea_9858_e4b97a00219arow2_col23\" class=\"data row2 col23\" >nan</td>\n",
       "                        <td id=\"T_3e7f511a_9f5f_11ea_9858_e4b97a00219arow2_col24\" class=\"data row2 col24\" >nan</td>\n",
       "                        <td id=\"T_3e7f511a_9f5f_11ea_9858_e4b97a00219arow2_col25\" class=\"data row2 col25\" >nan</td>\n",
       "            </tr>\n",
       "            <tr>\n",
       "                        <th id=\"T_3e7f511a_9f5f_11ea_9858_e4b97a00219alevel0_row3\" class=\"row_heading level0 row3\" >0</th>\n",
       "                        <td id=\"T_3e7f511a_9f5f_11ea_9858_e4b97a00219arow3_col0\" class=\"data row3 col0\" >BM25_yf-c91a6</td>\n",
       "                        <td id=\"T_3e7f511a_9f5f_11ea_9858_e4b97a00219arow3_col1\" class=\"data row3 col1\" >0</td>\n",
       "                        <td id=\"T_3e7f511a_9f5f_11ea_9858_e4b97a00219arow3_col2\" class=\"data row3 col2\" >N/A</td>\n",
       "                        <td id=\"T_3e7f511a_9f5f_11ea_9858_e4b97a00219arow3_col3\" class=\"data row3 col3\" >0</td>\n",
       "                        <td id=\"T_3e7f511a_9f5f_11ea_9858_e4b97a00219arow3_col4\" class=\"data row3 col4\" >nan</td>\n",
       "                        <td id=\"T_3e7f511a_9f5f_11ea_9858_e4b97a00219arow3_col5\" class=\"data row3 col5\" >0.33871</td>\n",
       "                        <td id=\"T_3e7f511a_9f5f_11ea_9858_e4b97a00219arow3_col6\" class=\"data row3 col6\" >nan</td>\n",
       "                        <td id=\"T_3e7f511a_9f5f_11ea_9858_e4b97a00219arow3_col7\" class=\"data row3 col7\" >nan</td>\n",
       "                        <td id=\"T_3e7f511a_9f5f_11ea_9858_e4b97a00219arow3_col8\" class=\"data row3 col8\" >nan</td>\n",
       "                        <td id=\"T_3e7f511a_9f5f_11ea_9858_e4b97a00219arow3_col9\" class=\"data row3 col9\" >nan</td>\n",
       "                        <td id=\"T_3e7f511a_9f5f_11ea_9858_e4b97a00219arow3_col10\" class=\"data row3 col10\" >nan</td>\n",
       "                        <td id=\"T_3e7f511a_9f5f_11ea_9858_e4b97a00219arow3_col11\" class=\"data row3 col11\" >nan</td>\n",
       "                        <td id=\"T_3e7f511a_9f5f_11ea_9858_e4b97a00219arow3_col12\" class=\"data row3 col12\" >nan</td>\n",
       "                        <td id=\"T_3e7f511a_9f5f_11ea_9858_e4b97a00219arow3_col13\" class=\"data row3 col13\" >nan</td>\n",
       "                        <td id=\"T_3e7f511a_9f5f_11ea_9858_e4b97a00219arow3_col14\" class=\"data row3 col14\" >nan</td>\n",
       "                        <td id=\"T_3e7f511a_9f5f_11ea_9858_e4b97a00219arow3_col15\" class=\"data row3 col15\" >nan</td>\n",
       "                        <td id=\"T_3e7f511a_9f5f_11ea_9858_e4b97a00219arow3_col16\" class=\"data row3 col16\" >nan</td>\n",
       "                        <td id=\"T_3e7f511a_9f5f_11ea_9858_e4b97a00219arow3_col17\" class=\"data row3 col17\" >nan</td>\n",
       "                        <td id=\"T_3e7f511a_9f5f_11ea_9858_e4b97a00219arow3_col18\" class=\"data row3 col18\" >nan</td>\n",
       "                        <td id=\"T_3e7f511a_9f5f_11ea_9858_e4b97a00219arow3_col19\" class=\"data row3 col19\" >nan</td>\n",
       "                        <td id=\"T_3e7f511a_9f5f_11ea_9858_e4b97a00219arow3_col20\" class=\"data row3 col20\" >nan</td>\n",
       "                        <td id=\"T_3e7f511a_9f5f_11ea_9858_e4b97a00219arow3_col21\" class=\"data row3 col21\" >nan</td>\n",
       "                        <td id=\"T_3e7f511a_9f5f_11ea_9858_e4b97a00219arow3_col22\" class=\"data row3 col22\" >nan</td>\n",
       "                        <td id=\"T_3e7f511a_9f5f_11ea_9858_e4b97a00219arow3_col23\" class=\"data row3 col23\" >nan</td>\n",
       "                        <td id=\"T_3e7f511a_9f5f_11ea_9858_e4b97a00219arow3_col24\" class=\"data row3 col24\" >nan</td>\n",
       "                        <td id=\"T_3e7f511a_9f5f_11ea_9858_e4b97a00219arow3_col25\" class=\"data row3 col25\" >nan</td>\n",
       "            </tr>\n",
       "    </tbody></table>"
      ],
      "text/plain": [
       "<pandas.io.formats.style.Styler at 0x7f9d110b8710>"
      ]
     },
     "metadata": {},
     "output_type": "display_data"
    }
   ],
   "source": [
    "basicPrint('BM25_yf', noSubsampling=False)"
   ]
  },
  {
   "cell_type": "code",
   "execution_count": null,
   "metadata": {},
   "outputs": [],
   "source": []
  },
  {
   "cell_type": "code",
   "execution_count": null,
   "metadata": {},
   "outputs": [],
   "source": []
  },
  {
   "cell_type": "markdown",
   "metadata": {},
   "source": [
    "# Models that use vector representations"
   ]
  },
  {
   "cell_type": "code",
   "execution_count": null,
   "metadata": {},
   "outputs": [],
   "source": [
    "basicPrint('lda')"
   ]
  },
  {
   "cell_type": "code",
   "execution_count": null,
   "metadata": {},
   "outputs": [],
   "source": [
    "basicPrint('nmf')"
   ]
  },
  {
   "cell_type": "code",
   "execution_count": null,
   "metadata": {
    "scrolled": false
   },
   "outputs": [],
   "source": [
    "basicPrint('tfidf')"
   ]
  },
  {
   "cell_type": "code",
   "execution_count": null,
   "metadata": {},
   "outputs": [],
   "source": [
    "basicPrint('dbert-ft')"
   ]
  },
  {
   "cell_type": "code",
   "execution_count": null,
   "metadata": {},
   "outputs": [],
   "source": [
    "basicPrint('dbert-base')"
   ]
  },
  {
   "cell_type": "code",
   "execution_count": null,
   "metadata": {},
   "outputs": [],
   "source": [
    "basicPrint('stylo')"
   ]
  },
  {
   "cell_type": "code",
   "execution_count": null,
   "metadata": {},
   "outputs": [],
   "source": [
    "basicPrint('infersent')"
   ]
  },
  {
   "cell_type": "code",
   "execution_count": null,
   "metadata": {},
   "outputs": [],
   "source": [
    "basicPrint('sent2vec')"
   ]
  },
  {
   "cell_type": "code",
   "execution_count": null,
   "metadata": {},
   "outputs": [],
   "source": [
    "basicPrint('word2vec')"
   ]
  },
  {
   "cell_type": "code",
   "execution_count": null,
   "metadata": {},
   "outputs": [],
   "source": [
    "basicPrint('doc2vec')"
   ]
  },
  {
   "cell_type": "code",
   "execution_count": null,
   "metadata": {},
   "outputs": [],
   "source": [
    "basicPrint('usent')"
   ]
  },
  {
   "cell_type": "code",
   "execution_count": null,
   "metadata": {},
   "outputs": [],
   "source": [
    "basicPrint('bert')"
   ]
  },
  {
   "cell_type": "code",
   "execution_count": null,
   "metadata": {},
   "outputs": [],
   "source": []
  },
  {
   "cell_type": "code",
   "execution_count": null,
   "metadata": {},
   "outputs": [],
   "source": []
  },
  {
   "cell_type": "markdown",
   "metadata": {},
   "source": [
    "# All models for split version 2"
   ]
  },
  {
   "cell_type": "code",
   "execution_count": null,
   "metadata": {},
   "outputs": [],
   "source": [
    "printAll('div', splitVersion=2)"
   ]
  },
  {
   "cell_type": "code",
   "execution_count": null,
   "metadata": {},
   "outputs": [],
   "source": []
  },
  {
   "cell_type": "code",
   "execution_count": null,
   "metadata": {},
   "outputs": [],
   "source": []
  },
  {
   "cell_type": "markdown",
   "metadata": {},
   "source": [
    "# Combinations of models"
   ]
  },
  {
   "cell_type": "code",
   "execution_count": null,
   "metadata": {},
   "outputs": [],
   "source": [
    "# Expected 156 rows:\n",
    "basicPrint('combin')"
   ]
  },
  {
   "cell_type": "code",
   "execution_count": null,
   "metadata": {},
   "outputs": [],
   "source": []
  },
  {
   "cell_type": "code",
   "execution_count": null,
   "metadata": {},
   "outputs": [],
   "source": []
  },
  {
   "cell_type": "markdown",
   "metadata": {},
   "source": [
    "# Deep Learning models"
   ]
  },
  {
   "cell_type": "code",
   "execution_count": null,
   "metadata": {},
   "outputs": [],
   "source": [
    "basicPrint('DSSM_yf', noSubsampling=False)"
   ]
  },
  {
   "cell_type": "code",
   "execution_count": null,
   "metadata": {},
   "outputs": [],
   "source": []
  },
  {
   "cell_type": "code",
   "execution_count": null,
   "metadata": {},
   "outputs": [],
   "source": []
  },
  {
   "cell_type": "markdown",
   "metadata": {},
   "source": [
    "# Reports on the test set (split version 1)"
   ]
  },
  {
   "cell_type": "code",
   "execution_count": null,
   "metadata": {},
   "outputs": [],
   "source": [
    "basicPrint('ideal', splitVersion=1)\n",
    "basicPrint('random', splitVersion=1)\n",
    "basicPrint('worst', splitVersion=1)"
   ]
  },
  {
   "cell_type": "code",
   "execution_count": null,
   "metadata": {},
   "outputs": [],
   "source": [
    "printAll('div', splitVersion=1, doNormalization=True)"
   ]
  },
  {
   "cell_type": "code",
   "execution_count": null,
   "metadata": {
    "scrolled": false
   },
   "outputs": [],
   "source": [
    "basicPrint('combin', 'nov', splitVersion=1)"
   ]
  },
  {
   "cell_type": "code",
   "execution_count": null,
   "metadata": {},
   "outputs": [],
   "source": []
  },
  {
   "cell_type": "code",
   "execution_count": null,
   "metadata": {},
   "outputs": [],
   "source": []
  },
  {
   "cell_type": "code",
   "execution_count": null,
   "metadata": {},
   "outputs": [],
   "source": []
  }
 ],
 "metadata": {
  "kernelspec": {
   "display_name": "Python 3",
   "language": "python",
   "name": "python3"
  },
  "language_info": {
   "codemirror_mode": {
    "name": "ipython",
    "version": 3
   },
   "file_extension": ".py",
   "mimetype": "text/x-python",
   "name": "python",
   "nbconvert_exporter": "python",
   "pygments_lexer": "ipython3",
   "version": "3.6.6"
  }
 },
 "nbformat": 4,
 "nbformat_minor": 4
}
