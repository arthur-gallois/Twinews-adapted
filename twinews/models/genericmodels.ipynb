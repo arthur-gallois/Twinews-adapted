{
 "cells": [
  {
   "cell_type": "markdown",
   "metadata": {},
   "source": [
    "## Commands"
   ]
  },
  {
   "cell_type": "code",
   "execution_count": 1,
   "metadata": {},
   "outputs": [],
   "source": [
    "# oomstopper --no-tail genericmodels ; killbill genericmodels ; cd ~/twinews-logs ; jupython -o nohup-genericmodels-$HOSTNAME.out --venv st-venv ~/Workspace/Python/Datasets/Twinews/twinews/models/genericmodels.ipynb"
   ]
  },
  {
   "cell_type": "code",
   "execution_count": null,
   "metadata": {},
   "outputs": [],
   "source": []
  },
  {
   "cell_type": "code",
   "execution_count": null,
   "metadata": {},
   "outputs": [],
   "source": []
  },
  {
   "cell_type": "markdown",
   "metadata": {},
   "source": [
    "## Init"
   ]
  },
  {
   "cell_type": "code",
   "execution_count": 2,
   "metadata": {},
   "outputs": [],
   "source": [
    "import os ; os.environ[\"CUDA_VISIBLE_DEVICES\"] = \"\""
   ]
  },
  {
   "cell_type": "code",
   "execution_count": 3,
   "metadata": {},
   "outputs": [],
   "source": [
    "isNotebook = '__file__' not in locals()"
   ]
  },
  {
   "cell_type": "code",
   "execution_count": 4,
   "metadata": {},
   "outputs": [],
   "source": [
    "TEST = isNotebook # isNotebook, True, False"
   ]
  },
  {
   "cell_type": "code",
   "execution_count": 5,
   "metadata": {},
   "outputs": [],
   "source": [
    "from systemtools.hayj import *\n",
    "from systemtools.location import *\n",
    "from systemtools.basics import *\n",
    "from systemtools.file import *\n",
    "from systemtools.printer import *\n",
    "from nlptools.preprocessing import *\n",
    "from nlptools.basics import *\n",
    "from twinews.utils import *\n",
    "from twinews.models.ranking import *\n",
    "from machinelearning.iterator import *"
   ]
  },
  {
   "cell_type": "code",
   "execution_count": 6,
   "metadata": {},
   "outputs": [],
   "source": [
    "from twinews.models.genericutils import *"
   ]
  },
  {
   "cell_type": "code",
   "execution_count": 7,
   "metadata": {},
   "outputs": [
    {
     "name": "stderr",
     "output_type": "stream",
     "text": [
      "--> tictoc starts...\n"
     ]
    },
    {
     "data": {
      "text/plain": [
       "-1"
      ]
     },
     "execution_count": 7,
     "metadata": {},
     "output_type": "execute_result"
    }
   ],
   "source": [
    "logger = Logger(tmpDir('logs') + \"/generic.log\") if isNotebook else Logger(\"generic-\" + getHostname() + \".log\")\n",
    "tt = TicToc(logger=logger)\n",
    "tt.tic()"
   ]
  },
  {
   "cell_type": "code",
   "execution_count": null,
   "metadata": {},
   "outputs": [],
   "source": []
  },
  {
   "cell_type": "code",
   "execution_count": null,
   "metadata": {},
   "outputs": [],
   "source": []
  },
  {
   "cell_type": "markdown",
   "metadata": {},
   "source": [
    "## Config"
   ]
  },
  {
   "cell_type": "code",
   "execution_count": 8,
   "metadata": {},
   "outputs": [],
   "source": [
    "# from systemtools.jupyterutils import *\n",
    "# argv = getIpynbArgv()"
   ]
  },
  {
   "cell_type": "code",
   "execution_count": 17,
   "metadata": {},
   "outputs": [
    {
     "name": "stdout",
     "output_type": "stream",
     "text": [
      "[0.05, 0.1, 0.15, 0.25, 0.65, 0.7, 0.75, 0.8, 0.85, 0.9, 0.95]\n"
     ]
    }
   ],
   "source": [
    "print(sorted([e[1] for e in [('tfidf', 0.05), ('tfidf', 0.25), ('tfidf', 0.1), ('tfidf', 0.15), ('tfidf', 0.65), ('tfidf', 0.75), ('tfidf', 0.85), ('tfidf', 0.9), ('tfidf', 0.7), ('tfidf', 0.8), ('tfidf', 0.95)]]))"
   ]
  },
  {
   "cell_type": "code",
   "execution_count": 10,
   "metadata": {},
   "outputs": [
    {
     "name": "stderr",
     "output_type": "stream",
     "text": [
      "associations: { '00': ( bert, 0.1 ), '02': ( bert, 0.2 ), '03': ( bert, 0.55 ), '04': ( dbert-base, 0.2 ), '05': ( dbert-base, 0.45 ), '06': ( dbert-base, 0.55 ), '07': ( dbert-base, 1.0 ), '56': ( dbert-ft, 0.5 ), '57': ( dbert-ft, 0.55 ), '58': ( doc2vec, 0.1 ), '59': ( doc2vec, 0.2 ), '60': ( doc2vec, 0.45 ), '61': ( infersent, 0.1 ), '62': ( infersent, 0.2 ), '63': ( infersent, 0.5 ), '83': ( sent2vec, 0.1 ), '85': ( sent2vec, 0.2 ), '87': ( sent2vec, 0.45 ), '88': ( sent2vec, 0.5 ), '89': ( sent2vec, 0.55 ), '93': ( sent2vec, 0.6 ), '94': ( usent, 0.2 ) }\n"
     ]
    }
   ],
   "source": [
    "tuples = [('doc2vec', 0.1), ('doc2vec', 0.2), ('doc2vec', 0.45), ('infersent', 0.1), ('infersent', 0.2), ('infersent', 0.5), ('dbert-base', 0.2), ('dbert-base', 0.45), ('dbert-base', 1.0), ('dbert-base', 0.55), ('dbert-ft', 0.5), ('dbert-ft', 0.55), ('sent2vec', 0.1), ('sent2vec', 0.2), ('sent2vec', 0.45), ('sent2vec', 0.5), ('sent2vec', 0.55), ('sent2vec', 0.6), ('bert', 0.1), ('bert', 0.2), ('bert', 0.55), ('usent', 0.2)]\n",
    "tipis = \"60 59 58 63 00 02 57 05 03 06 07 56 04 61 88 62 83 94 85 93 89 87 95 92 81 82 90 01 86 91 70 68 77 74 78 75 71 65 67 72 73 69 76 79 64\".split(\" \")\n",
    "# tuples = tuples[len(tipis):]\n",
    "tipis = tipis[:len(tuples)]\n",
    "tuples = tuples[:len(tipis)]\n",
    "associations = associate(tipis, tuples)\n",
    "log(\"associations: \" + b(associations, 5), logger)"
   ]
  },
  {
   "cell_type": "code",
   "execution_count": null,
   "metadata": {},
   "outputs": [],
   "source": [
    "cacheKey = \\\n",
    "(\n",
    "    # 'dbert-ft'\n",
    "    # 'dbert-base'\n",
    "    # 'infersent'\n",
    "    # 'usent'\n",
    "    # 'sent2vec'\n",
    "    # 'doc2vec'\n",
    "    'bert'\n",
    "    # 'stylo'\n",
    "    # 'word2vec'\n",
    ")\n",
    "# if len(argv) == 2:\n",
    "#     cacheKey = argv[0]\n",
    "cacheKey = associations[tipiNumber()][0]\n",
    "cacheField = genericFields[cacheKey]\n",
    "log(\"cacheKey: \" + str(cacheKey), logger)\n",
    "log(\"cacheField: \" + str(cacheField), logger)"
   ]
  },
  {
   "cell_type": "code",
   "execution_count": null,
   "metadata": {},
   "outputs": [],
   "source": [
    "config = \\\n",
    "{\n",
    "    'splitVersion': 2,\n",
    "    'maxUsers': 2 if TEST else None, # Sub-sampling\n",
    "    \n",
    "    'distance': 'cosine', # 'cosine', 'euclidean', 'kl', 'js' (ValueError math domain error pour kl et js)\n",
    "    'historyRef': 0.3, # 0.1, 0.3, 0.4, 0.6, 1.0, 1, 3, 10, 30\n",
    "}\n",
    "# if len(argv) == 2:\n",
    "#     config['historyRef'] = argv[1]\n",
    "config['historyRef'] = associations[tipiNumber()][1]\n",
    "log(\"config: \" + b(config, 5), logger)"
   ]
  },
  {
   "cell_type": "code",
   "execution_count": null,
   "metadata": {},
   "outputs": [],
   "source": [
    "# config = mergeDicts(config, {})\n",
    "modelName = cacheKey\n",
    "getCache = lambda: getGenericCache(cacheKey, verbose=False)"
   ]
  },
  {
   "cell_type": "code",
   "execution_count": null,
   "metadata": {},
   "outputs": [],
   "source": [
    "# Here we check if we already generated ranking for this model with this specific config:\n",
    "if not isNotebook:\n",
    "    if rankingExists(modelName, config, logger=logger):\n",
    "        raise Exception(modelName + \" with this config already exist:\\n\" + b(config, 5))"
   ]
  },
  {
   "cell_type": "code",
   "execution_count": null,
   "metadata": {},
   "outputs": [],
   "source": [
    "log(\"Generating rankings for \" + modelName + ' (`' + cacheField + '` field) with the config:\\n' + b(config, 5), logger)"
   ]
  },
  {
   "cell_type": "code",
   "execution_count": null,
   "metadata": {},
   "outputs": [],
   "source": []
  },
  {
   "cell_type": "code",
   "execution_count": null,
   "metadata": {},
   "outputs": [],
   "source": []
  },
  {
   "cell_type": "markdown",
   "metadata": {},
   "source": [
    "## Getting data"
   ]
  },
  {
   "cell_type": "code",
   "execution_count": null,
   "metadata": {},
   "outputs": [],
   "source": [
    "# Getting users and news\n",
    "evalData = getEvalData(config['splitVersion'], maxExtraNews=0, maxUsers=config['maxUsers'], logger=logger)\n",
    "(trainUsers, testUsers, trainNews, testNews, candidates, extraNews) = \\\n",
    "(evalData['trainUsers'], evalData['testUsers'], evalData['trainNews'],\n",
    " evalData['testNews'], evalData['candidates'], evalData['extraNews'])\n",
    "bp(evalData.keys(), 5, logger)\n",
    "log(b(evalData['meta'], 5), logger)"
   ]
  },
  {
   "cell_type": "code",
   "execution_count": null,
   "metadata": {},
   "outputs": [],
   "source": [
    "# Here it is important to convert urls to lists because we want the same order to retrieve vectors by index...\n",
    "# And we shuffle it so we do not stick urls a a user at the begin...\n",
    "# But we seed the random to always have same order...\n",
    "trainNewsList = shuffle(list(trainNews), seed=0)\n",
    "testNewsList = shuffle(list(testNews), seed=0)\n",
    "newsList = trainNewsList + testNewsList"
   ]
  },
  {
   "cell_type": "code",
   "execution_count": null,
   "metadata": {},
   "outputs": [],
   "source": [
    "# Print all:\n",
    "log(str(len(trainNewsList)) + \" urls for trainNewsList\", logger=logger)\n",
    "log(str(len(testNewsList)) + \" urls for testNewsList\", logger=logger)\n",
    "log(str(len(newsList)) + \" urls for newsList\", logger=logger)"
   ]
  },
  {
   "cell_type": "code",
   "execution_count": null,
   "metadata": {},
   "outputs": [],
   "source": [
    "def genFunct(containers, field, getCache, *args, **kwargs):\n",
    "    if not isinstance(containers[0], list):\n",
    "        containers = [containers]\n",
    "    cache = getCache()\n",
    "    newsCollection = getNewsCollection(verbose=False)\n",
    "    for container in containers:\n",
    "        for url in container:\n",
    "            vector = getVector(url, field, cache, newsCollection)\n",
    "            assert vector is not None\n",
    "            yield (url, vector)"
   ]
  },
  {
   "cell_type": "code",
   "execution_count": null,
   "metadata": {},
   "outputs": [],
   "source": [
    "mli = MLIterator\\\n",
    "(\n",
    "    chunks(newsList, 100 if TEST else 5000),\n",
    "    # chunks(newsList, int(len(newsList) / 100)),\n",
    "    genFunct, genArgs=(cacheField, getCache,),\n",
    "    logger=logger,\n",
    "    printRatio=0.03, queuesMaxSize=1000,\n",
    "    parallelProcesses=cpuCount(),\n",
    ")"
   ]
  },
  {
   "cell_type": "code",
   "execution_count": null,
   "metadata": {},
   "outputs": [],
   "source": [
    "urlsVectors = dict()\n",
    "for url, vector in mli:\n",
    "    urlsVectors[url] = vector"
   ]
  },
  {
   "cell_type": "code",
   "execution_count": null,
   "metadata": {
    "scrolled": true
   },
   "outputs": [],
   "source": [
    "bp(urlsVectors, logger)"
   ]
  },
  {
   "cell_type": "code",
   "execution_count": null,
   "metadata": {},
   "outputs": [],
   "source": [
    "tt.tic(\"Data loaded\")"
   ]
  },
  {
   "cell_type": "code",
   "execution_count": null,
   "metadata": {},
   "outputs": [],
   "source": []
  },
  {
   "cell_type": "code",
   "execution_count": null,
   "metadata": {},
   "outputs": [],
   "source": []
  },
  {
   "cell_type": "markdown",
   "metadata": {},
   "source": [
    "## Ranking"
   ]
  },
  {
   "cell_type": "code",
   "execution_count": null,
   "metadata": {},
   "outputs": [],
   "source": [
    "# Read the doc!\n",
    "rankings = usersRankingsByHistoryDistance\\\n",
    "(\n",
    "    trainUsers,\n",
    "    candidates,\n",
    "    config['historyRef'],\n",
    "    urlsVectors,\n",
    "    distanceMetric=config['distance'],\n",
    "    logger=logger,\n",
    ")"
   ]
  },
  {
   "cell_type": "code",
   "execution_count": null,
   "metadata": {
    "scrolled": true
   },
   "outputs": [],
   "source": [
    "bp(rankings, logger, 4)"
   ]
  },
  {
   "cell_type": "code",
   "execution_count": null,
   "metadata": {},
   "outputs": [],
   "source": [
    "tt.tic(\"Rankings done\")"
   ]
  },
  {
   "cell_type": "code",
   "execution_count": null,
   "metadata": {},
   "outputs": [],
   "source": []
  },
  {
   "cell_type": "code",
   "execution_count": null,
   "metadata": {},
   "outputs": [],
   "source": []
  },
  {
   "cell_type": "markdown",
   "metadata": {},
   "source": [
    "## Adding rankings to the db"
   ]
  },
  {
   "cell_type": "code",
   "execution_count": null,
   "metadata": {},
   "outputs": [],
   "source": [
    "# Read the doc!\n",
    "addRanking(modelName, rankings, config, logger=logger)"
   ]
  },
  {
   "cell_type": "code",
   "execution_count": null,
   "metadata": {},
   "outputs": [],
   "source": [
    "tt.tic(\"Rankings stored\")"
   ]
  },
  {
   "cell_type": "code",
   "execution_count": null,
   "metadata": {},
   "outputs": [],
   "source": [
    "totalDuration = tt.toc()"
   ]
  },
  {
   "cell_type": "code",
   "execution_count": null,
   "metadata": {},
   "outputs": [],
   "source": [
    "if not TEST:\n",
    "    notif(modelName + '-' + objectToHash(config)[:5] + \" done in \" + secondsToHumanReadableDuration(totalDuration) + \" on \" + getHostname())"
   ]
  },
  {
   "cell_type": "code",
   "execution_count": null,
   "metadata": {},
   "outputs": [],
   "source": []
  },
  {
   "cell_type": "code",
   "execution_count": null,
   "metadata": {},
   "outputs": [],
   "source": []
  },
  {
   "cell_type": "markdown",
   "metadata": {},
   "source": [
    "## Old stuff"
   ]
  },
  {
   "cell_type": "code",
   "execution_count": null,
   "metadata": {},
   "outputs": [],
   "source": [
    "if False:\n",
    "    (user, password, host) = getMongoAuth(user='hayj')\n",
    "    cache = SerializableDict\\\n",
    "    (\n",
    "        \"twinews-dbert-94bef_ep32\",\n",
    "        user=user, host=host, password=password,\n",
    "        useMongodb=True, logger=logger,\n",
    "    )\n",
    "    urlCache = SerializableDict\\\n",
    "    (\n",
    "        \"twinews-dbert-94bef_ep32-url\",\n",
    "        user=user, host=host, password=password,\n",
    "        useMongodb=True, logger=logger,\n",
    "    )\n",
    "    pbar = ProgressBar(len(newsCollection), logger=logger, printRatio=0.01)\n",
    "    for row in newsCollection.find({}, projection={'detokText': True, 'url': True}):\n",
    "        url = row['url']\n",
    "        text = row['detokText']\n",
    "        theHash = objectToHash(text)\n",
    "        vector = cache[theHash]\n",
    "        urlCache[url] = vector\n",
    "        pbar.tic()\n",
    "    exit()"
   ]
  },
  {
   "cell_type": "code",
   "execution_count": null,
   "metadata": {},
   "outputs": [],
   "source": []
  },
  {
   "cell_type": "code",
   "execution_count": null,
   "metadata": {},
   "outputs": [],
   "source": []
  }
 ],
 "metadata": {
  "kernelspec": {
   "display_name": "Python 3",
   "language": "python",
   "name": "python3"
  },
  "language_info": {
   "codemirror_mode": {
    "name": "ipython",
    "version": 3
   },
   "file_extension": ".py",
   "mimetype": "text/x-python",
   "name": "python",
   "nbconvert_exporter": "python",
   "pygments_lexer": "ipython3",
   "version": "3.6.6"
  }
 },
 "nbformat": 4,
 "nbformat_minor": 4
}
