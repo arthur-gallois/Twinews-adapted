{
 "cells": [
  {
   "cell_type": "markdown",
   "metadata": {},
   "source": [
    "# Commands"
   ]
  },
  {
   "cell_type": "code",
   "execution_count": null,
   "metadata": {},
   "outputs": [],
   "source": [
    "# cd ~/twinews-logs ; jupython -o nohup-generic-$HOSTNAME.out --venv st-venv ~/Workspace/Python/Datasets/Twinews/twinews/models/generic.ipynb"
   ]
  },
  {
   "cell_type": "code",
   "execution_count": null,
   "metadata": {},
   "outputs": [],
   "source": []
  },
  {
   "cell_type": "code",
   "execution_count": null,
   "metadata": {},
   "outputs": [],
   "source": []
  },
  {
   "cell_type": "markdown",
   "metadata": {},
   "source": [
    "# Init"
   ]
  },
  {
   "cell_type": "code",
   "execution_count": 1,
   "metadata": {},
   "outputs": [],
   "source": [
    "import os ; os.environ[\"CUDA_VISIBLE_DEVICES\"] = \"\""
   ]
  },
  {
   "cell_type": "code",
   "execution_count": 2,
   "metadata": {},
   "outputs": [],
   "source": [
    "isNotebook = '__file__' not in locals()"
   ]
  },
  {
   "cell_type": "code",
   "execution_count": 3,
   "metadata": {},
   "outputs": [],
   "source": [
    "TEST = isNotebook # isNotebook, True, False"
   ]
  },
  {
   "cell_type": "code",
   "execution_count": 4,
   "metadata": {},
   "outputs": [],
   "source": [
    "from systemtools.hayj import *\n",
    "from systemtools.location import *\n",
    "from systemtools.basics import *\n",
    "from systemtools.file import *\n",
    "from systemtools.printer import *\n",
    "from nlptools.preprocessing import *\n",
    "from nlptools.basics import *\n",
    "from twinews.utils import *\n",
    "from twinews.models.ranking import *\n",
    "from machinelearning.iterator import *"
   ]
  },
  {
   "cell_type": "code",
   "execution_count": 5,
   "metadata": {},
   "outputs": [
    {
     "name": "stderr",
     "output_type": "stream",
     "text": [
      "--> tictoc starts...\n"
     ]
    },
    {
     "data": {
      "text/plain": [
       "-1"
      ]
     },
     "execution_count": 5,
     "metadata": {},
     "output_type": "execute_result"
    }
   ],
   "source": [
    "logger = Logger(tmpDir('logs') + \"/generic.log\") if isNotebook else Logger(\"generic-\" + getHostname() + \".log\")\n",
    "tt = TicToc(logger=logger)\n",
    "tt.tic()"
   ]
  },
  {
   "cell_type": "code",
   "execution_count": null,
   "metadata": {},
   "outputs": [],
   "source": []
  },
  {
   "cell_type": "code",
   "execution_count": null,
   "metadata": {},
   "outputs": [],
   "source": []
  },
  {
   "cell_type": "markdown",
   "metadata": {},
   "source": [
    "# Config"
   ]
  },
  {
   "cell_type": "code",
   "execution_count": 6,
   "metadata": {},
   "outputs": [],
   "source": [
    "config = \\\n",
    "{\n",
    "    'splitVersion': 2,\n",
    "    'maxUsers': 2 if TEST else None, # Sub-sampling\n",
    "    'distance': 'js', # 'cosine', 'euclidean', 'kl', 'js' (ValueError math domain error pour kl et js)\n",
    "    'historyRef': 0.5, # 0.1, 0.3, 0.6, 1.0, 1, 3, 10, 30\n",
    "}"
   ]
  },
  {
   "cell_type": "code",
   "execution_count": 7,
   "metadata": {},
   "outputs": [],
   "source": [
    "def _getCache(key):\n",
    "    (user, password, host) = getMongoAuth(user='hayj')\n",
    "    cache = SerializableDict\\\n",
    "    (\n",
    "        key,\n",
    "        user=user, host=host, password=password,\n",
    "        useMongodb=True, logger=logger,\n",
    "    )\n",
    "    return cache"
   ]
  },
  {
   "cell_type": "code",
   "execution_count": 8,
   "metadata": {},
   "outputs": [],
   "source": [
    "def getVector(url, field, cache, newsCollection):\n",
    "    text = newsCollection.findOne({'url': url}, projection={field: True})\n",
    "    theHash = objectToHash(text[field])\n",
    "    return cache[theHash]"
   ]
  },
  {
   "cell_type": "code",
   "execution_count": 9,
   "metadata": {},
   "outputs": [],
   "source": [
    "if False:\n",
    "    (user, password, host) = getMongoAuth(user='hayj')\n",
    "    cache = SerializableDict\\\n",
    "    (\n",
    "        \"twinews-dbert-94bef_ep32\",\n",
    "        user=user, host=host, password=password,\n",
    "        useMongodb=True, logger=logger,\n",
    "    )\n",
    "    urlCache = SerializableDict\\\n",
    "    (\n",
    "        \"twinews-dbert-94bef_ep32-url\",\n",
    "        user=user, host=host, password=password,\n",
    "        useMongodb=True, logger=logger,\n",
    "    )\n",
    "    pbar = ProgressBar(len(newsCollection), logger=logger, printRatio=0.01)\n",
    "    for row in newsCollection.find({}, projection={'detokText': True, 'url': True}):\n",
    "        url = row['url']\n",
    "        text = row['detokText']\n",
    "        theHash = objectToHash(text)\n",
    "        vector = cache[theHash]\n",
    "        urlCache[url] = vector\n",
    "        pbar.tic()\n",
    "    exit()"
   ]
  },
  {
   "cell_type": "code",
   "execution_count": 21,
   "metadata": {},
   "outputs": [],
   "source": [
    "# DBert-ft:\n",
    "if True:\n",
    "    config = mergeDicts(config, {})\n",
    "    modelName = 'dbert-ft'\n",
    "    cacheKey = \"twinews-dbert-94bef_ep32\"\n",
    "    field = 'detokText'\n",
    "    getCache = lambda: _getCache(cacheKey)\n",
    "    # getVector = lambda url: _getVector(url, field='detokText')"
   ]
  },
  {
   "cell_type": "code",
   "execution_count": 11,
   "metadata": {},
   "outputs": [],
   "source": [
    "# DBert-base:\n",
    "if False:\n",
    "    modelName = 'dbert-base'\n",
    "    cacheKey = \"twinews-dbert-base\"\n",
    "    # ?????"
   ]
  },
  {
   "cell_type": "code",
   "execution_count": 12,
   "metadata": {},
   "outputs": [],
   "source": [
    "# Here we check if we already generated ranking for this model with this specific config:\n",
    "if not isNotebook:\n",
    "    if rankingExists(modelName, config, logger=logger):\n",
    "        raise Exception(modelName + \" with this config already exist:\\n\" + b(config, 5))"
   ]
  },
  {
   "cell_type": "code",
   "execution_count": 13,
   "metadata": {},
   "outputs": [
    {
     "name": "stderr",
     "output_type": "stream",
     "text": [
      "{ 'distance': euclidean, 'historyRef': 30, 'maxUsers': 2, 'splitVersion': 2 }\n"
     ]
    }
   ],
   "source": [
    "bp(config, 5, logger)"
   ]
  },
  {
   "cell_type": "code",
   "execution_count": null,
   "metadata": {},
   "outputs": [],
   "source": []
  },
  {
   "cell_type": "code",
   "execution_count": null,
   "metadata": {},
   "outputs": [],
   "source": []
  },
  {
   "cell_type": "markdown",
   "metadata": {},
   "source": [
    "# Getting data"
   ]
  },
  {
   "cell_type": "code",
   "execution_count": 14,
   "metadata": {},
   "outputs": [
    {
     "name": "stderr",
     "output_type": "stream",
     "text": [
      "--> tic: 32.57s | message: Eval data loaded\n",
      "--> toc total duration: 32.84s | message: Got Twinews evaluation data\n",
      "{ candidates, extraNews, meta, testNews, testUsers, trainNews, trainUsers }\n",
      "{ 'created': 2020.03.24-14.28.06, 'endDate': 2018-01-15, 'id': 2, 'ranksLength': 1000, 'splitDate': 2017-12-25, 'startDate': 2017-10-01, 'testMaxNewsPerUser': 97, 'testMeanNewsPerUser': 7.22, 'testMinNewsPerUser': 2, 'testNewsCount': 71781, 'totalNewsAvailable': 570210, 'trainMaxNewsPerUser': 379, 'trainMeanNewsPerUser': 26.48, 'trainMinNewsPerUser': 8, 'trainNewsCount': 237150, 'usersCount': 15905 }\n"
     ]
    }
   ],
   "source": [
    "# Getting users and news\n",
    "evalData = getEvalData(config['splitVersion'], maxExtraNews=0, maxUsers=config['maxUsers'], logger=logger)\n",
    "(trainUsers, testUsers, trainNews, testNews, candidates, extraNews) = \\\n",
    "(evalData['trainUsers'], evalData['testUsers'], evalData['trainNews'],\n",
    " evalData['testNews'], evalData['candidates'], evalData['extraNews'])\n",
    "bp(evalData.keys(), 5, logger)\n",
    "log(b(evalData['meta'], 5), logger)"
   ]
  },
  {
   "cell_type": "code",
   "execution_count": 15,
   "metadata": {},
   "outputs": [],
   "source": [
    "# Here it is important to convert urls to lists because we want the same order to retrieve vectors by index...\n",
    "# And we shuffle it so we do not stick urls a a user at the begin...\n",
    "# But we seed the random to always have same order...\n",
    "trainNewsList = shuffle(list(trainNews), seed=0)\n",
    "testNewsList = shuffle(list(testNews), seed=0)\n",
    "newsList = trainNewsList + testNewsList"
   ]
  },
  {
   "cell_type": "code",
   "execution_count": 16,
   "metadata": {},
   "outputs": [
    {
     "name": "stderr",
     "output_type": "stream",
     "text": [
      "28 urls for trainNewsList\n",
      "1989 urls for testNewsList\n",
      "2017 urls for newsList\n"
     ]
    }
   ],
   "source": [
    "# Print all:\n",
    "log(str(len(trainNewsList)) + \" urls for trainNewsList\", logger=logger)\n",
    "log(str(len(testNewsList)) + \" urls for testNewsList\", logger=logger)\n",
    "log(str(len(newsList)) + \" urls for newsList\", logger=logger)"
   ]
  },
  {
   "cell_type": "code",
   "execution_count": 17,
   "metadata": {},
   "outputs": [],
   "source": [
    "def genFunct(containers, field, getCache, *args, **kwargs):\n",
    "    if not isinstance(containers[0], list):\n",
    "        containers = [containers]\n",
    "    cache = getCache()\n",
    "    newsCollection = getNewsCollection()\n",
    "    for container in containers:\n",
    "        for url in container:\n",
    "            vector = getVector(url, field, cache, newsCollection)\n",
    "            assert vector is not None\n",
    "            yield (url, vector)"
   ]
  },
  {
   "cell_type": "code",
   "execution_count": 22,
   "metadata": {},
   "outputs": [
    {
     "name": "stderr",
     "output_type": "stream",
     "text": [
      "With parallelProcesses > 1, this iterator is not consistent, meaning 2 iterations over same containers will not give items in the same order\n",
      "101 containers to process.\n"
     ]
    }
   ],
   "source": [
    "mli = MLIterator\\\n",
    "(\n",
    "    chunks(newsList, int(len(newsList) / 100)),\n",
    "    genFunct, genArgs=(field, getCache,),\n",
    "    logger=logger,\n",
    "    printRatio=0.03,\n",
    "    parallelProcesses=cpuCount(),\n",
    ")"
   ]
  },
  {
   "cell_type": "code",
   "execution_count": 23,
   "metadata": {},
   "outputs": [
    {
     "name": "stderr",
     "output_type": "stream",
     "text": [
      "serializabledict twinews-dbert-94bef_ep32 initialised.\n",
      "serializabledict twinews-dbert-94bef_ep32 initialised.\n",
      "serializabledict twinews-dbert-94bef_ep32 initialised.\n",
      "serializabledict twinews-dbert-94bef_ep32 initialised.\n"
     ]
    },
    {
     "name": "stdout",
     "output_type": "stream",
     "text": [
      "twinews news (version 1.0) initialised.\n"
     ]
    },
    {
     "name": "stderr",
     "output_type": "stream",
     "text": [
      "serializabledict twinews-dbert-94bef_ep32 initialised.\n"
     ]
    },
    {
     "name": "stdout",
     "output_type": "stream",
     "text": [
      "twinews news (version 1.0) initialised.\n"
     ]
    },
    {
     "name": "stderr",
     "output_type": "stream",
     "text": [
      "serializabledict twinews-dbert-94bef_ep32 initialised.\n",
      "serializabledict twinews-dbert-94bef_ep32 initialised.\n"
     ]
    },
    {
     "name": "stdout",
     "output_type": "stream",
     "text": [
      "twinews news (version 1.0) initialised.\n"
     ]
    },
    {
     "name": "stderr",
     "output_type": "stream",
     "text": [
      "serializabledict twinews-dbert-94bef_ep32 initialised.\n"
     ]
    },
    {
     "name": "stdout",
     "output_type": "stream",
     "text": [
      "twinews news (version 1.0) initialised.\n",
      "twinews news (version 1.0) initialised.\n",
      "twinews news (version 1.0) initialised.\n",
      "twinews news (version 1.0) initialised.\n",
      "twinews news (version 1.0) initialised.\n"
     ]
    },
    {
     "name": "stderr",
     "output_type": "stream",
     "text": [
      "  0% [                    ]\n",
      "serializabledict twinews-dbert-94bef_ep32 initialised.\n",
      "  2% [                    ]\n"
     ]
    },
    {
     "name": "stdout",
     "output_type": "stream",
     "text": [
      "twinews news (version 1.0) initialised.\n"
     ]
    },
    {
     "name": "stderr",
     "output_type": "stream",
     "text": [
      "serializabledict twinews-dbert-94bef_ep32 initialised.\n",
      "  5% [=                   ] (29.45s left)\n",
      "serializabledict twinews-dbert-94bef_ep32 initialised.\n",
      "serializabledict twinews-dbert-94bef_ep32 initialised.\n",
      "serializabledict twinews-dbert-94bef_ep32 initialised.\n"
     ]
    },
    {
     "name": "stdout",
     "output_type": "stream",
     "text": [
      "twinews news (version 1.0) initialised.\n"
     ]
    },
    {
     "name": "stderr",
     "output_type": "stream",
     "text": [
      "serializabledict twinews-dbert-94bef_ep32 initialised.\n",
      "serializabledict twinews-dbert-94bef_ep32 initialised.\n",
      "serializabledict twinews-dbert-94bef_ep32 initialised.\n"
     ]
    },
    {
     "name": "stdout",
     "output_type": "stream",
     "text": [
      "twinews news (version 1.0) initialised.\n",
      "twinews news (version 1.0) initialised.\n",
      "twinews news (version 1.0) initialised.\n",
      "twinews news (version 1.0) initialised.\n",
      "twinews news (version 1.0) initialised.\n",
      "twinews news (version 1.0) initialised.\n"
     ]
    },
    {
     "name": "stderr",
     "output_type": "stream",
     "text": [
      "  8% [=                   ] (27.804s left)\n",
      "serializabledict twinews-dbert-94bef_ep32 initialised.\n"
     ]
    },
    {
     "name": "stdout",
     "output_type": "stream",
     "text": [
      "twinews news (version 1.0) initialised.\n"
     ]
    },
    {
     "name": "stderr",
     "output_type": "stream",
     "text": [
      " 11% [==                  ] (22.027s left)\n",
      "serializabledict twinews-dbert-94bef_ep32 initialised.\n",
      "serializabledict twinews-dbert-94bef_ep32 initialised.\n",
      "serializabledict twinews-dbert-94bef_ep32 initialised.\n",
      " 14% [==                  ] (17.658s left)\n",
      "serializabledict twinews-dbert-94bef_ep32 initialised.\n"
     ]
    },
    {
     "name": "stdout",
     "output_type": "stream",
     "text": [
      "twinews news (version 1.0) initialised.\n"
     ]
    },
    {
     "name": "stderr",
     "output_type": "stream",
     "text": [
      "serializabledict twinews-dbert-94bef_ep32 initialised.\n"
     ]
    },
    {
     "name": "stdout",
     "output_type": "stream",
     "text": [
      "twinews news (version 1.0) initialised.\n",
      "twinews news (version 1.0) initialised.\n",
      "twinews news (version 1.0) initialised.\n"
     ]
    },
    {
     "name": "stderr",
     "output_type": "stream",
     "text": [
      "serializabledict twinews-dbert-94bef_ep32 initialised.\n",
      "serializabledict twinews-dbert-94bef_ep32 initialised.\n"
     ]
    },
    {
     "name": "stdout",
     "output_type": "stream",
     "text": [
      "twinews news (version 1.0) initialised.\n",
      "twinews news (version 1.0) initialised.\n",
      "twinews news (version 1.0) initialised.\n"
     ]
    },
    {
     "name": "stderr",
     "output_type": "stream",
     "text": [
      "serializabledict twinews-dbert-94bef_ep32 initialised.\n",
      " 17% [===                 ] (18.951s left)\n"
     ]
    },
    {
     "name": "stdout",
     "output_type": "stream",
     "text": [
      "twinews news (version 1.0) initialised.\n"
     ]
    },
    {
     "name": "stderr",
     "output_type": "stream",
     "text": [
      " 20% [====                ] (16.114s left)\n",
      "serializabledict twinews-dbert-94bef_ep32 initialised.\n",
      "serializabledict twinews-dbert-94bef_ep32 initialised.\n",
      "serializabledict twinews-dbert-94bef_ep32 initialised.\n",
      "serializabledict twinews-dbert-94bef_ep32 initialised.\n",
      "serializabledict twinews-dbert-94bef_ep32 initialised.\n",
      " 23% [====                ] (14.309s left)\n"
     ]
    },
    {
     "name": "stdout",
     "output_type": "stream",
     "text": [
      "twinews news (version 1.0) initialised.\n",
      "twinews news (version 1.0) initialised.\n"
     ]
    },
    {
     "name": "stderr",
     "output_type": "stream",
     "text": [
      "serializabledict twinews-dbert-94bef_ep32 initialised.\n",
      "serializabledict twinews-dbert-94bef_ep32 initialised.\n"
     ]
    },
    {
     "name": "stdout",
     "output_type": "stream",
     "text": [
      "twinews news (version 1.0) initialised.\n",
      "twinews news (version 1.0) initialised.\n",
      "twinews news (version 1.0) initialised.\n",
      "twinews news (version 1.0) initialised.\n",
      "twinews news (version 1.0) initialised.\n"
     ]
    },
    {
     "name": "stderr",
     "output_type": "stream",
     "text": [
      "serializabledict twinews-dbert-94bef_ep32 initialised.\n",
      " 26% [=====               ] (14.772s left)\n"
     ]
    },
    {
     "name": "stdout",
     "output_type": "stream",
     "text": [
      "twinews news (version 1.0) initialised.\n"
     ]
    },
    {
     "name": "stderr",
     "output_type": "stream",
     "text": [
      "serializabledict twinews-dbert-94bef_ep32 initialised.\n",
      "serializabledict twinews-dbert-94bef_ep32 initialised.\n",
      " 29% [=====               ] (13.087s left)\n",
      "serializabledict twinews-dbert-94bef_ep32 initialised.\n",
      "serializabledict twinews-dbert-94bef_ep32 initialised.\n"
     ]
    },
    {
     "name": "stdout",
     "output_type": "stream",
     "text": [
      "twinews news (version 1.0) initialised.\n"
     ]
    },
    {
     "name": "stderr",
     "output_type": "stream",
     "text": [
      "serializabledict twinews-dbert-94bef_ep32 initialised.\n"
     ]
    },
    {
     "name": "stdout",
     "output_type": "stream",
     "text": [
      "twinews news (version 1.0) initialised.\n",
      "twinews news (version 1.0) initialised.\n"
     ]
    },
    {
     "name": "stderr",
     "output_type": "stream",
     "text": [
      "serializabledict twinews-dbert-94bef_ep32 initialised.\n"
     ]
    },
    {
     "name": "stdout",
     "output_type": "stream",
     "text": [
      "twinews news (version 1.0) initialised.\n"
     ]
    },
    {
     "name": "stderr",
     "output_type": "stream",
     "text": [
      "serializabledict twinews-dbert-94bef_ep32 initialised.\n"
     ]
    },
    {
     "name": "stdout",
     "output_type": "stream",
     "text": [
      "twinews news (version 1.0) initialised.\n",
      "twinews news (version 1.0) initialised.\n",
      "twinews news (version 1.0) initialised.\n"
     ]
    },
    {
     "name": "stderr",
     "output_type": "stream",
     "text": [
      " 32% [======              ] (13.146s left)\n",
      "serializabledict twinews-dbert-94bef_ep32 initialised.\n"
     ]
    },
    {
     "name": "stdout",
     "output_type": "stream",
     "text": [
      "twinews news (version 1.0) initialised.\n"
     ]
    },
    {
     "name": "stderr",
     "output_type": "stream",
     "text": [
      " 35% [=======             ] (12.133s left)\n",
      "serializabledict twinews-dbert-94bef_ep32 initialised.\n",
      "serializabledict twinews-dbert-94bef_ep32 initialised.\n"
     ]
    },
    {
     "name": "stdout",
     "output_type": "stream",
     "text": [
      "twinews news (version 1.0) initialised.\n"
     ]
    },
    {
     "name": "stderr",
     "output_type": "stream",
     "text": [
      "serializabledict twinews-dbert-94bef_ep32 initialised.\n",
      " 38% [=======             ] (10.905s left)\n",
      "serializabledict twinews-dbert-94bef_ep32 initialised.\n"
     ]
    },
    {
     "name": "stdout",
     "output_type": "stream",
     "text": [
      "twinews news (version 1.0) initialised.\n"
     ]
    },
    {
     "name": "stderr",
     "output_type": "stream",
     "text": [
      "serializabledict twinews-dbert-94bef_ep32 initialised.\n"
     ]
    },
    {
     "name": "stdout",
     "output_type": "stream",
     "text": [
      "twinews news (version 1.0) initialised.\n",
      "twinews news (version 1.0) initialised.\n"
     ]
    },
    {
     "name": "stderr",
     "output_type": "stream",
     "text": [
      "serializabledict twinews-dbert-94bef_ep32 initialised.\n",
      "serializabledict twinews-dbert-94bef_ep32 initialised.\n"
     ]
    },
    {
     "name": "stdout",
     "output_type": "stream",
     "text": [
      "twinews news (version 1.0) initialised.\n",
      "twinews news (version 1.0) initialised.\n",
      "twinews news (version 1.0) initialised.\n"
     ]
    },
    {
     "name": "stderr",
     "output_type": "stream",
     "text": [
      "serializabledict twinews-dbert-94bef_ep32 initialised.\n",
      " 41% [========            ] (10.886s left)\n"
     ]
    },
    {
     "name": "stdout",
     "output_type": "stream",
     "text": [
      "twinews news (version 1.0) initialised.\n"
     ]
    },
    {
     "name": "stderr",
     "output_type": "stream",
     "text": [
      "serializabledict twinews-dbert-94bef_ep32 initialised.\n",
      " 44% [========            ] (9.868s left)\n",
      "serializabledict twinews-dbert-94bef_ep32 initialised.\n"
     ]
    },
    {
     "name": "stdout",
     "output_type": "stream",
     "text": [
      "twinews news (version 1.0) initialised.\n"
     ]
    },
    {
     "name": "stderr",
     "output_type": "stream",
     "text": [
      "serializabledict twinews-dbert-94bef_ep32 initialised.\n",
      "serializabledict twinews-dbert-94bef_ep32 initialised.\n",
      " 47% [=========           ] (8.921s left)\n"
     ]
    },
    {
     "name": "stdout",
     "output_type": "stream",
     "text": [
      "twinews news (version 1.0) initialised.\n"
     ]
    },
    {
     "name": "stderr",
     "output_type": "stream",
     "text": [
      "serializabledict twinews-dbert-94bef_ep32 initialised.\n"
     ]
    },
    {
     "name": "stdout",
     "output_type": "stream",
     "text": [
      "twinews news (version 1.0) initialised.\n",
      "twinews news (version 1.0) initialised.\n"
     ]
    },
    {
     "name": "stderr",
     "output_type": "stream",
     "text": [
      "serializabledict twinews-dbert-94bef_ep32 initialised.\n",
      "serializabledict twinews-dbert-94bef_ep32 initialised.\n"
     ]
    },
    {
     "name": "stdout",
     "output_type": "stream",
     "text": [
      "twinews news (version 1.0) initialised.\n",
      "twinews news (version 1.0) initialised.\n",
      "twinews news (version 1.0) initialised.\n"
     ]
    },
    {
     "name": "stderr",
     "output_type": "stream",
     "text": [
      "serializabledict twinews-dbert-94bef_ep32 initialised.\n"
     ]
    },
    {
     "name": "stdout",
     "output_type": "stream",
     "text": [
      "twinews news (version 1.0) initialised.\n"
     ]
    },
    {
     "name": "stderr",
     "output_type": "stream",
     "text": [
      " 50% [==========          ] (8.803s left)\n",
      "serializabledict twinews-dbert-94bef_ep32 initialised.\n",
      " 53% [==========          ] (7.902s left)\n",
      "serializabledict twinews-dbert-94bef_ep32 initialised.\n"
     ]
    },
    {
     "name": "stdout",
     "output_type": "stream",
     "text": [
      "twinews news (version 1.0) initialised.\n"
     ]
    },
    {
     "name": "stderr",
     "output_type": "stream",
     "text": [
      "serializabledict twinews-dbert-94bef_ep32 initialised.\n",
      "serializabledict twinews-dbert-94bef_ep32 initialised.\n",
      "serializabledict twinews-dbert-94bef_ep32 initialised.\n"
     ]
    },
    {
     "name": "stdout",
     "output_type": "stream",
     "text": [
      "twinews news (version 1.0) initialised.\n",
      "twinews news (version 1.0) initialised.\n",
      "twinews news (version 1.0) initialised.\n"
     ]
    },
    {
     "name": "stderr",
     "output_type": "stream",
     "text": [
      "serializabledict twinews-dbert-94bef_ep32 initialised.\n"
     ]
    },
    {
     "name": "stdout",
     "output_type": "stream",
     "text": [
      "twinews news (version 1.0) initialised.\n"
     ]
    },
    {
     "name": "stderr",
     "output_type": "stream",
     "text": [
      "serializabledict twinews-dbert-94bef_ep32 initialised.\n"
     ]
    },
    {
     "name": "stdout",
     "output_type": "stream",
     "text": [
      "twinews news (version 1.0) initialised.\n",
      "twinews news (version 1.0) initialised.\n"
     ]
    },
    {
     "name": "stderr",
     "output_type": "stream",
     "text": [
      " 56% [===========         ] (7.68s left)\n",
      "serializabledict twinews-dbert-94bef_ep32 initialised.\n"
     ]
    },
    {
     "name": "stdout",
     "output_type": "stream",
     "text": [
      "twinews news (version 1.0) initialised.\n"
     ]
    },
    {
     "name": "stderr",
     "output_type": "stream",
     "text": [
      "serializabledict twinews-dbert-94bef_ep32 initialised.\n",
      " 59% [===========         ] (7.024s left)\n"
     ]
    },
    {
     "name": "stdout",
     "output_type": "stream",
     "text": [
      "twinews news (version 1.0) initialised.\n"
     ]
    },
    {
     "name": "stderr",
     "output_type": "stream",
     "text": [
      "serializabledict twinews-dbert-94bef_ep32 initialised.\n",
      "serializabledict twinews-dbert-94bef_ep32 initialised.\n",
      "serializabledict twinews-dbert-94bef_ep32 initialised.\n",
      " 62% [============        ] (6.351s left)\n",
      "serializabledict twinews-dbert-94bef_ep32 initialised.\n"
     ]
    },
    {
     "name": "stdout",
     "output_type": "stream",
     "text": [
      "twinews news (version 1.0) initialised.\n",
      "twinews news (version 1.0) initialised.\n",
      "twinews news (version 1.0) initialised.\n"
     ]
    },
    {
     "name": "stderr",
     "output_type": "stream",
     "text": [
      "serializabledict twinews-dbert-94bef_ep32 initialised.\n"
     ]
    },
    {
     "name": "stdout",
     "output_type": "stream",
     "text": [
      "twinews news (version 1.0) initialised.\n"
     ]
    },
    {
     "name": "stderr",
     "output_type": "stream",
     "text": [
      "serializabledict twinews-dbert-94bef_ep32 initialised.\n"
     ]
    },
    {
     "name": "stdout",
     "output_type": "stream",
     "text": [
      "twinews news (version 1.0) initialised.\n",
      "twinews news (version 1.0) initialised.\n"
     ]
    },
    {
     "name": "stderr",
     "output_type": "stream",
     "text": [
      "serializabledict twinews-dbert-94bef_ep32 initialised.\n",
      " 65% [=============       ] (5.976s left)\n"
     ]
    },
    {
     "name": "stdout",
     "output_type": "stream",
     "text": [
      "twinews news (version 1.0) initialised.\n"
     ]
    },
    {
     "name": "stderr",
     "output_type": "stream",
     "text": [
      "serializabledict twinews-dbert-94bef_ep32 initialised.\n",
      " 68% [=============       ] (5.37s left)\n"
     ]
    },
    {
     "name": "stdout",
     "output_type": "stream",
     "text": [
      "twinews news (version 1.0) initialised.\n"
     ]
    },
    {
     "name": "stderr",
     "output_type": "stream",
     "text": [
      "serializabledict twinews-dbert-94bef_ep32 initialised.\n",
      "serializabledict twinews-dbert-94bef_ep32 initialised.\n",
      "serializabledict twinews-dbert-94bef_ep32 initialised.\n",
      "serializabledict twinews-dbert-94bef_ep32 initialised.\n",
      " 71% [==============      ] (4.736s left)\n"
     ]
    },
    {
     "name": "stdout",
     "output_type": "stream",
     "text": [
      "twinews news (version 1.0) initialised.\n",
      "twinews news (version 1.0) initialised.\n",
      "twinews news (version 1.0) initialised.\n"
     ]
    },
    {
     "name": "stderr",
     "output_type": "stream",
     "text": [
      "serializabledict twinews-dbert-94bef_ep32 initialised.\n"
     ]
    },
    {
     "name": "stdout",
     "output_type": "stream",
     "text": [
      "twinews news (version 1.0) initialised.\n"
     ]
    },
    {
     "name": "stderr",
     "output_type": "stream",
     "text": [
      "serializabledict twinews-dbert-94bef_ep32 initialised.\n"
     ]
    },
    {
     "name": "stdout",
     "output_type": "stream",
     "text": [
      "twinews news (version 1.0) initialised.\n",
      "twinews news (version 1.0) initialised.\n"
     ]
    },
    {
     "name": "stderr",
     "output_type": "stream",
     "text": [
      "serializabledict twinews-dbert-94bef_ep32 initialised.\n"
     ]
    },
    {
     "name": "stdout",
     "output_type": "stream",
     "text": [
      "twinews news (version 1.0) initialised.\n"
     ]
    },
    {
     "name": "stderr",
     "output_type": "stream",
     "text": [
      "serializabledict twinews-dbert-94bef_ep32 initialised.\n",
      " 74% [==============      ] (4.381s left)\n",
      " 77% [===============     ] (3.753s left)\n"
     ]
    },
    {
     "name": "stdout",
     "output_type": "stream",
     "text": [
      "twinews news (version 1.0) initialised.\n"
     ]
    },
    {
     "name": "stderr",
     "output_type": "stream",
     "text": [
      "serializabledict twinews-dbert-94bef_ep32 initialised.\n",
      "serializabledict twinews-dbert-94bef_ep32 initialised.\n",
      "serializabledict twinews-dbert-94bef_ep32 initialised.\n",
      "serializabledict twinews-dbert-94bef_ep32 initialised.\n"
     ]
    },
    {
     "name": "stdout",
     "output_type": "stream",
     "text": [
      "twinews news (version 1.0) initialised.\n",
      "twinews news (version 1.0) initialised.\n",
      "twinews news (version 1.0) initialised.\n"
     ]
    },
    {
     "name": "stderr",
     "output_type": "stream",
     "text": [
      "serializabledict twinews-dbert-94bef_ep32 initialised.\n"
     ]
    },
    {
     "name": "stdout",
     "output_type": "stream",
     "text": [
      "twinews news (version 1.0) initialised.\n"
     ]
    },
    {
     "name": "stderr",
     "output_type": "stream",
     "text": [
      "serializabledict twinews-dbert-94bef_ep32 initialised.\n"
     ]
    },
    {
     "name": "stdout",
     "output_type": "stream",
     "text": [
      "twinews news (version 1.0) initialised.\n",
      "twinews news (version 1.0) initialised.\n"
     ]
    },
    {
     "name": "stderr",
     "output_type": "stream",
     "text": [
      " 80% [================    ] (3.306s left)\n",
      "serializabledict twinews-dbert-94bef_ep32 initialised.\n"
     ]
    },
    {
     "name": "stdout",
     "output_type": "stream",
     "text": [
      "twinews news (version 1.0) initialised.\n"
     ]
    },
    {
     "name": "stderr",
     "output_type": "stream",
     "text": [
      "serializabledict twinews-dbert-94bef_ep32 initialised.\n",
      " 83% [================    ] (2.796s left)\n"
     ]
    },
    {
     "name": "stdout",
     "output_type": "stream",
     "text": [
      "twinews news (version 1.0) initialised.\n"
     ]
    },
    {
     "name": "stderr",
     "output_type": "stream",
     "text": [
      "serializabledict twinews-dbert-94bef_ep32 initialised.\n",
      "serializabledict twinews-dbert-94bef_ep32 initialised.\n",
      "serializabledict twinews-dbert-94bef_ep32 initialised.\n",
      " 86% [=================   ] (2.252s left)\n"
     ]
    },
    {
     "name": "stdout",
     "output_type": "stream",
     "text": [
      "twinews news (version 1.0) initialised.\n"
     ]
    },
    {
     "name": "stderr",
     "output_type": "stream",
     "text": [
      "serializabledict twinews-dbert-94bef_ep32 initialised.\n"
     ]
    },
    {
     "name": "stdout",
     "output_type": "stream",
     "text": [
      "twinews news (version 1.0) initialised.\n",
      "twinews news (version 1.0) initialised.\n"
     ]
    },
    {
     "name": "stderr",
     "output_type": "stream",
     "text": [
      "serializabledict twinews-dbert-94bef_ep32 initialised.\n",
      "serializabledict twinews-dbert-94bef_ep32 initialised.\n"
     ]
    },
    {
     "name": "stdout",
     "output_type": "stream",
     "text": [
      "twinews news (version 1.0) initialised.\n",
      "twinews news (version 1.0) initialised.\n",
      "twinews news (version 1.0) initialised.\n"
     ]
    },
    {
     "name": "stderr",
     "output_type": "stream",
     "text": [
      "serializabledict twinews-dbert-94bef_ep32 initialised.\n",
      " 89% [=================   ] (1.812s left)\n"
     ]
    },
    {
     "name": "stdout",
     "output_type": "stream",
     "text": [
      "twinews news (version 1.0) initialised.\n"
     ]
    },
    {
     "name": "stderr",
     "output_type": "stream",
     "text": [
      "serializabledict twinews-dbert-94bef_ep32 initialised.\n",
      " 92% [==================  ] (1.299s left)\n"
     ]
    },
    {
     "name": "stdout",
     "output_type": "stream",
     "text": [
      "twinews news (version 1.0) initialised.\n"
     ]
    },
    {
     "name": "stderr",
     "output_type": "stream",
     "text": [
      "serializabledict twinews-dbert-94bef_ep32 initialised.\n",
      "serializabledict twinews-dbert-94bef_ep32 initialised.\n",
      "serializabledict twinews-dbert-94bef_ep32 initialised.\n",
      " 95% [=================== ] (0.795s left)\n"
     ]
    },
    {
     "name": "stdout",
     "output_type": "stream",
     "text": [
      "twinews news (version 1.0) initialised.\n",
      "twinews news (version 1.0) initialised.\n",
      "twinews news (version 1.0) initialised.\n"
     ]
    },
    {
     "name": "stderr",
     "output_type": "stream",
     "text": [
      " 98% [=================== ] (0.33s left)\n",
      "100% [====================] (total duration: 16.52s, mean duration: 0.163s)\n"
     ]
    }
   ],
   "source": [
    "urlsVectors = dict()\n",
    "for url, vector in mli:\n",
    "    urlsVectors[url] = vector"
   ]
  },
  {
   "cell_type": "code",
   "execution_count": 24,
   "metadata": {
    "scrolled": true
   },
   "outputs": [
    {
     "name": "stderr",
     "output_type": "stream",
     "text": [
      "{\n",
      "  http://a.msn.com/01/en-ie/BBHzIAS?ocid=st: [-8.46303463e-01 -2.66490638e-01  5.78416169e-01 -4.38786149e-01\n",
      "    1.10970819e+00  1.19784212e+00  6.91489100e-01  2.85046875e-01\n",
      "    2.11473122e-01 -1.82770282e-01 -1.36968708e+00 -4.53171790e-01\n",
      "   -5.14011681e-01  8.22794557e-01  1.05704948e-01 -1.58570781e-02\n",
      "    1.38759464e-01  3.88196021e-01  2.89313853e-01  4.99396205e-01\n",
      "    2.29227722e-01  2.20747143e-01  3.05369467e-01 -6.90034389e-01\n",
      "    6.25108480e-01  3.21680427e-01 -2.69037992e-01 -6.97937012e-01\n",
      "    6.06300294e-01  2.30082631e-01  8.63310397e-01  1.77334309e+00\n",
      "   -8.30943108e-01 -4.43621278e-02 -8.46084878e-02  4.88524318e-01\n",
      "   -2.16439605e-01  3.46250474e-01 -2.54007876e-01  3.76045167e-01\n",
      "   -4.62324321e-01 -8.00523996e-01 -2.22775340e-03  3.42337489e-01\n",
      "   -4.67716336e-01  1.37141913e-01 -3.95035863e-01  6.27287030e-01\n",
      "   -4.83058393e-01  9.81158853e-01  1.88732326e-01  6.79129243e-01\n",
      "    5.61174154e-01  3.80510479e-01 -1.36917233e-02  1.40710676e+00\n",
      "    4.31657463e-01 -8.43468189e-01 -4.40238774e-01 -6.14488497e-02\n",
      "    6.54260218e-01 -7.34873772e-01 -1.86134934e-01  7.19554946e-02\n",
      "   -9.57772315e-01 -4.50562835e-02 -1.97954595e-01  1.08894134e+00\n",
      "    5.13327956e-01 -7.04936147e-01 -4.00370657e-01  1.05731249e+00\n",
      "   -1.34926844e+00  5.70939779e-01 -2.83329785e-01 -1.79449528e-01\n",
      "   -3.92472237e-01  3.43775392e-01 -1.70878887e-01 -8.01823020e-01\n",
      "    2.48136371e-01 -2.87441880e-01 -3.60705614e-01  5.09874642e-01\n",
      "    4.04397130e-01 -1.21561599e+00  4.53425378e-01  4.67374086e-01\n",
      "   -4.29605782e-01  3.09470832e-01  4.21893150e-01 -1.08073556e+00\n",
      "    7.96721458e-01  9.67082858e-01  6.22754335e-01  1.10670137e+00\n",
      "    1.95147283e-02 -2.50495285e-01 -1.67992651e-01  3.91112417e-01\n",
      "   -4.91418272e-01 -6.47906661e-01  9.05777812e-02  3.43521297e-01\n",
      "   -3.49387169e-01  2.31280863e-01 -2.90844440e-01 -2.53185928e-01\n",
      "   -5.25723696e-01  1.05769277e+00 -1.02547765e+00 -7.44832277e-01\n",
      "    6.63164496e-01 -3.67155552e-01 -3.56232107e-01 -1.14488494e+00\n",
      "    7.06125498e-01 -1.56831944e+00  5.96666455e-01  4.17783439e-01\n",
      "    2.30917633e-02 -2.94276893e-01 -2.07571939e-01  2.78926611e-01\n",
      "    8.63840938e-01 -8.64529848e-01 -4.79217619e-01  1.04883242e+00\n",
      "   -5.59393883e-01 -3.51895541e-01 -9.51058269e-02  2.24214002e-01\n",
      "   -2.26729348e-01 -7.08114028e-01  5.11603057e-03 -1.38710403e+00\n",
      "    8.38305354e-02 -4.69364673e-01 -1.67185679e-01  3.86961341e-01\n",
      "   -6.39204621e-01 -5.70686340e-01 -3.11428607e-01  1.09397912e+00\n",
      "    8.71393800e-01  3.44687790e-01 -5.91811955e-01 -1.54263303e-01\n",
      "   -7.42310524e-01  6.04197979e-01  6.89917564e-01 -1.11542344e+00\n",
      "   -4.69938874e-01  1.10845757e+00 -1.25039726e-01  2.43197948e-01\n",
      "   -2.42284581e-01  4.42368656e-01 -1.22663891e+00  1.67464316e-02\n",
      "    5.03290415e-01  1.23500839e-01 -1.47323549e-01 -2.76072592e-01\n",
      "    8.60704303e-01  1.40506744e-01  2.91224569e-03  5.55804193e-01\n",
      "   -1.50716409e-01  2.74649188e-02  2.87361503e-01 -1.38530564e+00\n",
      "    1.18552685e-01  1.49326012e-01 -3.67056906e-01 -1.45400614e-01\n",
      "    8.40966702e-01  6.22134209e-02 -2.78006077e-01  4.16632146e-01\n",
      "   -1.89711118e+00  3.56352985e-01 -6.27807379e-01 -1.65717483e-01\n",
      "    1.02940297e+00 -6.04174286e-02 -2.91230381e-01  1.28689587e-01\n",
      "    2.89875567e-01  5.34801722e-01 -4.44367051e-01 -2.88294345e-01\n",
      "   -8.63083452e-02 -8.79277706e-01 -9.94287252e-01 -7.06416786e-01\n",
      "    3.09448659e-01 -3.96503955e-02  3.06511670e-01  9.98499870e-01\n",
      "    2.08807305e-01 -4.83583927e-01  1.59098077e+00  3.58213902e-01\n",
      "    4.29290012e-02  3.38882089e-01  9.77284670e-01 -1.90553635e-01\n",
      "    5.63100457e-01  1.13460553e+00 -1.62558055e+00  2.49862641e-01\n",
      "    7.47127980e-02  6.33468926e-01 -6.97595179e-01  2.77559519e-01\n",
      "    3.65662202e-02 -1.21238756e+00  1.82355726e+00 -7.24023104e-01\n",
      "   -1.99616492e-01  2.51234949e-01 -2.16849521e-01  1.79752514e-01\n",
      "    1.64644733e-01  7.64039993e-01  5.36591232e-01  6.07420087e-01\n",
      "   -4.60662395e-02  2.78722942e-01  3.07211578e-01 -2.02619582e-01\n",
      "    3.37728679e-01  2.18875945e-01  4.33258772e-01 -6.46318793e-01\n",
      "   -1.34019345e-01 -9.13256407e-03  1.70776352e-01 -4.10706520e-01\n",
      "   -7.18238354e-02  1.10549581e+00 -3.55715007e-01  6.27740026e-02\n",
      "   -3.52601409e-01 -7.95004845e-01 -3.45166534e-01 -1.98905133e-02\n",
      "   -9.18582678e-01 -5.73735774e-01  8.82329047e-01  5.28614461e-01\n",
      "   -4.14001524e-01 -3.03150505e-01  2.38025561e-01 -1.98597580e-01\n",
      "    2.90155053e-01 -3.03578794e-01  7.65337884e-01  1.21936679e+00\n",
      "   -1.05922639e-01 -8.39066982e-01  2.45587677e-01 -1.65197298e-01\n",
      "   -1.07015657e+00 -1.24401748e+00  4.63258266e-01 -7.43013263e-01\n",
      "   -1.69763669e-01 -4.04831648e-01  1.32309985e+00 -8.39460790e-02\n",
      "    4.25523296e-02  5.91656923e-01 -3.69658202e-01  3.77529263e-01\n",
      "   -2.68923163e-01  1.62359416e-01 -6.29562855e-01 -3.49760234e-01\n",
      "    2.36578926e-01  4.41245198e-01 -5.72038829e-01 -7.25182354e-01\n",
      "    5.89240730e-01  3.82959962e-01  3.44937563e-01 -2.58660257e-01\n",
      "   -4.38631713e-01  1.98156759e-01 -6.14809021e-02  1.61407694e-01\n",
      "    2.32427716e-01 -9.08947587e-01  1.48223615e+00 -6.24087080e-02\n",
      "   -2.32599676e-03  1.35942653e-01 -2.45759472e-01 -1.69765741e-01\n",
      "   -1.55367240e-01  6.48291945e-01 -3.96241248e-01  3.67912114e-01\n",
      "    9.91289690e-02 -4.54887152e-01  4.64239120e-02 -2.92370439e-01\n",
      "   -5.37207127e-01  7.66570330e-01  7.10176408e-01 -8.84960711e-01\n",
      "   -3.32319677e-01 -4.50875103e-01  8.46946537e-01  4.90243345e-01\n",
      "   -6.97202802e-01 -2.41165802e-01  2.07812816e-01 -1.82218865e-01\n",
      "    2.38031149e-04  3.82093549e-01  2.77951717e-01 -2.13687152e-01\n",
      "    1.65308312e-01 -5.17464221e-01 -3.22685987e-01  6.49748147e-01\n",
      "    6.51580542e-02  6.45427108e-02 -4.11346197e-01  6.58567905e-01\n",
      "    1.61834776e-01 -2.64021873e-01 -1.40715981e+00 -5.28903127e-01\n",
      "    2.46757865e-02  3.83917540e-01  2.01593935e-01 -5.77300787e-01\n",
      "   -4.58490014e-01 -5.60133159e-01 -2.59045094e-01  5.53658545e-01\n",
      "   -4.88655686e-01 -3.56511146e-01 -2.52592087e-01 -1.38666153e+00\n",
      "    2.97215909e-01 -1.16052413e+00 -8.22146237e-01 -2.85319448e-01\n",
      "    9.24787879e-01 -1.30604482e+00  5.33984363e-01 -8.39068145e-02\n",
      "   -1.02353287e+00 -1.10134929e-01  2.97796458e-01 -6.03807569e-01\n",
      "    8.96027327e-01  6.09275401e-02  6.81791782e-01  1.21244454e+00\n",
      "    3.51696104e-01 -5.99655628e-01 -3.17812204e-01 -1.72794193e-01\n",
      "    1.29709885e-01 -4.94246572e-01 -3.31959337e-01 -1.61336815e+00\n",
      "   -4.74936187e-01  4.21683669e-01 -1.14784133e+00 -8.26312006e-01\n",
      "   -5.56345046e-01 -3.07440996e-01 -1.31306219e+00  3.32445920e-01\n",
      "    3.68366420e-01 -3.53768617e-01  2.28001684e-01 -1.15916336e+00\n",
      "    1.02766484e-01  1.51272014e-01 -8.54368415e-03 -4.47158754e-01\n",
      "   -6.34321511e-01 -3.17038774e-01  3.18321884e-01  3.13669980e-01\n",
      "   -4.42924201e-01  3.21037695e-03 -1.38858229e-01 -1.07717919e+00\n",
      "   -3.42332423e-01  4.59764183e-01  1.08319640e+00 -1.38087010e+00\n",
      "   -2.73236543e-01  5.53560615e-01  4.49753135e-01  3.99680853e-01\n",
      "   -4.27532405e-01 -3.54032367e-02  3.19047570e-01 -8.68958831e-02\n",
      "    5.02396345e-01 -5.15931129e-01 -8.18178177e-01  6.05400085e-01\n",
      "   -1.11681962e+00  5.82979083e-01  2.14784086e-01 -3.26882094e-01\n",
      "   -2.02217206e-01 -1.20246315e+00  3.08012962e-01 -4.13042188e-01\n",
      "   -5.97508192e-01  7.48867154e-01 -3.14762652e-01 -7.06890285e-01\n",
      "    7.43075609e-01  1.59871399e-01  1.47799206e+00 -1.68505383e+00\n",
      "   -8.27971578e-01 -2.48734221e-01 -8.65598083e-01  1.10012734e+00\n",
      "    3.98004174e-01 -5.73970020e-01 -1.13660741e+00  1.37882864e+00\n",
      "    3.49744827e-01 -1.99634582e-01  2.82764435e-01  1.98333964e-01\n",
      "    3.91349226e-01  7.91724205e-01 -1.77978054e-02  8.64214063e-01\n",
      "    2.74998814e-01 -1.07444596e+00 -6.37337983e-01 -9.51531827e-02\n",
      "   -4.78852332e-01  4.47867990e-01  3.92415226e-01 -7.34625220e-01\n",
      "   -7.18563318e-01 -4.38622147e-01 -1.59137607e-01  1.01832795e+00\n",
      "   -6.19257569e-01  3.29172164e-02 -1.94753975e-01 -1.77803826e+00\n",
      "    7.13051558e-02 -6.14783645e-01 -1.47744715e-01  3.07539850e-01\n",
      "    2.57390141e-01  4.28875864e-01  1.16980731e+00 -1.55471623e-01\n",
      "    4.22277808e-01 -3.90923917e-01 -4.21762228e-01  6.52305260e-02\n",
      "   -3.58675778e-01  1.43084049e+00 -4.09096479e-04  1.55886710e-02\n",
      "    6.37578785e-01 -7.42148340e-01 -5.45503139e-01 -5.27956665e-01\n",
      "   -4.72214043e-01  2.58801103e-01 -7.25332022e-01 -9.90246460e-02\n",
      "   -5.73483929e-02  2.92501360e-01  6.57988548e-01  1.17562568e+00\n",
      "   -3.23106974e-01 -5.54911457e-02 -1.64538217e+00 -1.29985690e-01\n",
      "   -4.21284810e-02 -1.53066158e-01 -3.95051055e-02 -8.05147052e-01\n",
      "    1.94601253e-01 -3.68551426e-02  3.10591832e-02  1.20772576e+00\n",
      "   -2.49055892e-01  2.29664445e-01  3.63251209e-01 -1.34199023e+00\n",
      "   -3.59485447e-01  3.23251843e-01  9.35764194e-01 -4.38049555e-01\n",
      "   -6.89450800e-01  2.40235493e-01  7.05145359e-01  3.81661132e-02\n",
      "   -2.33587012e-01 -7.36756325e-02  1.18822895e-01  7.45934665e-01\n",
      "   -2.27010712e-01  8.68661776e-02 -1.78043842e-02 -5.00647128e-01\n",
      "   -1.46829820e+00  3.47932905e-01  7.53942072e-01 -5.47060788e-01\n",
      "   -1.70937330e-02 -1.33687317e-01 -2.21775919e-01 -3.33793402e-01\n",
      "    5.32626867e-01  4.78378057e-01  5.61515749e-01  8.92505273e-02\n",
      "    5.22116065e-01 -4.04699326e-01  7.61091530e-01  9.91625637e-02\n",
      "    7.35490322e-01 -1.36629015e-01 -2.77183264e-01  7.85258830e-01\n",
      "   -3.31227064e-01  1.98905066e-01 -5.23579717e-02  8.38670492e-01\n",
      "   -6.52107477e-01 -9.49288905e-01 -7.01993227e-01  6.23123527e-01\n",
      "   -5.52521348e-02 -1.78129017e-01 -5.12350202e-01 -8.21028590e-01\n",
      "   -7.27110445e-01  1.82631820e-01  9.39105451e-03 -5.23023188e-01\n",
      "   -2.10602790e-01  1.79466158e-01 -3.36973935e-01  6.44923031e-01\n",
      "   -6.73551500e-01  1.01306033e+00 -2.25073442e-01 -5.05596578e-01\n",
      "    9.76026773e-01  3.73907506e-01 -8.97911191e-01 -9.70824718e-01\n",
      "   -1.38419509e-01 -4.78546262e-01 -9.80198801e-01  1.88216895e-01\n",
      "    2.65102327e-01  9.66228098e-02  6.45424873e-02 -6.27528429e-02\n",
      "   -1.78320438e-01 -3.62825304e-01  1.43281865e+00 -5.70694029e-01\n",
      "    5.58209598e-01  4.12894070e-01  2.45242655e-01  3.49413872e-01\n",
      "   -1.96403325e-01  2.34575599e-01 -1.25133514e+00  2.30316520e-02\n",
      "    2.16737092e-02 -6.41007423e-01  2.23453879e-01 -3.10969114e-01\n",
      "    1.00868523e+00 -2.41395399e-01 -9.09450054e-02 -1.28425866e-01\n",
      "    5.00438094e-01 -2.53299251e-02 -9.19736981e-01  4.60724771e-01\n",
      "    1.34035517e-02 -2.75177777e-01  4.48406309e-01 -1.64755404e-01\n",
      "    5.37301064e-01 -9.59058553e-02  7.80175924e-01  1.49441049e-01\n",
      "    8.64817500e-01  4.10997391e-01  4.23224956e-01  5.76126456e-01\n",
      "    3.91207278e-01  4.56288517e-01 -6.89506382e-02 -5.36376476e-01\n",
      "   -6.75592661e-01  2.56655335e-01  3.03090513e-01 -7.37238228e-02\n",
      "    6.70864463e-01  3.35611343e-01 -1.57325447e-01  6.05250895e-01\n",
      "    5.39833724e-01 -3.91279697e-01 -2.68230200e-01  5.47671735e-01\n",
      "    9.52814341e-01  3.22863519e-01  7.86601603e-01 -8.48327950e-03\n",
      "    2.16236725e-01  1.59534752e-01  2.78127670e-01  1.24352884e+00\n",
      "    2.93481261e-01  1.76179320e-01 -5.15306532e-01 -4.31983829e-01\n",
      "   -6.05068803e-02  9.46072042e-01 -1.02949429e+00  4.66020823e-01\n",
      "    1.40477046e-01 -1.41570687e-01 -9.78183508e-01  5.43943286e-01\n",
      "   -5.98065197e-01  5.42428195e-02 -3.34507316e-01  2.92398781e-02\n",
      "    5.98699450e-01  3.68117660e-01 -9.06614512e-02  4.06984627e-01\n",
      "    2.62320518e-01  3.81862342e-01 -5.43010950e-01  5.42353451e-01\n",
      "   -4.76571441e-01 -1.93354458e-01  1.63489044e-01 -1.29399687e-01\n",
      "    5.12223691e-02 -1.17876005e+00 -8.49149674e-02  1.56330213e-01\n",
      "   -8.05256903e-01  1.62160563e+00  1.03148890e+00 -2.43464410e-01\n",
      "   -1.00020993e+00 -3.01105708e-01 -3.37946147e-01 -2.51034856e-01\n",
      "    6.11494839e-01 -1.21876620e-01  2.74159014e-01  6.42500639e-01\n",
      "   -4.45655435e-01  2.64111578e-01  1.31260520e-02 -1.07072401e+00\n",
      "    3.21051896e-01  4.71443623e-01 -8.18858027e-01  1.93093181e-01\n",
      "   -9.86943841e-01 -3.81209701e-02 -1.26258528e+00 -1.25583005e+00\n",
      "   -7.41454363e-01 -7.23214209e-01 -6.67598367e-01 -1.17183316e+00\n",
      "   -1.87667102e-01  1.15371346e-02 -1.00994885e-01  2.20715106e-01\n",
      "    3.77097785e-01 -7.18323469e-01 -9.45177972e-01 -4.42323327e-01\n",
      "    5.58619142e-01  2.33523279e-01 -4.62382793e-01  2.51345187e-01\n",
      "    1.87538385e+00 -3.10109317e-01  1.10036701e-01 -5.60749173e-02\n",
      "   -2.82883793e-01 -3.99465621e-01 -2.38157392e-01  1.93930179e-01\n",
      "    9.56624746e-02  1.28849649e+00  2.35873729e-01 -9.78173137e-01\n",
      "   -5.71016788e-01  9.12642837e-01 -1.48399544e+00  5.67609787e-01\n",
      "    1.04192698e+00  2.08666414e-01  5.72564304e-01  1.98009133e-01\n",
      "    5.18495589e-02 -5.14450669e-02  4.51639086e-01 -3.62189770e-01\n",
      "   -2.63121188e-01  2.32939273e-02 -2.86628604e-01  7.58703232e-01\n",
      "    4.85114932e-01  6.01460934e-01 -2.51610100e-01  2.67548203e-01\n",
      "   -2.18774056e+00  8.29779863e-01 -3.21601301e-01 -5.40554821e-01\n",
      "   -1.37630373e-01 -2.20509887e-01 -5.69056094e-01  2.22582549e-01\n",
      "   -2.91456252e-01  4.79000032e-01 -2.54193008e-01 -5.28298497e-01\n",
      "    1.18035722e+00  7.52080977e-01  5.08121669e-01 -1.53888798e+00\n",
      "   -1.40394354e+00  1.19191158e+00  5.36736310e-01  2.09723592e-01\n",
      "   -1.22583829e-01 -6.93000913e-01  3.41801405e-01  3.51660550e-01\n",
      "    1.54516667e-01 -5.78853130e-01 -4.38030183e-01  2.42963463e-01],\n",
      "  http://a.msn.com/06/en-us/BBH7EiO?ocid=st: [-7.96569884e-01 -1.35805154e+00  1.90925300e-02 -7.41506815e-01\n",
      "    8.37328553e-01  2.29726836e-01  7.05673873e-01 -3.53428096e-01\n",
      "    4.87139344e-01  2.29908109e-01 -8.77714038e-01 -7.91371912e-02\n",
      "   -4.99581724e-01 -7.01665998e-01  6.91257417e-01  1.22936666e-01\n",
      "    8.88310790e-01  6.23319685e-01  4.63500738e-01  1.48658454e-01\n",
      "    1.25057936e-01  4.42572683e-02 -2.63770610e-01 -3.19403112e-02\n",
      "    2.88855076e-01  4.31590766e-01 -1.53122947e-01 -4.93467748e-01\n",
      "    2.66097188e-01  1.12501353e-01  6.56265855e-01  7.25580335e-01\n",
      "   -1.81602448e-01 -5.19814610e-01 -2.08742812e-01  3.15042555e-01\n",
      "   -1.61497325e-01 -8.83630216e-02  1.34671137e-01  7.77802527e-01\n",
      "   -6.41017735e-01 -9.94361758e-01  1.37565777e-01  1.96097091e-01\n",
      "    2.13200122e-01 -4.34745610e-01 -9.59956765e-01 -3.03880684e-02\n",
      "   -4.98601258e-01  2.44752467e-02 -1.28485307e-01  9.37952161e-01\n",
      "    8.81083012e-01  2.11262554e-01 -2.97106206e-02  9.15851116e-01\n",
      "    2.07945719e-01 -9.19924676e-01  2.20310658e-01 -4.02855545e-01\n",
      "   -3.71228158e-01 -2.07396507e-01 -6.15971684e-01 -5.25853097e-01\n",
      "   -2.73174047e-03  5.56044459e-01  8.95624086e-02  4.54681098e-01\n",
      "    1.79661945e-01 -3.53431404e-01  5.78900635e-01  1.38276315e+00\n",
      "   -9.53364730e-01  6.11205459e-01 -3.70694101e-01 -1.44552618e-01\n",
      "   -8.86860907e-01 -1.41882300e-02  7.96624959e-01 -3.30003113e-01\n",
      "    4.21531200e-02 -2.84885138e-01  1.00341690e+00  2.91882426e-01\n",
      "   -5.60301304e-01 -1.84583217e-01  5.97036123e-01  8.89649153e-01\n",
      "   -2.47183383e-01  2.52639621e-01 -2.90674031e-01 -4.47192818e-01\n",
      "    1.33784115e+00  1.28858972e+00 -3.82064402e-01  2.34381631e-01\n",
      "   -1.52090788e-01  5.32250464e-01  5.08196354e-01 -4.07194644e-02\n",
      "   -3.11756849e-01 -5.86905241e-01 -1.96781337e-01  1.25922039e-01\n",
      "   -5.71542203e-01 -3.76423955e-01 -4.67570454e-01 -3.00426006e-01\n",
      "    1.05507970e-01  8.66019607e-01 -1.38148165e+00 -8.97246599e-02\n",
      "    9.53681171e-02 -4.50081915e-01 -1.44092977e+00 -8.68830681e-01\n",
      "    2.50641227e-01 -1.16171443e+00 -7.76530027e-01 -3.47685486e-01\n",
      "    1.02141522e-01 -4.47037965e-02  4.46592420e-02  1.03417540e+00\n",
      "    2.27450147e-01 -6.21640742e-01 -7.50270367e-01  1.12940979e+00\n",
      "    2.42319703e-01  7.85844550e-02 -6.66274667e-01 -2.33577564e-01\n",
      "   -7.62663484e-01 -4.86542165e-01 -3.53400022e-01 -2.78243482e-01\n",
      "    1.53979018e-01 -3.61626238e-01  2.95085549e-01  6.63179994e-01\n",
      "   -6.23353481e-01  1.20089978e-01  4.13494259e-01  1.08618355e+00\n",
      "    1.68738455e-01  1.95089445e-01 -3.47548634e-01 -3.65028560e-01\n",
      "   -2.56655395e-01  7.60801971e-01  1.17988145e+00 -5.91636062e-01\n",
      "   -3.71281207e-01  5.40181756e-01  3.36052299e-01  3.40486586e-01\n",
      "   -1.38494229e+00 -1.70217678e-01 -4.47790444e-01 -6.70639992e-01\n",
      "    1.53204843e-01  5.78722298e-01 -5.60359776e-01 -6.01330698e-01\n",
      "    7.61902571e-01  1.39913097e-01 -1.14713721e-01  8.13203394e-01\n",
      "   -3.11344445e-01 -7.55970329e-02  4.38112795e-01 -1.28233045e-01\n",
      "   -9.31455716e-02  1.80374980e-01  3.69229496e-01 -2.97731087e-02\n",
      "    2.55670011e-01 -5.64993620e-01 -5.26002228e-01  5.65943956e-01\n",
      "   -2.58354497e+00  8.85439754e-01  1.51390642e-01 -2.53519565e-02\n",
      "    9.58101153e-02 -1.09252012e+00 -1.11566104e-01 -1.83918074e-01\n",
      "    6.06200814e-01  5.43827415e-01 -2.04788879e-01 -2.02901259e-01\n",
      "   -4.30861890e-01  9.02131349e-02  2.53888667e-01 -6.36438668e-01\n",
      "   -1.78319335e-01  4.46155459e-01  1.06346977e+00  4.02737826e-01\n",
      "    4.14041132e-01 -5.55172563e-01  2.26330608e-01  5.16091824e-01\n",
      "    4.51067984e-01  6.88122958e-02 -3.14363301e-01 -3.60371210e-02\n",
      "    8.22037339e-01  3.97435695e-01 -3.45122993e-01  9.56550464e-02\n",
      "    1.01308489e+00  1.89281061e-01 -2.98137516e-02  4.70711589e-01\n",
      "    4.62467462e-01 -3.78878593e-01  1.99808919e+00 -5.14997780e-01\n",
      "   -4.36132997e-01  4.52150017e-01 -6.30598813e-02  4.19403702e-01\n",
      "    3.59239876e-01  8.42418253e-01  6.27490938e-01 -7.34104097e-01\n",
      "   -5.21459758e-01  1.47419035e-01  3.74018908e-01 -6.47326887e-01\n",
      "    5.68734586e-01  8.56881589e-02  5.70296645e-01  1.46053463e-01\n",
      "    7.77532578e-01  4.12717104e-01  4.10749346e-01 -9.89019156e-01\n",
      "    5.22571385e-01  7.42779255e-01  3.84062469e-01  1.89393491e-01\n",
      "    4.10122052e-02 -4.76329118e-01 -1.04134634e-01 -5.97517967e-01\n",
      "   -1.11620665e+00 -1.16496539e+00  4.72794712e-01 -4.43761438e-01\n",
      "    4.85427856e-01  4.40675437e-01  9.73519444e-01 -6.78657115e-01\n",
      "   -9.10193175e-02  1.66081235e-01  1.56583369e-01  7.85185456e-01\n",
      "    2.86702961e-02  5.48899770e-02  1.05079189e-02 -1.81515306e-01\n",
      "   -6.63403034e-01 -1.49899101e+00 -6.20692253e-01 -5.09498119e-02\n",
      "    8.93884152e-02 -1.74171850e-01  5.48783004e-01  1.12788796e-01\n",
      "   -5.38123965e-01  1.95465818e-01 -5.15284598e-01  7.38915682e-01\n",
      "   -1.05817604e+00 -1.32227406e-01 -1.68307900e-01 -1.11053884e+00\n",
      "    4.08127725e-01  2.35068560e-01 -4.21268106e-01 -1.61057377e+00\n",
      "    9.97627139e-01 -3.69489044e-01 -7.58505240e-02 -6.22998774e-01\n",
      "   -1.10793281e+00 -1.90545321e-02 -3.08750987e-01  6.31424189e-02\n",
      "    2.48061597e-01 -1.71406955e-01  8.50051522e-01  1.25971317e-01\n",
      "    1.39312059e-01  4.88869190e-01 -6.80752039e-01  2.21653372e-01\n",
      "    2.36817837e-01  2.86525667e-01 -5.04561007e-01 -5.39151579e-03\n",
      "   -7.44816422e-01 -5.44937313e-01  4.65845525e-01 -1.36171684e-01\n",
      "   -1.04488385e+00  5.22331834e-01 -1.85460240e-01 -2.70282149e-01\n",
      "   -2.94183850e-01 -8.29971313e-01  5.92433155e-01  3.53640437e-01\n",
      "   -4.76158768e-01  4.08919364e-01 -8.40419173e-01  1.40356690e-01\n",
      "    4.57411259e-01 -7.03713596e-02  6.32668793e-01 -3.27524811e-01\n",
      "    7.06467927e-02 -1.25868350e-01 -5.27519345e-01  5.83442032e-01\n",
      "    1.54709876e-01 -3.24062407e-01 -5.97337604e-01  2.26720303e-01\n",
      "   -4.25391883e-01 -9.86242741e-02 -4.55668658e-01  3.71046692e-01\n",
      "    4.45340633e-01  2.79487818e-02  1.35473892e-01  3.93327713e-01\n",
      "    3.34885150e-01 -5.98143600e-03 -2.82067537e-01 -8.58956575e-02\n",
      "   -7.84642696e-01 -6.07451081e-01  5.38213253e-01  1.69619024e-02\n",
      "   -5.86345911e-01 -3.84915054e-01 -8.41422319e-01 -4.46174532e-01\n",
      "    9.35806274e-01 -8.94672394e-01  2.42517829e-01 -1.26705611e+00\n",
      "   -6.72825813e-01 -6.08176351e-01  4.82533634e-01  6.95781559e-02\n",
      "    9.17365074e-01 -5.09841293e-02  1.01931262e+00  7.84675956e-01\n",
      "   -5.63631058e-01 -4.32571888e-01  1.00806162e-01  2.43857637e-01\n",
      "   -1.62720084e-02 -4.08992946e-01 -7.68978715e-01 -1.28319204e+00\n",
      "   -4.92802441e-01  6.67508483e-01  1.19359620e-01  1.61106810e-01\n",
      "   -4.91575807e-01  3.03639919e-01 -1.18322802e+00  5.49811125e-01\n",
      "    8.24596524e-01  8.84263292e-02  3.19938719e-01 -4.66548681e-01\n",
      "   -2.55948573e-01 -8.62163067e-01 -3.58345836e-01  1.09013200e-01\n",
      "   -1.25205278e-01 -6.29058301e-01 -9.86071527e-02  4.35316861e-01\n",
      "   -4.86758977e-01 -3.87293965e-01 -6.15506768e-01 -9.76655900e-01\n",
      "    5.47157526e-02 -5.16492903e-01  1.15081418e+00 -2.27449656e-01\n",
      "   -5.01445293e-01  1.76463604e-01  7.80854002e-02  1.25337005e+00\n",
      "   -6.17432952e-01 -2.71950454e-01 -1.81573004e-01 -3.02742124e-01\n",
      "    2.75154412e-01 -3.24142873e-01 -4.86746341e-01 -1.82467550e-01\n",
      "   -3.99067909e-01 -4.36182916e-01 -1.50935978e-01  4.40370679e-01\n",
      "    8.63471031e-02 -1.10135555e+00  2.51214355e-01  1.10261351e-01\n",
      "   -1.20399749e+00 -4.17513937e-01  6.03210807e-01 -3.08117241e-01\n",
      "   -1.20854571e-01 -6.07306600e-01  2.06827819e-02 -1.35430884e+00\n",
      "   -8.31773102e-01  3.80363941e-01 -1.19062746e+00  3.36775243e-01\n",
      "   -3.95394206e-01  4.06426996e-01 -1.64646471e+00  4.77766037e-01\n",
      "    2.42975309e-01  2.42934048e-01  3.95623505e-01 -1.01938516e-01\n",
      "    1.40736294e+00  2.55676389e-01  2.66654193e-01  6.86134815e-01\n",
      "   -1.05981469e-01 -1.89141226e+00 -1.21779084e+00 -6.21585071e-01\n",
      "   -1.04284787e+00  1.98348731e-01  5.79033613e-01 -6.57719016e-01\n",
      "   -5.09262681e-01 -7.14018792e-02  2.27971405e-01  1.54166192e-01\n",
      "   -5.16791642e-01  8.11439902e-02 -4.12000537e-01 -5.52272916e-01\n",
      "   -2.56526358e-02 -4.91167232e-02 -7.86388516e-01  2.77972877e-01\n",
      "    5.63048363e-01  5.80873668e-01  1.08828855e+00 -2.69962847e-02\n",
      "    7.97702253e-01 -8.54581118e-01 -7.50696659e-01  3.59973103e-01\n",
      "   -8.43419492e-01  1.80542767e+00  7.32980013e-01  5.81686080e-01\n",
      "    8.27157348e-02  2.72110105e-04 -5.75061738e-01 -4.63922977e-01\n",
      "    4.64232564e-01  9.80284661e-02  5.43740243e-02 -3.80126476e-01\n",
      "   -8.36296916e-01 -7.07053006e-01  8.20772201e-02  1.48837435e+00\n",
      "   -1.00426689e-01  6.01062179e-03 -1.10097933e+00  5.58431923e-01\n",
      "    1.59283742e-01 -3.02024186e-01 -5.32895625e-01 -1.86241895e-01\n",
      "    4.21124518e-01 -1.67337388e-01 -4.57314134e-01  4.05817062e-01\n",
      "   -1.31879985e-01  9.71825123e-02  3.03091764e-01 -8.83125603e-01\n",
      "   -3.91012788e-01  1.60587013e+00  9.63637233e-02  2.55621858e-02\n",
      "   -9.19140339e-01  5.52719593e-01  5.41990995e-01  1.42706454e-01\n",
      "    8.21432620e-02 -6.65701747e-01 -3.14593166e-01  6.70567393e-01\n",
      "    1.41674012e-01  1.80770174e-01  3.98132026e-01  2.24560976e-01\n",
      "   -2.58220315e-01 -2.54208893e-02  9.90865469e-01  1.73054606e-01\n",
      "   -2.06895173e-01 -6.71308637e-01  8.32798064e-01 -1.12005448e+00\n",
      "    1.07002640e+00  5.99924028e-01  1.67950705e-01 -5.07622480e-01\n",
      "   -3.39093179e-01  4.24078368e-02 -6.37538552e-01  2.89955884e-02\n",
      "    1.30742955e+00 -4.16652709e-01 -3.28562230e-01  1.62035525e-02\n",
      "    6.53590024e-01  5.65277576e-01 -6.69803560e-01  1.07000899e+00\n",
      "   -6.52203202e-01 -3.75465214e-01 -4.32031274e-01  3.33501816e-01\n",
      "   -2.60040104e-01  2.21661963e-02  4.00520056e-01 -3.06207061e-01\n",
      "   -1.00907028e+00 -2.66628146e-01 -1.64603338e-01  1.97715998e-01\n",
      "    1.29091041e-02  3.37149680e-01 -3.28225642e-01  9.66622651e-01\n",
      "   -8.58335495e-01  2.36934453e-01  2.02172428e-01 -7.66445518e-01\n",
      "    5.87146431e-02  4.08544302e-01 -1.02636790e+00 -3.74198109e-01\n",
      "   -1.20183975e-02  3.18570435e-03 -6.51834726e-01  6.04747474e-01\n",
      "    9.72641766e-01  2.72691548e-01  9.54969764e-01 -9.79851007e-01\n",
      "    2.78355569e-01 -3.87065738e-01  1.25632262e+00 -4.92812574e-01\n",
      "    1.87913716e-01  6.61835968e-01  6.43291950e-01  8.26956034e-01\n",
      "    2.12635472e-01 -9.62844610e-01  3.95947695e-02 -6.07017159e-01\n",
      "   -4.52200115e-01  1.89351916e-01 -1.28744259e-01 -8.96215558e-01\n",
      "   -3.98898572e-02 -8.00896168e-01  2.35181078e-02 -3.70498836e-01\n",
      "    4.86510694e-02  3.59305233e-01  3.43761921e-01  8.03396165e-01\n",
      "    2.44230613e-01 -1.61382809e-01  3.37487131e-01 -2.35515967e-01\n",
      "    6.16451919e-01 -2.55132526e-01  1.48704246e-01  1.09172530e-01\n",
      "   -1.09882049e-01  3.73375028e-01 -1.00675449e-01 -5.71760535e-01\n",
      "    7.02679157e-02  5.95575511e-01 -3.41681689e-01 -1.09581995e+00\n",
      "    5.80713674e-02  8.47006083e-01  5.55301011e-01 -1.27529144e-01\n",
      "    7.54866242e-01  1.51309505e-01  1.02876902e+00  8.76516700e-01\n",
      "    6.06433213e-01  5.07247567e-01 -3.58479738e-01  1.24241388e+00\n",
      "    6.99182451e-01  1.15791477e-01  6.10224783e-01  5.47758222e-01\n",
      "    7.66165793e-01 -3.29380661e-01  5.70273161e-01  9.00023878e-02\n",
      "    2.62971431e-01  5.15040874e-01  2.45012343e-05 -8.64934921e-01\n",
      "    5.85444033e-01 -9.78227854e-02 -4.53411430e-01 -2.27612555e-02\n",
      "    1.51777238e-01  5.06348491e-01 -6.64508939e-01  4.52596545e-01\n",
      "   -1.18434525e+00  1.02503169e+00 -1.14702731e-02  4.23904091e-01\n",
      "    2.52979100e-01 -1.54846326e-01  3.80598724e-01 -5.13310134e-02\n",
      "    4.80672628e-01 -6.83448732e-01 -8.12627137e-01 -4.22442146e-03\n",
      "    6.62394539e-02 -6.80185676e-01  2.58776248e-02  3.94348204e-01\n",
      "   -4.47749555e-01 -1.23890388e+00  1.88058123e-01  1.14661559e-01\n",
      "   -5.97257137e-01  1.15007627e+00  1.19099307e+00 -4.71199363e-01\n",
      "    1.07977115e-01 -1.13013780e+00 -1.00122762e+00  1.65896833e-01\n",
      "    7.26387143e-01  2.55447626e-02 -6.79581702e-01  2.40665555e-01\n",
      "   -2.06032753e-01 -2.49124497e-01  6.86493397e-01 -4.61312920e-01\n",
      "    6.97416067e-01  4.56905067e-02  3.91824469e-02 -2.48035826e-02\n",
      "   -7.61678457e-01  2.31301337e-01 -1.30009198e+00 -5.37906587e-01\n",
      "    1.33544654e-01 -2.79427528e-01  1.24524683e-01 -6.87849879e-01\n",
      "   -2.01948255e-01  1.33773819e-01 -7.07940906e-02 -8.28348994e-02\n",
      "   -3.48281294e-01 -7.22628772e-01  3.66659522e-01 -5.95640182e-01\n",
      "    1.05150151e+00  4.44178432e-02  4.14844215e-01 -4.34459209e-01\n",
      "    1.04299295e+00  9.40009058e-02  4.70737636e-01 -7.93144479e-02\n",
      "    2.03359872e-03  2.41997689e-01 -7.98672974e-01 -2.06500053e-01\n",
      "    8.77684832e-01  1.77859092e+00  3.33907068e-01  1.57376528e-02\n",
      "   -2.66535282e-02  7.56781280e-01  1.06655374e-01  2.83791572e-01\n",
      "    1.08781052e+00 -2.90036350e-01 -1.58471346e-01 -1.37729037e+00\n",
      "   -6.13372624e-01  6.60113573e-01 -1.34507030e-01 -6.99975669e-01\n",
      "   -6.29345417e-01  6.93093911e-02 -1.07476369e-01 -2.83741713e-01\n",
      "   -1.34578675e-01  7.90474355e-01 -1.57683194e-01 -1.61597520e-01\n",
      "   -1.21348929e+00  6.22560322e-01  1.09619141e-01 -9.99672264e-02\n",
      "   -6.39593601e-03  5.62045753e-01 -7.11126924e-01  6.15903854e-01\n",
      "   -3.99919987e-01  1.93051413e-01 -6.99759722e-01 -1.22866124e-01\n",
      "    3.58163327e-01  1.08598828e+00  5.15064001e-01 -4.71234351e-01\n",
      "   -1.39793086e+00 -1.36909783e-02 -5.80432951e-01  2.82626003e-01\n",
      "   -5.19334555e-01 -2.73762196e-02  4.88355085e-02 -5.47045648e-01\n",
      "   -3.68072867e-01 -6.20971859e-01  4.99594390e-01 -2.11894870e-01],\n",
      "  http://abcn.ws/2CbqxlW: [ 2.04527199e-01 -2.22111478e-01 -1.19298112e+00  1.50810882e-01\n",
      "    5.65562665e-01  9.95857656e-01  6.00770295e-01 -4.02589142e-01\n",
      "   -1.64257482e-01 -6.82836533e-01  2.37272725e-01 -1.14290953e+00\n",
      "   -1.26575255e+00 -6.16806805e-01  7.88885206e-02  1.05762911e+00\n",
      "    2.02581868e-01  1.56111073e+00  7.27882504e-01 -1.23039931e-01\n",
      "    4.07879293e-01  2.04322413e-02 -1.64630190e-01  2.20766738e-01\n",
      "    3.16430598e-01  5.91584563e-01 -2.95181781e-01  7.19951093e-01\n",
      "    6.54725194e-01 -3.39715183e-02  1.67426443e+00 -9.10109758e-01\n",
      "    7.25189805e-01  6.68491721e-01 -1.58108711e+00 -5.65206707e-02\n",
      "    6.67572618e-02  1.25085309e-01  7.48343110e-01 -3.27521265e-02\n",
      "   -1.00987740e-01  2.87115797e-02 -2.76273817e-01  8.42107773e-01\n",
      "   -1.23394668e-01  4.97464612e-02 -1.80758786e+00  9.78490040e-02\n",
      "    1.31244332e-01  8.44763041e-01 -2.42854953e-02 -5.73653504e-02\n",
      "    1.12625098e+00 -1.67521179e-01  2.69880444e-01  1.53890777e+00\n",
      "    1.02733111e+00 -9.28048849e-01 -4.29362446e-01 -4.94695008e-01\n",
      "    2.43114591e-01  2.63046622e-01  4.62023795e-01 -2.14067549e-01\n",
      "    1.79122835e-02  5.20583168e-02 -1.23914194e+00  6.77481711e-01\n",
      "    3.50086927e-01 -6.70711637e-01 -4.49617386e-01 -9.49394226e-01\n",
      "   -1.05928823e-01 -2.35901386e-01 -5.84893703e-01  4.75621253e-01\n",
      "   -9.16732073e-01  9.08200502e-01  1.56331003e+00 -2.88309395e-01\n",
      "    6.80368245e-01 -2.98415184e-01  6.75674200e-01  2.73025930e-01\n",
      "   -2.26870269e-01 -7.02787220e-01 -2.00867534e-01  6.11730218e-02\n",
      "   -4.08167541e-01 -5.02524316e-01 -5.47098935e-01 -6.70703351e-01\n",
      "    1.13551033e+00  2.13146433e-01  6.14397228e-01  8.85982752e-01\n",
      "    2.15578809e-01  4.52272892e-02 -1.90937534e-01 -1.01893350e-01\n",
      "    4.27944005e-01 -1.06853092e+00 -2.58035302e-01  2.75147825e-01\n",
      "   -5.85923314e-01 -1.16181588e+00  8.36124420e-02 -6.38308451e-02\n",
      "   -7.39775658e-01  4.42792177e-01 -5.63082024e-02  7.35482931e-01\n",
      "    4.23263162e-02  2.51140743e-01 -9.25497532e-01  1.60534099e-01\n",
      "    9.82093811e-02 -3.32684845e-01 -2.09727257e-01  3.52694392e-01\n",
      "   -4.88237441e-01 -8.79850984e-03  4.03757960e-01  4.80383158e-01\n",
      "    7.05720305e-01 -2.60325640e-01  3.03021044e-01  4.55871612e-01\n",
      "   -1.08456218e+00 -9.47330892e-02  1.15885973e-01 -2.54492372e-01\n",
      "   -3.66242886e-01  8.60650420e-01 -4.60424691e-01 -2.48834714e-01\n",
      "   -1.09289594e-01 -8.55469853e-02 -5.69881797e-02  5.13271168e-02\n",
      "   -1.27056682e+00  2.04184085e-01 -3.83945793e-01 -3.59248638e-01\n",
      "   -4.07338887e-02  2.04048991e-01 -4.42321971e-02  9.80269387e-02\n",
      "   -8.14263940e-01  9.24045444e-02  1.91582114e-01 -3.92515898e-01\n",
      "    3.43193263e-02  1.69991583e-01 -7.24832773e-01  8.55780184e-01\n",
      "   -7.60844111e-01 -6.47259116e-01  1.32044569e-01 -6.36575937e-01\n",
      "   -4.25207615e-01 -6.32562041e-01 -6.46740794e-01 -3.43505263e-01\n",
      "    4.72257435e-01  3.24506849e-01  5.15129089e-01  1.06997907e+00\n",
      "    2.22854912e-01 -5.10844290e-02  6.31175280e-01 -2.63540268e-01\n",
      "    9.11613405e-02  2.82676190e-01  3.85790288e-01  8.75184178e-01\n",
      "   -4.11548465e-01 -7.33286381e-01  4.58996058e-01  4.67869520e-01\n",
      "   -4.59154224e+00  4.63506341e-01  1.42401457e-02  2.65383691e-01\n",
      "    4.41935539e-01 -7.37694323e-01 -3.05318981e-02 -8.92281413e-01\n",
      "    2.60165811e-01  6.20984361e-02 -1.37919962e-01 -6.38327301e-01\n",
      "    5.93899429e-01  5.44274211e-01  3.81775945e-03 -1.50798082e-01\n",
      "    1.52231723e-01  9.48320448e-01  4.86379027e-01  8.37549210e-01\n",
      "   -3.81874889e-01 -2.82871276e-01  7.55453646e-01 -4.50035520e-02\n",
      "   -3.59546840e-01  6.10403895e-01  2.09263206e-01  2.85658598e-01\n",
      "   -2.59949058e-01 -1.84873953e-01 -1.53043866e-01  7.71606565e-02\n",
      "    3.87238294e-01 -3.84942263e-01  6.46564007e-01  4.58416790e-02\n",
      "   -3.80305290e-01 -1.88465416e-01  1.39698505e-01 -6.15672171e-01\n",
      "   -6.91786706e-01  6.43654019e-02 -5.13404369e-01 -5.56685328e-01\n",
      "   -9.64436531e-01  1.85663804e-01 -1.00992821e-01 -7.28767276e-01\n",
      "   -2.67605871e-01 -9.47262883e-01  1.82415098e-01  1.96174771e-01\n",
      "    4.64305282e-01 -3.69560011e-02  1.96368366e-01 -8.99109185e-01\n",
      "   -4.04101849e-01 -7.77242839e-01 -1.40084133e-01  2.75248230e-01\n",
      "    3.37470710e-01  1.38911200e+00  2.26708472e-01 -4.39745188e-01\n",
      "   -1.43590975e+00 -2.77219743e-01 -1.36294782e-01  4.18698609e-01\n",
      "   -6.64366722e-01 -8.18899632e-01  1.76089764e+00 -1.04862666e+00\n",
      "   -5.64539790e-01 -2.84448862e-01  2.41804510e-01 -1.34804964e-01\n",
      "   -1.55037522e-01  4.43489850e-01  4.67685699e-01 -8.07984769e-02\n",
      "   -2.54619122e-01  2.10699067e-01 -3.57348472e-02  1.22247234e-01\n",
      "   -5.26685834e-01 -1.66574645e+00 -4.60481137e-01  7.00446010e-01\n",
      "   -7.39001274e-01  3.21411788e-01  3.01421642e-01  7.38376260e-01\n",
      "   -2.67229304e-02  1.21061122e+00  1.97727546e-01  4.80050564e-01\n",
      "   -2.19502687e-01 -5.71294799e-02 -7.37156630e-01 -5.36348283e-01\n",
      "   -4.14188087e-01  7.60528445e-01 -1.52485743e-01 -7.32776582e-01\n",
      "   -6.81289732e-01  1.36139557e-01  5.29688001e-02 -9.13924873e-01\n",
      "    7.29368269e-01 -2.88329154e-01 -3.05806816e-01  3.07136178e-01\n",
      "    2.52921969e-01  1.00196630e-01  1.57820559e+00 -8.18117976e-01\n",
      "   -3.05958211e-01  8.14761400e-01 -1.10799992e+00  1.06866948e-01\n",
      "   -8.54737997e-01  2.85590708e-01  6.72082365e-01 -2.65547574e-01\n",
      "    1.13634706e-01  7.59588242e-01  1.64335221e-02  3.14332545e-04\n",
      "   -1.39161611e+00  3.49555492e-01  2.28294522e-01 -2.29694396e-01\n",
      "   -2.04921797e-01 -6.60487175e-01  5.59147298e-02  7.04508424e-01\n",
      "    1.53633416e-01  3.17489684e-01 -4.59218264e-01 -1.83897167e-01\n",
      "   -3.57910275e-01 -2.28913844e-01  2.23690495e-02  4.60580885e-01\n",
      "   -8.24512661e-01  3.27895284e-01 -4.63750303e-01  7.86733627e-01\n",
      "    4.36778992e-01 -8.70072097e-02  1.84409186e-01 -4.53083515e-02\n",
      "    1.89509258e-01  6.46225095e-01 -9.61364031e-01  6.72827303e-01\n",
      "    5.08210003e-01 -4.16850328e-01 -1.08524062e-01 -3.60409081e-01\n",
      "    2.55442500e-01 -3.18589091e-01  2.95940101e-01 -3.47534537e-01\n",
      "   -7.46204406e-02  4.43973243e-02 -3.58072996e-01 -6.59502149e-01\n",
      "   -4.42107469e-01 -6.69321835e-01 -5.85591793e-01  1.57685876e-01\n",
      "    7.82683313e-01  7.47656822e-02  2.96974212e-01 -1.01426780e+00\n",
      "   -8.45689535e-01 -7.31608450e-01  6.78744972e-01  5.52289069e-01\n",
      "    8.62402916e-01  6.85550123e-02  3.03714514e-01  1.47834152e-01\n",
      "   -3.15342724e-01  7.65733480e-01  3.58610213e-01 -4.39662814e-01\n",
      "    3.04775536e-01 -2.83293128e-01 -9.12408531e-03 -1.08739829e+00\n",
      "    2.77800977e-01 -5.04366100e-01  7.79392719e-01  3.39843571e-01\n",
      "   -8.68812621e-01  2.76618540e-01 -9.05651748e-01  4.91193473e-01\n",
      "   -1.65563285e-01 -4.04168367e-01 -1.39090091e-01 -4.13770676e-01\n",
      "    6.32161260e-01  1.11477926e-01 -5.99744081e-01 -3.40518832e-01\n",
      "    1.17980912e-01 -8.90030980e-01  8.75470161e-01  9.25157070e-01\n",
      "   -1.13766551e+00  4.39627141e-01 -6.42132163e-01 -3.27445209e-01\n",
      "   -1.10288247e-01  7.86633193e-02  9.46247578e-01 -9.05768752e-01\n",
      "    4.39931512e-01  3.44142988e-02 -1.56124687e+00  9.55583632e-01\n",
      "   -9.51880276e-01 -1.04329899e-01 -4.61304903e-01 -3.68390769e-01\n",
      "   -1.59666717e-01 -6.47579312e-01 -5.05524948e-02 -3.01752299e-01\n",
      "   -3.82301480e-01 -6.08547688e-01 -3.00934345e-01  8.47388983e-01\n",
      "   -1.15070343e+00 -8.70393395e-01  2.03995571e-01 -3.43995124e-01\n",
      "    1.79264247e-01  7.00342178e-01  7.47198820e-01  1.67147607e-01\n",
      "    4.94308144e-01  8.58714521e-01  9.02338505e-01  3.24710459e-01\n",
      "   -7.25142360e-01 -4.56258506e-02 -1.23142314e+00  4.24866140e-01\n",
      "    9.96068716e-02  4.97840643e-01 -1.21401858e+00  6.25007391e-01\n",
      "    3.93048525e-02 -3.07742149e-01  5.76894581e-01 -6.90838024e-02\n",
      "   -8.63956055e-04 -1.90297991e-01 -1.97599486e-01  9.35238786e-03\n",
      "    9.81743634e-02 -7.59357989e-01 -3.64592135e-01 -3.45586896e-01\n",
      "   -4.81820643e-01 -3.91419023e-01  4.46146578e-02 -5.11989832e-01\n",
      "    3.33983183e-01  4.82324660e-02 -1.73223857e-03  6.38926983e-01\n",
      "   -3.95157933e-01  5.09958416e-02 -1.43226072e-01 -7.81474113e-01\n",
      "    3.89429778e-01 -7.06411600e-01  1.00368500e+00 -6.63770556e-01\n",
      "    5.07740021e-01  8.04798365e-01  4.02526557e-01 -1.10312498e+00\n",
      "    6.59331322e-01 -9.85315025e-01  2.73275077e-01 -3.60345453e-01\n",
      "   -1.71868950e-01  2.87960559e-01  4.47459370e-01  1.06635220e-01\n",
      "   -1.23184824e+00 -4.10454571e-01  4.23891366e-01  1.16085194e-01\n",
      "    3.96524668e-01 -6.88773245e-02 -6.17804706e-01  2.76816100e-01\n",
      "   -1.13430172e-01 -3.03920537e-01  5.91825008e-01  6.63328707e-01\n",
      "    1.89466402e-01 -3.14814091e-01 -7.46911585e-01 -2.29174569e-01\n",
      "    2.23234385e-01  5.48613906e-01  3.45619738e-01  1.12768853e+00\n",
      "    3.73596668e-01  3.01833719e-01  1.43087521e-01 -8.40975195e-02\n",
      "   -5.06039917e-01  2.49027163e-02  1.29301613e-02 -4.04392183e-01\n",
      "   -4.52642709e-01 -8.97670835e-02  5.68739533e-01  4.60993409e-01\n",
      "   -2.97353417e-01  1.85280204e-01 -2.04357594e-01  1.82223190e-02\n",
      "    5.01107454e-01 -5.81350386e-01 -2.65358165e-02  3.92316282e-02\n",
      "   -9.10390258e-01 -1.00321777e-01  3.79068926e-02  1.96508974e-01\n",
      "   -2.64579982e-01  1.37571931e-01  5.29560566e-01 -3.22056115e-01\n",
      "    3.05949271e-01 -4.62706983e-02  7.43738294e-01 -6.65589690e-01\n",
      "    2.72531807e-02 -5.60910344e-01  1.13104534e+00  3.24599035e-02\n",
      "   -2.32586283e-02 -4.66973364e-01  6.23392537e-02  9.97605324e-02\n",
      "   -3.24010849e-02  2.14840740e-01  3.04271340e-01  2.19180882e-02\n",
      "    7.05704093e-02 -6.15801662e-02 -5.55372059e-01 -4.96422976e-01\n",
      "   -5.91992378e-01  8.19856763e-01 -1.22383125e-01 -3.34688842e-01\n",
      "   -2.74451673e-01 -8.32968801e-02  1.75698310e-01 -2.61017889e-01\n",
      "    4.70801711e-01 -8.52327645e-01  6.74947560e-01  1.83631271e-01\n",
      "   -2.69444212e-02  8.82144928e-01  9.65036392e-01 -2.06479609e-01\n",
      "   -7.32319832e-01  2.55882949e-01 -1.39478278e+00 -1.29924703e+00\n",
      "    1.50962800e-01  4.23296630e-01 -7.35495329e-01  2.44003534e-02\n",
      "    1.18513614e-01  5.10888398e-01  4.08710353e-02 -3.33517641e-02\n",
      "   -7.41940141e-02  2.50626951e-02  6.02269709e-01  2.08471030e-01\n",
      "    3.14403296e-01 -3.66269648e-02  1.20784402e+00  9.05303836e-01\n",
      "    1.02132368e+00  8.52565289e-01  6.84654117e-01  1.31124109e-02\n",
      "    3.94098878e-01  1.37878016e-01  5.71451068e-01  3.39380831e-01\n",
      "   -9.63665128e-01 -7.73159683e-01  1.23425752e-01 -1.22499573e+00\n",
      "    2.52963215e-01 -2.31859311e-01  6.39071882e-01  5.04108965e-01\n",
      "   -6.61238953e-02 -3.12277883e-01 -7.96185970e-01  8.64636779e-01\n",
      "    1.52651846e-01 -1.01618767e+00 -8.14216062e-02 -1.12238646e+00\n",
      "   -4.08203825e-02  5.21240294e-01  9.54618454e-01 -2.40329191e-01\n",
      "   -3.57078373e-01  1.95342392e-01  2.45042667e-02 -1.09436266e-01\n",
      "   -3.61080647e-01  2.11485416e-01  2.51139253e-01 -7.59857416e-01\n",
      "   -9.55191314e-01  8.26641679e-01 -3.82920563e-01 -2.76688576e-01\n",
      "    1.19582522e+00 -2.33797774e-01  7.20549822e-01  2.12929189e-01\n",
      "    1.42893493e-02 -4.56474304e-01  1.07889545e+00  1.17335403e+00\n",
      "    8.56052399e-01  1.14455983e-01  5.43900967e-01  6.57566547e-01\n",
      "    3.27357501e-01  3.07546884e-01  4.75499153e-01 -2.28479564e-01\n",
      "    2.44519919e-01  5.39404154e-01  3.53502855e-02 -8.33461165e-01\n",
      "    3.61847132e-01  9.22382951e-01  8.59866589e-02  7.50866771e-01\n",
      "   -4.21244919e-01  6.36700511e-01  4.73795056e-01  5.30657172e-02\n",
      "    4.80054319e-01  7.47678876e-02  6.29871190e-02  5.77939093e-01\n",
      "    3.80086899e-01 -2.02981368e-01 -3.30882251e-01 -7.43517041e-01\n",
      "    7.79781938e-01 -7.00908542e-01 -3.41359556e-01 -6.22835338e-01\n",
      "   -1.03846475e-01 -1.42140061e-01 -2.97335416e-01 -1.19051605e-01\n",
      "    3.40033412e-01 -5.13847172e-01 -1.53781623e-01  1.90661773e-01\n",
      "   -1.00709319e+00 -2.41753459e-03  3.63314271e-01  2.61455685e-01\n",
      "   -1.09671271e+00 -3.54947984e-01 -7.25736439e-01 -3.74724716e-02\n",
      "   -2.82199055e-01 -3.64544690e-01  2.77371109e-01 -8.79619494e-02\n",
      "    1.32825673e-01 -3.50943357e-02  9.10267591e-01 -7.94172287e-01\n",
      "    1.46120453e+00  6.13832474e-01 -4.00721997e-01  1.73639849e-01\n",
      "   -6.66719854e-01 -1.37682647e-01 -4.31100994e-01 -3.70917499e-01\n",
      "   -5.93282402e-01 -1.04616487e+00 -4.30325031e-01 -1.04104686e+00\n",
      "    1.07451165e+00 -1.80056095e-01 -1.02928370e-01 -2.81369418e-01\n",
      "   -1.19472051e+00 -1.32430345e-02  5.09183586e-01 -9.97952282e-01\n",
      "    5.66751480e-01  2.29097024e-01  2.24511743e-01 -4.16528061e-02\n",
      "    6.65667057e-01 -5.46827734e-01 -4.08306718e-04  5.48239291e-01\n",
      "   -9.67987776e-01 -5.45433909e-03  8.18119943e-02  3.60606372e-01\n",
      "   -2.23958403e-01  5.62093556e-01 -2.42300272e-01 -1.35950351e+00\n",
      "   -2.21071109e-01  1.72200441e+00  8.03482592e-01  5.52113235e-01\n",
      "    1.03184819e+00  1.48988351e-01 -2.73976684e-01  3.80451441e-01\n",
      "   -5.72268069e-01  1.05964214e-01 -4.62672502e-01  7.89413929e-01\n",
      "   -7.91149795e-01  4.76725817e-01 -2.45859981e-01 -1.07481182e+00\n",
      "    4.67114776e-01  9.62814927e-01 -5.03148735e-01  2.88200200e-01\n",
      "   -9.32283103e-01  9.16436911e-01 -3.72454822e-02 -2.62269020e-01\n",
      "   -3.79865736e-01  5.71560860e-01 -3.87973547e-01  4.84694913e-02\n",
      "   -4.01339263e-01 -2.09729344e-01  6.48404062e-02  1.77773595e-01\n",
      "    1.18952259e-01  1.18571985e+00 -2.99151242e-01 -5.92740119e-01\n",
      "   -5.14472842e-01  2.21429542e-02 -4.46154296e-01 -4.19655502e-01\n",
      "    4.76109028e-01 -1.93451673e-01 -1.79418877e-01 -5.05472422e-01\n",
      "    4.24373955e-01 -1.35590404e-01 -2.34012246e-01 -1.43912363e+00],\n",
      "  http://abcn.ws/2D92PrQ: [-1.09711044e-01 -1.09717643e+00  1.47235245e-01  2.72499293e-01\n",
      "    5.53981245e-01  1.96659327e-01  5.44521920e-02 -7.42999852e-01\n",
      "    2.49608412e-01 -1.02532434e+00  7.64851987e-01 -4.36718613e-01\n",
      "   -6.82916343e-01  1.74251422e-01 -1.01503797e-01  6.05956495e-01\n",
      "    1.77797958e-01  1.02543414e+00  5.50206244e-01  1.49269000e-01\n",
      "   -5.14411151e-01 -2.88703918e-01  3.84592265e-01 -5.07293999e-01\n",
      "    8.96237135e-01 -1.11589365e-01 -2.63972521e-01  3.06542397e-01\n",
      "   -7.13791668e-01  1.12071979e+00  6.96263492e-01  6.19994760e-01\n",
      "    1.08808804e+00 -1.53836071e-01 -9.24740851e-01  5.64601481e-01\n",
      "    4.87251043e-01  1.30550608e-01 -1.88588455e-01  7.52011776e-01\n",
      "   -2.19406307e-01  4.06880051e-01 -2.17214882e-01 -1.22310005e-01\n",
      "   -4.79999781e-02  9.41398144e-02 -1.28395498e+00  3.04207176e-01\n",
      "   -6.20341115e-02 -2.65165836e-01  1.08426847e-01  6.88233554e-01\n",
      "    1.22492051e+00  2.53821731e-01 -3.12087536e-01  9.80042934e-01\n",
      "    2.73150772e-01 -8.54782760e-01 -8.29526901e-01 -1.01054466e+00\n",
      "    7.56331742e-01  1.47351548e-01  1.52778313e-01  3.87477636e-01\n",
      "   -1.29592255e-01  5.31253032e-02 -3.94790173e-01  7.24656582e-01\n",
      "   -6.95057631e-01  2.04090998e-01  1.31775707e-01  6.63261116e-01\n",
      "    4.74741347e-02 -5.74296176e-01  4.17614609e-01  3.83940578e-01\n",
      "   -1.30281496e+00  8.13148320e-01  1.26989305e+00 -5.41111827e-02\n",
      "    1.11712418e-01 -3.31631511e-01  5.10372341e-01  6.86224639e-01\n",
      "   -2.12205887e-01 -7.27071583e-01  3.04383218e-01  3.13543141e-01\n",
      "   -1.45824134e-01  1.06438197e-01 -1.27254021e+00 -6.57778323e-01\n",
      "    1.67409778e-01  5.09566724e-01  5.86589158e-01 -4.43938971e-02\n",
      "    1.20933497e+00  2.75985926e-01  7.23315701e-02 -1.06845684e-01\n",
      "    2.32147753e-01 -2.92998463e-01 -7.39919841e-01  6.42497182e-01\n",
      "   -1.09518218e+00 -4.46893334e-01 -1.83734044e-01 -5.97919226e-01\n",
      "    1.12891473e-01  5.52713394e-01 -1.07283401e+00  6.66021481e-02\n",
      "    9.93419886e-01 -5.83389342e-01 -1.52698720e+00 -4.94146198e-01\n",
      "    5.24859369e-01 -3.25193018e-01 -1.69623330e-01  7.02164352e-01\n",
      "   -4.22433376e-01  5.37975430e-01 -4.25097011e-02  2.71265119e-01\n",
      "    1.06001543e-02  8.15561488e-02  2.74899244e-01  5.90693772e-01\n",
      "   -6.33278608e-01 -2.77564496e-01 -5.08952141e-01 -5.73043190e-02\n",
      "   -6.90482557e-01  2.74372309e-01 -1.21907078e-01 -2.67971605e-02\n",
      "    4.25155789e-01 -2.98447996e-01 -3.37459356e-01  9.68206525e-02\n",
      "   -1.62816179e+00 -6.29349709e-01  6.74682781e-02  2.84121126e-01\n",
      "   -5.66141717e-02 -5.54554105e-01 -8.96609068e-01  7.42648780e-01\n",
      "    7.50297382e-02 -4.66935128e-01 -1.43524706e-01 -3.68555754e-01\n",
      "   -9.83126819e-01  5.74343860e-01  9.43648815e-03  8.85569274e-01\n",
      "   -1.92493692e-01 -4.77454633e-01 -1.62578430e-02 -2.20769882e-01\n",
      "   -1.69634283e-01 -6.12497143e-02 -1.74154684e-01 -1.25939059e+00\n",
      "    1.00079453e+00  6.49582028e-01  5.56821764e-01  5.42513311e-01\n",
      "   -1.99870184e-01 -5.94104290e-01 -3.76928419e-01  3.41861993e-01\n",
      "    8.20622683e-01 -2.73829158e-02 -4.63613898e-01  3.38878274e-01\n",
      "   -2.54002273e-01 -2.12428331e-01  3.84655356e-01  3.33087087e-01\n",
      "   -3.69902158e+00  9.88429561e-02 -8.21334898e-01 -4.05514210e-01\n",
      "    5.23524761e-01 -5.45845032e-01 -1.84782580e-01 -6.85000837e-01\n",
      "   -4.40842323e-02  6.50176108e-01 -3.53911012e-01  1.03595465e-01\n",
      "    1.28361717e-01  3.31098765e-01  4.86730218e-01 -3.51482540e-01\n",
      "   -8.18260252e-01  9.21795905e-01  8.10154915e-01  3.25773567e-01\n",
      "    7.47467503e-02 -7.94778466e-02  1.55693758e+00  3.25420827e-01\n",
      "    1.85804904e-01  3.94033343e-01  1.26834139e-01 -5.17799437e-01\n",
      "    8.16592872e-01  7.32755601e-01 -3.37050825e-01 -1.34830046e+00\n",
      "    8.10463428e-01  7.46940613e-01  8.65854979e-01  4.18328978e-02\n",
      "   -2.12869838e-01 -3.02156121e-01 -4.52079773e-01 -8.98994580e-02\n",
      "    5.30462444e-01 -8.76226246e-01 -3.46901506e-01  4.99774307e-01\n",
      "   -6.81508839e-01 -3.84016514e-01  3.65454823e-01 -4.37516093e-01\n",
      "    1.12538956e-01 -1.27454197e+00  3.24313313e-01  2.49409482e-01\n",
      "    3.08696359e-01 -2.38629401e-01 -3.00005227e-01 -4.26785022e-01\n",
      "    8.05278838e-01 -4.39514309e-01  1.78225517e-01 -6.00201786e-01\n",
      "    6.18896723e-01  1.18625224e+00 -1.78321585e-01  5.04736960e-01\n",
      "   -1.21662486e+00 -8.34597766e-01 -3.38569790e-01 -4.04491335e-01\n",
      "    4.70970303e-01 -5.63466251e-01  5.67780614e-01  3.30334932e-01\n",
      "    2.94959635e-01 -1.68989852e-01 -3.26012105e-01 -1.75609216e-01\n",
      "   -4.66911383e-02  9.67452526e-02  1.65136397e-01 -1.47181943e-01\n",
      "   -2.76727080e-01 -2.07309723e-01  9.40982476e-02 -2.12497726e-01\n",
      "   -5.65988719e-01 -1.30591238e+00 -6.82851374e-01 -2.59109497e-01\n",
      "   -5.54486364e-02 -5.52449644e-01 -4.82420623e-02  5.87755263e-01\n",
      "   -6.65968880e-02 -5.96402586e-01  2.32257679e-01  2.21009389e-01\n",
      "   -6.45682812e-01  1.06244661e-01 -1.06244004e+00 -3.60307664e-01\n",
      "   -1.31028235e-01  1.45499802e+00  2.20419645e-01 -1.48189247e-01\n",
      "   -7.97740594e-02  8.64829645e-02  5.71545601e-01 -8.97639453e-01\n",
      "   -1.47164464e-01 -2.36641318e-02 -2.07005680e-01  1.19289435e-01\n",
      "   -1.94783032e-01 -1.83797106e-01  1.08783233e+00 -2.45111287e-01\n",
      "    1.16524108e-01  1.14752471e+00 -6.46284163e-01  3.88636184e-03\n",
      "   -5.67586601e-01  9.88406479e-01 -2.17890933e-01  2.69727800e-02\n",
      "   -2.88885564e-01  1.28565297e-01  3.03322047e-01 -2.77828071e-02\n",
      "   -1.35688460e+00 -3.17266315e-01 -9.66935933e-01 -8.22124302e-01\n",
      "    3.09501320e-01 -2.50666469e-01 -4.29335743e-01  3.16737927e-02\n",
      "   -4.79394197e-03 -1.45670669e-02  5.04199147e-01  1.11175068e-01\n",
      "   -5.65254927e-01  8.62181187e-01 -4.12022501e-01  6.51039258e-02\n",
      "    7.98908055e-01  7.98527896e-01 -5.12640178e-01  3.28206986e-01\n",
      "    2.12712169e-01  4.88586098e-01 -4.28909212e-01  2.06719294e-01\n",
      "   -3.19168538e-01  1.38657248e+00 -1.17966735e+00 -2.70928025e-01\n",
      "    7.24847734e-01 -2.86686867e-01  3.35149430e-02 -4.93110389e-01\n",
      "   -1.37468025e-01 -2.68422991e-01  3.04304361e-01 -3.78675647e-02\n",
      "   -1.46404043e-01 -3.71427536e-01 -6.27535641e-01  4.05278236e-01\n",
      "    4.65681940e-01 -3.01773965e-01 -3.63487363e-01  5.38955569e-01\n",
      "    5.21271944e-01 -2.14665949e-01 -6.09888621e-02 -9.91628170e-01\n",
      "   -2.89719433e-01  1.89883947e-01 -2.61388451e-01  2.19823909e-03\n",
      "    1.12312257e+00 -4.49964374e-01  2.81241164e-02  1.38265944e+00\n",
      "    4.24153805e-01 -6.13403916e-01  2.89573371e-01  1.02207136e+00\n",
      "   -3.37505043e-02 -2.86025792e-01 -1.65005818e-01 -6.75503016e-01\n",
      "   -2.44784191e-01  1.47319734e-01  1.12967312e+00 -9.10382047e-02\n",
      "    2.43335590e-01  3.48250061e-01 -9.09402370e-01  5.46594918e-01\n",
      "   -2.21200749e-01 -2.05727015e-02  2.28690147e-01  3.28162611e-02\n",
      "    4.72195268e-01 -4.08792347e-01 -4.18977775e-02 -6.03366137e-01\n",
      "   -1.53481245e-01  5.11479437e-01  2.59167790e-01  6.90468788e-01\n",
      "   -5.94753563e-01 -1.77880302e-01  4.56200868e-01 -1.05390310e-01\n",
      "   -1.31013259e-01  3.37273121e-01  4.22676712e-01 -9.29827631e-01\n",
      "   -2.43363783e-01  2.31978491e-01  6.27130449e-01  8.98405612e-01\n",
      "   -1.07964087e+00 -3.49938750e-01 -1.23800874e-01 -2.99846619e-01\n",
      "    9.47626829e-02 -9.20587718e-01 -5.98243892e-01  3.93801570e-01\n",
      "   -6.25436306e-01  1.15435928e-01  4.82694626e-01  4.66447681e-01\n",
      "   -6.49795949e-01 -6.97128832e-01  2.83391118e-01 -7.31806755e-01\n",
      "   -8.42531979e-01  1.61647145e-02 -2.29312375e-01 -7.38357544e-01\n",
      "   -3.39775532e-01  3.65166664e-01  2.97909349e-01 -3.79249573e-01\n",
      "   -8.36545169e-01  2.80764401e-01 -1.80640125e+00  5.86202621e-01\n",
      "    1.67078540e-01  2.78906196e-01 -1.06114268e+00  7.97910392e-02\n",
      "   -1.45709142e-01  7.48995319e-02  3.47751349e-01 -4.12603974e-01\n",
      "   -1.68027237e-01  2.61904508e-01  1.15791343e-01  1.49580464e-01\n",
      "    4.84685570e-01 -1.51027882e+00 -7.05897272e-01 -8.80394280e-01\n",
      "   -4.34470177e-01  1.50972784e-01  9.11144093e-02 -6.33032382e-01\n",
      "   -8.28819573e-01 -4.28424269e-01  4.92682785e-01  8.43984306e-01\n",
      "   -4.61776972e-01  7.98324168e-01  2.84490585e-02 -3.40836257e-01\n",
      "    1.08330034e-01 -3.94504786e-01 -5.54343164e-01  1.65733829e-01\n",
      "    9.18390274e-01  5.34160912e-01  1.74974322e-01  6.22439921e-01\n",
      "    7.08592916e-03 -3.99951071e-01 -2.31636286e-01 -2.00085819e-01\n",
      "   -1.09286690e+00  1.06991613e+00  3.31878901e-01  3.41837168e-01\n",
      "    5.64106882e-01  1.59984604e-01  1.91880707e-02 -2.90841669e-01\n",
      "    4.68795091e-01 -2.62922108e-01 -1.52409121e-01 -3.63853216e-01\n",
      "    2.15165675e-01 -4.26726729e-01  2.13298142e-01  1.00118482e+00\n",
      "    1.39633223e-01 -6.46998346e-01 -3.51997375e-01  3.64063531e-01\n",
      "    7.29838908e-01  7.30678380e-01  1.53849766e-01  2.34359458e-01\n",
      "   -2.02517793e-01  6.00015938e-01  1.54743597e-04 -1.12371393e-01\n",
      "    5.91605365e-01 -5.22792339e-01 -3.04200858e-01 -4.51355875e-02\n",
      "   -6.90420151e-01  2.05942869e-01  1.49934486e-01  6.10530317e-01\n",
      "    2.04112604e-02  5.05700350e-01 -4.91079479e-01  7.03492820e-01\n",
      "    3.55447531e-01 -7.85105884e-01  2.46860981e-01  8.49685192e-01\n",
      "   -5.69441140e-01 -6.25571981e-02  6.98405981e-01 -1.37312353e-01\n",
      "   -1.20229892e-01  3.59140962e-01  4.67761904e-01 -3.97467047e-01\n",
      "   -6.45422190e-02 -1.36706650e+00  4.32939559e-01  3.16254646e-01\n",
      "   -3.50939900e-01  7.62741342e-02  8.52804482e-01 -6.01801455e-01\n",
      "   -1.32803500e-01  2.07706615e-02 -1.15206935e-01 -4.84136552e-01\n",
      "    1.09379733e+00  4.19023186e-01  2.17234075e-01 -7.00248182e-01\n",
      "    5.11845946e-02  5.39938152e-01 -2.32856914e-01 -5.69839001e-01\n",
      "    3.93392563e-01 -5.23410141e-01 -4.05177921e-02 -4.46334332e-01\n",
      "    6.01168215e-01  2.71126628e-02  2.07526252e-01 -1.08328962e+00\n",
      "    3.23699504e-01 -7.38774955e-01 -8.29121172e-02 -5.85356236e-01\n",
      "    4.70698386e-01  8.25393617e-01  2.64763027e-01  5.34896791e-01\n",
      "    7.41175413e-02  9.31263387e-01 -2.15897098e-01 -9.67577398e-01\n",
      "   -2.18860116e-02  1.87431082e-01 -8.73396873e-01  5.82444668e-02\n",
      "   -4.38877016e-01  1.15892804e+00 -1.63348615e+00  8.35506141e-01\n",
      "    2.02373251e-01  2.28060886e-01  2.86550969e-01  7.68715739e-02\n",
      "    1.90128684e-02 -3.12568128e-01  1.45184910e+00 -2.57972926e-01\n",
      "    4.21369284e-01  7.11368263e-01  8.38202477e-01  3.23114276e-01\n",
      "   -9.18810129e-01 -4.35805082e-01 -3.33294868e-01 -5.67622662e-01\n",
      "   -1.21330631e+00 -1.29398227e+00  4.90536988e-02 -3.12605828e-01\n",
      "    8.43805313e-01 -5.41725039e-01 -1.40817359e-01  1.60734817e-01\n",
      "   -8.00377905e-01 -4.51738447e-01 -3.58121395e-01  5.85693538e-01\n",
      "    5.98487198e-01 -7.17045069e-01 -9.88610759e-02  8.59571174e-02\n",
      "    1.13763726e+00 -3.57685179e-01  8.05298805e-01 -2.02022061e-01\n",
      "   -2.80461222e-01 -1.35741100e-01 -7.52451956e-01 -5.10225356e-01\n",
      "   -5.77029645e-01  2.33937845e-01 -2.89091498e-01  2.64029056e-01\n",
      "   -7.05230772e-01  9.97753203e-01 -5.16940176e-01 -1.64893568e+00\n",
      "    4.78357196e-01 -6.53560460e-01  2.15668365e-01  6.56178832e-01\n",
      "    8.16038609e-01 -2.31797829e-01  4.21354175e-01  2.01350495e-01\n",
      "    2.61783510e-01  8.43488395e-01  1.68391836e+00  6.99976921e-01\n",
      "    5.76775074e-01 -3.47740620e-01 -5.54483652e-01  5.60519516e-01\n",
      "   -3.69645745e-01  7.13812113e-01 -2.52831668e-01  9.35068056e-02\n",
      "   -2.07094803e-01  4.15246844e-01 -7.04008639e-01 -2.69080430e-01\n",
      "   -4.55249876e-01 -5.28914273e-01  2.72370040e-01 -7.34747425e-02\n",
      "   -3.03396642e-01  1.27322957e-01 -1.00893676e-01  2.24908590e-01\n",
      "   -2.75272638e-01 -1.06920339e-01 -8.91194820e-01 -4.33308892e-02\n",
      "    3.72127146e-01 -3.60703111e-01  1.25971094e-01  2.32563630e-01\n",
      "   -1.26030123e+00  1.35895193e-01  8.98485184e-01 -1.08164102e-01\n",
      "    8.52189064e-02 -4.74781066e-01 -3.60984474e-01 -2.71496683e-01\n",
      "   -3.32987159e-01  3.60008717e-01  5.39788604e-01  5.37106037e-01\n",
      "   -4.53072548e-01 -3.17435354e-01 -2.70156056e-01 -2.64328837e-01\n",
      "   -1.63250968e-01 -4.51868176e-01 -1.17362000e-01 -4.12261575e-01\n",
      "   -2.90346652e-01  8.25939849e-02  1.24004044e-01  8.22770149e-02\n",
      "    9.32640493e-01  1.43174934e+00 -1.88740432e-01 -2.85681516e-01\n",
      "    4.40443046e-02 -3.11177641e-01 -7.11616993e-01 -1.06085241e+00\n",
      "   -7.91372240e-01 -8.15257132e-01  5.45379698e-01 -5.49122155e-01\n",
      "   -3.58457834e-01 -7.06486553e-02  1.00089507e-02 -6.10916197e-01\n",
      "    4.25509028e-02 -5.93208112e-02  6.80325449e-01 -3.03653151e-01\n",
      "    5.07591069e-01  7.43664563e-01  1.48534775e-01  2.01882288e-01\n",
      "    1.43303835e+00 -2.96860904e-01  3.56555551e-01  9.38664451e-02\n",
      "   -1.41641700e+00  1.46943808e-01 -4.30647254e-01 -2.49707341e-01\n",
      "   -2.74463534e-01  1.48304224e-01  3.07677418e-01 -9.79118764e-01\n",
      "   -7.50160590e-02  1.32491529e+00  3.92521501e-01  3.65114182e-01\n",
      "    5.24265409e-01  1.42803371e-01  2.63668805e-01 -7.94892371e-01\n",
      "    9.18385163e-02  2.59736091e-01 -2.98943847e-01 -2.23746642e-01\n",
      "   -5.36808789e-01  3.86302948e-01  4.24719572e-01  3.06677014e-01\n",
      "    6.54252350e-01  8.88752043e-01 -5.28026283e-01  6.63683414e-01\n",
      "   -8.09582651e-01  8.64990711e-01  4.25299197e-01 -2.50666142e-02\n",
      "   -3.95759732e-01 -3.02825093e-01 -5.87693639e-02  1.25591129e-01\n",
      "    3.17365646e-01  1.70758963e-01  5.82842827e-02 -8.85401070e-01\n",
      "   -1.76822498e-01 -1.65865466e-01  5.39531887e-01 -6.15660369e-01\n",
      "   -4.83284205e-01  4.71739657e-02 -9.68435407e-02  6.32409275e-01\n",
      "    6.72996715e-02 -2.95072019e-01  2.41610527e-01 -7.77581990e-01\n",
      "    2.54020751e-01  6.11695230e-01 -3.89965368e-03 -7.21705496e-01],\n",
      "  http://abcn.ws/2Dwr16b: [-8.84969354e-01 -5.91313183e-01  3.54575515e-02 -5.15801370e-01\n",
      "   -5.50219476e-01  1.49807847e+00  7.46759474e-01 -4.61746335e-01\n",
      "    1.42885372e-01 -1.15700650e+00 -2.82155238e-02 -1.28082001e+00\n",
      "   -1.16356301e+00  1.37449801e-01 -6.13899648e-01  7.08232880e-01\n",
      "    5.40997237e-02  7.36838281e-01  6.82975650e-01  2.65174210e-01\n",
      "   -1.43072098e-01  9.53975692e-03 -1.40393034e-01 -6.30575061e-01\n",
      "    8.71189892e-01  1.17195994e-01 -4.74494040e-01  3.47774774e-01\n",
      "   -6.50923193e-01  8.66813064e-01  1.81652617e+00  3.83667827e-01\n",
      "    1.62935030e+00  7.76637912e-01 -1.07576501e+00 -6.34524465e-01\n",
      "    1.29052669e-01  3.84045899e-01  2.41424039e-01  2.53875107e-01\n",
      "   -2.83153355e-01  3.23905945e-01 -3.39997262e-02 -5.71582876e-02\n",
      "    2.95650393e-01 -2.34169722e-01 -1.43301606e+00  3.35519351e-02\n",
      "   -1.27573335e+00 -3.75379771e-02  4.45474327e-01  1.35398179e-01\n",
      "    9.04488444e-01  3.80927652e-01  3.41828227e-01  1.23816240e+00\n",
      "    8.93797219e-01  7.61935532e-01 -8.86920094e-01 -2.55769908e-01\n",
      "    2.44340390e-01 -1.58472657e-01  1.34088290e+00 -5.74103057e-01\n",
      "    1.55960277e-01 -9.03803185e-02 -3.61832619e-01  5.32178164e-01\n",
      "   -1.76404286e-02 -1.78088665e-01  2.28553966e-01 -8.11161757e-01\n",
      "   -1.33555368e-01  8.83266926e-01 -1.35920241e-01  1.07462907e+00\n",
      "   -4.81587172e-01  7.76091576e-01  2.00093055e+00  5.42059481e-01\n",
      "    1.59598291e-01 -4.69625533e-01  8.26682150e-01 -2.75448382e-01\n",
      "   -9.52056646e-02 -1.43251204e+00 -6.41667098e-03  4.65839237e-01\n",
      "   -4.64593843e-02 -5.22229671e-01 -3.07105213e-01 -5.84888339e-01\n",
      "    1.33893287e+00  9.84313548e-01  4.29592609e-01 -5.65301180e-02\n",
      "    3.91802251e-01 -5.19474983e-01  6.70592040e-02 -2.29619578e-01\n",
      "    1.23601660e-01 -5.72096944e-01 -4.25299078e-01 -3.19951743e-01\n",
      "    2.48195738e-01 -1.04221380e+00 -3.24197650e-01 -1.73466757e-01\n",
      "    1.25365913e-01  7.27626681e-01 -9.55433726e-01  1.29992139e+00\n",
      "    7.22548723e-01  2.72729695e-01 -3.60639542e-01 -2.63764076e-02\n",
      "    3.95487547e-01 -4.47588742e-01 -5.59083484e-02  1.40281990e-02\n",
      "    1.64155662e-01  7.12830305e-01 -7.55092025e-01 -6.63792729e-01\n",
      "    8.36370885e-02 -3.61599386e-01  1.42177260e+00  7.24424720e-01\n",
      "   -1.53911924e+00 -5.21593332e-01  8.50827575e-01 -4.36612070e-01\n",
      "    3.34785968e-01  9.27851677e-01 -5.61284661e-01 -8.78385663e-01\n",
      "   -2.51419961e-01  4.13950175e-01  9.64477584e-02 -2.69517839e-01\n",
      "   -1.72092974e+00 -3.19596052e-01 -5.76158047e-01  5.63670397e-01\n",
      "   -5.39028347e-01 -1.99406460e-01  4.00294393e-01  7.00374007e-01\n",
      "   -8.09711337e-01  3.18284243e-01  2.39645347e-01 -7.58473575e-01\n",
      "   -8.13437998e-01  1.08840692e+00 -9.21815634e-01  6.84580922e-01\n",
      "    6.34098828e-01 -6.68767273e-01  9.01382565e-02 -8.67637217e-01\n",
      "    6.06767535e-01 -8.72844309e-02 -7.99358070e-01 -1.36141777e+00\n",
      "    1.36603236e+00  9.99604523e-01 -5.87930322e-01  2.64000893e-01\n",
      "    6.18615746e-01 -1.86222613e-01 -3.38337868e-01 -3.90795678e-01\n",
      "    4.77800071e-02  1.78643972e-01  1.77135184e-01  1.48546851e+00\n",
      "   -3.38663578e-01 -8.67067397e-01  4.36832719e-02  4.09749478e-01\n",
      "   -5.12917471e+00  5.44607878e-01  6.28066361e-02  8.43029171e-02\n",
      "    1.06584275e+00  1.89006366e-02 -1.40916616e-01  3.21293205e-01\n",
      "   -1.55714720e-01  6.44561887e-01 -3.45895797e-01 -5.05825102e-01\n",
      "   -5.09795129e-01  2.55351692e-01  4.88043278e-01 -2.64054805e-01\n",
      "   -1.11653304e+00  1.12132716e+00  1.19997144e+00  8.31883848e-01\n",
      "   -2.53765255e-01  6.54891208e-02  4.84403729e-01  6.45027637e-01\n",
      "   -5.07646322e-01  4.12238896e-01  8.55720818e-01  2.65002251e-03\n",
      "   -3.83697122e-01  8.85560453e-01 -3.63756865e-01 -1.29315212e-01\n",
      "    1.71216965e-01  7.44889796e-01  4.23081338e-01  5.34026504e-01\n",
      "   -3.41561735e-01 -5.16984701e-01  2.55506247e-01 -4.80746150e-01\n",
      "    9.04993773e-01 -6.11069202e-01 -3.07452619e-01  3.72875184e-01\n",
      "   -1.40365875e+00  5.03446460e-02  1.18423462e+00 -1.14896923e-01\n",
      "    3.61702681e-01 -1.34151602e+00  4.45129052e-02  1.89641863e-01\n",
      "   -1.17445931e-01  1.03301644e-01 -2.32345432e-01 -1.34562862e+00\n",
      "    2.63574749e-01 -1.13452625e+00  9.36944634e-02  3.57205480e-01\n",
      "    7.12108910e-01  2.10901332e+00 -5.21069229e-01  4.70040739e-01\n",
      "   -1.27958882e+00 -5.86482584e-01 -4.70422238e-01 -3.09676886e-01\n",
      "    3.33658755e-02 -3.42965096e-01  6.52040958e-01 -2.50448763e-01\n",
      "   -1.10786927e+00 -1.90477043e-01  1.56063110e-01  3.90854269e-01\n",
      "   -2.23099843e-01  6.18794858e-01 -4.48503703e-01  2.52924174e-01\n",
      "   -5.37569582e-01 -7.01263130e-01 -2.87555158e-01 -6.15439117e-01\n",
      "   -1.50711596e+00 -2.35108566e+00  2.46559292e-01 -1.15482971e-01\n",
      "   -2.70121515e-01  1.76278144e-01 -2.63530791e-01  5.61638296e-01\n",
      "    2.68456727e-01  3.05775821e-01  3.51765901e-02  5.65541863e-01\n",
      "    3.75751883e-01  4.53092098e-01 -1.26160812e+00  4.18943733e-01\n",
      "   -5.78209341e-01  4.36557144e-01 -3.10053974e-02 -8.60914588e-01\n",
      "   -2.73672581e-01 -7.85895944e-01  1.12206221e+00 -7.69686282e-01\n",
      "    2.27050275e-01  7.33391702e-01 -5.52703798e-01  8.27819258e-02\n",
      "    1.58723101e-01 -3.18316907e-01  1.39079082e+00  5.82960725e-01\n",
      "    5.50473988e-01  1.09913790e+00 -1.15389848e+00  6.09562814e-01\n",
      "   -1.51503253e+00 -5.59165359e-01 -2.99015880e-01 -1.48520219e+00\n",
      "    7.44332433e-01  3.30932528e-01  7.59304166e-01  6.22052372e-01\n",
      "   -1.20455277e+00  7.56982327e-01 -3.36247951e-01 -3.42231274e-01\n",
      "   -9.60329890e-01  1.99543163e-01  2.88218260e-04  4.63053852e-01\n",
      "   -1.00953773e-01  4.92145240e-01 -6.37683570e-02  5.43192685e-01\n",
      "   -7.87145019e-01  4.31893766e-01 -6.33809328e-01  1.09890170e-01\n",
      "    1.39809847e-01 -2.56257594e-01  2.41724551e-01 -9.09934491e-02\n",
      "    5.61847806e-01 -2.93412596e-01 -7.98204362e-01  3.88123721e-01\n",
      "    2.97876388e-01  4.81491148e-01 -1.47287858e+00 -2.91282922e-01\n",
      "    1.16069764e-02 -5.33885695e-03  2.17513330e-02  2.86200464e-01\n",
      "   -1.50963664e-02  5.21820635e-02  3.41400981e-01 -2.73156017e-01\n",
      "   -2.71217525e-01 -4.23340261e-01  1.58089474e-01 -7.66773224e-01\n",
      "    1.23647714e+00 -1.36234149e-01 -1.98588240e+00  3.62907350e-01\n",
      "    2.76793540e-01 -4.89116371e-01 -2.02105448e-01  8.48851800e-01\n",
      "   -2.73484290e-01 -7.63949871e-01  7.13610291e-01  1.81371160e-02\n",
      "    1.36034024e+00 -5.15688419e-01  1.79330543e-01  6.08230352e-01\n",
      "    8.83830488e-01 -4.69185829e-01  7.29924440e-01  3.82005990e-01\n",
      "    1.20813227e+00 -1.71106130e-01 -7.86254466e-01 -2.67141014e-01\n",
      "   -1.74189225e-01  2.57528961e-01  3.08490723e-01 -1.97574452e-01\n",
      "   -9.87773955e-01  6.96027696e-01 -9.19624925e-01  4.94721562e-01\n",
      "   -8.45050365e-02  4.90094095e-01 -1.79133385e-01 -4.32653934e-01\n",
      "    3.10259432e-01  6.39718592e-01  3.60032439e-01  3.31881382e-02\n",
      "    1.49024390e-02  1.65040195e-01  6.43144608e-01  2.47599795e-01\n",
      "   -1.24471974e+00 -5.00724912e-01 -4.15283889e-01 -3.36477160e-01\n",
      "   -3.61535460e-01  2.14861304e-01  8.99250507e-01 -1.39111018e+00\n",
      "    6.75096095e-01 -5.69766723e-02  4.19861257e-01  1.29101944e+00\n",
      "   -1.20198762e+00 -4.80954319e-01 -3.20470095e-01 -5.66040277e-01\n",
      "    5.16545773e-01 -6.28013015e-01 -2.80205160e-01  6.59171462e-01\n",
      "   -6.54850781e-01  1.33945927e-01  4.71765757e-01 -3.15320015e-01\n",
      "   -2.34342813e-01  2.70991057e-01  5.54894149e-01 -7.85996616e-01\n",
      "    2.79130757e-01  1.05633390e+00  9.57016349e-01  5.91289699e-01\n",
      "    6.31682098e-01  7.85525739e-02  1.04086053e+00  3.82343113e-01\n",
      "   -3.08932960e-01  3.97373550e-02 -1.37815356e+00  9.68754530e-01\n",
      "    1.03892851e+00  7.61452854e-01 -9.34523106e-01  1.25376749e+00\n",
      "   -3.70521903e-01 -3.83831918e-01  2.70004511e-01 -3.79032016e-01\n",
      "   -1.19712758e+00 -5.13106227e-01  7.42484450e-01  5.19427598e-01\n",
      "   -3.95851135e-01 -1.15801024e+00 -1.64286196e-01 -7.84599662e-01\n",
      "   -4.08896148e-01 -2.72550166e-01  1.55007347e-01  1.09529212e-01\n",
      "   -2.56136358e-01 -2.25786716e-01  1.08108878e-01  1.47794425e+00\n",
      "   -2.08324686e-01  1.40194118e-01 -4.60482776e-01 -1.57063454e-02\n",
      "    4.51309502e-01 -4.52429324e-01  9.51606810e-01 -8.43105376e-01\n",
      "    1.09791207e+00  8.81371856e-01 -1.75802678e-01  6.70458198e-01\n",
      "   -5.07686734e-01 -2.17240334e-01 -1.94975615e-01 -1.07090116e+00\n",
      "    2.61380672e-01  6.07970655e-01  6.26808345e-01  7.94654727e-01\n",
      "   -1.16133265e-01 -8.66206288e-01  7.28064179e-01  5.48420787e-01\n",
      "   -4.73028392e-01 -6.24957457e-02 -4.83971179e-01 -2.46279016e-01\n",
      "   -7.32334852e-01  2.54648328e-02  1.63042653e+00 -1.52814463e-01\n",
      "   -3.79465707e-02  7.68600404e-02  1.26291215e-01 -2.81030267e-01\n",
      "    8.30888450e-01 -8.53813253e-03  1.32366985e-01  1.05878401e+00\n",
      "   -1.62488326e-01  5.39378405e-01  6.03488028e-01  3.06411892e-01\n",
      "   -5.30780792e-01 -1.52561700e+00 -3.04338425e-01 -8.11550379e-01\n",
      "   -4.75033402e-01  9.56761017e-02 -4.13438976e-01  6.10355318e-01\n",
      "   -5.58568299e-01  3.92212540e-01 -2.66712487e-01  9.69255090e-01\n",
      "   -6.47888482e-01  2.52378434e-02  7.22846746e-01  2.86165208e-01\n",
      "   -5.20139277e-01  5.41993499e-01  1.05664194e-01 -5.49130082e-01\n",
      "   -3.58354926e-01 -1.82277918e-01  3.17098558e-01  1.45918071e-01\n",
      "   -5.91077149e-01 -1.44170547e+00  1.26852703e+00 -4.46934581e-01\n",
      "   -3.97920609e-01 -2.48928592e-01  6.50859237e-01  4.34508733e-02\n",
      "    1.73179090e-01  3.37118506e-01  2.47862488e-01 -3.75347555e-01\n",
      "   -2.19114423e-01 -4.16101426e-01  8.66226494e-01  3.31239343e-01\n",
      "   -7.01623917e-01  5.98352194e-01 -1.35718334e+00 -6.91499949e-01\n",
      "   -1.25947639e-01  3.40506107e-01 -4.99357522e-01 -5.26557684e-01\n",
      "    1.45431370e-01  4.61332798e-01 -5.25831759e-01 -6.32072806e-01\n",
      "   -5.36304832e-01 -1.26538420e+00  7.31635451e-01 -7.84256607e-02\n",
      "   -3.03904504e-01  9.00928140e-01  2.23771408e-01  5.69272935e-01\n",
      "    3.78077030e-01 -3.68925005e-01 -2.36514378e+00 -6.57523036e-01\n",
      "    3.24889362e-01  2.45808780e-01 -4.49853502e-02 -5.50840318e-01\n",
      "   -1.71607397e-02  4.89216708e-02 -1.16665173e+00 -7.65299857e-01\n",
      "    3.57671455e-03  7.49576569e-01  8.46876204e-01 -2.78611660e-01\n",
      "   -1.89048909e-02 -1.39319271e-01  2.66262555e+00  8.31446350e-01\n",
      "    1.14549172e+00  1.31862986e+00  3.00435930e-01  4.44688708e-01\n",
      "   -5.74744046e-01  7.66877830e-01 -3.03915113e-01  3.94416451e-01\n",
      "   -3.89153868e-01 -5.72900832e-01 -3.44938427e-01 -4.33463275e-01\n",
      "    6.71993256e-01 -8.00513983e-01  7.64134645e-01  1.09097779e+00\n",
      "   -3.42076898e-01 -5.19026101e-01  2.01921746e-01 -1.03481300e-01\n",
      "    6.66592002e-01 -9.27054882e-01 -8.18867236e-04 -8.63666117e-01\n",
      "    6.65127873e-01  1.89378247e-01  2.74584472e-01  6.18620276e-01\n",
      "    2.82259881e-01 -2.22407818e-01  6.36071444e-01 -9.55762088e-01\n",
      "   -7.27481663e-01 -3.43166918e-01  2.48220533e-01 -5.70387021e-02\n",
      "   -9.93112266e-01  3.24873567e-01 -2.52724648e-01 -1.51718661e-01\n",
      "   -3.43404353e-01 -3.47718894e-01  7.26379305e-02 -8.11703324e-01\n",
      "    6.24085546e-01 -1.06570184e+00  1.43616009e+00  7.15340436e-01\n",
      "    6.39266729e-01 -7.10264802e-01 -8.69375542e-02 -1.39533028e-01\n",
      "    2.47276604e-01 -8.05227816e-01  6.16482079e-01 -8.15973356e-02\n",
      "   -9.15372074e-01  4.15260762e-01 -6.70468748e-01  4.62449491e-01\n",
      "   -3.54146659e-01 -3.97427380e-01 -8.34723055e-01  4.66572285e-01\n",
      "   -7.29200244e-01  3.91317345e-02  1.48897782e-01  1.67040944e+00\n",
      "   -5.57940364e-01 -3.65184844e-01  4.18026447e-01 -1.32256299e-01\n",
      "   -7.61633515e-02 -4.16903138e-01 -6.52648985e-01 -8.50676298e-02\n",
      "    6.19198024e-01 -4.79387671e-01  3.11053753e-01 -5.79354912e-03\n",
      "   -1.50712967e+00  1.32632777e-01  7.43226826e-01 -8.97132635e-01\n",
      "   -3.32060456e-01 -1.00461447e+00 -6.83321655e-02 -6.01541996e-01\n",
      "   -6.12094641e-01  5.02945304e-01  3.57080638e-01  8.57277572e-01\n",
      "   -6.25539660e-01 -1.36233658e-01 -5.76554418e-01 -8.39574784e-02\n",
      "   -2.85699964e-01  3.67942125e-01  1.24082732e+00 -3.55615646e-01\n",
      "   -2.21353590e-01  3.13726693e-01  2.25625262e-02 -1.37748361e+00\n",
      "    1.37027717e+00  1.15526116e+00 -1.05843496e+00 -5.41287482e-01\n",
      "   -1.36961269e+00 -1.27958402e-01 -3.38951707e-01 -4.41345751e-01\n",
      "   -5.57605624e-01 -1.02353418e+00 -2.66567647e-01 -9.96986389e-01\n",
      "    3.44193637e-01  3.39720905e-01  2.56792992e-01 -1.04213285e+00\n",
      "   -1.13570547e+00 -5.34460247e-01  2.73671187e-03  4.31068569e-01\n",
      "    3.04561049e-01  5.58423221e-01  1.13162652e-01 -2.13779062e-01\n",
      "    1.45208132e+00  6.32584095e-02  9.14496422e-01 -8.56973648e-01\n",
      "   -3.61738175e-01 -7.93877482e-01 -9.63991284e-02  6.26849458e-02\n",
      "   -8.10742855e-01  3.64071876e-02 -8.17681015e-01 -1.28796148e+00\n",
      "   -1.04958260e+00  2.13902926e+00 -4.42596704e-01 -3.79979871e-02\n",
      "    1.19527805e+00  5.88967144e-01 -4.54854131e-01 -7.69741178e-01\n",
      "   -1.17459679e+00 -3.45604539e-01 -6.98374271e-01  9.55767870e-01\n",
      "   -7.28935421e-01 -1.07184589e-01  3.97078931e-01  2.60697216e-01\n",
      "    9.76351500e-01  1.47877312e+00  6.37563407e-01  2.23595053e-02\n",
      "    2.10676536e-01  4.82967138e-01 -6.28279746e-01 -1.50305581e+00\n",
      "    2.00974762e-01  6.16712809e-01  8.67289156e-02  7.61384249e-01\n",
      "    3.99674058e-01 -5.67424297e-01  4.30464447e-01  5.09865284e-01\n",
      "   -4.31634903e-01 -4.73369420e-01 -3.15438092e-01 -2.14262798e-01\n",
      "   -6.21775329e-01  4.78280425e-01 -2.96826184e-01 -4.23821628e-01\n",
      "   -1.05239630e-01 -9.36062872e-01  3.47961694e-01 -3.45198959e-01\n",
      "    5.52121878e-01  4.64503616e-02 -9.90993261e-01 -1.17071068e+00],\n",
      "  ...,\n",
      "  https://www.yorkregion.com/shopping-story/8036856-extreme-cold-sparks-increased-rodent-infestations/: [-1.08618706e-01 -5.36130786e-01 -1.09415281e+00  2.57856071e-01\n",
      "    1.45609343e+00  1.23244131e+00  5.96549332e-01  3.40793759e-01\n",
      "   -4.60477248e-02  2.55724430e-01 -9.21070695e-01 -5.36801100e-01\n",
      "    1.95925713e-01  2.11318731e-01 -7.82899022e-01  1.34432220e+00\n",
      "   -6.00513518e-01  4.50420260e-01  1.97214633e-01 -9.63856280e-03\n",
      "   -4.48669493e-01 -4.68380511e-01  1.32465661e-01  1.33512035e-01\n",
      "    3.78502071e-01  6.35364532e-01  4.87080425e-01  1.33414909e-01\n",
      "    5.51620364e-01 -7.74557889e-02 -1.10952348e-01  5.44747531e-01\n",
      "    1.74634004e+00 -1.22994326e-01  3.38381469e-01 -2.95109093e-01\n",
      "   -1.23223960e-02 -5.34269810e-01 -1.05945364e-01 -6.58694088e-01\n",
      "    1.55859202e-01 -2.98345208e-01  2.52751350e-01 -3.11101854e-01\n",
      "   -8.11235547e-01 -7.56843090e-01 -7.88309872e-01  3.13093007e-01\n",
      "   -1.35234371e-03  7.50241935e-01  1.37605980e-01 -1.68106213e-01\n",
      "    1.88194126e-01 -3.16277564e-01 -2.14444190e-01  4.25115436e-01\n",
      "    7.04655230e-01  1.26125038e-01 -6.07907534e-01 -2.13705629e-01\n",
      "    4.48444158e-01 -9.06861961e-01  9.19885516e-01  5.36946952e-01\n",
      "   -1.84797734e-01  1.05299592e+00 -5.13412535e-01  5.02480030e-01\n",
      "   -5.79216480e-01 -2.04427540e-01 -1.37851462e-02  1.27031994e+00\n",
      "   -2.88633499e-02  6.90070510e-01 -3.61246765e-01 -7.79361576e-02\n",
      "   -3.93650606e-02 -2.13785559e-01  3.78323913e-01  6.75190985e-01\n",
      "    1.69608146e-01 -2.79633164e-01 -5.08186340e-01 -1.03737645e-01\n",
      "    1.21472217e-01 -6.55805349e-01  4.76453990e-01  2.29187042e-01\n",
      "   -8.03316236e-01 -6.52198732e-01 -2.05443576e-02 -7.13267684e-01\n",
      "    2.63231665e-01 -1.78771794e-01  1.21909285e+00  6.82053685e-01\n",
      "    1.06720649e-01  2.66437232e-01  6.68929756e-01 -1.59882322e-01\n",
      "    4.15243149e-01 -1.39847592e-01  5.96754193e-01  3.11542064e-01\n",
      "   -5.70573330e-01 -4.93047923e-01 -6.08180404e-01  1.03808239e-01\n",
      "   -8.58561337e-01  4.55831558e-01 -6.50311410e-01  3.28314036e-01\n",
      "    4.27207708e-01 -2.18454748e-02  3.21317792e-01 -1.76849142e-02\n",
      "   -1.65746212e-01 -2.86195934e-01 -2.94687450e-01  5.31353772e-01\n",
      "   -6.32420361e-01 -7.39394903e-01 -3.14255774e-01 -1.14354432e-01\n",
      "   -5.07618964e-01 -2.79224634e-01 -2.20376000e-01 -8.77682045e-02\n",
      "   -1.10747576e+00 -8.52632403e-01 -4.96931702e-01 -5.57984471e-01\n",
      "    1.24273729e+00  7.77137876e-01 -6.20281339e-01  2.08697289e-01\n",
      "    4.20953870e-01  3.10648322e-01  6.26034021e-01  2.56155610e-01\n",
      "   -7.26733088e-01 -7.85450697e-01  2.62173176e-01  7.08162665e-01\n",
      "   -2.67883420e-01  6.23839438e-01 -4.11431551e-01  3.49714980e-02\n",
      "   -1.42320418e+00  1.08075070e+00  1.09571517e-01  8.38453472e-01\n",
      "   -3.98278207e-01  4.93819356e-01 -7.51387656e-01  1.31326282e+00\n",
      "   -3.03072095e-01 -4.64239955e-01 -8.65836382e-01  2.48583257e-01\n",
      "   -3.38110030e-01  5.25192201e-01  2.68136412e-01 -2.16537923e-01\n",
      "    6.07180297e-01  2.91121483e-01 -2.55419225e-01  3.35016191e-01\n",
      "   -2.81548738e-01 -4.23186421e-01  3.50726128e-01 -4.09042656e-01\n",
      "    4.32352722e-01 -6.92551583e-02  8.75198126e-01 -1.46357968e-01\n",
      "   -4.94313866e-01 -7.57763088e-02 -4.36390460e-01 -7.88771063e-02\n",
      "   -4.20656013e+00  6.35855794e-01 -8.52692947e-02  1.84255838e-02\n",
      "   -3.22440505e-01  6.12811685e-01 -1.96979761e-01  1.35355517e-01\n",
      "    9.17229772e-01  9.90037560e-01 -5.22384286e-01 -1.44136143e+00\n",
      "   -8.48678589e-01 -1.24905384e+00 -2.45181531e-01 -8.95957947e-02\n",
      "    4.84977104e-02  4.73700374e-01 -2.10522562e-01  3.46051872e-01\n",
      "   -1.75285637e-01 -3.27643335e-01  1.20699191e+00  3.26315671e-01\n",
      "   -7.56105602e-01 -9.55001831e-01 -7.10975587e-01  1.61863863e-05\n",
      "   -5.01259685e-01 -3.23874414e-01 -2.14559937e+00 -3.89999181e-01\n",
      "    1.15650272e+00  7.66197324e-01  2.99387276e-01  4.38753873e-01\n",
      "   -6.00310206e-01 -6.47016525e-01  2.79038668e-01 -1.69082952e+00\n",
      "    7.03592449e-02  6.76040053e-01  4.70168889e-01  2.76959240e-01\n",
      "   -1.22476697e+00  1.86423302e-01  1.72557843e+00  4.37462926e-01\n",
      "   -4.76603173e-02 -4.49716091e-01  3.18272829e-01  8.59056294e-01\n",
      "    8.88550580e-01  5.63792467e-01 -8.08027573e-03 -2.96603560e-01\n",
      "    6.43682778e-01 -4.77762491e-01  3.67194355e-01  2.13856205e-01\n",
      "    4.15084273e-01  3.31381440e-01  6.46483481e-01 -3.52670461e-01\n",
      "    6.26882434e-01 -2.91871488e-01 -2.31619716e-01  7.68737644e-02\n",
      "   -5.79019547e-01 -4.70280439e-01  3.65997642e-01  2.99954146e-01\n",
      "    2.37805173e-01  7.78682351e-01  4.75534260e-01  1.55125856e-01\n",
      "   -6.42823696e-01 -6.33649826e-02  8.14043403e-01  5.49996972e-01\n",
      "   -7.97435999e-01 -2.24988423e-02  2.41274647e-02  3.54967296e-01\n",
      "    1.08463430e+00 -3.05686861e-01  2.28635222e-02  7.98418522e-01\n",
      "   -6.49420202e-01  6.60701573e-01 -1.42580107e-01  8.03678691e-01\n",
      "   -1.41850449e-02 -4.39784706e-01  4.10669506e-01  1.89362884e-01\n",
      "    4.20338988e-01  7.28107691e-02 -5.00340343e-01 -2.22724080e-01\n",
      "   -4.54615772e-01  6.53052568e-01  6.10946715e-02 -5.04990220e-01\n",
      "    3.32157969e-01 -4.31147099e-01  2.13204131e-01 -6.94729567e-01\n",
      "   -6.58512115e-02 -4.69289243e-01  8.65472108e-02 -3.43255326e-03\n",
      "   -5.54916441e-01 -4.07046527e-02  2.02569842e+00  7.21692264e-01\n",
      "   -2.64001995e-01  5.60716927e-01  1.50207147e-01  1.35344267e-01\n",
      "    4.56009597e-01 -1.07294130e+00  4.12076890e-01 -1.04943648e-01\n",
      "    1.78160891e-03  1.02222957e-01  7.19793290e-02 -7.22378910e-01\n",
      "   -2.08203268e+00  9.14190710e-01  3.50497723e-01 -9.58285093e-01\n",
      "   -9.31163430e-01 -9.47172791e-02 -5.06576747e-02 -5.60576133e-02\n",
      "   -4.62664306e-01  2.29563117e-01 -5.66582680e-01  3.80975634e-01\n",
      "   -6.56465471e-01  3.61656338e-01  2.05041200e-01  3.26681703e-01\n",
      "   -6.59296513e-01 -4.65247661e-01  2.82201976e-01 -6.91973627e-01\n",
      "    2.45409280e-01  1.21837521e+00  3.16480100e-01  7.09949613e-01\n",
      "   -9.07247663e-02  3.02510560e-01  1.94828734e-01  4.83775884e-03\n",
      "   -2.75463104e-01 -1.89354420e-02  3.71608555e-01 -6.76880300e-01\n",
      "   -9.06905174e-01 -2.90592492e-01 -4.89029825e-01 -2.38727584e-01\n",
      "   -1.39502496e-01 -1.36837870e-01  1.04866982e+00 -8.37948084e-01\n",
      "    2.56191880e-01 -1.46021354e+00  1.43634275e-01  1.42716952e-02\n",
      "    1.55096620e-01 -5.41888356e-01  8.65827024e-01  1.36567980e-01\n",
      "   -9.17323232e-01 -1.43878594e-01  4.38562393e-01  8.56869936e-01\n",
      "    1.01751006e+00 -5.15044704e-02 -6.07212067e-01  8.24354887e-01\n",
      "    1.30061448e-01  1.76730081e-02 -4.56038892e-01 -4.11212206e-01\n",
      "    2.38184184e-01 -7.94982612e-01  1.13446951e-01 -9.98445809e-01\n",
      "   -1.64853573e-01  1.02286220e-01 -1.04505730e+00 -6.49510801e-01\n",
      "    4.67077613e-01 -6.43628240e-01 -9.22265649e-01 -3.58661950e-01\n",
      "   -3.93981576e-01 -9.33693767e-01 -1.99928120e-01 -8.99208188e-01\n",
      "   -1.94308028e-01  1.15852213e+00  6.47833109e-01 -3.59504998e-01\n",
      "    4.53140289e-01 -1.41108048e+00 -2.98910201e-01  1.52407908e+00\n",
      "   -9.76266503e-01  6.35892451e-01 -8.01354170e-01  4.88779515e-01\n",
      "   -3.77817541e-01 -2.09120549e-02  1.52079320e+00 -5.74460208e-01\n",
      "    2.04983026e-01 -1.33894289e+00  8.66129398e-01 -2.68613137e-02\n",
      "   -5.10844588e-01 -1.15449286e+00 -2.40003496e-01 -9.72767234e-01\n",
      "   -3.91462088e-01  4.22987521e-01 -3.99529338e-01 -9.30237234e-01\n",
      "   -1.82898611e-01 -4.03451547e-02 -2.82768190e-01 -1.17834806e-01\n",
      "    2.88776994e-01 -9.37687755e-01 -4.12527621e-01 -7.14197040e-01\n",
      "   -5.24172410e-02  9.17914271e-01 -1.24510694e+00 -1.07048988e-01\n",
      "    7.00122952e-01  5.04840016e-01  7.55283177e-01 -1.71574920e-01\n",
      "   -1.27655670e-01 -2.54704535e-01 -7.83334792e-01  1.31844953e-01\n",
      "   -2.26723939e-01 -1.07640266e-01 -1.68181226e-01  7.78315187e-01\n",
      "    2.65764475e-01  7.58723140e-01  2.83793688e-01  5.99972248e-01\n",
      "    4.37302947e-01  7.92157054e-01  2.69273907e-01  3.06157917e-01\n",
      "   -5.36265373e-01 -8.11023235e-01 -1.02922964e+00  3.21206123e-01\n",
      "   -7.07158566e-01  8.00536871e-02 -2.00949818e-01  9.10522580e-01\n",
      "    3.13039348e-02 -1.70428589e-01  1.44632645e-02 -1.79846048e-01\n",
      "   -3.83341670e-01  1.83299392e-01 -2.06828579e-01 -2.83329189e-03\n",
      "   -5.64171597e-02 -1.31562924e+00  5.65558136e-01 -1.99306279e-01\n",
      "    3.10184002e-01 -5.36816195e-03 -6.27362505e-02 -5.33571601e-01\n",
      "    1.12353384e-01 -6.62687182e-01  7.06842393e-02 -8.99920881e-01\n",
      "    2.48582989e-01  1.21860385e+00  2.48388276e-01  1.88651234e-01\n",
      "    3.60619605e-01 -7.06691265e-01 -4.06041175e-01 -5.18495321e-01\n",
      "   -4.32332307e-01  9.87122655e-01 -1.15643680e-01  3.89036149e-01\n",
      "    4.01051939e-01 -1.48705512e-01  7.08116353e-01  1.25241411e+00\n",
      "   -2.00675249e-01 -1.21091592e+00 -2.95578837e-01 -8.77199695e-03\n",
      "    1.31846458e-01 -2.46483922e-01 -9.41284299e-01  9.08204168e-02\n",
      "    3.64790529e-01 -8.17857087e-02 -4.89870608e-01 -2.05217786e-02\n",
      "    2.19718367e-01 -5.65061450e-01 -3.29330802e-01 -3.71388882e-01\n",
      "    4.89196777e-02  4.40569445e-02  1.57373115e-01 -7.79888153e-01\n",
      "   -1.15414485e-01 -7.19570398e-01 -4.06269431e-01  2.90115744e-01\n",
      "    5.81741750e-01 -6.88858330e-01  2.77738631e-01 -7.11785376e-01\n",
      "   -9.27426338e-01  2.71243930e-01 -2.29315668e-01 -1.33572876e-01\n",
      "    5.58952510e-01  4.68617916e-01  3.02480727e-01 -6.59906864e-01\n",
      "    6.60957173e-02 -1.19782664e-01  6.93856120e-01 -3.52504820e-01\n",
      "    5.81283987e-01 -2.33599737e-01 -4.80006486e-02 -2.18015164e-02\n",
      "   -3.61615896e-01 -4.65199053e-01  6.84641719e-01 -7.49574065e-01\n",
      "   -9.05478597e-02 -1.16835482e-01  5.41533113e-01  1.52240291e-01\n",
      "   -3.26920033e-01 -3.95788640e-01 -3.15890938e-01 -1.85656324e-01\n",
      "   -3.57405543e-01 -1.79636478e-02 -2.67286271e-01  3.80845428e-01\n",
      "    1.13228679e+00  3.98162723e-01  6.74037814e-01 -3.65462691e-01\n",
      "    1.58856083e-02  5.69330156e-02 -2.80466646e-01 -4.22793597e-01\n",
      "   -8.25930089e-02 -1.70323759e-01 -6.04234219e-01 -6.37123346e-01\n",
      "   -2.39708826e-01  5.61127663e-01  3.64511758e-01 -8.79435658e-01\n",
      "   -6.88247323e-01  3.77241522e-01 -1.84832782e-01 -6.30474240e-02\n",
      "    1.92038715e-03 -6.09583020e-01 -7.03676939e-01  7.00181901e-01\n",
      "    5.81864715e-02  6.25945181e-02  1.69010252e-01  1.93894058e-02\n",
      "    2.93966308e-02 -1.59496337e-01  1.44012785e+00 -9.27189767e-01\n",
      "   -2.95023799e-01  5.47522426e-01 -4.48403955e-01  4.18074094e-02\n",
      "   -3.80776674e-02  1.78256601e-01  7.11256325e-01  2.28634298e-01\n",
      "    1.99294925e-01 -1.32946104e-01  1.27281994e-01 -4.69076455e-01\n",
      "    9.38519239e-01  4.79483932e-01  3.14280540e-01  6.10068738e-01\n",
      "   -1.30449384e-01 -8.61561894e-02  1.70705348e-01  4.27790463e-01\n",
      "   -3.09455693e-01 -7.11230636e-01  2.68147200e-01 -5.09203136e-01\n",
      "    2.14528263e-01  7.79047370e-01  1.62629151e+00  2.30605155e-01\n",
      "   -7.35741258e-02  4.88173217e-01  7.24993721e-02 -5.55377901e-01\n",
      "   -1.86147153e-01 -3.62251997e-01  7.41842985e-02 -6.04340136e-01\n",
      "    6.37069643e-02  2.06053600e-01  8.25827837e-01  3.89017403e-01\n",
      "    9.29728687e-01 -1.73929855e-01  7.98506379e-01 -2.59653747e-01\n",
      "   -2.92050272e-01  3.22601855e-01  8.70164216e-01  1.04275072e+00\n",
      "   -2.17207931e-02  5.54284692e-01  3.94323587e-01  6.21398449e-01\n",
      "    7.44604826e-01 -2.32924029e-01  5.41697860e-01  1.45005032e-01\n",
      "    9.38466787e-01 -2.86198854e-01  1.38656691e-01 -1.81640670e-01\n",
      "    2.81864941e-01  5.72504461e-01 -1.50326401e-01  4.43740785e-01\n",
      "    2.96996161e-02  7.40930587e-02  4.61220294e-01  9.81913060e-02\n",
      "   -1.23084299e-01  4.97869313e-01  1.85205609e-01  5.52291632e-01\n",
      "   -4.01058421e-03  7.16126859e-01 -1.02768660e+00 -3.77429157e-01\n",
      "    3.60036790e-01  7.84141198e-02  2.43657678e-01 -2.54925281e-01\n",
      "   -3.36208940e-01  2.41783068e-01 -7.79834747e-01  6.16053939e-01\n",
      "    7.14056015e-01 -1.13977647e+00  6.90244913e-01  7.85798252e-01\n",
      "   -2.98589528e-01  7.41693497e-01 -5.62318265e-01  1.27625614e-01\n",
      "    2.19555229e-01 -9.23703671e-01  1.96834952e-01 -1.35317588e+00\n",
      "    6.58918977e-01  1.17174029e-01 -2.49731570e-01 -1.08358312e+00\n",
      "   -2.12922245e-01 -3.96985382e-01 -2.11276457e-01  3.24569903e-02\n",
      "   -2.30561018e-01  5.33554196e-01 -3.02768588e-01 -7.92099476e-01\n",
      "   -6.24322534e-01 -5.07127464e-01 -1.75224632e-01 -1.61779213e+00\n",
      "   -5.11703014e-01 -4.81355667e-01 -7.18280137e-01 -2.16973469e-01\n",
      "   -3.11169356e-01 -8.62469524e-03 -6.71374619e-01 -4.83954370e-01\n",
      "    7.85851181e-01 -9.78902400e-01 -2.22118512e-01 -1.32770702e-01\n",
      "    1.21281505e+00 -6.06720090e-01  4.81260121e-01 -9.41309810e-01\n",
      "    1.39732516e+00  1.77118570e-01 -5.00068247e-01  1.40989408e-01\n",
      "   -4.30958718e-01  2.48091340e-01  1.84651874e-02  6.28397018e-02\n",
      "   -5.03288507e-01  5.88448763e-01  9.81633663e-01  3.32658231e-01\n",
      "   -1.64620876e+00  3.71457934e-01 -1.06828046e+00  1.96581632e-01\n",
      "    1.47726703e+00  8.22112262e-02 -6.84942305e-02 -6.26661301e-01\n",
      "   -1.00176334e+00 -2.45469987e-01  2.29975745e-01  1.99974030e-01\n",
      "   -1.30505610e+00  6.96231544e-01  6.80079103e-01 -1.08744428e-01\n",
      "    7.94211864e-01  5.29612482e-01  4.02903140e-01 -9.34553593e-02\n",
      "   -2.45598221e+00  6.51864707e-01 -3.93881440e-01  2.41790712e-02\n",
      "    5.96333981e-01  5.10161400e-01  7.27156103e-02  5.79243779e-01\n",
      "    2.09372669e-01  4.36337739e-01 -3.89702767e-02 -1.26389325e-01\n",
      "    4.73822176e-01  4.81921792e-01  1.97305098e-01 -4.14145917e-01\n",
      "   -7.54554331e-01  1.85695902e-01 -6.20341077e-02  5.91491759e-01\n",
      "    3.17516685e-01 -3.31851274e-01 -9.00574505e-01 -1.00197926e-01\n",
      "   -1.52575359e-01  3.01985234e-01  1.50004774e-01  2.66674042e-01],\n",
      "  https://www.yorkshirepost.co.uk/news/universal-credit-rollout-sees-food-bank-use-increase-across-yorkshire-1-8923670: [-3.54221106e-01 -4.48057503e-01  4.00280118e-01 -3.37018281e-01\n",
      "   -2.30384871e-01  1.38541067e+00 -1.53810978e-01 -5.67861497e-01\n",
      "   -6.91315472e-01 -1.48942977e-01 -7.44185448e-01 -7.10548580e-01\n",
      "   -2.01334283e-02  5.19757569e-02 -9.45045948e-01  4.18384671e-01\n",
      "    3.50348920e-01  1.03952205e+00 -1.08330452e+00 -1.54291809e-01\n",
      "    2.12777689e-01  1.74583375e-01  1.89600274e-01  2.72448391e-01\n",
      "    3.38634223e-01  4.00679678e-01 -1.82820782e-01 -7.61535406e-01\n",
      "    3.37394327e-02 -4.24972415e-01  6.57409012e-01  7.95198262e-01\n",
      "    9.98189270e-01  5.63634872e-01 -1.23649485e-01  1.04572155e-01\n",
      "   -5.85429609e-01  6.90735817e-01  3.18031937e-01 -1.05077803e+00\n",
      "   -1.60157278e-01 -9.27255210e-03 -1.83245584e-01  3.07965904e-01\n",
      "   -1.16153181e+00 -2.57337481e-01 -4.58490372e-01  1.03220475e+00\n",
      "   -1.02435696e+00 -3.31863761e-01  2.99448166e-02  5.69385171e-01\n",
      "   -1.54561475e-01  4.56193447e-01  1.65202332e+00  5.10623038e-01\n",
      "    2.64380306e-01 -8.99662793e-01 -3.16140264e-01  1.10672332e-01\n",
      "    9.13598239e-02 -9.65277672e-01 -1.57850891e-01 -1.63462341e-01\n",
      "   -8.08230102e-01 -7.33104646e-01 -2.12295577e-01  8.84682953e-01\n",
      "   -8.61676037e-01 -4.95598704e-01  3.64749461e-01 -3.09051663e-01\n",
      "   -3.75355572e-01  2.64286608e-01 -1.33984149e+00 -7.27874041e-01\n",
      "   -3.21227074e-01  4.94319558e-01  5.03912151e-01  7.04101086e-01\n",
      "    3.32543969e-01  2.87984282e-01  5.04947484e-01  6.49374425e-01\n",
      "    8.15903962e-01 -7.72124946e-01  3.42688799e-01  6.57963812e-01\n",
      "    6.77080676e-02 -8.71562362e-02  4.52629089e-01 -6.13748848e-01\n",
      "    7.50639066e-02  2.49013141e-01  4.58391756e-01  7.71187961e-01\n",
      "    6.53255999e-01 -2.79889256e-01 -4.45833057e-01  2.01375484e-01\n",
      "    6.57942235e-01 -1.76604271e-01  6.67231739e-01 -5.27847111e-01\n",
      "   -8.10693279e-02 -4.79105823e-02 -8.10710430e-01  2.10313961e-01\n",
      "   -4.89241987e-01  3.95362526e-01 -1.00147927e+00  4.24594164e-01\n",
      "   -2.99629539e-01 -6.54009640e-01  5.86616576e-01  4.89393584e-02\n",
      "    2.73221135e-02 -9.53741729e-01 -6.82568848e-01 -1.53841347e-01\n",
      "   -4.00308609e-01  8.65449965e-01 -3.29517126e-01  1.21844387e+00\n",
      "    6.44121587e-01 -8.79243851e-01  3.06964546e-01  6.92839444e-01\n",
      "   -7.41609395e-01 -4.99726266e-01  2.80427456e-01 -7.37414584e-02\n",
      "   -1.90627072e-02  6.45157039e-01 -6.06884540e-04 -1.29045904e+00\n",
      "    2.07922474e-01  6.52465448e-02  5.06539047e-01  3.43716860e-01\n",
      "   -9.24624026e-01 -2.29996800e-01  2.40648031e-01 -2.16325838e-02\n",
      "   -2.95217365e-01 -6.74201190e-01 -6.24341190e-01 -4.24214929e-01\n",
      "   -9.86011326e-01  1.41707885e+00  9.13072824e-01 -6.96998775e-01\n",
      "   -8.98794830e-02  1.04347430e-01 -6.41709149e-01  3.75886798e-01\n",
      "    5.45555532e-01 -3.38379860e-01 -6.34179413e-01  1.21912956e-02\n",
      "    1.56195953e-01  7.15575993e-01 -1.97432235e-01  5.28580248e-01\n",
      "   -1.88958094e-01  5.66695750e-01  4.19869453e-01 -3.74029875e-01\n",
      "   -4.83503491e-01 -3.99589747e-01 -1.59582660e-01 -1.50591815e+00\n",
      "   -3.21878195e-02 -1.69548154e-01 -7.59895086e-01  9.16728154e-02\n",
      "    6.20636940e-01  1.68198511e-01  9.41471279e-01  1.79146230e-01\n",
      "   -4.81910658e+00  1.36111081e-01 -2.45836183e-01  7.35518932e-02\n",
      "    4.04527903e-01  1.46589294e-01  3.28077406e-01 -3.34429890e-01\n",
      "   -3.95946167e-02  7.17493236e-01 -7.41894543e-01 -9.87231806e-02\n",
      "    6.33737028e-01 -1.04927754e+00  4.32225876e-02 -1.61369443e-01\n",
      "   -6.34736180e-01  4.11619060e-02  3.71508710e-02  3.84871632e-01\n",
      "    3.80370617e-01 -6.39402568e-01  1.01992548e-01 -1.11823022e-01\n",
      "    3.20595503e-01  5.38198411e-01  1.41865742e+00  6.95139170e-03\n",
      "   -7.68320024e-01  6.60968721e-01 -9.75874603e-01 -3.04039270e-01\n",
      "    9.31052044e-02  1.05613899e+00 -4.26710725e-01 -3.03657562e-01\n",
      "    3.17019343e-01 -1.24402605e-01  1.15345919e+00 -1.09471262e+00\n",
      "    9.14871395e-01  4.34092522e-01 -4.84113954e-02  3.96991186e-02\n",
      "   -3.61163706e-01  4.84817982e-01  1.27666342e+00 -4.52801108e-01\n",
      "    3.16217124e-01  8.47900882e-02 -1.54731795e-01  4.40456271e-01\n",
      "    6.95831358e-01  3.46571356e-01 -7.27066517e-01  3.54041368e-01\n",
      "    2.09345862e-01 -4.57854003e-01 -4.49895076e-02 -6.85325563e-01\n",
      "   -4.18228023e-02  8.24487448e-01 -3.15360837e-02 -2.22020105e-01\n",
      "   -2.57891089e-01  8.86743069e-01 -1.05779994e+00  1.03691185e+00\n",
      "   -4.21153635e-01 -2.50141710e-01  2.32096598e-01 -2.31359795e-01\n",
      "   -4.42056395e-02  1.91420302e-01 -1.45155221e-01 -3.05927801e-03\n",
      "   -4.73872513e-01  1.37843692e-03  2.64312625e-01  9.06977177e-01\n",
      "   -4.13711756e-01 -4.85100269e-01 -1.66985288e-01 -5.34837954e-02\n",
      "   -8.65476310e-01 -1.53872049e+00  6.38817668e-01 -6.74421310e-01\n",
      "    7.86528051e-01 -4.68844026e-01  1.04528558e+00  2.44377926e-01\n",
      "   -7.01629341e-01  8.73886645e-01  1.83778867e-01 -2.69154701e-02\n",
      "    1.00686300e+00  1.47104859e-01 -2.92985048e-02 -5.13091505e-01\n",
      "   -1.98011085e-01  1.14241159e+00  8.33511576e-02 -2.93305546e-01\n",
      "    6.16569459e-01 -8.18451166e-01  5.97513437e-01 -5.18558562e-01\n",
      "   -9.00233507e-01 -6.52868152e-02 -5.03576875e-01  1.55604458e+00\n",
      "   -1.73787534e-01 -1.57624260e-01  1.61326802e+00  2.59576350e-01\n",
      "    5.86898327e-01 -1.32383183e-01 -4.34735678e-02  3.37268561e-01\n",
      "    4.77799803e-01 -1.56823725e-01  4.82254028e-01 -2.09840655e-01\n",
      "    7.15256751e-01 -7.47914016e-01  1.54032767e-01 -4.17913079e-01\n",
      "   -1.49014664e+00  3.92680056e-02  3.12833279e-01 -6.60624444e-01\n",
      "    9.81129408e-01 -6.96891174e-02  5.63706048e-02 -3.73365474e-03\n",
      "   -5.70521533e-01  7.96038061e-02 -1.64575577e-02  4.95533705e-01\n",
      "    5.68997204e-01 -1.72336325e-01  5.38263738e-01  9.69247282e-01\n",
      "   -5.09322166e-01 -1.81948990e-02  1.35322526e-01  3.64772081e-01\n",
      "    1.07815397e+00 -2.50116169e-01 -3.84473652e-01  9.20391008e-02\n",
      "    2.93299109e-01  4.77754958e-02 -9.46462631e-01  1.24436140e-01\n",
      "   -7.80907214e-01 -1.33001506e-01  8.09395373e-01 -2.62552649e-01\n",
      "   -3.09178859e-01 -4.51172233e-01 -7.38935649e-01  4.42693979e-02\n",
      "   -6.89560950e-01  9.94949043e-02  3.95914942e-01 -1.99134958e+00\n",
      "   -3.72472435e-01 -1.10965498e-01 -5.48448980e-01  2.48513147e-01\n",
      "    5.97615659e-01 -5.54965854e-01 -2.91310906e-01 -4.01059955e-01\n",
      "   -1.65372384e+00  3.23753208e-01  3.43416542e-01 -1.80322289e-01\n",
      "    4.29887533e-01 -6.35340869e-01 -6.17599905e-01  1.15615040e-01\n",
      "    6.10152483e-01  4.25009519e-01 -4.71605301e-01  5.95425367e-01\n",
      "   -6.59551859e-01 -7.38037050e-01 -5.58872938e-01 -1.24078071e+00\n",
      "   -4.76662248e-01  5.51372468e-01 -3.02544739e-02 -5.44450879e-02\n",
      "    3.85711223e-01 -8.39894235e-01 -9.73521054e-01  2.71229684e-01\n",
      "    6.59777701e-01 -5.94986379e-01  3.46847415e-01 -5.40566862e-01\n",
      "    2.51525521e-01  1.28425464e-01  5.71610630e-01  5.36299407e-01\n",
      "    4.05138105e-01 -1.83962190e+00  2.55117148e-01 -4.55648333e-01\n",
      "   -5.87393701e-01  7.90059626e-01  2.72508323e-01 -2.50045389e-01\n",
      "   -2.61665106e-01  2.45923445e-01  5.65752745e-01 -8.74310434e-01\n",
      "    8.16587448e-01  1.46132931e-01  1.11320841e+00  6.49803400e-01\n",
      "   -6.48789644e-01  2.58900714e-03 -2.54090130e-01 -5.99584877e-02\n",
      "   -1.30861133e-01 -3.33197974e-02 -5.96116126e-01 -4.84800786e-02\n",
      "   -2.43898273e-01 -7.16706276e-01 -3.08435887e-01 -1.98492959e-01\n",
      "    3.52637380e-01 -7.19127357e-01  7.17668235e-01 -6.96593761e-01\n",
      "   -6.45249963e-01 -3.19718331e-01 -4.34682250e-01 -4.60187912e-01\n",
      "   -5.71371138e-01  2.99605876e-01  1.67800426e-01 -1.06097860e-02\n",
      "   -4.72226948e-01  4.82754678e-01 -5.21881282e-02  4.56748724e-01\n",
      "   -3.79506558e-01 -2.07132652e-01 -8.99648190e-01  6.32143438e-01\n",
      "    6.14360094e-01  3.00394654e-01  2.87095934e-01 -2.25197390e-01\n",
      "   -2.80345321e-01 -6.35820925e-02  8.51995647e-01  8.53823483e-01\n",
      "   -4.35156435e-01 -6.03823721e-01 -2.62667805e-01  2.97989041e-01\n",
      "    6.29850209e-01  2.08805904e-01  3.14704329e-01  2.96921283e-01\n",
      "    1.53918982e-01  7.95472622e-01  4.48917627e-01  1.17270422e+00\n",
      "   -5.09838343e-01  1.81393012e-01 -1.61190137e-01  2.37565115e-01\n",
      "   -2.90532947e-01 -9.37388420e-01  3.15205306e-01 -1.78450286e-01\n",
      "   -5.16344130e-01  9.87119973e-01  6.96821392e-01 -7.32111752e-01\n",
      "    7.75645226e-02 -1.27403677e+00 -8.76725018e-01 -3.65277566e-02\n",
      "   -7.25773945e-02  1.22172248e+00 -1.24486136e+00 -1.89882383e-01\n",
      "    8.19084406e-01  3.82841527e-02 -4.85789776e-03  1.95105359e-01\n",
      "   -4.47387457e-01 -2.28523612e-02 -3.10639352e-01 -5.27225547e-02\n",
      "    1.35235384e-01 -3.96211952e-01 -9.92516149e-03  1.43862116e+00\n",
      "   -6.49002612e-01 -2.99645633e-01 -6.14680707e-01 -1.01887333e+00\n",
      "   -2.47111842e-01 -1.15575843e-01 -7.13042080e-01  3.55675519e-02\n",
      "    1.06985748e+00 -9.17001784e-01  2.93736219e-01  2.22300529e-01\n",
      "    6.66972399e-01 -5.22466660e-01  4.46459502e-01 -2.40572765e-01\n",
      "    2.01746002e-01  4.98625666e-01 -1.21743953e+00 -4.70617920e-01\n",
      "   -1.04494107e+00 -4.38256890e-01  5.69758713e-01 -2.15487406e-01\n",
      "    2.88973689e-01 -1.02112019e+00 -1.88483074e-01 -4.38789845e-01\n",
      "   -8.11929882e-01  2.25048825e-01 -2.60244012e-01 -3.93431894e-02\n",
      "   -1.02811754e+00  6.76978767e-01 -5.71616769e-01 -9.38887596e-01\n",
      "   -3.32720838e-02  1.77299991e-01 -1.71277747e-01 -2.07830191e-01\n",
      "   -3.34225029e-01  7.02788830e-01  3.77967842e-02  3.08948666e-01\n",
      "    2.94391322e-03 -3.40226859e-01  1.41980112e+00 -8.10447156e-01\n",
      "    3.78202826e-01 -2.90395647e-01  5.04572630e-01  4.76784140e-01\n",
      "   -2.60866177e-03  3.45860720e-02 -3.40861082e-01  7.33124971e-01\n",
      "   -1.78972438e-01 -5.26755154e-01  2.29218602e-01  4.65352148e-01\n",
      "   -2.31758401e-01  9.50605869e-01 -2.10877910e-01 -8.75690937e-01\n",
      "   -9.55187306e-02  4.74491715e-01  7.53530636e-02 -6.13898516e-01\n",
      "   -4.82124351e-02  4.29211371e-02 -1.01805009e-01 -4.77680564e-01\n",
      "   -3.24943095e-01  2.62000531e-01 -9.06566858e-01 -9.11923945e-01\n",
      "   -4.05223042e-01 -7.87601024e-02  1.65271461e-01 -6.51790440e-01\n",
      "   -2.32648645e-02 -7.14926660e-01 -9.55879688e-02  5.80956638e-01\n",
      "    6.85475349e-01  4.51938897e-01  2.27975443e-01  3.65824819e-01\n",
      "   -4.15049464e-01 -1.63692605e+00  1.54962540e+00  3.59984010e-01\n",
      "    4.18048143e-01  4.48037624e-01  3.38669211e-01  4.90696579e-01\n",
      "    7.01893330e-01 -1.05994008e-01  3.26413602e-01  3.73096675e-01\n",
      "   -4.47932959e-01 -1.14235163e-01  1.13340318e+00 -1.66577622e-01\n",
      "    7.02559233e-01 -5.83159387e-01 -4.42401357e-02 -8.78669098e-02\n",
      "   -1.21504940e-01 -1.18040435e-01  3.30057979e-01  7.10158765e-01\n",
      "   -6.37378991e-01 -1.03863204e+00 -4.40967567e-02  1.48432106e-02\n",
      "   -4.18819904e-01 -1.57760754e-01  9.58443820e-01  2.46779040e-01\n",
      "   -1.22979216e-01 -6.29626662e-02 -3.29365700e-01  3.80843759e-01\n",
      "   -2.11065173e-01  1.14384198e+00 -5.17950840e-02 -3.30695987e-01\n",
      "   -1.11459887e+00  3.77999663e-01  1.97734475e-01 -2.40749165e-01\n",
      "    7.58195877e-01  5.34918249e-01 -5.97947538e-01 -4.03676540e-01\n",
      "    2.03289613e-01 -5.32230616e-01 -2.38850847e-01  1.43947661e-01\n",
      "    9.65323746e-01 -9.53656435e-02  2.41887067e-02  7.06518829e-01\n",
      "    3.48585278e-01  5.37825763e-01 -1.08162956e-02  2.44663432e-01\n",
      "   -2.23355815e-01 -1.42469019e-01  9.50388134e-01  3.67438108e-01\n",
      "   -2.09626555e-01  4.19501066e-01 -3.26414436e-01 -1.05103739e-01\n",
      "    3.16185057e-01 -1.08967252e-01 -4.70748425e-01  6.39636815e-01\n",
      "   -9.98422086e-01  2.91857589e-02 -7.45679066e-02  6.92864895e-01\n",
      "   -6.82824850e-03 -8.99536237e-02 -1.17194392e-01 -7.37446487e-01\n",
      "   -3.40417951e-01  2.25157902e-01 -3.50155115e-01 -6.02292299e-01\n",
      "   -1.50878266e-01 -7.30396295e-03  7.03941798e-03  6.86365843e-01\n",
      "    4.35182452e-01 -5.63564479e-01  3.81472319e-01  1.34351218e+00\n",
      "   -1.88533530e-01  1.03235137e+00  6.45739138e-01  8.74769390e-02\n",
      "   -7.38604546e-01 -9.26264048e-01 -1.79612920e-01 -9.01607811e-01\n",
      "   -2.14348778e-01  8.61408710e-01  1.24093723e+00  9.94770005e-02\n",
      "    4.74822074e-01  2.83800215e-01 -3.83542389e-01  3.01301181e-02\n",
      "    2.22271547e-01  9.29626763e-01  5.28444707e-01 -1.37190446e-01\n",
      "    2.53987998e-01  1.70707807e-01 -2.31322721e-01 -5.76894104e-01\n",
      "    8.04750502e-01 -1.73014581e+00  1.37262195e-01  6.82316050e-02\n",
      "   -7.04445541e-01 -1.09787561e-01  4.65648800e-01 -2.37388313e-01\n",
      "   -9.77041647e-02 -5.31892836e-01 -1.41188467e+00  9.47491154e-02\n",
      "    6.61405563e-01 -6.90069497e-01  1.23256934e+00  1.84310511e-01\n",
      "    7.23109245e-01  1.79284453e-01  1.37648150e-01 -6.85587749e-02\n",
      "   -4.37038392e-01 -2.81612128e-01 -1.65767863e-01  4.13608700e-01\n",
      "   -1.03624737e+00  3.42119187e-01  4.22415823e-01  5.95393896e-01\n",
      "   -9.66732681e-01  2.54487276e-01 -3.25596899e-01  3.23047608e-01\n",
      "    4.30912346e-01 -1.06572799e-01  1.15126051e-01 -3.20938438e-01\n",
      "   -8.67824852e-01  5.37884355e-01  1.59716412e-01 -6.82335719e-02\n",
      "    3.53314012e-01  2.18925312e-01 -7.41102034e-03 -3.24894458e-01\n",
      "   -8.18997025e-02  6.62377179e-01 -3.09628636e-01  2.97161251e-01\n",
      "   -9.47340190e-01  1.05822809e-01  2.23665982e-02  5.31977057e-01\n",
      "   -9.54147279e-02  4.48475599e-01 -2.49761894e-01 -7.11326301e-01\n",
      "   -5.51080704e-01  4.41965699e-01 -9.97746646e-01 -4.61069822e-01\n",
      "    7.62600079e-02  1.56841934e+00 -1.77851036e-01 -1.84360802e-01\n",
      "   -1.20614362e+00  1.20861542e+00  5.55994213e-01 -2.25252554e-01\n",
      "    1.73580214e-01 -3.48504543e-01  3.32942128e-01 -6.96233511e-02\n",
      "    8.11860990e-03  4.22126889e-01 -9.47281897e-01  1.44716561e-01],\n",
      "  https://www.zerohedge.com/news/2018-01-03/children-forced-freeze-baltimore-schools-open-no-heat: [ 1.39597254e-02 -3.90203565e-01  2.01005265e-01 -1.16291575e-01\n",
      "    3.50158840e-01  9.23880100e-01  7.48368025e-01  4.75277573e-01\n",
      "    6.01637773e-02 -3.47533971e-01 -4.50410038e-01 -7.47766256e-01\n",
      "   -6.63342535e-01  1.68904960e-01 -4.29360390e-01  1.02648664e+00\n",
      "    5.65712929e-01  9.11943495e-01  2.64779896e-01 -1.95212469e-01\n",
      "   -1.70211986e-01  1.10805808e-02 -1.66993141e-01 -1.53800830e-01\n",
      "    1.00428617e+00  7.55397320e-01 -2.96081185e-01  8.71216655e-02\n",
      "    2.76760846e-01  2.46914732e-03  8.46341074e-01  3.27128321e-01\n",
      "    1.60825717e+00  1.40530929e-01 -7.32381523e-01 -2.33732417e-01\n",
      "   -3.91714722e-01  4.07607079e-01  3.97851378e-01  9.58195925e-02\n",
      "    3.14213812e-01 -5.28875768e-01 -2.60826200e-01 -5.04144907e-01\n",
      "   -1.67097654e-02  2.60743827e-01 -6.63254678e-01  2.42070630e-01\n",
      "   -1.07235014e+00 -3.52131337e-01  1.00110143e-01 -2.18502507e-01\n",
      "    4.40421492e-01  5.52984886e-02  3.74500424e-01  3.18981975e-01\n",
      "    5.86693883e-01 -8.16667259e-01  1.67410836e-01 -8.48050833e-01\n",
      "    9.24571574e-01  8.07013083e-03  7.56705105e-01 -1.14980567e+00\n",
      "   -9.05200064e-01 -2.87101120e-01 -4.78545696e-01  1.07055569e+00\n",
      "   -6.42519295e-01 -1.26090813e+00  7.71159470e-01  4.28767055e-01\n",
      "   -5.38156569e-01  6.27130866e-01  4.06009585e-01  2.60488242e-01\n",
      "   -5.14374793e-01  6.92051589e-01  1.31181157e+00  8.60117614e-01\n",
      "   -6.84191406e-01  4.82038289e-01  7.89723873e-01 -7.57126808e-02\n",
      "   -2.98873186e-02 -2.61788160e-01  9.33501184e-01  5.57043552e-01\n",
      "   -9.33668241e-02 -3.96554619e-01  2.82023340e-01 -3.54091257e-01\n",
      "    1.01078606e+00  6.35491371e-01  9.90795910e-01  2.03926623e-01\n",
      "    1.58061311e-01 -8.28330696e-01 -2.95076102e-01 -5.52230299e-01\n",
      "   -2.89094299e-01 -2.37148348e-02  1.06012344e-01  8.02593410e-01\n",
      "   -7.88024902e-01  4.47516650e-04 -3.67098600e-01  2.58163482e-01\n",
      "   -1.09526312e+00  2.23688278e-02 -2.08587110e-01  5.61108112e-01\n",
      "    2.82422215e-01 -1.18865788e+00 -1.66206956e-01 -3.39099020e-01\n",
      "    7.95866191e-01 -4.62244481e-01 -4.37225074e-01  2.35414267e-01\n",
      "   -4.24236059e-01  5.54317057e-01  1.89979658e-01 -7.47710764e-02\n",
      "    2.87452072e-01 -4.14174050e-01  1.93218231e-01  5.98700523e-01\n",
      "   -7.68819869e-01 -3.15785520e-02 -2.52985563e-02 -2.07380876e-01\n",
      "   -1.99303329e-02  6.80880129e-01 -2.46645764e-01 -1.38507044e+00\n",
      "    3.52669984e-01 -1.35007948e-02 -1.25116110e-01  2.12487131e-02\n",
      "   -8.73101413e-01 -2.30025426e-02  3.88077497e-01  5.49171209e-01\n",
      "   -4.96270210e-01 -5.50410032e-01 -7.38527596e-01  6.80313766e-01\n",
      "   -4.98744726e-01  6.97517693e-01  4.09182638e-01 -8.11525285e-01\n",
      "   -4.55509812e-01  1.07912815e+00 -1.79030761e-01  9.14808095e-01\n",
      "    5.16125143e-01 -5.68270504e-01 -6.47416413e-01  7.65611464e-03\n",
      "    2.61154264e-01  4.92214680e-01 -1.03895821e-01 -8.81888211e-01\n",
      "    8.61313820e-01  1.10211861e+00  3.53207022e-01  4.71260756e-01\n",
      "    7.68862367e-02 -7.02888489e-01  5.86149096e-02 -1.82550383e+00\n",
      "   -1.34183121e+00 -1.64097115e-01 -3.20446759e-01  4.86307502e-01\n",
      "   -1.59185708e-01 -1.62812740e-01  3.39639306e-01 -1.47331804e-01\n",
      "   -5.53790474e+00  2.07179651e-01  2.27591828e-01  4.88861173e-01\n",
      "    5.51977992e-01 -3.25385779e-01  4.48539346e-01  1.25357851e-01\n",
      "    1.77872479e-01  4.42616135e-01 -2.53815025e-01 -1.11319683e-01\n",
      "    4.37831402e-01 -4.84938771e-01  1.30600139e-01 -5.42459071e-01\n",
      "   -7.38274336e-01  7.39418983e-01  1.23080051e+00  5.27839780e-01\n",
      "   -3.04111391e-01 -1.51238874e-01  9.47642386e-01 -2.54033417e-01\n",
      "    2.26967648e-01  1.69041216e-01  4.86625820e-01  6.84152031e-03\n",
      "   -2.21972361e-01  2.67648906e-01 -2.41970256e-01  3.69762450e-01\n",
      "    3.75770003e-01  8.72624815e-01  9.12447795e-02  6.08610094e-01\n",
      "    4.24559504e-01 -1.17284167e+00  3.80950451e-01 -7.06509590e-01\n",
      "    2.60740876e-01 -8.53044510e-01  2.41644099e-01  1.87151358e-01\n",
      "   -1.10346425e+00 -3.17235775e-02  1.15793037e+00  4.37397152e-01\n",
      "    3.85203689e-01 -4.32409197e-01 -6.07321203e-01  2.16014609e-01\n",
      "   -2.43776560e-01 -9.40445736e-02  1.91955883e-02 -7.32785523e-01\n",
      "    3.17646302e-02 -4.88529831e-01  5.44311762e-01 -9.71927866e-02\n",
      "    7.60113478e-01  7.48622179e-01  3.58183503e-01 -3.17756087e-02\n",
      "   -1.80365697e-01 -4.32244778e-01 -4.36798841e-01  9.95729029e-01\n",
      "   -1.18862236e+00 -2.57084817e-01  1.16327651e-01 -7.53612220e-01\n",
      "   -4.06270772e-01  5.27405322e-01  5.76086938e-01  4.57057327e-01\n",
      "   -2.47285813e-02  6.26541376e-02 -4.99402612e-01  1.43712804e-01\n",
      "    4.64012511e-02 -3.65116954e-01 -6.26207948e-01 -4.11710262e-01\n",
      "   -4.34939057e-01 -1.23518348e+00 -3.77705902e-01 -6.07892871e-03\n",
      "    2.28504732e-01 -7.13093802e-02  3.56768370e-02 -1.53719559e-01\n",
      "   -8.90100896e-02  3.21085840e-01  3.64196926e-01  6.45909250e-01\n",
      "    1.12952292e-01  2.68312693e-01 -3.45524222e-01 -5.09397924e-01\n",
      "   -8.00755203e-01 -1.95875093e-01  2.63525724e-01 -8.90941441e-01\n",
      "    2.16886401e-01 -5.83155572e-01  1.13828027e+00 -6.37505949e-01\n",
      "    2.71892045e-02  6.00561082e-01  5.40356226e-02  3.50365251e-01\n",
      "    8.54237139e-01 -8.45588386e-01  1.75250530e+00  3.46347131e-02\n",
      "    2.54214466e-01  9.34939757e-02 -7.06274509e-01  5.12691677e-01\n",
      "   -1.58420646e+00 -1.83369115e-01 -3.10821801e-01 -5.64905107e-01\n",
      "    6.15946293e-01 -3.73577476e-01 -3.47453021e-02 -6.52522827e-03\n",
      "   -1.87497520e+00  1.50892615e-01 -4.78929549e-01 -1.61338478e-01\n",
      "   -1.09147847e+00 -3.42036843e-01  1.11024606e+00 -1.30031243e-01\n",
      "   -1.73411444e-01  1.52360499e-01 -4.02610034e-01  4.06916589e-01\n",
      "   -3.50120038e-01  2.95995981e-01 -5.07175624e-01 -2.72031188e-01\n",
      "    1.02196848e+00 -2.31863156e-01  1.72486737e-01  6.47443295e-01\n",
      "    1.48954466e-01  1.61991581e-01 -3.79628330e-01  2.43788823e-01\n",
      "    2.95282632e-01  8.56727600e-01 -9.40894604e-01  2.61183884e-02\n",
      "   -9.47591662e-02 -5.24984784e-02  9.05766189e-01  1.24568343e-01\n",
      "   -2.84792095e-01 -3.50259781e-01 -1.66777179e-01  7.18839943e-01\n",
      "   -1.02410369e-01 -1.22380160e-01  2.04926774e-01 -1.39494884e+00\n",
      "    5.46350420e-01 -8.56890500e-01 -1.14174592e+00 -2.83439070e-01\n",
      "   -1.46149918e-01 -8.64120901e-01 -6.06492877e-01  2.27887392e-01\n",
      "   -1.32477248e+00  2.43708789e-01  5.11806250e-01  8.64305273e-02\n",
      "   -2.43329093e-01 -4.41235751e-01 -2.16623470e-01  2.67754108e-01\n",
      "    9.16594326e-01  1.08174765e+00 -3.13528091e-01  4.21347886e-01\n",
      "    5.56405962e-01  3.16638947e-01 -1.59772351e-01 -1.04996693e+00\n",
      "   -4.12874013e-01  4.01336759e-01 -1.08209662e-01 -1.52632520e-01\n",
      "   -7.10728347e-01  2.94977814e-01 -4.24777776e-01  3.11433285e-01\n",
      "    9.70218003e-01 -1.32911950e-01 -7.51937866e-01 -7.93734729e-01\n",
      "   -1.20221913e-01  2.54351795e-01 -3.72823507e-01  5.58630645e-01\n",
      "   -1.70627609e-01 -9.85849559e-01  3.43674988e-01  6.97155058e-01\n",
      "   -7.15076149e-01  5.96857369e-01 -3.95655483e-01  1.33423895e-01\n",
      "    4.16845568e-02  6.06586874e-01  5.34307897e-01 -7.23567188e-01\n",
      "   -3.31995308e-01 -5.73946893e-01  3.88795525e-01  9.36896741e-01\n",
      "   -8.56963336e-01  1.13417901e-01 -2.92704731e-01 -3.04737985e-01\n",
      "    1.09589779e+00 -1.80658042e-01 -3.09537556e-02  5.51077366e-01\n",
      "    2.93350756e-01 -2.50933409e-01  1.35796770e-01 -5.48429012e-01\n",
      "    2.08578587e-01 -5.56780636e-01  6.67631686e-01 -2.18780398e-01\n",
      "   -9.72826481e-02 -6.14490919e-02  8.16246688e-01 -1.29579589e-01\n",
      "   -1.26558945e-01  5.53169787e-01  1.13604508e-01 -4.53460842e-01\n",
      "   -9.14716944e-02 -4.76906896e-02 -4.28883314e-01  9.40796793e-01\n",
      "   -2.01456603e-02  4.93259341e-01 -1.05854881e+00  7.86269844e-01\n",
      "    1.51755011e+00  4.13397640e-01 -2.26016343e-02 -1.53357787e-02\n",
      "   -9.15053189e-01  6.50099695e-01 -2.12081358e-01  2.82998532e-01\n",
      "    5.11993878e-02 -1.41440010e+00 -2.39091501e-01 -9.61825311e-01\n",
      "    7.43109763e-01  6.74842671e-02 -1.17110692e-01  2.35291030e-02\n",
      "    4.66598898e-01  2.05684200e-01 -3.22592050e-01  1.29680872e+00\n",
      "   -4.82040644e-01  2.22343162e-01  4.58058745e-01 -4.25863981e-01\n",
      "   -3.10616940e-02 -3.75362307e-01  3.13736498e-01 -2.75758445e-01\n",
      "    5.47077656e-01  1.25393093e+00  6.98312044e-01  1.19838707e-01\n",
      "    1.97916791e-01 -1.86776400e-01 -5.82088530e-01 -8.99468660e-01\n",
      "    1.13333941e-01  2.48795807e-01 -3.30391437e-01  6.37376845e-01\n",
      "    2.19447687e-01 -7.77258813e-01  1.31931186e-01  4.83425101e-03\n",
      "   -3.49530578e-01  1.38032302e-01 -7.94168651e-01  1.69864342e-01\n",
      "   -3.35063100e-01 -2.60727823e-01  4.94315147e-01 -5.02445400e-01\n",
      "   -3.40785027e-01  6.77231923e-02 -2.48099521e-01 -2.12303802e-01\n",
      "    8.46373022e-01  5.93731403e-02  5.27198493e-01 -1.67239860e-01\n",
      "    2.63078839e-01  6.18282795e-01 -1.83912694e-01  1.98321700e-01\n",
      "    2.06940889e-01 -7.95299292e-01  5.40032685e-01 -4.50831264e-01\n",
      "   -6.39877558e-01  2.41019443e-01  2.48458266e-01  7.98257649e-01\n",
      "   -1.11318266e+00 -1.26451954e-01 -4.81063843e-01 -1.77292749e-01\n",
      "   -1.58060834e-01 -1.59890726e-01 -8.76003280e-02  7.33839944e-02\n",
      "   -5.87108970e-01  3.77737403e-01  5.34410059e-01 -1.01942337e+00\n",
      "   -8.48796189e-01 -5.32621205e-01  5.50687134e-01 -7.03675270e-01\n",
      "   -3.59034300e-01 -9.48911011e-01  3.50532979e-01 -2.39998043e-01\n",
      "    1.06224976e-01  2.09599316e-01  3.87439340e-01 -4.47922230e-01\n",
      "    7.62018025e-01 -9.09715474e-01 -3.27714294e-01  1.54568866e-01\n",
      "    4.44638819e-01 -1.10128522e-01  4.52372760e-01  3.20362449e-01\n",
      "   -5.08984439e-02  6.18749678e-01 -1.05969369e+00  2.06697285e-01\n",
      "   -3.16496909e-01  3.37892443e-01 -2.42127135e-01 -5.96131444e-01\n",
      "    3.48359853e-01 -6.75520077e-02 -1.11569226e+00 -1.44788802e+00\n",
      "   -8.68035182e-02 -7.34073699e-01  4.11126226e-01  5.15610039e-01\n",
      "   -2.90954739e-01  9.23396170e-01 -3.16447884e-01 -3.26251715e-01\n",
      "   -6.59678355e-02 -3.51340920e-01 -1.00237119e+00 -2.65462726e-01\n",
      "    7.46188909e-02  2.94902056e-01 -8.22130963e-02 -5.37350476e-01\n",
      "    5.45562692e-02  1.21583588e-01 -4.69758958e-01  3.41846086e-02\n",
      "    2.29923144e-01  5.41359246e-01  1.21526444e+00 -7.46841505e-02\n",
      "   -3.73562217e-01 -5.14732301e-01  1.22638714e+00 -8.44979823e-01\n",
      "    1.48742342e+00  1.04845297e+00 -1.40156597e-02 -3.86449009e-01\n",
      "    6.88557103e-02  1.36003926e-01 -2.06726268e-01 -3.13313603e-02\n",
      "   -1.62754536e-01 -3.72916698e-01 -4.37550284e-02  2.90203780e-01\n",
      "    6.13402367e-01 -3.69390726e-01  5.33486903e-01  9.89448309e-01\n",
      "   -8.52121711e-02  4.62360382e-02  8.90103951e-02  9.84037399e-01\n",
      "   -4.14088398e-01 -8.40792358e-01  5.59961349e-02  2.06570383e-02\n",
      "    1.45607844e-01 -1.45868003e-01  7.49240458e-01  4.41115379e-01\n",
      "    1.58197731e-02  6.31785452e-01 -1.44998236e-02 -2.50421882e-01\n",
      "    1.33638963e-01 -5.79153597e-02 -5.83194308e-02  5.33111244e-02\n",
      "   -5.48115075e-01 -2.86624227e-02 -1.77709699e-01  4.64589089e-01\n",
      "    5.42662323e-01 -2.56806165e-01 -4.85211611e-01  8.95663630e-03\n",
      "    2.19860256e-01  1.84338987e-01  7.59255886e-01  8.27351511e-01\n",
      "    6.27386093e-01  3.59154135e-01  1.03534393e-01  1.21011853e-01\n",
      "   -5.66206634e-01  1.47091374e-01  7.56341934e-01 -1.52512833e-01\n",
      "    7.47529447e-01  2.76707858e-01 -8.14351439e-03  2.05817685e-01\n",
      "   -4.90985513e-01  2.66093284e-01  3.73111218e-01  7.39564151e-02\n",
      "    1.01346178e-02  1.88574567e-01 -5.05375803e-01  1.03415954e+00\n",
      "   -8.25483799e-01  1.50780514e-01  7.79970661e-02 -2.71731228e-01\n",
      "   -2.37073302e-02 -5.63963950e-01 -1.40459001e+00  5.78464687e-01\n",
      "    6.90720141e-01  2.68325001e-01 -2.31114924e-01 -4.47241187e-01\n",
      "   -2.64779359e-01 -2.56600469e-01  3.80028725e-01 -3.65862131e-01\n",
      "    2.02953264e-01 -1.17251587e+00 -1.22065043e+00 -6.74488246e-01\n",
      "   -4.33532596e-01 -5.80766387e-02 -1.11025997e-01 -8.51881802e-02\n",
      "   -7.81328738e-01 -4.69644755e-01 -4.35634226e-01  3.95979375e-01\n",
      "   -2.76639730e-01  3.46863598e-01  8.00193965e-01 -6.05281234e-01\n",
      "    4.92417842e-01  2.37298831e-01  3.61500651e-01 -1.06203198e+00\n",
      "    2.42106602e-01  4.09869879e-01 -2.46554136e-01 -3.91091853e-01\n",
      "   -2.32623696e-01 -2.01924190e-01 -2.74040252e-01 -4.80360359e-01\n",
      "   -1.62054405e-01 -2.45302662e-01  4.27306294e-01  7.29090571e-02\n",
      "   -4.24745351e-01  1.15999848e-01 -3.05108633e-02 -3.86801124e-01\n",
      "   -6.57216311e-01 -5.73408782e-01 -4.97016758e-01  9.75701809e-02\n",
      "    7.75708184e-02  4.87371832e-01  1.24527372e-01  1.36134341e-01\n",
      "    5.89453220e-01 -3.30039710e-01 -1.39292730e-02 -9.78695571e-01\n",
      "    1.26413507e-02 -1.08474267e+00 -9.67499539e-02  8.60139191e-01\n",
      "   -6.62154019e-01  5.97800314e-01  1.47121266e-01 -1.00813818e+00\n",
      "   -1.33930254e+00  1.10451150e+00 -6.31266892e-01  6.67429268e-01\n",
      "    1.60678530e+00 -1.13428123e-01 -3.77724200e-01 -1.05244768e+00\n",
      "   -8.07249844e-01  9.50721025e-01 -1.30097926e-01 -1.94716249e-02\n",
      "    4.86112349e-02 -4.72641081e-01 -9.80348289e-01 -1.09357506e-01\n",
      "   -1.75226688e-01  9.93266165e-01 -8.25198069e-02 -1.07797019e-01\n",
      "   -6.34441435e-01  1.27086842e+00 -4.86344308e-01 -2.07731619e-01\n",
      "   -3.07281375e-01  1.75120071e-01 -3.85726899e-01 -5.78019679e-01\n",
      "   -4.91376877e-01 -5.20244539e-01  3.60752732e-01  5.12038231e-01\n",
      "    1.92702219e-01  2.37369657e-01  3.23769242e-01  2.81425029e-01\n",
      "   -6.92179620e-01  3.02842855e-02  7.20667601e-01 -5.35440862e-01\n",
      "    3.32143426e-01  1.25045836e-01  6.74732447e-01 -2.19735708e-02\n",
      "   -4.06506330e-01  3.29430312e-01 -3.01655024e-01  1.42716631e-01],\n",
      "  https://www.zerohedge.com/news/2018-01-04/trump-admin-bans-all-personal-devices-white-house: [-8.40002656e-01 -4.08020616e-01 -6.00385725e-01  3.22302729e-01\n",
      "   -1.34566277e-01  4.62818176e-01  4.19068903e-01  1.90598696e-01\n",
      "    4.11724411e-02 -2.11878031e-01 -1.04797229e-01 -4.64866966e-01\n",
      "   -1.02543366e+00 -1.56387269e-01  1.70564950e-01  1.06014937e-01\n",
      "    7.64056027e-01  1.00117588e+00  1.39482647e-01 -2.78434426e-01\n",
      "   -3.85660380e-01 -3.27813715e-01  3.84539485e-01  5.05228460e-01\n",
      "    2.38213435e-01 -6.41429245e-01 -2.08936095e-01 -2.27661610e-01\n",
      "    3.29559326e-01  8.29593837e-01  1.46744311e+00  4.65020314e-02\n",
      "    1.43827605e+00 -2.54693329e-01 -1.21701932e+00  5.35005450e-01\n",
      "   -3.89412731e-01  1.43522903e-01  3.08105767e-01  3.52948964e-01\n",
      "   -6.57934666e-01  6.01545990e-01 -3.63349169e-01  1.63822062e-02\n",
      "   -2.90378183e-03 -1.44274861e-01 -9.79162395e-01  5.98073065e-01\n",
      "   -4.07485276e-01  3.51024270e-02  9.35504064e-02  5.00306070e-01\n",
      "    1.77402127e+00  2.72955835e-01 -7.65236378e-01  6.55302405e-01\n",
      "    1.20619245e-01 -3.88729721e-01 -6.91095352e-01 -1.64224660e+00\n",
      "    2.39851236e-01 -1.07143328e-01  4.58231926e-01  4.03260216e-02\n",
      "   -1.16061878e+00 -1.56868920e-02 -1.42762303e+00 -2.88881455e-02\n",
      "   -5.91659963e-01 -5.06074727e-01  4.94801521e-01  1.29963803e+00\n",
      "    9.08718109e-02 -2.20410526e-02 -8.00384060e-02 -7.72614956e-01\n",
      "   -1.12236059e+00  5.82555234e-01  2.60148644e-01  4.56906855e-01\n",
      "    3.71710241e-01 -4.36597392e-02  5.57542801e-01  1.15664929e-01\n",
      "   -1.18243456e-01 -7.93339252e-01 -2.01837003e-01 -9.94184613e-03\n",
      "    2.53383815e-02 -7.19525099e-01 -6.27050549e-02 -1.64478466e-01\n",
      "    6.20317340e-01  2.53810644e-01  1.79452255e-01  2.40550160e-01\n",
      "    5.70591867e-01 -6.76774800e-01 -1.50462776e-01 -4.03912306e-01\n",
      "   -9.41885933e-02 -1.14762211e+00 -2.54987091e-01  1.57847568e-01\n",
      "   -9.62822735e-01 -7.04840660e-01  3.47612798e-03 -2.95067906e-01\n",
      "    1.39627546e-01  1.09747723e-01 -1.27897573e+00 -4.34383094e-01\n",
      "    2.30760396e-01 -5.34992814e-01 -1.41942215e+00  9.94146317e-02\n",
      "   -1.15319369e-02  2.46124983e-01  4.29013282e-01 -7.68931150e-01\n",
      "   -1.85550302e-01  8.00294399e-01 -3.92245233e-01  7.77642250e-01\n",
      "   -9.36344385e-01  2.69822240e-01  6.17977202e-01  1.32884189e-01\n",
      "   -9.44320798e-01  1.51647657e-01 -2.76102096e-01  2.79862791e-01\n",
      "   -6.25692248e-01 -3.74695003e-01 -2.76193351e-01 -2.05475733e-01\n",
      "    4.54674602e-01 -2.77096063e-01  5.63481867e-01  4.87431198e-01\n",
      "   -1.32015443e+00 -5.89569926e-01  1.08691558e-01  8.03190991e-02\n",
      "    1.64223433e-01 -5.97426057e-01 -4.72295403e-01 -3.90233696e-01\n",
      "   -5.77132702e-01  2.60088295e-01 -3.13878447e-01 -1.86638191e-01\n",
      "   -4.41885203e-01  9.66466308e-01 -1.07944988e-01  1.85391024e-01\n",
      "    7.04629272e-02 -1.69019029e-01 -6.32111788e-01 -7.56389558e-01\n",
      "   -3.93892139e-01  3.54147106e-01 -4.08783376e-01 -1.20994747e+00\n",
      "    1.71023202e+00  4.44919378e-01  5.04967690e-01  4.93199944e-01\n",
      "   -1.85429960e-01 -1.26452059e-01  2.83703189e-02  4.18576300e-02\n",
      "    1.41521859e+00 -9.79927361e-01  5.38027644e-01  1.02653587e+00\n",
      "   -5.42847276e-01 -6.96319222e-01  5.37447393e-01  4.75635320e-01\n",
      "   -4.61142540e+00  4.26878691e-01  8.29393417e-02 -6.61032945e-02\n",
      "    5.14417402e-02 -3.09026182e-01  1.45087451e-01 -2.99986899e-01\n",
      "    8.81243721e-02  6.21485829e-01 -5.45843959e-01  2.67085731e-01\n",
      "    2.79611707e-01  3.67900431e-01  8.72408688e-01 -5.04163504e-01\n",
      "   -5.70567548e-01  1.81117368e+00  8.70576322e-01  8.04192305e-01\n",
      "    1.96731120e-01  2.38433540e-01  5.50262094e-01 -3.82986724e-01\n",
      "    3.85114521e-01  5.12251675e-01  2.46318728e-01 -1.24213710e-01\n",
      "    3.64860371e-02 -2.26715997e-01  1.97193161e-01 -1.34360337e+00\n",
      "    7.32614398e-01  3.53423595e-01  4.64520633e-01 -1.47052407e-02\n",
      "   -7.13496208e-01 -2.21326739e-01  4.75284606e-01  1.81790993e-01\n",
      "    2.16835469e-01 -5.01661003e-03  1.26752421e-01  5.60306966e-01\n",
      "   -1.13243020e+00  3.61000359e-01  3.18413198e-01 -3.85056794e-01\n",
      "    4.31272626e-01 -7.36645997e-01  7.68362582e-01 -2.99913943e-01\n",
      "   -2.12403178e-01 -1.85412288e-01 -3.76237094e-01 -8.78020942e-01\n",
      "    1.60610437e-01  1.25048622e-01  3.60494256e-01 -1.08687341e+00\n",
      "    6.65960848e-01  1.30116498e+00  1.31920680e-01  1.91108510e-02\n",
      "   -2.24715561e-01 -1.24371439e-01 -4.52552177e-02 -1.06470749e-01\n",
      "    1.18014738e-01 -1.01365888e+00  7.65106261e-01  1.03772211e+00\n",
      "   -3.09513777e-01 -2.90238589e-01  4.97397222e-02  4.96188998e-01\n",
      "    2.69549012e-01  2.55347252e-01 -2.72950768e-01  2.22588822e-01\n",
      "   -7.64420629e-01 -2.61323631e-01  5.27751088e-01 -4.06494111e-01\n",
      "   -3.84619534e-01 -1.25318658e+00 -4.21903968e-01 -7.25936234e-01\n",
      "    3.38951647e-01 -1.32688388e-01  5.89895666e-01 -2.16813833e-02\n",
      "   -2.22161442e-01 -1.06252804e-01 -1.07522178e+00  2.14387566e-01\n",
      "   -3.48802447e-01  3.64648700e-02 -1.18748569e+00 -5.03051519e-01\n",
      "   -3.26882601e-01  8.86145234e-01 -1.76419809e-01 -1.26365805e+00\n",
      "    3.49513352e-01 -6.33294433e-02  1.07841563e+00 -3.53407323e-01\n",
      "   -3.14949870e-01  1.02265775e+00 -1.56322256e-01  2.17559010e-01\n",
      "   -1.55080399e-02  4.87499163e-02  7.87288547e-01 -9.26993191e-02\n",
      "    3.03888172e-01  2.96135068e-01 -6.36952460e-01  1.32330641e-01\n",
      "   -8.54648530e-01  8.59575391e-01 -2.05036625e-02  5.85600674e-01\n",
      "   -1.03461176e-01 -1.35773361e-01  2.55929232e-01 -1.94730118e-01\n",
      "   -2.60151124e+00  4.88841802e-01 -4.40744579e-01 -6.53442204e-01\n",
      "    3.79192561e-01 -2.31969461e-01 -2.60312378e-01  6.18314207e-01\n",
      "   -1.33651480e-01  6.06294274e-02 -1.79658353e-01  7.47080892e-02\n",
      "   -7.17611909e-01 -1.34316003e-02 -8.06541800e-01  1.73566446e-01\n",
      "    5.15832841e-01 -9.54241678e-03 -9.18550134e-01  9.53527391e-01\n",
      "   -6.72562271e-02  4.51880932e-01 -9.28212106e-01 -3.77843268e-02\n",
      "    1.37532100e-01  4.52918351e-01 -9.91436362e-01  5.55753589e-01\n",
      "   -2.66076267e-01  1.28418747e-02 -3.66223961e-01 -6.52105153e-01\n",
      "    1.25674412e-01 -4.93591607e-01  2.27576882e-01  3.20520520e-01\n",
      "    2.35098064e-01  4.34016399e-02 -1.93952277e-01 -3.74909967e-01\n",
      "   -1.17074028e-02 -8.36035728e-01 -3.45764160e-01 -4.52973813e-01\n",
      "    8.08648109e-01 -4.03575301e-01 -8.30174685e-01 -1.02347648e+00\n",
      "   -8.62857819e-01 -7.94229984e-01  9.24602225e-02  5.41167080e-01\n",
      "    1.00051749e+00 -7.50854790e-01  2.98462868e-01  8.68463099e-01\n",
      "    1.16526932e-01  1.92535907e-01 -1.44487232e-01  9.06380653e-01\n",
      "    3.32196444e-01 -1.93056986e-01 -6.20511509e-02 -1.27127397e+00\n",
      "    7.75641680e-01 -1.61809683e-01  1.56688213e-01 -4.15958345e-01\n",
      "    4.33871418e-01  3.75861138e-01 -7.94157386e-01  1.23995304e+00\n",
      "   -7.98286319e-01 -5.02807200e-01  4.42560405e-01 -4.58449811e-01\n",
      "    4.74371016e-01 -3.97972196e-01  2.04621702e-02 -2.12795004e-01\n",
      "   -3.05526406e-01 -2.23673925e-01  2.21948802e-01  7.94836134e-02\n",
      "   -4.44142699e-01 -9.44131985e-02 -6.58958614e-01 -8.79678369e-01\n",
      "   -7.32960925e-02  4.51644599e-01  1.26505387e+00 -9.90566790e-01\n",
      "    1.29719779e-01 -2.61254966e-01  5.57748616e-01  1.13575256e+00\n",
      "   -6.75710142e-01 -2.14412138e-01 -1.13682473e+00  4.86101955e-03\n",
      "    2.90861845e-01 -9.53480676e-02 -1.22923672e+00 -1.12545490e-01\n",
      "   -4.38194275e-01 -3.31679046e-01 -1.56022966e-01  1.10413241e+00\n",
      "   -7.29558825e-01 -5.73817611e-01 -2.42892966e-01 -7.23521709e-02\n",
      "   -7.69725263e-01  2.00870216e-01  7.52084851e-01  3.25604379e-01\n",
      "    1.40736687e+00  4.43681031e-01  5.59158683e-01 -9.17694509e-01\n",
      "   -5.58750808e-01  5.46137989e-01 -7.63292551e-01 -2.36624762e-01\n",
      "   -3.35565358e-01  5.16831696e-01 -9.65143800e-01  1.11095309e-01\n",
      "   -1.28345981e-01  1.56975724e-02 -1.56233937e-01 -7.52389252e-01\n",
      "    6.66035533e-01 -1.03536956e-02  3.32494378e-01  4.46074367e-01\n",
      "    7.96865582e-01 -1.26347530e+00 -9.19509053e-01  3.31428833e-02\n",
      "   -4.66747612e-01 -4.94160563e-01 -4.09708396e-02 -2.75815874e-01\n",
      "    2.96201929e-02 -3.26080382e-01  2.85750061e-01  7.61227727e-01\n",
      "   -5.14678597e-01  9.07806337e-01 -3.20273459e-01 -5.32267690e-01\n",
      "   -3.95449400e-01 -8.90992880e-01 -3.19562614e-01 -3.90934527e-01\n",
      "    4.77205664e-01  5.23957968e-01  1.04700971e+00 -3.79534364e-01\n",
      "    3.67755830e-01  5.44194281e-01 -3.23031902e-01 -4.29762423e-01\n",
      "   -4.67832565e-01  1.30458045e+00  6.58531249e-01  8.02242756e-01\n",
      "   -6.65733218e-01 -1.57961980e-01 -6.66106462e-01  6.66158974e-01\n",
      "    6.39199436e-01  2.59084731e-01  5.74194849e-01 -6.92870170e-02\n",
      "   -1.48467734e-01 -4.52485025e-01 -4.93561596e-01  1.18101251e+00\n",
      "    5.88191807e-01 -7.69496024e-01 -1.20656562e+00  5.51723361e-01\n",
      "    7.09892929e-01  6.72299027e-01  3.41798365e-01 -1.73335671e-01\n",
      "    4.31989193e-01 -2.05959782e-01 -8.40675294e-01 -5.22360325e-01\n",
      "   -6.96910769e-02  2.71173358e-01 -8.49038064e-02 -8.07573915e-01\n",
      "   -3.99889015e-02  2.27001250e-01 -5.48217654e-01  5.93075693e-01\n",
      "    3.61956060e-02  2.38066375e-01  2.55540848e-01 -9.41666812e-02\n",
      "    7.45442271e-01 -4.19823587e-01 -5.88090867e-02  5.33301771e-01\n",
      "    3.94268513e-01  3.68530691e-01  5.12774408e-01 -1.91719204e-01\n",
      "    7.08030283e-01  3.42043281e-01  5.61196327e-01 -4.94951904e-02\n",
      "   -2.11216092e-01 -1.02315009e+00  3.05744171e-01 -1.20010525e-01\n",
      "   -1.51749924e-02  4.78930414e-01  9.17327344e-01 -3.85177016e-01\n",
      "    6.89514577e-02 -2.17147768e-01 -2.11295292e-01  4.51231480e-01\n",
      "    4.09907341e-01  2.08954245e-01  1.37160450e-01 -1.01539278e+00\n",
      "    6.99945688e-01  8.22915316e-01 -5.57015061e-01  6.37369454e-02\n",
      "    5.29520333e-01 -4.86560702e-01 -1.89995259e-01 -2.65869886e-01\n",
      "    8.59597325e-02 -5.36529601e-01  1.13525264e-01 -4.40626264e-01\n",
      "   -1.39014378e-01 -9.59487498e-01  7.86788464e-01 -7.77148306e-02\n",
      "    6.43849134e-01  1.37465537e+00  1.13408661e+00 -1.96133763e-01\n",
      "    2.57671833e-01  8.55438292e-01 -3.72842371e-01 -5.35081588e-02\n",
      "    8.85416389e-01  8.82669449e-01  1.59790307e-01 -3.30555737e-01\n",
      "   -4.78286713e-01  4.82551157e-01 -8.63787830e-01  2.89258838e-01\n",
      "    4.18111205e-01  2.35136569e-01  6.62253976e-01  4.23240036e-01\n",
      "    6.59053802e-01 -1.31969899e-01  1.38373053e+00 -3.04573655e-01\n",
      "    3.21882725e-01 -3.83402050e-01  9.76531923e-01 -5.62104248e-02\n",
      "    6.35377094e-02 -5.05492389e-01  8.28829706e-02 -3.39885473e-01\n",
      "   -1.27031744e+00 -1.06468952e+00  2.12234795e-01 -2.69861639e-01\n",
      "    6.54018641e-01 -3.02133113e-01  1.11054349e+00 -7.68735707e-02\n",
      "   -8.39921534e-01 -3.10478389e-01 -8.99971128e-02  5.14058530e-01\n",
      "    9.94873464e-01 -3.53789568e-01  3.57044578e-01  2.59390503e-01\n",
      "   -1.13076441e-01 -1.46620259e-01  9.63109136e-01 -4.50771041e-02\n",
      "   -8.95808339e-01 -1.99677005e-01 -1.83276176e-01 -9.36641932e-01\n",
      "   -1.87734932e-01  1.99030802e-01 -2.35622805e-02  1.81602091e-01\n",
      "   -4.90324259e-01  6.31898999e-01  2.78319418e-01 -1.56942141e+00\n",
      "    9.44635749e-01 -2.48487711e-01  6.10676289e-01  6.23760641e-01\n",
      "    3.51604111e-02 -6.37564719e-01  1.30800843e-01  7.89633095e-02\n",
      "    4.33269501e-01  1.98274776e-01  2.50327557e-01  6.26842737e-01\n",
      "    4.74376604e-02 -2.63587654e-01 -3.12709540e-01  3.88326257e-01\n",
      "   -4.55306694e-02  8.98138821e-01 -3.50312293e-01 -1.39537454e-03\n",
      "   -3.51625264e-01  1.25068796e+00 -1.45433158e-01 -9.66350436e-02\n",
      "    4.56684351e-01 -7.74007380e-01  6.01808608e-01 -7.76677728e-02\n",
      "   -6.68676972e-01  1.86833367e-01  4.15717483e-01  8.86465967e-01\n",
      "    5.60335100e-01  1.77080765e-01 -4.04243678e-01  1.09692246e-01\n",
      "    6.59773946e-01  1.83065057e-01 -7.04970241e-01 -3.90756130e-01\n",
      "   -2.79806226e-01 -4.64868456e-01  3.12270880e-01 -6.63981736e-01\n",
      "    1.08221672e-01 -6.00135386e-01 -1.19718075e-01 -8.77262771e-01\n",
      "   -8.20923328e-01  5.89423299e-01  2.41742492e-01  6.52730286e-01\n",
      "   -4.22331661e-01  2.98346728e-01 -3.76052707e-02  3.62829268e-02\n",
      "   -2.44707748e-01 -5.68240881e-01 -7.99962804e-02  3.40920687e-03\n",
      "   -4.82792556e-02 -2.44697347e-01  1.37348518e-01 -6.67154342e-02\n",
      "    1.30208921e+00  8.45760942e-01 -4.52331960e-01  2.07116276e-01\n",
      "   -7.84430146e-01 -1.39000893e-01 -8.34619999e-01 -6.30420685e-01\n",
      "    2.22615868e-01 -5.46175361e-01  1.03056061e+00 -3.67585897e-01\n",
      "   -7.96020627e-01 -5.68070948e-01 -3.72394890e-01  2.37365648e-01\n",
      "   -6.90303445e-01 -2.97832415e-02  9.90462720e-01 -5.56540549e-01\n",
      "    3.87061298e-01  2.78090000e-01  3.09630096e-01 -6.21758878e-01\n",
      "    1.00961637e+00 -1.89974397e-01  5.61098829e-02  3.76657307e-01\n",
      "   -1.04181421e+00 -3.90949726e-01 -7.41084293e-02 -4.97864693e-01\n",
      "   -2.42676795e-01  4.88256812e-01  8.51744115e-01 -4.61082220e-01\n",
      "    5.29818118e-01  2.23862553e+00  7.55831718e-01  3.18879366e-01\n",
      "    1.38814598e-01 -6.07668340e-01 -2.48173028e-01 -4.15958539e-02\n",
      "    1.76817179e-02  5.84643126e-01 -5.44795752e-01  1.40788212e-01\n",
      "   -7.05966413e-01  3.64971220e-01 -1.08655202e+00  3.67102057e-01\n",
      "    8.03987503e-01  7.29106426e-01 -4.68435287e-01  2.79751152e-01\n",
      "    2.65204698e-01  9.37241137e-01 -1.15980625e-01  1.31657457e+00\n",
      "    1.35401279e-01 -6.64195418e-02 -2.36331850e-01 -1.26530230e-01\n",
      "    1.74135342e-01  5.77615440e-01  3.99740376e-02 -1.00148655e-02\n",
      "    2.27450132e-01  2.00172812e-01  4.50456291e-01 -8.80414963e-01\n",
      "   -4.12826449e-01  5.50443649e-01 -1.74272135e-01 -4.72631693e-01\n",
      "    4.96035874e-01 -7.08018661e-01 -4.07429934e-02 -1.15669394e+00\n",
      "   -1.65125340e-01  2.94339538e-01 -5.92001319e-01 -1.30417794e-01],\n",
      "  https://yaledailynews.com/blog/2018/01/06/yale-psychiatrist-met-with-congressmen-about-trumps-mental-health/: [-8.19431320e-02 -1.83538154e-01 -3.09613973e-01  2.54417390e-01\n",
      "    9.54478800e-01  3.92926663e-01  5.08277297e-01  6.53601214e-02\n",
      "   -2.52652287e-01 -5.45849144e-01 -1.49718866e-01 -3.45653623e-01\n",
      "   -5.91344535e-01 -8.47892761e-01  2.70599518e-02  9.92229462e-01\n",
      "    6.15171134e-01  8.87569487e-01  5.87420821e-01 -2.42311820e-01\n",
      "    3.79870534e-01  2.33609274e-01  5.35854042e-01  5.63218184e-02\n",
      "    2.79792875e-01  2.90160272e-02  1.71498761e-01 -5.41114032e-01\n",
      "    1.62025973e-01  1.83175147e-01  4.87780094e-01 -2.30682969e-01\n",
      "    1.54116547e+00 -9.22228210e-03 -7.17985213e-01  5.15614331e-01\n",
      "    5.03174007e-01  3.55977982e-01  6.51865482e-01  1.90830871e-01\n",
      "   -6.82948589e-01 -1.23586267e-01 -7.57281542e-01 -9.29514039e-03\n",
      "   -4.44430590e-01 -8.83804262e-02 -1.28219116e+00  8.69594038e-01\n",
      "   -7.19005108e-01  3.46777844e-03 -1.25388160e-01  2.01102614e-01\n",
      "    7.03232229e-01 -8.51990581e-02  1.87403247e-01 -4.70175557e-02\n",
      "   -6.74416602e-04 -6.73013270e-01 -5.18829644e-01 -7.27824211e-01\n",
      "    2.36045942e-01  2.12200090e-01  1.62123237e-02 -3.50764483e-01\n",
      "   -1.91458210e-01  3.05883765e-01 -9.31377828e-01  2.41395831e-01\n",
      "   -1.14731550e+00 -1.95639968e-01 -8.21993127e-02  5.58089733e-01\n",
      "    7.96262641e-03  9.16995183e-02 -1.65424421e-01 -2.75858138e-02\n",
      "   -1.14682806e+00  8.54971111e-01  2.61731565e-01  1.35013059e-01\n",
      "    2.91365772e-01  3.00036967e-02  4.89195198e-01  2.91048676e-01\n",
      "   -1.88904122e-01 -5.41307747e-01 -1.22529618e-01 -6.43256530e-02\n",
      "    2.23150089e-01 -5.22887886e-01 -6.30575299e-01  1.29186049e-01\n",
      "   -1.24519348e-01  7.74060071e-01  3.65959853e-01  5.02089798e-01\n",
      "    6.96570814e-01  6.51323318e-01 -8.68501440e-02 -2.62471050e-01\n",
      "   -1.30965248e-01 -3.63988489e-01  5.74292362e-01  2.15899214e-01\n",
      "   -6.78350270e-01 -1.28646687e-04  2.16880441e-03 -4.57648247e-01\n",
      "   -4.33948606e-01 -3.47732306e-02 -4.38176483e-01  5.32985508e-01\n",
      "   -3.48867655e-01 -4.67444330e-01 -5.27725399e-01  6.83196723e-01\n",
      "   -3.09914947e-01 -3.05604767e-02  3.33930515e-02 -7.28058875e-01\n",
      "   -2.95964390e-01  5.05939305e-01  1.23831145e-01  1.09137297e+00\n",
      "   -7.54190981e-02 -2.73581326e-01  2.98810810e-01  9.58919525e-02\n",
      "   -1.11443007e+00  1.43790886e-01  5.53906560e-02 -4.62110370e-01\n",
      "    1.95102468e-01 -1.61023870e-01 -5.69110215e-01 -3.74953955e-01\n",
      "   -1.23994015e-01  1.01121761e-01  1.25732943e-01  3.77917558e-01\n",
      "   -7.13173151e-01 -6.56193316e-01  1.17168576e-01 -2.99040675e-01\n",
      "    2.56970942e-01  4.97015417e-02 -7.77681589e-01 -1.00621007e-01\n",
      "   -1.13828637e-01  3.24917026e-02  1.19840026e-01  5.95786655e-03\n",
      "   -4.07587767e-01 -1.25344083e-01 -4.37321991e-01  2.83438236e-01\n",
      "   -5.35980277e-02 -5.00658639e-02  3.33116241e-02 -6.18344247e-01\n",
      "   -2.54487038e-01  7.56740391e-01 -3.21449727e-01 -4.41155344e-01\n",
      "    4.52000886e-01  7.01771975e-01  7.32795298e-01  4.62974072e-01\n",
      "   -4.31036323e-01 -3.67128998e-01 -6.26273230e-02 -1.26960859e-01\n",
      "    5.18389523e-01 -5.34801066e-01  9.80203971e-02  3.49801570e-01\n",
      "   -2.01242745e-01 -1.01778008e-01  1.00667632e+00 -2.85916597e-01\n",
      "   -6.05620956e+00  7.59076595e-01 -4.75870669e-02 -4.19687718e-01\n",
      "    1.54911295e-01 -9.53187704e-01  9.58463922e-02  6.27183989e-02\n",
      "    1.44809827e-01 -3.29865105e-02 -2.12766811e-01 -4.52314407e-01\n",
      "   -2.06140518e-01  6.18912518e-01  8.89906287e-02  1.95169330e-01\n",
      "    8.12867656e-02  1.36410427e+00  2.04192579e-01  3.03894073e-01\n",
      "   -4.58750993e-01  9.62507501e-02  2.10651979e-01 -6.03576183e-01\n",
      "   -7.31134638e-02 -1.87491223e-01 -2.95657903e-01 -3.04386586e-01\n",
      "    3.37153107e-01  1.15903229e-01  1.01690739e-01 -5.21386683e-01\n",
      "    5.86864471e-01  2.33298000e-02  4.94599015e-01  9.64109376e-02\n",
      "   -4.30527955e-01 -1.28409517e+00 -3.32710087e-01 -5.83156884e-01\n",
      "    1.18140303e-01 -2.74637669e-01  1.10174762e-02  4.58076239e-01\n",
      "   -4.61513668e-01  9.21130359e-01  1.33818701e-01 -4.79209930e-01\n",
      "    1.64073315e-02  6.26143292e-02  3.71374398e-01  1.40127376e-01\n",
      "    3.31328839e-01 -3.68085623e-01 -7.37494290e-01  5.35475612e-02\n",
      "   -1.72092125e-01 -3.29050124e-01  5.31785011e-01 -1.19916236e+00\n",
      "    6.35607243e-01  6.65786862e-01 -7.86238909e-03  3.79184633e-01\n",
      "   -7.15439320e-01 -4.16670442e-01 -1.43554047e-01  3.34303409e-01\n",
      "   -7.34123290e-01 -1.24672759e+00  9.25874412e-01  2.11308360e-01\n",
      "    1.63882151e-01 -3.25891078e-01  4.94264036e-01 -1.76052615e-01\n",
      "   -5.90499230e-02  3.24849188e-01  2.02266965e-02 -1.34486362e-01\n",
      "   -1.23466320e-01  5.25488675e-01  2.20448241e-01 -1.77180871e-01\n",
      "    1.37454182e-01 -1.06432068e+00 -1.03473000e-01 -2.62461096e-01\n",
      "    1.53416200e-02 -2.62679067e-02  1.95530772e-01  2.87348390e-01\n",
      "   -2.41441846e-01  4.25360680e-01 -7.51592398e-01  5.80931723e-01\n",
      "    1.50287375e-01 -1.22090185e-03 -7.71588027e-01 -5.11408985e-01\n",
      "   -5.11982083e-01  1.09704125e+00 -6.57359898e-01 -4.35085922e-01\n",
      "   -1.47590116e-01 -3.88579845e-01  3.67619723e-01 -1.15113962e+00\n",
      "    2.09455326e-01 -2.03438103e-01  2.36408278e-01 -1.74649563e-02\n",
      "    2.30751574e-01  2.76398599e-01  7.34258473e-01 -2.68091589e-01\n",
      "    4.53324579e-02  2.32128978e-01  3.71472090e-02  1.24434233e-01\n",
      "   -7.53581762e-01 -1.95292577e-01  4.40825187e-02  3.20656061e-01\n",
      "   -2.71793872e-01 -6.26344025e-01  2.26421431e-01  4.28197145e-01\n",
      "   -2.76652908e+00  3.28825921e-01 -4.06629175e-01  1.04301125e-01\n",
      "    4.18653578e-01  7.17058599e-01 -3.00705492e-01  1.59591988e-01\n",
      "    2.76545912e-01 -2.45450530e-02  1.07066333e-03 -1.35686696e-01\n",
      "   -6.71635449e-01  4.85337883e-01 -7.17069805e-01 -5.46282940e-02\n",
      "    4.72541302e-01  2.56015152e-01 -5.25143623e-01  4.55569118e-01\n",
      "    1.66519463e-01  7.55324140e-02 -5.73634982e-01  4.24032837e-01\n",
      "    5.71321964e-01  4.81721252e-01 -9.48976040e-01  3.50702912e-01\n",
      "   -4.94482331e-02 -2.70805269e-01  4.84972931e-02 -3.25495750e-01\n",
      "    1.59696624e-01 -2.43013129e-01  2.24281594e-01  3.69606405e-01\n",
      "    5.98889291e-01  5.71378805e-02  3.71639878e-01 -6.17138147e-01\n",
      "   -1.04642458e-01 -7.53533542e-01 -3.06995958e-01 -5.86433001e-02\n",
      "    5.31990349e-01  2.72647232e-01 -3.50440890e-01 -1.51020035e-01\n",
      "   -1.22845948e+00 -3.93787473e-01  1.61138371e-01  2.11087123e-01\n",
      "    7.94111431e-01 -5.04354239e-01  1.57957703e-01  4.53864187e-01\n",
      "    1.14566766e-01  1.53365418e-01 -2.03270867e-01  2.75400370e-01\n",
      "    2.16500744e-01 -9.32487622e-02 -6.98686302e-01 -7.92228878e-01\n",
      "    3.73284966e-01 -1.90009270e-02 -5.63046336e-02 -1.01607740e-01\n",
      "    1.94335774e-01  3.58895212e-01 -6.83717012e-01  1.50699794e+00\n",
      "   -5.91628969e-01 -2.04242662e-01  4.21420246e-01 -9.87968922e-01\n",
      "    1.00669570e-01 -4.78383988e-01 -3.18314463e-01  4.76883799e-02\n",
      "    1.44462630e-01 -9.67517272e-02  5.13656855e-01  6.85219586e-01\n",
      "   -2.54526407e-01  2.36718282e-01 -5.69811404e-01 -6.44306317e-02\n",
      "   -4.04693365e-01  6.69916049e-02  5.33207655e-01 -5.92925787e-01\n",
      "    1.37534335e-01 -5.34838259e-01  3.22128721e-02  6.97579682e-01\n",
      "   -5.70399821e-01 -2.44979933e-01 -6.51817262e-01  2.22796485e-01\n",
      "    1.05524290e+00  1.88812807e-01 -3.67106706e-01 -3.19118686e-02\n",
      "    1.27402423e-02 -3.17046374e-01 -6.47079468e-01  8.24409902e-01\n",
      "    1.52625382e-01 -9.82365832e-02  2.84004182e-01 -3.47325176e-01\n",
      "    1.78036332e-01  6.92273006e-02  4.50070649e-01 -1.86225083e-02\n",
      "    9.83185828e-01 -6.68851519e-03 -3.12306043e-02 -6.12949729e-01\n",
      "   -1.61896721e-01 -5.91887891e-01 -6.17602527e-01 -8.90847743e-02\n",
      "   -2.30478331e-01  2.88683653e-01 -1.12419534e+00  5.97325802e-01\n",
      "   -3.50553513e-01  1.99800134e-01 -2.05009982e-01 -3.14499646e-01\n",
      "    1.46315368e-02 -2.29039505e-01 -2.61102706e-01  4.32893723e-01\n",
      "    2.42257282e-01 -8.08129609e-01 -4.36950117e-01 -9.26723611e-03\n",
      "   -2.92501152e-01  7.38074109e-02  2.23548964e-01 -1.14088345e+00\n",
      "    4.95364904e-01 -4.30171758e-01 -1.03515111e-01  5.13601959e-01\n",
      "   -7.42601097e-01  1.26213506e-01  2.29128256e-01 -7.25056410e-01\n",
      "   -1.76221803e-01 -3.08352858e-01  1.31801590e-01 -8.92863989e-01\n",
      "    3.40048552e-01  4.19884235e-01  9.80768025e-01 -5.40405512e-01\n",
      "    4.08930928e-01 -6.79534674e-02 -6.43362701e-01 -4.92465973e-01\n",
      "   -9.25619602e-01  1.09618688e+00  5.84013999e-01  3.24980170e-01\n",
      "   -3.93834919e-01  1.62104234e-01 -3.96761030e-01 -1.42807439e-01\n",
      "    3.74541283e-01  5.98953187e-01  1.22181118e-01  5.86794205e-02\n",
      "   -1.80592179e-01  2.29645316e-02 -5.70574813e-02  4.39400703e-01\n",
      "    5.40720820e-01 -6.14742219e-01 -1.00038481e+00  9.31029320e-02\n",
      "    4.76690769e-01  3.04456979e-01  9.21856239e-02 -6.03239775e-01\n",
      "    2.50773340e-01 -4.18784767e-01 -4.07914549e-01 -2.96967983e-01\n",
      "    1.35181293e-01  3.49323526e-02 -3.51423472e-01 -1.78571746e-01\n",
      "   -1.37463301e-01  1.95951998e-01  2.60567036e-03  5.62987864e-01\n",
      "    2.67823786e-01 -1.18465565e-01  7.05102384e-01  2.67074794e-01\n",
      "    9.14991856e-01 -6.04602695e-01 -3.16387177e-01  2.75168300e-01\n",
      "   -7.15592206e-01 -3.75983000e-01  3.15431684e-01 -7.22970441e-02\n",
      "    2.71223754e-01  3.90909195e-01  1.05424631e+00 -4.10738468e-01\n",
      "   -2.65318632e-01 -5.38304806e-01  5.88275790e-01 -5.43014228e-01\n",
      "   -2.00968102e-01  1.26829162e-01  1.44283459e-01  6.73556089e-01\n",
      "    1.45488188e-01 -1.22825868e-01 -2.76779562e-01  6.97482288e-01\n",
      "    3.50027114e-01  1.02006130e-01  3.44546944e-01 -7.83072472e-01\n",
      "    5.12199402e-01  1.78714290e-01 -5.08811891e-01  2.45952353e-01\n",
      "    2.10804224e-01 -2.17778444e-01 -2.47383431e-01  3.47822070e-01\n",
      "    2.47180462e-01  2.66107708e-01  1.11142278e-01 -3.13092887e-01\n",
      "    2.60840029e-01 -1.43550307e-01  6.90961838e-01  4.88057733e-04\n",
      "    1.12711407e-01  7.24514186e-01  7.19946682e-01 -1.43690720e-01\n",
      "   -4.55442578e-01  3.80582809e-01 -3.94606113e-01 -4.31612760e-01\n",
      "    2.62162685e-01  2.98613220e-01 -2.19288841e-01 -5.86494088e-01\n",
      "   -1.68810487e-01  9.43814099e-01 -7.42023215e-02 -7.76823461e-02\n",
      "    1.36635959e-01 -6.17249608e-01  5.71660519e-01  1.94131598e-01\n",
      "    4.65677500e-01 -6.46267951e-01  5.91904819e-01 -3.05820227e-01\n",
      "    2.21020028e-01 -1.47925898e-01  4.92828041e-01  3.58049870e-01\n",
      "    1.27081394e-01 -2.90373322e-02  1.67353109e-01  3.38604189e-02\n",
      "   -8.57429922e-01 -6.75331593e-01 -1.20986819e-01  1.94386199e-01\n",
      "    3.92477840e-01 -1.20454587e-01  5.85446842e-02  1.93014666e-01\n",
      "    2.45134607e-02 -3.34472805e-01 -2.22070470e-01  7.50895798e-01\n",
      "    1.80969551e-01 -1.38184384e-01 -1.62644491e-01 -4.21184570e-01\n",
      "    1.41947702e-01  2.10073933e-01  2.40278557e-01 -2.10962936e-01\n",
      "   -6.36157572e-01  4.93243217e-01 -3.78544778e-01 -2.17067599e-01\n",
      "   -2.40566730e-01  7.54585341e-02  4.28941250e-01 -7.93080330e-01\n",
      "   -3.29533666e-01  5.51512301e-01  2.50267237e-01 -4.47808355e-01\n",
      "    8.34727585e-01  2.06068456e-02  1.14705265e-01  3.54275107e-02\n",
      "   -7.99281672e-02 -4.79747057e-01  1.13577950e+00 -8.52941871e-02\n",
      "    5.20184040e-01  3.06844622e-01  5.24419487e-01  4.37549859e-01\n",
      "    2.99746186e-01  7.62654364e-01 -3.15724969e-01 -5.59944622e-02\n",
      "    1.32933155e-01  8.32222700e-01  6.94533408e-01 -6.70404971e-01\n",
      "   -1.52555212e-01  3.29632014e-01  5.01260817e-01 -5.29186547e-01\n",
      "    5.34373820e-01 -3.40723276e-01 -4.31816317e-02  1.01295888e+00\n",
      "    2.19533905e-01  4.13399845e-01  4.59156990e-01  4.46019739e-01\n",
      "    2.22694978e-01  6.94086924e-02 -1.07061517e+00 -1.52975768e-01\n",
      "    4.68129516e-01 -1.41629651e-01  2.93393373e-01 -6.60919487e-01\n",
      "   -3.96929741e-01 -2.50506401e-01  2.66839355e-01 -2.10344359e-01\n",
      "   -1.38349161e-01  2.70290613e-01 -2.21115112e-01 -1.65560171e-01\n",
      "   -1.33720979e-01  8.72303307e-01  3.60237747e-01 -2.40534499e-01\n",
      "   -3.62786621e-01 -2.31940731e-01 -3.62301379e-01 -2.24808350e-01\n",
      "   -1.53230175e-01  3.33418518e-01  7.49777332e-02  4.04591471e-01\n",
      "    1.98287070e-02 -7.92335510e-01  7.24776745e-01 -4.28046256e-01\n",
      "    3.64771515e-01  4.01254773e-01 -5.10970838e-02  1.28574952e-01\n",
      "    1.78766120e-02 -6.13479674e-01 -5.36836386e-02 -1.17938578e-01\n",
      "   -5.06711006e-01 -1.83259919e-01  2.75815427e-02 -5.16897619e-01\n",
      "   -2.15073582e-02 -7.08704948e-01  4.08717722e-01  1.19625844e-01\n",
      "   -5.63228011e-01  3.33377868e-01 -1.19756065e-01  8.74268785e-02\n",
      "    5.96150815e-01  1.84104726e-01  4.36042160e-01 -2.27859393e-01\n",
      "    4.87373024e-01 -4.34167773e-01 -5.56739509e-01  1.46906912e-01\n",
      "   -8.43871295e-01  1.87486589e-01 -1.01824880e-01 -3.31672728e-02\n",
      "   -6.59618795e-01  7.68126309e-01  4.91778344e-01 -3.82145166e-01\n",
      "   -2.77979106e-01  1.48090458e+00 -4.31265049e-02  7.03344047e-01\n",
      "    2.08685920e-01  4.41924930e-02 -3.16207141e-01 -2.91586548e-01\n",
      "    3.11070085e-02  8.79155099e-01 -2.77669281e-01 -1.39735416e-01\n",
      "   -4.12398666e-01 -2.81527847e-01 -1.55362055e-01 -2.46879101e-01\n",
      "    3.65999311e-01  3.80030960e-01 -2.98653901e-01  3.22521359e-01\n",
      "   -2.58265380e-02  4.74044055e-01 -3.09496760e-01 -3.12884241e-01\n",
      "    1.62082896e-01 -9.56924930e-02 -6.00878179e-01 -2.24353179e-01\n",
      "   -4.00146842e-03  7.19892800e-01 -1.97939754e-01  1.17942221e-01\n",
      "    1.13346897e-01  3.51806059e-02  6.61664903e-01 -4.69370186e-03\n",
      "   -1.98203012e-01  2.69019574e-01  1.74962401e-01  8.63550305e-02\n",
      "    5.90389788e-01 -1.87308565e-01  1.27207235e-01 -4.42154884e-01\n",
      "   -6.14072502e-01  1.91442445e-01 -4.12909150e-01 -4.40508842e-01]\n",
      "}\n"
     ]
    }
   ],
   "source": [
    "bp(urlsVectors, logger)"
   ]
  },
  {
   "cell_type": "code",
   "execution_count": 25,
   "metadata": {},
   "outputs": [
    {
     "name": "stderr",
     "output_type": "stream",
     "text": [
      "--> tic: 2m 21.159s | message: Data loaded\n"
     ]
    },
    {
     "data": {
      "text/plain": [
       "141.16"
      ]
     },
     "execution_count": 25,
     "metadata": {},
     "output_type": "execute_result"
    }
   ],
   "source": [
    "tt.tic(\"Data loaded\")"
   ]
  },
  {
   "cell_type": "code",
   "execution_count": null,
   "metadata": {},
   "outputs": [],
   "source": []
  },
  {
   "cell_type": "code",
   "execution_count": null,
   "metadata": {},
   "outputs": [],
   "source": []
  },
  {
   "cell_type": "markdown",
   "metadata": {},
   "source": [
    "# Ranking"
   ]
  },
  {
   "cell_type": "code",
   "execution_count": 26,
   "metadata": {},
   "outputs": [
    {
     "name": "stderr",
     "output_type": "stream",
     "text": [
      "Generating ranking  50% [==========          ] (0.06s left)\n",
      "Generating ranking 100% [====================] (total duration: 0.13s, mean duration: 0.065s)\n"
     ]
    }
   ],
   "source": [
    "# Read the doc!\n",
    "rankings = usersRankingsByHistoryDistance\\\n",
    "(\n",
    "    trainUsers,\n",
    "    candidates,\n",
    "    config['historyRef'],\n",
    "    urlsVectors,\n",
    "    distanceMetric=config['distance'],\n",
    "    logger=logger,\n",
    ")"
   ]
  },
  {
   "cell_type": "code",
   "execution_count": 27,
   "metadata": {
    "scrolled": true
   },
   "outputs": [
    {
     "name": "stderr",
     "output_type": "stream",
     "text": [
      "{\n",
      "  '2617447752': \n",
      "  [\n",
      "    [\n",
      "      https://www.theguardian.com/football/2018/jan/07/video-assistant-referees-errors-mike-riley,\n",
      "      https://wp.me/p2g4vo-1QEu,\n",
      "      https://onmilwaukee.com/sports/articles/fausto-batella-first-and-ten-book.html,\n",
      "      http://www.argusleader.com/story/sports/2018/01/12/heart-attack-referee/1027871001/,\n",
      "      http://www.baltimoresun.com/sports/orioles/bs-sp-boog-20170329-story.html,\n",
      "      https://wp.me/p2g4vo-1QzM,\n",
      "      http://bit.ly/2l3TKIO,\n",
      "      http://politi.co/2zGRjR3,\n",
      "      https://medium.com/music-city-soccer/nashville-sc-signs-four-new-players-to-usl-squad-dcaeab3bdecf,\n",
      "      https://usat.ly/2D5Obny,\n",
      "      ...,\n",
      "      https://www.courier-journal.com/story/opinion/contributors/2017/12/29/kentucky-prison-crowding-justice-system/987086001/,\n",
      "      http://www.scnow.com/messenger/article_a4c053f0-f3fb-11e7-8186-575364924ac6.html,\n",
      "      https://fb.me/9fcToJQ6Q,\n",
      "      https://nyti.ms/2DxakZv,\n",
      "      http://on.wsoctv.com/2AFtLfL,\n",
      "      http://www.lcsun-news.com/story/opinion/columnists/2018/01/06/after-mental-health-mess-state-tries-same-elder-care/1010759001/,\n",
      "      https://fb.me/7hMasggmZ,\n",
      "      http://on.app.com/2CXE8AP,\n",
      "      https://buff.ly/2CQXw36,\n",
      "      http://www.phoenixnewtimes.com/arts/january-2018-calls-for-art-phoenix-9995423\n",
      "    ]\n",
      "  ],\n",
      "  '790664132': \n",
      "  [\n",
      "    [\n",
      "      https://www.greeleytribune.com/news/local/rising-groundwater-in-the-past-decade-inundates-more-basements-each-year-costing-homeowners-from-gilcrest-to-sterling-thousands-of-dollars-each/,\n",
      "      http://bit.ly/2qoqFvg,\n",
      "      http://ow.ly/QYCH50g4Ut7,\n",
      "      https://buff.ly/2lPiiF7,\n",
      "      http://wapo.st/2CISAJu?tid=ss_tw&utm_term=.38cdd97e7f25,\n",
      "      https://www.thenation.com/article/survival-sexiest/,\n",
      "      http://bit.ly/2D9jaga,\n",
      "      http://bit.ly/2C6v2l5,\n",
      "      https://lnkd.in/dB9kMKG,\n",
      "      http://ow.ly/FSFL30hOeGe,\n",
      "      ...,\n",
      "      http://www.gastongazette.com/news/20171230/5-tips-for-keeping-2018-fitness-goals,\n",
      "      https://usat.ly/2lStikW,\n",
      "      http://bit.ly/2Clwuwy,\n",
      "      http://www.wwltv.com/news/health/medical-professionals-say-this-years-flu-is-no-joke/507331516,\n",
      "      http://dispatch.com/news/20180103/parts-of-licking-county-courthouse-set-for-auction,\n",
      "      http://www.whas11.com/news/local/stolen-lmpd-cruiser-recovered/504647136,\n",
      "      http://ow.ly/pdtM30hJdBI,\n",
      "      https://usat.ly/2lCbbQg,\n",
      "      http://www.floridatoday.com/story/sports/high-school/football/2018/01/03/fhsaa-football-committee-votes-playoff-qualification-changes/1000784001/,\n",
      "      http://www.tennessean.com/story/news/local/williamson/2018/01/05/suspect-arrested-connection-killing-franklin-college-student/1006924001/\n",
      "    ]\n",
      "  ]\n",
      "}\n"
     ]
    }
   ],
   "source": [
    "bp(rankings, logger, 4)"
   ]
  },
  {
   "cell_type": "code",
   "execution_count": 28,
   "metadata": {},
   "outputs": [
    {
     "name": "stderr",
     "output_type": "stream",
     "text": [
      "--> tic: 1.32s | message: Rankings done\n"
     ]
    },
    {
     "data": {
      "text/plain": [
       "1.32"
      ]
     },
     "execution_count": 28,
     "metadata": {},
     "output_type": "execute_result"
    }
   ],
   "source": [
    "tt.tic(\"Rankings done\")"
   ]
  },
  {
   "cell_type": "code",
   "execution_count": null,
   "metadata": {},
   "outputs": [],
   "source": []
  },
  {
   "cell_type": "code",
   "execution_count": null,
   "metadata": {},
   "outputs": [],
   "source": []
  },
  {
   "cell_type": "markdown",
   "metadata": {},
   "source": [
    "# Adding rankings to the db"
   ]
  },
  {
   "cell_type": "code",
   "execution_count": 32,
   "metadata": {},
   "outputs": [],
   "source": [
    "# Read the doc!\n",
    "addRanking(modelName, rankings, config, logger=logger)"
   ]
  },
  {
   "cell_type": "code",
   "execution_count": null,
   "metadata": {},
   "outputs": [],
   "source": [
    "tt.tic(\"Rankings stored\")"
   ]
  },
  {
   "cell_type": "code",
   "execution_count": null,
   "metadata": {},
   "outputs": [],
   "source": [
    "totalDuration = tt.toc()"
   ]
  },
  {
   "cell_type": "code",
   "execution_count": null,
   "metadata": {},
   "outputs": [],
   "source": [
    "notif(modelName + '-' + objectToHash(config)[:5] + \" done in \" + secondsToHumanReadableDuration(totalDuration) + \" on \" + getHostname())"
   ]
  },
  {
   "cell_type": "code",
   "execution_count": null,
   "metadata": {},
   "outputs": [],
   "source": []
  },
  {
   "cell_type": "code",
   "execution_count": null,
   "metadata": {},
   "outputs": [],
   "source": []
  }
 ],
 "metadata": {
  "kernelspec": {
   "display_name": "Python 3",
   "language": "python",
   "name": "python3"
  },
  "language_info": {
   "codemirror_mode": {
    "name": "ipython",
    "version": 3
   },
   "file_extension": ".py",
   "mimetype": "text/x-python",
   "name": "python",
   "nbconvert_exporter": "python",
   "pygments_lexer": "ipython3",
   "version": "3.6.6"
  }
 },
 "nbformat": 4,
 "nbformat_minor": 4
}
