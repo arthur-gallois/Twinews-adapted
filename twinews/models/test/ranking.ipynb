{
 "cells": [
  {
   "cell_type": "code",
   "execution_count": 2,
   "metadata": {},
   "outputs": [],
   "source": [
    "from systemtools.printer import *\n",
    "from machinelearning.function import *"
   ]
  },
  {
   "cell_type": "code",
   "execution_count": 3,
   "metadata": {},
   "outputs": [
    {
     "data": {
      "text/plain": [
       "<module 'twinews.models.ranking' from '/home/hayj/Workspace/Python/Datasets/Twinews/twinews/models/ranking.py'>"
      ]
     },
     "execution_count": 3,
     "metadata": {},
     "output_type": "execute_result"
    }
   ],
   "source": [
    "import importlib\n",
    "from twinews.models import ranking\n",
    "importlib.reload(ranking)"
   ]
  },
  {
   "cell_type": "code",
   "execution_count": 14,
   "metadata": {},
   "outputs": [],
   "source": [
    "rankings = \\\n",
    "[\n",
    "    [('a', 200), ('b', 300), ('c', 700), ('d', 2000), ('e', 2100), ('f', 2300)],\n",
    "    [('c', 0.1), ('e', 0.3), ('a', 0.8), ('d', 0.9), ('b', 2), ('f', 200)],\n",
    "    # [('e', 0.5), ('f', 1.0), ('a', 1.2), ('d', 1.3), ('c', 1.4), ('b', 3.5)],\n",
    "    # [('e', 0.5), ('f', 1.0), ('d', 1.3)],\n",
    "    # ['e', 'a', 'b', 'c', 'f', 'd'],\n",
    "]\n",
    "rankAsScore = [False, False]\n",
    "weights = [0.5, 0.5]\n",
    "alphas = [0.5, 0.5]\n",
    "betas = [NormalizedLawBeta.LOG, NormalizedLawBeta.LOG]\n",
    "padShorterRankings = True"
   ]
  },
  {
   "cell_type": "code",
   "execution_count": 15,
   "metadata": {},
   "outputs": [
    {
     "name": "stdout",
     "output_type": "stream",
     "text": [
      "[ ( a, 0.0017508754377188462 ), ( b, 0.02856189999761788 ), ( c, 0.11904761904761907 ), ( d, 0.4305724290716787 ), ( e, 0.45288120250601493 ), ( f, 1.0 ) ]\n"
     ]
    }
   ],
   "source": [
    "bp(ranking.mergeRankings\\\n",
    "(\n",
    "    rankings,\n",
    "    rankAsScore=rankAsScore,\n",
    "    weights=weights,\n",
    "    alphas=alphas,\n",
    "    betas=betas,\n",
    "    padShorterRankings=padShorterRankings,\n",
    "), 5)"
   ]
  },
  {
   "cell_type": "code",
   "execution_count": 120,
   "metadata": {},
   "outputs": [],
   "source": []
  },
  {
   "cell_type": "code",
   "execution_count": null,
   "metadata": {},
   "outputs": [],
   "source": []
  },
  {
   "cell_type": "code",
   "execution_count": null,
   "metadata": {},
   "outputs": [],
   "source": []
  },
  {
   "cell_type": "code",
   "execution_count": null,
   "metadata": {},
   "outputs": [],
   "source": []
  },
  {
   "cell_type": "code",
   "execution_count": null,
   "metadata": {},
   "outputs": [],
   "source": []
  },
  {
   "cell_type": "code",
   "execution_count": null,
   "metadata": {},
   "outputs": [],
   "source": []
  }
 ],
 "metadata": {
  "kernelspec": {
   "display_name": "Python 3",
   "language": "python",
   "name": "python3"
  },
  "language_info": {
   "codemirror_mode": {
    "name": "ipython",
    "version": 3
   },
   "file_extension": ".py",
   "mimetype": "text/x-python",
   "name": "python",
   "nbconvert_exporter": "python",
   "pygments_lexer": "ipython3",
   "version": "3.6.6"
  }
 },
 "nbformat": 4,
 "nbformat_minor": 2
}
