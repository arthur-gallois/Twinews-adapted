{
 "cells": [
  {
   "cell_type": "code",
   "execution_count": 133,
   "metadata": {},
   "outputs": [],
   "source": [
    "from systemtools.printer import *\n",
    "from machinelearning.function import *"
   ]
  },
  {
   "cell_type": "code",
   "execution_count": 105,
   "metadata": {},
   "outputs": [
    {
     "data": {
      "text/plain": [
       "<module 'twinews.models.ranking' from '/home/hayj/Workspace/Python/Datasets/Twinews/twinews/models/ranking.py'>"
      ]
     },
     "execution_count": 105,
     "metadata": {},
     "output_type": "execute_result"
    }
   ],
   "source": [
    "import importlib\n",
    "from twinews.models import ranking\n",
    "importlib.reload(ranking)"
   ]
  },
  {
   "cell_type": "code",
   "execution_count": 134,
   "metadata": {},
   "outputs": [],
   "source": [
    "rankings = \\\n",
    "[\n",
    "    [('a', 200), ('b', 300), ('c', 700), ('d', 2000), ('e', 2100), ('f', 2300)],\n",
    "    [('c', 1), ('e', 3), ('a', 8), ('d', 15), ('b', 50), ('f', 200)],\n",
    "    # [('e', 0.5), ('f', 1.0), ('a', 1.2), ('d', 1.3), ('c', 1.4), ('b', 3.5)],\n",
    "    # [('e', 0.5), ('f', 1.0), ('d', 1.3)],\n",
    "    ['e', 'a', 'b', 'c', 'f', 'd'],\n",
    "]\n",
    "rankAsScore = [False, False, True]\n",
    "weights = [0.33333333, 0.33333, 0.3333]\n",
    "alphas = [0.5, 0.5, 0.5]\n",
    "betas = [NormalizedLawBeta.LOG, NormalizedLawBeta.LOG, NormalizedLawBeta.LOG]\n",
    "padShorterRankings = True"
   ]
  },
  {
   "cell_type": "code",
   "execution_count": 135,
   "metadata": {},
   "outputs": [
    {
     "name": "stdout",
     "output_type": "stream",
     "text": [
      "{\n",
      "  'a': [ 0.0, 0.011725175879396999, 0.06665999999999998 ],\n",
      "  'b': [ 0.015873015714285732, 0.08207623115577892, 0.13332 ],\n",
      "  'c': [ 0.07936507857142858, 0.0, 0.19998 ],\n",
      "  'd': [ 0.28571428285714284, 0.023450351758793963, 0.3333 ],\n",
      "  'e': [ 0.3015872985714286, 0.003350050251256296, 0.0 ],\n",
      "  'f': [ 0.33333333, 0.33333, 0.26664 ]\n",
      "}\n",
      "[ a, b, c, e, d, f ]\n"
     ]
    }
   ],
   "source": [
    "bp(ranking.mergeRankings\\\n",
    "(\n",
    "    rankings,\n",
    "    rankAsScore=rankAsScore,\n",
    "    weights=weights,\n",
    "    alphas=alphas,\n",
    "    betas=betas,\n",
    "    padShorterRankings=padShorterRankings,\n",
    "), 5)"
   ]
  },
  {
   "cell_type": "code",
   "execution_count": 120,
   "metadata": {},
   "outputs": [],
   "source": []
  },
  {
   "cell_type": "code",
   "execution_count": null,
   "metadata": {},
   "outputs": [],
   "source": []
  },
  {
   "cell_type": "code",
   "execution_count": null,
   "metadata": {},
   "outputs": [],
   "source": []
  },
  {
   "cell_type": "code",
   "execution_count": null,
   "metadata": {},
   "outputs": [],
   "source": []
  },
  {
   "cell_type": "code",
   "execution_count": null,
   "metadata": {},
   "outputs": [],
   "source": []
  },
  {
   "cell_type": "code",
   "execution_count": null,
   "metadata": {},
   "outputs": [],
   "source": []
  }
 ],
 "metadata": {
  "kernelspec": {
   "display_name": "Python 3",
   "language": "python",
   "name": "python3"
  },
  "language_info": {
   "codemirror_mode": {
    "name": "ipython",
    "version": 3
   },
   "file_extension": ".py",
   "mimetype": "text/x-python",
   "name": "python",
   "nbconvert_exporter": "python",
   "pygments_lexer": "ipython3",
   "version": "3.6.6"
  }
 },
 "nbformat": 4,
 "nbformat_minor": 2
}
