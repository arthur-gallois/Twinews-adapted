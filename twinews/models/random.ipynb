{
 "cells": [
  {
   "cell_type": "markdown",
   "metadata": {},
   "source": [
    "# Commands"
   ]
  },
  {
   "cell_type": "code",
   "execution_count": 1,
   "metadata": {},
   "outputs": [],
   "source": [
    "# cd ~/twinews-logs ; jupython -o nohup-random-$HOSTNAME.out --venv st-venv ~/Workspace/Python/Datasets/Twinews/twinews/models/random.ipynb"
   ]
  },
  {
   "cell_type": "code",
   "execution_count": null,
   "metadata": {},
   "outputs": [],
   "source": []
  },
  {
   "cell_type": "code",
   "execution_count": null,
   "metadata": {},
   "outputs": [],
   "source": []
  },
  {
   "cell_type": "markdown",
   "metadata": {},
   "source": [
    "# Init"
   ]
  },
  {
   "cell_type": "code",
   "execution_count": 2,
   "metadata": {},
   "outputs": [],
   "source": [
    "import os ; os.environ[\"CUDA_VISIBLE_DEVICES\"] = \"\""
   ]
  },
  {
   "cell_type": "code",
   "execution_count": 3,
   "metadata": {},
   "outputs": [],
   "source": [
    "isNotebook = '__file__' not in locals()"
   ]
  },
  {
   "cell_type": "code",
   "execution_count": 4,
   "metadata": {},
   "outputs": [],
   "source": [
    "TEST = isNotebook # isNotebook, True, False"
   ]
  },
  {
   "cell_type": "code",
   "execution_count": 5,
   "metadata": {},
   "outputs": [],
   "source": [
    "from systemtools.hayj import *\n",
    "from systemtools.location import *\n",
    "from systemtools.basics import *\n",
    "from systemtools.file import *\n",
    "from systemtools.printer import *\n",
    "from nlptools.preprocessing import *\n",
    "from nlptools.basics import *\n",
    "from twinews.utils import *\n",
    "from twinews.models.ranking import *\n",
    "from machinelearning.iterator import *"
   ]
  },
  {
   "cell_type": "code",
   "execution_count": 6,
   "metadata": {},
   "outputs": [],
   "source": [
    "from nltk.stem import WordNetLemmatizer \n",
    "from sklearn.feature_extraction.text import TfidfVectorizer\n",
    "from sklearn.decomposition import TruncatedSVD"
   ]
  },
  {
   "cell_type": "code",
   "execution_count": 7,
   "metadata": {},
   "outputs": [],
   "source": [
    "from gensim.summarization import bm25"
   ]
  },
  {
   "cell_type": "code",
   "execution_count": 8,
   "metadata": {},
   "outputs": [
    {
     "name": "stderr",
     "output_type": "stream",
     "text": [
      "--> tictoc starts...\n"
     ]
    },
    {
     "data": {
      "text/plain": [
       "-1"
      ]
     },
     "execution_count": 8,
     "metadata": {},
     "output_type": "execute_result"
    }
   ],
   "source": [
    "logger = Logger(tmpDir('logs') + \"/random.log\") if isNotebook else Logger(\"random-\" + getHostname() + \".log\")\n",
    "tt = TicToc(logger=logger)\n",
    "tt.tic()"
   ]
  },
  {
   "cell_type": "code",
   "execution_count": null,
   "metadata": {},
   "outputs": [],
   "source": []
  },
  {
   "cell_type": "code",
   "execution_count": null,
   "metadata": {},
   "outputs": [],
   "source": []
  },
  {
   "cell_type": "markdown",
   "metadata": {},
   "source": [
    "# Config"
   ]
  },
  {
   "cell_type": "code",
   "execution_count": 9,
   "metadata": {},
   "outputs": [],
   "source": [
    "# modelName = 'worst'\n",
    "modelName = 'ideal'\n",
    "# modelName = 'random'"
   ]
  },
  {
   "cell_type": "code",
   "execution_count": 10,
   "metadata": {},
   "outputs": [],
   "source": [
    "config = \\\n",
    "{\n",
    "    'splitVersion': 1,\n",
    "    'maxUsers': None if TEST else None, # Sub-sampling\n",
    "    'seed': 0,\n",
    "}"
   ]
  },
  {
   "cell_type": "code",
   "execution_count": 11,
   "metadata": {},
   "outputs": [],
   "source": [
    "if modelName != 'random':\n",
    "    del config['seed']"
   ]
  },
  {
   "cell_type": "code",
   "execution_count": 12,
   "metadata": {},
   "outputs": [
    {
     "name": "stderr",
     "output_type": "stream",
     "text": [
      "{ 'maxUsers': None, 'splitVersion': 1 }\n"
     ]
    }
   ],
   "source": [
    "bp(config, logger, 5)"
   ]
  },
  {
   "cell_type": "code",
   "execution_count": 13,
   "metadata": {},
   "outputs": [],
   "source": [
    "# Here we check if we already generated ranking for this model with this specific config:\n",
    "if not isNotebook:\n",
    "    if rankingExists(modelName, config, logger=logger):\n",
    "        raise Exception(modelName + \" with this config already exist:\\n\" + b(config, 5))"
   ]
  },
  {
   "cell_type": "code",
   "execution_count": null,
   "metadata": {},
   "outputs": [],
   "source": []
  },
  {
   "cell_type": "code",
   "execution_count": null,
   "metadata": {},
   "outputs": [],
   "source": []
  },
  {
   "cell_type": "markdown",
   "metadata": {},
   "source": [
    "# Getting data"
   ]
  },
  {
   "cell_type": "code",
   "execution_count": 14,
   "metadata": {},
   "outputs": [
    {
     "name": "stderr",
     "output_type": "stream",
     "text": [
      "--> tic: 46.76s | message: Eval data loaded\n",
      "--> toc total duration: 51.57s | message: Got Twinews evaluation data\n",
      "{ candidates, extraNews, meta, testNews, testUsers, trainNews, trainUsers }\n",
      "{ 'created': 2020.03.24-14.13.25, 'endDate': 2018-02-16, 'id': 1, 'ranksLength': 1000, 'splitDate': 2018-01-15, 'startDate': 2017-10-01, 'testMaxNewsPerUser': 164, 'testMeanNewsPerUser': 10.67, 'testMinNewsPerUser': 2, 'testNewsCount': 138785, 'totalNewsAvailable': 570210, 'trainMaxNewsPerUser': 443, 'trainMeanNewsPerUser': 28.0, 'trainMinNewsPerUser': 8, 'trainNewsCount': 323572, 'usersCount': 21239 }\n"
     ]
    }
   ],
   "source": [
    "# Getting users and news\n",
    "evalData = getEvalData(config['splitVersion'], maxExtraNews=0, maxUsers=config['maxUsers'], logger=logger)\n",
    "(trainUsers, testUsers, trainNews, testNews, candidates, extraNews) = \\\n",
    "(evalData['trainUsers'], evalData['testUsers'], evalData['trainNews'],\n",
    " evalData['testNews'], evalData['candidates'], evalData['extraNews'])\n",
    "bp(evalData.keys(), 5, logger)\n",
    "log(b(evalData['meta'], 5), logger)"
   ]
  },
  {
   "cell_type": "code",
   "execution_count": 15,
   "metadata": {},
   "outputs": [],
   "source": [
    "# Here it is important to convert urls to lists because we want the same order to retrieve vectors by index...\n",
    "# And we shuffle it so we do not stick urls a a user at the begin...\n",
    "# But we seed the random to always have same order...\n",
    "trainNewsList = shuffle(list(trainNews), seed=0)\n",
    "testNewsList = shuffle(list(testNews), seed=0)\n",
    "newsList = trainNewsList + testNewsList"
   ]
  },
  {
   "cell_type": "code",
   "execution_count": 16,
   "metadata": {},
   "outputs": [
    {
     "name": "stderr",
     "output_type": "stream",
     "text": [
      "323572 urls for trainNewsList\n",
      "138785 urls for testNewsList\n",
      "462357 urls for newsList\n"
     ]
    }
   ],
   "source": [
    "# Print all:\n",
    "log(str(len(trainNewsList)) + \" urls for trainNewsList\", logger=logger)\n",
    "log(str(len(testNewsList)) + \" urls for testNewsList\", logger=logger)\n",
    "log(str(len(newsList)) + \" urls for newsList\", logger=logger)"
   ]
  },
  {
   "cell_type": "code",
   "execution_count": 17,
   "metadata": {},
   "outputs": [
    {
     "name": "stderr",
     "output_type": "stream",
     "text": [
      "--> tic: 52.55s | message: Data preprocessed\n"
     ]
    },
    {
     "data": {
      "text/plain": [
       "52.55"
      ]
     },
     "execution_count": 17,
     "metadata": {},
     "output_type": "execute_result"
    }
   ],
   "source": [
    "tt.tic(\"Data preprocessed\")"
   ]
  },
  {
   "cell_type": "code",
   "execution_count": null,
   "metadata": {
    "scrolled": true
   },
   "outputs": [],
   "source": []
  },
  {
   "cell_type": "code",
   "execution_count": null,
   "metadata": {},
   "outputs": [],
   "source": []
  },
  {
   "cell_type": "markdown",
   "metadata": {},
   "source": [
    "# Ranking"
   ]
  },
  {
   "cell_type": "code",
   "execution_count": 18,
   "metadata": {},
   "outputs": [
    {
     "name": "stderr",
     "output_type": "stream",
     "text": [
      "{\n",
      "  100022528: \n",
      "  [\n",
      "    [\n",
      "      http://newsok.com/article/5579862?utm_source=NewsOK.com&utm_medium=Social&utm_campaign=ShareBar-Twit,\n",
      "      http://newsok.com/article/5579897?utm_source=NewsOK.com&utm_medium=Social&utm_campaign=ShareBar-Twit,\n",
      "      ...,\n",
      "      https://www.zerohedge.com/news/2018-01-31/earths-magnetic-field-shifting-poles-may-flip-could-get-ba,\n",
      "      https://ziffblog.wordpress.com/2018/01/26/stare-decisis-and-the-consubstantiality-of-the-washington-\n",
      "    ]\n",
      "  ],\n",
      "  100024324: \n",
      "  [\n",
      "    [\n",
      "      https://buff.ly/2r33Cbc,\n",
      "      https://fb.me/1V3tC1haw,\n",
      "      ...,\n",
      "      https://www.yahoo.com/news/brash-ex-milwaukee-sheriff-david-clarke-faces-civil-161831030--politics.h,\n",
      "      https://www.zerohedge.com/news/2018-02-07/yuan-crashing-after-huge-china-trade-surprise\n",
      "    ]\n",
      "  ],\n",
      "  100064338: \n",
      "  [\n",
      "    [\n",
      "      http://a.msn.com/0C/en-us/AAuJW0j?ocid=st,\n",
      "      http://bbc.in/2EF1R7c,\n",
      "      ...,\n",
      "      https://www.yahoo.com/news/early-immigrants-weren-apos-t-105905842.html?.tsrc=fauxdal,\n",
      "      https://www.zerohedge.com/news/2018-01-30/cryptos-are-getting-crushed-again\n",
      "    ]\n",
      "  ],\n",
      "  1000908834: \n",
      "  [\n",
      "    [\n",
      "      http://bit.ly/2BdL6No,\n",
      "      http://bit.ly/2DwmuBf,\n",
      "      ...,\n",
      "      https://www.yorkregion.com/community-story/8111133-portrait-of-achievement/,\n",
      "      https://www.zerohedge.com/news/2018-02-09/meet-worlds-next-central-banker-mark-zuckerberg\n",
      "    ]\n",
      "  ],\n",
      "  1002207570: \n",
      "  [\n",
      "    [\n",
      "      http://ow.ly/ZfQp30i4s0P,\n",
      "      http://wapo.st/2nenFOI?tid=ss_tw&utm_term=.51c0baf83b74,\n",
      "      ...,\n",
      "      https://www.yorkshirepost.co.uk/news/opinion/adam-beaumont-how-high-speed-data-has-a-key-role-to-pla,\n",
      "      https://www.zmescience.com/medicine/nutrition-medicine/curry-curcumin-memory-alzheimers-24012018/\n",
      "    ]\n",
      "  ],\n",
      "  ...,\n",
      "  996418993: \n",
      "  [\n",
      "    [\n",
      "      http://www.cbc.ca/1.4488392,\n",
      "      http://www.cbc.ca/1.4505361,\n",
      "      ...,\n",
      "      https://yaledailynews.com/blog/2018/01/25/trump-calls-out-harp-at-white-house-meeting/,\n",
      "      https://yaledailynews.com/blog/2018/02/09/legal-aid-nonprofit-receives-15k-grant/\n",
      "    ]\n",
      "  ],\n",
      "  9972002: \n",
      "  [\n",
      "    [\n",
      "      http://nyti.ms/2BS8RLc,\n",
      "      http://ow.ly/my0j30hKtFk,\n",
      "      ...,\n",
      "      https://www.wsj.com/articles/a-simple-plan-for-parental-leave-1516836442,\n",
      "      https://www.zerohedge.com/news/2018-01-23/watch-comedian-shred-cnns-regime-change-talking-points-und\n",
      "    ]\n",
      "  ],\n",
      "  99791053: \n",
      "  [\n",
      "    [\n",
      "      http://nyti.ms/2DVSGPD,\n",
      "      https://buff.ly/2EaLMGg,\n",
      "      ...,\n",
      "      https://www.yorkregion.com/news-story/8124582-yrdsb-spent-44m-in-sick-pay-last-year-upward-trend-con,\n",
      "      https://www.zerohedge.com/news/2018-02-05/asian-stocks-open-sea-red-us-2y-bond-yield-plunges-back-be\n",
      "    ]\n",
      "  ],\n",
      "  997944516: \n",
      "  [\n",
      "    [\n",
      "      http://nyti.ms/2F0xjgJ,\n",
      "      https://lnkd.in/d6tnATH,\n",
      "      ...,\n",
      "      https://yaledailynews.com/blog/2018/02/05/students-criticize-university-investments-at-teach-in/,\n",
      "      https://yle.fi/uutiset/osasto/news/lahti_to_reward_residents_for_cutting_emissions/10030845\n",
      "    ]\n",
      "  ],\n",
      "  99895304: \n",
      "  [\n",
      "    [\n",
      "      http://bit.ly/2F6QgNl,\n",
      "      http://freebeacon.com/national-security/pentagon-agency-cant-account-over-800-million-expenses/,\n",
      "      ...,\n",
      "      https://www.wsj.com/articles/u-s-memo-urges-big-push-on-5g-wireless-technology-1517200319,\n",
      "      https://www.wsj.com/livecoverage/stocks-dow-jones-market-volatility\n",
      "    ]\n",
      "  ]\n",
      "}\n"
     ]
    }
   ],
   "source": [
    "rankings = dict()\n",
    "for userId in evalData[\"candidates\"]:\n",
    "    currentRankings = []\n",
    "    for currentCandidates in evalData[\"candidates\"][userId]:\n",
    "        relevantUrls = set(evalData[\"testUsers\"][userId].keys())\n",
    "        unrelevantUrls = [e for e in currentCandidates if e not in relevantUrls]\n",
    "        relevantUrls = sorted(list(relevantUrls))\n",
    "        unrelevantUrls = sorted(list(unrelevantUrls))\n",
    "        assert len(relevantUrls) > 0\n",
    "        assert len(unrelevantUrls) > 0\n",
    "        if modelName == 'worst':\n",
    "            ranking = unrelevantUrls + relevantUrls\n",
    "        elif modelName == 'ideal':\n",
    "            ranking = relevantUrls + unrelevantUrls\n",
    "        elif modelName == 'random':\n",
    "            ranking = shuffle(relevantUrls + unrelevantUrls, seed=config['seed'])\n",
    "        assert len(ranking) == len(currentCandidates)\n",
    "        currentRankings.append(ranking)\n",
    "    rankings[userId] = currentRankings\n",
    "bp(rankings, logger)"
   ]
  },
  {
   "cell_type": "code",
   "execution_count": 19,
   "metadata": {},
   "outputs": [
    {
     "name": "stderr",
     "output_type": "stream",
     "text": [
      "--> tic: 12.2s | message: Rankings done\n"
     ]
    },
    {
     "data": {
      "text/plain": [
       "12.2"
      ]
     },
     "execution_count": 19,
     "metadata": {},
     "output_type": "execute_result"
    }
   ],
   "source": [
    "tt.tic(\"Rankings done\")"
   ]
  },
  {
   "cell_type": "code",
   "execution_count": null,
   "metadata": {},
   "outputs": [],
   "source": []
  },
  {
   "cell_type": "code",
   "execution_count": null,
   "metadata": {},
   "outputs": [],
   "source": []
  },
  {
   "cell_type": "markdown",
   "metadata": {},
   "source": [
    "# Adding rankings to the db"
   ]
  },
  {
   "cell_type": "code",
   "execution_count": 20,
   "metadata": {},
   "outputs": [],
   "source": [
    "# Read the doc!\n",
    "addRanking(modelName, rankings, config, logger=logger)"
   ]
  },
  {
   "cell_type": "code",
   "execution_count": 21,
   "metadata": {},
   "outputs": [
    {
     "name": "stderr",
     "output_type": "stream",
     "text": [
      "--> tic: 29.38s | message: Rankings stored\n"
     ]
    },
    {
     "data": {
      "text/plain": [
       "29.38"
      ]
     },
     "execution_count": 21,
     "metadata": {},
     "output_type": "execute_result"
    }
   ],
   "source": [
    "tt.tic(\"Rankings stored\")"
   ]
  },
  {
   "cell_type": "code",
   "execution_count": 22,
   "metadata": {},
   "outputs": [
    {
     "name": "stderr",
     "output_type": "stream",
     "text": [
      "--> toc total duration: 1m 34.15s\n"
     ]
    }
   ],
   "source": [
    "totalDuration = tt.toc()"
   ]
  },
  {
   "cell_type": "code",
   "execution_count": 23,
   "metadata": {},
   "outputs": [],
   "source": [
    "notif(modelName + '-' + objectToHash(config)[:5] + \" done in \" + secondsToHumanReadableDuration(totalDuration) + \" on \" + getHostname())"
   ]
  },
  {
   "cell_type": "code",
   "execution_count": null,
   "metadata": {},
   "outputs": [],
   "source": []
  },
  {
   "cell_type": "code",
   "execution_count": null,
   "metadata": {},
   "outputs": [],
   "source": []
  }
 ],
 "metadata": {
  "kernelspec": {
   "display_name": "Python 3",
   "language": "python",
   "name": "python3"
  },
  "language_info": {
   "codemirror_mode": {
    "name": "ipython",
    "version": 3
   },
   "file_extension": ".py",
   "mimetype": "text/x-python",
   "name": "python",
   "nbconvert_exporter": "python",
   "pygments_lexer": "ipython3",
   "version": "3.6.6"
  }
 },
 "nbformat": 4,
 "nbformat_minor": 4
}
