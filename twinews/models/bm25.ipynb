{
 "cells": [
  {
   "cell_type": "markdown",
   "metadata": {},
   "source": [
    "# Commands"
   ]
  },
  {
   "cell_type": "code",
   "execution_count": 1,
   "metadata": {},
   "outputs": [],
   "source": [
    "# oomstopper --no-tail bm25 ; killbill bm25 ; cd ~/twinews-logs ; jupython -o nohup-bm25-$HOSTNAME.out --venv st-venv ~/Workspace/Python/Datasets/Twinews/twinews/models/bm25.ipynb"
   ]
  },
  {
   "cell_type": "code",
   "execution_count": null,
   "metadata": {},
   "outputs": [],
   "source": []
  },
  {
   "cell_type": "code",
   "execution_count": null,
   "metadata": {},
   "outputs": [],
   "source": []
  },
  {
   "cell_type": "markdown",
   "metadata": {},
   "source": [
    "# Init"
   ]
  },
  {
   "cell_type": "code",
   "execution_count": 2,
   "metadata": {},
   "outputs": [],
   "source": [
    "import os ; os.environ[\"CUDA_VISIBLE_DEVICES\"] = \"\""
   ]
  },
  {
   "cell_type": "code",
   "execution_count": 3,
   "metadata": {},
   "outputs": [],
   "source": [
    "isNotebook = '__file__' not in locals()"
   ]
  },
  {
   "cell_type": "code",
   "execution_count": 4,
   "metadata": {},
   "outputs": [],
   "source": [
    "TEST = isNotebook # isNotebook, True, False"
   ]
  },
  {
   "cell_type": "code",
   "execution_count": 5,
   "metadata": {},
   "outputs": [],
   "source": [
    "from systemtools.hayj import *\n",
    "from systemtools.location import *\n",
    "from systemtools.basics import *\n",
    "from systemtools.file import *\n",
    "from systemtools.printer import *\n",
    "from nlptools.preprocessing import *\n",
    "from nlptools.basics import *\n",
    "from twinews.utils import *\n",
    "from twinews.models.ranking import *\n",
    "from machinelearning.iterator import *"
   ]
  },
  {
   "cell_type": "code",
   "execution_count": 6,
   "metadata": {},
   "outputs": [],
   "source": [
    "from nltk.stem import WordNetLemmatizer \n",
    "from sklearn.feature_extraction.text import TfidfVectorizer\n",
    "from sklearn.decomposition import TruncatedSVD"
   ]
  },
  {
   "cell_type": "code",
   "execution_count": 7,
   "metadata": {},
   "outputs": [],
   "source": [
    "from gensim.summarization import bm25"
   ]
  },
  {
   "cell_type": "code",
   "execution_count": 8,
   "metadata": {},
   "outputs": [
    {
     "name": "stderr",
     "output_type": "stream",
     "text": [
      "--> tictoc starts...\n"
     ]
    },
    {
     "data": {
      "text/plain": [
       "-1"
      ]
     },
     "execution_count": 8,
     "metadata": {},
     "output_type": "execute_result"
    }
   ],
   "source": [
    "logger = Logger(tmpDir('logs') + \"/bm25.log\") if isNotebook else Logger(\"bm25-\" + getHostname() + \".log\")\n",
    "tt = TicToc(logger=logger)\n",
    "tt.tic()"
   ]
  },
  {
   "cell_type": "code",
   "execution_count": null,
   "metadata": {},
   "outputs": [],
   "source": []
  },
  {
   "cell_type": "code",
   "execution_count": null,
   "metadata": {},
   "outputs": [],
   "source": []
  },
  {
   "cell_type": "markdown",
   "metadata": {},
   "source": [
    "# Config"
   ]
  },
  {
   "cell_type": "code",
   "execution_count": 9,
   "metadata": {},
   "outputs": [],
   "source": [
    "config = \\\n",
    "{\n",
    "    'splitVersion': 2,\n",
    "    \n",
    "    'maxUsers': 10 if TEST else None, # Sub-sampling\n",
    "    'minDF': None if TEST else 1 / 2000, # 1 / 2000 or None\n",
    "    'maxDF': None if TEST else 300, # 300 or None\n",
    "    \n",
    "    'lowercase': False if TEST else False, # True or False\n",
    "    'doLemmatization': False if TEST else False, # True or False\n",
    "    \n",
    "    'k1': 2.4, # 1.5 (default), (from Yuting: 1.2 to 2.0 with step 0.1)\n",
    "    'b': 2.0, # 0.75 (default), (from Yuting: 0.5 to 0.8 with step 0.05)\n",
    "    'epsilon': 0.25, # 0.25 (default).\n",
    "}"
   ]
  },
  {
   "cell_type": "code",
   "execution_count": 10,
   "metadata": {},
   "outputs": [],
   "source": [
    "modelName = 'bm25'"
   ]
  },
  {
   "cell_type": "code",
   "execution_count": 11,
   "metadata": {},
   "outputs": [
    {
     "name": "stderr",
     "output_type": "stream",
     "text": [
      "{ 'b': 1.5, 'doLemmatization': False, 'epsilon': 0.25, 'k1': 2.4, 'lowercase': False, 'maxDF': None, 'maxUsers': 10, 'minDF': None, 'splitVersion': 2 }\n"
     ]
    }
   ],
   "source": [
    "bp(config, logger, 5)"
   ]
  },
  {
   "cell_type": "code",
   "execution_count": 12,
   "metadata": {},
   "outputs": [],
   "source": [
    "# Here we check if we already generated ranking for this model with this specific config:\n",
    "if not isNotebook:\n",
    "    if rankingExists(modelName, config, logger=logger):\n",
    "        raise Exception(modelName + \" with this config already exist:\\n\" + b(config, 5))"
   ]
  },
  {
   "cell_type": "code",
   "execution_count": 13,
   "metadata": {},
   "outputs": [
    {
     "name": "stderr",
     "output_type": "stream",
     "text": [
      "12.68g of RAM remaining.\n"
     ]
    }
   ],
   "source": [
    "warnFreeRAM(logger=logger)"
   ]
  },
  {
   "cell_type": "code",
   "execution_count": null,
   "metadata": {},
   "outputs": [],
   "source": []
  },
  {
   "cell_type": "code",
   "execution_count": null,
   "metadata": {},
   "outputs": [],
   "source": []
  },
  {
   "cell_type": "markdown",
   "metadata": {},
   "source": [
    "# Getting data"
   ]
  },
  {
   "cell_type": "code",
   "execution_count": 14,
   "metadata": {},
   "outputs": [
    {
     "name": "stderr",
     "output_type": "stream",
     "text": [
      "--> tic: 32.11s | message: Eval data loaded\n",
      "--> toc total duration: 32.41s | message: Got Twinews evaluation data\n",
      "{ candidates, extraNews, meta, testNews, testUsers, trainNews, trainUsers }\n",
      "{ 'created': 2020.03.24-14.28.06, 'endDate': 2018-01-15, 'id': 2, 'ranksLength': 1000, 'splitDate': 2017-12-25, 'startDate': 2017-10-01, 'testMaxNewsPerUser': 97, 'testMeanNewsPerUser': 7.22, 'testMinNewsPerUser': 2, 'testNewsCount': 71781, 'totalNewsAvailable': 570210, 'trainMaxNewsPerUser': 379, 'trainMeanNewsPerUser': 26.48, 'trainMinNewsPerUser': 8, 'trainNewsCount': 237150, 'usersCount': 15905 }\n"
     ]
    }
   ],
   "source": [
    "# Getting users and news\n",
    "evalData = getEvalData(config['splitVersion'], maxExtraNews=0, maxUsers=config['maxUsers'], logger=logger)\n",
    "(trainUsers, testUsers, trainNews, testNews, candidates, extraNews) = \\\n",
    "(evalData['trainUsers'], evalData['testUsers'], evalData['trainNews'],\n",
    " evalData['testNews'], evalData['candidates'], evalData['extraNews'])\n",
    "bp(evalData.keys(), 5, logger)\n",
    "log(b(evalData['meta'], 5), logger)"
   ]
  },
  {
   "cell_type": "code",
   "execution_count": 15,
   "metadata": {},
   "outputs": [],
   "source": [
    "# Here it is important to convert urls to lists because we want the same order to retrieve vectors by index...\n",
    "# And we shuffle it so we do not stick urls a a user at the begin...\n",
    "# But we seed the random to always have same order...\n",
    "trainNewsList = shuffle(list(trainNews), seed=0)\n",
    "testNewsList = shuffle(list(testNews), seed=0)\n",
    "newsList = trainNewsList + testNewsList"
   ]
  },
  {
   "cell_type": "code",
   "execution_count": 16,
   "metadata": {},
   "outputs": [
    {
     "name": "stderr",
     "output_type": "stream",
     "text": [
      "299 urls for trainNewsList\n",
      "9391 urls for testNewsList\n",
      "9690 urls for newsList\n"
     ]
    }
   ],
   "source": [
    "# Print all:\n",
    "log(str(len(trainNewsList)) + \" urls for trainNewsList\", logger=logger)\n",
    "log(str(len(testNewsList)) + \" urls for testNewsList\", logger=logger)\n",
    "log(str(len(newsList)) + \" urls for newsList\", logger=logger)"
   ]
  },
  {
   "cell_type": "code",
   "execution_count": 17,
   "metadata": {},
   "outputs": [
    {
     "name": "stderr",
     "output_type": "stream",
     "text": [
      "twinews news (version 1.0) initialised.\n",
      "  0% [                    ]\n",
      " 10% [==                  ] (3m 20.52s left)\n",
      " 20% [====                ] (2m 54.719s left)\n",
      " 30% [======              ] (2m 32.156s left)\n",
      " 40% [========            ] (2m 10.484s left)\n",
      " 50% [==========          ] (1m 48.5s left)\n",
      " 60% [============        ] (1m 26.733s left)\n",
      " 70% [==============      ] (1m 4.727s left)\n",
      " 80% [================    ] (43.367s left)\n",
      " 90% [==================  ] (21.704s left)\n",
      "100% [====================] (total duration: 3m 36.62s, mean duration: 0.022s)\n",
      "[\n",
      "  [ [ Sen., Ted, ..., misconduct, . ], [ \", Roy, ..., interview, . ], ..., [ \", And, ..., groping, . ], [ That, a, ..., more, . ] ],\n",
      "  [ [ Order, Reprint, ..., ago, . ], [ The, tweet, ..., morning, . ], ..., [ Frank, Luntz, ..., California, . ], [ Can, you, ..., please, ? ] ],\n",
      "  ...,\n",
      "  [ [ How, you, ..., round, . ], [ According, to, ..., camps, . ], ..., [ If, you, ..., here, . ], [ For, a, ..., here, . ] ],\n",
      "  [ [ Lori, Clemons, ..., Commission, . ], [ Clemons, ,, ..., seats, . ], ..., [ Reach, Emily, ..., at, @emwest22 ], [ To, attend, ..., dates, . ] ]\n",
      "]\n"
     ]
    }
   ],
   "source": [
    "# We get sentences:\n",
    "sentences = getNewsSentences(newsList, logger=logger)\n",
    "bp(sentences, logger)"
   ]
  },
  {
   "cell_type": "code",
   "execution_count": 18,
   "metadata": {},
   "outputs": [
    {
     "name": "stderr",
     "output_type": "stream",
     "text": [
      "[ [ Sen., Ted, ..., more, . ], [ Order, Reprint, ..., please, ? ], ..., [ How, you, ..., here, . ], [ Lori, Clemons, ..., dates, . ] ]\n"
     ]
    }
   ],
   "source": [
    "# We flatten sentences:\n",
    "for i in range(len(sentences)):\n",
    "    sentences[i] = flattenLists(sentences[i])\n",
    "docs = sentences\n",
    "bp(docs, logger)"
   ]
  },
  {
   "cell_type": "code",
   "execution_count": 19,
   "metadata": {},
   "outputs": [
    {
     "name": "stderr",
     "output_type": "stream",
     "text": [
      "[ [ Sen., Ted, ..., more, . ], [ Order, Reprint, ..., please, ? ], ..., [ How, you, ..., here, . ], [ Lori, Clemons, ..., dates, . ] ]\n"
     ]
    }
   ],
   "source": [
    "# Lower case:\n",
    "if config['lowercase']:\n",
    "    for i in pb(list(range(len(docs))), logger=logger, message=\"Lower casing\"):\n",
    "        for u in range(len(docs[i])):\n",
    "            docs[i][u] = docs[i][u].lower()\n",
    "bp(docs, logger)"
   ]
  },
  {
   "cell_type": "code",
   "execution_count": 20,
   "metadata": {},
   "outputs": [
    {
     "name": "stderr",
     "output_type": "stream",
     "text": [
      "[ [ Sen., Ted, ..., more, . ], [ Order, Reprint, ..., please, ? ], ..., [ How, you, ..., here, . ], [ Lori, Clemons, ..., dates, . ] ]\n"
     ]
    }
   ],
   "source": [
    "# Lemmatization:\n",
    "if config['doLemmatization']:\n",
    "    lemmatizer = WordNetLemmatizer()\n",
    "    pbar = ProgressBar(len(docs), logger=logger, message=\"Lemmatization\")\n",
    "    for i in range(len(docs)):\n",
    "        for u in range(len(docs[i])):\n",
    "            docs[i][u] = lemmatizer.lemmatize(docs[i][u])\n",
    "        pbar.tic()\n",
    "bp(docs, logger)"
   ]
  },
  {
   "cell_type": "code",
   "execution_count": 21,
   "metadata": {},
   "outputs": [],
   "source": [
    "# Filtering the corpus:\n",
    "if config['minDF'] is not None or config['maxDF'] is not None:\n",
    "    docs = filterCorpus(docs, minDF=config['minDF'], maxDF=config['maxDF'],\n",
    "                        removeEmptyDocs=False, allowEmptyDocs=False, logger=logger)\n",
    "    for doc in docs: assert len(doc) > 0\n",
    "    bp(docs, logger)"
   ]
  },
  {
   "cell_type": "code",
   "execution_count": 22,
   "metadata": {},
   "outputs": [
    {
     "name": "stderr",
     "output_type": "stream",
     "text": [
      "--> tic: 4m 9.56s | message: Data preprocessed\n"
     ]
    },
    {
     "data": {
      "text/plain": [
       "249.56"
      ]
     },
     "execution_count": 22,
     "metadata": {},
     "output_type": "execute_result"
    }
   ],
   "source": [
    "tt.tic(\"Data preprocessed\")"
   ]
  },
  {
   "cell_type": "code",
   "execution_count": null,
   "metadata": {
    "scrolled": true
   },
   "outputs": [],
   "source": []
  },
  {
   "cell_type": "code",
   "execution_count": null,
   "metadata": {},
   "outputs": [],
   "source": []
  },
  {
   "cell_type": "markdown",
   "metadata": {},
   "source": [
    "# Ranking"
   ]
  },
  {
   "cell_type": "code",
   "execution_count": 23,
   "metadata": {},
   "outputs": [],
   "source": [
    "userIds = list(evalData['candidates'].keys())"
   ]
  },
  {
   "cell_type": "code",
   "execution_count": 24,
   "metadata": {},
   "outputs": [],
   "source": [
    "chunksSize = int(len(userIds) / 500)\n",
    "if chunksSize == 0:\n",
    "    chunksSize = 1"
   ]
  },
  {
   "cell_type": "code",
   "execution_count": 25,
   "metadata": {},
   "outputs": [],
   "source": [
    "userIds = chunks(userIds, chunksSize)"
   ]
  },
  {
   "cell_type": "code",
   "execution_count": 26,
   "metadata": {},
   "outputs": [
    {
     "name": "stderr",
     "output_type": "stream",
     "text": [
      "[ [ 790664132 ], [ 2617447752 ], [ 62594694 ], [ 839264223741956096 ], [ 2786961721 ], [ 1198644368 ], [ 21379050 ], [ 97081361 ], [ 3223646504 ], [ 3075850549 ] ]\n"
     ]
    }
   ],
   "source": [
    "bp(userIds, 3, logger)"
   ]
  },
  {
   "cell_type": "code",
   "execution_count": 27,
   "metadata": {},
   "outputs": [],
   "source": [
    "urlDocs = dict()\n",
    "for i in range(len(newsList)):\n",
    "    urlDocs[newsList[i]] = docs[i]"
   ]
  },
  {
   "cell_type": "code",
   "execution_count": 28,
   "metadata": {},
   "outputs": [],
   "source": [
    "def genFunct(containers, *args, **kwargs):\n",
    "    if not isinstance(containers[0], list):\n",
    "        containers = [containers]\n",
    "    for container in containers:\n",
    "        for userId in container:\n",
    "            request = []\n",
    "            for url in evalData['trainUsers'][userId]:\n",
    "                request += urlDocs[url]\n",
    "            currentRankings = []\n",
    "            for candidates in evalData['candidates'][userId]:\n",
    "                candidates = list(candidates)\n",
    "                urlCorpus = dict()\n",
    "                for i in range(len(candidates)):\n",
    "                    urlCorpus[candidates[i]] = urlDocs[candidates[i]]\n",
    "                urlCorpus = list(urlCorpus.items())\n",
    "                corpus = [e[1] for e in urlCorpus]\n",
    "                try:\n",
    "                    # This is the new version not yet pushed on pipy:\n",
    "                    model = bm25.BM25(corpus, k1=config['k1'], b=config['b'], epsilon=config['epsilon'])\n",
    "                except:\n",
    "                    # This is the actual version with parameters as global variables:\n",
    "                    bm25.PARAM_K1 = config['k1']\n",
    "                    bm25.PARAM_B = config['b']\n",
    "                    bm25.EPSILON = config['epsilon']\n",
    "                    model = bm25.BM25(corpus)\n",
    "                scores = model.get_scores(request)\n",
    "                scoresWithUrl = []\n",
    "                for i in range(len(scores)):\n",
    "                    scoresWithUrl.append((urlCorpus[i][0], scores[i]))\n",
    "                ranking = sortBy(scoresWithUrl, index=1, desc=True)\n",
    "                # ranking = [e[0] for e in ranking]\n",
    "                currentRankings.append(ranking)\n",
    "            yield (userId, currentRankings)"
   ]
  },
  {
   "cell_type": "code",
   "execution_count": 29,
   "metadata": {},
   "outputs": [
    {
     "name": "stderr",
     "output_type": "stream",
     "text": [
      "With parallelProcesses > 1, this iterator is not consistent, meaning 2 iterations over same containers will not give items in the same order\n",
      "10 containers to process.\n"
     ]
    }
   ],
   "source": [
    "# We use MLIterator for multi-processing (33 hours of processing if not...):\n",
    "mli = MLIterator(userIds, genFunct, logger=logger, printRatio=0.01, parallelProcesses=cpuCount())"
   ]
  },
  {
   "cell_type": "code",
   "execution_count": 30,
   "metadata": {},
   "outputs": [
    {
     "name": "stderr",
     "output_type": "stream",
     "text": [
      "11.37g of RAM remaining.\n"
     ]
    }
   ],
   "source": [
    "warnFreeRAM(logger=logger)"
   ]
  },
  {
   "cell_type": "code",
   "execution_count": 31,
   "metadata": {},
   "outputs": [
    {
     "name": "stderr",
     "output_type": "stream",
     "text": [
      "10.48g of RAM remaining.\n",
      " 10% [==                  ] (1m 2.729s left)\n",
      "10.52g of RAM remaining.\n",
      " 20% [====                ] (33.64s left)\n",
      "10.44g of RAM remaining.\n",
      " 30% [======              ] (42.933s left)\n",
      "10.55g of RAM remaining.\n",
      " 40% [========            ] (28.259s left)\n",
      "10.67g of RAM remaining.\n",
      " 50% [==========          ] (24.17s left)\n",
      "10.78g of RAM remaining.\n",
      " 60% [============        ] (16.533s left)\n",
      "10.9g of RAM remaining.\n",
      " 70% [==============      ] (12.33s left)\n",
      "11.02g of RAM remaining.\n",
      " 80% [================    ] (8.29s left)\n",
      "11.12g of RAM remaining.\n",
      " 90% [==================  ] (4.275s left)\n",
      "11.08g of RAM remaining.\n",
      "100% [====================] (total duration: 44.74s, mean duration: 4.474s)\n"
     ]
    }
   ],
   "source": [
    "rankings = dict()\n",
    "i = 0\n",
    "modulo = int(len(evalData['candidates']) / 100) + 1\n",
    "for (userId, currentRankings) in mli:\n",
    "    rankings[userId] = currentRankings\n",
    "    if i % modulo == 0:\n",
    "        warnFreeRAM(logger=logger)\n",
    "        if freeRAM() < 2:\n",
    "            exit()\n",
    "    i += 1"
   ]
  },
  {
   "cell_type": "code",
   "execution_count": 32,
   "metadata": {
    "scrolled": true
   },
   "outputs": [
    {
     "name": "stderr",
     "output_type": "stream",
     "text": [
      "{\n",
      "  '1198644368': \n",
      "  [\n",
      "    [\n",
      "      (\n",
      "        https://blackchefswhitehouse.wordpress.com/2017/12/25/merry-christmas-with-a-1889-white-house-menu-from-president-benjamin-harrison/,\n",
      "        608438.0661806386\n",
      "      ),\n",
      "      (\n",
      "        http://billingsgazette.com/news/state-and-regional/florida-man-dies-while-snowshoeing-in-glacier-national-park/article_49de6e4e-ed95-582e-bb99-a571bb251aec.html?utm_medium=social&utm_source=twitter&utm_campaign=user-share,\n",
      "        540732.8914211949\n",
      "      ),\n",
      "      ( http://on.wsj.com/2AvHNAL, 500960.4962487661 ),\n",
      "      (\n",
      "        https://www.seattletimes.com/nation-world/sununu-to-endorse-lead-poisoning-prevention-bill/?utm_source=twitter&utm_medium=social&utm_campaign=article_left_1.1,\n",
      "        394328.9451831466\n",
      "      ),\n",
      "      (\n",
      "        http://zli.umich.edu/event/zli-startup-workshop-how-succeed-business-plan-competitions-0,\n",
      "        378467.1065745893\n",
      "      ),\n",
      "      (\n",
      "        http://www.business-standard.com/article/international/north-korea-the-costs-of-war-calculated-117122500173_1.html,\n",
      "        363431.47738703253\n",
      "      ),\n",
      "      (\n",
      "        https://www.statnews.com/pharmalot/2018/01/09/nevada-diabetes-transparency-price/,\n",
      "        357702.15372539475\n",
      "      ),\n",
      "      ( http://bit.ly/2EazfSD, 342904.5083800586 ),\n",
      "      ( http://tinyurl.com/ycvt6rp5, 324235.8539397559 ),\n",
      "      (\n",
      "        http://www.wrcbtv.com/story/37209344/early-sunday-morning-shooting-leads-to-arrest-of-victims-wife,\n",
      "        321067.14540779294\n",
      "      ),\n",
      "      ...,\n",
      "      (\n",
      "        https://www.clickondetroit.com/features/a-history-of-detroits-tallest-buildings,\n",
      "        150686.21185385942\n",
      "      ),\n",
      "      ( http://bit.ly/2Fj9yjm, 149440.9274463303 ),\n",
      "      ( https://buff.ly/2lIj1b1, 149383.71914149116 ),\n",
      "      (\n",
      "        http://www.kuam.com/story/37188109/plan-in-place-to-modernize-emergency-communications-tech,\n",
      "        148646.7155278228\n",
      "      ),\n",
      "      (\n",
      "        http://www.cnn.com/2017/12/31/world/new-years-eve-celebrations/index.html,\n",
      "        148251.85601307612\n",
      "      ),\n",
      "      (\n",
      "        https://medium.com/@WCS/best-wildlife-photos-of-2017-from-the-wildlife-conservation-society-a39a27752722,\n",
      "        145829.69437321127\n",
      "      ),\n",
      "      (\n",
      "        http://soaps.sheknows.com/the-bold-and-the-beautiful/recaps/26761/katie-confronts-bill-about-sacrificing-his-sons-for-what-he-wants,\n",
      "        143365.4239436009\n",
      "      ),\n",
      "      ( http://www.nature.com/articles/s41598-017-17392-0, 141981.95936855214 ),\n",
      "      (\n",
      "        http://www.arklatexhomepage.com/weather/weather-forecasts/weekend-to-end-with-some-rain/903514733?utm_medium=social&utm_source=twitter_NBC6News,\n",
      "        126727.00725764345\n",
      "      ),\n",
      "      (\n",
      "        http://citywire.co.uk/new-model-adviser/news/the-uks-top-10-best-paid-chief-execs/a1081263?re=51512&ea=271781&utm_source=BulkEmail_NMA_Daily_Summary&utm_medium=BulkEmail_NMA_Daily_Summary&utm_campaign=BulkEmail_NMA_Daily_Summary#i%3D7,\n",
      "        104972.87686733273\n",
      "      )\n",
      "    ]\n",
      "  ],\n",
      "  '21379050': \n",
      "  [\n",
      "    [\n",
      "      ( http://www.bbc.co.uk/programmes/p05ssjd5, 111163.34249584438 ),\n",
      "      ( http://bit.ly/2CmO1FG, 106966.65260186694 ),\n",
      "      (\n",
      "        https://www.wsj.com/articles/the-great-rules-rollback-1514237372,\n",
      "        103544.1380692045\n",
      "      ),\n",
      "      ( http://bit.ly/2D69Xo7, 94075.60352346372 ),\n",
      "      (\n",
      "        https://www.axios.com/the-kodak-block-1515593171-44750f32-9c60-4f37-9760-9d48548291e4.html?utm_source=twitter&utm_medium=social&utm_campaign=organic&utm_content=1100&utm_term=business,\n",
      "        89394.84541146166\n",
      "      ),\n",
      "      (\n",
      "        http://www.inforum.com/news/government-and-politics/4386427-8-regions-unveiled-nd-medical-marijuana-dispensaries#.WledilH2D2U.twitter,\n",
      "        89212.62905407691\n",
      "      ),\n",
      "      ( http://bit.ly/2CIclkL, 89090.82698265814 ),\n",
      "      (\n",
      "        http://www.live5news.com/story/37238280/former-south-carolina-first-lady-jenny-sanford-gets-engaged,\n",
      "        85118.62938828582\n",
      "      ),\n",
      "      (\n",
      "        http://www.telegraph.co.uk/news/2017/12/31/ministers-use-artificial-intelligence-target-mass-benefit-fraud/?WT.mc_id=tmg_share_tw,\n",
      "        81218.81538397483\n",
      "      ),\n",
      "      (\n",
      "        http://www.rep-am.com/news/news-local/2017/12/25/cheshire-rallies-around-local-teen-with-heart-defect/,\n",
      "        80527.3557424728\n",
      "      ),\n",
      "      ...,\n",
      "      (\n",
      "        https://www.timeout.com/philadelphia/news/27-excellent-snow-day-food-and-drink-specials-in-philadelphia-010418,\n",
      "        41351.132117298825\n",
      "      ),\n",
      "      ( https://lvrj.com/post/1279115, 41181.30201899599 ),\n",
      "      (\n",
      "        https://www.brandonsun.com/breaking-news/Fewer-vehicles-checked-more-charges-laid-136606093.html?thx=y,\n",
      "        41097.773265942305\n",
      "      ),\n",
      "      ( http://bit.ly/2m1A3Bo, 40943.42072378812 ),\n",
      "      (\n",
      "        http://wapo.st/2moasEe?tid=ss_tw&utm_term=.c188b6b5dd5d,\n",
      "        40755.11342287207\n",
      "      ),\n",
      "      (\n",
      "        http://napavalleyregister.com/sports/high-school/local-report-vintage-wrestlers-place-at-reno-tourney/article_77c1cfd4-8cac-5a3f-ae48-bb8ef648f143.html?utm_medium=social&utm_source=twitter&utm_campaign=user-share,\n",
      "        40409.86168525994\n",
      "      ),\n",
      "      ( http://bit.ly/2Dt2IpT, 40402.187322310754 ),\n",
      "      (\n",
      "        https://www.brookings.edu/municipal-finance-conference/,\n",
      "        40150.41017860999\n",
      "      ),\n",
      "      (\n",
      "        https://www.chron.com/neighborhood/woodlands/news/article/SBA-approves-more-than-60-million-12485843.php?utm_campaign=twitter-tablet&utm_source=CMS%20Sharing%20Button&utm_medium=social,\n",
      "        38969.380802274\n",
      "      ),\n",
      "      ( http://bit.ly/2F1My8z, 38811.415041172106 )\n",
      "    ]\n",
      "  ],\n",
      "  '2617447752': \n",
      "  [\n",
      "    [\n",
      "      (\n",
      "        http://www.kvoa.com/story/37180975/waiter-gets-a-tip-he-can-drive-home,\n",
      "        180027.8242278424\n",
      "      ),\n",
      "      (\n",
      "        https://www.csindy.com/SideDish/archives/2017/12/29/mccabes-to-close-become-streetcar-520,\n",
      "        164661.65182626605\n",
      "      ),\n",
      "      ( http://bit.ly/2E8UUK7, 146664.5198210933 ),\n",
      "      (\n",
      "        https://exceptionaldelaware.wordpress.com/2018/01/09/hcr-54-would-move-due-date-for-school-district-consolidation-task-force-final-report-to-may-15th/,\n",
      "        120839.85682005205\n",
      "      ),\n",
      "      (\n",
      "        https://www.wsj.com/articles/putting-the-kibosh-on-an-old-riddle-the-source-of-the-phrase-1514564107,\n",
      "        105014.46267041886\n",
      "      ),\n",
      "      (\n",
      "        https://www.seattletimes.com/nation-world/sununu-to-endorse-lead-poisoning-prevention-bill/?utm_source=twitter&utm_medium=social&utm_campaign=article_left_1.1,\n",
      "        98889.04620919935\n",
      "      ),\n",
      "      ( http://ow.ly/oMVX30hK2ls, 98632.49057052861 ),\n",
      "      ( https://lnkd.in/eE5JjwB, 96293.63735692472 ),\n",
      "      (\n",
      "        https://nypost.com/2018/01/08/snow-thwarts-mans-attempt-to-shoplift-at-hobby-lobby-cops/?utm_campaign=iosapp&utm_source=twitter_app,\n",
      "        93729.6115753276\n",
      "      ),\n",
      "      (\n",
      "        https://pamboyd.wordpress.com/2018/01/02/while-thinking-over-2017/,\n",
      "        90620.33764016934\n",
      "      ),\n",
      "      ...,\n",
      "      (\n",
      "        https://www.pastemagazine.com/articles/2017/07/lenovo-thinkpad-x1-review-an-expandable-business-s.html,\n",
      "        41449.87362373455\n",
      "      ),\n",
      "      (\n",
      "        https://medium.com/zevin-views/q4-2017-64c33376c14e,\n",
      "        41363.1058144692\n",
      "      ),\n",
      "      ( http://bit.ly/2CUajSH, 41337.89624038754 ),\n",
      "      ( http://admissions.duke.edu/setting/plantrip, 41066.63285853131 ),\n",
      "      (\n",
      "        https://www.nature.com/articles/s41598-017-18262-5,\n",
      "        40624.07228093565\n",
      "      ),\n",
      "      (\n",
      "        http://www.chron.com/news/houston-texas/houston/article/Family-rings-in-New-Year-with-breath-taking-12463827.php,\n",
      "        40460.78930513303\n",
      "      ),\n",
      "      (\n",
      "        http://www.forbes.com/sites/reenitadas/2017/12/21/top-10-predictions-for-the-global-healthcare-market-to-cross-the-1-85-trillion-mark-in-2018/#46fb33da7a4e,\n",
      "        40334.20089727252\n",
      "      ),\n",
      "      (\n",
      "        https://www.nature.com/articles/s41598-017-18391-x,\n",
      "        39604.476845770216\n",
      "      ),\n",
      "      (\n",
      "        https://academic.oup.com/ve/article-abstract/doi/10.1093/ve/vex042/4794731,\n",
      "        38409.84138525992\n",
      "      ),\n",
      "      (\n",
      "        https://www.yorkregion.com/community-story/8041310-10-cm-of-snow-will-fall-on-york-region-today-environment-canada/,\n",
      "        37988.84448871424\n",
      "      )\n",
      "    ]\n",
      "  ],\n",
      "  '2786961721': \n",
      "  [\n",
      "    [\n",
      "      (\n",
      "        https://katboniface.wordpress.com/2017/12/29/washington-county-mfa/,\n",
      "        265844.13367927173\n",
      "      ),\n",
      "      (\n",
      "        https://www.wbez.org/shows/making-oprah/71b8de57-b2be-4e03-8481-683258de3ec1,\n",
      "        262788.6565043651\n",
      "      ),\n",
      "      (\n",
      "        https://www.wsj.com/articles/a-big-beautiful-trump-2018-issue-1514499989,\n",
      "        232901.87711672197\n",
      "      ),\n",
      "      (\n",
      "        https://marketbrief.edweek.org/k12-insider/enlisting-school-librarians-champion-educational-product/,\n",
      "        206124.96931853786\n",
      "      ),\n",
      "      (\n",
      "        http://ksn.com/2018/01/09/mailman-sentenced-for-delivering-marijuana/,\n",
      "        199587.46419456837\n",
      "      ),\n",
      "      (\n",
      "        https://www.advocate.com/people/2018/1/03/sexiest-teacher-alive-huge-lgbt-ally,\n",
      "        197100.80489146235\n",
      "      ),\n",
      "      (\n",
      "        https://www.cbssports.com/fantasy/baseball/news/white-soxs-jose-rondon-traded-to-white-sox/,\n",
      "        195732.77656904756\n",
      "      ),\n",
      "      (\n",
      "        http://www.abc.net.au/radionational/programs/earshot/three-front-doors-and-a-paddock-episode-two/9273114,\n",
      "        184412.3675842688\n",
      "      ),\n",
      "      ( http://bit.ly/2mjCz61, 181905.28823794448 ),\n",
      "      ( http://read.bi/2AxRFtF, 180052.7303408185 ),\n",
      "      ...,\n",
      "      ( http://bit.ly/2CkmIL6, 97123.10943400902 ),\n",
      "      ( http://bit.ly/2ClflnJ, 96876.27747830364 ),\n",
      "      (\n",
      "        https://aeon.co/essays/how-cesaire-and-senghor-saw-the-decolonised-world,\n",
      "        96719.81065812454\n",
      "      ),\n",
      "      ( https://buff.ly/2mkbhfR, 96036.67189340935 ),\n",
      "      (\n",
      "        http://www.herald-dispatch.com/_recent_news/concerts-parties-more-set-to-welcome-new-year/article_b9962a18-ebe8-11e7-a606-4f6577d3f13b.html,\n",
      "        95749.58415603987\n",
      "      ),\n",
      "      (\n",
      "        http://www.chron.com/news/houston-texas/houston/article/Family-rings-in-New-Year-with-breath-taking-12463827.php,\n",
      "        95247.67024259882\n",
      "      ),\n",
      "      (\n",
      "        http://www.nbcsports.com/chicago/preps-talk/preps-power-rankings-adds-two-new-teams-week,\n",
      "        94589.65621479608\n",
      "      ),\n",
      "      (\n",
      "        https://www.nature.com/articles/s41467-017-02604-y,\n",
      "        94576.87411014175\n",
      "      ),\n",
      "      ( https://buff.ly/2C4I3cc, 94338.49357784213 ),\n",
      "      (\n",
      "        http://variety.com/2018/biz/news/the-advanced-imaging-society-2018-technology-awards-1202652774/,\n",
      "        86551.2844093488\n",
      "      )\n",
      "    ]\n",
      "  ],\n",
      "  '3075850549': \n",
      "  [\n",
      "    [\n",
      "      ( http://ow.ly/pe7I30hpzFG, 199748.46157557642 ),\n",
      "      (\n",
      "        https://www.nbc26.com/news/three-men-arrested-in-string-of-armed-robberies,\n",
      "        179840.8487084932\n",
      "      ),\n",
      "      ( https://usat.ly/2lpRjR3, 177002.670010733 ),\n",
      "      (\n",
      "        https://www.popsugar.com/fitness/Instant-Pot-Recipes-Weight-Loss-44376083,\n",
      "        154573.8923310216\n",
      "      ),\n",
      "      (\n",
      "        https://www.wsj.com/articles/SB1041298493944569393,\n",
      "        149822.98964723083\n",
      "      ),\n",
      "      ( http://ow.ly/Cc8730hx8YV, 147943.39050126838 ),\n",
      "      ( http://bit.ly/2D1Fesa, 144304.32345871942 ),\n",
      "      ( http://bit.ly/2CVSxdK, 143854.6117060116 ),\n",
      "      (\n",
      "        http://dispatch.com/news/20180111/parent-says-ohio-teacher-made-lynching-comment-to-black-student,\n",
      "        143402.65474274402\n",
      "      ),\n",
      "      ( https://buff.ly/2CX33on, 142203.63457523703 ),\n",
      "      ...,\n",
      "      (\n",
      "        http://connecticut.news12.com/story/37181038/fire-displaces-several-people-at-norwalk-apartment-complex,\n",
      "        75888.72738756891\n",
      "      ),\n",
      "      ( https://lnkd.in/gnsCdKU, 75782.75891417674 ),\n",
      "      ( http://ow.ly/NRC730hXMal, 75356.30191988769 ),\n",
      "      ( https://lvrj.com/post/1273238, 75093.46199374586 ),\n",
      "      ( http://bbc.in/2CtxvWM, 73938.41328664614 ),\n",
      "      ( https://www.nature.com/articles/s41928-017-0006-8, 73479.65037798506 ),\n",
      "      ( http://www.nature.com/articles/celldisc201749, 72360.13316656758 ),\n",
      "      (\n",
      "        https://weather.com/storms/winter/news/2018-01-11-winter-storm-hunter-snow-ice-forecast-midwest-northeast?utm_medium=social&utm_source=twitter&cm_ven=Twitter&cm_cat=www.twitter.com&cm_pla=tw_feed&cm_ite=tw_social_tweet,\n",
      "        71928.91184163786\n",
      "      ),\n",
      "      ( http://bit.ly/2AYjjAh, 71156.31622411183 ),\n",
      "      (\n",
      "        http://www.beaumontenterprise.com/news/article/Fire-reported-at-abandoned-bicycle-shop-in-12467332.php?utm_campaign=twitter-desktop&utm_source=CMS%20Sharing%20Button&utm_medium=social,\n",
      "        59179.8875611637\n",
      "      )\n",
      "    ]\n",
      "  ],\n",
      "  '3223646504': \n",
      "  [\n",
      "    [\n",
      "      (\n",
      "        https://zdubbzattmom.wordpress.com/2018/01/03/ex-libris-the-eyes-of-madness-presents-2017s-bakers-dozen-zakks-favorite-reads-of-the-year/r,\n",
      "        120631.91881147999\n",
      "      ),\n",
      "      ( http://on.wsj.com/2qc3zJO, 98846.04917472108 ),\n",
      "      ( https://lnkd.in/eqpA_dx, 83813.96773146321 ),\n",
      "      ( https://fb.me/7AElPhTmL, 83210.38887419045 ),\n",
      "      ( http://a.msn.com/07/en-my/BBH5hih?ocid=st, 71346.92341147106 ),\n",
      "      (\n",
      "        https://www.wsj.com/articles/a-jesuit-school-gets-dogmatic-1515362173,\n",
      "        55933.13785677726\n",
      "      ),\n",
      "      ( http://on.wsj.com/2qZeIhI, 49597.982193828284 ),\n",
      "      ( https://trib.al/WtFGQ54, 49234.291291724745 ),\n",
      "      ( http://bit.ly/2CYHwsQ, 45387.52339500443 ),\n",
      "      (\n",
      "        http://www.itv.com/news/border/2018-01-06/drone-flight-over-school-playground-unacceptable/,\n",
      "        43700.082421133986\n",
      "      ),\n",
      "      ...,\n",
      "      (\n",
      "        https://disneyparks.disney.go.com/blog/2018/01/southern-california-residents-get-more-happy-at-disneyland-resort-with-special-2-day-and-3-day-ticket-prices-for-a-limited-time/,\n",
      "        18588.770392341747\n",
      "      ),\n",
      "      (\n",
      "        https://www.pwtorch.com/site/pwtorch-vip-membership-information/,\n",
      "        18494.654041453607\n",
      "      ),\n",
      "      ( https://fb.me/7bckyPKL3, 18441.16895958129 ),\n",
      "      (\n",
      "        https://www.bizjournals.com/washington/news/2017/12/21/castle-reborn-heres-the-preferred-plan-for-the.html,\n",
      "        18403.7020793891\n",
      "      ),\n",
      "      ( http://ow.ly/BoO930hyIfc, 18246.707359010925 ),\n",
      "      (\n",
      "        http://www.mcalesternews.com/sports/girls-basketball-locals-prevail-in-numerous-tournaments/article_b1250141-dc4e-5371-9710-3b7b861aa55d.html#utm_campaign%3Dblox%26utm_source%3Dtwitter%26utm_medium%3Dsocial,\n",
      "        18037.646926789555\n",
      "      ),\n",
      "      (\n",
      "        https://www.whitehouse.gov/presidential-actions/president-donald-j-trump-announces-key-additions-administration-26/,\n",
      "        18015.89504702531\n",
      "      ),\n",
      "      ( https://recruit.apo.ucla.edu/apply/JPF03492, 18007.86393272632 ),\n",
      "      ( http://chem.psu.edu/undergrad/reu, 17976.26012676337 ),\n",
      "      (\n",
      "        https://www.nature.com/articles/s41467-017-02563-4?WT.feed_name=subjects_super-resolution-microscopy,\n",
      "        17737.206176289652\n",
      "      )\n",
      "    ]\n",
      "  ],\n",
      "  '62594694': \n",
      "  [\n",
      "    [\n",
      "      (\n",
      "        https://www.theatlantic.com/video/index/513629/fired-up-ready-to-go/?utm_source=twb,\n",
      "        538261.2518397125\n",
      "      ),\n",
      "      (\n",
      "        https://www.wsj.com/articles/city-sues-oil-companies-over-climate-change-1515607107,\n",
      "        521631.62084150594\n",
      "      ),\n",
      "      (\n",
      "        http://www.kvoa.com/story/37180975/waiter-gets-a-tip-he-can-drive-home,\n",
      "        472155.4092199553\n",
      "      ),\n",
      "      (\n",
      "        http://www.kob.com/new-mexico-news/state-police-issue-silver-alert-for-potentially-endangered-woman/4649740/,\n",
      "        416668.55381706235\n",
      "      ),\n",
      "      (\n",
      "        http://www.bostonherald.com/news/local_coverage/2018/01/firefighters_don_t_have_snow_days#.WlLI6q2jAHc.twitter,\n",
      "        352281.5130643079\n",
      "      ),\n",
      "      ( http://on.wsj.com/2E5TRvt, 301229.8528915189 ),\n",
      "      (\n",
      "        https://thehillsarealive.wordpress.com/2018/01/12/2018-radio-programming-changes/,\n",
      "        297338.7275294477\n",
      "      ),\n",
      "      (\n",
      "        https://www.wsj.com/articles/a-big-beautiful-trump-2018-issue-1514499989,\n",
      "        285533.48627642536\n",
      "      ),\n",
      "      ( http://bit.ly/2D69Xo7, 262108.3348676546 ),\n",
      "      (\n",
      "        https://www.whitehouse.gov/briefings-statements/readout-vice-presidents-call-polish-prime-minister-mateusz-morawiecki/,\n",
      "        254011.6142638651\n",
      "      ),\n",
      "      ...,\n",
      "      (\n",
      "        http://www.forbes.com/sites/reenitadas/2017/12/21/top-10-predictions-for-the-global-healthcare-market-to-cross-the-1-85-trillion-mark-in-2018/#46fb33da7a4e,\n",
      "        121171.58250755387\n",
      "      ),\n",
      "      ( https://buff.ly/2CnM8bH, 120741.67554081538 ),\n",
      "      (\n",
      "        https://medium.com/warrior-forum/email-marketing-trends-for-2018-d19edae7bc6e,\n",
      "        120641.33501036621\n",
      "      ),\n",
      "      ( http://bit.ly/2CQc28b, 120404.60002606027 ),\n",
      "      (\n",
      "        https://www.chron.com/neighborhood/woodlands/news/article/2017-in-Review-The-Woodlands-Harvey-election-12455733.php?utm_campaign=twitter-tablet&utm_source=CMS%20Sharing%20Button&utm_medium=social,\n",
      "        120348.34722324566\n",
      "      ),\n",
      "      (\n",
      "        https://blogs.psychcentral.com/unshakeable-calm/2018/01/50-phrases-to-raise-a-happy-confident-kid/#.Wlois6GLFME.twitter,\n",
      "        119564.9172493931\n",
      "      ),\n",
      "      (\n",
      "        https://academic.oup.com/qje/article/133/1/191/4060073,\n",
      "        119299.45769702097\n",
      "      ),\n",
      "      (\n",
      "        http://www.msn.com/en-us/money/bills-to-pay/30-valuable-money-lessons-classic-board-games-teach-us/ss-BBH577I?ocid=ob-tw-enus-920,\n",
      "        116105.80396246025\n",
      "      ),\n",
      "      ( http://ow.ly/Ugun30hxu58, 115875.75188689782 ),\n",
      "      ( http://cnn.it/1Igud1c, 113906.41576847747 )\n",
      "    ]\n",
      "  ],\n",
      "  '790664132': \n",
      "  [\n",
      "    [\n",
      "      (\n",
      "        http://walkacrosstexas.tamu.edu/developing-good-balance-core-successful-exercise/,\n",
      "        139943.25553528158\n",
      "      ),\n",
      "      (\n",
      "        https://eighthjdcourt.wordpress.com/2018/01/02/january-6-job-fair-great-place-to-get-in-on-opportunities-for-jobs-to-protect-courts/,\n",
      "        133685.9184247143\n",
      "      ),\n",
      "      ( http://bit.ly/2Cj99vw, 108548.45615346264 ),\n",
      "      (\n",
      "        http://m.arkansasonline.com/news/2018/jan/10/sweet-second-helpings-20180110/,\n",
      "        104225.09302014798\n",
      "      ),\n",
      "      (\n",
      "        http://www.bostonherald.com/news/us_politics/2018/01/gop_hopeful_s_taxing_demand,\n",
      "        100360.61153645486\n",
      "      ),\n",
      "      ( https://buff.ly/2mdMRo7, 96390.15960831873 ),\n",
      "      ( https://lnkd.in/eeSr8zE, 93834.96845621383 ),\n",
      "      (\n",
      "        http://www.kusi.com/shallotte-river-swamp-park-alligators-survive-iced-lake/,\n",
      "        92186.42410317007\n",
      "      ),\n",
      "      (\n",
      "        https://www.wsj.com/articles/making-a-connection-bridges-from-around-the-world-1514561467,\n",
      "        83530.69520254804\n",
      "      ),\n",
      "      (\n",
      "        https://www.thetimes.co.uk/article/its-easier-than-you-think-to-say-no-to-plastic-xhnml6pg7,\n",
      "        78683.29262425586\n",
      "      ),\n",
      "      ...,\n",
      "      ( http://to.pbs.org/2obGpT5, 40501.71442595037 ),\n",
      "      (\n",
      "        https://www.minnpost.com/artscape/2017/12/25-best-things-we-saw-and-heard-2017-year-arts,\n",
      "        40336.65451018571\n",
      "      ),\n",
      "      (\n",
      "        http://science.sciencemag.org/content/359/6372/237,\n",
      "        40288.606141540164\n",
      "      ),\n",
      "      (\n",
      "        http://www.kuam.com/story/37188109/plan-in-place-to-modernize-emergency-communications-tech,\n",
      "        40006.59924888365\n",
      "      ),\n",
      "      (\n",
      "        https://www.yorkregion.com/shopping-story/8036856-extreme-cold-sparks-increased-rodent-infestations/,\n",
      "        39698.93481439905\n",
      "      ),\n",
      "      ( http://ow.ly/YR8x50g4Ji7, 38783.782022923246 ),\n",
      "      ( http://ow.ly/Vlbj30hG1q8, 38234.52940064404 ),\n",
      "      ( http://ow.ly/bkR230hEXkH, 37834.990535788354 ),\n",
      "      (\n",
      "        http://www.bakersfield.com/take-me-home-dogs-available-for-adoption/collection_fe3b0366-f195-11e7-8569-77f905dc886f.html?utm_medium=social&utm_source=twitter&utm_campaign=user-share,\n",
      "        37701.69727028849\n",
      "      ),\n",
      "      ( http://ow.ly/4X1Y30hrYh1, 37250.267260375294 )\n",
      "    ]\n",
      "  ],\n",
      "  '839264223741956096': \n",
      "  [\n",
      "    [\n",
      "      ( https://fb.me/2vHpFPwxX, 50804.44860779932 ),\n",
      "      (\n",
      "        https://www.theguardian.com/global-development/gallery/2018/jan/03/congo-river-survival-mothers-babies-in-pictures-democratic-republic-congo-tshopo?CMP=share_btn_tw,\n",
      "        46650.09743282055\n",
      "      ),\n",
      "      ( http://on.wsj.com/2D3tIjW, 44707.15383409696 ),\n",
      "      ( http://bit.ly/2t8hs8K, 43397.83774884253 ),\n",
      "      (\n",
      "        http://auburnpub.com/multimedia/galleries/photographer-s-journal-news-pictures-of-the-year/collection_0be715a2-0da6-50ec-92ac-27ea22c31e18.html#tracking-source%3Dhome-the-latest,\n",
      "        38960.06429166139\n",
      "      ),\n",
      "      (\n",
      "        https://www.axios.com/north-korea-and-south-korea-use-hotline-for-first-time-since-2016-2522039680.html?utm_source=twitter&utm_medium=social&utm_campaign=organic,\n",
      "        35593.06113733426\n",
      "      ),\n",
      "      ( http://bbc.in/2FlExeN, 34564.65694766013 ),\n",
      "      (\n",
      "        https://vincentbaxter.wordpress.com/2017/12/31/ways-to-approach-community-building/,\n",
      "        33133.973109856466\n",
      "      ),\n",
      "      (\n",
      "        https://www.wsj.com/articles/dont-trust-dow-25-000-the-economic-cycle-is-broken-1515087445,\n",
      "        32395.3277851502\n",
      "      ),\n",
      "      ( https://lihf.wisc.edu/rsvp/, 28240.09686711287 ),\n",
      "      ...,\n",
      "      (\n",
      "        https://medium.com/@Results4America/seattle-is-helping-baltimore-consider-racial-equity-in-budget-decisions-8f06a24bdaa8,\n",
      "        13863.812627608417\n",
      "      ),\n",
      "      ( http://ow.ly/yFBK30hExhp, 13852.171384773721 ),\n",
      "      (\n",
      "        https://www.salon.com/2015/11/08/they_want_kids_to_be_robots_meet_the_new_education_craze_designed_to_distract_you_from_overtesting/,\n",
      "        13796.524344347948\n",
      "      ),\n",
      "      (\n",
      "        http://science.sciencemag.org/content/356/6335/275/tab-e-letters,\n",
      "        13774.970114965723\n",
      "      ),\n",
      "      (\n",
      "        https://academic.oup.com/jamia/article/25/1/25/4222812,\n",
      "        13723.569428923825\n",
      "      ),\n",
      "      ( http://bit.ly/2AqZVeU, 13650.272323500963 ),\n",
      "      (\n",
      "        http://www.thebaynet.com/articles/0118/updatepedestrianstruckandkilledinbrandywine.html,\n",
      "        13642.146043434892\n",
      "      ),\n",
      "      ( http://ow.ly/4Xy930hjbXT, 13452.187035563735 ),\n",
      "      (\n",
      "        http://www.stltoday.com/news/local/metro/a-hobby-takes-flight-how-one-man-built-a-collection/article_9806c3a0-9cc1-59c8-b913-f7c1457c72a0.html#tracking-source%3Dhome-featured,\n",
      "        10859.00805467817\n",
      "      ),\n",
      "      (\n",
      "        https://www.desmoinesregister.com/story/news/education/2018/01/13/iowans-public-education-fights-school-choice-initiatives/1017920001/,\n",
      "        10853.918808360695\n",
      "      )\n",
      "    ]\n",
      "  ],\n",
      "  '97081361': \n",
      "  [\n",
      "    [\n",
      "      ( http://www.bbc.co.uk/programmes/b085wj18, 206768.87867043176 ),\n",
      "      ( https://fb.me/7AElPhTmL, 195930.6520604797 ),\n",
      "      ( http://on.wsj.com/2D3tIjW, 155558.93489791075 ),\n",
      "      (\n",
      "        https://www.wsj.com/articles/google-hotel-travelopoly-1514419414,\n",
      "        145719.13886428316\n",
      "      ),\n",
      "      ( http://on.wsj.com/2AvHNAL, 129691.6600235843 ),\n",
      "      (\n",
      "        https://www.independent.ie/world-news/north-america/president-trump/review-first-look-at-book-fire-and-fury-that-claims-trump-seduces-friends-wives-and-bannon-called-ivanka-a-fing-liar-36461527.html,\n",
      "        129265.9268050399\n",
      "      ),\n",
      "      ( http://j.mp/2CPxOJ7, 121448.15684748559 ),\n",
      "      (\n",
      "        https://federalnewsradio.com/federal-drive/2017/12/nora-bensahel-signing-on-to-the-me-too-movement/,\n",
      "        110804.52319262565\n",
      "      ),\n",
      "      (\n",
      "        https://www.thedailybeast.com/california-mudslides-leave-13-dead-and-more-unaccounted-for-photos,\n",
      "        98537.93541578983\n",
      "      ),\n",
      "      (\n",
      "        http://gazette.com/18-biggest-tickets-for-colorado-entertainment-in-2018/article/1618310,\n",
      "        98031.48557237166\n",
      "      ),\n",
      "      ...,\n",
      "      (\n",
      "        http://heraldtribune.com/sports/20171228/basketball-bradenton-christian-boys-girls-in-smoothie-king-finals,\n",
      "        42180.438048368815\n",
      "      ),\n",
      "      ( http://ow.ly/qtAE30htBy3, 41952.99068117351 ),\n",
      "      ( http://nyti.ms/2Cu8r2M, 41701.45607661849 ),\n",
      "      ( http://bit.ly/2C9Q93w, 41287.37936472263 ),\n",
      "      (\n",
      "        http://www.timesunion.com/living/article/Animals-add-spirit-to-beverage-places-12457852.php?utm_campaign=twitter-tablet&utm_source=CMS%20Sharing%20Button&utm_medium=social,\n",
      "        41279.290559533474\n",
      "      ),\n",
      "      ( http://bit.ly/2AHagU5, 41219.66493168868 ),\n",
      "      (\n",
      "        https://syriainbrief.wordpress.com/2018/01/02/the-cias-tow-program-a-list-of-rebel-groups-involved/,\n",
      "        40963.46398326291\n",
      "      ),\n",
      "      (\n",
      "        https://ww2.kqed.org/news/2017/12/31/your-bay-area-guide-to-getting-home-safely-on-new-years-eve/,\n",
      "        40469.57458228818\n",
      "      ),\n",
      "      ( http://ow.ly/btWN30hEY7i, 40369.77670821647 ),\n",
      "      ( http://ow.ly/oQcn30hHwDl, 30518.462756825 )\n",
      "    ]\n",
      "  ]\n",
      "}\n"
     ]
    }
   ],
   "source": [
    "bp(rankings, logger, 4)"
   ]
  },
  {
   "cell_type": "code",
   "execution_count": 33,
   "metadata": {},
   "outputs": [
    {
     "name": "stderr",
     "output_type": "stream",
     "text": [
      "--> tic: 44.91s | message: Rankings done\n"
     ]
    },
    {
     "data": {
      "text/plain": [
       "44.91"
      ]
     },
     "execution_count": 33,
     "metadata": {},
     "output_type": "execute_result"
    }
   ],
   "source": [
    "tt.tic(\"Rankings done\")"
   ]
  },
  {
   "cell_type": "code",
   "execution_count": null,
   "metadata": {},
   "outputs": [],
   "source": []
  },
  {
   "cell_type": "code",
   "execution_count": null,
   "metadata": {},
   "outputs": [],
   "source": []
  },
  {
   "cell_type": "markdown",
   "metadata": {},
   "source": [
    "# Adding rankings to the db"
   ]
  },
  {
   "cell_type": "code",
   "execution_count": 34,
   "metadata": {},
   "outputs": [],
   "source": [
    "# Read the doc!\n",
    "addRanking(modelName, rankings, config, logger=logger)"
   ]
  },
  {
   "cell_type": "code",
   "execution_count": 35,
   "metadata": {},
   "outputs": [
    {
     "name": "stderr",
     "output_type": "stream",
     "text": [
      "--> tic: 0.2s | message: Rankings stored\n"
     ]
    },
    {
     "data": {
      "text/plain": [
       "0.2"
      ]
     },
     "execution_count": 35,
     "metadata": {},
     "output_type": "execute_result"
    }
   ],
   "source": [
    "tt.tic(\"Rankings stored\")"
   ]
  },
  {
   "cell_type": "code",
   "execution_count": 36,
   "metadata": {},
   "outputs": [
    {
     "name": "stderr",
     "output_type": "stream",
     "text": [
      "--> toc total duration: 4m 54.699s\n"
     ]
    }
   ],
   "source": [
    "totalDuration = tt.toc()"
   ]
  },
  {
   "cell_type": "code",
   "execution_count": 37,
   "metadata": {},
   "outputs": [],
   "source": [
    "notif(modelName + '-' + objectToHash(config)[:5] + \" done in \" + secondsToHumanReadableDuration(totalDuration) + \" on \" + getHostname())"
   ]
  },
  {
   "cell_type": "code",
   "execution_count": null,
   "metadata": {},
   "outputs": [],
   "source": []
  },
  {
   "cell_type": "code",
   "execution_count": null,
   "metadata": {},
   "outputs": [],
   "source": []
  }
 ],
 "metadata": {
  "kernelspec": {
   "display_name": "Python 3",
   "language": "python",
   "name": "python3"
  },
  "language_info": {
   "codemirror_mode": {
    "name": "ipython",
    "version": 3
   },
   "file_extension": ".py",
   "mimetype": "text/x-python",
   "name": "python",
   "nbconvert_exporter": "python",
   "pygments_lexer": "ipython3",
   "version": "3.6.6"
  }
 },
 "nbformat": 4,
 "nbformat_minor": 4
}
