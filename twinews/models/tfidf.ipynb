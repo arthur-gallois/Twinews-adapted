{
 "cells": [
  {
   "cell_type": "markdown",
   "metadata": {},
   "source": [
    "# Commands"
   ]
  },
  {
   "cell_type": "code",
   "execution_count": 1,
   "metadata": {},
   "outputs": [],
   "source": [
    "# cd twinews-logs ; jupython -o nohup-tfidf-$HOSTNAME.out --venv st-venv ~/Workspace/Python/Datasets/Twinews/twinews/models/tfidf.ipynb"
   ]
  },
  {
   "cell_type": "code",
   "execution_count": null,
   "metadata": {},
   "outputs": [],
   "source": []
  },
  {
   "cell_type": "code",
   "execution_count": null,
   "metadata": {},
   "outputs": [],
   "source": []
  },
  {
   "cell_type": "markdown",
   "metadata": {},
   "source": [
    "# Init"
   ]
  },
  {
   "cell_type": "code",
   "execution_count": 2,
   "metadata": {},
   "outputs": [],
   "source": [
    "import os ; os.environ[\"CUDA_VISIBLE_DEVICES\"] = \"\""
   ]
  },
  {
   "cell_type": "code",
   "execution_count": 3,
   "metadata": {},
   "outputs": [],
   "source": [
    "isNotebook = '__file__' not in locals()"
   ]
  },
  {
   "cell_type": "code",
   "execution_count": 4,
   "metadata": {},
   "outputs": [],
   "source": [
    "TEST = isNotebook # isNotebook, True, False"
   ]
  },
  {
   "cell_type": "code",
   "execution_count": 5,
   "metadata": {},
   "outputs": [],
   "source": [
    "from systemtools.hayj import *\n",
    "from systemtools.location import *\n",
    "from systemtools.basics import *\n",
    "from systemtools.file import *\n",
    "from systemtools.printer import *\n",
    "from nlptools.preprocessing import *\n",
    "from twinews.utils import *\n",
    "from twinews.models.ranking import *"
   ]
  },
  {
   "cell_type": "code",
   "execution_count": 30,
   "metadata": {},
   "outputs": [],
   "source": [
    "from nltk.stem import WordNetLemmatizer \n",
    "from sklearn.feature_extraction.text import TfidfVectorizer\n",
    "from sklearn.decomposition import TruncatedSVD"
   ]
  },
  {
   "cell_type": "code",
   "execution_count": 7,
   "metadata": {},
   "outputs": [
    {
     "name": "stderr",
     "output_type": "stream",
     "text": [
      "--> tictoc starts...\n"
     ]
    },
    {
     "data": {
      "text/plain": [
       "-1"
      ]
     },
     "execution_count": 7,
     "metadata": {},
     "output_type": "execute_result"
    }
   ],
   "source": [
    "logger = Logger(tmpDir('logs') + \"/tfidf.log\") if isNotebook else Logger(\"tfidf-\" + getHostname() + \".log\")\n",
    "tt = TicToc(logger=logger)\n",
    "tt.tic()"
   ]
  },
  {
   "cell_type": "code",
   "execution_count": null,
   "metadata": {},
   "outputs": [],
   "source": []
  },
  {
   "cell_type": "code",
   "execution_count": null,
   "metadata": {},
   "outputs": [],
   "source": []
  },
  {
   "cell_type": "markdown",
   "metadata": {},
   "source": [
    "# Config"
   ]
  },
  {
   "cell_type": "code",
   "execution_count": 27,
   "metadata": {},
   "outputs": [],
   "source": [
    "config = \\\n",
    "{\n",
    "    'splitVersion': 2,\n",
    "    \n",
    "    'maxUsers': 2 if TEST else None, # Sub-sampling\n",
    "    'minDF': None if TEST else None, # Remove words that have a document frequency ratio lower than 1 / 500\n",
    "    'maxDF': None if TEST else None, # Remove top 300 voc elements\n",
    "    \n",
    "    'lowercase': False if TEST else False,\n",
    "    'doLemmatization': False if TEST else False,\n",
    "    'sublinearTF': True,\n",
    "    \n",
    "    'dimensions': 20, # 20, 100, 500, None (means no dimensionality reduction)\n",
    "    'maxIter': 10, # Iteration for SVD\n",
    "    \n",
    "    'distance': 'cosine', # 'cosine', 'euclidean', 'kl', 'js'\n",
    "    'historyRef': 30, # 1, 1.0, 0.6, 0.3, 3, 10, 30\n",
    "}"
   ]
  },
  {
   "cell_type": "code",
   "execution_count": 28,
   "metadata": {},
   "outputs": [],
   "source": [
    "if config['dimensions'] is None:\n",
    "    del config['maxIter']"
   ]
  },
  {
   "cell_type": "code",
   "execution_count": 9,
   "metadata": {},
   "outputs": [],
   "source": [
    "# Here we check if we already generated ranking for this model with this specific config:\n",
    "if not isNotebook:\n",
    "    if rankingExists(modelName, config, logger=logger):\n",
    "        raise Exception(modelName + \" with this config already exist:\\n\" + b(config, 5))"
   ]
  },
  {
   "cell_type": "code",
   "execution_count": null,
   "metadata": {},
   "outputs": [],
   "source": []
  },
  {
   "cell_type": "code",
   "execution_count": null,
   "metadata": {},
   "outputs": [],
   "source": []
  },
  {
   "cell_type": "markdown",
   "metadata": {},
   "source": [
    "# Getting data"
   ]
  },
  {
   "cell_type": "code",
   "execution_count": 10,
   "metadata": {},
   "outputs": [
    {
     "name": "stderr",
     "output_type": "stream",
     "text": [
      "--> tic: 32.09s | message: Eval data loaded\n",
      "--> toc total duration: 32.37s | message: Got Twinews evaluation data\n",
      "{ candidates, extraNews, meta, testNews, testUsers, trainNews, trainUsers }\n",
      "{ 'created': 2020.03.24-14.28.06, 'endDate': 2018-01-15, 'id': 2, 'ranksLength': 1000, 'splitDate': 2017-12-25, 'startDate': 2017-10-01, 'testMaxNewsPerUser': 97, 'testMeanNewsPerUser': 7.22, 'testMinNewsPerUser': 2, 'testNewsCount': 71781, 'totalNewsAvailable': 570210, 'trainMaxNewsPerUser': 379, 'trainMeanNewsPerUser': 26.48, 'trainMinNewsPerUser': 8, 'trainNewsCount': 237150, 'usersCount': 15905 }\n"
     ]
    }
   ],
   "source": [
    "# Getting users and news\n",
    "evalData = getEvalData(config['splitVersion'], maxExtraNews=0, maxUsers=config['maxUsers'], logger=logger)\n",
    "(trainUsers, testUsers, trainNews, testNews, candidates, extraNews) = \\\n",
    "(evalData['trainUsers'], evalData['testUsers'], evalData['trainNews'],\n",
    " evalData['testNews'], evalData['candidates'], evalData['extraNews'])\n",
    "bp(evalData.keys(), 5, logger)\n",
    "log(b(evalData['meta'], 5), logger)"
   ]
  },
  {
   "cell_type": "code",
   "execution_count": 13,
   "metadata": {},
   "outputs": [],
   "source": [
    "# Here it is important to convert urls to lists because we want the same order to retrieve vectors by index...\n",
    "# And we shuffle it so we do not stick urls a a user at the begin...\n",
    "# But we seed the random to always have same order...\n",
    "trainNewsList = shuffle(list(trainNews), seed=0)\n",
    "testNewsList = shuffle(list(testNews), seed=0)\n",
    "newsList = trainNewsList + testNewsList"
   ]
  },
  {
   "cell_type": "code",
   "execution_count": 14,
   "metadata": {},
   "outputs": [
    {
     "name": "stderr",
     "output_type": "stream",
     "text": [
      "28 urls for trainNewsList\n",
      "1989 urls for testNewsList\n",
      "2017 urls for newsList\n"
     ]
    }
   ],
   "source": [
    "# Print all:\n",
    "log(str(len(trainNewsList)) + \" urls for trainNewsList\", logger=logger)\n",
    "log(str(len(testNewsList)) + \" urls for testNewsList\", logger=logger)\n",
    "log(str(len(newsList)) + \" urls for newsList\", logger=logger)"
   ]
  },
  {
   "cell_type": "code",
   "execution_count": 15,
   "metadata": {},
   "outputs": [
    {
     "name": "stderr",
     "output_type": "stream",
     "text": [
      "twinews news (version 1.0) initialised.\n",
      "  0% [                    ]\n",
      "  9% [=                   ] (36.5s left)\n",
      " 19% [===                 ] (30.934s left)\n",
      " 29% [=====               ] (27.201s left)\n",
      " 39% [=======             ] (23.218s left)\n",
      " 49% [=========           ] (19.353s left)\n",
      " 59% [===========         ] (15.5s left)\n",
      " 69% [=============       ] (11.692s left)\n",
      " 79% [===============     ] (7.77s left)\n",
      " 89% [=================   ] (3.97s left)\n",
      " 99% [=================== ] (0.134s left)\n",
      "100% [====================] (total duration: 38.6s, mean duration: 0.019s)\n",
      "[\n",
      "  [ [ West, Ham, ..., decline, . ], [ The, club, ..., staff, . ], ..., [ There, was, ..., Monday, . ], [ Bilic, fate, ..., Monday, . ] ],\n",
      "  [ [ What, missing, ..., room, . ], [ \", I, ..., late, ! ], ..., [ I, know, ..., hurting, . ], [ I, know, ..., of, . ] ],\n",
      "  ...,\n",
      "  [ [ In, __int_4__, ..., project, . ], [ They, gathered, ..., years, . ], ..., [ To, order, ..., call, __int_3__ ], [ Free, UK, ..., only, . ] ],\n",
      "  [ [ In, Rural, ..., shelters, . ], [ But, in, ..., nights, . ], ..., [ Wyoming, homeless, ..., summer, . ], [ It, may, ..., state, . ] ]\n",
      "]\n"
     ]
    }
   ],
   "source": [
    "# We get sentences:\n",
    "sentences = getNewsSentences(newsList, logger=logger)\n",
    "bp(sentences, logger)"
   ]
  },
  {
   "cell_type": "code",
   "execution_count": 16,
   "metadata": {},
   "outputs": [
    {
     "name": "stderr",
     "output_type": "stream",
     "text": [
      "[ [ West, Ham, ..., Monday, . ], [ What, missing, ..., of, . ], ..., [ In, __int_4__, ..., only, . ], [ In, Rural, ..., state, . ] ]\n"
     ]
    }
   ],
   "source": [
    "# We flatten sentences:\n",
    "for i in range(len(sentences)):\n",
    "    sentences[i] = flattenLists(sentences[i])\n",
    "docs = sentences\n",
    "bp(docs, logger)"
   ]
  },
  {
   "cell_type": "code",
   "execution_count": 17,
   "metadata": {},
   "outputs": [
    {
     "name": "stderr",
     "output_type": "stream",
     "text": [
      "[ [ West, Ham, ..., Monday, . ], [ What, missing, ..., of, . ], ..., [ In, __int_4__, ..., only, . ], [ In, Rural, ..., state, . ] ]\n"
     ]
    }
   ],
   "source": [
    "# Lower case:\n",
    "if config['lowercase']:\n",
    "    for i in pb(list(range(len(docs))), logger=logger, message=\"Lower casing\"):\n",
    "        for u in range(len(docs[i])):\n",
    "            docs[i][u] = docs[i][u].lower()\n",
    "bp(docs, logger)"
   ]
  },
  {
   "cell_type": "code",
   "execution_count": 18,
   "metadata": {},
   "outputs": [
    {
     "name": "stderr",
     "output_type": "stream",
     "text": [
      "[ [ West, Ham, ..., Monday, . ], [ What, missing, ..., of, . ], ..., [ In, __int_4__, ..., only, . ], [ In, Rural, ..., state, . ] ]\n"
     ]
    }
   ],
   "source": [
    "# Lemmatization:\n",
    "if config['doLemmatization']:\n",
    "    lemmatizer = WordNetLemmatizer()\n",
    "    pbar = ProgressBar(len(docs), logger=logger, message=\"Lemmatization\")\n",
    "    for i in range(len(docs)):\n",
    "        for u in range(len(docs[i])):\n",
    "            docs[i][u] = lemmatizer.lemmatize(docs[i][u])\n",
    "        pbar.tic()\n",
    "bp(docs, logger)"
   ]
  },
  {
   "cell_type": "code",
   "execution_count": 19,
   "metadata": {},
   "outputs": [],
   "source": [
    "# Filtering the corpus:\n",
    "if config['minDF'] is not None or config['maxDF'] is not None:\n",
    "    docs = filterCorpus(docs, minDF=config['minDF'], maxDF=config['maxDF'],\n",
    "                        removeEmptyDocs=False, allowEmptyDocs=False, logger=logger)\n",
    "    for doc in docs: assert len(doc) > 0\n",
    "    bp(docs, logger)"
   ]
  },
  {
   "cell_type": "code",
   "execution_count": 20,
   "metadata": {},
   "outputs": [
    {
     "name": "stderr",
     "output_type": "stream",
     "text": [
      "--> tic: 5m 38.019s | message: Data preprocessed\n"
     ]
    },
    {
     "data": {
      "text/plain": [
       "338.02"
      ]
     },
     "execution_count": 20,
     "metadata": {},
     "output_type": "execute_result"
    }
   ],
   "source": [
    "tt.tic(\"Data preprocessed\")"
   ]
  },
  {
   "cell_type": "code",
   "execution_count": null,
   "metadata": {
    "scrolled": true
   },
   "outputs": [],
   "source": []
  },
  {
   "cell_type": "code",
   "execution_count": null,
   "metadata": {},
   "outputs": [],
   "source": []
  },
  {
   "cell_type": "markdown",
   "metadata": {},
   "source": [
    "# Infering vectors"
   ]
  },
  {
   "cell_type": "code",
   "execution_count": 22,
   "metadata": {},
   "outputs": [],
   "source": [
    "vectorizer = TfidfVectorizer\\\n",
    "(\n",
    "    sublinear_tf=config['sublinearTF'],\n",
    "    tokenizer=lambda x: x,\n",
    "    preprocessor=lambda x: x,\n",
    "    # lowercase=True, # Doesn't work because we erased preprocessor\n",
    ")\n",
    "vectors = vectorizer.fit_transform(docs)\n",
    "assert vectors.shape[0] == len(newsList)"
   ]
  },
  {
   "cell_type": "code",
   "execution_count": 23,
   "metadata": {},
   "outputs": [
    {
     "name": "stderr",
     "output_type": "stream",
     "text": [
      "--> tic: 4m 19.73s | message: TFIDF vectors generated\n"
     ]
    },
    {
     "data": {
      "text/plain": [
       "259.73"
      ]
     },
     "execution_count": 23,
     "metadata": {},
     "output_type": "execute_result"
    }
   ],
   "source": [
    "tt.tic(\"TFIDF vectors generated\")"
   ]
  },
  {
   "cell_type": "code",
   "execution_count": null,
   "metadata": {},
   "outputs": [],
   "source": []
  },
  {
   "cell_type": "code",
   "execution_count": null,
   "metadata": {},
   "outputs": [],
   "source": []
  },
  {
   "cell_type": "markdown",
   "metadata": {},
   "source": [
    "# Dimensionality reduction"
   ]
  },
  {
   "cell_type": "code",
   "execution_count": 31,
   "metadata": {},
   "outputs": [],
   "source": [
    "if config['dimensions'] is not None:\n",
    "    svd = TruncatedSVD(n_components=config['dimensions'], n_iter=config['maxIter'], random_state=42)\n",
    "    vectors = svd.fit_transform(vectors)"
   ]
  },
  {
   "cell_type": "code",
   "execution_count": null,
   "metadata": {},
   "outputs": [],
   "source": []
  },
  {
   "cell_type": "code",
   "execution_count": null,
   "metadata": {},
   "outputs": [],
   "source": []
  },
  {
   "cell_type": "markdown",
   "metadata": {},
   "source": [
    "# Making a dict url --> topic vector"
   ]
  },
  {
   "cell_type": "code",
   "execution_count": 32,
   "metadata": {
    "scrolled": true
   },
   "outputs": [
    {
     "name": "stderr",
     "output_type": "stream",
     "text": [
      "{\n",
      "  http://a.msn.com/01/en-ie/BBHzIAS?ocid=st: [ 0.25081041  0.03500825 -0.04648407  0.03995524  0.03818875  0.06587702\n",
      "   -0.02661354  0.03366245  0.00424143  0.02856054  0.01719238 -0.01333474\n",
      "   -0.01785074 -0.0228395  -0.03801074 -0.00253639 -0.03199948 -0.00770459\n",
      "    0.01834506 -0.02179933],\n",
      "  http://a.msn.com/06/en-us/BBH7EiO?ocid=st: [ 0.27661412  0.09373918 -0.03876081 -0.0035497   0.02332182  0.02478822\n",
      "   -0.05780108  0.03557604 -0.0189743  -0.02488483 -0.00336932  0.01306875\n",
      "   -0.02167153 -0.03175106 -0.06713755  0.0138377  -0.00976167  0.01452504\n",
      "   -0.02321557 -0.01297543],\n",
      "  http://abcn.ws/2CbqxlW: [ 0.29984423  0.11062978  0.13114013  0.00593856 -0.0616313  -0.01404553\n",
      "    0.01645525  0.01150832 -0.04753689 -0.0607552   0.07225907  0.02000181\n",
      "    0.05133595  0.0578758   0.10473919  0.00540235 -0.07055241 -0.01979625\n",
      "    0.01783355 -0.01287394],\n",
      "  http://abcn.ws/2D92PrQ: [ 0.29097796 -0.10831123  0.11796665 -0.10420321  0.09573399  0.03709742\n",
      "   -0.07014571  0.01241763  0.046437   -0.02792049 -0.01925459 -0.05540702\n",
      "    0.06795448 -0.05336703 -0.05499173  0.05044475 -0.00492323  0.06024882\n",
      "    0.01895062 -0.00881254],\n",
      "  http://abcn.ws/2Dwr16b: [ 0.15399383 -0.03627415  0.07012278  0.12961065 -0.04134563  0.05144881\n",
      "   -0.02285438 -0.00019306 -0.05849004  0.0302147   0.00055471  0.01815443\n",
      "   -0.02338428 -0.00437593 -0.02853789 -0.06393011  0.06677129  0.01960244\n",
      "    0.03325089 -0.03329333],\n",
      "  ...,\n",
      "  https://www.yorkregion.com/shopping-story/8036856-extreme-cold-sparks-increased-rodent-infestations/: [ 0.18321409  0.04228767 -0.07429664  0.02575729 -0.02823639  0.03177428\n",
      "   -0.04908526  0.07173384  0.01327605  0.04156472 -0.01052896 -0.02506831\n",
      "    0.00983713 -0.02195671 -0.03754032  0.04047162 -0.00275507  0.01177658\n",
      "    0.00508885 -0.03745268],\n",
      "  https://www.yorkshirepost.co.uk/news/universal-credit-rollout-sees-food-bank-use-increase-across-yorkshire-1-8923670: [ 0.3230317  -0.00554185 -0.09374196 -0.02025939 -0.04808739 -0.04403055\n",
      "    0.02918058  0.05169139 -0.02491615  0.03337153  0.01456838  0.05865156\n",
      "    0.03491558 -0.06334759  0.04187118  0.0513156  -0.01119476  0.00148803\n",
      "   -0.03356072 -0.0399776 ],\n",
      "  https://www.zerohedge.com/news/2018-01-03/children-forced-freeze-baltimore-schools-open-no-heat: [ 0.30168963  0.03263381  0.00763193  0.10132562 -0.06938941 -0.03767984\n",
      "   -0.02325169  0.08308539  0.17328293  0.01730378 -0.12080567 -0.05819927\n",
      "    0.02649608 -0.13498117  0.14408401 -0.07502527 -0.08081719 -0.02047521\n",
      "    0.03567046  0.0424379 ],\n",
      "  https://www.zerohedge.com/news/2018-01-04/trump-admin-bans-all-personal-devices-white-house: [ 0.25328572 -0.14489582  0.0539191  -0.07027122  0.02195912  0.06047044\n",
      "   -0.12006224 -0.04904025  0.00133474  0.01641925 -0.06204185  0.01007945\n",
      "    0.10033717 -0.03344548  0.02528218  0.0517514   0.00801938  0.07492812\n",
      "   -0.00369887  0.01384503],\n",
      "  https://yaledailynews.com/blog/2018/01/06/yale-psychiatrist-met-with-congressmen-about-trumps-mental-health/: [ 0.27826166 -0.11145341  0.10760655 -0.07970238 -0.05085746 -0.00131893\n",
      "   -0.0300156  -0.01917393  0.04852392  0.03816256  0.00087711 -0.04264461\n",
      "    0.06917227  0.02613353 -0.01589085  0.03841207 -0.04733781 -0.0030595\n",
      "    0.00849408 -0.02127606]\n",
      "}\n"
     ]
    }
   ],
   "source": [
    "assert len(vectors) == len(newsList)\n",
    "urlsVectors = dict()\n",
    "for i in range(len(newsList)):\n",
    "    urlsVectors[newsList[i]] = vectors[i]\n",
    "bp(urlsVectors, logger)"
   ]
  },
  {
   "cell_type": "code",
   "execution_count": null,
   "metadata": {},
   "outputs": [],
   "source": []
  },
  {
   "cell_type": "code",
   "execution_count": null,
   "metadata": {},
   "outputs": [],
   "source": []
  },
  {
   "cell_type": "markdown",
   "metadata": {},
   "source": [
    "# Ranking"
   ]
  },
  {
   "cell_type": "code",
   "execution_count": 33,
   "metadata": {},
   "outputs": [
    {
     "name": "stderr",
     "output_type": "stream",
     "text": [
      "Generating ranking  50% [==========          ] (0.05s left)\n",
      "Generating ranking 100% [====================] (total duration: 0.1s, mean duration: 0.05s)\n"
     ]
    }
   ],
   "source": [
    "# Read the doc!\n",
    "rankings = usersRankingsByHistoryDistance\\\n",
    "(\n",
    "    trainUsers,\n",
    "    candidates,\n",
    "    config['historyRef'],\n",
    "    urlsVectors,\n",
    "    distanceMetric=config['distance'],\n",
    "    logger=logger,\n",
    ")"
   ]
  },
  {
   "cell_type": "code",
   "execution_count": 34,
   "metadata": {
    "scrolled": true
   },
   "outputs": [
    {
     "name": "stderr",
     "output_type": "stream",
     "text": [
      "{\n",
      "  '2617447752': \n",
      "  [\n",
      "    [\n",
      "      https://medium.com/music-city-soccer/nashville-sc-signs-four-new-players-to-usl-squad-dcaeab3bdecf,\n",
      "      http://waitingfornextyear.com/2017/03/terry-francona-yandy-diaz-clevelan-indians/,\n",
      "      https://www.theguardian.com/football/2018/jan/07/video-assistant-referees-errors-mike-riley,\n",
      "      https://fb.me/7LMIWdJxR,\n",
      "      http://www.kcchronicle.com/lists/2018/01/12/61518ccaaf8049ae909db455e3d72049/index.xml?page=2,\n",
      "      https://sportsday.dallasnews.com/soccer/soccer/2018/01/01/fc-dallas-buy-new-years-gift,\n",
      "      http://bit.ly/2DuVgdQ,\n",
      "      https://www.theguardian.com/football/2018/jan/11/manchester-united-alexis-sanchez-arsenal,\n",
      "      https://wp.me/p2g4vo-1QEu,\n",
      "      http://wapo.st/2lHeuXi?tid=ss_tw&utm_term=.3126ce7425ba,\n",
      "      ...,\n",
      "      http://www.arkansasonline.com/news/2018/jan/08/little-rock-police-18-year-old-arrested-was-driver/,\n",
      "      https://usat.ly/2milzx0,\n",
      "      http://bit.ly/2AjIm0l,\n",
      "      http://politi.co/2qlebpK,\n",
      "      https://www.bloomberg.com/news/articles/2018-01-09/feinstein-releases-testimony-on-trump-dossier-by-fusion-gps-head,\n",
      "      https://www.buzzfeed.com/mbvd/people-and-pups-did-their-best-to-enjoy-the-record-breaking?bftw&utm_term=.jb3vkA5kR#.unQDnManK,\n",
      "      https://www.buzzfeed.com/ourclimate/a-low-carbon-sustainable-strategy-for-massachuset-3a471?utm_term=.xcXE96B4yp#.up39xraK2B,\n",
      "      http://katv.com/news/local/arrest-made-in-fatal-new-years-day-shooting-in-fayetteville,\n",
      "      http://www.rrdailyherald.com/news/shots-fired-at-house/article_0dcf80a6-f6f3-11e7-83e8-e3a7873941fa.html#utm_campaign%3Dblox%26utm_source%3Dtwitter%26utm_medium%3Dsocial,\n",
      "      http://bit.ly/2qSel8t\n",
      "    ]\n",
      "  ],\n",
      "  '790664132': \n",
      "  [\n",
      "    [\n",
      "      https://nyti.ms/2E5Rbgs,\n",
      "      http://bit.ly/2lk30rI,\n",
      "      https://buff.ly/2BaovEV,\n",
      "      https://www.theguardian.com/uk-news/2017/dec/25/scotland-universal-basic-income-councils-pilot-scheme?CMP=Share_iOSApp_Other,\n",
      "      https://www.indybay.org/newsitems/2017/12/30/18805571.php,\n",
      "      https://www.greeleytribune.com/news/local/rising-groundwater-in-the-past-decade-inundates-more-basements-each-year-costing-homeowners-from-gilcrest-to-sterling-thousands-of-dollars-each/,\n",
      "      https://www.washingtonpost.com/local/md-politics/no-one-would-build-on-barren-land-near-suitland-metro-so-the-county-is-taking-the-risk/2017/12/25/cc21c920-cbb4-11e7-b0cf-7689a9f2d84e_story.html,\n",
      "      https://www.ocregister.com/2017/12/31/sprawl-wars-how-the-anti-growth-wrath-grew-in-2017/,\n",
      "      http://bit.ly/2mwFcm3,\n",
      "      https://www.seattletimes.com/seattle-news/politics/how-the-sausage-is-made-legal-pressure-helped-airbnb-host-in-seattle-win-special-deal/?utm_source=twitter&utm_medium=social&utm_campaign=article_left_1.1,\n",
      "      ...,\n",
      "      http://www.independent.co.uk/news/world/americas/us-politics/ivanka-trump-dumb-as-brick-steve-bannon-comments-book-michael-wolff-a8140701.html,\n",
      "      https://wp.me/p4xwQo-9bM,\n",
      "      http://newsok.com/article/5579253?utm_source=NewsOK.com&utm_medium=Social&utm_campaign=ShareBar-Twitter,\n",
      "      http://cnn.it/2DnakeW,\n",
      "      http://thehill.com/homenews/administration/367390-trump-trying-to-stop-publication-of-explosive-book-about-his#.Wk5uViaGVNI.twitter,\n",
      "      http://www.thebaynet.com/articles/0118/suspiciousdeathinvestigationunderwayinwaldorf.html,\n",
      "      http://bit.ly/2EshHSh,\n",
      "      http://cnn.it/2qUZ1YH,\n",
      "      http://ow.ly/dNnk30ht1Rc,\n",
      "      http://bit.ly/2CRVdNi\n",
      "    ]\n",
      "  ]\n",
      "}\n"
     ]
    }
   ],
   "source": [
    "bp(rankings, logger, 4)"
   ]
  },
  {
   "cell_type": "code",
   "execution_count": 35,
   "metadata": {},
   "outputs": [
    {
     "name": "stderr",
     "output_type": "stream",
     "text": [
      "--> tic: 6h 1m 12.919s | message: Rankings done\n"
     ]
    },
    {
     "data": {
      "text/plain": [
       "21672.92"
      ]
     },
     "execution_count": 35,
     "metadata": {},
     "output_type": "execute_result"
    }
   ],
   "source": [
    "tt.tic(\"Rankings done\")"
   ]
  },
  {
   "cell_type": "code",
   "execution_count": null,
   "metadata": {},
   "outputs": [],
   "source": []
  },
  {
   "cell_type": "code",
   "execution_count": null,
   "metadata": {},
   "outputs": [],
   "source": []
  },
  {
   "cell_type": "markdown",
   "metadata": {},
   "source": [
    "# Adding rankings to the db"
   ]
  },
  {
   "cell_type": "code",
   "execution_count": 41,
   "metadata": {},
   "outputs": [],
   "source": [
    "modelName = 'tfidf'"
   ]
  },
  {
   "cell_type": "code",
   "execution_count": 37,
   "metadata": {},
   "outputs": [],
   "source": [
    "# Read the doc!\n",
    "addRanking(modelName, rankings, config, logger=logger)"
   ]
  },
  {
   "cell_type": "code",
   "execution_count": 38,
   "metadata": {},
   "outputs": [
    {
     "name": "stderr",
     "output_type": "stream",
     "text": [
      "--> tic: 1m 32.42s | message: Rankings stored\n"
     ]
    },
    {
     "data": {
      "text/plain": [
       "92.42"
      ]
     },
     "execution_count": 38,
     "metadata": {},
     "output_type": "execute_result"
    }
   ],
   "source": [
    "tt.tic(\"Rankings stored\")"
   ]
  },
  {
   "cell_type": "code",
   "execution_count": 39,
   "metadata": {},
   "outputs": [
    {
     "name": "stderr",
     "output_type": "stream",
     "text": [
      "--> toc total duration: 6h 12m 43.97s\n"
     ]
    }
   ],
   "source": [
    "totalDuration = tt.toc()"
   ]
  },
  {
   "cell_type": "code",
   "execution_count": 42,
   "metadata": {},
   "outputs": [],
   "source": [
    "notif(modelName + '-' + objectToHash(config)[:5] + \" done in \" + secondsToHumanReadableDuration(totalDuration) + \" on \" + getHostname())"
   ]
  },
  {
   "cell_type": "code",
   "execution_count": null,
   "metadata": {},
   "outputs": [],
   "source": []
  },
  {
   "cell_type": "code",
   "execution_count": null,
   "metadata": {},
   "outputs": [],
   "source": []
  }
 ],
 "metadata": {
  "kernelspec": {
   "display_name": "Python 3",
   "language": "python",
   "name": "python3"
  },
  "language_info": {
   "codemirror_mode": {
    "name": "ipython",
    "version": 3
   },
   "file_extension": ".py",
   "mimetype": "text/x-python",
   "name": "python",
   "nbconvert_exporter": "python",
   "pygments_lexer": "ipython3",
   "version": "3.6.6"
  }
 },
 "nbformat": 4,
 "nbformat_minor": 4
}
