{
 "cells": [
  {
   "cell_type": "markdown",
   "metadata": {},
   "source": [
    "# Commands"
   ]
  },
  {
   "cell_type": "code",
   "execution_count": 1,
   "metadata": {},
   "outputs": [],
   "source": [
    "# cd twinews-logs ; jupython -o nohup-tfidf-$HOSTNAME.out --venv st-venv ~/Workspace/Python/Datasets/Twinews/twinews/models/tfidf.ipynb"
   ]
  },
  {
   "cell_type": "code",
   "execution_count": null,
   "metadata": {},
   "outputs": [],
   "source": []
  },
  {
   "cell_type": "code",
   "execution_count": null,
   "metadata": {},
   "outputs": [],
   "source": []
  },
  {
   "cell_type": "markdown",
   "metadata": {},
   "source": [
    "# Init"
   ]
  },
  {
   "cell_type": "code",
   "execution_count": 2,
   "metadata": {},
   "outputs": [],
   "source": [
    "import os ; os.environ[\"CUDA_VISIBLE_DEVICES\"] = \"\""
   ]
  },
  {
   "cell_type": "code",
   "execution_count": 3,
   "metadata": {},
   "outputs": [],
   "source": [
    "isNotebook = '__file__' not in locals()"
   ]
  },
  {
   "cell_type": "code",
   "execution_count": 4,
   "metadata": {},
   "outputs": [],
   "source": [
    "TEST = isNotebook # isNotebook, True, False"
   ]
  },
  {
   "cell_type": "code",
   "execution_count": 5,
   "metadata": {},
   "outputs": [],
   "source": [
    "from systemtools.hayj import *\n",
    "from systemtools.location import *\n",
    "from systemtools.basics import *\n",
    "from systemtools.file import *\n",
    "from systemtools.printer import *\n",
    "from nlptools.preprocessing import *\n",
    "from twinews.utils import *\n",
    "from twinews.models.ranking import *"
   ]
  },
  {
   "cell_type": "code",
   "execution_count": 6,
   "metadata": {},
   "outputs": [],
   "source": [
    "from nltk.stem import WordNetLemmatizer \n",
    "from sklearn.feature_extraction.text import TfidfVectorizer\n",
    "from sklearn.decomposition import TruncatedSVD"
   ]
  },
  {
   "cell_type": "code",
   "execution_count": 7,
   "metadata": {},
   "outputs": [
    {
     "name": "stderr",
     "output_type": "stream",
     "text": [
      "--> tictoc starts...\n"
     ]
    },
    {
     "data": {
      "text/plain": [
       "-1"
      ]
     },
     "execution_count": 7,
     "metadata": {},
     "output_type": "execute_result"
    }
   ],
   "source": [
    "logger = Logger(tmpDir('logs') + \"/tfidf.log\") if isNotebook else Logger(\"tfidf-\" + getHostname() + \".log\")\n",
    "tt = TicToc(logger=logger)\n",
    "tt.tic()"
   ]
  },
  {
   "cell_type": "code",
   "execution_count": null,
   "metadata": {},
   "outputs": [],
   "source": []
  },
  {
   "cell_type": "code",
   "execution_count": null,
   "metadata": {},
   "outputs": [],
   "source": []
  },
  {
   "cell_type": "markdown",
   "metadata": {},
   "source": [
    "# Config"
   ]
  },
  {
   "cell_type": "code",
   "execution_count": 8,
   "metadata": {},
   "outputs": [],
   "source": [
    "config = \\\n",
    "{\n",
    "    'splitVersion': 2,\n",
    "    \n",
    "    'maxUsers': 2 if TEST else None, # Sub-sampling\n",
    "    'minDF': None if TEST else None, # Remove words that have a document frequency ratio lower than 1 / 500\n",
    "    'maxDF': None if TEST else None, # Remove top 300 voc elements\n",
    "    \n",
    "    'lowercase': False if TEST else False,\n",
    "    'doLemmatization': False if TEST else False,\n",
    "    'sublinearTF': True,\n",
    "    \n",
    "    'dimensions': None if TEST else 500, # 20, 50, 100, 500, 3000, None (means no dimensionality reduction)\n",
    "    'maxIter': 10, # 3, 10, 30, 100 (Iterations for SVD)\n",
    "    \n",
    "    'distance': 'euclidean', # 'cosine', 'euclidean', 'kl', 'js'\n",
    "    'historyRef': 30, # 1, 1.0, 0.6, 0.3, 3, 10, 30\n",
    "}"
   ]
  },
  {
   "cell_type": "code",
   "execution_count": 9,
   "metadata": {},
   "outputs": [],
   "source": [
    "modelName = 'tfidf'"
   ]
  },
  {
   "cell_type": "code",
   "execution_count": 10,
   "metadata": {},
   "outputs": [],
   "source": [
    "if config['dimensions'] is None:\n",
    "    del config['maxIter']"
   ]
  },
  {
   "cell_type": "code",
   "execution_count": 11,
   "metadata": {},
   "outputs": [],
   "source": [
    "# Here we check if we already generated ranking for this model with this specific config:\n",
    "if not isNotebook:\n",
    "    if rankingExists(modelName, config, logger=logger):\n",
    "        raise Exception(modelName + \" with this config already exist:\\n\" + b(config, 5))"
   ]
  },
  {
   "cell_type": "code",
   "execution_count": null,
   "metadata": {},
   "outputs": [],
   "source": []
  },
  {
   "cell_type": "code",
   "execution_count": null,
   "metadata": {},
   "outputs": [],
   "source": []
  },
  {
   "cell_type": "markdown",
   "metadata": {},
   "source": [
    "# Getting data"
   ]
  },
  {
   "cell_type": "code",
   "execution_count": 12,
   "metadata": {},
   "outputs": [
    {
     "name": "stderr",
     "output_type": "stream",
     "text": [
      "--> tic: 32.94s | message: Eval data loaded\n",
      "--> toc total duration: 33.26s | message: Got Twinews evaluation data\n",
      "{ candidates, extraNews, meta, testNews, testUsers, trainNews, trainUsers }\n",
      "{ 'created': 2020.03.24-14.28.06, 'endDate': 2018-01-15, 'id': 2, 'ranksLength': 1000, 'splitDate': 2017-12-25, 'startDate': 2017-10-01, 'testMaxNewsPerUser': 97, 'testMeanNewsPerUser': 7.22, 'testMinNewsPerUser': 2, 'testNewsCount': 71781, 'totalNewsAvailable': 570210, 'trainMaxNewsPerUser': 379, 'trainMeanNewsPerUser': 26.48, 'trainMinNewsPerUser': 8, 'trainNewsCount': 237150, 'usersCount': 15905 }\n"
     ]
    }
   ],
   "source": [
    "# Getting users and news\n",
    "evalData = getEvalData(config['splitVersion'], maxExtraNews=0, maxUsers=config['maxUsers'], logger=logger)\n",
    "(trainUsers, testUsers, trainNews, testNews, candidates, extraNews) = \\\n",
    "(evalData['trainUsers'], evalData['testUsers'], evalData['trainNews'],\n",
    " evalData['testNews'], evalData['candidates'], evalData['extraNews'])\n",
    "bp(evalData.keys(), 5, logger)\n",
    "log(b(evalData['meta'], 5), logger)"
   ]
  },
  {
   "cell_type": "code",
   "execution_count": 13,
   "metadata": {},
   "outputs": [],
   "source": [
    "# Here it is important to convert urls to lists because we want the same order to retrieve vectors by index...\n",
    "# And we shuffle it so we do not stick urls a a user at the begin...\n",
    "# But we seed the random to always have same order...\n",
    "trainNewsList = shuffle(list(trainNews), seed=0)\n",
    "testNewsList = shuffle(list(testNews), seed=0)\n",
    "newsList = trainNewsList + testNewsList"
   ]
  },
  {
   "cell_type": "code",
   "execution_count": 14,
   "metadata": {},
   "outputs": [
    {
     "name": "stderr",
     "output_type": "stream",
     "text": [
      "28 urls for trainNewsList\n",
      "1989 urls for testNewsList\n",
      "2017 urls for newsList\n"
     ]
    }
   ],
   "source": [
    "# Print all:\n",
    "log(str(len(trainNewsList)) + \" urls for trainNewsList\", logger=logger)\n",
    "log(str(len(testNewsList)) + \" urls for testNewsList\", logger=logger)\n",
    "log(str(len(newsList)) + \" urls for newsList\", logger=logger)"
   ]
  },
  {
   "cell_type": "code",
   "execution_count": 15,
   "metadata": {},
   "outputs": [
    {
     "name": "stderr",
     "output_type": "stream",
     "text": [
      "twinews news (version 1.0) initialised.\n",
      "  0% [                    ]\n",
      "  9% [=                   ] (37.042s left)\n",
      " 19% [===                 ] (33.304s left)\n",
      " 29% [=====               ] (28.537s left)\n",
      " 39% [=======             ] (24.078s left)\n",
      " 49% [=========           ] (19.998s left)\n",
      " 59% [===========         ] (15.809s left)\n",
      " 69% [=============       ] (11.883s left)\n",
      " 79% [===============     ] (7.915s left)\n",
      " 89% [=================   ] (3.999s left)\n",
      " 99% [=================== ] (0.134s left)\n",
      "100% [====================] (total duration: 38.75s, mean duration: 0.019s)\n",
      "[\n",
      "  [ [ Site, Mobile, ..., long, . ], [ Credit, Shane, ..., streets, . ], ..., [ Please, verify, ..., box, . ], [ You, are, ..., email, . ] ],\n",
      "  [ [ What, missing, ..., room, . ], [ \", I, ..., late, ! ], ..., [ I, know, ..., hurting, . ], [ I, know, ..., of, . ] ],\n",
      "  ...,\n",
      "  [ [ The, great, ..., awards, . ], [ \", I, ..., Instagram, . ], ..., [ Rep., Bonnie, ..., ignored, . ], [ \", In, ..., said, . ] ],\n",
      "  [ [ Sheriff, :, ..., Wednesday, . ], [ Cochise, County, ..., Vista, . ], ..., [ She, said, ..., complete, . ], [ No, charges, ..., said, . ] ]\n",
      "]\n"
     ]
    }
   ],
   "source": [
    "# We get sentences:\n",
    "sentences = getNewsSentences(newsList, logger=logger)\n",
    "bp(sentences, logger)"
   ]
  },
  {
   "cell_type": "code",
   "execution_count": 16,
   "metadata": {},
   "outputs": [
    {
     "name": "stderr",
     "output_type": "stream",
     "text": [
      "[ [ Site, Mobile, ..., email, . ], [ What, missing, ..., of, . ], ..., [ The, great, ..., said, . ], [ Sheriff, :, ..., said, . ] ]\n"
     ]
    }
   ],
   "source": [
    "# We flatten sentences:\n",
    "for i in range(len(sentences)):\n",
    "    sentences[i] = flattenLists(sentences[i])\n",
    "docs = sentences\n",
    "bp(docs, logger)"
   ]
  },
  {
   "cell_type": "code",
   "execution_count": 17,
   "metadata": {},
   "outputs": [
    {
     "name": "stderr",
     "output_type": "stream",
     "text": [
      "[ [ Site, Mobile, ..., email, . ], [ What, missing, ..., of, . ], ..., [ The, great, ..., said, . ], [ Sheriff, :, ..., said, . ] ]\n"
     ]
    }
   ],
   "source": [
    "# Lower case:\n",
    "if config['lowercase']:\n",
    "    for i in pb(list(range(len(docs))), logger=logger, message=\"Lower casing\"):\n",
    "        for u in range(len(docs[i])):\n",
    "            docs[i][u] = docs[i][u].lower()\n",
    "bp(docs, logger)"
   ]
  },
  {
   "cell_type": "code",
   "execution_count": 18,
   "metadata": {},
   "outputs": [
    {
     "name": "stderr",
     "output_type": "stream",
     "text": [
      "[ [ Site, Mobile, ..., email, . ], [ What, missing, ..., of, . ], ..., [ The, great, ..., said, . ], [ Sheriff, :, ..., said, . ] ]\n"
     ]
    }
   ],
   "source": [
    "# Lemmatization:\n",
    "if config['doLemmatization']:\n",
    "    lemmatizer = WordNetLemmatizer()\n",
    "    pbar = ProgressBar(len(docs), logger=logger, message=\"Lemmatization\")\n",
    "    for i in range(len(docs)):\n",
    "        for u in range(len(docs[i])):\n",
    "            docs[i][u] = lemmatizer.lemmatize(docs[i][u])\n",
    "        pbar.tic()\n",
    "bp(docs, logger)"
   ]
  },
  {
   "cell_type": "code",
   "execution_count": 19,
   "metadata": {},
   "outputs": [],
   "source": [
    "# Filtering the corpus:\n",
    "if config['minDF'] is not None or config['maxDF'] is not None:\n",
    "    docs = filterCorpus(docs, minDF=config['minDF'], maxDF=config['maxDF'],\n",
    "                        removeEmptyDocs=False, allowEmptyDocs=False, logger=logger)\n",
    "    for doc in docs: assert len(doc) > 0\n",
    "    bp(docs, logger)"
   ]
  },
  {
   "cell_type": "code",
   "execution_count": 20,
   "metadata": {},
   "outputs": [
    {
     "name": "stderr",
     "output_type": "stream",
     "text": [
      "--> tic: 1m 12.42s | message: Data preprocessed\n"
     ]
    },
    {
     "data": {
      "text/plain": [
       "72.42"
      ]
     },
     "execution_count": 20,
     "metadata": {},
     "output_type": "execute_result"
    }
   ],
   "source": [
    "tt.tic(\"Data preprocessed\")"
   ]
  },
  {
   "cell_type": "code",
   "execution_count": null,
   "metadata": {
    "scrolled": true
   },
   "outputs": [],
   "source": []
  },
  {
   "cell_type": "code",
   "execution_count": null,
   "metadata": {},
   "outputs": [],
   "source": []
  },
  {
   "cell_type": "markdown",
   "metadata": {},
   "source": [
    "# Infering vectors"
   ]
  },
  {
   "cell_type": "code",
   "execution_count": 21,
   "metadata": {},
   "outputs": [],
   "source": [
    "vectorizer = TfidfVectorizer\\\n",
    "(\n",
    "    sublinear_tf=config['sublinearTF'],\n",
    "    tokenizer=lambda x: x,\n",
    "    preprocessor=lambda x: x,\n",
    "    # lowercase=True, # Doesn't work because we erased preprocessor\n",
    ")\n",
    "vectors = vectorizer.fit_transform(docs)\n",
    "assert vectors.shape[0] == len(newsList)"
   ]
  },
  {
   "cell_type": "code",
   "execution_count": 22,
   "metadata": {},
   "outputs": [
    {
     "name": "stderr",
     "output_type": "stream",
     "text": [
      "--> tic: 0.96s | message: TFIDF vectors generated\n"
     ]
    },
    {
     "data": {
      "text/plain": [
       "0.96"
      ]
     },
     "execution_count": 22,
     "metadata": {},
     "output_type": "execute_result"
    }
   ],
   "source": [
    "tt.tic(\"TFIDF vectors generated\")"
   ]
  },
  {
   "cell_type": "code",
   "execution_count": null,
   "metadata": {},
   "outputs": [],
   "source": []
  },
  {
   "cell_type": "code",
   "execution_count": null,
   "metadata": {},
   "outputs": [],
   "source": []
  },
  {
   "cell_type": "markdown",
   "metadata": {},
   "source": [
    "# Dimensionality reduction"
   ]
  },
  {
   "cell_type": "code",
   "execution_count": 23,
   "metadata": {},
   "outputs": [],
   "source": [
    "if config['dimensions'] is not None:\n",
    "    svd = TruncatedSVD(n_components=config['dimensions'], n_iter=config['maxIter'], random_state=42)\n",
    "    vectors = svd.fit_transform(vectors)"
   ]
  },
  {
   "cell_type": "code",
   "execution_count": null,
   "metadata": {},
   "outputs": [],
   "source": []
  },
  {
   "cell_type": "code",
   "execution_count": 29,
   "metadata": {},
   "outputs": [],
   "source": [
    "import scipy"
   ]
  },
  {
   "cell_type": "code",
   "execution_count": 25,
   "metadata": {},
   "outputs": [
    {
     "data": {
      "text/plain": [
       "scipy.sparse.csr.csr_matrix"
      ]
     },
     "execution_count": 25,
     "metadata": {},
     "output_type": "execute_result"
    }
   ],
   "source": [
    "type(vectors)"
   ]
  },
  {
   "cell_type": "markdown",
   "metadata": {},
   "source": [
    "# Making a dict url --> topic vector"
   ]
  },
  {
   "cell_type": "code",
   "execution_count": 32,
   "metadata": {
    "scrolled": true
   },
   "outputs": [
    {
     "name": "stderr",
     "output_type": "stream",
     "text": [
      "{\n",
      "  http://a.msn.com/01/en-ie/BBHzIAS?ocid=st: (0, 25295) 0.0313261786190328\n",
      "(0, 56866) 0.04627878490689316\n",
      "(0, 42472) 0.03389645885643358\n",
      "(0, 5) 0...,\n",
      "  http://a.msn.com/06/en-us/BBH7EiO?ocid=st: (0, 25295) 0.023137774572291405\n",
      "(0, 56866) 0.04957685460655887\n",
      "(0, 19205) 0.038466367128113445\n",
      "(0, 4...,\n",
      "  http://abcn.ws/2CbqxlW: (0, 25295) 0.022774966622341648\n",
      "(0, 56866) 0.0417292648534539\n",
      "(0, 42472) 0.036779858814012176\n",
      "(0, 5)...,\n",
      "  http://abcn.ws/2D92PrQ: (0, 25295) 0.031224639252950305\n",
      "(0, 47847) 0.032641610193401976\n",
      "(0, 56866) 0.039284912771997686\n",
      "(0, ...,\n",
      "  http://abcn.ws/2Dwr16b: (0, 25295) 0.03476852736629675\n",
      "(0, 56866) 0.06374216509770923\n",
      "(0, 42472) 0.03305349989093126\n",
      "(0, 5) ...,\n",
      "  ...,\n",
      "  https://www.yorkregion.com/shopping-story/8036856-extreme-cold-sparks-increased-rodent-infestations/: (0, 25295) 0.015355588982262658\n",
      "(0, 56866) 0.022753097979981828\n",
      "(0, 42472) 0.020342800515730404\n",
      "(0, ...,\n",
      "  https://www.yorkshirepost.co.uk/news/universal-credit-rollout-sees-food-bank-use-increase-across-yorkshire-1-8923670: (0, 25295) 0.02319458281462329\n",
      "(0, 56866) 0.04034091652084702\n",
      "(0, 42472) 0.0353056965543788\n",
      "(0, 5) 0...,\n",
      "  https://www.zerohedge.com/news/2018-01-03/children-forced-freeze-baltimore-schools-open-no-heat: (0, 25295) 0.019793162067719753\n",
      "(0, 56866) 0.03747278781462969\n",
      "(0, 42472) 0.033874282249226305\n",
      "(0, 5...,\n",
      "  https://www.zerohedge.com/news/2018-01-04/trump-admin-bans-all-personal-devices-white-house: (0, 25295) 0.04720547041612202\n",
      "(0, 56866) 0.06766100158068432\n",
      "(0, 42472) 0.049073432720692256\n",
      "(0, 5)...,\n",
      "  https://yaledailynews.com/blog/2018/01/06/yale-psychiatrist-met-with-congressmen-about-trumps-mental-health/: (0, 25295) 0.01908278413395188\n",
      "(0, 56866) 0.04263859160665868\n",
      "(0, 42472) 0.03496293883830218\n",
      "(0, 5) ...\n",
      "}\n"
     ]
    }
   ],
   "source": [
    "assert vectors.shape[0] == len(newsList)\n",
    "urlsVectors = dict()\n",
    "for i in range(len(newsList)):\n",
    "    if isinstance(vectors, scipy.sparse.csr.csr_matrix):\n",
    "        row = vectors.getrow(i)\n",
    "    else:\n",
    "        row = vectors[i]\n",
    "    urlsVectors[newsList[i]] = row\n",
    "bp(urlsVectors, logger)"
   ]
  },
  {
   "cell_type": "code",
   "execution_count": 26,
   "metadata": {},
   "outputs": [
    {
     "data": {
      "text/plain": [
       "(1, 60304)"
      ]
     },
     "execution_count": 26,
     "metadata": {},
     "output_type": "execute_result"
    }
   ],
   "source": []
  },
  {
   "cell_type": "code",
   "execution_count": 34,
   "metadata": {},
   "outputs": [
    {
     "data": {
      "text/plain": [
       "array([[1.        , 0.14632073, 0.11580525, ..., 0.05919106, 0.07005966,\n",
       "        0.04340112],\n",
       "       [0.14632073, 1.        , 0.10891585, ..., 0.08060453, 0.09673284,\n",
       "        0.07151679],\n",
       "       [0.11580525, 0.10891585, 1.        , ..., 0.03118822, 0.0449059 ,\n",
       "        0.06014931],\n",
       "       ...,\n",
       "       [0.05919106, 0.08060453, 0.03118822, ..., 1.        , 0.07348242,\n",
       "        0.04003468],\n",
       "       [0.07005966, 0.09673284, 0.0449059 , ..., 0.07348242, 1.        ,\n",
       "        0.06824675],\n",
       "       [0.04340112, 0.07151679, 0.06014931, ..., 0.04003468, 0.06824675,\n",
       "        1.        ]])"
      ]
     },
     "execution_count": 34,
     "metadata": {},
     "output_type": "execute_result"
    }
   ],
   "source": [
    "cosine_similarity(vectors)"
   ]
  },
  {
   "cell_type": "markdown",
   "metadata": {},
   "source": [
    "# Ranking"
   ]
  },
  {
   "cell_type": "code",
   "execution_count": 46,
   "metadata": {},
   "outputs": [
    {
     "name": "stderr",
     "output_type": "stream",
     "text": [
      "Generating ranking  50% [==========          ] (0.05s left)\n",
      "Generating ranking 100% [====================] (total duration: 0.1s, mean duration: 0.05s)\n"
     ]
    }
   ],
   "source": [
    "# Read the doc!\n",
    "rankings = usersRankingsByHistoryDistance\\\n",
    "(\n",
    "    trainUsers,\n",
    "    candidates,\n",
    "    config['historyRef'],\n",
    "    urlsVectors,\n",
    "    distanceMetric=config['distance'],\n",
    "    logger=logger,\n",
    ")"
   ]
  },
  {
   "cell_type": "code",
   "execution_count": 47,
   "metadata": {
    "scrolled": true
   },
   "outputs": [
    {
     "name": "stderr",
     "output_type": "stream",
     "text": [
      "{\n",
      "  '2617447752': \n",
      "  [\n",
      "    [\n",
      "      https://www.theguardian.com/football/2018/jan/07/video-assistant-referees-errors-mike-riley,\n",
      "      http://bit.ly/2AkNlxU,\n",
      "      https://wp.me/p2g4vo-1QEu,\n",
      "      https://trib.al/PiFii15,\n",
      "      https://www.nytimes.com/2018/01/03/sports/ncaabasketball/kansas-big-12.html?_r=0,\n",
      "      https://wp.me/p2g4vo-1QzM,\n",
      "      http://www.stltoday.com/sports/college/mizzou/drew-lock-puts-nfl-on-hold-will-return-to-mizzou/article_cb5dd7fa-783d-5458-9bef-e22ab0743a22.html?utm_medium=social&utm_source=twitter&utm_campaign=user-share,\n",
      "      http://www.daily-chronicle.com/lists/2017/12/31/e8ec758e9f5a4d54b391fa43e2595e22/index.xml?page=1,\n",
      "      https://sportsday.dallasnews.com/soccer/soccer/2018/01/01/fc-dallas-buy-new-years-gift,\n",
      "      https://onmilwaukee.com/sports/articles/fausto-batella-first-and-ten-book.html,\n",
      "      ...,\n",
      "      http://bit.ly/2CXjfU1,\n",
      "      http://ow.ly/FF3w30huysZ,\n",
      "      http://ow.ly/Np0N30hK2lo,\n",
      "      http://bbc.in/2nM6411,\n",
      "      https://www.yorkregion.com/community-story/8041310-10-cm-of-snow-will-fall-on-york-region-today-environment-canada/,\n",
      "      https://www.csindy.com/SideDish/archives/2017/12/29/mccabes-to-close-become-streetcar-520,\n",
      "      http://www.scnow.com/messenger/article_a4c053f0-f3fb-11e7-8186-575364924ac6.html,\n",
      "      http://ontario.ca/b3v8,\n",
      "      https://www.businesspost.ie/opinion/government-shown-no-urgency-reform-health-service-406246?utm_source=twitter&utm_campaign=article&utm_medium=web,\n",
      "      http://ow.ly/tTw730hHaYI\n",
      "    ]\n",
      "  ],\n",
      "  '790664132': \n",
      "  [\n",
      "    [\n",
      "      http://ow.ly/QYCH50g4Ut7,\n",
      "      https://www.opb.org/news/article/npr-advocates-fear-tax-bill-will-worsen-us-affordable-housing-shortage/#.WleLOZM3oJI.twitter,\n",
      "      http://www.macleans.ca/economy/economicanalysis/why-a-15-minimum-wage-is-good-for-business/,\n",
      "      http://bit.ly/2D9jaga,\n",
      "      https://buff.ly/2Dpi9Ra,\n",
      "      http://thehill.com/policy/transportation/366621-five-obstacles-to-trumps-infrastructure-ambitions,\n",
      "      http://bbc.in/2DCRxw6,\n",
      "      https://buff.ly/2lPiiF7,\n",
      "      https://www.tennessean.com/story/news/2018/01/04/mayor-barrys-transit-plan-balloons-9-b-nearly-double-construction-price-tag-when-totaling-other-cost/1004229001/,\n",
      "      https://www.theatlantic.com/business/archive/2017/12/suburban-poverty-and-recession/549350/?utm_source=Sightline%20Institute&utm_medium=web-email&utm_campaign=Sightline%20News%20Selections,\n",
      "      ...,\n",
      "      http://abcn.ws/2Dwr16b,\n",
      "      http://walkacrosstexas.tamu.edu/developing-good-balance-core-successful-exercise/,\n",
      "      https://lnkd.in/guj8abY,\n",
      "      http://bit.ly/2lQR2pJ,\n",
      "      http://bit.ly/2CRVdNi,\n",
      "      https://pitchfork.com/news/cassette-sales-rose-35-in-2017/,\n",
      "      http://www.startribune.com/renovation-of-the-minnesota-state-capitol/436316953/,\n",
      "      https://thephoenixremix.wordpress.com/2018/01/10/comedy-clicks-gimme-gimme-gimme/,\n",
      "      http://science.sciencemag.org/content/359/6372/237,\n",
      "      http://ow.ly/ioBD30hrTP6\n",
      "    ]\n",
      "  ]\n",
      "}\n"
     ]
    }
   ],
   "source": [
    "bp(rankings, logger, 4)"
   ]
  },
  {
   "cell_type": "code",
   "execution_count": 48,
   "metadata": {},
   "outputs": [
    {
     "name": "stderr",
     "output_type": "stream",
     "text": [
      "--> tic: 2h 31m 6.239s | message: Rankings done\n"
     ]
    },
    {
     "data": {
      "text/plain": [
       "9066.24"
      ]
     },
     "execution_count": 48,
     "metadata": {},
     "output_type": "execute_result"
    }
   ],
   "source": [
    "tt.tic(\"Rankings done\")"
   ]
  },
  {
   "cell_type": "code",
   "execution_count": null,
   "metadata": {},
   "outputs": [],
   "source": []
  },
  {
   "cell_type": "code",
   "execution_count": null,
   "metadata": {},
   "outputs": [],
   "source": []
  },
  {
   "cell_type": "markdown",
   "metadata": {},
   "source": [
    "# Adding rankings to the db"
   ]
  },
  {
   "cell_type": "code",
   "execution_count": 49,
   "metadata": {},
   "outputs": [],
   "source": [
    "# Read the doc!\n",
    "addRanking(modelName, rankings, config, logger=logger)"
   ]
  },
  {
   "cell_type": "code",
   "execution_count": 50,
   "metadata": {},
   "outputs": [
    {
     "name": "stderr",
     "output_type": "stream",
     "text": [
      "--> tic: 1.89s | message: Rankings stored\n"
     ]
    },
    {
     "data": {
      "text/plain": [
       "1.89"
      ]
     },
     "execution_count": 50,
     "metadata": {},
     "output_type": "execute_result"
    }
   ],
   "source": [
    "tt.tic(\"Rankings stored\")"
   ]
  },
  {
   "cell_type": "code",
   "execution_count": 51,
   "metadata": {},
   "outputs": [
    {
     "name": "stderr",
     "output_type": "stream",
     "text": [
      "--> toc total duration: 2h 32m 22.079s\n"
     ]
    }
   ],
   "source": [
    "totalDuration = tt.toc()"
   ]
  },
  {
   "cell_type": "code",
   "execution_count": 52,
   "metadata": {},
   "outputs": [],
   "source": [
    "notif(modelName + '-' + objectToHash(config)[:5] + \" done in \" + secondsToHumanReadableDuration(totalDuration) + \" on \" + getHostname())"
   ]
  },
  {
   "cell_type": "code",
   "execution_count": null,
   "metadata": {},
   "outputs": [],
   "source": []
  },
  {
   "cell_type": "code",
   "execution_count": null,
   "metadata": {},
   "outputs": [],
   "source": []
  }
 ],
 "metadata": {
  "kernelspec": {
   "display_name": "Python 3",
   "language": "python",
   "name": "python3"
  },
  "language_info": {
   "codemirror_mode": {
    "name": "ipython",
    "version": 3
   },
   "file_extension": ".py",
   "mimetype": "text/x-python",
   "name": "python",
   "nbconvert_exporter": "python",
   "pygments_lexer": "ipython3",
   "version": "3.6.6"
  }
 },
 "nbformat": 4,
 "nbformat_minor": 4
}
