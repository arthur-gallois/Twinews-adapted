{
 "cells": [
  {
   "cell_type": "markdown",
   "metadata": {},
   "source": [
    "# Commands"
   ]
  },
  {
   "cell_type": "code",
   "execution_count": null,
   "metadata": {},
   "outputs": [],
   "source": []
  },
  {
   "cell_type": "code",
   "execution_count": null,
   "metadata": {},
   "outputs": [],
   "source": []
  },
  {
   "cell_type": "code",
   "execution_count": null,
   "metadata": {},
   "outputs": [],
   "source": []
  },
  {
   "cell_type": "markdown",
   "metadata": {},
   "source": [
    "# Init"
   ]
  },
  {
   "cell_type": "code",
   "execution_count": 1,
   "metadata": {},
   "outputs": [],
   "source": [
    "isNotebook = '__file__' not in locals()"
   ]
  },
  {
   "cell_type": "code",
   "execution_count": 23,
   "metadata": {},
   "outputs": [],
   "source": [
    "TEST = isNotebook"
   ]
  },
  {
   "cell_type": "code",
   "execution_count": 2,
   "metadata": {},
   "outputs": [],
   "source": [
    "from systemtools.hayj import *\n",
    "from systemtools.location import *\n",
    "from systemtools.basics import *\n",
    "from systemtools.file import *\n",
    "from systemtools.printer import *\n",
    "from databasetools.mongo import *\n",
    "from newstools.goodarticle.utils import *\n",
    "from nlptools.preprocessing import *\n",
    "from nlptools.news import parser as newsParser\n",
    "from machinelearning.iterator import *\n",
    "from twinews.utils import *"
   ]
  },
  {
   "cell_type": "code",
   "execution_count": 3,
   "metadata": {},
   "outputs": [
    {
     "name": "stderr",
     "output_type": "stream",
     "text": [
      "--> tictoc starts...\n"
     ]
    },
    {
     "data": {
      "text/plain": [
       "-1"
      ]
     },
     "execution_count": 3,
     "metadata": {},
     "output_type": "execute_result"
    }
   ],
   "source": [
    "logger = Logger(tmpDir('logs') + \"/lda.log\") if isNotebook else Logger(\"lda.log\")\n",
    "tt = TicToc(logger=logger)\n",
    "tt.tic()"
   ]
  },
  {
   "cell_type": "code",
   "execution_count": 4,
   "metadata": {},
   "outputs": [
    {
     "name": "stderr",
     "output_type": "stream",
     "text": [
      "Unable to create index url in twinews news\n",
      "twinews news (version 1.0) initialised.\n",
      "Unable to create index user_id in twinews users\n",
      "twinews users (version 1.0) initialised.\n"
     ]
    }
   ],
   "source": [
    "newsCollection = getNewsCollection(logger=logger)\n",
    "usersCollection = getUsersCollection(logger=logger)"
   ]
  },
  {
   "cell_type": "code",
   "execution_count": 141,
   "metadata": {},
   "outputs": [],
   "source": [
    "evalData = getEvalData(1)"
   ]
  },
  {
   "cell_type": "code",
   "execution_count": 8,
   "metadata": {},
   "outputs": [
    {
     "name": "stderr",
     "output_type": "stream",
     "text": [
      "{ candidates, created, ranksLength, stats, testNews, testUsers, trainNews, trainUsers }\n",
      "{ testMaxNewsPerUser: 164, testMeanNewsPerUser: 10.67, testMinNewsPerUser: 2, testNewsCount: 138785, totalNewsAvailable: 570210, trainMaxNewsPerUser: 443, trainMeanNewsPerUser: 28.0, trainMinNewsPerUser: 8, trainNewsCount: 356150, usersCount: 21239 }\n"
     ]
    }
   ],
   "source": [
    "bp(evalData.keys(), 5, logger)\n",
    "log(b(evalData['stats']), logger)"
   ]
  },
  {
   "cell_type": "code",
   "execution_count": null,
   "metadata": {},
   "outputs": [],
   "source": []
  },
  {
   "cell_type": "code",
   "execution_count": null,
   "metadata": {},
   "outputs": [],
   "source": []
  },
  {
   "cell_type": "markdown",
   "metadata": {},
   "source": [
    "# Sub-sampling of users and news"
   ]
  },
  {
   "cell_type": "code",
   "execution_count": 131,
   "metadata": {},
   "outputs": [],
   "source": [
    "def subsampleTwinews(evalData, maxUsers=100):\n",
    "    # Getting a sub-sample of user ids:\n",
    "    userIds = random.sample(list(evalData['testUsers'].keys()), usersCount)\n",
    "    # Sub-sampling users:\n",
    "    trainUsers = dictSelect(evalData['trainUsers'], userIds)\n",
    "    testUsers = dictSelect(evalData['testUsers'], userIds)\n",
    "    # Sub-sampling candidates:\n",
    "    candidates = dictSelect(evalData['candidates'], userIds)\n",
    "    for userId in candidates:\n",
    "        cNews = set(candidates[userId][0])\n",
    "        print(len(cNews))\n",
    "        trNews = set(trainUsers[userId].keys())\n",
    "        print(len(trNews))\n",
    "        teNews = set(testUsers[userId].keys())\n",
    "        for n in teNews:\n",
    "            if n not in cNews:\n",
    "                print(n)\n",
    "        print(len(teNews))\n",
    "        \n",
    "        print()\n",
    "    # Getting urls:\n",
    "    urls = set()\n",
    "    for users in (trainUsers, testUsers):\n",
    "        for userId, news in users.items():\n",
    "            for n in news.keys():\n",
    "                urls.add(n)\n",
    "    for userId, bulks in candidates.items():\n",
    "        for news in bulks:\n",
    "            for n in news:\n",
    "                urls.add(n)\n",
    "    print(len(urls))\n",
    "    # Sub-sampling news:\n",
    "    trainNews = set([n for n in evalData['trainNews'] if n in urls])\n",
    "    testNews = set([n for n in evalData['testNews'] if n in urls])\n",
    "    # We return all sub samples:\n",
    "    return (trainUsers, testUsers, trainNews, testNews, candidates)"
   ]
  },
  {
   "cell_type": "code",
   "execution_count": 132,
   "metadata": {},
   "outputs": [
    {
     "name": "stdout",
     "output_type": "stream",
     "text": [
      "1000\n",
      "8\n",
      "4\n",
      "\n",
      "1000\n",
      "32\n",
      "11\n",
      "\n",
      "2032\n"
     ]
    }
   ],
   "source": [
    "if TEST:\n",
    "    usersCount = 2\n",
    "    (trainUsers, testUsers, trainNews, testNews, candidates) = subsampleTwinews(evalData, maxUsers=100)\n",
    "else:\n",
    "    (trainUsers, testUsers, trainNews, testNews, candidates) = \\\n",
    "    (evalData['trainUsers'], evalData['testUsers'], evalData['trainNews'],\n",
    "     evalData['testNews'], evalData['candidates'])"
   ]
  },
  {
   "cell_type": "code",
   "execution_count": 145,
   "metadata": {},
   "outputs": [
    {
     "name": "stdout",
     "output_type": "stream",
     "text": [
      "821524\n"
     ]
    }
   ],
   "source": [
    "nbNews = 0\n",
    "for users in (trainUsers, testUsers):\n",
    "    for userId, news in users.items():\n",
    "        nbNews += len(news)\n",
    "print(nbNews)"
   ]
  },
  {
   "cell_type": "code",
   "execution_count": 147,
   "metadata": {},
   "outputs": [
    {
     "name": "stdout",
     "output_type": "stream",
     "text": [
      "450310\n"
     ]
    }
   ],
   "source": [
    "newsSet = set()\n",
    "for users in (trainUsers, testUsers):\n",
    "    for userId, news in users.items():\n",
    "        for n in news:\n",
    "            newsSet.add(n)\n",
    "print(len(newsSet))"
   ]
  },
  {
   "cell_type": "code",
   "execution_count": 148,
   "metadata": {},
   "outputs": [
    {
     "data": {
      "text/plain": [
       "494935"
      ]
     },
     "execution_count": 148,
     "metadata": {},
     "output_type": "execute_result"
    }
   ],
   "source": [
    "len(trainNews) + len(testNews)"
   ]
  },
  {
   "cell_type": "code",
   "execution_count": 149,
   "metadata": {},
   "outputs": [
    {
     "data": {
      "text/plain": [
       "494935"
      ]
     },
     "execution_count": 149,
     "metadata": {},
     "output_type": "execute_result"
    }
   ],
   "source": [
    "len(trainNews.union(testNews))"
   ]
  },
  {
   "cell_type": "code",
   "execution_count": 137,
   "metadata": {},
   "outputs": [
    {
     "name": "stdout",
     "output_type": "stream",
     "text": [
      "1992\n"
     ]
    }
   ],
   "source": [
    "newsSet = set()\n",
    "for userId, news in candidates.items():\n",
    "    news = news[0]\n",
    "    for n in news:\n",
    "        newsSet.add(n)\n",
    "print(len(newsSet))"
   ]
  },
  {
   "cell_type": "code",
   "execution_count": 138,
   "metadata": {},
   "outputs": [
    {
     "name": "stdout",
     "output_type": "stream",
     "text": [
      "2000\n"
     ]
    }
   ],
   "source": [
    "newsCount = 0\n",
    "for userId, news in candidates.items():\n",
    "    news = news[0]\n",
    "    for n in news:\n",
    "        newsCount += 1\n",
    "print(newsCount)"
   ]
  },
  {
   "cell_type": "code",
   "execution_count": 139,
   "metadata": {},
   "outputs": [
    {
     "name": "stdout",
     "output_type": "stream",
     "text": [
      "40\n"
     ]
    }
   ],
   "source": [
    "newsSet = set()\n",
    "for users in (trainUsers,):\n",
    "    for userId, news in users.items():\n",
    "        for n in news:\n",
    "            newsSet.add(n)\n",
    "print(len(newsSet))"
   ]
  },
  {
   "cell_type": "code",
   "execution_count": 140,
   "metadata": {},
   "outputs": [
    {
     "data": {
      "text/plain": [
       "2040"
      ]
     },
     "execution_count": 140,
     "metadata": {},
     "output_type": "execute_result"
    }
   ],
   "source": [
    "newsCount + len(newsSet)"
   ]
  },
  {
   "cell_type": "code",
   "execution_count": null,
   "metadata": {},
   "outputs": [],
   "source": []
  },
  {
   "cell_type": "code",
   "execution_count": null,
   "metadata": {},
   "outputs": [],
   "source": []
  },
  {
   "cell_type": "code",
   "execution_count": null,
   "metadata": {},
   "outputs": [],
   "source": []
  },
  {
   "cell_type": "code",
   "execution_count": null,
   "metadata": {},
   "outputs": [],
   "source": []
  },
  {
   "cell_type": "code",
   "execution_count": null,
   "metadata": {},
   "outputs": [],
   "source": []
  },
  {
   "cell_type": "code",
   "execution_count": null,
   "metadata": {},
   "outputs": [],
   "source": []
  },
  {
   "cell_type": "code",
   "execution_count": null,
   "metadata": {},
   "outputs": [],
   "source": []
  },
  {
   "cell_type": "code",
   "execution_count": 142,
   "metadata": {},
   "outputs": [],
   "source": [
    "(trainUsers, testUsers, trainNews, testNews, candidates) = \\\n",
    "    (evalData['trainUsers'], evalData['testUsers'], evalData['trainNews'],\n",
    "     evalData['testNews'], evalData['candidates'])"
   ]
  },
  {
   "cell_type": "code",
   "execution_count": 143,
   "metadata": {},
   "outputs": [
    {
     "name": "stdout",
     "output_type": "stream",
     "text": [
      "138785\n"
     ]
    }
   ],
   "source": [
    "candidatesUrls = set()\n",
    "for userId, news in candidates.items():\n",
    "    for n in news[0]:\n",
    "        candidatesUrls.add(n)\n",
    "print(len(candidatesUrls))"
   ]
  },
  {
   "cell_type": "code",
   "execution_count": 144,
   "metadata": {},
   "outputs": [
    {
     "name": "stdout",
     "output_type": "stream",
     "text": [
      "138785\n"
     ]
    }
   ],
   "source": [
    "print(len(testNews))"
   ]
  },
  {
   "cell_type": "code",
   "execution_count": null,
   "metadata": {},
   "outputs": [],
   "source": []
  },
  {
   "cell_type": "code",
   "execution_count": null,
   "metadata": {},
   "outputs": [],
   "source": []
  },
  {
   "cell_type": "code",
   "execution_count": null,
   "metadata": {},
   "outputs": [],
   "source": []
  },
  {
   "cell_type": "code",
   "execution_count": null,
   "metadata": {},
   "outputs": [],
   "source": []
  },
  {
   "cell_type": "code",
   "execution_count": null,
   "metadata": {},
   "outputs": [],
   "source": []
  },
  {
   "cell_type": "code",
   "execution_count": null,
   "metadata": {},
   "outputs": [],
   "source": []
  },
  {
   "cell_type": "code",
   "execution_count": null,
   "metadata": {},
   "outputs": [],
   "source": []
  },
  {
   "cell_type": "code",
   "execution_count": 41,
   "metadata": {},
   "outputs": [
    {
     "ename": "KeyError",
     "evalue": "'162158138'",
     "output_type": "error",
     "traceback": [
      "\u001b[0;31m---------------------------------------------------------------------------\u001b[0m",
      "\u001b[0;31mKeyError\u001b[0m                                  Traceback (most recent call last)",
      "\u001b[0;32m<ipython-input-41-d26129807aba>\u001b[0m in \u001b[0;36m<module>\u001b[0;34m\u001b[0m\n\u001b[0;32m----> 1\u001b[0;31m \u001b[0mlen\u001b[0m\u001b[0;34m(\u001b[0m\u001b[0mtrainUsers\u001b[0m\u001b[0;34m[\u001b[0m\u001b[0;34m'162158138'\u001b[0m\u001b[0;34m]\u001b[0m\u001b[0;34m)\u001b[0m \u001b[0;34m+\u001b[0m \u001b[0mlen\u001b[0m\u001b[0;34m(\u001b[0m\u001b[0mtrainUsers\u001b[0m\u001b[0;34m[\u001b[0m\u001b[0;34m'2966358699'\u001b[0m\u001b[0;34m]\u001b[0m\u001b[0;34m)\u001b[0m \u001b[0;34m+\u001b[0m \u001b[0mlen\u001b[0m\u001b[0;34m(\u001b[0m\u001b[0mtestUsers\u001b[0m\u001b[0;34m[\u001b[0m\u001b[0;34m'2966358699'\u001b[0m\u001b[0;34m]\u001b[0m\u001b[0;34m)\u001b[0m \u001b[0;34m+\u001b[0m \u001b[0mlen\u001b[0m\u001b[0;34m(\u001b[0m\u001b[0mtestUsers\u001b[0m\u001b[0;34m[\u001b[0m\u001b[0;34m'2966358699'\u001b[0m\u001b[0;34m]\u001b[0m\u001b[0;34m)\u001b[0m\u001b[0;34m\u001b[0m\u001b[0;34m\u001b[0m\u001b[0m\n\u001b[0m",
      "\u001b[0;31mKeyError\u001b[0m: '162158138'"
     ]
    }
   ],
   "source": [
    "len(trainUsers[trainUsers.keys()]) + len(trainUsers['2966358699']) + len(testUsers['2966358699']) + len(testUsers['2966358699'])"
   ]
  },
  {
   "cell_type": "code",
   "execution_count": 38,
   "metadata": {},
   "outputs": [
    {
     "data": {
      "text/plain": [
       "2025"
      ]
     },
     "execution_count": 38,
     "metadata": {},
     "output_type": "execute_result"
    }
   ],
   "source": []
  },
  {
   "cell_type": "code",
   "execution_count": 34,
   "metadata": {},
   "outputs": [
    {
     "name": "stdout",
     "output_type": "stream",
     "text": [
      "{\n",
      "  162158138: \n",
      "  {\n",
      "    http://fb.me/2Ka6jIF6p: 1510704050,\n",
      "    http://fb.me/2pLvGDQPy: 1512325824,\n",
      "    http://ow.ly/4MYb30gHGLZ: 1511373654,\n",
      "    http://ow.ly/AfoW30gJvdN: 1511305225,\n",
      "    http://ow.ly/BSrf30hdj14: 1513215129,\n",
      "    ...,\n",
      "    http://ow.ly/vklJ30gA8XA: 1510698003,\n",
      "    http://ow.ly/wNPE30gSBcH: 1511910696,\n",
      "    http://ow.ly/yigL30h5tai: 1512688194,\n",
      "    http://wapo.st/2zKew8G?tid=ss_tw-bottom&utm_term=.cbd1e89762fa: 1511217021,\n",
      "    http://www.news.ucsb.edu/2017/018475/resisting-alien-invasions: 1509831017\n",
      "  },\n",
      "  2966358699: \n",
      "  {\n",
      "    http://fb.me/1s4upTuaY: 1512141917,\n",
      "    http://ow.ly/3uR330gkuaB: 1509713413,\n",
      "    http://ow.ly/T3bS30gcDov: 1509278950,\n",
      "    http://wane.com/2017/11/11/scott-sycamore-spoil-archie-millers-iu-debut/: 1510378613,\n",
      "    http://wane.com/2017/12/18/12-18-wendys-play-of-the-week/: 1513660995,\n",
      "    http://www.news-sentinel.com/news/local-news/2017/11/07/fort-wayne-community-schools-showcase-offers-chance-to-learn-more-about-school-options/: 1510066767,\n",
      "    http://www.news-sentinel.com/sports/2017/11/13/boys-prep-hoops-preview-8-players-you-should-know/: 1510594895,\n",
      "    http://www.news-sentinel.com/sports/2017/11/27/prep-hoops-notebook-balanced-northrop-girls-off-to-perfect-start-lots-of-road-trips-in-store-for-snider/: 1511787753,\n",
      "    http://www.news-sentinel.com/sports/2017/12/16/shooter-northrop-south-side-have-helped-change-girls-basketball-landscape-in-fort-wayne-area/: 1513435462\n",
      "  }\n",
      "}\n"
     ]
    }
   ],
   "source": [
    "bp(trainUsers)"
   ]
  },
  {
   "cell_type": "code",
   "execution_count": 26,
   "metadata": {},
   "outputs": [
    {
     "name": "stdout",
     "output_type": "stream",
     "text": [
      "{\n",
      "  24292383: \n",
      "  {\n",
      "    http://www.montrosepress.com/breaking_news/multiple-willful-violations/article_74375056-113f-11e8-9ad0-1bfdf00eb817.html#utm_campaign%3Dblox%26utm_source%3Dtwitter%26utm_medium%3Dsocial: 1518582686,\n",
      "    http://www.montrosepress.com/breaking_news/police-standoff-in-progress/article_633623d8-03c3-11e8-9d85-13ee877ab253.html#utm_campaign%3Dblox%26utm_source%3Dtwitter%26utm_medium%3Dsocial: 1517100372,\n",
      "    http://www.montrosepress.com/free_access/black-canyon-open-during-shutdown/article_ac571210-ff9b-11e7-b96d-ab35f0790d00.html#utm_campaign%3Dblox%26utm_source%3Dtwitter%26utm_medium%3Dsocial: 1516643372,\n",
      "    http://www.montrosepress.com/free_access/coroner-traumatic-injury-hemorrhage-claimed-olathe-man/article_964e6a54-1274-11e8-ab42-ab610d4c2fb6.html#utm_campaign%3Dblox%26utm_source%3Dtwitter%26utm_medium%3Dsocial: 1518715604,\n",
      "    http://www.montrosepress.com/free_access/funeral-home-director-disputes-report/article_e15e5a46-fbee-11e7-9331-7f11f1c1c3af.html#utm_campaign%3Dblox%26utm_source%3Dtwitter%26utm_medium%3Dsocial: 1516239425,\n",
      "    ...,\n",
      "    http://www.montrosepress.com/news/police-commander-questions-montrose-s-ranking-on-website-s-safest/article_bb963cf2-03b9-11e8-a559-0b4d5a5d4867.html#utm_campaign%3Dblox%26utm_source%3Dtwitter%26utm_medium%3Dsocial: 1517246253,\n",
      "    http://www.montrosepress.com/news/strong-hearted/article_22829a70-114b-11e8-b941-e7122c0d820b.html#utm_campaign%3Dblox%26utm_source%3Dtwitter%26utm_medium%3Dsocial: 1518625773,\n",
      "    http://www.montrosepress.com/sports/indians-nab-th-straight-win/article_ca157c1c-fb4d-11e7-92fb-97eacee4de79.html#utm_campaign%3Dblox%26utm_source%3Dtwitter%26utm_medium%3Dsocial: 1516217928,\n",
      "    http://www.montrosepress.com/sports/montrose-high-njrotc-team-wins-state-drill-meet-third-year/article_fc53630a-064d-11e8-ba82-e306ab1410f7.html#utm_campaign%3Dblox%26utm_source%3Dtwitter%26utm_medium%3Dsocial: 1517440166,\n",
      "    http://www.montrosepress.com/sports/on-a-mission/article_b048304c-11fd-11e8-b069-8ff59693d926.html#utm_campaign%3Dblox%26utm_source%3Dtwitter%26utm_medium%3Dsocial: 1518722682\n",
      "  },\n",
      "  44493998: \n",
      "  {\n",
      "    http://abcn.ws/2Dpj1IT: 1516314846,\n",
      "    http://bit.ly/2FVZWeU: 1516391964,\n",
      "    http://bit.ly/2rU9aVT: 1517457722,\n",
      "    http://cnn.it/2BiE1Lq: 1516598004,\n",
      "    http://cnn.it/2DHyCU2: 1517022496,\n",
      "    ...,\n",
      "    https://tinyurl.com/y95pkwj9: 1518220896,\n",
      "    https://www.theverge.com/2018/1/24/16930154/nasa-international-space-station-president-trump-budget-request-2025?utm_campaign=lorengrush&utm_content=chorus&utm_medium=social&utm_source=twitter: 1517058900,\n",
      "    https://www.washingtonpost.com/opinions/eric-holder-americans-must-stand-with-the-dreamers/2017/09/06/14ef3642-9285-11e7-aace-04b862b2b3f3_story.html?utm_term=.088f9e47850b: 1516336606,\n",
      "    https://www.washingtonpost.com/sports/olympics/usa-gymnastics-allowed-larry-nassar-to-prey-upon-innocent-victims-congress-must-investigate/2018/01/24/0ff7a7c4-0129-11e8-8acf-ad2991367d9d_story.html: 1516835513,\n",
      "    https://www.washingtonpost.com/world/national-security/tensions-between-sessions-and-fbi-over-senior-personnel-from-comey-era/2018/01/22/c95fc2bc-ffeb-11e7-8acf-ad2991367d9d_story.html: 1516750405\n",
      "  }\n",
      "}\n"
     ]
    }
   ],
   "source": [
    "bp(testUsers)"
   ]
  },
  {
   "cell_type": "code",
   "execution_count": 27,
   "metadata": {},
   "outputs": [
    {
     "name": "stdout",
     "output_type": "stream",
     "text": [
      "{\n",
      "  http://bit.ly/2BPeUBR,\n",
      "  http://cnn.it/2EAh08W,\n",
      "  ...,\n",
      "  https://www.washingtonpost.com/news/wonk/wp/2017/12/01/gop-eyes-post-tax-cut-changes-to-welfare-medi,\n",
      "  https://www.washingtonpost.com/politics/trump-attacks-protections-for-immigrants-from-shithole-count\n",
      "}\n"
     ]
    }
   ],
   "source": [
    "bp(trainNews)"
   ]
  },
  {
   "cell_type": "code",
   "execution_count": 29,
   "metadata": {},
   "outputs": [
    {
     "name": "stdout",
     "output_type": "stream",
     "text": [
      "{\n",
      "  24292383: \n",
      "  [\n",
      "    {\n",
      "      http://a.msn.com/00/en-us/BBITBYi?ocid=st,\n",
      "      http://a.msn.com/01/en-ca/BBJ2t9t?ocid=st,\n",
      "      ...,\n",
      "      https://www.yahoo.com/amphtml/sports/rockets-clippers-turned-monday-night-raw-fight-nearly-spilled-l,\n",
      "      https://www.zerohedge.com/news/2018-02-13/commodity-traders-blame-data-overload-rash-fund-closures\n",
      "    }\n",
      "  ],\n",
      "  44493998: \n",
      "  [\n",
      "    {\n",
      "      http://a.msn.com/0C/en-us/BBIEr1f?ocid=st,\n",
      "      http://abcn.ws/2CdWoSk,\n",
      "      ...,\n",
      "      https://www.wthr.com/article/freezing-rain-sleet-and-snow-create-slick-road-conditions,\n",
      "      https://www.zerohedge.com/news/2018-02-08/inflation-alert-velocity-money-has-finally-bottomed\n",
      "    }\n",
      "  ]\n",
      "}\n"
     ]
    }
   ],
   "source": [
    "bp(candidates)"
   ]
  },
  {
   "cell_type": "code",
   "execution_count": null,
   "metadata": {},
   "outputs": [],
   "source": []
  },
  {
   "cell_type": "code",
   "execution_count": null,
   "metadata": {},
   "outputs": [],
   "source": []
  },
  {
   "cell_type": "code",
   "execution_count": null,
   "metadata": {},
   "outputs": [],
   "source": []
  },
  {
   "cell_type": "code",
   "execution_count": null,
   "metadata": {},
   "outputs": [],
   "source": []
  },
  {
   "cell_type": "code",
   "execution_count": null,
   "metadata": {},
   "outputs": [],
   "source": []
  }
 ],
 "metadata": {
  "kernelspec": {
   "display_name": "Python 3",
   "language": "python",
   "name": "python3"
  },
  "language_info": {
   "codemirror_mode": {
    "name": "ipython",
    "version": 3
   },
   "file_extension": ".py",
   "mimetype": "text/x-python",
   "name": "python",
   "nbconvert_exporter": "python",
   "pygments_lexer": "ipython3",
   "version": "3.6.10"
  }
 },
 "nbformat": 4,
 "nbformat_minor": 4
}
