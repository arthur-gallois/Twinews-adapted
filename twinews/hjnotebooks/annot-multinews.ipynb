{
 "cells": [
  {
   "cell_type": "code",
   "execution_count": null,
   "metadata": {},
   "outputs": [],
   "source": [
    "# cd ~/twinews-logs ; jupython --no-nn --venv st-venv ~/notebooks/twinews/annot-multinews.ipynb"
   ]
  },
  {
   "cell_type": "code",
   "execution_count": null,
   "metadata": {},
   "outputs": [],
   "source": [
    "isNotebook = '__file__' not in locals()"
   ]
  },
  {
   "cell_type": "code",
   "execution_count": null,
   "metadata": {},
   "outputs": [],
   "source": [
    "from annotator.annot import *\n",
    "from systemtools.location import *\n",
    "from systemtools.hayj import *\n",
    "from systemtools.basics import *\n",
    "from systemtools.file import *\n",
    "from systemtools.printer import *\n",
    "from databasetools.mongo import *\n",
    "from newstools.goodarticle.utils import *\n",
    "from nlptools.preprocessing import *\n",
    "from nlptools.news import parser as newsParser\n",
    "from machinelearning.iterator import *"
   ]
  },
  {
   "cell_type": "code",
   "execution_count": null,
   "metadata": {},
   "outputs": [],
   "source": [
    "import sys ; sys.path.append(homeDir() + '/Workspace/Python/Datasets/Twinews')\n",
    "from twinews.utils import *"
   ]
  },
  {
   "cell_type": "code",
   "execution_count": null,
   "metadata": {},
   "outputs": [],
   "source": [
    "logger = Logger(tmpDir('logs') + \"/annot-multinews.log\") if isNotebook else Logger(\"annot-multinews.log\")"
   ]
  },
  {
   "cell_type": "code",
   "execution_count": null,
   "metadata": {},
   "outputs": [],
   "source": [
    "(hjuser, hjpass, hjhost) = getMongoAuth(user='hayj')"
   ]
  },
  {
   "cell_type": "code",
   "execution_count": null,
   "metadata": {},
   "outputs": [],
   "source": [
    "newsCollection = getNewsCollection(logger=logger, user=hjuser, password=hjpass, host=hjhost)\n",
    "usersCollection = getUsersCollection(logger=logger, user=hjuser, password=hjpass, host=hjhost)"
   ]
  },
  {
   "cell_type": "code",
   "execution_count": null,
   "metadata": {},
   "outputs": [],
   "source": [
    "def dataGenerator():\n",
    "    for interMin, interMax in [(300, 10000000), (30, 299), (10, 29), (3, 9), (2, 2)]:\n",
    "        for _id, row in newsCollection.items():\n",
    "            if dictContains(row, 'users') and len(row['users']) >= interMin and len(row['users']) <= interMax:\n",
    "                yield {\"id\": row['url'], \"content\": {\"title\": \"(\" + str(len(row['users'])) + \") \" + row['title'], \"text\": row['text']}}"
   ]
  },
  {
   "cell_type": "code",
   "execution_count": null,
   "metadata": {},
   "outputs": [],
   "source": [
    "if False:\n",
    "    def dataGenerator():\n",
    "        for _id, row in newsCollection.items():\n",
    "            yield {\"id\": row['url'], \"content\": {\"title\": row['title'], \"text\": row['text']}}"
   ]
  },
  {
   "cell_type": "code",
   "execution_count": null,
   "metadata": {},
   "outputs": [],
   "source": [
    "labels = \\\n",
    "{\n",
    "    \"valid\": {\"title\": \"The document is valid\", \"type\": LABEL_TYPE.checkbutton, \"default\": True},\n",
    "}"
   ]
  },
  {
   "cell_type": "code",
   "execution_count": null,
   "metadata": {},
   "outputs": [],
   "source": [
    "an = Annotator(\"valid-news\", labels, useMongodb=True, user=hjuser, password=hjpass, host=hjhost, logger=logger)"
   ]
  },
  {
   "cell_type": "code",
   "execution_count": null,
   "metadata": {},
   "outputs": [],
   "source": [
    "if not isNotebook:\n",
    "    an.start(dataGenerator())"
   ]
  },
  {
   "cell_type": "code",
   "execution_count": null,
   "metadata": {},
   "outputs": [],
   "source": [
    "if isNotebook:\n",
    "    urlsToDelete = set()\n",
    "    for url, values in an.data.items():\n",
    "        if not values['valid']:\n",
    "            urlsToDelete.add(url)\n",
    "    bp(urlsToDelete, logger)\n",
    "    log(len(urlsToDelete), logger)"
   ]
  },
  {
   "cell_type": "code",
   "execution_count": null,
   "metadata": {},
   "outputs": [],
   "source": [
    "if isNotebook:\n",
    "    for url in urlsToDelete:\n",
    "        news = newsCollection.findOne({'url': url})\n",
    "        users = news['users']\n",
    "        for user in users:\n",
    "            userData = usersCollection.findOne({'user_id': user})\n",
    "            ns = userData['news']\n",
    "            ts = userData['timestamps']\n",
    "            newNs = []\n",
    "            newTs = []\n",
    "            for i in range(len(ns)):\n",
    "                n = ns[i]\n",
    "                t = ts[i]\n",
    "                if n != url:\n",
    "                    newNs.append(n)\n",
    "                    newTs.append(t)\n",
    "            assert len(newNs) < len(ns)\n",
    "            assert len(newNs) == len(newTs)\n",
    "            assert len(ns) == len(ts)\n",
    "            if len(newNs) == 0:\n",
    "                logError(\"The user \" + str(user) + \" has no more news.\", logger)\n",
    "            usersCollection.updateOne({'user_id': user}, {'$set': {'news': newNs, 'timestamps': newTs}})"
   ]
  },
  {
   "cell_type": "code",
   "execution_count": null,
   "metadata": {},
   "outputs": [],
   "source": [
    "if isNotebook:\n",
    "    for url in urlsToDelete:\n",
    "        newsCollection.delete({'url': url})"
   ]
  },
  {
   "cell_type": "code",
   "execution_count": null,
   "metadata": {},
   "outputs": [],
   "source": [
    "# Finally we delete user that has 0 news:\n"
   ]
  },
  {
   "cell_type": "code",
   "execution_count": null,
   "metadata": {},
   "outputs": [],
   "source": []
  },
  {
   "cell_type": "code",
   "execution_count": null,
   "metadata": {},
   "outputs": [],
   "source": []
  },
  {
   "cell_type": "code",
   "execution_count": null,
   "metadata": {},
   "outputs": [],
   "source": []
  }
 ],
 "metadata": {
  "kernelspec": {
   "display_name": "Python 3",
   "language": "python",
   "name": "python3"
  },
  "language_info": {
   "codemirror_mode": {
    "name": "ipython",
    "version": 3
   },
   "file_extension": ".py",
   "mimetype": "text/x-python",
   "name": "python",
   "nbconvert_exporter": "python",
   "pygments_lexer": "ipython3",
   "version": "3.6.3"
  }
 },
 "nbformat": 4,
 "nbformat_minor": 4
}
