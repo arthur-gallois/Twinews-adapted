{
 "cells": [
  {
   "cell_type": "code",
   "execution_count": 1,
   "metadata": {},
   "outputs": [],
   "source": [
    "import os ; os.environ[\"CUDA_VISIBLE_DEVICES\"] = \"\""
   ]
  },
  {
   "cell_type": "code",
   "execution_count": 2,
   "metadata": {},
   "outputs": [],
   "source": [
    "isNotebook = '__file__' not in locals()"
   ]
  },
  {
   "cell_type": "code",
   "execution_count": 3,
   "metadata": {},
   "outputs": [],
   "source": [
    "from systemtools.hayj import *\n",
    "from systemtools.location import *\n",
    "from systemtools.basics import *\n",
    "from systemtools.file import *\n",
    "from systemtools.printer import *\n",
    "from databasetools.mongo import *\n",
    "from newstools.goodarticle.utils import *\n",
    "from nlptools.preprocessing import *\n",
    "from nlptools.news import parser as newsParser\n",
    "from machinelearning.iterator import *\n",
    "from twinews.utils import *"
   ]
  },
  {
   "cell_type": "code",
   "execution_count": 4,
   "metadata": {},
   "outputs": [],
   "source": [
    "from nlptools.topicmodeling import *\n",
    "from nltk.stem import WordNetLemmatizer \n",
    "from sklearn.decomposition import NMF, LatentDirichletAllocation\n",
    "from sklearn.feature_extraction.text import TfidfVectorizer, CountVectorizer\n",
    "from gensim.models import LdaMulticore\n",
    "from gensim.test.utils import common_corpus, common_dictionary\n",
    "from sklearn.metrics.pairwise import cosine_similarity, pairwise_distances\n",
    "import gensim\n",
    "from math import log2\n",
    "from math import sqrt\n",
    "from numpy import asarray"
   ]
  },
  {
   "cell_type": "code",
   "execution_count": 19,
   "metadata": {},
   "outputs": [],
   "source": [
    "import pandas as pd\n",
    "from IPython.display import display, HTML"
   ]
  },
  {
   "cell_type": "code",
   "execution_count": 5,
   "metadata": {},
   "outputs": [
    {
     "name": "stderr",
     "output_type": "stream",
     "text": [
      "--> tictoc starts...\n"
     ]
    },
    {
     "data": {
      "text/plain": [
       "-1"
      ]
     },
     "execution_count": 5,
     "metadata": {},
     "output_type": "execute_result"
    }
   ],
   "source": [
    "logger = Logger(tmpDir('logs') + \"/analysis.log\") if isNotebook else Logger(\"analysis.log\")\n",
    "tt = TicToc(logger=logger)\n",
    "tt.tic()"
   ]
  },
  {
   "cell_type": "code",
   "execution_count": 6,
   "metadata": {},
   "outputs": [],
   "source": [
    "twinewsRankings = getTwinewsRankings()"
   ]
  },
  {
   "cell_type": "code",
   "execution_count": 7,
   "metadata": {},
   "outputs": [
    {
     "data": {
      "text/plain": [
       "11"
      ]
     },
     "execution_count": 7,
     "metadata": {},
     "output_type": "execute_result"
    }
   ],
   "source": [
    "len(twinewsRankings)"
   ]
  },
  {
   "cell_type": "code",
   "execution_count": 66,
   "metadata": {},
   "outputs": [],
   "source": [
    "def printResults(model=None, splitVersion=None, filt={}, noSubsampling=True, logger=None):\n",
    "    data = []\n",
    "    if noSubsampling and \"maxUsers\" not in filt:\n",
    "        filt = mergeDicts(filt, {\"maxUsers\": None})\n",
    "    if model is not None and \"model\" not in filt:\n",
    "        filt = mergeDicts(filt, {\"model\": model})\n",
    "    if splitVersion is not None and \"splitVersion\" not in filt:\n",
    "        filt = mergeDicts(filt, {\"splitVersion\": splitVersion})\n",
    "    for key in twinewsRankings.keys():\n",
    "        toKeep = True\n",
    "        meta = twinewsRankings.getMeta(key)\n",
    "        for filtKey in filt:\n",
    "            if filtKey not in meta:\n",
    "                raise Exception(filtKey + \"is not in \" + b(meta, 5))\n",
    "            if filt[filtKey] != meta[filtKey]:\n",
    "                toKeep = False\n",
    "                break\n",
    "        if toKeep:\n",
    "            data.append(meta)\n",
    "    if len(data) == 0:\n",
    "        log(\"No data found\", logger)\n",
    "    else:\n",
    "        try:\n",
    "            refKeys = data[0].keys()\n",
    "            for e in data:\n",
    "                assert e.keys() == refKeys\n",
    "        except:\n",
    "            raise Exception(\"Some data keys doesn't match:\\n\" + b(data, 5))\n",
    "        if len(data) > 1:\n",
    "            keysHavingSameValues = set(data[0].keys())\n",
    "            baseValues = data[0]\n",
    "            for current in data[1:]:\n",
    "                for key in baseValues.keys():\n",
    "                    if key in keysHavingSameValues and baseValues[key] != current[key]:\n",
    "                        keysHavingSameValues.remove(key)\n",
    "            sameValues = dict()\n",
    "            for key in keysHavingSameValues:\n",
    "                sameValues[key] = data[0][key]\n",
    "            log(\"These values are common to all rows:\\n\", logger)\n",
    "            for key, value in sameValues.items():\n",
    "                log(\"\\t- \" + str(key) + \": \" + str(value), logger)\n",
    "            for i in range(len(data)):\n",
    "                for key in keysHavingSameValues:\n",
    "                    del data[i][key]\n",
    "        df = pd.DataFrame(data)\n",
    "        display(df)"
   ]
  },
  {
   "cell_type": "code",
   "execution_count": 68,
   "metadata": {},
   "outputs": [
    {
     "name": "stderr",
     "output_type": "stream",
     "text": [
      "These values are common to all rows:\n",
      "\n",
      "\t- lowercase: True\n",
      "\t- implementation: sklearn-nmf\n",
      "\t- nmfAlpha: 0.1\n",
      "\t- doLemmatization: True\n",
      "\t- maxDF: 300\n",
      "\t- nmfInit: nndsvd\n",
      "\t- model: nmf\n",
      "\t- minDF: 0.0005\n",
      "\t- splitVersion: 2\n",
      "\t- nmfL1Ratio: 0\n",
      "\t- distance: cosine\n",
      "\t- maxUsers: None\n",
      "\t- nbTopics: 30\n",
      "\t- useExtraNews: False\n"
     ]
    },
    {
     "data": {
      "text/html": [
       "<div>\n",
       "<style scoped>\n",
       "    .dataframe tbody tr th:only-of-type {\n",
       "        vertical-align: middle;\n",
       "    }\n",
       "\n",
       "    .dataframe tbody tr th {\n",
       "        vertical-align: top;\n",
       "    }\n",
       "\n",
       "    .dataframe thead th {\n",
       "        text-align: right;\n",
       "    }\n",
       "</style>\n",
       "<table border=\"1\" class=\"dataframe\">\n",
       "  <thead>\n",
       "    <tr style=\"text-align: right;\">\n",
       "      <th></th>\n",
       "      <th>maxDocuments</th>\n",
       "      <th>maxIter</th>\n",
       "      <th>historyRef</th>\n",
       "      <th>id</th>\n",
       "    </tr>\n",
       "  </thead>\n",
       "  <tbody>\n",
       "    <tr>\n",
       "      <th>0</th>\n",
       "      <td>10000</td>\n",
       "      <td>200</td>\n",
       "      <td>0.3</td>\n",
       "      <td>nmf-dea50</td>\n",
       "    </tr>\n",
       "    <tr>\n",
       "      <th>1</th>\n",
       "      <td>1000</td>\n",
       "      <td>100</td>\n",
       "      <td>0.5</td>\n",
       "      <td>nmf-b61b9</td>\n",
       "    </tr>\n",
       "    <tr>\n",
       "      <th>2</th>\n",
       "      <td>1000</td>\n",
       "      <td>200</td>\n",
       "      <td>0.3</td>\n",
       "      <td>nmf-09f9c</td>\n",
       "    </tr>\n",
       "  </tbody>\n",
       "</table>\n",
       "</div>"
      ],
      "text/plain": [
       "   maxDocuments  maxIter  historyRef         id\n",
       "0         10000      200         0.3  nmf-dea50\n",
       "1          1000      100         0.5  nmf-b61b9\n",
       "2          1000      200         0.3  nmf-09f9c"
      ]
     },
     "metadata": {},
     "output_type": "display_data"
    }
   ],
   "source": [
    "printResults\\\n",
    "(\n",
    "    model='nmf',\n",
    "    splitVersion=2,\n",
    "    noSubsampling=True,\n",
    "    filt=\\\n",
    "    {\n",
    "        # \"implementation\": \"gensim-lda\",\n",
    "    },\n",
    "    logger=logger,\n",
    ")"
   ]
  },
  {
   "cell_type": "code",
   "execution_count": null,
   "metadata": {},
   "outputs": [],
   "source": []
  },
  {
   "cell_type": "code",
   "execution_count": null,
   "metadata": {},
   "outputs": [],
   "source": []
  },
  {
   "cell_type": "code",
   "execution_count": null,
   "metadata": {},
   "outputs": [],
   "source": []
  },
  {
   "cell_type": "code",
   "execution_count": null,
   "metadata": {},
   "outputs": [],
   "source": []
  },
  {
   "cell_type": "code",
   "execution_count": null,
   "metadata": {},
   "outputs": [],
   "source": []
  }
 ],
 "metadata": {
  "kernelspec": {
   "display_name": "Python 3",
   "language": "python",
   "name": "python3"
  },
  "language_info": {
   "codemirror_mode": {
    "name": "ipython",
    "version": 3
   },
   "file_extension": ".py",
   "mimetype": "text/x-python",
   "name": "python",
   "nbconvert_exporter": "python",
   "pygments_lexer": "ipython3",
   "version": "3.6.10"
  }
 },
 "nbformat": 4,
 "nbformat_minor": 4
}
