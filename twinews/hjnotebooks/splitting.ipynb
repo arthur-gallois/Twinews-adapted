{
 "cells": [
  {
   "cell_type": "markdown",
   "metadata": {},
   "source": [
    "# Commands"
   ]
  },
  {
   "cell_type": "code",
   "execution_count": null,
   "metadata": {},
   "outputs": [],
   "source": [
    "# rsync -avhuP -e \"ssh -p 2222\" student@212.129.44.40:/data/twinews-splits . # pwd: <company_name>-<computer_science_field_acronym>-<school_acronym>-<company_street_number>"
   ]
  },
  {
   "cell_type": "code",
   "execution_count": null,
   "metadata": {},
   "outputs": [],
   "source": []
  },
  {
   "cell_type": "code",
   "execution_count": null,
   "metadata": {},
   "outputs": [],
   "source": []
  },
  {
   "cell_type": "markdown",
   "metadata": {},
   "source": [
    "# Init"
   ]
  },
  {
   "cell_type": "code",
   "execution_count": 1,
   "metadata": {},
   "outputs": [],
   "source": [
    "isNotebook = '__file__' not in locals()"
   ]
  },
  {
   "cell_type": "code",
   "execution_count": 2,
   "metadata": {},
   "outputs": [],
   "source": [
    "from systemtools.hayj import *\n",
    "from systemtools.location import *\n",
    "from systemtools.basics import *\n",
    "from systemtools.file import *\n",
    "from systemtools.printer import *\n",
    "from databasetools.mongo import *\n",
    "from newstools.goodarticle.utils import *\n",
    "from nlptools.preprocessing import *\n",
    "from nlptools.news import parser as newsParser\n",
    "from machinelearning.iterator import *\n",
    "from twinews.utils import *\n",
    "import pymongo"
   ]
  },
  {
   "cell_type": "code",
   "execution_count": 3,
   "metadata": {},
   "outputs": [
    {
     "data": {
      "text/html": [
       "\n",
       "    <div class=\"bk-root\">\n",
       "        <a href=\"https://bokeh.org\" target=\"_blank\" class=\"bk-logo bk-logo-small bk-logo-notebook\"></a>\n",
       "        <span id=\"1001\">Loading BokehJS ...</span>\n",
       "    </div>"
      ]
     },
     "metadata": {},
     "output_type": "display_data"
    },
    {
     "data": {
      "application/javascript": [
       "\n",
       "(function(root) {\n",
       "  function now() {\n",
       "    return new Date();\n",
       "  }\n",
       "\n",
       "  var force = true;\n",
       "\n",
       "  if (typeof root._bokeh_onload_callbacks === \"undefined\" || force === true) {\n",
       "    root._bokeh_onload_callbacks = [];\n",
       "    root._bokeh_is_loading = undefined;\n",
       "  }\n",
       "\n",
       "  var JS_MIME_TYPE = 'application/javascript';\n",
       "  var HTML_MIME_TYPE = 'text/html';\n",
       "  var EXEC_MIME_TYPE = 'application/vnd.bokehjs_exec.v0+json';\n",
       "  var CLASS_NAME = 'output_bokeh rendered_html';\n",
       "\n",
       "  /**\n",
       "   * Render data to the DOM node\n",
       "   */\n",
       "  function render(props, node) {\n",
       "    var script = document.createElement(\"script\");\n",
       "    node.appendChild(script);\n",
       "  }\n",
       "\n",
       "  /**\n",
       "   * Handle when an output is cleared or removed\n",
       "   */\n",
       "  function handleClearOutput(event, handle) {\n",
       "    var cell = handle.cell;\n",
       "\n",
       "    var id = cell.output_area._bokeh_element_id;\n",
       "    var server_id = cell.output_area._bokeh_server_id;\n",
       "    // Clean up Bokeh references\n",
       "    if (id != null && id in Bokeh.index) {\n",
       "      Bokeh.index[id].model.document.clear();\n",
       "      delete Bokeh.index[id];\n",
       "    }\n",
       "\n",
       "    if (server_id !== undefined) {\n",
       "      // Clean up Bokeh references\n",
       "      var cmd = \"from bokeh.io.state import curstate; print(curstate().uuid_to_server['\" + server_id + \"'].get_sessions()[0].document.roots[0]._id)\";\n",
       "      cell.notebook.kernel.execute(cmd, {\n",
       "        iopub: {\n",
       "          output: function(msg) {\n",
       "            var id = msg.content.text.trim();\n",
       "            if (id in Bokeh.index) {\n",
       "              Bokeh.index[id].model.document.clear();\n",
       "              delete Bokeh.index[id];\n",
       "            }\n",
       "          }\n",
       "        }\n",
       "      });\n",
       "      // Destroy server and session\n",
       "      var cmd = \"import bokeh.io.notebook as ion; ion.destroy_server('\" + server_id + \"')\";\n",
       "      cell.notebook.kernel.execute(cmd);\n",
       "    }\n",
       "  }\n",
       "\n",
       "  /**\n",
       "   * Handle when a new output is added\n",
       "   */\n",
       "  function handleAddOutput(event, handle) {\n",
       "    var output_area = handle.output_area;\n",
       "    var output = handle.output;\n",
       "\n",
       "    // limit handleAddOutput to display_data with EXEC_MIME_TYPE content only\n",
       "    if ((output.output_type != \"display_data\") || (!output.data.hasOwnProperty(EXEC_MIME_TYPE))) {\n",
       "      return\n",
       "    }\n",
       "\n",
       "    var toinsert = output_area.element.find(\".\" + CLASS_NAME.split(' ')[0]);\n",
       "\n",
       "    if (output.metadata[EXEC_MIME_TYPE][\"id\"] !== undefined) {\n",
       "      toinsert[toinsert.length - 1].firstChild.textContent = output.data[JS_MIME_TYPE];\n",
       "      // store reference to embed id on output_area\n",
       "      output_area._bokeh_element_id = output.metadata[EXEC_MIME_TYPE][\"id\"];\n",
       "    }\n",
       "    if (output.metadata[EXEC_MIME_TYPE][\"server_id\"] !== undefined) {\n",
       "      var bk_div = document.createElement(\"div\");\n",
       "      bk_div.innerHTML = output.data[HTML_MIME_TYPE];\n",
       "      var script_attrs = bk_div.children[0].attributes;\n",
       "      for (var i = 0; i < script_attrs.length; i++) {\n",
       "        toinsert[toinsert.length - 1].firstChild.setAttribute(script_attrs[i].name, script_attrs[i].value);\n",
       "        toinsert[toinsert.length - 1].firstChild.textContent = bk_div.children[0].textContent\n",
       "      }\n",
       "      // store reference to server id on output_area\n",
       "      output_area._bokeh_server_id = output.metadata[EXEC_MIME_TYPE][\"server_id\"];\n",
       "    }\n",
       "  }\n",
       "\n",
       "  function register_renderer(events, OutputArea) {\n",
       "\n",
       "    function append_mime(data, metadata, element) {\n",
       "      // create a DOM node to render to\n",
       "      var toinsert = this.create_output_subarea(\n",
       "        metadata,\n",
       "        CLASS_NAME,\n",
       "        EXEC_MIME_TYPE\n",
       "      );\n",
       "      this.keyboard_manager.register_events(toinsert);\n",
       "      // Render to node\n",
       "      var props = {data: data, metadata: metadata[EXEC_MIME_TYPE]};\n",
       "      render(props, toinsert[toinsert.length - 1]);\n",
       "      element.append(toinsert);\n",
       "      return toinsert\n",
       "    }\n",
       "\n",
       "    /* Handle when an output is cleared or removed */\n",
       "    events.on('clear_output.CodeCell', handleClearOutput);\n",
       "    events.on('delete.Cell', handleClearOutput);\n",
       "\n",
       "    /* Handle when a new output is added */\n",
       "    events.on('output_added.OutputArea', handleAddOutput);\n",
       "\n",
       "    /**\n",
       "     * Register the mime type and append_mime function with output_area\n",
       "     */\n",
       "    OutputArea.prototype.register_mime_type(EXEC_MIME_TYPE, append_mime, {\n",
       "      /* Is output safe? */\n",
       "      safe: true,\n",
       "      /* Index of renderer in `output_area.display_order` */\n",
       "      index: 0\n",
       "    });\n",
       "  }\n",
       "\n",
       "  // register the mime type if in Jupyter Notebook environment and previously unregistered\n",
       "  if (root.Jupyter !== undefined) {\n",
       "    var events = require('base/js/events');\n",
       "    var OutputArea = require('notebook/js/outputarea').OutputArea;\n",
       "\n",
       "    if (OutputArea.prototype.mime_types().indexOf(EXEC_MIME_TYPE) == -1) {\n",
       "      register_renderer(events, OutputArea);\n",
       "    }\n",
       "  }\n",
       "\n",
       "  \n",
       "  if (typeof (root._bokeh_timeout) === \"undefined\" || force === true) {\n",
       "    root._bokeh_timeout = Date.now() + 5000;\n",
       "    root._bokeh_failed_load = false;\n",
       "  }\n",
       "\n",
       "  var NB_LOAD_WARNING = {'data': {'text/html':\n",
       "     \"<div style='background-color: #fdd'>\\n\"+\n",
       "     \"<p>\\n\"+\n",
       "     \"BokehJS does not appear to have successfully loaded. If loading BokehJS from CDN, this \\n\"+\n",
       "     \"may be due to a slow or bad network connection. Possible fixes:\\n\"+\n",
       "     \"</p>\\n\"+\n",
       "     \"<ul>\\n\"+\n",
       "     \"<li>re-rerun `output_notebook()` to attempt to load from CDN again, or</li>\\n\"+\n",
       "     \"<li>use INLINE resources instead, as so:</li>\\n\"+\n",
       "     \"</ul>\\n\"+\n",
       "     \"<code>\\n\"+\n",
       "     \"from bokeh.resources import INLINE\\n\"+\n",
       "     \"output_notebook(resources=INLINE)\\n\"+\n",
       "     \"</code>\\n\"+\n",
       "     \"</div>\"}};\n",
       "\n",
       "  function display_loaded() {\n",
       "    var el = document.getElementById(\"1001\");\n",
       "    if (el != null) {\n",
       "      el.textContent = \"BokehJS is loading...\";\n",
       "    }\n",
       "    if (root.Bokeh !== undefined) {\n",
       "      if (el != null) {\n",
       "        el.textContent = \"BokehJS \" + root.Bokeh.version + \" successfully loaded.\";\n",
       "      }\n",
       "    } else if (Date.now() < root._bokeh_timeout) {\n",
       "      setTimeout(display_loaded, 100)\n",
       "    }\n",
       "  }\n",
       "\n",
       "\n",
       "  function run_callbacks() {\n",
       "    try {\n",
       "      root._bokeh_onload_callbacks.forEach(function(callback) {\n",
       "        if (callback != null)\n",
       "          callback();\n",
       "      });\n",
       "    } finally {\n",
       "      delete root._bokeh_onload_callbacks\n",
       "    }\n",
       "    console.debug(\"Bokeh: all callbacks have finished\");\n",
       "  }\n",
       "\n",
       "  function load_libs(css_urls, js_urls, callback) {\n",
       "    if (css_urls == null) css_urls = [];\n",
       "    if (js_urls == null) js_urls = [];\n",
       "\n",
       "    root._bokeh_onload_callbacks.push(callback);\n",
       "    if (root._bokeh_is_loading > 0) {\n",
       "      console.debug(\"Bokeh: BokehJS is being loaded, scheduling callback at\", now());\n",
       "      return null;\n",
       "    }\n",
       "    if (js_urls == null || js_urls.length === 0) {\n",
       "      run_callbacks();\n",
       "      return null;\n",
       "    }\n",
       "    console.debug(\"Bokeh: BokehJS not loaded, scheduling load and callback at\", now());\n",
       "    root._bokeh_is_loading = css_urls.length + js_urls.length;\n",
       "\n",
       "    function on_load() {\n",
       "      root._bokeh_is_loading--;\n",
       "      if (root._bokeh_is_loading === 0) {\n",
       "        console.debug(\"Bokeh: all BokehJS libraries/stylesheets loaded\");\n",
       "        run_callbacks()\n",
       "      }\n",
       "    }\n",
       "\n",
       "    function on_error() {\n",
       "      console.error(\"failed to load \" + url);\n",
       "    }\n",
       "\n",
       "    for (var i = 0; i < css_urls.length; i++) {\n",
       "      var url = css_urls[i];\n",
       "      const element = document.createElement(\"link\");\n",
       "      element.onload = on_load;\n",
       "      element.onerror = on_error;\n",
       "      element.rel = \"stylesheet\";\n",
       "      element.type = \"text/css\";\n",
       "      element.href = url;\n",
       "      console.debug(\"Bokeh: injecting link tag for BokehJS stylesheet: \", url);\n",
       "      document.body.appendChild(element);\n",
       "    }\n",
       "\n",
       "    for (var i = 0; i < js_urls.length; i++) {\n",
       "      var url = js_urls[i];\n",
       "      var element = document.createElement('script');\n",
       "      element.onload = on_load;\n",
       "      element.onerror = on_error;\n",
       "      element.async = false;\n",
       "      element.src = url;\n",
       "      \n",
       "      console.debug(\"Bokeh: injecting script tag for BokehJS library: \", url);\n",
       "      document.head.appendChild(element);\n",
       "    }\n",
       "  };var element = document.getElementById(\"1001\");\n",
       "  if (element == null) {\n",
       "    console.error(\"Bokeh: ERROR: autoload.js configured with elementid '1001' but no matching script tag was found. \")\n",
       "    return false;\n",
       "  }\n",
       "\n",
       "  function inject_raw_css(css) {\n",
       "    const element = document.createElement(\"style\");\n",
       "    element.appendChild(document.createTextNode(css));\n",
       "    document.body.appendChild(element);\n",
       "  }\n",
       "\n",
       "  \n",
       "  var js_urls = [\"https://cdn.bokeh.org/bokeh/release/bokeh-2.0.0.min.js\", \"https://cdn.bokeh.org/bokeh/release/bokeh-widgets-2.0.0.min.js\", \"https://cdn.bokeh.org/bokeh/release/bokeh-tables-2.0.0.min.js\", \"https://cdn.bokeh.org/bokeh/release/bokeh-gl-2.0.0.min.js\"];\n",
       "  var css_urls = [];\n",
       "  \n",
       "\n",
       "  var inline_js = [\n",
       "    function(Bokeh) {\n",
       "      Bokeh.set_log_level(\"info\");\n",
       "    },\n",
       "    function(Bokeh) {\n",
       "    \n",
       "    \n",
       "    }\n",
       "  ];\n",
       "\n",
       "  function run_inline_js() {\n",
       "    \n",
       "    if (root.Bokeh !== undefined || force === true) {\n",
       "      \n",
       "    for (var i = 0; i < inline_js.length; i++) {\n",
       "      inline_js[i].call(root, root.Bokeh);\n",
       "    }\n",
       "    if (force === true) {\n",
       "        display_loaded();\n",
       "      }} else if (Date.now() < root._bokeh_timeout) {\n",
       "      setTimeout(run_inline_js, 100);\n",
       "    } else if (!root._bokeh_failed_load) {\n",
       "      console.log(\"Bokeh: BokehJS failed to load within specified timeout.\");\n",
       "      root._bokeh_failed_load = true;\n",
       "    } else if (force !== true) {\n",
       "      var cell = $(document.getElementById(\"1001\")).parents('.cell').data().cell;\n",
       "      cell.output_area.append_execute_result(NB_LOAD_WARNING)\n",
       "    }\n",
       "\n",
       "  }\n",
       "\n",
       "  if (root._bokeh_is_loading === 0) {\n",
       "    console.debug(\"Bokeh: BokehJS loaded, going straight to plotting\");\n",
       "    run_inline_js();\n",
       "  } else {\n",
       "    load_libs(css_urls, js_urls, function() {\n",
       "      console.debug(\"Bokeh: BokehJS plotting callback run at\", now());\n",
       "      run_inline_js();\n",
       "    });\n",
       "  }\n",
       "}(window));"
      ],
      "application/vnd.bokehjs_load.v0+json": "\n(function(root) {\n  function now() {\n    return new Date();\n  }\n\n  var force = true;\n\n  if (typeof root._bokeh_onload_callbacks === \"undefined\" || force === true) {\n    root._bokeh_onload_callbacks = [];\n    root._bokeh_is_loading = undefined;\n  }\n\n  \n\n  \n  if (typeof (root._bokeh_timeout) === \"undefined\" || force === true) {\n    root._bokeh_timeout = Date.now() + 5000;\n    root._bokeh_failed_load = false;\n  }\n\n  var NB_LOAD_WARNING = {'data': {'text/html':\n     \"<div style='background-color: #fdd'>\\n\"+\n     \"<p>\\n\"+\n     \"BokehJS does not appear to have successfully loaded. If loading BokehJS from CDN, this \\n\"+\n     \"may be due to a slow or bad network connection. Possible fixes:\\n\"+\n     \"</p>\\n\"+\n     \"<ul>\\n\"+\n     \"<li>re-rerun `output_notebook()` to attempt to load from CDN again, or</li>\\n\"+\n     \"<li>use INLINE resources instead, as so:</li>\\n\"+\n     \"</ul>\\n\"+\n     \"<code>\\n\"+\n     \"from bokeh.resources import INLINE\\n\"+\n     \"output_notebook(resources=INLINE)\\n\"+\n     \"</code>\\n\"+\n     \"</div>\"}};\n\n  function display_loaded() {\n    var el = document.getElementById(\"1001\");\n    if (el != null) {\n      el.textContent = \"BokehJS is loading...\";\n    }\n    if (root.Bokeh !== undefined) {\n      if (el != null) {\n        el.textContent = \"BokehJS \" + root.Bokeh.version + \" successfully loaded.\";\n      }\n    } else if (Date.now() < root._bokeh_timeout) {\n      setTimeout(display_loaded, 100)\n    }\n  }\n\n\n  function run_callbacks() {\n    try {\n      root._bokeh_onload_callbacks.forEach(function(callback) {\n        if (callback != null)\n          callback();\n      });\n    } finally {\n      delete root._bokeh_onload_callbacks\n    }\n    console.debug(\"Bokeh: all callbacks have finished\");\n  }\n\n  function load_libs(css_urls, js_urls, callback) {\n    if (css_urls == null) css_urls = [];\n    if (js_urls == null) js_urls = [];\n\n    root._bokeh_onload_callbacks.push(callback);\n    if (root._bokeh_is_loading > 0) {\n      console.debug(\"Bokeh: BokehJS is being loaded, scheduling callback at\", now());\n      return null;\n    }\n    if (js_urls == null || js_urls.length === 0) {\n      run_callbacks();\n      return null;\n    }\n    console.debug(\"Bokeh: BokehJS not loaded, scheduling load and callback at\", now());\n    root._bokeh_is_loading = css_urls.length + js_urls.length;\n\n    function on_load() {\n      root._bokeh_is_loading--;\n      if (root._bokeh_is_loading === 0) {\n        console.debug(\"Bokeh: all BokehJS libraries/stylesheets loaded\");\n        run_callbacks()\n      }\n    }\n\n    function on_error() {\n      console.error(\"failed to load \" + url);\n    }\n\n    for (var i = 0; i < css_urls.length; i++) {\n      var url = css_urls[i];\n      const element = document.createElement(\"link\");\n      element.onload = on_load;\n      element.onerror = on_error;\n      element.rel = \"stylesheet\";\n      element.type = \"text/css\";\n      element.href = url;\n      console.debug(\"Bokeh: injecting link tag for BokehJS stylesheet: \", url);\n      document.body.appendChild(element);\n    }\n\n    for (var i = 0; i < js_urls.length; i++) {\n      var url = js_urls[i];\n      var element = document.createElement('script');\n      element.onload = on_load;\n      element.onerror = on_error;\n      element.async = false;\n      element.src = url;\n      \n      console.debug(\"Bokeh: injecting script tag for BokehJS library: \", url);\n      document.head.appendChild(element);\n    }\n  };var element = document.getElementById(\"1001\");\n  if (element == null) {\n    console.error(\"Bokeh: ERROR: autoload.js configured with elementid '1001' but no matching script tag was found. \")\n    return false;\n  }\n\n  function inject_raw_css(css) {\n    const element = document.createElement(\"style\");\n    element.appendChild(document.createTextNode(css));\n    document.body.appendChild(element);\n  }\n\n  \n  var js_urls = [\"https://cdn.bokeh.org/bokeh/release/bokeh-2.0.0.min.js\", \"https://cdn.bokeh.org/bokeh/release/bokeh-widgets-2.0.0.min.js\", \"https://cdn.bokeh.org/bokeh/release/bokeh-tables-2.0.0.min.js\", \"https://cdn.bokeh.org/bokeh/release/bokeh-gl-2.0.0.min.js\"];\n  var css_urls = [];\n  \n\n  var inline_js = [\n    function(Bokeh) {\n      Bokeh.set_log_level(\"info\");\n    },\n    function(Bokeh) {\n    \n    \n    }\n  ];\n\n  function run_inline_js() {\n    \n    if (root.Bokeh !== undefined || force === true) {\n      \n    for (var i = 0; i < inline_js.length; i++) {\n      inline_js[i].call(root, root.Bokeh);\n    }\n    if (force === true) {\n        display_loaded();\n      }} else if (Date.now() < root._bokeh_timeout) {\n      setTimeout(run_inline_js, 100);\n    } else if (!root._bokeh_failed_load) {\n      console.log(\"Bokeh: BokehJS failed to load within specified timeout.\");\n      root._bokeh_failed_load = true;\n    } else if (force !== true) {\n      var cell = $(document.getElementById(\"1001\")).parents('.cell').data().cell;\n      cell.output_area.append_execute_result(NB_LOAD_WARNING)\n    }\n\n  }\n\n  if (root._bokeh_is_loading === 0) {\n    console.debug(\"Bokeh: BokehJS loaded, going straight to plotting\");\n    run_inline_js();\n  } else {\n    load_libs(css_urls, js_urls, function() {\n      console.debug(\"Bokeh: BokehJS plotting callback run at\", now());\n      run_inline_js();\n    });\n  }\n}(window));"
     },
     "metadata": {},
     "output_type": "display_data"
    }
   ],
   "source": [
    "from machinelearning.bokehutils import *\n",
    "from bokeh.plotting import output_notebook, show\n",
    "output_notebook()"
   ]
  },
  {
   "cell_type": "code",
   "execution_count": 4,
   "metadata": {},
   "outputs": [
    {
     "name": "stderr",
     "output_type": "stream",
     "text": [
      "--> tictoc starts...\n"
     ]
    },
    {
     "data": {
      "text/plain": [
       "-1"
      ]
     },
     "execution_count": 4,
     "metadata": {},
     "output_type": "execute_result"
    }
   ],
   "source": [
    "logger = Logger(tmpDir('logs') + \"/twinews-splitting.log\") if isNotebook else Logger(\"twinews-splitting.log\")\n",
    "tt = TicToc(logger=logger)\n",
    "tt.tic()"
   ]
  },
  {
   "cell_type": "code",
   "execution_count": 5,
   "metadata": {},
   "outputs": [],
   "source": [
    "TEST = False"
   ]
  },
  {
   "cell_type": "code",
   "execution_count": 6,
   "metadata": {},
   "outputs": [
    {
     "name": "stderr",
     "output_type": "stream",
     "text": [
      "Unable to create index url in twinews news\n",
      "twinews news (version 1.0) initialised.\n",
      "Unable to create index user_id in twinews users\n",
      "twinews users (version 1.0) initialised.\n"
     ]
    }
   ],
   "source": [
    "newsCollection = getNewsCollection(logger=logger)\n",
    "usersCollection = getUsersCollection(logger=logger)"
   ]
  },
  {
   "cell_type": "code",
   "execution_count": 7,
   "metadata": {},
   "outputs": [],
   "source": [
    "assert len(newsCollection) > 0\n",
    "assert len(usersCollection) > 0"
   ]
  },
  {
   "cell_type": "code",
   "execution_count": 8,
   "metadata": {},
   "outputs": [
    {
     "name": "stderr",
     "output_type": "stream",
     "text": [
      "--> tic: 0.14s | message: Init done\n"
     ]
    },
    {
     "data": {
      "text/plain": [
       "0.14"
      ]
     },
     "execution_count": 8,
     "metadata": {},
     "output_type": "execute_result"
    }
   ],
   "source": [
    "tt.tic(\"Init done\")"
   ]
  },
  {
   "cell_type": "code",
   "execution_count": null,
   "metadata": {},
   "outputs": [],
   "source": []
  },
  {
   "cell_type": "markdown",
   "metadata": {},
   "source": [
    "# Finding min and max dates"
   ]
  },
  {
   "cell_type": "code",
   "execution_count": null,
   "metadata": {},
   "outputs": [],
   "source": [
    "ts = convertDate(newsCollection.findOne(sort=(\"minTimestamp\", pymongo.ASCENDING))['minTimestamp'], dateFormat=DATE_FORMAT.datetimeString)\n",
    "log(\"Overall min date: \" + convertDate(ts, dateFormat=DATE_FORMAT.datetimeString), logger)"
   ]
  },
  {
   "cell_type": "code",
   "execution_count": null,
   "metadata": {},
   "outputs": [],
   "source": [
    "ts = convertDate(newsCollection.findOne(sort=(\"minTimestamp\", pymongo.DESCENDING))['minTimestamp'], dateFormat=DATE_FORMAT.datetimeString)\n",
    "log(\"Overall max date: \" + convertDate(ts, dateFormat=DATE_FORMAT.datetimeString), logger)"
   ]
  },
  {
   "cell_type": "code",
   "execution_count": null,
   "metadata": {},
   "outputs": [],
   "source": [
    "ts = convertDate(newsCollection.findOne(sort=(\"maxTimestamp\", pymongo.ASCENDING))['maxTimestamp'], dateFormat=DATE_FORMAT.datetimeString)\n",
    "log(\"Overall min date when considering maxTimestamp: \" + convertDate(ts, dateFormat=DATE_FORMAT.datetimeString), logger)"
   ]
  },
  {
   "cell_type": "code",
   "execution_count": null,
   "metadata": {},
   "outputs": [],
   "source": [
    "ts = convertDate(newsCollection.findOne(sort=(\"maxTimestamp\", pymongo.DESCENDING))['maxTimestamp'], dateFormat=DATE_FORMAT.datetimeString)\n",
    "log(\"Overall max date when considering maxTimestamp: \" + convertDate(ts, dateFormat=DATE_FORMAT.datetimeString), logger)"
   ]
  },
  {
   "cell_type": "code",
   "execution_count": null,
   "metadata": {},
   "outputs": [],
   "source": []
  },
  {
   "cell_type": "code",
   "execution_count": null,
   "metadata": {},
   "outputs": [],
   "source": []
  },
  {
   "cell_type": "markdown",
   "metadata": {},
   "source": [
    "# News count"
   ]
  },
  {
   "cell_type": "code",
   "execution_count": null,
   "metadata": {},
   "outputs": [],
   "source": [
    "def labelEncoderFunct(x):\n",
    "    return \">= \" + convertDate(x, dateFormat=DATE_FORMAT.datetimeString)"
   ]
  },
  {
   "cell_type": "code",
   "execution_count": null,
   "metadata": {},
   "outputs": [],
   "source": [
    "timestamps = [e['minTimestamp'] for e in newsCollection.find(projection={\"minTimestamp\": True})]"
   ]
  },
  {
   "cell_type": "code",
   "execution_count": null,
   "metadata": {},
   "outputs": [],
   "source": [
    "show(barplot(timestamps, labelEncoderFunct=labelEncoderFunct, n=60))"
   ]
  },
  {
   "cell_type": "code",
   "execution_count": null,
   "metadata": {},
   "outputs": [],
   "source": []
  },
  {
   "cell_type": "code",
   "execution_count": null,
   "metadata": {},
   "outputs": [],
   "source": []
  },
  {
   "cell_type": "markdown",
   "metadata": {},
   "source": [
    "# Defining the start and end time"
   ]
  },
  {
   "cell_type": "code",
   "execution_count": 9,
   "metadata": {},
   "outputs": [],
   "source": [
    "startDate = \"2017-10-01\"\n",
    "endDate = \"2018-02-16\"\n",
    "startTimestamp = convertDate(startDate, dateFormat=DATE_FORMAT.timestamp)\n",
    "endTimestamp = convertDate(endDate, dateFormat=DATE_FORMAT.timestamp)"
   ]
  },
  {
   "cell_type": "code",
   "execution_count": null,
   "metadata": {},
   "outputs": [],
   "source": []
  },
  {
   "cell_type": "code",
   "execution_count": null,
   "metadata": {},
   "outputs": [],
   "source": []
  },
  {
   "cell_type": "markdown",
   "metadata": {},
   "source": [
    "# News count from the start date"
   ]
  },
  {
   "cell_type": "code",
   "execution_count": null,
   "metadata": {},
   "outputs": [],
   "source": [
    "timestamps = [e['minTimestamp'] for e in newsCollection.find({'minTimestamp': {'$gt': startTimestamp}}, projection={\"minTimestamp\": True})]"
   ]
  },
  {
   "cell_type": "code",
   "execution_count": null,
   "metadata": {},
   "outputs": [],
   "source": [
    "show(barplot(timestamps, labelEncoderFunct=labelEncoderFunct, n=60))"
   ]
  },
  {
   "cell_type": "code",
   "execution_count": null,
   "metadata": {},
   "outputs": [],
   "source": []
  },
  {
   "cell_type": "code",
   "execution_count": null,
   "metadata": {},
   "outputs": [],
   "source": []
  },
  {
   "cell_type": "markdown",
   "metadata": {},
   "source": [
    "# Defining split functions"
   ]
  },
  {
   "cell_type": "code",
   "execution_count": 10,
   "metadata": {},
   "outputs": [],
   "source": [
    "def newsSplit(startTs, splitTs, endTs, returnExtraNews=True, logger=None, verbose=True):\n",
    "    if isinstance(startTs, str):\n",
    "        startTs = convertDate(startTs, dateFormat=DATE_FORMAT.timestamp)\n",
    "    if isinstance(splitTs, str):\n",
    "        splitTs = convertDate(splitTs, dateFormat=DATE_FORMAT.timestamp)\n",
    "    if isinstance(endTs, str):\n",
    "        endTs = convertDate(endTs, dateFormat=DATE_FORMAT.timestamp)\n",
    "    newsCollection = getNewsCollection(logger=logger)\n",
    "    previousNews = set()\n",
    "    trainNews = set()\n",
    "    testNews = set()\n",
    "    afterNews = set()\n",
    "    pbar = ProgressBar(len(newsCollection), logger=logger, verbose=verbose, printRatio=0.3)\n",
    "    for news in newsCollection.find({}, projection={'minTimestamp': True, 'url': True}):\n",
    "        url = news['url']\n",
    "        ts = news['minTimestamp']\n",
    "        if ts < startTs:\n",
    "            previousNews.add(url)\n",
    "        elif ts >= startTs and ts < splitTs:\n",
    "            trainNews.add(url)\n",
    "        elif ts >= splitTs and ts <= endTs:\n",
    "            testNews.add(url)\n",
    "        else:\n",
    "            afterNews.add(url)\n",
    "        pbar.tic()\n",
    "    if returnExtraNews:\n",
    "        return previousNews, trainNews, testNews, afterNews\n",
    "    else:\n",
    "        return trainNews, testNews"
   ]
  },
  {
   "cell_type": "code",
   "execution_count": 11,
   "metadata": {},
   "outputs": [],
   "source": [
    "def usersSplit(urlss, minUrls=None, logger=None, verbose=True):\n",
    "    \"\"\"\n",
    "        This function get a list of urls.\n",
    "        You need to specify  the minium of url per user for each list in minUrls.\n",
    "    \"\"\"\n",
    "    if minUrls is None:\n",
    "        minUrls = [0] * len(urlss)\n",
    "    assert len(urlss) == len(minUrls)\n",
    "    usersCollection = getUsersCollection(logger=logger)\n",
    "    bulks = []\n",
    "    pbar = ProgressBar(len(usersCollection) * len(urlss), logger=logger, verbose=verbose, printRatio=0.3)\n",
    "    for urls in urlss:\n",
    "        current = dict()\n",
    "        for user in usersCollection.find({}, projection={'timestamps': True, 'news': True, 'user_id': True}):\n",
    "            current[user['user_id']] = dict()\n",
    "            for i in range(len(user['news'])):\n",
    "                if user['news'][i] in urls:\n",
    "                    current[user['user_id']][user['news'][i]] = user['timestamps'][i]\n",
    "            pbar.tic()\n",
    "        bulks.append(current)\n",
    "    toDeleteUsers = set()\n",
    "    for i in range(len(bulks)):\n",
    "        theMin = minUrls[i]\n",
    "        users = bulks[i]\n",
    "        for userId in list(users.keys()):\n",
    "            if len(users[userId]) < theMin:\n",
    "                toDeleteUsers.add(userId)\n",
    "    remaining = len(usersCollection) - len(toDeleteUsers)\n",
    "    log(str(remaining) + \" users remaining on \" + str(len(usersCollection))\n",
    "                + \", so \" + str(truncateFloat(remaining / len(usersCollection) * 100, 2)) + \"%\", logger)\n",
    "    for i in range(len(bulks)):\n",
    "        for userId in toDeleteUsers:\n",
    "            del bulks[i][userId]\n",
    "    return bulks"
   ]
  },
  {
   "cell_type": "code",
   "execution_count": null,
   "metadata": {},
   "outputs": [],
   "source": []
  },
  {
   "cell_type": "code",
   "execution_count": null,
   "metadata": {},
   "outputs": [],
   "source": []
  },
  {
   "cell_type": "markdown",
   "metadata": {},
   "source": [
    "# Count for a split at 2018-02-01"
   ]
  },
  {
   "cell_type": "code",
   "execution_count": null,
   "metadata": {},
   "outputs": [],
   "source": [
    "theSplit = \"2018-02-01\""
   ]
  },
  {
   "cell_type": "code",
   "execution_count": null,
   "metadata": {},
   "outputs": [],
   "source": [
    "previousNews, trainNews, testNews, afterNews = newsSplit(startDate, theSplit, endDate, logger=logger)"
   ]
  },
  {
   "cell_type": "code",
   "execution_count": null,
   "metadata": {},
   "outputs": [],
   "source": [
    "trainUsers, testUsers = usersSplit([trainNews, testNews], [0, 0], logger=logger)"
   ]
  },
  {
   "cell_type": "code",
   "execution_count": null,
   "metadata": {},
   "outputs": [],
   "source": [
    "show(barplot([len(n) for u, n in trainUsers.items()], title=\"Train counts for a split at \" + theSplit, n=80))"
   ]
  },
  {
   "cell_type": "code",
   "execution_count": null,
   "metadata": {},
   "outputs": [],
   "source": [
    "show(barplot([len(n) for u, n in testUsers.items()], title=\"Test counts for a split at \" + theSplit, n=80))"
   ]
  },
  {
   "cell_type": "code",
   "execution_count": null,
   "metadata": {},
   "outputs": [],
   "source": []
  },
  {
   "cell_type": "code",
   "execution_count": null,
   "metadata": {},
   "outputs": [],
   "source": []
  },
  {
   "cell_type": "markdown",
   "metadata": {},
   "source": [
    "# Count for a split at 2018-01-15"
   ]
  },
  {
   "cell_type": "code",
   "execution_count": null,
   "metadata": {},
   "outputs": [],
   "source": [
    "theSplit = \"2018-01-15\""
   ]
  },
  {
   "cell_type": "code",
   "execution_count": null,
   "metadata": {},
   "outputs": [],
   "source": [
    "previousNews, trainNews, testNews, afterNews = newsSplit(startDate, theSplit, endDate, logger=logger)"
   ]
  },
  {
   "cell_type": "code",
   "execution_count": null,
   "metadata": {},
   "outputs": [],
   "source": [
    "trainUsers, testUsers = usersSplit([trainNews, testNews], [0, 0], logger=logger)"
   ]
  },
  {
   "cell_type": "code",
   "execution_count": null,
   "metadata": {},
   "outputs": [],
   "source": [
    "show(barplot([len(n) for u, n in trainUsers.items()], title=\"Train counts for a split at \" + theSplit, n=80))"
   ]
  },
  {
   "cell_type": "code",
   "execution_count": null,
   "metadata": {},
   "outputs": [],
   "source": [
    "show(barplot([len(n) for u, n in testUsers.items()], title=\"Test counts for a split at \" + theSplit, n=80))"
   ]
  },
  {
   "cell_type": "code",
   "execution_count": null,
   "metadata": {},
   "outputs": [],
   "source": []
  },
  {
   "cell_type": "code",
   "execution_count": null,
   "metadata": {},
   "outputs": [],
   "source": []
  },
  {
   "cell_type": "markdown",
   "metadata": {},
   "source": [
    "# User deletion for split at 2018-02-01 and mins (3, 2)"
   ]
  },
  {
   "cell_type": "code",
   "execution_count": null,
   "metadata": {},
   "outputs": [],
   "source": [
    "theSplit = \"2018-02-01\""
   ]
  },
  {
   "cell_type": "code",
   "execution_count": null,
   "metadata": {},
   "outputs": [],
   "source": [
    "previousNews, trainNews, testNews, afterNews = newsSplit(startDate, theSplit, endDate, logger=logger)"
   ]
  },
  {
   "cell_type": "code",
   "execution_count": null,
   "metadata": {},
   "outputs": [],
   "source": [
    "trainUsers, testUsers = usersSplit([trainNews, testNews], [3, 2], logger=logger)"
   ]
  },
  {
   "cell_type": "code",
   "execution_count": null,
   "metadata": {},
   "outputs": [],
   "source": []
  },
  {
   "cell_type": "code",
   "execution_count": null,
   "metadata": {},
   "outputs": [],
   "source": []
  },
  {
   "cell_type": "markdown",
   "metadata": {},
   "source": [
    "# User deletion for split at 2018-01-15 and mins (3, 2)"
   ]
  },
  {
   "cell_type": "code",
   "execution_count": null,
   "metadata": {},
   "outputs": [],
   "source": [
    "theSplit = \"2018-01-15\""
   ]
  },
  {
   "cell_type": "code",
   "execution_count": null,
   "metadata": {},
   "outputs": [],
   "source": [
    "previousNews, trainNews, testNews, afterNews = newsSplit(startDate, theSplit, endDate, logger=logger)"
   ]
  },
  {
   "cell_type": "code",
   "execution_count": null,
   "metadata": {},
   "outputs": [],
   "source": [
    "trainUsers, testUsers = usersSplit([trainNews, testNews], [3, 2], logger=logger)"
   ]
  },
  {
   "cell_type": "code",
   "execution_count": null,
   "metadata": {},
   "outputs": [],
   "source": []
  },
  {
   "cell_type": "code",
   "execution_count": null,
   "metadata": {},
   "outputs": [],
   "source": []
  },
  {
   "cell_type": "code",
   "execution_count": null,
   "metadata": {},
   "outputs": [],
   "source": []
  },
  {
   "cell_type": "markdown",
   "metadata": {},
   "source": [
    "# User deletion for split at 2018-01-15 and mins (15, 5)"
   ]
  },
  {
   "cell_type": "code",
   "execution_count": null,
   "metadata": {},
   "outputs": [],
   "source": [
    "theSplit = \"2018-01-15\""
   ]
  },
  {
   "cell_type": "code",
   "execution_count": null,
   "metadata": {},
   "outputs": [],
   "source": [
    "previousNews, trainNews, testNews, afterNews = newsSplit(startDate, theSplit, endDate, logger=logger)"
   ]
  },
  {
   "cell_type": "code",
   "execution_count": null,
   "metadata": {},
   "outputs": [],
   "source": [
    "trainUsers, testUsers = usersSplit([trainNews, testNews], [15, 5], logger=logger)"
   ]
  },
  {
   "cell_type": "code",
   "execution_count": null,
   "metadata": {},
   "outputs": [],
   "source": []
  },
  {
   "cell_type": "code",
   "execution_count": null,
   "metadata": {},
   "outputs": [],
   "source": []
  },
  {
   "cell_type": "markdown",
   "metadata": {},
   "source": [
    "# User deletion for split at 2018-01-15 and mins (8, 2)"
   ]
  },
  {
   "cell_type": "code",
   "execution_count": null,
   "metadata": {},
   "outputs": [],
   "source": [
    "theSplit = \"2018-01-15\""
   ]
  },
  {
   "cell_type": "code",
   "execution_count": null,
   "metadata": {},
   "outputs": [],
   "source": [
    "previousNews, trainNews, testNews, afterNews = newsSplit(startDate, theSplit, endDate, logger=logger)"
   ]
  },
  {
   "cell_type": "code",
   "execution_count": null,
   "metadata": {},
   "outputs": [],
   "source": [
    "trainUsers, testUsers = usersSplit([trainNews, testNews], [8, 2], logger=logger)"
   ]
  },
  {
   "cell_type": "code",
   "execution_count": null,
   "metadata": {},
   "outputs": [],
   "source": []
  },
  {
   "cell_type": "code",
   "execution_count": null,
   "metadata": {},
   "outputs": [],
   "source": []
  },
  {
   "cell_type": "markdown",
   "metadata": {},
   "source": [
    "# Defining the split and mins"
   ]
  },
  {
   "cell_type": "code",
   "execution_count": 12,
   "metadata": {},
   "outputs": [],
   "source": [
    "theSplit = \"2018-01-15\""
   ]
  },
  {
   "cell_type": "code",
   "execution_count": 13,
   "metadata": {},
   "outputs": [],
   "source": [
    "mins = [8, 2]"
   ]
  },
  {
   "cell_type": "code",
   "execution_count": null,
   "metadata": {},
   "outputs": [],
   "source": []
  },
  {
   "cell_type": "code",
   "execution_count": null,
   "metadata": {},
   "outputs": [],
   "source": []
  },
  {
   "cell_type": "markdown",
   "metadata": {},
   "source": [
    "# Getting data"
   ]
  },
  {
   "cell_type": "code",
   "execution_count": 14,
   "metadata": {},
   "outputs": [
    {
     "name": "stderr",
     "output_type": "stream",
     "text": [
      "Unable to create index url in twinews news\n",
      "twinews news (version 1.0) initialised.\n",
      "  0% [                    ]\n",
      " 30% [======              ] (17.733s left)\n",
      " 60% [============        ] (9.28s left)\n",
      " 90% [==================  ] (2.323s left)\n",
      "100% [====================] (total duration: 22.45s, mean duration: 0s)\n"
     ]
    }
   ],
   "source": [
    "previousNews, trainNews, testNews, afterNews = newsSplit(startDate, theSplit, endDate, logger=logger)"
   ]
  },
  {
   "cell_type": "code",
   "execution_count": 15,
   "metadata": {},
   "outputs": [
    {
     "name": "stderr",
     "output_type": "stream",
     "text": [
      "Unable to create index user_id in twinews users\n",
      "twinews users (version 1.0) initialised.\n",
      "  0% [                    ]\n",
      " 29% [=====               ] (4.293s left)\n",
      " 59% [===========         ] (2.34s left)\n",
      " 89% [=================   ] (0.528s left)\n",
      "100% [====================] (total duration: 5.14s, mean duration: 0s)\n",
      "21239 users remaining on 32474, so 65.4%\n"
     ]
    }
   ],
   "source": [
    "trainUsers, testUsers = usersSplit([trainNews, testNews], mins, logger=logger)"
   ]
  },
  {
   "cell_type": "code",
   "execution_count": null,
   "metadata": {},
   "outputs": [],
   "source": []
  },
  {
   "cell_type": "code",
   "execution_count": null,
   "metadata": {},
   "outputs": [],
   "source": []
  },
  {
   "cell_type": "markdown",
   "metadata": {},
   "source": [
    "# Creating candidates"
   ]
  },
  {
   "cell_type": "code",
   "execution_count": 18,
   "metadata": {},
   "outputs": [],
   "source": [
    "ranksLength = 1000"
   ]
  },
  {
   "cell_type": "code",
   "execution_count": 19,
   "metadata": {
    "scrolled": true
   },
   "outputs": [
    {
     "name": "stderr",
     "output_type": "stream",
     "text": [
      "  0% [                    ]\n",
      "  0% [                    ] (46.616s left)\n",
      "  1% [                    ] (42.71s left)\n",
      "  2% [                    ] (41.141s left)\n",
      "  3% [                    ] (40.637s left)\n",
      "  4% [                    ] (39.977s left)\n",
      "  5% [=                   ] (39.086s left)\n",
      "  6% [=                   ] (38.604s left)\n",
      "  7% [=                   ] (38.025s left)\n",
      "  8% [=                   ] (37.486s left)\n",
      "  9% [=                   ] (37.065s left)\n",
      " 10% [==                  ] (36.484s left)\n",
      " 11% [==                  ] (36.081s left)\n",
      " 12% [==                  ] (35.678s left)\n",
      " 13% [==                  ] (35.15s left)\n",
      " 14% [==                  ] (34.755s left)\n",
      " 15% [===                 ] (34.357s left)\n",
      " 16% [===                 ] (33.958s left)\n",
      " 17% [===                 ] (33.512s left)\n",
      " 18% [===                 ] (33.071s left)\n",
      " 19% [===                 ] (33.156s left)\n",
      " 20% [====                ] (32.691s left)\n",
      " 21% [====                ] (32.268s left)\n",
      " 22% [====                ] (31.913s left)\n",
      " 23% [====                ] (31.457s left)\n",
      " 24% [====                ] (31.005s left)\n",
      " 25% [=====               ] (30.558s left)\n",
      " 26% [=====               ] (30.113s left)\n",
      " 27% [=====               ] (29.698s left)\n",
      " 28% [=====               ] (29.234s left)\n",
      " 29% [=====               ] (28.798s left)\n",
      " 30% [======              ] (28.343s left)\n",
      " 31% [======              ] (27.934s left)\n",
      " 32% [======              ] (27.504s left)\n",
      " 33% [======              ] (27.057s left)\n",
      " 34% [======              ] (26.632s left)\n",
      " 35% [=======             ] (26.19s left)\n",
      " 36% [=======             ] (25.802s left)\n",
      " 37% [=======             ] (25.38s left)\n",
      " 38% [=======             ] (24.959s left)\n",
      " 39% [=======             ] (24.72s left)\n",
      " 40% [========            ] (24.294s left)\n",
      " 41% [========            ] (23.855s left)\n",
      " 42% [========            ] (23.445s left)\n",
      " 43% [========            ] (23.009s left)\n",
      " 44% [========            ] (22.588s left)\n",
      " 45% [=========           ] (22.227s left)\n",
      " 46% [=========           ] (21.839s left)\n",
      " 47% [=========           ] (21.449s left)\n",
      " 48% [=========           ] (21.016s left)\n",
      " 49% [=========           ] (20.605s left)\n",
      " 50% [==========          ] (20.194s left)\n",
      " 51% [==========          ] (19.764s left)\n",
      " 52% [==========          ] (19.354s left)\n",
      " 53% [==========          ] (18.926s left)\n",
      " 54% [==========          ] (18.517s left)\n",
      " 55% [===========         ] (18.107s left)\n",
      " 56% [===========         ] (17.682s left)\n",
      " 57% [===========         ] (17.273s left)\n",
      " 58% [===========         ] (16.85s left)\n",
      " 59% [===========         ] (16.522s left)\n",
      " 60% [============        ] (16.11s left)\n",
      " 61% [============        ] (15.692s left)\n",
      " 62% [============        ] (15.286s left)\n",
      " 63% [============        ] (14.869s left)\n",
      " 64% [============        ] (14.463s left)\n",
      " 65% [=============       ] (14.051s left)\n",
      " 66% [=============       ] (13.64s left)\n",
      " 67% [=============       ] (13.223s left)\n",
      " 68% [=============       ] (12.812s left)\n",
      " 69% [=============       ] (12.409s left)\n",
      " 70% [==============      ] (11.998s left)\n",
      " 71% [==============      ] (11.582s left)\n",
      " 72% [==============      ] (11.171s left)\n",
      " 73% [==============      ] (10.756s left)\n",
      " 74% [==============      ] (10.338s left)\n",
      " 75% [===============     ] (9.928s left)\n",
      " 76% [===============     ] (9.514s left)\n",
      " 77% [===============     ] (9.101s left)\n",
      " 78% [===============     ] (8.725s left)\n",
      " 79% [===============     ] (8.308s left)\n",
      " 80% [================    ] (7.898s left)\n",
      " 81% [================    ] (7.484s left)\n",
      " 82% [================    ] (7.072s left)\n",
      " 83% [================    ] (6.658s left)\n",
      " 84% [================    ] (6.245s left)\n",
      " 85% [=================   ] (5.831s left)\n",
      " 86% [=================   ] (5.419s left)\n",
      " 87% [=================   ] (5.007s left)\n",
      " 88% [=================   ] (4.596s left)\n",
      " 89% [=================   ] (4.185s left)\n",
      " 90% [==================  ] (3.774s left)\n",
      " 91% [==================  ] (3.364s left)\n",
      " 92% [==================  ] (2.953s left)\n",
      " 93% [==================  ] (2.542s left)\n",
      " 94% [==================  ] (2.13s left)\n",
      " 95% [=================== ] (1.719s left)\n",
      " 96% [=================== ] (1.307s left)\n",
      " 97% [=================== ] (0.896s left)\n",
      " 98% [=================== ] (0.487s left)\n",
      " 99% [=================== ] (0.075s left)\n",
      "100% [====================] (total duration: 41.25s, mean duration: 0.001s)\n"
     ]
    }
   ],
   "source": [
    "testNewsList = list(testNews)\n",
    "candidates = dict()\n",
    "pbar = ProgressBar(len(testUsers), logger=logger, printRatio=0.01)\n",
    "for userId, news in testUsers.items():\n",
    "    news = set(news.keys())\n",
    "    while len(news) < ranksLength:\n",
    "        news.add(random.choice(testNewsList))\n",
    "    candidates[userId] = [news]\n",
    "    pbar.tic()"
   ]
  },
  {
   "cell_type": "code",
   "execution_count": 20,
   "metadata": {
    "scrolled": true
   },
   "outputs": [
    {
     "name": "stderr",
     "output_type": "stream",
     "text": [
      "{\n",
      "  100022528: \n",
      "  [\n",
      "    {\n",
      "      http://a.msn.com/00/en-ca/AAuP4NT?ocid=st,\n",
      "      http://a.msn.com/01/en-us/BBIVU3P?ocid=st,\n",
      "      ...,\n",
      "      https://www.yorkregion.com/news-story/8076176-york-region-parents-educators-talk-about-poverty-in-sc,\n",
      "      https://yaledailynews.com/blog/2018/01/30/gsa-lobbies-for-ombuds-office/\n",
      "    }\n",
      "  ],\n",
      "  100024324: \n",
      "  [\n",
      "    {\n",
      "      http://13wham.com/news/local/identity-tech-start-up-run-by-rit-grads-gets-175m-in-state-funding,\n",
      "      http://a.msn.com/0E/en-us/AAvaVyo?ocid=st,\n",
      "      ...,\n",
      "      https://www.yahoo.com/sports/reports-msu-president-lou-anna-k-simon-resign-wake-larry-nassar-scandal,\n",
      "      https://yesmeansyesblog.wordpress.com/2009/11/24/predator-redux/\n",
      "    }\n",
      "  ],\n",
      "  100064338: \n",
      "  [\n",
      "    {\n",
      "      http://a.msn.com/00/en-ca/AAuP4NT?ocid=st,\n",
      "      http://a.msn.com/0C/en-us/AAuJW0j?ocid=st,\n",
      "      ...,\n",
      "      https://www.wxyz.com/news/opinion/wxyz-editorial-whats-next-for-detroit-after-amazon-bid-loss,\n",
      "      https://yaledailynews.com/blog/2018/02/06/gupta-tofan-popov-reform-and-accountability/\n",
      "    }\n",
      "  ],\n",
      "  1000908834: \n",
      "  [\n",
      "    {\n",
      "      http://a.msn.com/00/en-us/AAuLCOR?ocid=se,\n",
      "      http://a.msn.com/01/en-us/AAvcY1G?ocid=st,\n",
      "      ...,\n",
      "      https://www.yorkregion.com/sports-story/8073831-records-tumble-as-gabby-daleman-skates-to-2nd-nation,\n",
      "      https://yle.fi/uutiset/osasto/news/one-time_human_trafficking_victim_aims_to_help_others_break_free/\n",
      "    }\n",
      "  ],\n",
      "  1002207570: \n",
      "  [\n",
      "    {\n",
      "      http://a.msn.com/00/en-us/BBJ6M54?ocid=st,\n",
      "      http://a.msn.com/01/en-us/AAuODn5?ocid=st,\n",
      "      ...,\n",
      "      https://www.zerohedge.com/news/2018-02-03/todays-market-anything-normal,\n",
      "      https://www.zerohedge.com/news/2018-02-07/nomura-sincerely-apologizes-blowing-investors-its-vix-link\n",
      "    }\n",
      "  ],\n",
      "  ...,\n",
      "  996418993: \n",
      "  [\n",
      "    {\n",
      "      http://a.msn.com/01/en-us/BBIpDu8?ocid=st,\n",
      "      http://a.msn.com/03/en-us/BBIJNNs?ocid=st,\n",
      "      ...,\n",
      "      https://www.yourtango.com/2018310240/10-best-romance-novels-make-you-believe-love-again,\n",
      "      https://www.zerohedge.com/news/2018-02-13/commodity-traders-blame-data-overload-rash-fund-closures\n",
      "    }\n",
      "  ],\n",
      "  9972002: \n",
      "  [\n",
      "    {\n",
      "      http://a.msn.com/01/en-us/AAuWW6J?ocid=st,\n",
      "      http://a.msn.com/01/en-us/BBJ6aH1?ocid=st,\n",
      "      ...,\n",
      "      https://www.wsj.com/articles/how-google-swayed-efforts-to-block-annoying-online-ads-1518623663,\n",
      "      https://www.ynetnews.com/articles/0,7340,L-5071237,00.html\n",
      "    }\n",
      "  ],\n",
      "  99791053: \n",
      "  [\n",
      "    {\n",
      "      http://a.msn.com/01/en-us/AAuIXKu?ocid=st,\n",
      "      http://abcn.ws/2DIF0Y5,\n",
      "      ...,\n",
      "      https://www.xconomy.com/national/2018/01/23/hey-alexa-whats-in-a-name-actually-lets-call-you-amazon/,\n",
      "      https://www.yorkregion.com/news-story/8099965-no-referendum-on-ballot-richmond-hill-keeps-town-statu\n",
      "    }\n",
      "  ],\n",
      "  997944516: \n",
      "  [\n",
      "    {\n",
      "      http://a.msn.com/01/en-us/AAuJHmQ?ocid=st,\n",
      "      http://a.msn.com/01/en-us/BBJ6aH1?ocid=st,\n",
      "      ...,\n",
      "      https://www.yahoo.com/news/spains-robert-mueller-takes-russian-mob-202248019.html,\n",
      "      https://www.yorkregion.com/news-story/8096615-hundreds-gather-in-thornhill-to-protest-iranian-regime\n",
      "    }\n",
      "  ],\n",
      "  99895304: \n",
      "  [\n",
      "    {\n",
      "      http://a.msn.com/01/en-us/AAvb3TS?ocid=st,\n",
      "      http://abcn.ws/2B2ZqIk,\n",
      "      ...,\n",
      "      https://www.wsj.com/articles/review-the-book-smugglers-of-vilna-1517354489,\n",
      "      https://yaledailynews.com/blog/2018/02/09/yale-establishes-biomedical-data-science-center\n",
      "    }\n",
      "  ]\n",
      "}\n"
     ]
    }
   ],
   "source": [
    "bp(candidates, logger)"
   ]
  },
  {
   "cell_type": "code",
   "execution_count": null,
   "metadata": {},
   "outputs": [],
   "source": []
  },
  {
   "cell_type": "code",
   "execution_count": null,
   "metadata": {},
   "outputs": [],
   "source": []
  },
  {
   "cell_type": "markdown",
   "metadata": {},
   "source": [
    "# Removing news from trainNews and testNews"
   ]
  },
  {
   "cell_type": "code",
   "execution_count": 21,
   "metadata": {},
   "outputs": [],
   "source": [
    "# Getting urls:\n",
    "urls = set()\n",
    "for users in (trainUsers, testUsers):\n",
    "    for userId, news in users.items():\n",
    "        for n in news.keys():\n",
    "            urls.add(n)\n",
    "for userId, bulks in candidates.items():\n",
    "    for news in bulks:\n",
    "        for n in news:\n",
    "            urls.add(n)"
   ]
  },
  {
   "cell_type": "code",
   "execution_count": 22,
   "metadata": {},
   "outputs": [],
   "source": [
    "# Sub-sampling news:\n",
    "trainNews = set([n for n in trainNews if n in urls])\n",
    "testNews = set([n for n in testNews if n in urls])"
   ]
  },
  {
   "cell_type": "code",
   "execution_count": null,
   "metadata": {},
   "outputs": [],
   "source": []
  },
  {
   "cell_type": "code",
   "execution_count": null,
   "metadata": {},
   "outputs": [],
   "source": []
  },
  {
   "cell_type": "markdown",
   "metadata": {},
   "source": [
    "# Analysis"
   ]
  },
  {
   "cell_type": "code",
   "execution_count": 23,
   "metadata": {},
   "outputs": [
    {
     "name": "stderr",
     "output_type": "stream",
     "text": [
      "{\n",
      "  http://11alive.com/SellingGirls,\n",
      "  http://11alive.com/canathon,\n",
      "  ...,\n",
      "  https://zrants.wordpress.com/2017/10/24/la-orange-county-transit-agencies-seek-their-own-ride-sharin,\n",
      "  https://zwischenzugs.wordpress.com/2017/10/15/my-20-year-experience-of-software-development-methodol\n",
      "}\n"
     ]
    }
   ],
   "source": [
    "bp(trainNews, logger)"
   ]
  },
  {
   "cell_type": "code",
   "execution_count": 24,
   "metadata": {},
   "outputs": [
    {
     "name": "stderr",
     "output_type": "stream",
     "text": [
      "{\n",
      "  100022528: \n",
      "  {\n",
      "    http://newsok.com/article/5566752?utm_source=NewsOK.com&utm_medium=Social&utm_campaign=ShareBar-Twitter: 1507218223,\n",
      "    http://newsok.com/article/5566980?utm_source=NewsOK.com&utm_medium=Social&utm_campaign=ShareBar-Twitter: 1507556930,\n",
      "    http://newsok.com/article/5567097?utm_source=NewsOK.com&utm_medium=Social&utm_campaign=ShareBar-Twitter: 1507556848,\n",
      "    http://newsok.com/article/5567140?utm_source=NewsOK.com&utm_medium=Social&utm_campaign=ShareBar-Twitter: 1507556832,\n",
      "    http://newsok.com/article/5567338?utm_source=NewsOK.com&utm_medium=Social&utm_campaign=ShareBar-Twitter: 1507642670,\n",
      "    ...,\n",
      "    http://newsok.com/article/5579183?utm_source=NewsOK.com&utm_medium=Social&utm_campaign=ShareBar-Twitter: 1515698281,\n",
      "    http://newsok.com/article/5579231?utm_source=NewsOK.com&utm_medium=Social&utm_campaign=ShareBar-Twitter: 1515779595,\n",
      "    http://newsok.com/article/5579253?utm_source=NewsOK.com&utm_medium=Social&utm_campaign=ShareBar-Twitter: 1515717177,\n",
      "    http://newsok.com/article/feed/1491842?utm_source=NewsOK.com&utm_medium=Social&utm_campaign=ShareBar-Twitter: 1509632651,\n",
      "    http://newsok.com/prosecutor-in-murder-trial-tells-jury-the-crime-scene-was-like-a-horror-film/article/5578978: 1515622521\n",
      "  },\n",
      "  100024324: \n",
      "  {\n",
      "    http://fb.me/1nHtjUgoJ: 1510594759,\n",
      "    http://fb.me/8MI3M5Fig: 1511895691,\n",
      "    http://fb.me/8Piey93oB: 1510258228,\n",
      "    http://fb.me/JfiHZT3Q: 1510157270,\n",
      "    http://fb.me/WlIWYcPm: 1510672552,\n",
      "    ...,\n",
      "    http://ow.ly/PLgH30hesds: 1513609429,\n",
      "    http://wapo.st/2hqRFVa?tid=ss_tw&utm_term=.0463b2c78728: 1511197531,\n",
      "    http://www.pbs.org/newshour/updates/brain-gets-hooked-opioids/: 1509986378,\n",
      "    https://fb.me/MttyOr40: 1513780112,\n",
      "    https://www.theguardian.com/us-news/2017/dec/27/its-all-fentanyl-opioid-crisis-takes-shape-in-philadelphia-as-overdoses-surge: 1514904237\n",
      "  },\n",
      "  100064338: \n",
      "  {\n",
      "    http://a.msn.com/0A/en-us/BBI4760?ocid=st: 1515385745,\n",
      "    http://a.msn.com/0C/en-us/AAuCCjS?ocid=st: 1515872860,\n",
      "    http://abcn.ws/2BASX81: 1512626555,\n",
      "    http://abcn.ws/2oCaF9F: 1513623118,\n",
      "    http://abcn.ws/2xZCND1: 1508759780,\n",
      "    ...,\n",
      "    https://www.thedailybeast.com/gary-oldman-the-oscar-frontrunner-with-a-dark-past: 1516589591,\n",
      "    https://www.theguardian.com/fashion/2013/nov/18/terry-richardson-fashion-shameful-photographer: 1508841794,\n",
      "    https://www.usmagazine.com/entertainment/news/harry-styles-kisses-james-corden-in-christmas-carpool-karaoke/: 1513093501,\n",
      "    https://www.washingtonpost.com/news/business/wp/2017/12/04/john-oliver-grills-dustin-hoffman-over-sexual-harassment-allegation/?utm_term=.89dee90ba434: 1512449803,\n",
      "    https://www.washingtonpost.com/world/national-security/after-las-vegas-gun-control-group-seizing-moment-to-push-for-tighter-regulations/2017/10/16/ee4a5472-b291-11e7-a908-a3470754bbb9_story.html?utm_term=.0c0117e76aef: 1508287399\n",
      "  },\n",
      "  1000908834: \n",
      "  {\n",
      "    http://bit.ly/2AG2w9A: 1511965227,\n",
      "    http://bit.ly/2AGW5mQ: 1513470889,\n",
      "    http://bit.ly/2AU1A1f: 1512679904,\n",
      "    http://bit.ly/2AjHm13: 1512493523,\n",
      "    http://bit.ly/2hvxgyf: 1510928584,\n",
      "    ...,\n",
      "    https://www.themarshallproject.org/2017/11/30/adolescence-with-an-ankle-bracelet?ref=hp-2-111: 1512849781,\n",
      "    https://www.themarshallproject.org/2018/01/07/the-check-is-in-the-mail-for-real?utm_medium=social&utm_campaign=sprout&utm_source=twitter: 1515457201,\n",
      "    https://www.thenation.com/article/the-price-of-justice/: 1509986741,\n",
      "    https://www.thetrace.org/features/gun-violence-facts-2017/#fact1: 1515358981,\n",
      "    https://www.usatoday.com/story/news/politics/onpolitics/2017/11/21/judge-ex-trump-aides-manafort-and-gates-can-leave-house-arrest-thanksgiving/886920001/: 1511455713\n",
      "  },\n",
      "  1002207570: \n",
      "  {\n",
      "    http://bit.ly/2AFTXLN: 1511884385,\n",
      "    http://nyti.ms/2zexzFL: 1509643531,\n",
      "    http://www.elpasotimes.com/story/news/2017/12/04/texas-church-shooting-leaves-doctors-nurses-laboring-save-lives/912806001/: 1512438724,\n",
      "    http://www.nature.com/news/many-junior-scientists-need-to-take-a-hard-look-at-their-job-prospects-1.22879?WT.mc_id=FBK_NatureNews&sf126476526=1: 1509673804,\n",
      "    https://lnkd.in/e3PJ36g: 1511822108,\n",
      "    ...,\n",
      "    https://www.npr.org/sections/ed/2017/11/14/563130814/heres-how-the-new-tax-plan-could-hurt-graduate-students?utm_source=facebook.com&utm_medium=social&utm_campaign=npr&utm_term=nprnews&utm_content=2042: 1510696801,\n",
      "    https://www.nytimes.com/2018/01/04/business/energy-environment/norway-electric-hybrid-cars.html: 1515239252,\n",
      "    https://www.scientificamerican.com/article/genetically-modified-t-cells-might-help-fight-hiv/?wt.mc=SA_Twitter-Share: 1515196820,\n",
      "    https://www.theatlantic.com/science/archive/2017/12/women-are-invited-to-give-fewer-talks-than-men-at-top-us-universities/548657/?google_editors_picks=true&utm_source=twb: 1513627851,\n",
      "    https://www.theguardian.com/lifeandstyle/2016/sep/26/no-scrubs-how-women-had-to-fight-to-become-doctors?CMP=share_btn_tw: 1511553157\n",
      "  },\n",
      "  ...,\n",
      "  996418993: \n",
      "  {\n",
      "    http://business.financialpost.com/wcm/2d27992b-b9e5-41a3-8f50-c450f3bb6827: 1510000050,\n",
      "    http://business.financialpost.com/wcm/6d84e8a3-5fe2-4e80-99e3-56590bfdc442: 1508378708,\n",
      "    http://ow.ly/8bti30hm8ke: 1513829211,\n",
      "    http://ow.ly/G3eX30gU4RF: 1511999156,\n",
      "    http://read.bi/2dl82Pc: 1509995129,\n",
      "    ...,\n",
      "    https://www.bloomberg.com/news/articles/2018-01-12/treadmill-meetings-are-wall-street-s-new-steak-dinners: 1516108385,\n",
      "    https://www.cbc.ca/1.4416295: 1511831709,\n",
      "    https://www.thestar.com/business/real_estate/2017/10/20/how-new-condos-are-trying-to-get-the-stroller-out-of-the-bathtub.html: 1508795011,\n",
      "    https://www.thestar.com/business/real_estate/2017/11/21/toronto-builds-its-first-shopping-mall.html: 1511832069,\n",
      "    https://www.thestar.com/business/real_estate/2017/11/23/new-condo-townhome-sales-and-prices-soar-in-october.html: 1511831965\n",
      "  },\n",
      "  9972002: \n",
      "  {\n",
      "    http://bit.ly/2p95aQ6: 1514812869,\n",
      "    http://ow.ly/Jslx30glEqQ: 1509765197,\n",
      "    http://tcrn.ch/2z5nmLS: 1509289255,\n",
      "    http://wsvn.com/news/us-world/tjx-continues-to-pay-employees-in-puerto-rico-despite-stores-being-closed/: 1510072009,\n",
      "    http://www.cbc.ca/1.4471337: 1515250101,\n",
      "    ...,\n",
      "    https://www.bloomberg.com/news/articles/2017-11-02/republicans-want-to-end-muni-bond-sales-by-businesses-stadiums?utm_source=Front+Office+Sports+Instant+Replay+Newsletter+Subscribers&utm_campaign=802e156112-EMAIL_CAMPAIGN_2017_11_03&utm_medium=email&utm_term=0_290d6bbe9a-802e156112-185058141: 1509732177,\n",
      "    https://www.cjr.org/analysis/trump-facebook-2017-publishers-social-media.php: 1514993922,\n",
      "    https://www.nytimes.com/2017/11/05/arts/television/conan-obrien-artistic-risks-late-night-talk-show.html?_r=0: 1509923215,\n",
      "    https://www.theonion.com/pet-researchers-confirm-100-of-owners-who-leave-for-wo-1820122953?utm_content=Main&utm_campaign=SF&utm_source=Facebook&utm_medium=SocialMarketing: 1515200462,\n",
      "    https://www.washingtonpost.com/news/the-switch/wp/2017/11/22/official-says-hes-been-stymied-by-the-fcc-in-investigation-of-fake-net-neutrality-foes/?tid=pm_business_pop&utm_term=.3068182c8f64: 1511456550\n",
      "  },\n",
      "  99791053: \n",
      "  {\n",
      "    http://fb.me/6Whft09Jl: 1511625937,\n",
      "    http://nyti.ms/2i3CHV1: 1509718429,\n",
      "    http://ow.ly/fV7Y30goAgw: 1509919291,\n",
      "    http://read.bi/2Cx8OWc: 1515345153,\n",
      "    http://wapo.st/2hF01Zs: 1511231163,\n",
      "    ...,\n",
      "    https://www.nytimes.com/2017/11/06/upshot/dont-nudge-me-the-limits-of-behavioral-economics-in-medicine.html?smprod=nytcore-ipad&smid=nytcore-ipad-share: 1510019027,\n",
      "    https://www.nytimes.com/2017/11/20/well/family/fat-shaming-weight-stigma-bullying-childhood-obesity.html?partner=rss&emc=rss: 1511231926,\n",
      "    https://www.theatlantic.com/health/archive/2017/12/should-meat-cost-more-than-gold/548264/: 1513346216,\n",
      "    https://www.washingtonpost.com/national/health-science/cdc-gets-list-of-forbidden-words-fetus-transgender-diversity/2017/12/15/f503837a-e1cf-11e7-89e8-edec16379010_story.html?utm_term=.ef567d23ecfc: 1513452708,\n",
      "    https://www.wsj.com/articles/the-armys-radical-fitness-shift-1509377795: 1509922709\n",
      "  },\n",
      "  997944516: \n",
      "  {\n",
      "    https://fb.me/7V1uWhLUM: 1514995658,\n",
      "    https://lnkd.in/d2MC8i2: 1515089529,\n",
      "    https://lnkd.in/dAWzN_H: 1514932610,\n",
      "    https://lnkd.in/dQUrpFY: 1514677372,\n",
      "    https://lnkd.in/dW-rHw5: 1513346935,\n",
      "    ...,\n",
      "    https://lnkd.in/dfkyHaT: 1512560534,\n",
      "    https://lnkd.in/dpiBx3q: 1515469979,\n",
      "    https://lnkd.in/dqwCGmk: 1514824778,\n",
      "    https://lnkd.in/gVBdtWQ: 1510111752,\n",
      "    https://www.wsj.com/articles/seven-tv-shows-every-executive-should-watch-1509115183: 1509884022\n",
      "  },\n",
      "  99895304: \n",
      "  {\n",
      "    http://bit.ly/2lYooUr: 1515172511,\n",
      "    http://bit.ly/2mcxtbE: 1515601202,\n",
      "    http://bit.ly/2nZAIay: 1513193487,\n",
      "    http://bit.ly/2yRAmDR: 1510954863,\n",
      "    http://journalrecord.com/2017/11/30/stubblefield-federal-bill-on-patent-reform-would-streamline-innovation-for-universities/: 1512500402,\n",
      "    ...,\n",
      "    http://thehill.com/opinion/judiciary/356267-anti-innovation-patent-tribunal-is-begging-scotus-to-check-its-power#.WekgowQUkcY.twitter: 1508450515,\n",
      "    http://thehill.com/opinion/technology/363629-protecting-intellectual-property-in-america-is-harder-than-ever#.WilI1nJJq3I.twitter: 1512655183,\n",
      "    http://wapo.st/2zGXyc8?tid=ss_tw&utm_term=.2979ba4090b9: 1510170087,\n",
      "    https://lnkd.in/esWnN4Q: 1511192099,\n",
      "    https://www.cnbc.com/2018/01/04/job-cut-announcements-in-2017-see-lowest-level-since-1990-challenger.html: 1515081090\n",
      "  }\n",
      "}\n"
     ]
    }
   ],
   "source": [
    "bp(trainUsers, logger)"
   ]
  },
  {
   "cell_type": "code",
   "execution_count": 25,
   "metadata": {},
   "outputs": [
    {
     "name": "stderr",
     "output_type": "stream",
     "text": [
      "We loose 75275 news because they are too old.\n",
      "We have 323572 news in train.\n",
      "We have 138785 news in test.\n",
      "Total available news in the dataset: 570210\n"
     ]
    }
   ],
   "source": [
    "log(\"We loose \" + str(len(previousNews)) + \" news because they are too old.\", logger)\n",
    "trainNewsCount = len(trainNews)\n",
    "log(\"We have \" + str(trainNewsCount) + \" news in train.\", logger)\n",
    "testNewsCount = len(testNews)\n",
    "log(\"We have \" + str(testNewsCount) + \" news in test.\", logger)\n",
    "totalNewsAvailable = len(newsCollection)\n",
    "log(\"Total available news in the dataset: \" + str(totalNewsAvailable), logger)\n",
    "assert len(afterNews) == 0"
   ]
  },
  {
   "cell_type": "code",
   "execution_count": 26,
   "metadata": {},
   "outputs": [
    {
     "name": "stderr",
     "output_type": "stream",
     "text": [
      "Mean news count per user in train: 28.0\n",
      "Mean news count per user in test: 10.67\n"
     ]
    }
   ],
   "source": [
    "trainMeanNewsPerUser = truncateFloat(np.mean([len(n) for u, n in trainUsers.items()]), 2)\n",
    "log(\"Mean news count per user in train: \" + str(trainMeanNewsPerUser), logger)\n",
    "testMeanNewsPerUser = truncateFloat(np.mean([len(n) for u, n in testUsers.items()]), 2)\n",
    "log(\"Mean news count per user in test: \" + str(testMeanNewsPerUser), logger)"
   ]
  },
  {
   "cell_type": "code",
   "execution_count": 27,
   "metadata": {},
   "outputs": [
    {
     "name": "stderr",
     "output_type": "stream",
     "text": [
      "Min news count per user in train: 8\n",
      "Min news count per user in test: 2\n",
      "Max news count per user in train: 443\n",
      "Max news count per user in test: 164\n"
     ]
    }
   ],
   "source": [
    "trainMinNewsPerUser = min([len(n) for u, n in trainUsers.items()])\n",
    "log(\"Min news count per user in train: \" + str(trainMinNewsPerUser), logger)\n",
    "testMinNewsPerUser = min([len(n) for u, n in testUsers.items()])\n",
    "log(\"Min news count per user in test: \" + str(testMinNewsPerUser), logger)\n",
    "trainMaxNewsPerUser = max([len(n) for u, n in trainUsers.items()])\n",
    "log(\"Max news count per user in train: \" + str(trainMaxNewsPerUser), logger)\n",
    "testMaxNewsPerUser = max([len(n) for u, n in testUsers.items()])\n",
    "log(\"Max news count per user in test: \" + str(testMaxNewsPerUser), logger)"
   ]
  },
  {
   "cell_type": "code",
   "execution_count": 28,
   "metadata": {},
   "outputs": [
    {
     "name": "stderr",
     "output_type": "stream",
     "text": [
      "Users count: 21239\n"
     ]
    }
   ],
   "source": [
    "usersCount = len(trainUsers)\n",
    "log(\"Users count: \" + str(usersCount), logger)"
   ]
  },
  {
   "cell_type": "code",
   "execution_count": null,
   "metadata": {},
   "outputs": [],
   "source": []
  },
  {
   "cell_type": "code",
   "execution_count": null,
   "metadata": {},
   "outputs": [],
   "source": []
  },
  {
   "cell_type": "markdown",
   "metadata": {},
   "source": [
    "# Adding a new eval"
   ]
  },
  {
   "cell_type": "code",
   "execution_count": 30,
   "metadata": {},
   "outputs": [],
   "source": [
    "outputDir = nosaveDir() + \"/twinews-splits\"\n",
    "mkdir(outputDir)"
   ]
  },
  {
   "cell_type": "code",
   "execution_count": 31,
   "metadata": {},
   "outputs": [],
   "source": [
    "version = 1\n",
    "filePath = outputDir + \"/v\" + str(version) + \".pickle.gzip\""
   ]
  },
  {
   "cell_type": "code",
   "execution_count": 32,
   "metadata": {},
   "outputs": [],
   "source": [
    "evalDict = dict()"
   ]
  },
  {
   "cell_type": "code",
   "execution_count": 33,
   "metadata": {},
   "outputs": [],
   "source": [
    "evalDict['stats'] = dict()\n",
    "evalDict['stats']['usersCount'] = usersCount\n",
    "evalDict['stats']['trainNewsCount'] = trainNewsCount\n",
    "evalDict['stats']['testNewsCount'] = testNewsCount\n",
    "evalDict['stats']['totalNewsAvailable'] = totalNewsAvailable\n",
    "evalDict['stats']['trainMeanNewsPerUser'] = trainMeanNewsPerUser\n",
    "evalDict['stats']['testMeanNewsPerUser'] = testMeanNewsPerUser\n",
    "evalDict['stats']['trainMinNewsPerUser'] = trainMinNewsPerUser\n",
    "evalDict['stats']['testMinNewsPerUser'] = testMinNewsPerUser\n",
    "evalDict['stats']['trainMaxNewsPerUser'] = trainMaxNewsPerUser\n",
    "evalDict['stats']['testMaxNewsPerUser'] = testMaxNewsPerUser"
   ]
  },
  {
   "cell_type": "code",
   "execution_count": 34,
   "metadata": {},
   "outputs": [],
   "source": [
    "evalDict['created'] = getDateSec()\n",
    "evalDict['ranksLength'] = ranksLength"
   ]
  },
  {
   "cell_type": "code",
   "execution_count": 35,
   "metadata": {},
   "outputs": [
    {
     "name": "stderr",
     "output_type": "stream",
     "text": [
      "{\n",
      "  'created': 2020.03.19-18.55.55,\n",
      "  'ranksLength': 1000,\n",
      "  'stats': { 'testMaxNewsPerUser': 164, 'testMeanNewsPerUser': 10.67, 'testMinNewsPerUser': 2, 'testNewsCount': 138785, 'totalNewsAvailable': 570210, 'trainMaxNewsPerUser': 443, 'trainMeanNewsPerUser': 28.0, 'trainMinNewsPerUser': 8, 'trainNewsCount': 323572, 'usersCount': 21239 }\n",
      "}\n"
     ]
    }
   ],
   "source": [
    "bp(evalDict, logger, 4)"
   ]
  },
  {
   "cell_type": "code",
   "execution_count": 36,
   "metadata": {},
   "outputs": [],
   "source": [
    "evalDict['trainNews'] = trainNews\n",
    "evalDict['testNews'] = testNews\n",
    "evalDict['trainUsers'] = trainUsers\n",
    "evalDict['testUsers'] = testUsers"
   ]
  },
  {
   "cell_type": "code",
   "execution_count": 37,
   "metadata": {},
   "outputs": [],
   "source": [
    "evalDict['candidates'] = candidates"
   ]
  },
  {
   "cell_type": "code",
   "execution_count": 38,
   "metadata": {},
   "outputs": [],
   "source": [
    "serialize(evalDict, filePath)"
   ]
  },
  {
   "cell_type": "code",
   "execution_count": null,
   "metadata": {},
   "outputs": [],
   "source": []
  },
  {
   "cell_type": "code",
   "execution_count": null,
   "metadata": {},
   "outputs": [],
   "source": []
  },
  {
   "cell_type": "markdown",
   "metadata": {},
   "source": [
    "# End"
   ]
  },
  {
   "cell_type": "code",
   "execution_count": null,
   "metadata": {},
   "outputs": [],
   "source": [
    "tt.toc()"
   ]
  },
  {
   "cell_type": "code",
   "execution_count": null,
   "metadata": {},
   "outputs": [],
   "source": []
  },
  {
   "cell_type": "code",
   "execution_count": null,
   "metadata": {},
   "outputs": [],
   "source": []
  }
 ],
 "metadata": {
  "kernelspec": {
   "display_name": "Python 3",
   "language": "python",
   "name": "python3"
  },
  "language_info": {
   "codemirror_mode": {
    "name": "ipython",
    "version": 3
   },
   "file_extension": ".py",
   "mimetype": "text/x-python",
   "name": "python",
   "nbconvert_exporter": "python",
   "pygments_lexer": "ipython3",
   "version": "3.6.10"
  }
 },
 "nbformat": 4,
 "nbformat_minor": 4
}
