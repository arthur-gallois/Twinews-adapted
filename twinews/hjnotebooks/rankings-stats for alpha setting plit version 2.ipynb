{
 "cells": [
  {
   "cell_type": "code",
   "execution_count": 1,
   "metadata": {},
   "outputs": [],
   "source": [
    "import os ; os.environ[\"CUDA_VISIBLE_DEVICES\"] = \"\""
   ]
  },
  {
   "cell_type": "code",
   "execution_count": 2,
   "metadata": {},
   "outputs": [],
   "source": [
    "from systemtools.hayj import *\n",
    "from systemtools.location import *\n",
    "from systemtools.basics import *\n",
    "from systemtools.file import *\n",
    "from systemtools.printer import *\n",
    "from datastructuretools.cache import *\n",
    "from twinews.utils import *\n",
    "from twinews.evaluation.utils import *\n",
    "from twinews.models.ranking import *"
   ]
  },
  {
   "cell_type": "code",
   "execution_count": 3,
   "metadata": {},
   "outputs": [
    {
     "data": {
      "text/html": [
       "\n",
       "    <div class=\"bk-root\">\n",
       "        <a href=\"https://bokeh.org\" target=\"_blank\" class=\"bk-logo bk-logo-small bk-logo-notebook\"></a>\n",
       "        <span id=\"1001\">Loading BokehJS ...</span>\n",
       "    </div>"
      ]
     },
     "metadata": {},
     "output_type": "display_data"
    },
    {
     "data": {
      "application/javascript": [
       "\n",
       "(function(root) {\n",
       "  function now() {\n",
       "    return new Date();\n",
       "  }\n",
       "\n",
       "  var force = true;\n",
       "\n",
       "  if (typeof root._bokeh_onload_callbacks === \"undefined\" || force === true) {\n",
       "    root._bokeh_onload_callbacks = [];\n",
       "    root._bokeh_is_loading = undefined;\n",
       "  }\n",
       "\n",
       "  var JS_MIME_TYPE = 'application/javascript';\n",
       "  var HTML_MIME_TYPE = 'text/html';\n",
       "  var EXEC_MIME_TYPE = 'application/vnd.bokehjs_exec.v0+json';\n",
       "  var CLASS_NAME = 'output_bokeh rendered_html';\n",
       "\n",
       "  /**\n",
       "   * Render data to the DOM node\n",
       "   */\n",
       "  function render(props, node) {\n",
       "    var script = document.createElement(\"script\");\n",
       "    node.appendChild(script);\n",
       "  }\n",
       "\n",
       "  /**\n",
       "   * Handle when an output is cleared or removed\n",
       "   */\n",
       "  function handleClearOutput(event, handle) {\n",
       "    var cell = handle.cell;\n",
       "\n",
       "    var id = cell.output_area._bokeh_element_id;\n",
       "    var server_id = cell.output_area._bokeh_server_id;\n",
       "    // Clean up Bokeh references\n",
       "    if (id != null && id in Bokeh.index) {\n",
       "      Bokeh.index[id].model.document.clear();\n",
       "      delete Bokeh.index[id];\n",
       "    }\n",
       "\n",
       "    if (server_id !== undefined) {\n",
       "      // Clean up Bokeh references\n",
       "      var cmd = \"from bokeh.io.state import curstate; print(curstate().uuid_to_server['\" + server_id + \"'].get_sessions()[0].document.roots[0]._id)\";\n",
       "      cell.notebook.kernel.execute(cmd, {\n",
       "        iopub: {\n",
       "          output: function(msg) {\n",
       "            var id = msg.content.text.trim();\n",
       "            if (id in Bokeh.index) {\n",
       "              Bokeh.index[id].model.document.clear();\n",
       "              delete Bokeh.index[id];\n",
       "            }\n",
       "          }\n",
       "        }\n",
       "      });\n",
       "      // Destroy server and session\n",
       "      var cmd = \"import bokeh.io.notebook as ion; ion.destroy_server('\" + server_id + \"')\";\n",
       "      cell.notebook.kernel.execute(cmd);\n",
       "    }\n",
       "  }\n",
       "\n",
       "  /**\n",
       "   * Handle when a new output is added\n",
       "   */\n",
       "  function handleAddOutput(event, handle) {\n",
       "    var output_area = handle.output_area;\n",
       "    var output = handle.output;\n",
       "\n",
       "    // limit handleAddOutput to display_data with EXEC_MIME_TYPE content only\n",
       "    if ((output.output_type != \"display_data\") || (!output.data.hasOwnProperty(EXEC_MIME_TYPE))) {\n",
       "      return\n",
       "    }\n",
       "\n",
       "    var toinsert = output_area.element.find(\".\" + CLASS_NAME.split(' ')[0]);\n",
       "\n",
       "    if (output.metadata[EXEC_MIME_TYPE][\"id\"] !== undefined) {\n",
       "      toinsert[toinsert.length - 1].firstChild.textContent = output.data[JS_MIME_TYPE];\n",
       "      // store reference to embed id on output_area\n",
       "      output_area._bokeh_element_id = output.metadata[EXEC_MIME_TYPE][\"id\"];\n",
       "    }\n",
       "    if (output.metadata[EXEC_MIME_TYPE][\"server_id\"] !== undefined) {\n",
       "      var bk_div = document.createElement(\"div\");\n",
       "      bk_div.innerHTML = output.data[HTML_MIME_TYPE];\n",
       "      var script_attrs = bk_div.children[0].attributes;\n",
       "      for (var i = 0; i < script_attrs.length; i++) {\n",
       "        toinsert[toinsert.length - 1].firstChild.setAttribute(script_attrs[i].name, script_attrs[i].value);\n",
       "        toinsert[toinsert.length - 1].firstChild.textContent = bk_div.children[0].textContent\n",
       "      }\n",
       "      // store reference to server id on output_area\n",
       "      output_area._bokeh_server_id = output.metadata[EXEC_MIME_TYPE][\"server_id\"];\n",
       "    }\n",
       "  }\n",
       "\n",
       "  function register_renderer(events, OutputArea) {\n",
       "\n",
       "    function append_mime(data, metadata, element) {\n",
       "      // create a DOM node to render to\n",
       "      var toinsert = this.create_output_subarea(\n",
       "        metadata,\n",
       "        CLASS_NAME,\n",
       "        EXEC_MIME_TYPE\n",
       "      );\n",
       "      this.keyboard_manager.register_events(toinsert);\n",
       "      // Render to node\n",
       "      var props = {data: data, metadata: metadata[EXEC_MIME_TYPE]};\n",
       "      render(props, toinsert[toinsert.length - 1]);\n",
       "      element.append(toinsert);\n",
       "      return toinsert\n",
       "    }\n",
       "\n",
       "    /* Handle when an output is cleared or removed */\n",
       "    events.on('clear_output.CodeCell', handleClearOutput);\n",
       "    events.on('delete.Cell', handleClearOutput);\n",
       "\n",
       "    /* Handle when a new output is added */\n",
       "    events.on('output_added.OutputArea', handleAddOutput);\n",
       "\n",
       "    /**\n",
       "     * Register the mime type and append_mime function with output_area\n",
       "     */\n",
       "    OutputArea.prototype.register_mime_type(EXEC_MIME_TYPE, append_mime, {\n",
       "      /* Is output safe? */\n",
       "      safe: true,\n",
       "      /* Index of renderer in `output_area.display_order` */\n",
       "      index: 0\n",
       "    });\n",
       "  }\n",
       "\n",
       "  // register the mime type if in Jupyter Notebook environment and previously unregistered\n",
       "  if (root.Jupyter !== undefined) {\n",
       "    var events = require('base/js/events');\n",
       "    var OutputArea = require('notebook/js/outputarea').OutputArea;\n",
       "\n",
       "    if (OutputArea.prototype.mime_types().indexOf(EXEC_MIME_TYPE) == -1) {\n",
       "      register_renderer(events, OutputArea);\n",
       "    }\n",
       "  }\n",
       "\n",
       "  \n",
       "  if (typeof (root._bokeh_timeout) === \"undefined\" || force === true) {\n",
       "    root._bokeh_timeout = Date.now() + 5000;\n",
       "    root._bokeh_failed_load = false;\n",
       "  }\n",
       "\n",
       "  var NB_LOAD_WARNING = {'data': {'text/html':\n",
       "     \"<div style='background-color: #fdd'>\\n\"+\n",
       "     \"<p>\\n\"+\n",
       "     \"BokehJS does not appear to have successfully loaded. If loading BokehJS from CDN, this \\n\"+\n",
       "     \"may be due to a slow or bad network connection. Possible fixes:\\n\"+\n",
       "     \"</p>\\n\"+\n",
       "     \"<ul>\\n\"+\n",
       "     \"<li>re-rerun `output_notebook()` to attempt to load from CDN again, or</li>\\n\"+\n",
       "     \"<li>use INLINE resources instead, as so:</li>\\n\"+\n",
       "     \"</ul>\\n\"+\n",
       "     \"<code>\\n\"+\n",
       "     \"from bokeh.resources import INLINE\\n\"+\n",
       "     \"output_notebook(resources=INLINE)\\n\"+\n",
       "     \"</code>\\n\"+\n",
       "     \"</div>\"}};\n",
       "\n",
       "  function display_loaded() {\n",
       "    var el = document.getElementById(\"1001\");\n",
       "    if (el != null) {\n",
       "      el.textContent = \"BokehJS is loading...\";\n",
       "    }\n",
       "    if (root.Bokeh !== undefined) {\n",
       "      if (el != null) {\n",
       "        el.textContent = \"BokehJS \" + root.Bokeh.version + \" successfully loaded.\";\n",
       "      }\n",
       "    } else if (Date.now() < root._bokeh_timeout) {\n",
       "      setTimeout(display_loaded, 100)\n",
       "    }\n",
       "  }\n",
       "\n",
       "\n",
       "  function run_callbacks() {\n",
       "    try {\n",
       "      root._bokeh_onload_callbacks.forEach(function(callback) {\n",
       "        if (callback != null)\n",
       "          callback();\n",
       "      });\n",
       "    } finally {\n",
       "      delete root._bokeh_onload_callbacks\n",
       "    }\n",
       "    console.debug(\"Bokeh: all callbacks have finished\");\n",
       "  }\n",
       "\n",
       "  function load_libs(css_urls, js_urls, callback) {\n",
       "    if (css_urls == null) css_urls = [];\n",
       "    if (js_urls == null) js_urls = [];\n",
       "\n",
       "    root._bokeh_onload_callbacks.push(callback);\n",
       "    if (root._bokeh_is_loading > 0) {\n",
       "      console.debug(\"Bokeh: BokehJS is being loaded, scheduling callback at\", now());\n",
       "      return null;\n",
       "    }\n",
       "    if (js_urls == null || js_urls.length === 0) {\n",
       "      run_callbacks();\n",
       "      return null;\n",
       "    }\n",
       "    console.debug(\"Bokeh: BokehJS not loaded, scheduling load and callback at\", now());\n",
       "    root._bokeh_is_loading = css_urls.length + js_urls.length;\n",
       "\n",
       "    function on_load() {\n",
       "      root._bokeh_is_loading--;\n",
       "      if (root._bokeh_is_loading === 0) {\n",
       "        console.debug(\"Bokeh: all BokehJS libraries/stylesheets loaded\");\n",
       "        run_callbacks()\n",
       "      }\n",
       "    }\n",
       "\n",
       "    function on_error() {\n",
       "      console.error(\"failed to load \" + url);\n",
       "    }\n",
       "\n",
       "    for (var i = 0; i < css_urls.length; i++) {\n",
       "      var url = css_urls[i];\n",
       "      const element = document.createElement(\"link\");\n",
       "      element.onload = on_load;\n",
       "      element.onerror = on_error;\n",
       "      element.rel = \"stylesheet\";\n",
       "      element.type = \"text/css\";\n",
       "      element.href = url;\n",
       "      console.debug(\"Bokeh: injecting link tag for BokehJS stylesheet: \", url);\n",
       "      document.body.appendChild(element);\n",
       "    }\n",
       "\n",
       "    for (var i = 0; i < js_urls.length; i++) {\n",
       "      var url = js_urls[i];\n",
       "      var element = document.createElement('script');\n",
       "      element.onload = on_load;\n",
       "      element.onerror = on_error;\n",
       "      element.async = false;\n",
       "      element.src = url;\n",
       "      \n",
       "      console.debug(\"Bokeh: injecting script tag for BokehJS library: \", url);\n",
       "      document.head.appendChild(element);\n",
       "    }\n",
       "  };var element = document.getElementById(\"1001\");\n",
       "  if (element == null) {\n",
       "    console.error(\"Bokeh: ERROR: autoload.js configured with elementid '1001' but no matching script tag was found. \")\n",
       "    return false;\n",
       "  }\n",
       "\n",
       "  function inject_raw_css(css) {\n",
       "    const element = document.createElement(\"style\");\n",
       "    element.appendChild(document.createTextNode(css));\n",
       "    document.body.appendChild(element);\n",
       "  }\n",
       "\n",
       "  \n",
       "  var js_urls = [\"https://cdn.bokeh.org/bokeh/release/bokeh-2.0.0.min.js\", \"https://cdn.bokeh.org/bokeh/release/bokeh-widgets-2.0.0.min.js\", \"https://cdn.bokeh.org/bokeh/release/bokeh-tables-2.0.0.min.js\", \"https://cdn.bokeh.org/bokeh/release/bokeh-gl-2.0.0.min.js\"];\n",
       "  var css_urls = [];\n",
       "  \n",
       "\n",
       "  var inline_js = [\n",
       "    function(Bokeh) {\n",
       "      Bokeh.set_log_level(\"info\");\n",
       "    },\n",
       "    function(Bokeh) {\n",
       "    \n",
       "    \n",
       "    }\n",
       "  ];\n",
       "\n",
       "  function run_inline_js() {\n",
       "    \n",
       "    if (root.Bokeh !== undefined || force === true) {\n",
       "      \n",
       "    for (var i = 0; i < inline_js.length; i++) {\n",
       "      inline_js[i].call(root, root.Bokeh);\n",
       "    }\n",
       "    if (force === true) {\n",
       "        display_loaded();\n",
       "      }} else if (Date.now() < root._bokeh_timeout) {\n",
       "      setTimeout(run_inline_js, 100);\n",
       "    } else if (!root._bokeh_failed_load) {\n",
       "      console.log(\"Bokeh: BokehJS failed to load within specified timeout.\");\n",
       "      root._bokeh_failed_load = true;\n",
       "    } else if (force !== true) {\n",
       "      var cell = $(document.getElementById(\"1001\")).parents('.cell').data().cell;\n",
       "      cell.output_area.append_execute_result(NB_LOAD_WARNING)\n",
       "    }\n",
       "\n",
       "  }\n",
       "\n",
       "  if (root._bokeh_is_loading === 0) {\n",
       "    console.debug(\"Bokeh: BokehJS loaded, going straight to plotting\");\n",
       "    run_inline_js();\n",
       "  } else {\n",
       "    load_libs(css_urls, js_urls, function() {\n",
       "      console.debug(\"Bokeh: BokehJS plotting callback run at\", now());\n",
       "      run_inline_js();\n",
       "    });\n",
       "  }\n",
       "}(window));"
      ],
      "application/vnd.bokehjs_load.v0+json": "\n(function(root) {\n  function now() {\n    return new Date();\n  }\n\n  var force = true;\n\n  if (typeof root._bokeh_onload_callbacks === \"undefined\" || force === true) {\n    root._bokeh_onload_callbacks = [];\n    root._bokeh_is_loading = undefined;\n  }\n\n  \n\n  \n  if (typeof (root._bokeh_timeout) === \"undefined\" || force === true) {\n    root._bokeh_timeout = Date.now() + 5000;\n    root._bokeh_failed_load = false;\n  }\n\n  var NB_LOAD_WARNING = {'data': {'text/html':\n     \"<div style='background-color: #fdd'>\\n\"+\n     \"<p>\\n\"+\n     \"BokehJS does not appear to have successfully loaded. If loading BokehJS from CDN, this \\n\"+\n     \"may be due to a slow or bad network connection. Possible fixes:\\n\"+\n     \"</p>\\n\"+\n     \"<ul>\\n\"+\n     \"<li>re-rerun `output_notebook()` to attempt to load from CDN again, or</li>\\n\"+\n     \"<li>use INLINE resources instead, as so:</li>\\n\"+\n     \"</ul>\\n\"+\n     \"<code>\\n\"+\n     \"from bokeh.resources import INLINE\\n\"+\n     \"output_notebook(resources=INLINE)\\n\"+\n     \"</code>\\n\"+\n     \"</div>\"}};\n\n  function display_loaded() {\n    var el = document.getElementById(\"1001\");\n    if (el != null) {\n      el.textContent = \"BokehJS is loading...\";\n    }\n    if (root.Bokeh !== undefined) {\n      if (el != null) {\n        el.textContent = \"BokehJS \" + root.Bokeh.version + \" successfully loaded.\";\n      }\n    } else if (Date.now() < root._bokeh_timeout) {\n      setTimeout(display_loaded, 100)\n    }\n  }\n\n\n  function run_callbacks() {\n    try {\n      root._bokeh_onload_callbacks.forEach(function(callback) {\n        if (callback != null)\n          callback();\n      });\n    } finally {\n      delete root._bokeh_onload_callbacks\n    }\n    console.debug(\"Bokeh: all callbacks have finished\");\n  }\n\n  function load_libs(css_urls, js_urls, callback) {\n    if (css_urls == null) css_urls = [];\n    if (js_urls == null) js_urls = [];\n\n    root._bokeh_onload_callbacks.push(callback);\n    if (root._bokeh_is_loading > 0) {\n      console.debug(\"Bokeh: BokehJS is being loaded, scheduling callback at\", now());\n      return null;\n    }\n    if (js_urls == null || js_urls.length === 0) {\n      run_callbacks();\n      return null;\n    }\n    console.debug(\"Bokeh: BokehJS not loaded, scheduling load and callback at\", now());\n    root._bokeh_is_loading = css_urls.length + js_urls.length;\n\n    function on_load() {\n      root._bokeh_is_loading--;\n      if (root._bokeh_is_loading === 0) {\n        console.debug(\"Bokeh: all BokehJS libraries/stylesheets loaded\");\n        run_callbacks()\n      }\n    }\n\n    function on_error() {\n      console.error(\"failed to load \" + url);\n    }\n\n    for (var i = 0; i < css_urls.length; i++) {\n      var url = css_urls[i];\n      const element = document.createElement(\"link\");\n      element.onload = on_load;\n      element.onerror = on_error;\n      element.rel = \"stylesheet\";\n      element.type = \"text/css\";\n      element.href = url;\n      console.debug(\"Bokeh: injecting link tag for BokehJS stylesheet: \", url);\n      document.body.appendChild(element);\n    }\n\n    for (var i = 0; i < js_urls.length; i++) {\n      var url = js_urls[i];\n      var element = document.createElement('script');\n      element.onload = on_load;\n      element.onerror = on_error;\n      element.async = false;\n      element.src = url;\n      \n      console.debug(\"Bokeh: injecting script tag for BokehJS library: \", url);\n      document.head.appendChild(element);\n    }\n  };var element = document.getElementById(\"1001\");\n  if (element == null) {\n    console.error(\"Bokeh: ERROR: autoload.js configured with elementid '1001' but no matching script tag was found. \")\n    return false;\n  }\n\n  function inject_raw_css(css) {\n    const element = document.createElement(\"style\");\n    element.appendChild(document.createTextNode(css));\n    document.body.appendChild(element);\n  }\n\n  \n  var js_urls = [\"https://cdn.bokeh.org/bokeh/release/bokeh-2.0.0.min.js\", \"https://cdn.bokeh.org/bokeh/release/bokeh-widgets-2.0.0.min.js\", \"https://cdn.bokeh.org/bokeh/release/bokeh-tables-2.0.0.min.js\", \"https://cdn.bokeh.org/bokeh/release/bokeh-gl-2.0.0.min.js\"];\n  var css_urls = [];\n  \n\n  var inline_js = [\n    function(Bokeh) {\n      Bokeh.set_log_level(\"info\");\n    },\n    function(Bokeh) {\n    \n    \n    }\n  ];\n\n  function run_inline_js() {\n    \n    if (root.Bokeh !== undefined || force === true) {\n      \n    for (var i = 0; i < inline_js.length; i++) {\n      inline_js[i].call(root, root.Bokeh);\n    }\n    if (force === true) {\n        display_loaded();\n      }} else if (Date.now() < root._bokeh_timeout) {\n      setTimeout(run_inline_js, 100);\n    } else if (!root._bokeh_failed_load) {\n      console.log(\"Bokeh: BokehJS failed to load within specified timeout.\");\n      root._bokeh_failed_load = true;\n    } else if (force !== true) {\n      var cell = $(document.getElementById(\"1001\")).parents('.cell').data().cell;\n      cell.output_area.append_execute_result(NB_LOAD_WARNING)\n    }\n\n  }\n\n  if (root._bokeh_is_loading === 0) {\n    console.debug(\"Bokeh: BokehJS loaded, going straight to plotting\");\n    run_inline_js();\n  } else {\n    load_libs(css_urls, js_urls, function() {\n      console.debug(\"Bokeh: BokehJS plotting callback run at\", now());\n      run_inline_js();\n    });\n  }\n}(window));"
     },
     "metadata": {},
     "output_type": "display_data"
    }
   ],
   "source": [
    "from dataviztools import bokehutils\n",
    "from bokeh.plotting import output_notebook, show\n",
    "from bokeh.layouts import gridplot\n",
    "from bokeh.plotting import figure\n",
    "output_notebook()"
   ]
  },
  {
   "cell_type": "code",
   "execution_count": 4,
   "metadata": {},
   "outputs": [
    {
     "data": {
      "text/plain": [
       "<module 'dataviztools.bokehutils' from '/hosthome/Workspace/Python/Utils/DatavizTools/dataviztools/bokehutils.py'>"
      ]
     },
     "execution_count": 4,
     "metadata": {},
     "output_type": "execute_result"
    }
   ],
   "source": [
    "import importlib\n",
    "importlib.reload(bokehutils)"
   ]
  },
  {
   "cell_type": "code",
   "execution_count": 9,
   "metadata": {},
   "outputs": [],
   "source": [
    "from machinelearning.function import *"
   ]
  },
  {
   "cell_type": "code",
   "execution_count": 5,
   "metadata": {},
   "outputs": [],
   "source": [
    "logger = Logger()"
   ]
  },
  {
   "cell_type": "code",
   "execution_count": null,
   "metadata": {},
   "outputs": [],
   "source": []
  },
  {
   "cell_type": "code",
   "execution_count": null,
   "metadata": {},
   "outputs": [],
   "source": []
  },
  {
   "cell_type": "markdown",
   "metadata": {},
   "source": [
    "# Printing stats on rankings"
   ]
  },
  {
   "cell_type": "code",
   "execution_count": 11,
   "metadata": {},
   "outputs": [
    {
     "name": "stdout",
     "output_type": "stream",
     "text": [
      "['dbert-base-fe9f3']\n"
     ]
    }
   ],
   "source": [
    "twinewsRankings = getTwinewsRankings()\n",
    "models = set()\n",
    "for row in twinewsRankings.collection.find({\"meta.splitVersion\": 2, 'meta.maxUsers': None}):\n",
    "    if row['meta']['model'] != 'combin':\n",
    "        models.add(row['meta']['model'])\n",
    "models.remove('worst')\n",
    "models.remove('ideal')\n",
    "models.remove('random')\n",
    "keys = set()\n",
    "for model in models:\n",
    "    keys.add(twinewsRankings.collection.find_one({'meta.model': model, \"meta.splitVersion\": 2, 'meta.maxUsers': None})['id'])\n",
    "# keys.add(\"combin-8f846\")\n",
    "# keys.add(\"combin-efad4\")\n",
    "keys = {'dbert-base-fe9f3', 'sent2vec-7e0f9'}\n",
    "keys = {'dbert-base-fe9f3'}\n",
    "keys = sorted(list(keys))\n",
    "print(keys)"
   ]
  },
  {
   "cell_type": "code",
   "execution_count": 13,
   "metadata": {},
   "outputs": [],
   "source": [
    "def rankingReport(rankings, maxUsers=None, logger=None, verbose=True, pbarVerbose=True):\n",
    "    if maxUsers is not None:\n",
    "        keys = shuffle(list(rankings.keys()), seed=0)[:maxUsers]\n",
    "        rankings = dictSelect(rankings, keys)\n",
    "    # We find all data:\n",
    "    medians = []\n",
    "    means = []\n",
    "    rkvs = []\n",
    "    scoress = []\n",
    "    allScores = []\n",
    "    for userId in pb(list(rankings.keys()), logger=logger, verbose=pbarVerbose):\n",
    "        assert isinstance(rankings[userId][0][0], tuple)\n",
    "        scores = [e[1] for e in rankings[userId][0]]\n",
    "        scores = normalizeRankingScores(scores)\n",
    "        scores = normalizedLawX(scores, alpha=0.2, beta=NormalizedLawBeta.EXP, inverse=False)\n",
    "        medians.append(np.median(scores))\n",
    "        means.append(np.mean(scores))\n",
    "        rkvs.append(rankingVariance(scores))\n",
    "        scoress.append(scores)\n",
    "        allScores += list(scores)\n",
    "    # We print means and std:\n",
    "    for values, label in \\\n",
    "    [\n",
    "        (medians, \"Median\"), (means, \"Mean\"),\n",
    "        (rkvs, \"Ranking variance\")\n",
    "    ]:\n",
    "        std = np.std(values)\n",
    "        # std = mean_confidence_interval(values)\n",
    "        std = truncateFloat(std, 2)\n",
    "        mean = truncateFloat(np.mean(values), 2)\n",
    "        text = label + \": \" + str(mean) + \" ±\" + str(std) + \" (95%)\"\n",
    "        log(text, logger, verbose=verbose)\n",
    "    # We show all scores histogram:\n",
    "    log(\"Histogram of all scores (as distances):\", logger=logger, verbose=verbose)\n",
    "    # show(bokehutils.barplot(allScores, 30, hideTools=True, hideXAxis=True, hideYAxis=True, title=\"\", height=100, width=300))\n",
    "    show(bokehutils.barplot(allScores, 30, hideTools=False, hideXAxis=True, hideYAxis=True, title=\"\", height=100*2, width=300*2))\n",
    "    # We show a sample of scores:\n",
    "    log(\"Histogram samples of scores (as distances):\", logger=logger, verbose=verbose)\n",
    "    scoress = shuffle(list(scoress))\n",
    "    figures = []\n",
    "    for row in range(3):\n",
    "        currentFigures = []\n",
    "        for col in range(3):\n",
    "            scores = scoress.pop()\n",
    "            f = bokehutils.barplot(scores, 10, hideTools=True, hideXAxis=True, hideYAxis=True, title=\"\", height=40, width=100)\n",
    "            currentFigures.append(f)\n",
    "        figures.append(currentFigures)\n",
    "    grid = gridplot(figures, toolbar_options={'logo': None})\n",
    "    show(grid)"
   ]
  },
  {
   "cell_type": "code",
   "execution_count": 14,
   "metadata": {
    "scrolled": false
   },
   "outputs": [
    {
     "name": "stdout",
     "output_type": "stream",
     "text": [
      "--> tictoc starts...\n",
      "#################### dbert-base-fe9f3 ####################\n",
      "--> tic: 18.08s | message: Got dbert-base-fe9f3 rankings\n",
      "Median: 0.41 ±0.1 (95%)\n",
      "Mean: 0.42 ±0.09 (95%)\n",
      "Ranking variance: 0.0 ±0.0 (95%)\n",
      "Histogram of all scores (as distances):\n"
     ]
    },
    {
     "data": {
      "text/html": [
       "\n",
       "\n",
       "\n",
       "\n",
       "\n",
       "\n",
       "  <div class=\"bk-root\" id=\"cc335ee8-a418-47b8-9c95-7aa5ca73d30e\" data-root-id=\"3206\"></div>\n"
      ]
     },
     "metadata": {},
     "output_type": "display_data"
    },
    {
     "data": {
      "application/javascript": [
       "(function(root) {\n",
       "  function embed_document(root) {\n",
       "    \n",
       "  var docs_json = {\"e4b2dffb-db2d-401a-98b7-54c45ac7ee6d\":{\"roots\":{\"references\":[{\"attributes\":{\"below\":[{\"id\":\"3217\"}],\"center\":[{\"id\":\"3219\"},{\"id\":\"3223\"}],\"left\":[{\"id\":\"3220\"}],\"plot_height\":200,\"renderers\":[{\"id\":\"3240\"}],\"title\":{\"id\":\"3207\"},\"toolbar\":{\"id\":\"3230\"},\"x_range\":{\"id\":\"3209\"},\"x_scale\":{\"id\":\"3213\"},\"y_range\":{\"id\":\"3211\"},\"y_scale\":{\"id\":\"3215\"}},\"id\":\"3206\",\"subtype\":\"Figure\",\"type\":\"Plot\"},{\"attributes\":{},\"id\":\"3408\",\"type\":\"UnionRenderers\"},{\"attributes\":{},\"id\":\"3229\",\"type\":\"HelpTool\"},{\"attributes\":{\"active_drag\":\"auto\",\"active_inspect\":\"auto\",\"active_multi\":null,\"active_scroll\":\"auto\",\"active_tap\":\"auto\",\"tools\":[{\"id\":\"3224\"},{\"id\":\"3225\"},{\"id\":\"3226\"},{\"id\":\"3227\"},{\"id\":\"3228\"},{\"id\":\"3229\"}]},\"id\":\"3230\",\"type\":\"Toolbar\"},{\"attributes\":{\"source\":{\"id\":\"3237\"}},\"id\":\"3241\",\"type\":\"CDSView\"},{\"attributes\":{\"text\":\"\"},\"id\":\"3207\",\"type\":\"Title\"},{\"attributes\":{\"factors\":[\">= 0.0\",\">= 0.03\",\">= 0.06\",\">= 0.1\",\">= 0.13\",\">= 0.16\",\">= 0.2\",\">= 0.23\",\">= 0.26\",\">= 0.3\",\">= 0.33\",\">= 0.36\",\">= 0.4\",\">= 0.43\",\">= 0.46\",\">= 0.5\",\">= 0.53\",\">= 0.56\",\">= 0.6\",\">= 0.63\",\">= 0.66\",\">= 0.7\",\">= 0.73\",\">= 0.76\",\">= 0.8\",\">= 0.83\",\">= 0.86\",\">= 0.9\",\">= 0.93\",\">= 0.96\"]},\"id\":\"3209\",\"type\":\"FactorRange\"},{\"attributes\":{},\"id\":\"3211\",\"type\":\"DataRange1d\"},{\"attributes\":{},\"id\":\"3213\",\"type\":\"CategoricalScale\"},{\"attributes\":{},\"id\":\"3403\",\"type\":\"CategoricalTickFormatter\"},{\"attributes\":{},\"id\":\"3215\",\"type\":\"LinearScale\"},{\"attributes\":{\"formatter\":{\"id\":\"3403\"},\"major_label_orientation\":1,\"ticker\":{\"id\":\"3218\"},\"visible\":false},\"id\":\"3217\",\"type\":\"CategoricalAxis\"},{\"attributes\":{},\"id\":\"3218\",\"type\":\"CategoricalTicker\"},{\"attributes\":{\"axis\":{\"id\":\"3217\"},\"grid_line_color\":null,\"ticker\":null},\"id\":\"3219\",\"type\":\"Grid\"},{\"attributes\":{\"data_source\":{\"id\":\"3237\"},\"glyph\":{\"id\":\"3238\"},\"hover_glyph\":null,\"muted_glyph\":null,\"nonselection_glyph\":{\"id\":\"3239\"},\"selection_glyph\":null,\"view\":{\"id\":\"3241\"}},\"id\":\"3240\",\"type\":\"GlyphRenderer\"},{\"attributes\":{},\"id\":\"3225\",\"type\":\"WheelZoomTool\"},{\"attributes\":{\"formatter\":{\"id\":\"3405\"},\"ticker\":{\"id\":\"3221\"},\"visible\":false},\"id\":\"3220\",\"type\":\"LinearAxis\"},{\"attributes\":{},\"id\":\"3405\",\"type\":\"BasicTickFormatter\"},{\"attributes\":{\"overlay\":{\"id\":\"3407\"}},\"id\":\"3226\",\"type\":\"BoxZoomTool\"},{\"attributes\":{},\"id\":\"3227\",\"type\":\"SaveTool\"},{\"attributes\":{},\"id\":\"3221\",\"type\":\"BasicTicker\"},{\"attributes\":{},\"id\":\"3228\",\"type\":\"ResetTool\"},{\"attributes\":{\"axis\":{\"id\":\"3220\"},\"dimension\":1,\"ticker\":null},\"id\":\"3223\",\"type\":\"Grid\"},{\"attributes\":{},\"id\":\"3409\",\"type\":\"Selection\"},{\"attributes\":{\"fill_alpha\":{\"value\":0.1},\"fill_color\":{\"value\":\"#007acc\"},\"line_alpha\":{\"value\":0.1},\"line_color\":{\"value\":\"#007acc\"},\"top\":{\"field\":\"top\"},\"width\":{\"value\":0.9},\"x\":{\"field\":\"x\"}},\"id\":\"3239\",\"type\":\"VBar\"},{\"attributes\":{\"data\":{\"top\":[52198,90297,180267,305004,453475,608221,759164,893470,1003747,1076487,1111328,1111934,1078620,1017129,939915,846005,748260,652237,560102,475410,397487,330293,271170,221397,178651,143698,116836,95824,81472,104902],\"x\":[\">= 0.0\",\">= 0.03\",\">= 0.06\",\">= 0.1\",\">= 0.13\",\">= 0.16\",\">= 0.2\",\">= 0.23\",\">= 0.26\",\">= 0.3\",\">= 0.33\",\">= 0.36\",\">= 0.4\",\">= 0.43\",\">= 0.46\",\">= 0.5\",\">= 0.53\",\">= 0.56\",\">= 0.6\",\">= 0.63\",\">= 0.66\",\">= 0.7\",\">= 0.73\",\">= 0.76\",\">= 0.8\",\">= 0.83\",\">= 0.86\",\">= 0.9\",\">= 0.93\",\">= 0.96\"]},\"selected\":{\"id\":\"3409\"},\"selection_policy\":{\"id\":\"3408\"}},\"id\":\"3237\",\"type\":\"ColumnDataSource\"},{\"attributes\":{\"bottom_units\":\"screen\",\"fill_alpha\":0.5,\"fill_color\":\"lightgrey\",\"left_units\":\"screen\",\"level\":\"overlay\",\"line_alpha\":1.0,\"line_color\":\"black\",\"line_dash\":[4,4],\"line_width\":2,\"render_mode\":\"css\",\"right_units\":\"screen\",\"top_units\":\"screen\"},\"id\":\"3407\",\"type\":\"BoxAnnotation\"},{\"attributes\":{\"fill_color\":{\"value\":\"#007acc\"},\"line_color\":{\"value\":\"#007acc\"},\"top\":{\"field\":\"top\"},\"width\":{\"value\":0.9},\"x\":{\"field\":\"x\"}},\"id\":\"3238\",\"type\":\"VBar\"},{\"attributes\":{},\"id\":\"3224\",\"type\":\"PanTool\"}],\"root_ids\":[\"3206\"]},\"title\":\"Bokeh Application\",\"version\":\"2.0.0\"}};\n",
       "  var render_items = [{\"docid\":\"e4b2dffb-db2d-401a-98b7-54c45ac7ee6d\",\"root_ids\":[\"3206\"],\"roots\":{\"3206\":\"cc335ee8-a418-47b8-9c95-7aa5ca73d30e\"}}];\n",
       "  root.Bokeh.embed.embed_items_notebook(docs_json, render_items);\n",
       "\n",
       "  }\n",
       "  if (root.Bokeh !== undefined) {\n",
       "    embed_document(root);\n",
       "  } else {\n",
       "    var attempts = 0;\n",
       "    var timer = setInterval(function(root) {\n",
       "      if (root.Bokeh !== undefined) {\n",
       "        clearInterval(timer);\n",
       "        embed_document(root);\n",
       "      } else {\n",
       "        attempts++;\n",
       "        if (attempts > 100) {\n",
       "          clearInterval(timer);\n",
       "          console.log(\"Bokeh: ERROR: Unable to run BokehJS code because BokehJS library is missing\");\n",
       "        }\n",
       "      }\n",
       "    }, 10, root)\n",
       "  }\n",
       "})(window);"
      ],
      "application/vnd.bokehjs_exec.v0+json": ""
     },
     "metadata": {
      "application/vnd.bokehjs_exec.v0+json": {
       "id": "3206"
      }
     },
     "output_type": "display_data"
    },
    {
     "name": "stdout",
     "output_type": "stream",
     "text": [
      "Histogram samples of scores (as distances):\n"
     ]
    },
    {
     "data": {
      "text/html": [
       "\n",
       "\n",
       "\n",
       "\n",
       "\n",
       "\n",
       "  <div class=\"bk-root\" id=\"a00cbdea-3946-4026-8b8d-80bfb06c0131\" data-root-id=\"3875\"></div>\n"
      ]
     },
     "metadata": {},
     "output_type": "display_data"
    },
    {
     "data": {
      "application/javascript": [
       "(function(root) {\n",
       "  function embed_document(root) {\n",
       "    \n",
       "  var docs_json = {\"27215291-b4b8-4dd4-a963-8e291f560813\":{\"roots\":{\"references\":[{\"attributes\":{\"children\":[{\"id\":\"3874\"},{\"id\":\"3872\"}]},\"id\":\"3875\",\"type\":\"Column\"},{\"attributes\":{\"formatter\":{\"id\":\"3810\"},\"major_label_orientation\":1,\"ticker\":{\"id\":\"3544\"},\"visible\":false},\"id\":\"3543\",\"type\":\"CategoricalAxis\"},{\"attributes\":{},\"id\":\"3729\",\"type\":\"CategoricalTicker\"},{\"attributes\":{},\"id\":\"3547\",\"type\":\"BasicTicker\"},{\"attributes\":{},\"id\":\"3839\",\"type\":\"BasicTickFormatter\"},{\"attributes\":{\"axis\":{\"id\":\"3728\"},\"grid_line_color\":null,\"ticker\":null},\"id\":\"3730\",\"type\":\"Grid\"},{\"attributes\":{\"data\":{\"top\":[18,104,221,272,161,117,46,30,11,20],\"x\":[\">= 0.0\",\">= 0.1\",\">= 0.2\",\">= 0.3\",\">= 0.4\",\">= 0.5\",\">= 0.6\",\">= 0.7\",\">= 0.8\",\">= 0.9\"]},\"selected\":{\"id\":\"3816\"},\"selection_policy\":{\"id\":\"3815\"}},\"id\":\"3563\",\"type\":\"ColumnDataSource\"},{\"attributes\":{\"fill_color\":{\"value\":\"#007acc\"},\"line_color\":{\"value\":\"#007acc\"},\"top\":{\"field\":\"top\"},\"width\":{\"value\":0.9},\"x\":{\"field\":\"x\"}},\"id\":\"3564\",\"type\":\"VBar\"},{\"attributes\":{\"fill_alpha\":{\"value\":0.1},\"fill_color\":{\"value\":\"#007acc\"},\"line_alpha\":{\"value\":0.1},\"line_color\":{\"value\":\"#007acc\"},\"top\":{\"field\":\"top\"},\"width\":{\"value\":0.9},\"x\":{\"field\":\"x\"}},\"id\":\"3676\",\"type\":\"VBar\"},{\"attributes\":{\"bottom_units\":\"screen\",\"fill_alpha\":0.5,\"fill_color\":\"lightgrey\",\"left_units\":\"screen\",\"level\":\"overlay\",\"line_alpha\":1.0,\"line_color\":\"black\",\"line_dash\":[4,4],\"line_width\":2,\"render_mode\":\"css\",\"right_units\":\"screen\",\"top_units\":\"screen\"},\"id\":\"3841\",\"type\":\"BoxAnnotation\"},{\"attributes\":{\"formatter\":{\"id\":\"3857\"},\"ticker\":{\"id\":\"3732\"},\"visible\":false},\"id\":\"3731\",\"type\":\"LinearAxis\"},{\"attributes\":{\"text\":\"\"},\"id\":\"3644\",\"type\":\"Title\"},{\"attributes\":{},\"id\":\"3842\",\"type\":\"UnionRenderers\"},{\"attributes\":{\"formatter\":{\"id\":\"3812\"},\"ticker\":{\"id\":\"3547\"},\"visible\":false},\"id\":\"3546\",\"type\":\"LinearAxis\"},{\"attributes\":{},\"id\":\"3648\",\"type\":\"DataRange1d\"},{\"attributes\":{},\"id\":\"3732\",\"type\":\"BasicTicker\"},{\"attributes\":{\"factors\":[\">= 0.0\",\">= 0.1\",\">= 0.2\",\">= 0.3\",\">= 0.4\",\">= 0.5\",\">= 0.6\",\">= 0.7\",\">= 0.8\",\">= 0.9\"]},\"id\":\"3646\",\"type\":\"FactorRange\"},{\"attributes\":{},\"id\":\"3843\",\"type\":\"Selection\"},{\"attributes\":{\"axis\":{\"id\":\"3543\"},\"grid_line_color\":null,\"ticker\":null},\"id\":\"3545\",\"type\":\"Grid\"},{\"attributes\":{\"axis\":{\"id\":\"3731\"},\"dimension\":1,\"ticker\":null},\"id\":\"3734\",\"type\":\"Grid\"},{\"attributes\":{},\"id\":\"3846\",\"type\":\"CategoricalTickFormatter\"},{\"attributes\":{\"fill_alpha\":{\"value\":0.1},\"fill_color\":{\"value\":\"#007acc\"},\"line_alpha\":{\"value\":0.1},\"line_color\":{\"value\":\"#007acc\"},\"top\":{\"field\":\"top\"},\"width\":{\"value\":0.9},\"x\":{\"field\":\"x\"}},\"id\":\"3750\",\"type\":\"VBar\"},{\"attributes\":{},\"id\":\"3848\",\"type\":\"BasicTickFormatter\"},{\"attributes\":{\"below\":[{\"id\":\"3765\"}],\"center\":[{\"id\":\"3767\"},{\"id\":\"3771\"}],\"left\":[{\"id\":\"3768\"}],\"plot_height\":40,\"plot_width\":100,\"renderers\":[{\"id\":\"3788\"}],\"title\":{\"id\":\"3755\"},\"toolbar\":{\"id\":\"3778\"},\"toolbar_location\":null,\"x_range\":{\"id\":\"3757\"},\"x_scale\":{\"id\":\"3761\"},\"y_range\":{\"id\":\"3759\"},\"y_scale\":{\"id\":\"3763\"}},\"id\":\"3754\",\"subtype\":\"Figure\",\"type\":\"Plot\"},{\"attributes\":{},\"id\":\"3650\",\"type\":\"CategoricalScale\"},{\"attributes\":{\"axis\":{\"id\":\"3546\"},\"dimension\":1,\"ticker\":null},\"id\":\"3549\",\"type\":\"Grid\"},{\"attributes\":{\"bottom_units\":\"screen\",\"fill_alpha\":0.5,\"fill_color\":\"lightgrey\",\"left_units\":\"screen\",\"level\":\"overlay\",\"line_alpha\":1.0,\"line_color\":\"black\",\"line_dash\":[4,4],\"line_width\":2,\"render_mode\":\"css\",\"right_units\":\"screen\",\"top_units\":\"screen\"},\"id\":\"3850\",\"type\":\"BoxAnnotation\"},{\"attributes\":{},\"id\":\"3655\",\"type\":\"CategoricalTicker\"},{\"attributes\":{\"active_drag\":\"auto\",\"active_inspect\":\"auto\",\"active_multi\":null,\"active_scroll\":\"auto\",\"active_tap\":\"auto\",\"logo\":null,\"tools\":[{\"id\":\"3735\"},{\"id\":\"3736\"},{\"id\":\"3737\"},{\"id\":\"3738\"},{\"id\":\"3739\"},{\"id\":\"3740\"}]},\"id\":\"3741\",\"type\":\"Toolbar\"},{\"attributes\":{},\"id\":\"3652\",\"type\":\"LinearScale\"},{\"attributes\":{},\"id\":\"3735\",\"type\":\"PanTool\"},{\"attributes\":{\"factors\":[\">= 0.0\",\">= 0.1\",\">= 0.2\",\">= 0.3\",\">= 0.4\",\">= 0.5\",\">= 0.6\",\">= 0.7\",\">= 0.8\",\">= 0.9\"]},\"id\":\"3535\",\"type\":\"FactorRange\"},{\"attributes\":{},\"id\":\"3851\",\"type\":\"UnionRenderers\"},{\"attributes\":{},\"id\":\"3736\",\"type\":\"WheelZoomTool\"},{\"attributes\":{},\"id\":\"3537\",\"type\":\"DataRange1d\"},{\"attributes\":{},\"id\":\"3852\",\"type\":\"Selection\"},{\"attributes\":{\"axis\":{\"id\":\"3654\"},\"grid_line_color\":null,\"ticker\":null},\"id\":\"3656\",\"type\":\"Grid\"},{\"attributes\":{\"overlay\":{\"id\":\"3859\"}},\"id\":\"3737\",\"type\":\"BoxZoomTool\"},{\"attributes\":{},\"id\":\"3544\",\"type\":\"CategoricalTicker\"},{\"attributes\":{},\"id\":\"3855\",\"type\":\"CategoricalTickFormatter\"},{\"attributes\":{},\"id\":\"3550\",\"type\":\"PanTool\"},{\"attributes\":{},\"id\":\"3738\",\"type\":\"SaveTool\"},{\"attributes\":{\"formatter\":{\"id\":\"3839\"},\"ticker\":{\"id\":\"3658\"},\"visible\":false},\"id\":\"3657\",\"type\":\"LinearAxis\"},{\"attributes\":{},\"id\":\"3857\",\"type\":\"BasicTickFormatter\"},{\"attributes\":{},\"id\":\"3739\",\"type\":\"ResetTool\"},{\"attributes\":{\"bottom_units\":\"screen\",\"fill_alpha\":0.5,\"fill_color\":\"lightgrey\",\"left_units\":\"screen\",\"level\":\"overlay\",\"line_alpha\":1.0,\"line_color\":\"black\",\"line_dash\":[4,4],\"line_width\":2,\"render_mode\":\"css\",\"right_units\":\"screen\",\"top_units\":\"screen\"},\"id\":\"3859\",\"type\":\"BoxAnnotation\"},{\"attributes\":{},\"id\":\"3658\",\"type\":\"BasicTicker\"},{\"attributes\":{\"fill_alpha\":{\"value\":0.1},\"fill_color\":{\"value\":\"#007acc\"},\"line_alpha\":{\"value\":0.1},\"line_color\":{\"value\":\"#007acc\"},\"top\":{\"field\":\"top\"},\"width\":{\"value\":0.9},\"x\":{\"field\":\"x\"}},\"id\":\"3565\",\"type\":\"VBar\"},{\"attributes\":{},\"id\":\"3740\",\"type\":\"HelpTool\"},{\"attributes\":{\"axis\":{\"id\":\"3657\"},\"dimension\":1,\"ticker\":null},\"id\":\"3660\",\"type\":\"Grid\"},{\"attributes\":{},\"id\":\"3860\",\"type\":\"UnionRenderers\"},{\"attributes\":{},\"id\":\"3541\",\"type\":\"LinearScale\"},{\"attributes\":{\"text\":\"\"},\"id\":\"3533\",\"type\":\"Title\"},{\"attributes\":{},\"id\":\"3861\",\"type\":\"Selection\"},{\"attributes\":{\"below\":[{\"id\":\"3691\"}],\"center\":[{\"id\":\"3693\"},{\"id\":\"3697\"}],\"left\":[{\"id\":\"3694\"}],\"plot_height\":40,\"plot_width\":100,\"renderers\":[{\"id\":\"3714\"}],\"title\":{\"id\":\"3681\"},\"toolbar\":{\"id\":\"3704\"},\"toolbar_location\":null,\"x_range\":{\"id\":\"3683\"},\"x_scale\":{\"id\":\"3687\"},\"y_range\":{\"id\":\"3685\"},\"y_scale\":{\"id\":\"3689\"}},\"id\":\"3680\",\"subtype\":\"Figure\",\"type\":\"Plot\"},{\"attributes\":{},\"id\":\"3551\",\"type\":\"WheelZoomTool\"},{\"attributes\":{},\"id\":\"3864\",\"type\":\"CategoricalTickFormatter\"},{\"attributes\":{\"data_source\":{\"id\":\"3748\"},\"glyph\":{\"id\":\"3749\"},\"hover_glyph\":null,\"muted_glyph\":null,\"nonselection_glyph\":{\"id\":\"3750\"},\"selection_glyph\":null,\"view\":{\"id\":\"3752\"}},\"id\":\"3751\",\"type\":\"GlyphRenderer\"},{\"attributes\":{\"source\":{\"id\":\"3748\"}},\"id\":\"3752\",\"type\":\"CDSView\"},{\"attributes\":{},\"id\":\"3866\",\"type\":\"BasicTickFormatter\"},{\"attributes\":{},\"id\":\"3664\",\"type\":\"SaveTool\"},{\"attributes\":{\"bottom_units\":\"screen\",\"fill_alpha\":0.5,\"fill_color\":\"lightgrey\",\"left_units\":\"screen\",\"level\":\"overlay\",\"line_alpha\":1.0,\"line_color\":\"black\",\"line_dash\":[4,4],\"line_width\":2,\"render_mode\":\"css\",\"right_units\":\"screen\",\"top_units\":\"screen\"},\"id\":\"3868\",\"type\":\"BoxAnnotation\"},{\"attributes\":{\"fill_color\":{\"value\":\"#007acc\"},\"line_color\":{\"value\":\"#007acc\"},\"top\":{\"field\":\"top\"},\"width\":{\"value\":0.9},\"x\":{\"field\":\"x\"}},\"id\":\"3749\",\"type\":\"VBar\"},{\"attributes\":{\"overlay\":{\"id\":\"3841\"}},\"id\":\"3663\",\"type\":\"BoxZoomTool\"},{\"attributes\":{},\"id\":\"3479\",\"type\":\"SaveTool\"},{\"attributes\":{\"data_source\":{\"id\":\"3526\"},\"glyph\":{\"id\":\"3527\"},\"hover_glyph\":null,\"muted_glyph\":null,\"nonselection_glyph\":{\"id\":\"3528\"},\"selection_glyph\":null,\"view\":{\"id\":\"3530\"}},\"id\":\"3529\",\"type\":\"GlyphRenderer\"},{\"attributes\":{},\"id\":\"3869\",\"type\":\"UnionRenderers\"},{\"attributes\":{},\"id\":\"3662\",\"type\":\"WheelZoomTool\"},{\"attributes\":{},\"id\":\"3870\",\"type\":\"Selection\"},{\"attributes\":{},\"id\":\"3661\",\"type\":\"PanTool\"},{\"attributes\":{\"logo\":null,\"toolbars\":[{\"id\":\"3482\"},{\"id\":\"3519\"},{\"id\":\"3556\"},{\"id\":\"3593\"},{\"id\":\"3630\"},{\"id\":\"3667\"},{\"id\":\"3704\"},{\"id\":\"3741\"},{\"id\":\"3778\"}],\"tools\":[{\"id\":\"3476\"},{\"id\":\"3477\"},{\"id\":\"3478\"},{\"id\":\"3479\"},{\"id\":\"3480\"},{\"id\":\"3481\"},{\"id\":\"3513\"},{\"id\":\"3514\"},{\"id\":\"3515\"},{\"id\":\"3516\"},{\"id\":\"3517\"},{\"id\":\"3518\"},{\"id\":\"3550\"},{\"id\":\"3551\"},{\"id\":\"3552\"},{\"id\":\"3553\"},{\"id\":\"3554\"},{\"id\":\"3555\"},{\"id\":\"3587\"},{\"id\":\"3588\"},{\"id\":\"3589\"},{\"id\":\"3590\"},{\"id\":\"3591\"},{\"id\":\"3592\"},{\"id\":\"3624\"},{\"id\":\"3625\"},{\"id\":\"3626\"},{\"id\":\"3627\"},{\"id\":\"3628\"},{\"id\":\"3629\"},{\"id\":\"3661\"},{\"id\":\"3662\"},{\"id\":\"3663\"},{\"id\":\"3664\"},{\"id\":\"3665\"},{\"id\":\"3666\"},{\"id\":\"3698\"},{\"id\":\"3699\"},{\"id\":\"3700\"},{\"id\":\"3701\"},{\"id\":\"3702\"},{\"id\":\"3703\"},{\"id\":\"3735\"},{\"id\":\"3736\"},{\"id\":\"3737\"},{\"id\":\"3738\"},{\"id\":\"3739\"},{\"id\":\"3740\"},{\"id\":\"3772\"},{\"id\":\"3773\"},{\"id\":\"3774\"},{\"id\":\"3775\"},{\"id\":\"3776\"},{\"id\":\"3777\"}]},\"id\":\"3873\",\"type\":\"ProxyToolbar\"},{\"attributes\":{\"active_drag\":\"auto\",\"active_inspect\":\"auto\",\"active_multi\":null,\"active_scroll\":\"auto\",\"active_tap\":\"auto\",\"logo\":null,\"tools\":[{\"id\":\"3661\"},{\"id\":\"3662\"},{\"id\":\"3663\"},{\"id\":\"3664\"},{\"id\":\"3665\"},{\"id\":\"3666\"}]},\"id\":\"3667\",\"type\":\"Toolbar\"},{\"attributes\":{\"data\":{\"top\":[29,133,306,288,160,45,16,12,6,5],\"x\":[\">= 0.0\",\">= 0.1\",\">= 0.2\",\">= 0.3\",\">= 0.4\",\">= 0.5\",\">= 0.6\",\">= 0.7\",\">= 0.8\",\">= 0.9\"]},\"selected\":{\"id\":\"3843\"},\"selection_policy\":{\"id\":\"3842\"}},\"id\":\"3674\",\"type\":\"ColumnDataSource\"},{\"attributes\":{\"toolbar\":{\"id\":\"3873\"},\"toolbar_location\":\"above\"},\"id\":\"3874\",\"type\":\"ToolbarBox\"},{\"attributes\":{},\"id\":\"3666\",\"type\":\"HelpTool\"},{\"attributes\":{\"fill_color\":{\"value\":\"#007acc\"},\"line_color\":{\"value\":\"#007acc\"},\"top\":{\"field\":\"top\"},\"width\":{\"value\":0.9},\"x\":{\"field\":\"x\"}},\"id\":\"3786\",\"type\":\"VBar\"},{\"attributes\":{},\"id\":\"3665\",\"type\":\"ResetTool\"},{\"attributes\":{\"text\":\"\"},\"id\":\"3755\",\"type\":\"Title\"},{\"attributes\":{},\"id\":\"3539\",\"type\":\"CategoricalScale\"},{\"attributes\":{\"factors\":[\">= 0.0\",\">= 0.1\",\">= 0.2\",\">= 0.3\",\">= 0.4\",\">= 0.5\",\">= 0.6\",\">= 0.7\",\">= 0.8\",\">= 0.9\"]},\"id\":\"3757\",\"type\":\"FactorRange\"},{\"attributes\":{\"source\":{\"id\":\"3637\"}},\"id\":\"3641\",\"type\":\"CDSView\"},{\"attributes\":{\"below\":[{\"id\":\"3654\"}],\"center\":[{\"id\":\"3656\"},{\"id\":\"3660\"}],\"left\":[{\"id\":\"3657\"}],\"plot_height\":40,\"plot_width\":100,\"renderers\":[{\"id\":\"3677\"}],\"title\":{\"id\":\"3644\"},\"toolbar\":{\"id\":\"3667\"},\"toolbar_location\":null,\"x_range\":{\"id\":\"3646\"},\"x_scale\":{\"id\":\"3650\"},\"y_range\":{\"id\":\"3648\"},\"y_scale\":{\"id\":\"3652\"}},\"id\":\"3643\",\"subtype\":\"Figure\",\"type\":\"Plot\"},{\"attributes\":{},\"id\":\"3759\",\"type\":\"DataRange1d\"},{\"attributes\":{},\"id\":\"3761\",\"type\":\"CategoricalScale\"},{\"attributes\":{\"source\":{\"id\":\"3674\"}},\"id\":\"3678\",\"type\":\"CDSView\"},{\"attributes\":{},\"id\":\"3763\",\"type\":\"LinearScale\"},{\"attributes\":{},\"id\":\"3837\",\"type\":\"CategoricalTickFormatter\"},{\"attributes\":{\"formatter\":{\"id\":\"3864\"},\"major_label_orientation\":1,\"ticker\":{\"id\":\"3766\"},\"visible\":false},\"id\":\"3765\",\"type\":\"CategoricalAxis\"},{\"attributes\":{},\"id\":\"3766\",\"type\":\"CategoricalTicker\"},{\"attributes\":{\"fill_color\":{\"value\":\"#007acc\"},\"line_color\":{\"value\":\"#007acc\"},\"top\":{\"field\":\"top\"},\"width\":{\"value\":0.9},\"x\":{\"field\":\"x\"}},\"id\":\"3675\",\"type\":\"VBar\"},{\"attributes\":{\"axis\":{\"id\":\"3765\"},\"grid_line_color\":null,\"ticker\":null},\"id\":\"3767\",\"type\":\"Grid\"},{\"attributes\":{\"formatter\":{\"id\":\"3866\"},\"ticker\":{\"id\":\"3769\"},\"visible\":false},\"id\":\"3768\",\"type\":\"LinearAxis\"},{\"attributes\":{\"formatter\":{\"id\":\"3837\"},\"major_label_orientation\":1,\"ticker\":{\"id\":\"3655\"},\"visible\":false},\"id\":\"3654\",\"type\":\"CategoricalAxis\"},{\"attributes\":{},\"id\":\"3769\",\"type\":\"BasicTicker\"},{\"attributes\":{\"source\":{\"id\":\"3526\"}},\"id\":\"3530\",\"type\":\"CDSView\"},{\"attributes\":{\"below\":[{\"id\":\"3543\"}],\"center\":[{\"id\":\"3545\"},{\"id\":\"3549\"}],\"left\":[{\"id\":\"3546\"}],\"plot_height\":40,\"plot_width\":100,\"renderers\":[{\"id\":\"3566\"}],\"title\":{\"id\":\"3533\"},\"toolbar\":{\"id\":\"3556\"},\"toolbar_location\":null,\"x_range\":{\"id\":\"3535\"},\"x_scale\":{\"id\":\"3539\"},\"y_range\":{\"id\":\"3537\"},\"y_scale\":{\"id\":\"3541\"}},\"id\":\"3532\",\"subtype\":\"Figure\",\"type\":\"Plot\"},{\"attributes\":{\"axis\":{\"id\":\"3768\"},\"dimension\":1,\"ticker\":null},\"id\":\"3771\",\"type\":\"Grid\"},{\"attributes\":{\"fill_alpha\":{\"value\":0.1},\"fill_color\":{\"value\":\"#007acc\"},\"line_alpha\":{\"value\":0.1},\"line_color\":{\"value\":\"#007acc\"},\"top\":{\"field\":\"top\"},\"width\":{\"value\":0.9},\"x\":{\"field\":\"x\"}},\"id\":\"3787\",\"type\":\"VBar\"},{\"attributes\":{\"data\":{\"top\":[25,119,222,232,200,114,50,21,8,9],\"x\":[\">= 0.0\",\">= 0.1\",\">= 0.2\",\">= 0.3\",\">= 0.4\",\">= 0.5\",\">= 0.6\",\">= 0.7\",\">= 0.8\",\">= 0.9\"]},\"selected\":{\"id\":\"3870\"},\"selection_policy\":{\"id\":\"3869\"}},\"id\":\"3785\",\"type\":\"ColumnDataSource\"},{\"attributes\":{},\"id\":\"3518\",\"type\":\"HelpTool\"},{\"attributes\":{\"fill_alpha\":{\"value\":0.1},\"fill_color\":{\"value\":\"#007acc\"},\"line_alpha\":{\"value\":0.1},\"line_color\":{\"value\":\"#007acc\"},\"top\":{\"field\":\"top\"},\"width\":{\"value\":0.9},\"x\":{\"field\":\"x\"}},\"id\":\"3639\",\"type\":\"VBar\"},{\"attributes\":{},\"id\":\"3477\",\"type\":\"WheelZoomTool\"},{\"attributes\":{\"overlay\":{\"id\":\"3814\"}},\"id\":\"3552\",\"type\":\"BoxZoomTool\"},{\"attributes\":{\"active_drag\":\"auto\",\"active_inspect\":\"auto\",\"active_multi\":null,\"active_scroll\":\"auto\",\"active_tap\":\"auto\",\"logo\":null,\"tools\":[{\"id\":\"3772\"},{\"id\":\"3773\"},{\"id\":\"3774\"},{\"id\":\"3775\"},{\"id\":\"3776\"},{\"id\":\"3777\"}]},\"id\":\"3778\",\"type\":\"Toolbar\"},{\"attributes\":{\"fill_alpha\":{\"value\":0.1},\"fill_color\":{\"value\":\"#007acc\"},\"line_alpha\":{\"value\":0.1},\"line_color\":{\"value\":\"#007acc\"},\"top\":{\"field\":\"top\"},\"width\":{\"value\":0.9},\"x\":{\"field\":\"x\"}},\"id\":\"3713\",\"type\":\"VBar\"},{\"attributes\":{},\"id\":\"3772\",\"type\":\"PanTool\"},{\"attributes\":{\"below\":[{\"id\":\"3617\"}],\"center\":[{\"id\":\"3619\"},{\"id\":\"3623\"}],\"left\":[{\"id\":\"3620\"}],\"plot_height\":40,\"plot_width\":100,\"renderers\":[{\"id\":\"3640\"}],\"title\":{\"id\":\"3607\"},\"toolbar\":{\"id\":\"3630\"},\"toolbar_location\":null,\"x_range\":{\"id\":\"3609\"},\"x_scale\":{\"id\":\"3613\"},\"y_range\":{\"id\":\"3611\"},\"y_scale\":{\"id\":\"3615\"}},\"id\":\"3606\",\"subtype\":\"Figure\",\"type\":\"Plot\"},{\"attributes\":{\"overlay\":{\"id\":\"3796\"}},\"id\":\"3478\",\"type\":\"BoxZoomTool\"},{\"attributes\":{},\"id\":\"3554\",\"type\":\"ResetTool\"},{\"attributes\":{\"text\":\"\"},\"id\":\"3681\",\"type\":\"Title\"},{\"attributes\":{},\"id\":\"3553\",\"type\":\"SaveTool\"},{\"attributes\":{},\"id\":\"3773\",\"type\":\"WheelZoomTool\"},{\"attributes\":{\"data_source\":{\"id\":\"3674\"},\"glyph\":{\"id\":\"3675\"},\"hover_glyph\":null,\"muted_glyph\":null,\"nonselection_glyph\":{\"id\":\"3676\"},\"selection_glyph\":null,\"view\":{\"id\":\"3678\"}},\"id\":\"3677\",\"type\":\"GlyphRenderer\"},{\"attributes\":{\"factors\":[\">= 0.0\",\">= 0.1\",\">= 0.2\",\">= 0.3\",\">= 0.4\",\">= 0.5\",\">= 0.6\",\">= 0.7\",\">= 0.8\",\">= 0.9\"]},\"id\":\"3683\",\"type\":\"FactorRange\"},{\"attributes\":{},\"id\":\"3480\",\"type\":\"ResetTool\"},{\"attributes\":{\"overlay\":{\"id\":\"3868\"}},\"id\":\"3774\",\"type\":\"BoxZoomTool\"},{\"attributes\":{},\"id\":\"3685\",\"type\":\"DataRange1d\"},{\"attributes\":{\"source\":{\"id\":\"3489\"}},\"id\":\"3493\",\"type\":\"CDSView\"},{\"attributes\":{},\"id\":\"3555\",\"type\":\"HelpTool\"},{\"attributes\":{},\"id\":\"3775\",\"type\":\"SaveTool\"},{\"attributes\":{\"source\":{\"id\":\"3600\"}},\"id\":\"3604\",\"type\":\"CDSView\"},{\"attributes\":{},\"id\":\"3687\",\"type\":\"CategoricalScale\"},{\"attributes\":{\"source\":{\"id\":\"3563\"}},\"id\":\"3567\",\"type\":\"CDSView\"},{\"attributes\":{},\"id\":\"3481\",\"type\":\"HelpTool\"},{\"attributes\":{},\"id\":\"3776\",\"type\":\"ResetTool\"},{\"attributes\":{\"active_drag\":\"auto\",\"active_inspect\":\"auto\",\"active_multi\":null,\"active_scroll\":\"auto\",\"active_tap\":\"auto\",\"logo\":null,\"tools\":[{\"id\":\"3550\"},{\"id\":\"3551\"},{\"id\":\"3552\"},{\"id\":\"3553\"},{\"id\":\"3554\"},{\"id\":\"3555\"}]},\"id\":\"3556\",\"type\":\"Toolbar\"},{\"attributes\":{},\"id\":\"3689\",\"type\":\"LinearScale\"},{\"attributes\":{},\"id\":\"3777\",\"type\":\"HelpTool\"},{\"attributes\":{\"below\":[{\"id\":\"3580\"}],\"center\":[{\"id\":\"3582\"},{\"id\":\"3586\"}],\"left\":[{\"id\":\"3583\"}],\"plot_height\":40,\"plot_width\":100,\"renderers\":[{\"id\":\"3603\"}],\"title\":{\"id\":\"3570\"},\"toolbar\":{\"id\":\"3593\"},\"toolbar_location\":null,\"x_range\":{\"id\":\"3572\"},\"x_scale\":{\"id\":\"3576\"},\"y_range\":{\"id\":\"3574\"},\"y_scale\":{\"id\":\"3578\"}},\"id\":\"3569\",\"subtype\":\"Figure\",\"type\":\"Plot\"},{\"attributes\":{\"active_drag\":\"auto\",\"active_inspect\":\"auto\",\"active_multi\":null,\"active_scroll\":\"auto\",\"active_tap\":\"auto\",\"logo\":null,\"tools\":[{\"id\":\"3476\"},{\"id\":\"3477\"},{\"id\":\"3478\"},{\"id\":\"3479\"},{\"id\":\"3480\"},{\"id\":\"3481\"}]},\"id\":\"3482\",\"type\":\"Toolbar\"},{\"attributes\":{\"formatter\":{\"id\":\"3846\"},\"major_label_orientation\":1,\"ticker\":{\"id\":\"3692\"},\"visible\":false},\"id\":\"3691\",\"type\":\"CategoricalAxis\"},{\"attributes\":{\"data_source\":{\"id\":\"3489\"},\"glyph\":{\"id\":\"3490\"},\"hover_glyph\":null,\"muted_glyph\":null,\"nonselection_glyph\":{\"id\":\"3491\"},\"selection_glyph\":null,\"view\":{\"id\":\"3493\"}},\"id\":\"3492\",\"type\":\"GlyphRenderer\"},{\"attributes\":{},\"id\":\"3692\",\"type\":\"CategoricalTicker\"},{\"attributes\":{\"source\":{\"id\":\"3785\"}},\"id\":\"3789\",\"type\":\"CDSView\"},{\"attributes\":{\"below\":[{\"id\":\"3506\"}],\"center\":[{\"id\":\"3508\"},{\"id\":\"3512\"}],\"left\":[{\"id\":\"3509\"}],\"plot_height\":40,\"plot_width\":100,\"renderers\":[{\"id\":\"3529\"}],\"title\":{\"id\":\"3496\"},\"toolbar\":{\"id\":\"3519\"},\"toolbar_location\":null,\"x_range\":{\"id\":\"3498\"},\"x_scale\":{\"id\":\"3502\"},\"y_range\":{\"id\":\"3500\"},\"y_scale\":{\"id\":\"3504\"}},\"id\":\"3495\",\"subtype\":\"Figure\",\"type\":\"Plot\"},{\"attributes\":{\"data_source\":{\"id\":\"3563\"},\"glyph\":{\"id\":\"3564\"},\"hover_glyph\":null,\"muted_glyph\":null,\"nonselection_glyph\":{\"id\":\"3565\"},\"selection_glyph\":null,\"view\":{\"id\":\"3567\"}},\"id\":\"3566\",\"type\":\"GlyphRenderer\"},{\"attributes\":{\"axis\":{\"id\":\"3691\"},\"grid_line_color\":null,\"ticker\":null},\"id\":\"3693\",\"type\":\"Grid\"},{\"attributes\":{\"data_source\":{\"id\":\"3785\"},\"glyph\":{\"id\":\"3786\"},\"hover_glyph\":null,\"muted_glyph\":null,\"nonselection_glyph\":{\"id\":\"3787\"},\"selection_glyph\":null,\"view\":{\"id\":\"3789\"}},\"id\":\"3788\",\"type\":\"GlyphRenderer\"},{\"attributes\":{\"formatter\":{\"id\":\"3848\"},\"ticker\":{\"id\":\"3695\"},\"visible\":false},\"id\":\"3694\",\"type\":\"LinearAxis\"},{\"attributes\":{\"children\":[[{\"id\":\"3458\"},0,0],[{\"id\":\"3495\"},0,1],[{\"id\":\"3532\"},0,2],[{\"id\":\"3569\"},1,0],[{\"id\":\"3606\"},1,1],[{\"id\":\"3643\"},1,2],[{\"id\":\"3680\"},2,0],[{\"id\":\"3717\"},2,1],[{\"id\":\"3754\"},2,2]]},\"id\":\"3872\",\"type\":\"GridBox\"},{\"attributes\":{},\"id\":\"3695\",\"type\":\"BasicTicker\"},{\"attributes\":{\"data\":{\"top\":[49,219,316,206,108,53,16,9,10,14],\"x\":[\">= 0.0\",\">= 0.1\",\">= 0.2\",\">= 0.3\",\">= 0.4\",\">= 0.5\",\">= 0.6\",\">= 0.7\",\">= 0.8\",\">= 0.9\"]},\"selected\":{\"id\":\"3798\"},\"selection_policy\":{\"id\":\"3797\"}},\"id\":\"3489\",\"type\":\"ColumnDataSource\"},{\"attributes\":{},\"id\":\"3792\",\"type\":\"CategoricalTickFormatter\"},{\"attributes\":{\"axis\":{\"id\":\"3694\"},\"dimension\":1,\"ticker\":null},\"id\":\"3697\",\"type\":\"Grid\"},{\"attributes\":{},\"id\":\"3794\",\"type\":\"BasicTickFormatter\"},{\"attributes\":{},\"id\":\"3500\",\"type\":\"DataRange1d\"},{\"attributes\":{\"below\":[{\"id\":\"3728\"}],\"center\":[{\"id\":\"3730\"},{\"id\":\"3734\"}],\"left\":[{\"id\":\"3731\"}],\"plot_height\":40,\"plot_width\":100,\"renderers\":[{\"id\":\"3751\"}],\"title\":{\"id\":\"3718\"},\"toolbar\":{\"id\":\"3741\"},\"toolbar_location\":null,\"x_range\":{\"id\":\"3720\"},\"x_scale\":{\"id\":\"3724\"},\"y_range\":{\"id\":\"3722\"},\"y_scale\":{\"id\":\"3726\"}},\"id\":\"3717\",\"subtype\":\"Figure\",\"type\":\"Plot\"},{\"attributes\":{\"bottom_units\":\"screen\",\"fill_alpha\":0.5,\"fill_color\":\"lightgrey\",\"left_units\":\"screen\",\"level\":\"overlay\",\"line_alpha\":1.0,\"line_color\":\"black\",\"line_dash\":[4,4],\"line_width\":2,\"render_mode\":\"css\",\"right_units\":\"screen\",\"top_units\":\"screen\"},\"id\":\"3796\",\"type\":\"BoxAnnotation\"},{\"attributes\":{\"fill_color\":{\"value\":\"#007acc\"},\"line_color\":{\"value\":\"#007acc\"},\"top\":{\"field\":\"top\"},\"width\":{\"value\":0.9},\"x\":{\"field\":\"x\"}},\"id\":\"3601\",\"type\":\"VBar\"},{\"attributes\":{\"data\":{\"top\":[11,74,211,263,239,101,65,16,11,9],\"x\":[\">= 0.0\",\">= 0.1\",\">= 0.2\",\">= 0.3\",\">= 0.4\",\">= 0.5\",\">= 0.6\",\">= 0.7\",\">= 0.8\",\">= 0.9\"]},\"selected\":{\"id\":\"3852\"},\"selection_policy\":{\"id\":\"3851\"}},\"id\":\"3711\",\"type\":\"ColumnDataSource\"},{\"attributes\":{},\"id\":\"3797\",\"type\":\"UnionRenderers\"},{\"attributes\":{\"active_drag\":\"auto\",\"active_inspect\":\"auto\",\"active_multi\":null,\"active_scroll\":\"auto\",\"active_tap\":\"auto\",\"logo\":null,\"tools\":[{\"id\":\"3698\"},{\"id\":\"3699\"},{\"id\":\"3700\"},{\"id\":\"3701\"},{\"id\":\"3702\"},{\"id\":\"3703\"}]},\"id\":\"3704\",\"type\":\"Toolbar\"},{\"attributes\":{\"text\":\"\"},\"id\":\"3570\",\"type\":\"Title\"},{\"attributes\":{\"fill_color\":{\"value\":\"#007acc\"},\"line_color\":{\"value\":\"#007acc\"},\"top\":{\"field\":\"top\"},\"width\":{\"value\":0.9},\"x\":{\"field\":\"x\"}},\"id\":\"3527\",\"type\":\"VBar\"},{\"attributes\":{},\"id\":\"3698\",\"type\":\"PanTool\"},{\"attributes\":{\"factors\":[\">= 0.0\",\">= 0.1\",\">= 0.2\",\">= 0.3\",\">= 0.4\",\">= 0.5\",\">= 0.6\",\">= 0.7\",\">= 0.8\",\">= 0.9\"]},\"id\":\"3498\",\"type\":\"FactorRange\"},{\"attributes\":{\"fill_color\":{\"value\":\"#007acc\"},\"line_color\":{\"value\":\"#007acc\"},\"top\":{\"field\":\"top\"},\"width\":{\"value\":0.9},\"x\":{\"field\":\"x\"}},\"id\":\"3638\",\"type\":\"VBar\"},{\"attributes\":{\"axis\":{\"id\":\"3469\"},\"grid_line_color\":null,\"ticker\":null},\"id\":\"3471\",\"type\":\"Grid\"},{\"attributes\":{\"factors\":[\">= 0.0\",\">= 0.1\",\">= 0.2\",\">= 0.3\",\">= 0.4\",\">= 0.5\",\">= 0.6\",\">= 0.7\",\">= 0.8\",\">= 0.9\"]},\"id\":\"3572\",\"type\":\"FactorRange\"},{\"attributes\":{\"text\":\"\"},\"id\":\"3607\",\"type\":\"Title\"},{\"attributes\":{},\"id\":\"3798\",\"type\":\"Selection\"},{\"attributes\":{},\"id\":\"3699\",\"type\":\"WheelZoomTool\"},{\"attributes\":{},\"id\":\"3801\",\"type\":\"CategoricalTickFormatter\"},{\"attributes\":{\"text\":\"\"},\"id\":\"3496\",\"type\":\"Title\"},{\"attributes\":{},\"id\":\"3574\",\"type\":\"DataRange1d\"},{\"attributes\":{\"factors\":[\">= 0.0\",\">= 0.1\",\">= 0.2\",\">= 0.3\",\">= 0.4\",\">= 0.5\",\">= 0.6\",\">= 0.7\",\">= 0.8\",\">= 0.9\"]},\"id\":\"3609\",\"type\":\"FactorRange\"},{\"attributes\":{\"overlay\":{\"id\":\"3850\"}},\"id\":\"3700\",\"type\":\"BoxZoomTool\"},{\"attributes\":{\"text\":\"\"},\"id\":\"3459\",\"type\":\"Title\"},{\"attributes\":{},\"id\":\"3803\",\"type\":\"BasicTickFormatter\"},{\"attributes\":{},\"id\":\"3576\",\"type\":\"CategoricalScale\"},{\"attributes\":{},\"id\":\"3611\",\"type\":\"DataRange1d\"},{\"attributes\":{},\"id\":\"3701\",\"type\":\"SaveTool\"},{\"attributes\":{\"bottom_units\":\"screen\",\"fill_alpha\":0.5,\"fill_color\":\"lightgrey\",\"left_units\":\"screen\",\"level\":\"overlay\",\"line_alpha\":1.0,\"line_color\":\"black\",\"line_dash\":[4,4],\"line_width\":2,\"render_mode\":\"css\",\"right_units\":\"screen\",\"top_units\":\"screen\"},\"id\":\"3805\",\"type\":\"BoxAnnotation\"},{\"attributes\":{},\"id\":\"3502\",\"type\":\"CategoricalScale\"},{\"attributes\":{},\"id\":\"3578\",\"type\":\"LinearScale\"},{\"attributes\":{},\"id\":\"3613\",\"type\":\"CategoricalScale\"},{\"attributes\":{},\"id\":\"3702\",\"type\":\"ResetTool\"},{\"attributes\":{},\"id\":\"3504\",\"type\":\"LinearScale\"},{\"attributes\":{},\"id\":\"3806\",\"type\":\"UnionRenderers\"},{\"attributes\":{\"formatter\":{\"id\":\"3819\"},\"major_label_orientation\":1,\"ticker\":{\"id\":\"3581\"},\"visible\":false},\"id\":\"3580\",\"type\":\"CategoricalAxis\"},{\"attributes\":{},\"id\":\"3615\",\"type\":\"LinearScale\"},{\"attributes\":{\"fill_color\":{\"value\":\"#007acc\"},\"line_color\":{\"value\":\"#007acc\"},\"top\":{\"field\":\"top\"},\"width\":{\"value\":0.9},\"x\":{\"field\":\"x\"}},\"id\":\"3490\",\"type\":\"VBar\"},{\"attributes\":{},\"id\":\"3507\",\"type\":\"CategoricalTicker\"},{\"attributes\":{},\"id\":\"3703\",\"type\":\"HelpTool\"},{\"attributes\":{\"formatter\":{\"id\":\"3821\"},\"ticker\":{\"id\":\"3584\"},\"visible\":false},\"id\":\"3583\",\"type\":\"LinearAxis\"},{\"attributes\":{},\"id\":\"3807\",\"type\":\"Selection\"},{\"attributes\":{\"axis\":{\"id\":\"3617\"},\"grid_line_color\":null,\"ticker\":null},\"id\":\"3619\",\"type\":\"Grid\"},{\"attributes\":{\"formatter\":{\"id\":\"3828\"},\"major_label_orientation\":1,\"ticker\":{\"id\":\"3618\"},\"visible\":false},\"id\":\"3617\",\"type\":\"CategoricalAxis\"},{\"attributes\":{},\"id\":\"3810\",\"type\":\"CategoricalTickFormatter\"},{\"attributes\":{\"formatter\":{\"id\":\"3803\"},\"ticker\":{\"id\":\"3510\"},\"visible\":false},\"id\":\"3509\",\"type\":\"LinearAxis\"},{\"attributes\":{},\"id\":\"3581\",\"type\":\"CategoricalTicker\"},{\"attributes\":{\"formatter\":{\"id\":\"3801\"},\"major_label_orientation\":1,\"ticker\":{\"id\":\"3507\"},\"visible\":false},\"id\":\"3506\",\"type\":\"CategoricalAxis\"},{\"attributes\":{},\"id\":\"3812\",\"type\":\"BasicTickFormatter\"},{\"attributes\":{\"axis\":{\"id\":\"3580\"},\"grid_line_color\":null,\"ticker\":null},\"id\":\"3582\",\"type\":\"Grid\"},{\"attributes\":{\"data_source\":{\"id\":\"3711\"},\"glyph\":{\"id\":\"3712\"},\"hover_glyph\":null,\"muted_glyph\":null,\"nonselection_glyph\":{\"id\":\"3713\"},\"selection_glyph\":null,\"view\":{\"id\":\"3715\"}},\"id\":\"3714\",\"type\":\"GlyphRenderer\"},{\"attributes\":{},\"id\":\"3618\",\"type\":\"CategoricalTicker\"},{\"attributes\":{\"bottom_units\":\"screen\",\"fill_alpha\":0.5,\"fill_color\":\"lightgrey\",\"left_units\":\"screen\",\"level\":\"overlay\",\"line_alpha\":1.0,\"line_color\":\"black\",\"line_dash\":[4,4],\"line_width\":2,\"render_mode\":\"css\",\"right_units\":\"screen\",\"top_units\":\"screen\"},\"id\":\"3814\",\"type\":\"BoxAnnotation\"},{\"attributes\":{\"source\":{\"id\":\"3711\"}},\"id\":\"3715\",\"type\":\"CDSView\"},{\"attributes\":{\"formatter\":{\"id\":\"3830\"},\"ticker\":{\"id\":\"3621\"},\"visible\":false},\"id\":\"3620\",\"type\":\"LinearAxis\"},{\"attributes\":{},\"id\":\"3510\",\"type\":\"BasicTicker\"},{\"attributes\":{},\"id\":\"3584\",\"type\":\"BasicTicker\"},{\"attributes\":{\"below\":[{\"id\":\"3469\"}],\"center\":[{\"id\":\"3471\"},{\"id\":\"3475\"}],\"left\":[{\"id\":\"3472\"}],\"plot_height\":40,\"plot_width\":100,\"renderers\":[{\"id\":\"3492\"}],\"title\":{\"id\":\"3459\"},\"toolbar\":{\"id\":\"3482\"},\"toolbar_location\":null,\"x_range\":{\"id\":\"3461\"},\"x_scale\":{\"id\":\"3465\"},\"y_range\":{\"id\":\"3463\"},\"y_scale\":{\"id\":\"3467\"}},\"id\":\"3458\",\"subtype\":\"Figure\",\"type\":\"Plot\"},{\"attributes\":{\"fill_color\":{\"value\":\"#007acc\"},\"line_color\":{\"value\":\"#007acc\"},\"top\":{\"field\":\"top\"},\"width\":{\"value\":0.9},\"x\":{\"field\":\"x\"}},\"id\":\"3712\",\"type\":\"VBar\"},{\"attributes\":{},\"id\":\"3815\",\"type\":\"UnionRenderers\"},{\"attributes\":{\"factors\":[\">= 0.0\",\">= 0.1\",\">= 0.2\",\">= 0.3\",\">= 0.4\",\">= 0.5\",\">= 0.6\",\">= 0.7\",\">= 0.8\",\">= 0.9\"]},\"id\":\"3461\",\"type\":\"FactorRange\"},{\"attributes\":{\"axis\":{\"id\":\"3506\"},\"grid_line_color\":null,\"ticker\":null},\"id\":\"3508\",\"type\":\"Grid\"},{\"attributes\":{\"axis\":{\"id\":\"3583\"},\"dimension\":1,\"ticker\":null},\"id\":\"3586\",\"type\":\"Grid\"},{\"attributes\":{},\"id\":\"3621\",\"type\":\"BasicTicker\"},{\"attributes\":{},\"id\":\"3816\",\"type\":\"Selection\"},{\"attributes\":{\"formatter\":{\"id\":\"3794\"},\"ticker\":{\"id\":\"3473\"},\"visible\":false},\"id\":\"3472\",\"type\":\"LinearAxis\"},{\"attributes\":{\"axis\":{\"id\":\"3509\"},\"dimension\":1,\"ticker\":null},\"id\":\"3512\",\"type\":\"Grid\"},{\"attributes\":{\"axis\":{\"id\":\"3620\"},\"dimension\":1,\"ticker\":null},\"id\":\"3623\",\"type\":\"Grid\"},{\"attributes\":{\"data\":{\"top\":[8,45,123,183,223,194,115,65,26,18],\"x\":[\">= 0.0\",\">= 0.1\",\">= 0.2\",\">= 0.3\",\">= 0.4\",\">= 0.5\",\">= 0.6\",\">= 0.7\",\">= 0.8\",\">= 0.9\"]},\"selected\":{\"id\":\"3825\"},\"selection_policy\":{\"id\":\"3824\"}},\"id\":\"3600\",\"type\":\"ColumnDataSource\"},{\"attributes\":{},\"id\":\"3629\",\"type\":\"HelpTool\"},{\"attributes\":{\"data_source\":{\"id\":\"3600\"},\"glyph\":{\"id\":\"3601\"},\"hover_glyph\":null,\"muted_glyph\":null,\"nonselection_glyph\":{\"id\":\"3602\"},\"selection_glyph\":null,\"view\":{\"id\":\"3604\"}},\"id\":\"3603\",\"type\":\"GlyphRenderer\"},{\"attributes\":{},\"id\":\"3819\",\"type\":\"CategoricalTickFormatter\"},{\"attributes\":{\"active_drag\":\"auto\",\"active_inspect\":\"auto\",\"active_multi\":null,\"active_scroll\":\"auto\",\"active_tap\":\"auto\",\"logo\":null,\"tools\":[{\"id\":\"3587\"},{\"id\":\"3588\"},{\"id\":\"3589\"},{\"id\":\"3590\"},{\"id\":\"3591\"},{\"id\":\"3592\"}]},\"id\":\"3593\",\"type\":\"Toolbar\"},{\"attributes\":{},\"id\":\"3624\",\"type\":\"PanTool\"},{\"attributes\":{},\"id\":\"3467\",\"type\":\"LinearScale\"},{\"attributes\":{\"fill_alpha\":{\"value\":0.1},\"fill_color\":{\"value\":\"#007acc\"},\"line_alpha\":{\"value\":0.1},\"line_color\":{\"value\":\"#007acc\"},\"top\":{\"field\":\"top\"},\"width\":{\"value\":0.9},\"x\":{\"field\":\"x\"}},\"id\":\"3602\",\"type\":\"VBar\"},{\"attributes\":{},\"id\":\"3470\",\"type\":\"CategoricalTicker\"},{\"attributes\":{\"fill_alpha\":{\"value\":0.1},\"fill_color\":{\"value\":\"#007acc\"},\"line_alpha\":{\"value\":0.1},\"line_color\":{\"value\":\"#007acc\"},\"top\":{\"field\":\"top\"},\"width\":{\"value\":0.9},\"x\":{\"field\":\"x\"}},\"id\":\"3528\",\"type\":\"VBar\"},{\"attributes\":{},\"id\":\"3821\",\"type\":\"BasicTickFormatter\"},{\"attributes\":{},\"id\":\"3513\",\"type\":\"PanTool\"},{\"attributes\":{},\"id\":\"3587\",\"type\":\"PanTool\"},{\"attributes\":{},\"id\":\"3465\",\"type\":\"CategoricalScale\"},{\"attributes\":{\"data_source\":{\"id\":\"3637\"},\"glyph\":{\"id\":\"3638\"},\"hover_glyph\":null,\"muted_glyph\":null,\"nonselection_glyph\":{\"id\":\"3639\"},\"selection_glyph\":null,\"view\":{\"id\":\"3641\"}},\"id\":\"3640\",\"type\":\"GlyphRenderer\"},{\"attributes\":{\"bottom_units\":\"screen\",\"fill_alpha\":0.5,\"fill_color\":\"lightgrey\",\"left_units\":\"screen\",\"level\":\"overlay\",\"line_alpha\":1.0,\"line_color\":\"black\",\"line_dash\":[4,4],\"line_width\":2,\"render_mode\":\"css\",\"right_units\":\"screen\",\"top_units\":\"screen\"},\"id\":\"3823\",\"type\":\"BoxAnnotation\"},{\"attributes\":{\"active_drag\":\"auto\",\"active_inspect\":\"auto\",\"active_multi\":null,\"active_scroll\":\"auto\",\"active_tap\":\"auto\",\"logo\":null,\"tools\":[{\"id\":\"3513\"},{\"id\":\"3514\"},{\"id\":\"3515\"},{\"id\":\"3516\"},{\"id\":\"3517\"},{\"id\":\"3518\"}]},\"id\":\"3519\",\"type\":\"Toolbar\"},{\"attributes\":{\"data\":{\"top\":[12,74,156,281,257,126,58,16,7,13],\"x\":[\">= 0.0\",\">= 0.1\",\">= 0.2\",\">= 0.3\",\">= 0.4\",\">= 0.5\",\">= 0.6\",\">= 0.7\",\">= 0.8\",\">= 0.9\"]},\"selected\":{\"id\":\"3861\"},\"selection_policy\":{\"id\":\"3860\"}},\"id\":\"3748\",\"type\":\"ColumnDataSource\"},{\"attributes\":{},\"id\":\"3824\",\"type\":\"UnionRenderers\"},{\"attributes\":{\"formatter\":{\"id\":\"3792\"},\"major_label_orientation\":1,\"ticker\":{\"id\":\"3470\"},\"visible\":false},\"id\":\"3469\",\"type\":\"CategoricalAxis\"},{\"attributes\":{\"data\":{\"top\":[8,64,133,174,183,202,136,63,21,16],\"x\":[\">= 0.0\",\">= 0.1\",\">= 0.2\",\">= 0.3\",\">= 0.4\",\">= 0.5\",\">= 0.6\",\">= 0.7\",\">= 0.8\",\">= 0.9\"]},\"selected\":{\"id\":\"3807\"},\"selection_policy\":{\"id\":\"3806\"}},\"id\":\"3526\",\"type\":\"ColumnDataSource\"},{\"attributes\":{\"data\":{\"top\":[8,47,129,176,227,193,131,62,17,10],\"x\":[\">= 0.0\",\">= 0.1\",\">= 0.2\",\">= 0.3\",\">= 0.4\",\">= 0.5\",\">= 0.6\",\">= 0.7\",\">= 0.8\",\">= 0.9\"]},\"selected\":{\"id\":\"3834\"},\"selection_policy\":{\"id\":\"3833\"}},\"id\":\"3637\",\"type\":\"ColumnDataSource\"},{\"attributes\":{\"overlay\":{\"id\":\"3823\"}},\"id\":\"3589\",\"type\":\"BoxZoomTool\"},{\"attributes\":{\"active_drag\":\"auto\",\"active_inspect\":\"auto\",\"active_multi\":null,\"active_scroll\":\"auto\",\"active_tap\":\"auto\",\"logo\":null,\"tools\":[{\"id\":\"3624\"},{\"id\":\"3625\"},{\"id\":\"3626\"},{\"id\":\"3627\"},{\"id\":\"3628\"},{\"id\":\"3629\"}]},\"id\":\"3630\",\"type\":\"Toolbar\"},{\"attributes\":{},\"id\":\"3825\",\"type\":\"Selection\"},{\"attributes\":{},\"id\":\"3514\",\"type\":\"WheelZoomTool\"},{\"attributes\":{},\"id\":\"3588\",\"type\":\"WheelZoomTool\"},{\"attributes\":{},\"id\":\"3463\",\"type\":\"DataRange1d\"},{\"attributes\":{\"text\":\"\"},\"id\":\"3718\",\"type\":\"Title\"},{\"attributes\":{\"axis\":{\"id\":\"3472\"},\"dimension\":1,\"ticker\":null},\"id\":\"3475\",\"type\":\"Grid\"},{\"attributes\":{},\"id\":\"3828\",\"type\":\"CategoricalTickFormatter\"},{\"attributes\":{},\"id\":\"3516\",\"type\":\"SaveTool\"},{\"attributes\":{},\"id\":\"3625\",\"type\":\"WheelZoomTool\"},{\"attributes\":{\"factors\":[\">= 0.0\",\">= 0.1\",\">= 0.2\",\">= 0.3\",\">= 0.4\",\">= 0.5\",\">= 0.6\",\">= 0.7\",\">= 0.8\",\">= 0.9\"]},\"id\":\"3720\",\"type\":\"FactorRange\"},{\"attributes\":{},\"id\":\"3627\",\"type\":\"SaveTool\"},{\"attributes\":{},\"id\":\"3473\",\"type\":\"BasicTicker\"},{\"attributes\":{},\"id\":\"3830\",\"type\":\"BasicTickFormatter\"},{\"attributes\":{\"overlay\":{\"id\":\"3805\"}},\"id\":\"3515\",\"type\":\"BoxZoomTool\"},{\"attributes\":{\"overlay\":{\"id\":\"3832\"}},\"id\":\"3626\",\"type\":\"BoxZoomTool\"},{\"attributes\":{},\"id\":\"3722\",\"type\":\"DataRange1d\"},{\"attributes\":{},\"id\":\"3590\",\"type\":\"SaveTool\"},{\"attributes\":{\"bottom_units\":\"screen\",\"fill_alpha\":0.5,\"fill_color\":\"lightgrey\",\"left_units\":\"screen\",\"level\":\"overlay\",\"line_alpha\":1.0,\"line_color\":\"black\",\"line_dash\":[4,4],\"line_width\":2,\"render_mode\":\"css\",\"right_units\":\"screen\",\"top_units\":\"screen\"},\"id\":\"3832\",\"type\":\"BoxAnnotation\"},{\"attributes\":{},\"id\":\"3517\",\"type\":\"ResetTool\"},{\"attributes\":{},\"id\":\"3724\",\"type\":\"CategoricalScale\"},{\"attributes\":{\"fill_alpha\":{\"value\":0.1},\"fill_color\":{\"value\":\"#007acc\"},\"line_alpha\":{\"value\":0.1},\"line_color\":{\"value\":\"#007acc\"},\"top\":{\"field\":\"top\"},\"width\":{\"value\":0.9},\"x\":{\"field\":\"x\"}},\"id\":\"3491\",\"type\":\"VBar\"},{\"attributes\":{},\"id\":\"3591\",\"type\":\"ResetTool\"},{\"attributes\":{},\"id\":\"3833\",\"type\":\"UnionRenderers\"},{\"attributes\":{},\"id\":\"3476\",\"type\":\"PanTool\"},{\"attributes\":{},\"id\":\"3628\",\"type\":\"ResetTool\"},{\"attributes\":{},\"id\":\"3726\",\"type\":\"LinearScale\"},{\"attributes\":{},\"id\":\"3834\",\"type\":\"Selection\"},{\"attributes\":{\"formatter\":{\"id\":\"3855\"},\"major_label_orientation\":1,\"ticker\":{\"id\":\"3729\"},\"visible\":false},\"id\":\"3728\",\"type\":\"CategoricalAxis\"},{\"attributes\":{},\"id\":\"3592\",\"type\":\"HelpTool\"}],\"root_ids\":[\"3875\"]},\"title\":\"Bokeh Application\",\"version\":\"2.0.0\"}};\n",
       "  var render_items = [{\"docid\":\"27215291-b4b8-4dd4-a963-8e291f560813\",\"root_ids\":[\"3875\"],\"roots\":{\"3875\":\"a00cbdea-3946-4026-8b8d-80bfb06c0131\"}}];\n",
       "  root.Bokeh.embed.embed_items_notebook(docs_json, render_items);\n",
       "\n",
       "  }\n",
       "  if (root.Bokeh !== undefined) {\n",
       "    embed_document(root);\n",
       "  } else {\n",
       "    var attempts = 0;\n",
       "    var timer = setInterval(function(root) {\n",
       "      if (root.Bokeh !== undefined) {\n",
       "        clearInterval(timer);\n",
       "        embed_document(root);\n",
       "      } else {\n",
       "        attempts++;\n",
       "        if (attempts > 100) {\n",
       "          clearInterval(timer);\n",
       "          console.log(\"Bokeh: ERROR: Unable to run BokehJS code because BokehJS library is missing\");\n",
       "        }\n",
       "      }\n",
       "    }, 10, root)\n",
       "  }\n",
       "})(window);"
      ],
      "application/vnd.bokehjs_exec.v0+json": ""
     },
     "metadata": {
      "application/vnd.bokehjs_exec.v0+json": {
       "id": "3875"
      }
     },
     "output_type": "display_data"
    },
    {
     "name": "stdout",
     "output_type": "stream",
     "text": [
      "--> tic: 1m 45.129s | message: Stats printed for dbert-base-fe9f3\n",
      "--> toc total duration: 2m 3.209s\n"
     ]
    },
    {
     "data": {
      "text/plain": [
       "123.21"
      ]
     },
     "execution_count": 14,
     "metadata": {},
     "output_type": "execute_result"
    }
   ],
   "source": [
    "tt = TicToc()\n",
    "tt.tic()\n",
    "for key in keys:\n",
    "    print(\"#\" * 20 + \" \" + key + \" \" + \"#\" * 20)\n",
    "    rankings = twinewsRankings[key]\n",
    "    tt.tic(\"Got \" + key + \" rankings\")\n",
    "    if rankings is None:\n",
    "        print(\"No rankings\")\n",
    "    else:\n",
    "        if isinstance(rankings[list(rankings.keys())[0]][0][0], tuple):\n",
    "            try:\n",
    "                rankingReport(rankings, maxUsers=None, pbarVerbose=False)\n",
    "            except Exception as e:\n",
    "                logException(e)\n",
    "            tt.tic(\"Stats printed for \" + key)\n",
    "        else:\n",
    "            print(\"No scores\")\n",
    "tt.toc()"
   ]
  },
  {
   "cell_type": "code",
   "execution_count": null,
   "metadata": {},
   "outputs": [],
   "source": []
  },
  {
   "cell_type": "code",
   "execution_count": null,
   "metadata": {},
   "outputs": [],
   "source": []
  },
  {
   "cell_type": "markdown",
   "metadata": {},
   "source": [
    "# Affichage des dominances"
   ]
  },
  {
   "cell_type": "code",
   "execution_count": null,
   "metadata": {},
   "outputs": [],
   "source": [
    "keys"
   ]
  },
  {
   "cell_type": "code",
   "execution_count": null,
   "metadata": {},
   "outputs": [],
   "source": [
    "def getCombination(m1, m2, splitVersion=1):\n",
    "    c = twinewsGet(\"combin\", splitVersion=splitVersion)\n",
    "    results = []\n",
    "    for current in c:\n",
    "        if m1 in current['models'] and m2 in current['models'] and current['rankAsScore'] == [False, False]:\n",
    "            results.append(current)\n",
    "    assert len(results) == 1\n",
    "    return results[0]"
   ]
  },
  {
   "cell_type": "code",
   "execution_count": null,
   "metadata": {},
   "outputs": [],
   "source": [
    "def getDominance(*args, **kwargs):\n",
    "    return getCombination(*args, **kwargs)['dominance']"
   ]
  },
  {
   "cell_type": "code",
   "execution_count": null,
   "metadata": {},
   "outputs": [],
   "source": [
    "def printDominance(*args, **kwargs):\n",
    "    d = getDominance(*args, **kwargs)\n",
    "    print(str(args) + \" --> \" + str(truncateFloat(d, 2)))"
   ]
  },
  {
   "cell_type": "code",
   "execution_count": null,
   "metadata": {},
   "outputs": [],
   "source": [
    "lefts = ['bert-a7c9a', 'dbert-base-d092a', 'infersent-77ec7', 'stylo-5c321']\n",
    "rights = ['bm25-933f7', 'lda-82272', 'nmf-6078e', 'tfidf-4a1dc']\n",
    "middle = ['dbert-ft-7847a', 'sent2vec-32f92', 'doc2vec-e013a', 'usent-64ec0']"
   ]
  },
  {
   "cell_type": "code",
   "execution_count": null,
   "metadata": {},
   "outputs": [],
   "source": [
    "set1 = lefts\n",
    "set2 = middle"
   ]
  },
  {
   "cell_type": "code",
   "execution_count": null,
   "metadata": {},
   "outputs": [],
   "source": [
    "for m1 in set1 + set2:\n",
    "    for m2 in set1 + set2:\n",
    "        if m1 != m2:\n",
    "            c = getCombination(m1, m2)\n",
    "            combText = \"\"\n",
    "            model1 = c['models'][0]\n",
    "            model2 = c['models'][1]\n",
    "            m1IsSet1 = model1 in set1\n",
    "            m2IsSet1 = model2 in set1\n",
    "            combText += model1\n",
    "            combText += \" (set1)\" if m1IsSet1 else \" (set2)\"\n",
    "            combText += \" \"\n",
    "            combText += model2\n",
    "            combText += \" (set1)\" if m2IsSet1 else \" (set2)\"\n",
    "            d = getDominance(m1, m2)\n",
    "            combText += \" --> \" + str(truncateFloat(d, 2))\n",
    "            if m1IsSet1 and not m2IsSet1:\n",
    "                print(combText)"
   ]
  },
  {
   "cell_type": "code",
   "execution_count": null,
   "metadata": {},
   "outputs": [],
   "source": [
    "printDominance('bert-a7c9a', 'bm25-933f7')"
   ]
  },
  {
   "cell_type": "code",
   "execution_count": null,
   "metadata": {},
   "outputs": [],
   "source": []
  },
  {
   "cell_type": "code",
   "execution_count": null,
   "metadata": {},
   "outputs": [],
   "source": []
  },
  {
   "cell_type": "markdown",
   "metadata": {},
   "source": [
    "# Affichage d'exemples de courbes de scores"
   ]
  },
  {
   "cell_type": "code",
   "execution_count": null,
   "metadata": {},
   "outputs": [],
   "source": [
    "import numpy as np\n",
    "from bokeh.plotting import figure\n",
    "from bokeh.io import push_notebook, show, output_notebook\n",
    "import numpy as np\n",
    "output_notebook()"
   ]
  },
  {
   "cell_type": "code",
   "execution_count": null,
   "metadata": {},
   "outputs": [],
   "source": [
    "twinewsRankings = getTwinewsRankings()"
   ]
  },
  {
   "cell_type": "code",
   "execution_count": null,
   "metadata": {},
   "outputs": [],
   "source": [
    "rankings = twinewsRankings['lda-d4f1d'] # TODO prendre LDA de split version 2"
   ]
  },
  {
   "cell_type": "code",
   "execution_count": null,
   "metadata": {},
   "outputs": [],
   "source": [
    "u1Rankings = rankings[random.choice(list(rankings.keys()))][0]"
   ]
  },
  {
   "cell_type": "code",
   "execution_count": null,
   "metadata": {},
   "outputs": [],
   "source": [
    "values = [x[1] for x in u1Rankings]"
   ]
  },
  {
   "cell_type": "code",
   "execution_count": null,
   "metadata": {},
   "outputs": [],
   "source": [
    "# Averaging:\n",
    "values = [0] * 1000\n",
    "for id, r in rankings.items():\n",
    "    r = r[0]\n",
    "    for i in range(1000):\n",
    "        values[i] += r[i][1]"
   ]
  },
  {
   "cell_type": "code",
   "execution_count": null,
   "metadata": {},
   "outputs": [],
   "source": [
    "bp(values)"
   ]
  },
  {
   "cell_type": "code",
   "execution_count": null,
   "metadata": {},
   "outputs": [],
   "source": [
    "values = normalizeRankingScores(values)"
   ]
  },
  {
   "cell_type": "code",
   "execution_count": null,
   "metadata": {},
   "outputs": [],
   "source": [
    "bp(list(values))"
   ]
  },
  {
   "cell_type": "code",
   "execution_count": null,
   "metadata": {},
   "outputs": [],
   "source": [
    "green = \"#009b95\"\n",
    "red = \"#f25252\"\n",
    "blue = \"#007acc\"\n",
    "purple = \"#b400cc\""
   ]
  },
  {
   "cell_type": "code",
   "execution_count": null,
   "metadata": {},
   "outputs": [],
   "source": [
    "n = 1000\n",
    "w = 3\n",
    "X = list(range(0, 1000))"
   ]
  },
  {
   "cell_type": "code",
   "execution_count": null,
   "metadata": {},
   "outputs": [],
   "source": [
    "p = figure(plot_width=400, plot_height=400)\n",
    "p.xaxis.axis_label = 'Item position'\n",
    "p.yaxis.axis_label = 'Score'\n",
    "p.line(X, values, line_width=w, color=\"grey\", legend_label=\"Original LDA scores\")\n",
    "values2 = normalizedLawX(values, alpha=0.93, beta=NormalizedLawBeta.LOG, inverse=False)\n",
    "p.line(X, values2, line_width=w, color=green, legend_label=\"α = 0.93, β = True\")\n",
    "values2 = normalizedLawX(values, alpha=0.94, beta=NormalizedLawBeta.EXP, inverse=False)\n",
    "p.line(X, values2, line_width=w, color=blue, legend_label=\"α = 0.94, β = False\")\n",
    "p.legend.location = 'bottom_right'\n",
    "show(p)"
   ]
  },
  {
   "cell_type": "code",
   "execution_count": null,
   "metadata": {},
   "outputs": [],
   "source": [
    "import bokeh\n",
    "print(bokeh.__version__)"
   ]
  },
  {
   "cell_type": "code",
   "execution_count": null,
   "metadata": {},
   "outputs": [],
   "source": []
  },
  {
   "cell_type": "code",
   "execution_count": null,
   "metadata": {},
   "outputs": [],
   "source": []
  },
  {
   "cell_type": "code",
   "execution_count": null,
   "metadata": {},
   "outputs": [],
   "source": []
  },
  {
   "cell_type": "markdown",
   "metadata": {},
   "source": [
    "# Avantage d'un modèle dans une combinaison"
   ]
  },
  {
   "cell_type": "code",
   "execution_count": null,
   "metadata": {},
   "outputs": [],
   "source": [
    "def getDominance(combin, logger=None, verbose=False):\n",
    "    meta = twinewsRankings.getMeta(combin)\n",
    "    model1, model2 = meta['models'][0], meta['models'][1]\n",
    "    combinRankings = rankingsCache[combin]\n",
    "    model1Rankings = rankingsCache[model1]\n",
    "    model2Rankings = rankingsCache[model2]\n",
    "    userIds = list(combinRankings.keys())\n",
    "    domin1 = 0\n",
    "    domin2 = 0\n",
    "    dominationRatio1 = None\n",
    "    for i in range(1000000):\n",
    "        userId = random.choice(userIds)\n",
    "        crk = pruneScores(combinRankings[userId][0])\n",
    "        m1rk = pruneScores(model1Rankings[userId][0])\n",
    "        m2rk = pruneScores(model2Rankings[userId][0])\n",
    "        urlIndex = getRandomInt(0, 999)\n",
    "        url = crk[urlIndex]\n",
    "        position1 = m1rk.index(url)\n",
    "        position2 = m2rk.index(url)\n",
    "        distance1 = abs(position1 - urlIndex)\n",
    "        distance2 = abs(position2 - urlIndex)\n",
    "        if distance1 == distance2:\n",
    "            pass\n",
    "        elif distance1 < distance2:\n",
    "            domin1 += 1\n",
    "        else:\n",
    "            domin2 += 1\n",
    "        if i > 1000 and i % 10000 == 0:\n",
    "            newDominationRatio1 = domin1 / (domin1 + domin2)\n",
    "            if dominationRatio1 is not None:\n",
    "                if abs(dominationRatio1 - newDominationRatio1) < 0.0005:\n",
    "                    break\n",
    "            dominationRatio1 = newDominationRatio1\n",
    "            log(\"dominationRatio1: \" + str(truncateFloat(dominationRatio1, 2)), logger, verbose=verbose)\n",
    "            log('-' * 10, logger, verbose=verbose)\n",
    "    dominationRatio1 = domin1 / (domin1 + domin2)\n",
    "    return dominationRatio1"
   ]
  },
  {
   "cell_type": "code",
   "execution_count": null,
   "metadata": {},
   "outputs": [],
   "source": [
    "twinewsRankings = getTwinewsRankings()\n",
    "rankingsCache = Cache(twinewsRankings.get, minFreeRAM=20, logger=logger)"
   ]
  },
  {
   "cell_type": "code",
   "execution_count": null,
   "metadata": {},
   "outputs": [],
   "source": [
    "combinsSplit1 = getCombinIds(1)\n",
    "combinsSplit2 = getCombinIds(2)\n",
    "bp(combinsSplit1, logger)\n",
    "bp(combinsSplit2, logger)"
   ]
  },
  {
   "cell_type": "code",
   "execution_count": null,
   "metadata": {},
   "outputs": [],
   "source": [
    "dominancesSD = getDominancesSD()\n",
    "bp(list(dominancesSD.items()), logger)"
   ]
  },
  {
   "cell_type": "code",
   "execution_count": null,
   "metadata": {
    "scrolled": false
   },
   "outputs": [],
   "source": [
    "for combin in pb(list(combinsSplit1) + list(combinsSplit2), logger=logger, printRatio=0.01):\n",
    "    if combin not in dominancesSD:\n",
    "        meta = twinewsRankings.getMeta(combin)\n",
    "        model1, model2 = meta['models'][0], meta['models'][1]\n",
    "        rankAsScore = meta['rankAsScore']\n",
    "        log(\"#\" * 10 + \" \" + combin + \" (\" + model1 + \" / \" + model2 + \") \" + \"#\" * 10, logger)\n",
    "        log(\"rankAsScore: \" + str(rankAsScore), logger)\n",
    "        dominationRatio1 = getDominance(combin, logger=logger, verbose=False)\n",
    "        log(\"Dominance prob of \" + model1 + \": \" + str(truncateFloat(dominationRatio1, 2)), logger)\n",
    "        # log(\"#\" * 60, logger)\n",
    "        dominancesSD[combin] = dominationRatio1"
   ]
  },
  {
   "cell_type": "code",
   "execution_count": null,
   "metadata": {},
   "outputs": [],
   "source": []
  },
  {
   "cell_type": "code",
   "execution_count": null,
   "metadata": {},
   "outputs": [],
   "source": []
  },
  {
   "cell_type": "markdown",
   "metadata": {},
   "source": [
    "# Trash"
   ]
  },
  {
   "cell_type": "code",
   "execution_count": null,
   "metadata": {},
   "outputs": [],
   "source": [
    "if False:\n",
    "    def getDominances(combin):\n",
    "        meta = twinewsRankings.getMeta(combin)\n",
    "        model1, model2 = meta['models'][0], meta['models'][1]\n",
    "        combinRankings = rankingsCache[combin]\n",
    "        model1Rankings = rankingsCache[model1]\n",
    "        model2Rankings = rankingsCache[model2]\n",
    "        userIds = list(combinRankings.keys())\n",
    "        p1s = []\n",
    "        p2s = []\n",
    "        p1 = None\n",
    "        p2 = None\n",
    "        for i in range(1000000):\n",
    "            userId = random.choice(userIds)\n",
    "            crk = pruneScores(combinRankings[userId][0])\n",
    "            m1rk = pruneScores(model1Rankings[userId][0])\n",
    "            m2rk = pruneScores(model2Rankings[userId][0])\n",
    "            urlIndex = getRandomInt(0, 999)\n",
    "            url = crk[urlIndex]\n",
    "            position1 = m1rk.index(url)\n",
    "            position2 = m2rk.index(url)\n",
    "            p1s.append(position1 < urlIndex)\n",
    "            p2s.append(position2 < urlIndex)\n",
    "            if i % 10000 == 0:\n",
    "                newp1 = p1s.count(True) / len(p1s)\n",
    "                newp2 = p2s.count(True) / len(p2s)\n",
    "                if p1 is not None and p2 is not None:\n",
    "                    if abs(p1 - newp1) < 0.001 and abs(p2 - newp2) < 0.001:\n",
    "                        break\n",
    "                p1, p2 = newp1, newp2\n",
    "                # print(\"p1: \" + str(truncateFloat(p1, 2)))\n",
    "                # print(\"p2: \" + str(truncateFloat(p2, 2)))\n",
    "                # print('-' * 10)\n",
    "        p1 = p1s.count(True) / len(p1s)\n",
    "        p2 = p2s.count(True) / len(p2s)\n",
    "        return (p1, p2)"
   ]
  },
  {
   "cell_type": "code",
   "execution_count": null,
   "metadata": {},
   "outputs": [],
   "source": []
  },
  {
   "cell_type": "code",
   "execution_count": null,
   "metadata": {},
   "outputs": [],
   "source": []
  },
  {
   "cell_type": "code",
   "execution_count": null,
   "metadata": {},
   "outputs": [],
   "source": []
  }
 ],
 "metadata": {
  "kernelspec": {
   "display_name": "Python 3",
   "language": "python",
   "name": "python3"
  },
  "language_info": {
   "codemirror_mode": {
    "name": "ipython",
    "version": 3
   },
   "file_extension": ".py",
   "mimetype": "text/x-python",
   "name": "python",
   "nbconvert_exporter": "python",
   "pygments_lexer": "ipython3",
   "version": "3.6.3"
  }
 },
 "nbformat": 4,
 "nbformat_minor": 4
}
