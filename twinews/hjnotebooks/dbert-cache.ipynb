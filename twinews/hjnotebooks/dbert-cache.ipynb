{
 "cells": [
  {
   "cell_type": "code",
   "execution_count": null,
   "metadata": {},
   "outputs": [],
   "source": [
    "# titanv 1:\n",
    "# screen -S dbert-cache1\n",
    "# source ~/.bash_profile ; source ~/.bash_aliases ; cd ~/twinews-logs\n",
    "# DOCKER_PORT=9963 nn -o nohup-dbert-cache-$HOSTNAME-1.out ~/docker/keras/run-jupython.sh ~/notebooks/twinews/hjnotebooks/dbert-cache.ipynb titanv\n",
    "# observe ~/twinews-logs/nohup-dbert-cache-$HOSTNAME-1.out"
   ]
  },
  {
   "cell_type": "code",
   "execution_count": null,
   "metadata": {},
   "outputs": [],
   "source": []
  },
  {
   "cell_type": "code",
   "execution_count": null,
   "metadata": {},
   "outputs": [],
   "source": []
  },
  {
   "cell_type": "markdown",
   "metadata": {},
   "source": [
    "## Imports"
   ]
  },
  {
   "cell_type": "code",
   "execution_count": null,
   "metadata": {},
   "outputs": [],
   "source": [
    "isNotebook = '__file__' not in locals()"
   ]
  },
  {
   "cell_type": "code",
   "execution_count": null,
   "metadata": {},
   "outputs": [],
   "source": [
    "TEST = isNotebook # False, True, isNotebook"
   ]
  },
  {
   "cell_type": "code",
   "execution_count": null,
   "metadata": {},
   "outputs": [],
   "source": [
    "import os\n",
    "from systemtools.hayj import *\n",
    "if not labia():\n",
    "    os.environ[\"CUDA_VISIBLE_DEVICES\"] = '1'"
   ]
  },
  {
   "cell_type": "code",
   "execution_count": null,
   "metadata": {},
   "outputs": [],
   "source": [
    "import logging\n",
    "import math\n",
    "import tensorflow as tf\n",
    "from tensorflow.keras import callbacks\n",
    "from transformers import \\\n",
    "(\n",
    "    DistilBertConfig,\n",
    "    DistilBertTokenizer,\n",
    "    TFDistilBertForSequenceClassification,\n",
    ")"
   ]
  },
  {
   "cell_type": "code",
   "execution_count": null,
   "metadata": {
    "scrolled": true
   },
   "outputs": [],
   "source": [
    "from systemtools.basics import *\n",
    "from systemtools.printer import *\n",
    "from systemtools.file import *\n",
    "from systemtools.location import *\n",
    "from datatools.jsonutils import *\n",
    "from machinelearning.encoder import *\n",
    "from newssource.asa2.utils import *\n",
    "from machinelearning import tf2utils"
   ]
  },
  {
   "cell_type": "code",
   "execution_count": null,
   "metadata": {},
   "outputs": [],
   "source": [
    "from newssource.dbert.utils import *\n",
    "from twinews.utils import *\n",
    "from twinews.models.ranking import *"
   ]
  },
  {
   "cell_type": "code",
   "execution_count": null,
   "metadata": {},
   "outputs": [],
   "source": []
  },
  {
   "cell_type": "code",
   "execution_count": null,
   "metadata": {},
   "outputs": [],
   "source": []
  },
  {
   "cell_type": "markdown",
   "metadata": {},
   "source": [
    "## Config"
   ]
  },
  {
   "cell_type": "code",
   "execution_count": null,
   "metadata": {},
   "outputs": [],
   "source": [
    "logger = Logger('dbert-cache.log')"
   ]
  },
  {
   "cell_type": "code",
   "execution_count": null,
   "metadata": {},
   "outputs": [],
   "source": [
    "# The best model is dbert-94bef_ep32-distilbert-mean\n",
    "modelNames = ['94bef_ep32', None]\n",
    "bp(modelNames, 5, logger)"
   ]
  },
  {
   "cell_type": "code",
   "execution_count": null,
   "metadata": {},
   "outputs": [],
   "source": [
    "maxLength = 512\n",
    "batchSize = 16"
   ]
  },
  {
   "cell_type": "code",
   "execution_count": null,
   "metadata": {},
   "outputs": [],
   "source": [
    "# layers = ['distilbert', 'pre_classifier', 'dropout', 'classifier'] if modelPath is not None else ['distilbert']\n",
    "layer = 'distilbert'"
   ]
  },
  {
   "cell_type": "code",
   "execution_count": null,
   "metadata": {},
   "outputs": [],
   "source": [
    "(user, password, host) = getMongoAuth(user='hayj')"
   ]
  },
  {
   "cell_type": "code",
   "execution_count": null,
   "metadata": {},
   "outputs": [],
   "source": [
    "newsCollection = getNewsCollection(logger=logger)"
   ]
  },
  {
   "cell_type": "code",
   "execution_count": null,
   "metadata": {},
   "outputs": [],
   "source": [
    "ids = newsCollection.distinct('_id')"
   ]
  },
  {
   "cell_type": "code",
   "execution_count": null,
   "metadata": {},
   "outputs": [],
   "source": [
    "if TEST:\n",
    "    ids = ids[:3]"
   ]
  },
  {
   "cell_type": "code",
   "execution_count": null,
   "metadata": {},
   "outputs": [],
   "source": [
    "bp(ids, logger)"
   ]
  },
  {
   "cell_type": "code",
   "execution_count": null,
   "metadata": {},
   "outputs": [],
   "source": []
  },
  {
   "cell_type": "code",
   "execution_count": null,
   "metadata": {},
   "outputs": [],
   "source": []
  },
  {
   "cell_type": "markdown",
   "metadata": {},
   "source": [
    "## Caching"
   ]
  },
  {
   "cell_type": "code",
   "execution_count": null,
   "metadata": {},
   "outputs": [],
   "source": [
    "pbar = ProgressBar(len(ids) * len(modelNames), logger=logger, printRatio=0.0001)"
   ]
  },
  {
   "cell_type": "code",
   "execution_count": null,
   "metadata": {
    "scrolled": true
   },
   "outputs": [],
   "source": [
    "for modelName in modelNames:\n",
    "    if modelName is None:\n",
    "        modelPath = None\n",
    "        modelName = 'base'\n",
    "    else:\n",
    "        if lri():\n",
    "            modelPath = sortedGlob(nosaveDir() + \"/dbert-tmp/\" + modelName + \"/epochs/ep*\")[0]\n",
    "        else:\n",
    "            modelPath = sortedGlob(homeDir() + \"/asa/dbert-tmp/\" + modelName + \"/epochs/ep*\")[0]\n",
    "    # We init the model:\n",
    "    if modelPath is None:\n",
    "        dbertConfig = DistilBertConfig.from_pretrained\\\n",
    "        (\n",
    "            \"distilbert-base-uncased\",\n",
    "            num_labels=1200,\n",
    "            max_length=maxLength,\n",
    "        )\n",
    "        model = TFDistilBertForSequenceClassification.from_pretrained\\\n",
    "        (\n",
    "            \"distilbert-base-uncased\",\n",
    "            config=dbertConfig,\n",
    "        )\n",
    "    else:\n",
    "        dbertConfig = DistilBertConfig.from_pretrained(modelPath + '/config.json')\n",
    "        model = TFDistilBertForSequenceClassification.from_pretrained\\\n",
    "        (\n",
    "            modelPath + '/tf_model.h5',\n",
    "            config=dbertConfig,\n",
    "        )\n",
    "    log(modelName + \" dbert model loaded.\", logger)\n",
    "    # We init the cache:\n",
    "    cache = SerializableDict\\\n",
    "    (\n",
    "        \"twinews-dbert-\" + modelName,\n",
    "        user=user, host=host, password=password,\n",
    "        useMongodb=True, logger=logger,\n",
    "    )\n",
    "    # We infer all embeddings for each row in each file:\n",
    "    for currentId in ids:\n",
    "        row = newsCollection.findOne({'_id': currentId}, projection={'detokText': True})\n",
    "        if dictContains(row, 'detokText'):\n",
    "            text  = row['detokText']\n",
    "            currentHash = objectToHash(text)\n",
    "            if currentHash not in cache:\n",
    "                encodedText = tf2utils.distilBertEncode\\\n",
    "                (\n",
    "                    text,\n",
    "                    maxLength=maxLength,\n",
    "                    multiSamplage=True,\n",
    "                    preventTokenizerWarnings=True,\n",
    "                )\n",
    "                encodedBatches = chunks(encodedText, batchSize)\n",
    "                embeddings = []\n",
    "                for encodedBatch in encodedBatches:\n",
    "                    outputs = tf2utils.getDistilBertRepresentations(model, np.array(encodedBatch), layer=layer)\n",
    "                    for output in outputs:\n",
    "                        embeddings.append(np.array(output))\n",
    "                embeddings = np.mean(embeddings, axis=0)\n",
    "                cache[currentHash] = embeddings\n",
    "        pbar.tic()"
   ]
  },
  {
   "cell_type": "code",
   "execution_count": null,
   "metadata": {},
   "outputs": [],
   "source": []
  },
  {
   "cell_type": "code",
   "execution_count": null,
   "metadata": {},
   "outputs": [],
   "source": []
  }
 ],
 "metadata": {
  "kernelspec": {
   "display_name": "Python 3",
   "language": "python",
   "name": "python3"
  },
  "language_info": {
   "codemirror_mode": {
    "name": "ipython",
    "version": 3
   },
   "file_extension": ".py",
   "mimetype": "text/x-python",
   "name": "python",
   "nbconvert_exporter": "python",
   "pygments_lexer": "ipython3",
   "version": "3.6.10"
  }
 },
 "nbformat": 4,
 "nbformat_minor": 2
}
