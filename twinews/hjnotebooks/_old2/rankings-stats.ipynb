{
 "cells": [
  {
   "cell_type": "code",
   "execution_count": null,
   "metadata": {},
   "outputs": [],
   "source": [
    "import os ; os.environ[\"CUDA_VISIBLE_DEVICES\"] = \"\""
   ]
  },
  {
   "cell_type": "code",
   "execution_count": null,
   "metadata": {},
   "outputs": [],
   "source": [
    "from systemtools.hayj import *\n",
    "from systemtools.location import *\n",
    "from systemtools.basics import *\n",
    "from systemtools.file import *\n",
    "from systemtools.printer import *\n",
    "from datastructuretools.cache import *\n",
    "from twinews.utils import *\n",
    "from twinews.evaluation.utils import *\n",
    "from twinews.models.ranking import *"
   ]
  },
  {
   "cell_type": "code",
   "execution_count": null,
   "metadata": {},
   "outputs": [],
   "source": [
    "from dataviztools import bokehutils\n",
    "from bokeh.plotting import output_notebook, show\n",
    "from bokeh.layouts import gridplot\n",
    "from bokeh.plotting import figure\n",
    "output_notebook()"
   ]
  },
  {
   "cell_type": "code",
   "execution_count": null,
   "metadata": {},
   "outputs": [],
   "source": [
    "import importlib\n",
    "importlib.reload(bokehutils)"
   ]
  },
  {
   "cell_type": "code",
   "execution_count": null,
   "metadata": {},
   "outputs": [],
   "source": [
    "logger = Logger()"
   ]
  },
  {
   "cell_type": "code",
   "execution_count": null,
   "metadata": {},
   "outputs": [],
   "source": []
  },
  {
   "cell_type": "code",
   "execution_count": null,
   "metadata": {},
   "outputs": [],
   "source": []
  },
  {
   "cell_type": "markdown",
   "metadata": {},
   "source": [
    "# Printing stats on rankings"
   ]
  },
  {
   "cell_type": "code",
   "execution_count": null,
   "metadata": {},
   "outputs": [],
   "source": [
    "twinewsRankings = getTwinewsRankings()\n",
    "models = set()\n",
    "for row in twinewsRankings.collection.find({\"meta.splitVersion\": 1, 'meta.maxUsers': None}):\n",
    "    if row['meta']['model'] != 'combin':\n",
    "        models.add(row['meta']['model'])\n",
    "models.remove('worst')\n",
    "models.remove('ideal')\n",
    "models.remove('random')\n",
    "keys = set()\n",
    "for model in models:\n",
    "    keys.add(twinewsRankings.collection.find_one({'meta.model': model, \"meta.splitVersion\": 1, 'meta.maxUsers': None})['id'])\n",
    "keys.add(\"combin-8f846\")\n",
    "keys.add(\"combin-efad4\")\n",
    "keys = sorted(list(keys))\n",
    "print(keys)"
   ]
  },
  {
   "cell_type": "code",
   "execution_count": null,
   "metadata": {},
   "outputs": [],
   "source": [
    "def rankingReport(rankings, maxUsers=None, logger=None, verbose=True, pbarVerbose=True):\n",
    "    if maxUsers is not None:\n",
    "        keys = shuffle(list(rankings.keys()), seed=0)[:maxUsers]\n",
    "        rankings = dictSelect(rankings, keys)\n",
    "    # We find all data:\n",
    "    medians = []\n",
    "    means = []\n",
    "    rkvs = []\n",
    "    scoress = []\n",
    "    allScores = []\n",
    "    for userId in pb(list(rankings.keys()), logger=logger, verbose=pbarVerbose):\n",
    "        assert isinstance(rankings[userId][0][0], tuple)\n",
    "        scores = [e[1] for e in rankings[userId][0]]\n",
    "        scores = normalizeRankingScores(scores)\n",
    "        medians.append(np.median(scores))\n",
    "        means.append(np.mean(scores))\n",
    "        rkvs.append(rankingVariance(scores))\n",
    "        scoress.append(scores)\n",
    "        allScores += list(scores)\n",
    "    # We print means and std:\n",
    "    for values, label in \\\n",
    "    [\n",
    "        (medians, \"Median\"), (means, \"Mean\"),\n",
    "        (rkvs, \"Ranking variance\")\n",
    "    ]:\n",
    "        std = np.std(values)\n",
    "        # std = mean_confidence_interval(values)\n",
    "        std = truncateFloat(std, 2)\n",
    "        mean = truncateFloat(np.mean(values), 2)\n",
    "        text = label + \": \" + str(mean) + \" ±\" + str(std) + \" (95%)\"\n",
    "        log(text, logger, verbose=verbose)\n",
    "    # We show all scores histogram:\n",
    "    log(\"Histogram of all scores (as distances):\", logger=logger, verbose=verbose)\n",
    "    show(bokehutils.barplot(allScores, 30, hideTools=True, hideXAxis=True, hideYAxis=True, title=\"\", height=100, width=300))\n",
    "    # We show a sample of scores:\n",
    "    log(\"Histogram samples of scores (as distances):\", logger=logger, verbose=verbose)\n",
    "    scoress = shuffle(list(scoress))\n",
    "    figures = []\n",
    "    for row in range(3):\n",
    "        currentFigures = []\n",
    "        for col in range(3):\n",
    "            scores = scoress.pop()\n",
    "            f = bokehutils.barplot(scores, 10, hideTools=True, hideXAxis=True, hideYAxis=True, title=\"\", height=40, width=100)\n",
    "            currentFigures.append(f)\n",
    "        figures.append(currentFigures)\n",
    "    grid = gridplot(figures, toolbar_options={'logo': None})\n",
    "    show(grid)"
   ]
  },
  {
   "cell_type": "code",
   "execution_count": null,
   "metadata": {
    "scrolled": false
   },
   "outputs": [],
   "source": [
    "tt = TicToc()\n",
    "tt.tic()\n",
    "for key in keys:\n",
    "    print(\"#\" * 20 + \" \" + key + \" \" + \"#\" * 20)\n",
    "    rankings = twinewsRankings[key]\n",
    "    tt.tic(\"Got \" + key + \" rankings\")\n",
    "    if rankings is None:\n",
    "        print(\"No rankings\")\n",
    "    else:\n",
    "        if isinstance(rankings[list(rankings.keys())[0]][0][0], tuple):\n",
    "            try:\n",
    "                rankingReport(rankings, maxUsers=None, pbarVerbose=False)\n",
    "            except Exception as e:\n",
    "                logException(e)\n",
    "            tt.tic(\"Stats printed for \" + key)\n",
    "        else:\n",
    "            print(\"No scores\")\n",
    "tt.toc()"
   ]
  },
  {
   "cell_type": "code",
   "execution_count": null,
   "metadata": {},
   "outputs": [],
   "source": []
  },
  {
   "cell_type": "code",
   "execution_count": null,
   "metadata": {},
   "outputs": [],
   "source": []
  },
  {
   "cell_type": "markdown",
   "metadata": {},
   "source": [
    "# Avantage d'un modèle dans une combinaison"
   ]
  },
  {
   "cell_type": "code",
   "execution_count": null,
   "metadata": {},
   "outputs": [],
   "source": [
    "def getDominance(combin, logger=None, verbose=False):\n",
    "    meta = twinewsRankings.getMeta(combin)\n",
    "    model1, model2 = meta['models'][0], meta['models'][1]\n",
    "    combinRankings = rankingsCache[combin]\n",
    "    model1Rankings = rankingsCache[model1]\n",
    "    model2Rankings = rankingsCache[model2]\n",
    "    userIds = list(combinRankings.keys())\n",
    "    domin1 = 0\n",
    "    domin2 = 0\n",
    "    dominationRatio1 = None\n",
    "    for i in range(1000000):\n",
    "        userId = random.choice(userIds)\n",
    "        crk = pruneScores(combinRankings[userId][0])\n",
    "        m1rk = pruneScores(model1Rankings[userId][0])\n",
    "        m2rk = pruneScores(model2Rankings[userId][0])\n",
    "        urlIndex = getRandomInt(0, 999)\n",
    "        url = crk[urlIndex]\n",
    "        position1 = m1rk.index(url)\n",
    "        position2 = m2rk.index(url)\n",
    "        distance1 = abs(position1 - urlIndex)\n",
    "        distance2 = abs(position2 - urlIndex)\n",
    "        if distance1 == distance2:\n",
    "            pass\n",
    "        elif distance1 < distance2:\n",
    "            domin1 += 1\n",
    "        else:\n",
    "            domin2 += 1\n",
    "        if i > 1000 and i % 10000 == 0:\n",
    "            newDominationRatio1 = domin1 / (domin1 + domin2)\n",
    "            if dominationRatio1 is not None:\n",
    "                if abs(dominationRatio1 - newDominationRatio1) < 0.0005:\n",
    "                    break\n",
    "            dominationRatio1 = newDominationRatio1\n",
    "            log(\"dominationRatio1: \" + str(truncateFloat(dominationRatio1, 2)), logger, verbose=verbose)\n",
    "            log('-' * 10, logger, verbose=verbose)\n",
    "    dominationRatio1 = domin1 / (domin1 + domin2)\n",
    "    return dominationRatio1"
   ]
  },
  {
   "cell_type": "code",
   "execution_count": null,
   "metadata": {},
   "outputs": [],
   "source": [
    "twinewsRankings = getTwinewsRankings()\n",
    "rankingsCache = Cache(twinewsRankings.get, minFreeRAM=20, logger=logger)"
   ]
  },
  {
   "cell_type": "code",
   "execution_count": null,
   "metadata": {},
   "outputs": [],
   "source": [
    "combinsSplit1 = getCombinIds(1)\n",
    "combinsSplit2 = getCombinIds(2)\n",
    "bp(combinsSplit1, logger)\n",
    "bp(combinsSplit2, logger)"
   ]
  },
  {
   "cell_type": "code",
   "execution_count": null,
   "metadata": {},
   "outputs": [],
   "source": [
    "dominancesSD = getDominancesSD()\n",
    "bp(list(dominancesSD.items()), logger)"
   ]
  },
  {
   "cell_type": "code",
   "execution_count": null,
   "metadata": {
    "scrolled": false
   },
   "outputs": [],
   "source": [
    "for combin in pb(list(combinsSplit1) + list(combinsSplit2), logger=logger, printRatio=0.01):\n",
    "    if combin not in dominancesSD:\n",
    "        meta = twinewsRankings.getMeta(combin)\n",
    "        model1, model2 = meta['models'][0], meta['models'][1]\n",
    "        rankAsScore = meta['rankAsScore']\n",
    "        log(\"#\" * 10 + \" \" + combin + \" (\" + model1 + \" / \" + model2 + \") \" + \"#\" * 10, logger)\n",
    "        log(\"rankAsScore: \" + str(rankAsScore), logger)\n",
    "        dominationRatio1 = getDominance(combin, logger=logger, verbose=False)\n",
    "        log(\"Dominance prob of \" + model1 + \": \" + str(truncateFloat(dominationRatio1, 2)), logger)\n",
    "        # log(\"#\" * 60, logger)\n",
    "        dominancesSD[combin] = dominationRatio1"
   ]
  },
  {
   "cell_type": "code",
   "execution_count": null,
   "metadata": {},
   "outputs": [],
   "source": []
  },
  {
   "cell_type": "code",
   "execution_count": null,
   "metadata": {},
   "outputs": [],
   "source": []
  },
  {
   "cell_type": "markdown",
   "metadata": {},
   "source": [
    "# Trash"
   ]
  },
  {
   "cell_type": "code",
   "execution_count": null,
   "metadata": {},
   "outputs": [],
   "source": [
    "if False:\n",
    "    def getDominances(combin):\n",
    "        meta = twinewsRankings.getMeta(combin)\n",
    "        model1, model2 = meta['models'][0], meta['models'][1]\n",
    "        combinRankings = rankingsCache[combin]\n",
    "        model1Rankings = rankingsCache[model1]\n",
    "        model2Rankings = rankingsCache[model2]\n",
    "        userIds = list(combinRankings.keys())\n",
    "        p1s = []\n",
    "        p2s = []\n",
    "        p1 = None\n",
    "        p2 = None\n",
    "        for i in range(1000000):\n",
    "            userId = random.choice(userIds)\n",
    "            crk = pruneScores(combinRankings[userId][0])\n",
    "            m1rk = pruneScores(model1Rankings[userId][0])\n",
    "            m2rk = pruneScores(model2Rankings[userId][0])\n",
    "            urlIndex = getRandomInt(0, 999)\n",
    "            url = crk[urlIndex]\n",
    "            position1 = m1rk.index(url)\n",
    "            position2 = m2rk.index(url)\n",
    "            p1s.append(position1 < urlIndex)\n",
    "            p2s.append(position2 < urlIndex)\n",
    "            if i % 10000 == 0:\n",
    "                newp1 = p1s.count(True) / len(p1s)\n",
    "                newp2 = p2s.count(True) / len(p2s)\n",
    "                if p1 is not None and p2 is not None:\n",
    "                    if abs(p1 - newp1) < 0.001 and abs(p2 - newp2) < 0.001:\n",
    "                        break\n",
    "                p1, p2 = newp1, newp2\n",
    "                # print(\"p1: \" + str(truncateFloat(p1, 2)))\n",
    "                # print(\"p2: \" + str(truncateFloat(p2, 2)))\n",
    "                # print('-' * 10)\n",
    "        p1 = p1s.count(True) / len(p1s)\n",
    "        p2 = p2s.count(True) / len(p2s)\n",
    "        return (p1, p2)"
   ]
  },
  {
   "cell_type": "code",
   "execution_count": null,
   "metadata": {},
   "outputs": [],
   "source": []
  },
  {
   "cell_type": "code",
   "execution_count": null,
   "metadata": {},
   "outputs": [],
   "source": []
  },
  {
   "cell_type": "code",
   "execution_count": null,
   "metadata": {},
   "outputs": [],
   "source": []
  }
 ],
 "metadata": {
  "kernelspec": {
   "display_name": "Python 3",
   "language": "python",
   "name": "python3"
  },
  "language_info": {
   "codemirror_mode": {
    "name": "ipython",
    "version": 3
   },
   "file_extension": ".py",
   "mimetype": "text/x-python",
   "name": "python",
   "nbconvert_exporter": "python",
   "pygments_lexer": "ipython3",
   "version": "3.6.3"
  }
 },
 "nbformat": 4,
 "nbformat_minor": 4
}
