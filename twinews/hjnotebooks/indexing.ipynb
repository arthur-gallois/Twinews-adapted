{
 "cells": [
  {
   "cell_type": "markdown",
   "metadata": {},
   "source": [
    "# Init"
   ]
  },
  {
   "cell_type": "code",
   "execution_count": 1,
   "metadata": {},
   "outputs": [],
   "source": [
    "import sys ; sys.path.append('/hosthome/Workspace/Python/Datasets/Twinews')"
   ]
  },
  {
   "cell_type": "code",
   "execution_count": 2,
   "metadata": {},
   "outputs": [],
   "source": [
    "isNotebook = '__file__' not in locals()"
   ]
  },
  {
   "cell_type": "code",
   "execution_count": 3,
   "metadata": {},
   "outputs": [],
   "source": [
    "from systemtools.hayj import *\n",
    "from systemtools.basics import *\n",
    "from systemtools.file import *\n",
    "from systemtools.location import *\n",
    "from systemtools.printer import *\n",
    "from databasetools.mongo import *\n",
    "from newstools.goodarticle.utils import *\n",
    "from nlptools.preprocessing import *\n",
    "from nlptools.news import parser as newsParser\n",
    "from machinelearning.iterator import *"
   ]
  },
  {
   "cell_type": "code",
   "execution_count": 4,
   "metadata": {},
   "outputs": [],
   "source": [
    "from twinews.utils import *"
   ]
  },
  {
   "cell_type": "code",
   "execution_count": 5,
   "metadata": {},
   "outputs": [
    {
     "name": "stderr",
     "output_type": "stream",
     "text": [
      "--> tictoc starts...\n"
     ]
    },
    {
     "data": {
      "text/plain": [
       "-1"
      ]
     },
     "execution_count": 5,
     "metadata": {},
     "output_type": "execute_result"
    }
   ],
   "source": [
    "logger = Logger(tmpDir('logs') + \"/twinews-indexing.log\")\n",
    "tt = TicToc(logger=logger)\n",
    "tt.tic()"
   ]
  },
  {
   "cell_type": "code",
   "execution_count": 6,
   "metadata": {},
   "outputs": [],
   "source": [
    "TEST = False\n",
    "initialDatasetVersion = 1 if TEST else 1\n",
    "datasetVersion = \"1.0\""
   ]
  },
  {
   "cell_type": "code",
   "execution_count": 7,
   "metadata": {},
   "outputs": [],
   "source": [
    "dataRootPath = dataDir() + \"/Twinews/\" + \"twinews\" + str(initialDatasetVersion)"
   ]
  },
  {
   "cell_type": "code",
   "execution_count": 8,
   "metadata": {},
   "outputs": [
    {
     "name": "stdout",
     "output_type": "stream",
     "text": [
      "[\n",
      "  /NoSave/Data/Twinews/twinews1/news/9news.com.bz2,\n",
      "  /NoSave/Data/Twinews/twinews1/news/10news.com.bz2,\n",
      "  ...,\n",
      "  /NoSave/Data/Twinews/twinews1/news/zdnet.com.bz2,\n",
      "  /NoSave/Data/Twinews/twinews1/news/zerohedge.com.bz2\n",
      "]\n",
      "dict_keys(['domain', 'lastUrlDomain', 'scrap', 'url', 'title', 'redirected', 'lastUrl'])\n",
      "dict_keys(['meta_data', 'publish_date', 'meta_description', 'authors', 'title', 'meta_lang', 'text', 'tags', 'meta_favicon'])\n"
     ]
    }
   ],
   "source": [
    "newsFiles = sortedGlob(dataRootPath + \"/news/*.bz2\")\n",
    "bp(newsFiles)\n",
    "bp(list(NDJson(random.choice(newsFiles)))[0].keys(), 5)\n",
    "bp(list(NDJson(random.choice(newsFiles)))[0]['scrap'].keys(), 5)\n",
    "if TEST:\n",
    "    newsFiles = newsFiles[:10]"
   ]
  },
  {
   "cell_type": "code",
   "execution_count": 9,
   "metadata": {},
   "outputs": [
    {
     "name": "stdout",
     "output_type": "stream",
     "text": [
      "[ /NoSave/Data/Twinews/twinews1/users/part0.bz2, /NoSave/Data/Twinews/twinews1/users/part1.bz2 ]\n",
      "dict_keys(['tweet_count', 'location', 'bio', 'tweets', 'list_count', 'joindate_title', 'joindate_text', 'moment_count', 'notBotScore', 'verified', 'username', 'user_website', 'follower_count', 'following_count', 'favorite_count', 'user_id', 'datasetRelevanceScore', 'url', 'name', 'media_count', 'tweets_en_ratio', 'consecutive_old_tweets', 'avatar', 'news', 'user_twitter_website', 'date_limit'])\n"
     ]
    }
   ],
   "source": [
    "usersFiles = sortedGlob(dataRootPath + \"/users/*.bz2\")\n",
    "bp(usersFiles)\n",
    "bp(list(NDJson(random.choice(usersFiles)))[0].keys(), 5)"
   ]
  },
  {
   "cell_type": "code",
   "execution_count": 10,
   "metadata": {},
   "outputs": [],
   "source": [
    "(hjuser, hjpass, hjhost) = getMongoAuth(user='hayj')"
   ]
  },
  {
   "cell_type": "code",
   "execution_count": 11,
   "metadata": {},
   "outputs": [
    {
     "name": "stderr",
     "output_type": "stream",
     "text": [
      "twinews news (version 1.0) initialised.\n",
      "twinews users (version 1.0) initialised.\n"
     ]
    }
   ],
   "source": [
    "newsCollection = getNewsCollection(logger=logger, user=hjuser, password=hjpass, host=hjhost)\n",
    "usersCollection = getUsersCollection(logger=logger, user=hjuser, password=hjpass, host=hjhost)"
   ]
  },
  {
   "cell_type": "code",
   "execution_count": 12,
   "metadata": {},
   "outputs": [
    {
     "name": "stderr",
     "output_type": "stream",
     "text": [
      "twinews news (version 1.0) initialised.\n"
     ]
    }
   ],
   "source": [
    "newsCollection.resetCollection(security=False)\n",
    "usersCollection.resetCollection(security=False)"
   ]
  },
  {
   "cell_type": "code",
   "execution_count": 13,
   "metadata": {},
   "outputs": [],
   "source": [
    "assert len(newsCollection) == 0\n",
    "assert len(usersCollection) == 0"
   ]
  },
  {
   "cell_type": "code",
   "execution_count": 14,
   "metadata": {},
   "outputs": [
    {
     "name": "stderr",
     "output_type": "stream",
     "text": [
      "--> tic: 4.35s | message: Init done\n"
     ]
    },
    {
     "data": {
      "text/plain": [
       "4.35"
      ]
     },
     "execution_count": 14,
     "metadata": {},
     "output_type": "execute_result"
    }
   ],
   "source": [
    "tt.tic(\"Init done\")"
   ]
  },
  {
   "cell_type": "code",
   "execution_count": null,
   "metadata": {},
   "outputs": [],
   "source": []
  },
  {
   "cell_type": "code",
   "execution_count": null,
   "metadata": {},
   "outputs": [],
   "source": []
  },
  {
   "cell_type": "markdown",
   "metadata": {},
   "source": [
    "# News"
   ]
  },
  {
   "cell_type": "code",
   "execution_count": 15,
   "metadata": {},
   "outputs": [],
   "source": [
    "def preprocessNews(row, logger=None, verbose=True):\n",
    "    try:\n",
    "        if isinstance(row, str):\n",
    "            text = row\n",
    "        else:\n",
    "            if dictContains(row, \"scrap\"):\n",
    "                row = row['scrap']\n",
    "            if dictContains(row, \"text\"):\n",
    "                text = row['text']\n",
    "            else:\n",
    "                raise Exception(\"No text found in \" + b(row))\n",
    "        text = newsPreclean(text)\n",
    "        isGood = isGoodArticle(text)\n",
    "        rawText = text\n",
    "        (text, tokens) = newsParser.parseNews(rawText, logger=logger, verbose=verbose)\n",
    "        return (rawText, text, tokens, isGood)\n",
    "    except Exception as e:\n",
    "        logException(e, logger, verbose=verbose)"
   ]
  },
  {
   "cell_type": "code",
   "execution_count": 16,
   "metadata": {},
   "outputs": [],
   "source": [
    "def newsGenFunct(containers, logger=None, verbose=True):\n",
    "    if not isinstance(containers, list):\n",
    "        containers = [containers]\n",
    "    for container in containers:\n",
    "        for row in NDJson(container, logger=logger, verbose=verbose):\n",
    "            \n",
    "            current = dictSelect(row, {'domain', 'lastUrlDomain', 'url', 'title', 'redirected', 'lastUrl'})\n",
    "            scrap = row['scrap']\n",
    "            current[\"title\"] = preprocess(current[\"title\"], doRemoveUrls=True, unescapeHtml=True,\n",
    "                                  removeHtml=True, doQuoteNormalization=True,\n",
    "                                  doReduceBlank=True, keepNewLines=False, logger=logger)\n",
    "            (rawText, text, sentences, isGood) = preprocessNews(scrap, logger=logger)\n",
    "            current[\"rawText\"] = rawText\n",
    "            current[\"text\"] = text\n",
    "            current[\"sentences\"] = sentences\n",
    "            # current[\"isGoodArticle\"] = isGood\n",
    "            if isGood and text is not None and rawText is not None and sentences is not None and len(sentences) > 0:\n",
    "                yield current\n",
    "            else:\n",
    "                yield None"
   ]
  },
  {
   "cell_type": "code",
   "execution_count": 17,
   "metadata": {},
   "outputs": [
    {
     "name": "stdout",
     "output_type": "stream",
     "text": [
      "[\n",
      "  [\n",
      "    /NoSave/Data/Twinews/twinews1/news/9news.com.bz2,\n",
      "    /NoSave/Data/Twinews/twinews1/news/10news.com.bz2,\n",
      "    ...,\n",
      "    /NoSave/Data/Twinews/twinews1/news/972mag.com.bz2,\n",
      "    /NoSave/Data/Twinews/twinews1/news/1843magazine.com.bz2\n",
      "  ],\n",
      "  [\n",
      "    /NoSave/Data/Twinews/twinews1/news/abajournal.com.bz2,\n",
      "    /NoSave/Data/Twinews/twinews1/news/abc.net.au.bz2,\n",
      "    ...,\n",
      "    /NoSave/Data/Twinews/twinews1/news/abc15.com.bz2,\n",
      "    /NoSave/Data/Twinews/twinews1/news/abcactionnews.com.bz2\n",
      "  ],\n",
      "  ...,\n",
      "  [\n",
      "    /NoSave/Data/Twinews/twinews1/news/yallpolitics.com.bz2,\n",
      "    /NoSave/Data/Twinews/twinews1/news/yanpritzker.com.bz2,\n",
      "    ...,\n",
      "    /NoSave/Data/Twinews/twinews1/news/yorkdispatch.com.bz2,\n",
      "    /NoSave/Data/Twinews/twinews1/news/yorkshireeveningpost.co.uk.bz2\n",
      "  ],\n",
      "  [\n",
      "    /NoSave/Data/Twinews/twinews1/news/zdnet.com.bz2,\n",
      "    /NoSave/Data/Twinews/twinews1/news/zerohedge.com.bz2\n",
      "  ]\n",
      "]\n"
     ]
    }
   ],
   "source": [
    "newsFilesChunks = chunks(newsFiles, int(len(shuffle(newsFiles)) / (cpuCount() * 8)))\n",
    "bp(newsFilesChunks)"
   ]
  },
  {
   "cell_type": "code",
   "execution_count": 18,
   "metadata": {
    "scrolled": true
   },
   "outputs": [
    {
     "name": "stderr",
     "output_type": "stream",
     "text": [
      "With parallelProcesses > 1, this iterator is not consistent, meaning 2 iterations over same containers will not give items in the same order\n",
      "198 containers to process.\n",
      "/opt/conda/lib/python3.6/site-packages/sklearn/utils/deprecation.py:144: FutureWarning: The sklearn.svm.classes module is  deprecated in version 0.22 and will be removed in version 0.24. The corresponding classes / functions should instead be imported from sklearn.svm. Anything that cannot be imported from sklearn.svm is now part of the private API.\n",
      "  warnings.warn(message, FutureWarning)\n",
      "/opt/conda/lib/python3.6/site-packages/sklearn/base.py:318: UserWarning: Trying to unpickle estimator LinearSVC from version 0.21.2 when using version 0.22.1. This might lead to breaking code or invalid results. Use at your own risk.\n",
      "  UserWarning)\n"
     ]
    },
    {
     "name": "stdout",
     "output_type": "stream",
     "text": [
      "Loading the GoogArticle model wich is a <class 'sklearn.svm._classes.LinearSVC'>\n"
     ]
    },
    {
     "name": "stderr",
     "output_type": "stream",
     "text": [
      "/opt/conda/lib/python3.6/site-packages/sklearn/utils/deprecation.py:144: FutureWarning: The sklearn.svm.classes module is  deprecated in version 0.22 and will be removed in version 0.24. The corresponding classes / functions should instead be imported from sklearn.svm. Anything that cannot be imported from sklearn.svm is now part of the private API.\n",
      "  warnings.warn(message, FutureWarning)\n",
      "/opt/conda/lib/python3.6/site-packages/sklearn/base.py:318: UserWarning: Trying to unpickle estimator LinearSVC from version 0.21.2 when using version 0.22.1. This might lead to breaking code or invalid results. Use at your own risk.\n",
      "  UserWarning)\n"
     ]
    },
    {
     "name": "stdout",
     "output_type": "stream",
     "text": [
      "Loading the GoogArticle model wich is a <class 'sklearn.svm._classes.LinearSVC'>\n"
     ]
    },
    {
     "name": "stderr",
     "output_type": "stream",
     "text": [
      "/opt/conda/lib/python3.6/site-packages/sklearn/utils/deprecation.py:144: FutureWarning: The sklearn.svm.classes module is  deprecated in version 0.22 and will be removed in version 0.24. The corresponding classes / functions should instead be imported from sklearn.svm. Anything that cannot be imported from sklearn.svm is now part of the private API.\n",
      "  warnings.warn(message, FutureWarning)\n",
      "/opt/conda/lib/python3.6/site-packages/sklearn/utils/deprecation.py:144: FutureWarning: The sklearn.svm.classes module is  deprecated in version 0.22 and will be removed in version 0.24. The corresponding classes / functions should instead be imported from sklearn.svm. Anything that cannot be imported from sklearn.svm is now part of the private API.\n",
      "  warnings.warn(message, FutureWarning)\n",
      "/opt/conda/lib/python3.6/site-packages/sklearn/utils/deprecation.py:144: FutureWarning: The sklearn.svm.classes module is  deprecated in version 0.22 and will be removed in version 0.24. The corresponding classes / functions should instead be imported from sklearn.svm. Anything that cannot be imported from sklearn.svm is now part of the private API.\n",
      "  warnings.warn(message, FutureWarning)\n",
      "/opt/conda/lib/python3.6/site-packages/sklearn/base.py:318: UserWarning: Trying to unpickle estimator LinearSVC from version 0.21.2 when using version 0.22.1. This might lead to breaking code or invalid results. Use at your own risk.\n",
      "  UserWarning)\n",
      "/opt/conda/lib/python3.6/site-packages/sklearn/base.py:318: UserWarning: Trying to unpickle estimator LinearSVC from version 0.21.2 when using version 0.22.1. This might lead to breaking code or invalid results. Use at your own risk.\n",
      "  UserWarning)\n"
     ]
    },
    {
     "name": "stdout",
     "output_type": "stream",
     "text": [
      "Loading the GoogArticle model wich is a <class 'sklearn.svm._classes.LinearSVC'>\n",
      "Loading the GoogArticle model wich is a <class 'sklearn.svm._classes.LinearSVC'>\n"
     ]
    },
    {
     "name": "stderr",
     "output_type": "stream",
     "text": [
      "/opt/conda/lib/python3.6/site-packages/sklearn/base.py:318: UserWarning: Trying to unpickle estimator LinearSVC from version 0.21.2 when using version 0.22.1. This might lead to breaking code or invalid results. Use at your own risk.\n",
      "  UserWarning)\n",
      "/opt/conda/lib/python3.6/site-packages/sklearn/utils/deprecation.py:144: FutureWarning: The sklearn.svm.classes module is  deprecated in version 0.22 and will be removed in version 0.24. The corresponding classes / functions should instead be imported from sklearn.svm. Anything that cannot be imported from sklearn.svm is now part of the private API.\n",
      "  warnings.warn(message, FutureWarning)\n"
     ]
    },
    {
     "name": "stdout",
     "output_type": "stream",
     "text": [
      "Loading the GoogArticle model wich is a <class 'sklearn.svm._classes.LinearSVC'>\n"
     ]
    },
    {
     "name": "stderr",
     "output_type": "stream",
     "text": [
      "/opt/conda/lib/python3.6/site-packages/sklearn/base.py:318: UserWarning: Trying to unpickle estimator LinearSVC from version 0.21.2 when using version 0.22.1. This might lead to breaking code or invalid results. Use at your own risk.\n",
      "  UserWarning)\n"
     ]
    },
    {
     "name": "stdout",
     "output_type": "stream",
     "text": [
      "Loading the GoogArticle model wich is a <class 'sklearn.svm._classes.LinearSVC'>\n"
     ]
    },
    {
     "name": "stderr",
     "output_type": "stream",
     "text": [
      "/opt/conda/lib/python3.6/site-packages/sklearn/utils/deprecation.py:144: FutureWarning: The sklearn.svm.classes module is  deprecated in version 0.22 and will be removed in version 0.24. The corresponding classes / functions should instead be imported from sklearn.svm. Anything that cannot be imported from sklearn.svm is now part of the private API.\n",
      "  warnings.warn(message, FutureWarning)\n",
      "/opt/conda/lib/python3.6/site-packages/sklearn/base.py:318: UserWarning: Trying to unpickle estimator LinearSVC from version 0.21.2 when using version 0.22.1. This might lead to breaking code or invalid results. Use at your own risk.\n",
      "  UserWarning)\n"
     ]
    },
    {
     "name": "stdout",
     "output_type": "stream",
     "text": [
      "Loading the GoogArticle model wich is a <class 'sklearn.svm._classes.LinearSVC'>\n"
     ]
    },
    {
     "name": "stderr",
     "output_type": "stream",
     "text": [
      "/opt/conda/lib/python3.6/site-packages/sklearn/utils/deprecation.py:144: FutureWarning: The sklearn.svm.classes module is  deprecated in version 0.22 and will be removed in version 0.24. The corresponding classes / functions should instead be imported from sklearn.svm. Anything that cannot be imported from sklearn.svm is now part of the private API.\n",
      "  warnings.warn(message, FutureWarning)\n",
      "/opt/conda/lib/python3.6/site-packages/sklearn/base.py:318: UserWarning: Trying to unpickle estimator LinearSVC from version 0.21.2 when using version 0.22.1. This might lead to breaking code or invalid results. Use at your own risk.\n",
      "  UserWarning)\n"
     ]
    },
    {
     "name": "stdout",
     "output_type": "stream",
     "text": [
      "Loading the GoogArticle model wich is a <class 'sklearn.svm._classes.LinearSVC'>\n"
     ]
    },
    {
     "name": "stderr",
     "output_type": "stream",
     "text": [
      "/opt/conda/lib/python3.6/site-packages/sklearn/utils/deprecation.py:144: FutureWarning: The sklearn.svm.classes module is  deprecated in version 0.22 and will be removed in version 0.24. The corresponding classes / functions should instead be imported from sklearn.svm. Anything that cannot be imported from sklearn.svm is now part of the private API.\n",
      "  warnings.warn(message, FutureWarning)\n",
      "/opt/conda/lib/python3.6/site-packages/sklearn/base.py:318: UserWarning: Trying to unpickle estimator LinearSVC from version 0.21.2 when using version 0.22.1. This might lead to breaking code or invalid results. Use at your own risk.\n",
      "  UserWarning)\n"
     ]
    },
    {
     "name": "stdout",
     "output_type": "stream",
     "text": [
      "Loading the GoogArticle model wich is a <class 'sklearn.svm._classes.LinearSVC'>\n"
     ]
    },
    {
     "name": "stderr",
     "output_type": "stream",
     "text": [
      "/opt/conda/lib/python3.6/site-packages/sklearn/utils/deprecation.py:144: FutureWarning: The sklearn.svm.classes module is  deprecated in version 0.22 and will be removed in version 0.24. The corresponding classes / functions should instead be imported from sklearn.svm. Anything that cannot be imported from sklearn.svm is now part of the private API.\n",
      "  warnings.warn(message, FutureWarning)\n",
      "/opt/conda/lib/python3.6/site-packages/sklearn/base.py:318: UserWarning: Trying to unpickle estimator LinearSVC from version 0.21.2 when using version 0.22.1. This might lead to breaking code or invalid results. Use at your own risk.\n",
      "  UserWarning)\n",
      "/opt/conda/lib/python3.6/site-packages/sklearn/utils/deprecation.py:144: FutureWarning: The sklearn.svm.classes module is  deprecated in version 0.22 and will be removed in version 0.24. The corresponding classes / functions should instead be imported from sklearn.svm. Anything that cannot be imported from sklearn.svm is now part of the private API.\n",
      "  warnings.warn(message, FutureWarning)\n"
     ]
    },
    {
     "name": "stdout",
     "output_type": "stream",
     "text": [
      "Loading the GoogArticle model wich is a <class 'sklearn.svm._classes.LinearSVC'>\n"
     ]
    },
    {
     "name": "stderr",
     "output_type": "stream",
     "text": [
      "/opt/conda/lib/python3.6/site-packages/sklearn/base.py:318: UserWarning: Trying to unpickle estimator LinearSVC from version 0.21.2 when using version 0.22.1. This might lead to breaking code or invalid results. Use at your own risk.\n",
      "  UserWarning)\n",
      "/opt/conda/lib/python3.6/site-packages/sklearn/utils/deprecation.py:144: FutureWarning: The sklearn.svm.classes module is  deprecated in version 0.22 and will be removed in version 0.24. The corresponding classes / functions should instead be imported from sklearn.svm. Anything that cannot be imported from sklearn.svm is now part of the private API.\n",
      "  warnings.warn(message, FutureWarning)\n"
     ]
    },
    {
     "name": "stdout",
     "output_type": "stream",
     "text": [
      "Loading the GoogArticle model wich is a <class 'sklearn.svm._classes.LinearSVC'>\n"
     ]
    },
    {
     "name": "stderr",
     "output_type": "stream",
     "text": [
      "/opt/conda/lib/python3.6/site-packages/sklearn/base.py:318: UserWarning: Trying to unpickle estimator LinearSVC from version 0.21.2 when using version 0.22.1. This might lead to breaking code or invalid results. Use at your own risk.\n",
      "  UserWarning)\n"
     ]
    },
    {
     "name": "stdout",
     "output_type": "stream",
     "text": [
      "Loading the GoogArticle model wich is a <class 'sklearn.svm._classes.LinearSVC'>\n"
     ]
    },
    {
     "name": "stderr",
     "output_type": "stream",
     "text": [
      "/opt/conda/lib/python3.6/site-packages/sklearn/utils/deprecation.py:144: FutureWarning: The sklearn.svm.classes module is  deprecated in version 0.22 and will be removed in version 0.24. The corresponding classes / functions should instead be imported from sklearn.svm. Anything that cannot be imported from sklearn.svm is now part of the private API.\n",
      "  warnings.warn(message, FutureWarning)\n",
      "/opt/conda/lib/python3.6/site-packages/sklearn/base.py:318: UserWarning: Trying to unpickle estimator LinearSVC from version 0.21.2 when using version 0.22.1. This might lead to breaking code or invalid results. Use at your own risk.\n",
      "  UserWarning)\n",
      "/opt/conda/lib/python3.6/site-packages/sklearn/utils/deprecation.py:144: FutureWarning: The sklearn.svm.classes module is  deprecated in version 0.22 and will be removed in version 0.24. The corresponding classes / functions should instead be imported from sklearn.svm. Anything that cannot be imported from sklearn.svm is now part of the private API.\n",
      "  warnings.warn(message, FutureWarning)\n",
      "/opt/conda/lib/python3.6/site-packages/sklearn/utils/deprecation.py:144: FutureWarning: The sklearn.svm.classes module is  deprecated in version 0.22 and will be removed in version 0.24. The corresponding classes / functions should instead be imported from sklearn.svm. Anything that cannot be imported from sklearn.svm is now part of the private API.\n",
      "  warnings.warn(message, FutureWarning)\n"
     ]
    },
    {
     "name": "stdout",
     "output_type": "stream",
     "text": [
      "Loading the GoogArticle model wich is a <class 'sklearn.svm._classes.LinearSVC'>\n"
     ]
    },
    {
     "name": "stderr",
     "output_type": "stream",
     "text": [
      "/opt/conda/lib/python3.6/site-packages/sklearn/base.py:318: UserWarning: Trying to unpickle estimator LinearSVC from version 0.21.2 when using version 0.22.1. This might lead to breaking code or invalid results. Use at your own risk.\n",
      "  UserWarning)\n",
      "/opt/conda/lib/python3.6/site-packages/sklearn/base.py:318: UserWarning: Trying to unpickle estimator LinearSVC from version 0.21.2 when using version 0.22.1. This might lead to breaking code or invalid results. Use at your own risk.\n",
      "  UserWarning)\n"
     ]
    },
    {
     "name": "stdout",
     "output_type": "stream",
     "text": [
      "Loading the GoogArticle model wich is a <class 'sklearn.svm._classes.LinearSVC'>\n",
      "Loading the GoogArticle model wich is a <class 'sklearn.svm._classes.LinearSVC'>\n"
     ]
    },
    {
     "name": "stderr",
     "output_type": "stream",
     "text": [
      "/opt/conda/lib/python3.6/site-packages/sklearn/utils/deprecation.py:144: FutureWarning: The sklearn.svm.classes module is  deprecated in version 0.22 and will be removed in version 0.24. The corresponding classes / functions should instead be imported from sklearn.svm. Anything that cannot be imported from sklearn.svm is now part of the private API.\n",
      "  warnings.warn(message, FutureWarning)\n",
      "/opt/conda/lib/python3.6/site-packages/sklearn/base.py:318: UserWarning: Trying to unpickle estimator LinearSVC from version 0.21.2 when using version 0.22.1. This might lead to breaking code or invalid results. Use at your own risk.\n",
      "  UserWarning)\n"
     ]
    },
    {
     "name": "stdout",
     "output_type": "stream",
     "text": [
      "Loading the GoogArticle model wich is a <class 'sklearn.svm._classes.LinearSVC'>\n"
     ]
    },
    {
     "name": "stderr",
     "output_type": "stream",
     "text": [
      "/opt/conda/lib/python3.6/site-packages/sklearn/utils/deprecation.py:144: FutureWarning: The sklearn.svm.classes module is  deprecated in version 0.22 and will be removed in version 0.24. The corresponding classes / functions should instead be imported from sklearn.svm. Anything that cannot be imported from sklearn.svm is now part of the private API.\n",
      "  warnings.warn(message, FutureWarning)\n",
      "/opt/conda/lib/python3.6/site-packages/sklearn/utils/deprecation.py:144: FutureWarning: The sklearn.svm.classes module is  deprecated in version 0.22 and will be removed in version 0.24. The corresponding classes / functions should instead be imported from sklearn.svm. Anything that cannot be imported from sklearn.svm is now part of the private API.\n",
      "  warnings.warn(message, FutureWarning)\n",
      "/opt/conda/lib/python3.6/site-packages/sklearn/base.py:318: UserWarning: Trying to unpickle estimator LinearSVC from version 0.21.2 when using version 0.22.1. This might lead to breaking code or invalid results. Use at your own risk.\n",
      "  UserWarning)\n"
     ]
    },
    {
     "name": "stdout",
     "output_type": "stream",
     "text": [
      "Loading the GoogArticle model wich is a <class 'sklearn.svm._classes.LinearSVC'>\n"
     ]
    },
    {
     "name": "stderr",
     "output_type": "stream",
     "text": [
      "/opt/conda/lib/python3.6/site-packages/sklearn/base.py:318: UserWarning: Trying to unpickle estimator LinearSVC from version 0.21.2 when using version 0.22.1. This might lead to breaking code or invalid results. Use at your own risk.\n",
      "  UserWarning)\n"
     ]
    },
    {
     "name": "stdout",
     "output_type": "stream",
     "text": [
      "Loading the GoogArticle model wich is a <class 'sklearn.svm._classes.LinearSVC'>\n"
     ]
    },
    {
     "name": "stderr",
     "output_type": "stream",
     "text": [
      "  0% [                    ]\n",
      "/opt/conda/lib/python3.6/site-packages/sklearn/utils/deprecation.py:144: FutureWarning: The sklearn.svm.classes module is  deprecated in version 0.22 and will be removed in version 0.24. The corresponding classes / functions should instead be imported from sklearn.svm. Anything that cannot be imported from sklearn.svm is now part of the private API.\n",
      "  warnings.warn(message, FutureWarning)\n"
     ]
    },
    {
     "name": "stdout",
     "output_type": "stream",
     "text": [
      "Loading the GoogArticle model wich is a <class 'sklearn.svm._classes.LinearSVC'>\n"
     ]
    },
    {
     "name": "stderr",
     "output_type": "stream",
     "text": [
      "/opt/conda/lib/python3.6/site-packages/sklearn/base.py:318: UserWarning: Trying to unpickle estimator LinearSVC from version 0.21.2 when using version 0.22.1. This might lead to breaking code or invalid results. Use at your own risk.\n",
      "  UserWarning)\n",
      "  1% [                    ]\n",
      "/opt/conda/lib/python3.6/site-packages/sklearn/utils/deprecation.py:144: FutureWarning: The sklearn.svm.classes module is  deprecated in version 0.22 and will be removed in version 0.24. The corresponding classes / functions should instead be imported from sklearn.svm. Anything that cannot be imported from sklearn.svm is now part of the private API.\n",
      "  warnings.warn(message, FutureWarning)\n",
      "/opt/conda/lib/python3.6/site-packages/sklearn/base.py:318: UserWarning: Trying to unpickle estimator LinearSVC from version 0.21.2 when using version 0.22.1. This might lead to breaking code or invalid results. Use at your own risk.\n",
      "  UserWarning)\n"
     ]
    },
    {
     "name": "stdout",
     "output_type": "stream",
     "text": [
      "Loading the GoogArticle model wich is a <class 'sklearn.svm._classes.LinearSVC'>\n"
     ]
    },
    {
     "name": "stderr",
     "output_type": "stream",
     "text": [
      "  1% [                    ]\n",
      "  2% [                    ]\n",
      "  2% [                    ]\n",
      "/opt/conda/lib/python3.6/site-packages/sklearn/utils/deprecation.py:144: FutureWarning: The sklearn.svm.classes module is  deprecated in version 0.22 and will be removed in version 0.24. The corresponding classes / functions should instead be imported from sklearn.svm. Anything that cannot be imported from sklearn.svm is now part of the private API.\n",
      "  warnings.warn(message, FutureWarning)\n",
      "/opt/conda/lib/python3.6/site-packages/sklearn/utils/deprecation.py:144: FutureWarning: The sklearn.svm.classes module is  deprecated in version 0.22 and will be removed in version 0.24. The corresponding classes / functions should instead be imported from sklearn.svm. Anything that cannot be imported from sklearn.svm is now part of the private API.\n",
      "  warnings.warn(message, FutureWarning)\n",
      "/opt/conda/lib/python3.6/site-packages/sklearn/base.py:318: UserWarning: Trying to unpickle estimator LinearSVC from version 0.21.2 when using version 0.22.1. This might lead to breaking code or invalid results. Use at your own risk.\n",
      "  UserWarning)\n"
     ]
    },
    {
     "name": "stdout",
     "output_type": "stream",
     "text": [
      "Loading the GoogArticle model wich is a <class 'sklearn.svm._classes.LinearSVC'>\n"
     ]
    },
    {
     "name": "stderr",
     "output_type": "stream",
     "text": [
      "/opt/conda/lib/python3.6/site-packages/sklearn/base.py:318: UserWarning: Trying to unpickle estimator LinearSVC from version 0.21.2 when using version 0.22.1. This might lead to breaking code or invalid results. Use at your own risk.\n",
      "  UserWarning)\n"
     ]
    },
    {
     "name": "stdout",
     "output_type": "stream",
     "text": [
      "Loading the GoogArticle model wich is a <class 'sklearn.svm._classes.LinearSVC'>\n"
     ]
    },
    {
     "name": "stderr",
     "output_type": "stream",
     "text": [
      "/opt/conda/lib/python3.6/site-packages/sklearn/utils/deprecation.py:144: FutureWarning: The sklearn.svm.classes module is  deprecated in version 0.22 and will be removed in version 0.24. The corresponding classes / functions should instead be imported from sklearn.svm. Anything that cannot be imported from sklearn.svm is now part of the private API.\n",
      "  warnings.warn(message, FutureWarning)\n",
      "/opt/conda/lib/python3.6/site-packages/sklearn/base.py:318: UserWarning: Trying to unpickle estimator LinearSVC from version 0.21.2 when using version 0.22.1. This might lead to breaking code or invalid results. Use at your own risk.\n",
      "  UserWarning)\n"
     ]
    },
    {
     "name": "stdout",
     "output_type": "stream",
     "text": [
      "Loading the GoogArticle model wich is a <class 'sklearn.svm._classes.LinearSVC'>\n"
     ]
    },
    {
     "name": "stderr",
     "output_type": "stream",
     "text": [
      "  3% [                    ]\n",
      "/opt/conda/lib/python3.6/site-packages/sklearn/utils/deprecation.py:144: FutureWarning: The sklearn.svm.classes module is  deprecated in version 0.22 and will be removed in version 0.24. The corresponding classes / functions should instead be imported from sklearn.svm. Anything that cannot be imported from sklearn.svm is now part of the private API.\n",
      "  warnings.warn(message, FutureWarning)\n"
     ]
    },
    {
     "name": "stdout",
     "output_type": "stream",
     "text": [
      "Loading the GoogArticle model wich is a <class 'sklearn.svm._classes.LinearSVC'>\n"
     ]
    },
    {
     "name": "stderr",
     "output_type": "stream",
     "text": [
      "/opt/conda/lib/python3.6/site-packages/sklearn/base.py:318: UserWarning: Trying to unpickle estimator LinearSVC from version 0.21.2 when using version 0.22.1. This might lead to breaking code or invalid results. Use at your own risk.\n",
      "  UserWarning)\n",
      "  3% [                    ]\n",
      "/opt/conda/lib/python3.6/site-packages/sklearn/utils/deprecation.py:144: FutureWarning: The sklearn.svm.classes module is  deprecated in version 0.22 and will be removed in version 0.24. The corresponding classes / functions should instead be imported from sklearn.svm. Anything that cannot be imported from sklearn.svm is now part of the private API.\n",
      "  warnings.warn(message, FutureWarning)\n"
     ]
    },
    {
     "name": "stdout",
     "output_type": "stream",
     "text": [
      "Loading the GoogArticle model wich is a <class 'sklearn.svm._classes.LinearSVC'>\n"
     ]
    },
    {
     "name": "stderr",
     "output_type": "stream",
     "text": [
      "/opt/conda/lib/python3.6/site-packages/sklearn/base.py:318: UserWarning: Trying to unpickle estimator LinearSVC from version 0.21.2 when using version 0.22.1. This might lead to breaking code or invalid results. Use at your own risk.\n",
      "  UserWarning)\n",
      "  4% [                    ]\n",
      "/opt/conda/lib/python3.6/site-packages/sklearn/utils/deprecation.py:144: FutureWarning: The sklearn.svm.classes module is  deprecated in version 0.22 and will be removed in version 0.24. The corresponding classes / functions should instead be imported from sklearn.svm. Anything that cannot be imported from sklearn.svm is now part of the private API.\n",
      "  warnings.warn(message, FutureWarning)\n",
      "/opt/conda/lib/python3.6/site-packages/sklearn/base.py:318: UserWarning: Trying to unpickle estimator LinearSVC from version 0.21.2 when using version 0.22.1. This might lead to breaking code or invalid results. Use at your own risk.\n",
      "  UserWarning)\n"
     ]
    },
    {
     "name": "stdout",
     "output_type": "stream",
     "text": [
      "Loading the GoogArticle model wich is a <class 'sklearn.svm._classes.LinearSVC'>\n"
     ]
    },
    {
     "name": "stderr",
     "output_type": "stream",
     "text": [
      "  4% [                    ]\n",
      "/opt/conda/lib/python3.6/site-packages/sklearn/utils/deprecation.py:144: FutureWarning: The sklearn.svm.classes module is  deprecated in version 0.22 and will be removed in version 0.24. The corresponding classes / functions should instead be imported from sklearn.svm. Anything that cannot be imported from sklearn.svm is now part of the private API.\n",
      "  warnings.warn(message, FutureWarning)\n"
     ]
    },
    {
     "name": "stdout",
     "output_type": "stream",
     "text": [
      "Loading the GoogArticle model wich is a <class 'sklearn.svm._classes.LinearSVC'>\n"
     ]
    },
    {
     "name": "stderr",
     "output_type": "stream",
     "text": [
      "/opt/conda/lib/python3.6/site-packages/sklearn/base.py:318: UserWarning: Trying to unpickle estimator LinearSVC from version 0.21.2 when using version 0.22.1. This might lead to breaking code or invalid results. Use at your own risk.\n",
      "  UserWarning)\n",
      "  5% [=                   ] (1m 37.383s left)\n",
      "/opt/conda/lib/python3.6/site-packages/sklearn/utils/deprecation.py:144: FutureWarning: The sklearn.svm.classes module is  deprecated in version 0.22 and will be removed in version 0.24. The corresponding classes / functions should instead be imported from sklearn.svm. Anything that cannot be imported from sklearn.svm is now part of the private API.\n",
      "  warnings.warn(message, FutureWarning)\n"
     ]
    },
    {
     "name": "stdout",
     "output_type": "stream",
     "text": [
      "Loading the GoogArticle model wich is a <class 'sklearn.svm._classes.LinearSVC'>\n"
     ]
    },
    {
     "name": "stderr",
     "output_type": "stream",
     "text": [
      "/opt/conda/lib/python3.6/site-packages/sklearn/base.py:318: UserWarning: Trying to unpickle estimator LinearSVC from version 0.21.2 when using version 0.22.1. This might lead to breaking code or invalid results. Use at your own risk.\n",
      "  UserWarning)\n",
      "  5% [=                   ] (1m 59.17s left)\n",
      "/opt/conda/lib/python3.6/site-packages/sklearn/utils/deprecation.py:144: FutureWarning: The sklearn.svm.classes module is  deprecated in version 0.22 and will be removed in version 0.24. The corresponding classes / functions should instead be imported from sklearn.svm. Anything that cannot be imported from sklearn.svm is now part of the private API.\n",
      "  warnings.warn(message, FutureWarning)\n",
      "/opt/conda/lib/python3.6/site-packages/sklearn/base.py:318: UserWarning: Trying to unpickle estimator LinearSVC from version 0.21.2 when using version 0.22.1. This might lead to breaking code or invalid results. Use at your own risk.\n",
      "  UserWarning)\n"
     ]
    },
    {
     "name": "stdout",
     "output_type": "stream",
     "text": [
      "Loading the GoogArticle model wich is a <class 'sklearn.svm._classes.LinearSVC'>\n"
     ]
    },
    {
     "name": "stderr",
     "output_type": "stream",
     "text": [
      "  6% [=                   ] (2m 7.254s left)\n",
      "/opt/conda/lib/python3.6/site-packages/sklearn/utils/deprecation.py:144: FutureWarning: The sklearn.svm.classes module is  deprecated in version 0.22 and will be removed in version 0.24. The corresponding classes / functions should instead be imported from sklearn.svm. Anything that cannot be imported from sklearn.svm is now part of the private API.\n",
      "  warnings.warn(message, FutureWarning)\n",
      "/opt/conda/lib/python3.6/site-packages/sklearn/base.py:318: UserWarning: Trying to unpickle estimator LinearSVC from version 0.21.2 when using version 0.22.1. This might lead to breaking code or invalid results. Use at your own risk.\n",
      "  UserWarning)\n"
     ]
    },
    {
     "name": "stdout",
     "output_type": "stream",
     "text": [
      "Loading the GoogArticle model wich is a <class 'sklearn.svm._classes.LinearSVC'>\n"
     ]
    },
    {
     "name": "stderr",
     "output_type": "stream",
     "text": [
      "  6% [=                   ] (1m 57.973s left)\n",
      "/opt/conda/lib/python3.6/site-packages/sklearn/utils/deprecation.py:144: FutureWarning: The sklearn.svm.classes module is  deprecated in version 0.22 and will be removed in version 0.24. The corresponding classes / functions should instead be imported from sklearn.svm. Anything that cannot be imported from sklearn.svm is now part of the private API.\n",
      "  warnings.warn(message, FutureWarning)\n",
      "/opt/conda/lib/python3.6/site-packages/sklearn/base.py:318: UserWarning: Trying to unpickle estimator LinearSVC from version 0.21.2 when using version 0.22.1. This might lead to breaking code or invalid results. Use at your own risk.\n",
      "  UserWarning)\n"
     ]
    },
    {
     "name": "stdout",
     "output_type": "stream",
     "text": [
      "Loading the GoogArticle model wich is a <class 'sklearn.svm._classes.LinearSVC'>\n"
     ]
    },
    {
     "name": "stderr",
     "output_type": "stream",
     "text": [
      "  7% [=                   ] (2m 22.599s left)\n",
      "/opt/conda/lib/python3.6/site-packages/sklearn/utils/deprecation.py:144: FutureWarning: The sklearn.svm.classes module is  deprecated in version 0.22 and will be removed in version 0.24. The corresponding classes / functions should instead be imported from sklearn.svm. Anything that cannot be imported from sklearn.svm is now part of the private API.\n",
      "  warnings.warn(message, FutureWarning)\n",
      "/opt/conda/lib/python3.6/site-packages/sklearn/base.py:318: UserWarning: Trying to unpickle estimator LinearSVC from version 0.21.2 when using version 0.22.1. This might lead to breaking code or invalid results. Use at your own risk.\n",
      "  UserWarning)\n"
     ]
    },
    {
     "name": "stdout",
     "output_type": "stream",
     "text": [
      "Loading the GoogArticle model wich is a <class 'sklearn.svm._classes.LinearSVC'>\n"
     ]
    },
    {
     "name": "stderr",
     "output_type": "stream",
     "text": [
      "  7% [=                   ] (2m 53.24s left)\n",
      "/opt/conda/lib/python3.6/site-packages/sklearn/utils/deprecation.py:144: FutureWarning: The sklearn.svm.classes module is  deprecated in version 0.22 and will be removed in version 0.24. The corresponding classes / functions should instead be imported from sklearn.svm. Anything that cannot be imported from sklearn.svm is now part of the private API.\n",
      "  warnings.warn(message, FutureWarning)\n"
     ]
    },
    {
     "name": "stdout",
     "output_type": "stream",
     "text": [
      "Loading the GoogArticle model wich is a <class 'sklearn.svm._classes.LinearSVC'>\n"
     ]
    },
    {
     "name": "stderr",
     "output_type": "stream",
     "text": [
      "/opt/conda/lib/python3.6/site-packages/sklearn/base.py:318: UserWarning: Trying to unpickle estimator LinearSVC from version 0.21.2 when using version 0.22.1. This might lead to breaking code or invalid results. Use at your own risk.\n",
      "  UserWarning)\n",
      "  8% [=                   ] (2m 42.889s left)\n",
      "/opt/conda/lib/python3.6/site-packages/sklearn/utils/deprecation.py:144: FutureWarning: The sklearn.svm.classes module is  deprecated in version 0.22 and will be removed in version 0.24. The corresponding classes / functions should instead be imported from sklearn.svm. Anything that cannot be imported from sklearn.svm is now part of the private API.\n",
      "  warnings.warn(message, FutureWarning)\n",
      "/opt/conda/lib/python3.6/site-packages/sklearn/base.py:318: UserWarning: Trying to unpickle estimator LinearSVC from version 0.21.2 when using version 0.22.1. This might lead to breaking code or invalid results. Use at your own risk.\n",
      "  UserWarning)\n"
     ]
    },
    {
     "name": "stdout",
     "output_type": "stream",
     "text": [
      "Loading the GoogArticle model wich is a <class 'sklearn.svm._classes.LinearSVC'>\n"
     ]
    },
    {
     "name": "stderr",
     "output_type": "stream",
     "text": [
      "  8% [=                   ] (2m 38.534s left)\n",
      "/opt/conda/lib/python3.6/site-packages/sklearn/utils/deprecation.py:144: FutureWarning: The sklearn.svm.classes module is  deprecated in version 0.22 and will be removed in version 0.24. The corresponding classes / functions should instead be imported from sklearn.svm. Anything that cannot be imported from sklearn.svm is now part of the private API.\n",
      "  warnings.warn(message, FutureWarning)\n",
      "/opt/conda/lib/python3.6/site-packages/sklearn/base.py:318: UserWarning: Trying to unpickle estimator LinearSVC from version 0.21.2 when using version 0.22.1. This might lead to breaking code or invalid results. Use at your own risk.\n",
      "  UserWarning)\n"
     ]
    },
    {
     "name": "stdout",
     "output_type": "stream",
     "text": [
      "Loading the GoogArticle model wich is a <class 'sklearn.svm._classes.LinearSVC'>\n"
     ]
    },
    {
     "name": "stderr",
     "output_type": "stream",
     "text": [
      "  9% [=                   ] (2m 39.599s left)\n",
      "/opt/conda/lib/python3.6/site-packages/sklearn/utils/deprecation.py:144: FutureWarning: The sklearn.svm.classes module is  deprecated in version 0.22 and will be removed in version 0.24. The corresponding classes / functions should instead be imported from sklearn.svm. Anything that cannot be imported from sklearn.svm is now part of the private API.\n",
      "  warnings.warn(message, FutureWarning)\n",
      "/opt/conda/lib/python3.6/site-packages/sklearn/base.py:318: UserWarning: Trying to unpickle estimator LinearSVC from version 0.21.2 when using version 0.22.1. This might lead to breaking code or invalid results. Use at your own risk.\n",
      "  UserWarning)\n"
     ]
    },
    {
     "name": "stdout",
     "output_type": "stream",
     "text": [
      "Loading the GoogArticle model wich is a <class 'sklearn.svm._classes.LinearSVC'>\n"
     ]
    },
    {
     "name": "stderr",
     "output_type": "stream",
     "text": [
      "  9% [=                   ] (2m 34.316s left)\n",
      "/opt/conda/lib/python3.6/site-packages/sklearn/utils/deprecation.py:144: FutureWarning: The sklearn.svm.classes module is  deprecated in version 0.22 and will be removed in version 0.24. The corresponding classes / functions should instead be imported from sklearn.svm. Anything that cannot be imported from sklearn.svm is now part of the private API.\n",
      "  warnings.warn(message, FutureWarning)\n"
     ]
    },
    {
     "name": "stdout",
     "output_type": "stream",
     "text": [
      "Loading the GoogArticle model wich is a <class 'sklearn.svm._classes.LinearSVC'>\n"
     ]
    },
    {
     "name": "stderr",
     "output_type": "stream",
     "text": [
      "/opt/conda/lib/python3.6/site-packages/sklearn/base.py:318: UserWarning: Trying to unpickle estimator LinearSVC from version 0.21.2 when using version 0.22.1. This might lead to breaking code or invalid results. Use at your own risk.\n",
      "  UserWarning)\n",
      " 10% [==                  ] (2m 26.316s left)\n",
      "/opt/conda/lib/python3.6/site-packages/sklearn/utils/deprecation.py:144: FutureWarning: The sklearn.svm.classes module is  deprecated in version 0.22 and will be removed in version 0.24. The corresponding classes / functions should instead be imported from sklearn.svm. Anything that cannot be imported from sklearn.svm is now part of the private API.\n",
      "  warnings.warn(message, FutureWarning)\n"
     ]
    },
    {
     "name": "stdout",
     "output_type": "stream",
     "text": [
      "Loading the GoogArticle model wich is a <class 'sklearn.svm._classes.LinearSVC'>\n"
     ]
    },
    {
     "name": "stderr",
     "output_type": "stream",
     "text": [
      "/opt/conda/lib/python3.6/site-packages/sklearn/base.py:318: UserWarning: Trying to unpickle estimator LinearSVC from version 0.21.2 when using version 0.22.1. This might lead to breaking code or invalid results. Use at your own risk.\n",
      "  UserWarning)\n",
      " 10% [==                  ] (2m 20.757s left)\n",
      "/opt/conda/lib/python3.6/site-packages/sklearn/utils/deprecation.py:144: FutureWarning: The sklearn.svm.classes module is  deprecated in version 0.22 and will be removed in version 0.24. The corresponding classes / functions should instead be imported from sklearn.svm. Anything that cannot be imported from sklearn.svm is now part of the private API.\n",
      "  warnings.warn(message, FutureWarning)\n",
      "/opt/conda/lib/python3.6/site-packages/sklearn/base.py:318: UserWarning: Trying to unpickle estimator LinearSVC from version 0.21.2 when using version 0.22.1. This might lead to breaking code or invalid results. Use at your own risk.\n",
      "  UserWarning)\n"
     ]
    },
    {
     "name": "stdout",
     "output_type": "stream",
     "text": [
      "Loading the GoogArticle model wich is a <class 'sklearn.svm._classes.LinearSVC'>\n"
     ]
    },
    {
     "name": "stderr",
     "output_type": "stream",
     "text": [
      " 11% [==                  ] (2m 22.56s left)\n",
      "/opt/conda/lib/python3.6/site-packages/sklearn/utils/deprecation.py:144: FutureWarning: The sklearn.svm.classes module is  deprecated in version 0.22 and will be removed in version 0.24. The corresponding classes / functions should instead be imported from sklearn.svm. Anything that cannot be imported from sklearn.svm is now part of the private API.\n",
      "  warnings.warn(message, FutureWarning)\n"
     ]
    },
    {
     "name": "stdout",
     "output_type": "stream",
     "text": [
      "Loading the GoogArticle model wich is a <class 'sklearn.svm._classes.LinearSVC'>\n"
     ]
    },
    {
     "name": "stderr",
     "output_type": "stream",
     "text": [
      "/opt/conda/lib/python3.6/site-packages/sklearn/base.py:318: UserWarning: Trying to unpickle estimator LinearSVC from version 0.21.2 when using version 0.22.1. This might lead to breaking code or invalid results. Use at your own risk.\n",
      "  UserWarning)\n",
      " 11% [==                  ] (2m 21.141s left)\n",
      "/opt/conda/lib/python3.6/site-packages/sklearn/utils/deprecation.py:144: FutureWarning: The sklearn.svm.classes module is  deprecated in version 0.22 and will be removed in version 0.24. The corresponding classes / functions should instead be imported from sklearn.svm. Anything that cannot be imported from sklearn.svm is now part of the private API.\n",
      "  warnings.warn(message, FutureWarning)\n",
      "/opt/conda/lib/python3.6/site-packages/sklearn/base.py:318: UserWarning: Trying to unpickle estimator LinearSVC from version 0.21.2 when using version 0.22.1. This might lead to breaking code or invalid results. Use at your own risk.\n",
      "  UserWarning)\n"
     ]
    },
    {
     "name": "stdout",
     "output_type": "stream",
     "text": [
      "Loading the GoogArticle model wich is a <class 'sklearn.svm._classes.LinearSVC'>\n"
     ]
    },
    {
     "name": "stderr",
     "output_type": "stream",
     "text": [
      " 12% [==                  ] (2m 16.807s left)\n",
      "/opt/conda/lib/python3.6/site-packages/sklearn/utils/deprecation.py:144: FutureWarning: The sklearn.svm.classes module is  deprecated in version 0.22 and will be removed in version 0.24. The corresponding classes / functions should instead be imported from sklearn.svm. Anything that cannot be imported from sklearn.svm is now part of the private API.\n",
      "  warnings.warn(message, FutureWarning)\n"
     ]
    },
    {
     "name": "stdout",
     "output_type": "stream",
     "text": [
      "Loading the GoogArticle model wich is a <class 'sklearn.svm._classes.LinearSVC'>\n"
     ]
    },
    {
     "name": "stderr",
     "output_type": "stream",
     "text": [
      "/opt/conda/lib/python3.6/site-packages/sklearn/base.py:318: UserWarning: Trying to unpickle estimator LinearSVC from version 0.21.2 when using version 0.22.1. This might lead to breaking code or invalid results. Use at your own risk.\n",
      "  UserWarning)\n",
      " 12% [==                  ] (2m 30.025s left)\n",
      "/opt/conda/lib/python3.6/site-packages/sklearn/utils/deprecation.py:144: FutureWarning: The sklearn.svm.classes module is  deprecated in version 0.22 and will be removed in version 0.24. The corresponding classes / functions should instead be imported from sklearn.svm. Anything that cannot be imported from sklearn.svm is now part of the private API.\n",
      "  warnings.warn(message, FutureWarning)\n",
      "/opt/conda/lib/python3.6/site-packages/sklearn/base.py:318: UserWarning: Trying to unpickle estimator LinearSVC from version 0.21.2 when using version 0.22.1. This might lead to breaking code or invalid results. Use at your own risk.\n",
      "  UserWarning)\n"
     ]
    },
    {
     "name": "stdout",
     "output_type": "stream",
     "text": [
      "Loading the GoogArticle model wich is a <class 'sklearn.svm._classes.LinearSVC'>\n"
     ]
    },
    {
     "name": "stderr",
     "output_type": "stream",
     "text": [
      " 13% [==                  ] (2m 24.083s left)\n",
      "/opt/conda/lib/python3.6/site-packages/sklearn/utils/deprecation.py:144: FutureWarning: The sklearn.svm.classes module is  deprecated in version 0.22 and will be removed in version 0.24. The corresponding classes / functions should instead be imported from sklearn.svm. Anything that cannot be imported from sklearn.svm is now part of the private API.\n",
      "  warnings.warn(message, FutureWarning)\n",
      "/opt/conda/lib/python3.6/site-packages/sklearn/base.py:318: UserWarning: Trying to unpickle estimator LinearSVC from version 0.21.2 when using version 0.22.1. This might lead to breaking code or invalid results. Use at your own risk.\n",
      "  UserWarning)\n"
     ]
    },
    {
     "name": "stdout",
     "output_type": "stream",
     "text": [
      "Loading the GoogArticle model wich is a <class 'sklearn.svm._classes.LinearSVC'>\n"
     ]
    },
    {
     "name": "stderr",
     "output_type": "stream",
     "text": [
      " 13% [==                  ] (5m 33.893s left)\n",
      "/opt/conda/lib/python3.6/site-packages/sklearn/utils/deprecation.py:144: FutureWarning: The sklearn.svm.classes module is  deprecated in version 0.22 and will be removed in version 0.24. The corresponding classes / functions should instead be imported from sklearn.svm. Anything that cannot be imported from sklearn.svm is now part of the private API.\n",
      "  warnings.warn(message, FutureWarning)\n",
      "/opt/conda/lib/python3.6/site-packages/sklearn/base.py:318: UserWarning: Trying to unpickle estimator LinearSVC from version 0.21.2 when using version 0.22.1. This might lead to breaking code or invalid results. Use at your own risk.\n",
      "  UserWarning)\n"
     ]
    },
    {
     "name": "stdout",
     "output_type": "stream",
     "text": [
      "Loading the GoogArticle model wich is a <class 'sklearn.svm._classes.LinearSVC'>\n"
     ]
    },
    {
     "name": "stderr",
     "output_type": "stream",
     "text": [
      " 14% [==                  ] (5m 22.271s left)\n",
      "/opt/conda/lib/python3.6/site-packages/sklearn/utils/deprecation.py:144: FutureWarning: The sklearn.svm.classes module is  deprecated in version 0.22 and will be removed in version 0.24. The corresponding classes / functions should instead be imported from sklearn.svm. Anything that cannot be imported from sklearn.svm is now part of the private API.\n",
      "  warnings.warn(message, FutureWarning)\n",
      "/opt/conda/lib/python3.6/site-packages/sklearn/base.py:318: UserWarning: Trying to unpickle estimator LinearSVC from version 0.21.2 when using version 0.22.1. This might lead to breaking code or invalid results. Use at your own risk.\n",
      "  UserWarning)\n"
     ]
    },
    {
     "name": "stdout",
     "output_type": "stream",
     "text": [
      "Loading the GoogArticle model wich is a <class 'sklearn.svm._classes.LinearSVC'>\n"
     ]
    },
    {
     "name": "stderr",
     "output_type": "stream",
     "text": [
      " 14% [==                  ] (5m 40.039s left)\n",
      "/opt/conda/lib/python3.6/site-packages/sklearn/utils/deprecation.py:144: FutureWarning: The sklearn.svm.classes module is  deprecated in version 0.22 and will be removed in version 0.24. The corresponding classes / functions should instead be imported from sklearn.svm. Anything that cannot be imported from sklearn.svm is now part of the private API.\n",
      "  warnings.warn(message, FutureWarning)\n",
      "/opt/conda/lib/python3.6/site-packages/sklearn/base.py:318: UserWarning: Trying to unpickle estimator LinearSVC from version 0.21.2 when using version 0.22.1. This might lead to breaking code or invalid results. Use at your own risk.\n",
      "  UserWarning)\n"
     ]
    },
    {
     "name": "stdout",
     "output_type": "stream",
     "text": [
      "Loading the GoogArticle model wich is a <class 'sklearn.svm._classes.LinearSVC'>\n"
     ]
    },
    {
     "name": "stderr",
     "output_type": "stream",
     "text": [
      " 15% [===                 ] (5m 58.007s left)\n",
      "/opt/conda/lib/python3.6/site-packages/sklearn/utils/deprecation.py:144: FutureWarning: The sklearn.svm.classes module is  deprecated in version 0.22 and will be removed in version 0.24. The corresponding classes / functions should instead be imported from sklearn.svm. Anything that cannot be imported from sklearn.svm is now part of the private API.\n",
      "  warnings.warn(message, FutureWarning)\n",
      "/opt/conda/lib/python3.6/site-packages/sklearn/base.py:318: UserWarning: Trying to unpickle estimator LinearSVC from version 0.21.2 when using version 0.22.1. This might lead to breaking code or invalid results. Use at your own risk.\n",
      "  UserWarning)\n"
     ]
    },
    {
     "name": "stdout",
     "output_type": "stream",
     "text": [
      "Loading the GoogArticle model wich is a <class 'sklearn.svm._classes.LinearSVC'>\n"
     ]
    },
    {
     "name": "stderr",
     "output_type": "stream",
     "text": [
      " 15% [===                 ] (5m 48.437s left)\n",
      "/opt/conda/lib/python3.6/site-packages/sklearn/utils/deprecation.py:144: FutureWarning: The sklearn.svm.classes module is  deprecated in version 0.22 and will be removed in version 0.24. The corresponding classes / functions should instead be imported from sklearn.svm. Anything that cannot be imported from sklearn.svm is now part of the private API.\n",
      "  warnings.warn(message, FutureWarning)\n"
     ]
    },
    {
     "name": "stdout",
     "output_type": "stream",
     "text": [
      "Loading the GoogArticle model wich is a <class 'sklearn.svm._classes.LinearSVC'>\n"
     ]
    },
    {
     "name": "stderr",
     "output_type": "stream",
     "text": [
      "/opt/conda/lib/python3.6/site-packages/sklearn/base.py:318: UserWarning: Trying to unpickle estimator LinearSVC from version 0.21.2 when using version 0.22.1. This might lead to breaking code or invalid results. Use at your own risk.\n",
      "  UserWarning)\n",
      " 16% [===                 ] (5m 42.997s left)\n",
      "/opt/conda/lib/python3.6/site-packages/sklearn/utils/deprecation.py:144: FutureWarning: The sklearn.svm.classes module is  deprecated in version 0.22 and will be removed in version 0.24. The corresponding classes / functions should instead be imported from sklearn.svm. Anything that cannot be imported from sklearn.svm is now part of the private API.\n",
      "  warnings.warn(message, FutureWarning)\n",
      "/opt/conda/lib/python3.6/site-packages/sklearn/base.py:318: UserWarning: Trying to unpickle estimator LinearSVC from version 0.21.2 when using version 0.22.1. This might lead to breaking code or invalid results. Use at your own risk.\n",
      "  UserWarning)\n"
     ]
    },
    {
     "name": "stdout",
     "output_type": "stream",
     "text": [
      "Loading the GoogArticle model wich is a <class 'sklearn.svm._classes.LinearSVC'>\n"
     ]
    },
    {
     "name": "stderr",
     "output_type": "stream",
     "text": [
      " 16% [===                 ] (5m 40.55s left)\n",
      "/opt/conda/lib/python3.6/site-packages/sklearn/utils/deprecation.py:144: FutureWarning: The sklearn.svm.classes module is  deprecated in version 0.22 and will be removed in version 0.24. The corresponding classes / functions should instead be imported from sklearn.svm. Anything that cannot be imported from sklearn.svm is now part of the private API.\n",
      "  warnings.warn(message, FutureWarning)\n",
      "/opt/conda/lib/python3.6/site-packages/sklearn/base.py:318: UserWarning: Trying to unpickle estimator LinearSVC from version 0.21.2 when using version 0.22.1. This might lead to breaking code or invalid results. Use at your own risk.\n",
      "  UserWarning)\n"
     ]
    },
    {
     "name": "stdout",
     "output_type": "stream",
     "text": [
      "Loading the GoogArticle model wich is a <class 'sklearn.svm._classes.LinearSVC'>\n"
     ]
    },
    {
     "name": "stderr",
     "output_type": "stream",
     "text": [
      " 17% [===                 ] (5m 44.496s left)\n",
      "/opt/conda/lib/python3.6/site-packages/sklearn/utils/deprecation.py:144: FutureWarning: The sklearn.svm.classes module is  deprecated in version 0.22 and will be removed in version 0.24. The corresponding classes / functions should instead be imported from sklearn.svm. Anything that cannot be imported from sklearn.svm is now part of the private API.\n",
      "  warnings.warn(message, FutureWarning)\n"
     ]
    },
    {
     "name": "stdout",
     "output_type": "stream",
     "text": [
      "Loading the GoogArticle model wich is a <class 'sklearn.svm._classes.LinearSVC'>\n"
     ]
    },
    {
     "name": "stderr",
     "output_type": "stream",
     "text": [
      "/opt/conda/lib/python3.6/site-packages/sklearn/base.py:318: UserWarning: Trying to unpickle estimator LinearSVC from version 0.21.2 when using version 0.22.1. This might lead to breaking code or invalid results. Use at your own risk.\n",
      "  UserWarning)\n",
      " 17% [===                 ] (5m 36.944s left)\n",
      "/opt/conda/lib/python3.6/site-packages/sklearn/utils/deprecation.py:144: FutureWarning: The sklearn.svm.classes module is  deprecated in version 0.22 and will be removed in version 0.24. The corresponding classes / functions should instead be imported from sklearn.svm. Anything that cannot be imported from sklearn.svm is now part of the private API.\n",
      "  warnings.warn(message, FutureWarning)\n"
     ]
    },
    {
     "name": "stdout",
     "output_type": "stream",
     "text": [
      "Loading the GoogArticle model wich is a <class 'sklearn.svm._classes.LinearSVC'>\n"
     ]
    },
    {
     "name": "stderr",
     "output_type": "stream",
     "text": [
      "/opt/conda/lib/python3.6/site-packages/sklearn/base.py:318: UserWarning: Trying to unpickle estimator LinearSVC from version 0.21.2 when using version 0.22.1. This might lead to breaking code or invalid results. Use at your own risk.\n",
      "  UserWarning)\n",
      " 18% [===                 ] (5m 25.935s left)\n",
      "/opt/conda/lib/python3.6/site-packages/sklearn/utils/deprecation.py:144: FutureWarning: The sklearn.svm.classes module is  deprecated in version 0.22 and will be removed in version 0.24. The corresponding classes / functions should instead be imported from sklearn.svm. Anything that cannot be imported from sklearn.svm is now part of the private API.\n",
      "  warnings.warn(message, FutureWarning)\n",
      "/opt/conda/lib/python3.6/site-packages/sklearn/base.py:318: UserWarning: Trying to unpickle estimator LinearSVC from version 0.21.2 when using version 0.22.1. This might lead to breaking code or invalid results. Use at your own risk.\n",
      "  UserWarning)\n"
     ]
    },
    {
     "name": "stdout",
     "output_type": "stream",
     "text": [
      "Loading the GoogArticle model wich is a <class 'sklearn.svm._classes.LinearSVC'>\n"
     ]
    },
    {
     "name": "stderr",
     "output_type": "stream",
     "text": [
      " 18% [===                 ] (5m 23s left)\n",
      "/opt/conda/lib/python3.6/site-packages/sklearn/utils/deprecation.py:144: FutureWarning: The sklearn.svm.classes module is  deprecated in version 0.22 and will be removed in version 0.24. The corresponding classes / functions should instead be imported from sklearn.svm. Anything that cannot be imported from sklearn.svm is now part of the private API.\n",
      "  warnings.warn(message, FutureWarning)\n",
      "/opt/conda/lib/python3.6/site-packages/sklearn/base.py:318: UserWarning: Trying to unpickle estimator LinearSVC from version 0.21.2 when using version 0.22.1. This might lead to breaking code or invalid results. Use at your own risk.\n",
      "  UserWarning)\n"
     ]
    },
    {
     "name": "stdout",
     "output_type": "stream",
     "text": [
      "Loading the GoogArticle model wich is a <class 'sklearn.svm._classes.LinearSVC'>\n"
     ]
    },
    {
     "name": "stderr",
     "output_type": "stream",
     "text": [
      " 19% [===                 ] (5m 20.084s left)\n",
      "/opt/conda/lib/python3.6/site-packages/sklearn/utils/deprecation.py:144: FutureWarning: The sklearn.svm.classes module is  deprecated in version 0.22 and will be removed in version 0.24. The corresponding classes / functions should instead be imported from sklearn.svm. Anything that cannot be imported from sklearn.svm is now part of the private API.\n",
      "  warnings.warn(message, FutureWarning)\n"
     ]
    },
    {
     "name": "stdout",
     "output_type": "stream",
     "text": [
      "Loading the GoogArticle model wich is a <class 'sklearn.svm._classes.LinearSVC'>\n"
     ]
    },
    {
     "name": "stderr",
     "output_type": "stream",
     "text": [
      "/opt/conda/lib/python3.6/site-packages/sklearn/base.py:318: UserWarning: Trying to unpickle estimator LinearSVC from version 0.21.2 when using version 0.22.1. This might lead to breaking code or invalid results. Use at your own risk.\n",
      "  UserWarning)\n",
      " 19% [===                 ] (5m 18.244s left)\n",
      "/opt/conda/lib/python3.6/site-packages/sklearn/utils/deprecation.py:144: FutureWarning: The sklearn.svm.classes module is  deprecated in version 0.22 and will be removed in version 0.24. The corresponding classes / functions should instead be imported from sklearn.svm. Anything that cannot be imported from sklearn.svm is now part of the private API.\n",
      "  warnings.warn(message, FutureWarning)\n"
     ]
    },
    {
     "name": "stdout",
     "output_type": "stream",
     "text": [
      "Loading the GoogArticle model wich is a <class 'sklearn.svm._classes.LinearSVC'>\n"
     ]
    },
    {
     "name": "stderr",
     "output_type": "stream",
     "text": [
      "/opt/conda/lib/python3.6/site-packages/sklearn/base.py:318: UserWarning: Trying to unpickle estimator LinearSVC from version 0.21.2 when using version 0.22.1. This might lead to breaking code or invalid results. Use at your own risk.\n",
      "  UserWarning)\n",
      " 20% [====                ] (5m 9.64s left)\n",
      "/opt/conda/lib/python3.6/site-packages/sklearn/utils/deprecation.py:144: FutureWarning: The sklearn.svm.classes module is  deprecated in version 0.22 and will be removed in version 0.24. The corresponding classes / functions should instead be imported from sklearn.svm. Anything that cannot be imported from sklearn.svm is now part of the private API.\n",
      "  warnings.warn(message, FutureWarning)\n",
      "/opt/conda/lib/python3.6/site-packages/sklearn/base.py:318: UserWarning: Trying to unpickle estimator LinearSVC from version 0.21.2 when using version 0.22.1. This might lead to breaking code or invalid results. Use at your own risk.\n",
      "  UserWarning)\n"
     ]
    },
    {
     "name": "stdout",
     "output_type": "stream",
     "text": [
      "Loading the GoogArticle model wich is a <class 'sklearn.svm._classes.LinearSVC'>\n"
     ]
    },
    {
     "name": "stderr",
     "output_type": "stream",
     "text": [
      " 20% [====                ] (5m 6.877s left)\n",
      "/opt/conda/lib/python3.6/site-packages/sklearn/utils/deprecation.py:144: FutureWarning: The sklearn.svm.classes module is  deprecated in version 0.22 and will be removed in version 0.24. The corresponding classes / functions should instead be imported from sklearn.svm. Anything that cannot be imported from sklearn.svm is now part of the private API.\n",
      "  warnings.warn(message, FutureWarning)\n",
      "/opt/conda/lib/python3.6/site-packages/sklearn/base.py:318: UserWarning: Trying to unpickle estimator LinearSVC from version 0.21.2 when using version 0.22.1. This might lead to breaking code or invalid results. Use at your own risk.\n",
      "  UserWarning)\n"
     ]
    },
    {
     "name": "stdout",
     "output_type": "stream",
     "text": [
      "Loading the GoogArticle model wich is a <class 'sklearn.svm._classes.LinearSVC'>\n"
     ]
    },
    {
     "name": "stderr",
     "output_type": "stream",
     "text": [
      " 21% [====                ] (5m 2.862s left)\n",
      " 21% [====                ] (4m 54.211s left)\n",
      "/opt/conda/lib/python3.6/site-packages/sklearn/utils/deprecation.py:144: FutureWarning: The sklearn.svm.classes module is  deprecated in version 0.22 and will be removed in version 0.24. The corresponding classes / functions should instead be imported from sklearn.svm. Anything that cannot be imported from sklearn.svm is now part of the private API.\n",
      "  warnings.warn(message, FutureWarning)\n",
      "/opt/conda/lib/python3.6/site-packages/sklearn/base.py:318: UserWarning: Trying to unpickle estimator LinearSVC from version 0.21.2 when using version 0.22.1. This might lead to breaking code or invalid results. Use at your own risk.\n",
      "  UserWarning)\n"
     ]
    },
    {
     "name": "stdout",
     "output_type": "stream",
     "text": [
      "Loading the GoogArticle model wich is a <class 'sklearn.svm._classes.LinearSVC'>\n"
     ]
    },
    {
     "name": "stderr",
     "output_type": "stream",
     "text": [
      "/opt/conda/lib/python3.6/site-packages/sklearn/utils/deprecation.py:144: FutureWarning: The sklearn.svm.classes module is  deprecated in version 0.22 and will be removed in version 0.24. The corresponding classes / functions should instead be imported from sklearn.svm. Anything that cannot be imported from sklearn.svm is now part of the private API.\n",
      "  warnings.warn(message, FutureWarning)\n",
      "/opt/conda/lib/python3.6/site-packages/sklearn/base.py:318: UserWarning: Trying to unpickle estimator LinearSVC from version 0.21.2 when using version 0.22.1. This might lead to breaking code or invalid results. Use at your own risk.\n",
      "  UserWarning)\n"
     ]
    },
    {
     "name": "stdout",
     "output_type": "stream",
     "text": [
      "Loading the GoogArticle model wich is a <class 'sklearn.svm._classes.LinearSVC'>\n"
     ]
    },
    {
     "name": "stderr",
     "output_type": "stream",
     "text": [
      " 22% [====                ] (4m 56.45s left)\n",
      "/opt/conda/lib/python3.6/site-packages/sklearn/utils/deprecation.py:144: FutureWarning: The sklearn.svm.classes module is  deprecated in version 0.22 and will be removed in version 0.24. The corresponding classes / functions should instead be imported from sklearn.svm. Anything that cannot be imported from sklearn.svm is now part of the private API.\n",
      "  warnings.warn(message, FutureWarning)\n",
      "/opt/conda/lib/python3.6/site-packages/sklearn/base.py:318: UserWarning: Trying to unpickle estimator LinearSVC from version 0.21.2 when using version 0.22.1. This might lead to breaking code or invalid results. Use at your own risk.\n",
      "  UserWarning)\n"
     ]
    },
    {
     "name": "stdout",
     "output_type": "stream",
     "text": [
      "Loading the GoogArticle model wich is a <class 'sklearn.svm._classes.LinearSVC'>\n"
     ]
    },
    {
     "name": "stderr",
     "output_type": "stream",
     "text": [
      " 22% [====                ] (5m 0.865s left)\n",
      "/opt/conda/lib/python3.6/site-packages/sklearn/utils/deprecation.py:144: FutureWarning: The sklearn.svm.classes module is  deprecated in version 0.22 and will be removed in version 0.24. The corresponding classes / functions should instead be imported from sklearn.svm. Anything that cannot be imported from sklearn.svm is now part of the private API.\n",
      "  warnings.warn(message, FutureWarning)\n"
     ]
    },
    {
     "name": "stdout",
     "output_type": "stream",
     "text": [
      "Loading the GoogArticle model wich is a <class 'sklearn.svm._classes.LinearSVC'>\n"
     ]
    },
    {
     "name": "stderr",
     "output_type": "stream",
     "text": [
      "/opt/conda/lib/python3.6/site-packages/sklearn/base.py:318: UserWarning: Trying to unpickle estimator LinearSVC from version 0.21.2 when using version 0.22.1. This might lead to breaking code or invalid results. Use at your own risk.\n",
      "  UserWarning)\n",
      " 23% [====                ] (5m 2.744s left)\n",
      "/opt/conda/lib/python3.6/site-packages/sklearn/utils/deprecation.py:144: FutureWarning: The sklearn.svm.classes module is  deprecated in version 0.22 and will be removed in version 0.24. The corresponding classes / functions should instead be imported from sklearn.svm. Anything that cannot be imported from sklearn.svm is now part of the private API.\n",
      "  warnings.warn(message, FutureWarning)\n",
      "/opt/conda/lib/python3.6/site-packages/sklearn/base.py:318: UserWarning: Trying to unpickle estimator LinearSVC from version 0.21.2 when using version 0.22.1. This might lead to breaking code or invalid results. Use at your own risk.\n",
      "  UserWarning)\n"
     ]
    },
    {
     "name": "stdout",
     "output_type": "stream",
     "text": [
      "Loading the GoogArticle model wich is a <class 'sklearn.svm._classes.LinearSVC'>\n"
     ]
    },
    {
     "name": "stderr",
     "output_type": "stream",
     "text": [
      " 23% [====                ] (4m 56.763s left)\n",
      "/opt/conda/lib/python3.6/site-packages/sklearn/utils/deprecation.py:144: FutureWarning: The sklearn.svm.classes module is  deprecated in version 0.22 and will be removed in version 0.24. The corresponding classes / functions should instead be imported from sklearn.svm. Anything that cannot be imported from sklearn.svm is now part of the private API.\n",
      "  warnings.warn(message, FutureWarning)\n"
     ]
    },
    {
     "name": "stdout",
     "output_type": "stream",
     "text": [
      "Loading the GoogArticle model wich is a <class 'sklearn.svm._classes.LinearSVC'>\n"
     ]
    },
    {
     "name": "stderr",
     "output_type": "stream",
     "text": [
      "/opt/conda/lib/python3.6/site-packages/sklearn/base.py:318: UserWarning: Trying to unpickle estimator LinearSVC from version 0.21.2 when using version 0.22.1. This might lead to breaking code or invalid results. Use at your own risk.\n",
      "  UserWarning)\n",
      " 24% [====                ] (5m 15.625s left)\n",
      "/opt/conda/lib/python3.6/site-packages/sklearn/utils/deprecation.py:144: FutureWarning: The sklearn.svm.classes module is  deprecated in version 0.22 and will be removed in version 0.24. The corresponding classes / functions should instead be imported from sklearn.svm. Anything that cannot be imported from sklearn.svm is now part of the private API.\n",
      "  warnings.warn(message, FutureWarning)\n",
      "/opt/conda/lib/python3.6/site-packages/sklearn/base.py:318: UserWarning: Trying to unpickle estimator LinearSVC from version 0.21.2 when using version 0.22.1. This might lead to breaking code or invalid results. Use at your own risk.\n",
      "  UserWarning)\n"
     ]
    },
    {
     "name": "stdout",
     "output_type": "stream",
     "text": [
      "Loading the GoogArticle model wich is a <class 'sklearn.svm._classes.LinearSVC'>\n"
     ]
    },
    {
     "name": "stderr",
     "output_type": "stream",
     "text": [
      " 24% [====                ] (5m 10.254s left)\n",
      "/opt/conda/lib/python3.6/site-packages/sklearn/utils/deprecation.py:144: FutureWarning: The sklearn.svm.classes module is  deprecated in version 0.22 and will be removed in version 0.24. The corresponding classes / functions should instead be imported from sklearn.svm. Anything that cannot be imported from sklearn.svm is now part of the private API.\n",
      "  warnings.warn(message, FutureWarning)\n",
      "/opt/conda/lib/python3.6/site-packages/sklearn/base.py:318: UserWarning: Trying to unpickle estimator LinearSVC from version 0.21.2 when using version 0.22.1. This might lead to breaking code or invalid results. Use at your own risk.\n",
      "  UserWarning)\n"
     ]
    },
    {
     "name": "stdout",
     "output_type": "stream",
     "text": [
      "Loading the GoogArticle model wich is a <class 'sklearn.svm._classes.LinearSVC'>\n"
     ]
    },
    {
     "name": "stderr",
     "output_type": "stream",
     "text": [
      " 25% [=====               ] (5m 12.96s left)\n",
      "/opt/conda/lib/python3.6/site-packages/sklearn/utils/deprecation.py:144: FutureWarning: The sklearn.svm.classes module is  deprecated in version 0.22 and will be removed in version 0.24. The corresponding classes / functions should instead be imported from sklearn.svm. Anything that cannot be imported from sklearn.svm is now part of the private API.\n",
      "  warnings.warn(message, FutureWarning)\n"
     ]
    },
    {
     "name": "stdout",
     "output_type": "stream",
     "text": [
      "Loading the GoogArticle model wich is a <class 'sklearn.svm._classes.LinearSVC'>\n"
     ]
    },
    {
     "name": "stderr",
     "output_type": "stream",
     "text": [
      "/opt/conda/lib/python3.6/site-packages/sklearn/base.py:318: UserWarning: Trying to unpickle estimator LinearSVC from version 0.21.2 when using version 0.22.1. This might lead to breaking code or invalid results. Use at your own risk.\n",
      "  UserWarning)\n",
      " 25% [=====               ] (5m 19.825s left)\n",
      "/opt/conda/lib/python3.6/site-packages/sklearn/utils/deprecation.py:144: FutureWarning: The sklearn.svm.classes module is  deprecated in version 0.22 and will be removed in version 0.24. The corresponding classes / functions should instead be imported from sklearn.svm. Anything that cannot be imported from sklearn.svm is now part of the private API.\n",
      "  warnings.warn(message, FutureWarning)\n",
      "/opt/conda/lib/python3.6/site-packages/sklearn/base.py:318: UserWarning: Trying to unpickle estimator LinearSVC from version 0.21.2 when using version 0.22.1. This might lead to breaking code or invalid results. Use at your own risk.\n",
      "  UserWarning)\n"
     ]
    },
    {
     "name": "stdout",
     "output_type": "stream",
     "text": [
      "Loading the GoogArticle model wich is a <class 'sklearn.svm._classes.LinearSVC'>\n"
     ]
    },
    {
     "name": "stderr",
     "output_type": "stream",
     "text": [
      " 26% [=====               ] (5m 14.629s left)\n",
      "/opt/conda/lib/python3.6/site-packages/sklearn/utils/deprecation.py:144: FutureWarning: The sklearn.svm.classes module is  deprecated in version 0.22 and will be removed in version 0.24. The corresponding classes / functions should instead be imported from sklearn.svm. Anything that cannot be imported from sklearn.svm is now part of the private API.\n",
      "  warnings.warn(message, FutureWarning)\n",
      "/opt/conda/lib/python3.6/site-packages/sklearn/base.py:318: UserWarning: Trying to unpickle estimator LinearSVC from version 0.21.2 when using version 0.22.1. This might lead to breaking code or invalid results. Use at your own risk.\n",
      "  UserWarning)\n"
     ]
    },
    {
     "name": "stdout",
     "output_type": "stream",
     "text": [
      "Loading the GoogArticle model wich is a <class 'sklearn.svm._classes.LinearSVC'>\n"
     ]
    },
    {
     "name": "stderr",
     "output_type": "stream",
     "text": [
      " 26% [=====               ] (5m 31.256s left)\n",
      "/opt/conda/lib/python3.6/site-packages/sklearn/utils/deprecation.py:144: FutureWarning: The sklearn.svm.classes module is  deprecated in version 0.22 and will be removed in version 0.24. The corresponding classes / functions should instead be imported from sklearn.svm. Anything that cannot be imported from sklearn.svm is now part of the private API.\n",
      "  warnings.warn(message, FutureWarning)\n",
      "/opt/conda/lib/python3.6/site-packages/sklearn/base.py:318: UserWarning: Trying to unpickle estimator LinearSVC from version 0.21.2 when using version 0.22.1. This might lead to breaking code or invalid results. Use at your own risk.\n",
      "  UserWarning)\n"
     ]
    },
    {
     "name": "stdout",
     "output_type": "stream",
     "text": [
      "Loading the GoogArticle model wich is a <class 'sklearn.svm._classes.LinearSVC'>\n"
     ]
    },
    {
     "name": "stderr",
     "output_type": "stream",
     "text": [
      " 27% [=====               ] (5m 24.32s left)\n",
      " 27% [=====               ] (5m 16.264s left)\n",
      "/opt/conda/lib/python3.6/site-packages/sklearn/utils/deprecation.py:144: FutureWarning: The sklearn.svm.classes module is  deprecated in version 0.22 and will be removed in version 0.24. The corresponding classes / functions should instead be imported from sklearn.svm. Anything that cannot be imported from sklearn.svm is now part of the private API.\n",
      "  warnings.warn(message, FutureWarning)\n"
     ]
    },
    {
     "name": "stdout",
     "output_type": "stream",
     "text": [
      "Loading the GoogArticle model wich is a <class 'sklearn.svm._classes.LinearSVC'>\n"
     ]
    },
    {
     "name": "stderr",
     "output_type": "stream",
     "text": [
      "/opt/conda/lib/python3.6/site-packages/sklearn/base.py:318: UserWarning: Trying to unpickle estimator LinearSVC from version 0.21.2 when using version 0.22.1. This might lead to breaking code or invalid results. Use at your own risk.\n",
      "  UserWarning)\n",
      "/opt/conda/lib/python3.6/site-packages/sklearn/utils/deprecation.py:144: FutureWarning: The sklearn.svm.classes module is  deprecated in version 0.22 and will be removed in version 0.24. The corresponding classes / functions should instead be imported from sklearn.svm. Anything that cannot be imported from sklearn.svm is now part of the private API.\n",
      "  warnings.warn(message, FutureWarning)\n",
      "/opt/conda/lib/python3.6/site-packages/sklearn/base.py:318: UserWarning: Trying to unpickle estimator LinearSVC from version 0.21.2 when using version 0.22.1. This might lead to breaking code or invalid results. Use at your own risk.\n",
      "  UserWarning)\n"
     ]
    },
    {
     "name": "stdout",
     "output_type": "stream",
     "text": [
      "Loading the GoogArticle model wich is a <class 'sklearn.svm._classes.LinearSVC'>\n"
     ]
    },
    {
     "name": "stderr",
     "output_type": "stream",
     "text": [
      " 28% [=====               ] (5m 12.298s left)\n",
      "/opt/conda/lib/python3.6/site-packages/sklearn/utils/deprecation.py:144: FutureWarning: The sklearn.svm.classes module is  deprecated in version 0.22 and will be removed in version 0.24. The corresponding classes / functions should instead be imported from sklearn.svm. Anything that cannot be imported from sklearn.svm is now part of the private API.\n",
      "  warnings.warn(message, FutureWarning)\n",
      "/opt/conda/lib/python3.6/site-packages/sklearn/base.py:318: UserWarning: Trying to unpickle estimator LinearSVC from version 0.21.2 when using version 0.22.1. This might lead to breaking code or invalid results. Use at your own risk.\n",
      "  UserWarning)\n"
     ]
    },
    {
     "name": "stdout",
     "output_type": "stream",
     "text": [
      "Loading the GoogArticle model wich is a <class 'sklearn.svm._classes.LinearSVC'>\n"
     ]
    },
    {
     "name": "stderr",
     "output_type": "stream",
     "text": [
      " 28% [=====               ] (5m 7.206s left)\n",
      " 29% [=====               ] (4m 59.962s left)\n",
      "/opt/conda/lib/python3.6/site-packages/sklearn/utils/deprecation.py:144: FutureWarning: The sklearn.svm.classes module is  deprecated in version 0.22 and will be removed in version 0.24. The corresponding classes / functions should instead be imported from sklearn.svm. Anything that cannot be imported from sklearn.svm is now part of the private API.\n",
      "  warnings.warn(message, FutureWarning)\n",
      "/opt/conda/lib/python3.6/site-packages/sklearn/base.py:318: UserWarning: Trying to unpickle estimator LinearSVC from version 0.21.2 when using version 0.22.1. This might lead to breaking code or invalid results. Use at your own risk.\n",
      "  UserWarning)\n"
     ]
    },
    {
     "name": "stdout",
     "output_type": "stream",
     "text": [
      "Loading the GoogArticle model wich is a <class 'sklearn.svm._classes.LinearSVC'>\n"
     ]
    },
    {
     "name": "stderr",
     "output_type": "stream",
     "text": [
      "/opt/conda/lib/python3.6/site-packages/sklearn/utils/deprecation.py:144: FutureWarning: The sklearn.svm.classes module is  deprecated in version 0.22 and will be removed in version 0.24. The corresponding classes / functions should instead be imported from sklearn.svm. Anything that cannot be imported from sklearn.svm is now part of the private API.\n",
      "  warnings.warn(message, FutureWarning)\n",
      "/opt/conda/lib/python3.6/site-packages/sklearn/base.py:318: UserWarning: Trying to unpickle estimator LinearSVC from version 0.21.2 when using version 0.22.1. This might lead to breaking code or invalid results. Use at your own risk.\n",
      "  UserWarning)\n"
     ]
    },
    {
     "name": "stdout",
     "output_type": "stream",
     "text": [
      "Loading the GoogArticle model wich is a <class 'sklearn.svm._classes.LinearSVC'>\n"
     ]
    },
    {
     "name": "stderr",
     "output_type": "stream",
     "text": [
      " 29% [=====               ] (4m 59.486s left)\n",
      "/opt/conda/lib/python3.6/site-packages/sklearn/utils/deprecation.py:144: FutureWarning: The sklearn.svm.classes module is  deprecated in version 0.22 and will be removed in version 0.24. The corresponding classes / functions should instead be imported from sklearn.svm. Anything that cannot be imported from sklearn.svm is now part of the private API.\n",
      "  warnings.warn(message, FutureWarning)\n",
      "/opt/conda/lib/python3.6/site-packages/sklearn/base.py:318: UserWarning: Trying to unpickle estimator LinearSVC from version 0.21.2 when using version 0.22.1. This might lead to breaking code or invalid results. Use at your own risk.\n",
      "  UserWarning)\n"
     ]
    },
    {
     "name": "stdout",
     "output_type": "stream",
     "text": [
      "Loading the GoogArticle model wich is a <class 'sklearn.svm._classes.LinearSVC'>\n"
     ]
    },
    {
     "name": "stderr",
     "output_type": "stream",
     "text": [
      " 30% [======              ] (4m 52.973s left)\n",
      "/opt/conda/lib/python3.6/site-packages/sklearn/utils/deprecation.py:144: FutureWarning: The sklearn.svm.classes module is  deprecated in version 0.22 and will be removed in version 0.24. The corresponding classes / functions should instead be imported from sklearn.svm. Anything that cannot be imported from sklearn.svm is now part of the private API.\n",
      "  warnings.warn(message, FutureWarning)\n",
      "/opt/conda/lib/python3.6/site-packages/sklearn/base.py:318: UserWarning: Trying to unpickle estimator LinearSVC from version 0.21.2 when using version 0.22.1. This might lead to breaking code or invalid results. Use at your own risk.\n",
      "  UserWarning)\n"
     ]
    },
    {
     "name": "stdout",
     "output_type": "stream",
     "text": [
      "Loading the GoogArticle model wich is a <class 'sklearn.svm._classes.LinearSVC'>\n"
     ]
    },
    {
     "name": "stderr",
     "output_type": "stream",
     "text": [
      " 30% [======              ] (4m 51.36s left)\n",
      "/opt/conda/lib/python3.6/site-packages/sklearn/utils/deprecation.py:144: FutureWarning: The sklearn.svm.classes module is  deprecated in version 0.22 and will be removed in version 0.24. The corresponding classes / functions should instead be imported from sklearn.svm. Anything that cannot be imported from sklearn.svm is now part of the private API.\n",
      "  warnings.warn(message, FutureWarning)\n",
      "/opt/conda/lib/python3.6/site-packages/sklearn/base.py:318: UserWarning: Trying to unpickle estimator LinearSVC from version 0.21.2 when using version 0.22.1. This might lead to breaking code or invalid results. Use at your own risk.\n",
      "  UserWarning)\n"
     ]
    },
    {
     "name": "stdout",
     "output_type": "stream",
     "text": [
      "Loading the GoogArticle model wich is a <class 'sklearn.svm._classes.LinearSVC'>\n"
     ]
    },
    {
     "name": "stderr",
     "output_type": "stream",
     "text": [
      " 31% [======              ] (4m 46.565s left)\n",
      "/opt/conda/lib/python3.6/site-packages/sklearn/utils/deprecation.py:144: FutureWarning: The sklearn.svm.classes module is  deprecated in version 0.22 and will be removed in version 0.24. The corresponding classes / functions should instead be imported from sklearn.svm. Anything that cannot be imported from sklearn.svm is now part of the private API.\n",
      "  warnings.warn(message, FutureWarning)\n",
      "/opt/conda/lib/python3.6/site-packages/sklearn/base.py:318: UserWarning: Trying to unpickle estimator LinearSVC from version 0.21.2 when using version 0.22.1. This might lead to breaking code or invalid results. Use at your own risk.\n",
      "  UserWarning)\n"
     ]
    },
    {
     "name": "stdout",
     "output_type": "stream",
     "text": [
      "Loading the GoogArticle model wich is a <class 'sklearn.svm._classes.LinearSVC'>\n"
     ]
    },
    {
     "name": "stderr",
     "output_type": "stream",
     "text": [
      " 31% [======              ] (4m 44.507s left)\n",
      "/opt/conda/lib/python3.6/site-packages/sklearn/utils/deprecation.py:144: FutureWarning: The sklearn.svm.classes module is  deprecated in version 0.22 and will be removed in version 0.24. The corresponding classes / functions should instead be imported from sklearn.svm. Anything that cannot be imported from sklearn.svm is now part of the private API.\n",
      "  warnings.warn(message, FutureWarning)\n",
      "/opt/conda/lib/python3.6/site-packages/sklearn/base.py:318: UserWarning: Trying to unpickle estimator LinearSVC from version 0.21.2 when using version 0.22.1. This might lead to breaking code or invalid results. Use at your own risk.\n",
      "  UserWarning)\n"
     ]
    },
    {
     "name": "stdout",
     "output_type": "stream",
     "text": [
      "Loading the GoogArticle model wich is a <class 'sklearn.svm._classes.LinearSVC'>\n"
     ]
    },
    {
     "name": "stderr",
     "output_type": "stream",
     "text": [
      " 32% [======              ] (4m 38.971s left)\n",
      "/opt/conda/lib/python3.6/site-packages/sklearn/utils/deprecation.py:144: FutureWarning: The sklearn.svm.classes module is  deprecated in version 0.22 and will be removed in version 0.24. The corresponding classes / functions should instead be imported from sklearn.svm. Anything that cannot be imported from sklearn.svm is now part of the private API.\n",
      "  warnings.warn(message, FutureWarning)\n"
     ]
    },
    {
     "name": "stdout",
     "output_type": "stream",
     "text": [
      "Loading the GoogArticle model wich is a <class 'sklearn.svm._classes.LinearSVC'>\n"
     ]
    },
    {
     "name": "stderr",
     "output_type": "stream",
     "text": [
      "/opt/conda/lib/python3.6/site-packages/sklearn/base.py:318: UserWarning: Trying to unpickle estimator LinearSVC from version 0.21.2 when using version 0.22.1. This might lead to breaking code or invalid results. Use at your own risk.\n",
      "  UserWarning)\n",
      " 32% [======              ] (4m 35.944s left)\n",
      "/opt/conda/lib/python3.6/site-packages/sklearn/utils/deprecation.py:144: FutureWarning: The sklearn.svm.classes module is  deprecated in version 0.22 and will be removed in version 0.24. The corresponding classes / functions should instead be imported from sklearn.svm. Anything that cannot be imported from sklearn.svm is now part of the private API.\n",
      "  warnings.warn(message, FutureWarning)\n",
      "/opt/conda/lib/python3.6/site-packages/sklearn/base.py:318: UserWarning: Trying to unpickle estimator LinearSVC from version 0.21.2 when using version 0.22.1. This might lead to breaking code or invalid results. Use at your own risk.\n",
      "  UserWarning)\n"
     ]
    },
    {
     "name": "stdout",
     "output_type": "stream",
     "text": [
      "Loading the GoogArticle model wich is a <class 'sklearn.svm._classes.LinearSVC'>\n"
     ]
    },
    {
     "name": "stderr",
     "output_type": "stream",
     "text": [
      " 33% [======              ] (4m 33.62s left)\n",
      "/opt/conda/lib/python3.6/site-packages/sklearn/utils/deprecation.py:144: FutureWarning: The sklearn.svm.classes module is  deprecated in version 0.22 and will be removed in version 0.24. The corresponding classes / functions should instead be imported from sklearn.svm. Anything that cannot be imported from sklearn.svm is now part of the private API.\n",
      "  warnings.warn(message, FutureWarning)\n",
      "/opt/conda/lib/python3.6/site-packages/sklearn/base.py:318: UserWarning: Trying to unpickle estimator LinearSVC from version 0.21.2 when using version 0.22.1. This might lead to breaking code or invalid results. Use at your own risk.\n",
      "  UserWarning)\n"
     ]
    },
    {
     "name": "stdout",
     "output_type": "stream",
     "text": [
      "Loading the GoogArticle model wich is a <class 'sklearn.svm._classes.LinearSVC'>\n"
     ]
    },
    {
     "name": "stderr",
     "output_type": "stream",
     "text": [
      " 33% [======              ] (4m 33.34s left)\n",
      "/opt/conda/lib/python3.6/site-packages/sklearn/utils/deprecation.py:144: FutureWarning: The sklearn.svm.classes module is  deprecated in version 0.22 and will be removed in version 0.24. The corresponding classes / functions should instead be imported from sklearn.svm. Anything that cannot be imported from sklearn.svm is now part of the private API.\n",
      "  warnings.warn(message, FutureWarning)\n",
      "/opt/conda/lib/python3.6/site-packages/sklearn/base.py:318: UserWarning: Trying to unpickle estimator LinearSVC from version 0.21.2 when using version 0.22.1. This might lead to breaking code or invalid results. Use at your own risk.\n",
      "  UserWarning)\n"
     ]
    },
    {
     "name": "stdout",
     "output_type": "stream",
     "text": [
      "Loading the GoogArticle model wich is a <class 'sklearn.svm._classes.LinearSVC'>\n"
     ]
    },
    {
     "name": "stderr",
     "output_type": "stream",
     "text": [
      " 34% [======              ] (4m 29.291s left)\n",
      "/opt/conda/lib/python3.6/site-packages/sklearn/utils/deprecation.py:144: FutureWarning: The sklearn.svm.classes module is  deprecated in version 0.22 and will be removed in version 0.24. The corresponding classes / functions should instead be imported from sklearn.svm. Anything that cannot be imported from sklearn.svm is now part of the private API.\n",
      "  warnings.warn(message, FutureWarning)\n",
      "/opt/conda/lib/python3.6/site-packages/sklearn/base.py:318: UserWarning: Trying to unpickle estimator LinearSVC from version 0.21.2 when using version 0.22.1. This might lead to breaking code or invalid results. Use at your own risk.\n",
      "  UserWarning)\n"
     ]
    },
    {
     "name": "stdout",
     "output_type": "stream",
     "text": [
      "Loading the GoogArticle model wich is a <class 'sklearn.svm._classes.LinearSVC'>\n"
     ]
    },
    {
     "name": "stderr",
     "output_type": "stream",
     "text": [
      " 34% [======              ] (4m 24.206s left)\n",
      "/opt/conda/lib/python3.6/site-packages/sklearn/utils/deprecation.py:144: FutureWarning: The sklearn.svm.classes module is  deprecated in version 0.22 and will be removed in version 0.24. The corresponding classes / functions should instead be imported from sklearn.svm. Anything that cannot be imported from sklearn.svm is now part of the private API.\n",
      "  warnings.warn(message, FutureWarning)\n",
      "/opt/conda/lib/python3.6/site-packages/sklearn/base.py:318: UserWarning: Trying to unpickle estimator LinearSVC from version 0.21.2 when using version 0.22.1. This might lead to breaking code or invalid results. Use at your own risk.\n",
      "  UserWarning)\n"
     ]
    },
    {
     "name": "stdout",
     "output_type": "stream",
     "text": [
      "Loading the GoogArticle model wich is a <class 'sklearn.svm._classes.LinearSVC'>\n"
     ]
    },
    {
     "name": "stderr",
     "output_type": "stream",
     "text": [
      " 35% [=======             ] (4m 21.979s left)\n",
      "/opt/conda/lib/python3.6/site-packages/sklearn/utils/deprecation.py:144: FutureWarning: The sklearn.svm.classes module is  deprecated in version 0.22 and will be removed in version 0.24. The corresponding classes / functions should instead be imported from sklearn.svm. Anything that cannot be imported from sklearn.svm is now part of the private API.\n",
      "  warnings.warn(message, FutureWarning)\n",
      "/opt/conda/lib/python3.6/site-packages/sklearn/base.py:318: UserWarning: Trying to unpickle estimator LinearSVC from version 0.21.2 when using version 0.22.1. This might lead to breaking code or invalid results. Use at your own risk.\n",
      "  UserWarning)\n"
     ]
    },
    {
     "name": "stdout",
     "output_type": "stream",
     "text": [
      "Loading the GoogArticle model wich is a <class 'sklearn.svm._classes.LinearSVC'>\n"
     ]
    },
    {
     "name": "stderr",
     "output_type": "stream",
     "text": [
      " 35% [=======             ] (4m 17.148s left)\n",
      "/opt/conda/lib/python3.6/site-packages/sklearn/utils/deprecation.py:144: FutureWarning: The sklearn.svm.classes module is  deprecated in version 0.22 and will be removed in version 0.24. The corresponding classes / functions should instead be imported from sklearn.svm. Anything that cannot be imported from sklearn.svm is now part of the private API.\n",
      "  warnings.warn(message, FutureWarning)\n",
      "/opt/conda/lib/python3.6/site-packages/sklearn/base.py:318: UserWarning: Trying to unpickle estimator LinearSVC from version 0.21.2 when using version 0.22.1. This might lead to breaking code or invalid results. Use at your own risk.\n",
      "  UserWarning)\n"
     ]
    },
    {
     "name": "stdout",
     "output_type": "stream",
     "text": [
      "Loading the GoogArticle model wich is a <class 'sklearn.svm._classes.LinearSVC'>\n"
     ]
    },
    {
     "name": "stderr",
     "output_type": "stream",
     "text": [
      " 36% [=======             ] (4m 19s left)\n",
      "/opt/conda/lib/python3.6/site-packages/sklearn/utils/deprecation.py:144: FutureWarning: The sklearn.svm.classes module is  deprecated in version 0.22 and will be removed in version 0.24. The corresponding classes / functions should instead be imported from sklearn.svm. Anything that cannot be imported from sklearn.svm is now part of the private API.\n",
      "  warnings.warn(message, FutureWarning)\n",
      "/opt/conda/lib/python3.6/site-packages/sklearn/base.py:318: UserWarning: Trying to unpickle estimator LinearSVC from version 0.21.2 when using version 0.22.1. This might lead to breaking code or invalid results. Use at your own risk.\n",
      "  UserWarning)\n"
     ]
    },
    {
     "name": "stdout",
     "output_type": "stream",
     "text": [
      "Loading the GoogArticle model wich is a <class 'sklearn.svm._classes.LinearSVC'>\n"
     ]
    },
    {
     "name": "stderr",
     "output_type": "stream",
     "text": [
      " 36% [=======             ] (4m 14.366s left)\n",
      "/opt/conda/lib/python3.6/site-packages/sklearn/utils/deprecation.py:144: FutureWarning: The sklearn.svm.classes module is  deprecated in version 0.22 and will be removed in version 0.24. The corresponding classes / functions should instead be imported from sklearn.svm. Anything that cannot be imported from sklearn.svm is now part of the private API.\n",
      "  warnings.warn(message, FutureWarning)\n",
      "/opt/conda/lib/python3.6/site-packages/sklearn/base.py:318: UserWarning: Trying to unpickle estimator LinearSVC from version 0.21.2 when using version 0.22.1. This might lead to breaking code or invalid results. Use at your own risk.\n",
      "  UserWarning)\n"
     ]
    },
    {
     "name": "stdout",
     "output_type": "stream",
     "text": [
      "Loading the GoogArticle model wich is a <class 'sklearn.svm._classes.LinearSVC'>\n"
     ]
    },
    {
     "name": "stderr",
     "output_type": "stream",
     "text": [
      " 37% [=======             ] (4m 11.552s left)\n",
      " 37% [=======             ] (4m 6.246s left)\n",
      "/opt/conda/lib/python3.6/site-packages/sklearn/utils/deprecation.py:144: FutureWarning: The sklearn.svm.classes module is  deprecated in version 0.22 and will be removed in version 0.24. The corresponding classes / functions should instead be imported from sklearn.svm. Anything that cannot be imported from sklearn.svm is now part of the private API.\n",
      "  warnings.warn(message, FutureWarning)\n",
      "/opt/conda/lib/python3.6/site-packages/sklearn/base.py:318: UserWarning: Trying to unpickle estimator LinearSVC from version 0.21.2 when using version 0.22.1. This might lead to breaking code or invalid results. Use at your own risk.\n",
      "  UserWarning)\n"
     ]
    },
    {
     "name": "stdout",
     "output_type": "stream",
     "text": [
      "Loading the GoogArticle model wich is a <class 'sklearn.svm._classes.LinearSVC'>\n"
     ]
    },
    {
     "name": "stderr",
     "output_type": "stream",
     "text": [
      "/opt/conda/lib/python3.6/site-packages/sklearn/utils/deprecation.py:144: FutureWarning: The sklearn.svm.classes module is  deprecated in version 0.22 and will be removed in version 0.24. The corresponding classes / functions should instead be imported from sklearn.svm. Anything that cannot be imported from sklearn.svm is now part of the private API.\n",
      "  warnings.warn(message, FutureWarning)\n",
      "/opt/conda/lib/python3.6/site-packages/sklearn/base.py:318: UserWarning: Trying to unpickle estimator LinearSVC from version 0.21.2 when using version 0.22.1. This might lead to breaking code or invalid results. Use at your own risk.\n",
      "  UserWarning)\n"
     ]
    },
    {
     "name": "stdout",
     "output_type": "stream",
     "text": [
      "Loading the GoogArticle model wich is a <class 'sklearn.svm._classes.LinearSVC'>\n"
     ]
    },
    {
     "name": "stderr",
     "output_type": "stream",
     "text": [
      " 38% [=======             ] (4m 6.006s left)\n",
      "/opt/conda/lib/python3.6/site-packages/sklearn/utils/deprecation.py:144: FutureWarning: The sklearn.svm.classes module is  deprecated in version 0.22 and will be removed in version 0.24. The corresponding classes / functions should instead be imported from sklearn.svm. Anything that cannot be imported from sklearn.svm is now part of the private API.\n",
      "  warnings.warn(message, FutureWarning)\n",
      "/opt/conda/lib/python3.6/site-packages/sklearn/base.py:318: UserWarning: Trying to unpickle estimator LinearSVC from version 0.21.2 when using version 0.22.1. This might lead to breaking code or invalid results. Use at your own risk.\n",
      "  UserWarning)\n"
     ]
    },
    {
     "name": "stdout",
     "output_type": "stream",
     "text": [
      "Loading the GoogArticle model wich is a <class 'sklearn.svm._classes.LinearSVC'>\n"
     ]
    },
    {
     "name": "stderr",
     "output_type": "stream",
     "text": [
      " 38% [=======             ] (4m 1.088s left)\n",
      "/opt/conda/lib/python3.6/site-packages/sklearn/utils/deprecation.py:144: FutureWarning: The sklearn.svm.classes module is  deprecated in version 0.22 and will be removed in version 0.24. The corresponding classes / functions should instead be imported from sklearn.svm. Anything that cannot be imported from sklearn.svm is now part of the private API.\n",
      "  warnings.warn(message, FutureWarning)\n",
      "/opt/conda/lib/python3.6/site-packages/sklearn/base.py:318: UserWarning: Trying to unpickle estimator LinearSVC from version 0.21.2 when using version 0.22.1. This might lead to breaking code or invalid results. Use at your own risk.\n",
      "  UserWarning)\n"
     ]
    },
    {
     "name": "stdout",
     "output_type": "stream",
     "text": [
      "Loading the GoogArticle model wich is a <class 'sklearn.svm._classes.LinearSVC'>\n"
     ]
    },
    {
     "name": "stderr",
     "output_type": "stream",
     "text": [
      " 39% [=======             ] (3m 57.569s left)\n",
      "/opt/conda/lib/python3.6/site-packages/sklearn/utils/deprecation.py:144: FutureWarning: The sklearn.svm.classes module is  deprecated in version 0.22 and will be removed in version 0.24. The corresponding classes / functions should instead be imported from sklearn.svm. Anything that cannot be imported from sklearn.svm is now part of the private API.\n",
      "  warnings.warn(message, FutureWarning)\n",
      "/opt/conda/lib/python3.6/site-packages/sklearn/base.py:318: UserWarning: Trying to unpickle estimator LinearSVC from version 0.21.2 when using version 0.22.1. This might lead to breaking code or invalid results. Use at your own risk.\n",
      "  UserWarning)\n"
     ]
    },
    {
     "name": "stdout",
     "output_type": "stream",
     "text": [
      "Loading the GoogArticle model wich is a <class 'sklearn.svm._classes.LinearSVC'>\n"
     ]
    },
    {
     "name": "stderr",
     "output_type": "stream",
     "text": [
      " 39% [=======             ] (3m 55.981s left)\n",
      "/opt/conda/lib/python3.6/site-packages/sklearn/utils/deprecation.py:144: FutureWarning: The sklearn.svm.classes module is  deprecated in version 0.22 and will be removed in version 0.24. The corresponding classes / functions should instead be imported from sklearn.svm. Anything that cannot be imported from sklearn.svm is now part of the private API.\n",
      "  warnings.warn(message, FutureWarning)\n",
      "/opt/conda/lib/python3.6/site-packages/sklearn/base.py:318: UserWarning: Trying to unpickle estimator LinearSVC from version 0.21.2 when using version 0.22.1. This might lead to breaking code or invalid results. Use at your own risk.\n",
      "  UserWarning)\n"
     ]
    },
    {
     "name": "stdout",
     "output_type": "stream",
     "text": [
      "Loading the GoogArticle model wich is a <class 'sklearn.svm._classes.LinearSVC'>\n"
     ]
    },
    {
     "name": "stderr",
     "output_type": "stream",
     "text": [
      " 40% [========            ] (3m 52.725s left)\n",
      "/opt/conda/lib/python3.6/site-packages/sklearn/utils/deprecation.py:144: FutureWarning: The sklearn.svm.classes module is  deprecated in version 0.22 and will be removed in version 0.24. The corresponding classes / functions should instead be imported from sklearn.svm. Anything that cannot be imported from sklearn.svm is now part of the private API.\n",
      "  warnings.warn(message, FutureWarning)\n",
      "/opt/conda/lib/python3.6/site-packages/sklearn/base.py:318: UserWarning: Trying to unpickle estimator LinearSVC from version 0.21.2 when using version 0.22.1. This might lead to breaking code or invalid results. Use at your own risk.\n",
      "  UserWarning)\n"
     ]
    },
    {
     "name": "stdout",
     "output_type": "stream",
     "text": [
      "Loading the GoogArticle model wich is a <class 'sklearn.svm._classes.LinearSVC'>\n"
     ]
    },
    {
     "name": "stderr",
     "output_type": "stream",
     "text": [
      " 40% [========            ] (3m 48.655s left)\n",
      "/opt/conda/lib/python3.6/site-packages/sklearn/utils/deprecation.py:144: FutureWarning: The sklearn.svm.classes module is  deprecated in version 0.22 and will be removed in version 0.24. The corresponding classes / functions should instead be imported from sklearn.svm. Anything that cannot be imported from sklearn.svm is now part of the private API.\n",
      "  warnings.warn(message, FutureWarning)\n",
      "/opt/conda/lib/python3.6/site-packages/sklearn/base.py:318: UserWarning: Trying to unpickle estimator LinearSVC from version 0.21.2 when using version 0.22.1. This might lead to breaking code or invalid results. Use at your own risk.\n",
      "  UserWarning)\n"
     ]
    },
    {
     "name": "stdout",
     "output_type": "stream",
     "text": [
      "Loading the GoogArticle model wich is a <class 'sklearn.svm._classes.LinearSVC'>\n"
     ]
    },
    {
     "name": "stderr",
     "output_type": "stream",
     "text": [
      " 41% [========            ] (3m 46.864s left)\n",
      "/opt/conda/lib/python3.6/site-packages/sklearn/utils/deprecation.py:144: FutureWarning: The sklearn.svm.classes module is  deprecated in version 0.22 and will be removed in version 0.24. The corresponding classes / functions should instead be imported from sklearn.svm. Anything that cannot be imported from sklearn.svm is now part of the private API.\n",
      "  warnings.warn(message, FutureWarning)\n",
      "/opt/conda/lib/python3.6/site-packages/sklearn/base.py:318: UserWarning: Trying to unpickle estimator LinearSVC from version 0.21.2 when using version 0.22.1. This might lead to breaking code or invalid results. Use at your own risk.\n",
      "  UserWarning)\n"
     ]
    },
    {
     "name": "stdout",
     "output_type": "stream",
     "text": [
      "Loading the GoogArticle model wich is a <class 'sklearn.svm._classes.LinearSVC'>\n"
     ]
    },
    {
     "name": "stderr",
     "output_type": "stream",
     "text": [
      " 41% [========            ] (3m 44.513s left)\n",
      "/opt/conda/lib/python3.6/site-packages/sklearn/utils/deprecation.py:144: FutureWarning: The sklearn.svm.classes module is  deprecated in version 0.22 and will be removed in version 0.24. The corresponding classes / functions should instead be imported from sklearn.svm. Anything that cannot be imported from sklearn.svm is now part of the private API.\n",
      "  warnings.warn(message, FutureWarning)\n",
      "/opt/conda/lib/python3.6/site-packages/sklearn/base.py:318: UserWarning: Trying to unpickle estimator LinearSVC from version 0.21.2 when using version 0.22.1. This might lead to breaking code or invalid results. Use at your own risk.\n",
      "  UserWarning)\n"
     ]
    },
    {
     "name": "stdout",
     "output_type": "stream",
     "text": [
      "Loading the GoogArticle model wich is a <class 'sklearn.svm._classes.LinearSVC'>\n"
     ]
    },
    {
     "name": "stderr",
     "output_type": "stream",
     "text": [
      " 42% [========            ] (3m 42.775s left)\n",
      "/opt/conda/lib/python3.6/site-packages/sklearn/utils/deprecation.py:144: FutureWarning: The sklearn.svm.classes module is  deprecated in version 0.22 and will be removed in version 0.24. The corresponding classes / functions should instead be imported from sklearn.svm. Anything that cannot be imported from sklearn.svm is now part of the private API.\n",
      "  warnings.warn(message, FutureWarning)\n",
      "/opt/conda/lib/python3.6/site-packages/sklearn/base.py:318: UserWarning: Trying to unpickle estimator LinearSVC from version 0.21.2 when using version 0.22.1. This might lead to breaking code or invalid results. Use at your own risk.\n",
      "  UserWarning)\n"
     ]
    },
    {
     "name": "stdout",
     "output_type": "stream",
     "text": [
      "Loading the GoogArticle model wich is a <class 'sklearn.svm._classes.LinearSVC'>\n"
     ]
    },
    {
     "name": "stderr",
     "output_type": "stream",
     "text": [
      " 42% [========            ] (3m 40.509s left)\n",
      "/opt/conda/lib/python3.6/site-packages/sklearn/utils/deprecation.py:144: FutureWarning: The sklearn.svm.classes module is  deprecated in version 0.22 and will be removed in version 0.24. The corresponding classes / functions should instead be imported from sklearn.svm. Anything that cannot be imported from sklearn.svm is now part of the private API.\n",
      "  warnings.warn(message, FutureWarning)\n",
      "/opt/conda/lib/python3.6/site-packages/sklearn/base.py:318: UserWarning: Trying to unpickle estimator LinearSVC from version 0.21.2 when using version 0.22.1. This might lead to breaking code or invalid results. Use at your own risk.\n",
      "  UserWarning)\n"
     ]
    },
    {
     "name": "stdout",
     "output_type": "stream",
     "text": [
      "Loading the GoogArticle model wich is a <class 'sklearn.svm._classes.LinearSVC'>\n"
     ]
    },
    {
     "name": "stderr",
     "output_type": "stream",
     "text": [
      " 43% [========            ] (3m 37.162s left)\n",
      "/opt/conda/lib/python3.6/site-packages/sklearn/utils/deprecation.py:144: FutureWarning: The sklearn.svm.classes module is  deprecated in version 0.22 and will be removed in version 0.24. The corresponding classes / functions should instead be imported from sklearn.svm. Anything that cannot be imported from sklearn.svm is now part of the private API.\n",
      "  warnings.warn(message, FutureWarning)\n",
      "/opt/conda/lib/python3.6/site-packages/sklearn/base.py:318: UserWarning: Trying to unpickle estimator LinearSVC from version 0.21.2 when using version 0.22.1. This might lead to breaking code or invalid results. Use at your own risk.\n",
      "  UserWarning)\n"
     ]
    },
    {
     "name": "stdout",
     "output_type": "stream",
     "text": [
      "Loading the GoogArticle model wich is a <class 'sklearn.svm._classes.LinearSVC'>\n"
     ]
    },
    {
     "name": "stderr",
     "output_type": "stream",
     "text": [
      " 43% [========            ] (3m 37.228s left)\n",
      "/opt/conda/lib/python3.6/site-packages/sklearn/utils/deprecation.py:144: FutureWarning: The sklearn.svm.classes module is  deprecated in version 0.22 and will be removed in version 0.24. The corresponding classes / functions should instead be imported from sklearn.svm. Anything that cannot be imported from sklearn.svm is now part of the private API.\n",
      "  warnings.warn(message, FutureWarning)\n",
      "/opt/conda/lib/python3.6/site-packages/sklearn/base.py:318: UserWarning: Trying to unpickle estimator LinearSVC from version 0.21.2 when using version 0.22.1. This might lead to breaking code or invalid results. Use at your own risk.\n",
      "  UserWarning)\n"
     ]
    },
    {
     "name": "stdout",
     "output_type": "stream",
     "text": [
      "Loading the GoogArticle model wich is a <class 'sklearn.svm._classes.LinearSVC'>\n"
     ]
    },
    {
     "name": "stderr",
     "output_type": "stream",
     "text": [
      " 44% [========            ] (3m 42.075s left)\n",
      "/opt/conda/lib/python3.6/site-packages/sklearn/utils/deprecation.py:144: FutureWarning: The sklearn.svm.classes module is  deprecated in version 0.22 and will be removed in version 0.24. The corresponding classes / functions should instead be imported from sklearn.svm. Anything that cannot be imported from sklearn.svm is now part of the private API.\n",
      "  warnings.warn(message, FutureWarning)\n"
     ]
    },
    {
     "name": "stdout",
     "output_type": "stream",
     "text": [
      "Loading the GoogArticle model wich is a <class 'sklearn.svm._classes.LinearSVC'>\n"
     ]
    },
    {
     "name": "stderr",
     "output_type": "stream",
     "text": [
      "/opt/conda/lib/python3.6/site-packages/sklearn/base.py:318: UserWarning: Trying to unpickle estimator LinearSVC from version 0.21.2 when using version 0.22.1. This might lead to breaking code or invalid results. Use at your own risk.\n",
      "  UserWarning)\n",
      " 44% [========            ] (3m 47.712s left)\n",
      "/opt/conda/lib/python3.6/site-packages/sklearn/utils/deprecation.py:144: FutureWarning: The sklearn.svm.classes module is  deprecated in version 0.22 and will be removed in version 0.24. The corresponding classes / functions should instead be imported from sklearn.svm. Anything that cannot be imported from sklearn.svm is now part of the private API.\n",
      "  warnings.warn(message, FutureWarning)\n"
     ]
    },
    {
     "name": "stdout",
     "output_type": "stream",
     "text": [
      "Loading the GoogArticle model wich is a <class 'sklearn.svm._classes.LinearSVC'>\n"
     ]
    },
    {
     "name": "stderr",
     "output_type": "stream",
     "text": [
      "/opt/conda/lib/python3.6/site-packages/sklearn/base.py:318: UserWarning: Trying to unpickle estimator LinearSVC from version 0.21.2 when using version 0.22.1. This might lead to breaking code or invalid results. Use at your own risk.\n",
      "  UserWarning)\n",
      " 45% [=========           ] (3m 50.58s left)\n",
      " 45% [=========           ] (3m 46.052s left)\n",
      "/opt/conda/lib/python3.6/site-packages/sklearn/utils/deprecation.py:144: FutureWarning: The sklearn.svm.classes module is  deprecated in version 0.22 and will be removed in version 0.24. The corresponding classes / functions should instead be imported from sklearn.svm. Anything that cannot be imported from sklearn.svm is now part of the private API.\n",
      "  warnings.warn(message, FutureWarning)\n",
      "/opt/conda/lib/python3.6/site-packages/sklearn/base.py:318: UserWarning: Trying to unpickle estimator LinearSVC from version 0.21.2 when using version 0.22.1. This might lead to breaking code or invalid results. Use at your own risk.\n",
      "  UserWarning)\n"
     ]
    },
    {
     "name": "stdout",
     "output_type": "stream",
     "text": [
      "Loading the GoogArticle model wich is a <class 'sklearn.svm._classes.LinearSVC'>\n"
     ]
    },
    {
     "name": "stderr",
     "output_type": "stream",
     "text": [
      "/opt/conda/lib/python3.6/site-packages/sklearn/utils/deprecation.py:144: FutureWarning: The sklearn.svm.classes module is  deprecated in version 0.22 and will be removed in version 0.24. The corresponding classes / functions should instead be imported from sklearn.svm. Anything that cannot be imported from sklearn.svm is now part of the private API.\n",
      "  warnings.warn(message, FutureWarning)\n",
      " 46% [=========           ] (3m 41.989s left)\n",
      "/opt/conda/lib/python3.6/site-packages/sklearn/base.py:318: UserWarning: Trying to unpickle estimator LinearSVC from version 0.21.2 when using version 0.22.1. This might lead to breaking code or invalid results. Use at your own risk.\n",
      "  UserWarning)\n"
     ]
    },
    {
     "name": "stdout",
     "output_type": "stream",
     "text": [
      "Loading the GoogArticle model wich is a <class 'sklearn.svm._classes.LinearSVC'>\n"
     ]
    },
    {
     "name": "stderr",
     "output_type": "stream",
     "text": [
      " 46% [=========           ] (3m 37.587s left)\n",
      "/opt/conda/lib/python3.6/site-packages/sklearn/utils/deprecation.py:144: FutureWarning: The sklearn.svm.classes module is  deprecated in version 0.22 and will be removed in version 0.24. The corresponding classes / functions should instead be imported from sklearn.svm. Anything that cannot be imported from sklearn.svm is now part of the private API.\n",
      "  warnings.warn(message, FutureWarning)\n",
      "/opt/conda/lib/python3.6/site-packages/sklearn/base.py:318: UserWarning: Trying to unpickle estimator LinearSVC from version 0.21.2 when using version 0.22.1. This might lead to breaking code or invalid results. Use at your own risk.\n",
      "  UserWarning)\n"
     ]
    },
    {
     "name": "stdout",
     "output_type": "stream",
     "text": [
      "Loading the GoogArticle model wich is a <class 'sklearn.svm._classes.LinearSVC'>\n"
     ]
    },
    {
     "name": "stderr",
     "output_type": "stream",
     "text": [
      "/opt/conda/lib/python3.6/site-packages/sklearn/utils/deprecation.py:144: FutureWarning: The sklearn.svm.classes module is  deprecated in version 0.22 and will be removed in version 0.24. The corresponding classes / functions should instead be imported from sklearn.svm. Anything that cannot be imported from sklearn.svm is now part of the private API.\n",
      "  warnings.warn(message, FutureWarning)\n"
     ]
    },
    {
     "name": "stdout",
     "output_type": "stream",
     "text": [
      "Loading the GoogArticle model wich is a <class 'sklearn.svm._classes.LinearSVC'>\n"
     ]
    },
    {
     "name": "stderr",
     "output_type": "stream",
     "text": [
      "/opt/conda/lib/python3.6/site-packages/sklearn/base.py:318: UserWarning: Trying to unpickle estimator LinearSVC from version 0.21.2 when using version 0.22.1. This might lead to breaking code or invalid results. Use at your own risk.\n",
      "  UserWarning)\n",
      " 47% [=========           ] (3m 43.489s left)\n",
      "/opt/conda/lib/python3.6/site-packages/sklearn/utils/deprecation.py:144: FutureWarning: The sklearn.svm.classes module is  deprecated in version 0.22 and will be removed in version 0.24. The corresponding classes / functions should instead be imported from sklearn.svm. Anything that cannot be imported from sklearn.svm is now part of the private API.\n",
      "  warnings.warn(message, FutureWarning)\n",
      "/opt/conda/lib/python3.6/site-packages/sklearn/base.py:318: UserWarning: Trying to unpickle estimator LinearSVC from version 0.21.2 when using version 0.22.1. This might lead to breaking code or invalid results. Use at your own risk.\n",
      "  UserWarning)\n"
     ]
    },
    {
     "name": "stdout",
     "output_type": "stream",
     "text": [
      "Loading the GoogArticle model wich is a <class 'sklearn.svm._classes.LinearSVC'>\n"
     ]
    },
    {
     "name": "stderr",
     "output_type": "stream",
     "text": [
      " 47% [=========           ] (3m 43.748s left)\n",
      "/opt/conda/lib/python3.6/site-packages/sklearn/utils/deprecation.py:144: FutureWarning: The sklearn.svm.classes module is  deprecated in version 0.22 and will be removed in version 0.24. The corresponding classes / functions should instead be imported from sklearn.svm. Anything that cannot be imported from sklearn.svm is now part of the private API.\n",
      "  warnings.warn(message, FutureWarning)\n",
      "/opt/conda/lib/python3.6/site-packages/sklearn/base.py:318: UserWarning: Trying to unpickle estimator LinearSVC from version 0.21.2 when using version 0.22.1. This might lead to breaking code or invalid results. Use at your own risk.\n",
      "  UserWarning)\n"
     ]
    },
    {
     "name": "stdout",
     "output_type": "stream",
     "text": [
      "Loading the GoogArticle model wich is a <class 'sklearn.svm._classes.LinearSVC'>\n"
     ]
    },
    {
     "name": "stderr",
     "output_type": "stream",
     "text": [
      " 48% [=========           ] (3m 39.746s left)\n",
      "/opt/conda/lib/python3.6/site-packages/sklearn/utils/deprecation.py:144: FutureWarning: The sklearn.svm.classes module is  deprecated in version 0.22 and will be removed in version 0.24. The corresponding classes / functions should instead be imported from sklearn.svm. Anything that cannot be imported from sklearn.svm is now part of the private API.\n",
      "  warnings.warn(message, FutureWarning)\n",
      "/opt/conda/lib/python3.6/site-packages/sklearn/base.py:318: UserWarning: Trying to unpickle estimator LinearSVC from version 0.21.2 when using version 0.22.1. This might lead to breaking code or invalid results. Use at your own risk.\n",
      "  UserWarning)\n"
     ]
    },
    {
     "name": "stdout",
     "output_type": "stream",
     "text": [
      "Loading the GoogArticle model wich is a <class 'sklearn.svm._classes.LinearSVC'>\n"
     ]
    },
    {
     "name": "stderr",
     "output_type": "stream",
     "text": [
      " 48% [=========           ] (3m 37.045s left)\n",
      "/opt/conda/lib/python3.6/site-packages/sklearn/utils/deprecation.py:144: FutureWarning: The sklearn.svm.classes module is  deprecated in version 0.22 and will be removed in version 0.24. The corresponding classes / functions should instead be imported from sklearn.svm. Anything that cannot be imported from sklearn.svm is now part of the private API.\n",
      "  warnings.warn(message, FutureWarning)\n",
      "/opt/conda/lib/python3.6/site-packages/sklearn/base.py:318: UserWarning: Trying to unpickle estimator LinearSVC from version 0.21.2 when using version 0.22.1. This might lead to breaking code or invalid results. Use at your own risk.\n",
      "  UserWarning)\n"
     ]
    },
    {
     "name": "stdout",
     "output_type": "stream",
     "text": [
      "Loading the GoogArticle model wich is a <class 'sklearn.svm._classes.LinearSVC'>\n"
     ]
    },
    {
     "name": "stderr",
     "output_type": "stream",
     "text": [
      " 49% [=========           ] (3m 34.03s left)\n",
      " 50% [==========          ] (3m 29.77s left)\n",
      " 50% [==========          ] (3m 25.721s left)\n",
      "/opt/conda/lib/python3.6/site-packages/sklearn/utils/deprecation.py:144: FutureWarning: The sklearn.svm.classes module is  deprecated in version 0.22 and will be removed in version 0.24. The corresponding classes / functions should instead be imported from sklearn.svm. Anything that cannot be imported from sklearn.svm is now part of the private API.\n",
      "  warnings.warn(message, FutureWarning)\n",
      "/opt/conda/lib/python3.6/site-packages/sklearn/base.py:318: UserWarning: Trying to unpickle estimator LinearSVC from version 0.21.2 when using version 0.22.1. This might lead to breaking code or invalid results. Use at your own risk.\n",
      "  UserWarning)\n"
     ]
    },
    {
     "name": "stdout",
     "output_type": "stream",
     "text": [
      "Loading the GoogArticle model wich is a <class 'sklearn.svm._classes.LinearSVC'>\n"
     ]
    },
    {
     "name": "stderr",
     "output_type": "stream",
     "text": [
      "/opt/conda/lib/python3.6/site-packages/sklearn/utils/deprecation.py:144: FutureWarning: The sklearn.svm.classes module is  deprecated in version 0.22 and will be removed in version 0.24. The corresponding classes / functions should instead be imported from sklearn.svm. Anything that cannot be imported from sklearn.svm is now part of the private API.\n",
      "  warnings.warn(message, FutureWarning)\n",
      "/opt/conda/lib/python3.6/site-packages/sklearn/base.py:318: UserWarning: Trying to unpickle estimator LinearSVC from version 0.21.2 when using version 0.22.1. This might lead to breaking code or invalid results. Use at your own risk.\n",
      "  UserWarning)\n"
     ]
    },
    {
     "name": "stdout",
     "output_type": "stream",
     "text": [
      "Loading the GoogArticle model wich is a <class 'sklearn.svm._classes.LinearSVC'>\n"
     ]
    },
    {
     "name": "stderr",
     "output_type": "stream",
     "text": [
      "/opt/conda/lib/python3.6/site-packages/sklearn/utils/deprecation.py:144: FutureWarning: The sklearn.svm.classes module is  deprecated in version 0.22 and will be removed in version 0.24. The corresponding classes / functions should instead be imported from sklearn.svm. Anything that cannot be imported from sklearn.svm is now part of the private API.\n",
      "  warnings.warn(message, FutureWarning)\n",
      "/opt/conda/lib/python3.6/site-packages/sklearn/base.py:318: UserWarning: Trying to unpickle estimator LinearSVC from version 0.21.2 when using version 0.22.1. This might lead to breaking code or invalid results. Use at your own risk.\n",
      "  UserWarning)\n"
     ]
    },
    {
     "name": "stdout",
     "output_type": "stream",
     "text": [
      "Loading the GoogArticle model wich is a <class 'sklearn.svm._classes.LinearSVC'>\n"
     ]
    },
    {
     "name": "stderr",
     "output_type": "stream",
     "text": [
      " 51% [==========          ] (3m 23.469s left)\n",
      "/opt/conda/lib/python3.6/site-packages/sklearn/utils/deprecation.py:144: FutureWarning: The sklearn.svm.classes module is  deprecated in version 0.22 and will be removed in version 0.24. The corresponding classes / functions should instead be imported from sklearn.svm. Anything that cannot be imported from sklearn.svm is now part of the private API.\n",
      "  warnings.warn(message, FutureWarning)\n",
      "/opt/conda/lib/python3.6/site-packages/sklearn/base.py:318: UserWarning: Trying to unpickle estimator LinearSVC from version 0.21.2 when using version 0.22.1. This might lead to breaking code or invalid results. Use at your own risk.\n",
      "  UserWarning)\n"
     ]
    },
    {
     "name": "stdout",
     "output_type": "stream",
     "text": [
      "Loading the GoogArticle model wich is a <class 'sklearn.svm._classes.LinearSVC'>\n"
     ]
    },
    {
     "name": "stderr",
     "output_type": "stream",
     "text": [
      " 51% [==========          ] (3m 19.632s left)\n",
      "/opt/conda/lib/python3.6/site-packages/sklearn/utils/deprecation.py:144: FutureWarning: The sklearn.svm.classes module is  deprecated in version 0.22 and will be removed in version 0.24. The corresponding classes / functions should instead be imported from sklearn.svm. Anything that cannot be imported from sklearn.svm is now part of the private API.\n",
      "  warnings.warn(message, FutureWarning)\n",
      "/opt/conda/lib/python3.6/site-packages/sklearn/base.py:318: UserWarning: Trying to unpickle estimator LinearSVC from version 0.21.2 when using version 0.22.1. This might lead to breaking code or invalid results. Use at your own risk.\n",
      "  UserWarning)\n"
     ]
    },
    {
     "name": "stdout",
     "output_type": "stream",
     "text": [
      "Loading the GoogArticle model wich is a <class 'sklearn.svm._classes.LinearSVC'>\n"
     ]
    },
    {
     "name": "stderr",
     "output_type": "stream",
     "text": [
      " 52% [==========          ] (3m 17.729s left)\n",
      "/opt/conda/lib/python3.6/site-packages/sklearn/utils/deprecation.py:144: FutureWarning: The sklearn.svm.classes module is  deprecated in version 0.22 and will be removed in version 0.24. The corresponding classes / functions should instead be imported from sklearn.svm. Anything that cannot be imported from sklearn.svm is now part of the private API.\n",
      "  warnings.warn(message, FutureWarning)\n",
      "/opt/conda/lib/python3.6/site-packages/sklearn/base.py:318: UserWarning: Trying to unpickle estimator LinearSVC from version 0.21.2 when using version 0.22.1. This might lead to breaking code or invalid results. Use at your own risk.\n",
      "  UserWarning)\n"
     ]
    },
    {
     "name": "stdout",
     "output_type": "stream",
     "text": [
      "Loading the GoogArticle model wich is a <class 'sklearn.svm._classes.LinearSVC'>\n"
     ]
    },
    {
     "name": "stderr",
     "output_type": "stream",
     "text": [
      " 52% [==========          ] (3m 14.146s left)\n",
      "/opt/conda/lib/python3.6/site-packages/sklearn/utils/deprecation.py:144: FutureWarning: The sklearn.svm.classes module is  deprecated in version 0.22 and will be removed in version 0.24. The corresponding classes / functions should instead be imported from sklearn.svm. Anything that cannot be imported from sklearn.svm is now part of the private API.\n",
      "  warnings.warn(message, FutureWarning)\n",
      "/opt/conda/lib/python3.6/site-packages/sklearn/base.py:318: UserWarning: Trying to unpickle estimator LinearSVC from version 0.21.2 when using version 0.22.1. This might lead to breaking code or invalid results. Use at your own risk.\n",
      "  UserWarning)\n"
     ]
    },
    {
     "name": "stdout",
     "output_type": "stream",
     "text": [
      "Loading the GoogArticle model wich is a <class 'sklearn.svm._classes.LinearSVC'>\n"
     ]
    },
    {
     "name": "stderr",
     "output_type": "stream",
     "text": [
      " 53% [==========          ] (3m 10.782s left)\n",
      "/opt/conda/lib/python3.6/site-packages/sklearn/utils/deprecation.py:144: FutureWarning: The sklearn.svm.classes module is  deprecated in version 0.22 and will be removed in version 0.24. The corresponding classes / functions should instead be imported from sklearn.svm. Anything that cannot be imported from sklearn.svm is now part of the private API.\n",
      "  warnings.warn(message, FutureWarning)\n",
      "/opt/conda/lib/python3.6/site-packages/sklearn/base.py:318: UserWarning: Trying to unpickle estimator LinearSVC from version 0.21.2 when using version 0.22.1. This might lead to breaking code or invalid results. Use at your own risk.\n",
      "  UserWarning)\n"
     ]
    },
    {
     "name": "stdout",
     "output_type": "stream",
     "text": [
      "Loading the GoogArticle model wich is a <class 'sklearn.svm._classes.LinearSVC'>\n"
     ]
    },
    {
     "name": "stderr",
     "output_type": "stream",
     "text": [
      " 53% [==========          ] (3m 7.489s left)\n",
      "/opt/conda/lib/python3.6/site-packages/sklearn/utils/deprecation.py:144: FutureWarning: The sklearn.svm.classes module is  deprecated in version 0.22 and will be removed in version 0.24. The corresponding classes / functions should instead be imported from sklearn.svm. Anything that cannot be imported from sklearn.svm is now part of the private API.\n",
      "  warnings.warn(message, FutureWarning)\n"
     ]
    },
    {
     "name": "stdout",
     "output_type": "stream",
     "text": [
      "Loading the GoogArticle model wich is a <class 'sklearn.svm._classes.LinearSVC'>\n"
     ]
    },
    {
     "name": "stderr",
     "output_type": "stream",
     "text": [
      "/opt/conda/lib/python3.6/site-packages/sklearn/base.py:318: UserWarning: Trying to unpickle estimator LinearSVC from version 0.21.2 when using version 0.22.1. This might lead to breaking code or invalid results. Use at your own risk.\n",
      "  UserWarning)\n",
      " 54% [==========          ] (3m 4.466s left)\n",
      "/opt/conda/lib/python3.6/site-packages/sklearn/utils/deprecation.py:144: FutureWarning: The sklearn.svm.classes module is  deprecated in version 0.22 and will be removed in version 0.24. The corresponding classes / functions should instead be imported from sklearn.svm. Anything that cannot be imported from sklearn.svm is now part of the private API.\n",
      "  warnings.warn(message, FutureWarning)\n",
      "/opt/conda/lib/python3.6/site-packages/sklearn/base.py:318: UserWarning: Trying to unpickle estimator LinearSVC from version 0.21.2 when using version 0.22.1. This might lead to breaking code or invalid results. Use at your own risk.\n",
      "  UserWarning)\n"
     ]
    },
    {
     "name": "stdout",
     "output_type": "stream",
     "text": [
      "Loading the GoogArticle model wich is a <class 'sklearn.svm._classes.LinearSVC'>\n"
     ]
    },
    {
     "name": "stderr",
     "output_type": "stream",
     "text": [
      " 54% [==========          ] (3m 1.883s left)\n",
      "/opt/conda/lib/python3.6/site-packages/sklearn/utils/deprecation.py:144: FutureWarning: The sklearn.svm.classes module is  deprecated in version 0.22 and will be removed in version 0.24. The corresponding classes / functions should instead be imported from sklearn.svm. Anything that cannot be imported from sklearn.svm is now part of the private API.\n",
      "  warnings.warn(message, FutureWarning)\n"
     ]
    },
    {
     "name": "stdout",
     "output_type": "stream",
     "text": [
      "Loading the GoogArticle model wich is a <class 'sklearn.svm._classes.LinearSVC'>\n"
     ]
    },
    {
     "name": "stderr",
     "output_type": "stream",
     "text": [
      "/opt/conda/lib/python3.6/site-packages/sklearn/base.py:318: UserWarning: Trying to unpickle estimator LinearSVC from version 0.21.2 when using version 0.22.1. This might lead to breaking code or invalid results. Use at your own risk.\n",
      "  UserWarning)\n",
      " 55% [===========         ] (2m 58.432s left)\n",
      "/opt/conda/lib/python3.6/site-packages/sklearn/utils/deprecation.py:144: FutureWarning: The sklearn.svm.classes module is  deprecated in version 0.22 and will be removed in version 0.24. The corresponding classes / functions should instead be imported from sklearn.svm. Anything that cannot be imported from sklearn.svm is now part of the private API.\n",
      "  warnings.warn(message, FutureWarning)\n",
      "/opt/conda/lib/python3.6/site-packages/sklearn/base.py:318: UserWarning: Trying to unpickle estimator LinearSVC from version 0.21.2 when using version 0.22.1. This might lead to breaking code or invalid results. Use at your own risk.\n",
      "  UserWarning)\n"
     ]
    },
    {
     "name": "stdout",
     "output_type": "stream",
     "text": [
      "Loading the GoogArticle model wich is a <class 'sklearn.svm._classes.LinearSVC'>\n"
     ]
    },
    {
     "name": "stderr",
     "output_type": "stream",
     "text": [
      " 55% [===========         ] (2m 56.071s left)\n",
      "/opt/conda/lib/python3.6/site-packages/sklearn/utils/deprecation.py:144: FutureWarning: The sklearn.svm.classes module is  deprecated in version 0.22 and will be removed in version 0.24. The corresponding classes / functions should instead be imported from sklearn.svm. Anything that cannot be imported from sklearn.svm is now part of the private API.\n",
      "  warnings.warn(message, FutureWarning)\n"
     ]
    },
    {
     "name": "stdout",
     "output_type": "stream",
     "text": [
      "Loading the GoogArticle model wich is a <class 'sklearn.svm._classes.LinearSVC'>\n"
     ]
    },
    {
     "name": "stderr",
     "output_type": "stream",
     "text": [
      "/opt/conda/lib/python3.6/site-packages/sklearn/base.py:318: UserWarning: Trying to unpickle estimator LinearSVC from version 0.21.2 when using version 0.22.1. This might lead to breaking code or invalid results. Use at your own risk.\n",
      "  UserWarning)\n",
      " 56% [===========         ] (2m 53.082s left)\n",
      "/opt/conda/lib/python3.6/site-packages/sklearn/utils/deprecation.py:144: FutureWarning: The sklearn.svm.classes module is  deprecated in version 0.22 and will be removed in version 0.24. The corresponding classes / functions should instead be imported from sklearn.svm. Anything that cannot be imported from sklearn.svm is now part of the private API.\n",
      "  warnings.warn(message, FutureWarning)\n",
      "/opt/conda/lib/python3.6/site-packages/sklearn/base.py:318: UserWarning: Trying to unpickle estimator LinearSVC from version 0.21.2 when using version 0.22.1. This might lead to breaking code or invalid results. Use at your own risk.\n",
      "  UserWarning)\n"
     ]
    },
    {
     "name": "stdout",
     "output_type": "stream",
     "text": [
      "Loading the GoogArticle model wich is a <class 'sklearn.svm._classes.LinearSVC'>\n"
     ]
    },
    {
     "name": "stderr",
     "output_type": "stream",
     "text": [
      " 56% [===========         ] (2m 50.072s left)\n",
      "/opt/conda/lib/python3.6/site-packages/sklearn/utils/deprecation.py:144: FutureWarning: The sklearn.svm.classes module is  deprecated in version 0.22 and will be removed in version 0.24. The corresponding classes / functions should instead be imported from sklearn.svm. Anything that cannot be imported from sklearn.svm is now part of the private API.\n",
      "  warnings.warn(message, FutureWarning)\n",
      "/opt/conda/lib/python3.6/site-packages/sklearn/base.py:318: UserWarning: Trying to unpickle estimator LinearSVC from version 0.21.2 when using version 0.22.1. This might lead to breaking code or invalid results. Use at your own risk.\n",
      "  UserWarning)\n"
     ]
    },
    {
     "name": "stdout",
     "output_type": "stream",
     "text": [
      "Loading the GoogArticle model wich is a <class 'sklearn.svm._classes.LinearSVC'>\n"
     ]
    },
    {
     "name": "stderr",
     "output_type": "stream",
     "text": [
      " 57% [===========         ] (2m 47.735s left)\n",
      "/opt/conda/lib/python3.6/site-packages/sklearn/utils/deprecation.py:144: FutureWarning: The sklearn.svm.classes module is  deprecated in version 0.22 and will be removed in version 0.24. The corresponding classes / functions should instead be imported from sklearn.svm. Anything that cannot be imported from sklearn.svm is now part of the private API.\n",
      "  warnings.warn(message, FutureWarning)\n",
      "/opt/conda/lib/python3.6/site-packages/sklearn/base.py:318: UserWarning: Trying to unpickle estimator LinearSVC from version 0.21.2 when using version 0.22.1. This might lead to breaking code or invalid results. Use at your own risk.\n",
      "  UserWarning)\n"
     ]
    },
    {
     "name": "stdout",
     "output_type": "stream",
     "text": [
      "Loading the GoogArticle model wich is a <class 'sklearn.svm._classes.LinearSVC'>\n"
     ]
    },
    {
     "name": "stderr",
     "output_type": "stream",
     "text": [
      " 57% [===========         ] (2m 46.062s left)\n",
      "/opt/conda/lib/python3.6/site-packages/sklearn/utils/deprecation.py:144: FutureWarning: The sklearn.svm.classes module is  deprecated in version 0.22 and will be removed in version 0.24. The corresponding classes / functions should instead be imported from sklearn.svm. Anything that cannot be imported from sklearn.svm is now part of the private API.\n",
      "  warnings.warn(message, FutureWarning)\n",
      "/opt/conda/lib/python3.6/site-packages/sklearn/base.py:318: UserWarning: Trying to unpickle estimator LinearSVC from version 0.21.2 when using version 0.22.1. This might lead to breaking code or invalid results. Use at your own risk.\n",
      "  UserWarning)\n"
     ]
    },
    {
     "name": "stdout",
     "output_type": "stream",
     "text": [
      "Loading the GoogArticle model wich is a <class 'sklearn.svm._classes.LinearSVC'>\n"
     ]
    },
    {
     "name": "stderr",
     "output_type": "stream",
     "text": [
      " 58% [===========         ] (2m 42.723s left)\n",
      "/opt/conda/lib/python3.6/site-packages/sklearn/utils/deprecation.py:144: FutureWarning: The sklearn.svm.classes module is  deprecated in version 0.22 and will be removed in version 0.24. The corresponding classes / functions should instead be imported from sklearn.svm. Anything that cannot be imported from sklearn.svm is now part of the private API.\n",
      "  warnings.warn(message, FutureWarning)\n",
      "/opt/conda/lib/python3.6/site-packages/sklearn/base.py:318: UserWarning: Trying to unpickle estimator LinearSVC from version 0.21.2 when using version 0.22.1. This might lead to breaking code or invalid results. Use at your own risk.\n",
      "  UserWarning)\n"
     ]
    },
    {
     "name": "stdout",
     "output_type": "stream",
     "text": [
      "Loading the GoogArticle model wich is a <class 'sklearn.svm._classes.LinearSVC'>\n"
     ]
    },
    {
     "name": "stderr",
     "output_type": "stream",
     "text": [
      " 58% [===========         ] (2m 39.73s left)\n",
      "/opt/conda/lib/python3.6/site-packages/sklearn/utils/deprecation.py:144: FutureWarning: The sklearn.svm.classes module is  deprecated in version 0.22 and will be removed in version 0.24. The corresponding classes / functions should instead be imported from sklearn.svm. Anything that cannot be imported from sklearn.svm is now part of the private API.\n",
      "  warnings.warn(message, FutureWarning)\n",
      "/opt/conda/lib/python3.6/site-packages/sklearn/base.py:318: UserWarning: Trying to unpickle estimator LinearSVC from version 0.21.2 when using version 0.22.1. This might lead to breaking code or invalid results. Use at your own risk.\n",
      "  UserWarning)\n"
     ]
    },
    {
     "name": "stdout",
     "output_type": "stream",
     "text": [
      "Loading the GoogArticle model wich is a <class 'sklearn.svm._classes.LinearSVC'>\n"
     ]
    },
    {
     "name": "stderr",
     "output_type": "stream",
     "text": [
      " 59% [===========         ] (2m 38.289s left)\n",
      "/opt/conda/lib/python3.6/site-packages/sklearn/utils/deprecation.py:144: FutureWarning: The sklearn.svm.classes module is  deprecated in version 0.22 and will be removed in version 0.24. The corresponding classes / functions should instead be imported from sklearn.svm. Anything that cannot be imported from sklearn.svm is now part of the private API.\n",
      "  warnings.warn(message, FutureWarning)\n",
      "/opt/conda/lib/python3.6/site-packages/sklearn/base.py:318: UserWarning: Trying to unpickle estimator LinearSVC from version 0.21.2 when using version 0.22.1. This might lead to breaking code or invalid results. Use at your own risk.\n",
      "  UserWarning)\n"
     ]
    },
    {
     "name": "stdout",
     "output_type": "stream",
     "text": [
      "Loading the GoogArticle model wich is a <class 'sklearn.svm._classes.LinearSVC'>\n"
     ]
    },
    {
     "name": "stderr",
     "output_type": "stream",
     "text": [
      " 59% [===========         ] (2m 35.159s left)\n",
      "/opt/conda/lib/python3.6/site-packages/sklearn/utils/deprecation.py:144: FutureWarning: The sklearn.svm.classes module is  deprecated in version 0.22 and will be removed in version 0.24. The corresponding classes / functions should instead be imported from sklearn.svm. Anything that cannot be imported from sklearn.svm is now part of the private API.\n",
      "  warnings.warn(message, FutureWarning)\n"
     ]
    },
    {
     "name": "stdout",
     "output_type": "stream",
     "text": [
      "Loading the GoogArticle model wich is a <class 'sklearn.svm._classes.LinearSVC'>\n"
     ]
    },
    {
     "name": "stderr",
     "output_type": "stream",
     "text": [
      "/opt/conda/lib/python3.6/site-packages/sklearn/base.py:318: UserWarning: Trying to unpickle estimator LinearSVC from version 0.21.2 when using version 0.22.1. This might lead to breaking code or invalid results. Use at your own risk.\n",
      "  UserWarning)\n",
      " 60% [============        ] (2m 35.782s left)\n",
      "/opt/conda/lib/python3.6/site-packages/sklearn/utils/deprecation.py:144: FutureWarning: The sklearn.svm.classes module is  deprecated in version 0.22 and will be removed in version 0.24. The corresponding classes / functions should instead be imported from sklearn.svm. Anything that cannot be imported from sklearn.svm is now part of the private API.\n",
      "  warnings.warn(message, FutureWarning)\n"
     ]
    },
    {
     "name": "stdout",
     "output_type": "stream",
     "text": [
      "Loading the GoogArticle model wich is a <class 'sklearn.svm._classes.LinearSVC'>\n"
     ]
    },
    {
     "name": "stderr",
     "output_type": "stream",
     "text": [
      "/opt/conda/lib/python3.6/site-packages/sklearn/base.py:318: UserWarning: Trying to unpickle estimator LinearSVC from version 0.21.2 when using version 0.22.1. This might lead to breaking code or invalid results. Use at your own risk.\n",
      "  UserWarning)\n",
      " 60% [============        ] (2m 32.75s left)\n",
      "/opt/conda/lib/python3.6/site-packages/sklearn/utils/deprecation.py:144: FutureWarning: The sklearn.svm.classes module is  deprecated in version 0.22 and will be removed in version 0.24. The corresponding classes / functions should instead be imported from sklearn.svm. Anything that cannot be imported from sklearn.svm is now part of the private API.\n",
      "  warnings.warn(message, FutureWarning)\n",
      "/opt/conda/lib/python3.6/site-packages/sklearn/base.py:318: UserWarning: Trying to unpickle estimator LinearSVC from version 0.21.2 when using version 0.22.1. This might lead to breaking code or invalid results. Use at your own risk.\n",
      "  UserWarning)\n"
     ]
    },
    {
     "name": "stdout",
     "output_type": "stream",
     "text": [
      "Loading the GoogArticle model wich is a <class 'sklearn.svm._classes.LinearSVC'>\n"
     ]
    },
    {
     "name": "stderr",
     "output_type": "stream",
     "text": [
      " 61% [============        ] (2m 29.768s left)\n",
      "/opt/conda/lib/python3.6/site-packages/sklearn/utils/deprecation.py:144: FutureWarning: The sklearn.svm.classes module is  deprecated in version 0.22 and will be removed in version 0.24. The corresponding classes / functions should instead be imported from sklearn.svm. Anything that cannot be imported from sklearn.svm is now part of the private API.\n",
      "  warnings.warn(message, FutureWarning)\n",
      "/opt/conda/lib/python3.6/site-packages/sklearn/base.py:318: UserWarning: Trying to unpickle estimator LinearSVC from version 0.21.2 when using version 0.22.1. This might lead to breaking code or invalid results. Use at your own risk.\n",
      "  UserWarning)\n"
     ]
    },
    {
     "name": "stdout",
     "output_type": "stream",
     "text": [
      "Loading the GoogArticle model wich is a <class 'sklearn.svm._classes.LinearSVC'>\n"
     ]
    },
    {
     "name": "stderr",
     "output_type": "stream",
     "text": [
      " 61% [============        ] (2m 28.156s left)\n",
      "/opt/conda/lib/python3.6/site-packages/sklearn/utils/deprecation.py:144: FutureWarning: The sklearn.svm.classes module is  deprecated in version 0.22 and will be removed in version 0.24. The corresponding classes / functions should instead be imported from sklearn.svm. Anything that cannot be imported from sklearn.svm is now part of the private API.\n",
      "  warnings.warn(message, FutureWarning)\n"
     ]
    },
    {
     "name": "stdout",
     "output_type": "stream",
     "text": [
      "Loading the GoogArticle model wich is a <class 'sklearn.svm._classes.LinearSVC'>\n"
     ]
    },
    {
     "name": "stderr",
     "output_type": "stream",
     "text": [
      "/opt/conda/lib/python3.6/site-packages/sklearn/base.py:318: UserWarning: Trying to unpickle estimator LinearSVC from version 0.21.2 when using version 0.22.1. This might lead to breaking code or invalid results. Use at your own risk.\n",
      "  UserWarning)\n",
      " 62% [============        ] (2m 25.841s left)\n",
      "/opt/conda/lib/python3.6/site-packages/sklearn/utils/deprecation.py:144: FutureWarning: The sklearn.svm.classes module is  deprecated in version 0.22 and will be removed in version 0.24. The corresponding classes / functions should instead be imported from sklearn.svm. Anything that cannot be imported from sklearn.svm is now part of the private API.\n",
      "  warnings.warn(message, FutureWarning)\n",
      "/opt/conda/lib/python3.6/site-packages/sklearn/base.py:318: UserWarning: Trying to unpickle estimator LinearSVC from version 0.21.2 when using version 0.22.1. This might lead to breaking code or invalid results. Use at your own risk.\n",
      "  UserWarning)\n"
     ]
    },
    {
     "name": "stdout",
     "output_type": "stream",
     "text": [
      "Loading the GoogArticle model wich is a <class 'sklearn.svm._classes.LinearSVC'>\n"
     ]
    },
    {
     "name": "stderr",
     "output_type": "stream",
     "text": [
      " 62% [============        ] (2m 24.359s left)\n",
      "/opt/conda/lib/python3.6/site-packages/sklearn/utils/deprecation.py:144: FutureWarning: The sklearn.svm.classes module is  deprecated in version 0.22 and will be removed in version 0.24. The corresponding classes / functions should instead be imported from sklearn.svm. Anything that cannot be imported from sklearn.svm is now part of the private API.\n",
      "  warnings.warn(message, FutureWarning)\n",
      "/opt/conda/lib/python3.6/site-packages/sklearn/base.py:318: UserWarning: Trying to unpickle estimator LinearSVC from version 0.21.2 when using version 0.22.1. This might lead to breaking code or invalid results. Use at your own risk.\n",
      "  UserWarning)\n"
     ]
    },
    {
     "name": "stdout",
     "output_type": "stream",
     "text": [
      "Loading the GoogArticle model wich is a <class 'sklearn.svm._classes.LinearSVC'>\n"
     ]
    },
    {
     "name": "stderr",
     "output_type": "stream",
     "text": [
      " 63% [============        ] (2m 24.44s left)\n",
      "/opt/conda/lib/python3.6/site-packages/sklearn/utils/deprecation.py:144: FutureWarning: The sklearn.svm.classes module is  deprecated in version 0.22 and will be removed in version 0.24. The corresponding classes / functions should instead be imported from sklearn.svm. Anything that cannot be imported from sklearn.svm is now part of the private API.\n",
      "  warnings.warn(message, FutureWarning)\n",
      "/opt/conda/lib/python3.6/site-packages/sklearn/base.py:318: UserWarning: Trying to unpickle estimator LinearSVC from version 0.21.2 when using version 0.22.1. This might lead to breaking code or invalid results. Use at your own risk.\n",
      "  UserWarning)\n"
     ]
    },
    {
     "name": "stdout",
     "output_type": "stream",
     "text": [
      "Loading the GoogArticle model wich is a <class 'sklearn.svm._classes.LinearSVC'>\n"
     ]
    },
    {
     "name": "stderr",
     "output_type": "stream",
     "text": [
      " 63% [============        ] (2m 26.422s left)\n",
      "/opt/conda/lib/python3.6/site-packages/sklearn/utils/deprecation.py:144: FutureWarning: The sklearn.svm.classes module is  deprecated in version 0.22 and will be removed in version 0.24. The corresponding classes / functions should instead be imported from sklearn.svm. Anything that cannot be imported from sklearn.svm is now part of the private API.\n",
      "  warnings.warn(message, FutureWarning)\n"
     ]
    },
    {
     "name": "stdout",
     "output_type": "stream",
     "text": [
      "Loading the GoogArticle model wich is a <class 'sklearn.svm._classes.LinearSVC'>\n"
     ]
    },
    {
     "name": "stderr",
     "output_type": "stream",
     "text": [
      "/opt/conda/lib/python3.6/site-packages/sklearn/base.py:318: UserWarning: Trying to unpickle estimator LinearSVC from version 0.21.2 when using version 0.22.1. This might lead to breaking code or invalid results. Use at your own risk.\n",
      "  UserWarning)\n",
      " 64% [============        ] (2m 23.71s left)\n",
      "/opt/conda/lib/python3.6/site-packages/sklearn/utils/deprecation.py:144: FutureWarning: The sklearn.svm.classes module is  deprecated in version 0.22 and will be removed in version 0.24. The corresponding classes / functions should instead be imported from sklearn.svm. Anything that cannot be imported from sklearn.svm is now part of the private API.\n",
      "  warnings.warn(message, FutureWarning)\n",
      "/opt/conda/lib/python3.6/site-packages/sklearn/base.py:318: UserWarning: Trying to unpickle estimator LinearSVC from version 0.21.2 when using version 0.22.1. This might lead to breaking code or invalid results. Use at your own risk.\n",
      "  UserWarning)\n"
     ]
    },
    {
     "name": "stdout",
     "output_type": "stream",
     "text": [
      "Loading the GoogArticle model wich is a <class 'sklearn.svm._classes.LinearSVC'>\n"
     ]
    },
    {
     "name": "stderr",
     "output_type": "stream",
     "text": [
      " 64% [============        ] (2m 20.721s left)\n",
      "/opt/conda/lib/python3.6/site-packages/sklearn/utils/deprecation.py:144: FutureWarning: The sklearn.svm.classes module is  deprecated in version 0.22 and will be removed in version 0.24. The corresponding classes / functions should instead be imported from sklearn.svm. Anything that cannot be imported from sklearn.svm is now part of the private API.\n",
      "  warnings.warn(message, FutureWarning)\n",
      "/opt/conda/lib/python3.6/site-packages/sklearn/base.py:318: UserWarning: Trying to unpickle estimator LinearSVC from version 0.21.2 when using version 0.22.1. This might lead to breaking code or invalid results. Use at your own risk.\n",
      "  UserWarning)\n"
     ]
    },
    {
     "name": "stdout",
     "output_type": "stream",
     "text": [
      "Loading the GoogArticle model wich is a <class 'sklearn.svm._classes.LinearSVC'>\n"
     ]
    },
    {
     "name": "stderr",
     "output_type": "stream",
     "text": [
      " 65% [=============       ] (2m 19s left)\n",
      "/opt/conda/lib/python3.6/site-packages/sklearn/utils/deprecation.py:144: FutureWarning: The sklearn.svm.classes module is  deprecated in version 0.22 and will be removed in version 0.24. The corresponding classes / functions should instead be imported from sklearn.svm. Anything that cannot be imported from sklearn.svm is now part of the private API.\n",
      "  warnings.warn(message, FutureWarning)\n",
      "/opt/conda/lib/python3.6/site-packages/sklearn/base.py:318: UserWarning: Trying to unpickle estimator LinearSVC from version 0.21.2 when using version 0.22.1. This might lead to breaking code or invalid results. Use at your own risk.\n",
      "  UserWarning)\n"
     ]
    },
    {
     "name": "stdout",
     "output_type": "stream",
     "text": [
      "Loading the GoogArticle model wich is a <class 'sklearn.svm._classes.LinearSVC'>\n"
     ]
    },
    {
     "name": "stderr",
     "output_type": "stream",
     "text": [
      " 65% [=============       ] (2m 16.156s left)\n",
      "/opt/conda/lib/python3.6/site-packages/sklearn/utils/deprecation.py:144: FutureWarning: The sklearn.svm.classes module is  deprecated in version 0.22 and will be removed in version 0.24. The corresponding classes / functions should instead be imported from sklearn.svm. Anything that cannot be imported from sklearn.svm is now part of the private API.\n",
      "  warnings.warn(message, FutureWarning)\n",
      "/opt/conda/lib/python3.6/site-packages/sklearn/base.py:318: UserWarning: Trying to unpickle estimator LinearSVC from version 0.21.2 when using version 0.22.1. This might lead to breaking code or invalid results. Use at your own risk.\n",
      "  UserWarning)\n"
     ]
    },
    {
     "name": "stdout",
     "output_type": "stream",
     "text": [
      "Loading the GoogArticle model wich is a <class 'sklearn.svm._classes.LinearSVC'>\n"
     ]
    },
    {
     "name": "stderr",
     "output_type": "stream",
     "text": [
      " 66% [=============       ] (2m 15.841s left)\n",
      "/opt/conda/lib/python3.6/site-packages/sklearn/utils/deprecation.py:144: FutureWarning: The sklearn.svm.classes module is  deprecated in version 0.22 and will be removed in version 0.24. The corresponding classes / functions should instead be imported from sklearn.svm. Anything that cannot be imported from sklearn.svm is now part of the private API.\n",
      "  warnings.warn(message, FutureWarning)\n",
      "/opt/conda/lib/python3.6/site-packages/sklearn/base.py:318: UserWarning: Trying to unpickle estimator LinearSVC from version 0.21.2 when using version 0.22.1. This might lead to breaking code or invalid results. Use at your own risk.\n",
      "  UserWarning)\n"
     ]
    },
    {
     "name": "stdout",
     "output_type": "stream",
     "text": [
      "Loading the GoogArticle model wich is a <class 'sklearn.svm._classes.LinearSVC'>\n"
     ]
    },
    {
     "name": "stderr",
     "output_type": "stream",
     "text": [
      " 66% [=============       ] (2m 14.16s left)\n",
      "/opt/conda/lib/python3.6/site-packages/sklearn/utils/deprecation.py:144: FutureWarning: The sklearn.svm.classes module is  deprecated in version 0.22 and will be removed in version 0.24. The corresponding classes / functions should instead be imported from sklearn.svm. Anything that cannot be imported from sklearn.svm is now part of the private API.\n",
      "  warnings.warn(message, FutureWarning)\n",
      "/opt/conda/lib/python3.6/site-packages/sklearn/base.py:318: UserWarning: Trying to unpickle estimator LinearSVC from version 0.21.2 when using version 0.22.1. This might lead to breaking code or invalid results. Use at your own risk.\n",
      "  UserWarning)\n"
     ]
    },
    {
     "name": "stdout",
     "output_type": "stream",
     "text": [
      "Loading the GoogArticle model wich is a <class 'sklearn.svm._classes.LinearSVC'>\n"
     ]
    },
    {
     "name": "stderr",
     "output_type": "stream",
     "text": [
      " 67% [=============       ] (2m 11.436s left)\n",
      "/opt/conda/lib/python3.6/site-packages/sklearn/utils/deprecation.py:144: FutureWarning: The sklearn.svm.classes module is  deprecated in version 0.22 and will be removed in version 0.24. The corresponding classes / functions should instead be imported from sklearn.svm. Anything that cannot be imported from sklearn.svm is now part of the private API.\n",
      "  warnings.warn(message, FutureWarning)\n",
      "/opt/conda/lib/python3.6/site-packages/sklearn/base.py:318: UserWarning: Trying to unpickle estimator LinearSVC from version 0.21.2 when using version 0.22.1. This might lead to breaking code or invalid results. Use at your own risk.\n",
      "  UserWarning)\n"
     ]
    },
    {
     "name": "stdout",
     "output_type": "stream",
     "text": [
      "Loading the GoogArticle model wich is a <class 'sklearn.svm._classes.LinearSVC'>\n"
     ]
    },
    {
     "name": "stderr",
     "output_type": "stream",
     "text": [
      " 67% [=============       ] (2m 11.625s left)\n",
      "/opt/conda/lib/python3.6/site-packages/sklearn/utils/deprecation.py:144: FutureWarning: The sklearn.svm.classes module is  deprecated in version 0.22 and will be removed in version 0.24. The corresponding classes / functions should instead be imported from sklearn.svm. Anything that cannot be imported from sklearn.svm is now part of the private API.\n",
      "  warnings.warn(message, FutureWarning)\n",
      "/opt/conda/lib/python3.6/site-packages/sklearn/base.py:318: UserWarning: Trying to unpickle estimator LinearSVC from version 0.21.2 when using version 0.22.1. This might lead to breaking code or invalid results. Use at your own risk.\n",
      "  UserWarning)\n"
     ]
    },
    {
     "name": "stdout",
     "output_type": "stream",
     "text": [
      "Loading the GoogArticle model wich is a <class 'sklearn.svm._classes.LinearSVC'>\n"
     ]
    },
    {
     "name": "stderr",
     "output_type": "stream",
     "text": [
      " 68% [=============       ] (2m 9.056s left)\n",
      "/opt/conda/lib/python3.6/site-packages/sklearn/utils/deprecation.py:144: FutureWarning: The sklearn.svm.classes module is  deprecated in version 0.22 and will be removed in version 0.24. The corresponding classes / functions should instead be imported from sklearn.svm. Anything that cannot be imported from sklearn.svm is now part of the private API.\n",
      "  warnings.warn(message, FutureWarning)\n"
     ]
    },
    {
     "name": "stdout",
     "output_type": "stream",
     "text": [
      "Loading the GoogArticle model wich is a <class 'sklearn.svm._classes.LinearSVC'>\n"
     ]
    },
    {
     "name": "stderr",
     "output_type": "stream",
     "text": [
      "/opt/conda/lib/python3.6/site-packages/sklearn/base.py:318: UserWarning: Trying to unpickle estimator LinearSVC from version 0.21.2 when using version 0.22.1. This might lead to breaking code or invalid results. Use at your own risk.\n",
      "  UserWarning)\n",
      " 68% [=============       ] (2m 9.383s left)\n",
      "/opt/conda/lib/python3.6/site-packages/sklearn/utils/deprecation.py:144: FutureWarning: The sklearn.svm.classes module is  deprecated in version 0.22 and will be removed in version 0.24. The corresponding classes / functions should instead be imported from sklearn.svm. Anything that cannot be imported from sklearn.svm is now part of the private API.\n",
      "  warnings.warn(message, FutureWarning)\n",
      "/opt/conda/lib/python3.6/site-packages/sklearn/base.py:318: UserWarning: Trying to unpickle estimator LinearSVC from version 0.21.2 when using version 0.22.1. This might lead to breaking code or invalid results. Use at your own risk.\n",
      "  UserWarning)\n"
     ]
    },
    {
     "name": "stdout",
     "output_type": "stream",
     "text": [
      "Loading the GoogArticle model wich is a <class 'sklearn.svm._classes.LinearSVC'>\n"
     ]
    },
    {
     "name": "stderr",
     "output_type": "stream",
     "text": [
      " 69% [=============       ] (2m 6.692s left)\n",
      "/opt/conda/lib/python3.6/site-packages/sklearn/utils/deprecation.py:144: FutureWarning: The sklearn.svm.classes module is  deprecated in version 0.22 and will be removed in version 0.24. The corresponding classes / functions should instead be imported from sklearn.svm. Anything that cannot be imported from sklearn.svm is now part of the private API.\n",
      "  warnings.warn(message, FutureWarning)\n",
      "/opt/conda/lib/python3.6/site-packages/sklearn/base.py:318: UserWarning: Trying to unpickle estimator LinearSVC from version 0.21.2 when using version 0.22.1. This might lead to breaking code or invalid results. Use at your own risk.\n",
      "  UserWarning)\n"
     ]
    },
    {
     "name": "stdout",
     "output_type": "stream",
     "text": [
      "Loading the GoogArticle model wich is a <class 'sklearn.svm._classes.LinearSVC'>\n"
     ]
    },
    {
     "name": "stderr",
     "output_type": "stream",
     "text": [
      " 69% [=============       ] (2m 4.095s left)\n",
      "/opt/conda/lib/python3.6/site-packages/sklearn/utils/deprecation.py:144: FutureWarning: The sklearn.svm.classes module is  deprecated in version 0.22 and will be removed in version 0.24. The corresponding classes / functions should instead be imported from sklearn.svm. Anything that cannot be imported from sklearn.svm is now part of the private API.\n",
      "  warnings.warn(message, FutureWarning)\n",
      "/opt/conda/lib/python3.6/site-packages/sklearn/base.py:318: UserWarning: Trying to unpickle estimator LinearSVC from version 0.21.2 when using version 0.22.1. This might lead to breaking code or invalid results. Use at your own risk.\n",
      "  UserWarning)\n"
     ]
    },
    {
     "name": "stdout",
     "output_type": "stream",
     "text": [
      "Loading the GoogArticle model wich is a <class 'sklearn.svm._classes.LinearSVC'>\n"
     ]
    },
    {
     "name": "stderr",
     "output_type": "stream",
     "text": [
      " 70% [==============      ] (2m 1.603s left)\n",
      "/opt/conda/lib/python3.6/site-packages/sklearn/utils/deprecation.py:144: FutureWarning: The sklearn.svm.classes module is  deprecated in version 0.22 and will be removed in version 0.24. The corresponding classes / functions should instead be imported from sklearn.svm. Anything that cannot be imported from sklearn.svm is now part of the private API.\n",
      "  warnings.warn(message, FutureWarning)\n",
      "/opt/conda/lib/python3.6/site-packages/sklearn/base.py:318: UserWarning: Trying to unpickle estimator LinearSVC from version 0.21.2 when using version 0.22.1. This might lead to breaking code or invalid results. Use at your own risk.\n",
      "  UserWarning)\n"
     ]
    },
    {
     "name": "stdout",
     "output_type": "stream",
     "text": [
      "Loading the GoogArticle model wich is a <class 'sklearn.svm._classes.LinearSVC'>\n"
     ]
    },
    {
     "name": "stderr",
     "output_type": "stream",
     "text": [
      " 70% [==============      ] (1m 59.873s left)\n",
      "/opt/conda/lib/python3.6/site-packages/sklearn/utils/deprecation.py:144: FutureWarning: The sklearn.svm.classes module is  deprecated in version 0.22 and will be removed in version 0.24. The corresponding classes / functions should instead be imported from sklearn.svm. Anything that cannot be imported from sklearn.svm is now part of the private API.\n",
      "  warnings.warn(message, FutureWarning)\n",
      "/opt/conda/lib/python3.6/site-packages/sklearn/base.py:318: UserWarning: Trying to unpickle estimator LinearSVC from version 0.21.2 when using version 0.22.1. This might lead to breaking code or invalid results. Use at your own risk.\n",
      "  UserWarning)\n"
     ]
    },
    {
     "name": "stdout",
     "output_type": "stream",
     "text": [
      "Loading the GoogArticle model wich is a <class 'sklearn.svm._classes.LinearSVC'>\n"
     ]
    },
    {
     "name": "stderr",
     "output_type": "stream",
     "text": [
      " 71% [==============      ] (1m 57.723s left)\n",
      "/opt/conda/lib/python3.6/site-packages/sklearn/utils/deprecation.py:144: FutureWarning: The sklearn.svm.classes module is  deprecated in version 0.22 and will be removed in version 0.24. The corresponding classes / functions should instead be imported from sklearn.svm. Anything that cannot be imported from sklearn.svm is now part of the private API.\n",
      "  warnings.warn(message, FutureWarning)\n",
      "/opt/conda/lib/python3.6/site-packages/sklearn/base.py:318: UserWarning: Trying to unpickle estimator LinearSVC from version 0.21.2 when using version 0.22.1. This might lead to breaking code or invalid results. Use at your own risk.\n",
      "  UserWarning)\n"
     ]
    },
    {
     "name": "stdout",
     "output_type": "stream",
     "text": [
      "Loading the GoogArticle model wich is a <class 'sklearn.svm._classes.LinearSVC'>\n"
     ]
    },
    {
     "name": "stderr",
     "output_type": "stream",
     "text": [
      " 71% [==============      ] (1m 55.47s left)\n",
      "/opt/conda/lib/python3.6/site-packages/sklearn/utils/deprecation.py:144: FutureWarning: The sklearn.svm.classes module is  deprecated in version 0.22 and will be removed in version 0.24. The corresponding classes / functions should instead be imported from sklearn.svm. Anything that cannot be imported from sklearn.svm is now part of the private API.\n",
      "  warnings.warn(message, FutureWarning)\n",
      "/opt/conda/lib/python3.6/site-packages/sklearn/base.py:318: UserWarning: Trying to unpickle estimator LinearSVC from version 0.21.2 when using version 0.22.1. This might lead to breaking code or invalid results. Use at your own risk.\n",
      "  UserWarning)\n"
     ]
    },
    {
     "name": "stdout",
     "output_type": "stream",
     "text": [
      "Loading the GoogArticle model wich is a <class 'sklearn.svm._classes.LinearSVC'>\n"
     ]
    },
    {
     "name": "stderr",
     "output_type": "stream",
     "text": [
      " 72% [==============      ] (1m 53.761s left)\n",
      "/opt/conda/lib/python3.6/site-packages/sklearn/utils/deprecation.py:144: FutureWarning: The sklearn.svm.classes module is  deprecated in version 0.22 and will be removed in version 0.24. The corresponding classes / functions should instead be imported from sklearn.svm. Anything that cannot be imported from sklearn.svm is now part of the private API.\n",
      "  warnings.warn(message, FutureWarning)\n",
      "/opt/conda/lib/python3.6/site-packages/sklearn/base.py:318: UserWarning: Trying to unpickle estimator LinearSVC from version 0.21.2 when using version 0.22.1. This might lead to breaking code or invalid results. Use at your own risk.\n",
      "  UserWarning)\n"
     ]
    },
    {
     "name": "stdout",
     "output_type": "stream",
     "text": [
      "Loading the GoogArticle model wich is a <class 'sklearn.svm._classes.LinearSVC'>\n"
     ]
    },
    {
     "name": "stderr",
     "output_type": "stream",
     "text": [
      " 72% [==============      ] (1m 51.277s left)\n",
      "/opt/conda/lib/python3.6/site-packages/sklearn/utils/deprecation.py:144: FutureWarning: The sklearn.svm.classes module is  deprecated in version 0.22 and will be removed in version 0.24. The corresponding classes / functions should instead be imported from sklearn.svm. Anything that cannot be imported from sklearn.svm is now part of the private API.\n",
      "  warnings.warn(message, FutureWarning)\n",
      "/opt/conda/lib/python3.6/site-packages/sklearn/base.py:318: UserWarning: Trying to unpickle estimator LinearSVC from version 0.21.2 when using version 0.22.1. This might lead to breaking code or invalid results. Use at your own risk.\n",
      "  UserWarning)\n"
     ]
    },
    {
     "name": "stdout",
     "output_type": "stream",
     "text": [
      "Loading the GoogArticle model wich is a <class 'sklearn.svm._classes.LinearSVC'>\n"
     ]
    },
    {
     "name": "stderr",
     "output_type": "stream",
     "text": [
      " 73% [==============      ] (1m 48.639s left)\n",
      "/opt/conda/lib/python3.6/site-packages/sklearn/utils/deprecation.py:144: FutureWarning: The sklearn.svm.classes module is  deprecated in version 0.22 and will be removed in version 0.24. The corresponding classes / functions should instead be imported from sklearn.svm. Anything that cannot be imported from sklearn.svm is now part of the private API.\n",
      "  warnings.warn(message, FutureWarning)\n"
     ]
    },
    {
     "name": "stdout",
     "output_type": "stream",
     "text": [
      "Loading the GoogArticle model wich is a <class 'sklearn.svm._classes.LinearSVC'>\n"
     ]
    },
    {
     "name": "stderr",
     "output_type": "stream",
     "text": [
      "/opt/conda/lib/python3.6/site-packages/sklearn/base.py:318: UserWarning: Trying to unpickle estimator LinearSVC from version 0.21.2 when using version 0.22.1. This might lead to breaking code or invalid results. Use at your own risk.\n",
      "  UserWarning)\n",
      " 73% [==============      ] (1m 48.031s left)\n",
      "/opt/conda/lib/python3.6/site-packages/sklearn/utils/deprecation.py:144: FutureWarning: The sklearn.svm.classes module is  deprecated in version 0.22 and will be removed in version 0.24. The corresponding classes / functions should instead be imported from sklearn.svm. Anything that cannot be imported from sklearn.svm is now part of the private API.\n",
      "  warnings.warn(message, FutureWarning)\n",
      "/opt/conda/lib/python3.6/site-packages/sklearn/base.py:318: UserWarning: Trying to unpickle estimator LinearSVC from version 0.21.2 when using version 0.22.1. This might lead to breaking code or invalid results. Use at your own risk.\n",
      "  UserWarning)\n"
     ]
    },
    {
     "name": "stdout",
     "output_type": "stream",
     "text": [
      "Loading the GoogArticle model wich is a <class 'sklearn.svm._classes.LinearSVC'>\n"
     ]
    },
    {
     "name": "stderr",
     "output_type": "stream",
     "text": [
      " 74% [==============      ] (1m 45.375s left)\n",
      "/opt/conda/lib/python3.6/site-packages/sklearn/utils/deprecation.py:144: FutureWarning: The sklearn.svm.classes module is  deprecated in version 0.22 and will be removed in version 0.24. The corresponding classes / functions should instead be imported from sklearn.svm. Anything that cannot be imported from sklearn.svm is now part of the private API.\n",
      "  warnings.warn(message, FutureWarning)\n",
      "/opt/conda/lib/python3.6/site-packages/sklearn/base.py:318: UserWarning: Trying to unpickle estimator LinearSVC from version 0.21.2 when using version 0.22.1. This might lead to breaking code or invalid results. Use at your own risk.\n",
      "  UserWarning)\n"
     ]
    },
    {
     "name": "stdout",
     "output_type": "stream",
     "text": [
      "Loading the GoogArticle model wich is a <class 'sklearn.svm._classes.LinearSVC'>\n"
     ]
    },
    {
     "name": "stderr",
     "output_type": "stream",
     "text": [
      " 74% [==============      ] (1m 42.763s left)\n",
      "/opt/conda/lib/python3.6/site-packages/sklearn/utils/deprecation.py:144: FutureWarning: The sklearn.svm.classes module is  deprecated in version 0.22 and will be removed in version 0.24. The corresponding classes / functions should instead be imported from sklearn.svm. Anything that cannot be imported from sklearn.svm is now part of the private API.\n",
      "  warnings.warn(message, FutureWarning)\n",
      "/opt/conda/lib/python3.6/site-packages/sklearn/base.py:318: UserWarning: Trying to unpickle estimator LinearSVC from version 0.21.2 when using version 0.22.1. This might lead to breaking code or invalid results. Use at your own risk.\n",
      "  UserWarning)\n"
     ]
    },
    {
     "name": "stdout",
     "output_type": "stream",
     "text": [
      "Loading the GoogArticle model wich is a <class 'sklearn.svm._classes.LinearSVC'>\n"
     ]
    },
    {
     "name": "stderr",
     "output_type": "stream",
     "text": [
      " 75% [===============     ] (1m 40.377s left)\n",
      "/opt/conda/lib/python3.6/site-packages/sklearn/utils/deprecation.py:144: FutureWarning: The sklearn.svm.classes module is  deprecated in version 0.22 and will be removed in version 0.24. The corresponding classes / functions should instead be imported from sklearn.svm. Anything that cannot be imported from sklearn.svm is now part of the private API.\n",
      "  warnings.warn(message, FutureWarning)\n",
      "/opt/conda/lib/python3.6/site-packages/sklearn/base.py:318: UserWarning: Trying to unpickle estimator LinearSVC from version 0.21.2 when using version 0.22.1. This might lead to breaking code or invalid results. Use at your own risk.\n",
      "  UserWarning)\n"
     ]
    },
    {
     "name": "stdout",
     "output_type": "stream",
     "text": [
      "Loading the GoogArticle model wich is a <class 'sklearn.svm._classes.LinearSVC'>\n"
     ]
    },
    {
     "name": "stderr",
     "output_type": "stream",
     "text": [
      " 75% [===============     ] (1m 37.849s left)\n",
      "/opt/conda/lib/python3.6/site-packages/sklearn/utils/deprecation.py:144: FutureWarning: The sklearn.svm.classes module is  deprecated in version 0.22 and will be removed in version 0.24. The corresponding classes / functions should instead be imported from sklearn.svm. Anything that cannot be imported from sklearn.svm is now part of the private API.\n",
      "  warnings.warn(message, FutureWarning)\n",
      "/opt/conda/lib/python3.6/site-packages/sklearn/base.py:318: UserWarning: Trying to unpickle estimator LinearSVC from version 0.21.2 when using version 0.22.1. This might lead to breaking code or invalid results. Use at your own risk.\n",
      "  UserWarning)\n"
     ]
    },
    {
     "name": "stdout",
     "output_type": "stream",
     "text": [
      "Loading the GoogArticle model wich is a <class 'sklearn.svm._classes.LinearSVC'>\n"
     ]
    },
    {
     "name": "stderr",
     "output_type": "stream",
     "text": [
      " 76% [===============     ] (1m 37.19s left)\n",
      " 76% [===============     ] (1m 34.496s left)\n",
      "/opt/conda/lib/python3.6/site-packages/sklearn/utils/deprecation.py:144: FutureWarning: The sklearn.svm.classes module is  deprecated in version 0.22 and will be removed in version 0.24. The corresponding classes / functions should instead be imported from sklearn.svm. Anything that cannot be imported from sklearn.svm is now part of the private API.\n",
      "  warnings.warn(message, FutureWarning)\n",
      "/opt/conda/lib/python3.6/site-packages/sklearn/base.py:318: UserWarning: Trying to unpickle estimator LinearSVC from version 0.21.2 when using version 0.22.1. This might lead to breaking code or invalid results. Use at your own risk.\n",
      "  UserWarning)\n"
     ]
    },
    {
     "name": "stdout",
     "output_type": "stream",
     "text": [
      "Loading the GoogArticle model wich is a <class 'sklearn.svm._classes.LinearSVC'>\n"
     ]
    },
    {
     "name": "stderr",
     "output_type": "stream",
     "text": [
      "/opt/conda/lib/python3.6/site-packages/sklearn/utils/deprecation.py:144: FutureWarning: The sklearn.svm.classes module is  deprecated in version 0.22 and will be removed in version 0.24. The corresponding classes / functions should instead be imported from sklearn.svm. Anything that cannot be imported from sklearn.svm is now part of the private API.\n",
      "  warnings.warn(message, FutureWarning)\n",
      "/opt/conda/lib/python3.6/site-packages/sklearn/base.py:318: UserWarning: Trying to unpickle estimator LinearSVC from version 0.21.2 when using version 0.22.1. This might lead to breaking code or invalid results. Use at your own risk.\n",
      "  UserWarning)\n"
     ]
    },
    {
     "name": "stdout",
     "output_type": "stream",
     "text": [
      "Loading the GoogArticle model wich is a <class 'sklearn.svm._classes.LinearSVC'>\n"
     ]
    },
    {
     "name": "stderr",
     "output_type": "stream",
     "text": [
      " 77% [===============     ] (1m 32.199s left)\n",
      "/opt/conda/lib/python3.6/site-packages/sklearn/utils/deprecation.py:144: FutureWarning: The sklearn.svm.classes module is  deprecated in version 0.22 and will be removed in version 0.24. The corresponding classes / functions should instead be imported from sklearn.svm. Anything that cannot be imported from sklearn.svm is now part of the private API.\n",
      "  warnings.warn(message, FutureWarning)\n",
      "/opt/conda/lib/python3.6/site-packages/sklearn/base.py:318: UserWarning: Trying to unpickle estimator LinearSVC from version 0.21.2 when using version 0.22.1. This might lead to breaking code or invalid results. Use at your own risk.\n",
      "  UserWarning)\n"
     ]
    },
    {
     "name": "stdout",
     "output_type": "stream",
     "text": [
      "Loading the GoogArticle model wich is a <class 'sklearn.svm._classes.LinearSVC'>\n"
     ]
    },
    {
     "name": "stderr",
     "output_type": "stream",
     "text": [
      " 77% [===============     ] (1m 29.731s left)\n",
      "/opt/conda/lib/python3.6/site-packages/sklearn/utils/deprecation.py:144: FutureWarning: The sklearn.svm.classes module is  deprecated in version 0.22 and will be removed in version 0.24. The corresponding classes / functions should instead be imported from sklearn.svm. Anything that cannot be imported from sklearn.svm is now part of the private API.\n",
      "  warnings.warn(message, FutureWarning)\n",
      "/opt/conda/lib/python3.6/site-packages/sklearn/base.py:318: UserWarning: Trying to unpickle estimator LinearSVC from version 0.21.2 when using version 0.22.1. This might lead to breaking code or invalid results. Use at your own risk.\n",
      "  UserWarning)\n"
     ]
    },
    {
     "name": "stdout",
     "output_type": "stream",
     "text": [
      "Loading the GoogArticle model wich is a <class 'sklearn.svm._classes.LinearSVC'>\n"
     ]
    },
    {
     "name": "stderr",
     "output_type": "stream",
     "text": [
      " 78% [===============     ] (1m 27.542s left)\n",
      "/opt/conda/lib/python3.6/site-packages/sklearn/utils/deprecation.py:144: FutureWarning: The sklearn.svm.classes module is  deprecated in version 0.22 and will be removed in version 0.24. The corresponding classes / functions should instead be imported from sklearn.svm. Anything that cannot be imported from sklearn.svm is now part of the private API.\n",
      "  warnings.warn(message, FutureWarning)\n"
     ]
    },
    {
     "name": "stdout",
     "output_type": "stream",
     "text": [
      "Loading the GoogArticle model wich is a <class 'sklearn.svm._classes.LinearSVC'>\n"
     ]
    },
    {
     "name": "stderr",
     "output_type": "stream",
     "text": [
      "/opt/conda/lib/python3.6/site-packages/sklearn/base.py:318: UserWarning: Trying to unpickle estimator LinearSVC from version 0.21.2 when using version 0.22.1. This might lead to breaking code or invalid results. Use at your own risk.\n",
      "  UserWarning)\n",
      " 78% [===============     ] (1m 25.23s left)\n",
      "/opt/conda/lib/python3.6/site-packages/sklearn/utils/deprecation.py:144: FutureWarning: The sklearn.svm.classes module is  deprecated in version 0.22 and will be removed in version 0.24. The corresponding classes / functions should instead be imported from sklearn.svm. Anything that cannot be imported from sklearn.svm is now part of the private API.\n",
      "  warnings.warn(message, FutureWarning)\n",
      "/opt/conda/lib/python3.6/site-packages/sklearn/base.py:318: UserWarning: Trying to unpickle estimator LinearSVC from version 0.21.2 when using version 0.22.1. This might lead to breaking code or invalid results. Use at your own risk.\n",
      "  UserWarning)\n"
     ]
    },
    {
     "name": "stdout",
     "output_type": "stream",
     "text": [
      "Loading the GoogArticle model wich is a <class 'sklearn.svm._classes.LinearSVC'>\n"
     ]
    },
    {
     "name": "stderr",
     "output_type": "stream",
     "text": [
      " 79% [===============     ] (1m 22.72s left)\n",
      "/opt/conda/lib/python3.6/site-packages/sklearn/utils/deprecation.py:144: FutureWarning: The sklearn.svm.classes module is  deprecated in version 0.22 and will be removed in version 0.24. The corresponding classes / functions should instead be imported from sklearn.svm. Anything that cannot be imported from sklearn.svm is now part of the private API.\n",
      "  warnings.warn(message, FutureWarning)\n",
      "/opt/conda/lib/python3.6/site-packages/sklearn/base.py:318: UserWarning: Trying to unpickle estimator LinearSVC from version 0.21.2 when using version 0.22.1. This might lead to breaking code or invalid results. Use at your own risk.\n",
      "  UserWarning)\n"
     ]
    },
    {
     "name": "stdout",
     "output_type": "stream",
     "text": [
      "Loading the GoogArticle model wich is a <class 'sklearn.svm._classes.LinearSVC'>\n"
     ]
    },
    {
     "name": "stderr",
     "output_type": "stream",
     "text": [
      " 79% [===============     ] (1m 20.422s left)\n",
      "/opt/conda/lib/python3.6/site-packages/sklearn/utils/deprecation.py:144: FutureWarning: The sklearn.svm.classes module is  deprecated in version 0.22 and will be removed in version 0.24. The corresponding classes / functions should instead be imported from sklearn.svm. Anything that cannot be imported from sklearn.svm is now part of the private API.\n",
      "  warnings.warn(message, FutureWarning)\n",
      "/opt/conda/lib/python3.6/site-packages/sklearn/base.py:318: UserWarning: Trying to unpickle estimator LinearSVC from version 0.21.2 when using version 0.22.1. This might lead to breaking code or invalid results. Use at your own risk.\n",
      "  UserWarning)\n"
     ]
    },
    {
     "name": "stdout",
     "output_type": "stream",
     "text": [
      "Loading the GoogArticle model wich is a <class 'sklearn.svm._classes.LinearSVC'>\n"
     ]
    },
    {
     "name": "stderr",
     "output_type": "stream",
     "text": [
      " 80% [================    ] (1m 18.117s left)\n",
      "/opt/conda/lib/python3.6/site-packages/sklearn/utils/deprecation.py:144: FutureWarning: The sklearn.svm.classes module is  deprecated in version 0.22 and will be removed in version 0.24. The corresponding classes / functions should instead be imported from sklearn.svm. Anything that cannot be imported from sklearn.svm is now part of the private API.\n",
      "  warnings.warn(message, FutureWarning)\n"
     ]
    },
    {
     "name": "stdout",
     "output_type": "stream",
     "text": [
      "Loading the GoogArticle model wich is a <class 'sklearn.svm._classes.LinearSVC'>\n"
     ]
    },
    {
     "name": "stderr",
     "output_type": "stream",
     "text": [
      "/opt/conda/lib/python3.6/site-packages/sklearn/base.py:318: UserWarning: Trying to unpickle estimator LinearSVC from version 0.21.2 when using version 0.22.1. This might lead to breaking code or invalid results. Use at your own risk.\n",
      "  UserWarning)\n",
      " 80% [================    ] (1m 16.078s left)\n",
      "/opt/conda/lib/python3.6/site-packages/sklearn/utils/deprecation.py:144: FutureWarning: The sklearn.svm.classes module is  deprecated in version 0.22 and will be removed in version 0.24. The corresponding classes / functions should instead be imported from sklearn.svm. Anything that cannot be imported from sklearn.svm is now part of the private API.\n",
      "  warnings.warn(message, FutureWarning)\n",
      "/opt/conda/lib/python3.6/site-packages/sklearn/base.py:318: UserWarning: Trying to unpickle estimator LinearSVC from version 0.21.2 when using version 0.22.1. This might lead to breaking code or invalid results. Use at your own risk.\n",
      "  UserWarning)\n"
     ]
    },
    {
     "name": "stdout",
     "output_type": "stream",
     "text": [
      "Loading the GoogArticle model wich is a <class 'sklearn.svm._classes.LinearSVC'>\n"
     ]
    },
    {
     "name": "stderr",
     "output_type": "stream",
     "text": [
      " 81% [================    ] (1m 13.777s left)\n",
      "/opt/conda/lib/python3.6/site-packages/sklearn/utils/deprecation.py:144: FutureWarning: The sklearn.svm.classes module is  deprecated in version 0.22 and will be removed in version 0.24. The corresponding classes / functions should instead be imported from sklearn.svm. Anything that cannot be imported from sklearn.svm is now part of the private API.\n",
      "  warnings.warn(message, FutureWarning)\n",
      "/opt/conda/lib/python3.6/site-packages/sklearn/base.py:318: UserWarning: Trying to unpickle estimator LinearSVC from version 0.21.2 when using version 0.22.1. This might lead to breaking code or invalid results. Use at your own risk.\n",
      "  UserWarning)\n"
     ]
    },
    {
     "name": "stdout",
     "output_type": "stream",
     "text": [
      "Loading the GoogArticle model wich is a <class 'sklearn.svm._classes.LinearSVC'>\n"
     ]
    },
    {
     "name": "stderr",
     "output_type": "stream",
     "text": [
      " 81% [================    ] (1m 11.448s left)\n",
      "/opt/conda/lib/python3.6/site-packages/sklearn/utils/deprecation.py:144: FutureWarning: The sklearn.svm.classes module is  deprecated in version 0.22 and will be removed in version 0.24. The corresponding classes / functions should instead be imported from sklearn.svm. Anything that cannot be imported from sklearn.svm is now part of the private API.\n",
      "  warnings.warn(message, FutureWarning)\n",
      "/opt/conda/lib/python3.6/site-packages/sklearn/base.py:318: UserWarning: Trying to unpickle estimator LinearSVC from version 0.21.2 when using version 0.22.1. This might lead to breaking code or invalid results. Use at your own risk.\n",
      "  UserWarning)\n"
     ]
    },
    {
     "name": "stdout",
     "output_type": "stream",
     "text": [
      "Loading the GoogArticle model wich is a <class 'sklearn.svm._classes.LinearSVC'>\n"
     ]
    },
    {
     "name": "stderr",
     "output_type": "stream",
     "text": [
      " 82% [================    ] (1m 9.342s left)\n",
      "/opt/conda/lib/python3.6/site-packages/sklearn/utils/deprecation.py:144: FutureWarning: The sklearn.svm.classes module is  deprecated in version 0.22 and will be removed in version 0.24. The corresponding classes / functions should instead be imported from sklearn.svm. Anything that cannot be imported from sklearn.svm is now part of the private API.\n",
      "  warnings.warn(message, FutureWarning)\n",
      "/opt/conda/lib/python3.6/site-packages/sklearn/base.py:318: UserWarning: Trying to unpickle estimator LinearSVC from version 0.21.2 when using version 0.22.1. This might lead to breaking code or invalid results. Use at your own risk.\n",
      "  UserWarning)\n"
     ]
    },
    {
     "name": "stdout",
     "output_type": "stream",
     "text": [
      "Loading the GoogArticle model wich is a <class 'sklearn.svm._classes.LinearSVC'>\n"
     ]
    },
    {
     "name": "stderr",
     "output_type": "stream",
     "text": [
      " 82% [================    ] (1m 7.336s left)\n",
      "/opt/conda/lib/python3.6/site-packages/sklearn/utils/deprecation.py:144: FutureWarning: The sklearn.svm.classes module is  deprecated in version 0.22 and will be removed in version 0.24. The corresponding classes / functions should instead be imported from sklearn.svm. Anything that cannot be imported from sklearn.svm is now part of the private API.\n",
      "  warnings.warn(message, FutureWarning)\n"
     ]
    },
    {
     "name": "stdout",
     "output_type": "stream",
     "text": [
      "Loading the GoogArticle model wich is a <class 'sklearn.svm._classes.LinearSVC'>\n"
     ]
    },
    {
     "name": "stderr",
     "output_type": "stream",
     "text": [
      "/opt/conda/lib/python3.6/site-packages/sklearn/base.py:318: UserWarning: Trying to unpickle estimator LinearSVC from version 0.21.2 when using version 0.22.1. This might lead to breaking code or invalid results. Use at your own risk.\n",
      "  UserWarning)\n",
      " 83% [================    ] (1m 7.645s left)\n",
      "/opt/conda/lib/python3.6/site-packages/sklearn/utils/deprecation.py:144: FutureWarning: The sklearn.svm.classes module is  deprecated in version 0.22 and will be removed in version 0.24. The corresponding classes / functions should instead be imported from sklearn.svm. Anything that cannot be imported from sklearn.svm is now part of the private API.\n",
      "  warnings.warn(message, FutureWarning)\n",
      "/opt/conda/lib/python3.6/site-packages/sklearn/base.py:318: UserWarning: Trying to unpickle estimator LinearSVC from version 0.21.2 when using version 0.22.1. This might lead to breaking code or invalid results. Use at your own risk.\n",
      "  UserWarning)\n"
     ]
    },
    {
     "name": "stdout",
     "output_type": "stream",
     "text": [
      "Loading the GoogArticle model wich is a <class 'sklearn.svm._classes.LinearSVC'>\n"
     ]
    },
    {
     "name": "stderr",
     "output_type": "stream",
     "text": [
      " 83% [================    ] (1m 5.684s left)\n",
      "/opt/conda/lib/python3.6/site-packages/sklearn/utils/deprecation.py:144: FutureWarning: The sklearn.svm.classes module is  deprecated in version 0.22 and will be removed in version 0.24. The corresponding classes / functions should instead be imported from sklearn.svm. Anything that cannot be imported from sklearn.svm is now part of the private API.\n",
      "  warnings.warn(message, FutureWarning)\n",
      "/opt/conda/lib/python3.6/site-packages/sklearn/base.py:318: UserWarning: Trying to unpickle estimator LinearSVC from version 0.21.2 when using version 0.22.1. This might lead to breaking code or invalid results. Use at your own risk.\n",
      "  UserWarning)\n"
     ]
    },
    {
     "name": "stdout",
     "output_type": "stream",
     "text": [
      "Loading the GoogArticle model wich is a <class 'sklearn.svm._classes.LinearSVC'>\n"
     ]
    },
    {
     "name": "stderr",
     "output_type": "stream",
     "text": [
      " 84% [================    ] (1m 4.157s left)\n",
      "/opt/conda/lib/python3.6/site-packages/sklearn/utils/deprecation.py:144: FutureWarning: The sklearn.svm.classes module is  deprecated in version 0.22 and will be removed in version 0.24. The corresponding classes / functions should instead be imported from sklearn.svm. Anything that cannot be imported from sklearn.svm is now part of the private API.\n",
      "  warnings.warn(message, FutureWarning)\n",
      "/opt/conda/lib/python3.6/site-packages/sklearn/base.py:318: UserWarning: Trying to unpickle estimator LinearSVC from version 0.21.2 when using version 0.22.1. This might lead to breaking code or invalid results. Use at your own risk.\n",
      "  UserWarning)\n"
     ]
    },
    {
     "name": "stdout",
     "output_type": "stream",
     "text": [
      "Loading the GoogArticle model wich is a <class 'sklearn.svm._classes.LinearSVC'>\n"
     ]
    },
    {
     "name": "stderr",
     "output_type": "stream",
     "text": [
      " 84% [================    ] (1m 2.914s left)\n",
      "/opt/conda/lib/python3.6/site-packages/sklearn/utils/deprecation.py:144: FutureWarning: The sklearn.svm.classes module is  deprecated in version 0.22 and will be removed in version 0.24. The corresponding classes / functions should instead be imported from sklearn.svm. Anything that cannot be imported from sklearn.svm is now part of the private API.\n",
      "  warnings.warn(message, FutureWarning)\n",
      "/opt/conda/lib/python3.6/site-packages/sklearn/base.py:318: UserWarning: Trying to unpickle estimator LinearSVC from version 0.21.2 when using version 0.22.1. This might lead to breaking code or invalid results. Use at your own risk.\n",
      "  UserWarning)\n"
     ]
    },
    {
     "name": "stdout",
     "output_type": "stream",
     "text": [
      "Loading the GoogArticle model wich is a <class 'sklearn.svm._classes.LinearSVC'>\n"
     ]
    },
    {
     "name": "stderr",
     "output_type": "stream",
     "text": [
      " 85% [=================   ] (1m 2.185s left)\n",
      "/opt/conda/lib/python3.6/site-packages/sklearn/utils/deprecation.py:144: FutureWarning: The sklearn.svm.classes module is  deprecated in version 0.22 and will be removed in version 0.24. The corresponding classes / functions should instead be imported from sklearn.svm. Anything that cannot be imported from sklearn.svm is now part of the private API.\n",
      "  warnings.warn(message, FutureWarning)\n",
      "/opt/conda/lib/python3.6/site-packages/sklearn/base.py:318: UserWarning: Trying to unpickle estimator LinearSVC from version 0.21.2 when using version 0.22.1. This might lead to breaking code or invalid results. Use at your own risk.\n",
      "  UserWarning)\n"
     ]
    },
    {
     "name": "stdout",
     "output_type": "stream",
     "text": [
      "Loading the GoogArticle model wich is a <class 'sklearn.svm._classes.LinearSVC'>\n"
     ]
    },
    {
     "name": "stderr",
     "output_type": "stream",
     "text": [
      " 85% [=================   ] (59.847s left)\n",
      "/opt/conda/lib/python3.6/site-packages/sklearn/utils/deprecation.py:144: FutureWarning: The sklearn.svm.classes module is  deprecated in version 0.22 and will be removed in version 0.24. The corresponding classes / functions should instead be imported from sklearn.svm. Anything that cannot be imported from sklearn.svm is now part of the private API.\n",
      "  warnings.warn(message, FutureWarning)\n",
      "/opt/conda/lib/python3.6/site-packages/sklearn/base.py:318: UserWarning: Trying to unpickle estimator LinearSVC from version 0.21.2 when using version 0.22.1. This might lead to breaking code or invalid results. Use at your own risk.\n",
      "  UserWarning)\n"
     ]
    },
    {
     "name": "stdout",
     "output_type": "stream",
     "text": [
      "Loading the GoogArticle model wich is a <class 'sklearn.svm._classes.LinearSVC'>\n"
     ]
    },
    {
     "name": "stderr",
     "output_type": "stream",
     "text": [
      " 86% [=================   ] (57.806s left)\n",
      "/opt/conda/lib/python3.6/site-packages/sklearn/utils/deprecation.py:144: FutureWarning: The sklearn.svm.classes module is  deprecated in version 0.22 and will be removed in version 0.24. The corresponding classes / functions should instead be imported from sklearn.svm. Anything that cannot be imported from sklearn.svm is now part of the private API.\n",
      "  warnings.warn(message, FutureWarning)\n",
      "/opt/conda/lib/python3.6/site-packages/sklearn/base.py:318: UserWarning: Trying to unpickle estimator LinearSVC from version 0.21.2 when using version 0.22.1. This might lead to breaking code or invalid results. Use at your own risk.\n",
      "  UserWarning)\n"
     ]
    },
    {
     "name": "stdout",
     "output_type": "stream",
     "text": [
      "Loading the GoogArticle model wich is a <class 'sklearn.svm._classes.LinearSVC'>\n"
     ]
    },
    {
     "name": "stderr",
     "output_type": "stream",
     "text": [
      " 86% [=================   ] (55.451s left)\n",
      "/opt/conda/lib/python3.6/site-packages/sklearn/utils/deprecation.py:144: FutureWarning: The sklearn.svm.classes module is  deprecated in version 0.22 and will be removed in version 0.24. The corresponding classes / functions should instead be imported from sklearn.svm. Anything that cannot be imported from sklearn.svm is now part of the private API.\n",
      "  warnings.warn(message, FutureWarning)\n"
     ]
    },
    {
     "name": "stdout",
     "output_type": "stream",
     "text": [
      "Loading the GoogArticle model wich is a <class 'sklearn.svm._classes.LinearSVC'>\n"
     ]
    },
    {
     "name": "stderr",
     "output_type": "stream",
     "text": [
      "/opt/conda/lib/python3.6/site-packages/sklearn/base.py:318: UserWarning: Trying to unpickle estimator LinearSVC from version 0.21.2 when using version 0.22.1. This might lead to breaking code or invalid results. Use at your own risk.\n",
      "  UserWarning)\n",
      " 87% [=================   ] (53.059s left)\n",
      " 87% [=================   ] (50.657s left)\n",
      "/opt/conda/lib/python3.6/site-packages/sklearn/utils/deprecation.py:144: FutureWarning: The sklearn.svm.classes module is  deprecated in version 0.22 and will be removed in version 0.24. The corresponding classes / functions should instead be imported from sklearn.svm. Anything that cannot be imported from sklearn.svm is now part of the private API.\n",
      "  warnings.warn(message, FutureWarning)\n",
      "/opt/conda/lib/python3.6/site-packages/sklearn/base.py:318: UserWarning: Trying to unpickle estimator LinearSVC from version 0.21.2 when using version 0.22.1. This might lead to breaking code or invalid results. Use at your own risk.\n",
      "  UserWarning)\n"
     ]
    },
    {
     "name": "stdout",
     "output_type": "stream",
     "text": [
      "Loading the GoogArticle model wich is a <class 'sklearn.svm._classes.LinearSVC'>\n"
     ]
    },
    {
     "name": "stderr",
     "output_type": "stream",
     "text": [
      "/opt/conda/lib/python3.6/site-packages/sklearn/utils/deprecation.py:144: FutureWarning: The sklearn.svm.classes module is  deprecated in version 0.22 and will be removed in version 0.24. The corresponding classes / functions should instead be imported from sklearn.svm. Anything that cannot be imported from sklearn.svm is now part of the private API.\n",
      "  warnings.warn(message, FutureWarning)\n",
      "/opt/conda/lib/python3.6/site-packages/sklearn/base.py:318: UserWarning: Trying to unpickle estimator LinearSVC from version 0.21.2 when using version 0.22.1. This might lead to breaking code or invalid results. Use at your own risk.\n",
      "  UserWarning)\n"
     ]
    },
    {
     "name": "stdout",
     "output_type": "stream",
     "text": [
      "Loading the GoogArticle model wich is a <class 'sklearn.svm._classes.LinearSVC'>\n"
     ]
    },
    {
     "name": "stderr",
     "output_type": "stream",
     "text": [
      " 88% [=================   ] (48.773s left)\n",
      "/opt/conda/lib/python3.6/site-packages/sklearn/utils/deprecation.py:144: FutureWarning: The sklearn.svm.classes module is  deprecated in version 0.22 and will be removed in version 0.24. The corresponding classes / functions should instead be imported from sklearn.svm. Anything that cannot be imported from sklearn.svm is now part of the private API.\n",
      "  warnings.warn(message, FutureWarning)\n",
      "/opt/conda/lib/python3.6/site-packages/sklearn/base.py:318: UserWarning: Trying to unpickle estimator LinearSVC from version 0.21.2 when using version 0.22.1. This might lead to breaking code or invalid results. Use at your own risk.\n",
      "  UserWarning)\n"
     ]
    },
    {
     "name": "stdout",
     "output_type": "stream",
     "text": [
      "Loading the GoogArticle model wich is a <class 'sklearn.svm._classes.LinearSVC'>\n"
     ]
    },
    {
     "name": "stderr",
     "output_type": "stream",
     "text": [
      " 88% [=================   ] (47.171s left)\n",
      "/opt/conda/lib/python3.6/site-packages/sklearn/utils/deprecation.py:144: FutureWarning: The sklearn.svm.classes module is  deprecated in version 0.22 and will be removed in version 0.24. The corresponding classes / functions should instead be imported from sklearn.svm. Anything that cannot be imported from sklearn.svm is now part of the private API.\n",
      "  warnings.warn(message, FutureWarning)\n"
     ]
    },
    {
     "name": "stdout",
     "output_type": "stream",
     "text": [
      "Loading the GoogArticle model wich is a <class 'sklearn.svm._classes.LinearSVC'>\n"
     ]
    },
    {
     "name": "stderr",
     "output_type": "stream",
     "text": [
      "/opt/conda/lib/python3.6/site-packages/sklearn/base.py:318: UserWarning: Trying to unpickle estimator LinearSVC from version 0.21.2 when using version 0.22.1. This might lead to breaking code or invalid results. Use at your own risk.\n",
      "  UserWarning)\n",
      " 89% [=================   ] (45.057s left)\n",
      "/opt/conda/lib/python3.6/site-packages/sklearn/utils/deprecation.py:144: FutureWarning: The sklearn.svm.classes module is  deprecated in version 0.22 and will be removed in version 0.24. The corresponding classes / functions should instead be imported from sklearn.svm. Anything that cannot be imported from sklearn.svm is now part of the private API.\n",
      "  warnings.warn(message, FutureWarning)\n"
     ]
    },
    {
     "name": "stdout",
     "output_type": "stream",
     "text": [
      "Loading the GoogArticle model wich is a <class 'sklearn.svm._classes.LinearSVC'>\n"
     ]
    },
    {
     "name": "stderr",
     "output_type": "stream",
     "text": [
      "/opt/conda/lib/python3.6/site-packages/sklearn/base.py:318: UserWarning: Trying to unpickle estimator LinearSVC from version 0.21.2 when using version 0.22.1. This might lead to breaking code or invalid results. Use at your own risk.\n",
      "  UserWarning)\n",
      " 89% [=================   ] (43.213s left)\n",
      "/opt/conda/lib/python3.6/site-packages/sklearn/utils/deprecation.py:144: FutureWarning: The sklearn.svm.classes module is  deprecated in version 0.22 and will be removed in version 0.24. The corresponding classes / functions should instead be imported from sklearn.svm. Anything that cannot be imported from sklearn.svm is now part of the private API.\n",
      "  warnings.warn(message, FutureWarning)\n",
      "/opt/conda/lib/python3.6/site-packages/sklearn/base.py:318: UserWarning: Trying to unpickle estimator LinearSVC from version 0.21.2 when using version 0.22.1. This might lead to breaking code or invalid results. Use at your own risk.\n",
      "  UserWarning)\n"
     ]
    },
    {
     "name": "stdout",
     "output_type": "stream",
     "text": [
      "Loading the GoogArticle model wich is a <class 'sklearn.svm._classes.LinearSVC'>\n"
     ]
    },
    {
     "name": "stderr",
     "output_type": "stream",
     "text": [
      " 90% [==================  ] (41.055s left)\n",
      "/opt/conda/lib/python3.6/site-packages/sklearn/utils/deprecation.py:144: FutureWarning: The sklearn.svm.classes module is  deprecated in version 0.22 and will be removed in version 0.24. The corresponding classes / functions should instead be imported from sklearn.svm. Anything that cannot be imported from sklearn.svm is now part of the private API.\n",
      "  warnings.warn(message, FutureWarning)\n",
      "/opt/conda/lib/python3.6/site-packages/sklearn/base.py:318: UserWarning: Trying to unpickle estimator LinearSVC from version 0.21.2 when using version 0.22.1. This might lead to breaking code or invalid results. Use at your own risk.\n",
      "  UserWarning)\n"
     ]
    },
    {
     "name": "stdout",
     "output_type": "stream",
     "text": [
      "Loading the GoogArticle model wich is a <class 'sklearn.svm._classes.LinearSVC'>\n"
     ]
    },
    {
     "name": "stderr",
     "output_type": "stream",
     "text": [
      " 90% [==================  ] (38.752s left)\n",
      "/opt/conda/lib/python3.6/site-packages/sklearn/utils/deprecation.py:144: FutureWarning: The sklearn.svm.classes module is  deprecated in version 0.22 and will be removed in version 0.24. The corresponding classes / functions should instead be imported from sklearn.svm. Anything that cannot be imported from sklearn.svm is now part of the private API.\n",
      "  warnings.warn(message, FutureWarning)\n",
      "/opt/conda/lib/python3.6/site-packages/sklearn/base.py:318: UserWarning: Trying to unpickle estimator LinearSVC from version 0.21.2 when using version 0.22.1. This might lead to breaking code or invalid results. Use at your own risk.\n",
      "  UserWarning)\n"
     ]
    },
    {
     "name": "stdout",
     "output_type": "stream",
     "text": [
      "Loading the GoogArticle model wich is a <class 'sklearn.svm._classes.LinearSVC'>\n"
     ]
    },
    {
     "name": "stderr",
     "output_type": "stream",
     "text": [
      " 91% [==================  ] (36.438s left)\n",
      " 91% [==================  ] (34.152s left)\n",
      " 92% [==================  ] (31.963s left)\n",
      " 92% [==================  ] (30.002s left)\n",
      " 93% [==================  ] (27.713s left)\n",
      " 93% [==================  ] (25.607s left)\n",
      " 94% [==================  ] (23.455s left)\n",
      " 94% [==================  ] (21.345s left)\n",
      " 95% [=================== ] (19.189s left)\n",
      " 95% [=================== ] (17.196s left)\n",
      " 96% [=================== ] (15.73s left)\n",
      " 96% [=================== ] (13.455s left)\n",
      " 97% [=================== ] (11.267s left)\n",
      " 97% [=================== ] (8.985s left)\n",
      " 98% [=================== ] (6.886s left)\n",
      " 98% [=================== ] (4.63s left)\n",
      " 99% [=================== ] (2.976s left)\n",
      "100% [====================] (total duration: 22m 30.46s, mean duration: 6.82s)\n",
      "We removed 8% of news.\n",
      "Count of duplicates: 1750\n",
      "% of duplicates: 7.117582462276813\n"
     ]
    }
   ],
   "source": [
    "# We add all news:\n",
    "mli = MLIterator(newsFilesChunks, newsGenFunct, logger=logger, parallelProcesses=cpuCount(), printRatio=0.001)\n",
    "notGoodCount = 0\n",
    "totalCount = 0\n",
    "duplicatesCount = 0\n",
    "hashes = set()\n",
    "for row in mli:\n",
    "    if row is None:\n",
    "        notGoodCount += 1\n",
    "    else:\n",
    "        h = objectToHash(row[\"text\"])\n",
    "        if h in hashes:\n",
    "            duplicatesCount += 1\n",
    "        hashes.add(h)\n",
    "        newsCollection.insert(row)\n",
    "    totalCount += 1\n",
    "log(\"We removed \" + str(int(notGoodCount / totalCount * 100)) + \"% of news.\", logger)\n",
    "log(\"Count of duplicates: \" + str(duplicatesCount), logger)\n",
    "log(\"% of duplicates: \" + str(duplicatesCount / totalCount * 100), logger)"
   ]
  },
  {
   "cell_type": "code",
   "execution_count": 19,
   "metadata": {},
   "outputs": [
    {
     "name": "stdout",
     "output_type": "stream",
     "text": [
      "{\n",
      "  0006db2155479807dc59d944f54658c3: https://goo.gl/dLfKa5,\n",
      "  000ea98707fbca374fc16e95def75b95: http://www.bbc.co.uk/news/technology-41928847,\n",
      "  00115d6f3a322ea9da6cbcd867fe99b1: http://bit.ly/2lSWvxl,\n",
      "  00162b5b60bcafcb823ba2e780563760: https://www.armytimes.com/off-duty/gearscout/shot-show/2018/01/22/the-rattler-this-ultra-compact-rif,\n",
      "  00178dc81d34dd31a93004313cbbd333: https://www.rawstory.com/2018/02/minnesota-candidate-gets-anti-muslim-death-threats-militia-movement,\n",
      "  ...,\n",
      "  ffedc81ff74d09aa4cbbd88e7efc9c69: https://www.thespec.com/news-story/8100970-court-hears-dead-girl-had-drugs-in-her-system/#.WnElzoryq,\n",
      "  fff4c675fb5bd94506dfd830430983f4: https://www.nytimes.com/2017/11/17/upshot/income-inequality-united-states.html,\n",
      "  fffa3f193b0546ec03a7fed794f51cee: https://www.theguardian.com/commentisfree/2017/dec/01/republican-tax-bill-immoral-violence?CMP=Share,\n",
      "  fffcf8893da78fecee03b51912eb9316: https://www.vice.com/en_us/article/7x9x9z/a-bartender-and-her-favorite-regular-went-sober-but-still-,\n",
      "  ffff7e333dd65e47f6e38d1c1eda204a: http://www.sfexaminer.com/?p=188999\n",
      "}\n",
      "{\n",
      "  http://a.msn.com/01/en-us/AAvaUvs?ocid=st: http://www.bbc.com/news/world-europe-42826028,\n",
      "  http://abcn.ws/2A9vlY1: http://abcn.ws/2BQNNF8,\n",
      "  http://abcn.ws/2AH86Fd: http://abcn.ws/2hEnw8x,\n",
      "  http://abcn.ws/2CHVjCy: http://abcnews.go.com/Politics/republicans-expected-pass-tax-reform-measure/story?id=51870650,\n",
      "  http://abcn.ws/2CmLXM6: http://abcn.ws/2EtNJ01,\n",
      "  ...,\n",
      "  https://www.wired.com/story/the-other-tech-bubble/?mbid=social_twitter_onsiteshare: https://www.wired.com/story/the-other-tech-bubble,\n",
      "  https://www.wsj.com/articles/allegations-of-groping-lewd-comments-and-rape-academias-metoo-moment-1515672001: http://on.wsj.com/2CVXOC2,\n",
      "  https://www.wsj.com/articles/how-googles-quantum-computer-could-change-the-world-1508158847: https://lnkd.in/g2mkNrV,\n",
      "  https://www.wsj.com/articles/president-trump-spent-nearly-one-third-of-first-year-in-office-at-trump-owned-properties-1514206800: http://on.wsj.com/2BMLRln,\n",
      "  https://www.yahoo.com/news/night-ritz-riyadh-5-star-prison-back-business-114315015.html?soc_src=hl-viewer&soc_trk=tw: https://www.yahoo.com/news/defanged-saudi-religious-police-bring-relief-foreboding-041127304.html?so\n",
      "}\n"
     ]
    }
   ],
   "source": [
    "# We construct a strucutre: hash of the text --> url\n",
    "newsToKeepByHash = dict()\n",
    "for _id, row in newsCollection.items():\n",
    "    h = objectToHash(row[\"text\"])\n",
    "    newsToKeepByHash[h] = row['url']\n",
    "newsToKeep = set(newsToKeepByHash.values())\n",
    "bp(newsToKeepByHash)\n",
    "assert len(newsToKeep) == len(newsToKeepByHash)\n",
    "# We construct a structure: the duplicate --> the reference news to take into account\n",
    "duplicates = dict()\n",
    "for _id, row in newsCollection.items():\n",
    "    h = objectToHash(row[\"text\"])\n",
    "    if newsToKeepByHash[h] != row['url']:\n",
    "        duplicates[row['url']] = newsToKeepByHash[h]\n",
    "bp(duplicates)\n",
    "# We remove duplicates in news:\n",
    "for dup in duplicates:\n",
    "    newsCollection.delete({\"url\": dup})"
   ]
  },
  {
   "cell_type": "code",
   "execution_count": 20,
   "metadata": {},
   "outputs": [
    {
     "name": "stderr",
     "output_type": "stream",
     "text": [
      "--> tic: 22m 48.91s | message: News indexed\n"
     ]
    },
    {
     "data": {
      "text/plain": [
       "1368.91"
      ]
     },
     "execution_count": 20,
     "metadata": {},
     "output_type": "execute_result"
    }
   ],
   "source": [
    "tt.tic(\"News indexed\")"
   ]
  },
  {
   "cell_type": "code",
   "execution_count": null,
   "metadata": {},
   "outputs": [],
   "source": []
  },
  {
   "cell_type": "code",
   "execution_count": null,
   "metadata": {},
   "outputs": [],
   "source": []
  },
  {
   "cell_type": "markdown",
   "metadata": {},
   "source": [
    "# Users"
   ]
  },
  {
   "cell_type": "code",
   "execution_count": 21,
   "metadata": {},
   "outputs": [],
   "source": [
    "def usersGenFunct(containers, maxUsersPerContainer=None, logger=None, verbose=True):\n",
    "    if not isinstance(containers, list):\n",
    "        containers = [containers]\n",
    "    for container in containers:\n",
    "        usersCount = 0\n",
    "        for row in NDJson(container, logger=logger, verbose=verbose):\n",
    "            try:\n",
    "                assert dictContains(row, \"tweets\")\n",
    "                # We handle news:\n",
    "                currentNews = dict()\n",
    "                for tweet in row[\"tweets\"]:\n",
    "                    for n in tweet['news']:\n",
    "                        currentNews[n] = tweet['timestamp']\n",
    "                newCurrentNews = dict()\n",
    "                for n, ts in currentNews.items():\n",
    "                    if n in duplicates:\n",
    "                        n = duplicates[n]\n",
    "                    if n in newsToKeep:\n",
    "                        newCurrentNews[n] = ts\n",
    "                newCurrentNews = sortBy(newCurrentNews, index=1)\n",
    "                row[\"news\"] = [e[0] for e in newCurrentNews]\n",
    "                row[\"timestamps\"] = [e[1] for e in newCurrentNews]\n",
    "                # We parse tweets:\n",
    "                for tweet in row[\"tweets\"]:\n",
    "                    if dictContains(tweet, \"text\"):\n",
    "                        tweet[\"text\"] = preprocess\\\n",
    "                        (\n",
    "                            tweet[\"text\"], logger=logger,\n",
    "                            doQuoteNormalization=True,\n",
    "                            doReduceBlank=True,\n",
    "                            keepNewLines=True,\n",
    "                            stripAccents=True,\n",
    "                            doRemoveUrls=True,\n",
    "                            doLower=False,\n",
    "                            doBadlyEncoded=True,\n",
    "                            doReduceCharSequences=True,\n",
    "                            charSequencesMaxLength=3,\n",
    "                            replaceUnknownChars=True,\n",
    "                            unknownReplacer=\" \",\n",
    "                            doSpecialMap=True,\n",
    "                            doNormalizeEmojis=True,\n",
    "                            doTokenizingHelp=True,\n",
    "                        )\n",
    "                yield row\n",
    "                usersCount += 1\n",
    "                if maxUsersPerContainer is not None and usersCount >= maxUsersPerContainer:\n",
    "                    break\n",
    "            except Exception as e:\n",
    "                logException(e, logger)"
   ]
  },
  {
   "cell_type": "code",
   "execution_count": 22,
   "metadata": {},
   "outputs": [
    {
     "name": "stderr",
     "output_type": "stream",
     "text": [
      "With parallelProcesses > 1, this iterator is not consistent, meaning 2 iterations over same containers will not give items in the same order\n",
      "2 containers to process.\n",
      " 50% [==========          ] (5m 49.829s left)\n",
      "100% [====================] (total duration: 6m 11.68s, mean duration: 3m 5.84s)\n",
      "--> tic: 6m 11.73s | message: Users indexed\n"
     ]
    },
    {
     "data": {
      "text/plain": [
       "371.73"
      ]
     },
     "execution_count": 22,
     "metadata": {},
     "output_type": "execute_result"
    }
   ],
   "source": [
    "mli = MLIterator\\\n",
    "(\n",
    "    usersFiles, usersGenFunct,\n",
    "    genKwargs={\"maxUsersPerContainer\": 30 if TEST else None},\n",
    "    logger=logger, parallelProcesses=cpuCount(),\n",
    "    printRatio=0.001,\n",
    ")\n",
    "for row in mli:\n",
    "    usersCollection.insert(row)\n",
    "tt.tic(\"Users indexed\")"
   ]
  },
  {
   "cell_type": "code",
   "execution_count": null,
   "metadata": {},
   "outputs": [],
   "source": []
  },
  {
   "cell_type": "code",
   "execution_count": null,
   "metadata": {},
   "outputs": [],
   "source": []
  },
  {
   "cell_type": "markdown",
   "metadata": {},
   "source": [
    "# Adding users references in news"
   ]
  },
  {
   "cell_type": "code",
   "execution_count": 24,
   "metadata": {},
   "outputs": [
    {
     "name": "stderr",
     "output_type": "stream",
     "text": [
      "Finding all users by news   0% [                    ]\n",
      "Finding all users by news  10% [==                  ] (8.729s left)\n",
      "Finding all users by news  20% [====                ] (7.68s left)\n",
      "Finding all users by news  30% [======              ] (6.743s left)\n",
      "Finding all users by news  40% [========            ] (5.775s left)\n",
      "Finding all users by news  50% [==========          ] (4.75s left)\n",
      "Finding all users by news  60% [============        ] (3.86s left)\n",
      "Finding all users by news  70% [==============      ] (2.892s left)\n",
      "Finding all users by news  80% [================    ] (1.914s left)\n",
      "Finding all users by news  90% [==================  ] (0.955s left)\n",
      "Finding all users by news 100% [====================] (total duration: 9.6s, mean duration: 0.019s)\n",
      "--> tic: 15h 37m 23.699s | message: Users by news collected\n"
     ]
    },
    {
     "data": {
      "text/plain": [
       "56243.7"
      ]
     },
     "execution_count": 24,
     "metadata": {},
     "output_type": "execute_result"
    }
   ],
   "source": [
    "# We iterate all users to make the newsUsersMapping:\n",
    "newsUsersMapping = dict()\n",
    "ids = usersCollection.distinct(\"user_id\")\n",
    "for userId in pb(ids, logger=logger, message=\"Finding all users by news\"):\n",
    "    data = usersCollection.findOne({\"user_id\": userId})\n",
    "    for news in data[\"news\"]:\n",
    "        if news not in newsUsersMapping:\n",
    "            newsUsersMapping[news] = []\n",
    "        newsUsersMapping[news].append(userId)\n",
    "tt.tic(\"Users by news collected\")"
   ]
  },
  {
   "cell_type": "code",
   "execution_count": 30,
   "metadata": {
    "scrolled": true
   },
   "outputs": [
    {
     "name": "stderr",
     "output_type": "stream",
     "text": [
      "{\n",
      "  http://2020.washingtonexaminer.com/2017/11/14/welcome-trump-county-usa/: [ 252877167 ],\n",
      "  http://a.msn.com/00/en-us/AAuRcJD?ocid=st: [ 265004300 ],\n",
      "  http://a.msn.com/00/en-us/AAuyKsY?ocid=st: [ 17000424 ],\n",
      "  http://a.msn.com/00/en-us/BBFZDuB?ocid=st: [ 145246574 ],\n",
      "  http://a.msn.com/00/en-us/BBFsnPh?ocid=st: [ 17000424 ],\n",
      "  ...,\n",
      "  https://www.zerohedge.com/news/2018-02-14/senior-white-house-aides-say-kelly-pressured-them-lie-him: [ 41368680 ],\n",
      "  https://xianblog.wordpress.com/2017/03/04/le-bayesianisme-aujourdhui-book-review/: [ 12754522 ],\n",
      "  https://yaledailynews.com/blog/2017/12/01/law-clinic-helps-block-trump-order/: [ 69194007 ],\n",
      "  https://yaledailynews.com/blog/2017/12/07/yale-researchers-root-out-latent-hiv-viruses/: [ 148118889 ],\n",
      "  https://zgcapan.wordpress.com/2017/12/20/call-for-papers-and-panels-section-21-historical-international-relations-12th-eisa-pan-european-conference-on-international-relations-september-2018/: [ 23245885 ]\n",
      "}\n",
      "https://www.theguardian.com/education/2017/oct/24/universities-mccarthyism-mp-demands-list-brexit-chris-heaton-harris --> [ 102964431, 225242731, 388134481 ]\n",
      "https://www.theguardian.com/commentisfree/2017/nov/28/fat-cats-britains-universities-vice-chancellors-salaries-pay?CMP=Share_iOSApp_Other --> [ 102964431, 28641512 ]\n",
      "https://www.theguardian.com/uk-news/2017/dec/26/government-admits-losing-thousands-of-papers-from-national-archives --> [ 102964431, 201702549, 2278396334 ]\n",
      "https://www.theguardian.com/commentisfree/2018/feb/12/treasury-tweet-slavery-compensate-slave-owners --> [ 102964431, 3177204064 ]\n",
      "https://nyti.ms/2iMPAXz --> [ 10316902, 14554234, ..., 29638102, 332346899 ]\n",
      "http://wsvn.com/news/us-world/tjx-continues-to-pay-employees-in-puerto-rico-despite-stores-being-closed/ --> [ 10316902, 28631446, 9972002 ]\n",
      "https://www.nbcnews.com/news/us-news/trump-signs-bill-revoking-obama-era-gun-checks-people-mental-n727221 --> [ 10316902, 125686327, ..., 43763, 45215640 ]\n",
      "http://politi.co/2zXnuxh --> [ 10316902, 210945415, ..., 472127689, 77596590 ]\n",
      "https://www.theguardian.com/news/2017/nov/15/how-trump-walked-into-putins-web-luke --> [ 10316902, 331113029, 48762865 ]\n",
      "https://nyti.ms/2j2XU5u --> [ 10316902, 19491541, 556992335 ]\n",
      "http://www.ibtimes.com/political-capital/tax-bill-bob-corker-demands-answers-chairman-orrin-hatch-about-last-minute-tax --> [ 10316902, 24746074 ]\n",
      "https://mobile.nytimes.com/2017/12/27/business/smallbusiness/california-marijuana-start-ups.html?referer= --> [ 10316902, 700261033 ]\n",
      "http://bit.ly/2DemsOw --> [ 10316902, 94478663 ]\n",
      "http://pix11.com/2018/01/25/2-dads-nabbed-by-ice-as-they-drop-off-kids-at-nj-school-3rd-takes-shelter-in-church/ --> [ 10316902, 317830223 ]\n",
      "https://www.thedailybeast.com/grassroots-media-startup-redfish-is-supported-by-the-kremlin --> [ 10316902, 48762865 ]\n",
      "https://nyti.ms/2BYQc51 --> [ 10316902, 55739265 ]\n",
      "http://www.mcclatchydc.com/news/nation-world/national/article195231139.html --> [ 10316902, 125748589, 14768759, 6627232 ]\n",
      "https://usat.ly/2z4EzXg --> [ 104303108, 1043796230, ..., 274590281, 55176705 ]\n",
      "http://deadspin.com/this-andy-benoit-take-about-russell-wilson-is-so-fuckin-1821290666?utm_medium=sharefromsite&utm_source=Deadspin_twitter --> [ 104303108, 169291985 ]\n",
      "http://www.philly.com/philly/sports/eagles/philadelphia-eagles-chris-long-donated-paychecks-charity-20171019.html --> [ 104303108, 195093267, ..., 48762865, 628505536 ]\n",
      "https://www.huffingtonpost.com/entry/kerrice-lewislesbian-murdered-burned-alivesay-her_us_5a5040d0e4b0ee59d41c0ac5 --> [ 104303108, 34162519 ]\n",
      "http://www.latimes.com/opinion/op-ed/la-oe-jackson-college-sports-20180111-story.html --> [ 104303108, 37563842 ]\n",
      "http://www.esquire.com/news-politics/a14443780/james-baldwin-mlk-funeral/ --> [ 104303108, 16425757, 1851861800 ]\n",
      "https://pitchfork.com/news/justin-timberlake-super-bowl-2018-halftime-show-to-feature-prince-hologram-report/ --> [ 104303108, 26548553 ]\n",
      "http://wapo.st/2ibtwC8 --> [ 1043796230, 322221442 ]\n",
      "http://nyti.ms/2z6rnzs --> [ 1043796230, 129850634, 977040996 ]\n",
      "http://ow.ly/SmTV30goTQG --> [ 1043796230, 485803430 ]\n",
      "https://www.politico.com/story/2017/11/21/trump-census-pick-causes-alarm-252571 --> [ 1043796230, 23327117, 240926950, 870328182 ]\n",
      "https://www.politico.com/magazine/story/2017/11/19/trump-first-moscow-trip-215842 --> [ 1043796230, 14338931 ]\n",
      "http://politi.co/2BxyaDk --> [ 1043796230, 168170834 ]\n",
      "https://www.nbcnews.com/news/latino/more-latinas-are-becoming-teachers-reshaping-our-nation-s-classrooms-n822791 --> [ 1043796230, 1075290390, 45404617 ]\n",
      "http://politi.co/2hqOFIh --> [ 1043796230, 14768759, 45678122 ]\n",
      "https://www.advocate.com/politics/2017/12/05/sarah-sanders-trump-ok-businesses-hanging-antigay-signs --> [ 1043796230, 34162519 ]\n",
      "http://bit.ly/2AonPst --> [ 1043796230, 14987459, ..., 284885853, 86832479 ]\n",
      "https://www.nytimes.com/2017/12/21/us/trump-immigrant-families-separate.html --> [ 1043796230, 381734721 ]\n",
      "https://www.theguardian.com/us-news/2017/dec/24/fbi-investigates-russian-linked-cyprus-bank-accused-of-money-laundering?CMP=share_btn_tw --> [ 1043796230, 48082526 ]\n",
      "http://www.nydailynews.com/new-york/n-y-teamsters-form-sanctuary-union-fight-ice-agents-article-1.3813201 --> [ 1043796230, 15348009 ]\n",
      "http://bit.ly/2EDSQh8 --> [ 1043796230, 35119505 ]\n",
      "https://www.vox.com/the-big-idea/2017/11/3/16596484/fara-foreign-agents-registration-manafort-enforcement-scandal?utm_campaign=vox&utm_content=entry&utm_medium=social&utm_source=twitter --> [ 1048386452, 20550728 ]\n",
      "https://www.chronicle.com/article/Have-You-Experienced-Sexual/241829/#.Wh7-YH6dP1E.twitter --> [ 1048386452, 21031956 ]\n",
      "https://www.axios.com/more-women-plan-to-run-for-congress-than-ever-before-2516228558.html --> [ 1048386452, 29638102 ]\n",
      "https://www.propublica.org/nerds/lobbying-registration-database-reporting-recipe --> [ 1048386452, 51154828 ]\n",
      "http://wapo.st/2BjSHM0?tid=ss_tw&utm_term=.c303d3c8acdf --> [ 1048386452, 2278396334 ]\n",
      "https://www.theatlantic.com/magazine/archive/2018/03/paul-manafort-american-hustler/550925/ --> [ 1048386452, 159993936, 68832423 ]\n",
      "https://www.newyorker.com/news/news-desk/harvey-weinsteins-army-of-spies --> [ 105255002, 113739104, ..., 55176705, 71278927 ]\n",
      "https://www.theatlantic.com/politics/archive/2017/11/the-secret-correspondence-between-donald-trump-jr-and-wikileaks/545738/?utm_source=twb --> [ 105255002, 125686327, ..., 72638046, 84007946 ]\n",
      "https://www.newyorker.com/news/news-desk/locals-were-troubled-by-roy-moores-interactions-with-teen-girls-at-the-gadsden-mall?mbid=social_twitter --> [ 105255002, 122844763, ..., 39878985, 838815548075085825 ]\n",
      "http://wwd.com/business-news/media/vanity-fair-fashion-staff-nonplussed-new-editor-personal-style-11051422/ --> [ 105255002, 14737171, 16595825, 23402525 ]\n",
      "http://nyti.ms/2BI3iQm --> [ 105255002, 129850634, 346576986, 45404617 ]\n",
      "http://money.cnn.com/2017/12/04/media/pbs-charlie-rose-replacement/index.html --> [ 105255002, 14768759 ]\n",
      "https://theoutline.com/post/2563/how-brands-secretly-buy-their-way-into-forbes-fast-company-and-huffpost-stories --> [ 105255002, 14259254, 15182072, 16595825 ]\n",
      "http://time.com/time-person-of-the-year-2017-silence-breakers/?utm_campaign=time&utm_source=twitter.com&utm_medium=social&xid=time_socialflow_twitter --> [ 105255002, 15184321, ..., 705141626029502464, 803029068 ]\n",
      "https://www.racked.com/2017/11/29/16710502/affirm-loan-shopping --> [ 105255002, 14737171, 94478663 ]\n",
      "http://nyti.ms/2AB9IUN --> [ 105255002, 15098171, ..., 69194007, 74803924 ]\n",
      "https://www.washingtonpost.com/news/arts-and-entertainment/wp/2017/12/20/rose-mcgowan-is-right-wearing-black-is-no-way-to-take-a-stand-on-the-red-carpet/?curator=FashionREDEF&utm_term=.93f600677862 --> [ 105255002, 284885853 ]\n",
      "https://www.nytimes.com/interactive/2018/01/03/style/dressing-for-sexual-harassment-hearings.html --> [ 105255002, 159893711 ]\n",
      "https://www.nytimes.com/2018/01/04/arts/design/the-met-should-be-open-to-all-the-new-pay-policy-is-a-mistake.html --> [ 105255002, 68832423, 72758489 ]\n",
      "http://nyti.ms/2FAY37k --> [ 105255002, 2178197532 ]\n",
      "http://money.cnn.com/2018/02/05/media/newsweek-editors-out/index.html --> [ 105255002, 33705943 ]\n",
      "https://www.buzzfeed.com/amberjamieson/sleep-no-more?utm_term=.lw2ao3J0b#.ssV7rQ2Do --> [ 105255002, 159438150 ]\n"
     ]
    },
    {
     "name": "stderr",
     "output_type": "stream",
     "text": [
      "https://www.washingtonpost.com/entertainment/museums/obamas-portraits-unveiled-for-americans-presidents-exhibition/2018/02/12/d9f3691a-1000-11e8-8ea1-c1d91fcec3fe_story.html?utm_term=.634910d00200 --> [ 105255002, 14879942, 34162519 ]\n",
      "http://thehill.com/homenews/administration/373441-the-federal-programs-trump-proposes-cutting-in-2019-budget?amp&__twitter_impression=true --> [ 105255002, 20550728 ]\n",
      "https://nyti.ms/2jlWPWD --> [ 105614472, 354729119, 8984352 ]\n",
      "http://www.bbc.com/capital/story/20171204-the-compelling-case-for-working-a-lot-less?ocid=ww.social.link.twitter --> [ 105614472, 24582955 ]\n",
      "https://www.theglobeandmail.com/opinion/am-i-a-bad-feminist/article37591823/ --> [ 105614472, 413257620 ]\n",
      "https://www.theglobeandmail.com/opinion/this-is-a-seismic-moment-for-women-and-we-cant-grow-weary/article37588733/ --> [ 105614472, 19000490 ]\n",
      "https://www.nytimes.com/2018/01/21/us/womens-march-voices.html?nytapp=true --> [ 105614472, 19153715 ]\n",
      "http://www.bbc.com/news/blogs-news-from-elsewhere-42803471 --> [ 105614472, 14324839, ..., 27645239, 30688200 ]\n",
      "https://usa.streetsblog.org/2017/10/30/how-philadelphia-fixed-parking-craters-using-tax-policy/ --> [ 1069116314, 16425757 ]\n",
      "https://sf.streetsblog.org/2017/11/03/fire-departments-new-vision-zero-truck/ --> [ 1069116314, 16425757 ]\n",
      "https://usa.streetsblog.org/2017/11/28/to-reduce-pollution-london-will-outlaw-parking-construction/ --> [ 1069116314, 16425757 ]\n",
      "https://usa.streetsblog.org/2017/12/12/boston-tests-faster-bus-service-simply-by-laying-out-orange-cones/ --> [ 1069116314, 14987459 ]\n",
      "https://usa.streetsblog.org/2017/12/13/hartford-eliminates-parking-minimums-citywide/ --> [ 1069116314, 16425757, 618556806 ]\n",
      "http://money.cnn.com/2017/09/18/technology/future/lyft-streets-autonomous-vehicles/index.html --> [ 1069116314, 618556806 ]\n",
      "https://www.nytimes.com/2017/11/02/magazine/the-first-woman-to-translate-the-odyssey-into-english.html --> [ 1070166612, 15069435, 335783721 ]\n",
      "https://www.nature.com/news/university-systems-allow-sexual-harassers-to-thrive-1.22928 --> [ 1070166612, 148118889 ]\n",
      "https://www.stanforddaily.com/2017/11/09/english-professor-accused-of-sexual-assault-by-former-graduate-student/ --> [ 1070166612, 413257620 ]\n",
      "https://www.washingtonpost.com/news/wonk/wp/2017/11/13/ancient-data-modern-math-and-the-hunt-for-11-lost-cities-of-the-bronze-age/?utm_term=.4850d50a28c9 --> [ 1070166612, 251605462 ]\n",
      "https://www.theguardian.com/education/2017/dec/08/uk-universities-accused-of-complacency-over-sexual-misconduct --> [ 1070166612, 44006633 ]\n",
      "https://www.wired.com/story/the-other-tech-bubble --> [ 1070166612, 16842103, ..., 618556806, 824039958457434112 ]\n",
      "https://www.washingtonpost.com/news/answer-sheet/wp/2017/12/20/the-surprising-thing-google-learned-about-its-employees-and-what-it-means-for-todays-students/?utm_term=.9ed4fbcbdf48 --> [ 1070166612, 14124984, ..., 2325329291, 2620027214 ]\n",
      "https://www.theguardian.com/society/2018/jan/07/is-everything-you-think-you-know-about-depression-wrong-johann-hari-lost-connections?CMP=share_btn_tw --> [ 1070166612, 521438607 ]\n",
      "https://www.theguardian.com/education/2018/feb/05/university-of-cambridge-significant-sexual-misconduct-problem --> [ 1070166612, 44006633 ]\n",
      "http://www.adweek.com/digital/jill-sherman-digitaslbi-guest-post-organic-content/?utm_source=sailthru&utm_medium=email&utm_term=ABN_%20SocialProDaily&utm_campaign=SocialProDaily_Newsletter_2017110916&s_id=516e0a2c191b2a646da5bbc1 --> [ 107463174, 1173593017 ]\n",
      "https://www.wsj.com/articles/buzzfeed-set-to-miss-revenue-target-signaling-turbulence-in-media-1510861771 --> [ 107463174, 317830223 ]\n",
      "https://nyti.ms/2jEJzN6 --> [ 107463174, 19546153, 258074091, 420284118 ]\n",
      "https://buff.ly/2zDxMG8 --> [ 107463174, 17807843 ]\n",
      "http://bit.ly/2A963Ji --> [ 107463174, 1660288465, 803029068 ]\n",
      "https://www.bloomberg.com/news/articles/2017-12-11/the-retail-apocalypse-is-fueled-by-no-name-clothes --> [ 107463174, 315984380 ]\n",
      "https://www.recode.net/2017/12/4/16733460/2017-digital-ad-spend-advertising-beat-tv --> [ 107463174, 759880399065522176 ]\n",
      "http://bit.ly/2F4Q7ee --> [ 107463174, 12605112 ]\n",
      "https://www.nytimes.com/2018/01/11/technology/facebook-news-feed.html --> [ 107463174, 17831187 ]\n",
      "http://tcrn.ch/2qWdMdR --> [ 107463174, 534735526 ]\n",
      "https://www.wired.com/story/apple-podcast-analytics-first-month/?mbid=social_twitter_onsiteshare --> [ 107463174, 20491034, 28520128, 42470250 ]\n",
      "https://www.wsj.com/articles/amazon-to-launch-delivery-service-that-would-vie-with-fedex-ups-1518175920 --> [ 107463174, 18231563 ]\n",
      "http://nyti.ms/2z00Zq3 --> [ 1075290390, 1173593017, 55176705 ]\n",
      "https://www.economist.com/blogs/graphicdetail/2017/03/daily-chart-23?fsrc=scn/tw/te/bl/ed/ --> [ 1075290390, 91126624 ]\n",
      "http://www.chronicle.com/article/Signs-Naming-Students-Accused/241734/ --> [ 1075290390, 2978646101 ]\n",
      "https://www.thenation.com/article/how-temporary-work-visas-hurt-migrant-women/ --> [ 1075290390, 3910951103 ]\n",
      "http://ow.ly/qQlg30gJBxU --> [ 1075290390, 16203898, ..., 705141626029502464, 91170675 ]\n",
      "https://www.wired.com/story/dont-stop-the-presses-why-big-tech-should-subsidize-real-journalism/ --> [ 1075290390, 14987459, 153229972, 27858863 ]\n",
      "https://www.seattletimes.com/seattle-news/ice-tracks-down-immigrant-who-spoke-to-media-in-sw-washington-you-are-the-one-from-the-newspaper/ --> [ 1075290390, 194475085, 2821336312, 285751151 ]\n",
      "https://www.nytimes.com/interactive/2017/12/05/us/harvey-weinstein-complicity.html --> [ 1075290390, 128648678, ..., 68832423, 941663383 ]\n",
      "https://www.nytimes.com/2017/12/06/opinion/is-media-driving-americans-apart.html --> [ 1075290390, 118863246, 49496771 ]\n",
      "http://nyti.ms/2B23iO1 --> [ 1075290390, 14768759, 16262059, 68832423 ]\n",
      "https://www.nytimes.com/interactive/2017/12/08/us/puerto-rico-hurricane-maria-death-toll.html?smid=tw-share --> [ 1075290390, 194475085, ..., 378822672, 44462995 ]\n",
      "https://nyti.ms/2nXnAmk --> [ 1075290390, 19153715, ..., 68832423, 803029068 ]\n",
      "https://nyti.ms/2kChH96 --> [ 1075290390, 113739104, ..., 3910951103, 41368680 ]\n",
      "https://www.economist.com/news/christmas-specials/21732699-professions-problem-women-could-be-problem-economics-itself-women-and --> [ 1075290390, 271282858 ]\n",
      "http://bit.ly/2DetXFD --> [ 1075290390, 125748589, ..., 3000588429, 34162519 ]\n",
      "https://www.bloomberg.com/view/articles/2015-10-13/it-isn-t-just-asian-immigrants-who-excel-in-the-u-s- --> [ 1075290390, 34173355, ..., 6627232, 9444512 ]\n",
      "https://www.cjr.org/the_feature/best-journalism-movies-the-post.php --> [ 1075290390, 19000490, 55739265 ]\n",
      "https://nyti.ms/2FhK3iE --> [ 1075290390, 159993936, ..., 378822672, 521438607 ]\n",
      "http://bit.ly/2BpwWss --> [ 1075290390, 14124984, ..., 42470250, 8984352 ]\n",
      "https://www.npr.org/sections/ombudsman/2018/01/23/570204215/nprs-staff-diversity-numbers-2017 --> [ 1075290390, 1573846466, 6170212 ]\n",
      "https://blog.ap.org/announcements/new-beat-team-for-marijuana-coverage --> [ 1075290390, 72638046 ]\n",
      "https://theweek.com/articles/749978/female-price-male-pleasure --> [ 1075290390, 144143564, ..., 411111885, 583393798 ]\n",
      "http://bit.ly/2DNuEW5 --> [ 1075290390, 17170407, 229924530, 71278927 ]\n",
      "https://www.chronicle.com/article/White-Supremacists-Are/242403/#.WnMuiG0mPTw.twitter --> [ 1075290390, 21031956 ]\n",
      "https://nyti.ms/2FDrfJS --> [ 1075290390, 17821643 ]\n",
      "https://www.cjr.org/business_of_news/facebook-amazon-foia.php --> [ 1075290390, 6170212 ]\n",
      "https://www.politico.com/magazine/story/2018/02/04/trump-twitter-russians-release-the-memo-216935 --> [ 1075290390, 1075579124 ]\n",
      "http://www.kansascity.com/news/politics-government/article198215114.html#storylink%3Dcpy --> [ 1075290390, 2426218693, 313683437, 32386320 ]\n",
      "https://www.buzzfeed.com/albertsamaha/this-teenager-accused-two-on-duty-cops-of-rape-she-had-no?utm_term=.huNRwmBJEy --> [ 1075290390, 27059413, 34687955 ]\n",
      "https://www.washingtonpost.com/local/resist-white-supremacy-a-sign-a-farm-and-the-fury-that-followed/2018/02/13/47e7dfa2-10e0-11e8-9065-e55346f6de81_story.html?undefined=&utm_term=.216172eecbef&wpisrc=nl_most&wpmm=1 --> [ 1075290390, 137733302, 366211826 ]\n",
      "http://www.miamiherald.com/news/local/education/article200094039.html --> [ 1075290390, 15957448 ]\n",
      "http://money.cnn.com/2017/10/25/media/mark-halperin-sexual-harassment-allegations/index.html --> [ 1075579124, 55176705 ]\n"
     ]
    },
    {
     "name": "stderr",
     "output_type": "stream",
     "text": [
      "https://www.buzzfeed.com/alexkantrowitz/twitter-offered-rt-15-of-its-total-share-of-us-elections?utm_term=.sw7RMz9MA#.bv76q9Nqe --> [ 1075579124, 55176705 ]\n",
      "https://www.thedailybeast.com/ceo-of-hq-the-hottest-app-going-if-you-run-this-profile-well-fire-our-host --> [ 1075579124, 15348009, 17831187 ]\n",
      "http://bit.ly/2mOOR9P --> [ 1075579124, 11730942, ..., 69194007, 7004572 ]\n",
      "https://www.seattletimes.com/business/amazon/this-city-hall-brought-to-you-by-amazon/ --> [ 1075579124, 148118889, ..., 42470250, 5562792 ]\n",
      "https://www.nytimes.com/2017/11/17/upshot/income-inequality-united-states.html --> [ 1075579124, 44006633 ]\n",
      "https://www.politico.com/story/2017/12/06/homeless-veterans-benefits-trump-207781?cid=apn --> [ 1075579124, 55176705 ]\n",
      "https://www.reuters.com/article/us-usa-trump-wells-fargo-exclusive/exclusive-wells-fargo-sanctions-are-on-ice-under-trump-official-sources-idUSKBN1E12Y5 --> [ 1075579124, 870328182 ]\n",
      "http://www.huffingtonpost.com.au/entry/daily-stormer-nazi-style-guide_us_5a2ece19e4b0ce3b344492f2 --> [ 1075579124, 2371310198, 56331382 ]\n",
      "http://www.latimes.com/local/lanow/la-me-g-thomas-fire-size-20171215-htmlstory.html --> [ 1075579124, 44462995 ]\n",
      "https://www.washingtonpost.com/national/health-science/cdc-gets-list-of-forbidden-words-fetus-transgender-diversity/2017/12/15/f503837a-e1cf-11e7-89e8-edec16379010_story.html?tid=ss_tw&utm_term=.6db79894403e --> [ 1075579124, 11730942, ..., 61272585, 79240290 ]\n",
      "http://www.sfchronicle.com/bayarea/article/Feds-planning-massive-Northern-California-12502689.php --> [ 1075579124, 237339254, 6170212, 67246392 ]\n",
      "https://www.npr.org/2018/01/18/578612534/accusations-of-frat-house-behavior-trail-la-times-publisher-s-career --> [ 1075579124, 6170212 ]\n",
      "https://www.cjr.org/business_of_news/la-times-lewis-dvorkin.php --> [ 1075579124, 6170212 ]\n",
      "https://sf.curbed.com/2018/1/26/16916742/hunters-point-shipyard-toxic-cleanup --> [ 1075579124, 16553816 ]\n",
      "https://m.huffpost.com/us/entry/us_5a6a09bbe4b06e2532657c66 --> [ 1075579124, 15957448, ..., 817916796, 84007946 ]\n",
      "https://www.nytimes.com/2018/01/30/us/los-angeles-times.html --> [ 1075579124, 68832423, 84007946 ]\n",
      "https://www.buzzfeed.com/tommcallister/defeat-evil-stand-with-philadelphia?utm_term=.ffLjMbDVE#.navY5gQWE --> [ 1075579124, 1433766073 ]\n",
      "https://www.washingtonpost.com/lifestyle/style/los-angeles-times-owner-will-sell-paper-ending-a-long-troubled-relationship/2018/02/06/60f5f42e-0b5f-11e8-95a5-c396801049ef_story.html?utm_term=.c5ec7f7ac871 --> [ 1075579124, 284885853, ..., 42470250, 68832423 ]\n",
      "http://nyti.ms/2BNsWnt --> [ 108184095, 122844763, 2178197532 ]\n",
      "http://wapo.st/2lkLqVn?tid=ss_tw&utm_term=.cb1908a47ae4 --> [ 108184095, 6627232 ]\n",
      "https://www.nytimes.com/2017/12/29/climate/google-search-climate-change.html --> [ 108184095, 1114257600 ]\n",
      "https://www.thedailybeast.com/this-is-the-data-snapchat-doesnt-want-you-to-see --> [ 108184095, 15184321 ]\n",
      "https://www.recode.net/2018/1/18/16906042/cbs-viacom-merger-media-market-landscape-streaming?utm_campaign=recode.social&utm_content=recode&utm_medium=social&utm_source=twitter --> [ 108184095, 945971568 ]\n",
      "https://buff.ly/2GkeK7l --> [ 108184095, 2332626853, ..., 290132637, 551186117 ]\n",
      "https://www.nytimes.com/interactive/2018/01/27/technology/social-media-bots.html?utm_content=buffer29637&utm_medium=social&utm_source=facebook.com&utm_campaign=buffer --> [ 108184095, 14341704, ..., 714661629162602496, 8984352 ]\n",
      "http://nyti.ms/2C9Vsy5 --> [ 108184095, 2178197532 ]\n",
      "http://www.cnn.com/2018/02/13/health/iyw-single-dad-car-surprise-trnd/index.html?sr=twCNN021318iyw-single-dad-car-surprise-trnd1227PMStory --> [ 108184095, 14987459 ]\n",
      "https://www.theatlantic.com/politics/archive/2017/10/more-killings-more-guns/541905/ --> [ 108184095, 14576408, 200186933 ]\n",
      "https://nyti.ms/2hRt90d --> [ 10880812, 169291985, ..., 509608066, 700261033 ]\n",
      "https://nyti.ms/2BFc5Th --> [ 10880812, 22445401 ]\n",
      "http://cnn.it/2nViCGP --> [ 10880812, 263481851 ]\n",
      "https://www.nytimes.com/2017/12/18/world/heroism-altruism-courage-compassion-2017.html --> [ 10880812, 290132637 ]\n",
      "http://abcn.ws/2B5RHZX --> [ 10880812, 74803924 ]\n",
      "http://abcn.ws/2FTBHhe --> [ 10880812, 96589583 ]\n",
      "http://bit.ly/2EcX0Ku --> [ 10880812, 17807843 ]\n",
      "https://nyti.ms/2Bh10dn --> [ 10880812, 14341704 ]\n",
      "https://www.nytimes.com/2018/02/13/arts/design/valentines-day-card-collection.html --> [ 10880812, 18793557 ]\n",
      "https://www.nytimes.com/interactive/2017/10/04/opinion/thoughts-prayers-nra-funding-senators.html?smid=fb-share --> [ 10880812, 145246574, ..., 356355182, 45404617 ]\n",
      "https://www.thestar.com/news/canada/2017/11/11/ontario-knew-about-mercury-site-near-grassy-narrows-for-decades-but-kept-it-secret.html --> [ 108909795, 14879942, 15957448 ]\n",
      "https://gizmodo.com/the-last-of-the-iron-lungs-1819079169 --> [ 108909795, 30688200 ]\n",
      "http://bit.ly/2AulvUF --> [ 108909795, 140966030 ]\n",
      "https://www.theglobeandmail.com/amp/opinion/trump-is-no-genius-but-hes-smart-at-playing-dumb/article37518954/?__twitter_impression=true --> [ 108909795, 1535469170 ]\n",
      "https://m.washingtontimes.com/news/2018/feb/11/paul-nehlen-twitter-account-suspended/ --> [ 108909795, 165793594, ..., 813057413742034944, 895951062 ]\n",
      "https://www.huffingtonpost.com/entry/i-was-a-racist-cop_us_59ef6b76e4b0bf1f88362209 --> [ 110267961, 144143564 ]\n",
      "http://www.cbc.ca/1.4396974 --> [ 110267961, 1578804860 ]\n",
      "http://bit.ly/2hvPvHN --> [ 110267961, 34162519 ]\n",
      "https://www.theglobeandmail.com/opinion/no-postmodernism-at-universities-isnt-a-vile-cancerous-doctrine/article37272519/?utm_medium=Referrer:+Social+Network+/+Media&utm_campaign=Shared+Web+Article+Links --> [ 110267961, 282190774 ]\n",
      "https://www.theatlantic.com/education/archive/2017/12/progressives-are-undermining-public-schools/548084/?utm_source=twb --> [ 110267961, 870328182 ]\n",
      "http://bit.ly/2ouirlW --> [ 110267961, 2269075228, ..., 368112759, 930479718 ]\n",
      "http://wapo.st/deported-and-divided --> [ 110267961, 285751151 ]\n",
      "https://www.nbcnews.com/think/opinion/hugh-jackman-s-role-p-t-barnum-helps-erase-showman-ncna831991 --> [ 110267961, 14768759 ]\n",
      "http://on.wsj.com/2CVXOC2 --> [ 110267961, 564721501, 813057413742034944 ]\n",
      "http://www.cbc.ca/news/canada/british-columbia/charter-solitary-confinement-bc-ruling-1.4491526 --> [ 110267961, 930479718 ]\n",
      "http://www.cbc.ca/1.4381070 --> [ 1114257600, 14879942 ]\n",
      "https://academic.oup.com/bioscience/advance-article/doi/10.1093/biosci/bix125/4605229#.WhNlLpSrm2U.twitter --> [ 1114257600, 129850634 ]\n",
      "http://wapo.st/2hIRiFz?tid=ss_tw&utm_term=.fa25781bdedd --> [ 1114257600, 1901872572 ]\n",
      "https://www.nytimes.com/2018/01/19/business/online-courses-are-harming-the-students-who-need-the-most-help.html --> [ 1114257600, 129850634, 1384837974 ]\n",
      "https://www.vox.com/policy-and-politics/2017/10/26/16553748/puerto-rico-nurses-fema --> [ 11360602, 15098171, 3910951103 ]\n",
      "http://www.npr.org/sections/thetwo-way/2017/10/31/561267272/nprs-head-of-news-placed-on-leave-after-past-harassment-allegations-surface --> [ 11360602, 4020267080 ]\n",
      "https://www.nytimes.com/2017/10/22/opinion/chicago-gangs-crime-mothers.html --> [ 11360602, 186931186, 55176705 ]\n",
      "https://www.vox.com/platform/amp/identities/2017/10/26/16533878/race-education-segregation-nikole-hannah-jones --> [ 11360602, 313683437 ]\n",
      "https://medium.com/@jamesbridle/something-is-wrong-on-the-internet-c39c471271d2 --> [ 11360602, 159993936, ..., 315984380, 420284118 ]\n",
      "http://mobile.reuters.com/article/amp/idUSKBN1DG1VT --> [ 11360602, 210945415 ]\n",
      "https://arstechnica.com/tech-policy/2017/11/comcast-quietly-drops-promise-not-to-charge-tolls-for-internet-fast-lanes/?amp=1 --> [ 11360602, 19491541, 2377931 ]\n",
      "https://www.vox.com/policy-and-politics/2017/12/2/16720952/senate-tax-bill-inequality --> [ 11360602, 62363146, 73977188 ]\n",
      "https://news.vice.com/story/nonfatal-police-shootings-data --> [ 11360602, 14124984, ..., 42470250, 95329766 ]\n",
      "http://www.chicagomag.com/city-life/December-2017/Logan-Square-CTA-Data/ --> [ 11360602, 95329766 ]\n",
      "http://www.chicagotribune.com/business/ct-biz-google-art-selfies-20180116-story.html --> [ 11360602, 16595825 ]\n",
      "https://www.propublica.org/article/die-in-childbirth-maternal-death-rate-health-care-system --> [ 11360602, 137733302, 312073250, 819028347875364865 ]\n",
      "https://medium.com/dropbox-design/designers-who-play-with-words-2ea8a7afb9bb --> [ 11360602, 4426600037 ]\n"
     ]
    },
    {
     "name": "stderr",
     "output_type": "stream",
     "text": [
      "https://www.theverge.com/platform/amp/2018/1/26/16932350/ice-immigration-customs-license-plate-recognition-contract-vigilant-solutions?__twitter_impression=true --> [ 11360602, 18602735, ..., 2426218693, 420284118 ]\n",
      "https://www.chicagoreader.com/Bleader/archives/2018/02/07/ten-women-accuse-northwestern-journalism-professor-alec-klein-of-sexual-harassment-and-assault --> [ 11360602, 16595825, 23402525, 242308086 ]\n",
      "http://www.chicagotribune.com/news/local/breaking/ct-met-no-more-parcc-20180207-story.html --> [ 11360602, 144143564 ]\n",
      "https://www.vox.com/platform/amp/2018/2/8/16993172/trump-regulation-immigrants-benefits-public-charge?utm_campaign=vox&utm_content=entry&utm_medium=social&utm_source=twitter&__twitter_impression=true --> [ 11360602, 313683437, 3910951103 ]\n",
      "http://trib.in/2Bs4Bpg --> [ 11360602, 16595825 ]\n",
      "http://bit.ly/2CkTjzI --> [ 11360602, 5357 ]\n",
      "https://www.vox.com/platform/amp/policy-and-politics/2018/2/14/17013570/senate-immigration-proposal-charts?__twitter_impression=true --> [ 11360602, 313683437 ]\n",
      "https://www.nytimes.com/2017/10/23/podcasts/the-daily/the-daily-bill-oreilly-sexual-harassment.html --> [ 113739104, 14341704 ]\n",
      "https://www.washingtonpost.com/news/energy-environment/wp/2017/10/23/let-us-do-our-job-anger-erupts-over-epas-muzzling-of-scientists/ --> [ 113739104, 51154828 ]\n",
      "https://www.nytimes.com/2017/10/25/climate/fires-hurricanes-endangered-animals.html --> [ 113739104, 1198447500, 305270930 ]\n",
      "http://www.businessinsider.com/wsj-mueller-trump-russia-dossier-collusion-clinton-2017-10 --> [ 113739104, 263481851, 368112759 ]\n",
      "http://bit.ly/2ynsVs4 --> [ 113739104, 14737171, ..., 242308086, 45215640 ]\n",
      "https://www.nytimes.com/2017/11/06/us/texas-shooting-church.html?action=Click&contentCollection=BreakingNews&contentID=66052328&pgtype=article --> [ 113739104, 16262059 ]\n",
      "http://www.nj.com/hudson/index.ssf/2017/11/bhalla_bests_defusco_to_win_hoboken_mayoral_race.html --> [ 113739104, 2978646101 ]\n",
      "http://fb.me/OK7ZgqHh --> [ 113739104, 15357017, 33748076 ]\n",
      "http://www.rollingstone.com/culture/features/elon-musk-inventors-plans-for-outer-space-cars-finding-love-w511747 --> [ 113739104, 254713150 ]\n",
      "https://nyti.ms/2hFfvjS --> [ 113739104, 1578804860, ..., 556992335, 95329766 ]\n",
      "https://www.theatlantic.com/science/archive/2017/11/passenger-pigeon-dna/546107/ --> [ 113739104, 1901872572 ]\n",
      "https://news.vice.com/story/keystone-pipeline-oil-spill-could-be-worse-than-we-thought --> [ 113739104, 538285083 ]\n",
      "https://mobile.nytimes.com/2017/11/14/dining/viet-thanh-nguyen-thanksgiving.html?referer=https://www.google.com/ --> [ 113739104, 13099412 ]\n",
      "http://nyti.ms/2jDGMUr --> [ 113739104, 285751151, 705141626029502464 ]\n",
      "https://www.buzzfeed.com/paulmcleod/she-complained-that-a-powerful-congressman-harassed-her?utm_term=.tylYo27Vb#.psLw43neE --> [ 113739104, 144143564 ]\n",
      "https://www.theatlantic.com/science/archive/2017/11/coral-scientists-coping-reefs-mental-health/546440/ --> [ 113739104, 15929200, 6170212 ]\n",
      "http://www.independent.co.uk/news/world/middle-east/yemen-war-saudi-arabia-children-deaths-famine-disease-latest-figures-a8057441.html --> [ 113739104, 6170212, 71278927 ]\n",
      "https://mobile.nytimes.com/2017/11/25/insider/white-nationalist-interview-questions.html --> [ 113739104, 305270930 ]\n",
      "https://www.nytimes.com/2017/11/28/nyregion/new-york-subway-funding-real-estate.html?ref=todayspaper&_r=0 --> [ 113739104, 817916796 ]\n",
      "https://www.theatlantic.com/science/archive/2017/11/hummingbird-tongues/546992/ --> [ 113739104, 14879942 ]\n",
      "http://www.msnbc.com/rachel-maddow-show/during-tax-debate-republican-questions-funding-childrens-health --> [ 113739104, 19014350, 195093267 ]\n",
      "https://nyti.ms/2kkI86P --> [ 113739104, 122844763, ..., 61272585, 6170212 ]\n",
      "http://variety.com/2017/film/news/bryan-singer-fired-bohemian-rhapsody-1202630247/ --> [ 113739104, 77596590 ]\n",
      "http://nyti.ms/2AFkwOy --> [ 113739104, 344056011 ]\n",
      "http://bit.ly/2nKe9q8 --> [ 113739104, 2269075228, ..., 412432325, 421957007 ]\n",
      "https://www.nytimes.com/2017/12/15/climate/arctic-drilling-anwr.html?nytapp=true&_r=0 --> [ 113739104, 258074091 ]\n",
      "https://www.politico.com/magazine/story/2017/12/14/paul-ryan-retire-speaker-ready-leave-washington-216103 --> [ 113739104, 266636002 ]\n",
      "http://nyti.ms/2lmRoEi --> [ 113739104, 378822672 ]\n",
      "https://www.nytimes.com/2018/01/01/movies/times-up-hollywood-women-sexual-harassment.html --> [ 113739104, 120562369, ..., 411111885, 69194007 ]\n",
      "https://nyti.ms/2E6p8gU --> [ 113739104, 33748076 ]\n",
      "https://www.npr.org/2018/01/05/576082463/what-to-do-if-you-come-across-a-frozen-iguana --> [ 113739104, 16262059, 271282858, 305270930 ]\n",
      "https://www.huffingtonpost.com/entry/trump-nuclear-posture-review-2018_us_5a4d4773e4b06d1621bce4c5?q4 --> [ 113739104, 23327117, 941663383 ]\n",
      "https://www.nytimes.com/2018/01/12/opinion/sunday/owl-watching.html --> [ 113739104, 21028191 ]\n",
      "http://wapo.st/2DEGSkp --> [ 113739104, 258074091, 305270930, 6627232 ]\n",
      "https://nyti.ms/2G1Iw0w --> [ 113739104, 290132637 ]\n",
      "https://www.buzzfeed.com/rubycramer/cecile-richards-plans-to-step-down-as-president-of-planned?utm_term=.epLP3kweb --> [ 113739104, 252877167 ]\n",
      "https://nyti.ms/2BmOKIo --> [ 113739104, 237339254 ]\n",
      "https://www.theatlantic.com/politics/archive/2017/11/rluipa/543504/ --> [ 1154349566, 1648631646 ]\n",
      "http://nyti.ms/2zcgRZs --> [ 1154349566, 42470250 ]\n",
      "https://www.commentarymagazine.com/politics-ideas/letter-shithole-immigration-trump/ --> [ 1154349566, 9963562 ]\n",
      "https://www.postandcourier.com/news/racist-signs-appear-in-african-american-studies-department-at-university/article_a784a31e-fadd-11e7-bb40-8f4edf3ca4fc.html?utm_medium=social&utm_source=twitter&utm_campaign=user-share --> [ 1154349566, 45404617 ]\n",
      "https://www.theguardian.com/news/2018/jan/30/mary-beard-the-cult-of?CMP=share_btn_tw --> [ 1154349566, 2718899182 ]\n",
      "https://www.bloomberg.com/view/articles/2018-01-30/megan-mcardle-s-12-rules-for-life --> [ 1154349566, 32386320 ]\n",
      "http://www.nola.com/living/index.ssf/2018/02/jackie_wallace_ted_jackson.html#incart_2box_nola_river_orleans_news --> [ 1154349566, 15098171, ..., 6170212, 803029068 ]\n",
      "https://www.vox.com/policy-and-politics/2017/10/26/16552200/child-allowance-tax-credit-bill-michael-bennet-sherrod-brown?utm_campaign=vox&utm_content=entry&utm_medium=social&utm_source=twitter --> [ 1160474106, 2830828231 ]\n",
      "https://www.axios.com/axios-am-2508303913.html?rebelltitem=2&utm_term=twsocialshare#rebelltitem2 --> [ 1160474106, 13727 ]\n",
      "https://nyti.ms/2hVOeKf --> [ 1160474106, 15957448, 509608066, 6627232 ]\n",
      "https://nyti.ms/2i6t4cm --> [ 1160474106, 244160232 ]\n",
      "http://nyti.ms/2hSZhQB --> [ 1160474106, 18602735 ]\n",
      "http://on.si.com/2AnqMdz --> [ 1160474106, 14074466, 28441829, 9444512 ]\n",
      "https://medium.com/personal-growth/3-simple-words-will-set-you-free-a44a700a5a98 --> [ 1160474106, 91170675 ]\n",
      "https://nyti.ms/2B0qnAg --> [ 1160474106, 122844763 ]\n",
      "https://medium.com/@vkhosla/2017-book-recommendations-aa3633a18baf --> [ 1160474106, 20468289 ]\n",
      "https://nyti.ms/2E6TcJj --> [ 1160474106, 48611246 ]\n",
      "https://nyti.ms/2ExBizV --> [ 1160474106, 411111885 ]\n",
      "https://nyti.ms/2FIKGC2 --> [ 1160474106, 250149639 ]\n",
      "https://medium.com/personal-growth/42-books-that-will-make-you-a-better-person-each-described-in-1-sentence-ee29dc041fc2 --> [ 1160474106, 14074466 ]\n",
      "http://ow.ly/RCh130hL7xl --> [ 1160474106, 15500990, 16553816, 2641478448 ]\n",
      "https://www.nature.com/articles/s41539-017-0018-1 --> [ 1160474106, 1851861800 ]\n",
      "http://nyti.ms/2DSZGjh --> [ 1160474106, 14074466, ..., 509608066, 945971568 ]\n",
      "https://www.theatlantic.com/education/archive/2018/02/what-kids-are-really-learning-about-slavery/552098/?utm_source=twb --> [ 1160474106, 945971568 ]\n",
      "https://nyti.ms/2BNGWk6 --> [ 1160474106, 13099412, ..., 1384837974, 2718899182 ]\n",
      "https://nytimes.com/2017/11/07/world/americas/mass-shootings-us-international.html --> [ 1160474106, 14576408, ..., 58614188, 811500318 ]\n",
      "http://variety.com/2017/biz/news/matt-lauer-accused-sexual-harassment-multiple-women-1202625959/#utm_medium%3Dsocial%26utm_source%3Dtwitter%26utm_campaign%3Dsocial_bar%26utm_content%3Dbottom%26utm_id%3D1202625959 --> [ 117224071, 2332626853, ..., 42470250, 6170212 ]\n",
      "http://bit.ly/2zPYETp --> [ 117224071, 14134511, 411111885 ]\n",
      "https://www.bloomberg.com/news/articles/2017-12-07/silicon-valley-is-sneaking-models-into-this-year-s-holiday-parties --> [ 117224071, 11730942, ..., 941663383, 9444512 ]\n"
     ]
    },
    {
     "name": "stderr",
     "output_type": "stream",
     "text": [
      "https://www.theguardian.com/science/2017/nov/05/donald-trump-accused-blocking-satellite-climate-change-research --> [ 11730942, 140966030, ..., 291486075, 38471570 ]\n",
      "https://nyti.ms/2hQcFoX --> [ 11730942, 378822672 ]\n",
      "http://www.washingtonexaminer.com/jeff-flake-no-doubt-id-support-a-democrat-over-roy-moore/article/2640568 --> [ 11730942, 24746074, 332346899 ]\n",
      "http://www.latimes.com/opinion/op-ed/la-oe-rosenworcel-fcc-net-neutrality-repeal-20171122-story.html --> [ 11730942, 137733302, ..., 24633727, 3039019074 ]\n",
      "https://arstechnica.com/tech-policy/2017/12/comcast-to-customers-just-trustus-about-changed-net-neutrality-pledges/ --> [ 11730942, 48082526 ]\n",
      "http://talkingpointsmemo.com/muckraker/alabama-drivers-licenses-voter-id --> [ 11730942, 168170834 ]\n",
      "http://nyti.ms/2AuLZ8E --> [ 11730942, 15098171, 381734721 ]\n",
      "https://www.nytimes.com/2017/12/23/us/politics/trump-immigration.html?_r=0 --> [ 11730942, 153229972, ..., 72638046, 980865674 ]\n",
      "https://www.propublica.org/article/trump-justice-department-pushes-for-citizenship-question-on-census-alarming-experts --> [ 11730942, 870328182 ]\n",
      "https://www.avclub.com/jemaine-clement-says-flight-of-the-conchords-is-coming-1821825325 --> [ 11730942, 26368063, 811500318 ]\n",
      "http://ow.ly/dYm430hFJFI --> [ 11730942, 125748589, ..., 306284052, 39878985 ]\n",
      "http://www.reuters.com/article/us-usa-immigration-ruling/u-s-judge-blocks-trump-move-to-end-daca-program-for-immigrants-idUSKBN1EZ0AR --> [ 11730942, 285751151 ]\n",
      "https://www.buzzfeed.com/morganshanahan/this-letter-from-a-27-year-old-who-was-dying-of-cancer-will?utm_term=.wo5Gm4A8x --> [ 1173367765, 14074466 ]\n",
      "https://www.theguardian.com/books/2018/jan/11/fragments-of-book-recovered-from-wreck-of-blackbeards-ship?CMP=share_btn_tw&page=with:img-2#img-2 --> [ 1173367765, 13099412 ]\n",
      "https://mobile.nytimes.com/2018/01/23/obituaries/ursula-k-le-guin-acclaimed-for-her-fantasy-fiction-is-dead-at-88.html?referer=https://t.co/iMGWKQWrD4?amp=1#click%3Dhttps%3A%2F%2Ft.co%2FiMGWKQWrD4 --> [ 1173367765, 14107460, ..., 30688200, 312073250 ]\n",
      "http://www.tennessean.com/story/news/2017/10/24/white-lives-matter-rally-shelbyville-tn-white-nationalist/748320001/ --> [ 1173593017, 17916767 ]\n",
      "https://www.nytimes.com/2017/12/27/nyregion/new-york-city-crime-2017.html --> [ 1173593017, 2178197532, 32003235, 521438607 ]\n",
      "http://nyti.ms/2x6BRR1 --> [ 1181077236, 23472725 ]\n",
      "https://www.theguardian.com/news/2017/nov/24/how-the-sandwich-consumed-britain?CMP=Share_iOSApp_Other --> [ 1181077236, 305270930, 315984380 ]\n",
      "http://bit.ly/2mLkmSp --> [ 118863246, 30688200, 485803430 ]\n",
      "http://go.nature.com/2iY7pQz --> [ 118863246, 24582955, ..., 400979653, 91126624 ]\n",
      "http://www.nature.com/articles/nrg.2017.104 --> [ 118863246, 1851861800 ]\n",
      "https://www.theatlantic.com/magazine/archive/2018/03/stealing-from-self-checkout/550940/?utm_source=twb --> [ 118863246, 315984380 ]\n",
      "https://www.statnews.com/2017/11/14/smartphones-decline-teen-mental-health/ --> [ 1198447500, 374724416 ]\n",
      "https://goo.gl/3uCXwk --> [ 1198447500, 34162519, ..., 6545702, 870328182 ]\n",
      "https://nyti.ms/2FhBEuL --> [ 1198447500, 200186933 ]\n",
      "https://www.nytimes.com/2018/01/03/well/move/exercise-microbiome-health-weight-gut-bacteria.html --> [ 1198447500, 430289618 ]\n",
      "https://nyti.ms/2jeTPeW --> [ 120562369, 412432325 ]\n",
      "https://www.washingtonpost.com/investigations/eight-women-say-charlie-rose-sexually-harassed-them--with-nudity-groping-and-lewd-calls/2017/11/20/9b168de8-caec-11e7-8321-481fd63f174d_story.html?tid=ss_tw&utm_term=.5c6a131cace2 --> [ 120562369, 16262059, 20297345, 293734116 ]\n",
      "http://fb.me/88RbDjYub --> [ 120562369, 3910951103 ]\n",
      "https://www.npr.org/sections/thetwo-way/2017/11/28/567026934/npr-chief-news-editor-departs-in-wake-of-harassment-allegations --> [ 120562369, 19000490 ]\n",
      "http://www.latimes.com/business/la-fi-la-weekly-semanal-20171018-story.html --> [ 120562369, 254713150 ]\n",
      "https://www.washingtonpost.com/amphtml/news/business/wp/2017/12/04/john-oliver-grills-dustin-hoffman-over-sexual-harassment-allegation/ --> [ 120562369, 19000490, 20331530 ]\n",
      "https://nyti.ms/2oXpQdG --> [ 120562369, 258074091 ]\n",
      "https://www.nytimes.com/interactive/2017/opinion/year-in-illustration.html?action=click&pgtype=Homepage&clickSource=story-heading&module=opinion-c-col-right-region&region=opinion-c-col-right-region&WT.nav=opinion-c-col-right-region --> [ 120562369, 15357017, 51154828 ]\n",
      "https://nyti.ms/2pUymLc --> [ 120562369, 1676661781, ..., 705141626029502464, 72758489 ]\n",
      "https://www.theroot.com/recy-taylor-a-symbol-of-jim-crows-forgotten-horror-1790862716 --> [ 120562369, 26548553 ]\n",
      "http://wapo.st/2n05mNs --> [ 120562369, 16262059 ]\n",
      "http://wapo.st/2E8dljs --> [ 120562369, 14331326, ..., 30174656, 6170212 ]\n",
      "https://www.npr.org/sections/thetwo-way/2018/01/29/581511023/fema-to-end-food-and-water-aid-for-puerto-rico --> [ 120562369, 34162519, 72638046, 73977188 ]\n",
      "http://nyti.ms/2np5YwN --> [ 120562369, 620255756, 84007946 ]\n",
      "https://www.hollywoodreporter.com/live-feed/why-fresh-boat-is-doing-an-episode-mandarin-guest-column-1082443 --> [ 120562369, 1660288465 ]\n",
      "http://nyti.ms/2F4wdAB --> [ 120562369, 6170212 ]\n",
      "http://ow.ly/gpdW30gblHx --> [ 122844763, 17821643, 39878985 ]\n",
      "https://nyti.ms/2iG2jLO --> [ 122844763, 1916013997, 378822672, 3910951103 ]\n",
      "https://nyti.ms/2jcqPEl --> [ 122844763, 14341704, ..., 32003235, 811500318 ]\n",
      "http://bit.ly/2yFflQQ --> [ 122844763, 3138063036 ]\n",
      "https://www.newyorker.com/news/our-columnists/degrading-ritual-sarah-huckabee-sanders-pre-thanksgiving-press-briefing/amp --> [ 122844763, 15957448, 2178197532 ]\n",
      "https://www.nytimes.com/2017/11/23/opinion/america-war-casualties-soldiers.html?rref=collection/sectioncollection/opinion&action=click&contentCollection=opinion&region=rank&module=package&version=highlights&contentPlacement=8&pgtype=sectionfront --> [ 122844763, 20550728, 2178197532 ]\n",
      "https://mobile.nytimes.com/2017/11/23/opinion/saudi-prince-mbs-arab-spring.html?referer= --> [ 122844763, 5357 ]\n",
      "http://bit.ly/2zmN1TG --> [ 122844763, 45678122, 95329766 ]\n",
      "https://www.newyorker.com/magazine/2017/12/11/success-academys-radical-educational-experiment --> [ 122844763, 200186933 ]\n",
      "http://nyti.ms/2EttEr3 --> [ 122844763, 41368680 ]\n",
      "http://nyti.ms/2F1W23F --> [ 122844763, 21031956 ]\n",
      "https://lnkd.in/dp_ER-g --> [ 123450038, 50040434 ]\n",
      "http://ow.ly/Vxmf30ghPa3 --> [ 123450038, 245351327 ]\n",
      "http://bit.ly/2hOev9Q --> [ 123450038, 30688200 ]\n",
      "https://www.fastcodesign.com/90149212/beyond-the-cult-of-human-centered-design --> [ 123450038, 63035222 ]\n",
      "https://buff.ly/2hhPJSq --> [ 123450038, 28258373 ]\n",
      "https://www.fastcodesign.com/90157777/this-is-the-worlds-first-graphical-ai-interface --> [ 123450038, 63035222, 69791520 ]\n",
      "http://www.newsweek.com/alabama-un-poverty-environmental-racism-743601 --> [ 1252494218, 365728646 ]\n",
      "https://www.theguardian.com/inequality/2017/dec/27/worlds-richest-500-see-increased-their-wealth-by-1tn-this-year?CMP=share_btn_tw --> [ 1252494218, 21032360 ]\n",
      "https://mobile.nytimes.com/2018/01/15/business/dealbook/blackrock-laurence-fink-letter.html?referer=https://mobile-nytimes-com.cdn.ampproject.org/c/s/mobile.nytimes.com/2018/01/15/business/dealbook/blackrock-laurence-fink-letter.amp.html --> [ 1252494218, 237407801, ..., 33705943, 9963562 ]\n",
      "https://www.vox.com/policy-and-politics/2018/1/16/16897474/mass-incarceration-crime-chart-2016?utm_campaign=vox&utm_content=entry&utm_medium=social&utm_source=twitter --> [ 1252494218, 18507316 ]\n",
      "http://bit.ly/2E0QG8K --> [ 1252494218, 373190561 ]\n",
      "http://www.latimes.com/local/california/la-me-lopez-homeless-20180128-story.html --> [ 1252494218, 16726339, 6170212 ]\n",
      "http://www.latimes.com/local/lanow/la-me-homeless-how-we-got-here-20180201-story.html --> [ 1252494218, 195093267 ]\n",
      "http://wapo.st/2zzAa03?tid=ss_tw&utm_term=.612aace508d7 --> [ 125686327, 819028347875364865 ]\n",
      "http://wapo.st/2zzq5Ai?tid=ss_tw&utm_term=.0b1688a83c0d --> [ 125686327, 15348009, ..., 34162519, 421957007 ]\n",
      "http://wapo.st/2zNqizP --> [ 125686327, 6627232 ]\n",
      "https://www.washingtonpost.com/opinions/the-russia-investigations-spectacular-accumulation-of-lies/2017/11/16/741024bc-cb0e-11e7-8321-481fd63f174d_story.html --> [ 125686327, 1648631646 ]\n",
      "http://wapo.st/2j3PPKd?tid=ss_tw-bottom&utm_term=.a6a75def4dec --> [ 125686327, 129850634 ]\n"
     ]
    },
    {
     "name": "stderr",
     "output_type": "stream",
     "text": [
      "https://nyti.ms/2jRW0W1 --> [ 125686327, 129850634, 2332626853 ]\n",
      "http://nyti.ms/2zoLbOc --> [ 125686327, 16595825, ..., 61272585, 803029068 ]\n",
      "https://www.washingtonpost.com/news/the-switch/wp/2017/12/14/the-fcc-is-expected-to-repeal-its-net-neutrality-rules-today-in-a-sweeping-act-of-deregulation/ --> [ 125686327, 279214346, 68832423 ]\n",
      "http://www.businessinsider.com/unusual-russia-brief-lawsuit-trump-roger-stone-2017-12 --> [ 125686327, 564663702 ]\n",
      "https://www.nytimes.com/2017/12/16/us/politics/pentagon-program-ufo-harry-reid.html --> [ 125686327, 21028191, ..., 700261033, 71278927 ]\n",
      "http://nyti.ms/2DV2IPH --> [ 125686327, 14554234, ..., 368112759, 509608066 ]\n",
      "https://thinkprogress.org/kris-kobach-voter-fraud-findings-ebe089540ede/ --> [ 125686327, 3000588429 ]\n",
      "http://wapo.st/2AQVXfR?tid=ss_tw&utm_term=.b75981e7e753 --> [ 125686327, 138026139, ..., 63793150, 84007946 ]\n",
      "https://trib.al/vaoicZl --> [ 125686327, 144143564 ]\n",
      "http://nymag.com/daily/intelligencer/2018/02/nunes-fine-the-fbi-didnt-lie-but-its-font-was-too-small.html --> [ 125686327, 7004572 ]\n",
      "http://nbcnews.to/2GZjVKi --> [ 125686327, 168170834, ..., 5354852, 6627232 ]\n",
      "https://www.nytimes.com/2018/02/13/us/politics/stormy-daniels-michael-cohen-trump.html --> [ 125686327, 20468289 ]\n",
      "https://www.wired.com/story/pro-gun-russian-bots-flood-twitter-after-parkland-shooting --> [ 125686327, 14987459, 517937578 ]\n",
      "http://fb.me/8HxFnNEn6 --> [ 125748589, 15357017 ]\n",
      "https://shareblue.com/shareblue-media-reporter-violently-arrested-while-covering-gop-nominee-for-virginia-governor/ --> [ 125748589, 2377931 ]\n",
      "https://www.businessinsider.com/carter-page-congressional-testimony-transcript-steele-dossier-2017-11 --> [ 125748589, 240926950 ]\n",
      "http://reason.com/blog/2017/11/15/protecting-public-from-female-breasts --> [ 125748589, 26368063 ]\n",
      "https://nyti.ms/2hGLG2q --> [ 125748589, 20468289, 210945415 ]\n",
      "https://projects.propublica.org/graphics/wh-complex?utm_source=pardot&utm_medium=email&utm_campaign=dailynewsletter --> [ 125748589, 17807843, ..., 55176705, 63793150 ]\n",
      "https://www.nytimes.com/2018/01/04/us/politics/trump-sessions-russia-mcgahn.html?_r=0 --> [ 125748589, 129850634, 24371595 ]\n",
      "http://www.businessinsider.com/stephen-miller-escorted-off-cnn-2018-1 --> [ 125748589, 332346899 ]\n",
      "https://www.cbsnews.com/news/white-house-struggles-with-muting-function-on-iran-conference-call-with-reporters/ --> [ 125748589, 50040434 ]\n",
      "http://ow.ly/OC9W30hQqTf --> [ 125748589, 39878985 ]\n",
      "http://money.cnn.com/2018/01/12/pf/housing-prices-food-bank/index.html --> [ 12605112, 24371595 ]\n",
      "https://medium.com/@AINowInstitute/the-10-top-recommendations-for-the-ai-field-in-2017-b3253624a7 --> [ 12754522, 2941377939 ]\n",
      "https://www.theguardian.com/commentisfree/2017/oct/24/google-alphabet-sidewalk-labs-toronto --> [ 12754522, 15069435, 22445401 ]\n",
      "http://bit.ly/2mLu4Ef --> [ 12754522, 21676243, 618556806, 68901673 ]\n",
      "https://sloanreview.mit.edu/article/architect-your-company-for-agility/ --> [ 12754522, 91170675 ]\n",
      "https://goo.gl/WQC94M --> [ 12754522, 140966030 ]\n",
      "https://www.thedailybeast.com/strava-fitness-tracker-app-exposes-taiwans-missile-command-center --> [ 12754522, 8984352 ]\n",
      "https://www.politico.com/agenda/story/2018/02/07/technology-interview-mit-david-autor-000629 --> [ 12754522, 1384837974 ]\n",
      "https://www.newyorker.com/magazine/2017/11/06/declaration --> [ 128648678, 19491541, ..., 369550687, 6545702 ]\n",
      "https://www.nytimes.com/2017/11/11/us/politics/trump-judiciary-appeals-courts-conservatives.html --> [ 128648678, 210945415 ]\n",
      "https://www.buzzfeed.com/ryanmac/peter-thiel-may-want-to-buy-gawker-dot-com?utm_term=.mvQmmqdxd#.dnpMM5GlG --> [ 128648678, 1872519374, 19546153, 941663383 ]\n",
      "http://www.latimes.com/local/obituaries/la-me-harry-pregerson-snap-story,amp.html --> [ 128648678, 620255756 ]\n",
      "http://wapo.st/2Ab1sJN --> [ 128648678, 140966030, ..., 977040996, 980865674 ]\n",
      "https://news.stanford.edu/news/2009/september28/shloss-joyce-settlement-092809.html --> [ 128648678, 27059413 ]\n",
      "https://www.nytimes.com/2018/01/04/us/politics/trump-sessions-russia-mcgahn.html?_r=1 --> [ 128648678, 14338931 ]\n",
      "http://nyti.ms/2yDMsUn --> [ 129850634, 20491034, ..., 359074742, 413257620 ]\n",
      "https://nyti.ms/2zsiQFY --> [ 129850634, 359074742 ]\n",
      "https://www.thenation.com/article/interior-department-scrubs-climate-change-from-its-strategic-plan/ --> [ 129850634, 817916796 ]\n",
      "https://www.nytimes.com/2017/10/28/world/africa/rwanda-plastic-bags-banned.html?_r=0 --> [ 129850634, 15184321 ]\n",
      "http://nyti.ms/2zhpq6d --> [ 129850634, 29638102 ]\n",
      "https://buff.ly/2z88U8n --> [ 129850634, 137733302, ..., 28258373, 553602613 ]\n",
      "https://www.nytimes.com/2017/11/03/climate/us-climate-report.html --> [ 129850634, 18033327, 48611246, 620255756 ]\n",
      "https://nyti.ms/2hUiHFg --> [ 129850634, 22334473, 33705943 ]\n",
      "https://www.nytimes.com/interactive/2017/11/11/climate/houston-flooding-climate.html --> [ 129850634, 21676243, 344056011 ]\n",
      "https://www.washingtonpost.com/news/speaking-of-science/wp/2017/11/13/thousands-of-scientists-issue-bleak-second-notice-to-humanity/ --> [ 129850634, 895951062 ]\n",
      "http://www.cnn.com/2017/11/16/us/keystone-pipeline-leak/index.html --> [ 129850634, 895951062 ]\n",
      "http://wapo.st/2hAN0Ac?tid=ss_tw-bottom&utm_term=.631761834821 --> [ 129850634, 19753693, 2178197532 ]\n",
      "http://www.forbes.com/sites/stancollender/2017/11/19/gop-tax-bill-is-the-end-of-all-economic-sanity-in-washington/#577b494d77ef --> [ 129850634, 34162519 ]\n",
      "https://thinkprogress.org/solar-wind-keep-getting-cheaper-33c38350fb95/ --> [ 129850634, 538285083 ]\n",
      "https://nyti.ms/2hR2cNw --> [ 129850634, 140538505, ..., 55176705, 61272585 ]\n",
      "https://buff.ly/2AmRWnA --> [ 129850634, 30688200, 5354852, 895951062 ]\n",
      "http://econ.st/2zAz9Fy --> [ 129850634, 6170212 ]\n",
      "http://wapo.st/2jeLbsT?tid=ss_tw-amp --> [ 129850634, 3039019074, 305270930 ]\n",
      "https://nyti.ms/2ig79iS --> [ 129850634, 359074742 ]\n",
      "https://www.nytimes.com/2017/11/27/opinion/trump-patriot-russia.html --> [ 129850634, 411111885 ]\n",
      "https://www.nytimes.com/2017/11/30/us/politics/trump-russia-senate-intel.html --> [ 129850634, 368112759 ]\n",
      "https://nyti.ms/2kfMQ5L --> [ 129850634, 15098171 ]\n",
      "https://nytimes.com/2017/12/02/us/russia-mcfarland-flynn-trump-emails.html --> [ 129850634, 19491541 ]\n",
      "https://www.nytimes.com/2017/12/02/opinion/sunday/republicans-broke-congress-politics.html?smprod=nytcore-ipad&smid=nytcore-ipad-share --> [ 129850634, 409144421 ]\n",
      "http://wapo.st/2AxWrJr?tid=ss_tw-bottom&utm_term=.f52cfb94df32 --> [ 129850634, 9444512 ]\n",
      "http://nyti.ms/2ACU0VL --> [ 129850634, 55176705 ]\n",
      "http://wapo.st/2B2YlE5?tid=ss_tw&utm_term=.b8983c142f42 --> [ 129850634, 258074091 ]\n",
      "http://politi.co/2jkjenO --> [ 129850634, 27059413 ]\n",
      "https://nyti.ms/2l1OQiB --> [ 129850634, 200186933, 5562792 ]\n",
      "https://www.theguardian.com/environment/2017/dec/12/arctic-permafrost-sea-ice-thaw-climate-change-report?CMP=Share_iOSApp_Other --> [ 129850634, 19491541 ]\n",
      "https://www.nytimes.com/2017/12/14/us/alabama-evangelical-christians-moore.html --> [ 129850634, 14554234, 290132637 ]\n",
      "https://nyti.ms/2k9KN0i --> [ 129850634, 2178197532, 84007946 ]\n",
      "https://www.nytimes.com/interactive/2017/12/21/world/asia/jakarta-sinking-climate.html --> [ 129850634, 221967226, 368112759 ]\n",
      "https://medium.com/future-crunch/99-reasons-2017-was-a-good-year-d119d0c32d19 --> [ 129850634, 2298829188 ]\n",
      "https://nyti.ms/2DRiufl --> [ 129850634, 2332626853, 285751151, 583393798 ]\n",
      "http://wapo.st/2lh2IBQ --> [ 129850634, 16262059, 50040434 ]\n",
      "https://www.scientificamerican.com/article/men-resist-green-behavior-as-un-manly/ --> [ 129850634, 15069435, 373190561 ]\n",
      "https://mobile.nytimes.com/2017/12/29/opinion/sunday/the-only-way-to-keep-your-resolutions.html?partner=rss&emc=rss&referer= --> [ 129850634, 21594379 ]\n",
      "https://www.hollywoodreporter.com/news/michael-wolff-my-insane-year-inside-trumps-white-house-1071504 --> [ 129850634, 154566620, ..., 293734116, 320579930 ]\n",
      "https://www.washingtonpost.com/news/energy-environment/wp/2018/01/04/the-worlds-coral-reefs-used-to-bleach-once-every-few-decades-now-its-once-every-6-years/?utm_term=.0a09297e3d8d --> [ 129850634, 551186117 ]\n",
      "http://nyti.ms/2EraX6j --> [ 129850634, 14768759, ..., 237339254, 24371595 ]\n",
      "http://www.newsweek.com/billionaires-money-end-poverty-report-786675 --> [ 129850634, 34162519 ]\n"
     ]
    },
    {
     "name": "stderr",
     "output_type": "stream",
     "text": [
      "https://www.nytimes.com/2018/01/25/us/politics/trump-mueller-special-counsel-russia.html --> [ 129850634, 6627232, 84007946 ]\n",
      "https://www.washingtonpost.com/politics/using-his-position-for-private-gain-hud-lawyers-warned-ben-carson-risked-running-afoul-of-ethics-rules-by-enlisting-son/2018/01/31/bb20c48e-0532-11e8-8777-2a059f168dd2_story.html?tid=ss_tw&utm_term=.4d2d3f254c0f --> [ 129850634, 20550728 ]\n",
      "https://www.lawfareblog.com/i-hope-instance-fake-news-fbi-messages-show-bureaus-real-reaction-trump-firing-james-comey --> [ 129850634, 48762865 ]\n",
      "https://www.theatlantic.com/magazine/archive/2018/03/boycott-the-gop/550907/ --> [ 129850634, 1851861800 ]\n",
      "http://wapo.st/redwolves --> [ 129850634, 68832423 ]\n",
      "https://www.theguardian.com/education/2018/feb/01/schools-across-the-us-exposed-to-air-pollution-hildren-are-facing-risks?CMP=share_btn_tw --> [ 129850634, 19014350 ]\n",
      "https://www.washingtonpost.com/news/national/wp/2018/02/07/feature/as-climate-changes-threaten-californias-giant-redwoods-the-key-to-their-salvation-might-be-within-them/?utm_term=.4a638736f449 --> [ 129850634, 2179078237, 6170212 ]\n",
      "http://www.bbc.com/news/world-42982959 --> [ 129850634, 2377931 ]\n",
      "http://nyti.ms/2EoaEtf --> [ 129850634, 48591980 ]\n",
      "https://www.nytimes.com/2017/10/21/style/the-end-of-freeways.html --> [ 13099412, 21676243 ]\n",
      "https://nyti.ms/2ztJfUa --> [ 13099412, 14987459 ]\n",
      "https://www.nytimes.com/2017/10/23/sports/the-athletic-newspapers.html --> [ 13099412, 306284052, 72758489, 977040996 ]\n",
      "https://www.nytimes.com/2017/10/24/nyregion/warm-autumn-weather.html?emc=edit_ur_20171025&nl=new-york-today&nlid=77981217&te=1&_r=0 --> [ 13099412, 27661276 ]\n",
      "https://www.nytimes.com/2017/10/24/business/lord-taylor-wework.html?smid=fb-share --> [ 13099412, 824039958457434112 ]\n",
      "http://www.politico.com/story/2017/10/21/millennials-trump-paying-for-news-244001 --> [ 13099412, 20491034, 27661276, 42470250 ]\n",
      "https://nyti.ms/2zbZt5u --> [ 13099412, 137733302, 240271961 ]\n",
      "https://www.nytimes.com/2017/11/04/opinion/sunday/kids-would-you-please-start-fighting.html --> [ 13099412, 14157920, 16513878, 620255756 ]\n",
      "https://www.nytimes.com/2017/11/08/world/universities-offshore-investments.html --> [ 13099412, 251605462, ..., 4896662379, 6271482 ]\n",
      "http://nyti.ms/2jtKmk4 --> [ 13099412, 18793557 ]\n",
      "https://www.nytimes.com/2017/11/13/health/supercentenarians-genetics-longevity.html --> [ 13099412, 906926615472390144 ]\n",
      "https://www.nytimes.com/2017/11/14/us/walmart-parking-rv.html --> [ 13099412, 14324839, 350890164 ]\n",
      "https://www.nytimes.com/2017/11/21/us/thanksgiving-myths-fact-check.html?module=WatchingPortal&region=c-column-middle-span-region&pgType=Homepage&action=click&mediaId=thumb_square&state=standard&contentPlacement=2&version=internal&contentCollection=www.nytimes.com&contentId=https://www.nytimes.com/2017/11/21/us/thanksgiving-myths-fact-check.html&eventName=Watching-article-click --> [ 13099412, 214556584, 378822672 ]\n",
      "https://www.racked.com/2017/11/21/16624768/author-photo-outfits --> [ 13099412, 28631446 ]\n",
      "http://ow.ly/Lccj30gxPeN --> [ 13099412, 32386320 ]\n",
      "https://www.nytimes.com/2017/11/28/dining/black-vegan-cooking.html?smid=tw-nytimes&smtyp=cur --> [ 13099412, 17035592 ]\n",
      "https://www.nytimes.com/2017/12/07/fashion/mens-style/whats-the-deal-with-that-guys-fluffy-hair.html?rref=collection/sectioncollection/politics&action=click&contentCollection=politics&region=stream&module=stream_unit&version=latest&contentPlacement=9&pgtype=sectionfront&_r=0 --> [ 13099412, 274590281 ]\n",
      "https://buff.ly/2CIdc5e --> [ 13099412, 3387845801 ]\n",
      "https://trib.al/ZxR7EkG --> [ 13099412, 306284052, 45215640 ]\n",
      "https://www.washingtonpost.com/entertainment/books/two-dying-memoirists-wrote-bestsellers-about-their-final-days-then-their-spouses-fell-in-love/2018/01/03/3143305a-ebe5-11e7-9f92-10a2203f6c8d_story.html?utm_term=.6d4ff84c434f --> [ 13099412, 79240290 ]\n",
      "http://nyti.ms/2quAmd7 --> [ 13099412, 15098171, ..., 556992335, 68832423 ]\n",
      "http://nyti.ms/2FPeMUh --> [ 13099412, 16513878, 260021840, 79240290 ]\n",
      "https://www.nytimes.com/2018/01/19/business/sports-arena-development.html --> [ 13099412, 68901673 ]\n",
      "https://www.nytimes.com/2018/01/21/technology/inside-amazon-go-a-store-of-the-future.html?utm_source=The+Muck+Rack+Daily&utm_campaign=4fe32148f6-EMAIL_CAMPAIGN_2018_01_22&utm_medium=email&utm_term=0_af2b2023a3-4fe32148f6-19362481 --> [ 13099412, 18083537, 31162511 ]\n",
      "http://ow.ly/6kCg30icWHL --> [ 13099412, 39878985 ]\n",
      "https://www.washingtonpost.com/news/wonk/wp/2018/02/03/the-u-s-government-is-set-to-borrow-nearly-1-trillion-this-year/ --> [ 13099412, 221967226, ..., 5354852, 980865674 ]\n",
      "https://nyti.ms/2GNLcPM --> [ 13099412, 16595825 ]\n",
      "https://www.washingtonpost.com/news/wonk/wp/2017/11/02/winners-and-losers-in-the-gop-tax-plan/ --> [ 1336811, 14576408 ]\n",
      "https://www.nytimes.com/2017/11/12/us/nsa-shadow-brokers.html --> [ 1336811, 13727, 16053116, 258074091 ]\n",
      "http://www.ibtimes.com/political-capital/donald-trump-gop-leaders-could-be-enriched-last-minute-tax-break-inserted-final --> [ 1336811, 159893711, 5354852, 886424335040118784 ]\n",
      "https://www.nytimes.com/2017/12/28/nyregion/new-york-subway-construction-costs.html --> [ 1336811, 277426268 ]\n",
      "https://www.nytimes.com/2018/01/18/technology/amazon-finalists-headquarters.html --> [ 1336811, 6545702 ]\n",
      "https://www.nytimes.com/2018/02/02/opinion/leaving-the-fbi.html --> [ 1336811, 3000588429, 381734721 ]\n",
      "https://nyti.ms/2katZZL --> [ 133831189, 3838807353 ]\n",
      "https://www.wsj.com/articles/polarization-is-an-old-american-story-1517613751 --> [ 133831189, 2325329291 ]\n",
      "http://www.postandcourier.com/news/thousands-of-arrest-warrants-for-low-level-offenders-recalled-under/article_bcb8fad6-c4b5-11e7-bc55-b3a9e9cd1c2b.html --> [ 1339961599, 30688200 ]\n",
      "https://www.buzzfeed.com/hannahalothman/a-little-boy-thought-this-accountant-with-a-white-beard-was?utm_term=.tmdo74EJO --> [ 1339961599, 14331326 ]\n",
      "https://medium.com/@SenatorJohnMcCain/remarks-at-the-2017-liberty-medal-ceremony-8d69751a5ac1#---0-492 --> [ 1347391, 346576986 ]\n",
      "http://www.wired.co.uk/article/chinese-government-social-credit-score-privacy-invasion --> [ 1347391, 1648631646, ..., 32386320, 6271482 ]\n",
      "https://buff.ly/2AIX4Cv --> [ 1347391, 265049463 ]\n",
      "https://www.vice.com/en_uk/article/434gqw/i-made-my-shed-the-top-rated-restaurant-on-tripadvisor?utm_campaign=sharebutton --> [ 1347391, 50040434 ]\n",
      "http://nyti.ms/2zKd3vb --> [ 1347391, 15069435, ..., 2178197532, 6627232 ]\n",
      "http://wapo.st/2qduLYy --> [ 1347391, 19276167, ..., 521438607, 583393798 ]\n",
      "http://nyti.ms/2DyrWrt --> [ 1347391, 583393798 ]\n",
      "https://www.fastcodesign.com/90155005/design-discourse-is-in-a-state-of-arrested-development --> [ 1347391, 63035222 ]\n",
      "https://www.nytimes.com/2017/11/04/business/a-broke-and-broken-flood-insurance-program.html --> [ 1360711886, 618556806 ]\n",
      "https://nyti.ms/2htGMFZ --> [ 1360711886, 930479718 ]\n",
      "https://grist.org/article/antarctica-doomsday-glaciers-could-flood-coastal-cities/ --> [ 1360711886, 148118889, ..., 19491541, 335783721 ]\n",
      "http://grist.org/article/get-used-to-saying-bomb-cyclone-this-is-our-climate-now/ --> [ 1360711886, 538285083 ]\n",
      "https://www.newyorker.com/tech/elements/a-floating-house-to-resist-the-floods-of-climate-change --> [ 1360711886, 305270930 ]\n",
      "https://www.nytimes.com/2018/01/07/nyregion/new-york-city-flood-maps-fema.html?hp&action=click&pgtype=Homepage&clickSource=story-heading&module=first-column-region&region=top-news&WT.nav=top-news&_r=0 --> [ 1360711886, 17807843, 258074091 ]\n",
      "http://www.newsweek.com/white-supremacists-killed-2017-extremist-783638 --> [ 1360711886, 144143564 ]\n",
      "https://nyti.ms/2E9pK5B --> [ 13727, 2330671489 ]\n",
      "https://www.washingtonpost.com/politics/my-pain-is-everyday-after-weinsteins-fall-trump-accusers-wonder-why-not-him/2017/10/21/bce67720-b585-11e7-be94-fabb0f1e9ffb_story.html --> [ 137733302, 1475875682, ..., 19153715, 6627232 ]\n",
      "http://www.nybooks.com/daily/2017/11/06/year-one-our-president-ubu/ --> [ 137733302, 20331530 ]\n",
      "http://www.al.com/opinion/index.ssf/2017/11/our_view_alabama_voters_must_r.html --> [ 137733302, 144143564 ]\n",
      "https://www.nytimes.com/2017/11/18/business/student-loans-licenses.html --> [ 137733302, 144143564, ..., 312073250, 412432325 ]\n",
      "https://nyti.ms/2hV7BTN --> [ 137733302, 34687955 ]\n"
     ]
    },
    {
     "name": "stderr",
     "output_type": "stream",
     "text": [
      "https://www.nytimes.com/2017/12/05/world/middleeast/american-embassy-israel-trump-move.html?smid=fb-nytimes&smtyp=cur --> [ 137733302, 21990304, 2332626853 ]\n",
      "https://www.nytimes.com/2018/01/12/us/politics/trump-immigration-congress.html --> [ 137733302, 583393798 ]\n",
      "https://mobile.nytimes.com/2018/01/12/opinion/proud-nation-of-holers.html --> [ 137733302, 282190774 ]\n",
      "http://www.nybooks.com/articles/2018/02/08/to-be-or-not-to-be/ --> [ 137733302, 15957448 ]\n",
      "https://www.theguardian.com/world/2017/nov/21/after-the-liberation-of-mosul-an-orgy-of-killing?CMP=share_btn_tw --> [ 138026139, 15957448 ]\n",
      "https://theintercept.com/2017/11/29/met-police-snowden-leaks-operation-curable/ --> [ 138026139, 941663383 ]\n",
      "https://www.theguardian.com/world/2017/dec/28/saudi-led-airstrikes-yemen-war-united-nations --> [ 138026139, 472127689 ]\n",
      "https://www.theguardian.com/world/2018/jan/19/turkey-begins-assault-kurdish-enclave-in-syria?CMP=Share_AndroidApp_Slack --> [ 138026139, 225242731 ]\n",
      "https://www.theguardian.com/uk-news/2018/jan/30/uk-mass-digital-surveillance-regime-ruled-unlawful-appeal-ruling-snoopers-charter?CMP=share_btn_tw --> [ 138026139, 17170407, 420284118, 59413748 ]\n",
      "https://www.nytimes.com/2017/11/19/technology/midwest-tech-startups.html --> [ 1384837974, 16000572, ..., 34413691, 618556806 ]\n",
      "http://fb.me/IJqfVXLN --> [ 1384837974, 15357017 ]\n",
      "https://nyti.ms/2kkj4gd --> [ 1384837974, 14576408, ..., 34413691, 38228284 ]\n",
      "https://www.nytimes.com/2017/12/15/nyregion/manual-elevators-operators.html --> [ 1384837974, 21028191, 277426268 ]\n",
      "http://bit.ly/2CW0Yq6 --> [ 1384837974, 165793594 ]\n",
      "https://www.theatlantic.com/technology/archive/2018/01/the-shallowness-of-google-translate/551570/ --> [ 1384837974, 27858863 ]\n",
      "http://econ.st/2fjCCfg --> [ 140538505, 277426268 ]\n",
      "http://www.bbc.com/news/health-42430895 --> [ 140538505, 409144421 ]\n",
      "http://www.bbc.com/news/science-environment-42335230 --> [ 140538505, 18602735 ]\n",
      "https://arstechnica.com/?post_type=post&p=1251427 --> [ 140538505, 824039958457434112 ]\n",
      "https://buff.ly/2H3ILbU --> [ 140538505, 90787923 ]\n",
      "http://www.cnn.com/style/article/japan-vending-machines-eiji-ohashi/index.html --> [ 14074466, 3039019074 ]\n",
      "https://www.theguardian.com/lifeandstyle/2017/nov/04/aisling-bea-my-fathers-death-has-given-me-a-love-of-men-of-their-vulnerability-and-tenderness?CMP=Share_iOSApp_Other --> [ 14074466, 27645239, 320579930 ]\n",
      "https://nyti.ms/2kaqfaJ --> [ 14074466, 17770297, ..., 2978646101, 941663383 ]\n",
      "http://metro.co.uk/2017/12/02/icelands-new-pm-is-a-41-year-old-anti-war-feminist-and-environmentalist-7126584/ --> [ 14074466, 34162519 ]\n",
      "http://www.theonion.com/alabama-forced-to-release-thousands-of-sex-offenders-af-1821015675?utm_medium=sharefromsite&utm_source=The_Onion_twitter --> [ 14074466, 2332626853, ..., 54021334, 5562792 ]\n",
      "https://nyti.ms/2kLyMRS --> [ 14074466, 16262059, ..., 700261033, 803029068 ]\n",
      "http://politics.theonion.com/panicked-donald-trump-jr-tries-to-cover-up-contact-wit-1821133627?utm_medium=sharefromsite&utm_source=Politics_twitter --> [ 14074466, 2278396334, 45678122 ]\n",
      "https://nyti.ms/2kqKTzW --> [ 14074466, 15098171, ..., 24371595, 2821336312 ]\n",
      "http://www.theonion.com/silicon-valley-startup-seeks-to-change-the-way-women-fl-1821338160?utm_medium=sharefromsite&utm_source=The_Onion_twitter --> [ 14074466, 148118889 ]\n",
      "http://politics.theonion.com/paul-ryan-slits-auto-mechanic-s-throat-to-kick-off-gop-1821475569?utm_medium=sharefromsite&utm_source=Politics_twitter --> [ 14074466, 1433766073, 19276167, 4870051037 ]\n",
      "https://medium.com/@agzmn/the-making-of-apples-emoji-how-designing-these-tiny-icons-changed-my-life-16317250a9ee --> [ 14074466, 603385690 ]\n",
      "https://www.usatoday.com/story/news/nation-now/2016/05/26/haiti-born-cadet-weeps-west-point-graduation/84965636/ --> [ 14074466, 14341704 ]\n",
      "http://www.cnn.com/2018/01/19/health/michael-phelps-depression/index.html --> [ 14074466, 263481851, 941663383 ]\n",
      "https://www.wired.com/story/margit-wennmachers-is-andreessen-horowitzs-secret-weapon/?mbid=social_twitter_onsiteshare --> [ 14074466, 15182072 ]\n",
      "https://www.cnbc.com/2018/01/30/amazon-berkshire-hathaway-and-jpmorgan-chase-to-partner-on-us-employee-health-care.html --> [ 14074466, 21594379 ]\n",
      "https://sports.theonion.com/cleveland-indians-owner-admits-chief-wahoo-no-longer-co-1822530608 --> [ 14074466, 19276167 ]\n",
      "http://www.latimes.com/local/lanow/la-me-ln-belmont-high-shooting-20180201-story.html --> [ 14074466, 14576408 ]\n",
      "https://trib.al/1mLCc9D --> [ 14074466, 221967226, 277426268 ]\n",
      "https://trib.al/KTI6Ae3 --> [ 14074466, 19276167 ]\n",
      "https://news.nationalgeographic.com/2017/12/polar-bear-starving-arctic-sea-ice-melt-climate-change-spd/?utm_source=Facebook&utm_medium=Social&utm_content=link_fb20171208news-polarbearstarving&utm_campaign=Content&sf175679422=1 --> [ 140966030, 17807843, ..., 50040434, 5562792 ]\n",
      "https://nyti.ms/2C8yEQz --> [ 140966030, 1433766073, ..., 293734116, 564663702 ]\n",
      "https://www.theguardian.com/uk-news/2017/dec/14/boxing-champion-awaits-deportation-after-fighting-for-england-six-times?CMP=share_btn_tw --> [ 140966030, 582379466 ]\n",
      "https://www.adl.org/blog/florida-white-supremacist-group-admits-ties-to-alleged-parkland-school-shooter-nikolas-cruz --> [ 140966030, 210945415, 356355182, 551186117 ]\n",
      "http://highline.huffingtonpost.com/articles/en/trump-quitters/ --> [ 14107460, 27661276, 32992891 ]\n",
      "https://www.theatlantic.com/technology/archive/2017/10/what-facebook-did/542502/?utm_source=twb --> [ 14124984, 309519261, 55176705, 817916796 ]\n",
      "https://www.nytimes.com/2017/10/17/opinion/college-advice-professor.html --> [ 14124984, 413257620 ]\n",
      "https://www.buzzfeed.com/charliewarzel/how-people-inside-facebook-are-reacting-to-the-companys?utm_term=.otLGLNrXP --> [ 14124984, 321187683 ]\n",
      "https://www.texastribune.org/2017/11/01/russian-facebook-page-organized-protest-texas-different-russian-page-l/ --> [ 14124984, 148118889, 28631446 ]\n",
      "https://www.fastcompany.com/40485634/equifax-salary-data-and-the-work-number-database --> [ 14124984, 18602735 ]\n",
      "https://www.poynter.org/training-events/2018-leadership-academy-women-digital-media --> [ 14124984, 28631446, 39878985, 8984352 ]\n",
      "http://wapo.st/2jd0Ltk?tid=ss_tw&utm_term=.bdedb4a387bf --> [ 14124984, 258074091 ]\n",
      "https://www.bloomberg.com/news/features/2017-12-21/inside-the-facebook-team-helping-regimes-that-reach-out-and-crack-down --> [ 14124984, 364048311 ]\n",
      "https://fb.me/LuC9YAwb --> [ 14124984, 14576408, ..., 35119505, 68901673 ]\n",
      "https://medium.com/@blaisea/do-algorithms-reveal-sexual-orientation-or-just-expose-our-stereotypes-d998fafdf477?source=linkShare-2334856d3f44-1515759932 --> [ 14124984, 2941377939, 420284118 ]\n",
      "https://www.nytimes.com/interactive/2018/jobs/nyt-job-theedit-young-writers.html?smid=fb-share --> [ 14124984, 14737171, ..., 533456181, 6170212 ]\n",
      "https://www.propublica.org/nerds/represent-design-renovation --> [ 14124984, 16595825 ]\n",
      "http://bit.ly/2nTwLkn --> [ 14124984, 564721501 ]\n",
      "https://nyti.ms/2j7nUwD --> [ 14134511, 284885853 ]\n",
      "https://www.nytimes.com/2017/11/09/nyregion/nyu-puerto-rico-hurricane-maria.html --> [ 14134511, 251605462 ]\n",
      "https://www.washingtonpost.com/news/wonk/wp/2017/11/22/37-of-38-economists-said-the-gop-tax-plans-would-grow-the-debt-the-38th-misread-the-question/ --> [ 14134511, 551186117 ]\n",
      "https://www.washingtonpost.com/news/wonk/wp/2017/12/04/is-the-gop-tax-plan-an-unprecedented-windfall-for-the-wealthy-we-look-at-50-years-of-data-to-find-out/?hpid=hp_hp-top-table-main_taxregressive-1245pm:homepage/story&utm_term=.ea579270e9d6 --> [ 14134511, 168170834, 6627232 ]\n",
      "https://www.washingtonpost.com/opinions/this-is-what-puerto-ricans-need-from-the-government-right-now/2017/12/13/fc03ccca-dfb3-11e7-8679-a9728984779c_story.html?utm_term=.397b3ea4f027 --> [ 14134511, 21964473 ]\n",
      "https://www.washingtonpost.com/graphics/2017/national/puerto-rico-life-without-power/?utm_term=.48ac8d6a346c --> [ 14134511, 16439371, ..., 68832423, 77596590 ]\n",
      "http://www.ibtimes.com/political-capital/tax-bill-john-cornyn-says-tax-cut-potentially-benefiting-bob-corker-was-part --> [ 14134511, 2269075228, 3000588429, 30826671 ]\n",
      "http://nyti.ms/2B8jJcq --> [ 14134511, 583393798 ]\n",
      "http://goo.gl/KHNZBu --> [ 14134511, 21032360 ]\n",
      "https://nyti.ms/2EnaNk5 --> [ 14134511, 42470250, 819028347875364865 ]\n"
     ]
    },
    {
     "name": "stderr",
     "output_type": "stream",
     "text": [
      "http://ow.ly/YNLw30gc7L0 --> [ 14157920, 9972002 ]\n",
      "https://www.scientificamerican.com/article/why-do-smart-people-do-foolish-things/ --> [ 14157920, 17807843 ]\n",
      "https://chicago.suntimes.com/news/city-seeking-parties-to-fund-build-operate-ohare-express-service/ --> [ 14157920, 26368063, 55176705, 9444512 ]\n",
      "http://www.bbc.com/news/world-us-canada-41889787 --> [ 14259254, 23327117 ]\n",
      "http://gizmodo.com/how-facebook-figures-out-everyone-youve-ever-met-1819822691 --> [ 14259254, 420284118 ]\n",
      "http://www.latimes.com/opinion/op-ed/la-oe-brightbill-roy-moore-evangelical-culture-20171110-story.html --> [ 14259254, 14345774, 35720261, 6170212 ]\n",
      "https://www.theguardian.com/commentisfree/2018/jan/11/new-york-city-oil-industry-war-divestment --> [ 14259254, 2371310198 ]\n",
      "https://www.theatlantic.com/amp/article/550376/?__twitter_impression=true --> [ 14259254, 420284118 ]\n",
      "https://www.axios.com/staggering-scale-china-infrastructure-142f3b1d-82b5-47b8-8ca9-57beb306f7df.html?utm_source=twitter&utm_medium=twsocialshare&utm_campaign=organic --> [ 14259254, 34173355 ]\n",
      "https://arstechnica.com/information-technology/2018/01/now-even-youtube-serves-ads-with-cpu-draining-cryptocurrency-miners/ --> [ 14259254, 15069435 ]\n",
      "https://www.theguardian.com/technology/2018/feb/02/how-youtubes-algorithm-distorts-truth?CMP=share_btn_tw --> [ 14259254, 315984380, 420284118 ]\n",
      "https://www.buzzfeed.com/jessesinger/ban-cars --> [ 14324839, 5562792 ]\n",
      "https://www.wsj.com/amp/articles/polish-nationalist-youth-march-draws-thousands-in-capital-1510429006 --> [ 14324839, 16302584, ..., 5562792, 6170212 ]\n",
      "http://wapo.st/2DlmqUA --> [ 14324839, 221967226, ..., 373190561, 618556806 ]\n",
      "https://www.fastcompany.com/40482848/will-ferrell-is-your-distracted-dad-in-these-tech-responsibility-psas --> [ 14331326, 34687955 ]\n",
      "https://www.fastcompany.com/40483243/why-ideos-fred-dust-thinks-we-must-relearn-the-art-of-dialogue --> [ 14331326, 895951062 ]\n",
      "https://www.nytimes.com/2017/11/10/fashion/weddings/sam-siatta-marries-ashley-volk.html --> [ 14331326, 35720261 ]\n",
      "https://amp.theguardian.com/media/2017/nov/10/former-vogue-editor-alexandra-shulman-find-idea-that-there-was-a-posh-cabal-offensive --> [ 14331326, 23402525 ]\n",
      "https://buff.ly/2AS3qjw --> [ 14331326, 19014350 ]\n",
      "https://www.nytimes.com/2017/11/29/business/media/nbc-matt-lauer.html --> [ 14331326, 258074091 ]\n",
      "https://www.nytimes.com/interactive/2017/12/19/us/ford-chicago-sexual-harassment.html --> [ 14331326, 15957448, ..., 69194007, 803029068 ]\n",
      "https://www.nytimes.com/interactive/2017/12/29/upshot/gifs-emotions-by-country.html --> [ 14331326, 15182072 ]\n",
      "http://ow.ly/cu5l30hItXP --> [ 14331326, 14879942, ..., 317830223, 3329118519 ]\n",
      "http://read.bi/2DKpY46 --> [ 14331326, 214556584, 315984380, 45215640 ]\n",
      "https://www.huffingtonpost.com/entry/cernovich-sam-seder-msnbc-twitter-rape_us_5a26bb8fe4b06d807b4f6557?ncid=tweetlnkushpmg00000067 --> [ 1433766073, 313683437 ]\n",
      "https://www.theatlantic.com/politics/archive/2017/12/what-about-the-19-women-who-accused-trump/547724/?utm_source=atlfb --> [ 1433766073, 237860849, 34162519 ]\n",
      "https://gizmodo.com/ajit-pai-thinks-youre-stupid-enough-to-buy-this-crap-1821277398 --> [ 1433766073, 23327117 ]\n",
      "https://www.thedailybeast.com/new-mexico-school-shooter-had-secret-life-on-pro-trump-white-supremacy-sites --> [ 1433766073, 17391298 ]\n",
      "http://bit.ly/2yfr1of --> [ 1433766073, 186931186, ..., 42470250, 705141626029502464 ]\n",
      "https://theconcourse.deadspin.com/someone-explain-to-me-the-alien-alloys-before-i-fucking-1821387673 --> [ 1433766073, 14554234, 17170407 ]\n",
      "http://www.ibtimes.com/political-capital/cornyn-pipeline-amendment-enriches-gop-lawmakers-bill-inserted-cornyns-former-aide --> [ 1433766073, 21032360, 4870051037, 828638275426480132 ]\n",
      "https://nyti.ms/2GjcJYT --> [ 1433766073, 17000424 ]\n",
      "https://baltimorebrew.com/2018/01/31/luxury-hotel-gets-biggest-slice-of-the-neighborhood-grant-pie/ --> [ 1433766073, 23402525 ]\n",
      "https://www.theguardian.com/news/2017/nov/05/russia-funded-facebook-twitter-investments-kushner-associate --> [ 14338931, 30826671, 55176705 ]\n",
      "http://wapo.st/2AgCUvk --> [ 14338931, 803029068 ]\n",
      "https://www.nbcnews.com/news/us-news/birth-tourism-brings-russian-baby-boom-miami-n836121 --> [ 14338931, 15719910 ]\n",
      "http://nbcnews.to/2EFsXO9 --> [ 14338931, 48082526, 7004572, 8984352 ]\n",
      "http://wapo.st/2zoHJqk --> [ 14341704, 6627232 ]\n",
      "https://www.wired.com/story/free-money-the-surprising-effects-of-a-basic-income-supplied-by-government/ --> [ 14341704, 19014350 ]\n",
      "https://nyti.ms/2kjcAOT --> [ 14341704, 16595825, 366211826, 45404617 ]\n",
      "https://www.nytimes.com/2018/01/16/upshot/measles-vaccination-california-students.html --> [ 14341704, 17000424 ]\n",
      "https://nyti.ms/2FtFYr1 --> [ 14341704, 15098171, ..., 3910951103, 463059217 ]\n",
      "http://www.foxnews.com/travel/2018/01/30/woman-denied-emotional-support-peacock-on-united-flight.html --> [ 14341704, 14576408, 231837399 ]\n",
      "https://www.theatlantic.com/science/archive/2018/02/i-spent-two-years-trying-to-fix-the-gender-imbalance-in-my-stories/552404/?utm_source=twb --> [ 14341704, 225242731, ..., 305270930, 331113029 ]\n",
      "https://www.washingtonpost.com/politics/roy-moore-campaign-refuses-to-substantiate-claims-about-accuser/2017/11/22/e9d89f20-cfa6-11e7-81bc-c55a220c8cbe_story.html?utm_term=.15437a69c9b7 --> [ 14345774, 27059413, 980865674 ]\n",
      "https://buff.ly/2izxzfM --> [ 14345774, 279214346, 28258373, 45678122 ]\n",
      "http://wapo.st/2z63cje?tid=ss_tw&utm_term=.75dfaa5d4518 --> [ 14345774, 2830828231 ]\n",
      "http://nyti.ms/2G79sMm --> [ 14345774, 18231563, ..., 20550728, 42470250 ]\n",
      "http://bit.ly/2n5vsi5 --> [ 14345774, 144143564, ..., 3838807353, 6627232 ]\n",
      "https://www.buzzfeed.com/rossalyn/newsweek-media-group --> [ 14345774, 284885853 ]\n",
      "https://www.cjr.org/special_report/sexual-harassment-newsroom-survey-me-too.php --> [ 14345774, 16595825, 42470250 ]\n",
      "http://www.jsonline.com/story/money/business/2017/11/13/driverless-vehicle-lanes-94-being-studied-foxconn/860515001/ --> [ 1436125340, 42470250 ]\n",
      "https://nyti.ms/2pt7EsQ --> [ 1436125340, 41368680 ]\n",
      "https://www.cjr.org/local_news/kycir-popes-long-con.php --> [ 1436125340, 39878985 ]\n",
      "https://www.nytimes.com/2018/01/13/us/hawaii-missile.html --> [ 1436125340, 7004572 ]\n",
      "https://www.statnews.com/2018/01/16/skin-lightening-amira-adawe/ --> [ 1436125340, 3910951103 ]\n",
      "https://www.nytimes.com/2018/01/19/arts/music/tom-petty-cause-death-opioid-overdose.html --> [ 1436125340, 229924530 ]\n",
      "https://www.buzzfeed.com/nidhiprakash/puerto-rico-cremations?utm_term=.xsNz9OEk2 --> [ 144143564, 583393798 ]\n",
      "https://www.washingtonpost.com/news/politics/wp/2017/10/31/historians-respond-to-john-kellys-civil-war-remarks-strange-sad-wrong/?utm_term=.d8ae57b65aed --> [ 144143564, 1578804860, 33705943, 344056011 ]\n",
      "http://politi.co/2zwdqOu --> [ 144143564, 305270930 ]\n",
      "http://www.latimes.com/politics/la-na-pol-trump-judge-20171110-story.html --> [ 144143564, 145246574, ..., 5354852, 58614188 ]\n",
      "http://www.al.com/news/index.ssf/2017/11/new_roy_moore_accuser_he_didnt.html --> [ 144143564, 30826671 ]\n",
      "https://mobile.nytimes.com/2017/11/17/opinion/jay-z-meek-mill-probation.html?referer=http://m.facebook.com --> [ 144143564, 350890164 ]\n",
      "https://www.nytimes.com/interactive/2017/11/22/upshot/the-jobs-youre-most-likely-to-inherit-from-your-mother-and-father.html?smid=tw-share --> [ 144143564, 159993936, ..., 23245885, 344056011 ]\n",
      "https://www.themarshallproject.org/2017/11/03/what-about-the-lost-children-and-mothers-of-america?utm_medium=social&utm_campaign=sprout&utm_source=twitter --> [ 144143564, 945971568 ]\n",
      "http://wapo.st/2F9LDmt --> [ 144143564, 2278396334 ]\n",
      "https://www.npr.org/2017/12/16/571329234/trump-administration-reportedly-instructs-cdc-on-its-own-version-of-7-dirty-word?utm_source=twitter.com&utm_medium=social&utm_campaign=npr&utm_term=nprnews&utm_content=2045 --> [ 144143564, 148118889, 6170212, 79240290 ]\n",
      "https://www.cbsnews.com/news/trump-mar-a-lago-christmas-trip/ --> [ 144143564, 15357017, ..., 74803924, 828638275426480132 ]\n",
      "https://www.nytimes.com/2018/01/23/us/kentucky-school-shooting.html --> [ 144143564, 3910951103, 583393798, 6627232 ]\n",
      "http://www.oregonlive.com/trending/2018/01/i_nauseated_the_oregonians_for.html --> [ 144143564, 14987459, 1851861800 ]\n",
      "https://www.theatlantic.com/science/archive/2018/02/hidden-figures-nasa-andrew-jackson/552803/ --> [ 144143564, 6545702 ]\n"
     ]
    },
    {
     "name": "stderr",
     "output_type": "stream",
     "text": [
      "https://www.buzzfeed.com/salvadorhernandez/ices-top-lawyer-in-seattle-has-been-charged-with-stealing?utm_term=.yuz29K9yV#.hkLK4m47d --> [ 144143564, 44462995 ]\n",
      "https://www.wired.com/story/i-forgot-my-pin-an-epic-tale-of-losing-dollar30000-in-bitcoin/ --> [ 14449009, 2462706447, 321187683 ]\n",
      "https://www.theatlantic.com/science/archive/2017/11/how-the-zombie-fungus-takes-over-ants-bodies-to-control-their-minds/545864/ --> [ 14449009, 2371310198, 291486075 ]\n",
      "http://cnn.it/2ziZwOi --> [ 14449009, 16203898 ]\n",
      "https://medium.com/p/bitcoin-1537e616a074 --> [ 14449009, 16203898, 17865999, 34413691 ]\n",
      "https://nyti.ms/2j0wYmZ --> [ 145246574, 700261033 ]\n",
      "https://www.dallasnews.com/news/education/2017/11/06/tax-bill-eliminates-deduction-teachers-buy-supplies-students --> [ 145246574, 2978646101, 34162519 ]\n",
      "https://nyti.ms/2jo7XCG --> [ 145246574, 2332626853 ]\n",
      "http://fb.me/1pSTgPPgy --> [ 145246574, 21990304 ]\n",
      "http://www.bbc.com/news/world-us-canada-42205181 --> [ 145246574, 260021840 ]\n",
      "https://www.theguardian.com/society/2017/dec/15/america-extreme-poverty-un-special-rapporteur --> [ 145246574, 195093267, 225242731, 945971568 ]\n",
      "https://www.nytimes.com/2017/12/23/business/media/vice-sexual-harassment.html --> [ 145246574, 15719910, ..., 293734116, 34053958 ]\n",
      "http://www.baltimoresun.com/news/maryland/crime/bs-md-ci-gun-trace-task-force-gttf-testimony-highlights-20180126-story.html --> [ 145246574, 17170407, ..., 366211826, 45713779 ]\n",
      "https://trib.al/5H7FbWK --> [ 14554234, 335783721 ]\n",
      "https://www.washingtonpost.com/politics/woman-shares-new-evidence-of-relationship-with-roy-moore-when-she-was-17/2017/12/04/0c3d1cde-d903-11e7-a841-2066faf731ef_story.html --> [ 14554234, 18150050, 33748076 ]\n",
      "https://www.nytimes.com/2017/12/06/technology/cheap-consumer-devices-amazon.html --> [ 14554234, 321187683 ]\n",
      "https://mobile.nytimes.com/2017/12/15/opinion/sunday/war-christmas-evangelicals.html?action=click&module=Opinion&pgtype=Homepage --> [ 14554234, 2269075228 ]\n",
      "https://mobile.nytimes.com/2017/12/31/opinion/tom-brokaw-health-care-immigrants.html?partner=rss&emc=rss&referer= --> [ 14554234, 15184321, 21594379, 2718899182 ]\n",
      "https://www.washingtonpost.com/news/energy-environment/wp/2017/12/23/trump-administration-renews-mining-leases-near-minnesota-wilderness-area/ --> [ 14554234, 18033327 ]\n",
      "https://nyti.ms/2EqcQAe --> [ 14554234, 14737171 ]\n",
      "https://nyti.ms/2BN4ENb --> [ 14554234, 350890164 ]\n",
      "https://www.thenation.com/article/trumps-infrastructure-plan-could-destroy-our-nations-water-systems/ --> [ 14554234, 3329118519 ]\n",
      "http://bit.ly/2ycJZNK --> [ 14576408, 1535469170, ..., 34687955, 906926615472390144 ]\n",
      "https://www.philanthropy.com/article/18-Billion-Vaults-Soros-Into/241475/#.WeeQcEFUmvo.twitter --> [ 14576408, 21031956 ]\n",
      "https://nyti.ms/2jykD9P --> [ 14576408, 3910951103 ]\n",
      "http://wapo.st/2A042Qx --> [ 14576408, 2332626853, 5354852 ]\n",
      "http://bit.ly/2AYlVi8 --> [ 14576408, 945971568 ]\n",
      "https://www.fastcompany.com/40497674/women-are-fueling-the-growth-of-collective-philanthropy-giving-circles --> [ 14576408, 237407801 ]\n",
      "http://nyti.ms/2AQXLcZ --> [ 14576408, 29924665 ]\n",
      "https://www.washingtonpost.com/blogs/plum-line/wp/2017/12/26/russia-is-going-to-attack-our-next-election-the-trump-administration-may-not-even-try-to-stop-it/ --> [ 14576408, 14768759 ]\n",
      "https://www.npr.org/sections/ed/2017/12/27/562341427/why-foster-care-students-in-seattle-are-beating-the-odds --> [ 14576408, 2298829188 ]\n",
      "http://www.cnn.com/2018/01/17/politics/wisconsin-state-senate-special-election-analysis/index.html --> [ 14576408, 15357017 ]\n",
      "https://www.wired.com/story/free-speech-issue-tech-turmoil-new-censorship --> [ 14576408, 372487283, ..., 6271482, 95329766 ]\n",
      "https://www.seattletimes.com/pacific-nw-magazine/10-things-in-the-northwest-that-could-kill-you/ --> [ 14576408, 195093267, 42470250 ]\n",
      "https://washingtonpost.com/news/post-politics/wp/2018/01/29/names-of-campaign-donors-to-be-flashed-during-live-stream-of-trumps-state-of-the-union-speech/ --> [ 14576408, 16726339 ]\n",
      "https://medcitynews.com/2018/01/computer-vision-will-redesign-healthcare/ --> [ 14678484, 2377931, 817916796 ]\n",
      "http://spacenews.com/rocket-lab-launch-also-tested-new-kick-stage/ --> [ 14678484, 18602735 ]\n",
      "https://www.newyorker.com/magazine/2017/10/09/how-the-elderly-lose-their-rights --> [ 14737171, 250149639 ]\n",
      "https://www.fastcompany.com/40498820/why-is-gratitude-so-difficult-yet-outrage-so-easy --> [ 14737171, 9963562 ]\n",
      "http://nyti.ms/2khwzgz --> [ 14737171, 77596590 ]\n",
      "http://www.cnn.com/2017/12/04/politics/mitt-romney-roy-moore/index.html --> [ 14737171, 2249181440 ]\n",
      "https://medium.com/economicsecproj/dolly-parton-basic-income-trailblazer-aabf19f1e9d2 --> [ 14737171, 2371310198 ]\n",
      "https://buff.ly/2AFWdyR --> [ 14737171, 534735526 ]\n",
      "https://www.wsj.com/articles/the-first-women-in-tech-didnt-leavemen-pushed-them-out-1512907200 --> [ 14737171, 14879942, 3525184162, 90787923 ]\n",
      "https://nyti.ms/2kdjUbD --> [ 14737171, 16513878, 18231563 ]\n",
      "https://www.nytimes.com/interactive/2018/science/astronomy-space-calendar.html --> [ 14737171, 8984352 ]\n",
      "https://www.wsj.com/articles/googles-latest-search-what-happened-to-its-bikes-1515172167 --> [ 14737171, 17636303 ]\n",
      "https://www.wsj.com/articles/why-google-wont-search-for-art-look-alike-in-some-states-1516194001 --> [ 14737171, 18602735 ]\n",
      "https://www.nytimes.com/2018/01/26/business/media/bbc-pay-gap.html?smid=tw-nytimes&smtyp=cur --> [ 14737171, 409144421 ]\n",
      "https://www.sfchronicle.com/news/article/SF-tourist-industry-struggles-to-explain-street-12534954.php?utm_campaign=twitter-premium&utm_source=CMS%20Sharing%20Button&utm_medium=social --> [ 14737171, 309519261, 365728646, 77596590 ]\n",
      "http://www.telegraph.co.uk/news/2016/10/27/former-miss-finland-becomes-12th-woman-to-accuse-trump-of-sexual/ --> [ 1475875682, 332346899 ]\n",
      "https://nyti.ms/2jbXHxb --> [ 1475875682, 240271961, ..., 26958212, 51154828 ]\n",
      "https://www.theguardian.com/books/2017/nov/23/bad-sex-award-2017-shortlist-the-contenders-in-quotes?CMP=fb_gu --> [ 1475875682, 169291985 ]\n",
      "http://wapo.st/2D3DHG5 --> [ 1475875682, 583393798 ]\n",
      "https://www.nytimes.com/2018/02/03/opinion/sunday/this-is-why-uma-thurman-is-angry.html --> [ 1475875682, 153229972, ..., 240271961, 34687955 ]\n",
      "https://www.nytimes.com/2017/10/30/technology/facebook-google-russia.html --> [ 14768759, 285751151 ]\n",
      "https://www.politico.com/story/2017/11/01/russia-meddling-us-elections-ndi-event-244414 --> [ 14768759, 828638275426480132 ]\n",
      "https://www.nytimes.com/2017/11/02/nyregion/dnainfo-gothamist-shutting-down.html --> [ 14768759, 15348009, ..., 77596590, 94478663 ]\n",
      "https://nyti.ms/2hDyvvR --> [ 14768759, 55176705 ]\n",
      "http://edition.cnn.com/2017/11/14/africa/libya-migrant-auctions/index.html --> [ 14768759, 17770297, 331113029 ]\n",
      "https://www.washingtonpost.com/lifestyle/food/rape-in-the-storage-room-groping-at-the-bar-why-is-the-restaurant-industry-so-terrible-for-women/2017/11/17/54a1d0f2-c993-11e7-b0cf-7689a9f2d84e_story.html?utm_term=.88681940a2ff --> [ 14768759, 317830223, 6170212 ]\n",
      "https://shareblue.com/vulnerable-republican-senator-kicks-stage-4-cancer-patient-town-hall/#.WiNrje1r135.twitter --> [ 14768759, 356355182 ]\n",
      "https://www.politico.com/story/2017/12/04/jeff-sessions-president-obstruct-justice-bill-clinton-278517 --> [ 14768759, 305270930 ]\n",
      "http://abcn.ws/2BQNNF8 --> [ 14768759, 620255756, 96589583 ]\n",
      "http://wapo.st/2zfyEyS?tid=ss_tw&utm_term=.17edfec5994d --> [ 14768759, 35720261 ]\n",
      "http://www.ibtimes.com/political-capital/senator-orrin-hatch-says-he-wrote-tax-provision-could-benefit-corker-other-top --> [ 14768759, 240926950 ]\n",
      "https://www.usatoday.com/story/opinion/2017/12/19/what-kind-country-we-speak-out-core-american-values-sally-q-yates-column/951828001/ --> [ 14768759, 237860849, 28641512, 34162519 ]\n",
      "http://abcnews.go.com/Politics/republicans-expected-pass-tax-reform-measure/story?id=51870650 --> [ 14768759, 2332626853 ]\n",
      "http://www.motherjones.com/politics/2018/01/trumps-pick-to-run-2020-census-has-defended-racial-gerrymandering-and-voter-suppression-laws/ --> [ 14768759, 210945415, 365728646 ]\n",
      "https://www.washingtonpost.com/politics/senior-republican-refers-trump-dossier-author-for-possible-charges/2018/01/05/ead4585e-f0af-11e7-b390-a36dc3fa2842_story.html --> [ 14768759, 63793150 ]\n"
     ]
    },
    {
     "name": "stderr",
     "output_type": "stream",
     "text": [
      "http://cnn.it/2EVD2Tu --> [ 14768759, 551186117 ]\n",
      "https://chicago.suntimes.com/news/holocaust-denier-arthur-jones-republican-3rd-congressional-district-lipinski-newman/ --> [ 14768759, 195093267, 45713779 ]\n",
      "http://ow.ly/4tY130geNSF --> [ 148118889, 1578804860, 315984380, 409144421 ]\n",
      "http://econ.st/2zlCoA3 --> [ 148118889, 221967226 ]\n",
      "http://www.chronicle.com/article/Republican-Tax-Proposal-Gets/241662 --> [ 148118889, 159993936, ..., 2278396334, 28641512 ]\n",
      "http://www.washingtonexaminer.com/alabama-state-auditor-defends-roy-moore-against-sexual-allegations-invokes-mary-and-joseph/article/2640217 --> [ 148118889, 15098171, ..., 378822672, 6627232 ]\n",
      "https://www.nytimes.com/2017/11/21/business/net-neutrality-antitrust-.html?rref=collection/sectioncollection/business&action=click&contentCollection=business&region=rank&module=package&version=highlights&contentPlacement=2&pgtype=sectionfront --> [ 148118889, 19546153 ]\n",
      "https://nyti.ms/2hYFmmS --> [ 148118889, 24582955, 285751151 ]\n",
      "https://nyti.ms/2juNRXb --> [ 148118889, 159893711, ..., 6627232, 817916796 ]\n",
      "https://www.washingtonpost.com/news/wonk/wp/2017/11/26/senate-gop-tax-bill-hurts-the-poor-more-than-originally-thought-cbo-finds/ --> [ 148118889, 34162519, 4870051037 ]\n",
      "https://www.economist.com/blogs/graphicdetail/2017/11/daily-chart-20?fsrc=scn/tw/te/bl/ed/ --> [ 148118889, 2830828231 ]\n",
      "https://www.nytimes.com/2017/11/27/us/politics/supreme-court-fourth-amendment-privacy-cellphones.html --> [ 148118889, 49496771 ]\n",
      "https://nyti.ms/2ido3ik --> [ 148118889, 321187683 ]\n",
      "http://go.nature.com/2AlGchK --> [ 148118889, 23245885, 3255671017 ]\n",
      "https://www.nbcnews.com/think/amp/ncna816886 --> [ 14879942, 69194007 ]\n",
      "http://abcn.ws/2hwDGgP --> [ 14879942, 24746074 ]\n",
      "https://www.nytimes.com/2017/12/02/world/europe/iceland-gender-equality-women-political-leaders.html --> [ 14879942, 564663702 ]\n",
      "https://www.today.com/news/silence-breakers-are-time-s-2017-person-year-t119689 --> [ 14879942, 232712666 ]\n",
      "http://cnn.it/2DuCjg4 --> [ 14879942, 19153715, 838815548075085825 ]\n",
      "https://www.vox.com/policy-and-politics/2017/11/7/16619270/maine-medicaid-expansion-obamacare --> [ 14987459, 20297345 ]\n",
      "https://www.vox.com/science-and-health/2016/12/9/13897078/walkable-vancouver-video?utm_campaign=vox&utm_content=entry&utm_medium=social&utm_source=twitter --> [ 14987459, 858801843383799808 ]\n",
      "https://www.washingtonpost.com/investigations/womans-effort-to-infiltrate-the-washington-post-dates-back-months/2017/11/29/ce95e01a-d51e-11e7-b62d-d9345ced896d_story.html?utm_term=.6f606abb879c --> [ 14987459, 1935548612, ..., 32992891, 68832423 ]\n",
      "http://www.nj.com/news/index.ssf/2017/12/strip_clubs_bribes_and_blood_money_the_inside_stor.html --> [ 14987459, 21594379 ]\n",
      "https://www.theguardian.com/science/2006/dec/08/smoking.frontpagenews?CMP=share_btn_tw --> [ 14987459, 2371310198 ]\n",
      "https://www.nytimes.com/2017/12/24/nyregion/traffic-apps-gps-neighborhoods.html --> [ 14987459, 48611246 ]\n",
      "https://trib.al/paUHUHd --> [ 14987459, 2278396334, 322221442, 48762865 ]\n",
      "http://bit.ly/2Ck2cNT --> [ 14987459, 16595825, 197669501 ]\n",
      "https://www.pbs.org/newshour/nation/fact-check-immigration-doesnt-bring-crime-u-s-data-say --> [ 14987459, 27661276, ..., 45713779, 980865674 ]\n",
      "https://www.politico.com/story/2018/01/30/cdc-director-tobacco-stocks-after-appointment-316245 --> [ 14987459, 20550728 ]\n",
      "http://www.ibtimes.com/political-capital/corn-syrup-lobbyist-helping-set-usda-dietary-guidelines-2649307 --> [ 14987459, 373190561 ]\n",
      "http://wapo.st/2E56JW9 --> [ 14987459, 335413129 ]\n",
      "https://motherboard.vice.com/en_us/article/ywbbpm/bitcoin-mining-electricity-consumption-ethereum-energy-climate-change --> [ 15069435, 32973 ]\n",
      "http://bit.ly/2yHSrY9 --> [ 15069435, 354729119 ]\n",
      "https://nypost.com/2018/01/20/complaining-about-low-pay-in-an-open-letter-online-destroyed-my-life/ --> [ 15069435, 15348009 ]\n",
      "https://nyti.ms/2yYdOSL --> [ 15098171, 517937578 ]\n",
      "https://www.bloomberg.com/amp/news/articles/2017-10-30/liquor-industry-pushes-into-pot-with-constellation-s-canopy-deal --> [ 15098171, 277426268 ]\n",
      "http://politi.co/2zaY7tF --> [ 15098171, 945971568 ]\n",
      "https://assets.dnainfo.com/message.html --> [ 15098171, 21028191 ]\n",
      "http://www.autonews.com/article/20171105/INDUSTRY_REDESIGNED/171109944/bob-lutz-kiss-the-good-times-goodbye --> [ 15098171, 72638046 ]\n",
      "https://www.politico.com/story/2017/11/09/university-of-michigan-admissions-low-income-244420 --> [ 15098171, 32973 ]\n",
      "https://www.politico.com/story/2017/11/15/roy-moore-republicans-alabama-senate-244961 --> [ 15098171, 77596590 ]\n",
      "https://www.nytimes.com/2017/11/18/opinion/sunday/internet-digital-technology-return-to-analog.html --> [ 15098171, 18793557, 71278927 ]\n",
      "https://www.washingtonpost.com/news/worldviews/wp/2017/11/19/what-the-parasites-in-a-defectors-stomach-tell-us-about-north-korea --> [ 15098171, 2278396334 ]\n",
      "http://wapo.st/2hMWFDI?tid=ss_tw&utm_term=.7f96d8f07d37 --> [ 15098171, 214556584, 538285083 ]\n",
      "https://grist.org/article/bitcoin-could-cost-us-our-clean-energy-future/ --> [ 15098171, 16425757, ..., 55176705, 556992335 ]\n",
      "https://www.cjr.org/analysis/fake-news-media-election-trump.php --> [ 15098171, 221967226, ..., 44006633, 572479189 ]\n",
      "https://www.theverge.com/2017/12/11/16761016/former-facebook-exec-ripping-apart-society --> [ 15098171, 16203898, 5354852 ]\n",
      "https://www.buzzfeed.com/chrishamby/fbi-software-contains-russian-made-code-that-could-open-a?utm_term=.wqXxA1mEx#.agAmQza5m --> [ 15098171, 91170675 ]\n",
      "https://nyti.ms/2BCOlPz --> [ 15098171, 258074091 ]\n",
      "https://www.nytimes.com/2018/01/02/dining/sexual-harassment-restaurants.html --> [ 15098171, 8984352 ]\n",
      "https://www.axios.com/how-michael-wolff-did-it-2522360813.html --> [ 15098171, 17391298 ]\n",
      "https://www.politico.com/magazine/story/2018/01/05/trump-media-feedback-loop-216248 --> [ 15098171, 945971568 ]\n",
      "https://www.dallasnews.com/opinion/commentary/2017/12/15/putins-proxies-helped-funnel-millions-gop-campaigns --> [ 15098171, 279214346, 6170212 ]\n",
      "https://www.nytimes.com/2018/01/12/opinion/trump-mentally-ill.html --> [ 15098171, 359074742 ]\n",
      "https://www.freep.com/story/news/local/michigan/wayne/2018/01/15/jorge-garcia-daca-deported-mexico-immigration/1033296001/ --> [ 15098171, 271282858, 2821336312, 55176705 ]\n",
      "https://www.freep.com/story/news/local/michigan/detroit/2018/01/11/ilitch-parking-lca/948374001/ --> [ 15098171, 63793150 ]\n",
      "https://www.nytimes.com/2018/01/30/world/africa/cape-town-day-zero.html?smprod=nytcore-ipad&smid=nytcore-ipad-share --> [ 15098171, 2327888588, 254713150 ]\n",
      "https://www.washingtonpost.com/politics/trumps-marching-orders-to-the-pentagon-plan-a-grand-military-parade/2018/02/06/9e19ca88-0b55-11e8-8b0d-891602206fb7_story.html --> [ 15098171, 17000424, ..., 411111885, 5354852 ]\n",
      "http://ow.ly/mCor30ip0Bq --> [ 15098171, 39878985 ]\n",
      "https://www.theverge.com/2018/2/13/17009114/facebook-campbell-brown-code-media-news-publishers --> [ 15098171, 16595825 ]\n",
      "http://www.businessinsider.com/tax-reform-trump-republican-plan-gives-break-to-private-jet-planes-2017-11 --> [ 15182072, 69194007 ]\n",
      "https://www.vox.com/science-and-health/2017/12/14/16687388/violence-psychology-human-nature-cruelty?utm_campaign=vox&utm_content=entry&utm_medium=social&utm_source=twitter --> [ 15182072, 17821643 ]\n",
      "https://www.huffingtonpost.com/entry/huffpost-opinion-huffpost-personal_us_5a5f6a29e4b096ecfca98edb?ncid=engmodushpmg00000004 --> [ 15182072, 27661276 ]\n",
      "https://www.nytimes.com/2018/02/01/opinion/langston-hughes-birthday.html?action=click&pgtype=Homepage&clickSource=story-heading&module=opinion-c-col-right-region&region=opinion-c-col-right-region&WT.nav=opinion-c-col-right-region --> [ 15182072, 244160232 ]\n",
      "https://www.wired.com/story/iphone-x-first-impression --> [ 15184321, 41368680 ]\n",
      "https://www.nytimes.com/interactive/2017/11/06/opinion/how-to-reduce-shootings.html --> [ 15184321, 19153715 ]\n",
      "http://bit.ly/2m2nJUE --> [ 15184321, 2978646101 ]\n",
      "https://www.nytimes.com/2017/11/10/health/shingrix-shingles-vaccine.html --> [ 15184321, 249414004 ]\n",
      "https://www.nature.com/articles/nrg.2017.88 --> [ 15184321, 194475085 ]\n",
      "http://mobile.reuters.com/article/amp/idUSKBN1DD0S3 --> [ 15184321, 20468289 ]\n",
      "https://www.nytimes.com/2017/11/24/us/politics/state-department-tillerson.html --> [ 15184321, 2178197532, ..., 286439617, 472127689 ]\n"
     ]
    },
    {
     "name": "stderr",
     "output_type": "stream",
     "text": [
      "https://www.nytimes.com/2017/12/05/sports/olympics/ioc-russia-winter-olympics.html --> [ 15184321, 25126776, 583393798 ]\n",
      "http://www.bu.edu/today/2017/bu-trustees-approve-aggressive-climate-action-plan/ --> [ 15184321, 258074091 ]\n",
      "https://www.washingtonpost.com/national/health-science/fueled-by-drug-crisis-us-life-expectancy-declines-for-a-second-straight-year/2017/12/20/2e3f8dea-e596-11e7-ab50-621fe0588340_story.html --> [ 15184321, 50040434 ]\n",
      "https://www.nytimes.com/2017/12/21/technology/iphone-battery-problem-slow.html --> [ 15184321, 309519261 ]\n",
      "https://www.npr.org/2014/12/19/371647099/norads-santa-tracker-began-with-a-typo-and-a-good-sport --> [ 15184321, 17807843 ]\n",
      "https://www.nytimes.com/2017/12/26/technology/big-tech-health-care.html?smprod=nytcore-ipad&smid=nytcore-ipad-share --> [ 15184321, 16612859, 21594379 ]\n",
      "https://fb.me/49hzug4t6 --> [ 15184321, 15357017, 35119505, 42470250 ]\n",
      "https://www.politico.com/magazine/story/2017/12/18/parkland-dallas-frequent-flier-hospital-what-works-216108 --> [ 15184321, 15500990 ]\n",
      "https://www.axios.com/newsletters/axios-vitals-d71a49d0-cf80-47af-bcd9-4b1f0d30822a.html?chunk=2&utm_term=twsocialshare#story2 --> [ 15184321, 2269075228 ]\n",
      "https://www.washingtonpost.com/news/post-nation/wp/2018/01/14/hawaii-missile-alert-how-one-employee-pushed-the-wrong-button-and-caused-a-wave-of-panic/?hpid=hp_hp-top-table-main_wrong-button-440pm:homepage/story&utm_term=.19a1e113790e --> [ 15184321, 159438150, ..., 32973, 8984352 ]\n",
      "https://www.cnbc.com/2018/01/24/apple-coo-williams-says-new-health-record-beta-is-right-thing-to-do.html --> [ 15184321, 906926615472390144 ]\n",
      "http://nyti.ms/2C9EFuY --> [ 15184321, 45215640 ]\n",
      "http://nyti.ms/2AVC33n --> [ 153229972, 2718899182, ..., 29924665, 705141626029502464 ]\n",
      "http://nyti.ms/2EYSyPR --> [ 153229972, 941663383 ]\n",
      "https://usat.ly/2nZWPLx --> [ 153229972, 42470250 ]\n",
      "https://www.vox.com/videos/2017/11/20/16670266/trucking-eld-surveillance --> [ 15348009, 18602735 ]\n",
      "https://www.buzzfeed.com/tedchiang/the-real-danger-to-civilization-isnt-ai-its-runaway?utm_term=.el9OKOOY11#.ydQVNVVKEE --> [ 15348009, 27858863, 315984380, 38471570 ]\n",
      "https://www.nytimes.com/2017/12/19/technology/microsoft-sexual-harassment-arbitration.html --> [ 15348009, 17000424 ]\n",
      "https://www.propublica.org/article/facebook-ads-age-discrimination-targeting --> [ 15348009, 17831187, ..., 8984352, 941663383 ]\n",
      "https://motherboard.vice.com/amp/en_us/article/vbympa/net-neutrality-fcc-inspector-general-report --> [ 15348009, 19491541, 279214346 ]\n",
      "https://buff.ly/2lBQ54D --> [ 15348009, 30688200 ]\n",
      "https://buff.ly/2ElUKQV --> [ 15348009, 28258373, 941663383 ]\n",
      "https://www.washingtonpost.com/news/world/wp/2017/10/12/u-s-withdraws-from-unesco-the-u-n-s-cultural-organization-citing-anti-israel-bias/?utm_term=.939c47ee27f2 --> [ 1535469170, 289738296 ]\n",
      "https://www.theguardian.com/commentisfree/2017/nov/04/sexual-harassers-rise-ranks-red-flag?CMP=share_btn_tw --> [ 1535469170, 23327117 ]\n",
      "http://ow.ly/5tKg30gIi5b --> [ 1535469170, 1916013997, ..., 2978646101, 35720261 ]\n",
      "http://theweek.com/articles/737056/myth-male-bumbler --> [ 1535469170, 2371310198, 315984380, 38471570 ]\n",
      "https://www.wired.com/story/inside-facebook-mark-zuckerberg-2-years-of-hell/?mbid=social_twitter_onsiteshare --> [ 1535469170, 19000490, ..., 69791520, 90787923 ]\n",
      "http://ow.ly/krpn30ioQXG --> [ 1535469170, 39878985 ]\n",
      "http://fb.me/850uZWh2s --> [ 15357017, 1872519374 ]\n",
      "http://fb.me/1MKqXD7V6 --> [ 15357017, 16262059, 19753693, 324558603 ]\n",
      "http://fb.me/1JVGJfgBZ --> [ 15357017, 17341855 ]\n",
      "http://www.ibtimes.com/political-capital/senator-bob-corker-said-he-hasnt-read-tax-bill-denies-changing-his-vote-exchange --> [ 15357017, 17821643, 2269075228 ]\n",
      "https://www.vox.com/policy-and-politics/2017/12/21/16803312/chip-extension-congress-tax-cuts-obamacare-repeal --> [ 15357017, 33748076, 84007946 ]\n",
      "https://fb.me/D46zPNks --> [ 15357017, 2269075228, 231837399 ]\n",
      "http://www.nytimes.com/2013/04/18/us/politics/senate-obama-gun-control.html --> [ 15357017, 274590281, 370219796, 54021334 ]\n",
      "http://politi.co/2xUT3a1 --> [ 154566620, 1660288465 ]\n",
      "https://www.washingtonpost.com/politics/a-tale-of-two-puerto-ricos-what-trump-saw--and-what-he-didnt/2017/10/04/2eeee62e-a8b9-11e7-850e-2bdd1236be5d_story.html?utm_term=.af4f3e08a28d --> [ 154566620, 28631446 ]\n",
      "https://www.buzzfeed.com/josephbernstein/heres-how-breitbart-and-milo-smuggled-white-nationalism?utm_term=.rnEyWk0g0g#.sv6wOgNPNP --> [ 154566620, 159893711, 19546153 ]\n",
      "https://www.newyorker.com/culture/jia-tolentino/how-men-like-harvey-weinstein-implicate-their-victims-in-their-acts --> [ 154566620, 27661276 ]\n",
      "https://www.propublica.org/article/white-hate-group-campaign-of-menace-rise-above-movement?utm_campaign=sprout&utm_medium=social&utm_source=facebook&utm_content=1508436861 --> [ 154566620, 21031956, 258074091, 817916796 ]\n",
      "https://www.nytimes.com/interactive/2017/jobs/nyt-52-places-the-trip.html --> [ 154566620, 19153715, 50040434 ]\n",
      "https://www.washingtonpost.com/investigations/woman-says-roy-moore-initiated-sexual-encounter-when-she-was-14-he-was-32/2017/11/09/1f495878-c293-11e7-afe9-4f60b5a6c4a0_story.html --> [ 154566620, 21990304, ..., 9444512, 980865674 ]\n",
      "https://www.propublica.org/article/inside-trump-regulatory-rollback-epa --> [ 154566620, 15957448, 258074091 ]\n",
      "https://thinkprogress.org/florida-ballot-voting-8b8decc2c7dd/ --> [ 154566620, 322221442 ]\n",
      "https://www.wsj.com/articles/unilever-threatens-to-reduce-ad-spending-on-tech-platforms-that-dont-combat-divisive-content-1518398578 --> [ 154566620, 20491034 ]\n",
      "https://www.theguardian.com/commentisfree/2017/dec/04/president-trump-decimate-bears-ears-national-monument --> [ 15500990, 18033327 ]\n",
      "https://nyti.ms/2nzf3WG --> [ 15500990, 359074742 ]\n",
      "https://www.theguardian.com/us-news/2017/dec/09/skype-for-jailed-video-calls-prisons-replace-in-person-visits?CMP=Share_iOSApp_Other --> [ 15500990, 232712666, 3096320330, 321187683 ]\n",
      "http://read.bi/2jCTKSF --> [ 15500990, 7004572 ]\n",
      "https://www.washingtonpost.com/national/health-science/words-banned-at-multiple-hhs-agencies-include-diversity-and-vulnerable/2017/12/16/9fa09250-e29d-11e7-8679-a9728984779c_story.html --> [ 15500990, 870328182 ]\n",
      "https://www.washingtonpost.com/news/made-by-history/wp/2017/12/21/extreme-poverty-returns-to-america/ --> [ 15500990, 237860849, 95329766 ]\n",
      "http://wapo.st/2HgYiFa --> [ 15500990, 16595825, 68832423, 9469592 ]\n",
      "https://amp.cnn.com/cnn/2017/10/03/politics/russian-facebook-ads-michigan-wisconsin/index.html --> [ 15719910, 32973 ]\n",
      "http://wapo.st/2xQDNe9?tid=ss_tw-bottom&utm_term=.d71f8a26e06d --> [ 15719910, 266636002, 284885853, 5357 ]\n",
      "http://www.nola.com/business/index.ssf/2017/10/john_besh_restaurants_fostered.html --> [ 15719910, 6170212 ]\n",
      "https://www.fastcompany.com/3065928/sleepopolis-casper-bloggers-lawsuits-underside-of-the-mattress-wars --> [ 15719910, 266636002, 309519261 ]\n",
      "http://www.npr.org/2017/10/07/556405489/the-relationship-between-domestic-violence-and-mass-shootings --> [ 15719910, 194475085 ]\n",
      "https://www.buzzfeed.com/evefairbanks/mark-halperin-poisoned-our-politics?utm_term=.mpnjvRPEjm --> [ 15719910, 28631446, 35720261 ]\n",
      "http://nymag.com/daily/intelligencer/2018/01/michael-wolff-fire-and-fury-book-donald-trump.html?utm_source=nym_press --> [ 15719910, 159993936, ..., 5354852, 74803924 ]\n",
      "https://atlanta.eater.com/2018/1/24/16926210/emerald-city-bagels-open-east-atlanta-village --> [ 15719910, 17035592 ]\n",
      "https://mobile.nytimes.com/2017/11/29/opinion/republican-tax-bill-education.html?mtrref=www.google.com&assetType=opinion&referer=http://m.facebook.com --> [ 1573846466, 813057413742034944 ]\n",
      "http://www.independent.co.uk/news/world/europe/german-pilots-refuse-deport-asylum-seekers-lufthansa-angela-merkel-migrants-a8092276.html --> [ 1573846466, 225242731 ]\n",
      "https://www.theguardian.com/cities/ng-interactive/2017/nov/03/three-degree-world-cities-drowned-global-warming?CMP=share_btn_tw --> [ 1578804860, 19491541, 42470250 ]\n",
      "https://www.theguardian.com/society/2017/dec/03/muslim-foster-parents-it-has-been-such-a-blessing?CMP=share_btn_tw --> [ 1578804860, 583393798 ]\n",
      "https://buff.ly/2BRiVFi --> [ 1578804860, 24371595, ..., 30688200, 39878985 ]\n",
      "http://beta.latimes.com/politics/la-na-pol-alabama-senate-runoff-20170921-story.html --> [ 1578804860, 2377931, ..., 366211826, 9963562 ]\n"
     ]
    },
    {
     "name": "stderr",
     "output_type": "stream",
     "text": [
      "https://www.mhpbooks.com/readers-can-expect-a-new-zora-neale-hurston-book-in-2018/ --> [ 1578804860, 28441829 ]\n",
      "https://buff.ly/2CYmGsL --> [ 1578804860, 19491541, ..., 368112759, 4870051037 ]\n",
      "http://www.newsobserver.com/opinion/op-ed/article122593759.html --> [ 1578804860, 195093267 ]\n",
      "https://nyti.ms/2juzx0S --> [ 15929200, 95329766 ]\n",
      "https://nyti.ms/2hF7go6 --> [ 15929200, 293734116 ]\n",
      "http://to.pbs.org/2DVjtf2 --> [ 15929200, 2493, ..., 906926615472390144, 95329766 ]\n",
      "http://www.latimes.com/entertainment/arts/miranda/la-et-cam-year-end-miranda-art-came-down-20171214-story.html#nt%3Dblogroll --> [ 15929200, 6170212 ]\n",
      "https://www.buzzfeed.com/albertonardelli/the-governments-own-brexit-analysis-says-the-uk-will-be?utm_term=.lt2LPX2MW#.mh8Eqwzaj --> [ 159438150, 5354852 ]\n",
      "https://www.mediabistro.com/jobs/description/367627/head-writer-fox-and-friends/ --> [ 159438150, 16302584 ]\n",
      "https://www.buzzfeed.com/charliewarzel/the-terrifying-future-of-fake-news --> [ 159438150, 3525184162, 35720261, 534735526 ]\n",
      "https://www.theatlantic.com/entertainment/archive/2017/10/harvey-weinstein-and-the-economics-of-consent/543618/?utm_source=atltw --> [ 15957448, 2978646101, ..., 509608066, 581848228 ]\n",
      "http://www.bbc.com/news/science-environment-41778089 --> [ 15957448, 5354852, 55176705 ]\n",
      "https://www.washingtonpost.com/lifestyle/style/nprs-top-editor-accused-of-sexual-harassment-by-two-women/2017/10/31/a2078bea-bdf7-11e7-959c-fe2b598d8c00_story.html?utm_term=.12b6f008199c --> [ 15957448, 28631446, 31162511 ]\n",
      "https://www.thedailybeast.com/unsafe-and-just-plain-dirty-women-accuse-vice-of-toxic-sexual-harassment-culture?via=newsletter&source=DDMorning --> [ 15957448, 16595825, 33748076 ]\n",
      "https://www.theglobeandmail.com/report-on-business/rogers-to-cut-off-support-for-viceland-tv-station/article37122064/ --> [ 15957448, 237339254 ]\n",
      "https://nyti.ms/2kXGaty --> [ 15957448, 3910951103 ]\n",
      "https://nyti.ms/2nZ58cZ --> [ 15957448, 94478663 ]\n",
      "https://www.nytimes.com/2017/12/23/us/women-report-sexual-harassment.html?nytapp=true --> [ 15957448, 2178197532 ]\n",
      "https://www.nytimes.com/2018/01/10/nyregion/new-york-city-fossil-fuel-divestment.html --> [ 15957448, 556992335 ]\n",
      "https://www.propublica.org/article/trashed-inside-the-deadly-world-of-private-garbage-collection --> [ 15957448, 16726339 ]\n",
      "http://wapo.st/2n6iLDt --> [ 15957448, 370219796, 9469592 ]\n",
      "https://www.nytimes.com/2018/01/27/world/asia/afghanistan-kabul-attack.html --> [ 15957448, 232712666, 564663702 ]\n",
      "https://www.washingtonpost.com/politics/disagreement-on-north-korea-policy-could-derail-white-house-choice-for-ambassador-to-south-korea/2018/01/30/3a21191c-05da-11e8-94e8-e8b8600ade23_story.html?utm_term=.a757b9fe29a4 --> [ 15957448, 21964473, 564663702 ]\n",
      "http://nyti.ms/2nraquh --> [ 15957448, 6170212 ]\n",
      "http://wapo.st/2nubFsz?tid=ss_tw-bottom&utm_term=.459693ba2ee1 --> [ 15957448, 472127689 ]\n",
      "https://www.vice.com/en_ca/article/a34e3p/colten-boushie-the-gerald-stanley-verdict-shows-theres-no-justice-for-indigenous-peoples --> [ 15957448, 32992891 ]\n",
      "https://www.nytimes.com/interactive/2016/world/ak-47-mass-shootings.html --> [ 15957448, 41368680, 6170212 ]\n",
      "https://www.nytimes.com/2017/10/30/world/asia/afghanistan-war-redacted-report.html?_r=0 --> [ 159893711, 44006633 ]\n",
      "https://www.washingtonpost.com/news/retropolis/wp/2017/11/09/an-alabama-senate-race-conjures-the-awful-1963-church-bombing-that-killed-4-black-girls/?utm_term=.88dc3f281798 --> [ 159893711, 412432325, 72758489 ]\n",
      "http://time.com/5039104/we-too-are-survivors-223-women-in-national-security-sign-open-letter-on-sexual-harassment/?xid=homepage --> [ 159893711, 3838807353 ]\n",
      "https://www.nytimes.com/2017/10/11/magazine/why-are-more-american-teenagers-than-ever-suffering-from-severe-anxiety.html?smprod=nytcore-iphone&smid=nytcore-iphone-share --> [ 159993936, 17391298 ]\n",
      "https://www.newyorker.com/magazine/2017/10/23/the-danger-of-president-pence?utm_source=newsletter&utm_medium=email&utm_campaign=newsletter_axiosam&stream=top-stories --> [ 159993936, 28631446, 58614188, 72758489 ]\n",
      "https://www.washingtonpost.com/graphics/2017/world/north-korea-defectors/?tid=sm_rd --> [ 159993936, 3096320330 ]\n",
      "https://www.theatlantic.com/magazine/archive/2017/12/second-life-leslie-jamison/544149/ --> [ 159993936, 16282244, 6271482, 705141626029502464 ]\n",
      "https://www.desmoinesregister.com/story/news/2017/12/02/tax-reform-iowa-farmers-estate-tax/906946001/ --> [ 159993936, 17821643, 84007946 ]\n",
      "https://www.buzzfeed.com/stephaniemlee/ginkgo-bioworks-fundraising?utm_term=.vyq6GQVBz#.vsq6o5Lgz --> [ 159993936, 47014253 ]\n",
      "https://nyti.ms/2E4ih8r --> [ 159993936, 23317048, ..., 409144421, 41368680 ]\n",
      "https://www.vanityfair.com/news/2018/01/brotopia-silicon-valley-secretive-orgiastic-inner-sanctum --> [ 159993936, 231837399, ..., 34413691, 700261033 ]\n",
      "https://www.nytimes.com/2018/01/04/magazine/where-pot-entrepreneurs-go-when-the-banks-just-say-no.html --> [ 159993936, 95329766 ]\n",
      "https://www.nytimes.com/2017/11/29/magazine/el-salvador-police-battle-gangs.html --> [ 159993936, 335413129 ]\n",
      "https://www.themarshallproject.org/2018/01/19/lost-in-court --> [ 159993936, 285751151 ]\n",
      "https://www.rollingstone.com/politics/news/gop-rigs-elections-gerrymandering-voter-id-laws-dark-money-w515664 --> [ 159993936, 19153715, 279214346, 3000588429 ]\n",
      "https://www.washingtonpost.com/amphtml/world/a-map-showing-the-users-of-fitness-devices-lets-the-world-see-where-us-soldiers-are-and-what-they-are-doing/2018/01/28/86915662-0441-11e8-aa61-f3391373867e_story.html?utm_term=.1382de996eb9&wpisrc=al_news__alert-world--alert-national&wpmk=1&__twitter_impression=true --> [ 159993936, 225242731, 2863558902 ]\n",
      "https://www.buzzfeed.com/meghara/facebook-cambodia-democracy?utm_term=.gvxwXdW35#.nvNJ0oDlz --> [ 159993936, 420284118, 6271482 ]\n",
      "http://www.esquire.com/entertainment/tv/a27134/can-you-say-hero-esq1198/ --> [ 159993936, 30688200 ]\n",
      "https://nyti.ms/2BXTEwy --> [ 159993936, 1676661781, 17770297 ]\n",
      "http://tcrn.ch/2hUBi3B --> [ 16000572, 265049463 ]\n",
      "https://buff.ly/2DftNwR --> [ 16000572, 2826835662 ]\n",
      "https://www.wired.com/story/dangers-keeping-women-out-of-tech/?mbid=social_twitter_onsiteshare --> [ 16000572, 2178197532 ]\n",
      "https://mashable.com/2018/01/31/google-flight-delays/#WlIl8iIbJgOH --> [ 16000572, 534735526 ]\n",
      "https://lnkd.in/g2mkNrV --> [ 16053116, 282190774, 69791520 ]\n",
      "http://bit.ly/2fUNqQW --> [ 16053116, 91170675 ]\n",
      "https://lnkd.in/gdPm7in --> [ 16053116, 2462706447, 71278927 ]\n",
      "http://abcn.ws/2zqhwbi --> [ 16053116, 17770297, ..., 381734721, 603385690 ]\n",
      "https://lnkd.in/gmqzFrB --> [ 16053116, 17000424 ]\n",
      "https://www.wired.com/story/excerpt-from-automating-inequality/ --> [ 16053116, 2493 ]\n",
      "https://nyti.ms/2GieLsu --> [ 16053116, 69791520 ]\n",
      "http://www.americaninno.com/minne/50onfire/minne-innos-2017-50-on-fire-awards/ --> [ 1615339519, 2899570625 ]\n",
      "https://www.thestar.com/opinion/contributors/2017/11/23/who-owns-all-the-data-collected-by-smart-cities.html --> [ 16203898, 18602735 ]\n",
      "https://www.washingtonpost.com/news/wonk/wp/2018/01/08/bitcoin-is-the-new-middle-ages/ --> [ 16203898, 5562792 ]\n",
      "https://www.nytimes.com/2018/01/16/magazine/beyond-the-bitcoin-bubble.html --> [ 16203898, 2462706447, ..., 45404617, 813057413742034944 ]\n",
      "https://medium.com/@natematias/the-american-museum-of-exploding-cars-and-toys-that-kill-you-5123f35cb271 --> [ 16203898, 27858863 ]\n",
      "https://buff.ly/2Ekm1CO --> [ 16203898, 30688200 ]\n",
      "http://bit.ly/2zNb6Qy --> [ 16215776, 1660288465, ..., 44006633, 803029068 ]\n",
      "https://www.nytimes.com/interactive/2018/02/06/climate/flood-toxic-chemicals.html --> [ 16215776, 305270930, 62363146 ]\n",
      "https://nyti.ms/2hUkOZN --> [ 16262059, 6627232 ]\n",
      "http://wapo.st/2jGmHdd --> [ 16262059, 803029068 ]\n",
      "http://nyti.ms/2kIrefP --> [ 16262059, 21031956 ]\n",
      "http://wapo.st/2CCsjRu?tid=ss_tw-bottom&utm_term=.e15059c17689 --> [ 16262059, 231837399 ]\n",
      "https://washingtonpost.com/politics/john-kellys-credibility-is-at-risk-after-defending-aide-accused-of-domestic-violence/2018/02/08/e8e1ff06-0ccf-11e8-8890-372e2047c935_story.html --> [ 16262059, 231215321 ]\n",
      "https://mobile.nytimes.com/2017/12/12/us/politics/alabama-senate-race-winner.html?referer=http://m.facebook.com --> [ 16282244, 27497732 ]\n",
      "https://techcrunch.com/2017/12/14/snapchat-developer-platform/ --> [ 16282244, 534735526 ]\n"
     ]
    },
    {
     "name": "stderr",
     "output_type": "stream",
     "text": [
      "https://www.nytimes.com/interactive/2018/02/01/sports/olympics/nyt-ar-augmented-reality-ul.html --> [ 16282244, 18793557, 27661276 ]\n",
      "https://www.nytimes.com/2017/10/30/dining/jose-andres-puerto-rico.html --> [ 16302584, 412432325, ..., 6627232, 8984352 ]\n",
      "http://www.mcclatchydc.com/news/politics-government/article147454324.html --> [ 16302584, 41368680 ]\n",
      "http://www.latimes.com/business/hollywood/la-fi-brett-ratner-russell-simmons-20171119-htmlstory.html --> [ 16302584, 6170212 ]\n",
      "http://mashable.com/2017/11/17/net-neutrality-thanksgiving/#oYD19hRN0mqa --> [ 16302584, 317830223 ]\n",
      "https://www.nytimes.com/2017/11/30/opinion/inequality-social-wealth-fund.html --> [ 16302584, 5357 ]\n",
      "https://www.bloomberg.com/news/articles/2017-12-01/kushner-is-said-to-leave-tillerson-in-dark-on-middle-east-talks --> [ 16302584, 68901673 ]\n",
      "https://trib.al/CHyH1wX --> [ 16302584, 356355182 ]\n",
      "https://www.washingtonpost.com/world/national-security/sessions-rescinds-justice-dept-letter-asking-courts-to-be-wary-of-stiff-fines-and-fees-for-poor-defendants/2017/12/21/46e37316-e690-11e7-ab50-621fe0588340_story.html --> [ 16302584, 26368063 ]\n",
      "http://www.philly.com/philly/news/crime/larry-krasner-philly-da-firing-prosecutors-20180105.html --> [ 16302584, 258074091 ]\n",
      "http://nyti.ms/2C8sTBb --> [ 16302584, 534735526 ]\n",
      "https://www.bloomberg.com/news/articles/2017-12-16/satellites-are-reshaping-how-traders-track-earthly-commodities --> [ 16386547, 18602735 ]\n",
      "https://www.bloomberg.com/news/articles/2017-12-22/bitcoin-plummets-toward-13-000-down-more-than-30-from-record --> [ 16386547, 18231563 ]\n",
      "https://www.bloomberg.com/news/articles/2018-02-14/new-hedge-fund-tax-dodge-triggers-wild-rush-back-into-delaware --> [ 16386547, 26368063 ]\n",
      "https://www.nytimes.com/2017/11/03/opinion/terrorism-transportation-infrastructure.html?rref=collection/sectioncollection/opinion-contributors&action=click&contentCollection=contributors&region=stream&module=stream_unit&version=latest&contentPlacement=1&pgtype=sectionfront --> [ 16425757, 62363146 ]\n",
      "https://www.wired.com/story/city-planning-curbs/amp --> [ 16425757, 858801843383799808 ]\n",
      "https://usa.streetsblog.org/2017/12/04/gop-tax-cuts-threaten-funding-for-transit-biking-and-walking/ --> [ 16425757, 5562792 ]\n",
      "https://usa.streetsblog.org/2018/02/01/a-quick-and-dirty-fix-for-sidewalkless-streets/ --> [ 16425757, 5562792 ]\n",
      "https://boingboing.net/2017/10/31/perl-is-the-most-hated-program.html --> [ 16439371, 372487283, 56331382 ]\n",
      "http://gizmodo.com/the-house-that-spied-on-me-1822429852?utm_medium=sharefromsite&utm_source=Gizmodo_twitter --> [ 16439371, 315984380, 420284118, 59413748 ]\n",
      "https://www.npr.org/sections/thesalt/2018/02/12/585130274/trump-administration-wants-to-decide-what-food-snap-recipients-will-get?utm_source=facebook.com&utm_medium=social&utm_campaign=npr&utm_term=nprnews&utm_content=20180212Th --> [ 16439371, 95329766 ]\n",
      "http://www.nationalreview.com/corner/454504/police-murder-daniel-shaver --> [ 1648631646, 714661629162602496 ]\n",
      "https://www.washingtonpost.com/news/world/wp/2018/01/07/feature/in-china-facial-recognition-is-sharp-end-of-a-drive-for-total-surveillance/?hpid=hp_rhp-top-table-main_chinafacial-740pm:homepage/story&utm_term=.c1dc7aa6f293 --> [ 1648631646, 27858863 ]\n",
      "https://www.commentarymagazine.com/american-society/torment-ajit-pai-net-neutrality-fcc/ --> [ 1648631646, 252877167 ]\n",
      "http://politi.co/2B6iRAd --> [ 1648631646, 37563842 ]\n",
      "https://www.newyorker.com/news/news-desk/harvey-weinsteins-secret-settlements --> [ 16513878, 45215640 ]\n",
      "http://nyti.ms/2hQLRog --> [ 16513878, 583393798 ]\n",
      "http://dailycaller.com/2017/12/04/clinton-aides-went-unpunished-after-making-false-statements-to-anti-trump-fbi-supervisor/ --> [ 16513878, 63561755 ]\n",
      "http://abcn.ws/2BsTrhW --> [ 16513878, 50040434 ]\n",
      "http://politi.co/2CR6JEg --> [ 16513878, 18150050, ..., 35119505, 3838807353 ]\n",
      "http://abcn.ws/2qpJoIj --> [ 16513878, 96589583 ]\n",
      "https://www.stripes.com/news/star-wars-actor-looks-to-discover-top-military-or-veteran-playwright-1.502164#.WjHtzspeizk.twitter --> [ 16513878, 381734721 ]\n",
      "https://www.vox.com/identities/2017/12/19/16620918/sexual-harassment-low-wages-minority-women --> [ 16553816, 39878985, 45215640 ]\n",
      "http://wwd.com/business-news/media/teen-vogue-taps-samhita-mukhopadhyay-as-executive-editor-11136694/#utm_medium%3Dsocial%26utm_source%3Dtwitter%26utm_campaign%3Dsocial_bar%26utm_term%3Dwwd.1517982423913.2bb07a57-7681-4c33-ba52-9c974ea5d774%26utm_content%3Dtop%26utm_id%3D11136694 --> [ 16553816, 23402525 ]\n",
      "http://www.independent.co.uk/travel/news-and-advice/air-safety-2017-best-year-safest-airline-passengers-worldwide-to70-civil-aviation-review-a8130796.html --> [ 165793594, 2826835662, 705141626029502464 ]\n",
      "https://www.nytimes.com/2018/02/07/upshot/the-stock-market-is-worried-about-inflation-should-it-be.html --> [ 165793594, 38228284 ]\n",
      "http://www.washingtonexaminer.com/washington-press-traveled-7000-miles-just-for-some-of-her-smiles/article/2648907 --> [ 165793594, 252877167 ]\n",
      "http://www.latimes.com/projects/la-fi-disney-anaheim-deals/#nt%3Doutfit --> [ 16595825, 373190561, ..., 811500318, 84007946 ]\n",
      "http://trib.in/2m3Q5hk --> [ 16595825, 335413129 ]\n",
      "http://www.niemanlab.org/2017/11/a-new-york-times-kids-section-once-an-experiment-will-run-monthly-starting-this-month/ --> [ 16595825, 86832479 ]\n",
      "https://www.propublica.org/article/journalism-and-foia-freedom-of-information-act --> [ 16595825, 556992335 ]\n",
      "https://www.wsj.com/articles/axios-raises-20-million-to-fund-newsroom-expansion-1510853567 --> [ 16595825, 31162511 ]\n",
      "http://projects.propublica.org/graphics/hatecrime-map --> [ 16595825, 35119505 ]\n",
      "https://www.vox.com/first-person/2017/11/17/16666290/brock-turner-rape --> [ 16595825, 21032360 ]\n",
      "https://mobile.nytimes.com/2017/11/18/nyregion/new-york-subway-system-failure-delays.html?_r=0&referer=https://mobile.nytimes.com/2017/11/20/nyregion/new-york-today-how-did-the-subways-get-so-bad.html --> [ 16595825, 23327117 ]\n",
      "https://www.vox.com/policy-and-politics/2017/11/20/16678094/glenn-thrush-new-york-times?utm_campaign=vox&utm_content=entry&utm_medium=social&utm_source=twitter --> [ 16595825, 19491541, 252877167 ]\n",
      "http://nyti.ms/2zmAcZk --> [ 16595825, 618556806, 620255756, 62363146 ]\n",
      "http://nyti.ms/2hrLFiQ --> [ 16595825, 373190561, ..., 4020267080, 68832423 ]\n",
      "https://www.buzzfeed.com/katiejmbaker/more-than-180-women-have-reported-sexual-assaults-at --> [ 16595825, 186931186, 19753693 ]\n",
      "https://nyti.ms/2ig7Mc9 --> [ 16595825, 2178197532, ..., 27059413, 7004572 ]\n",
      "https://www.nytimes.com/2017/11/29/us/politics/trump-anti-muslim-videos-jayda-fransen.html --> [ 16595825, 2332626853, 2377931 ]\n",
      "https://projects.propublica.org/bombs/ --> [ 16595825, 35119505, 819028347875364865 ]\n",
      "https://www.nytimes.com/2017/11/29/business/republican-tax-cut.html --> [ 16595825, 258074091, ..., 7004572, 73977188 ]\n",
      "https://www.nytimes.com/2017/12/01/us/politics/senate-tax-bill.html --> [ 16595825, 945971568 ]\n",
      "http://www.chicagotribune.com/news/nationworld/ct-epa-mining-pollution-20171201-story.html --> [ 16595825, 34162519 ]\n",
      "https://www.propublica.org/atpropublica/meet-the-seven-reporters-joining-us-on-propublicas-local-reporting-network --> [ 16595825, 44462995 ]\n",
      "http://wapo.st/2C6eNkQ?tid=ss_tw&utm_term=.98723aa73bc6 --> [ 16595825, 58614188, 68832423 ]\n",
      "http://ow.ly/ENwp30hfIwK --> [ 16595825, 39878985 ]\n",
      "https://www.propublica.org/atpropublica/propublica-illinois-is-hiring-a-public-relations-manager --> [ 16595825, 55176705 ]\n",
      "https://www.axios.com/washington-post-1515418495-9c9dc541-165f-4e99-b002-ad41416737ef.html --> [ 16595825, 17831187 ]\n",
      "https://nyti.ms/2Ey73c0 --> [ 16595825, 190343865 ]\n",
      "https://www.vox.com/world/2018/1/12/16885546/trump-asian-american-intelligence-briefing --> [ 16595825, 941663383 ]\n",
      "http://wapo.st/2n09BbK --> [ 16595825, 941663383 ]\n",
      "http://wapo.st/2GGJob4 --> [ 16595825, 42470250 ]\n",
      "http://wapo.st/2DCVuUG?tid=ss_tw&utm_term=.01ea9a89f65e --> [ 16595825, 335413129, 55739265 ]\n",
      "https://www.recode.net/2018/2/8/16991090/new-york-times-digital-paywall-business-growing-fast-facebook-google-newspaper-subscription --> [ 16595825, 42470250 ]\n",
      "https://www.propublica.org/nerds/illinois-governor-race-campaign-finance-widget-2018 --> [ 16595825, 9444512 ]\n"
     ]
    },
    {
     "name": "stderr",
     "output_type": "stream",
     "text": [
      "http://wapo.st/trump-budget-2019?tid=ss_tw --> [ 16595825, 870328182 ]\n",
      "http://ow.ly/5V2B30gofwh --> [ 16595825, 17916767, 3567831 ]\n",
      "http://politi.co/2yRxtDQ --> [ 1660288465, 705141626029502464 ]\n",
      "https://buff.ly/2zqZxBh --> [ 1660288465, 28258373 ]\n",
      "https://www.nytimes.com/2017/11/03/technology/trump-twitter-deleted.html --> [ 1660288465, 309519261 ]\n",
      "http://nyti.ms/2zEGxiH --> [ 1660288465, 33705943, ..., 6627232, 86832479 ]\n",
      "https://www.recode.net/2017/11/7/16620812/snapchat-evan-spiegel-redesign-users-q3-earnings?utm_campaign=www.recode.net&utm_content=entry&utm_medium=social&utm_source=twitter --> [ 1660288465, 17807843 ]\n",
      "http://bit.ly/2je6dvC --> [ 1660288465, 895951062 ]\n",
      "https://www.nytimes.com/2017/11/14/nyregion/a-wall-hanging-stirs-to-life-in-washington-square-park.html --> [ 1660288465, 17770297 ]\n",
      "https://www.nytimes.com/guides/well/how-to-be-happy --> [ 1660288465, 68832423 ]\n",
      "https://www.vox.com/policy-and-politics/2017/11/29/16712430/senate-tax-bill-change-federal-health-care --> [ 1660288465, 194475085, 312073250, 79240290 ]\n",
      "http://nyti.ms/2Ar2aT0 --> [ 1660288465, 3096320330 ]\n",
      "https://www.statnews.com/2017/12/06/goldwater-rule-psychiatry/ --> [ 1660288465, 1851861800 ]\n",
      "https://www.nytimes.com/2017/12/11/world/canada/starving-polar-bear.html --> [ 1660288465, 210945415, ..., 366211826, 895951062 ]\n",
      "http://nbcnews.to/2ldNm1N --> [ 1660288465, 21032360, 6170212, 828638275426480132 ]\n",
      "https://www.statnews.com/2017/12/28/dr-phil-addiction/ --> [ 1660288465, 817916796 ]\n",
      "http://uk.reuters.com/article/uk-myanmar-journalists/myanmar-prosecutor-seeks-official-secrets-act-charges-against-two-reuters-reporters-idUKKBN1EY2RZ --> [ 1660288465, 811500318 ]\n",
      "https://www.nytimes.com/2018/01/10/travel/jada-yuan-52-places-traveler.html --> [ 1660288465, 42470250 ]\n",
      "https://nyti.ms/2FmScRT --> [ 1660288465, 18083537, 244160232 ]\n",
      "http://wapo.st/2rQOSN0?tid=ss_tw&utm_term=.8fd5e7a3058d --> [ 1660288465, 453205837 ]\n",
      "https://www.nytimes.com/2018/02/02/us/politics/trump-fbi-memo.html?hp&action=click&pgtype=Homepage&clickSource=story-heading&module=a-lede-package-region&region=top-news&WT.nav=top-news --> [ 1660288465, 8984352 ]\n",
      "https://www.statnews.com/2018/02/07/black-doctors-racism-medicine/ --> [ 1660288465, 30688200 ]\n",
      "http://politi.co/2h9X1UR --> [ 16612859, 428490420 ]\n",
      "https://www.nytimes.com/2018/01/02/upshot/us-health-care-expensive-country-comparison.html --> [ 16612859, 282190774, 365970295 ]\n",
      "https://www.theguardian.com/science/across-the-universe/2017/nov/20/interstellar-object-confirmed-to-be-from-another-solar-system?CMP=share_btn_tw --> [ 16726339, 48762865 ]\n",
      "http://www.commercialappeal.com/story/news/government/city/2017/12/20/memphis-council-votes-immediately-remove-confederate-statues/960707001/ --> [ 16726339, 69194007 ]\n",
      "https://www.nytimes.com/2018/01/08/us/politics/trump-border-wall-funding-surveillance.html?_r=0 --> [ 16726339, 305270930 ]\n",
      "http://ow.ly/4zzB30igl3E --> [ 16726339, 501391845 ]\n",
      "https://www.nytimes.com/2018/02/10/climate/trump-infrastructure-climate-change.html --> [ 16726339, 48611246 ]\n",
      "https://mobile.nytimes.com/2018/01/01/science/calestous-juma-african-agriculture-dies.html?referer=https://t.co/MU560jx0GL --> [ 16736801, 1851861800 ]\n",
      "https://nyti.ms/2l0MXCm --> [ 1676661781, 254713150, 74803924 ]\n",
      "https://nyti.ms/2h1f8wi --> [ 1676661781, 945971568 ]\n",
      "https://www.buzzfeed.com/adambvary/anthony-rapp-kevin-spacey-made-sexual-advance-when-i-was-14?utm_term=.fgOGwjNx8V#.do9DVjxgv1 --> [ 1676661781, 254713150, 286439617 ]\n",
      "https://search.app.goo.gl/3eW5 --> [ 1676661781, 254713150 ]\n",
      "https://search.app.goo.gl/aEd7 --> [ 1676661781, 895951062 ]\n",
      "https://www.huffingtonpost.com/entry/white-supremacist-college-campus-propaganada_us_5a7317eee4b06fa61b4dfc47 --> [ 1676661781, 6627232 ]\n",
      "https://www.opensecrets.org/members-of-congress/summary?cid=N00000515&cycle=CAREER --> [ 168170834, 817916796 ]\n",
      "https://www.washingtonpost.com/world/middle_east/palestinians-vent-their-fury-on-day-of-rage-against-trumps-jerusalem-move/2017/12/08/b89bed3a-db96-11e7-a241-0848315642d0_story.html --> [ 168170834, 17170407 ]\n",
      "https://www.buzzfeed.com/dominicholden/edu-dept-trans-student-bathrooms?utm_term=.ilOkVQQVE&bftwnews#.nmxQJggJL --> [ 168170834, 18507316, 200186933 ]\n",
      "https://www.huffingtonpost.com/entry/trump-nra-gun-safety-background-checks_us_5a84abdee4b0774f31d1b770 --> [ 168170834, 3387845801 ]\n",
      "https://missionlocal.org/2017/12/the-legacy-of-ed-lee/ --> [ 16842103, 77596590 ]\n",
      "https://missionlocal.org/2017/12/collaborative-hackerspace-noisebridge-faces-displacement-from-sf-mission/ --> [ 16842103, 77596590 ]\n",
      "http://projects.sfchronicle.com/2018/bay-area-chinese-cuisine/ --> [ 16842103, 68885612, 77596590 ]\n",
      "https://jezebel.com/5923666/i-suck-how-guys-use-self-deprecation-against-you --> [ 169291985, 6545702 ]\n",
      "https://www.newyorker.com/books/this-week-in-fiction/fiction-this-week-kristen-roupenian-2017-12-11 --> [ 169291985, 178589400, 254713150, 28631446 ]\n",
      "https://www.washingtonpost.com/entertainment/theater_danc/critics-notebook-a-bittersweet-triumph-forsuzanne-farrell-and-her-company/2017/12/08/c4334908-dc3c-11e7-8e5f-ccc94e22b133_story.html?utm_term=.3897976775ce --> [ 169291985, 6170212 ]\n",
      "https://www.newyorker.com/magazine/2017/12/11/cat-person --> [ 169291985, 242308086, ..., 258074091, 68832423 ]\n",
      "https://www.pri.org/stories/2017-12-22/florence-theyre-bringing-works-women-artists-out-basement --> [ 169291985, 1916013997 ]\n",
      "https://mobile.nytimes.com/2017/10/17/opinion/columnists/weinstein-harassment-witchunt.html?smid=fb-share&referer=http://m.facebook.com/ --> [ 169291985, 17391298, 34687955 ]\n",
      "https://washingtonpost.com/world/europe/how-an-undercover-female-reporter-just-brought-down-a-posh-london-charity/2018/01/24/08656442-0115-11e8-86b9-8908743c79dd_story.html --> [ 169291985, 2178197532 ]\n",
      "https://www.nytimes.com/2018/02/07/t-magazine/judy-chicago-dinner-party.html --> [ 169291985, 2178197532 ]\n",
      "https://www.cbsnews.com/news/concealed-carry-reciprocity-act-showdown/ --> [ 169291985, 410053879 ]\n",
      "https://www.wsj.com/articles/the-computer-that-could-rule-the-world-1509143922 --> [ 17000424, 69791520 ]\n",
      "http://medium.com/@jeffykao/more-than-a-million-pro-repeal-net-neutrality-comments-were-likely-faked-e9f0e3ed36a6 --> [ 17000424, 221967226, ..., 277426268, 8984352 ]\n",
      "https://www.wired.com/story/how-email-open-tracking-quietly-took-over-the-web/?mbid=social_twitter_onsiteshare --> [ 17000424, 90787923 ]\n",
      "https://nyti.ms/2pBdpVm --> [ 17000424, 3094480530 ]\n",
      "https://www.theatlantic.com/technology/archive/2018/01/the-strange-brands-in-your-instagram-feed/550136/ --> [ 17000424, 17831187, 34413691 ]\n",
      "http://www.bbc.com/news/world-europe-42826028 --> [ 17000424, 33705943 ]\n",
      "https://www.newyorker.com/culture/annals-of-gastronomy/the-comfort-of-tamales-at-the-end-of-2017 --> [ 17035592, 344056011, 44462995, 45404617 ]\n",
      "http://bit.ly/2CcI5OB --> [ 17035592, 365728646 ]\n",
      "http://www.creativeloafing.com/news/article/20987212/how-the-westside-was-lost --> [ 17035592, 2978646101 ]\n",
      "https://www.hollywoodreporter.com/features/ellen-pompeo-tvs-20-million-woman-reveals-her-behind-scenes-fight-what-i-deserve-1074978 --> [ 17035592, 17391298, ..., 33597955, 6170212 ]\n",
      "https://www.npr.org/2018/01/23/579720874/will-work-for-no-benefits-the-challenges-of-being-in-the-new-contract-workforce?utm_campaign=storyshare&utm_source=twitter.com&utm_medium=social --> [ 171203337, 28641512, 366784078, 5354852 ]\n",
      "http://bit.ly/2yB64sX --> [ 17170407, 365728646 ]\n",
      "https://www.npr.org/sections/health-shots/2017/12/21/572080314/life-expectancy-drops-again-as-opioid-deaths-surge-in-u-s --> [ 17170407, 2298829188 ]\n",
      "https://www.theatlantic.com/technology/archive/2018/01/black-workers-and-the-driverless-bus/550535/ --> [ 17170407, 344056011 ]\n",
      "https://www.newyorker.com/magazine/2018/01/22/the-women-who-took-on-the-mafia --> [ 17170407, 277426268, 366211826, 42470250 ]\n",
      "https://theintercept.com/2018/01/19/voice-recognition-technology-nsa/ --> [ 17170407, 26368063, 28750282 ]\n",
      "https://trib.al/CMXs3au --> [ 17170407, 19276167 ]\n",
      "https://www.nytimes.com/2017/11/01/opinion/manhattan-truck-attack-akbar-terrorism.html --> [ 17341855, 556992335 ]\n",
      "https://www.militarytimes.com/news/your-military/2017/11/18/war-zone-deaths-are-up-for-the-first-time-in-six-years/ --> [ 17341855, 583393798 ]\n"
     ]
    },
    {
     "name": "stderr",
     "output_type": "stream",
     "text": [
      "https://trib.al/nSpTz3J --> [ 17341855, 1935548612 ]\n",
      "https://www.armytimes.com/news/your-army/2018/01/18/this-nco-faked-his-way-into-the-82nd-airborne-and-he-almost-got-away-with-it/ --> [ 17341855, 1935548612 ]\n",
      "https://www.defensenews.com/global/asia-pacific/2018/02/01/photos-suggest-china-is-prepping-to-test-a-electromagnetic-railgun-at-sea/ --> [ 17341855, 21594379 ]\n",
      "https://www.washingtonpost.com/politics/brazile-i-considered-replacing-clinton-with-biden-as-2016-democratic-nominee/2017/11/04/f0b75418-bf4c-11e7-97d9-bdab5a0ab381_story.html --> [ 17391298, 50040434 ]\n",
      "https://www.theatlantic.com/politics/archive/2017/11/the-nationalists-delusion/546356/?utm_source=twb --> [ 17391298, 265024237, ..., 45404617, 49496771 ]\n",
      "http://time.com/time-person-of-the-year-2017-silence-breakers-choice --> [ 17391298, 2332626853, 33705943, 485803430 ]\n",
      "http://www.newyorker.com/magazine/2018/01/15/when-deportation-is-a-death-sentence --> [ 17391298, 2332626853, ..., 411111885, 45404617 ]\n",
      "http://time.com/5107499/record-number-of-women-are-running-for-office/ --> [ 17391298, 941663383 ]\n",
      "http://time.com/black-panther/?xid=fbshare --> [ 17391298, 19000490, 19337746 ]\n",
      "http://time.com/5143589/rob-porter-ex-wife-trump-domestic-violence/ --> [ 17391298, 240271961 ]\n",
      "http://rol.st/2hBUHWC --> [ 17472754, 34162519 ]\n",
      "http://www.bbc.com/news/uk-42598775 --> [ 17620333, 3838807353 ]\n",
      "http://www.bbc.com/news/world-asia-42800271 --> [ 17620333, 17807843 ]\n",
      "http://www.bbc.com/news/uk-42827333?mc_cid=e57b7883fc&mc_eid=46d7ac3397 --> [ 17620333, 55739265 ]\n",
      "http://www.bbc.co.uk/news/science-environment-42939192 --> [ 17620333, 201702549 ]\n",
      "http://www.ctpost.com/news/article/California-offers-second-chance-to-people-12437505.php --> [ 17636303, 229924530, 886424335040118784 ]\n",
      "https://www.nytimes.com/2017/10/31/technology/how-to-fix-facebook-we-asked-9-experts.html --> [ 17770297, 21676243, 63035222 ]\n",
      "http://read.bi/2zuCRQz --> [ 17770297, 941663383 ]\n",
      "https://www.nytimes.com/2017/11/15/arts/design/leonardo-da-vinci-salvator-mundi-christies-auction.html --> [ 17770297, 293734116, 45678122 ]\n",
      "https://www.nytimes.com/2017/11/22/business/trump-organization-soho-hotel.html --> [ 17770297, 240926950, 373190561 ]\n",
      "https://gizmodo.com/dont-buy-anyone-an-echo-1820981732 --> [ 17770297, 19000490, 27858863, 356355182 ]\n",
      "https://www.nytimes.com/2018/01/17/arts/drag-queens-rupaul-drag-race.html --> [ 17770297, 2840844469 ]\n",
      "https://nyti.ms/2FGMI5I --> [ 17770297, 2178197532 ]\n",
      "https://nyti.ms/2BTVvCG --> [ 17770297, 18793557, 2178197532 ]\n",
      "http://wapo.st/2zZQbs9 --> [ 17807843, 346576986 ]\n",
      "http://www.pewglobal.org/2017/06/26/u-s-image-suffers-as-publics-around-world-question-trumps-leadership/ --> [ 17807843, 41368680 ]\n",
      "https://www.wired.com/story/how-one-womans-digital-life-was-weaponized-against-her --> [ 17807843, 583393798 ]\n",
      "https://trib.al/0ThwYeV --> [ 17807843, 210945415, 2978646101, 3138063036 ]\n",
      "https://www.vox.com/policy-and-politics/2017/12/21/16803302/drug-overdose-deaths-2016-worst --> [ 17807843, 2830828231 ]\n",
      "https://www.washingtonpost.com/news/energy-environment/wp/2018/01/05/republicans-allowed-a-tax-on-oil-companies-to-expire-and-almost-nobody-noticed/ --> [ 17807843, 19276167, 210945415, 24371595 ]\n",
      "https://www.wbez.org/shows/wbez-blogs/the-father-of-chicago-jean-baptiste-pointe-dusable/24858f5f-0620-4003-9b84-ac3fe294e1c3 --> [ 17807843, 356355182, 45215640 ]\n",
      "http://abcn.ws/2CmwOKB --> [ 17807843, 18602735, ..., 34162519, 96589583 ]\n",
      "http://wapo.st/2rK5UJ3?tid=ss_tw&utm_term=.3ba7f09ae76d --> [ 17821643, 2249181440 ]\n",
      "https://www.huffingtonpost.com/entry/jeff-sessions-domestic-terrorism-white-supremacist_us_5a510cc2e4b01e1a4b157ae9?ohs --> [ 17821643, 260021840, 356355182 ]\n",
      "https://www.nytimes.com/2018/01/31/opinion/baby-hope-sotu.html --> [ 17821643, 27858863 ]\n",
      "https://www.newyorker.com/cartoon/a21511-rd --> [ 17821643, 42470250, 6271482 ]\n",
      "https://www.npr.org/2017/10/28/560270856/previously-unseen-photos-of-michelle-obama-illuminate-chasing-light --> [ 17831187, 2178197532 ]\n",
      "https://medium.com/@filip_struharik/facebook-has-hurt-mainstream-media-more-than-fake-news-sites-113277bada8 --> [ 17831187, 977040996 ]\n",
      "https://slate.com/news-and-politics/2018/01/people-are-completely-missing-the-point-of-oprahs-amazing-golden-globes-speech.html --> [ 17831187, 20331530, ..., 90787923, 9963562 ]\n",
      "https://buff.ly/2qRSldG --> [ 17831187, 50040434, 534735526 ]\n",
      "https://www.wired.com/story/opengov-report-congress-constituent-communication/ --> [ 17831187, 63035222 ]\n",
      "https://www.vox.com/policy-and-politics/2017/10/27/16550322/michigan-governor-el-sayed --> [ 178589400, 324558603 ]\n",
      "https://medium.com/p/segwit2x-post-mortem-divorce-of-crypto-austrians-and-crypto-keynesians-87960b11ce4c --> [ 17865999, 43763 ]\n",
      "http://www.telegraph.co.uk/news/2017/07/16/citizens-going-digital-global-state-doesnt-keep-will-become/ --> [ 17865999, 43763 ]\n",
      "https://medium.com/@nopara73/zerolink-massive-scale-coinjoin-is-about-to-be-deployed-participate-in-the-final-test-and-earn-6225939d15fb --> [ 17865999, 43763 ]\n",
      "https://thinkprogress.org/national-park-fee-increase-468f54e855b8/amp/ --> [ 17916767, 365728646 ]\n",
      "http://www.tennessean.com/story/money/2017/12/16/getahn-ward-longtime-tennessean-reporter-beloved-community-leader-dies-45/958327001/ --> [ 17916767, 23402525, 62363146 ]\n",
      "https://www.washingtonpost.com/national/health-science/uranium-firm-urged-trump-officials-to-shrink-bears-ears-national-monument/2017/12/08/2eea39b6-dc31-11e7-b1a8-62589434a581_story.html?tid=sm_tw&utm_term=.7ba9f54112b3 --> [ 18033327, 21031956, ..., 48762865, 551186117 ]\n",
      "https://news.nationalgeographic.com/2017/07/global-warming-arctic-colder-winters-climate-change-spd/ --> [ 18033327, 1851861800 ]\n",
      "https://fb.me/9tcgBmgAf --> [ 18033327, 232712666, 27645239, 42756355 ]\n",
      "http://science.sciencemag.org/content/358/6364/793 --> [ 180810921, 2941377939 ]\n",
      "http://go.nature.com/2Fv25hk --> [ 180810921, 2941377939 ]\n",
      "https://www.nature.com/articles/d41586-018-01211-1?utm_source=twt_nr&utm_medium=social&utm_campaign=naturemarketing --> [ 180810921, 2718899182 ]\n",
      "https://www.nytimes.com/2017/10/27/business/how-to-be-a-ceo.html --> [ 18083537, 2178197532, 388134481, 453205837 ]\n",
      "https://nyti.ms/2yRB70H --> [ 18083537, 2462706447, 38228284 ]\n",
      "https://nyti.ms/2EeJmoN --> [ 18083537, 18507316 ]\n",
      "https://www.vox.com/policy-and-politics/2017/11/15/16634776/clinton-lewinsky-resigned --> [ 18150050, 274590281 ]\n",
      "http://www.thecrimson.com/article/2017/11/20/nicolae-one-hundred-million/ --> [ 18150050, 2826835662 ]\n",
      "https://www.nature.com/articles/s41598-017-16118-6 --> [ 18231563, 365970295 ]\n",
      "https://www.theatlantic.com/science/archive/2017/11/rats-of-new-york/546959/?utm_source=twb --> [ 18231563, 2941377939 ]\n",
      "http://www.businessinsider.com/silicon-valleys-raw-water-trend-could-turn-deadly-2018-1 --> [ 18231563, 63561755 ]\n",
      "https://www.bloomberg.com/news/articles/2018-01-09/kodak-stock-surges-after-announcing-coin-to-join-crypto-craze --> [ 18231563, 941663383 ]\n",
      "https://www.redstate.com/sarah-rumpf/2017/11/30/lied-kate-steinle-case/ --> [ 18507316, 3096320330 ]\n",
      "https://www.vox.com/2017/12/13/16772630/daca-expire-ice-arrest-deport --> [ 18507316, 2426218693 ]\n",
      "https://www.nytimes.com/2018/01/05/us/politics/trump-marijuana-policy-bipartisan-fire.html --> [ 18507316, 886424335040118784 ]\n",
      "http://cnn.it/2EfTC4R --> [ 18507316, 34162519, 366211826, 412432325 ]\n",
      "https://www.theatlantic.com/science/archive/2017/12/the-origins-of-storytelling/547502/?utm_source=twb --> [ 1851861800, 400979653, 91126624 ]\n",
      "https://www.politico.com/magazine/story/2018/01/02/donald-trump-foreign-policy-analysis-dangerous-216202 --> [ 1851861800, 290132637, 331113029, 34162519 ]\n",
      "http://www.slate.com/articles/arts/books/2018/01/fire_and_fury_by_michael_wolff_reviewed.html --> [ 1851861800, 941663383 ]\n",
      "https://amp.cnn.com/cnn/2018/01/23/politics/economy-prosperity-paradox-divide-country-voters/index.html --> [ 1851861800, 28641512 ]\n",
      "https://www.wsj.com/articles/uber-reveals-data-breach-and-cover-up-leading-to-two-firings-1511305453 --> [ 18602735, 700261033 ]\n",
      "http://nyti.ms/2hIXGNd --> [ 18602735, 378822672 ]\n",
      "https://buff.ly/2CwRWhZ --> [ 18602735, 265049463 ]\n",
      "http://nyti.ms/2E1pJR7 --> [ 18602735, 290132637, 331113029 ]\n"
     ]
    },
    {
     "name": "stderr",
     "output_type": "stream",
     "text": [
      "http://nyti.ms/2Bift5j --> [ 18602735, 453205837 ]\n",
      "https://www.nytimes.com/2018/01/30/opinion/strava-privacy.html --> [ 18602735, 315984380 ]\n",
      "https://arstechnica.com/tech-policy/2018/02/why-self-driving-cars-may-be-heaven-for-investigating-crimes-and-accidents/ --> [ 18602735, 23317048 ]\n",
      "http://rol.st/2xgX3AD --> [ 186931186, 945971568 ]\n",
      "http://abcn.ws/2n5W4zn --> [ 186931186, 583393798 ]\n",
      "https://www.washingtonpost.com/blogs/erik-wemple/wp/2017/11/19/the-publisher-of-al-com-blasts-back-at-legal-threats-from-roy-moore/?utm_term=.4e18e252301c --> [ 1872519374, 583393798 ]\n",
      "https://motherboard.vice.com/en_us/article/59yexk/princeton-study-session-replay-scripts-tracking-you --> [ 1872519374, 27858863, 420284118 ]\n",
      "https://nyti.ms/2hVxlzm --> [ 1872519374, 245351327, 32992891 ]\n",
      "https://www.nytimes.com/2017/11/21/magazine/can-ai-be-taught-to-explain-itself.html --> [ 1872519374, 2462706447, 2941377939 ]\n",
      "https://www.propublica.org/article/help-us-monitor-political-ads-online --> [ 1872519374, 420284118 ]\n",
      "https://www.nytimes.com/interactive/2015/09/11/business/media/david-carr-15-greatest-hits.html --> [ 18793557, 19958709 ]\n",
      "https://www.theatlantic.com/entertainment/archive/2017/11/reckoning-with-bill-clintons-sex-crimes/545729/ --> [ 19000490, 44006633 ]\n",
      "https://medium.com/p/news-nerd-salaries-2017-2c83466b994e --> [ 19000490, 35119505, 42470250 ]\n",
      "http://www.niemanlab.org/2017/12/the-rise-of-bridge-roles-in-news-organizations/ --> [ 19000490, 72758489 ]\n",
      "https://www.theguardian.com/commentisfree/2018/jan/16/aziz-ansari-story-missed-opportunity?CMP=share_btn_tw --> [ 19000490, 26958212 ]\n",
      "https://www.newyorker.com/culture/culture-desk/the-rising-pressure-of-the-metoo-backlash --> [ 19000490, 583393798 ]\n",
      "https://techcrunch.com/2017/10/24/tesla-makes-quick-work-of-puerto-rico-hospital-solar-power-relief-project/ --> [ 19014350, 521438607 ]\n",
      "https://www.independent.co.uk/news/world/americas/us-ambassador-panama-resigns-donald-trump-john-feeley-not-work-president-a8156116.html --> [ 19014350, 44006633, 56331382 ]\n",
      "https://www.theatlantic.com/photo/2018/01/gorgeous-images-of-the-planet-jupiter/550595/ --> [ 19014350, 21594379 ]\n",
      "https://www.theatlantic.com/technology/archive/2018/01/libraries-local-news/551594/?utm_source=twb --> [ 19014350, 2325329291, 32992891, 35119505 ]\n",
      "https://www.nytimes.com/2017/10/18/magazine/when-the-revolution-came-for-amy-cuddy.html?hp&action=click&pgtype=Homepage&clickSource=story-heading&module=second-column-region&region=top-news&WT.nav=top-news&_r=0 --> [ 1901872572, 354729119 ]\n",
      "http://cnn.it/2zcDmPb --> [ 1901872572, 23327117, 29638102, 381734721 ]\n",
      "http://wapo.st/2zohqkb --> [ 1901872572, 378822672 ]\n",
      "https://www.stanforddaily.com/2017/11/29/suing-an-academic-critic-isnt-only-wrong-its-also-unjust/ --> [ 1901872572, 2413225478 ]\n",
      "https://www.chronicle.com/article/Proposed-Tax-on-Graduate/242047/#.WjIJejSS3wQ.twitter --> [ 1901872572, 245351327, ..., 2620027214, 27059413 ]\n",
      "https://www.nature.com/ncomms/about/article-processing-charges --> [ 1901872572, 24633727 ]\n",
      "https://www.nytimes.com/2018/02/02/technology/cryptocurrency-puerto-rico.html?hp&action=click&pgtype=Homepage&clickSource=thumb&module=second-column-region&region=top-news&WT.nav=top-news --> [ 1901872572, 313683437 ]\n",
      "https://www.washingtoncitypaper.com/columns/article/20986837/long-live-city-paper --> [ 190343865, 305270930 ]\n",
      "http://www.baltimoresun.com/news/maryland/baltimore-city/bs-md-ci-spector-carjacking-mentoring-20171218-story.html --> [ 190343865, 977040996 ]\n",
      "https://www.washingtonpost.com/news/fact-checker/wp/2017/11/22/president-trump-and-accusations-of-sexual-misconduct-the-complete-list/ --> [ 19153715, 68901673 ]\n",
      "https://mobile.nytimes.com/2017/11/24/your-money/some-women-attain-an-enviable-status-401-k-millionaire.html --> [ 19153715, 521438607 ]\n",
      "https://nyti.ms/2FJOv9Y --> [ 19153715, 556992335, 79240290 ]\n",
      "https://nyti.ms/2iz1Drr --> [ 1916013997, 84007946 ]\n",
      "https://www.nytimes.com/2017/11/11/world/asia/trump-putin-election.html?hp&action=click&pgtype=Homepage&clickSource=story-heading&module=first-column-region&region=top-news&WT.nav=top-news&_r=0 --> [ 1916013997, 564663702, 7004572 ]\n",
      "https://aeon.co/essays/yacob-and-amo-africas-precursors-to-locke-hume-and-kant --> [ 1916013997, 315984380, 344056011, 49496771 ]\n",
      "https://trib.al/Y38VBiD --> [ 19276167, 45678122 ]\n",
      "https://trib.al/lnfEluL --> [ 19276167, 277426268, 45678122 ]\n",
      "https://trib.al/LBqbUsc --> [ 19276167, 221967226 ]\n",
      "http://bit.ly/2nX6Clz --> [ 19337746, 284885853 ]\n",
      "https://www.washingtonpost.com/politics/trump-sought-release-of-classified-russia-memo-putting-him-at-odds-with-justice-department/2018/01/27/a00f2a4c-02bb-11e8-9d31-d72cf78dbeee_story.html?utm_term=.0cc59cd45d5f --> [ 1935548612, 583393798 ]\n",
      "https://www.nature.com/news/many-junior-scientists-need-to-take-a-hard-look-at-their-job-prospects-1.22879 --> [ 194475085, 3910951103, 572479189, 906926615472390144 ]\n",
      "https://www.nytimes.com/2017/11/02/nyregion/dnainfo-gothamist-shutting-down.html?smid=tw-nytmetro&smtyp=cur&_r=0 --> [ 194475085, 2332626853, 23327117, 2493 ]\n",
      "https://gizmodo.com/amazons-last-mile-1820451224 --> [ 194475085, 354729119 ]\n",
      "https://theintercept.com/2017/11/29/trump-administration-acting-director-cfpb-mick-mulvaney/ --> [ 194475085, 237339254 ]\n",
      "https://insideclimatenews.org/news/27092017/polar-vortex-cold-snap-arctic-ice-loss-global-warming-climate-change --> [ 194475085, 51154828 ]\n",
      "http://thehill.com/policy/technology/370133-montana-becomes-first-state-to-implement-net-neutrality-rules-following-fcc --> [ 194475085, 77596590 ]\n",
      "https://theintercept.com/2018/01/23/dccc-democratic-primaries-congress-progressives/ --> [ 194475085, 365728646 ]\n",
      "http://www.capradio.org/articles/2018/01/23/a-floating-fillet-rice-farmers-grow-bugs-to-help-restore-californias-salmon/ --> [ 194475085, 214556584 ]\n",
      "https://www.cnbc.com/2018/01/26/flu-remains-severe-with-several-more-weeks-to-go-cdc-says.html --> [ 194475085, 271282858 ]\n",
      "https://motherboard.vice.com/amp/en_us/article/kz3xyz/detroit-mesh-network?__twitter_impression=true --> [ 19491541, 30688200, 34413691, 9444512 ]\n",
      "https://www.nytimes.com/2017/11/17/opinion/were-with-stupid.html --> [ 19491541, 5562792, 564663702 ]\n",
      "https://www.propublica.org/article/facebook-lets-advertisers-exclude-users-by-race --> [ 19491541, 32973 ]\n",
      "https://www.propublica.org/article/facebook-advertising-discrimination-housing-race-sex-national-origin?token=azi~Txt72PLEjyR99sF_pSH~fRuIBRsj --> [ 19491541, 19546153, 32973, 370219796 ]\n",
      "https://arstechnica.com/?post_type=post&p=1208753 --> [ 19491541, 2377931 ]\n",
      "https://arstechnica.com/?post_type=post&p=1212117 --> [ 19491541, 19546153, ..., 9444512, 9469592 ]\n",
      "https://www.vox.com/2017/12/1/16724800/senate-tax-bill-text --> [ 19491541, 803029068 ]\n",
      "https://theintercept.com/2017/12/04/trump-white-house-weighing-plans-for-private-spies-to-counter-deep-state-enemies/ --> [ 19491541, 472127689, 49496771 ]\n",
      "http://wapo.st/2zEovsu --> [ 19491541, 21964473, 286439617 ]\n",
      "https://nypost.com/2017/12/29/soldier-home-for-holidays-died-saving-lives-in-bronx-inferno/?utm_campaign=SocialFlow&utm_source=NYPTwitter&utm_medium=SocialFlow --> [ 19491541, 381734721 ]\n",
      "https://www.buzzfeed.com/thomasfrank/secret-money-how-trump-made-millions-selling-condos-to?utm_term=.faVGKzPbV#.si0N8YA6m --> [ 19491541, 274590281, 84007946 ]\n",
      "https://thinkprogress.org/trump-national-monuments-mining-bc92ca54db29/ --> [ 19491541, 34162519, 72758489 ]\n",
      "https://trib.al/VGAkfNE --> [ 19491541, 19546153, 72638046 ]\n",
      "https://www.theguardian.com/commentisfree/2017/oct/23/owning-car-thing-of-the-past-cities-utopian-vision --> [ 195093267, 858801843383799808 ]\n",
      "https://www.nytimes.com/2017/10/27/health/medicaid-maine-obamacare.html --> [ 195093267, 2178197532 ]\n",
      "https://www.washingtonpost.com/news/energy-environment/wp/2017/11/03/trump-administration-releases-report-finds-no-convincing-alternative-explanation-for-climate-change --> [ 195093267, 34162519, 55176705, 620255756 ]\n",
      "http://nyti.ms/2qK2d9q --> [ 195093267, 263481851, 27059413 ]\n",
      "https://www.nytimes.com/2018/01/24/opinion/poverty-united-states.html?action=click&contentCollection=Art%20%26%20Design&module=Trending&version=Full&region=Marginalia&pgtype=article --> [ 195093267, 2718899182, 359074742 ]\n"
     ]
    },
    {
     "name": "stderr",
     "output_type": "stream",
     "text": [
      "http://bit.ly/2E3Tykf --> [ 195093267, 365728646 ]\n",
      "https://www.newyorker.com/humor/borowitz-report/military-refuses-to-participate-in-trumps-parade-citing-bone-spurs --> [ 195093267, 5562792 ]\n",
      "https://www.wired.com/story/mark-zuckerberg-who-will-take-responsibility-for-facebook-now --> [ 19546153, 27858863 ]\n",
      "https://mobile.nytimes.com/2017/10/02/technology/facebook-russia-ads-.html --> [ 19546153, 26368063 ]\n",
      "https://mobile.nytimes.com/2017/10/14/opinion/sunday/millennials-freedom-fear.html --> [ 19546153, 26368063 ]\n",
      "https://www.cjr.org/tow_center/study-readers-hungry-news-feed-transparency-algorithms.php --> [ 19546153, 282190774 ]\n",
      "https://buff.ly/2mWHNIq --> [ 19546153, 534735526 ]\n",
      "https://www.cbsnews.com/news/donald-trumps-science-office-is-a-ghost-town --> [ 19546153, 4151309363, 6170212 ]\n",
      "https://www.fastcompany.com/40501439/the-network-uber-drivers-built --> [ 19546153, 354729119 ]\n",
      "https://www.buzzfeed.com/katienotopoulos/how-i-cracked-facebooks-new-algorithm-and-tortured-my?utm_term=.py9wlBNv8#.bgllnLO1j --> [ 19546153, 977040996 ]\n",
      "https://nyti.ms/2k0nvN9 --> [ 195851663, 6271482 ]\n",
      "http://nyti.ms/2BhRR0Z --> [ 195851663, 55176705 ]\n",
      "https://www.wsj.com/articles/twelve-days-in-xinjiang-how-chinas-surveillance-state-overwhelms-daily-life-1513700355 --> [ 195851663, 34413691 ]\n",
      "https://www.theguardian.com/world/2018/jan/09/china-women-break-silence-harassment-metoo-woyeshi --> [ 195851663, 941663383 ]\n",
      "https://www.vox.com/2017/10/28/16562328/sexual-harassment-workplace-harvey-weinstein --> [ 19753693, 33748076 ]\n",
      "https://www.chronicle.com/article/abusersenablers-in/241648 --> [ 19753693, 430289618 ]\n",
      "http://www.cnn.com/2017/11/10/entertainment/louis-ck-apology/index.html --> [ 19753693, 254713150 ]\n",
      "http://cnn.it/2Apgcl2 --> [ 19753693, 6627232 ]\n",
      "http://talkingpointsmemo.com/theslice/duggars-bill-gothard-iblp --> [ 19753693, 817916796 ]\n",
      "https://www.nytimes.com/2017/12/02/opinion/sunday/the-cost-of-devaluing-women.html --> [ 19753693, 21594379, ..., 3096320330, 564721501 ]\n",
      "https://www.npr.org/2018/01/08/570224090/the-sexual-assault-epidemic-no-one-talks-about --> [ 19753693, 4020267080 ]\n",
      "http://wapo.st/2EhysT4?tid=ss_tw&utm_term=.629f35a478d3 --> [ 19753693, 277426268 ]\n",
      "https://slate.com/news-and-politics/2018/02/rob-porters-history-of-domestic-abuse-wasnt-a-secret.html?wpsrc=sh_all_dt_tw_ru --> [ 19753693, 34687955 ]\n",
      "https://www.newyorker.com/news/news-desk/weighing-the-costs-of-speaking-out-about-harvey-weinstein --> [ 19958709, 6170212 ]\n",
      "https://www.thedailybeast.com/john-oliver-gets-into-heated-argument-with-dustin-hoffman-over-sexual-abuse-allegations --> [ 19958709, 700261033 ]\n",
      "http://nyti.ms/2DAoqK4 --> [ 19958709, 28750282 ]\n",
      "https://www.huffingtonpost.com/entry/tj-maxx-puerto-rico-employees-paid-tjx_us_5a01dd9fe4b066c2c03a72a3 --> [ 19958709, 237407801 ]\n",
      "http://www.indiewire.com/2018/01/greta-gerwig-jordan-peele-best-director-oscar-nominations-1201918118/ --> [ 19958709, 58614188 ]\n",
      "http://people.com/politics/jackie-kennedy-invented-camelot-jfk-assassination/ --> [ 19958709, 39662223 ]\n",
      "https://nyti.ms/2GvFFwS --> [ 19958709, 45215640, 509608066 ]\n",
      "https://nyti.ms/2Bps6yV --> [ 19958709, 58614188 ]\n",
      "https://www.theguardian.com/film/2018/feb/10/daniel-kaluuya-not-spokesperson-black-people-black-panther-get-out?CMP=share_btn_tw --> [ 19958709, 68832423, 9963562 ]\n",
      "https://www.washingtonpost.com/news/sports/wp/2018/02/08/how-to-watch-figure-skating-at-the-2018-winter-olympics-in-pyeongchang/?utm_term=.97d382afc595 --> [ 19958709, 289738296 ]\n",
      "https://www.bloomberg.com/news/articles/2017-11-06/wework-hits-education-with-an-entrepreneurial-school-for-kids --> [ 200186933, 34413691 ]\n",
      "http://politi.co/2zCAnil --> [ 200186933, 265049463 ]\n",
      "https://www.nytimes.com/2017/12/04/business/economy/tax-bill-new-york.html --> [ 200186933, 2178197532 ]\n",
      "https://nyti.ms/2hUkOMi --> [ 200186933, 28750282 ]\n",
      "https://www.bloomberg.com/news/articles/2017-12-13/tentative-tax-deal-scraps-hit-on-tuition-for-graduate-students --> [ 200186933, 803029068 ]\n",
      "https://nyti.ms/2q2k1Mz --> [ 200186933, 47014253, 4896662379 ]\n",
      "https://www.nytimes.com/2018/01/12/technology/jeff-bezos-jumps-into-dreamer-fight-with-gift-for-scholarships.html --> [ 200186933, 3910951103 ]\n",
      "http://cnn.it/2CkB0Lc --> [ 200186933, 21032360, ..., 583393798, 907312806 ]\n",
      "https://www.theguardian.com/science/2017/nov/19/human-evolution-dna-revolution-mapping-genome?CMP=Share_iOSApp_Other --> [ 201702549, 23245885 ]\n",
      "https://www.newstatesman.com/microsites/skills/2017/11/are-libraries-worth-keeping --> [ 201702549, 4426600037 ]\n",
      "https://www.newyorker.com/humor/daily-shouts/limiting-your-childs-fire-time-a-guide-for-concerned-paleolithic-parents --> [ 201702549, 4151309363 ]\n",
      "https://www.nytimes.com/2017/12/03/business/dealbook/cvs-is-said-to-agree-to-buy-aetna-reshaping-health-care-industry.html --> [ 20297345, 95329766 ]\n",
      "https://www.theguardian.com/tv-and-radio/2017/dec/04/house-of-cards-to-resume-production-for-final-season-without-kevin-spacey?CMP=fb_gu --> [ 20297345, 22445401 ]\n",
      "https://theintercept.com/2017/12/07/sam-seder-msnbc-reverses-decision-to-fire-contributor-sam-seder/ --> [ 20297345, 3000588429 ]\n",
      "http://www.politico.com/story/2017/10/26/facebook-google-twitter-trump-244191 --> [ 20331530, 27858863, 63561755 ]\n",
      "http://wapo.st/2BDGX60 --> [ 20331530, 68832423 ]\n",
      "http://wapo.st/2CijRSI?tid=ss_tw&utm_term=.821449dcd348 --> [ 20331530, 225242731, 2278396334 ]\n",
      "https://www.buzzfeed.com/josephbernstein/conservative-megadonor-robert-mercer-funded-project-veritas --> [ 20468289, 23327117 ]\n",
      "http://www.chicagotribune.com/news/local/breaking/ct-met-green-card-veteran-hunger-strike-20180131-story.html --> [ 20468289, 2426218693, 381734721, 3910951103 ]\n",
      "https://www.npr.org/sections/thetwo-way/2018/02/06/583627592/watch-live-spacex-attempts-launch-of-powerful-falcon-heavy-rocket?utm_source=twitter.com&utm_medium=social&utm_campaign=npr&utm_term=nprnews&utm_content=20180206 --> [ 20468289, 603385690 ]\n",
      "https://aeon.co/essays/music-is-in-your-brain-and-your-body-and-your-life --> [ 20491034, 91126624 ]\n",
      "https://www.fastcompany.com/40483191/how-vimeo-is-preparing-for-the-future-of-video-storytelling --> [ 20491034, 700261033 ]\n",
      "https://motherboard.vice.com/en_us/article/mg9vvn/how-our-likes-helped-trump-win?utm_campaign=sharebutton --> [ 20491034, 71278927 ]\n",
      "https://www.vanityfair.com/news/2017/11/trump-intel-slip --> [ 20491034, 237860849, 289738296 ]\n",
      "https://www.bloomberg.com/news/features/2017-12-18/washington-bureaucrats-are-chipping-away-at-trump-s-agenda --> [ 20491034, 277426268 ]\n",
      "http://wapo.st/2E5uGby --> [ 20491034, 7004572, 980865674 ]\n",
      "https://www.buzzfeed.com/alexkantrowitz/twitter-is-sending-more-clicks-to-publishers-as-facebook?utm_term=.bezWL4lL5 --> [ 20491034, 3039019074 ]\n",
      "https://www.thedailybeast.com/donald-trump-pledged-to-drain-the-swamp-instead-he-filled-it-with-industry-sharks --> [ 20550728, 817916796 ]\n",
      "https://www.npr.org/sections/thesalt/2017/12/14/570889309/the-usda-rolled-back-protections-for-small-farmers-now-theyre-suing --> [ 20550728, 317830223 ]\n",
      "https://www.nytimes.com/2017/12/17/us/politics/epa-pruitt-media-monitoring.html --> [ 20550728, 258074091 ]\n",
      "https://www.buzzfeed.com/stevenperlberg/be-smart-mike-allen-wrote-the-rules-of-washington-and-now?utm_term=.amE4NzKBmQ#.ev5PYErLZ6 --> [ 20550728, 249414004 ]\n",
      "https://www.newyorker.com/news/news-desk/the-untold-story-of-the-pentagon-papers-co-conspirators --> [ 20550728, 250149639 ]\n",
      "https://usa.streetsblog.org/2018/01/03/the-nashville-media-is-getting-played-by-transit-bashing-hired-guns/ --> [ 205708279, 62363146 ]\n",
      "http://foreignpolicy.com/2017/12/20/u-n-human-rights-chief-to-leave-citing-appalling-climate-for-advocacy/amp/?__twitter_impression=true --> [ 20622232, 2269075228, 232712666, 250149639 ]\n",
      "https://www.npr.org/sections/goatsandsoda/2018/02/11/583628387/i-didnt-think-there-were-many-african-women-scientists-then-i-checked-twitter --> [ 20622232, 6170212 ]\n",
      "http://www.si.com/nfl/2018/01/03/alvin-kamara-new-orleans-saints-rookie --> [ 208748844, 39662223 ]\n",
      "https://nyti.ms/2FDWBB3 --> [ 208748844, 7004572 ]\n",
      "https://www.si.com/nfl/2018/01/18/bill-belichick-nick-saban-friendship-relationship-patriots-alabama-browns --> [ 208748844, 306284052 ]\n"
     ]
    },
    {
     "name": "stderr",
     "output_type": "stream",
     "text": [
      "http://nyti.ms/2Aj1w7Q --> [ 21028191, 263481851 ]\n",
      "http://wapo.st/2BMYY6d?tid=ss_tw&utm_term=.b5b1516c33fd --> [ 21028191, 583393798 ]\n",
      "http://www.chronicle.com/article/What-You-Need-to-Know-About/241277?cid=at&utm_source=at&utm_medium=en&elqTrackId=0effc98d47d242aab8256189d6e430e8&elq=6abe555af50249cd9d957bbda0d9440d&elqaid=15742&elqat=1&elqCampaignId=6762 --> [ 21031956, 4896662379 ]\n",
      "https://www.nytimes.com/interactive/2017/01/10/upshot/How-to-Prevent-Gun-Deaths-The-Views-of-Experts-and-the-Public.html --> [ 21031956, 2278396334 ]\n",
      "http://nbcnews.to/2yqR3JC --> [ 21031956, 33705943 ]\n",
      "https://www.adl.org/news/press-releases/adl-data-shows-anti-semitic-incidents-continue-surge-in-2017-compared-to-2016 --> [ 21031956, 2984779193 ]\n",
      "https://www.chronicle.com/article/Passage-of-Senate-Tax-Reform/241962 --> [ 21031956, 251605462, 583393798 ]\n",
      "https://www.nytimes.com/interactive/2017/12/06/climate/year-end-review.html --> [ 21031956, 42470250 ]\n",
      "https://www.philanthropy.com/article/5-Numbers-to-Know-in-2018/242097/#.WkvaQtHP8mw.linkedin --> [ 21031956, 2178197532 ]\n",
      "https://www.chronicle.com/article/Apply-for-The-Chronicle-s/233782 --> [ 21031956, 583393798 ]\n",
      "https://www.chronicle.com/article/the-fight-to-rebuild-a-ravaged/242160 --> [ 21031956, 583393798 ]\n",
      "https://www.washingtonpost.com/world/national-security/trump-administration-to-end-provisional-residency-for-200000-salvadorans/2018/01/08/badfde90-f481-11e7-beb6-c8d48830c54d_story.html?utm_term=.2036614f8238 --> [ 21031956, 23327117, ..., 313683437, 344056011 ]\n",
      "https://www.washingtonpost.com/local/immigration/i-consider-this-my-country-salvadorans-in-us-brace-for-tps-decision/2018/01/07/77914402-f19e-11e7-b3bf-ab90a706e175_story.html?utm_term=.8e246ad68d8b --> [ 21031956, 48082526 ]\n",
      "https://www.chronicle.com/article/The-Paradox-of-Protecting/242191/#.Wlb_mZWZsGQ.twitter --> [ 21031956, 4151309363, 47014253 ]\n",
      "https://www.theatlantic.com/health/archive/2018/01/larry-nassar-and-the-impulse-to-doubt-female-pain/551198/ --> [ 21031956, 242308086 ]\n",
      "https://www.vox.com/2018/1/29/16934552/exclusive-national-geographic-sexual-misconduct?utm_campaign=vox&utm_content=entry&utm_medium=social&utm_source=twitter --> [ 21031956, 289738296, 39878985 ]\n",
      "https://www.philanthropy.com/article/Donations-to-Colleges-Up-6-in/242441/ --> [ 21031956, 237407801 ]\n",
      "http://www.politifact.com/truth-o-meter/article/2017/oct/18/deciding-whats-fake-medias-definition-fake-news-vs/ --> [ 21032360, 980865674 ]\n",
      "http://amp.poynter.org/news/how-florida-photographer-discovered-john-kellys-falsehood --> [ 21032360, 35119505 ]\n",
      "https://deadspin.com/teen-girl-posed-for-8-years-as-married-man-to-write-abo-1820305588?rev=1510274109626 --> [ 21032360, 29924665 ]\n",
      "https://www.vox.com/policy-and-politics/2017/11/3/16600770/alcohol-tax-increase --> [ 21032360, 2826835662 ]\n",
      "https://www.cjr.org/analysis/sexual-harassment-newsrooms-misconduct.php --> [ 21032360, 23402525 ]\n",
      "https://www.vox.com/2017/11/30/16517022/impeachment-donald-trump?utm_campaign=vox&utm_content=entry&utm_medium=social&utm_source=twitter --> [ 21032360, 58614188 ]\n",
      "http://bit.ly/2kDvTCo --> [ 21032360, 3000588429 ]\n",
      "https://www.theglobeandmail.com/amp/opinion/gutting-net-neutrality-is-a-death-knell-for-the-resistance/article37088279/ --> [ 210945415, 22445401, 23327117, 828638275426480132 ]\n",
      "http://on.wsj.com/2BMLRln --> [ 210945415, 277426268, 6170212 ]\n",
      "https://www.unicornriot.ninja/live-channel/ --> [ 210945415, 26548553 ]\n",
      "https://www.nytimes.com/2017/10/17/magazine/rex-tillerson-and-the-unraveling-of-the-state-department.html?nytmobile=0 --> [ 213202497, 24371595 ]\n",
      "https://ca.reuters.com/article/topNews/idCAKBN1E71CO-OCATP --> [ 213202497, 285751151 ]\n",
      "http://go.nature.com/2zA85Gf --> [ 21380775, 2718899182 ]\n",
      "https://goo.gl/KSfS7f --> [ 21380775, 906926615472390144 ]\n",
      "https://goo.gl/mtzLBH --> [ 21380775, 906926615472390144 ]\n",
      "http://www.latimes.com/opinion/op-ed/la-oe-singh-food-deserts-nutritional-disparities-20180207-story.html --> [ 214556584, 62363146 ]\n",
      "https://www.wsj.com/articles/getting-your-product-on-shelves-at-whole-foods-just-got-harder-1518085801 --> [ 214556584, 69791520 ]\n",
      "https://www.nytimes.com/2017/11/13/upshot/obamacare-doctors-health-plan-enrollment.html --> [ 21594379, 463059217 ]\n",
      "https://www.theatlantic.com/health/archive/2017/12/trump-eats/547355/?utm_source=feed --> [ 21594379, 945971568 ]\n",
      "http://tcrn.ch/2BOYPOS --> [ 21594379, 90787923 ]\n",
      "https://www.theatlantic.com/business/archive/2018/01/health-care-america-jobs/550079/ --> [ 21594379, 50040434, 51154828 ]\n",
      "https://buff.ly/2E6ztKW --> [ 21594379, 69791520 ]\n",
      "http://wapo.st/2nVmlk6 --> [ 21594379, 24746074 ]\n",
      "https://www.theatlantic.com/technology/archive/2018/02/chinas-dangerous-dream-of-urban-control/553097/ --> [ 21594379, 6271482 ]\n",
      "https://www.nytimes.com/2017/11/11/opinion/sunday/shalane-flanagan-marathon-running.html --> [ 21676243, 365970295 ]\n",
      "https://www.nytimes.com/2017/11/28/nyregion/new-york-subway-funding-real-estate.html --> [ 21676243, 258074091 ]\n",
      "https://www.washingtonpost.com/news/worldviews/wp/2017/10/25/women-in-the-developing-world-dont-need-cows-and-sewing-machines-but-thats-what-aid-groups-keep-offering/ --> [ 2178197532, 221967226 ]\n",
      "https://nyti.ms/2iyZ3Sb --> [ 2178197532, 237407801, 91126624 ]\n",
      "https://www.fastcompany.com/40483787/this-new-review-site-lets-nonprofits-give-feedback-to-foundations --> [ 2178197532, 237407801 ]\n",
      "https://www.nytimes.com/2017/11/19/opinion/sexual-harassment-men-.html --> [ 2178197532, 411111885 ]\n",
      "https://nyti.ms/2AG6xIi --> [ 2178197532, 277426268, 359074742 ]\n",
      "http://www.slate.com/articles/news_and_politics/interrogation/2017/12/what_a_new_study_reveals_about_low_income_schools.html --> [ 2178197532, 2830828231 ]\n",
      "https://www.nytimes.com/interactive/2017/12/19/opinion/women-guns-domestic-violence.html --> [ 2178197532, 811500318 ]\n",
      "https://nyti.ms/2oV7B8F --> [ 2178197532, 231215321 ]\n",
      "http://wapo.st/2kNMhO8 --> [ 2178197532, 221967226 ]\n",
      "https://nyti.ms/2pOir0P --> [ 2178197532, 254713150, 354729119, 42470250 ]\n",
      "http://nyti.ms/2Cr4HyZ --> [ 2178197532, 290132637 ]\n",
      "https://nyti.ms/2q6caO6 --> [ 2178197532, 430289618 ]\n",
      "https://nyti.ms/2EouOUr --> [ 2178197532, 582379466 ]\n",
      "https://nyti.ms/2EANwsa --> [ 2178197532, 463059217 ]\n",
      "https://www.nytimes.com/2018/01/09/us/north-carolina-gerrymander.html --> [ 2178197532, 556992335 ]\n",
      "https://www.npr.org/sections/ed/2018/01/11/577000301/americas-schools-are-profoundly-unequal-says-u-s-civil-rights-commission?utm_source=facebook.com&utm_medium=social&utm_campaign=npr&utm_term=nprnews&utm_content=20180111 --> [ 2178197532, 240271961 ]\n",
      "https://www.nytimes.com/2018/02/02/business/wells-fargo-federal-reserve.html --> [ 2178197532, 9972002 ]\n",
      "https://www.nytimes.com/2018/02/10/opinion/sunday/black-with-some-white-privilege.html --> [ 2178197532, 26958212 ]\n",
      "http://www.mercurynews.com/2017/11/29/huge-new-open-space-preserve-opens-to-public-friday/ --> [ 2179078237, 373190561 ]\n",
      "https://www.newyorker.com/magazine/1988/09/26/los-angeles-against-the-mountains-i --> [ 2179078237, 2327888588 ]\n",
      "https://nyti.ms/2EvUoGz --> [ 2179078237, 315984380, 354729119 ]\n",
      "https://www.washingtonpost.com/world/national-security/dhs-inspector-general-travel-ban-confusion-led-agents-to-violate-court-order/2017/11/20/850f6fc8-ce3f-11e7-81bc-c55a220c8cbe_story.html?hpid=hp_hp-top-table-main_travelban-1140pm:homepage/story&utm_term=.7ecea755c2ef --> [ 21964473, 49496771 ]\n",
      "https://www.theatlantic.com/politics/archive/2017/11/the-inconvenience-of-being-a-woman-veteran/545987/?utm_source=twb --> [ 21964473, 945971568 ]\n",
      "http://nyti.ms/2BJCfU7 --> [ 21990304, 485803430 ]\n",
      "https://nyti.ms/2EmEtKl --> [ 21990304, 285751151, 29638102 ]\n",
      "https://www.washingtonpost.com/business/economy/why-economists-need-tolstoy/2017/11/10/1630d6bc-bff5-11e7-959c-fe2b598d8c00_story.html?utm_term=.70e9726bf295 --> [ 221967226, 9963562 ]\n",
      "http://wapo.st/2AKu3mR --> [ 221967226, 231837399 ]\n",
      "http://wapo.st/2nA8DGr --> [ 221967226, 28750282 ]\n",
      "http://wapo.st/2o7lqjZ --> [ 221967226, 2278396334 ]\n",
      "http://wapo.st/2EibXcU --> [ 221967226, 811500318 ]\n",
      "https://www.washingtonpost.com/amphtml/news/morning-mix/wp/2018/01/22/ice-detains-a-polish-doctor-and-green-card-holder-who-has-lived-in-the-u-s-for-nearly-40-years/ --> [ 221967226, 3910951103, 583393798 ]\n"
     ]
    },
    {
     "name": "stderr",
     "output_type": "stream",
     "text": [
      "https://www.brookings.edu/news-releases/federal-reserve-chair-janet-l-yellen-to-join-economic-studies-at-brookings/ --> [ 221967226, 3838807353 ]\n",
      "https://www.theguardian.com/news/2017/nov/05/paradise-papers-leak-reveals-secrets-of-world-elites-hidden-wealth --> [ 22445401, 26368063 ]\n",
      "http://bit.ly/2ncTomK --> [ 2249181440, 279214346, 38471570 ]\n",
      "https://www.statnews.com/2017/12/07/surgeon-general-and-his-brother/ --> [ 2249181440, 79240290 ]\n",
      "https://news.vice.com/story/jeff-sessions-accidentally-narced-on-his-secret-anti-weed-meeting --> [ 2249181440, 27059413 ]\n",
      "http://nyti.ms/2BMynTy --> [ 2249181440, 27059413 ]\n",
      "http://on.wsj.com/2BMxx9b --> [ 225242731, 237407801, 28750282, 882632081054064641 ]\n",
      "https://www.theguardian.com/culture/2018/jan/19/the-book-that-changed-my-life-in-prison?CMP=share_btn_tw --> [ 225242731, 509608066 ]\n",
      "https://www.cjr.org/united_states_project/news-media-literacy-conspiracy-theory.php --> [ 22547819, 39878985 ]\n",
      "https://buff.ly/2DCq3qq --> [ 22547819, 28258373 ]\n",
      "http://cnn.it/2zGfhj2 --> [ 2269075228, 945971568 ]\n",
      "https://mobile.nytimes.com/2017/12/07/upshot/being-a-doctor-is-hard-its-harder-for-women.html?referer=http://www.nytimes.com/science --> [ 2269075228, 39878985 ]\n",
      "https://www.propublica.org/article/how-hospitals-are-failing-black-mothers --> [ 2269075228, 37563842 ]\n",
      "https://slate.com/technology/2018/01/when-she-asked-for-help-for-postpartum-depression-the-nurse-called-the-cops.html?via=recirc_engaged --> [ 2269075228, 28631446, 33597955 ]\n",
      "https://www.forbes.com/sites/startswithabang/2017/11/07/the-gop-tax-plan-will-destroy-graduate-education/#604920583d2f --> [ 2278396334, 260021840, 400979653 ]\n",
      "https://www.wired.com/story/grad-students-are-freaking-out-about-the-gops-tax-plan-they-should-be/ --> [ 2278396334, 27059413, 803029068 ]\n",
      "https://mobile.nytimes.com/2017/11/13/us/politics/trump-judge-brett-talley-nomination.html?smid=tw-nytpolitics&smtyp=cur&_r=0&referer=https://t.co/Nggb8Eanl6 --> [ 2278396334, 301073562 ]\n",
      "http://cnn.it/2AjYgJO --> [ 2278396334, 285751151 ]\n",
      "http://www.bbc.com/news/uk-politics-42346192 --> [ 2278396334, 68901673 ]\n",
      "http://gizmodo.com/fcc-votes-to-kill-net-neutrality-capping-a-year-of-end-1821257779?utm_medium=sharefromsite&utm_source=Gizmodo_twitter --> [ 2278396334, 803029068 ]\n",
      "http://politi.co/2kVvA2g --> [ 2278396334, 71278927 ]\n",
      "http://bit.ly/2C1Gkqs --> [ 2278396334, 240926950 ]\n",
      "https://www.theguardian.com/media/2018/jan/03/toby-young-quotes-on-breasts-eugenics-and-working-class-people?CMP=share_btn_tw --> [ 2278396334, 4426600037 ]\n",
      "https://www.nytimes.com/2018/01/05/opinion/security-masculinity-nuclear-weapons.html --> [ 2278396334, 2840844469 ]\n",
      "http://wapo.st/2CKUxsv?tid=ss_tw&utm_term=.5dd27d133e81 --> [ 2278396334, 3525184162, 564663702 ]\n",
      "https://www.nbcnews.com/news/us-news/trump-s-history-breaking-decorum-remarks-race-ethnicity-n837181 --> [ 2278396334, 68832423 ]\n",
      "http://ow.ly/CinW30gJhXI --> [ 2298829188, 39878985 ]\n",
      "http://ow.ly/XUj630i1FRS --> [ 2298829188, 79240290 ]\n",
      "http://ow.ly/7vYR30ijCwO --> [ 2298829188, 258074091 ]\n",
      "http://nyti.ms/2jfveX9 --> [ 229924530, 805777571023556608 ]\n",
      "http://www.cbc.ca/radio/asithappens/as-it-happens-wednesday-edition-1.4403187/julian-fantino-who-once-compared-weed-to-murder-defends-opening-medical-marijuana-business-1.4403194 --> [ 229924530, 237339254 ]\n",
      "http://rol.st/2DRrRMu --> [ 229924530, 34162519 ]\n",
      "https://www.npr.org/sections/thetwo-way/2018/01/24/580259163/50-cent-i-forgot-taking-700-bitcoins-for-2014-album-stake-is-now-worth-millions?utm_source=twitter.com&utm_medium=social&utm_campaign=npr&utm_term=nprnews&utm_content=20180124 --> [ 229924530, 6170212 ]\n",
      "https://www.nytimes.com/2018/01/29/sports/baseball/cleveland-indians-chief-wahoo-logo.html --> [ 229924530, 28520128 ]\n",
      "https://www.washingtonpost.com/world/national-security/trump-offered-a-grieving-military-father-25000-in-a-call-but-didnt-follow-through/2017/10/18/8d4cbc8c-b43a-11e7-be94-fabb0f1e9ffb_story.html?utm_term=.a94011c3665e --> [ 231215321, 24371595, ..., 55176705, 980865674 ]\n",
      "https://nyti.ms/2hydyWp --> [ 231215321, 517937578 ]\n",
      "https://www.huffingtonpost.com/entry/christmas-prince-rom-com-journalists_us_5a33cf3be4b01d429cc7fb59 --> [ 231215321, 472127689 ]\n",
      "https://buff.ly/2B7yqIX --> [ 231837399, 28258373 ]\n",
      "http://news.gallup.com/poll/224672/barack-obama-hillary-clinton-retain-admired-titles.aspx --> [ 231837399, 324558603 ]\n",
      "https://www.theatlantic.com/magazine/archive/2017/04/why-is-silicon-valley-so-awful-to-women/517788/?utm_source=twb --> [ 231837399, 90787923 ]\n",
      "http://www.indiewire.com/2018/01/octavia-spencer-jessica-chastain-pay-equity-women-1201921282/ --> [ 231837399, 242952793, 254713150 ]\n",
      "http://ow.ly/gzYw30ghcMv --> [ 23245885, 2678410249, 886802617548124161 ]\n",
      "https://www.theatlantic.com/science/archive/2017/12/romes-colosseum-garden/547535/ --> [ 23245885, 72638046 ]\n",
      "https://www.theguardian.com/environment/2017/dec/14/a-different-dimension-of-loss-great-insect-die-off-sixth-extinction --> [ 23245885, 27645239 ]\n",
      "https://www.theatlantic.com/science/archive/2018/01/upward-sun-river-infants-genome-peopling-americas/549572/?utm_source=twb --> [ 23245885, 291486075, 400979653 ]\n",
      "http://cfr.org/women-peace --> [ 232712666, 472127689 ]\n",
      "http://foreignpolicy.com/2017/11/07/amid-a-saudi-purge-women-face-the-test-of-a-lifetime-mohammed-bin-salman/ --> [ 232712666, 517937578 ]\n",
      "https://nyti.ms/2zxLMws --> [ 2330671489, 39878985 ]\n",
      "https://www.nytimes.com/2017/11/18/nyregion/new-york-subway-system-failure-delays.html?hp&action=click&pgtype=Homepage&clickSource=story-heading&module=photo-spot-region&region=top-news&WT.nav=top-news&_r=0 --> [ 2330671489, 23327117, ..., 817916796, 84007946 ]\n",
      "https://www.newyorker.com/magazine/2018/01/08/making-china-great-again/amp?__twitter_impression=true --> [ 2330671489, 32003235, 359074742, 7004572 ]\n",
      "http://www.mercurynews.com/2017/12/17/bay-area-traffic-fix-mega-measure/ --> [ 23317048, 373190561 ]\n",
      "https://nyti.ms/2hPRkfw --> [ 2332626853, 359074742 ]\n",
      "https://www.buzzfeed.com/jtes/dc-comics-editor-eddie-berganza-sexual-harassment?bftwnews&utm_term=4ldqpgc#4ldqpgc --> [ 2332626853, 28631446 ]\n",
      "https://thegrapevine.theroot.com/lena-dunham-is-trash-1820565772 --> [ 2332626853, 6545702 ]\n",
      "http://abcn.ws/2zq13Uq --> [ 2332626853, 301073562 ]\n",
      "https://nypost.com/2017/11/23/cops-tried-to-intimidate-rape-accuser-out-of-pressing-charges-lawyer/ --> [ 2332626853, 26958212, 3138063036 ]\n",
      "http://cnn.it/2nB6HKW --> [ 2332626853, 551186117 ]\n",
      "https://buff.ly/2FXBf0U --> [ 2332626853, 30688200 ]\n",
      "http://www.latimes.com/local/lanow/la-me-ln-rupert-tarsey-20171129-htmlstory.html --> [ 23402525, 44006633 ]\n",
      "https://www.hollywoodreporter.com/news/writer-jenny-lumet-russell-simmons-sexually-violated-me-guest-column-1062934 --> [ 23402525, 34162519 ]\n",
      "https://www.washingtonpost.com/news/capital-business/wp/2017/12/21/local-businessman-mark-ein-to-buy-washington-city-paper-for-undisclosed-sum/ --> [ 23402525, 72758489 ]\n",
      "http://amp.poynter.org/news/goodbye-contributor-network-and-thanks-nothing?__twitter_impression=true --> [ 23402525, 284885853 ]\n",
      "https://www.newyorker.com/magazine/2017/12/04/where-millennials-come-from --> [ 23472725, 803029068 ]\n",
      "https://buff.ly/2pOe9qd --> [ 23472725, 68901673 ]\n",
      "http://www.freep.com/story/news/columnists/john-carlisle/2017/09/13/salvation-army-food-truck-detroit-john-carlisle/337775001/ --> [ 2368421893, 28641512 ]\n",
      "https://www.nytimes.com/2017/11/04/business/detroit-housing.html --> [ 2368421893, 618556806 ]\n",
      "https://www.freep.com/story/news/columnists/john-carlisle/2017/12/07/delray-neighborhood-detroit-michigan/676597001/ --> [ 2368421893, 63793150 ]\n",
      "http://thenation.com/article/meet-the-candidate-running-to-fix-michigans-brutal-housing-policies/ --> [ 2368421893, 324558603 ]\n",
      "https://nyti.ms/2FzuB0n --> [ 2368421893, 359074742 ]\n",
      "https://detroit.curbed.com/2018/2/8/16991266/detroit-banned-airbnb-zoning?utm_campaign=detroit.curbed&utm_content=chorus&utm_medium=social&utm_source=twitter --> [ 2368421893, 77596590 ]\n",
      "http://www.politics.co.uk/news/2017/11/28/woman-reports-rape-to-police-and-is-arrested-on-immigration --> [ 2371310198, 941663383 ]\n",
      "https://www.propublica.org/article/extreme-digital-vetting-of-visitors-to-the-u-s-moves-forward-under-a-new-name --> [ 237339254, 31162511, 344056011 ]\n"
     ]
    },
    {
     "name": "stderr",
     "output_type": "stream",
     "text": [
      "http://www.motherjones.com/politics/2017/12/the-republican-overseeing-the-alabama-election-doesnt-think-voting-should-be-easy/ --> [ 237339254, 28631446 ]\n",
      "https://www.wired.com/story/koch-brothers-are-cities-new-obstacle-to-building-broadband/ --> [ 237339254, 335783721, 945971568 ]\n",
      "https://theintercept.com/2017/12/30/facebook-says-it-is-deleting-accounts-at-the-direction-of-the-u-s-and-israeli-governments/ --> [ 237339254, 258074091 ]\n",
      "http://on.digg.com/2gkETat --> [ 237407801, 96589583, 9963562 ]\n",
      "http://www.newsweek.com/ruth-bader-ginsburg-shows-trump-she-isnt-going-anywhere-hiring-full-slate-law-771826 --> [ 237407801, 34162519 ]\n",
      "https://www.ft.com/content/075d679e-0033-11e8-9650-9c0ad2d7c5b5?utm_content=bufferb939b&utm_medium=social&utm_source=facebook.com&utm_campaign=buffer --> [ 237407801, 34687955, 388134481, 941663383 ]\n",
      "https://mobile.nytimes.com/2017/12/02/us/russia-mcfarland-flynn-trump-emails.html --> [ 237860849, 26368063 ]\n",
      "https://www.theguardian.com/us-news/ng-interactive/2017/nov/30/donald-trump-sexual-misconduct-allegations-full-list?CMP=Share_iOSApp_Other --> [ 237860849, 34162519, ..., 77596590, 9444512 ]\n",
      "https://www.vox.com/policy-and-politics/2017/10/26/16526922/harvey-weinstein-donald-trump-sexual-harassment --> [ 240271961, 58614188 ]\n",
      "http://www.philly.com/philly/opinion/commentary/gop-republican-tax-reform-bill-la-colombe-todd-carmichael-20171128.html --> [ 240271961, 5354852 ]\n",
      "http://www.esquire.com/news-politics/politics/a14516912/donald-trump-new-york-times-michael-schmidt/ --> [ 240271961, 838815548075085825 ]\n",
      "https://nyti.ms/2EKqHRU --> [ 240271961, 27059413, 941663383 ]\n",
      "http://nbcnews.to/2j14YzN --> [ 240926950, 838815548075085825 ]\n",
      "https://elpais.com/elpais/2017/11/10/inenglish/1510329788_994258.html?id_externo_rsoc=TW_CC --> [ 240926950, 564663702 ]\n",
      "http://www.kmov.com/story/37240190/governor-greitens-admits-to-extramarital-affair --> [ 240926950, 317830223, 322221442 ]\n",
      "https://chicago.curbed.com/maps/chicago-most-iconic-buildings-map --> [ 2413225478, 356355182 ]\n",
      "http://www.hollywoodreporter.com/news/louis-cks-movie-premiere-canceled-advance-ny-times-story-1056585 --> [ 242308086, 254713150 ]\n",
      "https://www.vox.com/a/sexual-misconduct-allegations-the-reckoning --> [ 242308086, 42470250 ]\n",
      "http://to.pbs.org/2D8xxAj --> [ 2426218693, 344056011 ]\n",
      "https://buff.ly/2yPceWA --> [ 242952793, 284885853 ]\n",
      "http://www.motherjones.com/crime-justice/2017/11/its-2017-and-trans-people-are-dying-violent-deaths-in-record-numbers/ --> [ 242952793, 258607194 ]\n",
      "https://shareblue.com/trump-hosted-the-nra-at-the-white-house-on-the-anniversary-of-sandy-hook-massacre/ --> [ 242952793, 24746074 ]\n",
      "http://bit.ly/2gCNMjm --> [ 24371595, 27497732 ]\n",
      "http://bit.ly/2yAkGYe --> [ 24371595, 838815548075085825, 84007946, 95329766 ]\n",
      "https://www.nytimes.com/2017/11/04/us/washington-state-west-politics-democrats.html --> [ 24371595, 819028347875364865 ]\n",
      "https://www.politico.com/magazine/story/2017/11/08/donald-trump-johnstown-pennsylvania-supporters-215800 --> [ 24371595, 265024237, 39878985, 58614188 ]\n",
      "http://wapo.st/2AqzBDq --> [ 24371595, 63793150 ]\n",
      "https://www.washingtonpost.com/news/the-fix/wp/2018/01/11/trumps-history-of-controversial-remarks-about-nonwhite-immigrants/ --> [ 24371595, 332346899 ]\n",
      "https://www.nbcnews.com/politics/donald-trump/trump-s-gripes-against-mccabe-included-wife-s-politics-comey-n842161 --> [ 24371595, 366784078 ]\n",
      "https://www.cnbc.com/2018/02/07/credit-suisse-defends-controversial-xiv-etn-amid-market-turmoil.html --> [ 24371595, 41368680 ]\n",
      "https://www.washingtonpost.com/news/the-intersect/wp/2017/10/19/the-woman-behind-me-too-knew-the-power-of-the-phrase-when-she-created-it-10-years-ago/ --> [ 244160232, 271282858 ]\n",
      "https://www.theguardian.com/lifeandstyle/2017/oct/28/raising-black-son-america --> [ 244160232, 2978646101 ]\n",
      "https://www.theatlantic.com/business/archive/2017/10/the-future-of-jobs-polarized-unequal-and-health-care/543915/?utm_source=twb --> [ 245351327, 824039958457434112 ]\n",
      "https://www.the74million.org/?p=514571 --> [ 245351327, 2830828231 ]\n",
      "https://nyti.ms/2AZGka1#tweetiatricians --> [ 245351327, 359074742 ]\n",
      "https://www.si.com/soccer/2017/12/22/kathy-carter-us-soccer-election-president-sunil-gulati-don-garber --> [ 245351327, 356355182 ]\n",
      "http://www.nature.com/news/sex-matters-in-experiments-on-party-drug-in-mice-1.23022 --> [ 24582955, 2718899182 ]\n",
      "https://nyti.ms/2pehPkC --> [ 24582955, 37563842 ]\n",
      "http://ow.ly/UvKj30gAc8C --> [ 2462706447, 58614188 ]\n",
      "http://nyti.ms/2DpM7EI --> [ 2462706447, 290132637 ]\n",
      "http://www.chronicle.com/article/The-Fallacy-of-Open-Access/241786 --> [ 24633727, 45404617 ]\n",
      "https://drjengunter.wordpress.com/2017/12/14/i-was-groped-by-the-editor-of-an-ob-gyn-medical-journal-im-not-the-only-one/ --> [ 24633727, 421957007 ]\n",
      "https://www.chronicle.com/article/A-Complete-Culture-of/242040 --> [ 24633727, 4151309363 ]\n",
      "https://blogs.scientificamerican.com/guest-blog/the-forgotten-life-of-einsteins-first-wife/ --> [ 24633727, 564721501 ]\n",
      "https://www.theatlantic.com/science/archive/2017/12/women-are-invited-to-give-fewer-talks-than-men-at-top-us-universities/548657/ --> [ 24633727, 291486075 ]\n",
      "https://www.nature.com/articles/d41586-018-01212-0?utm_source=twt_nnc&utm_medium=social&utm_campaign=naturenews&sf180345602=1 --> [ 24633727, 365970295 ]\n",
      "http://wapo.st/2B6PQEr --> [ 24746074, 39878985, 583393798 ]\n",
      "https://www.oii.ox.ac.uk/study/summer-doctoral-programme/about/ --> [ 2493, 271282858 ]\n",
      "https://amp.businessinsider.com/security-robots-are-monitoring-the-homeless-in-san-francisco-2017-12?__twitter_impression=true --> [ 2493, 265024237, 313683437 ]\n",
      "http://www.kusi.com/dozen-arrested-feeding-homeless-el-cajon/ --> [ 2493, 33748076 ]\n",
      "https://www.washingtonpost.com/news/the-intersect/wp/2018/01/15/somewhere-in-the-world-theres-a-painting-that-looks-like-you-and-google-will-find-it/ --> [ 2493, 32973 ]\n",
      "http://www.cbc.ca/1.4471337 --> [ 249414004, 381734721, 9972002 ]\n",
      "https://www.nytimes.com/2018/01/15/upshot/flu-shot-deaths-herd-immunity.html?nytapp=true --> [ 249414004, 359074742 ]\n",
      "https://nyti.ms/2By6qAG --> [ 249414004, 907312806 ]\n",
      "https://www.nytimes.com/2017/11/10/us/politics/state-department-buyouts.html --> [ 250149639, 286439617 ]\n",
      "https://nyti.ms/2Ed8Vqn --> [ 250149639, 67246392 ]\n",
      "https://www.washingtonpost.com/classic-apps/brigette-adams-became-the-poster-child-for-freezing-your-eggs-but-things-didnt-quite-work-out-how-she-imagined/2018/01/27/ff55857a-e667-11e7-833f-155031558ff4_story.html?utm_term=.3a2fce89be58&wpisrc=nl_rainbow&wpmm=1 --> [ 250149639, 254713150, 274590281 ]\n",
      "https://www.economist.com/news/science-and-technology/21731813-sensors-cameras-and-smart-cars-help-cities-spot-them-they-grow-potholes?fsrc=scn/tw/te/bl/ed/potholesarethelatestproblemtobefelledbysensorsandalgorithmsfixingroads --> [ 251605462, 30174656 ]\n",
      "https://www.economist.com/news/middle-east-and-africa/21732540-power-and-people-more-africans-have-electricity-they-are-using-less-it?frsc=dg%7Ce --> [ 251605462, 501391845 ]\n",
      "http://politi.co/2zhDZXN --> [ 252877167, 286439617, 322221442, 945971568 ]\n",
      "http://mashable.com/2017/12/18/chick-fil-a-sunday/#DPv.H8y7agOG --> [ 252877167, 265004300 ]\n",
      "https://www.washingtonpost.com/opinions/avoiding-gmos-isnt-just-anti-science-its-immoral/2017/12/27/fc773022-ea83-11e7-b698-91d4e35920a3_story.html?utm_term=.6f78185d9d0c --> [ 252877167, 2826835662 ]\n",
      "http://nyti.ms/2qgGW7b --> [ 252877167, 41368680 ]\n",
      "https://www.bloomberg.com/news/articles/2018-01-17/how-to-reverse-america-s-foreign-tourist-problem --> [ 252877167, 344056011 ]\n",
      "https://nyti.ms/2zo1oCF --> [ 254713150, 74803924 ]\n",
      "http://abcn.ws/2hEnw8x --> [ 254713150, 289651922, ..., 378822672, 96589583 ]\n",
      "https://www.poynter.org/news/how-cnn-documented-human-slave-auctions --> [ 254713150, 271282858, 705141626029502464 ]\n",
      "https://www.vox.com/2017/12/20/16772670/baby-boomers-millennials-congress-debt?utm_campaign=vox&utm_content=entry&utm_medium=social&utm_source=twitter --> [ 254713150, 472127689 ]\n",
      "https://buff.ly/2E9GJpE --> [ 254713150, 534735526 ]\n",
      "https://www.vox.com/first-person/2018/1/24/16925444/aziz-ansari-me-too-feminism-consent --> [ 254713150, 29924665 ]\n",
      "https://www.nytimes.com/2017/11/03/technology/silicon-valley-baltimore-schools.html --> [ 258074091, 315984380 ]\n"
     ]
    },
    {
     "name": "stderr",
     "output_type": "stream",
     "text": [
      "http://ow.ly/LQ8M30gZO00 --> [ 258074091, 39878985 ]\n",
      "http://wapo.st/2BhE7r7?tid=ss_tw&utm_term=.8c3bbc514d06 --> [ 258074091, 266636002 ]\n",
      "http://www.wbur.org/news/2017/12/11/tom-ashbrook-allegations --> [ 258074091, 4020267080 ]\n",
      "https://www.washingtonpost.com/graphics/2017/world/global-waste/?tid=ss_tw&utm_term=.6c12f82c7025 --> [ 258074091, 819028347875364865 ]\n",
      "https://nyti.ms/2D1QrJD --> [ 258074091, 42470250 ]\n",
      "https://nyti.ms/2EeITEa --> [ 258074091, 71278927 ]\n",
      "https://www.nytimes.com/2018/01/11/science/climate-change-lakes-streams.html?_r=0 --> [ 258074091, 291486075 ]\n",
      "http://politi.co/2qwl2wO --> [ 258074091, 3329118519 ]\n",
      "https://www.nytimes.com/2018/01/21/technology/bitcoin-mining-energy-consumption.html --> [ 258074091, 618556806 ]\n",
      "https://nyti.ms/2Fh7wjd --> [ 258074091, 5562792 ]\n",
      "https://mobile.nytimes.com/2018/02/04/technology/early-facebook-google-employees-fight-tech.html?referer=https://www.linkedin.com/feed/ --> [ 258074091, 90787923 ]\n",
      "http://nyti.ms/2lJxmXX --> [ 258607194, 285751151, 3387845801 ]\n",
      "http://trib.in/2xuFehv --> [ 258607194, 68901673 ]\n",
      "https://www.nytimes.com/2017/11/08/opinion/robert-gates-daca-immigrant-troops.html --> [ 258607194, 285751151 ]\n",
      "https://www.washingtonpost.com/news/post-politics/wp/2017/12/12/trump-sends-sexually-suggestive-and-demeaning-tweet-about-gillibrand/?utm_term=.41828c62fd4a --> [ 258607194, 284885853 ]\n",
      "http://cnn.it/2qlKfd6 --> [ 258607194, 2984779193, 3000588429 ]\n",
      "http://cnn.it/2GziFgH --> [ 258607194, 332346899 ]\n",
      "https://news.stanford.edu/2018/02/08/avoiding-blackouts-100-renewable-energy/ --> [ 258607194, 34687955 ]\n",
      "https://nyti.ms/2kzNg3j --> [ 260021840, 3910951103 ]\n",
      "https://www.newyorker.com/magazine/2018/01/15/the-psychology-of-inequality --> [ 260021840, 91170675 ]\n",
      "https://www.nytimes.com/2018/01/29/well/family/taking-playtime-seriously.html --> [ 260021840, 6271482 ]\n",
      "https://www.washingtonpost.com/world/national-security/manafort-and-former-business-partner-asked-to-surrender-in-connection-with-special-counsel-probe/2017/10/30/6fe051f0-bd67-11e7-959c-fe2b598d8c00_story.html?hpid=hp_hp-banner-main_specialcounsel-817am:homepage/story&utm_term=.f14b92f019ba --> [ 2620027214, 41368680 ]\n",
      "https://nyti.ms/2zcBP8L --> [ 2620027214, 366784078, 413257620 ]\n",
      "https://www.vox.com/policy-and-politics/2017/11/7/16612288/gop-tax-bill-graduate-students --> [ 2620027214, 2840844469, 32973 ]\n",
      "http://read.bi/2DukSrW --> [ 2620027214, 95329766 ]\n",
      "http://cnn.it/2nW0eKA --> [ 2620027214, 7004572 ]\n",
      "http://nyti.ms/2ySDa7W --> [ 263481851, 305270930 ]\n",
      "http://nyti.ms/2AMBolU --> [ 263481851, 3039019074 ]\n",
      "https://www.nytimes.com/2017/11/29/business/media/nbc-matt-lauer.html?smid=tw-nytimes&smtyp=cur&_r=0 --> [ 263481851, 907312806 ]\n",
      "http://www.wbur.org/cognoscenti/2017/11/30/matt-lauer-nbc-eileen-mcnamara?utm_source=facebook.com&utm_medium=social&utm_campaign=npr&utm_term=nprnews&utm_content=2058 --> [ 263481851, 77596590 ]\n",
      "https://ww2.kqed.org/news/2017/12/07/years-later-women-find-their-voice-to-speak-out-against-sexual-misconduct-by-professors/?utm_source=facebook.com&utm_medium=social&utm_campaign=npr&utm_term=nprnews&utm_content=202909 --> [ 263481851, 4151309363 ]\n",
      "https://www.nytimes.com/2018/01/01/science/food-fiber-microbiome-inflammation.html?_r=0 --> [ 263481851, 906926615472390144 ]\n",
      "https://www.cnn.com/2018/01/27/politics/epa-alaska-salmon-fishery/index.html --> [ 263481851, 819028347875364865 ]\n",
      "http://buffalonews.com/2018/01/27/holocaust-survivor-breaks-decades-long-silence-to-share-her-horrific-story/ --> [ 263481851, 34162519 ]\n",
      "https://news.vice.com/story/police-shootings-rule-609 --> [ 26368063, 26548553 ]\n",
      "https://www.washingtonpost.com/news/post-nation/wp/2017/11/03/maine-governor-vetoes-voter-approved-bill-to-legalize-recreational-marijuana/ --> [ 26368063, 356355182 ]\n",
      "https://www.nytimes.com/2017/11/05/us/church-shooting-texas.html?smid=tw-nytimes&smtyp=cur --> [ 26368063, 332346899, 583393798 ]\n",
      "http://www.newsweek.com/dinosaur-era-frilled-shark-insane-teeth-found-portugal-708764 --> [ 26368063, 71278927, 895951062 ]\n",
      "http://trib.in/2AkeQM8 --> [ 26368063, 312073250 ]\n",
      "https://www.nytimes.com/2017/12/28/opinion/sessions-says-to-courts-go-ahead-jail-people-because-theyre-poor.html --> [ 26368063, 3096320330 ]\n",
      "http://bit.ly/2nQgrkq --> [ 26368063, 551186117 ]\n",
      "http://ow.ly/iTUY30gC1pW --> [ 2641478448, 34162519 ]\n",
      "https://theoutline.com/post/2437/who-banned-roger-stone --> [ 265024237, 7004572 ]\n",
      "https://www.bloomberg.com/amp/news/articles/2017-11-03/former-twitter-employee-says-fake-russian-accounts-were-not-taken-seriously --> [ 265024237, 34413691 ]\n",
      "https://buff.ly/2BqU23z --> [ 265049463, 534735526 ]\n",
      "https://buff.ly/2E65ZNg --> [ 265049463, 28631446 ]\n",
      "https://www.dallasnews.com/news/dallas-isd/2017/12/07/male-mentors-needed-eat-breakfast-south-dallas-middle-schooler-dads-event --> [ 26548553, 28750282 ]\n",
      "http://www.latimes.com/opinion/editorials/la-ed-shithole-countries-20180111-story.html --> [ 26548553, 368112759 ]\n",
      "https://trib.al/r2FxB1A --> [ 26548553, 79240290 ]\n",
      "https://www.wired.com/story/losangeles-wildfire-science/ --> [ 26958212, 4870051037 ]\n",
      "https://www.huffingtonpost.com/entry/white-critics-three-billboards-racism_us_5a3135eae4b091ca268479f3?ncid=engmodushpmg00000004 --> [ 26958212, 34162519 ]\n",
      "https://www.theguardian.com/politics/2017/oct/24/michael-bloomberg-brexit-is-stupidest-thing-any-country-has-done-besides-trump --> [ 27059413, 331113029 ]\n",
      "https://www.politico.com/story/2017/11/19/mnuchin-dollar-bill-photo-247860 --> [ 27059413, 895951062 ]\n",
      "https://buff.ly/2zpD87K --> [ 27059413, 28258373 ]\n",
      "https://www.theguardian.com/uk-news/2017/nov/25/chinas-bike-share-graveyard-a-monument-to-industrys-arrogance?CMP=Share_iOSApp_Other --> [ 27059413, 30174656 ]\n",
      "http://tcrn.ch/2zzA6Kb --> [ 27059413, 32003235 ]\n",
      "https://nyti.ms/2k5zqGO --> [ 27059413, 3910951103 ]\n",
      "https://www.politico.com/story/2018/01/03/bannon-trump-white-house-alliance-322624 --> [ 27059413, 54021334 ]\n",
      "https://www.nytimes.com/2018/01/11/opinion/social-media-dumber-steven-pinker.html --> [ 27059413, 365970295, 564721501 ]\n",
      "https://www.huffingtonpost.com/entry/schools-teaching-slavery_us_5a7243cbe4b03699143f144f?d4 --> [ 27059413, 44462995 ]\n",
      "https://www.nytimes.com/2017/11/14/opinion/academia-tech-algorithms.html?_r=1 --> [ 271282858, 27858863, ..., 38471570, 8984352 ]\n",
      "https://jezebel.com/map-sixty-years-of-the-most-popular-names-for-girls-s-1443501909 --> [ 271282858, 2826835662 ]\n",
      "https://www.thenation.com/article/alex-azar-trumps-hhs-pick-has-already-been-a-disaster-for-people-with-diabetes/ --> [ 271282858, 317830223, ..., 38471570, 5354852 ]\n",
      "https://arstechnica.com/science/2017/11/researchers-find-oddities-in-high-profile-gender-studies/ --> [ 271282858, 315984380 ]\n",
      "https://www.theguardian.com/us-news/ng-interactive/2017/dec/20/bussed-out-america-moves-homeless-people-country-study?CMP=Share_iOSApp_Other --> [ 271282858, 35119505, 38471570, 77596590 ]\n",
      "https://www.nytimes.com/2017/12/28/reader-center/mosque-vandal-arkansas.html --> [ 271282858, 290132637 ]\n",
      "https://www.theatlantic.com/science/archive/2018/01/remembering-the-transgender-scientist-who-changed-our-understanding-of-the-brain/549458/ --> [ 271282858, 4870051037 ]\n",
      "https://medium.com/@jeremybirnholtz/it-would-be-the-easiest-way-lessons-from-interviewing-a-16-year-old-by-text-message-1a4d7eff3f89 --> [ 271282858, 27858863 ]\n",
      "https://nyti.ms/2EeFh3W --> [ 271282858, 941663383 ]\n",
      "https://www.buzzfeed.com/charliewarzel/facebooks-news-feed-change-is-a-retreat-from-the-public?utm_term=.guxWwzYgP#.lon0y8Mma --> [ 271282858, 420284118 ]\n",
      "https://www.theatlantic.com/technology/archive/2018/01/my-pacemaker-is-tracking-me-from-inside-my-body/551681/ --> [ 271282858, 2718899182 ]\n",
      "https://buff.ly/2EIEERG --> [ 271282858, 30688200 ]\n",
      "https://www.vox.com/policy-and-politics/2018/2/6/16735966/social-security-disability-insurance --> [ 271282858, 2821336312 ]\n",
      "https://www.theguardian.com/technology/2018/jan/31/amazon-warehouse-wristband-tracking --> [ 2718899182, 3177204064 ]\n",
      "https://www.theatlantic.com/science/archive/2017/11/epidermolysis-bullosa-new-skin/545291/?utm_source=twb --> [ 274590281, 30688200 ]\n",
      "http://nyti.ms/2B8ynga --> [ 27497732, 86832479 ]\n",
      "http://bit.ly/2r8JZ1K --> [ 27497732, 9972002 ]\n"
     ]
    },
    {
     "name": "stderr",
     "output_type": "stream",
     "text": [
      "http://bbc.in/2zz1UBV --> [ 27645239, 388134481 ]\n",
      "https://amp.theguardian.com/environment/2017/nov/09/uk-will-back-total-ban-on-bee-harming-pesticides-michael-gove-reveals --> [ 27645239, 276688978 ]\n",
      "http://nyti.ms/2E9WA7l --> [ 27645239, 41368680 ]\n",
      "https://news.nationalgeographic.com/2018/01/animals-octopi-dolphins-death-oceans/ --> [ 27645239, 3000588429 ]\n",
      "https://www.propublica.org/article/join-propublicas-new-project-to-work-with-local-newsrooms --> [ 27661276, 31162511 ]\n",
      "https://nyti.ms/2xVhhAW --> [ 27661276, 6627232 ]\n",
      "http://wapo.st/2zyTmHS?tid=ss_tw-bottom&utm_term=.58dbcffab90e --> [ 27661276, 284885853 ]\n",
      "https://www.nytimes.com/2017/11/14/opinion/louis-ck-not-funny-harassment.html?em_pos=small&emc=edit_ty_20171115&nl=opinion-today&nl_art=1&nlid=77981217&ref=headline&te=1 --> [ 27661276, 29924665 ]\n",
      "https://www.theatlantic.com/business/archive/2017/11/media-apocalypse/546935/ --> [ 27661276, 30174656, 305270930, 35720261 ]\n",
      "https://nyti.ms/2oMHKQx --> [ 27661276, 3910951103 ]\n",
      "https://medium.com/@simongalp/how-to-prepare-for-the-removal-of-publisher-posts-from-facebooks-news-feed-89b8d55b27e9 --> [ 27661276, 290132637 ]\n",
      "https://www.nytimes.com/2018/01/17/opinion/trump-voters-supporters.html --> [ 27661276, 941663383 ]\n",
      "https://www.huffingtonpost.com/entry/january-2018-crazy-month_us_5a70bd0de4b0ae29f08b918b?ncid=inblnkushpmg00000009&utm_source=CNN+Media:+Reliable+Sources&utm_campaign=e5d0287210-EMAIL_CAMPAIGN_2017_06_06&utm_medium=email&utm_term=0_e95cdc16a9-e5d0287210-84931845 --> [ 27661276, 941663383 ]\n",
      "https://nyti.ms/2j6NRg9 --> [ 277426268, 284885853 ]\n",
      "https://buff.ly/2iKGMyv --> [ 277426268, 534735526, 9972002 ]\n",
      "https://www.bloomberg.com/news/features/2017-12-06/millions-are-hounded-for-debt-they-don-t-owe-one-victim-fought-back-with-a-vengeance --> [ 277426268, 321187683, 803029068 ]\n",
      "https://www.bloomberg.com/news/features/2018-01-10/the-most-awful-transit-center-in-america-could-get-unimaginably-worse --> [ 277426268, 50040434, 521438607 ]\n",
      "https://www.wired.com/story/spacex-gears-up-to-finally-actually-launch-the-falcon-heavy --> [ 277426268, 7004572 ]\n",
      "https://www.nytimes.com/2018/02/06/magazine/the-towers-came-down-and-with-them-the-promise-of-public-housing.html --> [ 277426268, 37563842, 870328182 ]\n",
      "http://www.theguardian.com/science/2017/nov/05/computer-says-no-why-making-ais-fair-accountable-and-transparent-is-crucial --> [ 27858863, 59413748 ]\n",
      "https://www.theverge.com/2017/12/4/16725494/facebook-messenger-kids-app-launch-ios-iphone-preview --> [ 27858863, 941663383 ]\n",
      "https://www.theguardian.com/technology/2017/dec/11/net-neutrality-vint-cerf-tim-berners-lee-fcc-letter --> [ 27858863, 4426600037, 90787923 ]\n",
      "https://ny.curbed.com/2017/11/7/16616314/old-penn-station-history-photos-mckim --> [ 279214346, 533456181 ]\n",
      "https://www.axios.com/axios-am-2509201075.html?rebelltitem=1&utm_term=twsocialshare#rebelltitem1 --> [ 279214346, 32003235, 941663383 ]\n",
      "http://wapo.st/2j0jUKF?tid=ss_tw&utm_term=.8cb54a061fa4 --> [ 279214346, 3000588429 ]\n",
      "https://www.npr.org/2017/12/03/568133048/women-of-color-and-sexual-harassment?utm_source=twitter.com&utm_medium=social&utm_campaign=npr&utm_term=nprnews&utm_content=202903 --> [ 279214346, 324558603 ]\n",
      "http://nymag.com/daily/intelligencer/2017/12/senate-gop-accidentally-killed-all-corporate-tax-deductions.html?utm_source=tw&utm_medium=s3&utm_campaign=sharebutton-b --> [ 279214346, 34687955, 381734721 ]\n",
      "http://cnn.it/2BJJXhg --> [ 279214346, 485803430, 941663383 ]\n",
      "https://www.cato.org/blog/securing-americas-future-act-net-negative-immigration-system --> [ 2821336312, 313683437 ]\n",
      "http://nbcnews.to/2BEK7KA --> [ 2821336312, 583393798 ]\n",
      "https://www.theguardian.com/news/2017/oct/31/coders-of-the-world-unite-can-silicon-valley-workers-curb-the-power-of-big-tech --> [ 282190774, 63035222 ]\n",
      "https://nyti.ms/2jrxF9k --> [ 282190774, 5357 ]\n",
      "http://bit.ly/2EaSeNG --> [ 282190774, 564721501, 945971568 ]\n",
      "https://sloanreview.mit.edu/article/how-ai-will-define-new-industries/ --> [ 282190774, 824039958457434112 ]\n",
      "https://buff.ly/2Fzjxka --> [ 282190774, 77596590 ]\n",
      "https://www.nytimes.com/interactive/2018/01/31/technology/social-media-bots-investigations.html --> [ 282190774, 42470250, 69791520, 7004572 ]\n",
      "https://www.wsj.com/articles/the-enlightenment-is-working-1518191343 --> [ 282190774, 2826835662 ]\n",
      "https://buff.ly/2AdQdRW --> [ 28258373, 817916796 ]\n",
      "https://buff.ly/2qMnYp3 --> [ 28258373, 32992891, 420284118, 77596590 ]\n",
      "https://buff.ly/2mOIIan --> [ 28258373, 42470250 ]\n",
      "https://trib.al/Z3Z5Hu8 --> [ 2826835662, 6627232 ]\n",
      "https://medium.com/@ethanarsht/napoleon-was-the-best-general-ever-and-the-math-proves-it-86efed303eeb --> [ 2826835662, 56331382 ]\n",
      "https://www.thetimes.co.uk/edition/sport/dangerous-sport-can-prepare-snowflake-generation-for-real-world-k3bvw5mxj?shareToken=2c6eeb6096d0a94b00520c9927e97008 --> [ 2826835662, 388134481, 56331382 ]\n",
      "https://www.buzzfeed.com/juliareinstein/kim-jong-un-sister-kim-yo-jong?utm_term=.bgRM93Db2 --> [ 2826835662, 714661629162602496 ]\n",
      "https://www.theatlantic.com/entertainment/archive/2018/01/what-the-men-didnt-say/549914/?utm_source=twb --> [ 2840844469, 29924665, ..., 811500318, 941663383 ]\n",
      "https://www.theatlantic.com/entertainment/archive/2018/01/the-humiliation-of-aziz-ansari/550541/ --> [ 28441829, 941663383 ]\n",
      "http://bit.ly/2CjKNkl --> [ 28441829, 412432325 ]\n",
      "https://www.pbs.org/newshour/nation/can-help-hurricane-victims-puerto-rico --> [ 284885853, 61272585 ]\n",
      "https://nyti.ms/2BGtGKI --> [ 284885853, 68901673 ]\n",
      "https://www.nytimes.com/2017/12/28/style/9-ways-to-be-a-better-person-in-2018.html --> [ 284885853, 32992891 ]\n",
      "http://nbcnews.to/2EsYjs3 --> [ 284885853, 2984779193, 583393798 ]\n",
      "https://www.washingtonpost.com/business/technology/2017/10/30/4509587e-bd84-11e7-97d9-bdab5a0ab381_story.html?utm_term=.1b56441df2de --> [ 28520128, 8984352 ]\n",
      "https://www.buzzfeed.com/doree/meet-the-people-who-listen-to-podcasts-at-super-fast-speeds?utm_term=.kj7PprAnd#.cjYnA6ebo --> [ 28520128, 31162511, 6170212 ]\n",
      "https://www.washingtonpost.com/investigations/mckesson-dea-opioids-fine/2017/12/14/ab50ad0e-db5b-11e7-b1a8-62589434a581_story.html --> [ 285751151, 365970295 ]\n",
      "https://www.propublica.org/article/dea-operation-played-hidden-role-in-the-disappearance-of-five-innocent-mexicans --> [ 285751151, 37563842 ]\n",
      "https://www.washingtonpost.com/politics/language-as-a-weapon-in-trump-era-immigration-debate-grows-more-heated-over-what-words-to-use/2018/01/21/d5d9211a-fd6a-11e7-a46b-a3614530bd87_story.html --> [ 285751151, 344056011 ]\n",
      "https://www.washingtonpost.com/national/health-science/i-dont-feel-like-im-a-threat-anymore-new-hiv-guidelines-are-changing-lives/2017/11/24/a9ee84e2-cf10-11e7-a1a3-0d1e45a6de3d_story.html --> [ 28631446, 4151309363 ]\n",
      "https://www.nytimes.com/2017/11/29/us/doug-jones-roy-moore-black-voters.html?hp&action=click&pgtype=Homepage&clickSource=story-heading&module=second-column-region&region=top-news&WT.nav=top-news --> [ 28631446, 412432325 ]\n",
      "https://www.nytimes.com/2017/12/06/books/lorin-stein-resigns-the-paris-review.html?smid=tw-share --> [ 28631446, 68832423 ]\n",
      "https://www.washingtonpost.com/local/social-issues/after-trump-and-moore-some-evangelicals-are-finding-their-own-label-too-toxic-to-use/2017/12/14/b034034c-e020-11e7-89e8-edec16379010_story.html --> [ 28631446, 39878985 ]\n",
      "http://on.cfr.org/2tB0iDo --> [ 2863558902, 564663702, 91170675 ]\n",
      "https://www.nytimes.com/2018/01/13/world/africa/female-genital-mutilation-kenya.html --> [ 2863558902, 290132637, 3910951103, 811500318 ]\n",
      "http://www.independent.co.uk/environment/germany-grids-paying-electricity-customers-renewable-energy-power-surplus-wind-solar-generation-a8022576.html?utm_content=buffer1acda&utm_medium=social&utm_source=twitter.com&utm_campaign=buffer --> [ 28641512, 8984352 ]\n",
      "http://www.chicagotribune.com/news/watchdog/cod/ct-college-of-dupage-foia-fight-20171117-story.html --> [ 28641512, 55176705 ]\n",
      "https://patch.com/illinois/evanston/it-was-chaos-nu-students-engage-mass-looting-nevins --> [ 28641512, 356355182 ]\n",
      "https://gizmodo.com/read-the-dissenting-opinion-of-the-fcc-commissioner-try-1821290547/amp?__twitter_impression=true --> [ 28641512, 803029068 ]\n",
      "http://bit.ly/MillenialsOrganizing --> [ 28641512, 317830223, 45678122, 930479718 ]\n"
     ]
    },
    {
     "name": "stderr",
     "output_type": "stream",
     "text": [
      "https://www.nytimes.com/2017/10/31/nyregion/police-shooting-lower-manhattan.html?hp&action=click&pgtype=Homepage&clickSource=story-heading&module=a-lede-package-region&region=top-news&WT.nav=top-news --> [ 286439617, 583393798, 6170212, 813057413742034944 ]\n",
      "http://www.cnn.com/2017/11/10/us/native-lives-matter/index.html --> [ 286439617, 44006633, 538285083 ]\n",
      "https://www.curbed.com/2018/1/24/16925074/apartment-eviction-process-gentrification --> [ 286439617, 945971568 ]\n",
      "https://www.vox.com/policy-and-politics/2018/2/13/17004108/trump-aides-legal-fees-firing-resignations --> [ 286439617, 39878985 ]\n",
      "http://bit.ly/2AoZ928 --> [ 289651922, 55739265 ]\n",
      "https://mobile.nytimes.com/2018/01/31/sports/soccer/geoff-cameron-stoke-city.html?referer=https://t.co/xPsXiKiPCw?amp=1#click%3Dhttps%3A%2F%2Ft.co%2FxPsXiKiPCw --> [ 289651922, 48762865 ]\n",
      "https://www.dallasnews.com/opinion/commentary/2017/11/09/dear-sutherland-springs-deserve-apology-news-media --> [ 289738296, 335413129 ]\n",
      "https://www.nytimes.com/2018/01/03/obituaries/fred-bass-strand-bookstore-dies-at-89.html --> [ 290132637, 32003235 ]\n",
      "https://washingtonpost.com/news/worldviews/wp/2018/02/01/2017-was-the-most-dangerous-year-ever-for-journalists-2018-might-be-even-worse/ --> [ 290132637, 420284118 ]\n",
      "https://www.nature.com/articles/d41586-018-01744-5 --> [ 291486075, 2941377939, 400979653 ]\n",
      "https://www.theguardian.com/world/2017/oct/16/malta-car-bomb-kills-panama-papers-journalist?CMP=Share_AndroidApp_Tweet --> [ 293734116, 55176705, 72758489, 94478663 ]\n",
      "http://www.bbc.com/news/world-europe-41780116 --> [ 29638102, 356355182 ]\n",
      "https://www.nytimes.com/2017/11/03/us/politics/trump-campaign-page-russian.html --> [ 29638102, 332346899 ]\n",
      "http://cnn.it/2B1YhF1 --> [ 29638102, 48762865 ]\n",
      "https://www.nytimes.com/interactive/2017/12/08/us/politics/house-senate-tax-bill-comparison.html?_r=0 --> [ 29638102, 359074742 ]\n",
      "http://wapo.st/2kQc1Z9 --> [ 29638102, 42470250 ]\n",
      "http://nyti.ms/2EVievz --> [ 29638102, 365970295 ]\n",
      "https://www.pbs.org/newshour/politics/what-exactly-this-shutdown-means-agency-by-agency --> [ 29638102, 945971568 ]\n",
      "https://nyti.ms/2kmy50Y --> [ 2978646101, 34687955 ]\n",
      "http://cnn.it/2ArrZyH --> [ 2984779193, 33950338 ]\n",
      "http://cnn.it/2ElvysI --> [ 2984779193, 977040996 ]\n",
      "http://wapo.st/2AtisbZ --> [ 29924665, 3000588429, 39878985, 68832423 ]\n",
      "http://bit.ly/2iWvPcK --> [ 29924665, 356355182 ]\n",
      "https://www.nytimes.com/2017/11/23/opinion/immigration-visa-h1b-trump-.html --> [ 29924665, 941663383 ]\n",
      "https://www.theatlantic.com/science/archive/2018/01/urban-birds-are-evolving-to-be-fed/551120/ --> [ 29924665, 817916796 ]\n",
      "http://www.miamiherald.com/news/local/community/broward/article200220844.html --> [ 29924665, 583393798 ]\n",
      "https://www.nytimes.com/2017/11/14/us/politics/jeff-sessions-congress-russia.html --> [ 3000588429, 564663702 ]\n",
      "http://wapo.st/2AyS2Z6 --> [ 3000588429, 305270930, 68832423 ]\n",
      "http://cnn.it/2B0mAmK --> [ 3000588429, 48762865 ]\n",
      "https://www.thedailybeast.com/julian-assange-thought-he-was-messaging-sean-hannity-when-he-offered-news-on-democrat-investigating-trump-russia --> [ 3000588429, 5354852, 7004572 ]\n",
      "http://www.thenewstribune.com/news/local/article197299434.html --> [ 3000588429, 72638046 ]\n",
      "https://www.nytimes.com/2017/10/20/opinion/designing-inclusive-cities.html --> [ 30174656, 618556806 ]\n",
      "http://www.bbc.com/travel/gallery/20180129-welcome-to-monowi-nebraska-population-1?ocid=ww.social.link.twitter --> [ 30174656, 55176705 ]\n",
      "https://buff.ly/2ABcEzK --> [ 3039019074, 534735526 ]\n",
      "http://nyti.ms/2AwZMI4 --> [ 305270930, 6170212 ]\n",
      "http://nyti.ms/2Atxg9s --> [ 305270930, 803029068 ]\n",
      "https://www.curbed.com/2017/11/28/16705202/trump-wall-mexico-border-prototypes?utm_campaign=curbed&utm_content=entry&utm_medium=social&utm_source=twitter --> [ 305270930, 538285083 ]\n",
      "https://www.nytimes.com/2017/12/03/nyregion/queens-boulevard-of-death.html --> [ 305270930, 618556806 ]\n",
      "https://jalopnik.com/what-if-autonomous-cars-just-never-happen-1820778692 --> [ 305270930, 618556806 ]\n",
      "http://nyti.ms/2Cy5868 --> [ 305270930, 533456181 ]\n",
      "http://wapo.st/2lZMe1v --> [ 305270930, 618556806 ]\n",
      "http://ow.ly/OW9N30i1ACu --> [ 305270930, 34687955 ]\n",
      "http://wapo.st/2zQFJUC --> [ 30688200, 374724416, 412432325 ]\n",
      "https://buff.ly/2xIgtOT --> [ 30688200, 906926615472390144 ]\n",
      "https://buff.ly/2ADgx7t --> [ 30688200, 39878985 ]\n",
      "http://nyti.ms/2CfQGDu --> [ 30688200, 368112759 ]\n",
      "https://buff.ly/2D7tnME --> [ 30688200, 6271482 ]\n",
      "https://www.washingtonpost.com/investigations/meet-the-24-year-old-trump-campaign-worker-appointed-to-help-lead-the-governments-drug-policy-office/2018/01/13/abdada34-f64e-11e7-91af-31ac729add94_story.html --> [ 30688200, 94478663 ]\n",
      "https://www.mediamatters.org/blog/2018/01/21/sunday-shows-barely-mentioned-2018-women-s-march/219127 --> [ 30688200, 322221442 ]\n",
      "http://highline.huffingtonpost.com/articles/en/gun-violence/ --> [ 30688200, 564721501 ]\n",
      "http://bit.ly/2xaLLx7 --> [ 30826671, 84007946 ]\n",
      "http://read.bi/2iL7GZZ --> [ 30826671, 77596590 ]\n",
      "http://www.bbc.co.uk/news/world-us-canada-41880511 --> [ 30826671, 74803924 ]\n",
      "http://sanfrancisco.cbslocal.com/2017/12/14/california-cellphone-radiation-guidelines/ --> [ 30826671, 77596590 ]\n",
      "https://buff.ly/2GQJHQF --> [ 309519261, 534735526 ]\n",
      "http://abcn.ws/2BJfmA2 --> [ 3096320330, 68901673, 886424335040118784 ]\n",
      "https://nyti.ms/2GG6M8M --> [ 3096320330, 453205837 ]\n",
      "https://buff.ly/2CrjoyM --> [ 31162511, 534735526 ]\n",
      "http://www.theindychannel.com/news/local-news/hendricks-county/plainfield-police-captain-on-leave-after-white-male-privilege-comment-at-training-session --> [ 312073250, 33950338 ]\n",
      "https://www.wired.com/story/how-to-interpret-robert-muellers-new-charges/ --> [ 313683437, 34173355, 91170675 ]\n",
      "https://medium.com/refraction-tech-everything/how-netflix-works-the-hugely-simplified-complex-stuff-that-happens-every-time-you-hit-play-3a40c9be254b --> [ 315984380, 824039958457434112 ]\n",
      "https://www.nytimes.com/2017/10/12/technology/tech-giants-threats.html --> [ 315984380, 3246958814 ]\n",
      "http://www.theguardian.com/commentisfree/2017/nov/10/fake-news-social-media-current-affairs-approval --> [ 315984380, 941663383 ]\n",
      "https://www.nytimes.com/2017/11/22/business/laptops-not-during-lecture-or-meeting.html?smprod=nytcore-ipad&smid=nytcore-ipad-share --> [ 3177204064, 421957007 ]\n",
      "https://www.theguardian.com/world/2018/jan/28/fitness-tracking-app-gives-away-location-of-secret-us-army-bases --> [ 3177204064, 420284118, 564721501 ]\n",
      "https://www.nature.com/articles/s41562-017-0290-3 --> [ 3177204064, 572479189 ]\n",
      "https://www.cjr.org/business_of_news/los-angeles-times-union.php --> [ 317830223, 39878985 ]\n",
      "https://www.motherjones.com/politics/2018/02/millennials-survived-the-financial-crisis-now-theyre-unionizing-in-record-numbers/ --> [ 317830223, 95329766 ]\n",
      "http://wapo.st/2nJdqWs?tid=ss_tw&utm_term=.eb80a8f0d542 --> [ 32003235, 51154828 ]\n",
      "http://www.theonion.com/alex-delarge-forced-to-step-down-as-leader-of-droogs-am-1820854092?utm_medium=sharefromsite&utm_source=The_Onion_twitter --> [ 320579930, 54021334 ]\n",
      "https://www.nytimes.com/2017/12/05/sports/olympics/ioc-russia-winter-olympics.html?hp&action=click&pgtype=Homepage&clickSource=story-heading&module=first-column-region&region=top-news&WT.nav=top-news&_r=0 --> [ 320579930, 485803430 ]\n",
      "https://www.politico.com/magazine/story/2018/01/31/trumps-saturday-night-massacre-is-happening-right-before-our-eyes-216560 --> [ 320579930, 34162519 ]\n",
      "https://www.nytimes.com/2018/02/02/opinion/trump-corruption-republic.html --> [ 320579930, 359074742 ]\n",
      "https://www.newyorker.com/magazine/2018/01/01/a-tech-pioneers-final-unexpected-act --> [ 321187683, 34053958 ]\n",
      "http://time.com/5016104/stan-van-gundy-nfl-protests/ --> [ 32199835, 411111885 ]\n",
      "http://soccer.nbcsports.com/2017/11/21/three-things-being-happy-with-0-0-and-sabotage-by-precourt/amp/ --> [ 322221442, 356355182 ]\n",
      "https://nyti.ms/2xY1HET --> [ 324558603, 3910951103 ]\n",
      "https://www.nytimes.com/2017/12/04/us/politics/roy-moore-donald-trump.html --> [ 324558603, 39878985 ]\n",
      "https://www.recode.net/2017/12/6/16729536/terrible-ten-10-recode-100-2017?utm_campaign=www.recode.net&utm_content=entry&utm_medium=social&utm_source=twitter --> [ 3246958814, 941663383 ]\n",
      "https://buff.ly/2D5mtnr --> [ 3246958814, 534735526, 556992335, 813057413742034944 ]\n"
     ]
    },
    {
     "name": "stderr",
     "output_type": "stream",
     "text": [
      "https://fb.me/4coQpeQ1S --> [ 3246958814, 91170675 ]\n",
      "https://nyti.ms/2hMZKV1 --> [ 32973, 359074742 ]\n",
      "https://thetyee.ca/Opinion/2017/10/30/I-Left-Vancouver/ --> [ 32992891, 6271482 ]\n",
      "https://www.nytimes.com/2017/12/28/us/politics/trump-interview-mueller-russia-china-north-korea.html --> [ 32992891, 332346899 ]\n",
      "https://www.wsj.com/articles/tillerson-assures-trump-administration-wont-block-european-trade-with-iran-1508472241 --> [ 331113029, 3838807353 ]\n",
      "https://medium.com/@Brian_Whit/automatons-and-autocrats-the-brave-new-world-of-saudi-arabia-acba7d8d2a10 --> [ 331113029, 517937578 ]\n",
      "https://www.nytimes.com/2017/11/16/opinion/saudi-iran-strategy.html --> [ 331113029, 3838807353 ]\n",
      "https://www.haaretz.com/israel-news/1.832387 --> [ 331113029, 714661629162602496 ]\n",
      "https://nyti.ms/2ySHvVn --> [ 332346899, 73977188 ]\n",
      "http://www.al.com/news/index.ssf/2017/11/gadsden_residents_say_moores_b.html#incart_river_mobileshort_home --> [ 332346899, 35720261, 705141626029502464, 73977188 ]\n",
      "http://abcn.ws/2APPCBI --> [ 332346899, 45215640 ]\n",
      "http://www.sacbee.com/news/local/article192843599.html --> [ 332346899, 68901673 ]\n",
      "https://www.washingtonpost.com/politics/trump-moved-to-fire-mueller-in-june-bringing-white-house-counsel-to-the-brink-of-leaving/2018/01/25/9184a49e-0238-11e8-bb03-722769454f82_story.html?utm_term=.a42c5766c510 --> [ 332346899, 980865674 ]\n",
      "https://insideclimatenews.org/news/15012018/snow-drought-ski-western-water-supply-risk-climate-change-economy --> [ 3329118519, 368112759 ]\n",
      "http://www.stltoday.com/news/local/crime-and-courts/st-louis-police-issue-special-order-reiterating-rights-of-journalists/article_2d1bc87d-db66-5733-9a28-b20cfdf249b7.html#tracking-source%3Dhome-latest-1 --> [ 335413129, 980865674 ]\n",
      "https://wapo.st/puerto-rico-power-outage?tid=ss_tw --> [ 335413129, 42470250 ]\n",
      "https://nyti.ms/2F8RCHy --> [ 335413129, 42470250, 941663383 ]\n",
      "https://www.npr.org/2018/01/31/581059016/unmasking-katy-perrys-backup-dancer-left-shark?utm_source=twitter.com&utm_medium=social&utm_campaign=npr&utm_term=nprnews&utm_content=20180131 --> [ 335413129, 6170212 ]\n",
      "http://ow.ly/W3gx30h3vgi --> [ 335783721, 77596590 ]\n",
      "https://www.newyorker.com/magazine/2017/12/18/estonia-the-digital-republic --> [ 335783721, 6271482 ]\n",
      "https://mobile.nytimes.com/2017/12/16/opinion/sunday/sexual-harassment-salma-hayek.html?rref=collection/column/maureen-dowd&action=click&contentCollection=opinion&region=stream&module=stream_unit&version=latest&contentPlacement=1&pgtype=collection&_r=0&referer=https://www.nytimes.com/column/maureen-dowd --> [ 33597955, 509608066 ]\n",
      "https://www.wsj.com/articles/social-media-influencers-get-noticed-by-regulators-1513342801 --> [ 33705943, 534735526 ]\n",
      "https://nyti.ms/2Fp5P31 --> [ 33705943, 55176705 ]\n",
      "http://wapo.st/2sk3uoA?tid=ss_tw&utm_term=.cc20d0e4d34a --> [ 33705943, 55176705 ]\n",
      "http://cnn.it/2AqjLMn --> [ 33748076, 63793150 ]\n",
      "http://cnn.it/2DIlKtE --> [ 33748076, 6627232 ]\n",
      "http://bit.ly/2lLRxov --> [ 3387845801, 370219796 ]\n",
      "https://goo.gl/XouC8d --> [ 3387845801, 6170212 ]\n",
      "http://cnn.it/2Eq5oWL --> [ 3387845801, 4426600037 ]\n",
      "http://bit.ly/2CGyVKx --> [ 3387845801, 3910951103 ]\n",
      "http://www.bbc.com/news/entertainment-arts-42393242 --> [ 33950338, 628505536 ]\n",
      "https://usat.ly/2o3dI7k --> [ 34053958, 551186117 ]\n",
      "http://thehill.com/policy/energy-environment/360614-trump-to-allow-imports-of-african-elephant-trophies --> [ 34162519, 58614188 ]\n",
      "https://www.billboard.com/articles/events/women-in-music/8053923/women-in-music-2017-most-powerful-executives --> [ 34162519, 350890164 ]\n",
      "http://ow.ly/p5zb30hcJIp --> [ 34162519, 58614188 ]\n",
      "http://www.heraldscotland.com/news/15791805.Scotland_s_Christmas_gift_to_the_world_____a_massive_tax_hit_for_Donald_Trump/ --> [ 34162519, 838815548075085825 ]\n",
      "http://wapo.st/2CqjNkn?tid=ss_tw&utm_term=.1a204c0aaa41 --> [ 34162519, 7004572 ]\n",
      "http://www.telegraph.co.uk/music/news/dolores-oriordan-singer-cranberries-has-died-aged-46/?WT.mc_id=tmg_share_tw --> [ 34162519, 34687955 ]\n",
      "http://www.orlandosentinel.com/news/politics/political-pulse/os-florida-felon-voting-rights-on-ballot-20180123-story.html --> [ 34162519, 35119505 ]\n",
      "https://www.rawstory.com/2018/01/gop-senate-candidate-flips-womens-rights-want-come-home-cooked-dinner-every-night/ --> [ 34162519, 5354852 ]\n",
      "https://www.washingtonpost.com/world/national-security/to-curb-illegal-border-crossings-trump-administration-weighs-new-measures-targeting-families/2017/12/21/19300dc2-e66c-11e7-9ec2-518810e7d44d_story.html --> [ 344056011, 49496771 ]\n",
      "https://nyti.ms/2DGHAxe --> [ 344056011, 3910951103 ]\n",
      "http://www.nybooks.com/daily/2018/02/07/slavery-and-the-american-university/ --> [ 344056011, 67246392 ]\n",
      "https://medium.com/@preethikasireddy/why-im-leaving-silicon-valley-72919edb3297#---0-91 --> [ 34413691, 9963562 ]\n",
      "https://www.nytimes.com/2017/11/09/upshot/the-unsung-role-that-ordinary-citizens-played-in-the-great-crime-decline.html --> [ 34413691, 870328182 ]\n",
      "https://www.theguardian.com/football/2017/dec/28/liverpool-rhian-brewster-racial-abuse-england-uefa?CMP=share_btn_tw --> [ 34413691, 356355182 ]\n",
      "https://www.nytimes.com/2017/11/29/climate/anwr-alaska-drilling-senate.html --> [ 346576986, 620255756 ]\n",
      "https://www.vox.com/a/borders --> [ 346576986, 42470250 ]\n",
      "https://ny.eater.com/2017/12/11/16759540/mario-batali-sexual-misconduct-allegations?utm_campaign=ny.eater&utm_content=chorus&utm_medium=social&utm_source=twitter --> [ 346576986, 941663383 ]\n",
      "http://www.sfgate.com/bayarea/article/ACLU-sues-to-end-US-ban-on-abortions-for-minors-12278258.php --> [ 34687955, 365728646 ]\n",
      "https://nyti.ms/2hIlr8D --> [ 34687955, 564721501 ]\n",
      "http://bit.ly/2ACY3kh --> [ 34687955, 365728646 ]\n",
      "http://nyti.ms/2DS362N --> [ 34687955, 42470250 ]\n",
      "http://cnn.it/2GiXiQn --> [ 34687955, 48762865 ]\n",
      "http://trib.in/2y6cqeC --> [ 35119505, 817916796, 945971568 ]\n",
      "http://www.chicagotribune.com/news/local/breaking/ct-lake-michigan-toxic-chromium-20171114-story.html --> [ 35119505, 55176705, 95329766 ]\n",
      "http://www.latimes.com/world/mexico-americas/la-me-mexhousing-main-20171119-story.html --> [ 35119505, 6170212 ]\n",
      "http://www.sun-sentinel.com/local/broward/parkland/florida-school-shooting/fl-sb-active-shooter-marjory-stoneman-high-20180214-story.html --> [ 35119505, 86832479 ]\n",
      "https://nyti.ms/2q7lUYu --> [ 354729119, 521438607 ]\n",
      "https://www.theatlantic.com/magazine/archive/2017/12/the-making-of-an-american-nazi/544119/?utm_source=twb --> [ 356355182, 5357 ]\n",
      "https://nyti.ms/2iMaZQw --> [ 3567831, 4151309363 ]\n",
      "https://motherboard.vice.com/en_us/article/d345pv/harvard-study-shows-why-big-telecom-is-terrified-of-community-run-broadband?utm_campaign=sharebutton --> [ 3567831, 9469592 ]\n",
      "https://medium.com/read-write-participate/host-an-open-internet-activist-7e22374221c9 --> [ 3567831, 6271482 ]\n",
      "http://nymag.com/daily/intelligencer/2017/11/frank-rich-trumpism-after-trump.html --> [ 35720261, 71278927 ]\n",
      "https://www.vox.com/identities/2017/12/5/16705284/misogyny-trump-sexism-patriarchy-weinstein --> [ 35720261, 439000890 ]\n",
      "http://wapo.st/2yKxoVF?tid=ss_tw&utm_term=.59df2b473ad8 --> [ 359074742, 620255756 ]\n",
      "https://www.nytimes.com/interactive/2017/11/15/us/politics/100000005552474.app.html --> [ 359074742, 381734721 ]\n",
      "https://www.nytimes.com/2017/12/05/health/childrens-health-insurance-program.html --> [ 359074742, 3910951103 ]\n",
      "https://www.nytimes.com/2017/12/19/us/politics/chip-childrens-health-insurance-program-congress.html --> [ 359074742, 811500318 ]\n",
      "https://www.nytimes.com/2017/12/26/health/india-diabetes-junk-food.html --> [ 359074742, 564721501 ]\n",
      "https://www.bloomberg.com/news/features/2018-02-09/americans-will-struggle-to-grow-old-at-home --> [ 359074742, 817916796 ]\n",
      "http://bit.ly/2ASOjSQ --> [ 365728646, 368112759 ]\n",
      "http://www.macleans.ca/economy/economicanalysis/the-most-important-economic-charts-to-watch-in-2018/#ianlee --> [ 365970295, 421957007 ]\n",
      "https://www.thestar.com/news/gta/2017/12/18/former-presidents-of-pharmacist-watchdog-received-questionable-payments-from-drug-company.html --> [ 365970295, 421957007 ]\n",
      "http://variety.com/2017/tv/news/ava-duvernay-diversity-programs-inclusion-1202610878/ --> [ 366211826, 509608066 ]\n",
      "http://wapo.st/2zM8KBs?tid=ss_tw&utm_term=.6c62c9e0d532 --> [ 366211826, 583393798 ]\n"
     ]
    },
    {
     "name": "stderr",
     "output_type": "stream",
     "text": [
      "http://latimes.com/bradylist --> [ 366211826, 6170212 ]\n",
      "https://www.propublica.org/article/california-murder-suspect-atomwaffen-division-extremist-hate-group --> [ 366211826, 44462995 ]\n",
      "http://wapo.st/2o11ddi?tid=ss_tw&utm_term=.7fc30937a571 --> [ 366211826, 907312806 ]\n",
      "http://bit.ly/2DCDqJM --> [ 368112759, 37563842 ]\n",
      "https://www.axios.com/cvs-considers-acquiring-aetna-2501985383.html --> [ 370219796, 463059217 ]\n",
      "https://www.recode.net/2017/11/30/16712284/tech-talent-startups-proposition-fang-companies-employment-jobs-engineering-design --> [ 372487283, 5357 ]\n",
      "http://www.nydailynews.com/new-york/new-bill-require-social-worker-police-precinct-article-1.3705674 --> [ 374724416, 6545702 ]\n",
      "http://theweek.com/speedreads/733917/military-officials-wanted-armed-drone-supporting-niger-mission-but-washington-said-no --> [ 381734721, 895951062 ]\n",
      "https://www.nytimes.com/2017/12/29/world/canada/google-toronto-city-future.html --> [ 38228284, 603385690 ]\n",
      "http://bit.ly/2huoFMh --> [ 3838807353, 517937578 ]\n",
      "https://www.pbs.org/newshour/show/this-iran-backed-militia-helped-save-iraq-from-isis-now-washington-wants-them-to-disband --> [ 3838807353, 68901673 ]\n",
      "http://www.chronicle.com/article/Digital-Is-Not-the/241634 --> [ 38471570, 413257620 ]\n",
      "https://www.theatlantic.com/technology/archive/2017/12/it-might-be-impossible-for-future-historians-to-understand-our-internet/547463/?utm_source=feed --> [ 38471570, 48082526 ]\n",
      "https://nyti.ms/2gWEJXb --> [ 3910951103, 463059217 ]\n",
      "http://thehill.com/policy/healthcare/359011-obamacare-signups-surge-in-early-days-to-set-new-record#.WgDaCk88jNE.twitter --> [ 3910951103, 463059217, 54021334 ]\n",
      "https://nyti.ms/2Deofmp --> [ 3910951103, 463059217 ]\n",
      "http://www.latimes.com/politics/la-na-pol-childrens-health-insurance-20180109-story.html --> [ 3910951103, 463059217 ]\n",
      "http://nyti.ms/2zUW4H1 --> [ 39878985, 472127689 ]\n",
      "http://ow.ly/98d530gTAYL --> [ 39878985, 5357 ]\n",
      "http://www.niemanlab.org/2018/01/media-companies-should-open-up-an-hq2/ --> [ 39878985, 8984352 ]\n",
      "https://www.cjr.org/united_states_project/tucson-daily-star-jackalope.php?link --> [ 39878985, 705141626029502464 ]\n",
      "https://www.theguardian.com/environment/2018/jan/29/national-parks-repair-backlog-grand-canyon-zion?CMP=share_btn_tw --> [ 39878985, 42470250 ]\n",
      "https://www.huffingtonpost.com/entry/science-candidates_us_5a74fffde4b06ee97af2ae60?ncid=engmodushpmg00000004 --> [ 39878985, 556992335 ]\n",
      "https://aeon.co/essays/why-we-should-bury-the-idea-that-human-rituals-are-unique --> [ 400979653, 91126624 ]\n",
      "http://nyti.ms/2BVstPD --> [ 4020267080, 411111885, 68832423 ]\n",
      "https://medium.com/@timberners_lee/act-now-to-save-the-internet-as-we-know-it-ccf47ce8b39f --> [ 409144421, 9444512 ]\n",
      "https://arstechnica.com/gadgets/2018/01/whats-behind-the-intel-design-flaw-forcing-numerous-patches/ --> [ 409144421, 5354852 ]\n",
      "https://www.axios.com/bitcoin-conference-stripclub-1516983254-35e78aad-ee30-4872-bfe6-13190dd46061.html --> [ 409144421, 941663383 ]\n",
      "http://bbc.in/2AUin40 --> [ 412432325, 869500381 ]\n",
      "http://nyti.ms/2BZlUej --> [ 412432325, 5562792 ]\n",
      "https://www.fastcompany.com/3041800/one-of-the-worlds-top-aging-researchers-has-a-pill-to-keep-you-feeling-young --> [ 41368680, 71278927 ]\n",
      "http://bit.ly/2zZWNud --> [ 41368680, 945971568 ]\n",
      "https://www.axios.com/trumps-wild-first-year-of-the-presidency-in-one-chart-2520361428.html?utm_source=twitter&utm_medium=twsocialshare&utm_campaign=organic --> [ 41368680, 42470250 ]\n",
      "https://www.nytimes.com/2017/12/30/us/politics/how-fbi-russia-investigation-began-george-papadopoulos.html?_r=0 --> [ 41368680, 48762865, 941663383 ]\n",
      "http://wapo.st/2EMUNUZ --> [ 41368680, 9469592 ]\n",
      "http://wapo.st/2yvR5iZ?tid=ss_tw&utm_term=.ae9fac1077e4 --> [ 42470250, 6170212 ]\n",
      "http://ow.ly/GdkG30gBjqL --> [ 42470250, 68901673 ]\n",
      "https://www.theguardian.com/society/2014/aug/15/suicide-silence-depressed-men --> [ 44006633, 628505536 ]\n",
      "https://www.theguardian.com/commentisfree/2017/dec/31/face-the-facts-about-the-internet-gig-sharing-economy?CMP=share_btn_tw --> [ 4426600037, 45404617 ]\n",
      "https://www.theverge.com/2018/1/4/16805216/google-chrome-only-sites-internet-explorer-6-web-standards --> [ 4426600037, 5357 ]\n",
      "https://www.theguardian.com/inequality/2018/jan/22/inequality-gap-widens-as-42-people-hold-same-wealth-as-37bn-poorest?CMP=share_btn_tw --> [ 4426600037, 5354852, 55739265 ]\n",
      "https://www.scpr.org/news/2017/12/21/79101/the-end-of-mexican-schools-how-latino-families-in/ --> [ 44462995, 45404617 ]\n",
      "http://nyti.ms/2zKm9IN --> [ 45215640, 485803430 ]\n",
      "https://www.nature.com/articles/d41586-017-08705-4 --> [ 453205837, 906926615472390144 ]\n",
      "https://aeon.co/essays/why-haiti-should-be-at-the-centre-of-the-age-of-revolution --> [ 45404617, 67246392 ]\n",
      "http://www.independent.co.uk/life-style/gadgets-and-tech/news/oumuamua-interstellar-visitor-alien-object-breakthrough-listen-latest-discovery-proof-a8116756.html --> [ 45678122, 895951062 ]\n",
      "https://www.nbcnews.com/health/health-care/skinny-health-plans-confuse-consumers-n822876 --> [ 463059217, 79240290 ]\n",
      "https://nyti.ms/2DTx71O --> [ 47014253, 906926615472390144 ]\n",
      "http://med.stanford.edu/news/all-news/2017/12/neuroscientist-ben-barres-dies-at-63.html --> [ 47014253, 906926615472390144 ]\n",
      "https://www.nytimes.com/2018/01/04/climate/trump-offshore-drilling.html --> [ 48611246, 828638275426480132 ]\n",
      "http://www.tampabay.com/news/business/realestate/How-to-create-walkable-urban-housing-One-answer-Look-to-the-middle_164962759 --> [ 48611246, 858801843383799808 ]\n",
      "https://www.brookings.edu/research/the-looming-student-loan-default-crisis-is-worse-than-we-thought/ --> [ 4896662379, 6271482 ]\n",
      "https://nypost.com/2018/01/21/police-union-slashes-number-of-get-out-of-jail-free-cards-issued/ --> [ 49496771, 84007946 ]\n",
      "https://www.nytimes.com/interactive/2017/10/05/upshot/how-to-reduce-mass-shooting-deaths-experts-say-these-gun-laws-could-help.html --> [ 50040434, 79240290 ]\n",
      "https://www.nytimes.com/2017/11/24/opinion/sunday/girls-parents-boys-gender.html --> [ 509608066, 6545702 ]\n",
      "https://www.nytimes.com/2018/01/18/nyregion/metoo-and-the-marketing-of-female-narrative.html --> [ 509608066, 628505536 ]\n",
      "https://www.washingtonpost.com/news/wonk/wp/2017/12/21/cdc-releases-grim-new-opioid-overdose-figures-were-talking-about-more-than-an-exponential-increase/?utm_term=.d74c86cc2f88 --> [ 51154828, 551186117 ]\n",
      "https://www.buzzfeed.com/jcstearns/20-of-the-best-nonprofit-news-stories-of-2017-20e3b?utm_term=.ul55vdDkY --> [ 51154828, 817916796 ]\n",
      "https://www.cjr.org/business_of_news/time-inc-meredith.php --> [ 51154828, 945971568 ]\n",
      "https://www.bloomberg.com/news/articles/2017-11-08/this-riyadh-hotel-has-suddenly-become-the-world-s-most-exclusive --> [ 517937578, 941663383 ]\n",
      "http://adequateman.deadspin.com/dont-be-like-me-the-passport-idiot-1821780107?utm_medium=sharefromsite&utm_source=Adequate_Man_twitter --> [ 521438607, 95329766 ]\n",
      "http://nyti.ms/2ytwsjm --> [ 534735526, 538285083 ]\n",
      "https://theintercept.com/2017/10/24/after-day-of-feuding-jeff-flake-and-bob-corker-join-trump-to-upend-a-major-consumer-protection/ --> [ 5354852, 870328182 ]\n",
      "http://www.ibtimes.com/political-capital/defense-department-war-terror-has-cost-250-million-day-16-years-2608639 --> [ 5357, 5562792 ]\n",
      "http://bit.ly/2Adns40 --> [ 5357, 945971568 ]\n",
      "https://theoutline.com/post/2595/productivity-is-dangerous --> [ 5357, 803029068 ]\n",
      "https://www.si.com/tech-media/2017/12/10/best-journalism-writing-reporting-2017-media-circus --> [ 551186117, 907312806 ]\n",
      "http://cnn.it/2sl1xs4 --> [ 551186117, 69194007 ]\n",
      "https://www.newyorker.com/magazine/2017/03/20/the-foreign-workers-of-mar-a-lago --> [ 55176705, 6170212 ]\n",
      "https://www.indystar.com/story/news/2017/12/07/larry-nassars-downfall-started-email-indystar/922774001/ --> [ 55176705, 583393798 ]\n",
      "https://www.nytimes.com/2017/12/01/business/economy/single-family-home.html --> [ 5562792, 618556806, 72638046 ]\n",
      "http://usa.streetsblog.org/2017/06/28/macon-georgia-striped-a-good-network-of-temporary-bike-lanes-and-cycling-soared/ --> [ 5562792, 858801843383799808 ]\n",
      "https://www.nytimes.com/2017/12/06/upshot/what-happened-to-the-american-boomtown.html?_r=0 --> [ 5562792, 618556806 ]\n",
      "http://nyti.ms/2BYAMtm --> [ 556992335, 603385690 ]\n",
      "https://www.theguardian.com/us-news/2018/feb/09/senate-budget-deal-us-military-spending?CMP=Share_iOSApp_Other --> [ 556992335, 95329766 ]\n"
     ]
    },
    {
     "name": "stderr",
     "output_type": "stream",
     "text": [
      "https://www.nytimes.com/2018/01/14/business/detroit-auto-show.html --> [ 55739265, 618556806 ]\n",
      "http://foreignpolicy.com/2017/10/26/state-department-scraps-sanctions-office/ --> [ 564663702, 73977188 ]\n",
      "https://www.buzzfeed.com/ilyazhegulev/russia-kaspersky-antivirus --> [ 564663702, 91170675 ]\n",
      "http://www.nature.com/news/give-researchers-a-lifetime-word-limit-1.22835 --> [ 572479189, 91126624 ]\n",
      "https://mobile.nytimes.com/2017/12/11/nyregion/explosion-times-square.html?action=click&module=TopStories&pgtype=Homepage --> [ 583393798, 895951062 ]\n",
      "https://www.yahoo.com/music/cyntonia-brown-life-sentence-sparks-141514557.html --> [ 61272585, 9444512 ]\n",
      "https://nyti.ms/2hs7oa4 --> [ 6170212, 68832423 ]\n",
      "http://bit.ly/2yYEgxW --> [ 618556806, 62363146 ]\n",
      "https://www.fastcompany.com/40490142/if-cars-are-weapons-then-safe-streets-are-the-best-counter-terrorism?utm_content=buffer53be3&utm_medium=social&utm_source=facebook.com&utm_campaign=buffer --> [ 618556806, 62363146 ]\n",
      "https://www.brookings.edu/blog/the-avenue/2017/11/02/a-new-brand-of-inclusive-growth-coalitions/?utm_campaign=Metropolitan%20Policy%20Program&utm_source=hs_email&utm_medium=email&utm_content=58039086 --> [ 618556806, 858801843383799808 ]\n",
      "https://www.nytimes.com/interactive/2017/10/26/climate/antarctica-glaciers-melt.html --> [ 620255756, 63793150 ]\n",
      "https://www.huffingtonpost.com/entry/time-to-get-the-lead-out-of-our-drinking-water_us_59f4da04e4b06ae9067ab91e?ncid=engmodushpmg00000004 --> [ 620255756, 819028347875364865 ]\n",
      "https://www.wired.com/story/mirai-botnet-minecraft-scam-brought-down-the-internet/ --> [ 6271482, 6627232 ]\n",
      "https://www.nytimes.com/2018/01/06/opinion/looming-digital-meltdown.html?smprod=nytcore-ipad&smid=nytcore-ipad-share --> [ 6271482, 90787923 ]\n",
      "https://www.wired.com/story/snowden-haven-app-turns-phone-into-home-security-system/ --> [ 63035222, 895951062 ]\n",
      "http://www.sfchronicle.com/news/article/SF-safe-injection-sites-expected-to-be-first-in-12553616.php --> [ 63561755, 77596590, 79240290 ]\n",
      "https://www.nytimes.com/2017/10/31/arts/television/maria-bamford-lady-dynamite.html --> [ 6545702, 68885612 ]\n",
      "http://politi.co/2AdmV4y --> [ 68832423, 817916796 ]\n",
      "https://www.hollywoodreporter.com/live-feed/meryl-streep-star-big-little-lies-season-2-hbo-1064801 --> [ 68832423, 811500318 ]\n",
      "https://nyti.ms/2hAXsLz --> [ 69791520, 824039958457434112 ]\n",
      "http://bit.ly/2Ccuo1q --> [ 705141626029502464, 90787923 ]\n",
      "http://abcn.ws/2EtNJ01 --> [ 705141626029502464, 907312806 ]\n",
      "http://wapo.st/2xdvurM --> [ 73977188, 74803924 ]\n",
      "http://bit.ly/2Ev7lUr --> [ 73977188, 95329766 ]\n",
      "http://www.hollywoodreporter.com/news/george-takei-accused-sexually-assaulting-model-1981-1056698?utm_source=twitter&utm_source=t.co&utm_medium=referral&utm_source=t.co&utm_medium=referral&utm_source=t.co&utm_medium=referral --> [ 77596590, 805777571023556608 ]\n",
      "https://www.theguardian.com/news/2017/nov/05/trump-commerce-secretary-wilbur-ross-business-links-putin-family-paradise-papers?CMP=share_btn_tw --> [ 817916796, 828638275426480132 ]\n",
      "http://www.latimes.com/entertainment/la-et-holiday-movie-preview-2017-times-note-on-disney-1509668978-htmlstory.html --> [ 84007946, 86832479 ]\n",
      "https://www.vox.com/policy-and-politics/2017/12/18/16741730/gop-agenda-medicare-social-security --> [ 84007946, 870328182 ]\n",
      "https://www.axios.com/what-to-know-about-all-of-the-men-facing-sexual-misconduct-allegations-2519204171.html?utm_medium=linkshare&utm_campaign=organic --> [ 8984352, 941663383 ]\n",
      "http://www.esquire.com/sports/a15895692/lindsey-vonn-olympics-interview/ --> [ 91170675, 9963562 ]\n",
      "total: 23878\n",
      "mean: 47.756\n"
     ]
    }
   ],
   "source": [
    "bp(newsUsersMapping, logger)\n",
    "countOfGreaterThan1 = 0\n",
    "total = 0\n",
    "for url, users in newsUsersMapping.items():\n",
    "    if len(users) > 1:\n",
    "        log(url + \" --> \" + b(users), logger)\n",
    "        countOfGreaterThan1 += 1\n",
    "    total += len(users)"
   ]
  },
  {
   "cell_type": "code",
   "execution_count": 32,
   "metadata": {},
   "outputs": [
    {
     "name": "stderr",
     "output_type": "stream",
     "text": [
      "total: 23878\n",
      "countOfGreaterThan1: 1878\n",
      "mean: 1.1613248382860757\n"
     ]
    }
   ],
   "source": [
    "log(\"total: \" + str(total), logger)\n",
    "log(\"countOfGreaterThan1: \" + str(countOfGreaterThan1), logger)\n",
    "log(\"Mean users amount per news: \" + str(total / len(newsUsersMapping)), logger)"
   ]
  },
  {
   "cell_type": "code",
   "execution_count": 33,
   "metadata": {},
   "outputs": [
    {
     "name": "stderr",
     "output_type": "stream",
     "text": [
      "Inserting user list in all news rows   0% [                    ]\n",
      "Inserting user list in all news rows   9% [=                   ] (57.423s left)\n",
      "Inserting user list in all news rows  19% [===                 ] (50.643s left)\n",
      "Inserting user list in all news rows  29% [=====               ] (1m 6.387s left)\n",
      "Inserting user list in all news rows  39% [=======             ] (52.174s left)\n",
      "Inserting user list in all news rows  49% [=========           ] (1m 6.316s left)\n",
      "Inserting user list in all news rows  59% [===========         ] (47.965s left)\n",
      "Inserting user list in all news rows  69% [=============       ] (37.103s left)\n",
      "Inserting user list in all news rows  79% [===============     ] (23.075s left)\n",
      "Inserting user list in all news rows  89% [=================   ] (11.117s left)\n",
      "Inserting user list in all news rows  99% [=================== ] (0.005s left)\n",
      "Inserting user list in all news rows 100% [====================] (total duration: 1m 45.64s, mean duration: 0.005s)\n",
      "--> tic: 18m 52.48s | message: newsUsersMapping inserted\n"
     ]
    },
    {
     "data": {
      "text/plain": [
       "1132.48"
      ]
     },
     "execution_count": 33,
     "metadata": {},
     "output_type": "execute_result"
    }
   ],
   "source": [
    "# We insert the newsUsersMapping:\n",
    "for url, ids in pb(newsUsersMapping.items(), logger=logger, message=\"Inserting user list in all news rows\"):\n",
    "    newsCollection.updateOne({\"url\": url}, {\"$set\": {\"users\": ids}})\n",
    "tt.tic(\"newsUsersMapping inserted\")"
   ]
  },
  {
   "cell_type": "code",
   "execution_count": 37,
   "metadata": {},
   "outputs": [
    {
     "name": "stderr",
     "output_type": "stream",
     "text": [
      "[\n",
      "  http://wwd.com/business-news/media/conde-nast-to-close-teen-vogue-cut-80-jobs-and-lower-mag-frequenc,\n",
      "  https://www.yahoo.com/amphtml/music/cyntonia-brown-life-sentence-sparks-141514557.html,\n",
      "  ...,\n",
      "  https://fb.me/1s6zYkAzE,\n",
      "  https://tinyurl.com/ybxb5zm4\n",
      "]\n",
      "852.3809523809524 % of news to delete because no user shared it.\n"
     ]
    }
   ],
   "source": [
    "# Searching news that has no users:\n",
    "toDeleteNews = []\n",
    "for _id, row in newsCollection.items():\n",
    "    if not dictContains(row, 'users') or len(row['users']) == 0:\n",
    "        toDeleteNews.append(row['url'])\n",
    "bp(toDeleteNews, logger)\n",
    "log(str(len(toDeleteNews) / len(newsCollection) * 100) + \" % of news to delete because no user shared it.\", logger)"
   ]
  },
  {
   "cell_type": "code",
   "execution_count": 40,
   "metadata": {},
   "outputs": [],
   "source": [
    "# Deleting news:\n",
    "for url in toDeleteNews:\n",
    "    newsCollection.delete({'url': url})"
   ]
  },
  {
   "cell_type": "code",
   "execution_count": 43,
   "metadata": {},
   "outputs": [
    {
     "data": {
      "text/plain": [
       "500"
      ]
     },
     "execution_count": 43,
     "metadata": {},
     "output_type": "execute_result"
    }
   ],
   "source": [
    "len(usersCollection)"
   ]
  },
  {
   "cell_type": "code",
   "execution_count": null,
   "metadata": {},
   "outputs": [],
   "source": []
  },
  {
   "cell_type": "code",
   "execution_count": null,
   "metadata": {},
   "outputs": [],
   "source": []
  },
  {
   "cell_type": "code",
   "execution_count": null,
   "metadata": {},
   "outputs": [],
   "source": []
  },
  {
   "cell_type": "code",
   "execution_count": null,
   "metadata": {},
   "outputs": [],
   "source": []
  }
 ],
 "metadata": {
  "kernelspec": {
   "display_name": "Python 3",
   "language": "python",
   "name": "python3"
  },
  "language_info": {
   "codemirror_mode": {
    "name": "ipython",
    "version": 3
   },
   "file_extension": ".py",
   "mimetype": "text/x-python",
   "name": "python",
   "nbconvert_exporter": "python",
   "pygments_lexer": "ipython3",
   "version": "3.6.3"
  }
 },
 "nbformat": 4,
 "nbformat_minor": 4
}
