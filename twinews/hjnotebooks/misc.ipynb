{
 "cells": [
  {
   "cell_type": "code",
   "execution_count": 1,
   "metadata": {},
   "outputs": [],
   "source": [
    "import os ; os.environ[\"CUDA_VISIBLE_DEVICES\"] = \"\""
   ]
  },
  {
   "cell_type": "code",
   "execution_count": 2,
   "metadata": {},
   "outputs": [],
   "source": [
    "isNotebook = '__file__' not in locals()"
   ]
  },
  {
   "cell_type": "code",
   "execution_count": 3,
   "metadata": {},
   "outputs": [],
   "source": [
    "TEST = isNotebook"
   ]
  },
  {
   "cell_type": "code",
   "execution_count": 4,
   "metadata": {},
   "outputs": [],
   "source": [
    "from systemtools.hayj import *\n",
    "from systemtools.location import *\n",
    "from systemtools.basics import *\n",
    "from systemtools.file import *\n",
    "from systemtools.printer import *\n",
    "from databasetools.mongo import *\n",
    "from newstools.goodarticle.utils import *\n",
    "from nlptools.preprocessing import *\n",
    "from nlptools.news import parser as newsParser\n",
    "from machinelearning.iterator import *\n",
    "from twinews.utils import *\n",
    "from twinews.evaluation import metrics\n",
    "from twinews.evaluation.utils import *\n",
    "import time\n",
    "import pymongo"
   ]
  },
  {
   "cell_type": "code",
   "execution_count": 5,
   "metadata": {},
   "outputs": [],
   "source": [
    "logger = Logger(tmpDir('logs') + \"/watch-rankings.log\") if isNotebook else Logger(\"watch-rankings.log\")"
   ]
  },
  {
   "cell_type": "code",
   "execution_count": 6,
   "metadata": {},
   "outputs": [
    {
     "name": "stdout",
     "output_type": "stream",
     "text": [
      "twinews scores initialised.\n"
     ]
    }
   ],
   "source": [
    "# We get scores collection and the rankings GridFS:\n",
    "twinewsScores = getTwinewsScores()\n",
    "twinewsRankings = getTwinewsRankings()"
   ]
  },
  {
   "cell_type": "code",
   "execution_count": null,
   "metadata": {},
   "outputs": [],
   "source": []
  },
  {
   "cell_type": "code",
   "execution_count": null,
   "metadata": {},
   "outputs": [],
   "source": []
  },
  {
   "cell_type": "markdown",
   "metadata": {},
   "source": [
    "# Deletions"
   ]
  },
  {
   "cell_type": "code",
   "execution_count": 12,
   "metadata": {},
   "outputs": [],
   "source": [
    "# 11\tlda-d4f1d\tcosine\tFalse\t30\tgensim-lda\t1\t300000\t60\t0.0005\t100\tFalse\t0.41897\n",
    "# del twinewsRankings['lda-d4f1d']"
   ]
  },
  {
   "cell_type": "code",
   "execution_count": 11,
   "metadata": {},
   "outputs": [],
   "source": [
    "# nmf-9cd4f\tFalse\t30\t100000\t200\t100\tnndsvd\t0\t0.49322\n",
    "# del twinewsRankings['nmf-9cd4f']"
   ]
  },
  {
   "cell_type": "code",
   "execution_count": 9,
   "metadata": {
    "collapsed": true
   },
   "outputs": [
    {
     "ename": "AttributeError",
     "evalue": "'NoneType' object has no attribute 'read'",
     "output_type": "error",
     "traceback": [
      "\u001b[0;31m---------------------------------------------------------------------------\u001b[0m",
      "\u001b[0;31mAttributeError\u001b[0m                            Traceback (most recent call last)",
      "\u001b[0;32m<ipython-input-9-07543f05b666>\u001b[0m in \u001b[0;36m<module>\u001b[0;34m\u001b[0m\n\u001b[0;32m----> 1\u001b[0;31m \u001b[0mbp\u001b[0m\u001b[0;34m(\u001b[0m\u001b[0mtwinewsRankings\u001b[0m\u001b[0;34m[\u001b[0m\u001b[0;34m'combin-09bbc'\u001b[0m\u001b[0;34m]\u001b[0m\u001b[0;34m)\u001b[0m\u001b[0;34m\u001b[0m\u001b[0m\n\u001b[0m",
      "\u001b[0;32m~/Workspace/Python/Utils/DatabaseTools/databasetools/mongo.py\u001b[0m in \u001b[0;36m__getitem__\u001b[0;34m(self, *args, **kwargs)\u001b[0m\n\u001b[1;32m    946\u001b[0m \u001b[0;34m\u001b[0m\u001b[0m\n\u001b[1;32m    947\u001b[0m     \u001b[0;32mdef\u001b[0m \u001b[0m__getitem__\u001b[0m\u001b[0;34m(\u001b[0m\u001b[0mself\u001b[0m\u001b[0;34m,\u001b[0m \u001b[0;34m*\u001b[0m\u001b[0margs\u001b[0m\u001b[0;34m,\u001b[0m \u001b[0;34m**\u001b[0m\u001b[0mkwargs\u001b[0m\u001b[0;34m)\u001b[0m\u001b[0;34m:\u001b[0m\u001b[0;34m\u001b[0m\u001b[0m\n\u001b[0;32m--> 948\u001b[0;31m         \u001b[0;32mreturn\u001b[0m \u001b[0mself\u001b[0m\u001b[0;34m.\u001b[0m\u001b[0mget\u001b[0m\u001b[0;34m(\u001b[0m\u001b[0;34m*\u001b[0m\u001b[0margs\u001b[0m\u001b[0;34m,\u001b[0m \u001b[0;34m**\u001b[0m\u001b[0mkwargs\u001b[0m\u001b[0;34m)\u001b[0m\u001b[0;34m\u001b[0m\u001b[0m\n\u001b[0m\u001b[1;32m    949\u001b[0m     \u001b[0;32mdef\u001b[0m \u001b[0mget\u001b[0m\u001b[0;34m(\u001b[0m\u001b[0mself\u001b[0m\u001b[0;34m,\u001b[0m \u001b[0mkey\u001b[0m\u001b[0;34m)\u001b[0m\u001b[0;34m:\u001b[0m\u001b[0;34m\u001b[0m\u001b[0m\n\u001b[1;32m    950\u001b[0m         \u001b[0mf\u001b[0m \u001b[0;34m=\u001b[0m \u001b[0mself\u001b[0m\u001b[0;34m.\u001b[0m\u001b[0mfs\u001b[0m\u001b[0;34m.\u001b[0m\u001b[0mfind_one\u001b[0m\u001b[0;34m(\u001b[0m\u001b[0;34m{\u001b[0m\u001b[0mself\u001b[0m\u001b[0;34m.\u001b[0m\u001b[0mprimaryKey\u001b[0m\u001b[0;34m:\u001b[0m \u001b[0mkey\u001b[0m\u001b[0;34m}\u001b[0m\u001b[0;34m)\u001b[0m\u001b[0;34m\u001b[0m\u001b[0m\n",
      "\u001b[0;32m~/Workspace/Python/Utils/DatabaseTools/databasetools/mongo.py\u001b[0m in \u001b[0;36mget\u001b[0;34m(self, key)\u001b[0m\n\u001b[1;32m    949\u001b[0m     \u001b[0;32mdef\u001b[0m \u001b[0mget\u001b[0m\u001b[0;34m(\u001b[0m\u001b[0mself\u001b[0m\u001b[0;34m,\u001b[0m \u001b[0mkey\u001b[0m\u001b[0;34m)\u001b[0m\u001b[0;34m:\u001b[0m\u001b[0;34m\u001b[0m\u001b[0m\n\u001b[1;32m    950\u001b[0m         \u001b[0mf\u001b[0m \u001b[0;34m=\u001b[0m \u001b[0mself\u001b[0m\u001b[0;34m.\u001b[0m\u001b[0mfs\u001b[0m\u001b[0;34m.\u001b[0m\u001b[0mfind_one\u001b[0m\u001b[0;34m(\u001b[0m\u001b[0;34m{\u001b[0m\u001b[0mself\u001b[0m\u001b[0;34m.\u001b[0m\u001b[0mprimaryKey\u001b[0m\u001b[0;34m:\u001b[0m \u001b[0mkey\u001b[0m\u001b[0;34m}\u001b[0m\u001b[0;34m)\u001b[0m\u001b[0;34m\u001b[0m\u001b[0m\n\u001b[0;32m--> 951\u001b[0;31m         \u001b[0mdata\u001b[0m \u001b[0;34m=\u001b[0m \u001b[0mself\u001b[0m\u001b[0;34m.\u001b[0m\u001b[0m__deser\u001b[0m\u001b[0;34m(\u001b[0m\u001b[0mf\u001b[0m\u001b[0;34m.\u001b[0m\u001b[0mread\u001b[0m\u001b[0;34m(\u001b[0m\u001b[0;34m)\u001b[0m\u001b[0;34m)\u001b[0m\u001b[0;34m\u001b[0m\u001b[0m\n\u001b[0m\u001b[1;32m    952\u001b[0m         \u001b[0mf\u001b[0m\u001b[0;34m.\u001b[0m\u001b[0mclose\u001b[0m\u001b[0;34m(\u001b[0m\u001b[0;34m)\u001b[0m\u001b[0;34m\u001b[0m\u001b[0m\n\u001b[1;32m    953\u001b[0m         \u001b[0;32mreturn\u001b[0m \u001b[0mdata\u001b[0m\u001b[0;34m\u001b[0m\u001b[0m\n",
      "\u001b[0;31mAttributeError\u001b[0m: 'NoneType' object has no attribute 'read'"
     ]
    }
   ],
   "source": []
  },
  {
   "cell_type": "code",
   "execution_count": null,
   "metadata": {},
   "outputs": [],
   "source": []
  },
  {
   "cell_type": "markdown",
   "metadata": {},
   "source": [
    "# Watching for rankings having no distance scores"
   ]
  },
  {
   "cell_type": "code",
   "execution_count": null,
   "metadata": {},
   "outputs": [],
   "source": [
    "keys = twinewsRankings.keys()\n",
    "bp(keys)\n",
    "noScoresWithCandidates = set()"
   ]
  },
  {
   "cell_type": "code",
   "execution_count": null,
   "metadata": {},
   "outputs": [],
   "source": [
    "for key in pb(keys, logger=logger, printRatio=0.001):\n",
    "    rankings = twinewsRankings[key]\n",
    "    if rankings is None or len(rankings) == 0:\n",
    "        log(key + \" is empty.\", logger)\n",
    "    else:\n",
    "        element = rankings[list(rankings.keys())[0]][0][0]\n",
    "        if isinstance(element, str):\n",
    "            log(key + \" has only items.\", logger)\n",
    "            noScoresWithCandidates.add(key)\n",
    "        elif isinstance(element, tuple):\n",
    "            log(key + \" has tuples.\", logger)\n",
    "        else:\n",
    "            log(key + \" WTF.\", logger)"
   ]
  },
  {
   "cell_type": "code",
   "execution_count": null,
   "metadata": {},
   "outputs": [],
   "source": [
    "log(noScoresWithCandidates, logger)"
   ]
  },
  {
   "cell_type": "markdown",
   "metadata": {},
   "source": [
    "### Result"
   ]
  },
  {
   "cell_type": "markdown",
   "metadata": {},
   "source": [
    "```python\n",
    "{'lda-64d0c', 'dbert-ft-2529b', 'tfidf-dce5a', 'tfidf-44aea', 'combin-abe90', 'dbert-ft-833d3', 'lda-2fa8e', 'lda-d1220', 'nmf-6d480', 'ideal-5ac2d', 'lda-de387', 'combin-7548f', 'nmf-054a5', 'combin-5f39b', 'worst-f3f99', 'tfidf-ae6af', 'random-a1ece', 'lda-759de', 'lda-71511', 'nmf-9cd4f', 'combin-29a8c', 'random-e27ab', 'combin-2122b', 'combin-945df', 'dbert-ft-3ce99', 'random-21e0b', 'combin-be9fe', 'dbert-ft-3a57f', 'combin-a3547', 'BM25_yf-78651', 'lda-186ce', 'combin-3b2ee', 'bm25-1a0ad', 'nmf-dea50', 'combin-4f69f', 'nmf-ee6c6', 'bm25-6da22', 'nmf-84f4b', 'bm25-1dab5', 'combin-2622b', 'bm25-e2365', 'combin-d19aa', 'nmf-09f9c', 'combin-63c3f', 'combin-3f805', 'combin-9c12b', 'random-f03b8', 'combin-d536d', 'combin-80686', 'bm25-c84fd', 'dbert-ft-6c7f3', 'nmf-87941', 'lda-b637b', 'lda-d4f1d', 'combin-37711', 'combin-56b83', 'combin-3016b', 'combin-7e45c', 'random-d87ed', 'combin-86cb0', 'combin-aa56c', 'bm25-9eee2', 'combin-f7cfd', 'dbert-ft-a259b', 'lda-b123f', 'dbert-ft-71ce1', 'bm25-c75d0', 'nmf-b286d', 'combin-e515d', 'nmf-e51ed', 'nmf-ad87b', 'lda-d3b82', 'combin-52a29', 'dbert-ft-cb33b', 'combin-7ba13', 'tfidf-40a9b', 'combin-4dad1', 'combin-91932', 'random-a9655', 'nmf-330c8', 'bm25-abfe4', 'random-6fae4', 'combin-ceded', 'combin-87c28', 'tfidf-71e3d', 'combin-52394', 'dbert-ft-11978', 'combin-17c18', 'dbert-ft-6895d', 'combin-332f8', 'bm25-a34a0', 'nmf-b61b9', 'combin-47edf', 'lda-94782', 'tfidf-73155', 'lda-7786b', 'nmf-17852', 'bm25-a91ce', 'lda-b849e', 'combin-cb389', 'combin-8f3f8', 'bm25-dedc0', 'bm25-0c4d5', 'combin-0d4be', 'combin-55d93', 'lda-af807', 'dbert-ft-fdc3b', 'random-04de9', 'combin-ed086', 'nmf-ef428', 'lda-51ce2', 'combin-efa9e', 'combin-9267b', 'bm25-7efac', 'combin-e2a5a', 'combin-08a39', 'combin-0df7b', 'lda-aa8d5', 'nmf-51495', 'nmf-d9bba', 'dbert-ft-c3c19', 'BM25_yf-42d08', 'dbert-ft-d66a1', 'random-093c0', 'tfidf-8a99c', 'combin-31b05', 'combin-481bb', 'dbert-ft-9cd08', 'nmf-b1354', 'random-4d05f', 'combin-e14e5', 'tfidf-6f201', 'nmf-2d0d6', 'lda-34076'}\n",
    "```"
   ]
  },
  {
   "cell_type": "code",
   "execution_count": null,
   "metadata": {},
   "outputs": [],
   "source": []
  },
  {
   "cell_type": "code",
   "execution_count": null,
   "metadata": {},
   "outputs": [],
   "source": []
  },
  {
   "cell_type": "code",
   "execution_count": null,
   "metadata": {},
   "outputs": [],
   "source": []
  },
  {
   "cell_type": "code",
   "execution_count": null,
   "metadata": {},
   "outputs": [],
   "source": []
  },
  {
   "cell_type": "code",
   "execution_count": null,
   "metadata": {},
   "outputs": [],
   "source": []
  },
  {
   "cell_type": "code",
   "execution_count": null,
   "metadata": {},
   "outputs": [],
   "source": []
  },
  {
   "cell_type": "code",
   "execution_count": null,
   "metadata": {},
   "outputs": [],
   "source": []
  },
  {
   "cell_type": "code",
   "execution_count": null,
   "metadata": {},
   "outputs": [],
   "source": []
  }
 ],
 "metadata": {
  "kernelspec": {
   "display_name": "Python 3",
   "language": "python",
   "name": "python3"
  },
  "language_info": {
   "codemirror_mode": {
    "name": "ipython",
    "version": 3
   },
   "file_extension": ".py",
   "mimetype": "text/x-python",
   "name": "python",
   "nbconvert_exporter": "python",
   "pygments_lexer": "ipython3",
   "version": "3.6.3"
  }
 },
 "nbformat": 4,
 "nbformat_minor": 4
}
