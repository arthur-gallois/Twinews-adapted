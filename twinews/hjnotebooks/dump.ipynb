{
 "cells": [
  {
   "cell_type": "code",
   "execution_count": null,
   "metadata": {},
   "outputs": [],
   "source": [
    "# cd ~/twinews-logs ; jupython --venv st-venv ~/notebooks/twinews/dump.ipynb"
   ]
  },
  {
   "cell_type": "code",
   "execution_count": null,
   "metadata": {},
   "outputs": [],
   "source": [
    "isNotebook = '__file__' not in locals()"
   ]
  },
  {
   "cell_type": "code",
   "execution_count": null,
   "metadata": {},
   "outputs": [],
   "source": [
    "from systemtools.hayj import *\n",
    "from systemtools.location import *\n",
    "from systemtools.basics import *\n",
    "from systemtools.file import *\n",
    "from systemtools.printer import *\n",
    "from databasetools.mongo import *\n",
    "from newstools.goodarticle.utils import *\n",
    "from nlptools.preprocessing import *\n",
    "from nlptools.news import parser as newsParser\n",
    "from machinelearning.iterator import *\n",
    "from twinews.utils import *"
   ]
  },
  {
   "cell_type": "code",
   "execution_count": null,
   "metadata": {},
   "outputs": [],
   "source": [
    "logger = Logger(tmpDir('logs') + \"/twinews-dump.log\") if isNotebook else Logger(\"dump.log\")\n",
    "tt = TicToc(logger=logger)\n",
    "tt.tic()"
   ]
  },
  {
   "cell_type": "code",
   "execution_count": null,
   "metadata": {},
   "outputs": [],
   "source": [
    "newsCollection = getNewsCollection(logger=logger, user=hjuser, password=hjpass, host=hjhost)\n",
    "usersCollection = getUsersCollection(logger=logger, user=hjuser, password=hjpass, host=hjhost)"
   ]
  },
  {
   "cell_type": "code",
   "execution_count": null,
   "metadata": {},
   "outputs": [],
   "source": [
    "outputDir = nosaveDir() + \"/twinews-dumps/\" + getDateSec()"
   ]
  },
  {
   "cell_type": "code",
   "execution_count": null,
   "metadata": {},
   "outputs": [],
   "source": [
    "def ndjsonDump(gen, outputDir, maxMoSize=20, refreshEach=10, size=None,\n",
    "               printRatio=0.01, logger=None, verbose=True):\n",
    "    mkdir(outputDir)\n",
    "    i = -1\n",
    "    currentFile = None\n",
    "    pbar = None\n",
    "    if size is None:\n",
    "        try:\n",
    "            size = len(gen)\n",
    "        except: pass\n",
    "    if size is not None:\n",
    "        pbar = ProgressBar(size, logger=logger, verbose=verbose, printRatio=printRatio)\n",
    "    for row in gen:\n",
    "        if currentFile is None or currentFile.getEstimatedMoSize(refreshEach=refreshEach) > maxMoSize:\n",
    "            if currentFile is not None:\n",
    "                currentFile.close()\n",
    "            i += 1\n",
    "            currentPath = outputDir + \"/\" + str(i) + \".ndjson.bz2\"\n",
    "            assert not isFile(currentPath)\n",
    "            currentFile = NDJson(currentPath, closeAtEachAppend=False)\n",
    "        currentFile.append(row)\n",
    "        if pbar is not None:\n",
    "            pbar.tic()\n",
    "    if currentFile is not None:\n",
    "        currentFile.close()"
   ]
  },
  {
   "cell_type": "code",
   "execution_count": null,
   "metadata": {},
   "outputs": [],
   "source": [
    "def gen(collection):\n",
    "    for row in collection.find():\n",
    "        del row['_id']\n",
    "        yield row"
   ]
  },
  {
   "cell_type": "code",
   "execution_count": null,
   "metadata": {},
   "outputs": [],
   "source": [
    "ndjsonDump(gen(newsCollection), outputDir + \"/news\", size=len(newsCollection), refreshEach=100, logger=logger)"
   ]
  },
  {
   "cell_type": "code",
   "execution_count": null,
   "metadata": {},
   "outputs": [],
   "source": [
    "ndjsonDump(gen(usersCollection), outputDir + \"/users\", size=len(usersCollection), refreshEach=3, logger=logger)"
   ]
  },
  {
   "cell_type": "code",
   "execution_count": null,
   "metadata": {},
   "outputs": [],
   "source": []
  },
  {
   "cell_type": "code",
   "execution_count": null,
   "metadata": {},
   "outputs": [],
   "source": []
  }
 ],
 "metadata": {
  "kernelspec": {
   "display_name": "Python 3",
   "language": "python",
   "name": "python3"
  },
  "language_info": {
   "codemirror_mode": {
    "name": "ipython",
    "version": 3
   },
   "file_extension": ".py",
   "mimetype": "text/x-python",
   "name": "python",
   "nbconvert_exporter": "python",
   "pygments_lexer": "ipython3",
   "version": "3.7.4"
  },
  "pycharm": {
   "stem_cell": {
    "cell_type": "raw",
    "metadata": {
     "collapsed": false
    },
    "source": []
   }
  }
 },
 "nbformat": 4,
 "nbformat_minor": 4
}
