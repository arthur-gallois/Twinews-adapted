{
 "cells": [
  {
   "cell_type": "code",
   "execution_count": null,
   "metadata": {},
   "outputs": [],
   "source": [
    "# cd ~/twinews-logs ; jupython --venv st-venv ~/notebooks/twinews/dump.ipynb"
   ]
  },
  {
   "cell_type": "code",
   "execution_count": 1,
   "metadata": {},
   "outputs": [],
   "source": [
    "isNotebook = '__file__' not in locals()"
   ]
  },
  {
   "cell_type": "code",
   "execution_count": 2,
   "metadata": {},
   "outputs": [],
   "source": [
    "from systemtools.hayj import *\n",
    "from systemtools.location import *\n",
    "from systemtools.basics import *\n",
    "from systemtools.file import *\n",
    "from systemtools.printer import *\n",
    "from databasetools.mongo import *\n",
    "from newstools.goodarticle.utils import *\n",
    "from nlptools.preprocessing import *\n",
    "from nlptools.news import parser as newsParser\n",
    "from machinelearning.iterator import *"
   ]
  },
  {
   "cell_type": "code",
   "execution_count": 3,
   "metadata": {},
   "outputs": [],
   "source": [
    "import sys ; sys.path.append(homeDir() + '/Workspace/Python/Datasets/Twinews')\n",
    "from twinews.utils import *"
   ]
  },
  {
   "cell_type": "code",
   "execution_count": 4,
   "metadata": {},
   "outputs": [
    {
     "name": "stderr",
     "output_type": "stream",
     "text": [
      "--> tictoc starts...\n"
     ]
    },
    {
     "data": {
      "text/plain": [
       "-1"
      ]
     },
     "execution_count": 4,
     "metadata": {},
     "output_type": "execute_result"
    }
   ],
   "source": [
    "logger = Logger(tmpDir('logs') + \"/twinews-dump.log\") if isNotebook else Logger(\"dump.log\")\n",
    "tt = TicToc(logger=logger)\n",
    "tt.tic()"
   ]
  },
  {
   "cell_type": "code",
   "execution_count": 5,
   "metadata": {},
   "outputs": [],
   "source": [
    "(hjuser, hjpass, hjhost) = getMongoAuth(user='hayj')"
   ]
  },
  {
   "cell_type": "code",
   "execution_count": 6,
   "metadata": {},
   "outputs": [
    {
     "name": "stderr",
     "output_type": "stream",
     "text": [
      "twinews news (version 1.0) initialised.\n",
      "twinews users (version 1.0) initialised.\n"
     ]
    }
   ],
   "source": [
    "newsCollection = getNewsCollection(logger=logger, user=hjuser, password=hjpass, host=hjhost)\n",
    "usersCollection = getUsersCollection(logger=logger, user=hjuser, password=hjpass, host=hjhost)"
   ]
  },
  {
   "cell_type": "code",
   "execution_count": 7,
   "metadata": {},
   "outputs": [],
   "source": [
    "outputDir = nosaveDir() + \"/twinews-dumps/\" + getDateSec()"
   ]
  },
  {
   "cell_type": "code",
   "execution_count": 8,
   "metadata": {},
   "outputs": [],
   "source": [
    "def ndjsonDump(gen, outputDir, maxMoSize=20, refreshEach=10, size=None,\n",
    "               printRatio=0.01, logger=None, verbose=True):\n",
    "    mkdir(outputDir)\n",
    "    i = -1\n",
    "    currentFile = None\n",
    "    pbar = None\n",
    "    if size is None:\n",
    "        try:\n",
    "            size = len(gen)\n",
    "        except: pass\n",
    "    if size is not None:\n",
    "        pbar = ProgressBar(size, logger=logger, verbose=verbose, printRatio=printRatio)\n",
    "    for row in gen:\n",
    "        if currentFile is None or currentFile.getEstimatedMoSize(refreshEach=refreshEach) > maxMoSize:\n",
    "            if currentFile is not None:\n",
    "                currentFile.close()\n",
    "            i += 1\n",
    "            currentPath = outputDir + \"/\" + str(i) + \".ndjson.bz2\"\n",
    "            assert not isFile(currentPath)\n",
    "            currentFile = NDJson(currentPath, closeAtEachAppend=False)\n",
    "        currentFile.append(row)\n",
    "        if pbar is not None:\n",
    "            pbar.tic()\n",
    "    if currentFile is not None:\n",
    "        currentFile.close()"
   ]
  },
  {
   "cell_type": "code",
   "execution_count": 12,
   "metadata": {},
   "outputs": [],
   "source": [
    "def gen(collection):\n",
    "    for row in collection.find():\n",
    "        del row['_id']\n",
    "        yield row"
   ]
  },
  {
   "cell_type": "code",
   "execution_count": 10,
   "metadata": {},
   "outputs": [
    {
     "name": "stderr",
     "output_type": "stream",
     "text": [
      "  0% [                    ]\n",
      " 10% [==                  ] (21m 0.72s left)\n",
      " 20% [====                ] (20m 16.719s left)\n",
      " 30% [======              ] (18m 42.73s left)\n",
      " 40% [========            ] (15m 56.414s left)\n",
      " 50% [==========          ] (13m 26.019s left)\n",
      " 60% [============        ] (10m 41.233s left)\n",
      " 70% [==============      ] (7m 58.255s left)\n",
      " 80% [================    ] (5m 15.997s left)\n",
      " 90% [==================  ] (2m 37.022s left)\n",
      "100% [====================] (total duration: 26m 41.66s, mean duration: 0.002s)\n"
     ]
    }
   ],
   "source": [
    "ndjsonDump(gen(newsCollection), outputDir + \"/news\", size=len(newsCollection), refreshEach=100, logger=logger)"
   ]
  },
  {
   "cell_type": "code",
   "execution_count": 13,
   "metadata": {},
   "outputs": [
    {
     "name": "stderr",
     "output_type": "stream",
     "text": [
      "  0% [                    ]\n",
      "  9% [=                   ] (20m 32.358s left)\n",
      " 19% [===                 ] (18m 20.929s left)\n",
      " 29% [=====               ] (16m 8.97s left)\n",
      " 39% [=======             ] (13m 37.322s left)\n",
      " 49% [=========           ] (11m 10.865s left)\n",
      " 59% [===========         ] (8m 58.919s left)\n",
      " 69% [=============       ] (6m 44.934s left)\n",
      " 79% [===============     ] (4m 30.238s left)\n",
      " 89% [=================   ] (2m 14.563s left)\n",
      " 99% [=================== ] (0.164s left)\n",
      "100% [====================] (total duration: 22m 15.509s, mean duration: 0.041s)\n"
     ]
    }
   ],
   "source": [
    "ndjsonDump(gen(usersCollection), outputDir + \"/users\", size=len(usersCollection), refreshEach=3, logger=logger)"
   ]
  },
  {
   "cell_type": "code",
   "execution_count": null,
   "metadata": {},
   "outputs": [],
   "source": []
  },
  {
   "cell_type": "code",
   "execution_count": null,
   "metadata": {},
   "outputs": [],
   "source": []
  }
 ],
 "metadata": {
  "kernelspec": {
   "display_name": "Python 3",
   "language": "python",
   "name": "python3"
  },
  "language_info": {
   "codemirror_mode": {
    "name": "ipython",
    "version": 3
   },
   "file_extension": ".py",
   "mimetype": "text/x-python",
   "name": "python",
   "nbconvert_exporter": "python",
   "pygments_lexer": "ipython3",
   "version": "3.6.3"
  }
 },
 "nbformat": 4,
 "nbformat_minor": 4
}
